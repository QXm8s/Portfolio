{
 "cells": [
  {
   "cell_type": "markdown",
   "metadata": {},
   "source": [
    "<h1 style=\"text-align: center;\">РАБОТА С ВРЕМЕННЫМИ РЯДАМИ В ЗАДАЧЕ ПРОГНОЗИРОВАНИЯ ЗАКАЗОВ ТАКСИ</h1>"
   ]
  },
  {
   "cell_type": "markdown",
   "metadata": {
    "toc": true
   },
   "source": [
    "<h1>Содержание<span class=\"tocSkip\"></span></h1>\n",
    "<div class=\"toc\"><ul class=\"toc-item\"><li><span><a href=\"#Описание-проекта\" data-toc-modified-id=\"Описание-проекта-1\"><span class=\"toc-item-num\">1&nbsp;&nbsp;</span>Описание проекта</a></span><ul class=\"toc-item\"><li><span><a href=\"#Постановка-задачи\" data-toc-modified-id=\"Постановка-задачи-1.1\"><span class=\"toc-item-num\">1.1&nbsp;&nbsp;</span>Постановка задачи</a></span></li><li><span><a href=\"#Описание-данных\" data-toc-modified-id=\"Описание-данных-1.2\"><span class=\"toc-item-num\">1.2&nbsp;&nbsp;</span>Описание данных</a></span></li></ul></li><li><span><a href=\"#Импорт-библиотек-и-определение-констант\" data-toc-modified-id=\"Импорт-библиотек-и-определение-констант-2\"><span class=\"toc-item-num\">2&nbsp;&nbsp;</span>Импорт библиотек и определение констант</a></span></li><li><span><a href=\"#Обзор-и-подготовка-данных\" data-toc-modified-id=\"Обзор-и-подготовка-данных-3\"><span class=\"toc-item-num\">3&nbsp;&nbsp;</span>Обзор и подготовка данных</a></span></li><li><span><a href=\"#Анализ-временного-ряда\" data-toc-modified-id=\"Анализ-временного-ряда-4\"><span class=\"toc-item-num\">4&nbsp;&nbsp;</span>Анализ временного ряда</a></span><ul class=\"toc-item\"><li><span><a href=\"#Стационарность\" data-toc-modified-id=\"Стационарность-4.1\"><span class=\"toc-item-num\">4.1&nbsp;&nbsp;</span>Стационарность</a></span></li><li><span><a href=\"#Тренд\" data-toc-modified-id=\"Тренд-4.2\"><span class=\"toc-item-num\">4.2&nbsp;&nbsp;</span>Тренд</a></span></li><li><span><a href=\"#Сезонность\" data-toc-modified-id=\"Сезонность-4.3\"><span class=\"toc-item-num\">4.3&nbsp;&nbsp;</span>Сезонность</a></span></li></ul></li><li><span><a href=\"#Конструирование-признаков\" data-toc-modified-id=\"Конструирование-признаков-5\"><span class=\"toc-item-num\">5&nbsp;&nbsp;</span>Конструирование признаков</a></span></li><li><span><a href=\"#Формирование-выборок\" data-toc-modified-id=\"Формирование-выборок-6\"><span class=\"toc-item-num\">6&nbsp;&nbsp;</span>Формирование выборок</a></span></li><li><span><a href=\"#Моделирование\" data-toc-modified-id=\"Моделирование-7\"><span class=\"toc-item-num\">7&nbsp;&nbsp;</span>Моделирование</a></span><ul class=\"toc-item\"><li><span><a href=\"#RandomForestRegressor\" data-toc-modified-id=\"RandomForestRegressor-7.1\"><span class=\"toc-item-num\">7.1&nbsp;&nbsp;</span>RandomForestRegressor</a></span></li><li><span><a href=\"#CatBoostRegressor\" data-toc-modified-id=\"CatBoostRegressor-7.2\"><span class=\"toc-item-num\">7.2&nbsp;&nbsp;</span>CatBoostRegressor</a></span></li><li><span><a href=\"#LGBMRegressor\" data-toc-modified-id=\"LGBMRegressor-7.3\"><span class=\"toc-item-num\">7.3&nbsp;&nbsp;</span>LGBMRegressor</a></span></li><li><span><a href=\"#Сравнение-моделей\" data-toc-modified-id=\"Сравнение-моделей-7.4\"><span class=\"toc-item-num\">7.4&nbsp;&nbsp;</span>Сравнение моделей</a></span></li></ul></li><li><span><a href=\"#Выводы\" data-toc-modified-id=\"Выводы-8\"><span class=\"toc-item-num\">8&nbsp;&nbsp;</span>Выводы</a></span></li><li><span><a href=\"#Чек-лист-проверки\" data-toc-modified-id=\"Чек-лист-проверки-9\"><span class=\"toc-item-num\">9&nbsp;&nbsp;</span>Чек-лист проверки</a></span></li></ul></div>"
   ]
  },
  {
   "cell_type": "markdown",
   "metadata": {},
   "source": [
    "## Описание проекта\n",
    "Компания «Чётенькое такси» собрала исторические данные о заказах такси в аэропортах. Чтобы привлекать больше водителей в период пиковой нагрузки, нужно спрогнозировать количество заказов на следующий час.\n",
    "\n",
    "### Постановка задачи\n",
    "Постройте модель, которая спрогнозирует заказы такси на следующий час.\n",
    " \n",
    "**Ход решения:**\n",
    " - загрузите и изучите данные, \n",
    " - выполните ресемплирование данных по одному часу, \n",
    " - проанализируйте данные, \n",
    " - обучите разные модели с различными гиперпараметрами, \n",
    " - проверьте лучшую модель на тестовой выборке и сделайте выводы.\n",
    " \n",
    "**Примечания:**\n",
    " - определите размер тестовой выборки в 10% от исходных данных, \n",
    " - для оценки качества моделей используйте метрику RMSE, \n",
    " - значение RMSE на тестовой выборке должно быть не больше 48.\n",
    "\n",
    "### Описание данных \n",
    "В вашем распоряжении исторические данные о заказах такси в аэропортах.\n",
    " \n",
    "**Целевой признак:**\n",
    " - num_orders — количество заказов.\n",
    " \n",
    "## Импорт библиотек и определение констант"
   ]
  },
  {
   "cell_type": "code",
   "execution_count": 1,
   "metadata": {},
   "outputs": [],
   "source": [
    "import pandas as pd\n",
    "import matplotlib.pyplot as plt\n",
    "import matplotlib.dates as mdates\n",
    "import numpy as np \n",
    "from statsmodels.tsa.seasonal import seasonal_decompose \n",
    "from sklearn.ensemble import RandomForestRegressor\n",
    "from catboost import CatBoostRegressor\n",
    "import lightgbm as lgb\n",
    "from sklearn.model_selection import (\n",
    "    train_test_split,\n",
    "    TimeSeriesSplit,\n",
    "    GridSearchCV,\n",
    ")\n",
    "from sklearn.metrics import mean_squared_error"
   ]
  },
  {
   "cell_type": "code",
   "execution_count": 2,
   "metadata": {},
   "outputs": [],
   "source": [
    "#фиксируем:\n",
    "# - путь к данным\n",
    "PATH = '/datasets/taxi.csv'\n",
    "# - целевой признак\n",
    "TARGET = 'num_orders'\n",
    "# - параметр random state\n",
    "SEED = 3841"
   ]
  },
  {
   "cell_type": "markdown",
   "metadata": {},
   "source": [
    "## Обзор и подготовка данных\n",
    "Поместим данные в DataFrame, упорядочим их. На примере нескольких строк оценим датасет визульно. Посмотрим на общую информацию и описательную статистику."
   ]
  },
  {
   "cell_type": "code",
   "execution_count": 3,
   "metadata": {},
   "outputs": [
    {
     "data": {
      "text/html": [
       "<div>\n",
       "<style scoped>\n",
       "    .dataframe tbody tr th:only-of-type {\n",
       "        vertical-align: middle;\n",
       "    }\n",
       "\n",
       "    .dataframe tbody tr th {\n",
       "        vertical-align: top;\n",
       "    }\n",
       "\n",
       "    .dataframe thead th {\n",
       "        text-align: right;\n",
       "    }\n",
       "</style>\n",
       "<table border=\"1\" class=\"dataframe\">\n",
       "  <thead>\n",
       "    <tr style=\"text-align: right;\">\n",
       "      <th></th>\n",
       "      <th>num_orders</th>\n",
       "    </tr>\n",
       "    <tr>\n",
       "      <th>datetime</th>\n",
       "      <th></th>\n",
       "    </tr>\n",
       "  </thead>\n",
       "  <tbody>\n",
       "    <tr>\n",
       "      <th>2018-03-01 00:00:00</th>\n",
       "      <td>9</td>\n",
       "    </tr>\n",
       "    <tr>\n",
       "      <th>2018-03-01 00:10:00</th>\n",
       "      <td>14</td>\n",
       "    </tr>\n",
       "    <tr>\n",
       "      <th>2018-03-01 00:20:00</th>\n",
       "      <td>28</td>\n",
       "    </tr>\n",
       "    <tr>\n",
       "      <th>2018-03-01 00:30:00</th>\n",
       "      <td>20</td>\n",
       "    </tr>\n",
       "    <tr>\n",
       "      <th>2018-03-01 00:40:00</th>\n",
       "      <td>32</td>\n",
       "    </tr>\n",
       "    <tr>\n",
       "      <th>2018-03-01 00:50:00</th>\n",
       "      <td>21</td>\n",
       "    </tr>\n",
       "    <tr>\n",
       "      <th>2018-03-01 01:00:00</th>\n",
       "      <td>7</td>\n",
       "    </tr>\n",
       "    <tr>\n",
       "      <th>2018-03-01 01:10:00</th>\n",
       "      <td>5</td>\n",
       "    </tr>\n",
       "    <tr>\n",
       "      <th>2018-03-01 01:20:00</th>\n",
       "      <td>17</td>\n",
       "    </tr>\n",
       "    <tr>\n",
       "      <th>2018-03-01 01:30:00</th>\n",
       "      <td>12</td>\n",
       "    </tr>\n",
       "  </tbody>\n",
       "</table>\n",
       "</div>"
      ],
      "text/plain": [
       "                     num_orders\n",
       "datetime                       \n",
       "2018-03-01 00:00:00           9\n",
       "2018-03-01 00:10:00          14\n",
       "2018-03-01 00:20:00          28\n",
       "2018-03-01 00:30:00          20\n",
       "2018-03-01 00:40:00          32\n",
       "2018-03-01 00:50:00          21\n",
       "2018-03-01 01:00:00           7\n",
       "2018-03-01 01:10:00           5\n",
       "2018-03-01 01:20:00          17\n",
       "2018-03-01 01:30:00          12"
      ]
     },
     "execution_count": 3,
     "metadata": {},
     "output_type": "execute_result"
    }
   ],
   "source": [
    "df = pd.read_csv(PATH, index_col=[0], parse_dates=[0])\n",
    "df = df.sort_index()\n",
    "df.head(10)"
   ]
  },
  {
   "cell_type": "code",
   "execution_count": 4,
   "metadata": {},
   "outputs": [
    {
     "name": "stdout",
     "output_type": "stream",
     "text": [
      "<class 'pandas.core.frame.DataFrame'>\n",
      "DatetimeIndex: 26496 entries, 2018-03-01 00:00:00 to 2018-08-31 23:50:00\n",
      "Data columns (total 1 columns):\n",
      " #   Column      Non-Null Count  Dtype\n",
      "---  ------      --------------  -----\n",
      " 0   num_orders  26496 non-null  int64\n",
      "dtypes: int64(1)\n",
      "memory usage: 414.0 KB\n"
     ]
    }
   ],
   "source": [
    "df.info()"
   ]
  },
  {
   "cell_type": "code",
   "execution_count": 5,
   "metadata": {
    "scrolled": true
   },
   "outputs": [
    {
     "data": {
      "text/html": [
       "<div>\n",
       "<style scoped>\n",
       "    .dataframe tbody tr th:only-of-type {\n",
       "        vertical-align: middle;\n",
       "    }\n",
       "\n",
       "    .dataframe tbody tr th {\n",
       "        vertical-align: top;\n",
       "    }\n",
       "\n",
       "    .dataframe thead th {\n",
       "        text-align: right;\n",
       "    }\n",
       "</style>\n",
       "<table border=\"1\" class=\"dataframe\">\n",
       "  <thead>\n",
       "    <tr style=\"text-align: right;\">\n",
       "      <th></th>\n",
       "      <th>num_orders</th>\n",
       "    </tr>\n",
       "  </thead>\n",
       "  <tbody>\n",
       "    <tr>\n",
       "      <th>count</th>\n",
       "      <td>26496.000000</td>\n",
       "    </tr>\n",
       "    <tr>\n",
       "      <th>mean</th>\n",
       "      <td>14.070463</td>\n",
       "    </tr>\n",
       "    <tr>\n",
       "      <th>std</th>\n",
       "      <td>9.211330</td>\n",
       "    </tr>\n",
       "    <tr>\n",
       "      <th>min</th>\n",
       "      <td>0.000000</td>\n",
       "    </tr>\n",
       "    <tr>\n",
       "      <th>25%</th>\n",
       "      <td>8.000000</td>\n",
       "    </tr>\n",
       "    <tr>\n",
       "      <th>50%</th>\n",
       "      <td>13.000000</td>\n",
       "    </tr>\n",
       "    <tr>\n",
       "      <th>75%</th>\n",
       "      <td>19.000000</td>\n",
       "    </tr>\n",
       "    <tr>\n",
       "      <th>max</th>\n",
       "      <td>119.000000</td>\n",
       "    </tr>\n",
       "  </tbody>\n",
       "</table>\n",
       "</div>"
      ],
      "text/plain": [
       "         num_orders\n",
       "count  26496.000000\n",
       "mean      14.070463\n",
       "std        9.211330\n",
       "min        0.000000\n",
       "25%        8.000000\n",
       "50%       13.000000\n",
       "75%       19.000000\n",
       "max      119.000000"
      ]
     },
     "execution_count": 5,
     "metadata": {},
     "output_type": "execute_result"
    }
   ],
   "source": [
    "df.describe()"
   ]
  },
  {
   "cell_type": "markdown",
   "metadata": {},
   "source": [
    "Типы данных, определены верно. Данные интерпретированы корректно. Пропуски отсутствуют. Описательная статистика количества заказов (`num_orders`) выглядит правдоподобно. Похоже, предобработка данных не требуется.\n",
    "\n",
    "Присупим к анализу данных.\n",
    "## Анализ временного ряда\n",
    "Проверим данные на упорядоченность и оценим временной интервал. "
   ]
  },
  {
   "cell_type": "code",
   "execution_count": 6,
   "metadata": {},
   "outputs": [
    {
     "name": "stdout",
     "output_type": "stream",
     "text": [
      "Временной ряд упорядочен \n",
      "Границы ряда: \n",
      " - min 2018-03-01 00:00:00 \n",
      " - max 2018-08-31 23:50:00\n"
     ]
    }
   ],
   "source": [
    "monotonic = lambda x: 'упорядочен' if x else 'НЕ упорядочен'\n",
    "print(\n",
    "    'Временной ряд', monotonic(df.index.is_monotonic),\n",
    "    '\\nГраницы ряда:',\n",
    "    '\\n - min', df.index.min(),\n",
    "    '\\n - max', df.index.max()    \n",
    ")"
   ]
  },
  {
   "cell_type": "markdown",
   "metadata": {},
   "source": [
    "Ресемплируем данные с интервалом в 1 час, проверим результат."
   ]
  },
  {
   "cell_type": "code",
   "execution_count": 7,
   "metadata": {},
   "outputs": [
    {
     "data": {
      "text/html": [
       "<div>\n",
       "<style scoped>\n",
       "    .dataframe tbody tr th:only-of-type {\n",
       "        vertical-align: middle;\n",
       "    }\n",
       "\n",
       "    .dataframe tbody tr th {\n",
       "        vertical-align: top;\n",
       "    }\n",
       "\n",
       "    .dataframe thead th {\n",
       "        text-align: right;\n",
       "    }\n",
       "</style>\n",
       "<table border=\"1\" class=\"dataframe\">\n",
       "  <thead>\n",
       "    <tr style=\"text-align: right;\">\n",
       "      <th></th>\n",
       "      <th>num_orders</th>\n",
       "    </tr>\n",
       "    <tr>\n",
       "      <th>datetime</th>\n",
       "      <th></th>\n",
       "    </tr>\n",
       "  </thead>\n",
       "  <tbody>\n",
       "    <tr>\n",
       "      <th>2018-03-01 00:00:00</th>\n",
       "      <td>124</td>\n",
       "    </tr>\n",
       "    <tr>\n",
       "      <th>2018-03-01 01:00:00</th>\n",
       "      <td>85</td>\n",
       "    </tr>\n",
       "    <tr>\n",
       "      <th>2018-03-01 02:00:00</th>\n",
       "      <td>71</td>\n",
       "    </tr>\n",
       "    <tr>\n",
       "      <th>2018-03-01 03:00:00</th>\n",
       "      <td>66</td>\n",
       "    </tr>\n",
       "    <tr>\n",
       "      <th>2018-03-01 04:00:00</th>\n",
       "      <td>43</td>\n",
       "    </tr>\n",
       "    <tr>\n",
       "      <th>2018-03-01 05:00:00</th>\n",
       "      <td>6</td>\n",
       "    </tr>\n",
       "    <tr>\n",
       "      <th>2018-03-01 06:00:00</th>\n",
       "      <td>12</td>\n",
       "    </tr>\n",
       "    <tr>\n",
       "      <th>2018-03-01 07:00:00</th>\n",
       "      <td>15</td>\n",
       "    </tr>\n",
       "    <tr>\n",
       "      <th>2018-03-01 08:00:00</th>\n",
       "      <td>34</td>\n",
       "    </tr>\n",
       "    <tr>\n",
       "      <th>2018-03-01 09:00:00</th>\n",
       "      <td>69</td>\n",
       "    </tr>\n",
       "  </tbody>\n",
       "</table>\n",
       "</div>"
      ],
      "text/plain": [
       "                     num_orders\n",
       "datetime                       \n",
       "2018-03-01 00:00:00         124\n",
       "2018-03-01 01:00:00          85\n",
       "2018-03-01 02:00:00          71\n",
       "2018-03-01 03:00:00          66\n",
       "2018-03-01 04:00:00          43\n",
       "2018-03-01 05:00:00           6\n",
       "2018-03-01 06:00:00          12\n",
       "2018-03-01 07:00:00          15\n",
       "2018-03-01 08:00:00          34\n",
       "2018-03-01 09:00:00          69"
      ]
     },
     "execution_count": 7,
     "metadata": {},
     "output_type": "execute_result"
    }
   ],
   "source": [
    "df_h = df.resample('1H').sum()\n",
    "df_h.head(10)"
   ]
  },
  {
   "cell_type": "markdown",
   "metadata": {},
   "source": [
    "Преобразование прошло корректно.\n",
    "\n",
    "### Стационарность\n",
    "Определим скользящие среднее и стандарнтное отклонение, построим график временного ряда. "
   ]
  },
  {
   "cell_type": "code",
   "execution_count": 8,
   "metadata": {},
   "outputs": [
    {
     "data": {
      "image/png": "[encoded data removed]",
      "text/plain": [
       "<Figure size 1152x504 with 1 Axes>"
      ]
     },
     "metadata": {
      "needs_background": "light"
     },
     "output_type": "display_data"
    }
   ],
   "source": [
    "df_h_rolling = df_h[TARGET].rolling(168)\n",
    "df_h['rolling_mean'] = df_h_rolling.mean()\n",
    "df_h['rolling_std'] = df_h_rolling.std()\n",
    "ax = df_h.plot(figsize=(16,7), grid=True)\n",
    "ax.set_xlabel('Дата')\n",
    "ax.set_ylabel('Кол-во заказов, шт.')\n",
    "ax.legend([\n",
    "    'Кол-во заказов', \n",
    "    'Среднее кол-во заказов (скользящее)', \n",
    "    'Стандартное отклонение кол-ва заказов (скользящее)'\n",
    "])\n",
    "plt.show()"
   ]
  },
  {
   "cell_type": "markdown",
   "metadata": {},
   "source": [
    "Временной ряд охватывает промежуток в полгода. Наблюдаем плавный рост среднего количества заказов и стандартного отклонения, следовательно, ряд не стационарен. \n",
    "\n",
    "Проведем декомпозицию: рассмотрим общий тренд и сезонность. \n",
    "### Тренд"
   ]
  },
  {
   "cell_type": "code",
   "execution_count": 9,
   "metadata": {
    "scrolled": true
   },
   "outputs": [],
   "source": [
    "df_h_decomposed = seasonal_decompose(df_h[TARGET])"
   ]
  },
  {
   "cell_type": "code",
   "execution_count": 10,
   "metadata": {
    "scrolled": false
   },
   "outputs": [
    {
     "data": {
      "image/png": "[encoded data removed]",
      "text/plain": [
       "<Figure size 1152x504 with 1 Axes>"
      ]
     },
     "metadata": {
      "needs_background": "light"
     },
     "output_type": "display_data"
    }
   ],
   "source": [
    "ax = df_h_decomposed.trend.plot(\n",
    "    figsize=(16,7), \n",
    "    grid=True, \n",
    "    title='Количество заказов: тренд'\n",
    ")\n",
    "ax.set_xlabel('Дата')\n",
    "ax.set_ylabel('Тренд')\n",
    "plt.show()"
   ]
  },
  {
   "cell_type": "markdown",
   "metadata": {},
   "source": [
    "Наблюдаем восходящий тренд: за полгода количество заказов выросло приблизительно в 2.5 раза. Следовательно, доля рынка компании увеличивается и/или услуги такси, в целом, становятся более популярны. \n",
    "### Сезонность\n",
    "Справедливо предположить, что сезонность наблюдается в течение суток и недели. Для каждого месяца нашего ряда выберем случайные 3 дня и на их примере покажем сезонность заказов."
   ]
  },
  {
   "cell_type": "code",
   "execution_count": 11,
   "metadata": {},
   "outputs": [
    {
     "data": {
      "image/png": "[encoded data removed]",
      "text/plain": [
       "<Figure size 1152x1224 with 6 Axes>"
      ]
     },
     "metadata": {
      "needs_background": "light"
     },
     "output_type": "display_data"
    }
   ],
   "source": [
    "fig, ax = plt.subplots(3, 2, figsize=(16, 17))    \n",
    "month = 3\n",
    "for row in range(0, ax.shape[0]):\n",
    "    for col in range(0, ax.shape[1]):\n",
    "        day_min = 0        \n",
    "        while day_min < 1:\n",
    "            day_max = np.random.randint(1, 31)\n",
    "            day_min = day_max - 2\n",
    "        date_max = '2018-{0}-{1}'.format(month, day_max)\n",
    "        date_min = '2018-{0}-{1}'.format(month, day_min)\n",
    "        df_h_decomposed.seasonal[date_min:date_max].plot(ax=ax[row][col])        \n",
    "        ax[row][col].grid(True)\n",
    "        ax[row][col].set_xlabel('Дата')\n",
    "        ax[row][col].set_ylabel('Сезонность')\n",
    "        month += 1\n",
    "fig.suptitle('Количество заказов: суточная сезонность', y=0.91)\n",
    "fig.show()"
   ]
  },
  {
   "cell_type": "markdown",
   "metadata": {},
   "source": [
    "Наблюдаем цикл, общий для всего ряда: \n",
    " - на 00:00 приходится максимальное количество заказов,\n",
    " - с 00:00 до 06:00 количество заказов постепенно снижается до минимума, \n",
    " - с 06:00 до 12:00 и с 12:00 до 18:00 - два локальных всплеска заказов,\n",
    " - с 18:00 до 00:00 количество заказов постепенно возрастает до максимума.\n",
    " \n",
    "Рассмотрим недельную сезонность. Для этого ресемплируем временной ряд с периодом в 1 день и добавим признак недели. Для каждого месяца нашего ряда выберем случайный 3х недельный отрезок и на его примере построим графики сезонности."
   ]
  },
  {
   "cell_type": "code",
   "execution_count": 12,
   "metadata": {
    "scrolled": true
   },
   "outputs": [
    {
     "data": {
      "image/png": "[encoded data removed]",
      "text/plain": [
       "<Figure size 1152x1224 with 6 Axes>"
      ]
     },
     "metadata": {
      "needs_background": "light"
     },
     "output_type": "display_data"
    }
   ],
   "source": [
    "df_d = df.resample('1D').sum()\n",
    "df_d['week'] = pd.Int64Index(df_d.index.isocalendar().week)\n",
    "df_d_decomposed = seasonal_decompose(df_d[TARGET])\n",
    "\n",
    "fig, ax = plt.subplots(3, 2, figsize=(16, 17))\n",
    "month = 3\n",
    "for row in range(0, ax.shape[0]):\n",
    "    for col in range(0, ax.shape[1]):\n",
    "        week_range = (\n",
    "            df_d.loc['2018-{0}'.format(month)]['week'].min(), \n",
    "            df_d.loc['2018-{0}'.format(month)]['week'].max()\n",
    "        ) \n",
    "        week_min = -1        \n",
    "        while week_min < week_range[0]:\n",
    "            week_max = np.random.randint(week_range[0], week_range[1])\n",
    "            week_min = week_max - 2 \n",
    "        weeks = list(range(week_min, week_max + 1))\n",
    "        idx = df_d[df_d['week'].isin(weeks)].index\n",
    "        df_d_decomposed.seasonal[idx].plot(ax=ax[row][col])        \n",
    "        ax[row][col].grid(True)\n",
    "        ax[row][col].set_xlabel('Дата')\n",
    "        ax[row][col].set_ylabel('Сезонность')\n",
    "        month += 1\n",
    "fig.suptitle('Количество заказов: недельная сезонность', y=0.91)\n",
    "fig.show()"
   ]
  },
  {
   "cell_type": "markdown",
   "metadata": {},
   "source": [
    "Недельная сезонность налицо: \n",
    " - на пнд приходится максимальное количество заказов,\n",
    " - во вт число заказов резко падает до минимума, \n",
    " - со вт до пнт заказы постепенно растут почти до максимума\n",
    " - с пнт до вскр количество заказов постепенно падает.\n",
    "\n",
    "## Конструирование признаков \n",
    "Учтем нестационарность нашего временного ряда. Сконструируем на его основе новое признаковое пространство, тем самым повысив качество прогноза. Перечислим новые признаки: \n",
    " - месяц (`month`), \n",
    " - день месяца (`day`), \n",
    " - неделя (`week`), \n",
    " - день недели (`dayofweek`),\n",
    " - час (`hour`),\n",
    " - отстающие значения (`lag_i`), \n",
    " - скользящее среднее (`rolling_mean`).\n",
    " \n",
    "Опишем функцию, создающую новые признаки."
   ]
  },
  {
   "cell_type": "code",
   "execution_count": 13,
   "metadata": {},
   "outputs": [],
   "source": [
    "def make_features(data, max_lag, window_size):\n",
    "    \"\"\"Возвращает копию оригинального \n",
    "    временного ряда с новыми признаками.\n",
    "    АРГУМЕНТЫ:\n",
    "    data -- оригинальный временной ряд,\n",
    "    max_lag -- количество признаков \"отстающих\" значений\n",
    "    window_size -- размер окна для скользящего среднего\n",
    "    \"\"\"\n",
    "    #создаем новый временной ряд\n",
    "    data = data.copy()\n",
    "    #добавляем к новому временному ряду:\n",
    "    # - календарные признаки \n",
    "    data['month'] = data.index.month\n",
    "    data['day'] = data.index.day\n",
    "    data['week'] = pd.Int64Index(data.index.isocalendar().week)\n",
    "    data['dayofweek'] = data.index.dayofweek\n",
    "    data['hour'] = data.index.hour\n",
    "    # - признаки \"отстающих\" значений\n",
    "    for lag in range(1, max_lag + 1):\n",
    "        data['lag_{}'.format(lag)] = data[TARGET].shift(lag)\n",
    "    # - скользящее среднее\n",
    "    data['rolling_mean'] = data[TARGET].rolling(window_size, closed='left').mean()\n",
    "    #возвращаем временной ряд с новыми признаками\n",
    "    return data"
   ]
  },
  {
   "cell_type": "markdown",
   "metadata": {},
   "source": [
    "Добавим новые признаки в датасет, удалим образовавшиеся пропуски и посмотрим на результат."
   ]
  },
  {
   "cell_type": "code",
   "execution_count": 14,
   "metadata": {},
   "outputs": [
    {
     "data": {
      "text/html": [
       "<div>\n",
       "<style scoped>\n",
       "    .dataframe tbody tr th:only-of-type {\n",
       "        vertical-align: middle;\n",
       "    }\n",
       "\n",
       "    .dataframe tbody tr th {\n",
       "        vertical-align: top;\n",
       "    }\n",
       "\n",
       "    .dataframe thead th {\n",
       "        text-align: right;\n",
       "    }\n",
       "</style>\n",
       "<table border=\"1\" class=\"dataframe\">\n",
       "  <thead>\n",
       "    <tr style=\"text-align: right;\">\n",
       "      <th></th>\n",
       "      <th>num_orders</th>\n",
       "      <th>month</th>\n",
       "      <th>day</th>\n",
       "      <th>week</th>\n",
       "      <th>dayofweek</th>\n",
       "      <th>hour</th>\n",
       "      <th>lag_1</th>\n",
       "      <th>lag_2</th>\n",
       "      <th>lag_3</th>\n",
       "      <th>lag_4</th>\n",
       "      <th>lag_5</th>\n",
       "      <th>lag_6</th>\n",
       "      <th>lag_7</th>\n",
       "      <th>lag_8</th>\n",
       "      <th>lag_9</th>\n",
       "      <th>lag_10</th>\n",
       "      <th>lag_11</th>\n",
       "      <th>lag_12</th>\n",
       "      <th>rolling_mean</th>\n",
       "    </tr>\n",
       "    <tr>\n",
       "      <th>datetime</th>\n",
       "      <th></th>\n",
       "      <th></th>\n",
       "      <th></th>\n",
       "      <th></th>\n",
       "      <th></th>\n",
       "      <th></th>\n",
       "      <th></th>\n",
       "      <th></th>\n",
       "      <th></th>\n",
       "      <th></th>\n",
       "      <th></th>\n",
       "      <th></th>\n",
       "      <th></th>\n",
       "      <th></th>\n",
       "      <th></th>\n",
       "      <th></th>\n",
       "      <th></th>\n",
       "      <th></th>\n",
       "      <th></th>\n",
       "    </tr>\n",
       "  </thead>\n",
       "  <tbody>\n",
       "    <tr>\n",
       "      <th>2018-03-02 00:00:00</th>\n",
       "      <td>90</td>\n",
       "      <td>3</td>\n",
       "      <td>2</td>\n",
       "      <td>9</td>\n",
       "      <td>4</td>\n",
       "      <td>0</td>\n",
       "      <td>58.0</td>\n",
       "      <td>113.0</td>\n",
       "      <td>66.0</td>\n",
       "      <td>61.0</td>\n",
       "      <td>45.0</td>\n",
       "      <td>73.0</td>\n",
       "      <td>44.0</td>\n",
       "      <td>43.0</td>\n",
       "      <td>66.0</td>\n",
       "      <td>48.0</td>\n",
       "      <td>32.0</td>\n",
       "      <td>30.0</td>\n",
       "      <td>56.833333</td>\n",
       "    </tr>\n",
       "    <tr>\n",
       "      <th>2018-03-02 01:00:00</th>\n",
       "      <td>120</td>\n",
       "      <td>3</td>\n",
       "      <td>2</td>\n",
       "      <td>9</td>\n",
       "      <td>4</td>\n",
       "      <td>1</td>\n",
       "      <td>90.0</td>\n",
       "      <td>58.0</td>\n",
       "      <td>113.0</td>\n",
       "      <td>66.0</td>\n",
       "      <td>61.0</td>\n",
       "      <td>45.0</td>\n",
       "      <td>73.0</td>\n",
       "      <td>44.0</td>\n",
       "      <td>43.0</td>\n",
       "      <td>66.0</td>\n",
       "      <td>48.0</td>\n",
       "      <td>32.0</td>\n",
       "      <td>55.416667</td>\n",
       "    </tr>\n",
       "    <tr>\n",
       "      <th>2018-03-02 02:00:00</th>\n",
       "      <td>75</td>\n",
       "      <td>3</td>\n",
       "      <td>2</td>\n",
       "      <td>9</td>\n",
       "      <td>4</td>\n",
       "      <td>2</td>\n",
       "      <td>120.0</td>\n",
       "      <td>90.0</td>\n",
       "      <td>58.0</td>\n",
       "      <td>113.0</td>\n",
       "      <td>66.0</td>\n",
       "      <td>61.0</td>\n",
       "      <td>45.0</td>\n",
       "      <td>73.0</td>\n",
       "      <td>44.0</td>\n",
       "      <td>43.0</td>\n",
       "      <td>66.0</td>\n",
       "      <td>48.0</td>\n",
       "      <td>56.875000</td>\n",
       "    </tr>\n",
       "    <tr>\n",
       "      <th>2018-03-02 03:00:00</th>\n",
       "      <td>64</td>\n",
       "      <td>3</td>\n",
       "      <td>2</td>\n",
       "      <td>9</td>\n",
       "      <td>4</td>\n",
       "      <td>3</td>\n",
       "      <td>75.0</td>\n",
       "      <td>120.0</td>\n",
       "      <td>90.0</td>\n",
       "      <td>58.0</td>\n",
       "      <td>113.0</td>\n",
       "      <td>66.0</td>\n",
       "      <td>61.0</td>\n",
       "      <td>45.0</td>\n",
       "      <td>73.0</td>\n",
       "      <td>44.0</td>\n",
       "      <td>43.0</td>\n",
       "      <td>66.0</td>\n",
       "      <td>57.041667</td>\n",
       "    </tr>\n",
       "    <tr>\n",
       "      <th>2018-03-02 04:00:00</th>\n",
       "      <td>20</td>\n",
       "      <td>3</td>\n",
       "      <td>2</td>\n",
       "      <td>9</td>\n",
       "      <td>4</td>\n",
       "      <td>4</td>\n",
       "      <td>64.0</td>\n",
       "      <td>75.0</td>\n",
       "      <td>120.0</td>\n",
       "      <td>90.0</td>\n",
       "      <td>58.0</td>\n",
       "      <td>113.0</td>\n",
       "      <td>66.0</td>\n",
       "      <td>61.0</td>\n",
       "      <td>45.0</td>\n",
       "      <td>73.0</td>\n",
       "      <td>44.0</td>\n",
       "      <td>43.0</td>\n",
       "      <td>56.958333</td>\n",
       "    </tr>\n",
       "    <tr>\n",
       "      <th>2018-03-02 05:00:00</th>\n",
       "      <td>11</td>\n",
       "      <td>3</td>\n",
       "      <td>2</td>\n",
       "      <td>9</td>\n",
       "      <td>4</td>\n",
       "      <td>5</td>\n",
       "      <td>20.0</td>\n",
       "      <td>64.0</td>\n",
       "      <td>75.0</td>\n",
       "      <td>120.0</td>\n",
       "      <td>90.0</td>\n",
       "      <td>58.0</td>\n",
       "      <td>113.0</td>\n",
       "      <td>66.0</td>\n",
       "      <td>61.0</td>\n",
       "      <td>45.0</td>\n",
       "      <td>73.0</td>\n",
       "      <td>44.0</td>\n",
       "      <td>56.000000</td>\n",
       "    </tr>\n",
       "    <tr>\n",
       "      <th>2018-03-02 06:00:00</th>\n",
       "      <td>11</td>\n",
       "      <td>3</td>\n",
       "      <td>2</td>\n",
       "      <td>9</td>\n",
       "      <td>4</td>\n",
       "      <td>6</td>\n",
       "      <td>11.0</td>\n",
       "      <td>20.0</td>\n",
       "      <td>64.0</td>\n",
       "      <td>75.0</td>\n",
       "      <td>120.0</td>\n",
       "      <td>90.0</td>\n",
       "      <td>58.0</td>\n",
       "      <td>113.0</td>\n",
       "      <td>66.0</td>\n",
       "      <td>61.0</td>\n",
       "      <td>45.0</td>\n",
       "      <td>73.0</td>\n",
       "      <td>56.208333</td>\n",
       "    </tr>\n",
       "    <tr>\n",
       "      <th>2018-03-02 07:00:00</th>\n",
       "      <td>7</td>\n",
       "      <td>3</td>\n",
       "      <td>2</td>\n",
       "      <td>9</td>\n",
       "      <td>4</td>\n",
       "      <td>7</td>\n",
       "      <td>11.0</td>\n",
       "      <td>11.0</td>\n",
       "      <td>20.0</td>\n",
       "      <td>64.0</td>\n",
       "      <td>75.0</td>\n",
       "      <td>120.0</td>\n",
       "      <td>90.0</td>\n",
       "      <td>58.0</td>\n",
       "      <td>113.0</td>\n",
       "      <td>66.0</td>\n",
       "      <td>61.0</td>\n",
       "      <td>45.0</td>\n",
       "      <td>56.166667</td>\n",
       "    </tr>\n",
       "    <tr>\n",
       "      <th>2018-03-02 08:00:00</th>\n",
       "      <td>46</td>\n",
       "      <td>3</td>\n",
       "      <td>2</td>\n",
       "      <td>9</td>\n",
       "      <td>4</td>\n",
       "      <td>8</td>\n",
       "      <td>7.0</td>\n",
       "      <td>11.0</td>\n",
       "      <td>11.0</td>\n",
       "      <td>20.0</td>\n",
       "      <td>64.0</td>\n",
       "      <td>75.0</td>\n",
       "      <td>120.0</td>\n",
       "      <td>90.0</td>\n",
       "      <td>58.0</td>\n",
       "      <td>113.0</td>\n",
       "      <td>66.0</td>\n",
       "      <td>61.0</td>\n",
       "      <td>55.833333</td>\n",
       "    </tr>\n",
       "    <tr>\n",
       "      <th>2018-03-02 09:00:00</th>\n",
       "      <td>45</td>\n",
       "      <td>3</td>\n",
       "      <td>2</td>\n",
       "      <td>9</td>\n",
       "      <td>4</td>\n",
       "      <td>9</td>\n",
       "      <td>46.0</td>\n",
       "      <td>7.0</td>\n",
       "      <td>11.0</td>\n",
       "      <td>11.0</td>\n",
       "      <td>20.0</td>\n",
       "      <td>64.0</td>\n",
       "      <td>75.0</td>\n",
       "      <td>120.0</td>\n",
       "      <td>90.0</td>\n",
       "      <td>58.0</td>\n",
       "      <td>113.0</td>\n",
       "      <td>66.0</td>\n",
       "      <td>56.333333</td>\n",
       "    </tr>\n",
       "  </tbody>\n",
       "</table>\n",
       "</div>"
      ],
      "text/plain": [
       "                     num_orders  month  day  week  dayofweek  hour  lag_1  \\\n",
       "datetime                                                                    \n",
       "2018-03-02 00:00:00          90      3    2     9          4     0   58.0   \n",
       "2018-03-02 01:00:00         120      3    2     9          4     1   90.0   \n",
       "2018-03-02 02:00:00          75      3    2     9          4     2  120.0   \n",
       "2018-03-02 03:00:00          64      3    2     9          4     3   75.0   \n",
       "2018-03-02 04:00:00          20      3    2     9          4     4   64.0   \n",
       "2018-03-02 05:00:00          11      3    2     9          4     5   20.0   \n",
       "2018-03-02 06:00:00          11      3    2     9          4     6   11.0   \n",
       "2018-03-02 07:00:00           7      3    2     9          4     7   11.0   \n",
       "2018-03-02 08:00:00          46      3    2     9          4     8    7.0   \n",
       "2018-03-02 09:00:00          45      3    2     9          4     9   46.0   \n",
       "\n",
       "                     lag_2  lag_3  lag_4  lag_5  lag_6  lag_7  lag_8  lag_9  \\\n",
       "datetime                                                                      \n",
       "2018-03-02 00:00:00  113.0   66.0   61.0   45.0   73.0   44.0   43.0   66.0   \n",
       "2018-03-02 01:00:00   58.0  113.0   66.0   61.0   45.0   73.0   44.0   43.0   \n",
       "2018-03-02 02:00:00   90.0   58.0  113.0   66.0   61.0   45.0   73.0   44.0   \n",
       "2018-03-02 03:00:00  120.0   90.0   58.0  113.0   66.0   61.0   45.0   73.0   \n",
       "2018-03-02 04:00:00   75.0  120.0   90.0   58.0  113.0   66.0   61.0   45.0   \n",
       "2018-03-02 05:00:00   64.0   75.0  120.0   90.0   58.0  113.0   66.0   61.0   \n",
       "2018-03-02 06:00:00   20.0   64.0   75.0  120.0   90.0   58.0  113.0   66.0   \n",
       "2018-03-02 07:00:00   11.0   20.0   64.0   75.0  120.0   90.0   58.0  113.0   \n",
       "2018-03-02 08:00:00   11.0   11.0   20.0   64.0   75.0  120.0   90.0   58.0   \n",
       "2018-03-02 09:00:00    7.0   11.0   11.0   20.0   64.0   75.0  120.0   90.0   \n",
       "\n",
       "                     lag_10  lag_11  lag_12  rolling_mean  \n",
       "datetime                                                   \n",
       "2018-03-02 00:00:00    48.0    32.0    30.0     56.833333  \n",
       "2018-03-02 01:00:00    66.0    48.0    32.0     55.416667  \n",
       "2018-03-02 02:00:00    43.0    66.0    48.0     56.875000  \n",
       "2018-03-02 03:00:00    44.0    43.0    66.0     57.041667  \n",
       "2018-03-02 04:00:00    73.0    44.0    43.0     56.958333  \n",
       "2018-03-02 05:00:00    45.0    73.0    44.0     56.000000  \n",
       "2018-03-02 06:00:00    61.0    45.0    73.0     56.208333  \n",
       "2018-03-02 07:00:00    66.0    61.0    45.0     56.166667  \n",
       "2018-03-02 08:00:00   113.0    66.0    61.0     55.833333  \n",
       "2018-03-02 09:00:00    58.0   113.0    66.0     56.333333  "
      ]
     },
     "execution_count": 14,
     "metadata": {},
     "output_type": "execute_result"
    }
   ],
   "source": [
    "data = make_features(df.resample('1H').sum(), 12, 24)\n",
    "data = data.dropna()\n",
    "data.head(10)"
   ]
  },
  {
   "cell_type": "markdown",
   "metadata": {},
   "source": [
    "Преобразования прошли корректно.\n",
    "## Формирование выборок\n",
    "Сформируем обучающую и тестовую выборки. Проверим результат."
   ]
  },
  {
   "cell_type": "code",
   "execution_count": 15,
   "metadata": {},
   "outputs": [
    {
     "name": "stdout",
     "output_type": "stream",
     "text": [
      "Размер выборок: \n",
      " - обучающая (признаки): (3952, 18) \n",
      " - обучающая (целевой признак): (3952,) \n",
      " - тестовая (признаки): (440, 18) \n",
      " - тестовая (целевой признак): (440,)\n"
     ]
    }
   ],
   "source": [
    "X = data.drop(TARGET, axis=1)\n",
    "y = data[TARGET]\n",
    "\n",
    "X_train, X_test, y_train, y_test = \\\n",
    "train_test_split(X, y, test_size=0.1, shuffle=False)\n",
    "\n",
    "print('Размер выборок:',\n",
    "     '\\n - обучающая (признаки):', X_train.shape,\n",
    "     '\\n - обучающая (целевой признак):', y_train.shape,\n",
    "     '\\n - тестовая (признаки):', X_test.shape,\n",
    "     '\\n - тестовая (целевой признак):', y_test.shape)"
   ]
  },
  {
   "cell_type": "markdown",
   "metadata": {},
   "source": [
    "Выборки сформированы корректно.\n",
    "\n",
    "## Моделирование\n",
    "Перед нами стоит задача прогнозирования временного ряда. Решим ее с помощью LGBMRegressor, CatBoostRegressor, а так же RandomForestRegressor. \n",
    "\n",
    "**Ход исследования:**\n",
    " - на обучающей выборке, с применением кроссвалидации и метрики RMSE, для каждой модели подберем гиперпараметры, \n",
    " - на тестовой выборке, для каждой модели определим RMSE,\n",
    " - сравним модели, сформулируем выводы.\n",
    "\n",
    "Опишем помогающую функцию."
   ]
  },
  {
   "cell_type": "code",
   "execution_count": 16,
   "metadata": {},
   "outputs": [],
   "source": [
    "def print_result(search):\n",
    "    \"\"\"\n",
    "    Выводит на экран наименование, значение метрики \n",
    "    и гиперпараметры для лучшей модели кросс-валидатора.\n",
    "    АРГУМЕНТЫ:\n",
    "    search -- кросс-валидатор\n",
    "    \"\"\"\n",
    "    print(\n",
    "        'Валидационная выборка:', \n",
    "        '\\n - модель', search.best_estimator_.__class__.__name__, \n",
    "        '\\n - лучшая RMSE', round(-1 * search.best_score_, 3), \n",
    "        '\\n - лучшие гиперпараметры', search.best_params_\n",
    "    )"
   ]
  },
  {
   "cell_type": "markdown",
   "metadata": {},
   "source": [
    "### RandomForestRegressor"
   ]
  },
  {
   "cell_type": "code",
   "execution_count": 17,
   "metadata": {},
   "outputs": [],
   "source": [
    "rfr = RandomForestRegressor(random_state=SEED)\n",
    "#готовим гиперпараметры\n",
    "params_rfr = {    \n",
    "    'n_estimators' : [50, 100, 200]\n",
    "}\n",
    "#готовим подбор гиперпараметров с кроссвалидацией\n",
    "search_rfr = GridSearchCV(\n",
    "    rfr,\n",
    "    param_grid = params_rfr,     \n",
    "    scoring='neg_root_mean_squared_error',\n",
    "    cv=TimeSeriesSplit(),\n",
    "    verbose=False\n",
    ")"
   ]
  },
  {
   "cell_type": "code",
   "execution_count": 18,
   "metadata": {},
   "outputs": [
    {
     "name": "stdout",
     "output_type": "stream",
     "text": [
      "Валидационная выборка: \n",
      " - модель RandomForestRegressor \n",
      " - лучшая RMSE 24.603 \n",
      " - лучшие гиперпараметры {'n_estimators': 200}\n"
     ]
    }
   ],
   "source": [
    "search_rfr.fit(X_train, y_train)\n",
    "print_result(search_rfr)"
   ]
  },
  {
   "cell_type": "markdown",
   "metadata": {},
   "source": [
    "### CatBoostRegressor"
   ]
  },
  {
   "cell_type": "code",
   "execution_count": 19,
   "metadata": {},
   "outputs": [],
   "source": [
    "cbr = CatBoostRegressor(random_state=SEED, verbose=False)\n",
    "#готовим гиперпараметры\n",
    "params_cbr = {    \n",
    "    'iterations' : [50, 100, 200],      \n",
    "    'learning_rate' : [0.4, 0.5, 0.6]\n",
    "}\n",
    "#готовим подбор гиперпараметров с кроссвалидацией\n",
    "search_cbr = GridSearchCV(\n",
    "    cbr, \n",
    "    param_grid=params_cbr,\n",
    "    scoring='neg_root_mean_squared_error',\n",
    "    cv=TimeSeriesSplit(),\n",
    "    verbose=False  \n",
    ")"
   ]
  },
  {
   "cell_type": "code",
   "execution_count": 20,
   "metadata": {},
   "outputs": [
    {
     "name": "stdout",
     "output_type": "stream",
     "text": [
      "Валидационная выборка: \n",
      " - модель CatBoostRegressor \n",
      " - лучшая RMSE 25.57 \n",
      " - лучшие гиперпараметры {'iterations': 50, 'learning_rate': 0.4}\n"
     ]
    }
   ],
   "source": [
    "search_cbr.fit(X_train, y_train)\n",
    "print_result(search_cbr)"
   ]
  },
  {
   "cell_type": "markdown",
   "metadata": {},
   "source": [
    "### LGBMRegressor"
   ]
  },
  {
   "cell_type": "code",
   "execution_count": 21,
   "metadata": {},
   "outputs": [],
   "source": [
    "lgbmr = lgb.LGBMRegressor(random_state=SEED, verbose=-1)\n",
    "#готовим гиперпараметры\n",
    "params_lgbmr = {    \n",
    "    'num_iterations' : [50, 100, 200],\n",
    "    'learning_rate' : [0.4, 0.5, 0.6]          \n",
    "} \n",
    "#готовим подбор гиперпараметров с кроссвалидацией\n",
    "search_lgbmr = GridSearchCV(\n",
    "    lgbmr, \n",
    "    param_grid=params_lgbmr, \n",
    "    scoring='neg_root_mean_squared_error', \n",
    "    cv=TimeSeriesSplit(),\n",
    "    verbose=False, \n",
    "    n_jobs=4\n",
    ")"
   ]
  },
  {
   "cell_type": "code",
   "execution_count": 22,
   "metadata": {
    "scrolled": true
   },
   "outputs": [
    {
     "name": "stderr",
     "output_type": "stream",
     "text": [
      "/opt/conda/lib/python3.9/site-packages/lightgbm/engine.py:177: UserWarning: Found `num_iterations` in params. Will use it instead of argument\n",
      "  _log_warning(f\"Found `{alias}` in params. Will use it instead of argument\")\n",
      "/opt/conda/lib/python3.9/site-packages/lightgbm/engine.py:177: UserWarning: Found `num_iterations` in params. Will use it instead of argument\n",
      "  _log_warning(f\"Found `{alias}` in params. Will use it instead of argument\")\n",
      "/opt/conda/lib/python3.9/site-packages/lightgbm/engine.py:177: UserWarning: Found `num_iterations` in params. Will use it instead of argument\n",
      "  _log_warning(f\"Found `{alias}` in params. Will use it instead of argument\")\n",
      "/opt/conda/lib/python3.9/site-packages/lightgbm/engine.py:177: UserWarning: Found `num_iterations` in params. Will use it instead of argument\n",
      "  _log_warning(f\"Found `{alias}` in params. Will use it instead of argument\")\n",
      "/opt/conda/lib/python3.9/site-packages/lightgbm/engine.py:177: UserWarning: Found `num_iterations` in params. Will use it instead of argument\n",
      "  _log_warning(f\"Found `{alias}` in params. Will use it instead of argument\")\n",
      "/opt/conda/lib/python3.9/site-packages/lightgbm/engine.py:177: UserWarning: Found `num_iterations` in params. Will use it instead of argument\n",
      "  _log_warning(f\"Found `{alias}` in params. Will use it instead of argument\")\n",
      "/opt/conda/lib/python3.9/site-packages/lightgbm/engine.py:177: UserWarning: Found `num_iterations` in params. Will use it instead of argument\n",
      "  _log_warning(f\"Found `{alias}` in params. Will use it instead of argument\")\n",
      "/opt/conda/lib/python3.9/site-packages/lightgbm/engine.py:177: UserWarning: Found `num_iterations` in params. Will use it instead of argument\n",
      "  _log_warning(f\"Found `{alias}` in params. Will use it instead of argument\")\n",
      "/opt/conda/lib/python3.9/site-packages/lightgbm/engine.py:177: UserWarning: Found `num_iterations` in params. Will use it instead of argument\n",
      "  _log_warning(f\"Found `{alias}` in params. Will use it instead of argument\")\n",
      "/opt/conda/lib/python3.9/site-packages/lightgbm/engine.py:177: UserWarning: Found `num_iterations` in params. Will use it instead of argument\n",
      "  _log_warning(f\"Found `{alias}` in params. Will use it instead of argument\")\n",
      "/opt/conda/lib/python3.9/site-packages/lightgbm/engine.py:177: UserWarning: Found `num_iterations` in params. Will use it instead of argument\n",
      "  _log_warning(f\"Found `{alias}` in params. Will use it instead of argument\")\n",
      "/opt/conda/lib/python3.9/site-packages/lightgbm/engine.py:177: UserWarning: Found `num_iterations` in params. Will use it instead of argument\n",
      "  _log_warning(f\"Found `{alias}` in params. Will use it instead of argument\")\n",
      "/opt/conda/lib/python3.9/site-packages/lightgbm/engine.py:177: UserWarning: Found `num_iterations` in params. Will use it instead of argument\n",
      "  _log_warning(f\"Found `{alias}` in params. Will use it instead of argument\")\n",
      "/opt/conda/lib/python3.9/site-packages/lightgbm/engine.py:177: UserWarning: Found `num_iterations` in params. Will use it instead of argument\n",
      "  _log_warning(f\"Found `{alias}` in params. Will use it instead of argument\")\n",
      "/opt/conda/lib/python3.9/site-packages/lightgbm/engine.py:177: UserWarning: Found `num_iterations` in params. Will use it instead of argument\n",
      "  _log_warning(f\"Found `{alias}` in params. Will use it instead of argument\")\n",
      "/opt/conda/lib/python3.9/site-packages/lightgbm/engine.py:177: UserWarning: Found `num_iterations` in params. Will use it instead of argument\n",
      "  _log_warning(f\"Found `{alias}` in params. Will use it instead of argument\")\n",
      "/opt/conda/lib/python3.9/site-packages/lightgbm/engine.py:177: UserWarning: Found `num_iterations` in params. Will use it instead of argument\n",
      "  _log_warning(f\"Found `{alias}` in params. Will use it instead of argument\")\n",
      "/opt/conda/lib/python3.9/site-packages/lightgbm/engine.py:177: UserWarning: Found `num_iterations` in params. Will use it instead of argument\n",
      "  _log_warning(f\"Found `{alias}` in params. Will use it instead of argument\")\n",
      "/opt/conda/lib/python3.9/site-packages/lightgbm/engine.py:177: UserWarning: Found `num_iterations` in params. Will use it instead of argument\n",
      "  _log_warning(f\"Found `{alias}` in params. Will use it instead of argument\")\n",
      "/opt/conda/lib/python3.9/site-packages/lightgbm/engine.py:177: UserWarning: Found `num_iterations` in params. Will use it instead of argument\n",
      "  _log_warning(f\"Found `{alias}` in params. Will use it instead of argument\")\n",
      "/opt/conda/lib/python3.9/site-packages/lightgbm/engine.py:177: UserWarning: Found `num_iterations` in params. Will use it instead of argument\n",
      "  _log_warning(f\"Found `{alias}` in params. Will use it instead of argument\")\n",
      "/opt/conda/lib/python3.9/site-packages/lightgbm/engine.py:177: UserWarning: Found `num_iterations` in params. Will use it instead of argument\n",
      "  _log_warning(f\"Found `{alias}` in params. Will use it instead of argument\")\n",
      "/opt/conda/lib/python3.9/site-packages/lightgbm/engine.py:177: UserWarning: Found `num_iterations` in params. Will use it instead of argument\n",
      "  _log_warning(f\"Found `{alias}` in params. Will use it instead of argument\")\n",
      "/opt/conda/lib/python3.9/site-packages/lightgbm/engine.py:177: UserWarning: Found `num_iterations` in params. Will use it instead of argument\n",
      "  _log_warning(f\"Found `{alias}` in params. Will use it instead of argument\")\n",
      "/opt/conda/lib/python3.9/site-packages/lightgbm/engine.py:177: UserWarning: Found `num_iterations` in params. Will use it instead of argument\n",
      "  _log_warning(f\"Found `{alias}` in params. Will use it instead of argument\")\n",
      "/opt/conda/lib/python3.9/site-packages/lightgbm/engine.py:177: UserWarning: Found `num_iterations` in params. Will use it instead of argument\n",
      "  _log_warning(f\"Found `{alias}` in params. Will use it instead of argument\")\n",
      "/opt/conda/lib/python3.9/site-packages/lightgbm/engine.py:177: UserWarning: Found `num_iterations` in params. Will use it instead of argument\n",
      "  _log_warning(f\"Found `{alias}` in params. Will use it instead of argument\")\n",
      "/opt/conda/lib/python3.9/site-packages/lightgbm/engine.py:177: UserWarning: Found `num_iterations` in params. Will use it instead of argument\n",
      "  _log_warning(f\"Found `{alias}` in params. Will use it instead of argument\")\n",
      "/opt/conda/lib/python3.9/site-packages/lightgbm/engine.py:177: UserWarning: Found `num_iterations` in params. Will use it instead of argument\n",
      "  _log_warning(f\"Found `{alias}` in params. Will use it instead of argument\")\n",
      "/opt/conda/lib/python3.9/site-packages/lightgbm/engine.py:177: UserWarning: Found `num_iterations` in params. Will use it instead of argument\n",
      "  _log_warning(f\"Found `{alias}` in params. Will use it instead of argument\")\n",
      "/opt/conda/lib/python3.9/site-packages/lightgbm/engine.py:177: UserWarning: Found `num_iterations` in params. Will use it instead of argument\n",
      "  _log_warning(f\"Found `{alias}` in params. Will use it instead of argument\")\n",
      "/opt/conda/lib/python3.9/site-packages/lightgbm/engine.py:177: UserWarning: Found `num_iterations` in params. Will use it instead of argument\n",
      "  _log_warning(f\"Found `{alias}` in params. Will use it instead of argument\")\n",
      "/opt/conda/lib/python3.9/site-packages/lightgbm/engine.py:177: UserWarning: Found `num_iterations` in params. Will use it instead of argument\n",
      "  _log_warning(f\"Found `{alias}` in params. Will use it instead of argument\")\n",
      "/opt/conda/lib/python3.9/site-packages/lightgbm/engine.py:177: UserWarning: Found `num_iterations` in params. Will use it instead of argument\n",
      "  _log_warning(f\"Found `{alias}` in params. Will use it instead of argument\")\n",
      "/opt/conda/lib/python3.9/site-packages/lightgbm/engine.py:177: UserWarning: Found `num_iterations` in params. Will use it instead of argument\n",
      "  _log_warning(f\"Found `{alias}` in params. Will use it instead of argument\")\n",
      "/opt/conda/lib/python3.9/site-packages/lightgbm/engine.py:177: UserWarning: Found `num_iterations` in params. Will use it instead of argument\n",
      "  _log_warning(f\"Found `{alias}` in params. Will use it instead of argument\")\n",
      "/opt/conda/lib/python3.9/site-packages/lightgbm/engine.py:177: UserWarning: Found `num_iterations` in params. Will use it instead of argument\n",
      "  _log_warning(f\"Found `{alias}` in params. Will use it instead of argument\")\n",
      "/opt/conda/lib/python3.9/site-packages/lightgbm/engine.py:177: UserWarning: Found `num_iterations` in params. Will use it instead of argument\n",
      "  _log_warning(f\"Found `{alias}` in params. Will use it instead of argument\")\n",
      "/opt/conda/lib/python3.9/site-packages/lightgbm/engine.py:177: UserWarning: Found `num_iterations` in params. Will use it instead of argument\n",
      "  _log_warning(f\"Found `{alias}` in params. Will use it instead of argument\")\n",
      "/opt/conda/lib/python3.9/site-packages/lightgbm/engine.py:177: UserWarning: Found `num_iterations` in params. Will use it instead of argument\n",
      "  _log_warning(f\"Found `{alias}` in params. Will use it instead of argument\")\n",
      "/opt/conda/lib/python3.9/site-packages/lightgbm/engine.py:177: UserWarning: Found `num_iterations` in params. Will use it instead of argument\n",
      "  _log_warning(f\"Found `{alias}` in params. Will use it instead of argument\")\n",
      "/opt/conda/lib/python3.9/site-packages/lightgbm/engine.py:177: UserWarning: Found `num_iterations` in params. Will use it instead of argument\n",
      "  _log_warning(f\"Found `{alias}` in params. Will use it instead of argument\")\n",
      "/opt/conda/lib/python3.9/site-packages/lightgbm/engine.py:177: UserWarning: Found `num_iterations` in params. Will use it instead of argument\n",
      "  _log_warning(f\"Found `{alias}` in params. Will use it instead of argument\")\n",
      "/opt/conda/lib/python3.9/site-packages/lightgbm/engine.py:177: UserWarning: Found `num_iterations` in params. Will use it instead of argument\n",
      "  _log_warning(f\"Found `{alias}` in params. Will use it instead of argument\")\n",
      "/opt/conda/lib/python3.9/site-packages/lightgbm/engine.py:177: UserWarning: Found `num_iterations` in params. Will use it instead of argument\n",
      "  _log_warning(f\"Found `{alias}` in params. Will use it instead of argument\")\n",
      "/opt/conda/lib/python3.9/site-packages/lightgbm/engine.py:177: UserWarning: Found `num_iterations` in params. Will use it instead of argument\n",
      "  _log_warning(f\"Found `{alias}` in params. Will use it instead of argument\")\n"
     ]
    },
    {
     "name": "stdout",
     "output_type": "stream",
     "text": [
      "Валидационная выборка: \n",
      " - модель LGBMRegressor \n",
      " - лучшая RMSE 26.375 \n",
      " - лучшие гиперпараметры {'learning_rate': 0.4, 'num_iterations': 50}\n"
     ]
    }
   ],
   "source": [
    "search_lgbmr.fit(X_train, y_train)\n",
    "print_result(search_lgbmr)"
   ]
  },
  {
   "cell_type": "markdown",
   "metadata": {},
   "source": [
    "### Сравнение моделей\n",
    "Рассмотрим общую таблицу результатов."
   ]
  },
  {
   "cell_type": "code",
   "execution_count": 29,
   "metadata": {},
   "outputs": [
    {
     "data": {
      "text/html": [
       "<div>\n",
       "<style scoped>\n",
       "    .dataframe tbody tr th:only-of-type {\n",
       "        vertical-align: middle;\n",
       "    }\n",
       "\n",
       "    .dataframe tbody tr th {\n",
       "        vertical-align: top;\n",
       "    }\n",
       "\n",
       "    .dataframe thead th {\n",
       "        text-align: right;\n",
       "    }\n",
       "</style>\n",
       "<table border=\"1\" class=\"dataframe\">\n",
       "  <thead>\n",
       "    <tr style=\"text-align: right;\">\n",
       "      <th></th>\n",
       "      <th>RandomForestRegressor</th>\n",
       "      <th>CatBoostRegressor</th>\n",
       "      <th>LGBMRegressor</th>\n",
       "    </tr>\n",
       "  </thead>\n",
       "  <tbody>\n",
       "    <tr>\n",
       "      <th>RMSE_valid</th>\n",
       "      <td>24.602538</td>\n",
       "      <td>25.569797</td>\n",
       "      <td>26.374832</td>\n",
       "    </tr>\n",
       "  </tbody>\n",
       "</table>\n",
       "</div>"
      ],
      "text/plain": [
       "            RandomForestRegressor  CatBoostRegressor  LGBMRegressor\n",
       "RMSE_valid              24.602538          25.569797      26.374832"
      ]
     },
     "execution_count": 29,
     "metadata": {},
     "output_type": "execute_result"
    }
   ],
   "source": [
    "searches = [\n",
    "    search_rfr, \n",
    "    search_cbr,\n",
    "    search_lgbmr\n",
    "]\n",
    "results = {}\n",
    "rmse_test = []\n",
    "#для каждого кросс-валидатора...\n",
    "for search in searches:\n",
    "    #сохраняем лучший результат \n",
    "    estimator = search.best_estimator_.__class__.__name__\n",
    "    score = -1 * search.best_score_\n",
    "    results[estimator] = [score]    \n",
    "#сводим таблицу результатов\n",
    "pd.DataFrame(results, index=['RMSE_valid'])"
   ]
  },
  {
   "cell_type": "markdown",
   "metadata": {},
   "source": [
    "Зафиксируем наблюдения:\n",
    " - все модели показывают весьма близкую точность (RMSE) на обучающей выборке;\n",
    " - лучшая модель по критерию RMSE - RandomForestRegressor. \n",
    "\n",
    "Определим RMSE для лучшей модели на тестовой выборке."
   ]
  },
  {
   "cell_type": "code",
   "execution_count": 28,
   "metadata": {
    "scrolled": true
   },
   "outputs": [
    {
     "name": "stdout",
     "output_type": "stream",
     "text": [
      "Тестовая выборка: \n",
      " - модель RandomForestRegressor \n",
      " - RMSE 43.309 \n",
      " - гиперпараметры {'n_estimators': 200}\n"
     ]
    }
   ],
   "source": [
    "y_predicted = search_rfr.predict(X_test)\n",
    "rmse_test = mean_squared_error(y_test, y_predicted, squared=False)\n",
    "print(\n",
    "    'Тестовая выборка:',\n",
    "    '\\n - модель', search_rfr.best_estimator_.__class__.__name__, \n",
    "    '\\n - RMSE', round(rmse_test, 3), \n",
    "    '\\n - гиперпараметры', search_rfr.best_params_\n",
    ")        "
   ]
  },
  {
   "cell_type": "markdown",
   "metadata": {},
   "source": [
    "Получили точность, удовлетворяющую условиям задачи (менее 48 заказов). Визуализируем реальное и предсказанное количество заказов."
   ]
  },
  {
   "cell_type": "code",
   "execution_count": 43,
   "metadata": {},
   "outputs": [
    {
     "data": {
      "image/png": "[encoded data removed]",
      "text/plain": [
       "<Figure size 1152x504 with 1 Axes>"
      ]
     },
     "metadata": {
      "needs_background": "light"
     },
     "output_type": "display_data"
    }
   ],
   "source": [
    "y_predicted = pd.Series(y_predicted, index=y_test.index)\n",
    "ax = pd.concat([y_test, y_predicted], axis=1).plot(\n",
    "    figsize=(16, 7), \n",
    "    grid=True,\n",
    "    title='Количество заказов: реальность и прогноз' \n",
    ")\n",
    "ax.set_xlabel('Дата')\n",
    "ax.set_ylabel('Кол-во заказов, шт.')\n",
    "ax.legend([\n",
    "    'Реальное кол-во заказов', \n",
    "    'Предсказанное кол-во заказов'\n",
    "])\n",
    "plt.show()"
   ]
  },
  {
   "cell_type": "markdown",
   "metadata": {},
   "source": [
    "## Выводы\n",
    "**В ходе обзора и подготовки данных** было показано, что предобработка не требуется ([см.3](#%D0%9E%D0%B1%D0%B7%D0%BE%D1%80-%D0%B8-%D0%BF%D0%BE%D0%B4%D0%B3%D0%BE%D1%82%D0%BE%D0%B2%D0%BA%D0%B0-%D0%B4%D0%B0%D0%BD%D0%BD%D1%8B%D1%85)). \n",
    "\n",
    "**В ходе анализа показано, что временной ряд:** \n",
    " - не стационарен ([см.4.1](#%D0%A1%D1%82%D0%B0%D1%86%D0%B8%D0%BE%D0%BD%D0%B0%D1%80%D0%BD%D0%BE%D1%81%D1%82%D1%8C)), \n",
    " - демонстрирует восходящий тренд ([см.4.2](#%D0%A2%D1%80%D0%B5%D0%BD%D0%B4)), \n",
    " - имеет дневную и недельную сезонность ([см.4.3](#%D0%A1%D0%B5%D0%B7%D0%BE%D0%BD%D0%BD%D0%BE%D1%81%D1%82%D1%8C)).\n",
    "\n",
    "**Конструированием новых признаков** компенсирована нестационарность временного ряда ([см.5](#%D0%9A%D0%BE%D0%BD%D1%81%D1%82%D1%80%D1%83%D0%B8%D1%80%D0%BE%D0%B2%D0%B0%D0%BD%D0%B8%D0%B5-%D0%BF%D1%80%D0%B8%D0%B7%D0%BD%D0%B0%D0%BA%D0%BE%D0%B2)).\n",
    "\n",
    "**В ходе моделирования:** \n",
    " - на обучающей выборке проведен поиск гиперпараметров с кроссвалидацией и метрикой RMSE для моделей:\n",
    "     - RandomForestRegressor ([см.7.1](#RandomForestRegressor)),\n",
    "     - CatBoostRegressor ([см.7.2](#CatBoostRegressor)),\n",
    "     - LGBMRegressor ([см.7.3](#LGBMRegressor)),\n",
    " - показано, что RandomForestRegressor:\n",
    "     - является лучшей моделью по критерию RMSE на обучающей выборке,\n",
    "     - имеет RMSE ниже контрольного значения в 48 заказов на тестовой выборке ([см.7.4](#%D0%A1%D1%80%D0%B0%D0%B2%D0%BD%D0%B5%D0%BD%D0%B8%D0%B5-%D0%BC%D0%BE%D0%B4%D0%B5%D0%BB%D0%B5%D0%B9))."
   ]
  }
 ],
 "metadata": {
  "ExecuteTimeLog": [
   {
    "duration": 417,
    "start_time": "2023-05-25T08:27:50.633Z"
   },
   {
    "duration": 2,
    "start_time": "2023-05-25T08:28:19.854Z"
   },
   {
    "duration": 145,
    "start_time": "2023-05-25T08:30:17.877Z"
   },
   {
    "duration": 12,
    "start_time": "2023-05-25T08:30:36.228Z"
   },
   {
    "duration": 78,
    "start_time": "2023-05-25T08:32:40.595Z"
   },
   {
    "duration": 51,
    "start_time": "2023-05-25T08:32:54.611Z"
   },
   {
    "duration": 10,
    "start_time": "2023-05-25T08:32:58.787Z"
   },
   {
    "duration": 12,
    "start_time": "2023-05-25T08:33:24.613Z"
   },
   {
    "duration": 49,
    "start_time": "2023-05-25T08:39:18.443Z"
   },
   {
    "duration": 48,
    "start_time": "2023-05-25T08:39:50.957Z"
   },
   {
    "duration": 15,
    "start_time": "2023-05-25T08:40:41.493Z"
   },
   {
    "duration": 17,
    "start_time": "2023-05-25T08:40:43.614Z"
   },
   {
    "duration": 5,
    "start_time": "2023-05-25T09:17:54.454Z"
   },
   {
    "duration": 4,
    "start_time": "2023-05-25T09:18:02.969Z"
   },
   {
    "duration": 9,
    "start_time": "2023-05-25T09:20:15.366Z"
   },
   {
    "duration": 11,
    "start_time": "2023-05-25T09:20:18.375Z"
   },
   {
    "duration": 8,
    "start_time": "2023-05-25T09:20:52.967Z"
   },
   {
    "duration": 7,
    "start_time": "2023-05-25T09:21:57.020Z"
   },
   {
    "duration": 13,
    "start_time": "2023-05-25T09:22:36.214Z"
   },
   {
    "duration": 7,
    "start_time": "2023-05-25T09:22:52.338Z"
   },
   {
    "duration": 8,
    "start_time": "2023-05-25T09:23:55.307Z"
   },
   {
    "duration": 7,
    "start_time": "2023-05-25T09:24:17.739Z"
   },
   {
    "duration": 412,
    "start_time": "2023-05-25T09:28:22.747Z"
   },
   {
    "duration": 3,
    "start_time": "2023-05-25T09:28:23.161Z"
   },
   {
    "duration": 59,
    "start_time": "2023-05-25T09:28:23.166Z"
   },
   {
    "duration": 9,
    "start_time": "2023-05-25T09:28:23.227Z"
   },
   {
    "duration": 13,
    "start_time": "2023-05-25T09:28:23.238Z"
   },
   {
    "duration": 4,
    "start_time": "2023-05-25T09:28:23.253Z"
   },
   {
    "duration": 5,
    "start_time": "2023-05-25T09:28:23.258Z"
   },
   {
    "duration": 14,
    "start_time": "2023-05-25T09:28:23.264Z"
   },
   {
    "duration": 67,
    "start_time": "2023-05-25T09:28:56.955Z"
   },
   {
    "duration": 4,
    "start_time": "2023-05-25T09:29:42.022Z"
   },
   {
    "duration": 10,
    "start_time": "2023-05-25T09:29:58.975Z"
   },
   {
    "duration": 647,
    "start_time": "2023-05-25T09:33:05.281Z"
   },
   {
    "duration": 301,
    "start_time": "2023-05-25T09:33:23.515Z"
   },
   {
    "duration": 322,
    "start_time": "2023-05-25T09:33:44.676Z"
   },
   {
    "duration": 314,
    "start_time": "2023-05-25T09:38:59.702Z"
   },
   {
    "duration": 317,
    "start_time": "2023-05-25T09:39:09.367Z"
   },
   {
    "duration": 25,
    "start_time": "2023-05-25T09:42:33.867Z"
   },
   {
    "duration": 8,
    "start_time": "2023-05-25T09:42:44.662Z"
   },
   {
    "duration": 9,
    "start_time": "2023-05-25T09:42:51.419Z"
   },
   {
    "duration": 504,
    "start_time": "2023-05-25T09:43:04.652Z"
   },
   {
    "duration": 42,
    "start_time": "2023-05-25T09:43:10.329Z"
   },
   {
    "duration": 8,
    "start_time": "2023-05-25T09:45:14.172Z"
   },
   {
    "duration": 1005,
    "start_time": "2023-05-25T09:45:22.885Z"
   },
   {
    "duration": 6,
    "start_time": "2023-05-25T09:46:00.070Z"
   },
   {
    "duration": 10,
    "start_time": "2023-05-25T09:46:12.667Z"
   },
   {
    "duration": 9,
    "start_time": "2023-05-25T09:46:42.275Z"
   },
   {
    "duration": 907,
    "start_time": "2023-05-25T09:46:46.570Z"
   },
   {
    "duration": 217,
    "start_time": "2023-05-25T09:47:05.821Z"
   },
   {
    "duration": 269,
    "start_time": "2023-05-25T09:47:46.885Z"
   },
   {
    "duration": 399,
    "start_time": "2023-05-25T09:48:09.281Z"
   },
   {
    "duration": 279,
    "start_time": "2023-05-25T09:48:47.952Z"
   },
   {
    "duration": 701,
    "start_time": "2023-05-25T10:03:56.458Z"
   },
   {
    "duration": 891,
    "start_time": "2023-05-25T10:04:25.314Z"
   },
   {
    "duration": 2,
    "start_time": "2023-05-25T10:04:26.208Z"
   },
   {
    "duration": 71,
    "start_time": "2023-05-25T10:04:26.212Z"
   },
   {
    "duration": 11,
    "start_time": "2023-05-25T10:04:26.285Z"
   },
   {
    "duration": 17,
    "start_time": "2023-05-25T10:04:26.298Z"
   },
   {
    "duration": 5,
    "start_time": "2023-05-25T10:04:26.317Z"
   },
   {
    "duration": 4,
    "start_time": "2023-05-25T10:04:26.324Z"
   },
   {
    "duration": 5,
    "start_time": "2023-05-25T10:04:26.351Z"
   },
   {
    "duration": 11,
    "start_time": "2023-05-25T10:04:26.358Z"
   },
   {
    "duration": 9,
    "start_time": "2023-05-25T10:04:26.373Z"
   },
   {
    "duration": 863,
    "start_time": "2023-05-25T10:04:26.384Z"
   },
   {
    "duration": 0,
    "start_time": "2023-05-25T10:04:27.249Z"
   },
   {
    "duration": 0,
    "start_time": "2023-05-25T10:04:27.252Z"
   },
   {
    "duration": 0,
    "start_time": "2023-05-25T10:04:27.253Z"
   },
   {
    "duration": 0,
    "start_time": "2023-05-25T10:04:27.254Z"
   },
   {
    "duration": 663,
    "start_time": "2023-05-25T10:05:37.965Z"
   },
   {
    "duration": 717,
    "start_time": "2023-05-25T10:05:47.387Z"
   },
   {
    "duration": 912,
    "start_time": "2023-05-25T10:06:30.621Z"
   },
   {
    "duration": 2,
    "start_time": "2023-05-25T10:06:31.536Z"
   },
   {
    "duration": 76,
    "start_time": "2023-05-25T10:06:31.540Z"
   },
   {
    "duration": 11,
    "start_time": "2023-05-25T10:06:31.618Z"
   },
   {
    "duration": 28,
    "start_time": "2023-05-25T10:06:31.630Z"
   },
   {
    "duration": 13,
    "start_time": "2023-05-25T10:06:31.660Z"
   },
   {
    "duration": 27,
    "start_time": "2023-05-25T10:06:31.674Z"
   },
   {
    "duration": 15,
    "start_time": "2023-05-25T10:06:31.704Z"
   },
   {
    "duration": 12,
    "start_time": "2023-05-25T10:06:31.722Z"
   },
   {
    "duration": 13,
    "start_time": "2023-05-25T10:06:31.737Z"
   },
   {
    "duration": 927,
    "start_time": "2023-05-25T10:06:31.752Z"
   },
   {
    "duration": 0,
    "start_time": "2023-05-25T10:06:32.681Z"
   },
   {
    "duration": 0,
    "start_time": "2023-05-25T10:06:32.683Z"
   },
   {
    "duration": 0,
    "start_time": "2023-05-25T10:06:32.685Z"
   },
   {
    "duration": 0,
    "start_time": "2023-05-25T10:06:32.688Z"
   },
   {
    "duration": 4,
    "start_time": "2023-05-25T10:06:54.753Z"
   },
   {
    "duration": 5,
    "start_time": "2023-05-25T10:07:35.276Z"
   },
   {
    "duration": 651,
    "start_time": "2023-05-25T10:07:39.145Z"
   },
   {
    "duration": 896,
    "start_time": "2023-05-25T10:08:06.005Z"
   },
   {
    "duration": 3,
    "start_time": "2023-05-25T10:08:06.904Z"
   },
   {
    "duration": 80,
    "start_time": "2023-05-25T10:08:06.909Z"
   },
   {
    "duration": 11,
    "start_time": "2023-05-25T10:08:06.992Z"
   },
   {
    "duration": 18,
    "start_time": "2023-05-25T10:08:07.005Z"
   },
   {
    "duration": 15,
    "start_time": "2023-05-25T10:08:07.024Z"
   },
   {
    "duration": 18,
    "start_time": "2023-05-25T10:08:07.041Z"
   },
   {
    "duration": 7,
    "start_time": "2023-05-25T10:08:07.060Z"
   },
   {
    "duration": 15,
    "start_time": "2023-05-25T10:08:07.069Z"
   },
   {
    "duration": 10,
    "start_time": "2023-05-25T10:08:07.087Z"
   },
   {
    "duration": 14,
    "start_time": "2023-05-25T10:08:07.099Z"
   },
   {
    "duration": 677,
    "start_time": "2023-05-25T10:08:07.115Z"
   },
   {
    "duration": 6,
    "start_time": "2023-05-25T10:08:07.794Z"
   },
   {
    "duration": 277,
    "start_time": "2023-05-25T10:08:07.802Z"
   },
   {
    "duration": 328,
    "start_time": "2023-05-25T10:08:08.081Z"
   },
   {
    "duration": 286,
    "start_time": "2023-05-25T10:08:08.411Z"
   },
   {
    "duration": 447,
    "start_time": "2023-05-25T10:11:52.823Z"
   },
   {
    "duration": 342,
    "start_time": "2023-05-25T10:12:14.375Z"
   },
   {
    "duration": 345,
    "start_time": "2023-05-25T10:12:22.563Z"
   },
   {
    "duration": 347,
    "start_time": "2023-05-25T10:53:10.550Z"
   },
   {
    "duration": 3,
    "start_time": "2023-05-25T10:53:12.055Z"
   },
   {
    "duration": 4,
    "start_time": "2023-05-25T10:54:22.660Z"
   },
   {
    "duration": 128,
    "start_time": "2023-05-25T10:54:29.883Z"
   },
   {
    "duration": 30,
    "start_time": "2023-05-25T10:54:36.835Z"
   },
   {
    "duration": 1290,
    "start_time": "2023-05-25T10:54:59.619Z"
   },
   {
    "duration": 3,
    "start_time": "2023-05-25T10:55:00.911Z"
   },
   {
    "duration": 141,
    "start_time": "2023-05-25T10:55:00.916Z"
   },
   {
    "duration": 14,
    "start_time": "2023-05-25T10:55:01.059Z"
   },
   {
    "duration": 80,
    "start_time": "2023-05-25T10:55:01.075Z"
   },
   {
    "duration": 60,
    "start_time": "2023-05-25T10:55:01.157Z"
   },
   {
    "duration": 71,
    "start_time": "2023-05-25T10:55:01.219Z"
   },
   {
    "duration": 49,
    "start_time": "2023-05-25T10:55:01.292Z"
   },
   {
    "duration": 76,
    "start_time": "2023-05-25T10:55:01.343Z"
   },
   {
    "duration": 64,
    "start_time": "2023-05-25T10:55:01.423Z"
   },
   {
    "duration": 44,
    "start_time": "2023-05-25T10:55:01.490Z"
   },
   {
    "duration": 772,
    "start_time": "2023-05-25T10:55:01.536Z"
   },
   {
    "duration": 8,
    "start_time": "2023-05-25T10:55:02.310Z"
   },
   {
    "duration": 309,
    "start_time": "2023-05-25T10:55:02.321Z"
   },
   {
    "duration": 428,
    "start_time": "2023-05-25T10:55:02.632Z"
   },
   {
    "duration": 318,
    "start_time": "2023-05-25T10:55:03.063Z"
   },
   {
    "duration": 5,
    "start_time": "2023-05-25T10:55:03.384Z"
   },
   {
    "duration": 44,
    "start_time": "2023-05-25T10:55:03.391Z"
   },
   {
    "duration": 126,
    "start_time": "2023-05-25T10:55:03.437Z"
   },
   {
    "duration": 0,
    "start_time": "2023-05-25T10:55:03.565Z"
   },
   {
    "duration": 31,
    "start_time": "2023-05-25T10:55:28.316Z"
   },
   {
    "duration": 14,
    "start_time": "2023-05-25T10:56:27.609Z"
   },
   {
    "duration": 4,
    "start_time": "2023-05-25T10:57:09.218Z"
   },
   {
    "duration": 9,
    "start_time": "2023-05-25T10:57:17.030Z"
   },
   {
    "duration": 4,
    "start_time": "2023-05-25T10:58:26.839Z"
   },
   {
    "duration": 11,
    "start_time": "2023-05-25T11:00:06.132Z"
   },
   {
    "duration": 4,
    "start_time": "2023-05-25T11:00:12.964Z"
   },
   {
    "duration": 3,
    "start_time": "2023-05-25T11:00:18.053Z"
   },
   {
    "duration": 10,
    "start_time": "2023-05-25T11:00:53.031Z"
   },
   {
    "duration": 6,
    "start_time": "2023-05-25T11:00:56.319Z"
   },
   {
    "duration": 3,
    "start_time": "2023-05-25T11:01:23.465Z"
   },
   {
    "duration": 26,
    "start_time": "2023-05-25T11:01:25.832Z"
   },
   {
    "duration": 4,
    "start_time": "2023-05-25T11:01:37.553Z"
   },
   {
    "duration": 55,
    "start_time": "2023-05-25T11:01:39.410Z"
   },
   {
    "duration": 1150,
    "start_time": "2023-05-25T11:02:41.414Z"
   },
   {
    "duration": 3,
    "start_time": "2023-05-25T11:02:42.566Z"
   },
   {
    "duration": 66,
    "start_time": "2023-05-25T11:02:42.570Z"
   },
   {
    "duration": 12,
    "start_time": "2023-05-25T11:02:42.638Z"
   },
   {
    "duration": 12,
    "start_time": "2023-05-25T11:02:42.652Z"
   },
   {
    "duration": 4,
    "start_time": "2023-05-25T11:02:42.666Z"
   },
   {
    "duration": 9,
    "start_time": "2023-05-25T11:02:42.671Z"
   },
   {
    "duration": 7,
    "start_time": "2023-05-25T11:02:42.682Z"
   },
   {
    "duration": 11,
    "start_time": "2023-05-25T11:02:42.690Z"
   },
   {
    "duration": 15,
    "start_time": "2023-05-25T11:02:42.703Z"
   },
   {
    "duration": 9,
    "start_time": "2023-05-25T11:02:42.720Z"
   },
   {
    "duration": 641,
    "start_time": "2023-05-25T11:02:42.751Z"
   },
   {
    "duration": 8,
    "start_time": "2023-05-25T11:02:43.393Z"
   },
   {
    "duration": 278,
    "start_time": "2023-05-25T11:02:43.402Z"
   },
   {
    "duration": 395,
    "start_time": "2023-05-25T11:02:43.681Z"
   },
   {
    "duration": 346,
    "start_time": "2023-05-25T11:02:44.079Z"
   },
   {
    "duration": 6,
    "start_time": "2023-05-25T11:02:44.427Z"
   },
   {
    "duration": 29,
    "start_time": "2023-05-25T11:02:44.435Z"
   },
   {
    "duration": 29,
    "start_time": "2023-05-25T11:02:44.465Z"
   },
   {
    "duration": 8,
    "start_time": "2023-05-25T11:02:44.496Z"
   },
   {
    "duration": 5,
    "start_time": "2023-05-25T11:02:44.506Z"
   },
   {
    "duration": 200,
    "start_time": "2023-05-25T11:02:44.513Z"
   },
   {
    "duration": 0,
    "start_time": "2023-05-25T11:02:44.715Z"
   },
   {
    "duration": 26,
    "start_time": "2023-05-25T11:03:06.673Z"
   },
   {
    "duration": 10,
    "start_time": "2023-05-25T11:03:09.699Z"
   },
   {
    "duration": 4,
    "start_time": "2023-05-25T11:03:13.346Z"
   },
   {
    "duration": 14207,
    "start_time": "2023-05-25T11:03:14.432Z"
   },
   {
    "duration": 4,
    "start_time": "2023-05-25T11:03:37.761Z"
   },
   {
    "duration": 14406,
    "start_time": "2023-05-25T11:03:41.098Z"
   },
   {
    "duration": 4,
    "start_time": "2023-05-25T11:04:05.042Z"
   },
   {
    "duration": 3,
    "start_time": "2023-05-25T11:04:38.093Z"
   },
   {
    "duration": 32769,
    "start_time": "2023-05-25T11:04:42.084Z"
   },
   {
    "duration": 4,
    "start_time": "2023-05-25T11:05:16.158Z"
   },
   {
    "duration": 26,
    "start_time": "2023-05-25T11:05:48.424Z"
   },
   {
    "duration": 5,
    "start_time": "2023-05-25T11:06:09.157Z"
   },
   {
    "duration": 4,
    "start_time": "2023-05-25T11:07:28.376Z"
   },
   {
    "duration": 5,
    "start_time": "2023-05-25T11:08:20.802Z"
   },
   {
    "duration": 16,
    "start_time": "2023-05-25T11:08:24.025Z"
   },
   {
    "duration": 1187,
    "start_time": "2023-05-25T11:08:33.000Z"
   },
   {
    "duration": 3,
    "start_time": "2023-05-25T11:08:34.191Z"
   },
   {
    "duration": 71,
    "start_time": "2023-05-25T11:08:34.196Z"
   },
   {
    "duration": 18,
    "start_time": "2023-05-25T11:08:34.269Z"
   },
   {
    "duration": 17,
    "start_time": "2023-05-25T11:08:34.290Z"
   },
   {
    "duration": 6,
    "start_time": "2023-05-25T11:08:34.309Z"
   },
   {
    "duration": 6,
    "start_time": "2023-05-25T11:08:34.317Z"
   },
   {
    "duration": 5,
    "start_time": "2023-05-25T11:08:34.351Z"
   },
   {
    "duration": 10,
    "start_time": "2023-05-25T11:08:34.359Z"
   },
   {
    "duration": 12,
    "start_time": "2023-05-25T11:08:34.372Z"
   },
   {
    "duration": 13,
    "start_time": "2023-05-25T11:08:34.386Z"
   },
   {
    "duration": 738,
    "start_time": "2023-05-25T11:08:34.402Z"
   },
   {
    "duration": 9,
    "start_time": "2023-05-25T11:08:35.142Z"
   },
   {
    "duration": 270,
    "start_time": "2023-05-25T11:08:35.154Z"
   },
   {
    "duration": 412,
    "start_time": "2023-05-25T11:08:35.427Z"
   },
   {
    "duration": 305,
    "start_time": "2023-05-25T11:08:35.841Z"
   },
   {
    "duration": 7,
    "start_time": "2023-05-25T11:08:36.150Z"
   },
   {
    "duration": 24,
    "start_time": "2023-05-25T11:08:36.159Z"
   },
   {
    "duration": 34,
    "start_time": "2023-05-25T11:08:36.185Z"
   },
   {
    "duration": 31,
    "start_time": "2023-05-25T11:08:36.221Z"
   },
   {
    "duration": 7,
    "start_time": "2023-05-25T11:08:36.253Z"
   },
   {
    "duration": 31994,
    "start_time": "2023-05-25T11:08:36.262Z"
   },
   {
    "duration": 5,
    "start_time": "2023-05-25T11:09:08.258Z"
   },
   {
    "duration": 24,
    "start_time": "2023-05-25T11:09:08.265Z"
   },
   {
    "duration": 1641,
    "start_time": "2023-05-26T10:05:34.678Z"
   },
   {
    "duration": 6,
    "start_time": "2023-05-26T10:05:36.326Z"
   },
   {
    "duration": 197,
    "start_time": "2023-05-26T10:05:36.338Z"
   },
   {
    "duration": 26,
    "start_time": "2023-05-26T10:05:36.539Z"
   },
   {
    "duration": 27,
    "start_time": "2023-05-26T10:05:36.568Z"
   },
   {
    "duration": 9,
    "start_time": "2023-05-26T10:05:36.597Z"
   },
   {
    "duration": 21,
    "start_time": "2023-05-26T10:05:36.608Z"
   },
   {
    "duration": 27,
    "start_time": "2023-05-26T10:05:36.632Z"
   },
   {
    "duration": 29,
    "start_time": "2023-05-26T10:05:36.662Z"
   },
   {
    "duration": 16,
    "start_time": "2023-05-26T10:05:36.695Z"
   },
   {
    "duration": 15,
    "start_time": "2023-05-26T10:05:36.714Z"
   },
   {
    "duration": 1046,
    "start_time": "2023-05-26T10:05:36.731Z"
   },
   {
    "duration": 10,
    "start_time": "2023-05-26T10:05:37.780Z"
   },
   {
    "duration": 469,
    "start_time": "2023-05-26T10:05:37.792Z"
   },
   {
    "duration": 435,
    "start_time": "2023-05-26T10:05:38.263Z"
   },
   {
    "duration": 370,
    "start_time": "2023-05-26T10:05:38.700Z"
   },
   {
    "duration": 6,
    "start_time": "2023-05-26T10:05:39.072Z"
   },
   {
    "duration": 24,
    "start_time": "2023-05-26T10:05:39.081Z"
   },
   {
    "duration": 75,
    "start_time": "2023-05-26T10:05:39.108Z"
   },
   {
    "duration": 19,
    "start_time": "2023-05-26T10:05:39.185Z"
   },
   {
    "duration": 5,
    "start_time": "2023-05-26T10:05:39.208Z"
   },
   {
    "duration": 33552,
    "start_time": "2023-05-26T10:05:39.214Z"
   },
   {
    "duration": 5,
    "start_time": "2023-05-26T10:06:12.768Z"
   },
   {
    "duration": 38,
    "start_time": "2023-05-26T10:06:12.775Z"
   },
   {
    "duration": 61,
    "start_time": "2023-05-26T10:06:12.816Z"
   },
   {
    "duration": 1683,
    "start_time": "2023-05-26T10:53:38.057Z"
   },
   {
    "duration": 3,
    "start_time": "2023-05-26T10:53:39.742Z"
   },
   {
    "duration": 75,
    "start_time": "2023-05-26T10:53:39.747Z"
   },
   {
    "duration": 21,
    "start_time": "2023-05-26T10:53:39.824Z"
   },
   {
    "duration": 26,
    "start_time": "2023-05-26T10:53:39.848Z"
   },
   {
    "duration": 7,
    "start_time": "2023-05-26T10:53:39.877Z"
   },
   {
    "duration": 17,
    "start_time": "2023-05-26T10:53:39.887Z"
   },
   {
    "duration": 7,
    "start_time": "2023-05-26T10:53:39.907Z"
   },
   {
    "duration": 46,
    "start_time": "2023-05-26T10:53:39.917Z"
   },
   {
    "duration": 15,
    "start_time": "2023-05-26T10:53:39.967Z"
   },
   {
    "duration": 16,
    "start_time": "2023-05-26T10:53:39.985Z"
   },
   {
    "duration": 662,
    "start_time": "2023-05-26T10:53:40.004Z"
   },
   {
    "duration": 16,
    "start_time": "2023-05-26T10:53:40.669Z"
   },
   {
    "duration": 430,
    "start_time": "2023-05-26T10:53:40.688Z"
   },
   {
    "duration": 371,
    "start_time": "2023-05-26T10:53:41.120Z"
   },
   {
    "duration": 350,
    "start_time": "2023-05-26T10:53:41.494Z"
   },
   {
    "duration": 11,
    "start_time": "2023-05-26T10:53:41.846Z"
   },
   {
    "duration": 77,
    "start_time": "2023-05-26T10:53:41.859Z"
   },
   {
    "duration": 27,
    "start_time": "2023-05-26T10:53:41.939Z"
   },
   {
    "duration": 5,
    "start_time": "2023-05-26T10:53:41.975Z"
   },
   {
    "duration": 37043,
    "start_time": "2023-05-26T10:53:41.983Z"
   },
   {
    "duration": 10,
    "start_time": "2023-05-26T10:54:19.028Z"
   },
   {
    "duration": 19,
    "start_time": "2023-05-26T10:54:19.040Z"
   },
   {
    "duration": 44688,
    "start_time": "2023-05-26T10:54:19.062Z"
   },
   {
    "duration": 17,
    "start_time": "2023-05-26T10:55:03.752Z"
   },
   {
    "duration": 58,
    "start_time": "2023-05-26T10:55:03.773Z"
   },
   {
    "duration": 0,
    "start_time": "2023-05-26T10:55:03.833Z"
   },
   {
    "duration": 0,
    "start_time": "2023-05-26T10:55:03.834Z"
   },
   {
    "duration": 0,
    "start_time": "2023-05-26T10:55:03.835Z"
   },
   {
    "duration": 0,
    "start_time": "2023-05-26T10:55:03.837Z"
   },
   {
    "duration": 7,
    "start_time": "2023-05-26T10:56:27.631Z"
   },
   {
    "duration": 163187,
    "start_time": "2023-05-26T10:56:30.586Z"
   },
   {
    "duration": 19,
    "start_time": "2023-05-26T10:59:58.843Z"
   },
   {
    "duration": 18,
    "start_time": "2023-05-26T11:00:08.102Z"
   },
   {
    "duration": 9,
    "start_time": "2023-05-26T11:02:41.955Z"
   },
   {
    "duration": 22,
    "start_time": "2023-05-26T11:02:54.489Z"
   },
   {
    "duration": 9,
    "start_time": "2023-05-26T11:04:36.347Z"
   },
   {
    "duration": 50,
    "start_time": "2023-05-26T11:05:07.852Z"
   },
   {
    "duration": 149651,
    "start_time": "2023-05-26T11:06:55.121Z"
   },
   {
    "duration": 5,
    "start_time": "2023-05-26T11:10:41.848Z"
   },
   {
    "duration": 5,
    "start_time": "2023-05-26T11:10:55.192Z"
   },
   {
    "duration": 142295,
    "start_time": "2023-05-26T11:11:00.170Z"
   },
   {
    "duration": 4,
    "start_time": "2023-05-26T11:14:34.414Z"
   },
   {
    "duration": 1641,
    "start_time": "2023-05-26T11:52:48.081Z"
   },
   {
    "duration": 4,
    "start_time": "2023-05-26T11:52:49.725Z"
   },
   {
    "duration": 117,
    "start_time": "2023-05-26T11:52:49.731Z"
   },
   {
    "duration": 26,
    "start_time": "2023-05-26T11:52:49.851Z"
   },
   {
    "duration": 28,
    "start_time": "2023-05-26T11:52:49.880Z"
   },
   {
    "duration": 23,
    "start_time": "2023-05-26T11:52:49.910Z"
   },
   {
    "duration": 42,
    "start_time": "2023-05-26T11:52:49.935Z"
   },
   {
    "duration": 5,
    "start_time": "2023-05-26T11:52:49.979Z"
   },
   {
    "duration": 24,
    "start_time": "2023-05-26T11:52:49.986Z"
   },
   {
    "duration": 54,
    "start_time": "2023-05-26T11:52:50.014Z"
   },
   {
    "duration": 35,
    "start_time": "2023-05-26T11:52:50.070Z"
   },
   {
    "duration": 598,
    "start_time": "2023-05-26T11:52:50.107Z"
   },
   {
    "duration": 7,
    "start_time": "2023-05-26T11:52:50.708Z"
   },
   {
    "duration": 393,
    "start_time": "2023-05-26T11:52:50.717Z"
   },
   {
    "duration": 361,
    "start_time": "2023-05-26T11:52:51.112Z"
   },
   {
    "duration": 319,
    "start_time": "2023-05-26T11:52:51.474Z"
   },
   {
    "duration": 5,
    "start_time": "2023-05-26T11:52:51.795Z"
   },
   {
    "duration": 65,
    "start_time": "2023-05-26T11:52:51.802Z"
   },
   {
    "duration": 11,
    "start_time": "2023-05-26T11:52:51.877Z"
   },
   {
    "duration": 9,
    "start_time": "2023-05-26T11:52:51.889Z"
   },
   {
    "duration": 38470,
    "start_time": "2023-05-26T11:52:51.900Z"
   },
   {
    "duration": 11,
    "start_time": "2023-05-26T11:53:30.372Z"
   },
   {
    "duration": 46,
    "start_time": "2023-05-26T11:53:30.386Z"
   },
   {
    "duration": 52108,
    "start_time": "2023-05-26T11:53:30.434Z"
   },
   {
    "duration": 19,
    "start_time": "2023-05-26T11:54:22.545Z"
   },
   {
    "duration": 6,
    "start_time": "2023-05-26T11:54:22.567Z"
   },
   {
    "duration": 160477,
    "start_time": "2023-05-26T11:54:22.588Z"
   },
   {
    "duration": 19,
    "start_time": "2023-05-26T11:57:03.072Z"
   },
   {
    "duration": 41,
    "start_time": "2023-05-26T11:57:03.094Z"
   },
   {
    "duration": 61,
    "start_time": "2023-05-26T11:57:03.138Z"
   },
   {
    "duration": 90,
    "start_time": "2023-05-26T11:57:03.204Z"
   },
   {
    "duration": 47,
    "start_time": "2023-05-27T08:02:10.090Z"
   },
   {
    "duration": 1567,
    "start_time": "2023-05-27T08:02:15.391Z"
   },
   {
    "duration": 4,
    "start_time": "2023-05-27T08:02:25.818Z"
   },
   {
    "duration": 107,
    "start_time": "2023-05-27T08:16:51.167Z"
   },
   {
    "duration": 1536,
    "start_time": "2023-05-27T08:18:35.182Z"
   },
   {
    "duration": 3,
    "start_time": "2023-05-27T08:18:36.720Z"
   },
   {
    "duration": 172,
    "start_time": "2023-05-27T08:18:36.725Z"
   },
   {
    "duration": 11,
    "start_time": "2023-05-27T08:18:36.900Z"
   },
   {
    "duration": 21,
    "start_time": "2023-05-27T08:18:36.912Z"
   },
   {
    "duration": 11,
    "start_time": "2023-05-27T08:18:36.935Z"
   },
   {
    "duration": 40,
    "start_time": "2023-05-27T08:18:36.948Z"
   },
   {
    "duration": 18,
    "start_time": "2023-05-27T08:18:36.991Z"
   },
   {
    "duration": 14,
    "start_time": "2023-05-27T08:18:37.011Z"
   },
   {
    "duration": 21,
    "start_time": "2023-05-27T08:18:37.028Z"
   },
   {
    "duration": 731,
    "start_time": "2023-05-27T08:18:37.050Z"
   },
   {
    "duration": 9,
    "start_time": "2023-05-27T08:18:37.786Z"
   },
   {
    "duration": 823,
    "start_time": "2023-05-27T08:18:37.797Z"
   },
   {
    "duration": 859,
    "start_time": "2023-05-27T08:18:38.623Z"
   },
   {
    "duration": 632,
    "start_time": "2023-05-27T08:18:39.485Z"
   },
   {
    "duration": 60,
    "start_time": "2023-05-27T08:18:40.119Z"
   },
   {
    "duration": 100,
    "start_time": "2023-05-27T08:18:40.181Z"
   },
   {
    "duration": 16,
    "start_time": "2023-05-27T08:18:40.284Z"
   },
   {
    "duration": 6,
    "start_time": "2023-05-27T08:18:40.303Z"
   },
   {
    "duration": 30141,
    "start_time": "2023-05-27T08:18:40.311Z"
   },
   {
    "duration": 0,
    "start_time": "2023-05-27T08:19:10.454Z"
   },
   {
    "duration": 0,
    "start_time": "2023-05-27T08:19:10.455Z"
   },
   {
    "duration": 0,
    "start_time": "2023-05-27T08:19:10.456Z"
   },
   {
    "duration": 0,
    "start_time": "2023-05-27T08:19:10.457Z"
   },
   {
    "duration": 0,
    "start_time": "2023-05-27T08:19:10.459Z"
   },
   {
    "duration": 0,
    "start_time": "2023-05-27T08:19:10.460Z"
   },
   {
    "duration": 0,
    "start_time": "2023-05-27T08:19:10.461Z"
   },
   {
    "duration": 0,
    "start_time": "2023-05-27T08:19:10.462Z"
   },
   {
    "duration": 0,
    "start_time": "2023-05-27T08:19:10.463Z"
   },
   {
    "duration": 0,
    "start_time": "2023-05-27T08:19:10.484Z"
   },
   {
    "duration": 27,
    "start_time": "2023-05-27T08:23:31.025Z"
   },
   {
    "duration": 1585,
    "start_time": "2023-05-27T08:24:06.354Z"
   },
   {
    "duration": 3,
    "start_time": "2023-05-27T08:24:07.941Z"
   },
   {
    "duration": 95,
    "start_time": "2023-05-27T08:24:07.946Z"
   },
   {
    "duration": 10,
    "start_time": "2023-05-27T08:24:08.044Z"
   },
   {
    "duration": 55,
    "start_time": "2023-05-27T08:24:08.055Z"
   },
   {
    "duration": 41,
    "start_time": "2023-05-27T08:24:08.112Z"
   },
   {
    "duration": 59,
    "start_time": "2023-05-27T08:24:08.155Z"
   },
   {
    "duration": 6,
    "start_time": "2023-05-27T08:24:08.216Z"
   },
   {
    "duration": 435,
    "start_time": "2023-05-27T08:24:08.224Z"
   },
   {
    "duration": 8,
    "start_time": "2023-05-27T08:24:08.663Z"
   },
   {
    "duration": 377,
    "start_time": "2023-05-27T08:24:08.672Z"
   },
   {
    "duration": 372,
    "start_time": "2023-05-27T08:24:09.051Z"
   },
   {
    "duration": 690,
    "start_time": "2023-05-27T08:24:09.424Z"
   },
   {
    "duration": 7,
    "start_time": "2023-05-27T08:24:10.116Z"
   },
   {
    "duration": 72,
    "start_time": "2023-05-27T08:24:10.125Z"
   },
   {
    "duration": 0,
    "start_time": "2023-05-27T08:24:10.199Z"
   },
   {
    "duration": 0,
    "start_time": "2023-05-27T08:24:10.200Z"
   },
   {
    "duration": 0,
    "start_time": "2023-05-27T08:24:10.202Z"
   },
   {
    "duration": 0,
    "start_time": "2023-05-27T08:24:10.207Z"
   },
   {
    "duration": 0,
    "start_time": "2023-05-27T08:24:10.209Z"
   },
   {
    "duration": 0,
    "start_time": "2023-05-27T08:24:10.210Z"
   },
   {
    "duration": 0,
    "start_time": "2023-05-27T08:24:10.211Z"
   },
   {
    "duration": 0,
    "start_time": "2023-05-27T08:24:10.213Z"
   },
   {
    "duration": 0,
    "start_time": "2023-05-27T08:24:10.214Z"
   },
   {
    "duration": 0,
    "start_time": "2023-05-27T08:24:10.216Z"
   },
   {
    "duration": 0,
    "start_time": "2023-05-27T08:24:10.217Z"
   },
   {
    "duration": 0,
    "start_time": "2023-05-27T08:24:10.219Z"
   },
   {
    "duration": 0,
    "start_time": "2023-05-27T08:24:10.220Z"
   },
   {
    "duration": 349,
    "start_time": "2023-05-27T08:25:52.612Z"
   },
   {
    "duration": 382,
    "start_time": "2023-05-27T08:32:59.308Z"
   },
   {
    "duration": 478,
    "start_time": "2023-05-27T08:34:01.952Z"
   },
   {
    "duration": 10,
    "start_time": "2023-05-27T08:53:28.246Z"
   },
   {
    "duration": 10,
    "start_time": "2023-05-27T08:54:03.406Z"
   },
   {
    "duration": 4,
    "start_time": "2023-05-27T08:54:08.394Z"
   },
   {
    "duration": 5,
    "start_time": "2023-05-27T08:55:00.989Z"
   },
   {
    "duration": 5,
    "start_time": "2023-05-27T08:55:06.906Z"
   },
   {
    "duration": 6,
    "start_time": "2023-05-27T08:55:30.360Z"
   },
   {
    "duration": 301,
    "start_time": "2023-05-27T08:55:37.285Z"
   },
   {
    "duration": 32,
    "start_time": "2023-05-27T08:58:36.218Z"
   },
   {
    "duration": 47,
    "start_time": "2023-05-27T08:59:09.043Z"
   },
   {
    "duration": 11,
    "start_time": "2023-05-27T08:59:19.205Z"
   },
   {
    "duration": 10,
    "start_time": "2023-05-27T08:59:34.798Z"
   },
   {
    "duration": 9,
    "start_time": "2023-05-27T08:59:56.597Z"
   },
   {
    "duration": 11,
    "start_time": "2023-05-27T09:00:15.793Z"
   },
   {
    "duration": 3,
    "start_time": "2023-05-27T09:00:58.342Z"
   },
   {
    "duration": 4,
    "start_time": "2023-05-27T09:01:12.555Z"
   },
   {
    "duration": 9,
    "start_time": "2023-05-27T09:01:18.085Z"
   },
   {
    "duration": 1346,
    "start_time": "2023-05-27T09:01:40.198Z"
   },
   {
    "duration": 3,
    "start_time": "2023-05-27T09:01:41.546Z"
   },
   {
    "duration": 58,
    "start_time": "2023-05-27T09:01:41.550Z"
   },
   {
    "duration": 11,
    "start_time": "2023-05-27T09:01:41.610Z"
   },
   {
    "duration": 13,
    "start_time": "2023-05-27T09:01:41.624Z"
   },
   {
    "duration": 5,
    "start_time": "2023-05-27T09:01:41.639Z"
   },
   {
    "duration": 36,
    "start_time": "2023-05-27T09:01:41.645Z"
   },
   {
    "duration": 389,
    "start_time": "2023-05-27T09:01:41.682Z"
   },
   {
    "duration": 7,
    "start_time": "2023-05-27T09:01:42.072Z"
   },
   {
    "duration": 302,
    "start_time": "2023-05-27T09:01:42.080Z"
   },
   {
    "duration": 27,
    "start_time": "2023-05-27T09:01:42.384Z"
   },
   {
    "duration": 45,
    "start_time": "2023-05-27T09:01:42.413Z"
   },
   {
    "duration": 0,
    "start_time": "2023-05-27T09:01:42.460Z"
   },
   {
    "duration": 0,
    "start_time": "2023-05-27T09:01:42.461Z"
   },
   {
    "duration": 0,
    "start_time": "2023-05-27T09:01:42.462Z"
   },
   {
    "duration": 0,
    "start_time": "2023-05-27T09:01:42.463Z"
   },
   {
    "duration": 0,
    "start_time": "2023-05-27T09:01:42.464Z"
   },
   {
    "duration": 0,
    "start_time": "2023-05-27T09:01:42.465Z"
   },
   {
    "duration": 0,
    "start_time": "2023-05-27T09:01:42.466Z"
   },
   {
    "duration": 0,
    "start_time": "2023-05-27T09:01:42.467Z"
   },
   {
    "duration": 0,
    "start_time": "2023-05-27T09:01:42.468Z"
   },
   {
    "duration": 0,
    "start_time": "2023-05-27T09:01:42.469Z"
   },
   {
    "duration": 0,
    "start_time": "2023-05-27T09:01:42.470Z"
   },
   {
    "duration": 0,
    "start_time": "2023-05-27T09:01:42.471Z"
   },
   {
    "duration": 0,
    "start_time": "2023-05-27T09:01:42.472Z"
   },
   {
    "duration": 0,
    "start_time": "2023-05-27T09:01:42.473Z"
   },
   {
    "duration": 0,
    "start_time": "2023-05-27T09:01:42.474Z"
   },
   {
    "duration": 0,
    "start_time": "2023-05-27T09:01:42.475Z"
   },
   {
    "duration": 112,
    "start_time": "2023-05-27T09:02:57.791Z"
   },
   {
    "duration": 1372,
    "start_time": "2023-05-27T09:03:22.806Z"
   },
   {
    "duration": 3,
    "start_time": "2023-05-27T09:03:24.180Z"
   },
   {
    "duration": 65,
    "start_time": "2023-05-27T09:03:24.184Z"
   },
   {
    "duration": 10,
    "start_time": "2023-05-27T09:03:24.250Z"
   },
   {
    "duration": 20,
    "start_time": "2023-05-27T09:03:24.263Z"
   },
   {
    "duration": 6,
    "start_time": "2023-05-27T09:03:24.285Z"
   },
   {
    "duration": 14,
    "start_time": "2023-05-27T09:03:24.292Z"
   },
   {
    "duration": 403,
    "start_time": "2023-05-27T09:03:24.308Z"
   },
   {
    "duration": 7,
    "start_time": "2023-05-27T09:03:24.712Z"
   },
   {
    "duration": 311,
    "start_time": "2023-05-27T09:03:24.720Z"
   },
   {
    "duration": 28,
    "start_time": "2023-05-27T09:03:25.033Z"
   },
   {
    "duration": 65,
    "start_time": "2023-05-27T09:03:25.063Z"
   },
   {
    "duration": 0,
    "start_time": "2023-05-27T09:03:25.130Z"
   },
   {
    "duration": 0,
    "start_time": "2023-05-27T09:03:25.131Z"
   },
   {
    "duration": 0,
    "start_time": "2023-05-27T09:03:25.132Z"
   },
   {
    "duration": 0,
    "start_time": "2023-05-27T09:03:25.133Z"
   },
   {
    "duration": 0,
    "start_time": "2023-05-27T09:03:25.134Z"
   },
   {
    "duration": 0,
    "start_time": "2023-05-27T09:03:25.135Z"
   },
   {
    "duration": 0,
    "start_time": "2023-05-27T09:03:25.136Z"
   },
   {
    "duration": 0,
    "start_time": "2023-05-27T09:03:25.137Z"
   },
   {
    "duration": 0,
    "start_time": "2023-05-27T09:03:25.138Z"
   },
   {
    "duration": 0,
    "start_time": "2023-05-27T09:03:25.138Z"
   },
   {
    "duration": 0,
    "start_time": "2023-05-27T09:03:25.139Z"
   },
   {
    "duration": 0,
    "start_time": "2023-05-27T09:03:25.140Z"
   },
   {
    "duration": 0,
    "start_time": "2023-05-27T09:03:25.141Z"
   },
   {
    "duration": 0,
    "start_time": "2023-05-27T09:03:25.142Z"
   },
   {
    "duration": 0,
    "start_time": "2023-05-27T09:03:25.143Z"
   },
   {
    "duration": 0,
    "start_time": "2023-05-27T09:03:25.144Z"
   },
   {
    "duration": 8,
    "start_time": "2023-05-27T09:03:36.173Z"
   },
   {
    "duration": 5,
    "start_time": "2023-05-27T09:04:03.105Z"
   },
   {
    "duration": 118,
    "start_time": "2023-05-27T09:04:51.989Z"
   },
   {
    "duration": 19,
    "start_time": "2023-05-27T09:11:25.360Z"
   },
   {
    "duration": 39,
    "start_time": "2023-05-27T09:12:00.789Z"
   },
   {
    "duration": 30,
    "start_time": "2023-05-27T09:12:14.694Z"
   },
   {
    "duration": 16,
    "start_time": "2023-05-27T09:12:33.927Z"
   },
   {
    "duration": 4,
    "start_time": "2023-05-27T09:15:28.492Z"
   },
   {
    "duration": 10,
    "start_time": "2023-05-27T09:16:39.115Z"
   },
   {
    "duration": 5,
    "start_time": "2023-05-27T09:16:46.640Z"
   },
   {
    "duration": 3,
    "start_time": "2023-05-27T09:17:23.707Z"
   },
   {
    "duration": 8,
    "start_time": "2023-05-27T09:18:17.395Z"
   },
   {
    "duration": 5,
    "start_time": "2023-05-27T09:19:31.941Z"
   },
   {
    "duration": 249,
    "start_time": "2023-05-27T09:20:35.994Z"
   },
   {
    "duration": 158,
    "start_time": "2023-05-27T09:22:12.211Z"
   },
   {
    "duration": 178,
    "start_time": "2023-05-27T09:22:41.385Z"
   },
   {
    "duration": 162,
    "start_time": "2023-05-27T09:30:20.063Z"
   },
   {
    "duration": 10,
    "start_time": "2023-05-27T09:47:10.113Z"
   },
   {
    "duration": 22,
    "start_time": "2023-05-27T09:47:37.095Z"
   },
   {
    "duration": 10,
    "start_time": "2023-05-27T09:48:14.690Z"
   },
   {
    "duration": 8,
    "start_time": "2023-05-27T09:48:20.757Z"
   },
   {
    "duration": 9,
    "start_time": "2023-05-27T09:48:32.989Z"
   },
   {
    "duration": 20,
    "start_time": "2023-05-27T09:49:20.853Z"
   },
   {
    "duration": 12,
    "start_time": "2023-05-27T09:50:29.356Z"
   },
   {
    "duration": 200,
    "start_time": "2023-05-27T09:50:32.182Z"
   },
   {
    "duration": 247,
    "start_time": "2023-05-27T09:51:00.321Z"
   },
   {
    "duration": 214,
    "start_time": "2023-05-27T09:52:43.886Z"
   },
   {
    "duration": 749,
    "start_time": "2023-05-27T09:59:22.202Z"
   },
   {
    "duration": 13,
    "start_time": "2023-05-27T09:59:46.750Z"
   },
   {
    "duration": 18,
    "start_time": "2023-05-27T10:03:03.505Z"
   },
   {
    "duration": 1398,
    "start_time": "2023-05-27T10:03:24.476Z"
   },
   {
    "duration": 2,
    "start_time": "2023-05-27T10:03:25.876Z"
   },
   {
    "duration": 55,
    "start_time": "2023-05-27T10:03:25.880Z"
   },
   {
    "duration": 10,
    "start_time": "2023-05-27T10:03:25.936Z"
   },
   {
    "duration": 12,
    "start_time": "2023-05-27T10:03:25.947Z"
   },
   {
    "duration": 4,
    "start_time": "2023-05-27T10:03:25.960Z"
   },
   {
    "duration": 16,
    "start_time": "2023-05-27T10:03:25.965Z"
   },
   {
    "duration": 424,
    "start_time": "2023-05-27T10:03:25.983Z"
   },
   {
    "duration": 7,
    "start_time": "2023-05-27T10:03:26.408Z"
   },
   {
    "duration": 702,
    "start_time": "2023-05-27T10:03:26.417Z"
   },
   {
    "duration": 67,
    "start_time": "2023-05-27T10:03:27.121Z"
   },
   {
    "duration": 3,
    "start_time": "2023-05-27T10:03:27.190Z"
   },
   {
    "duration": 7,
    "start_time": "2023-05-27T10:03:27.195Z"
   },
   {
    "duration": 506,
    "start_time": "2023-05-27T10:03:27.205Z"
   },
   {
    "duration": 552,
    "start_time": "2023-05-27T10:03:27.712Z"
   },
   {
    "duration": 0,
    "start_time": "2023-05-27T10:03:28.265Z"
   },
   {
    "duration": 0,
    "start_time": "2023-05-27T10:03:28.266Z"
   },
   {
    "duration": 0,
    "start_time": "2023-05-27T10:03:28.267Z"
   },
   {
    "duration": 0,
    "start_time": "2023-05-27T10:03:28.268Z"
   },
   {
    "duration": 0,
    "start_time": "2023-05-27T10:03:28.277Z"
   },
   {
    "duration": 0,
    "start_time": "2023-05-27T10:03:28.278Z"
   },
   {
    "duration": 0,
    "start_time": "2023-05-27T10:03:28.279Z"
   },
   {
    "duration": 0,
    "start_time": "2023-05-27T10:03:28.280Z"
   },
   {
    "duration": 0,
    "start_time": "2023-05-27T10:03:28.281Z"
   },
   {
    "duration": 0,
    "start_time": "2023-05-27T10:03:28.282Z"
   },
   {
    "duration": 0,
    "start_time": "2023-05-27T10:03:28.284Z"
   },
   {
    "duration": 0,
    "start_time": "2023-05-27T10:03:28.285Z"
   },
   {
    "duration": 0,
    "start_time": "2023-05-27T10:03:28.286Z"
   },
   {
    "duration": 0,
    "start_time": "2023-05-27T10:03:28.287Z"
   },
   {
    "duration": 0,
    "start_time": "2023-05-27T10:03:28.287Z"
   },
   {
    "duration": 0,
    "start_time": "2023-05-27T10:03:28.288Z"
   },
   {
    "duration": 0,
    "start_time": "2023-05-27T10:03:28.289Z"
   },
   {
    "duration": 0,
    "start_time": "2023-05-27T10:03:28.290Z"
   },
   {
    "duration": 16,
    "start_time": "2023-05-27T10:04:02.606Z"
   },
   {
    "duration": 8,
    "start_time": "2023-05-27T10:04:09.629Z"
   },
   {
    "duration": 174,
    "start_time": "2023-05-27T10:04:24.706Z"
   },
   {
    "duration": 12,
    "start_time": "2023-05-27T10:07:35.196Z"
   },
   {
    "duration": 212,
    "start_time": "2023-05-27T10:07:36.761Z"
   },
   {
    "duration": 142,
    "start_time": "2023-05-27T10:09:34.405Z"
   },
   {
    "duration": 145,
    "start_time": "2023-05-27T10:09:42.336Z"
   },
   {
    "duration": 117,
    "start_time": "2023-05-27T10:09:53.899Z"
   },
   {
    "duration": 131,
    "start_time": "2023-05-27T10:15:25.688Z"
   },
   {
    "duration": 3,
    "start_time": "2023-05-27T10:15:49.702Z"
   },
   {
    "duration": 141,
    "start_time": "2023-05-27T10:15:57.959Z"
   },
   {
    "duration": 219,
    "start_time": "2023-05-27T10:16:27.946Z"
   },
   {
    "duration": 150,
    "start_time": "2023-05-27T10:17:08.301Z"
   },
   {
    "duration": 135,
    "start_time": "2023-05-27T10:17:32.495Z"
   },
   {
    "duration": 144,
    "start_time": "2023-05-27T10:17:50.191Z"
   },
   {
    "duration": 145,
    "start_time": "2023-05-27T10:18:11.717Z"
   },
   {
    "duration": 159,
    "start_time": "2023-05-27T10:18:40.222Z"
   },
   {
    "duration": 167,
    "start_time": "2023-05-27T10:19:24.538Z"
   },
   {
    "duration": 162,
    "start_time": "2023-05-27T10:19:35.922Z"
   },
   {
    "duration": 142,
    "start_time": "2023-05-27T10:20:29.049Z"
   },
   {
    "duration": 153,
    "start_time": "2023-05-27T10:20:44.595Z"
   },
   {
    "duration": 155,
    "start_time": "2023-05-27T10:21:27.891Z"
   },
   {
    "duration": 185,
    "start_time": "2023-05-27T10:21:34.758Z"
   },
   {
    "duration": 151,
    "start_time": "2023-05-27T10:21:58.498Z"
   },
   {
    "duration": 152,
    "start_time": "2023-05-27T10:23:33.211Z"
   },
   {
    "duration": 150,
    "start_time": "2023-05-27T10:24:07.793Z"
   },
   {
    "duration": 165,
    "start_time": "2023-05-27T10:24:27.035Z"
   },
   {
    "duration": 149,
    "start_time": "2023-05-27T10:24:48.996Z"
   },
   {
    "duration": 147,
    "start_time": "2023-05-27T10:25:40.063Z"
   },
   {
    "duration": 158,
    "start_time": "2023-05-27T10:25:51.658Z"
   },
   {
    "duration": 249,
    "start_time": "2023-05-27T10:26:02.991Z"
   },
   {
    "duration": 156,
    "start_time": "2023-05-27T10:27:03.428Z"
   },
   {
    "duration": 136,
    "start_time": "2023-05-27T10:27:12.108Z"
   },
   {
    "duration": 130,
    "start_time": "2023-05-27T10:27:19.931Z"
   },
   {
    "duration": 500,
    "start_time": "2023-05-27T10:31:10.505Z"
   },
   {
    "duration": 58,
    "start_time": "2023-05-27T10:41:12.682Z"
   },
   {
    "duration": 525,
    "start_time": "2023-05-27T10:41:23.340Z"
   },
   {
    "duration": 500,
    "start_time": "2023-05-27T10:41:40.240Z"
   },
   {
    "duration": 4,
    "start_time": "2023-05-27T10:42:09.250Z"
   },
   {
    "duration": 5,
    "start_time": "2023-05-27T10:42:36.511Z"
   },
   {
    "duration": 478,
    "start_time": "2023-05-27T10:43:31.348Z"
   },
   {
    "duration": 906,
    "start_time": "2023-05-27T10:44:04.373Z"
   },
   {
    "duration": 1295,
    "start_time": "2023-05-27T10:44:56.940Z"
   },
   {
    "duration": 632,
    "start_time": "2023-05-27T10:45:21.393Z"
   },
   {
    "duration": 746,
    "start_time": "2023-05-27T10:45:25.339Z"
   },
   {
    "duration": 1335,
    "start_time": "2023-05-27T10:45:38.610Z"
   },
   {
    "duration": 691,
    "start_time": "2023-05-27T10:46:15.861Z"
   },
   {
    "duration": 724,
    "start_time": "2023-05-27T10:46:26.693Z"
   },
   {
    "duration": 738,
    "start_time": "2023-05-27T10:47:31.240Z"
   },
   {
    "duration": 889,
    "start_time": "2023-05-27T10:47:52.139Z"
   },
   {
    "duration": 705,
    "start_time": "2023-05-27T10:50:02.248Z"
   },
   {
    "duration": 689,
    "start_time": "2023-05-27T10:50:19.985Z"
   },
   {
    "duration": 683,
    "start_time": "2023-05-27T10:50:43.315Z"
   },
   {
    "duration": 666,
    "start_time": "2023-05-27T10:51:42.543Z"
   },
   {
    "duration": 840,
    "start_time": "2023-05-27T10:51:49.080Z"
   },
   {
    "duration": 692,
    "start_time": "2023-05-27T10:51:58.191Z"
   },
   {
    "duration": 666,
    "start_time": "2023-05-27T10:52:23.392Z"
   },
   {
    "duration": 745,
    "start_time": "2023-05-27T10:52:35.103Z"
   },
   {
    "duration": 801,
    "start_time": "2023-05-27T10:52:39.439Z"
   },
   {
    "duration": 727,
    "start_time": "2023-05-27T10:52:46.721Z"
   },
   {
    "duration": 675,
    "start_time": "2023-05-27T10:52:54.995Z"
   },
   {
    "duration": 674,
    "start_time": "2023-05-27T10:52:59.192Z"
   },
   {
    "duration": 201,
    "start_time": "2023-05-27T11:08:48.142Z"
   },
   {
    "duration": 188,
    "start_time": "2023-05-27T11:08:53.306Z"
   },
   {
    "duration": 196,
    "start_time": "2023-05-27T11:09:01.494Z"
   },
   {
    "duration": 298,
    "start_time": "2023-05-27T11:09:35.444Z"
   },
   {
    "duration": 177,
    "start_time": "2023-05-27T11:09:59.158Z"
   },
   {
    "duration": 694,
    "start_time": "2023-05-27T11:18:49.689Z"
   },
   {
    "duration": 49,
    "start_time": "2023-05-27T11:28:18.086Z"
   },
   {
    "duration": 583,
    "start_time": "2023-05-27T11:28:57.022Z"
   },
   {
    "duration": 617,
    "start_time": "2023-05-27T11:31:23.209Z"
   },
   {
    "duration": 5,
    "start_time": "2023-05-27T11:32:26.496Z"
   },
   {
    "duration": 4,
    "start_time": "2023-05-27T11:33:00.700Z"
   },
   {
    "duration": 1343,
    "start_time": "2023-05-27T11:33:35.102Z"
   },
   {
    "duration": 678,
    "start_time": "2023-05-27T11:34:24.690Z"
   },
   {
    "duration": 1114,
    "start_time": "2023-05-27T11:34:42.784Z"
   },
   {
    "duration": 685,
    "start_time": "2023-05-27T11:38:23.897Z"
   },
   {
    "duration": 1341,
    "start_time": "2023-05-27T11:38:36.043Z"
   },
   {
    "duration": 1452,
    "start_time": "2023-05-27T11:42:30.674Z"
   },
   {
    "duration": 1286,
    "start_time": "2023-05-27T11:43:56.686Z"
   },
   {
    "duration": 901,
    "start_time": "2023-05-27T11:44:14.693Z"
   },
   {
    "duration": 1281,
    "start_time": "2023-05-27T11:44:38.924Z"
   },
   {
    "duration": 4,
    "start_time": "2023-05-27T12:17:48.222Z"
   },
   {
    "duration": 10,
    "start_time": "2023-05-27T12:17:54.773Z"
   },
   {
    "duration": 4,
    "start_time": "2023-05-27T12:19:03.975Z"
   },
   {
    "duration": 41,
    "start_time": "2023-05-27T12:19:05.680Z"
   },
   {
    "duration": 169,
    "start_time": "2023-05-27T12:19:20.702Z"
   },
   {
    "duration": 3,
    "start_time": "2023-05-27T12:19:23.331Z"
   },
   {
    "duration": 32181,
    "start_time": "2023-05-27T12:19:25.174Z"
   },
   {
    "duration": 1320,
    "start_time": "2023-05-27T12:21:12.092Z"
   },
   {
    "duration": 2,
    "start_time": "2023-05-27T12:21:13.413Z"
   },
   {
    "duration": 55,
    "start_time": "2023-05-27T12:21:13.418Z"
   },
   {
    "duration": 19,
    "start_time": "2023-05-27T12:21:13.475Z"
   },
   {
    "duration": 13,
    "start_time": "2023-05-27T12:21:13.496Z"
   },
   {
    "duration": 4,
    "start_time": "2023-05-27T12:21:13.511Z"
   },
   {
    "duration": 17,
    "start_time": "2023-05-27T12:21:13.517Z"
   },
   {
    "duration": 323,
    "start_time": "2023-05-27T12:21:13.535Z"
   },
   {
    "duration": 6,
    "start_time": "2023-05-27T12:21:13.861Z"
   },
   {
    "duration": 300,
    "start_time": "2023-05-27T12:21:13.869Z"
   },
   {
    "duration": 671,
    "start_time": "2023-05-27T12:21:14.177Z"
   },
   {
    "duration": 568,
    "start_time": "2023-05-27T12:21:14.849Z"
   },
   {
    "duration": 0,
    "start_time": "2023-05-27T12:21:15.418Z"
   },
   {
    "duration": 0,
    "start_time": "2023-05-27T12:21:15.420Z"
   },
   {
    "duration": 0,
    "start_time": "2023-05-27T12:21:15.421Z"
   },
   {
    "duration": 0,
    "start_time": "2023-05-27T12:21:15.422Z"
   },
   {
    "duration": 0,
    "start_time": "2023-05-27T12:21:15.423Z"
   },
   {
    "duration": 0,
    "start_time": "2023-05-27T12:21:15.424Z"
   },
   {
    "duration": 0,
    "start_time": "2023-05-27T12:21:15.425Z"
   },
   {
    "duration": 0,
    "start_time": "2023-05-27T12:21:15.426Z"
   },
   {
    "duration": 0,
    "start_time": "2023-05-27T12:21:15.427Z"
   },
   {
    "duration": 0,
    "start_time": "2023-05-27T12:21:15.428Z"
   },
   {
    "duration": 0,
    "start_time": "2023-05-27T12:21:15.429Z"
   },
   {
    "duration": 0,
    "start_time": "2023-05-27T12:21:15.430Z"
   },
   {
    "duration": 0,
    "start_time": "2023-05-27T12:21:15.431Z"
   },
   {
    "duration": 0,
    "start_time": "2023-05-27T12:21:15.432Z"
   },
   {
    "duration": 0,
    "start_time": "2023-05-27T12:21:15.433Z"
   },
   {
    "duration": 1400,
    "start_time": "2023-05-27T12:22:04.076Z"
   },
   {
    "duration": 3,
    "start_time": "2023-05-27T12:22:05.478Z"
   },
   {
    "duration": 63,
    "start_time": "2023-05-27T12:22:05.482Z"
   },
   {
    "duration": 12,
    "start_time": "2023-05-27T12:22:05.547Z"
   },
   {
    "duration": 14,
    "start_time": "2023-05-27T12:22:05.562Z"
   },
   {
    "duration": 25,
    "start_time": "2023-05-27T12:22:05.578Z"
   },
   {
    "duration": 20,
    "start_time": "2023-05-27T12:22:05.605Z"
   },
   {
    "duration": 396,
    "start_time": "2023-05-27T12:22:05.627Z"
   },
   {
    "duration": 6,
    "start_time": "2023-05-27T12:22:06.024Z"
   },
   {
    "duration": 283,
    "start_time": "2023-05-27T12:22:06.032Z"
   },
   {
    "duration": 676,
    "start_time": "2023-05-27T12:22:06.317Z"
   },
   {
    "duration": 1310,
    "start_time": "2023-05-27T12:22:06.995Z"
   },
   {
    "duration": 4,
    "start_time": "2023-05-27T12:22:08.307Z"
   },
   {
    "duration": 96,
    "start_time": "2023-05-27T12:22:08.313Z"
   },
   {
    "duration": 8,
    "start_time": "2023-05-27T12:22:08.411Z"
   },
   {
    "duration": 58,
    "start_time": "2023-05-27T12:22:08.421Z"
   },
   {
    "duration": 33506,
    "start_time": "2023-05-27T12:22:08.481Z"
   },
   {
    "duration": 6,
    "start_time": "2023-05-27T12:22:41.989Z"
   },
   {
    "duration": 12,
    "start_time": "2023-05-27T12:22:41.996Z"
   },
   {
    "duration": 32520,
    "start_time": "2023-05-27T12:22:42.010Z"
   },
   {
    "duration": 9,
    "start_time": "2023-05-27T12:23:14.532Z"
   },
   {
    "duration": 6,
    "start_time": "2023-05-27T12:23:14.542Z"
   },
   {
    "duration": 12440,
    "start_time": "2023-05-27T12:23:14.550Z"
   },
   {
    "duration": 12,
    "start_time": "2023-05-27T12:23:26.991Z"
   },
   {
    "duration": 80,
    "start_time": "2023-05-27T12:23:27.005Z"
   },
   {
    "duration": 14,
    "start_time": "2023-05-27T12:23:27.087Z"
   },
   {
    "duration": 76,
    "start_time": "2023-05-27T12:23:27.103Z"
   },
   {
    "duration": 4,
    "start_time": "2023-05-27T12:34:31.015Z"
   },
   {
    "duration": 5,
    "start_time": "2023-05-27T12:35:04.392Z"
   },
   {
    "duration": 1381,
    "start_time": "2023-05-27T12:35:16.188Z"
   },
   {
    "duration": 6,
    "start_time": "2023-05-27T12:35:17.572Z"
   },
   {
    "duration": 56,
    "start_time": "2023-05-27T12:35:17.580Z"
   },
   {
    "duration": 10,
    "start_time": "2023-05-27T12:35:17.638Z"
   },
   {
    "duration": 11,
    "start_time": "2023-05-27T12:35:17.650Z"
   },
   {
    "duration": 4,
    "start_time": "2023-05-27T12:35:17.662Z"
   },
   {
    "duration": 20,
    "start_time": "2023-05-27T12:35:17.667Z"
   },
   {
    "duration": 317,
    "start_time": "2023-05-27T12:35:17.689Z"
   },
   {
    "duration": 6,
    "start_time": "2023-05-27T12:35:18.008Z"
   },
   {
    "duration": 291,
    "start_time": "2023-05-27T12:35:18.015Z"
   },
   {
    "duration": 700,
    "start_time": "2023-05-27T12:35:18.308Z"
   },
   {
    "duration": 1234,
    "start_time": "2023-05-27T12:35:19.010Z"
   },
   {
    "duration": 5,
    "start_time": "2023-05-27T12:35:20.245Z"
   },
   {
    "duration": 55,
    "start_time": "2023-05-27T12:35:20.252Z"
   },
   {
    "duration": 8,
    "start_time": "2023-05-27T12:35:20.308Z"
   },
   {
    "duration": 3,
    "start_time": "2023-05-27T12:35:20.317Z"
   },
   {
    "duration": 30822,
    "start_time": "2023-05-27T12:35:20.322Z"
   },
   {
    "duration": 6,
    "start_time": "2023-05-27T12:35:51.147Z"
   },
   {
    "duration": 5,
    "start_time": "2023-05-27T12:35:51.155Z"
   },
   {
    "duration": 4543,
    "start_time": "2023-05-27T12:35:51.178Z"
   },
   {
    "duration": 11,
    "start_time": "2023-05-27T12:35:55.723Z"
   },
   {
    "duration": 0,
    "start_time": "2023-05-27T12:35:55.735Z"
   },
   {
    "duration": 0,
    "start_time": "2023-05-27T12:35:55.736Z"
   },
   {
    "duration": 0,
    "start_time": "2023-05-27T12:35:55.738Z"
   },
   {
    "duration": 0,
    "start_time": "2023-05-27T12:35:55.739Z"
   },
   {
    "duration": 0,
    "start_time": "2023-05-27T12:35:55.740Z"
   },
   {
    "duration": 0,
    "start_time": "2023-05-27T12:35:55.741Z"
   },
   {
    "duration": 4,
    "start_time": "2023-05-27T12:39:45.265Z"
   },
   {
    "duration": 4540,
    "start_time": "2023-05-27T12:39:47.946Z"
   },
   {
    "duration": 4,
    "start_time": "2023-05-27T12:39:58.818Z"
   },
   {
    "duration": 4687,
    "start_time": "2023-05-27T12:40:01.296Z"
   },
   {
    "duration": 4,
    "start_time": "2023-05-27T12:40:19.012Z"
   },
   {
    "duration": 5115,
    "start_time": "2023-05-27T12:40:21.861Z"
   },
   {
    "duration": 4,
    "start_time": "2023-05-27T12:40:41.644Z"
   },
   {
    "duration": 4971,
    "start_time": "2023-05-27T12:40:43.825Z"
   },
   {
    "duration": 47,
    "start_time": "2023-05-27T12:45:32.351Z"
   },
   {
    "duration": 4,
    "start_time": "2023-05-27T12:45:41.886Z"
   },
   {
    "duration": 1421,
    "start_time": "2023-05-27T12:47:25.957Z"
   },
   {
    "duration": 3,
    "start_time": "2023-05-27T12:47:27.380Z"
   },
   {
    "duration": 59,
    "start_time": "2023-05-27T12:47:27.384Z"
   },
   {
    "duration": 11,
    "start_time": "2023-05-27T12:47:27.444Z"
   },
   {
    "duration": 13,
    "start_time": "2023-05-27T12:47:27.457Z"
   },
   {
    "duration": 5,
    "start_time": "2023-05-27T12:47:27.471Z"
   },
   {
    "duration": 17,
    "start_time": "2023-05-27T12:47:27.478Z"
   },
   {
    "duration": 414,
    "start_time": "2023-05-27T12:47:27.497Z"
   },
   {
    "duration": 7,
    "start_time": "2023-05-27T12:47:27.912Z"
   },
   {
    "duration": 310,
    "start_time": "2023-05-27T12:47:27.921Z"
   },
   {
    "duration": 703,
    "start_time": "2023-05-27T12:47:28.234Z"
   },
   {
    "duration": 1305,
    "start_time": "2023-05-27T12:47:28.938Z"
   },
   {
    "duration": 6,
    "start_time": "2023-05-27T12:47:30.245Z"
   },
   {
    "duration": 89,
    "start_time": "2023-05-27T12:47:30.253Z"
   },
   {
    "duration": 10,
    "start_time": "2023-05-27T12:47:30.344Z"
   },
   {
    "duration": 52,
    "start_time": "2023-05-27T12:47:30.356Z"
   },
   {
    "duration": 69,
    "start_time": "2023-05-27T12:47:30.410Z"
   },
   {
    "duration": 30835,
    "start_time": "2023-05-27T12:47:30.481Z"
   },
   {
    "duration": 4,
    "start_time": "2023-05-27T12:48:01.317Z"
   },
   {
    "duration": 4722,
    "start_time": "2023-05-27T12:48:01.323Z"
   },
   {
    "duration": 3,
    "start_time": "2023-05-27T12:48:06.047Z"
   },
   {
    "duration": 4582,
    "start_time": "2023-05-27T12:48:06.051Z"
   },
   {
    "duration": 13,
    "start_time": "2023-05-27T12:48:10.635Z"
   },
   {
    "duration": 0,
    "start_time": "2023-05-27T12:48:10.649Z"
   },
   {
    "duration": 0,
    "start_time": "2023-05-27T12:48:10.651Z"
   },
   {
    "duration": 0,
    "start_time": "2023-05-27T12:48:10.652Z"
   },
   {
    "duration": 132,
    "start_time": "2023-05-27T12:49:23.147Z"
   },
   {
    "duration": 1292,
    "start_time": "2023-05-27T12:54:52.046Z"
   },
   {
    "duration": 3,
    "start_time": "2023-05-27T12:54:53.339Z"
   },
   {
    "duration": 55,
    "start_time": "2023-05-27T12:54:53.343Z"
   },
   {
    "duration": 9,
    "start_time": "2023-05-27T12:54:53.399Z"
   },
   {
    "duration": 11,
    "start_time": "2023-05-27T12:54:53.411Z"
   },
   {
    "duration": 4,
    "start_time": "2023-05-27T12:54:53.423Z"
   },
   {
    "duration": 14,
    "start_time": "2023-05-27T12:54:53.428Z"
   },
   {
    "duration": 928,
    "start_time": "2023-05-27T12:54:53.443Z"
   },
   {
    "duration": 111,
    "start_time": "2023-05-27T12:54:54.372Z"
   },
   {
    "duration": 0,
    "start_time": "2023-05-27T12:54:54.484Z"
   },
   {
    "duration": 0,
    "start_time": "2023-05-27T12:54:54.485Z"
   },
   {
    "duration": 0,
    "start_time": "2023-05-27T12:54:54.486Z"
   },
   {
    "duration": 0,
    "start_time": "2023-05-27T12:54:54.487Z"
   },
   {
    "duration": 0,
    "start_time": "2023-05-27T12:54:54.488Z"
   },
   {
    "duration": 0,
    "start_time": "2023-05-27T12:54:54.489Z"
   },
   {
    "duration": 0,
    "start_time": "2023-05-27T12:54:54.490Z"
   },
   {
    "duration": 0,
    "start_time": "2023-05-27T12:54:54.491Z"
   },
   {
    "duration": 0,
    "start_time": "2023-05-27T12:54:54.492Z"
   },
   {
    "duration": 0,
    "start_time": "2023-05-27T12:54:54.492Z"
   },
   {
    "duration": 0,
    "start_time": "2023-05-27T12:54:54.493Z"
   },
   {
    "duration": 0,
    "start_time": "2023-05-27T12:54:54.494Z"
   },
   {
    "duration": 0,
    "start_time": "2023-05-27T12:54:54.495Z"
   },
   {
    "duration": 0,
    "start_time": "2023-05-27T12:54:54.496Z"
   },
   {
    "duration": 0,
    "start_time": "2023-05-27T12:54:54.496Z"
   },
   {
    "duration": 0,
    "start_time": "2023-05-27T12:54:54.497Z"
   },
   {
    "duration": 0,
    "start_time": "2023-05-27T12:54:54.498Z"
   },
   {
    "duration": 1322,
    "start_time": "2023-05-27T12:55:22.621Z"
   },
   {
    "duration": 3,
    "start_time": "2023-05-27T12:55:23.945Z"
   },
   {
    "duration": 58,
    "start_time": "2023-05-27T12:55:23.949Z"
   },
   {
    "duration": 9,
    "start_time": "2023-05-27T12:55:24.009Z"
   },
   {
    "duration": 12,
    "start_time": "2023-05-27T12:55:24.020Z"
   },
   {
    "duration": 4,
    "start_time": "2023-05-27T12:55:24.034Z"
   },
   {
    "duration": 25,
    "start_time": "2023-05-27T12:55:24.040Z"
   },
   {
    "duration": 932,
    "start_time": "2023-05-27T12:55:24.079Z"
   },
   {
    "duration": 106,
    "start_time": "2023-05-27T12:55:25.013Z"
   },
   {
    "duration": 0,
    "start_time": "2023-05-27T12:55:25.121Z"
   },
   {
    "duration": 0,
    "start_time": "2023-05-27T12:55:25.123Z"
   },
   {
    "duration": 0,
    "start_time": "2023-05-27T12:55:25.124Z"
   },
   {
    "duration": 0,
    "start_time": "2023-05-27T12:55:25.126Z"
   },
   {
    "duration": 0,
    "start_time": "2023-05-27T12:55:25.127Z"
   },
   {
    "duration": 0,
    "start_time": "2023-05-27T12:55:25.129Z"
   },
   {
    "duration": 0,
    "start_time": "2023-05-27T12:55:25.130Z"
   },
   {
    "duration": 0,
    "start_time": "2023-05-27T12:55:25.132Z"
   },
   {
    "duration": 0,
    "start_time": "2023-05-27T12:55:25.133Z"
   },
   {
    "duration": 0,
    "start_time": "2023-05-27T12:55:25.134Z"
   },
   {
    "duration": 0,
    "start_time": "2023-05-27T12:55:25.136Z"
   },
   {
    "duration": 0,
    "start_time": "2023-05-27T12:55:25.137Z"
   },
   {
    "duration": 0,
    "start_time": "2023-05-27T12:55:25.138Z"
   },
   {
    "duration": 0,
    "start_time": "2023-05-27T12:55:25.139Z"
   },
   {
    "duration": 0,
    "start_time": "2023-05-27T12:55:25.141Z"
   },
   {
    "duration": 0,
    "start_time": "2023-05-27T12:55:25.178Z"
   },
   {
    "duration": 0,
    "start_time": "2023-05-27T12:55:25.180Z"
   },
   {
    "duration": 1323,
    "start_time": "2023-05-27T12:56:11.328Z"
   },
   {
    "duration": 3,
    "start_time": "2023-05-27T12:56:12.653Z"
   },
   {
    "duration": 57,
    "start_time": "2023-05-27T12:56:12.658Z"
   },
   {
    "duration": 11,
    "start_time": "2023-05-27T12:56:12.717Z"
   },
   {
    "duration": 15,
    "start_time": "2023-05-27T12:56:12.730Z"
   },
   {
    "duration": 4,
    "start_time": "2023-05-27T12:56:12.747Z"
   },
   {
    "duration": 26,
    "start_time": "2023-05-27T12:56:12.753Z"
   },
   {
    "duration": 370,
    "start_time": "2023-05-27T12:56:12.781Z"
   },
   {
    "duration": 6,
    "start_time": "2023-05-27T12:56:13.152Z"
   },
   {
    "duration": 319,
    "start_time": "2023-05-27T12:56:13.161Z"
   },
   {
    "duration": 725,
    "start_time": "2023-05-27T12:56:13.481Z"
   },
   {
    "duration": 2122,
    "start_time": "2023-05-27T12:56:14.207Z"
   },
   {
    "duration": 5,
    "start_time": "2023-05-27T12:56:16.330Z"
   },
   {
    "duration": 60,
    "start_time": "2023-05-27T12:56:16.336Z"
   },
   {
    "duration": 9,
    "start_time": "2023-05-27T12:56:16.398Z"
   },
   {
    "duration": 3,
    "start_time": "2023-05-27T12:56:16.409Z"
   },
   {
    "duration": 6,
    "start_time": "2023-05-27T12:56:16.413Z"
   },
   {
    "duration": 29848,
    "start_time": "2023-05-27T12:56:16.420Z"
   },
   {
    "duration": 10,
    "start_time": "2023-05-27T12:56:46.269Z"
   },
   {
    "duration": 4832,
    "start_time": "2023-05-27T12:56:46.280Z"
   },
   {
    "duration": 4,
    "start_time": "2023-05-27T12:56:51.114Z"
   },
   {
    "duration": 4613,
    "start_time": "2023-05-27T12:56:51.119Z"
   },
   {
    "duration": 12,
    "start_time": "2023-05-27T12:56:55.734Z"
   },
   {
    "duration": 0,
    "start_time": "2023-05-27T12:56:55.748Z"
   },
   {
    "duration": 0,
    "start_time": "2023-05-27T12:56:55.749Z"
   },
   {
    "duration": 0,
    "start_time": "2023-05-27T12:56:55.750Z"
   },
   {
    "duration": 4,
    "start_time": "2023-05-27T12:58:55.346Z"
   },
   {
    "duration": 4607,
    "start_time": "2023-05-27T12:58:58.536Z"
   },
   {
    "duration": 4,
    "start_time": "2023-05-27T13:00:55.492Z"
   },
   {
    "duration": 41,
    "start_time": "2023-05-27T13:00:59.144Z"
   },
   {
    "duration": 35,
    "start_time": "2023-05-27T13:01:34.469Z"
   },
   {
    "duration": 34,
    "start_time": "2023-05-27T13:01:39.130Z"
   },
   {
    "duration": 4,
    "start_time": "2023-05-27T13:04:48.370Z"
   },
   {
    "duration": 34,
    "start_time": "2023-05-27T13:04:51.192Z"
   },
   {
    "duration": 1487,
    "start_time": "2023-05-27T13:05:01.067Z"
   },
   {
    "duration": 2,
    "start_time": "2023-05-27T13:05:02.556Z"
   },
   {
    "duration": 58,
    "start_time": "2023-05-27T13:05:02.559Z"
   },
   {
    "duration": 9,
    "start_time": "2023-05-27T13:05:02.619Z"
   },
   {
    "duration": 21,
    "start_time": "2023-05-27T13:05:02.629Z"
   },
   {
    "duration": 14,
    "start_time": "2023-05-27T13:05:02.651Z"
   },
   {
    "duration": 19,
    "start_time": "2023-05-27T13:05:02.666Z"
   },
   {
    "duration": 341,
    "start_time": "2023-05-27T13:05:02.686Z"
   },
   {
    "duration": 6,
    "start_time": "2023-05-27T13:05:03.028Z"
   },
   {
    "duration": 294,
    "start_time": "2023-05-27T13:05:03.036Z"
   },
   {
    "duration": 662,
    "start_time": "2023-05-27T13:05:03.332Z"
   },
   {
    "duration": 1285,
    "start_time": "2023-05-27T13:05:03.996Z"
   },
   {
    "duration": 6,
    "start_time": "2023-05-27T13:05:05.283Z"
   },
   {
    "duration": 45,
    "start_time": "2023-05-27T13:05:05.291Z"
   },
   {
    "duration": 8,
    "start_time": "2023-05-27T13:05:05.338Z"
   },
   {
    "duration": 3,
    "start_time": "2023-05-27T13:05:05.348Z"
   },
   {
    "duration": 3,
    "start_time": "2023-05-27T13:05:05.378Z"
   },
   {
    "duration": 237,
    "start_time": "2023-05-27T13:05:05.383Z"
   },
   {
    "duration": 4,
    "start_time": "2023-05-27T13:05:05.622Z"
   },
   {
    "duration": 133,
    "start_time": "2023-05-27T13:05:05.627Z"
   },
   {
    "duration": 4,
    "start_time": "2023-05-27T13:05:05.762Z"
   },
   {
    "duration": 7411,
    "start_time": "2023-05-27T13:05:05.768Z"
   },
   {
    "duration": 16,
    "start_time": "2023-05-27T13:05:13.181Z"
   },
   {
    "duration": 0,
    "start_time": "2023-05-27T13:05:13.198Z"
   },
   {
    "duration": 0,
    "start_time": "2023-05-27T13:05:13.199Z"
   },
   {
    "duration": 0,
    "start_time": "2023-05-27T13:05:13.200Z"
   },
   {
    "duration": 43,
    "start_time": "2023-05-27T13:05:29.399Z"
   },
   {
    "duration": 47,
    "start_time": "2023-05-27T13:05:31.561Z"
   },
   {
    "duration": 9,
    "start_time": "2023-05-27T13:05:54.275Z"
   },
   {
    "duration": 3,
    "start_time": "2023-05-27T13:06:12.471Z"
   },
   {
    "duration": 4,
    "start_time": "2023-05-27T13:06:13.997Z"
   },
   {
    "duration": 29397,
    "start_time": "2023-05-27T13:06:15.618Z"
   },
   {
    "duration": 27,
    "start_time": "2023-05-27T13:08:21.086Z"
   },
   {
    "duration": 27,
    "start_time": "2023-05-27T13:08:46.206Z"
   },
   {
    "duration": 6,
    "start_time": "2023-05-27T13:08:59.182Z"
   },
   {
    "duration": 8,
    "start_time": "2023-05-27T13:09:06.714Z"
   },
   {
    "duration": 4,
    "start_time": "2023-05-27T13:12:56.515Z"
   },
   {
    "duration": 52,
    "start_time": "2023-05-27T13:12:58.579Z"
   },
   {
    "duration": 4,
    "start_time": "2023-05-27T13:13:33.274Z"
   },
   {
    "duration": 44,
    "start_time": "2023-05-27T13:13:35.883Z"
   },
   {
    "duration": 9,
    "start_time": "2023-05-27T13:13:41.198Z"
   },
   {
    "duration": 4,
    "start_time": "2023-05-27T13:13:48.117Z"
   },
   {
    "duration": 4,
    "start_time": "2023-05-27T13:13:49.970Z"
   },
   {
    "duration": 4,
    "start_time": "2023-05-27T13:13:54.274Z"
   },
   {
    "duration": 3618,
    "start_time": "2023-05-27T13:13:55.723Z"
   },
   {
    "duration": 1455,
    "start_time": "2023-05-27T13:15:07.523Z"
   },
   {
    "duration": 3,
    "start_time": "2023-05-27T13:15:08.980Z"
   },
   {
    "duration": 58,
    "start_time": "2023-05-27T13:15:08.989Z"
   },
   {
    "duration": 11,
    "start_time": "2023-05-27T13:15:09.048Z"
   },
   {
    "duration": 18,
    "start_time": "2023-05-27T13:15:09.061Z"
   },
   {
    "duration": 5,
    "start_time": "2023-05-27T13:15:09.082Z"
   },
   {
    "duration": 33,
    "start_time": "2023-05-27T13:15:09.089Z"
   },
   {
    "duration": 382,
    "start_time": "2023-05-27T13:15:09.125Z"
   },
   {
    "duration": 10,
    "start_time": "2023-05-27T13:15:09.510Z"
   },
   {
    "duration": 333,
    "start_time": "2023-05-27T13:15:09.522Z"
   },
   {
    "duration": 807,
    "start_time": "2023-05-27T13:15:09.856Z"
   },
   {
    "duration": 2218,
    "start_time": "2023-05-27T13:15:10.664Z"
   },
   {
    "duration": 5,
    "start_time": "2023-05-27T13:15:12.883Z"
   },
   {
    "duration": 104,
    "start_time": "2023-05-27T13:15:12.890Z"
   },
   {
    "duration": 8,
    "start_time": "2023-05-27T13:15:12.996Z"
   },
   {
    "duration": 5,
    "start_time": "2023-05-27T13:15:13.005Z"
   },
   {
    "duration": 4,
    "start_time": "2023-05-27T13:15:13.011Z"
   },
   {
    "duration": 30109,
    "start_time": "2023-05-27T13:15:13.016Z"
   },
   {
    "duration": 4,
    "start_time": "2023-05-27T13:15:43.126Z"
   },
   {
    "duration": 32446,
    "start_time": "2023-05-27T13:15:43.132Z"
   },
   {
    "duration": 4,
    "start_time": "2023-05-27T13:16:15.580Z"
   },
   {
    "duration": 5510,
    "start_time": "2023-05-27T13:16:15.585Z"
   },
   {
    "duration": 15,
    "start_time": "2023-05-27T13:16:21.098Z"
   },
   {
    "duration": 0,
    "start_time": "2023-05-27T13:16:21.115Z"
   },
   {
    "duration": 0,
    "start_time": "2023-05-27T13:16:21.117Z"
   },
   {
    "duration": 0,
    "start_time": "2023-05-27T13:16:21.119Z"
   },
   {
    "duration": 4,
    "start_time": "2023-05-27T13:19:37.628Z"
   },
   {
    "duration": 145935,
    "start_time": "2023-05-27T13:19:40.456Z"
   },
   {
    "duration": 18,
    "start_time": "2023-05-27T13:35:50.642Z"
   },
   {
    "duration": 17,
    "start_time": "2023-05-27T13:36:13.636Z"
   },
   {
    "duration": 22,
    "start_time": "2023-05-27T13:36:35.181Z"
   },
   {
    "duration": 83,
    "start_time": "2023-05-27T13:36:47.717Z"
   },
   {
    "duration": 116,
    "start_time": "2023-05-27T13:40:15.578Z"
   },
   {
    "duration": 1427,
    "start_time": "2023-05-27T13:42:51.285Z"
   },
   {
    "duration": 3,
    "start_time": "2023-05-27T13:42:52.715Z"
   },
   {
    "duration": 65,
    "start_time": "2023-05-27T13:42:52.719Z"
   },
   {
    "duration": 10,
    "start_time": "2023-05-27T13:42:52.787Z"
   },
   {
    "duration": 24,
    "start_time": "2023-05-27T13:42:52.798Z"
   },
   {
    "duration": 7,
    "start_time": "2023-05-27T13:42:52.824Z"
   },
   {
    "duration": 32,
    "start_time": "2023-05-27T13:42:52.832Z"
   },
   {
    "duration": 349,
    "start_time": "2023-05-27T13:42:52.866Z"
   },
   {
    "duration": 6,
    "start_time": "2023-05-27T13:42:53.216Z"
   },
   {
    "duration": 326,
    "start_time": "2023-05-27T13:42:53.224Z"
   },
   {
    "duration": 719,
    "start_time": "2023-05-27T13:42:53.551Z"
   },
   {
    "duration": 1288,
    "start_time": "2023-05-27T13:42:54.271Z"
   },
   {
    "duration": 6,
    "start_time": "2023-05-27T13:42:55.560Z"
   },
   {
    "duration": 51,
    "start_time": "2023-05-27T13:42:55.577Z"
   },
   {
    "duration": 9,
    "start_time": "2023-05-27T13:42:55.630Z"
   },
   {
    "duration": 15,
    "start_time": "2023-05-27T13:42:55.641Z"
   },
   {
    "duration": 5,
    "start_time": "2023-05-27T13:42:55.658Z"
   },
   {
    "duration": 30272,
    "start_time": "2023-05-27T13:42:55.678Z"
   },
   {
    "duration": 3,
    "start_time": "2023-05-27T13:43:25.952Z"
   },
   {
    "duration": 32087,
    "start_time": "2023-05-27T13:43:25.957Z"
   },
   {
    "duration": 4,
    "start_time": "2023-05-27T13:43:58.046Z"
   },
   {
    "duration": 119029,
    "start_time": "2023-05-27T13:43:58.052Z"
   },
   {
    "duration": 122,
    "start_time": "2023-05-27T13:45:57.084Z"
   },
   {
    "duration": 4,
    "start_time": "2023-05-27T13:46:29.422Z"
   },
   {
    "duration": 1455,
    "start_time": "2023-05-27T14:06:46.609Z"
   },
   {
    "duration": 3,
    "start_time": "2023-05-27T14:06:48.067Z"
   },
   {
    "duration": 91,
    "start_time": "2023-05-27T14:06:48.072Z"
   },
   {
    "duration": 11,
    "start_time": "2023-05-27T14:06:48.164Z"
   },
   {
    "duration": 14,
    "start_time": "2023-05-27T14:06:48.181Z"
   },
   {
    "duration": 15,
    "start_time": "2023-05-27T14:06:48.196Z"
   },
   {
    "duration": 16,
    "start_time": "2023-05-27T14:06:48.213Z"
   },
   {
    "duration": 416,
    "start_time": "2023-05-27T14:06:48.231Z"
   },
   {
    "duration": 8,
    "start_time": "2023-05-27T14:06:48.678Z"
   },
   {
    "duration": 895,
    "start_time": "2023-05-27T14:06:48.691Z"
   },
   {
    "duration": 1353,
    "start_time": "2023-05-27T14:06:49.588Z"
   },
   {
    "duration": 1364,
    "start_time": "2023-05-27T14:06:50.943Z"
   },
   {
    "duration": 6,
    "start_time": "2023-05-27T14:06:52.314Z"
   },
   {
    "duration": 69,
    "start_time": "2023-05-27T14:06:52.322Z"
   },
   {
    "duration": 13,
    "start_time": "2023-05-27T14:06:52.393Z"
   },
   {
    "duration": 23,
    "start_time": "2023-05-27T14:06:52.408Z"
   },
   {
    "duration": 25,
    "start_time": "2023-05-27T14:06:52.433Z"
   },
   {
    "duration": 33046,
    "start_time": "2023-05-27T14:06:52.460Z"
   },
   {
    "duration": 8,
    "start_time": "2023-05-27T14:07:25.512Z"
   },
   {
    "duration": 41277,
    "start_time": "2023-05-27T14:07:25.522Z"
   },
   {
    "duration": 5,
    "start_time": "2023-05-27T14:08:06.804Z"
   },
   {
    "duration": 153168,
    "start_time": "2023-05-27T14:08:06.811Z"
   },
   {
    "duration": 118,
    "start_time": "2023-05-27T14:10:39.986Z"
   },
   {
    "duration": 1497,
    "start_time": "2023-05-27T14:15:03.764Z"
   },
   {
    "duration": 2,
    "start_time": "2023-05-27T14:15:05.263Z"
   },
   {
    "duration": 80,
    "start_time": "2023-05-27T14:15:05.267Z"
   },
   {
    "duration": 10,
    "start_time": "2023-05-27T14:15:05.349Z"
   },
   {
    "duration": 13,
    "start_time": "2023-05-27T14:15:05.361Z"
   },
   {
    "duration": 12,
    "start_time": "2023-05-27T14:15:05.376Z"
   },
   {
    "duration": 20,
    "start_time": "2023-05-27T14:15:05.393Z"
   },
   {
    "duration": 425,
    "start_time": "2023-05-27T14:15:05.414Z"
   },
   {
    "duration": 6,
    "start_time": "2023-05-27T14:15:05.840Z"
   },
   {
    "duration": 348,
    "start_time": "2023-05-27T14:15:05.848Z"
   },
   {
    "duration": 764,
    "start_time": "2023-05-27T14:15:06.198Z"
   },
   {
    "duration": 1460,
    "start_time": "2023-05-27T14:15:06.963Z"
   },
   {
    "duration": 4,
    "start_time": "2023-05-27T14:15:08.425Z"
   },
   {
    "duration": 78,
    "start_time": "2023-05-27T14:15:08.431Z"
   },
   {
    "duration": 11,
    "start_time": "2023-05-27T14:15:08.514Z"
   },
   {
    "duration": 4,
    "start_time": "2023-05-27T14:15:08.527Z"
   },
   {
    "duration": 10,
    "start_time": "2023-05-27T14:15:08.533Z"
   },
   {
    "duration": 32894,
    "start_time": "2023-05-27T14:15:08.545Z"
   },
   {
    "duration": 19,
    "start_time": "2023-05-27T14:15:41.440Z"
   },
   {
    "duration": 38669,
    "start_time": "2023-05-27T14:15:41.462Z"
   },
   {
    "duration": 4,
    "start_time": "2023-05-27T14:16:20.133Z"
   },
   {
    "duration": 180066,
    "start_time": "2023-05-27T14:16:20.138Z"
   },
   {
    "duration": 182,
    "start_time": "2023-05-27T14:19:20.207Z"
   },
   {
    "duration": 50,
    "start_time": "2023-05-29T10:44:28.930Z"
   },
   {
    "duration": 1827,
    "start_time": "2023-05-29T10:44:55.345Z"
   },
   {
    "duration": 3,
    "start_time": "2023-05-29T10:44:57.174Z"
   },
   {
    "duration": 363,
    "start_time": "2023-05-29T10:44:57.178Z"
   },
   {
    "duration": 10,
    "start_time": "2023-05-29T10:44:57.544Z"
   },
   {
    "duration": 42,
    "start_time": "2023-05-29T10:44:57.556Z"
   },
   {
    "duration": 4,
    "start_time": "2023-05-29T10:44:57.600Z"
   },
   {
    "duration": 24,
    "start_time": "2023-05-29T10:44:57.605Z"
   },
   {
    "duration": 523,
    "start_time": "2023-05-29T10:44:57.632Z"
   },
   {
    "duration": 0,
    "start_time": "2023-05-29T10:44:58.157Z"
   },
   {
    "duration": 0,
    "start_time": "2023-05-29T10:44:58.158Z"
   },
   {
    "duration": 0,
    "start_time": "2023-05-29T10:44:58.159Z"
   },
   {
    "duration": 0,
    "start_time": "2023-05-29T10:44:58.160Z"
   },
   {
    "duration": 0,
    "start_time": "2023-05-29T10:44:58.161Z"
   },
   {
    "duration": 0,
    "start_time": "2023-05-29T10:44:58.162Z"
   },
   {
    "duration": 0,
    "start_time": "2023-05-29T10:44:58.163Z"
   },
   {
    "duration": 0,
    "start_time": "2023-05-29T10:44:58.164Z"
   },
   {
    "duration": 0,
    "start_time": "2023-05-29T10:44:58.165Z"
   },
   {
    "duration": 0,
    "start_time": "2023-05-29T10:44:58.167Z"
   },
   {
    "duration": 0,
    "start_time": "2023-05-29T10:44:58.167Z"
   },
   {
    "duration": 0,
    "start_time": "2023-05-29T10:44:58.168Z"
   },
   {
    "duration": 0,
    "start_time": "2023-05-29T10:44:58.169Z"
   },
   {
    "duration": 0,
    "start_time": "2023-05-29T10:44:58.170Z"
   },
   {
    "duration": 0,
    "start_time": "2023-05-29T10:44:58.172Z"
   },
   {
    "duration": 349,
    "start_time": "2023-05-29T10:48:40.877Z"
   },
   {
    "duration": 325,
    "start_time": "2023-05-29T10:50:57.426Z"
   },
   {
    "duration": 306,
    "start_time": "2023-05-29T10:53:05.180Z"
   },
   {
    "duration": 385,
    "start_time": "2023-05-29T10:53:49.909Z"
   },
   {
    "duration": 285,
    "start_time": "2023-05-29T10:55:17.451Z"
   },
   {
    "duration": 8,
    "start_time": "2023-05-29T10:55:39.777Z"
   },
   {
    "duration": 223,
    "start_time": "2023-05-29T10:55:42.204Z"
   },
   {
    "duration": 233,
    "start_time": "2023-05-29T10:57:25.601Z"
   },
   {
    "duration": 246,
    "start_time": "2023-05-29T10:58:37.572Z"
   },
   {
    "duration": 794,
    "start_time": "2023-05-29T10:59:10.614Z"
   },
   {
    "duration": 228,
    "start_time": "2023-05-29T11:02:32.714Z"
   },
   {
    "duration": 697,
    "start_time": "2023-05-29T11:03:13.290Z"
   },
   {
    "duration": 750,
    "start_time": "2023-05-29T11:03:25.510Z"
   },
   {
    "duration": 826,
    "start_time": "2023-05-29T11:03:31.800Z"
   },
   {
    "duration": 729,
    "start_time": "2023-05-29T11:03:44.926Z"
   },
   {
    "duration": 722,
    "start_time": "2023-05-29T11:03:55.504Z"
   },
   {
    "duration": 706,
    "start_time": "2023-05-29T11:04:08.639Z"
   },
   {
    "duration": 845,
    "start_time": "2023-05-29T11:04:24.642Z"
   },
   {
    "duration": 753,
    "start_time": "2023-05-29T11:10:05.600Z"
   },
   {
    "duration": 1460,
    "start_time": "2023-05-29T11:10:25.981Z"
   },
   {
    "duration": 1467,
    "start_time": "2023-05-29T11:25:10.495Z"
   },
   {
    "duration": 3,
    "start_time": "2023-05-29T11:25:11.964Z"
   },
   {
    "duration": 65,
    "start_time": "2023-05-29T11:25:11.968Z"
   },
   {
    "duration": 13,
    "start_time": "2023-05-29T11:25:12.035Z"
   },
   {
    "duration": 20,
    "start_time": "2023-05-29T11:25:12.049Z"
   },
   {
    "duration": 4,
    "start_time": "2023-05-29T11:25:12.071Z"
   },
   {
    "duration": 16,
    "start_time": "2023-05-29T11:25:12.077Z"
   },
   {
    "duration": 412,
    "start_time": "2023-05-29T11:25:12.095Z"
   },
   {
    "duration": 7,
    "start_time": "2023-05-29T11:25:12.509Z"
   },
   {
    "duration": 353,
    "start_time": "2023-05-29T11:25:12.520Z"
   },
   {
    "duration": 812,
    "start_time": "2023-05-29T11:25:12.875Z"
   },
   {
    "duration": 1497,
    "start_time": "2023-05-29T11:25:13.689Z"
   },
   {
    "duration": 4,
    "start_time": "2023-05-29T11:25:15.188Z"
   },
   {
    "duration": 65,
    "start_time": "2023-05-29T11:25:15.193Z"
   },
   {
    "duration": 9,
    "start_time": "2023-05-29T11:25:15.260Z"
   },
   {
    "duration": 5,
    "start_time": "2023-05-29T11:25:15.271Z"
   },
   {
    "duration": 7,
    "start_time": "2023-05-29T11:25:15.277Z"
   },
   {
    "duration": 34616,
    "start_time": "2023-05-29T11:25:15.285Z"
   },
   {
    "duration": 4,
    "start_time": "2023-05-29T11:25:49.903Z"
   },
   {
    "duration": 36156,
    "start_time": "2023-05-29T11:25:49.908Z"
   },
   {
    "duration": 4,
    "start_time": "2023-05-29T11:26:26.065Z"
   },
   {
    "duration": 21956,
    "start_time": "2023-05-29T11:26:26.071Z"
   },
   {
    "duration": 16,
    "start_time": "2023-05-29T11:26:48.031Z"
   },
   {
    "duration": 33,
    "start_time": "2023-05-29T11:26:48.048Z"
   },
   {
    "duration": 85,
    "start_time": "2023-05-29T11:26:48.083Z"
   },
   {
    "duration": 9,
    "start_time": "2023-05-29T11:29:02.803Z"
   },
   {
    "duration": 36,
    "start_time": "2023-05-29T11:29:33.146Z"
   },
   {
    "duration": 42,
    "start_time": "2023-05-29T11:33:44.545Z"
   },
   {
    "duration": 12,
    "start_time": "2023-05-29T11:36:01.187Z"
   },
   {
    "duration": 39,
    "start_time": "2023-05-29T11:37:55.079Z"
   },
   {
    "duration": 233,
    "start_time": "2023-05-29T11:38:38.012Z"
   },
   {
    "duration": 355,
    "start_time": "2023-05-29T11:39:28.843Z"
   },
   {
    "duration": 453,
    "start_time": "2023-05-29T11:40:03.800Z"
   },
   {
    "duration": 125,
    "start_time": "2023-05-29T11:40:17.338Z"
   },
   {
    "duration": 16,
    "start_time": "2023-05-29T11:42:09.776Z"
   },
   {
    "duration": 8,
    "start_time": "2023-05-29T11:42:36.144Z"
   },
   {
    "duration": 7,
    "start_time": "2023-05-29T11:42:57.979Z"
   },
   {
    "duration": 9,
    "start_time": "2023-05-29T11:43:38.787Z"
   },
   {
    "duration": 12,
    "start_time": "2023-05-29T11:43:43.206Z"
   },
   {
    "duration": 162,
    "start_time": "2023-05-29T11:44:58.880Z"
   },
   {
    "duration": 186,
    "start_time": "2023-05-29T11:45:33.934Z"
   },
   {
    "duration": 381,
    "start_time": "2023-05-29T11:47:28.322Z"
   },
   {
    "duration": 273,
    "start_time": "2023-05-29T11:51:35.213Z"
   }
  ],
  "kernelspec": {
   "display_name": "Python 3 (ipykernel)",
   "language": "python",
   "name": "python3"
  },
  "language_info": {
   "codemirror_mode": {
    "name": "ipython",
    "version": 3
   },
   "file_extension": ".py",
   "mimetype": "text/x-python",
   "name": "python",
   "nbconvert_exporter": "python",
   "pygments_lexer": "ipython3",
   "version": "3.9.5"
  },
  "toc": {
   "base_numbering": 1,
   "nav_menu": {},
   "number_sections": true,
   "sideBar": true,
   "skip_h1_title": true,
   "title_cell": "Содержание",
   "title_sidebar": "Contents",
   "toc_cell": true,
   "toc_position": {
    "height": "calc(100% - 180px)",
    "left": "10px",
    "top": "150px",
    "width": "371px"
   },
   "toc_section_display": true,
   "toc_window_display": true
  }
 },
 "nbformat": 4,
 "nbformat_minor": 2
}
