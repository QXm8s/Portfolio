{
 "cells": [
  {
   "cell_type": "markdown",
   "metadata": {},
   "source": [
    "# РЕАЛИЗАЦИЯ ТЕХНИКИ BOOTSTRAP ПРИ ВЫБОРЕ РЕГИОНА ДЛЯ РАЗРАБОТКИ НЕФТЯНЫХ СКВАЖИН "
   ]
  },
  {
   "cell_type": "markdown",
   "metadata": {
    "toc": true
   },
   "source": [
    "<h1>Содержание<span class=\"tocSkip\"></span></h1>\n",
    "<div class=\"toc\"><ul class=\"toc-item\"><li><span><a href=\"#Описание-проекта\" data-toc-modified-id=\"Описание-проекта-1\"><span class=\"toc-item-num\">1&nbsp;&nbsp;</span>Описание проекта</a></span><ul class=\"toc-item\"><li><span><a href=\"#Постановка-задачи\" data-toc-modified-id=\"Постановка-задачи-1.1\"><span class=\"toc-item-num\">1.1&nbsp;&nbsp;</span>Постановка задачи</a></span></li></ul></li><li><span><a href=\"#Определение-констант\" data-toc-modified-id=\"Определение-констант-2\"><span class=\"toc-item-num\">2&nbsp;&nbsp;</span>Определение констант</a></span></li><li><span><a href=\"#Загрузка-и-подготовка-данных\" data-toc-modified-id=\"Загрузка-и-подготовка-данных-3\"><span class=\"toc-item-num\">3&nbsp;&nbsp;</span>Загрузка и подготовка данных</a></span><ul class=\"toc-item\"><li><span><a href=\"#Обзор-данных\" data-toc-modified-id=\"Обзор-данных-3.1\"><span class=\"toc-item-num\">3.1&nbsp;&nbsp;</span>Обзор данных</a></span></li><li><span><a href=\"#Работа-с-дубликатами\" data-toc-modified-id=\"Работа-с-дубликатами-3.2\"><span class=\"toc-item-num\">3.2&nbsp;&nbsp;</span>Работа с дубликатами</a></span></li><li><span><a href=\"#Проверка-преобразований\" data-toc-modified-id=\"Проверка-преобразований-3.3\"><span class=\"toc-item-num\">3.3&nbsp;&nbsp;</span>Проверка преобразований</a></span></li></ul></li><li><span><a href=\"#Обучение-и-проверка-модели\" data-toc-modified-id=\"Обучение-и-проверка-модели-4\"><span class=\"toc-item-num\">4&nbsp;&nbsp;</span>Обучение и проверка модели</a></span></li><li><span><a href=\"#Подготовка-к-расчёту-прибыли\" data-toc-modified-id=\"Подготовка-к-расчёту-прибыли-5\"><span class=\"toc-item-num\">5&nbsp;&nbsp;</span>Подготовка к расчёту прибыли</a></span></li><li><span><a href=\"#Расчёт-прибыли-и-рисков\" data-toc-modified-id=\"Расчёт-прибыли-и-рисков-6\"><span class=\"toc-item-num\">6&nbsp;&nbsp;</span>Расчёт прибыли и рисков</a></span></li><li><span><a href=\"#Выводы\" data-toc-modified-id=\"Выводы-7\"><span class=\"toc-item-num\">7&nbsp;&nbsp;</span>Выводы</a></span></li></ul></div>"
   ]
  },
  {
   "cell_type": "markdown",
   "metadata": {},
   "source": [
    "## Описание проекта\n",
    "Допустим, вы работаете в добывающей компании «ГлавРосГосНефть». Нужно решить, где бурить новую скважину. \n",
    "Шаги для выбора локации обычно такие:\n",
    "- в избранном регионе собирают характеристики для скважин: качество нефти и объём её запасов;\n",
    "- строят модель для предсказания объёма запасов в новых скважинах;\n",
    "- выбирают скважины с самыми высокими оценками значений;\n",
    "- определяют регион с максимальной суммарной прибылью отобранных скважин.\n",
    "\n",
    "Вам предоставлены пробы нефти в трёх регионах. Характеристики для каждой скважины в регионе уже известны. Данные - синтетические: детали контрактов и характеристики месторождений не разглашаются.\n",
    "\n",
    "**Описание данных**  \n",
    "Признаки:\n",
    "- id — уникальный идентификатор скважины;\n",
    "- f0, f1, f2 — три признака скважины (неважно, что они означают, но сами признаки значимы).\n",
    "\n",
    "Целевой признак:\n",
    "- product — объём запасов скважины, тыс. баррелей.\n",
    "\n",
    "### Постановка задачи\n",
    "Постройте модель для определения региона, где добыча принесёт наибольшую прибыль. Проанализируйте возможную прибыль и риски техникой bootstrap. Выберите регионы с наибольшей средней прибылью, где вероятность убытков меньше 2.5%.\n",
    "\n",
    "**Важно:** \n",
    "- для обучения модели используйте линейную регрессию,\n",
    "- при разведке региона исследуйте 500 скважин, с помощью машинного обучения выберите из них 200 лучших для разработки,\n",
    "- бюджет на разработку скважин в регионе — 10 млрд рублей,\n",
    "- доход от продажи 1000 баррелей нефти составляет 450 тыс рублей."
   ]
  },
  {
   "cell_type": "code",
   "execution_count": 1,
   "metadata": {},
   "outputs": [],
   "source": [
    "import pandas as pd\n",
    "import matplotlib.pyplot as plt\n",
    "import numpy as np\n",
    "from sklearn.linear_model import LinearRegression\n",
    "from sklearn.model_selection import train_test_split\n",
    "from sklearn.preprocessing import StandardScaler\n",
    "from sklearn.metrics import mean_squared_error"
   ]
  },
  {
   "cell_type": "markdown",
   "metadata": {},
   "source": [
    "## Определение констант"
   ]
  },
  {
   "cell_type": "code",
   "execution_count": 2,
   "metadata": {},
   "outputs": [],
   "source": [
    "#Фиксируем: \n",
    "# - значение для random_state\n",
    "SEED = 36741\n",
    "# - путь к файлам с данными   \n",
    "PATH = '/datasets/geo_data_*.csv'\n",
    "# - целевой признак объекта\n",
    "TARGET = 'product'\n",
    "# - признаки объекта\n",
    "FEATURES = ['f0', 'f1', 'f2']\n",
    "# - количество скважин для исследования\n",
    "PTS_TO_RESEARCH = 500\n",
    "# - количество скважин для разработки\n",
    "PTS_TO_PICK = 200  \n",
    "# - бюджет на разработку скважин, руб.\n",
    "BUDGET = 10**10\n",
    "# - доход от продажи 1000 баррелей, руб.\n",
    "INCOME_PER_UNIT = 450000"
   ]
  },
  {
   "cell_type": "markdown",
   "metadata": {},
   "source": [
    "## Загрузка и подготовка данных\n",
    "### Обзор данных\n",
    "Поместим данные в DataFrame. На примере нескольких строк оценим датасеты визульно. Посмотрим на общую информацию."
   ]
  },
  {
   "cell_type": "code",
   "execution_count": 3,
   "metadata": {},
   "outputs": [
    {
     "data": {
      "text/html": [
       "<div>\n",
       "<style scoped>\n",
       "    .dataframe tbody tr th:only-of-type {\n",
       "        vertical-align: middle;\n",
       "    }\n",
       "\n",
       "    .dataframe tbody tr th {\n",
       "        vertical-align: top;\n",
       "    }\n",
       "\n",
       "    .dataframe thead th {\n",
       "        text-align: right;\n",
       "    }\n",
       "</style>\n",
       "<table border=\"1\" class=\"dataframe\">\n",
       "  <thead>\n",
       "    <tr style=\"text-align: right;\">\n",
       "      <th></th>\n",
       "      <th>id</th>\n",
       "      <th>f0</th>\n",
       "      <th>f1</th>\n",
       "      <th>f2</th>\n",
       "      <th>product</th>\n",
       "    </tr>\n",
       "  </thead>\n",
       "  <tbody>\n",
       "    <tr>\n",
       "      <th>0</th>\n",
       "      <td>txEyH</td>\n",
       "      <td>0.705745</td>\n",
       "      <td>-0.497823</td>\n",
       "      <td>1.221170</td>\n",
       "      <td>105.280062</td>\n",
       "    </tr>\n",
       "    <tr>\n",
       "      <th>1</th>\n",
       "      <td>2acmU</td>\n",
       "      <td>1.334711</td>\n",
       "      <td>-0.340164</td>\n",
       "      <td>4.365080</td>\n",
       "      <td>73.037750</td>\n",
       "    </tr>\n",
       "    <tr>\n",
       "      <th>2</th>\n",
       "      <td>409Wp</td>\n",
       "      <td>1.022732</td>\n",
       "      <td>0.151990</td>\n",
       "      <td>1.419926</td>\n",
       "      <td>85.265647</td>\n",
       "    </tr>\n",
       "  </tbody>\n",
       "</table>\n",
       "</div>"
      ],
      "text/plain": [
       "      id        f0        f1        f2     product\n",
       "0  txEyH  0.705745 -0.497823  1.221170  105.280062\n",
       "1  2acmU  1.334711 -0.340164  4.365080   73.037750\n",
       "2  409Wp  1.022732  0.151990  1.419926   85.265647"
      ]
     },
     "metadata": {},
     "output_type": "display_data"
    },
    {
     "name": "stdout",
     "output_type": "stream",
     "text": [
      "<class 'pandas.core.frame.DataFrame'>\n",
      "RangeIndex: 100000 entries, 0 to 99999\n",
      "Data columns (total 5 columns):\n",
      " #   Column   Non-Null Count   Dtype  \n",
      "---  ------   --------------   -----  \n",
      " 0   id       100000 non-null  object \n",
      " 1   f0       100000 non-null  float64\n",
      " 2   f1       100000 non-null  float64\n",
      " 3   f2       100000 non-null  float64\n",
      " 4   product  100000 non-null  float64\n",
      "dtypes: float64(4), object(1)\n",
      "memory usage: 3.8+ MB\n"
     ]
    },
    {
     "data": {
      "text/html": [
       "<div>\n",
       "<style scoped>\n",
       "    .dataframe tbody tr th:only-of-type {\n",
       "        vertical-align: middle;\n",
       "    }\n",
       "\n",
       "    .dataframe tbody tr th {\n",
       "        vertical-align: top;\n",
       "    }\n",
       "\n",
       "    .dataframe thead th {\n",
       "        text-align: right;\n",
       "    }\n",
       "</style>\n",
       "<table border=\"1\" class=\"dataframe\">\n",
       "  <thead>\n",
       "    <tr style=\"text-align: right;\">\n",
       "      <th></th>\n",
       "      <th>id</th>\n",
       "      <th>f0</th>\n",
       "      <th>f1</th>\n",
       "      <th>f2</th>\n",
       "      <th>product</th>\n",
       "    </tr>\n",
       "  </thead>\n",
       "  <tbody>\n",
       "    <tr>\n",
       "      <th>0</th>\n",
       "      <td>kBEdx</td>\n",
       "      <td>-15.001348</td>\n",
       "      <td>-8.276000</td>\n",
       "      <td>-0.005876</td>\n",
       "      <td>3.179103</td>\n",
       "    </tr>\n",
       "    <tr>\n",
       "      <th>1</th>\n",
       "      <td>62mP7</td>\n",
       "      <td>14.272088</td>\n",
       "      <td>-3.475083</td>\n",
       "      <td>0.999183</td>\n",
       "      <td>26.953261</td>\n",
       "    </tr>\n",
       "    <tr>\n",
       "      <th>2</th>\n",
       "      <td>vyE1P</td>\n",
       "      <td>6.263187</td>\n",
       "      <td>-5.948386</td>\n",
       "      <td>5.001160</td>\n",
       "      <td>134.766305</td>\n",
       "    </tr>\n",
       "  </tbody>\n",
       "</table>\n",
       "</div>"
      ],
      "text/plain": [
       "      id         f0        f1        f2     product\n",
       "0  kBEdx -15.001348 -8.276000 -0.005876    3.179103\n",
       "1  62mP7  14.272088 -3.475083  0.999183   26.953261\n",
       "2  vyE1P   6.263187 -5.948386  5.001160  134.766305"
      ]
     },
     "metadata": {},
     "output_type": "display_data"
    },
    {
     "name": "stdout",
     "output_type": "stream",
     "text": [
      "<class 'pandas.core.frame.DataFrame'>\n",
      "RangeIndex: 100000 entries, 0 to 99999\n",
      "Data columns (total 5 columns):\n",
      " #   Column   Non-Null Count   Dtype  \n",
      "---  ------   --------------   -----  \n",
      " 0   id       100000 non-null  object \n",
      " 1   f0       100000 non-null  float64\n",
      " 2   f1       100000 non-null  float64\n",
      " 3   f2       100000 non-null  float64\n",
      " 4   product  100000 non-null  float64\n",
      "dtypes: float64(4), object(1)\n",
      "memory usage: 3.8+ MB\n"
     ]
    },
    {
     "data": {
      "text/html": [
       "<div>\n",
       "<style scoped>\n",
       "    .dataframe tbody tr th:only-of-type {\n",
       "        vertical-align: middle;\n",
       "    }\n",
       "\n",
       "    .dataframe tbody tr th {\n",
       "        vertical-align: top;\n",
       "    }\n",
       "\n",
       "    .dataframe thead th {\n",
       "        text-align: right;\n",
       "    }\n",
       "</style>\n",
       "<table border=\"1\" class=\"dataframe\">\n",
       "  <thead>\n",
       "    <tr style=\"text-align: right;\">\n",
       "      <th></th>\n",
       "      <th>id</th>\n",
       "      <th>f0</th>\n",
       "      <th>f1</th>\n",
       "      <th>f2</th>\n",
       "      <th>product</th>\n",
       "    </tr>\n",
       "  </thead>\n",
       "  <tbody>\n",
       "    <tr>\n",
       "      <th>0</th>\n",
       "      <td>fwXo0</td>\n",
       "      <td>-1.146987</td>\n",
       "      <td>0.963328</td>\n",
       "      <td>-0.828965</td>\n",
       "      <td>27.758673</td>\n",
       "    </tr>\n",
       "    <tr>\n",
       "      <th>1</th>\n",
       "      <td>WJtFt</td>\n",
       "      <td>0.262778</td>\n",
       "      <td>0.269839</td>\n",
       "      <td>-2.530187</td>\n",
       "      <td>56.069697</td>\n",
       "    </tr>\n",
       "    <tr>\n",
       "      <th>2</th>\n",
       "      <td>ovLUW</td>\n",
       "      <td>0.194587</td>\n",
       "      <td>0.289035</td>\n",
       "      <td>-5.586433</td>\n",
       "      <td>62.871910</td>\n",
       "    </tr>\n",
       "  </tbody>\n",
       "</table>\n",
       "</div>"
      ],
      "text/plain": [
       "      id        f0        f1        f2    product\n",
       "0  fwXo0 -1.146987  0.963328 -0.828965  27.758673\n",
       "1  WJtFt  0.262778  0.269839 -2.530187  56.069697\n",
       "2  ovLUW  0.194587  0.289035 -5.586433  62.871910"
      ]
     },
     "metadata": {},
     "output_type": "display_data"
    },
    {
     "name": "stdout",
     "output_type": "stream",
     "text": [
      "<class 'pandas.core.frame.DataFrame'>\n",
      "RangeIndex: 100000 entries, 0 to 99999\n",
      "Data columns (total 5 columns):\n",
      " #   Column   Non-Null Count   Dtype  \n",
      "---  ------   --------------   -----  \n",
      " 0   id       100000 non-null  object \n",
      " 1   f0       100000 non-null  float64\n",
      " 2   f1       100000 non-null  float64\n",
      " 3   f2       100000 non-null  float64\n",
      " 4   product  100000 non-null  float64\n",
      "dtypes: float64(4), object(1)\n",
      "memory usage: 3.8+ MB\n"
     ]
    }
   ],
   "source": [
    "dfs = []\n",
    "for i in range(0, 3):\n",
    "    df = pd.read_csv(PATH.replace('*', str(i)))    \n",
    "    display(df.head(3))    \n",
    "    df.info()\n",
    "    dfs.append(df)"
   ]
  },
  {
   "cell_type": "markdown",
   "metadata": {},
   "source": [
    "Типы данных определены верно, данные интерпретированы корректно. Пропуски отсутствуют. Столбцы именованы в snake_case.\n",
    "\n",
    "Изучим описательную статистику и распределение данных для нулевого региона:"
   ]
  },
  {
   "cell_type": "code",
   "execution_count": 4,
   "metadata": {
    "scrolled": false
   },
   "outputs": [
    {
     "data": {
      "text/html": [
       "<div>\n",
       "<style scoped>\n",
       "    .dataframe tbody tr th:only-of-type {\n",
       "        vertical-align: middle;\n",
       "    }\n",
       "\n",
       "    .dataframe tbody tr th {\n",
       "        vertical-align: top;\n",
       "    }\n",
       "\n",
       "    .dataframe thead th {\n",
       "        text-align: right;\n",
       "    }\n",
       "</style>\n",
       "<table border=\"1\" class=\"dataframe\">\n",
       "  <thead>\n",
       "    <tr style=\"text-align: right;\">\n",
       "      <th></th>\n",
       "      <th>f0</th>\n",
       "      <th>f1</th>\n",
       "      <th>f2</th>\n",
       "      <th>product</th>\n",
       "    </tr>\n",
       "  </thead>\n",
       "  <tbody>\n",
       "    <tr>\n",
       "      <th>count</th>\n",
       "      <td>100000.000000</td>\n",
       "      <td>100000.000000</td>\n",
       "      <td>100000.000000</td>\n",
       "      <td>100000.000000</td>\n",
       "    </tr>\n",
       "    <tr>\n",
       "      <th>mean</th>\n",
       "      <td>0.500419</td>\n",
       "      <td>0.250143</td>\n",
       "      <td>2.502647</td>\n",
       "      <td>92.500000</td>\n",
       "    </tr>\n",
       "    <tr>\n",
       "      <th>std</th>\n",
       "      <td>0.871832</td>\n",
       "      <td>0.504433</td>\n",
       "      <td>3.248248</td>\n",
       "      <td>44.288691</td>\n",
       "    </tr>\n",
       "    <tr>\n",
       "      <th>min</th>\n",
       "      <td>-1.408605</td>\n",
       "      <td>-0.848218</td>\n",
       "      <td>-12.088328</td>\n",
       "      <td>0.000000</td>\n",
       "    </tr>\n",
       "    <tr>\n",
       "      <th>25%</th>\n",
       "      <td>-0.072580</td>\n",
       "      <td>-0.200881</td>\n",
       "      <td>0.287748</td>\n",
       "      <td>56.497507</td>\n",
       "    </tr>\n",
       "    <tr>\n",
       "      <th>50%</th>\n",
       "      <td>0.502360</td>\n",
       "      <td>0.250252</td>\n",
       "      <td>2.515969</td>\n",
       "      <td>91.849972</td>\n",
       "    </tr>\n",
       "    <tr>\n",
       "      <th>75%</th>\n",
       "      <td>1.073581</td>\n",
       "      <td>0.700646</td>\n",
       "      <td>4.715088</td>\n",
       "      <td>128.564089</td>\n",
       "    </tr>\n",
       "    <tr>\n",
       "      <th>max</th>\n",
       "      <td>2.362331</td>\n",
       "      <td>1.343769</td>\n",
       "      <td>16.003790</td>\n",
       "      <td>185.364347</td>\n",
       "    </tr>\n",
       "  </tbody>\n",
       "</table>\n",
       "</div>"
      ],
      "text/plain": [
       "                  f0             f1             f2        product\n",
       "count  100000.000000  100000.000000  100000.000000  100000.000000\n",
       "mean        0.500419       0.250143       2.502647      92.500000\n",
       "std         0.871832       0.504433       3.248248      44.288691\n",
       "min        -1.408605      -0.848218     -12.088328       0.000000\n",
       "25%        -0.072580      -0.200881       0.287748      56.497507\n",
       "50%         0.502360       0.250252       2.515969      91.849972\n",
       "75%         1.073581       0.700646       4.715088     128.564089\n",
       "max         2.362331       1.343769      16.003790     185.364347"
      ]
     },
     "metadata": {},
     "output_type": "display_data"
    },
    {
     "data": {
      "text/plain": [
       "array([[<AxesSubplot:title={'center':'f0'}>,\n",
       "        <AxesSubplot:title={'center':'f1'}>],\n",
       "       [<AxesSubplot:title={'center':'f2'}>,\n",
       "        <AxesSubplot:title={'center':'product'}>]], dtype=object)"
      ]
     },
     "execution_count": 4,
     "metadata": {},
     "output_type": "execute_result"
    },
    {
     "data": {
      "image/png": "[encoded data removed]",
      "text/plain": [
       "<Figure size 1152x576 with 4 Axes>"
      ]
     },
     "metadata": {
      "needs_background": "light"
     },
     "output_type": "display_data"
    }
   ],
   "source": [
    "display(dfs[0].describe())\n",
    "dfs[0].hist(figsize=(16, 8), bins=100)"
   ]
  },
  {
   "cell_type": "markdown",
   "metadata": {},
   "source": [
    "Первого региона:"
   ]
  },
  {
   "cell_type": "code",
   "execution_count": 5,
   "metadata": {},
   "outputs": [
    {
     "data": {
      "text/html": [
       "<div>\n",
       "<style scoped>\n",
       "    .dataframe tbody tr th:only-of-type {\n",
       "        vertical-align: middle;\n",
       "    }\n",
       "\n",
       "    .dataframe tbody tr th {\n",
       "        vertical-align: top;\n",
       "    }\n",
       "\n",
       "    .dataframe thead th {\n",
       "        text-align: right;\n",
       "    }\n",
       "</style>\n",
       "<table border=\"1\" class=\"dataframe\">\n",
       "  <thead>\n",
       "    <tr style=\"text-align: right;\">\n",
       "      <th></th>\n",
       "      <th>f0</th>\n",
       "      <th>f1</th>\n",
       "      <th>f2</th>\n",
       "      <th>product</th>\n",
       "    </tr>\n",
       "  </thead>\n",
       "  <tbody>\n",
       "    <tr>\n",
       "      <th>count</th>\n",
       "      <td>100000.000000</td>\n",
       "      <td>100000.000000</td>\n",
       "      <td>100000.000000</td>\n",
       "      <td>100000.000000</td>\n",
       "    </tr>\n",
       "    <tr>\n",
       "      <th>mean</th>\n",
       "      <td>1.141296</td>\n",
       "      <td>-4.796579</td>\n",
       "      <td>2.494541</td>\n",
       "      <td>68.825000</td>\n",
       "    </tr>\n",
       "    <tr>\n",
       "      <th>std</th>\n",
       "      <td>8.965932</td>\n",
       "      <td>5.119872</td>\n",
       "      <td>1.703572</td>\n",
       "      <td>45.944423</td>\n",
       "    </tr>\n",
       "    <tr>\n",
       "      <th>min</th>\n",
       "      <td>-31.609576</td>\n",
       "      <td>-26.358598</td>\n",
       "      <td>-0.018144</td>\n",
       "      <td>0.000000</td>\n",
       "    </tr>\n",
       "    <tr>\n",
       "      <th>25%</th>\n",
       "      <td>-6.298551</td>\n",
       "      <td>-8.267985</td>\n",
       "      <td>1.000021</td>\n",
       "      <td>26.953261</td>\n",
       "    </tr>\n",
       "    <tr>\n",
       "      <th>50%</th>\n",
       "      <td>1.153055</td>\n",
       "      <td>-4.813172</td>\n",
       "      <td>2.011479</td>\n",
       "      <td>57.085625</td>\n",
       "    </tr>\n",
       "    <tr>\n",
       "      <th>75%</th>\n",
       "      <td>8.621015</td>\n",
       "      <td>-1.332816</td>\n",
       "      <td>3.999904</td>\n",
       "      <td>107.813044</td>\n",
       "    </tr>\n",
       "    <tr>\n",
       "      <th>max</th>\n",
       "      <td>29.421755</td>\n",
       "      <td>18.734063</td>\n",
       "      <td>5.019721</td>\n",
       "      <td>137.945408</td>\n",
       "    </tr>\n",
       "  </tbody>\n",
       "</table>\n",
       "</div>"
      ],
      "text/plain": [
       "                  f0             f1             f2        product\n",
       "count  100000.000000  100000.000000  100000.000000  100000.000000\n",
       "mean        1.141296      -4.796579       2.494541      68.825000\n",
       "std         8.965932       5.119872       1.703572      45.944423\n",
       "min       -31.609576     -26.358598      -0.018144       0.000000\n",
       "25%        -6.298551      -8.267985       1.000021      26.953261\n",
       "50%         1.153055      -4.813172       2.011479      57.085625\n",
       "75%         8.621015      -1.332816       3.999904     107.813044\n",
       "max        29.421755      18.734063       5.019721     137.945408"
      ]
     },
     "metadata": {},
     "output_type": "display_data"
    },
    {
     "data": {
      "text/plain": [
       "array([[<AxesSubplot:title={'center':'f0'}>,\n",
       "        <AxesSubplot:title={'center':'f1'}>],\n",
       "       [<AxesSubplot:title={'center':'f2'}>,\n",
       "        <AxesSubplot:title={'center':'product'}>]], dtype=object)"
      ]
     },
     "execution_count": 5,
     "metadata": {},
     "output_type": "execute_result"
    },
    {
     "data": {
      "image/png": "[encoded data removed]",
      "text/plain": [
       "<Figure size 1152x576 with 4 Axes>"
      ]
     },
     "metadata": {
      "needs_background": "light"
     },
     "output_type": "display_data"
    }
   ],
   "source": [
    "display(dfs[1].describe())\n",
    "dfs[1].hist(figsize=(16, 8), bins=100)"
   ]
  },
  {
   "cell_type": "markdown",
   "metadata": {},
   "source": [
    "И второго региона:"
   ]
  },
  {
   "cell_type": "code",
   "execution_count": 6,
   "metadata": {},
   "outputs": [
    {
     "data": {
      "text/html": [
       "<div>\n",
       "<style scoped>\n",
       "    .dataframe tbody tr th:only-of-type {\n",
       "        vertical-align: middle;\n",
       "    }\n",
       "\n",
       "    .dataframe tbody tr th {\n",
       "        vertical-align: top;\n",
       "    }\n",
       "\n",
       "    .dataframe thead th {\n",
       "        text-align: right;\n",
       "    }\n",
       "</style>\n",
       "<table border=\"1\" class=\"dataframe\">\n",
       "  <thead>\n",
       "    <tr style=\"text-align: right;\">\n",
       "      <th></th>\n",
       "      <th>f0</th>\n",
       "      <th>f1</th>\n",
       "      <th>f2</th>\n",
       "      <th>product</th>\n",
       "    </tr>\n",
       "  </thead>\n",
       "  <tbody>\n",
       "    <tr>\n",
       "      <th>count</th>\n",
       "      <td>100000.000000</td>\n",
       "      <td>100000.000000</td>\n",
       "      <td>100000.000000</td>\n",
       "      <td>100000.000000</td>\n",
       "    </tr>\n",
       "    <tr>\n",
       "      <th>mean</th>\n",
       "      <td>0.002023</td>\n",
       "      <td>-0.002081</td>\n",
       "      <td>2.495128</td>\n",
       "      <td>95.000000</td>\n",
       "    </tr>\n",
       "    <tr>\n",
       "      <th>std</th>\n",
       "      <td>1.732045</td>\n",
       "      <td>1.730417</td>\n",
       "      <td>3.473445</td>\n",
       "      <td>44.749921</td>\n",
       "    </tr>\n",
       "    <tr>\n",
       "      <th>min</th>\n",
       "      <td>-8.760004</td>\n",
       "      <td>-7.084020</td>\n",
       "      <td>-11.970335</td>\n",
       "      <td>0.000000</td>\n",
       "    </tr>\n",
       "    <tr>\n",
       "      <th>25%</th>\n",
       "      <td>-1.162288</td>\n",
       "      <td>-1.174820</td>\n",
       "      <td>0.130359</td>\n",
       "      <td>59.450441</td>\n",
       "    </tr>\n",
       "    <tr>\n",
       "      <th>50%</th>\n",
       "      <td>0.009424</td>\n",
       "      <td>-0.009482</td>\n",
       "      <td>2.484236</td>\n",
       "      <td>94.925613</td>\n",
       "    </tr>\n",
       "    <tr>\n",
       "      <th>75%</th>\n",
       "      <td>1.158535</td>\n",
       "      <td>1.163678</td>\n",
       "      <td>4.858794</td>\n",
       "      <td>130.595027</td>\n",
       "    </tr>\n",
       "    <tr>\n",
       "      <th>max</th>\n",
       "      <td>7.238262</td>\n",
       "      <td>7.844801</td>\n",
       "      <td>16.739402</td>\n",
       "      <td>190.029838</td>\n",
       "    </tr>\n",
       "  </tbody>\n",
       "</table>\n",
       "</div>"
      ],
      "text/plain": [
       "                  f0             f1             f2        product\n",
       "count  100000.000000  100000.000000  100000.000000  100000.000000\n",
       "mean        0.002023      -0.002081       2.495128      95.000000\n",
       "std         1.732045       1.730417       3.473445      44.749921\n",
       "min        -8.760004      -7.084020     -11.970335       0.000000\n",
       "25%        -1.162288      -1.174820       0.130359      59.450441\n",
       "50%         0.009424      -0.009482       2.484236      94.925613\n",
       "75%         1.158535       1.163678       4.858794     130.595027\n",
       "max         7.238262       7.844801      16.739402     190.029838"
      ]
     },
     "metadata": {},
     "output_type": "display_data"
    },
    {
     "data": {
      "text/plain": [
       "array([[<AxesSubplot:title={'center':'f0'}>,\n",
       "        <AxesSubplot:title={'center':'f1'}>],\n",
       "       [<AxesSubplot:title={'center':'f2'}>,\n",
       "        <AxesSubplot:title={'center':'product'}>]], dtype=object)"
      ]
     },
     "execution_count": 6,
     "metadata": {},
     "output_type": "execute_result"
    },
    {
     "data": {
      "image/png": "[encoded data removed]",
      "text/plain": [
       "<Figure size 1152x576 with 4 Axes>"
      ]
     },
     "metadata": {
      "needs_background": "light"
     },
     "output_type": "display_data"
    }
   ],
   "source": [
    "display(dfs[2].describe())\n",
    "dfs[2].hist(figsize=(16, 8), bins=100)"
   ]
  },
  {
   "cell_type": "markdown",
   "metadata": {},
   "source": [
    "По условиям задачи, нам неизвестны единицы измерения, реальный диапазон и природа признаков `f0`, `f1` и `f2`. Поэтому сложно сказать что-либо опеределенное, глядя на гистограммы и описательную статистику этих величин. Отметим лишь их различный масштаб. \n",
    "\n",
    "Целевой признак `product` в описательной статистике выглядит правдоподобно. На распределениях демонстрирует яркую мультимодальность для всех регионов. При этом в распределении для первого региона, будто бы, оставлены только наиболее частотные значения. Мультимодальность говорит о наличии фактора, который делит скважины на группы по объему запасов. \n",
    "### Работа с дубликатами\n",
    "Поищем явные и неявные дубликаты."
   ]
  },
  {
   "cell_type": "code",
   "execution_count": 7,
   "metadata": {
    "scrolled": true
   },
   "outputs": [
    {
     "name": "stdout",
     "output_type": "stream",
     "text": [
      "Количество явных дубликатов:\n",
      " - датасет 0: 0\n",
      " - датасет 1: 0\n",
      " - датасет 2: 0\n"
     ]
    }
   ],
   "source": [
    "print('Количество явных дубликатов:')\n",
    "for i in range(0, len(dfs)):\n",
    "    print(' - датасет {0}: {1}'.format(i, dfs[i].duplicated().sum()))"
   ]
  },
  {
   "cell_type": "markdown",
   "metadata": {},
   "source": [
    "Явные дубликаты отсутствуют. "
   ]
  },
  {
   "cell_type": "code",
   "execution_count": 8,
   "metadata": {
    "scrolled": true
   },
   "outputs": [
    {
     "name": "stdout",
     "output_type": "stream",
     "text": [
      "Количество неявных дубликатов:\n",
      " - датасет 0: 10\n",
      " - датасет 1: 4\n",
      " - датасет 2: 4\n"
     ]
    }
   ],
   "source": [
    "print('Количество неявных дубликатов:')\n",
    "for i in range(0, len(dfs)):\n",
    "    print(' - датасет {0}: {1}'.format(i, dfs[i]['id'].duplicated().sum()))"
   ]
  },
  {
   "cell_type": "markdown",
   "metadata": {},
   "source": [
    "В столбце `id` каждого датасета содержится несколько неявных дубликатов. Избавимся от всех записей с неявными дубликатами, т.к.:\n",
    " - иденификатор скважины, по условиям задачи, уникален,\n",
    " - мы не знаем какая из записей с повторяющимся `id` содержит достоверную информацию,  \n",
    " - количество записей с дубликатами пренебрежимо мало."
   ]
  },
  {
   "cell_type": "code",
   "execution_count": 9,
   "metadata": {},
   "outputs": [],
   "source": [
    "for i in range(0, len(dfs)):\n",
    "    dfs[i] = dfs[i].drop_duplicates(subset=['id'], keep=False, ignore_index=True)"
   ]
  },
  {
   "cell_type": "markdown",
   "metadata": {},
   "source": [
    "### Проверка преобразований"
   ]
  },
  {
   "cell_type": "code",
   "execution_count": 10,
   "metadata": {},
   "outputs": [
    {
     "data": {
      "text/html": [
       "<div>\n",
       "<style scoped>\n",
       "    .dataframe tbody tr th:only-of-type {\n",
       "        vertical-align: middle;\n",
       "    }\n",
       "\n",
       "    .dataframe tbody tr th {\n",
       "        vertical-align: top;\n",
       "    }\n",
       "\n",
       "    .dataframe thead th {\n",
       "        text-align: right;\n",
       "    }\n",
       "</style>\n",
       "<table border=\"1\" class=\"dataframe\">\n",
       "  <thead>\n",
       "    <tr style=\"text-align: right;\">\n",
       "      <th></th>\n",
       "      <th>id</th>\n",
       "      <th>f0</th>\n",
       "      <th>f1</th>\n",
       "      <th>f2</th>\n",
       "      <th>product</th>\n",
       "    </tr>\n",
       "  </thead>\n",
       "  <tbody>\n",
       "    <tr>\n",
       "      <th>0</th>\n",
       "      <td>txEyH</td>\n",
       "      <td>0.705745</td>\n",
       "      <td>-0.497823</td>\n",
       "      <td>1.221170</td>\n",
       "      <td>105.280062</td>\n",
       "    </tr>\n",
       "    <tr>\n",
       "      <th>1</th>\n",
       "      <td>2acmU</td>\n",
       "      <td>1.334711</td>\n",
       "      <td>-0.340164</td>\n",
       "      <td>4.365080</td>\n",
       "      <td>73.037750</td>\n",
       "    </tr>\n",
       "    <tr>\n",
       "      <th>2</th>\n",
       "      <td>409Wp</td>\n",
       "      <td>1.022732</td>\n",
       "      <td>0.151990</td>\n",
       "      <td>1.419926</td>\n",
       "      <td>85.265647</td>\n",
       "    </tr>\n",
       "  </tbody>\n",
       "</table>\n",
       "</div>"
      ],
      "text/plain": [
       "      id        f0        f1        f2     product\n",
       "0  txEyH  0.705745 -0.497823  1.221170  105.280062\n",
       "1  2acmU  1.334711 -0.340164  4.365080   73.037750\n",
       "2  409Wp  1.022732  0.151990  1.419926   85.265647"
      ]
     },
     "metadata": {},
     "output_type": "display_data"
    },
    {
     "name": "stdout",
     "output_type": "stream",
     "text": [
      "<class 'pandas.core.frame.DataFrame'>\n",
      "RangeIndex: 99980 entries, 0 to 99979\n",
      "Data columns (total 5 columns):\n",
      " #   Column   Non-Null Count  Dtype  \n",
      "---  ------   --------------  -----  \n",
      " 0   id       99980 non-null  object \n",
      " 1   f0       99980 non-null  float64\n",
      " 2   f1       99980 non-null  float64\n",
      " 3   f2       99980 non-null  float64\n",
      " 4   product  99980 non-null  float64\n",
      "dtypes: float64(4), object(1)\n",
      "memory usage: 3.8+ MB\n"
     ]
    },
    {
     "data": {
      "text/html": [
       "<div>\n",
       "<style scoped>\n",
       "    .dataframe tbody tr th:only-of-type {\n",
       "        vertical-align: middle;\n",
       "    }\n",
       "\n",
       "    .dataframe tbody tr th {\n",
       "        vertical-align: top;\n",
       "    }\n",
       "\n",
       "    .dataframe thead th {\n",
       "        text-align: right;\n",
       "    }\n",
       "</style>\n",
       "<table border=\"1\" class=\"dataframe\">\n",
       "  <thead>\n",
       "    <tr style=\"text-align: right;\">\n",
       "      <th></th>\n",
       "      <th>id</th>\n",
       "      <th>f0</th>\n",
       "      <th>f1</th>\n",
       "      <th>f2</th>\n",
       "      <th>product</th>\n",
       "    </tr>\n",
       "  </thead>\n",
       "  <tbody>\n",
       "    <tr>\n",
       "      <th>0</th>\n",
       "      <td>kBEdx</td>\n",
       "      <td>-15.001348</td>\n",
       "      <td>-8.276000</td>\n",
       "      <td>-0.005876</td>\n",
       "      <td>3.179103</td>\n",
       "    </tr>\n",
       "    <tr>\n",
       "      <th>1</th>\n",
       "      <td>62mP7</td>\n",
       "      <td>14.272088</td>\n",
       "      <td>-3.475083</td>\n",
       "      <td>0.999183</td>\n",
       "      <td>26.953261</td>\n",
       "    </tr>\n",
       "    <tr>\n",
       "      <th>2</th>\n",
       "      <td>vyE1P</td>\n",
       "      <td>6.263187</td>\n",
       "      <td>-5.948386</td>\n",
       "      <td>5.001160</td>\n",
       "      <td>134.766305</td>\n",
       "    </tr>\n",
       "  </tbody>\n",
       "</table>\n",
       "</div>"
      ],
      "text/plain": [
       "      id         f0        f1        f2     product\n",
       "0  kBEdx -15.001348 -8.276000 -0.005876    3.179103\n",
       "1  62mP7  14.272088 -3.475083  0.999183   26.953261\n",
       "2  vyE1P   6.263187 -5.948386  5.001160  134.766305"
      ]
     },
     "metadata": {},
     "output_type": "display_data"
    },
    {
     "name": "stdout",
     "output_type": "stream",
     "text": [
      "<class 'pandas.core.frame.DataFrame'>\n",
      "RangeIndex: 99992 entries, 0 to 99991\n",
      "Data columns (total 5 columns):\n",
      " #   Column   Non-Null Count  Dtype  \n",
      "---  ------   --------------  -----  \n",
      " 0   id       99992 non-null  object \n",
      " 1   f0       99992 non-null  float64\n",
      " 2   f1       99992 non-null  float64\n",
      " 3   f2       99992 non-null  float64\n",
      " 4   product  99992 non-null  float64\n",
      "dtypes: float64(4), object(1)\n",
      "memory usage: 3.8+ MB\n"
     ]
    },
    {
     "data": {
      "text/html": [
       "<div>\n",
       "<style scoped>\n",
       "    .dataframe tbody tr th:only-of-type {\n",
       "        vertical-align: middle;\n",
       "    }\n",
       "\n",
       "    .dataframe tbody tr th {\n",
       "        vertical-align: top;\n",
       "    }\n",
       "\n",
       "    .dataframe thead th {\n",
       "        text-align: right;\n",
       "    }\n",
       "</style>\n",
       "<table border=\"1\" class=\"dataframe\">\n",
       "  <thead>\n",
       "    <tr style=\"text-align: right;\">\n",
       "      <th></th>\n",
       "      <th>id</th>\n",
       "      <th>f0</th>\n",
       "      <th>f1</th>\n",
       "      <th>f2</th>\n",
       "      <th>product</th>\n",
       "    </tr>\n",
       "  </thead>\n",
       "  <tbody>\n",
       "    <tr>\n",
       "      <th>0</th>\n",
       "      <td>fwXo0</td>\n",
       "      <td>-1.146987</td>\n",
       "      <td>0.963328</td>\n",
       "      <td>-0.828965</td>\n",
       "      <td>27.758673</td>\n",
       "    </tr>\n",
       "    <tr>\n",
       "      <th>1</th>\n",
       "      <td>WJtFt</td>\n",
       "      <td>0.262778</td>\n",
       "      <td>0.269839</td>\n",
       "      <td>-2.530187</td>\n",
       "      <td>56.069697</td>\n",
       "    </tr>\n",
       "    <tr>\n",
       "      <th>2</th>\n",
       "      <td>ovLUW</td>\n",
       "      <td>0.194587</td>\n",
       "      <td>0.289035</td>\n",
       "      <td>-5.586433</td>\n",
       "      <td>62.871910</td>\n",
       "    </tr>\n",
       "  </tbody>\n",
       "</table>\n",
       "</div>"
      ],
      "text/plain": [
       "      id        f0        f1        f2    product\n",
       "0  fwXo0 -1.146987  0.963328 -0.828965  27.758673\n",
       "1  WJtFt  0.262778  0.269839 -2.530187  56.069697\n",
       "2  ovLUW  0.194587  0.289035 -5.586433  62.871910"
      ]
     },
     "metadata": {},
     "output_type": "display_data"
    },
    {
     "name": "stdout",
     "output_type": "stream",
     "text": [
      "<class 'pandas.core.frame.DataFrame'>\n",
      "RangeIndex: 99992 entries, 0 to 99991\n",
      "Data columns (total 5 columns):\n",
      " #   Column   Non-Null Count  Dtype  \n",
      "---  ------   --------------  -----  \n",
      " 0   id       99992 non-null  object \n",
      " 1   f0       99992 non-null  float64\n",
      " 2   f1       99992 non-null  float64\n",
      " 3   f2       99992 non-null  float64\n",
      " 4   product  99992 non-null  float64\n",
      "dtypes: float64(4), object(1)\n",
      "memory usage: 3.8+ MB\n"
     ]
    }
   ],
   "source": [
    "for df in dfs:    \n",
    "    display(df.head(3))    \n",
    "    df.info()    "
   ]
  },
  {
   "cell_type": "markdown",
   "metadata": {},
   "source": [
    "Преобразования прошли корректно.\n",
    "## Обучение и проверка модели\n",
    "В рамках настоящего исследования нам предстоит решить задачу регрессии. В качестве модели используем `LinearRegression`. Определим признаки. "
   ]
  },
  {
   "cell_type": "code",
   "execution_count": 11,
   "metadata": {},
   "outputs": [
    {
     "name": "stdout",
     "output_type": "stream",
     "text": [
      "Признаки объекта: ['f0', 'f1', 'f2'] \n",
      "Целевой признак объекта: product\n"
     ]
    }
   ],
   "source": [
    "print('Признаки объекта:', FEATURES,\n",
    "      '\\nЦелевой признак объекта:', TARGET)"
   ]
  },
  {
   "cell_type": "code",
   "execution_count": 12,
   "metadata": {
    "scrolled": false
   },
   "outputs": [],
   "source": [
    "productions_true_pred = []\n",
    "d = {'rmse' : [],\n",
    "     'production_true_mean' : [],\n",
    "     'production_pred_mean' : []}\n",
    "#Для каждого региона\n",
    "for df in dfs: \n",
    "    #формируем обучающую и валидационную выборку\n",
    "    f_train, f_valid, t_train, t_valid = train_test_split(df[FEATURES], \n",
    "                                                          df[TARGET], \n",
    "                                                          test_size=0.25, \n",
    "                                                          random_state=SEED)\n",
    "    #масштабируем признаки\n",
    "    scaler = StandardScaler()    \n",
    "    f_train = pd.DataFrame(scaler.fit_transform(f_train), columns=FEATURES)\n",
    "    f_valid = pd.DataFrame(scaler.transform(f_valid), columns=FEATURES)\n",
    "    #обучаем модель\n",
    "    model = LinearRegression()\n",
    "    model.fit(f_train, t_train)\n",
    "    #делаем предсказания на валидационной выборке\n",
    "    p_valid = pd.Series(model.predict(f_valid))\n",
    "    t_valid = t_valid.reset_index(drop=True)\n",
    "    #сохраняем предсказания и правильные ответы\n",
    "    productions_true_pred.append(pd.DataFrame({'t_valid' : t_valid,\n",
    "                                              'p_valid' : p_valid}))\n",
    "    #сохраняем реальный, предсказанный средний запас сырья и RMSE модели    \n",
    "    d['production_true_mean'].append(t_valid.mean())\n",
    "    d['production_pred_mean'].append(p_valid.mean())\n",
    "    d['rmse'].append(mean_squared_error(t_valid, p_valid, squared=False))\n",
    "#формируем сводную таблицу по регионам \n",
    "metrics = pd.DataFrame(d, index=['region_0', 'region_1', 'region_2'])"
   ]
  },
  {
   "cell_type": "markdown",
   "metadata": {},
   "source": [
    "Рассмотрим средний запас предсказанного сырья и RMSE моделей по регионам. Выделим регионы с максимальным средним запасом на скважину и минимальной RMSE."
   ]
  },
  {
   "cell_type": "code",
   "execution_count": 13,
   "metadata": {},
   "outputs": [
    {
     "data": {
      "text/html": [
       "<style  type=\"text/css\" >\n",
       "#T_c9fe7_row1_col0,#T_c9fe7_row2_col1,#T_c9fe7_row2_col2{\n",
       "            background-color:  lightblue;\n",
       "        }</style><table id=\"T_c9fe7_\" ><thead>    <tr>        <th class=\"blank level0\" ></th>        <th class=\"col_heading level0 col0\" >rmse</th>        <th class=\"col_heading level0 col1\" >production_true_mean</th>        <th class=\"col_heading level0 col2\" >production_pred_mean</th>    </tr></thead><tbody>\n",
       "                <tr>\n",
       "                        <th id=\"T_c9fe7_level0_row0\" class=\"row_heading level0 row0\" >region_0</th>\n",
       "                        <td id=\"T_c9fe7_row0_col0\" class=\"data row0 col0\" >37.665527</td>\n",
       "                        <td id=\"T_c9fe7_row0_col1\" class=\"data row0 col1\" >91.965657</td>\n",
       "                        <td id=\"T_c9fe7_row0_col2\" class=\"data row0 col2\" >92.769087</td>\n",
       "            </tr>\n",
       "            <tr>\n",
       "                        <th id=\"T_c9fe7_level0_row1\" class=\"row_heading level0 row1\" >region_1</th>\n",
       "                        <td id=\"T_c9fe7_row1_col0\" class=\"data row1 col0\" >0.885462</td>\n",
       "                        <td id=\"T_c9fe7_row1_col1\" class=\"data row1 col1\" >68.850943</td>\n",
       "                        <td id=\"T_c9fe7_row1_col2\" class=\"data row1 col2\" >68.854205</td>\n",
       "            </tr>\n",
       "            <tr>\n",
       "                        <th id=\"T_c9fe7_level0_row2\" class=\"row_heading level0 row2\" >region_2</th>\n",
       "                        <td id=\"T_c9fe7_row2_col0\" class=\"data row2 col0\" >40.066490</td>\n",
       "                        <td id=\"T_c9fe7_row2_col1\" class=\"data row2 col1\" >95.019674</td>\n",
       "                        <td id=\"T_c9fe7_row2_col2\" class=\"data row2 col2\" >95.088482</td>\n",
       "            </tr>\n",
       "    </tbody></table>"
      ],
      "text/plain": [
       "<pandas.io.formats.style.Styler at 0x7f2af194f5e0>"
      ]
     },
     "execution_count": 13,
     "metadata": {},
     "output_type": "execute_result"
    }
   ],
   "source": [
    "metrics\n",
    "s = metrics.style\n",
    "s.highlight_max(subset=['production_true_mean', 'production_pred_mean'], \n",
    "                color='lightblue', \n",
    "                axis=0)\n",
    "s.highlight_min(subset=['rmse'], \n",
    "                color='lightblue', \n",
    "                axis=0)"
   ]
  },
  {
   "cell_type": "markdown",
   "metadata": {},
   "source": [
    "По показателю RMSE нулевой и второй регионы демонстрируют сопоставимые значения: ~38 и ~40 тыс.барр. соответственно. На их фоне первый регион показывает результат на два порядка ниже: менее 1 тыс.барр. Учитывая искусственную природу используемых данных, предположим, что низкая RMSE для первого региона предусмотрена авторами задачи.\n",
    "\n",
    "Отметим, что реальный и предсказанный средний запас сырья на скважину практически не отличается, несмотря на существенные значения RMSE для нулевого и второго регионов.  \n",
    "\n",
    "По показателю реального и предсказанного среднего объема сырья на скважину (`production_true_mean`, `production_pred_mean`) лидирует второй регион: ~95 тыс.барр. За ним с небольшой разницей следует нулевой регион: ~92-93 тыс.барр. Первый регион показывает самый низкий результат: ~69 тыс.барр. \n",
    "\n",
    "## Подготовка к расчёту прибыли\n",
    "Рассчитаем средний запас сырья на скважину (тыс.барр.) для безубыточной разработки 200 скважин."
   ]
  },
  {
   "cell_type": "code",
   "execution_count": 14,
   "metadata": {},
   "outputs": [
    {
     "data": {
      "text/plain": [
       "111.111111"
      ]
     },
     "execution_count": 14,
     "metadata": {},
     "output_type": "execute_result"
    }
   ],
   "source": [
    "break_even_point = round(BUDGET / INCOME_PER_UNIT / PTS_TO_PICK, 6)\n",
    "break_even_point"
   ]
  },
  {
   "cell_type": "markdown",
   "metadata": {},
   "source": [
    "С помощью столбчатой диаграммы сравним полученный объём сырья с запасами в каждом регионе."
   ]
  },
  {
   "cell_type": "code",
   "execution_count": 15,
   "metadata": {},
   "outputs": [
    {
     "data": {
      "image/png": "[encoded data removed]",
      "text/plain": [
       "<Figure size 1152x540 with 2 Axes>"
      ]
     },
     "metadata": {
      "needs_background": "light"
     },
     "output_type": "display_data"
    }
   ],
   "source": [
    "fig, axis = plt.subplots(1, 2, figsize=(16, 7.5))\n",
    "#строим диаграммы для средних запасаов \n",
    "axis[0].bar(metrics.index, \n",
    "         np.full(3, break_even_point), \n",
    "         width=0.5, \n",
    "         align='center', \n",
    "         color='coral',         \n",
    "         alpha=0.5,\n",
    "         label='Безубыточный')\n",
    "axis[0].bar(metrics.index, \n",
    "         metrics['production_true_mean'], \n",
    "         width=-0.25, \n",
    "         align='edge', \n",
    "         color='lightblue', \n",
    "         label='Средний реальный')\n",
    "axis[0].bar(metrics.index, \n",
    "         metrics['production_pred_mean'], \n",
    "         width=0.25, \n",
    "         align='edge', \n",
    "         label='Средний предсказанный')\n",
    "axis[0].grid(True)\n",
    "axis[0].set_ylim([0, 150])\n",
    "axis[0].set_xlabel('Регион')\n",
    "axis[0].set_ylabel('Запас сырья на скважину, тыс.барр.')\n",
    "axis[0].legend(loc='upper left')\n",
    "#строим диаграммы запасаов 75го перцентиля\n",
    "axis[1].bar(metrics.index, \n",
    "         np.full(3, break_even_point), \n",
    "         width=0.5, \n",
    "         align='center', \n",
    "         color='coral',         \n",
    "         alpha=0.5,\n",
    "         label='Безубыточный')\n",
    "axis[1].bar(metrics.index, \n",
    "         list(map(lambda p: p['t_valid'].quantile(0.75), productions_true_pred)), \n",
    "         width=-0.25, \n",
    "         align='edge', \n",
    "         color='lightblue', \n",
    "         label='75й перцентиль реальный')\n",
    "axis[1].bar(metrics.index, \n",
    "         list(map(lambda p: p['p_valid'].quantile(0.75), productions_true_pred)), \n",
    "         width=0.25, \n",
    "         align='edge', \n",
    "         label='75й перцентиль предсказанный')\n",
    "axis[1].grid(True)\n",
    "axis[1].set_ylim([0, 150])\n",
    "axis[1].set_xlabel('Регион')\n",
    "axis[1].set_ylabel('Запас сырья на скважину, тыс.барр.')\n",
    "axis[1].legend(loc='upper left')\n",
    "\n",
    "fig.show()"
   ]
  },
  {
   "cell_type": "markdown",
   "metadata": {},
   "source": [
    "Для всех регионов: \n",
    "- средний запас сырья на скважину значительно ниже уровня, необходимого для безубыточной разработки 200 скважин,\n",
    "- 25% скважин (находящиеся за 75м перцентилем) имеют запас близкий или превышающий этот уровень.\n",
    "\n",
    "## Расчёт прибыли и рисков "
   ]
  },
  {
   "cell_type": "markdown",
   "metadata": {},
   "source": [
    "Опишем функцию для расчёта прибыли от 200 скважин, отобранных по предсказаниям модели."
   ]
  },
  {
   "cell_type": "code",
   "execution_count": 16,
   "metadata": {},
   "outputs": [],
   "source": [
    "def calc_income(data):\n",
    "    \"\"\"Выбирает PTS_TO_PICK скважин с максимальными \n",
    "    предсказанными запасами. Возвращает прибыль, \n",
    "    рассчитаную по реальным запасам выбранных скважин.\n",
    "    АРГУМЕНТЫ:\n",
    "    data -- DataFrame с реальными и предсказанными \n",
    "            запасами скважин. \n",
    "    \"\"\"\n",
    "    product_sum = data.sort_values(by='p_valid')\\\n",
    "                  .tail(PTS_TO_PICK)['t_valid']\\\n",
    "                  .sum()\n",
    "    return product_sum * INCOME_PER_UNIT - BUDGET "
   ]
  },
  {
   "cell_type": "markdown",
   "metadata": {},
   "source": [
    "С помощью техники bootstrap на 1000 выборок рассчитаем для каждого региона: \n",
    " - среднюю прибыль,\n",
    " - 95%-й доверительный интервал,\n",
    " - вероятность убытков (отрицательной прибыли). "
   ]
  },
  {
   "cell_type": "code",
   "execution_count": 17,
   "metadata": {},
   "outputs": [],
   "source": [
    "income_means = []\n",
    "ci_mins = []\n",
    "ci_maxs = []\n",
    "loss_probas = []\n",
    "rs = np.random.RandomState(SEED)\n",
    "#Для реальных и предсказанных запасов скважин каждого региона:\n",
    "for p in productions_true_pred:\n",
    "    incomes = []    \n",
    "    for i in range(0, 1000):\n",
    "        # - выделяем случайную выборку количеством PTS_TO_RESEARCH скважин \n",
    "        sample = p.sample(n=PTS_TO_RESEARCH, replace=True, random_state=rs)\n",
    "        # - рассчитываем и сохраняем прибыль от PTS_TO_PICK самых перспективных скважин из выборки\n",
    "        incomes.append(calc_income(sample))\n",
    "    #Для 1000 выборок рассчитываем и сохраняем:\n",
    "    incomes = pd.Series(incomes)\n",
    "    # - среднюю прибыль, руб. \n",
    "    income_means.append(round(incomes.mean())) \n",
    "    # - границы 95% доверительного интервала, руб. \n",
    "    ci_mins.append(round(incomes.quantile(0.025)))\n",
    "    ci_maxs.append(round(incomes.quantile(0.975)))\n",
    "    # - вероятность убытков, %\n",
    "    loss_probas.append((incomes < 0).mean() * 100)\n",
    "#Дополняем сводную таблицу по регионам \n",
    "metrics['income_true_mean'] = income_means\n",
    "metrics['income_true_2.5th'] = ci_mins\n",
    "metrics['income_true_97.5th'] = ci_maxs\n",
    "metrics['loss_proba'] = loss_probas"
   ]
  },
  {
   "cell_type": "markdown",
   "metadata": {},
   "source": [
    "Рассмотрим сводную таблицу показателей по регионам. Выделим регионы с максимальной средней прибылью и минимальным риском."
   ]
  },
  {
   "cell_type": "code",
   "execution_count": 18,
   "metadata": {},
   "outputs": [
    {
     "data": {
      "text/html": [
       "<style  type=\"text/css\" >\n",
       "#T_b8e0d_row1_col3,#T_b8e0d_row1_col6{\n",
       "            background-color:  lightblue;\n",
       "        }</style><table id=\"T_b8e0d_\" ><thead>    <tr>        <th class=\"blank level0\" ></th>        <th class=\"col_heading level0 col0\" >rmse</th>        <th class=\"col_heading level0 col1\" >production_true_mean</th>        <th class=\"col_heading level0 col2\" >production_pred_mean</th>        <th class=\"col_heading level0 col3\" >income_true_mean</th>        <th class=\"col_heading level0 col4\" >income_true_2.5th</th>        <th class=\"col_heading level0 col5\" >income_true_97.5th</th>        <th class=\"col_heading level0 col6\" >loss_proba</th>    </tr></thead><tbody>\n",
       "                <tr>\n",
       "                        <th id=\"T_b8e0d_level0_row0\" class=\"row_heading level0 row0\" >region_0</th>\n",
       "                        <td id=\"T_b8e0d_row0_col0\" class=\"data row0 col0\" >37.665527</td>\n",
       "                        <td id=\"T_b8e0d_row0_col1\" class=\"data row0 col1\" >91.965657</td>\n",
       "                        <td id=\"T_b8e0d_row0_col2\" class=\"data row0 col2\" >92.769087</td>\n",
       "                        <td id=\"T_b8e0d_row0_col3\" class=\"data row0 col3\" >372033348</td>\n",
       "                        <td id=\"T_b8e0d_row0_col4\" class=\"data row0 col4\" >-151912718</td>\n",
       "                        <td id=\"T_b8e0d_row0_col5\" class=\"data row0 col5\" >886751933</td>\n",
       "                        <td id=\"T_b8e0d_row0_col6\" class=\"data row0 col6\" >8.100000</td>\n",
       "            </tr>\n",
       "            <tr>\n",
       "                        <th id=\"T_b8e0d_level0_row1\" class=\"row_heading level0 row1\" >region_1</th>\n",
       "                        <td id=\"T_b8e0d_row1_col0\" class=\"data row1 col0\" >0.885462</td>\n",
       "                        <td id=\"T_b8e0d_row1_col1\" class=\"data row1 col1\" >68.850943</td>\n",
       "                        <td id=\"T_b8e0d_row1_col2\" class=\"data row1 col2\" >68.854205</td>\n",
       "                        <td id=\"T_b8e0d_row1_col3\" class=\"data row1 col3\" >426366953</td>\n",
       "                        <td id=\"T_b8e0d_row1_col4\" class=\"data row1 col4\" >38911566</td>\n",
       "                        <td id=\"T_b8e0d_row1_col5\" class=\"data row1 col5\" >819491482</td>\n",
       "                        <td id=\"T_b8e0d_row1_col6\" class=\"data row1 col6\" >1.600000</td>\n",
       "            </tr>\n",
       "            <tr>\n",
       "                        <th id=\"T_b8e0d_level0_row2\" class=\"row_heading level0 row2\" >region_2</th>\n",
       "                        <td id=\"T_b8e0d_row2_col0\" class=\"data row2 col0\" >40.066490</td>\n",
       "                        <td id=\"T_b8e0d_row2_col1\" class=\"data row2 col1\" >95.019674</td>\n",
       "                        <td id=\"T_b8e0d_row2_col2\" class=\"data row2 col2\" >95.088482</td>\n",
       "                        <td id=\"T_b8e0d_row2_col3\" class=\"data row2 col3\" >368083600</td>\n",
       "                        <td id=\"T_b8e0d_row2_col4\" class=\"data row2 col4\" >-146499576</td>\n",
       "                        <td id=\"T_b8e0d_row2_col5\" class=\"data row2 col5\" >844873858</td>\n",
       "                        <td id=\"T_b8e0d_row2_col6\" class=\"data row2 col6\" >7.700000</td>\n",
       "            </tr>\n",
       "    </tbody></table>"
      ],
      "text/plain": [
       "<pandas.io.formats.style.Styler at 0x7f2afc520eb0>"
      ]
     },
     "execution_count": 18,
     "metadata": {},
     "output_type": "execute_result"
    }
   ],
   "source": [
    "metrics\n",
    "s = metrics.style\n",
    "s.highlight_max(subset=['income_true_mean'], color='lightblue', axis=0)\n",
    "s.highlight_min(subset=['loss_proba'], color='lightblue', axis=0)"
   ]
  },
  {
   "cell_type": "markdown",
   "metadata": {},
   "source": [
    "С т.з. вероятности убытков условиям задачи соответствует только первый регион. Нулевой и второй регионы показывают вероятность 8.1% и 7.7% соответственно, что значительно выше пороговых 2.5%. Кроме того, первый регион имеет максимальную среднюю прибыль, а 95% доверительный интервал целиком в положительной зоне (> 0). \n",
    "\n",
    "На основании изложенного, первый регион является наиболее перспективным для разработки новых скважин.\n",
    "\n",
    "## Выводы\n",
    "**В ходе загрузки и подготовки данных:**\n",
    " - проведен обзор данных ([см.3.1](#%D0%9E%D0%B1%D0%B7%D0%BE%D1%80-%D0%B4%D0%B0%D0%BD%D0%BD%D1%8B%D1%85)), \n",
    " - выявлены и обработаны дубликаты ([см.3.2](#%D0%A0%D0%B0%D0%B1%D0%BE%D1%82%D0%B0-%D1%81-%D0%B4%D1%83%D0%B1%D0%BB%D0%B8%D0%BA%D0%B0%D1%82%D0%B0%D0%BC%D0%B8)).\n",
    " \n",
    "**В ходе обучения и проверки моделей показано следующее** ([см.4](#%D0%9E%D0%B1%D1%83%D1%87%D0%B5%D0%BD%D0%B8%D0%B5-%D0%B8-%D0%BF%D1%80%D0%BE%D0%B2%D0%B5%D1%80%D0%BA%D0%B0-%D0%BC%D0%BE%D0%B4%D0%B5%D0%BB%D0%B8)):\n",
    " - первый регион демонстрирует минимальную (менее 1 тыс.барр) RMSE,\n",
    " - во всех регионах реальный и предсказанный средний запас сырья на скважину практически не отличается,\n",
    " - второй регион лидирует по показателю реального и предсказанного среднего объема сырья на скважину.\n",
    " \n",
    "**В ходе подготовки к расчету прибыли показано следующее** ([см.5](#%D0%9F%D0%BE%D0%B4%D0%B3%D0%BE%D1%82%D0%BE%D0%B2%D0%BA%D0%B0-%D0%BA-%D1%80%D0%B0%D1%81%D1%87%D1%91%D1%82%D1%83-%D0%BF%D1%80%D0%B8%D0%B1%D1%8B%D0%BB%D0%B8)):\n",
    " - для всех регионов:\n",
    "     - средний запас сырья на скважину ниже уровня, необходимого для безубыточной разработки 200 скважин,\n",
    "     - 25% скважин, имеют запас близкий или превышающий безубыточный уровень.\n",
    "     \n",
    "**В ходе расчета прибыли и рисков показано:** первый регион является наиболее перспективным для разработки новых скважин ([см.6](#%D0%A0%D0%B0%D1%81%D1%87%D1%91%D1%82-%D0%BF%D1%80%D0%B8%D0%B1%D1%8B%D0%BB%D0%B8-%D0%B8-%D1%80%D0%B8%D1%81%D0%BA%D0%BE%D0%B2))."
   ]
  }
 ],
 "metadata": {
  "ExecuteTimeLog": [
   {
    "duration": 68,
    "start_time": "2023-04-03T09:52:54.540Z"
   },
   {
    "duration": 9,
    "start_time": "2023-04-03T09:53:03.198Z"
   },
   {
    "duration": 465,
    "start_time": "2023-04-03T09:53:06.308Z"
   },
   {
    "duration": 31,
    "start_time": "2023-04-03T09:53:08.388Z"
   },
   {
    "duration": 453,
    "start_time": "2023-04-03T09:53:16.429Z"
   },
   {
    "duration": 178,
    "start_time": "2023-04-03T09:53:22.075Z"
   },
   {
    "duration": 161,
    "start_time": "2023-04-03T09:53:48.512Z"
   },
   {
    "duration": 166,
    "start_time": "2023-04-03T09:53:55.743Z"
   },
   {
    "duration": 142,
    "start_time": "2023-04-03T10:07:40.928Z"
   },
   {
    "duration": 10,
    "start_time": "2023-04-03T10:10:06.399Z"
   },
   {
    "duration": 3,
    "start_time": "2023-04-03T10:10:09.391Z"
   },
   {
    "duration": 1425,
    "start_time": "2023-04-03T10:10:11.652Z"
   },
   {
    "duration": 480,
    "start_time": "2023-04-03T10:10:32.387Z"
   },
   {
    "duration": 531,
    "start_time": "2023-04-03T10:11:00.188Z"
   },
   {
    "duration": 562,
    "start_time": "2023-04-03T10:11:46.358Z"
   },
   {
    "duration": 13,
    "start_time": "2023-04-03T10:11:57.172Z"
   },
   {
    "duration": 523,
    "start_time": "2023-04-03T10:12:02.558Z"
   },
   {
    "duration": 505,
    "start_time": "2023-04-03T10:12:14.187Z"
   },
   {
    "duration": 503,
    "start_time": "2023-04-03T10:13:10.060Z"
   },
   {
    "duration": 542,
    "start_time": "2023-04-03T10:13:35.445Z"
   },
   {
    "duration": 567,
    "start_time": "2023-04-03T10:13:49.414Z"
   },
   {
    "duration": 486,
    "start_time": "2023-04-03T10:14:36.809Z"
   },
   {
    "duration": 503,
    "start_time": "2023-04-03T10:14:49.770Z"
   },
   {
    "duration": 492,
    "start_time": "2023-04-03T10:15:03.434Z"
   },
   {
    "duration": 153,
    "start_time": "2023-04-03T10:17:25.000Z"
   },
   {
    "duration": 167,
    "start_time": "2023-04-03T10:17:32.816Z"
   },
   {
    "duration": 169,
    "start_time": "2023-04-03T10:22:02.601Z"
   },
   {
    "duration": 168,
    "start_time": "2023-04-03T10:22:13.635Z"
   },
   {
    "duration": 78,
    "start_time": "2023-04-03T10:23:04.279Z"
   },
   {
    "duration": 543,
    "start_time": "2023-04-03T10:25:45.138Z"
   },
   {
    "duration": 493,
    "start_time": "2023-04-03T10:25:53.338Z"
   },
   {
    "duration": 134,
    "start_time": "2023-04-03T10:38:23.067Z"
   },
   {
    "duration": 110,
    "start_time": "2023-04-03T10:38:30.673Z"
   },
   {
    "duration": 11,
    "start_time": "2023-04-03T10:39:45.437Z"
   },
   {
    "duration": 24,
    "start_time": "2023-04-03T10:40:13.767Z"
   },
   {
    "duration": 38,
    "start_time": "2023-04-03T10:40:28.439Z"
   },
   {
    "duration": 130,
    "start_time": "2023-04-03T10:42:11.767Z"
   },
   {
    "duration": 92,
    "start_time": "2023-04-03T10:42:15.622Z"
   },
   {
    "duration": 15,
    "start_time": "2023-04-03T10:43:31.987Z"
   },
   {
    "duration": 146,
    "start_time": "2023-04-03T11:03:40.634Z"
   },
   {
    "duration": 124,
    "start_time": "2023-04-03T11:04:09.729Z"
   },
   {
    "duration": 16,
    "start_time": "2023-04-03T11:04:13.977Z"
   },
   {
    "duration": 26,
    "start_time": "2023-04-03T11:04:21.669Z"
   },
   {
    "duration": 15,
    "start_time": "2023-04-03T11:08:40.713Z"
   },
   {
    "duration": 825,
    "start_time": "2023-04-03T11:09:08.867Z"
   },
   {
    "duration": 299,
    "start_time": "2023-04-03T11:09:29.581Z"
   },
   {
    "duration": 587,
    "start_time": "2023-04-03T11:09:55.519Z"
   },
   {
    "duration": 4,
    "start_time": "2023-04-03T12:00:16.607Z"
   },
   {
    "duration": 477,
    "start_time": "2023-04-03T12:00:19.872Z"
   },
   {
    "duration": 560,
    "start_time": "2023-04-03T12:02:34.895Z"
   },
   {
    "duration": 3650,
    "start_time": "2023-04-03T12:02:42.873Z"
   },
   {
    "duration": 1089,
    "start_time": "2023-04-03T12:05:34.522Z"
   },
   {
    "duration": 1350,
    "start_time": "2023-04-03T12:06:01.315Z"
   },
   {
    "duration": 1012,
    "start_time": "2023-04-03T12:08:06.907Z"
   },
   {
    "duration": 1158,
    "start_time": "2023-04-03T12:08:23.908Z"
   },
   {
    "duration": 140,
    "start_time": "2023-04-03T12:08:39.635Z"
   },
   {
    "duration": 1151,
    "start_time": "2023-04-03T12:08:46.980Z"
   },
   {
    "duration": 82,
    "start_time": "2023-04-03T12:08:54.837Z"
   },
   {
    "duration": 1382,
    "start_time": "2023-04-03T12:09:05.542Z"
   },
   {
    "duration": 1102,
    "start_time": "2023-04-03T12:09:13.029Z"
   },
   {
    "duration": 1458,
    "start_time": "2023-04-03T12:09:45.944Z"
   },
   {
    "duration": 1091,
    "start_time": "2023-04-03T12:11:04.197Z"
   },
   {
    "duration": 92,
    "start_time": "2023-04-03T12:16:33.171Z"
   },
   {
    "duration": 466,
    "start_time": "2023-04-03T12:16:44.634Z"
   },
   {
    "duration": 497,
    "start_time": "2023-04-03T12:16:45.102Z"
   },
   {
    "duration": 1690,
    "start_time": "2023-04-03T12:16:45.601Z"
   },
   {
    "duration": 1295,
    "start_time": "2023-04-03T12:16:47.294Z"
   },
   {
    "duration": 1302,
    "start_time": "2023-04-03T12:16:48.592Z"
   },
   {
    "duration": 189,
    "start_time": "2023-04-03T12:16:49.896Z"
   },
   {
    "duration": 83,
    "start_time": "2023-04-03T12:16:50.087Z"
   },
   {
    "duration": 117,
    "start_time": "2023-04-03T12:16:50.173Z"
   },
   {
    "duration": 83,
    "start_time": "2023-04-03T12:16:50.293Z"
   },
   {
    "duration": 8,
    "start_time": "2023-04-04T09:08:40.713Z"
   },
   {
    "duration": 1193,
    "start_time": "2023-04-04T09:17:46.227Z"
   },
   {
    "duration": 0,
    "start_time": "2023-04-04T09:17:47.422Z"
   },
   {
    "duration": 0,
    "start_time": "2023-04-04T09:17:47.423Z"
   },
   {
    "duration": 0,
    "start_time": "2023-04-04T09:17:47.424Z"
   },
   {
    "duration": 0,
    "start_time": "2023-04-04T09:17:47.426Z"
   },
   {
    "duration": 0,
    "start_time": "2023-04-04T09:17:47.427Z"
   },
   {
    "duration": 0,
    "start_time": "2023-04-04T09:17:47.441Z"
   },
   {
    "duration": 0,
    "start_time": "2023-04-04T09:17:47.442Z"
   },
   {
    "duration": 0,
    "start_time": "2023-04-04T09:17:47.444Z"
   },
   {
    "duration": 0,
    "start_time": "2023-04-04T09:17:47.446Z"
   },
   {
    "duration": 0,
    "start_time": "2023-04-04T09:17:47.446Z"
   },
   {
    "duration": 10,
    "start_time": "2023-04-04T09:17:57.599Z"
   },
   {
    "duration": 1180,
    "start_time": "2023-04-04T09:18:11.558Z"
   },
   {
    "duration": 0,
    "start_time": "2023-04-04T09:18:12.741Z"
   },
   {
    "duration": 0,
    "start_time": "2023-04-04T09:18:12.742Z"
   },
   {
    "duration": 0,
    "start_time": "2023-04-04T09:18:12.743Z"
   },
   {
    "duration": 0,
    "start_time": "2023-04-04T09:18:12.744Z"
   },
   {
    "duration": 0,
    "start_time": "2023-04-04T09:18:12.745Z"
   },
   {
    "duration": 0,
    "start_time": "2023-04-04T09:18:12.747Z"
   },
   {
    "duration": 0,
    "start_time": "2023-04-04T09:18:12.747Z"
   },
   {
    "duration": 0,
    "start_time": "2023-04-04T09:18:12.749Z"
   },
   {
    "duration": 0,
    "start_time": "2023-04-04T09:18:12.749Z"
   },
   {
    "duration": 1,
    "start_time": "2023-04-04T09:18:12.750Z"
   },
   {
    "duration": 8,
    "start_time": "2023-04-04T09:18:21.830Z"
   },
   {
    "duration": 1107,
    "start_time": "2023-04-04T09:18:36.446Z"
   },
   {
    "duration": 4,
    "start_time": "2023-04-04T09:18:37.555Z"
   },
   {
    "duration": 1016,
    "start_time": "2023-04-04T09:18:37.560Z"
   },
   {
    "duration": 1713,
    "start_time": "2023-04-04T09:18:38.579Z"
   },
   {
    "duration": 1032,
    "start_time": "2023-04-04T09:18:40.295Z"
   },
   {
    "duration": 1230,
    "start_time": "2023-04-04T09:18:41.329Z"
   },
   {
    "duration": 164,
    "start_time": "2023-04-04T09:18:42.561Z"
   },
   {
    "duration": 55,
    "start_time": "2023-04-04T09:18:42.727Z"
   },
   {
    "duration": 96,
    "start_time": "2023-04-04T09:18:42.783Z"
   },
   {
    "duration": 75,
    "start_time": "2023-04-04T09:18:42.880Z"
   },
   {
    "duration": 15,
    "start_time": "2023-04-04T09:18:42.957Z"
   },
   {
    "duration": 12,
    "start_time": "2023-04-04T09:19:28.758Z"
   },
   {
    "duration": 8,
    "start_time": "2023-04-04T09:19:35.363Z"
   },
   {
    "duration": 16,
    "start_time": "2023-04-04T09:29:41.127Z"
   },
   {
    "duration": 126,
    "start_time": "2023-04-04T09:32:14.306Z"
   },
   {
    "duration": 70,
    "start_time": "2023-04-04T09:32:49.877Z"
   },
   {
    "duration": 4,
    "start_time": "2023-04-04T09:32:57.887Z"
   },
   {
    "duration": 20,
    "start_time": "2023-04-04T09:34:44.726Z"
   },
   {
    "duration": 27,
    "start_time": "2023-04-04T09:35:31.026Z"
   },
   {
    "duration": 27,
    "start_time": "2023-04-04T09:35:59.726Z"
   },
   {
    "duration": 36,
    "start_time": "2023-04-04T09:36:22.014Z"
   },
   {
    "duration": 34,
    "start_time": "2023-04-04T09:36:42.714Z"
   },
   {
    "duration": 33,
    "start_time": "2023-04-04T09:36:52.654Z"
   },
   {
    "duration": 27,
    "start_time": "2023-04-04T09:37:02.214Z"
   },
   {
    "duration": 615,
    "start_time": "2023-04-04T09:37:50.206Z"
   },
   {
    "duration": 12,
    "start_time": "2023-04-04T09:38:17.326Z"
   },
   {
    "duration": 138,
    "start_time": "2023-04-04T09:38:34.346Z"
   },
   {
    "duration": 11,
    "start_time": "2023-04-04T09:41:04.215Z"
   },
   {
    "duration": 58,
    "start_time": "2023-04-04T09:41:22.863Z"
   },
   {
    "duration": 254,
    "start_time": "2023-04-04T09:41:30.448Z"
   },
   {
    "duration": 277,
    "start_time": "2023-04-04T09:41:37.167Z"
   },
   {
    "duration": 237,
    "start_time": "2023-04-04T09:41:42.367Z"
   },
   {
    "duration": 778,
    "start_time": "2023-04-04T09:41:53.459Z"
   },
   {
    "duration": 264,
    "start_time": "2023-04-04T09:42:03.347Z"
   },
   {
    "duration": 312,
    "start_time": "2023-04-04T09:42:33.386Z"
   },
   {
    "duration": 34,
    "start_time": "2023-04-04T09:42:40.435Z"
   },
   {
    "duration": 37,
    "start_time": "2023-04-04T09:43:35.328Z"
   },
   {
    "duration": 38,
    "start_time": "2023-04-04T09:44:23.304Z"
   },
   {
    "duration": 55,
    "start_time": "2023-04-04T09:46:01.587Z"
   },
   {
    "duration": 87,
    "start_time": "2023-04-04T09:46:09.055Z"
   },
   {
    "duration": 87,
    "start_time": "2023-04-04T09:46:41.254Z"
   },
   {
    "duration": 34,
    "start_time": "2023-04-04T09:47:35.169Z"
   },
   {
    "duration": 35,
    "start_time": "2023-04-04T09:47:43.267Z"
   },
   {
    "duration": 34,
    "start_time": "2023-04-04T09:47:56.009Z"
   },
   {
    "duration": 54,
    "start_time": "2023-04-04T09:48:09.887Z"
   },
   {
    "duration": 57,
    "start_time": "2023-04-04T09:49:02.687Z"
   },
   {
    "duration": 51,
    "start_time": "2023-04-04T09:49:12.743Z"
   },
   {
    "duration": 79,
    "start_time": "2023-04-04T09:49:21.464Z"
   },
   {
    "duration": 125,
    "start_time": "2023-04-04T09:50:17.216Z"
   },
   {
    "duration": 40,
    "start_time": "2023-04-04T10:04:31.427Z"
   },
   {
    "duration": 10,
    "start_time": "2023-04-04T10:29:21.822Z"
   },
   {
    "duration": 1433,
    "start_time": "2023-04-04T10:29:27.739Z"
   },
   {
    "duration": 4,
    "start_time": "2023-04-04T10:29:29.174Z"
   },
   {
    "duration": 478,
    "start_time": "2023-04-04T10:29:29.180Z"
   },
   {
    "duration": 1151,
    "start_time": "2023-04-04T10:29:29.661Z"
   },
   {
    "duration": 1049,
    "start_time": "2023-04-04T10:29:30.814Z"
   },
   {
    "duration": 1604,
    "start_time": "2023-04-04T10:29:31.865Z"
   },
   {
    "duration": 295,
    "start_time": "2023-04-04T10:29:33.471Z"
   },
   {
    "duration": 94,
    "start_time": "2023-04-04T10:29:33.768Z"
   },
   {
    "duration": 178,
    "start_time": "2023-04-04T10:29:33.864Z"
   },
   {
    "duration": 117,
    "start_time": "2023-04-04T10:29:34.044Z"
   },
   {
    "duration": 178,
    "start_time": "2023-04-04T10:29:34.163Z"
   },
   {
    "duration": 6,
    "start_time": "2023-04-04T10:29:34.343Z"
   },
   {
    "duration": 38,
    "start_time": "2023-04-04T10:32:01.426Z"
   },
   {
    "duration": 45,
    "start_time": "2023-04-04T10:32:19.323Z"
   },
   {
    "duration": 98,
    "start_time": "2023-04-04T10:32:26.643Z"
   },
   {
    "duration": 218,
    "start_time": "2023-04-04T11:32:24.031Z"
   },
   {
    "duration": 298,
    "start_time": "2023-04-04T11:34:48.294Z"
   },
   {
    "duration": 38,
    "start_time": "2023-04-04T11:35:20.566Z"
   },
   {
    "duration": 131,
    "start_time": "2023-04-04T11:35:45.219Z"
   },
   {
    "duration": 46,
    "start_time": "2023-04-04T11:36:30.508Z"
   },
   {
    "duration": 136,
    "start_time": "2023-04-04T11:37:31.015Z"
   },
   {
    "duration": 221,
    "start_time": "2023-04-04T11:38:31.931Z"
   },
   {
    "duration": 66,
    "start_time": "2023-04-04T11:44:59.483Z"
   },
   {
    "duration": 1470,
    "start_time": "2023-04-04T11:45:10.259Z"
   },
   {
    "duration": 5,
    "start_time": "2023-04-04T11:45:11.731Z"
   },
   {
    "duration": 528,
    "start_time": "2023-04-04T11:45:11.740Z"
   },
   {
    "duration": 1259,
    "start_time": "2023-04-04T11:45:12.270Z"
   },
   {
    "duration": 1636,
    "start_time": "2023-04-04T11:45:13.532Z"
   },
   {
    "duration": 2203,
    "start_time": "2023-04-04T11:45:15.171Z"
   },
   {
    "duration": 173,
    "start_time": "2023-04-04T11:45:17.376Z"
   },
   {
    "duration": 51,
    "start_time": "2023-04-04T11:45:17.552Z"
   },
   {
    "duration": 95,
    "start_time": "2023-04-04T11:45:17.605Z"
   },
   {
    "duration": 80,
    "start_time": "2023-04-04T11:45:17.702Z"
   },
   {
    "duration": 371,
    "start_time": "2023-04-04T11:45:17.785Z"
   },
   {
    "duration": 0,
    "start_time": "2023-04-04T11:45:18.157Z"
   },
   {
    "duration": 0,
    "start_time": "2023-04-04T11:45:18.159Z"
   },
   {
    "duration": 51,
    "start_time": "2023-04-04T11:45:28.092Z"
   },
   {
    "duration": 45,
    "start_time": "2023-04-04T11:45:46.417Z"
   },
   {
    "duration": 109,
    "start_time": "2023-04-04T11:46:50.937Z"
   },
   {
    "duration": 157,
    "start_time": "2023-04-04T11:49:15.690Z"
   },
   {
    "duration": 70,
    "start_time": "2023-04-04T11:49:32.890Z"
   },
   {
    "duration": 163,
    "start_time": "2023-04-04T11:49:38.211Z"
   },
   {
    "duration": 153,
    "start_time": "2023-04-04T11:49:49.115Z"
   },
   {
    "duration": 1889,
    "start_time": "2023-04-05T08:20:18.719Z"
   },
   {
    "duration": 4,
    "start_time": "2023-04-05T08:20:20.611Z"
   },
   {
    "duration": 2044,
    "start_time": "2023-04-05T08:20:20.617Z"
   },
   {
    "duration": 1364,
    "start_time": "2023-04-05T08:20:22.664Z"
   },
   {
    "duration": 1138,
    "start_time": "2023-04-05T08:20:24.031Z"
   },
   {
    "duration": 1741,
    "start_time": "2023-04-05T08:20:25.172Z"
   },
   {
    "duration": 177,
    "start_time": "2023-04-05T08:20:26.915Z"
   },
   {
    "duration": 72,
    "start_time": "2023-04-05T08:20:27.094Z"
   },
   {
    "duration": 128,
    "start_time": "2023-04-05T08:20:27.168Z"
   },
   {
    "duration": 115,
    "start_time": "2023-04-05T08:20:27.299Z"
   },
   {
    "duration": 249,
    "start_time": "2023-04-05T08:20:27.417Z"
   },
   {
    "duration": 73,
    "start_time": "2023-04-05T08:20:27.674Z"
   },
   {
    "duration": 36,
    "start_time": "2023-04-05T08:20:27.750Z"
   },
   {
    "duration": 5,
    "start_time": "2023-04-05T08:20:50.900Z"
   },
   {
    "duration": 6,
    "start_time": "2023-04-05T08:20:57.073Z"
   },
   {
    "duration": 11,
    "start_time": "2023-04-05T08:21:22.644Z"
   },
   {
    "duration": 143,
    "start_time": "2023-04-05T08:25:05.874Z"
   },
   {
    "duration": 4,
    "start_time": "2023-04-05T08:25:27.491Z"
   },
   {
    "duration": 5,
    "start_time": "2023-04-05T08:26:10.445Z"
   },
   {
    "duration": 4,
    "start_time": "2023-04-05T08:28:19.610Z"
   },
   {
    "duration": 3,
    "start_time": "2023-04-05T08:29:08.086Z"
   },
   {
    "duration": 5,
    "start_time": "2023-04-05T08:29:09.764Z"
   },
   {
    "duration": 5,
    "start_time": "2023-04-05T08:33:29.656Z"
   },
   {
    "duration": 129,
    "start_time": "2023-04-05T08:39:12.295Z"
   },
   {
    "duration": 68,
    "start_time": "2023-04-05T08:39:50.602Z"
   },
   {
    "duration": 5,
    "start_time": "2023-04-05T08:39:57.993Z"
   },
   {
    "duration": 4,
    "start_time": "2023-04-05T08:40:00.170Z"
   },
   {
    "duration": 18,
    "start_time": "2023-04-05T08:40:02.691Z"
   },
   {
    "duration": 854,
    "start_time": "2023-04-05T08:40:41.732Z"
   },
   {
    "duration": 748,
    "start_time": "2023-04-05T08:41:56.530Z"
   },
   {
    "duration": 702,
    "start_time": "2023-04-05T08:42:09.385Z"
   },
   {
    "duration": 717,
    "start_time": "2023-04-05T08:43:00.898Z"
   },
   {
    "duration": 700,
    "start_time": "2023-04-05T08:43:38.159Z"
   },
   {
    "duration": 777,
    "start_time": "2023-04-05T09:16:49.697Z"
   },
   {
    "duration": 954,
    "start_time": "2023-04-05T09:17:32.675Z"
   },
   {
    "duration": 821,
    "start_time": "2023-04-05T09:19:10.973Z"
   },
   {
    "duration": 787,
    "start_time": "2023-04-05T09:19:34.642Z"
   },
   {
    "duration": 889,
    "start_time": "2023-04-05T09:20:01.595Z"
   },
   {
    "duration": 412,
    "start_time": "2023-04-05T10:42:04.904Z"
   },
   {
    "duration": 605,
    "start_time": "2023-04-05T10:42:29.437Z"
   },
   {
    "duration": 357,
    "start_time": "2023-04-05T10:44:48.015Z"
   },
   {
    "duration": 648,
    "start_time": "2023-04-05T10:45:06.509Z"
   },
   {
    "duration": 11,
    "start_time": "2023-04-05T10:45:57.989Z"
   },
   {
    "duration": 643,
    "start_time": "2023-04-05T10:48:25.353Z"
   },
   {
    "duration": 17,
    "start_time": "2023-04-05T10:56:40.562Z"
   },
   {
    "duration": 31,
    "start_time": "2023-04-05T10:56:47.838Z"
   },
   {
    "duration": 54,
    "start_time": "2023-04-05T10:57:03.727Z"
   },
   {
    "duration": 2266,
    "start_time": "2023-04-05T11:16:02.980Z"
   },
   {
    "duration": 2254,
    "start_time": "2023-04-05T11:25:42.515Z"
   },
   {
    "duration": 1756,
    "start_time": "2023-04-05T11:26:51.915Z"
   },
   {
    "duration": 5,
    "start_time": "2023-04-05T11:26:53.675Z"
   },
   {
    "duration": 810,
    "start_time": "2023-04-05T11:26:53.682Z"
   },
   {
    "duration": 1246,
    "start_time": "2023-04-05T11:26:54.494Z"
   },
   {
    "duration": 2641,
    "start_time": "2023-04-05T11:26:55.748Z"
   },
   {
    "duration": 1533,
    "start_time": "2023-04-05T11:26:58.444Z"
   },
   {
    "duration": 183,
    "start_time": "2023-04-05T11:26:59.979Z"
   },
   {
    "duration": 64,
    "start_time": "2023-04-05T11:27:00.164Z"
   },
   {
    "duration": 172,
    "start_time": "2023-04-05T11:27:00.241Z"
   },
   {
    "duration": 78,
    "start_time": "2023-04-05T11:27:00.415Z"
   },
   {
    "duration": 715,
    "start_time": "2023-04-05T11:27:00.495Z"
   },
   {
    "duration": 10,
    "start_time": "2023-04-05T11:27:01.213Z"
   },
   {
    "duration": 275,
    "start_time": "2023-04-05T11:27:01.225Z"
   },
   {
    "duration": 17,
    "start_time": "2023-04-05T11:27:01.503Z"
   },
   {
    "duration": 2349,
    "start_time": "2023-04-05T11:27:01.523Z"
   },
   {
    "duration": 2530,
    "start_time": "2023-04-05T11:27:57.068Z"
   },
   {
    "duration": 2902,
    "start_time": "2023-04-05T11:28:07.929Z"
   },
   {
    "duration": 3790,
    "start_time": "2023-04-05T11:28:34.673Z"
   },
   {
    "duration": 3205,
    "start_time": "2023-04-05T11:28:48.826Z"
   },
   {
    "duration": 2861,
    "start_time": "2023-04-05T11:28:56.436Z"
   },
   {
    "duration": 3945,
    "start_time": "2023-04-05T11:31:53.307Z"
   },
   {
    "duration": 2202,
    "start_time": "2023-04-05T11:32:34.585Z"
   },
   {
    "duration": 8,
    "start_time": "2023-04-05T11:32:36.793Z"
   },
   {
    "duration": 1200,
    "start_time": "2023-04-05T11:32:36.803Z"
   },
   {
    "duration": 3059,
    "start_time": "2023-04-05T11:32:38.006Z"
   },
   {
    "duration": 1894,
    "start_time": "2023-04-05T11:32:41.071Z"
   },
   {
    "duration": 1467,
    "start_time": "2023-04-05T11:32:42.970Z"
   },
   {
    "duration": 212,
    "start_time": "2023-04-05T11:32:44.439Z"
   },
   {
    "duration": 68,
    "start_time": "2023-04-05T11:32:44.660Z"
   },
   {
    "duration": 130,
    "start_time": "2023-04-05T11:32:44.730Z"
   },
   {
    "duration": 117,
    "start_time": "2023-04-05T11:32:44.868Z"
   },
   {
    "duration": 516,
    "start_time": "2023-04-05T11:32:44.994Z"
   },
   {
    "duration": 11,
    "start_time": "2023-04-05T11:32:45.513Z"
   },
   {
    "duration": 13,
    "start_time": "2023-04-05T11:32:45.527Z"
   },
   {
    "duration": 27,
    "start_time": "2023-04-05T11:32:45.548Z"
   },
   {
    "duration": 3965,
    "start_time": "2023-04-05T11:32:45.582Z"
   },
   {
    "duration": 15,
    "start_time": "2023-04-05T11:37:26.818Z"
   },
   {
    "duration": 15,
    "start_time": "2023-04-05T11:37:39.283Z"
   },
   {
    "duration": 5,
    "start_time": "2023-04-05T11:48:34.974Z"
   },
   {
    "duration": 1454,
    "start_time": "2023-04-05T12:16:30.675Z"
   },
   {
    "duration": 1173,
    "start_time": "2023-04-05T12:16:42.488Z"
   },
   {
    "duration": 1337,
    "start_time": "2023-04-05T12:18:11.376Z"
   },
   {
    "duration": 5,
    "start_time": "2023-04-05T12:38:23.844Z"
   },
   {
    "duration": 4,
    "start_time": "2023-04-05T12:38:33.414Z"
   },
   {
    "duration": 4,
    "start_time": "2023-04-05T12:38:37.835Z"
   },
   {
    "duration": 249,
    "start_time": "2023-04-05T12:53:11.314Z"
   },
   {
    "duration": 50,
    "start_time": "2023-04-05T12:53:20.783Z"
   },
   {
    "duration": 20,
    "start_time": "2023-04-05T12:56:05.866Z"
   },
   {
    "duration": 396,
    "start_time": "2023-04-05T12:57:11.762Z"
   },
   {
    "duration": 29,
    "start_time": "2023-04-05T12:57:15.429Z"
   },
   {
    "duration": 1709,
    "start_time": "2023-04-06T08:05:50.581Z"
   },
   {
    "duration": 4,
    "start_time": "2023-04-06T08:05:52.292Z"
   },
   {
    "duration": 1871,
    "start_time": "2023-04-06T08:05:52.299Z"
   },
   {
    "duration": 1302,
    "start_time": "2023-04-06T08:05:54.172Z"
   },
   {
    "duration": 1141,
    "start_time": "2023-04-06T08:05:55.477Z"
   },
   {
    "duration": 1269,
    "start_time": "2023-04-06T08:05:56.620Z"
   },
   {
    "duration": 151,
    "start_time": "2023-04-06T08:05:57.892Z"
   },
   {
    "duration": 78,
    "start_time": "2023-04-06T08:05:58.045Z"
   },
   {
    "duration": 95,
    "start_time": "2023-04-06T08:05:58.125Z"
   },
   {
    "duration": 66,
    "start_time": "2023-04-06T08:05:58.222Z"
   },
   {
    "duration": 29,
    "start_time": "2023-04-06T08:05:58.290Z"
   },
   {
    "duration": 530,
    "start_time": "2023-04-06T08:05:58.322Z"
   },
   {
    "duration": 163,
    "start_time": "2023-04-06T08:05:58.919Z"
   },
   {
    "duration": 5,
    "start_time": "2023-04-06T08:05:59.086Z"
   },
   {
    "duration": 70,
    "start_time": "2023-04-06T08:05:59.093Z"
   },
   {
    "duration": 4,
    "start_time": "2023-04-06T08:05:59.165Z"
   },
   {
    "duration": 2246,
    "start_time": "2023-04-06T08:05:59.172Z"
   },
   {
    "duration": 14,
    "start_time": "2023-04-06T08:06:01.420Z"
   },
   {
    "duration": 8,
    "start_time": "2023-04-06T08:50:42.519Z"
   },
   {
    "duration": 295,
    "start_time": "2023-04-06T08:55:08.648Z"
   },
   {
    "duration": 13,
    "start_time": "2023-04-06T08:55:11.092Z"
   },
   {
    "duration": 82,
    "start_time": "2023-04-06T08:56:05.904Z"
   },
   {
    "duration": 15,
    "start_time": "2023-04-06T08:56:42.969Z"
   },
   {
    "duration": 176,
    "start_time": "2023-04-06T09:15:30.440Z"
   },
   {
    "duration": 8,
    "start_time": "2023-04-06T09:16:09.517Z"
   },
   {
    "duration": 304,
    "start_time": "2023-04-06T09:16:25.885Z"
   },
   {
    "duration": 406,
    "start_time": "2023-04-06T09:16:49.836Z"
   },
   {
    "duration": 355,
    "start_time": "2023-04-06T09:17:20.879Z"
   },
   {
    "duration": 373,
    "start_time": "2023-04-06T09:17:42.163Z"
   },
   {
    "duration": 370,
    "start_time": "2023-04-06T09:18:53.990Z"
   },
   {
    "duration": 505,
    "start_time": "2023-04-06T09:19:06.772Z"
   },
   {
    "duration": 3399,
    "start_time": "2023-04-06T09:20:10.684Z"
   },
   {
    "duration": 131,
    "start_time": "2023-04-06T09:20:29.247Z"
   },
   {
    "duration": 671,
    "start_time": "2023-04-06T09:20:36.294Z"
   },
   {
    "duration": 539,
    "start_time": "2023-04-06T09:23:13.555Z"
   },
   {
    "duration": 377,
    "start_time": "2023-04-06T09:23:53.458Z"
   },
   {
    "duration": 504,
    "start_time": "2023-04-06T09:25:17.602Z"
   },
   {
    "duration": 186,
    "start_time": "2023-04-06T09:27:02.745Z"
   },
   {
    "duration": 244,
    "start_time": "2023-04-06T09:29:51.306Z"
   },
   {
    "duration": 346,
    "start_time": "2023-04-06T09:30:07.493Z"
   },
   {
    "duration": 369,
    "start_time": "2023-04-06T09:30:37.009Z"
   },
   {
    "duration": 389,
    "start_time": "2023-04-06T09:31:01.934Z"
   },
   {
    "duration": 415,
    "start_time": "2023-04-06T09:32:02.885Z"
   },
   {
    "duration": 400,
    "start_time": "2023-04-06T09:33:17.304Z"
   },
   {
    "duration": 565,
    "start_time": "2023-04-06T09:33:34.073Z"
   },
   {
    "duration": 546,
    "start_time": "2023-04-06T09:34:11.037Z"
   },
   {
    "duration": 116,
    "start_time": "2023-04-06T09:34:57.465Z"
   },
   {
    "duration": 236,
    "start_time": "2023-04-06T09:35:06.523Z"
   },
   {
    "duration": 280,
    "start_time": "2023-04-06T09:35:13.677Z"
   },
   {
    "duration": 308,
    "start_time": "2023-04-06T09:35:59.165Z"
   },
   {
    "duration": 79,
    "start_time": "2023-04-06T09:36:44.736Z"
   },
   {
    "duration": 37,
    "start_time": "2023-04-06T09:36:51.165Z"
   },
   {
    "duration": 188,
    "start_time": "2023-04-06T09:38:24.576Z"
   },
   {
    "duration": 179,
    "start_time": "2023-04-06T09:40:07.900Z"
   },
   {
    "duration": 192,
    "start_time": "2023-04-06T09:40:17.461Z"
   },
   {
    "duration": 5,
    "start_time": "2023-04-06T09:43:22.305Z"
   },
   {
    "duration": 257,
    "start_time": "2023-04-06T09:44:27.044Z"
   },
   {
    "duration": 185,
    "start_time": "2023-04-06T09:45:01.552Z"
   },
   {
    "duration": 6,
    "start_time": "2023-04-06T09:45:16.171Z"
   },
   {
    "duration": 5,
    "start_time": "2023-04-06T09:45:24.091Z"
   },
   {
    "duration": 165,
    "start_time": "2023-04-06T09:45:39.471Z"
   },
   {
    "duration": 164,
    "start_time": "2023-04-06T09:45:45.911Z"
   },
   {
    "duration": 136,
    "start_time": "2023-04-06T09:47:24.501Z"
   },
   {
    "duration": 203,
    "start_time": "2023-04-06T09:54:18.079Z"
   },
   {
    "duration": 177,
    "start_time": "2023-04-06T09:54:27.196Z"
   },
   {
    "duration": 2093,
    "start_time": "2023-04-06T09:54:59.240Z"
   },
   {
    "duration": 176,
    "start_time": "2023-04-06T09:55:20.610Z"
   },
   {
    "duration": 181,
    "start_time": "2023-04-06T09:57:07.189Z"
   },
   {
    "duration": 167,
    "start_time": "2023-04-06T09:57:30.405Z"
   },
   {
    "duration": 328,
    "start_time": "2023-04-06T09:57:40.802Z"
   },
   {
    "duration": 191,
    "start_time": "2023-04-06T09:59:32.377Z"
   },
   {
    "duration": 178,
    "start_time": "2023-04-06T09:59:55.116Z"
   },
   {
    "duration": 220,
    "start_time": "2023-04-06T10:00:15.141Z"
   },
   {
    "duration": 123,
    "start_time": "2023-04-06T10:01:09.442Z"
   },
   {
    "duration": 142,
    "start_time": "2023-04-06T10:01:16.047Z"
   },
   {
    "duration": 162,
    "start_time": "2023-04-06T10:02:01.502Z"
   },
   {
    "duration": 135,
    "start_time": "2023-04-06T10:03:35.875Z"
   },
   {
    "duration": 92,
    "start_time": "2023-04-06T10:03:42.350Z"
   },
   {
    "duration": 134,
    "start_time": "2023-04-06T10:03:50.475Z"
   },
   {
    "duration": 170,
    "start_time": "2023-04-06T10:05:12.382Z"
   },
   {
    "duration": 165,
    "start_time": "2023-04-06T10:05:30.447Z"
   },
   {
    "duration": 211,
    "start_time": "2023-04-06T10:05:53.853Z"
   },
   {
    "duration": 231,
    "start_time": "2023-04-06T10:06:24.142Z"
   },
   {
    "duration": 202,
    "start_time": "2023-04-06T10:07:59.983Z"
   },
   {
    "duration": 246,
    "start_time": "2023-04-06T10:08:34.411Z"
   },
   {
    "duration": 317,
    "start_time": "2023-04-06T10:09:00.582Z"
   },
   {
    "duration": 231,
    "start_time": "2023-04-06T10:09:15.946Z"
   },
   {
    "duration": 193,
    "start_time": "2023-04-06T10:10:39.443Z"
   },
   {
    "duration": 178,
    "start_time": "2023-04-06T10:11:23.047Z"
   },
   {
    "duration": 179,
    "start_time": "2023-04-06T10:11:34.015Z"
   },
   {
    "duration": 192,
    "start_time": "2023-04-06T10:11:43.720Z"
   },
   {
    "duration": 14,
    "start_time": "2023-04-06T10:12:27.079Z"
   },
   {
    "duration": 193,
    "start_time": "2023-04-06T10:12:33.014Z"
   },
   {
    "duration": 148,
    "start_time": "2023-04-06T10:15:08.995Z"
   },
   {
    "duration": 150,
    "start_time": "2023-04-06T10:15:34.841Z"
   },
   {
    "duration": 241,
    "start_time": "2023-04-06T10:15:43.703Z"
   },
   {
    "duration": 148,
    "start_time": "2023-04-06T10:15:49.207Z"
   },
   {
    "duration": 168,
    "start_time": "2023-04-06T10:18:05.196Z"
   },
   {
    "duration": 186,
    "start_time": "2023-04-06T10:18:32.315Z"
   },
   {
    "duration": 171,
    "start_time": "2023-04-06T10:18:36.799Z"
   },
   {
    "duration": 387,
    "start_time": "2023-04-06T10:19:23.030Z"
   },
   {
    "duration": 298,
    "start_time": "2023-04-06T10:20:49.443Z"
   },
   {
    "duration": 207,
    "start_time": "2023-04-06T10:21:00.989Z"
   },
   {
    "duration": 173,
    "start_time": "2023-04-06T10:21:28.512Z"
   },
   {
    "duration": 187,
    "start_time": "2023-04-06T10:22:18.395Z"
   },
   {
    "duration": 216,
    "start_time": "2023-04-06T10:22:56.407Z"
   },
   {
    "duration": 202,
    "start_time": "2023-04-06T10:24:39.708Z"
   },
   {
    "duration": 202,
    "start_time": "2023-04-06T10:24:47.800Z"
   },
   {
    "duration": 165,
    "start_time": "2023-04-06T10:25:01.598Z"
   },
   {
    "duration": 202,
    "start_time": "2023-04-06T10:25:06.946Z"
   },
   {
    "duration": 136,
    "start_time": "2023-04-06T10:29:28.443Z"
   },
   {
    "duration": 156,
    "start_time": "2023-04-06T10:30:40.125Z"
   },
   {
    "duration": 175,
    "start_time": "2023-04-06T10:30:50.580Z"
   },
   {
    "duration": 182,
    "start_time": "2023-04-06T10:30:59.959Z"
   },
   {
    "duration": 237,
    "start_time": "2023-04-06T10:31:12.515Z"
   },
   {
    "duration": 179,
    "start_time": "2023-04-06T10:32:36.584Z"
   },
   {
    "duration": 278,
    "start_time": "2023-04-06T10:56:46.375Z"
   },
   {
    "duration": 277,
    "start_time": "2023-04-06T10:56:55.275Z"
   },
   {
    "duration": 295,
    "start_time": "2023-04-06T10:57:14.720Z"
   },
   {
    "duration": 388,
    "start_time": "2023-04-06T10:57:24.258Z"
   },
   {
    "duration": 392,
    "start_time": "2023-04-06T10:57:31.538Z"
   },
   {
    "duration": 367,
    "start_time": "2023-04-06T10:58:19.392Z"
   },
   {
    "duration": 199,
    "start_time": "2023-04-06T10:58:32.735Z"
   },
   {
    "duration": 326,
    "start_time": "2023-04-06T10:58:45.104Z"
   },
   {
    "duration": 204,
    "start_time": "2023-04-06T10:59:02.306Z"
   },
   {
    "duration": 195,
    "start_time": "2023-04-06T10:59:08.786Z"
   },
   {
    "duration": 325,
    "start_time": "2023-04-06T10:59:15.362Z"
   },
   {
    "duration": 10,
    "start_time": "2023-04-06T11:11:01.000Z"
   },
   {
    "duration": 31,
    "start_time": "2023-04-06T11:18:03.939Z"
   },
   {
    "duration": 91,
    "start_time": "2023-04-06T11:18:56.643Z"
   },
   {
    "duration": 59,
    "start_time": "2023-04-06T11:19:13.436Z"
   },
   {
    "duration": 636,
    "start_time": "2023-04-06T11:19:37.170Z"
   },
   {
    "duration": 695,
    "start_time": "2023-04-06T11:21:40.735Z"
   },
   {
    "duration": 567,
    "start_time": "2023-04-06T11:22:15.545Z"
   },
   {
    "duration": 836,
    "start_time": "2023-04-06T11:22:45.708Z"
   },
   {
    "duration": 599,
    "start_time": "2023-04-06T11:23:35.109Z"
   },
   {
    "duration": 572,
    "start_time": "2023-04-06T11:23:40.047Z"
   },
   {
    "duration": 564,
    "start_time": "2023-04-06T11:27:28.802Z"
   },
   {
    "duration": 555,
    "start_time": "2023-04-06T11:27:55.234Z"
   },
   {
    "duration": 591,
    "start_time": "2023-04-06T11:28:58.612Z"
   },
   {
    "duration": 607,
    "start_time": "2023-04-06T11:29:32.832Z"
   },
   {
    "duration": 394,
    "start_time": "2023-04-06T11:30:34.850Z"
   },
   {
    "duration": 1746,
    "start_time": "2023-04-06T11:57:10.309Z"
   },
   {
    "duration": 7,
    "start_time": "2023-04-06T11:57:12.059Z"
   },
   {
    "duration": 670,
    "start_time": "2023-04-06T11:57:12.071Z"
   },
   {
    "duration": 1408,
    "start_time": "2023-04-06T11:57:12.744Z"
   },
   {
    "duration": 1238,
    "start_time": "2023-04-06T11:57:14.158Z"
   },
   {
    "duration": 1291,
    "start_time": "2023-04-06T11:57:15.399Z"
   },
   {
    "duration": 174,
    "start_time": "2023-04-06T11:57:16.692Z"
   },
   {
    "duration": 88,
    "start_time": "2023-04-06T11:57:16.868Z"
   },
   {
    "duration": 111,
    "start_time": "2023-04-06T11:57:16.958Z"
   },
   {
    "duration": 122,
    "start_time": "2023-04-06T11:57:17.073Z"
   },
   {
    "duration": 35,
    "start_time": "2023-04-06T11:57:17.198Z"
   },
   {
    "duration": 508,
    "start_time": "2023-04-06T11:57:17.238Z"
   },
   {
    "duration": 224,
    "start_time": "2023-04-06T11:57:17.749Z"
   },
   {
    "duration": 5,
    "start_time": "2023-04-06T11:57:17.975Z"
   },
   {
    "duration": 427,
    "start_time": "2023-04-06T11:57:17.982Z"
   },
   {
    "duration": 5,
    "start_time": "2023-04-06T11:57:18.418Z"
   },
   {
    "duration": 2507,
    "start_time": "2023-04-06T11:57:18.425Z"
   },
   {
    "duration": 24,
    "start_time": "2023-04-06T11:57:20.938Z"
   },
   {
    "duration": 4,
    "start_time": "2023-04-06T11:59:06.593Z"
   },
   {
    "duration": 23,
    "start_time": "2023-04-06T12:02:05.203Z"
   },
   {
    "duration": 22,
    "start_time": "2023-04-06T12:02:40.043Z"
   },
   {
    "duration": 15,
    "start_time": "2023-04-06T12:03:00.464Z"
   },
   {
    "duration": 13,
    "start_time": "2023-04-06T12:03:13.950Z"
   },
   {
    "duration": 1857,
    "start_time": "2023-04-06T12:03:29.226Z"
   },
   {
    "duration": 5,
    "start_time": "2023-04-06T12:03:31.086Z"
   },
   {
    "duration": 696,
    "start_time": "2023-04-06T12:03:31.092Z"
   },
   {
    "duration": 1677,
    "start_time": "2023-04-06T12:03:31.792Z"
   },
   {
    "duration": 1248,
    "start_time": "2023-04-06T12:03:33.471Z"
   },
   {
    "duration": 1361,
    "start_time": "2023-04-06T12:03:34.721Z"
   },
   {
    "duration": 162,
    "start_time": "2023-04-06T12:03:36.084Z"
   },
   {
    "duration": 52,
    "start_time": "2023-04-06T12:03:36.248Z"
   },
   {
    "duration": 134,
    "start_time": "2023-04-06T12:03:36.302Z"
   },
   {
    "duration": 90,
    "start_time": "2023-04-06T12:03:36.444Z"
   },
   {
    "duration": 4,
    "start_time": "2023-04-06T12:03:36.536Z"
   },
   {
    "duration": 579,
    "start_time": "2023-04-06T12:03:36.543Z"
   },
   {
    "duration": 155,
    "start_time": "2023-04-06T12:03:37.126Z"
   },
   {
    "duration": 5,
    "start_time": "2023-04-06T12:03:37.283Z"
   },
   {
    "duration": 380,
    "start_time": "2023-04-06T12:03:37.290Z"
   },
   {
    "duration": 4,
    "start_time": "2023-04-06T12:03:37.673Z"
   },
   {
    "duration": 2372,
    "start_time": "2023-04-06T12:03:37.679Z"
   },
   {
    "duration": 16,
    "start_time": "2023-04-06T12:03:40.055Z"
   },
   {
    "duration": 2412,
    "start_time": "2023-04-06T12:09:14.542Z"
   },
   {
    "duration": 22,
    "start_time": "2023-04-06T12:09:25.210Z"
   },
   {
    "duration": 1892,
    "start_time": "2023-04-06T14:03:00.974Z"
   },
   {
    "duration": 6,
    "start_time": "2023-04-06T14:03:02.868Z"
   },
   {
    "duration": 785,
    "start_time": "2023-04-06T14:03:02.877Z"
   },
   {
    "duration": 1697,
    "start_time": "2023-04-06T14:03:03.669Z"
   },
   {
    "duration": 1455,
    "start_time": "2023-04-06T14:03:05.368Z"
   },
   {
    "duration": 1538,
    "start_time": "2023-04-06T14:03:06.829Z"
   },
   {
    "duration": 164,
    "start_time": "2023-04-06T14:03:08.370Z"
   },
   {
    "duration": 59,
    "start_time": "2023-04-06T14:03:08.536Z"
   },
   {
    "duration": 119,
    "start_time": "2023-04-06T14:03:08.596Z"
   },
   {
    "duration": 91,
    "start_time": "2023-04-06T14:03:08.720Z"
   },
   {
    "duration": 21,
    "start_time": "2023-04-06T14:03:08.813Z"
   },
   {
    "duration": 499,
    "start_time": "2023-04-06T14:03:08.836Z"
   },
   {
    "duration": 151,
    "start_time": "2023-04-06T14:03:09.351Z"
   },
   {
    "duration": 9,
    "start_time": "2023-04-06T14:03:09.505Z"
   },
   {
    "duration": 487,
    "start_time": "2023-04-06T14:03:09.515Z"
   },
   {
    "duration": 4,
    "start_time": "2023-04-06T14:03:10.003Z"
   },
   {
    "duration": 3127,
    "start_time": "2023-04-06T14:03:10.009Z"
   },
   {
    "duration": 24,
    "start_time": "2023-04-06T14:03:13.140Z"
   },
   {
    "duration": 422,
    "start_time": "2023-04-06T14:05:48.244Z"
   },
   {
    "duration": 430,
    "start_time": "2023-04-06T14:06:01.062Z"
   },
   {
    "duration": 427,
    "start_time": "2023-04-06T14:06:11.464Z"
   },
   {
    "duration": 564,
    "start_time": "2023-04-06T14:06:21.478Z"
   },
   {
    "duration": 1868,
    "start_time": "2023-04-06T14:07:50.884Z"
   },
   {
    "duration": 4,
    "start_time": "2023-04-06T14:07:52.754Z"
   },
   {
    "duration": 959,
    "start_time": "2023-04-06T14:07:52.760Z"
   },
   {
    "duration": 1572,
    "start_time": "2023-04-06T14:07:53.729Z"
   },
   {
    "duration": 1399,
    "start_time": "2023-04-06T14:07:55.305Z"
   },
   {
    "duration": 1602,
    "start_time": "2023-04-06T14:07:56.706Z"
   },
   {
    "duration": 199,
    "start_time": "2023-04-06T14:07:58.311Z"
   },
   {
    "duration": 97,
    "start_time": "2023-04-06T14:07:58.513Z"
   },
   {
    "duration": 169,
    "start_time": "2023-04-06T14:07:58.612Z"
   },
   {
    "duration": 143,
    "start_time": "2023-04-06T14:07:58.783Z"
   },
   {
    "duration": 4,
    "start_time": "2023-04-06T14:07:58.928Z"
   },
   {
    "duration": 576,
    "start_time": "2023-04-06T14:07:58.943Z"
   },
   {
    "duration": 189,
    "start_time": "2023-04-06T14:07:59.533Z"
   },
   {
    "duration": 8,
    "start_time": "2023-04-06T14:07:59.725Z"
   },
   {
    "duration": 572,
    "start_time": "2023-04-06T14:07:59.736Z"
   },
   {
    "duration": 4,
    "start_time": "2023-04-06T14:08:00.310Z"
   },
   {
    "duration": 2891,
    "start_time": "2023-04-06T14:08:00.315Z"
   },
   {
    "duration": 27,
    "start_time": "2023-04-06T14:08:03.208Z"
   },
   {
    "duration": 46,
    "start_time": "2023-04-06T16:20:44.725Z"
   },
   {
    "duration": 1585,
    "start_time": "2023-04-06T16:20:49.898Z"
   },
   {
    "duration": 3,
    "start_time": "2023-04-06T16:20:51.485Z"
   },
   {
    "duration": 1015,
    "start_time": "2023-04-06T16:20:51.489Z"
   },
   {
    "duration": 1668,
    "start_time": "2023-04-06T16:20:52.507Z"
   },
   {
    "duration": 1625,
    "start_time": "2023-04-06T16:20:54.176Z"
   },
   {
    "duration": 1167,
    "start_time": "2023-04-06T16:20:55.803Z"
   },
   {
    "duration": 134,
    "start_time": "2023-04-06T16:20:56.972Z"
   },
   {
    "duration": 54,
    "start_time": "2023-04-06T16:20:57.108Z"
   },
   {
    "duration": 83,
    "start_time": "2023-04-06T16:20:57.164Z"
   },
   {
    "duration": 51,
    "start_time": "2023-04-06T16:20:57.250Z"
   },
   {
    "duration": 3,
    "start_time": "2023-04-06T16:20:57.303Z"
   },
   {
    "duration": 454,
    "start_time": "2023-04-06T16:20:57.307Z"
   },
   {
    "duration": 143,
    "start_time": "2023-04-06T16:20:57.840Z"
   },
   {
    "duration": 4,
    "start_time": "2023-04-06T16:20:57.985Z"
   },
   {
    "duration": 335,
    "start_time": "2023-04-06T16:20:57.991Z"
   },
   {
    "duration": 4,
    "start_time": "2023-04-06T16:20:58.327Z"
   },
   {
    "duration": 2345,
    "start_time": "2023-04-06T16:20:58.340Z"
   },
   {
    "duration": 13,
    "start_time": "2023-04-06T16:21:00.687Z"
   },
   {
    "duration": 1749,
    "start_time": "2023-04-06T16:33:09.401Z"
   },
   {
    "duration": 4,
    "start_time": "2023-04-06T16:33:11.153Z"
   },
   {
    "duration": 486,
    "start_time": "2023-04-06T16:33:11.159Z"
   },
   {
    "duration": 1133,
    "start_time": "2023-04-06T16:33:11.647Z"
   },
   {
    "duration": 977,
    "start_time": "2023-04-06T16:33:12.782Z"
   },
   {
    "duration": 1112,
    "start_time": "2023-04-06T16:33:13.761Z"
   },
   {
    "duration": 138,
    "start_time": "2023-04-06T16:33:14.874Z"
   },
   {
    "duration": 53,
    "start_time": "2023-04-06T16:33:15.014Z"
   },
   {
    "duration": 80,
    "start_time": "2023-04-06T16:33:15.069Z"
   },
   {
    "duration": 58,
    "start_time": "2023-04-06T16:33:15.151Z"
   },
   {
    "duration": 30,
    "start_time": "2023-04-06T16:33:15.211Z"
   },
   {
    "duration": 410,
    "start_time": "2023-04-06T16:33:15.243Z"
   },
   {
    "duration": 230,
    "start_time": "2023-04-06T16:33:15.655Z"
   },
   {
    "duration": 4,
    "start_time": "2023-04-06T16:33:15.888Z"
   },
   {
    "duration": 327,
    "start_time": "2023-04-06T16:33:15.894Z"
   },
   {
    "duration": 4,
    "start_time": "2023-04-06T16:33:16.223Z"
   },
   {
    "duration": 2107,
    "start_time": "2023-04-06T16:33:16.228Z"
   },
   {
    "duration": 13,
    "start_time": "2023-04-06T16:33:18.337Z"
   }
  ],
  "kernelspec": {
   "display_name": "Python 3 (ipykernel)",
   "language": "python",
   "name": "python3"
  },
  "language_info": {
   "codemirror_mode": {
    "name": "ipython",
    "version": 3
   },
   "file_extension": ".py",
   "mimetype": "text/x-python",
   "name": "python",
   "nbconvert_exporter": "python",
   "pygments_lexer": "ipython3",
   "version": "3.9.5"
  },
  "toc": {
   "base_numbering": 1,
   "nav_menu": {},
   "number_sections": true,
   "sideBar": true,
   "skip_h1_title": true,
   "title_cell": "Содержание",
   "title_sidebar": "Contents",
   "toc_cell": true,
   "toc_position": {
    "height": "calc(100% - 180px)",
    "left": "10px",
    "top": "150px",
    "width": "366.2px"
   },
   "toc_section_display": true,
   "toc_window_display": true
  }
 },
 "nbformat": 4,
 "nbformat_minor": 2
}
