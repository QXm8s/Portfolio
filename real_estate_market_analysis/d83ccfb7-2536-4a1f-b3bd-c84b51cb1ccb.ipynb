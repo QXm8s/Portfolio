{
 "cells": [
  {
   "cell_type": "markdown",
   "metadata": {},
   "source": [
    "# Исследование объявлений о продаже квартир\n",
    "\n",
    "В вашем распоряжении данные сервиса Яндекс.Недвижимость — архив объявлений о продаже квартир в Санкт-Петербурге и соседних населённых пунктов за несколько лет. Нужно научиться определять рыночную стоимость объектов недвижимости. Ваша задача — установить параметры. Это позволит построить автоматизированную систему: она отследит аномалии и мошенническую деятельность. \n",
    "\n",
    "По каждой квартире на продажу доступны два вида данных. Первые вписаны пользователем, вторые — получены автоматически на основе картографических данных. Например, расстояние до центра, аэропорта, ближайшего парка и водоёма. "
   ]
  },
  {
   "cell_type": "markdown",
   "metadata": {},
   "source": [
    "### Откройте файл с данными и изучите общую информацию. "
   ]
  },
  {
   "cell_type": "code",
   "execution_count": 1,
   "metadata": {},
   "outputs": [],
   "source": [
    "import pandas as pd\n",
    "import numpy as np\n",
    "#Прочитаем данные и запишем в переменную data_raw. \n",
    "#Отметим, что в качестве разделителя в файле данных используется табуляция.\n",
    "data_raw = pd.read_csv('/datasets/real_estate_data.csv', sep='\\t')"
   ]
  },
  {
   "cell_type": "markdown",
   "metadata": {},
   "source": [
    "Выведем на экран общую информацию о таблице с данными."
   ]
  },
  {
   "cell_type": "code",
   "execution_count": 2,
   "metadata": {
    "scrolled": true
   },
   "outputs": [
    {
     "name": "stdout",
     "output_type": "stream",
     "text": [
      "<class 'pandas.core.frame.DataFrame'>\n",
      "RangeIndex: 23699 entries, 0 to 23698\n",
      "Data columns (total 22 columns):\n",
      " #   Column                Non-Null Count  Dtype  \n",
      "---  ------                --------------  -----  \n",
      " 0   total_images          23699 non-null  int64  \n",
      " 1   last_price            23699 non-null  float64\n",
      " 2   total_area            23699 non-null  float64\n",
      " 3   first_day_exposition  23699 non-null  object \n",
      " 4   rooms                 23699 non-null  int64  \n",
      " 5   ceiling_height        14504 non-null  float64\n",
      " 6   floors_total          23613 non-null  float64\n",
      " 7   living_area           21796 non-null  float64\n",
      " 8   floor                 23699 non-null  int64  \n",
      " 9   is_apartment          2775 non-null   object \n",
      " 10  studio                23699 non-null  bool   \n",
      " 11  open_plan             23699 non-null  bool   \n",
      " 12  kitchen_area          21421 non-null  float64\n",
      " 13  balcony               12180 non-null  float64\n",
      " 14  locality_name         23650 non-null  object \n",
      " 15  airports_nearest      18157 non-null  float64\n",
      " 16  cityCenters_nearest   18180 non-null  float64\n",
      " 17  parks_around3000      18181 non-null  float64\n",
      " 18  parks_nearest         8079 non-null   float64\n",
      " 19  ponds_around3000      18181 non-null  float64\n",
      " 20  ponds_nearest         9110 non-null   float64\n",
      " 21  days_exposition       20518 non-null  float64\n",
      "dtypes: bool(2), float64(14), int64(3), object(3)\n",
      "memory usage: 3.7+ MB\n"
     ]
    }
   ],
   "source": [
    "data_raw.info()"
   ]
  },
  {
   "cell_type": "markdown",
   "metadata": {},
   "source": [
    "Просмотрим первые 10 строк таблицы."
   ]
  },
  {
   "cell_type": "code",
   "execution_count": 3,
   "metadata": {
    "scrolled": true
   },
   "outputs": [
    {
     "data": {
      "text/html": [
       "<div>\n",
       "<style scoped>\n",
       "    .dataframe tbody tr th:only-of-type {\n",
       "        vertical-align: middle;\n",
       "    }\n",
       "\n",
       "    .dataframe tbody tr th {\n",
       "        vertical-align: top;\n",
       "    }\n",
       "\n",
       "    .dataframe thead th {\n",
       "        text-align: right;\n",
       "    }\n",
       "</style>\n",
       "<table border=\"1\" class=\"dataframe\">\n",
       "  <thead>\n",
       "    <tr style=\"text-align: right;\">\n",
       "      <th></th>\n",
       "      <th>total_images</th>\n",
       "      <th>last_price</th>\n",
       "      <th>total_area</th>\n",
       "      <th>first_day_exposition</th>\n",
       "      <th>rooms</th>\n",
       "      <th>ceiling_height</th>\n",
       "      <th>floors_total</th>\n",
       "      <th>living_area</th>\n",
       "      <th>floor</th>\n",
       "      <th>is_apartment</th>\n",
       "      <th>studio</th>\n",
       "      <th>open_plan</th>\n",
       "      <th>kitchen_area</th>\n",
       "      <th>balcony</th>\n",
       "      <th>locality_name</th>\n",
       "      <th>airports_nearest</th>\n",
       "      <th>cityCenters_nearest</th>\n",
       "      <th>parks_around3000</th>\n",
       "      <th>parks_nearest</th>\n",
       "      <th>ponds_around3000</th>\n",
       "      <th>ponds_nearest</th>\n",
       "      <th>days_exposition</th>\n",
       "    </tr>\n",
       "  </thead>\n",
       "  <tbody>\n",
       "    <tr>\n",
       "      <th>0</th>\n",
       "      <td>20</td>\n",
       "      <td>13000000.0</td>\n",
       "      <td>108.00</td>\n",
       "      <td>2019-03-07T00:00:00</td>\n",
       "      <td>3</td>\n",
       "      <td>2.70</td>\n",
       "      <td>16.0</td>\n",
       "      <td>51.00</td>\n",
       "      <td>8</td>\n",
       "      <td>NaN</td>\n",
       "      <td>False</td>\n",
       "      <td>False</td>\n",
       "      <td>25.00</td>\n",
       "      <td>NaN</td>\n",
       "      <td>Санкт-Петербург</td>\n",
       "      <td>18863.0</td>\n",
       "      <td>16028.0</td>\n",
       "      <td>1.0</td>\n",
       "      <td>482.0</td>\n",
       "      <td>2.0</td>\n",
       "      <td>755.0</td>\n",
       "      <td>NaN</td>\n",
       "    </tr>\n",
       "    <tr>\n",
       "      <th>1</th>\n",
       "      <td>7</td>\n",
       "      <td>3350000.0</td>\n",
       "      <td>40.40</td>\n",
       "      <td>2018-12-04T00:00:00</td>\n",
       "      <td>1</td>\n",
       "      <td>NaN</td>\n",
       "      <td>11.0</td>\n",
       "      <td>18.60</td>\n",
       "      <td>1</td>\n",
       "      <td>NaN</td>\n",
       "      <td>False</td>\n",
       "      <td>False</td>\n",
       "      <td>11.00</td>\n",
       "      <td>2.0</td>\n",
       "      <td>посёлок Шушары</td>\n",
       "      <td>12817.0</td>\n",
       "      <td>18603.0</td>\n",
       "      <td>0.0</td>\n",
       "      <td>NaN</td>\n",
       "      <td>0.0</td>\n",
       "      <td>NaN</td>\n",
       "      <td>81.0</td>\n",
       "    </tr>\n",
       "    <tr>\n",
       "      <th>2</th>\n",
       "      <td>10</td>\n",
       "      <td>5196000.0</td>\n",
       "      <td>56.00</td>\n",
       "      <td>2015-08-20T00:00:00</td>\n",
       "      <td>2</td>\n",
       "      <td>NaN</td>\n",
       "      <td>5.0</td>\n",
       "      <td>34.30</td>\n",
       "      <td>4</td>\n",
       "      <td>NaN</td>\n",
       "      <td>False</td>\n",
       "      <td>False</td>\n",
       "      <td>8.30</td>\n",
       "      <td>0.0</td>\n",
       "      <td>Санкт-Петербург</td>\n",
       "      <td>21741.0</td>\n",
       "      <td>13933.0</td>\n",
       "      <td>1.0</td>\n",
       "      <td>90.0</td>\n",
       "      <td>2.0</td>\n",
       "      <td>574.0</td>\n",
       "      <td>558.0</td>\n",
       "    </tr>\n",
       "    <tr>\n",
       "      <th>3</th>\n",
       "      <td>0</td>\n",
       "      <td>64900000.0</td>\n",
       "      <td>159.00</td>\n",
       "      <td>2015-07-24T00:00:00</td>\n",
       "      <td>3</td>\n",
       "      <td>NaN</td>\n",
       "      <td>14.0</td>\n",
       "      <td>NaN</td>\n",
       "      <td>9</td>\n",
       "      <td>NaN</td>\n",
       "      <td>False</td>\n",
       "      <td>False</td>\n",
       "      <td>NaN</td>\n",
       "      <td>0.0</td>\n",
       "      <td>Санкт-Петербург</td>\n",
       "      <td>28098.0</td>\n",
       "      <td>6800.0</td>\n",
       "      <td>2.0</td>\n",
       "      <td>84.0</td>\n",
       "      <td>3.0</td>\n",
       "      <td>234.0</td>\n",
       "      <td>424.0</td>\n",
       "    </tr>\n",
       "    <tr>\n",
       "      <th>4</th>\n",
       "      <td>2</td>\n",
       "      <td>10000000.0</td>\n",
       "      <td>100.00</td>\n",
       "      <td>2018-06-19T00:00:00</td>\n",
       "      <td>2</td>\n",
       "      <td>3.03</td>\n",
       "      <td>14.0</td>\n",
       "      <td>32.00</td>\n",
       "      <td>13</td>\n",
       "      <td>NaN</td>\n",
       "      <td>False</td>\n",
       "      <td>False</td>\n",
       "      <td>41.00</td>\n",
       "      <td>NaN</td>\n",
       "      <td>Санкт-Петербург</td>\n",
       "      <td>31856.0</td>\n",
       "      <td>8098.0</td>\n",
       "      <td>2.0</td>\n",
       "      <td>112.0</td>\n",
       "      <td>1.0</td>\n",
       "      <td>48.0</td>\n",
       "      <td>121.0</td>\n",
       "    </tr>\n",
       "    <tr>\n",
       "      <th>5</th>\n",
       "      <td>10</td>\n",
       "      <td>2890000.0</td>\n",
       "      <td>30.40</td>\n",
       "      <td>2018-09-10T00:00:00</td>\n",
       "      <td>1</td>\n",
       "      <td>NaN</td>\n",
       "      <td>12.0</td>\n",
       "      <td>14.40</td>\n",
       "      <td>5</td>\n",
       "      <td>NaN</td>\n",
       "      <td>False</td>\n",
       "      <td>False</td>\n",
       "      <td>9.10</td>\n",
       "      <td>NaN</td>\n",
       "      <td>городской посёлок Янино-1</td>\n",
       "      <td>NaN</td>\n",
       "      <td>NaN</td>\n",
       "      <td>NaN</td>\n",
       "      <td>NaN</td>\n",
       "      <td>NaN</td>\n",
       "      <td>NaN</td>\n",
       "      <td>55.0</td>\n",
       "    </tr>\n",
       "    <tr>\n",
       "      <th>6</th>\n",
       "      <td>6</td>\n",
       "      <td>3700000.0</td>\n",
       "      <td>37.30</td>\n",
       "      <td>2017-11-02T00:00:00</td>\n",
       "      <td>1</td>\n",
       "      <td>NaN</td>\n",
       "      <td>26.0</td>\n",
       "      <td>10.60</td>\n",
       "      <td>6</td>\n",
       "      <td>NaN</td>\n",
       "      <td>False</td>\n",
       "      <td>False</td>\n",
       "      <td>14.40</td>\n",
       "      <td>1.0</td>\n",
       "      <td>посёлок Парголово</td>\n",
       "      <td>52996.0</td>\n",
       "      <td>19143.0</td>\n",
       "      <td>0.0</td>\n",
       "      <td>NaN</td>\n",
       "      <td>0.0</td>\n",
       "      <td>NaN</td>\n",
       "      <td>155.0</td>\n",
       "    </tr>\n",
       "    <tr>\n",
       "      <th>7</th>\n",
       "      <td>5</td>\n",
       "      <td>7915000.0</td>\n",
       "      <td>71.60</td>\n",
       "      <td>2019-04-18T00:00:00</td>\n",
       "      <td>2</td>\n",
       "      <td>NaN</td>\n",
       "      <td>24.0</td>\n",
       "      <td>NaN</td>\n",
       "      <td>22</td>\n",
       "      <td>NaN</td>\n",
       "      <td>False</td>\n",
       "      <td>False</td>\n",
       "      <td>18.90</td>\n",
       "      <td>2.0</td>\n",
       "      <td>Санкт-Петербург</td>\n",
       "      <td>23982.0</td>\n",
       "      <td>11634.0</td>\n",
       "      <td>0.0</td>\n",
       "      <td>NaN</td>\n",
       "      <td>0.0</td>\n",
       "      <td>NaN</td>\n",
       "      <td>NaN</td>\n",
       "    </tr>\n",
       "    <tr>\n",
       "      <th>8</th>\n",
       "      <td>20</td>\n",
       "      <td>2900000.0</td>\n",
       "      <td>33.16</td>\n",
       "      <td>2018-05-23T00:00:00</td>\n",
       "      <td>1</td>\n",
       "      <td>NaN</td>\n",
       "      <td>27.0</td>\n",
       "      <td>15.43</td>\n",
       "      <td>26</td>\n",
       "      <td>NaN</td>\n",
       "      <td>False</td>\n",
       "      <td>False</td>\n",
       "      <td>8.81</td>\n",
       "      <td>NaN</td>\n",
       "      <td>посёлок Мурино</td>\n",
       "      <td>NaN</td>\n",
       "      <td>NaN</td>\n",
       "      <td>NaN</td>\n",
       "      <td>NaN</td>\n",
       "      <td>NaN</td>\n",
       "      <td>NaN</td>\n",
       "      <td>189.0</td>\n",
       "    </tr>\n",
       "    <tr>\n",
       "      <th>9</th>\n",
       "      <td>18</td>\n",
       "      <td>5400000.0</td>\n",
       "      <td>61.00</td>\n",
       "      <td>2017-02-26T00:00:00</td>\n",
       "      <td>3</td>\n",
       "      <td>2.50</td>\n",
       "      <td>9.0</td>\n",
       "      <td>43.60</td>\n",
       "      <td>7</td>\n",
       "      <td>NaN</td>\n",
       "      <td>False</td>\n",
       "      <td>False</td>\n",
       "      <td>6.50</td>\n",
       "      <td>2.0</td>\n",
       "      <td>Санкт-Петербург</td>\n",
       "      <td>50898.0</td>\n",
       "      <td>15008.0</td>\n",
       "      <td>0.0</td>\n",
       "      <td>NaN</td>\n",
       "      <td>0.0</td>\n",
       "      <td>NaN</td>\n",
       "      <td>289.0</td>\n",
       "    </tr>\n",
       "  </tbody>\n",
       "</table>\n",
       "</div>"
      ],
      "text/plain": [
       "   total_images  last_price  total_area first_day_exposition  rooms  \\\n",
       "0            20  13000000.0      108.00  2019-03-07T00:00:00      3   \n",
       "1             7   3350000.0       40.40  2018-12-04T00:00:00      1   \n",
       "2            10   5196000.0       56.00  2015-08-20T00:00:00      2   \n",
       "3             0  64900000.0      159.00  2015-07-24T00:00:00      3   \n",
       "4             2  10000000.0      100.00  2018-06-19T00:00:00      2   \n",
       "5            10   2890000.0       30.40  2018-09-10T00:00:00      1   \n",
       "6             6   3700000.0       37.30  2017-11-02T00:00:00      1   \n",
       "7             5   7915000.0       71.60  2019-04-18T00:00:00      2   \n",
       "8            20   2900000.0       33.16  2018-05-23T00:00:00      1   \n",
       "9            18   5400000.0       61.00  2017-02-26T00:00:00      3   \n",
       "\n",
       "   ceiling_height  floors_total  living_area  floor is_apartment  studio  \\\n",
       "0            2.70          16.0        51.00      8          NaN   False   \n",
       "1             NaN          11.0        18.60      1          NaN   False   \n",
       "2             NaN           5.0        34.30      4          NaN   False   \n",
       "3             NaN          14.0          NaN      9          NaN   False   \n",
       "4            3.03          14.0        32.00     13          NaN   False   \n",
       "5             NaN          12.0        14.40      5          NaN   False   \n",
       "6             NaN          26.0        10.60      6          NaN   False   \n",
       "7             NaN          24.0          NaN     22          NaN   False   \n",
       "8             NaN          27.0        15.43     26          NaN   False   \n",
       "9            2.50           9.0        43.60      7          NaN   False   \n",
       "\n",
       "   open_plan  kitchen_area  balcony              locality_name  \\\n",
       "0      False         25.00      NaN            Санкт-Петербург   \n",
       "1      False         11.00      2.0             посёлок Шушары   \n",
       "2      False          8.30      0.0            Санкт-Петербург   \n",
       "3      False           NaN      0.0            Санкт-Петербург   \n",
       "4      False         41.00      NaN            Санкт-Петербург   \n",
       "5      False          9.10      NaN  городской посёлок Янино-1   \n",
       "6      False         14.40      1.0          посёлок Парголово   \n",
       "7      False         18.90      2.0            Санкт-Петербург   \n",
       "8      False          8.81      NaN             посёлок Мурино   \n",
       "9      False          6.50      2.0            Санкт-Петербург   \n",
       "\n",
       "   airports_nearest  cityCenters_nearest  parks_around3000  parks_nearest  \\\n",
       "0           18863.0              16028.0               1.0          482.0   \n",
       "1           12817.0              18603.0               0.0            NaN   \n",
       "2           21741.0              13933.0               1.0           90.0   \n",
       "3           28098.0               6800.0               2.0           84.0   \n",
       "4           31856.0               8098.0               2.0          112.0   \n",
       "5               NaN                  NaN               NaN            NaN   \n",
       "6           52996.0              19143.0               0.0            NaN   \n",
       "7           23982.0              11634.0               0.0            NaN   \n",
       "8               NaN                  NaN               NaN            NaN   \n",
       "9           50898.0              15008.0               0.0            NaN   \n",
       "\n",
       "   ponds_around3000  ponds_nearest  days_exposition  \n",
       "0               2.0          755.0              NaN  \n",
       "1               0.0            NaN             81.0  \n",
       "2               2.0          574.0            558.0  \n",
       "3               3.0          234.0            424.0  \n",
       "4               1.0           48.0            121.0  \n",
       "5               NaN            NaN             55.0  \n",
       "6               0.0            NaN            155.0  \n",
       "7               0.0            NaN              NaN  \n",
       "8               NaN            NaN            189.0  \n",
       "9               0.0            NaN            289.0  "
      ]
     },
     "execution_count": 3,
     "metadata": {},
     "output_type": "execute_result"
    }
   ],
   "source": [
    "#В нашем датасете 22 столбца, далее по ходу исследования мы добавим еще несколько. \n",
    "#По умолчанию Pandas выводит только 20 столбцов, поэтому изменим соответствующую опцию.\n",
    "pd.set_option('display.max_columns', 30)\n",
    "data_raw.head(10)"
   ]
  },
  {
   "cell_type": "markdown",
   "metadata": {},
   "source": [
    "Построим гистограммы для числовых данных. "
   ]
  },
  {
   "cell_type": "code",
   "execution_count": 4,
   "metadata": {},
   "outputs": [
    {
     "data": {
      "text/plain": [
       "array([[<AxesSubplot:title={'center':'total_images'}>,\n",
       "        <AxesSubplot:title={'center':'last_price'}>,\n",
       "        <AxesSubplot:title={'center':'total_area'}>,\n",
       "        <AxesSubplot:title={'center':'rooms'}>],\n",
       "       [<AxesSubplot:title={'center':'ceiling_height'}>,\n",
       "        <AxesSubplot:title={'center':'floors_total'}>,\n",
       "        <AxesSubplot:title={'center':'living_area'}>,\n",
       "        <AxesSubplot:title={'center':'floor'}>],\n",
       "       [<AxesSubplot:title={'center':'kitchen_area'}>,\n",
       "        <AxesSubplot:title={'center':'balcony'}>,\n",
       "        <AxesSubplot:title={'center':'airports_nearest'}>,\n",
       "        <AxesSubplot:title={'center':'cityCenters_nearest'}>],\n",
       "       [<AxesSubplot:title={'center':'parks_around3000'}>,\n",
       "        <AxesSubplot:title={'center':'parks_nearest'}>,\n",
       "        <AxesSubplot:title={'center':'ponds_around3000'}>,\n",
       "        <AxesSubplot:title={'center':'ponds_nearest'}>],\n",
       "       [<AxesSubplot:title={'center':'days_exposition'}>, <AxesSubplot:>,\n",
       "        <AxesSubplot:>, <AxesSubplot:>]], dtype=object)"
      ]
     },
     "execution_count": 4,
     "metadata": {},
     "output_type": "execute_result"
    },
    {
     "data": {
      "image/png": "[encoded data removed]",
      "text/plain": [
       "<Figure size 1080x1440 with 20 Axes>"
      ]
     },
     "metadata": {
      "needs_background": "light"
     },
     "output_type": "display_data"
    }
   ],
   "source": [
    "data_raw.hist(figsize=(15, 20))"
   ]
  },
  {
   "cell_type": "markdown",
   "metadata": {},
   "source": [
    "Используя выкладки выше, мы можем оценить размерность таблицы, наименования и типы данных столбцов, наличие/отсутствие пропусков. Все это пригодится нам на этапе предобработки."
   ]
  },
  {
   "cell_type": "markdown",
   "metadata": {},
   "source": [
    "### Предобработка данных"
   ]
  },
  {
   "cell_type": "markdown",
   "metadata": {},
   "source": [
    "#### Переименование столбцов\n",
    "Приведем столбцы `cityCenters_nearest`, `parks_around3000` и `ponds_around3000` к \"змеиному\" регистру. Столбцы `studio` и `open_plan` переименуем аналогично `is_apartment`, представив таким образом, мнемонически и единообразно заголовки булевых данных. "
   ]
  },
  {
   "cell_type": "code",
   "execution_count": 5,
   "metadata": {},
   "outputs": [],
   "source": [
    "data_nans_refined = data_raw.copy()\n",
    "data_nans_refined = data_nans_refined.rename(\n",
    "    columns={\n",
    "        'cityCenters_nearest' : 'city_center_nearest', \n",
    "        'ponds_around3000' : 'ponds_around_3000',\n",
    "        'parks_around3000' : 'parks_around_3000',\n",
    "        'studio' : 'is_studio', \n",
    "        'open_plan' : 'is_open_plan'\n",
    "    }\n",
    ")"
   ]
  },
  {
   "cell_type": "markdown",
   "metadata": {},
   "source": [
    "Убедимся, что переименование прошло успешно."
   ]
  },
  {
   "cell_type": "code",
   "execution_count": 6,
   "metadata": {},
   "outputs": [
    {
     "data": {
      "text/plain": [
       "Index(['total_images', 'last_price', 'total_area', 'first_day_exposition',\n",
       "       'rooms', 'ceiling_height', 'floors_total', 'living_area', 'floor',\n",
       "       'is_apartment', 'is_studio', 'is_open_plan', 'kitchen_area', 'balcony',\n",
       "       'locality_name', 'airports_nearest', 'city_center_nearest',\n",
       "       'parks_around_3000', 'parks_nearest', 'ponds_around_3000',\n",
       "       'ponds_nearest', 'days_exposition'],\n",
       "      dtype='object')"
      ]
     },
     "execution_count": 6,
     "metadata": {},
     "output_type": "execute_result"
    }
   ],
   "source": [
    "data_nans_refined.columns"
   ]
  },
  {
   "cell_type": "markdown",
   "metadata": {},
   "source": [
    "#### Работа с дубликатами\n",
    "Перед тем, как приступить к обработке пропусков, проверим, есть ли в нашей таблице повторяющиеся строки (явные дубликаты)."
   ]
  },
  {
   "cell_type": "code",
   "execution_count": 7,
   "metadata": {},
   "outputs": [
    {
     "data": {
      "text/plain": [
       "0"
      ]
     },
     "execution_count": 7,
     "metadata": {},
     "output_type": "execute_result"
    }
   ],
   "source": [
    "data_nans_refined.duplicated().sum()"
   ]
  },
  {
   "cell_type": "markdown",
   "metadata": {},
   "source": [
    "Все строки уникальны. Поищем и, при необходимости, устраним неявные дубликаты в столбце `locality_name`, единственном с категориальными строковыми данными в нашем датасете. Взглянем на уникальные значения и оценим их количество:"
   ]
  },
  {
   "cell_type": "code",
   "execution_count": 8,
   "metadata": {
    "scrolled": true
   },
   "outputs": [
    {
     "name": "stdout",
     "output_type": "stream",
     "text": [
      "Количество уникальных значений: 365 \n",
      "\n",
      "Список уникальных значений: ['Бокситогорск' 'Волосово' 'Волхов' 'Всеволожск' 'Выборг' 'Высоцк'\n",
      " 'Гатчина' 'Зеленогорск' 'Ивангород' 'Каменногорск' 'Кингисепп' 'Кириши'\n",
      " 'Кировск' 'Колпино' 'Коммунар' 'Красное Село' 'Кронштадт' 'Кудрово'\n",
      " 'Лодейное Поле' 'Ломоносов' 'Луга' 'Любань' 'Мурино' 'Никольское'\n",
      " 'Новая Ладога' 'Отрадное' 'Павловск' 'Петергоф' 'Пикалёво' 'Подпорожье'\n",
      " 'Приморск' 'Приозерск' 'Пушкин' 'Санкт-Петербург' 'Светогорск'\n",
      " 'Сертолово' 'Сестрорецк' 'Сланцы' 'Сосновый Бор' 'Сясьстрой' 'Тихвин'\n",
      " 'Тосно' 'Шлиссельбург' 'городской поселок Большая Ижора'\n",
      " 'городской поселок Янино-1' 'городской посёлок Будогощь'\n",
      " 'городской посёлок Виллози' 'городской посёлок Лесогорский'\n",
      " 'городской посёлок Мга' 'городской посёлок Назия'\n",
      " 'городской посёлок Новоселье' 'городской посёлок Павлово'\n",
      " 'городской посёлок Рощино' 'городской посёлок Свирьстрой'\n",
      " 'городской посёлок Советский' 'городской посёлок Фёдоровское'\n",
      " 'городской посёлок Янино-1' 'деревня Агалатово' 'деревня Аро'\n",
      " 'деревня Батово' 'деревня Бегуницы' 'деревня Белогорка'\n",
      " 'деревня Большая Вруда' 'деревня Большая Пустомержа'\n",
      " 'деревня Большие Колпаны' 'деревня Большое Рейзино'\n",
      " 'деревня Большой Сабск' 'деревня Бор' 'деревня Борисова Грива'\n",
      " 'деревня Ваганово' 'деревня Вартемяги' 'деревня Вахнова Кара'\n",
      " 'деревня Выскатка' 'деревня Гарболово' 'деревня Глинка'\n",
      " 'деревня Горбунки' 'деревня Гостилицы' 'деревня Заклинье'\n",
      " 'деревня Заневка' 'деревня Зимитицы' 'деревня Извара' 'деревня Иссад'\n",
      " 'деревня Калитино' 'деревня Кальтино' 'деревня Камышовка'\n",
      " 'деревня Каськово' 'деревня Келози' 'деревня Кипень' 'деревня Кисельня'\n",
      " 'деревня Колтуши' 'деревня Коркино' 'деревня Котлы' 'деревня Кривко'\n",
      " 'деревня Кудрово' 'деревня Кузьмолово' 'деревня Курковицы'\n",
      " 'деревня Куровицы' 'деревня Куттузи' 'деревня Лаврики' 'деревня Лаголово'\n",
      " 'деревня Лампово' 'деревня Лесколово' 'деревня Лопухинка'\n",
      " 'деревня Лупполово' 'деревня Малая Романовка' 'деревня Малое Верево'\n",
      " 'деревня Малое Карлино' 'деревня Малые Колпаны' 'деревня Мануйлово'\n",
      " 'деревня Меньково' 'деревня Мины' 'деревня Мистолово' 'деревня Ненимяки'\n",
      " 'деревня Нижние Осельки' 'деревня Нижняя' 'деревня Низино'\n",
      " 'деревня Новое Девяткино' 'деревня Новолисино' 'деревня Нурма'\n",
      " 'деревня Оржицы' 'деревня Парицы' 'деревня Пельгора' 'деревня Пеники'\n",
      " 'деревня Пижма' 'деревня Пикколово' 'деревня Пудомяги' 'деревня Пустынка'\n",
      " 'деревня Пчева' 'деревня Рабитицы' 'деревня Разбегаево'\n",
      " 'деревня Раздолье' 'деревня Разметелево' 'деревня Рапполово'\n",
      " 'деревня Реброво' 'деревня Русско' 'деревня Сижно' 'деревня Снегирёвка'\n",
      " 'деревня Старая' 'деревня Старая Пустошь' 'деревня Старое Хинколово'\n",
      " 'деревня Старополье' 'деревня Старосиверская' 'деревня Старые Бегуницы'\n",
      " 'деревня Суоранда' 'деревня Сяськелево' 'деревня Тарасово'\n",
      " 'деревня Терпилицы' 'деревня Тихковицы' 'деревня Тойворово'\n",
      " 'деревня Торосово' 'деревня Торошковичи' 'деревня Трубников Бор'\n",
      " 'деревня Фалилеево' 'деревня Фёдоровское' 'деревня Хапо-Ое'\n",
      " 'деревня Хязельки' 'деревня Чудской Бор' 'деревня Шпаньково'\n",
      " 'деревня Щеглово' 'деревня Юкки' 'деревня Ялгино' 'деревня Яльгелево'\n",
      " 'деревня Ям-Тесово' 'коттеджный поселок Кивеннапа Север'\n",
      " 'коттеджный поселок Счастье' 'коттеджный посёлок Лесное' 'поселок Аннино'\n",
      " 'поселок Барышево' 'поселок Бугры' 'поселок Возрождение'\n",
      " 'поселок Войсковицы' 'поселок Володарское' 'поселок Гаврилово'\n",
      " 'поселок Гарболово' 'поселок Гладкое' 'поселок Глажево'\n",
      " 'поселок Глебычево' 'поселок Гончарово' 'поселок Громово'\n",
      " 'поселок Дружноселье' 'поселок Елизаветино' 'поселок Жилгородок'\n",
      " 'поселок Жилпосёлок' 'поселок Житково' 'поселок Заводской'\n",
      " 'поселок Запорожское' 'поселок Зимитицы' 'поселок Ильичёво'\n",
      " 'поселок Калитино' 'поселок Каложицы' 'поселок Кингисеппский'\n",
      " 'поселок Кирпичное' 'поселок Кобралово' 'поселок Кобринское'\n",
      " 'поселок Коммунары' 'поселок Коробицыно' 'поселок Котельский'\n",
      " 'поселок Красная Долина' 'поселок Красносельское' 'поселок Лесное'\n",
      " 'поселок Лисий Нос' 'поселок Лукаши' 'поселок Любань'\n",
      " 'поселок Мельниково' 'поселок Мичуринское' 'поселок Молодцово'\n",
      " 'поселок Мурино' 'поселок Новый Свет' 'поселок Новый Учхоз'\n",
      " 'поселок Оредеж' 'поселок Пансионат Зелёный Бор' 'поселок Первомайское'\n",
      " 'поселок Перово' 'поселок Петровское' 'поселок Победа' 'поселок Поляны'\n",
      " 'поселок Почап' 'поселок Починок' 'поселок Пушное' 'поселок Пчевжа'\n",
      " 'поселок Рабитицы' 'поселок Романовка' 'поселок Ромашки' 'поселок Рябово'\n",
      " 'поселок Севастьяново' 'поселок Селезнёво' 'поселок Сельцо'\n",
      " 'поселок Семиозерье' 'поселок Семрино' 'поселок Серебрянский'\n",
      " 'поселок Совхозный' 'поселок Старая Малукса' 'поселок Стеклянный'\n",
      " 'поселок Сумино' 'поселок Суходолье' 'поселок Тельмана'\n",
      " 'поселок Терволово' 'поселок Торковичи' 'поселок Тёсово-4'\n",
      " 'поселок Углово' 'поселок Усть-Луга' 'поселок Ушаки'\n",
      " 'поселок Цвелодубово' 'поселок Цвылёво'\n",
      " 'поселок городского типа Большая Ижора' 'поселок городского типа Вырица'\n",
      " 'поселок городского типа Дружная Горка'\n",
      " 'поселок городского типа Дубровка' 'поселок городского типа Ефимовский'\n",
      " 'поселок городского типа Кондратьево'\n",
      " 'поселок городского типа Красный Бор'\n",
      " 'поселок городского типа Кузьмоловский' 'поселок городского типа Лебяжье'\n",
      " 'поселок городского типа Лесогорский' 'поселок городского типа Назия'\n",
      " 'поселок городского типа Никольский'\n",
      " 'поселок городского типа Приладожский' 'поселок городского типа Рахья'\n",
      " 'поселок городского типа Рощино' 'поселок городского типа Рябово'\n",
      " 'поселок городского типа Синявино' 'поселок городского типа Советский'\n",
      " 'поселок городского типа Токсово' 'поселок городского типа Форносово'\n",
      " 'поселок городского типа имени Свердлова' 'поселок станции Вещево'\n",
      " 'поселок станции Корнево' 'поселок станции Лужайка'\n",
      " 'поселок станции Приветнинское' 'посёлок Александровская'\n",
      " 'посёлок Алексеевка' 'посёлок Аннино' 'посёлок Белоостров'\n",
      " 'посёлок Бугры' 'посёлок Возрождение' 'посёлок Войскорово'\n",
      " 'посёлок Высокоключевой' 'посёлок Гаврилово' 'посёлок Дзержинского'\n",
      " 'посёлок Жилгородок' 'посёлок Ильичёво' 'посёлок Кикерино'\n",
      " 'посёлок Кобралово' 'посёлок Коробицыно' 'посёлок Левашово'\n",
      " 'посёлок Ленинское' 'посёлок Лисий Нос' 'посёлок Мельниково'\n",
      " 'посёлок Металлострой' 'посёлок Мичуринское' 'посёлок Молодёжное'\n",
      " 'посёлок Мурино' 'посёлок Мыза-Ивановка' 'посёлок Новогорелово'\n",
      " 'посёлок Новый Свет' 'посёлок Пансионат Зелёный Бор' 'посёлок Парголово'\n",
      " 'посёлок Перово' 'посёлок Песочный' 'посёлок Петро-Славянка'\n",
      " 'посёлок Петровское' 'посёлок Платформа 69-й километр' 'посёлок Плодовое'\n",
      " 'посёлок Плоское' 'посёлок Победа' 'посёлок Поляны' 'посёлок Понтонный'\n",
      " 'посёлок Пригородный' 'посёлок Пудость' 'посёлок Репино' 'посёлок Ропша'\n",
      " 'посёлок Сапёрное' 'посёлок Сапёрный' 'посёлок Сосново'\n",
      " 'посёлок Старая Малукса' 'посёлок Стеклянный' 'посёлок Стрельна'\n",
      " 'посёлок Суйда' 'посёлок Сумино' 'посёлок Тельмана' 'посёлок Терволово'\n",
      " 'посёлок Торфяное' 'посёлок Усть-Ижора' 'посёлок Усть-Луга'\n",
      " 'посёлок Форт Красная Горка' 'посёлок Шугозеро' 'посёлок Шушары'\n",
      " 'посёлок Щеглово' 'посёлок городского типа Важины'\n",
      " 'посёлок городского типа Вознесенье' 'посёлок городского типа Вырица'\n",
      " 'посёлок городского типа Красный Бор' 'посёлок городского типа Кузнечное'\n",
      " 'посёлок городского типа Кузьмоловский' 'посёлок городского типа Лебяжье'\n",
      " 'посёлок городского типа Мга' 'посёлок городского типа Павлово'\n",
      " 'посёлок городского типа Рощино' 'посёлок городского типа Рябово'\n",
      " 'посёлок городского типа Сиверский' 'посёлок городского типа Тайцы'\n",
      " 'посёлок городского типа Токсово' 'посёлок городского типа Ульяновка'\n",
      " 'посёлок городского типа Форносово'\n",
      " 'посёлок городского типа имени Морозова'\n",
      " 'посёлок городского типа имени Свердлова'\n",
      " 'посёлок при железнодорожной станции Вещево'\n",
      " 'посёлок при железнодорожной станции Приветнинское'\n",
      " 'посёлок станции Громово' 'посёлок станции Свирь'\n",
      " 'садоводческое некоммерческое товарищество Лесная Поляна'\n",
      " 'садовое товарищество Новая Ропша' 'садовое товарищество Приладожский'\n",
      " 'садовое товарищество Рахья' 'садовое товарищество Садко' 'село Копорье'\n",
      " 'село Никольское' 'село Павлово' 'село Паша' 'село Путилово'\n",
      " 'село Рождествено' 'село Русско-Высоцкое' 'село Старая Ладога' 'село Шум'\n",
      " nan]\n"
     ]
    }
   ],
   "source": [
    "#Для лучшего восприятия отсортируем данные \n",
    "unique_values = data_nans_refined['locality_name'].sort_values().unique()\n",
    "print(\n",
    "    'Количество уникальных значений:', len(unique_values),\n",
    "    '\\n\\nСписок уникальных значений:', unique_values\n",
    ")"
   ]
  },
  {
   "cell_type": "markdown",
   "metadata": {},
   "source": [
    "Среди значений есть неявные дубликаты. Часть из них происходит из-за разночтений, типа посёлок/поселок. Другая связана с различными формулировками статуса поселения, например \"городской поселок\" и \"поселок городского типа\".  \n",
    "Избавимся от неявных дубликатов, заменив все \"ё\" на \"е\" и унифицировав статусы поселений. Также используем общепринятые сокращения, чтобы облегчить восприятие данных. "
   ]
  },
  {
   "cell_type": "code",
   "execution_count": 9,
   "metadata": {
    "scrolled": false
   },
   "outputs": [
    {
     "name": "stdout",
     "output_type": "stream",
     "text": [
      "Количество уникальных значений: 321 \n",
      "\n",
      "Список уникальных значений: ['Бокситогорск' 'Волосово' 'Волхов' 'Всеволожск' 'Выборг' 'Высоцк'\n",
      " 'Гатчина' 'Зеленогорск' 'Ивангород' 'Каменногорск' 'Кингисепп' 'Кириши'\n",
      " 'Кировск' 'Колпино' 'Коммунар' 'Красное Село' 'Кронштадт' 'Кудрово'\n",
      " 'Лодейное Поле' 'Ломоносов' 'Луга' 'Любань' 'Мурино' 'Никольское'\n",
      " 'Новая Ладога' 'Отрадное' 'Павловск' 'Петергоф' 'Пикалево' 'Подпорожье'\n",
      " 'Приморск' 'Приозерск' 'Пушкин' 'СНТ Лесная Поляна' 'СНТ Новая Ропша'\n",
      " 'СНТ Приладожский' 'СНТ Рахья' 'СНТ Садко' 'Санкт-Петербург' 'Светогорск'\n",
      " 'Сертолово' 'Сестрорецк' 'Сланцы' 'Сосновый Бор' 'Сясьстрой' 'Тихвин'\n",
      " 'Тосно' 'Шлиссельбург' 'гп. Большая Ижора' 'гп. Будогощь' 'гп. Важины'\n",
      " 'гп. Виллози' 'гп. Вознесенье' 'гп. Вырица' 'гп. Дружная Горка'\n",
      " 'гп. Дубровка' 'гп. Ефимовский' 'гп. Кондратьево' 'гп. Красный Бор'\n",
      " 'гп. Кузнечное' 'гп. Кузьмоловский' 'гп. Лебяжье' 'гп. Лесогорский'\n",
      " 'гп. Мга' 'гп. Назия' 'гп. Никольский' 'гп. Новоселье' 'гп. Павлово'\n",
      " 'гп. Приладожский' 'гп. Рахья' 'гп. Рощино' 'гп. Рябово' 'гп. Свирьстрой'\n",
      " 'гп. Сиверский' 'гп. Синявино' 'гп. Советский' 'гп. Тайцы' 'гп. Токсово'\n",
      " 'гп. Ульяновка' 'гп. Федоровское' 'гп. Форносово' 'гп. Янино-1'\n",
      " 'гп. имени Морозова' 'гп. имени Свердлова' 'д. Агалатово' 'д. Аро'\n",
      " 'д. Батово' 'д. Бегуницы' 'д. Белогорка' 'д. Большая Вруда'\n",
      " 'д. Большая Пустомержа' 'д. Большие Колпаны' 'д. Большое Рейзино'\n",
      " 'д. Большой Сабск' 'д. Бор' 'д. Борисова Грива' 'д. Ваганово'\n",
      " 'д. Вартемяги' 'д. Вахнова Кара' 'д. Выскатка' 'д. Гарболово' 'д. Глинка'\n",
      " 'д. Горбунки' 'д. Гостилицы' 'д. Заклинье' 'д. Заневка' 'д. Зимитицы'\n",
      " 'д. Извара' 'д. Иссад' 'д. Калитино' 'д. Кальтино' 'д. Камышовка'\n",
      " 'д. Каськово' 'д. Келози' 'д. Кипень' 'д. Кисельня' 'д. Колтуши'\n",
      " 'д. Коркино' 'д. Котлы' 'д. Кривко' 'д. Кудрово' 'д. Кузьмолово'\n",
      " 'д. Курковицы' 'д. Куровицы' 'д. Куттузи' 'д. Лаврики' 'д. Лаголово'\n",
      " 'д. Лампово' 'д. Лесколово' 'д. Лопухинка' 'д. Лупполово'\n",
      " 'д. Малая Романовка' 'д. Малое Верево' 'д. Малое Карлино'\n",
      " 'д. Малые Колпаны' 'д. Мануйлово' 'д. Меньково' 'д. Мины' 'д. Мистолово'\n",
      " 'д. Ненимяки' 'д. Нижние Осельки' 'д. Нижняя' 'д. Низино'\n",
      " 'д. Новое Девяткино' 'д. Новолисино' 'д. Нурма' 'д. Оржицы' 'д. Парицы'\n",
      " 'д. Пельгора' 'д. Пеники' 'д. Пижма' 'д. Пикколово' 'д. Пудомяги'\n",
      " 'д. Пустынка' 'д. Пчева' 'д. Рабитицы' 'д. Разбегаево' 'д. Раздолье'\n",
      " 'д. Разметелево' 'д. Рапполово' 'д. Реброво' 'д. Русско' 'д. Сижно'\n",
      " 'д. Снегиревка' 'д. Старая' 'д. Старая Пустошь' 'д. Старое Хинколово'\n",
      " 'д. Старополье' 'д. Старосиверская' 'д. Старые Бегуницы' 'д. Суоранда'\n",
      " 'д. Сяськелево' 'д. Тарасово' 'д. Терпилицы' 'д. Тихковицы'\n",
      " 'д. Тойворово' 'д. Торосово' 'д. Торошковичи' 'д. Трубников Бор'\n",
      " 'д. Фалилеево' 'д. Федоровское' 'д. Хапо-Ое' 'д. Хязельки'\n",
      " 'д. Чудской Бор' 'д. Шпаньково' 'д. Щеглово' 'д. Юкки' 'д. Ялгино'\n",
      " 'д. Яльгелево' 'д. Ям-Тесово' 'п. Александровская' 'п. Алексеевка'\n",
      " 'п. Аннино' 'п. Барышево' 'п. Белоостров' 'п. Бугры' 'п. Возрождение'\n",
      " 'п. Войсковицы' 'п. Войскорово' 'п. Володарское' 'п. Высокоключевой'\n",
      " 'п. Гаврилово' 'п. Гарболово' 'п. Гладкое' 'п. Глажево' 'п. Глебычево'\n",
      " 'п. Гончарово' 'п. Громово' 'п. Дзержинского' 'п. Дружноселье'\n",
      " 'п. Елизаветино' 'п. Жилгородок' 'п. Жилпоселок' 'п. Житково'\n",
      " 'п. Заводской' 'п. Запорожское' 'п. Зимитицы' 'п. Ильичево' 'п. Калитино'\n",
      " 'п. Каложицы' 'п. Кивеннапа Север' 'п. Кикерино' 'п. Кингисеппский'\n",
      " 'п. Кирпичное' 'п. Кобралово' 'п. Кобринское' 'п. Коммунары'\n",
      " 'п. Коробицыно' 'п. Котельский' 'п. Красная Долина' 'п. Красносельское'\n",
      " 'п. Левашово' 'п. Ленинское' 'п. Лесное' 'п. Лисий Нос' 'п. Лукаши'\n",
      " 'п. Любань' 'п. Мельниково' 'п. Металлострой' 'п. Мичуринское'\n",
      " 'п. Молодежное' 'п. Молодцово' 'п. Мурино' 'п. Мыза-Ивановка'\n",
      " 'п. Новогорелово' 'п. Новый Свет' 'п. Новый Учхоз' 'п. Оредеж'\n",
      " 'п. Пансионат Зеленый Бор' 'п. Парголово' 'п. Первомайское' 'п. Перово'\n",
      " 'п. Песочный' 'п. Петро-Славянка' 'п. Петровское'\n",
      " 'п. Платформа 69-й километр' 'п. Плодовое' 'п. Плоское' 'п. Победа'\n",
      " 'п. Поляны' 'п. Понтонный' 'п. Почап' 'п. Починок' 'п. Пригородный'\n",
      " 'п. Пудость' 'п. Пушное' 'п. Пчевжа' 'п. Рабитицы' 'п. Репино'\n",
      " 'п. Романовка' 'п. Ромашки' 'п. Ропша' 'п. Рябово' 'п. Саперное'\n",
      " 'п. Саперный' 'п. Севастьяново' 'п. Селезнево' 'п. Сельцо'\n",
      " 'п. Семиозерье' 'п. Семрино' 'п. Серебрянский' 'п. Совхозный'\n",
      " 'п. Сосново' 'п. Старая Малукса' 'п. Стеклянный' 'п. Стрельна' 'п. Суйда'\n",
      " 'п. Сумино' 'п. Суходолье' 'п. Счастье' 'п. Тельмана' 'п. Терволово'\n",
      " 'п. Тесово-4' 'п. Торковичи' 'п. Торфяное' 'п. Углово' 'п. Усть-Ижора'\n",
      " 'п. Усть-Луга' 'п. Ушаки' 'п. Форт Красная Горка' 'п. Цвелодубово'\n",
      " 'п. Цвылево' 'п. Шугозеро' 'п. Шушары' 'п. Щеглово' 'п.ст. Вещево'\n",
      " 'п.ст. Громово' 'п.ст. Корнево' 'п.ст. Лужайка' 'п.ст. Приветнинское'\n",
      " 'п.ст. Свирь' 'с. Копорье' 'с. Никольское' 'с. Павлово' 'с. Паша'\n",
      " 'с. Путилово' 'с. Рождествено' 'с. Русско-Высоцкое' 'с. Старая Ладога'\n",
      " 'с. Шум' nan]\n"
     ]
    }
   ],
   "source": [
    "#Заменяем \"ё\" на \"е\"\n",
    "data_nans_refined['locality_name'] = data_nans_refined['locality_name'].str.replace('ё', 'е')\n",
    "#Для работы со статусами поселений используем словарь с регулярными выражениями, где  \n",
    "# \\\\b - граница слова\n",
    "# \\\\1 - подстрока слева от найденного\n",
    "# \\\\2 - подстрока справа от найденного\n",
    "replacements = {    \n",
    "    '(\\\\b)городской поселок(\\\\b)' : '\\\\1гп.\\\\2',\n",
    "    '(\\\\b)поселок городского типа(\\\\b)' : '\\\\1гп.\\\\2',\n",
    "    '(\\\\b)коттеджный поселок(\\\\b)' : '\\\\1п.\\\\2',\n",
    "    '(\\\\b)поселок при железнодорожной станции(\\\\b)' : '\\\\1п.ст.\\\\2',\n",
    "    '(\\\\b)поселок станции(\\\\b)' : '\\\\1п.ст.\\\\2',\n",
    "    '(\\\\b)поселок(\\\\b)' : '\\\\1п.\\\\2',            \n",
    "    '(\\\\b)деревня(\\\\b)' : '\\\\1д.\\\\2',\n",
    "    '(\\\\b)садоводческое некоммерческое товарищество(\\\\b)' : '\\\\1СНТ\\\\2',\n",
    "    '(\\\\b)садовое товарищество(\\\\b)' : '\\\\1СНТ\\\\2',\n",
    "    '(\\\\b)село(\\\\b)' : '\\\\1с.\\\\2'\n",
    "}\n",
    "data_nans_refined['locality_name'] = data_nans_refined['locality_name'].replace(replacements, regex=True)\n",
    "#Проверим, что получилось\n",
    "unique_values = data_nans_refined['locality_name'].sort_values().unique()\n",
    "print(\n",
    "    'Количество уникальных значений:', len(unique_values),\n",
    "    '\\n\\nСписок уникальных значений:', unique_values\n",
    ")"
   ]
  },
  {
   "cell_type": "markdown",
   "metadata": {},
   "source": [
    "Дубликаты удалены, а названия населенных пунктов с сокращениями гораздо удобнее воспринимать."
   ]
  },
  {
   "cell_type": "markdown",
   "metadata": {},
   "source": [
    "#### Работа с пропусками\n",
    "Предыдущие этапы исследования выявили пропуски в столбцах `ceiling_height`, `floors_total`, `living_area`, `is_apartment`, `kitchen_area`, `balcony`, `locality_name`, `airports_nearest`, `city_centers_nearest`, `parks_around_3000`, `parks_nearest`, `ponds_around_3000`, `ponds_nearest` и `days_exposition`. Для наглядности представим эти данные в форме таблицы."
   ]
  },
  {
   "cell_type": "code",
   "execution_count": 10,
   "metadata": {},
   "outputs": [
    {
     "data": {
      "text/plain": [
       "total_images                0\n",
       "last_price                  0\n",
       "total_area                  0\n",
       "first_day_exposition        0\n",
       "rooms                       0\n",
       "ceiling_height           9195\n",
       "floors_total               86\n",
       "living_area              1903\n",
       "floor                       0\n",
       "is_apartment            20924\n",
       "is_studio                   0\n",
       "is_open_plan                0\n",
       "kitchen_area             2278\n",
       "balcony                 11519\n",
       "locality_name              49\n",
       "airports_nearest         5542\n",
       "city_center_nearest      5519\n",
       "parks_around_3000        5518\n",
       "parks_nearest           15620\n",
       "ponds_around_3000        5518\n",
       "ponds_nearest           14589\n",
       "days_exposition          3181\n",
       "dtype: int64"
      ]
     },
     "execution_count": 10,
     "metadata": {},
     "output_type": "execute_result"
    }
   ],
   "source": [
    "data_nans_refined.isna().sum()"
   ]
  },
  {
   "cell_type": "markdown",
   "metadata": {},
   "source": [
    "Рассмотрим каждый столбец и по возможности заполним пропуски.\n",
    "##### Количество балконов и  является апартаментами\n",
    "Для столбца `balcony` (количество балконов) предположим, что пропуски означают отсутствие балкона. Такие пропуски можно заполнить нулями.  \n",
    "Пропуски в столбце `is_apartment` (апартаменты (булев тип)) могут обозначать, что квартира не является апартаментами. Такие пропуски заполним занчением `False`."
   ]
  },
  {
   "cell_type": "code",
   "execution_count": 11,
   "metadata": {
    "scrolled": true
   },
   "outputs": [],
   "source": [
    "to_fill_with = {'balcony' : 0, 'is_apartment' : False}\n",
    "data_nans_refined = data_nans_refined.fillna(to_fill_with)"
   ]
  },
  {
   "cell_type": "markdown",
   "metadata": {},
   "source": [
    "##### Ближайшие парки, пруды, аэропорты и центр города\n",
    "Столбцы `ponds_nearest` и `parks_nearest` - в первой тройке по количеству пропусков. Похоже, значительная их часть наблюдается в строках, где `ponds_around_3000` и `parks_around_3000` равны 0. Если предположить, что парки и пруды вне радиуса 3 км не интересны, то и пропуски выглядят обосновано. Посчитаем количество таких строк."
   ]
  },
  {
   "cell_type": "code",
   "execution_count": 12,
   "metadata": {},
   "outputs": [
    {
     "name": "stdout",
     "output_type": "stream",
     "text": [
      "Количество строк с пропусками, соответствующих условию: 5816\n"
     ]
    }
   ],
   "source": [
    "condition = '(ponds_nearest.isna() and parks_nearest.isna())\\\n",
    "         and (ponds_around_3000 == 0 and parks_around_3000 == 0)'\n",
    "print(\n",
    "    'Количество строк с пропусками, соответствующих условию:', \n",
    "    len(data_nans_refined.query(condition))\n",
    ")"
   ]
  },
  {
   "cell_type": "markdown",
   "metadata": {},
   "source": [
    "При этом есть несколько строк, где расстрояние до ближайшего парка - больше 3 км при справедливом, нулевом значении `parks_around_3000`."
   ]
  },
  {
   "cell_type": "code",
   "execution_count": 13,
   "metadata": {},
   "outputs": [
    {
     "data": {
      "text/html": [
       "<div>\n",
       "<style scoped>\n",
       "    .dataframe tbody tr th:only-of-type {\n",
       "        vertical-align: middle;\n",
       "    }\n",
       "\n",
       "    .dataframe tbody tr th {\n",
       "        vertical-align: top;\n",
       "    }\n",
       "\n",
       "    .dataframe thead th {\n",
       "        text-align: right;\n",
       "    }\n",
       "</style>\n",
       "<table border=\"1\" class=\"dataframe\">\n",
       "  <thead>\n",
       "    <tr style=\"text-align: right;\">\n",
       "      <th></th>\n",
       "      <th>total_images</th>\n",
       "      <th>last_price</th>\n",
       "      <th>total_area</th>\n",
       "      <th>first_day_exposition</th>\n",
       "      <th>rooms</th>\n",
       "      <th>ceiling_height</th>\n",
       "      <th>floors_total</th>\n",
       "      <th>living_area</th>\n",
       "      <th>floor</th>\n",
       "      <th>is_apartment</th>\n",
       "      <th>is_studio</th>\n",
       "      <th>is_open_plan</th>\n",
       "      <th>kitchen_area</th>\n",
       "      <th>balcony</th>\n",
       "      <th>locality_name</th>\n",
       "      <th>airports_nearest</th>\n",
       "      <th>city_center_nearest</th>\n",
       "      <th>parks_around_3000</th>\n",
       "      <th>parks_nearest</th>\n",
       "      <th>ponds_around_3000</th>\n",
       "      <th>ponds_nearest</th>\n",
       "      <th>days_exposition</th>\n",
       "    </tr>\n",
       "  </thead>\n",
       "  <tbody>\n",
       "    <tr>\n",
       "      <th>1590</th>\n",
       "      <td>3</td>\n",
       "      <td>7500000.0</td>\n",
       "      <td>70.0</td>\n",
       "      <td>2017-07-11T00:00:00</td>\n",
       "      <td>2</td>\n",
       "      <td>NaN</td>\n",
       "      <td>18.0</td>\n",
       "      <td>37.0</td>\n",
       "      <td>13</td>\n",
       "      <td>False</td>\n",
       "      <td>False</td>\n",
       "      <td>False</td>\n",
       "      <td>10.0</td>\n",
       "      <td>0.0</td>\n",
       "      <td>Санкт-Петербург</td>\n",
       "      <td>14878.0</td>\n",
       "      <td>9791.0</td>\n",
       "      <td>0.0</td>\n",
       "      <td>3064.0</td>\n",
       "      <td>1.0</td>\n",
       "      <td>264.0</td>\n",
       "      <td>4.0</td>\n",
       "    </tr>\n",
       "    <tr>\n",
       "      <th>10959</th>\n",
       "      <td>9</td>\n",
       "      <td>3000000.0</td>\n",
       "      <td>31.1</td>\n",
       "      <td>2017-03-21T00:00:00</td>\n",
       "      <td>1</td>\n",
       "      <td>NaN</td>\n",
       "      <td>5.0</td>\n",
       "      <td>17.7</td>\n",
       "      <td>2</td>\n",
       "      <td>False</td>\n",
       "      <td>False</td>\n",
       "      <td>False</td>\n",
       "      <td>5.5</td>\n",
       "      <td>0.0</td>\n",
       "      <td>Санкт-Петербург</td>\n",
       "      <td>14821.0</td>\n",
       "      <td>9734.0</td>\n",
       "      <td>0.0</td>\n",
       "      <td>3190.0</td>\n",
       "      <td>1.0</td>\n",
       "      <td>431.0</td>\n",
       "      <td>234.0</td>\n",
       "    </tr>\n",
       "    <tr>\n",
       "      <th>19208</th>\n",
       "      <td>17</td>\n",
       "      <td>14950000.0</td>\n",
       "      <td>187.0</td>\n",
       "      <td>2017-10-12T00:00:00</td>\n",
       "      <td>5</td>\n",
       "      <td>3.0</td>\n",
       "      <td>2.0</td>\n",
       "      <td>80.0</td>\n",
       "      <td>2</td>\n",
       "      <td>False</td>\n",
       "      <td>False</td>\n",
       "      <td>False</td>\n",
       "      <td>17.0</td>\n",
       "      <td>1.0</td>\n",
       "      <td>Санкт-Петербург</td>\n",
       "      <td>36805.0</td>\n",
       "      <td>8656.0</td>\n",
       "      <td>0.0</td>\n",
       "      <td>3013.0</td>\n",
       "      <td>3.0</td>\n",
       "      <td>537.0</td>\n",
       "      <td>49.0</td>\n",
       "    </tr>\n",
       "    <tr>\n",
       "      <th>19430</th>\n",
       "      <td>9</td>\n",
       "      <td>3900000.0</td>\n",
       "      <td>30.5</td>\n",
       "      <td>2018-02-22T00:00:00</td>\n",
       "      <td>1</td>\n",
       "      <td>2.6</td>\n",
       "      <td>5.0</td>\n",
       "      <td>16.5</td>\n",
       "      <td>1</td>\n",
       "      <td>False</td>\n",
       "      <td>False</td>\n",
       "      <td>False</td>\n",
       "      <td>5.5</td>\n",
       "      <td>0.0</td>\n",
       "      <td>Санкт-Петербург</td>\n",
       "      <td>14821.0</td>\n",
       "      <td>9734.0</td>\n",
       "      <td>0.0</td>\n",
       "      <td>3190.0</td>\n",
       "      <td>1.0</td>\n",
       "      <td>431.0</td>\n",
       "      <td>176.0</td>\n",
       "    </tr>\n",
       "  </tbody>\n",
       "</table>\n",
       "</div>"
      ],
      "text/plain": [
       "       total_images  last_price  total_area first_day_exposition  rooms  \\\n",
       "1590              3   7500000.0        70.0  2017-07-11T00:00:00      2   \n",
       "10959             9   3000000.0        31.1  2017-03-21T00:00:00      1   \n",
       "19208            17  14950000.0       187.0  2017-10-12T00:00:00      5   \n",
       "19430             9   3900000.0        30.5  2018-02-22T00:00:00      1   \n",
       "\n",
       "       ceiling_height  floors_total  living_area  floor  is_apartment  \\\n",
       "1590              NaN          18.0         37.0     13         False   \n",
       "10959             NaN           5.0         17.7      2         False   \n",
       "19208             3.0           2.0         80.0      2         False   \n",
       "19430             2.6           5.0         16.5      1         False   \n",
       "\n",
       "       is_studio  is_open_plan  kitchen_area  balcony    locality_name  \\\n",
       "1590       False         False          10.0      0.0  Санкт-Петербург   \n",
       "10959      False         False           5.5      0.0  Санкт-Петербург   \n",
       "19208      False         False          17.0      1.0  Санкт-Петербург   \n",
       "19430      False         False           5.5      0.0  Санкт-Петербург   \n",
       "\n",
       "       airports_nearest  city_center_nearest  parks_around_3000  \\\n",
       "1590            14878.0               9791.0                0.0   \n",
       "10959           14821.0               9734.0                0.0   \n",
       "19208           36805.0               8656.0                0.0   \n",
       "19430           14821.0               9734.0                0.0   \n",
       "\n",
       "       parks_nearest  ponds_around_3000  ponds_nearest  days_exposition  \n",
       "1590          3064.0                1.0          264.0              4.0  \n",
       "10959         3190.0                1.0          431.0            234.0  \n",
       "19208         3013.0                3.0          537.0             49.0  \n",
       "19430         3190.0                1.0          431.0            176.0  "
      ]
     },
     "execution_count": 13,
     "metadata": {},
     "output_type": "execute_result"
    }
   ],
   "source": [
    "data_nans_refined.query('ponds_nearest > 3000 or parks_nearest > 3000')"
   ]
  },
  {
   "cell_type": "markdown",
   "metadata": {},
   "source": [
    "Другая часть пропусков в `ponds_nearest` и `parks_nearest` наблюдается совместно с пропусками в `ponds_around_3000`, `parks_around_3000`, `airports_nearest` и `city_center_nearest` и покрывает практически все случаи пропусков в последних 4х упомянутых столбцах."
   ]
  },
  {
   "cell_type": "code",
   "execution_count": 14,
   "metadata": {
    "scrolled": true
   },
   "outputs": [
    {
     "name": "stdout",
     "output_type": "stream",
     "text": [
      "Количество строк с пропусками, соответствующих условию: 5518\n"
     ]
    }
   ],
   "source": [
    "condition = 'ponds_nearest.isna() and parks_nearest.isna()\\\n",
    " and ponds_around_3000.isna() and parks_around_3000.isna()\\\n",
    " and airports_nearest.isna() and city_center_nearest.isna()'\n",
    "print(\n",
    "    'Количество строк с пропусками, соответствующих условию:', \n",
    "    len(data_nans_refined.query(condition))\n",
    ")"
   ]
  },
  {
   "cell_type": "markdown",
   "metadata": {},
   "source": [
    "Более того, данная ситуация распространяется на целые населенные пункты."
   ]
  },
  {
   "cell_type": "code",
   "execution_count": 15,
   "metadata": {},
   "outputs": [
    {
     "data": {
      "text/html": [
       "<div>\n",
       "<style scoped>\n",
       "    .dataframe tbody tr th:only-of-type {\n",
       "        vertical-align: middle;\n",
       "    }\n",
       "\n",
       "    .dataframe tbody tr th {\n",
       "        vertical-align: top;\n",
       "    }\n",
       "\n",
       "    .dataframe thead th {\n",
       "        text-align: right;\n",
       "    }\n",
       "</style>\n",
       "<table border=\"1\" class=\"dataframe\">\n",
       "  <thead>\n",
       "    <tr style=\"text-align: right;\">\n",
       "      <th></th>\n",
       "      <th>total_images</th>\n",
       "      <th>total_images_nans</th>\n",
       "    </tr>\n",
       "    <tr>\n",
       "      <th>locality_name</th>\n",
       "      <th></th>\n",
       "      <th></th>\n",
       "    </tr>\n",
       "  </thead>\n",
       "  <tbody>\n",
       "    <tr>\n",
       "      <th>Бокситогорск</th>\n",
       "      <td>16</td>\n",
       "      <td>16.0</td>\n",
       "    </tr>\n",
       "    <tr>\n",
       "      <th>Волосово</th>\n",
       "      <td>36</td>\n",
       "      <td>36.0</td>\n",
       "    </tr>\n",
       "    <tr>\n",
       "      <th>Волхов</th>\n",
       "      <td>111</td>\n",
       "      <td>111.0</td>\n",
       "    </tr>\n",
       "    <tr>\n",
       "      <th>Всеволожск</th>\n",
       "      <td>398</td>\n",
       "      <td>398.0</td>\n",
       "    </tr>\n",
       "    <tr>\n",
       "      <th>Выборг</th>\n",
       "      <td>237</td>\n",
       "      <td>237.0</td>\n",
       "    </tr>\n",
       "    <tr>\n",
       "      <th>...</th>\n",
       "      <td>...</td>\n",
       "      <td>...</td>\n",
       "    </tr>\n",
       "    <tr>\n",
       "      <th>с. Путилово</th>\n",
       "      <td>2</td>\n",
       "      <td>2.0</td>\n",
       "    </tr>\n",
       "    <tr>\n",
       "      <th>с. Рождествено</th>\n",
       "      <td>3</td>\n",
       "      <td>3.0</td>\n",
       "    </tr>\n",
       "    <tr>\n",
       "      <th>с. Русско-Высоцкое</th>\n",
       "      <td>9</td>\n",
       "      <td>9.0</td>\n",
       "    </tr>\n",
       "    <tr>\n",
       "      <th>с. Старая Ладога</th>\n",
       "      <td>2</td>\n",
       "      <td>2.0</td>\n",
       "    </tr>\n",
       "    <tr>\n",
       "      <th>с. Шум</th>\n",
       "      <td>1</td>\n",
       "      <td>1.0</td>\n",
       "    </tr>\n",
       "  </tbody>\n",
       "</table>\n",
       "<p>320 rows × 2 columns</p>\n",
       "</div>"
      ],
      "text/plain": [
       "                    total_images  total_images_nans\n",
       "locality_name                                      \n",
       "Бокситогорск                  16               16.0\n",
       "Волосово                      36               36.0\n",
       "Волхов                       111              111.0\n",
       "Всеволожск                   398              398.0\n",
       "Выборг                       237              237.0\n",
       "...                          ...                ...\n",
       "с. Путилово                    2                2.0\n",
       "с. Рождествено                 3                3.0\n",
       "с. Русско-Высоцкое             9                9.0\n",
       "с. Старая Ладога               2                2.0\n",
       "с. Шум                         1                1.0\n",
       "\n",
       "[320 rows x 2 columns]"
      ]
     },
     "execution_count": 15,
     "metadata": {},
     "output_type": "execute_result"
    }
   ],
   "source": [
    "#Количество объявлений по населенным пунктам\n",
    "localities = data_nans_refined.pivot_table(index='locality_name', values='total_images', aggfunc='count')\n",
    "#Количество объявлений по населенным пунктам с пропусками в ponds_nearest, parks_nearest, \n",
    "#ponds_around_3000, parks_around_3000, airports_nearest и city_center_nearest\n",
    "localities_with_nans = data_nans_refined.query(condition)\\\n",
    "                                        .pivot_table(index='locality_name', values='total_images', aggfunc='count')\n",
    "localities.join(localities_with_nans, rsuffix='_nans')"
   ]
  },
  {
   "cell_type": "markdown",
   "metadata": {},
   "source": [
    "Похоже, при добавлении картографических данных к пользовательским, что-то пошло не так. Изложенное выше является основанием для bug report'а.\n",
    "##### Другие столбцы\n",
    "Для столбцов `ceiling_height`, `floors_total`, `living_area`, `kitchen_area`, `locality_name` и `days_exposition` не удалось выдвинуть правдоподобную гипотезу, позволяющую заполнить пропуски. Оставляем их, как есть."
   ]
  },
  {
   "cell_type": "markdown",
   "metadata": {},
   "source": [
    "#### Работа с типами данных"
   ]
  },
  {
   "cell_type": "markdown",
   "metadata": {},
   "source": [
    "Посмотрим какие типы данных содержатся в нашей таблице."
   ]
  },
  {
   "cell_type": "code",
   "execution_count": 16,
   "metadata": {},
   "outputs": [
    {
     "data": {
      "text/plain": [
       "total_images              int64\n",
       "last_price              float64\n",
       "total_area              float64\n",
       "first_day_exposition     object\n",
       "rooms                     int64\n",
       "ceiling_height          float64\n",
       "floors_total            float64\n",
       "living_area             float64\n",
       "floor                     int64\n",
       "is_apartment               bool\n",
       "is_studio                  bool\n",
       "is_open_plan               bool\n",
       "kitchen_area            float64\n",
       "balcony                 float64\n",
       "locality_name            object\n",
       "airports_nearest        float64\n",
       "city_center_nearest     float64\n",
       "parks_around_3000       float64\n",
       "parks_nearest           float64\n",
       "ponds_around_3000       float64\n",
       "ponds_nearest           float64\n",
       "days_exposition         float64\n",
       "dtype: object"
      ]
     },
     "execution_count": 16,
     "metadata": {},
     "output_type": "execute_result"
    }
   ],
   "source": [
    "data_types_refined = data_nans_refined.copy()\n",
    "data_types_refined.dtypes"
   ]
  },
  {
   "cell_type": "markdown",
   "metadata": {},
   "source": [
    "Данные некоторых столбцов необходимо привести к более подходящему типу: \n",
    " - `first_day_exposition` (дата публикации) к типу datetime, чтобы в дальнейшем производить операции с датами;\n",
    " - `balcony` к типу integer т.к. данные этого столбца описываются целыми числами.\n",
    "Данные в столбцах `floors_total`, `parks_around_3000`, `ponds_around_3000`, `days_exposition` так же относятся к целочисленному типу, но из-за обилия пропусков (NaN соответствует типу float) мы не можем произвести преобразование."
   ]
  },
  {
   "cell_type": "code",
   "execution_count": 17,
   "metadata": {
    "scrolled": true
   },
   "outputs": [
    {
     "data": {
      "text/plain": [
       "total_images                     int64\n",
       "last_price                     float64\n",
       "total_area                     float64\n",
       "first_day_exposition    datetime64[ns]\n",
       "rooms                            int64\n",
       "ceiling_height                 float64\n",
       "floors_total                   float64\n",
       "living_area                    float64\n",
       "floor                            int64\n",
       "is_apartment                      bool\n",
       "is_studio                         bool\n",
       "is_open_plan                      bool\n",
       "kitchen_area                   float64\n",
       "balcony                          int64\n",
       "locality_name                   object\n",
       "airports_nearest               float64\n",
       "city_center_nearest            float64\n",
       "parks_around_3000              float64\n",
       "parks_nearest                  float64\n",
       "ponds_around_3000              float64\n",
       "ponds_nearest                  float64\n",
       "days_exposition                float64\n",
       "dtype: object"
      ]
     },
     "execution_count": 17,
     "metadata": {},
     "output_type": "execute_result"
    }
   ],
   "source": [
    "#Преобразуем тип данных в 'first_day_exposition'...\n",
    "data_types_refined['first_day_exposition'] = pd.to_datetime(\n",
    "    data_types_refined['first_day_exposition'], format='%Y-%m-%dT%H:%M:%S')\n",
    "#... и других столбцах\n",
    "data_types_refined = data_types_refined.astype({'balcony' : 'int64'})\n",
    "#Проверим, как прошло преобразование\n",
    "data_types_refined.dtypes"
   ]
  },
  {
   "cell_type": "markdown",
   "metadata": {},
   "source": [
    "Преобразование прошло корректно."
   ]
  },
  {
   "cell_type": "markdown",
   "metadata": {},
   "source": [
    "#### Работа с аномальными значениями\n",
    "Рассмотрим общее числовое описание данных. "
   ]
  },
  {
   "cell_type": "code",
   "execution_count": 18,
   "metadata": {
    "scrolled": true
   },
   "outputs": [
    {
     "data": {
      "text/html": [
       "<div>\n",
       "<style scoped>\n",
       "    .dataframe tbody tr th:only-of-type {\n",
       "        vertical-align: middle;\n",
       "    }\n",
       "\n",
       "    .dataframe tbody tr th {\n",
       "        vertical-align: top;\n",
       "    }\n",
       "\n",
       "    .dataframe thead th {\n",
       "        text-align: right;\n",
       "    }\n",
       "</style>\n",
       "<table border=\"1\" class=\"dataframe\">\n",
       "  <thead>\n",
       "    <tr style=\"text-align: right;\">\n",
       "      <th></th>\n",
       "      <th>total_images</th>\n",
       "      <th>last_price</th>\n",
       "      <th>total_area</th>\n",
       "      <th>rooms</th>\n",
       "      <th>ceiling_height</th>\n",
       "      <th>floors_total</th>\n",
       "      <th>living_area</th>\n",
       "      <th>floor</th>\n",
       "      <th>kitchen_area</th>\n",
       "      <th>balcony</th>\n",
       "      <th>airports_nearest</th>\n",
       "      <th>city_center_nearest</th>\n",
       "      <th>parks_around_3000</th>\n",
       "      <th>parks_nearest</th>\n",
       "      <th>ponds_around_3000</th>\n",
       "      <th>ponds_nearest</th>\n",
       "      <th>days_exposition</th>\n",
       "    </tr>\n",
       "  </thead>\n",
       "  <tbody>\n",
       "    <tr>\n",
       "      <th>count</th>\n",
       "      <td>23699.000000</td>\n",
       "      <td>2.369900e+04</td>\n",
       "      <td>23699.000000</td>\n",
       "      <td>23699.000000</td>\n",
       "      <td>14504.000000</td>\n",
       "      <td>23613.000000</td>\n",
       "      <td>21796.000000</td>\n",
       "      <td>23699.000000</td>\n",
       "      <td>21421.000000</td>\n",
       "      <td>23699.000000</td>\n",
       "      <td>18157.000000</td>\n",
       "      <td>18180.000000</td>\n",
       "      <td>18181.000000</td>\n",
       "      <td>8079.000000</td>\n",
       "      <td>18181.000000</td>\n",
       "      <td>9110.000000</td>\n",
       "      <td>20518.000000</td>\n",
       "    </tr>\n",
       "    <tr>\n",
       "      <th>mean</th>\n",
       "      <td>9.858475</td>\n",
       "      <td>6.541549e+06</td>\n",
       "      <td>60.348651</td>\n",
       "      <td>2.070636</td>\n",
       "      <td>2.771499</td>\n",
       "      <td>10.673824</td>\n",
       "      <td>34.457852</td>\n",
       "      <td>5.892358</td>\n",
       "      <td>10.569807</td>\n",
       "      <td>0.591080</td>\n",
       "      <td>28793.672193</td>\n",
       "      <td>14191.277833</td>\n",
       "      <td>0.611408</td>\n",
       "      <td>490.804555</td>\n",
       "      <td>0.770255</td>\n",
       "      <td>517.980900</td>\n",
       "      <td>180.888634</td>\n",
       "    </tr>\n",
       "    <tr>\n",
       "      <th>std</th>\n",
       "      <td>5.682529</td>\n",
       "      <td>1.088701e+07</td>\n",
       "      <td>35.654083</td>\n",
       "      <td>1.078405</td>\n",
       "      <td>1.261056</td>\n",
       "      <td>6.597173</td>\n",
       "      <td>22.030445</td>\n",
       "      <td>4.885249</td>\n",
       "      <td>5.905438</td>\n",
       "      <td>0.959298</td>\n",
       "      <td>12630.880622</td>\n",
       "      <td>8608.386210</td>\n",
       "      <td>0.802074</td>\n",
       "      <td>342.317995</td>\n",
       "      <td>0.938346</td>\n",
       "      <td>277.720643</td>\n",
       "      <td>219.727988</td>\n",
       "    </tr>\n",
       "    <tr>\n",
       "      <th>min</th>\n",
       "      <td>0.000000</td>\n",
       "      <td>1.219000e+04</td>\n",
       "      <td>12.000000</td>\n",
       "      <td>0.000000</td>\n",
       "      <td>1.000000</td>\n",
       "      <td>1.000000</td>\n",
       "      <td>2.000000</td>\n",
       "      <td>1.000000</td>\n",
       "      <td>1.300000</td>\n",
       "      <td>0.000000</td>\n",
       "      <td>0.000000</td>\n",
       "      <td>181.000000</td>\n",
       "      <td>0.000000</td>\n",
       "      <td>1.000000</td>\n",
       "      <td>0.000000</td>\n",
       "      <td>13.000000</td>\n",
       "      <td>1.000000</td>\n",
       "    </tr>\n",
       "    <tr>\n",
       "      <th>25%</th>\n",
       "      <td>6.000000</td>\n",
       "      <td>3.400000e+06</td>\n",
       "      <td>40.000000</td>\n",
       "      <td>1.000000</td>\n",
       "      <td>2.520000</td>\n",
       "      <td>5.000000</td>\n",
       "      <td>18.600000</td>\n",
       "      <td>2.000000</td>\n",
       "      <td>7.000000</td>\n",
       "      <td>0.000000</td>\n",
       "      <td>18585.000000</td>\n",
       "      <td>9238.000000</td>\n",
       "      <td>0.000000</td>\n",
       "      <td>288.000000</td>\n",
       "      <td>0.000000</td>\n",
       "      <td>294.000000</td>\n",
       "      <td>45.000000</td>\n",
       "    </tr>\n",
       "    <tr>\n",
       "      <th>50%</th>\n",
       "      <td>9.000000</td>\n",
       "      <td>4.650000e+06</td>\n",
       "      <td>52.000000</td>\n",
       "      <td>2.000000</td>\n",
       "      <td>2.650000</td>\n",
       "      <td>9.000000</td>\n",
       "      <td>30.000000</td>\n",
       "      <td>4.000000</td>\n",
       "      <td>9.100000</td>\n",
       "      <td>0.000000</td>\n",
       "      <td>26726.000000</td>\n",
       "      <td>13098.500000</td>\n",
       "      <td>0.000000</td>\n",
       "      <td>455.000000</td>\n",
       "      <td>1.000000</td>\n",
       "      <td>502.000000</td>\n",
       "      <td>95.000000</td>\n",
       "    </tr>\n",
       "    <tr>\n",
       "      <th>75%</th>\n",
       "      <td>14.000000</td>\n",
       "      <td>6.800000e+06</td>\n",
       "      <td>69.900000</td>\n",
       "      <td>3.000000</td>\n",
       "      <td>2.800000</td>\n",
       "      <td>16.000000</td>\n",
       "      <td>42.300000</td>\n",
       "      <td>8.000000</td>\n",
       "      <td>12.000000</td>\n",
       "      <td>1.000000</td>\n",
       "      <td>37273.000000</td>\n",
       "      <td>16293.000000</td>\n",
       "      <td>1.000000</td>\n",
       "      <td>612.000000</td>\n",
       "      <td>1.000000</td>\n",
       "      <td>729.000000</td>\n",
       "      <td>232.000000</td>\n",
       "    </tr>\n",
       "    <tr>\n",
       "      <th>max</th>\n",
       "      <td>50.000000</td>\n",
       "      <td>7.630000e+08</td>\n",
       "      <td>900.000000</td>\n",
       "      <td>19.000000</td>\n",
       "      <td>100.000000</td>\n",
       "      <td>60.000000</td>\n",
       "      <td>409.700000</td>\n",
       "      <td>33.000000</td>\n",
       "      <td>112.000000</td>\n",
       "      <td>5.000000</td>\n",
       "      <td>84869.000000</td>\n",
       "      <td>65968.000000</td>\n",
       "      <td>3.000000</td>\n",
       "      <td>3190.000000</td>\n",
       "      <td>3.000000</td>\n",
       "      <td>1344.000000</td>\n",
       "      <td>1580.000000</td>\n",
       "    </tr>\n",
       "  </tbody>\n",
       "</table>\n",
       "</div>"
      ],
      "text/plain": [
       "       total_images    last_price    total_area         rooms  ceiling_height  \\\n",
       "count  23699.000000  2.369900e+04  23699.000000  23699.000000    14504.000000   \n",
       "mean       9.858475  6.541549e+06     60.348651      2.070636        2.771499   \n",
       "std        5.682529  1.088701e+07     35.654083      1.078405        1.261056   \n",
       "min        0.000000  1.219000e+04     12.000000      0.000000        1.000000   \n",
       "25%        6.000000  3.400000e+06     40.000000      1.000000        2.520000   \n",
       "50%        9.000000  4.650000e+06     52.000000      2.000000        2.650000   \n",
       "75%       14.000000  6.800000e+06     69.900000      3.000000        2.800000   \n",
       "max       50.000000  7.630000e+08    900.000000     19.000000      100.000000   \n",
       "\n",
       "       floors_total   living_area         floor  kitchen_area       balcony  \\\n",
       "count  23613.000000  21796.000000  23699.000000  21421.000000  23699.000000   \n",
       "mean      10.673824     34.457852      5.892358     10.569807      0.591080   \n",
       "std        6.597173     22.030445      4.885249      5.905438      0.959298   \n",
       "min        1.000000      2.000000      1.000000      1.300000      0.000000   \n",
       "25%        5.000000     18.600000      2.000000      7.000000      0.000000   \n",
       "50%        9.000000     30.000000      4.000000      9.100000      0.000000   \n",
       "75%       16.000000     42.300000      8.000000     12.000000      1.000000   \n",
       "max       60.000000    409.700000     33.000000    112.000000      5.000000   \n",
       "\n",
       "       airports_nearest  city_center_nearest  parks_around_3000  \\\n",
       "count      18157.000000         18180.000000       18181.000000   \n",
       "mean       28793.672193         14191.277833           0.611408   \n",
       "std        12630.880622          8608.386210           0.802074   \n",
       "min            0.000000           181.000000           0.000000   \n",
       "25%        18585.000000          9238.000000           0.000000   \n",
       "50%        26726.000000         13098.500000           0.000000   \n",
       "75%        37273.000000         16293.000000           1.000000   \n",
       "max        84869.000000         65968.000000           3.000000   \n",
       "\n",
       "       parks_nearest  ponds_around_3000  ponds_nearest  days_exposition  \n",
       "count    8079.000000       18181.000000    9110.000000     20518.000000  \n",
       "mean      490.804555           0.770255     517.980900       180.888634  \n",
       "std       342.317995           0.938346     277.720643       219.727988  \n",
       "min         1.000000           0.000000      13.000000         1.000000  \n",
       "25%       288.000000           0.000000     294.000000        45.000000  \n",
       "50%       455.000000           1.000000     502.000000        95.000000  \n",
       "75%       612.000000           1.000000     729.000000       232.000000  \n",
       "max      3190.000000           3.000000    1344.000000      1580.000000  "
      ]
     },
     "execution_count": 18,
     "metadata": {},
     "output_type": "execute_result"
    }
   ],
   "source": [
    "data_stat_refined = data_types_refined.copy()\n",
    "data_stat_refined.describe()"
   ]
  },
  {
   "cell_type": "markdown",
   "metadata": {},
   "source": [
    "Похоже, что в столбцах `total_area`, `rooms`, `ceiling_height`, `floors_total`, `living_area`, `kitchen_area` имеются аномальные занчения. Рассмотрим каждый случай отдельно.\n",
    "##### Количество комнат\n",
    "Обращают на себя внимание записи датасета с количеством комнат, равным 0. Выглядит странно. Посмотрим несоклько таких объявлений. "
   ]
  },
  {
   "cell_type": "code",
   "execution_count": 19,
   "metadata": {},
   "outputs": [
    {
     "data": {
      "text/html": [
       "<div>\n",
       "<style scoped>\n",
       "    .dataframe tbody tr th:only-of-type {\n",
       "        vertical-align: middle;\n",
       "    }\n",
       "\n",
       "    .dataframe tbody tr th {\n",
       "        vertical-align: top;\n",
       "    }\n",
       "\n",
       "    .dataframe thead th {\n",
       "        text-align: right;\n",
       "    }\n",
       "</style>\n",
       "<table border=\"1\" class=\"dataframe\">\n",
       "  <thead>\n",
       "    <tr style=\"text-align: right;\">\n",
       "      <th></th>\n",
       "      <th>total_images</th>\n",
       "      <th>last_price</th>\n",
       "      <th>total_area</th>\n",
       "      <th>first_day_exposition</th>\n",
       "      <th>rooms</th>\n",
       "      <th>ceiling_height</th>\n",
       "      <th>floors_total</th>\n",
       "      <th>living_area</th>\n",
       "      <th>floor</th>\n",
       "      <th>is_apartment</th>\n",
       "      <th>is_studio</th>\n",
       "      <th>is_open_plan</th>\n",
       "      <th>kitchen_area</th>\n",
       "      <th>balcony</th>\n",
       "      <th>locality_name</th>\n",
       "      <th>airports_nearest</th>\n",
       "      <th>city_center_nearest</th>\n",
       "      <th>parks_around_3000</th>\n",
       "      <th>parks_nearest</th>\n",
       "      <th>ponds_around_3000</th>\n",
       "      <th>ponds_nearest</th>\n",
       "      <th>days_exposition</th>\n",
       "    </tr>\n",
       "  </thead>\n",
       "  <tbody>\n",
       "    <tr>\n",
       "      <th>144</th>\n",
       "      <td>1</td>\n",
       "      <td>2450000.0</td>\n",
       "      <td>27.00</td>\n",
       "      <td>2017-03-30</td>\n",
       "      <td>0</td>\n",
       "      <td>NaN</td>\n",
       "      <td>24.0</td>\n",
       "      <td>15.50</td>\n",
       "      <td>2</td>\n",
       "      <td>False</td>\n",
       "      <td>True</td>\n",
       "      <td>False</td>\n",
       "      <td>NaN</td>\n",
       "      <td>2</td>\n",
       "      <td>п. Мурино</td>\n",
       "      <td>NaN</td>\n",
       "      <td>NaN</td>\n",
       "      <td>NaN</td>\n",
       "      <td>NaN</td>\n",
       "      <td>NaN</td>\n",
       "      <td>NaN</td>\n",
       "      <td>181.0</td>\n",
       "    </tr>\n",
       "    <tr>\n",
       "      <th>349</th>\n",
       "      <td>4</td>\n",
       "      <td>2320000.0</td>\n",
       "      <td>25.00</td>\n",
       "      <td>2017-09-27</td>\n",
       "      <td>0</td>\n",
       "      <td>NaN</td>\n",
       "      <td>14.0</td>\n",
       "      <td>17.00</td>\n",
       "      <td>1</td>\n",
       "      <td>False</td>\n",
       "      <td>False</td>\n",
       "      <td>True</td>\n",
       "      <td>NaN</td>\n",
       "      <td>0</td>\n",
       "      <td>д. Кудрово</td>\n",
       "      <td>NaN</td>\n",
       "      <td>NaN</td>\n",
       "      <td>NaN</td>\n",
       "      <td>NaN</td>\n",
       "      <td>NaN</td>\n",
       "      <td>NaN</td>\n",
       "      <td>45.0</td>\n",
       "    </tr>\n",
       "    <tr>\n",
       "      <th>440</th>\n",
       "      <td>8</td>\n",
       "      <td>2480000.0</td>\n",
       "      <td>27.11</td>\n",
       "      <td>2018-03-12</td>\n",
       "      <td>0</td>\n",
       "      <td>NaN</td>\n",
       "      <td>17.0</td>\n",
       "      <td>24.75</td>\n",
       "      <td>4</td>\n",
       "      <td>False</td>\n",
       "      <td>True</td>\n",
       "      <td>False</td>\n",
       "      <td>NaN</td>\n",
       "      <td>2</td>\n",
       "      <td>Санкт-Петербург</td>\n",
       "      <td>38171.0</td>\n",
       "      <td>15015.0</td>\n",
       "      <td>0.0</td>\n",
       "      <td>NaN</td>\n",
       "      <td>2.0</td>\n",
       "      <td>982.0</td>\n",
       "      <td>64.0</td>\n",
       "    </tr>\n",
       "    <tr>\n",
       "      <th>508</th>\n",
       "      <td>0</td>\n",
       "      <td>3375000.0</td>\n",
       "      <td>34.40</td>\n",
       "      <td>2017-03-28</td>\n",
       "      <td>0</td>\n",
       "      <td>NaN</td>\n",
       "      <td>26.0</td>\n",
       "      <td>24.30</td>\n",
       "      <td>19</td>\n",
       "      <td>False</td>\n",
       "      <td>False</td>\n",
       "      <td>True</td>\n",
       "      <td>NaN</td>\n",
       "      <td>1</td>\n",
       "      <td>п. Парголово</td>\n",
       "      <td>53115.0</td>\n",
       "      <td>19292.0</td>\n",
       "      <td>0.0</td>\n",
       "      <td>NaN</td>\n",
       "      <td>1.0</td>\n",
       "      <td>593.0</td>\n",
       "      <td>430.0</td>\n",
       "    </tr>\n",
       "    <tr>\n",
       "      <th>608</th>\n",
       "      <td>2</td>\n",
       "      <td>1850000.0</td>\n",
       "      <td>25.00</td>\n",
       "      <td>2019-02-20</td>\n",
       "      <td>0</td>\n",
       "      <td>NaN</td>\n",
       "      <td>10.0</td>\n",
       "      <td>NaN</td>\n",
       "      <td>7</td>\n",
       "      <td>False</td>\n",
       "      <td>True</td>\n",
       "      <td>False</td>\n",
       "      <td>NaN</td>\n",
       "      <td>0</td>\n",
       "      <td>п. Шушары</td>\n",
       "      <td>NaN</td>\n",
       "      <td>NaN</td>\n",
       "      <td>NaN</td>\n",
       "      <td>NaN</td>\n",
       "      <td>NaN</td>\n",
       "      <td>NaN</td>\n",
       "      <td>29.0</td>\n",
       "    </tr>\n",
       "    <tr>\n",
       "      <th>697</th>\n",
       "      <td>12</td>\n",
       "      <td>2500000.0</td>\n",
       "      <td>24.10</td>\n",
       "      <td>2017-12-01</td>\n",
       "      <td>0</td>\n",
       "      <td>2.75</td>\n",
       "      <td>25.0</td>\n",
       "      <td>17.50</td>\n",
       "      <td>21</td>\n",
       "      <td>False</td>\n",
       "      <td>True</td>\n",
       "      <td>False</td>\n",
       "      <td>NaN</td>\n",
       "      <td>0</td>\n",
       "      <td>д. Кудрово</td>\n",
       "      <td>NaN</td>\n",
       "      <td>NaN</td>\n",
       "      <td>NaN</td>\n",
       "      <td>NaN</td>\n",
       "      <td>NaN</td>\n",
       "      <td>NaN</td>\n",
       "      <td>201.0</td>\n",
       "    </tr>\n",
       "    <tr>\n",
       "      <th>716</th>\n",
       "      <td>5</td>\n",
       "      <td>1500000.0</td>\n",
       "      <td>17.00</td>\n",
       "      <td>2017-06-07</td>\n",
       "      <td>0</td>\n",
       "      <td>2.70</td>\n",
       "      <td>9.0</td>\n",
       "      <td>12.00</td>\n",
       "      <td>1</td>\n",
       "      <td>False</td>\n",
       "      <td>True</td>\n",
       "      <td>False</td>\n",
       "      <td>NaN</td>\n",
       "      <td>0</td>\n",
       "      <td>п. Шушары</td>\n",
       "      <td>18654.0</td>\n",
       "      <td>29846.0</td>\n",
       "      <td>0.0</td>\n",
       "      <td>NaN</td>\n",
       "      <td>0.0</td>\n",
       "      <td>NaN</td>\n",
       "      <td>40.0</td>\n",
       "    </tr>\n",
       "    <tr>\n",
       "      <th>780</th>\n",
       "      <td>9</td>\n",
       "      <td>2600000.0</td>\n",
       "      <td>26.10</td>\n",
       "      <td>2018-02-20</td>\n",
       "      <td>0</td>\n",
       "      <td>NaN</td>\n",
       "      <td>18.0</td>\n",
       "      <td>NaN</td>\n",
       "      <td>8</td>\n",
       "      <td>False</td>\n",
       "      <td>False</td>\n",
       "      <td>True</td>\n",
       "      <td>NaN</td>\n",
       "      <td>1</td>\n",
       "      <td>п. Мурино</td>\n",
       "      <td>NaN</td>\n",
       "      <td>NaN</td>\n",
       "      <td>NaN</td>\n",
       "      <td>NaN</td>\n",
       "      <td>NaN</td>\n",
       "      <td>NaN</td>\n",
       "      <td>45.0</td>\n",
       "    </tr>\n",
       "    <tr>\n",
       "      <th>839</th>\n",
       "      <td>14</td>\n",
       "      <td>1900000.0</td>\n",
       "      <td>35.00</td>\n",
       "      <td>2017-04-14</td>\n",
       "      <td>0</td>\n",
       "      <td>2.70</td>\n",
       "      <td>5.0</td>\n",
       "      <td>15.00</td>\n",
       "      <td>3</td>\n",
       "      <td>False</td>\n",
       "      <td>False</td>\n",
       "      <td>True</td>\n",
       "      <td>NaN</td>\n",
       "      <td>1</td>\n",
       "      <td>п. Новый Свет</td>\n",
       "      <td>NaN</td>\n",
       "      <td>NaN</td>\n",
       "      <td>NaN</td>\n",
       "      <td>NaN</td>\n",
       "      <td>NaN</td>\n",
       "      <td>NaN</td>\n",
       "      <td>7.0</td>\n",
       "    </tr>\n",
       "    <tr>\n",
       "      <th>946</th>\n",
       "      <td>5</td>\n",
       "      <td>2200000.0</td>\n",
       "      <td>23.00</td>\n",
       "      <td>2016-09-27</td>\n",
       "      <td>0</td>\n",
       "      <td>NaN</td>\n",
       "      <td>27.0</td>\n",
       "      <td>18.00</td>\n",
       "      <td>7</td>\n",
       "      <td>False</td>\n",
       "      <td>False</td>\n",
       "      <td>True</td>\n",
       "      <td>NaN</td>\n",
       "      <td>2</td>\n",
       "      <td>п. Мурино</td>\n",
       "      <td>NaN</td>\n",
       "      <td>NaN</td>\n",
       "      <td>NaN</td>\n",
       "      <td>NaN</td>\n",
       "      <td>NaN</td>\n",
       "      <td>NaN</td>\n",
       "      <td>483.0</td>\n",
       "    </tr>\n",
       "  </tbody>\n",
       "</table>\n",
       "</div>"
      ],
      "text/plain": [
       "     total_images  last_price  total_area first_day_exposition  rooms  \\\n",
       "144             1   2450000.0       27.00           2017-03-30      0   \n",
       "349             4   2320000.0       25.00           2017-09-27      0   \n",
       "440             8   2480000.0       27.11           2018-03-12      0   \n",
       "508             0   3375000.0       34.40           2017-03-28      0   \n",
       "608             2   1850000.0       25.00           2019-02-20      0   \n",
       "697            12   2500000.0       24.10           2017-12-01      0   \n",
       "716             5   1500000.0       17.00           2017-06-07      0   \n",
       "780             9   2600000.0       26.10           2018-02-20      0   \n",
       "839            14   1900000.0       35.00           2017-04-14      0   \n",
       "946             5   2200000.0       23.00           2016-09-27      0   \n",
       "\n",
       "     ceiling_height  floors_total  living_area  floor  is_apartment  \\\n",
       "144             NaN          24.0        15.50      2         False   \n",
       "349             NaN          14.0        17.00      1         False   \n",
       "440             NaN          17.0        24.75      4         False   \n",
       "508             NaN          26.0        24.30     19         False   \n",
       "608             NaN          10.0          NaN      7         False   \n",
       "697            2.75          25.0        17.50     21         False   \n",
       "716            2.70           9.0        12.00      1         False   \n",
       "780             NaN          18.0          NaN      8         False   \n",
       "839            2.70           5.0        15.00      3         False   \n",
       "946             NaN          27.0        18.00      7         False   \n",
       "\n",
       "     is_studio  is_open_plan  kitchen_area  balcony    locality_name  \\\n",
       "144       True         False           NaN        2        п. Мурино   \n",
       "349      False          True           NaN        0       д. Кудрово   \n",
       "440       True         False           NaN        2  Санкт-Петербург   \n",
       "508      False          True           NaN        1     п. Парголово   \n",
       "608       True         False           NaN        0        п. Шушары   \n",
       "697       True         False           NaN        0       д. Кудрово   \n",
       "716       True         False           NaN        0        п. Шушары   \n",
       "780      False          True           NaN        1        п. Мурино   \n",
       "839      False          True           NaN        1    п. Новый Свет   \n",
       "946      False          True           NaN        2        п. Мурино   \n",
       "\n",
       "     airports_nearest  city_center_nearest  parks_around_3000  parks_nearest  \\\n",
       "144               NaN                  NaN                NaN            NaN   \n",
       "349               NaN                  NaN                NaN            NaN   \n",
       "440           38171.0              15015.0                0.0            NaN   \n",
       "508           53115.0              19292.0                0.0            NaN   \n",
       "608               NaN                  NaN                NaN            NaN   \n",
       "697               NaN                  NaN                NaN            NaN   \n",
       "716           18654.0              29846.0                0.0            NaN   \n",
       "780               NaN                  NaN                NaN            NaN   \n",
       "839               NaN                  NaN                NaN            NaN   \n",
       "946               NaN                  NaN                NaN            NaN   \n",
       "\n",
       "     ponds_around_3000  ponds_nearest  days_exposition  \n",
       "144                NaN            NaN            181.0  \n",
       "349                NaN            NaN             45.0  \n",
       "440                2.0          982.0             64.0  \n",
       "508                1.0          593.0            430.0  \n",
       "608                NaN            NaN             29.0  \n",
       "697                NaN            NaN            201.0  \n",
       "716                0.0            NaN             40.0  \n",
       "780                NaN            NaN             45.0  \n",
       "839                NaN            NaN              7.0  \n",
       "946                NaN            NaN            483.0  "
      ]
     },
     "execution_count": 19,
     "metadata": {},
     "output_type": "execute_result"
    }
   ],
   "source": [
    "data_stat_refined.query('rooms == 0').head(10)"
   ]
  },
  {
   "cell_type": "markdown",
   "metadata": {},
   "source": [
    "Похоже, такое количество комнат распространено в квартирах со свободной планировкой или студиях. Проверим, так ли это."
   ]
  },
  {
   "cell_type": "code",
   "execution_count": 20,
   "metadata": {},
   "outputs": [
    {
     "data": {
      "text/html": [
       "<div>\n",
       "<style scoped>\n",
       "    .dataframe tbody tr th:only-of-type {\n",
       "        vertical-align: middle;\n",
       "    }\n",
       "\n",
       "    .dataframe tbody tr th {\n",
       "        vertical-align: top;\n",
       "    }\n",
       "\n",
       "    .dataframe thead th {\n",
       "        text-align: right;\n",
       "    }\n",
       "</style>\n",
       "<table border=\"1\" class=\"dataframe\">\n",
       "  <thead>\n",
       "    <tr style=\"text-align: right;\">\n",
       "      <th></th>\n",
       "      <th>is_open_plan</th>\n",
       "      <th>is_studio</th>\n",
       "    </tr>\n",
       "    <tr>\n",
       "      <th>rooms</th>\n",
       "      <th></th>\n",
       "      <th></th>\n",
       "    </tr>\n",
       "  </thead>\n",
       "  <tbody>\n",
       "    <tr>\n",
       "      <th>0</th>\n",
       "      <td>59</td>\n",
       "      <td>138</td>\n",
       "    </tr>\n",
       "    <tr>\n",
       "      <th>1</th>\n",
       "      <td>3</td>\n",
       "      <td>11</td>\n",
       "    </tr>\n",
       "    <tr>\n",
       "      <th>2</th>\n",
       "      <td>1</td>\n",
       "      <td>0</td>\n",
       "    </tr>\n",
       "    <tr>\n",
       "      <th>3</th>\n",
       "      <td>2</td>\n",
       "      <td>0</td>\n",
       "    </tr>\n",
       "    <tr>\n",
       "      <th>4</th>\n",
       "      <td>1</td>\n",
       "      <td>0</td>\n",
       "    </tr>\n",
       "  </tbody>\n",
       "</table>\n",
       "</div>"
      ],
      "text/plain": [
       "       is_open_plan  is_studio\n",
       "rooms                         \n",
       "0                59        138\n",
       "1                 3         11\n",
       "2                 1          0\n",
       "3                 2          0\n",
       "4                 1          0"
      ]
     },
     "execution_count": 20,
     "metadata": {},
     "output_type": "execute_result"
    }
   ],
   "source": [
    "data_stat_refined.pivot_table(index='rooms', values=['is_studio', 'is_open_plan'], aggfunc='sum').head()"
   ]
  },
  {
   "cell_type": "markdown",
   "metadata": {},
   "source": [
    "Предположение подтвердилось. Одновременно мы видим противоречия в данных: свободная планировка подразумевает единое пространство, где перегородками отделен только санузел. То же можно сказать и про студию. Т.е. ни в квартире свободной планировки, ни в студии не может быть более одной комнаты. Квартиры с 0 комнат так же быть не может.  \n",
    "Исправим это, установив для студий и квартир со свободной планировкой количество комнат равное 1.   "
   ]
  },
  {
   "cell_type": "code",
   "execution_count": 21,
   "metadata": {},
   "outputs": [],
   "source": [
    "data_stat_refined.loc[(data_stat_refined['is_studio']) | (data_stat_refined['is_open_plan']), 'rooms'] = 1"
   ]
  },
  {
   "cell_type": "markdown",
   "metadata": {},
   "source": [
    "Максимальное количество комнат установим в соответствии с максимумом диаграммы размаха (Q3 + 1.5IQR). Для нашего случая он равен 6. Теоретически можно представить квартиру и с 19 комнатами (наш максимум), однако такое количество явно походит на исключение. А для того, чтобы проследить надежные закономерности, нам нужны типичные случаи.  \n",
    "Отсечем лишние значения."
   ]
  },
  {
   "cell_type": "code",
   "execution_count": 22,
   "metadata": {},
   "outputs": [
    {
     "data": {
      "text/plain": [
       "count    23609.000000\n",
       "mean         2.055741\n",
       "std          0.993640\n",
       "min          1.000000\n",
       "25%          1.000000\n",
       "50%          2.000000\n",
       "75%          3.000000\n",
       "max          6.000000\n",
       "Name: rooms, dtype: float64"
      ]
     },
     "execution_count": 22,
     "metadata": {},
     "output_type": "execute_result"
    }
   ],
   "source": [
    "data_stat_refined = data_stat_refined.query('1 <= rooms <= 6')\n",
    "data_stat_refined['rooms'].describe()"
   ]
  },
  {
   "cell_type": "markdown",
   "metadata": {},
   "source": [
    "Медианное и среднее значения практически сравнялись. Т.о., мы привели данные к виду более однородному и отвечающему типичной реальности.\n",
    "##### Высота потолков"
   ]
  },
  {
   "cell_type": "code",
   "execution_count": 23,
   "metadata": {},
   "outputs": [
    {
     "data": {
      "text/plain": [
       "count    14439.000000\n",
       "mean         2.768886\n",
       "std          1.263030\n",
       "min          1.000000\n",
       "25%          2.510000\n",
       "50%          2.650000\n",
       "75%          2.800000\n",
       "max        100.000000\n",
       "Name: ceiling_height, dtype: float64"
      ]
     },
     "execution_count": 23,
     "metadata": {},
     "output_type": "execute_result"
    }
   ],
   "source": [
    "data_stat_refined['ceiling_height'].describe()"
   ]
  },
  {
   "cell_type": "markdown",
   "metadata": {},
   "source": [
    "При небольшом различии между средним и медианным значением, наблюдаем аномальные минимум и максимум.\n",
    "Предположим, что подавляющее большинство квартир имет высоту потолка в интервале 2,4-4,2м. Минимум в данном случае  определен современными нормами строительства. Максимум же взят со ссылкой на социальный проект [\"Квартирные трансформации\"](https://spbspecials.rbc.ru/transformation), который описывает развитие жилого строительства в истории Санкт-Петербурга. Вот цитата оттуда: \"С начала XX века появляются и особые дома с дешевыми квартирами для неимущих. Как пишет Екатерина Юхнева в книге «Петербургские доходные дома. Очерки из истории быта», высота потолков в таких квартирах снизилась почти в полтора раза (2,8 м против привычных 4,2 м)...\"  \n",
    "Дополнительно предположим, что в части объявлений допущена описка: вместо 3,5м указано 35м, вместо 2,4 - 24 и т.д.  \n",
    "Исправим ошибки и отсечем лишние значения."
   ]
  },
  {
   "cell_type": "code",
   "execution_count": 24,
   "metadata": {},
   "outputs": [
    {
     "data": {
      "text/plain": [
       "count    14383.000000\n",
       "mean         2.720896\n",
       "std          0.258899\n",
       "min          2.400000\n",
       "25%          2.510000\n",
       "50%          2.650000\n",
       "75%          2.800000\n",
       "max          4.200000\n",
       "Name: ceiling_height, dtype: float64"
      ]
     },
     "execution_count": 24,
     "metadata": {},
     "output_type": "execute_result"
    }
   ],
   "source": [
    "#Создадим функцию, исправляющую описки в высоте потолка\n",
    "def refine_ceiling_height(height):\n",
    "    if 24 <= height <= 42:\n",
    "        return height/10\n",
    "    else:\n",
    "        return height\n",
    "    \n",
    "data_stat_refined['ceiling_height'] = data_stat_refined['ceiling_height'].apply(refine_ceiling_height)\n",
    "data_stat_refined = data_stat_refined.query('2.4 <= ceiling_height <= 4.2')\n",
    "data_stat_refined['ceiling_height'].describe()"
   ]
  },
  {
   "cell_type": "markdown",
   "metadata": {},
   "source": [
    "Отмечаем, что разница между средним и медианным значением уменьшилась, значительно снизилось стандартное отклонение. Т.о., данные стали более правдоподобными и однородными."
   ]
  },
  {
   "cell_type": "markdown",
   "metadata": {},
   "source": [
    "##### Жилая площадь"
   ]
  },
  {
   "cell_type": "code",
   "execution_count": 25,
   "metadata": {},
   "outputs": [
    {
     "data": {
      "text/plain": [
       "count    13597.000000\n",
       "mean        34.960662\n",
       "std         20.020263\n",
       "min          2.000000\n",
       "25%         19.100000\n",
       "50%         30.700000\n",
       "75%         43.000000\n",
       "max        300.000000\n",
       "Name: living_area, dtype: float64"
      ]
     },
     "execution_count": 25,
     "metadata": {},
     "output_type": "execute_result"
    }
   ],
   "source": [
    "data_stat_refined['living_area'].describe()"
   ]
  },
  {
   "cell_type": "markdown",
   "metadata": {},
   "source": [
    "Как и в случае с высотами потолков, наблюдаем аномальные минимум и максимум. Заметна разница между средним и медианным значением, а также стандартное отклонение в 20 м2.  \n",
    "Определим нижнюю границу площадью 9 м2 (минимальная норма для одноместного номера в общежитии гостиничного типа). Максимум диаграммы размаха (Q3 + 1.5IQR) для нашего случая равен 78,85 м2. Т.о., верхнюю границу определим равной 80 м2.  \n",
    "Отсечем лишние значения."
   ]
  },
  {
   "cell_type": "code",
   "execution_count": 26,
   "metadata": {},
   "outputs": [
    {
     "data": {
      "text/plain": [
       "count    13165.000000\n",
       "mean        32.656675\n",
       "std         14.434481\n",
       "min          9.000000\n",
       "25%         19.000000\n",
       "50%         30.100000\n",
       "75%         42.000000\n",
       "max         80.000000\n",
       "Name: living_area, dtype: float64"
      ]
     },
     "execution_count": 26,
     "metadata": {},
     "output_type": "execute_result"
    }
   ],
   "source": [
    "data_stat_refined = data_stat_refined.query('9 <= living_area <= 80')\n",
    "data_stat_refined['living_area'].describe()"
   ]
  },
  {
   "cell_type": "markdown",
   "metadata": {},
   "source": [
    "Отмечаем, что среднее и медианное значения сблизились, стандартное отклонение уменьшилось. Т.о., данные стали более правдоподобными и однородными."
   ]
  },
  {
   "cell_type": "markdown",
   "metadata": {},
   "source": [
    "##### Общая площадь"
   ]
  },
  {
   "cell_type": "code",
   "execution_count": 27,
   "metadata": {},
   "outputs": [
    {
     "data": {
      "text/plain": [
       "count    13165.000000\n",
       "mean        57.041562\n",
       "std         22.662285\n",
       "min         12.000000\n",
       "25%         40.500000\n",
       "50%         52.000000\n",
       "75%         68.500000\n",
       "max        260.000000\n",
       "Name: total_area, dtype: float64"
      ]
     },
     "execution_count": 27,
     "metadata": {},
     "output_type": "execute_result"
    }
   ],
   "source": [
    "data_stat_refined['total_area'].describe()"
   ]
  },
  {
   "cell_type": "markdown",
   "metadata": {},
   "source": [
    "Аномальный максимум смещает среднее значение в верхнюю часть диапазона. В то же время минимальное значение выглядит правдоподобным.  \n",
    "Как и в предыдущем случае, определим максимум диаграммы размаха (Q3 + 1.5IQR). В нашем случае он равен 110,5 м2. Т.о., верхнюю границу определим равной 111 м2.  \n",
    "Отсечем лишние значения."
   ]
  },
  {
   "cell_type": "code",
   "execution_count": 28,
   "metadata": {},
   "outputs": [
    {
     "data": {
      "text/plain": [
       "count    12798.000000\n",
       "mean        54.983106\n",
       "std         19.130383\n",
       "min         12.000000\n",
       "25%         40.000000\n",
       "50%         51.000000\n",
       "75%         66.900000\n",
       "max        111.000000\n",
       "Name: total_area, dtype: float64"
      ]
     },
     "execution_count": 28,
     "metadata": {},
     "output_type": "execute_result"
    }
   ],
   "source": [
    "data_stat_refined = data_stat_refined.query('total_area <= 111')\n",
    "data_stat_refined['total_area'].describe()"
   ]
  },
  {
   "cell_type": "markdown",
   "metadata": {},
   "source": [
    "Показатели немного улучшились. Данные стали более однородны."
   ]
  },
  {
   "cell_type": "markdown",
   "metadata": {},
   "source": [
    "##### Площадь кухни"
   ]
  },
  {
   "cell_type": "code",
   "execution_count": 29,
   "metadata": {},
   "outputs": [
    {
     "data": {
      "text/plain": [
       "count    12451.000000\n",
       "mean         9.764209\n",
       "std          4.329416\n",
       "min          1.300000\n",
       "25%          7.000000\n",
       "50%          9.000000\n",
       "75%         11.000000\n",
       "max         55.700000\n",
       "Name: kitchen_area, dtype: float64"
      ]
     },
     "execution_count": 29,
     "metadata": {},
     "output_type": "execute_result"
    }
   ],
   "source": [
    "data_stat_refined['kitchen_area'].describe()"
   ]
  },
  {
   "cell_type": "markdown",
   "metadata": {},
   "source": [
    "Как и в предыдщих случаях, отмечаем аномальные минимум и максимум.  \n",
    "Минимальную полощадь ограничим 5 м2 в соответствии с текущими нормами, а максимальную подберем, исходя из максимума диаграммы размаха (Q3 + 1.5IQR). В нашем случае он равен 17 м2. Верхнюю границу определим равной 20 м2, исходя из предположения, что в больших квартирах под кухню-столовую отводят больше места.  \n",
    "Отсечем лишние значения."
   ]
  },
  {
   "cell_type": "code",
   "execution_count": 30,
   "metadata": {},
   "outputs": [
    {
     "data": {
      "text/plain": [
       "count    12063.000000\n",
       "mean         9.318346\n",
       "std          3.054509\n",
       "min          5.000000\n",
       "25%          7.000000\n",
       "50%          8.800000\n",
       "75%         11.000000\n",
       "max         20.000000\n",
       "Name: kitchen_area, dtype: float64"
      ]
     },
     "execution_count": 30,
     "metadata": {},
     "output_type": "execute_result"
    }
   ],
   "source": [
    "data_stat_refined = data_stat_refined.query('5 <= kitchen_area <= 20')\n",
    "data_stat_refined['kitchen_area'].describe()"
   ]
  },
  {
   "cell_type": "markdown",
   "metadata": {},
   "source": [
    "В части стандартного отклонения и разницы между средним и медианным значением показатели несколько улучшились.\n",
    "##### Соотношение площадей\n",
    "Проверим оставшиеся записи на соответствие условию: сумма жилой площади и площади кухни должна быть меньше общей площади. "
   ]
  },
  {
   "cell_type": "code",
   "execution_count": 31,
   "metadata": {},
   "outputs": [
    {
     "name": "stdout",
     "output_type": "stream",
     "text": [
      "Количество строк, не соответствующих условию: 66\n"
     ]
    }
   ],
   "source": [
    "condition = 'living_area + kitchen_area >= total_area'\n",
    "print('Количество строк, не соответствующих условию:', len(data_stat_refined.query(condition)))"
   ]
  },
  {
   "cell_type": "markdown",
   "metadata": {},
   "source": [
    "Исключим такие строки."
   ]
  },
  {
   "cell_type": "code",
   "execution_count": 32,
   "metadata": {},
   "outputs": [],
   "source": [
    "data_stat_refined = data_stat_refined.query('not(' + condition + ')')"
   ]
  },
  {
   "cell_type": "markdown",
   "metadata": {},
   "source": [
    "### Посчитайте и добавьте в таблицу новые столбцы"
   ]
  },
  {
   "cell_type": "markdown",
   "metadata": {},
   "source": [
    "#### Цена квадратного метра\n",
    "Рассчитаем стоимость квадратного метра, как отношение цены квартиры к ее общей площади. Округлим значение до рубля и запишем его в столбец `price_for_m2`."
   ]
  },
  {
   "cell_type": "code",
   "execution_count": 33,
   "metadata": {},
   "outputs": [],
   "source": [
    "data_stat_refined['price_for_m2'] = (data_stat_refined['last_price'] / data_stat_refined['total_area']).round()"
   ]
  },
  {
   "cell_type": "markdown",
   "metadata": {},
   "source": [
    "#### День, месяц и год публикации объявления\n",
    "Рассчитаем день недели (где 0 - пн, 6 - вс), месяц и год публикации объявления. Данные запишем в столбцы `exp_day`, `exp_month`, `exp_year` соответственно."
   ]
  },
  {
   "cell_type": "code",
   "execution_count": 34,
   "metadata": {},
   "outputs": [],
   "source": [
    "data_stat_refined['exp_day'] = pd.DatetimeIndex(data_stat_refined['first_day_exposition']).dayofweek\n",
    "data_stat_refined['exp_month'] = pd.DatetimeIndex(data_stat_refined['first_day_exposition']).month\n",
    "data_stat_refined['exp_year'] = pd.DatetimeIndex(data_stat_refined['first_day_exposition']).year"
   ]
  },
  {
   "cell_type": "markdown",
   "metadata": {},
   "source": [
    "#### Категоризация этажа\n",
    "В столбец `floor_cat` запишем категории \"первый\", \"последний\" и \"другой\", соответствующие этажу, где расположена квартира."
   ]
  },
  {
   "cell_type": "code",
   "execution_count": 35,
   "metadata": {},
   "outputs": [],
   "source": [
    "#Опишем функцию, определяющую категорию этажа. \n",
    "#ПРИНИМАЕТ строку DataFrame\n",
    "#ВОЗВРАЩАЕТ категорию этажа типа string или NaN, \n",
    "#если категорию невозможно определить из-за пропусков в данных\n",
    "def get_floor_category(row):\n",
    "    nan_value = np.nan\n",
    "    floors_total = row['floors_total']\n",
    "    floor = row['floor']\n",
    "    if pd.isna(floor):\n",
    "        return nan_value\n",
    "    elif floor == 1:\n",
    "        return 'первый'\n",
    "    else:        \n",
    "        if pd.isna(floors_total):\n",
    "            return nan_value\n",
    "        elif floor == floors_total:\n",
    "            return 'последний'\n",
    "        else:\n",
    "            return 'другой'\n",
    "\n",
    "data_stat_refined['floor_cat'] = data_stat_refined.apply(get_floor_category, axis=1)"
   ]
  },
  {
   "cell_type": "markdown",
   "metadata": {},
   "source": [
    "#### Расстояние до центра в км\n",
    "\n",
    "В столбец `city_center_nearest_km` запишем расстояние в км, предварительно округлив его до целых значений."
   ]
  },
  {
   "cell_type": "code",
   "execution_count": 36,
   "metadata": {},
   "outputs": [],
   "source": [
    "data_stat_refined['city_center_nearest_km'] = (data_stat_refined['city_center_nearest'] / 1000).round()"
   ]
  },
  {
   "cell_type": "markdown",
   "metadata": {},
   "source": [
    "#### Заключение\n",
    "Посмотрим, что изменилось в датасете."
   ]
  },
  {
   "cell_type": "code",
   "execution_count": 37,
   "metadata": {},
   "outputs": [
    {
     "data": {
      "text/html": [
       "<div>\n",
       "<style scoped>\n",
       "    .dataframe tbody tr th:only-of-type {\n",
       "        vertical-align: middle;\n",
       "    }\n",
       "\n",
       "    .dataframe tbody tr th {\n",
       "        vertical-align: top;\n",
       "    }\n",
       "\n",
       "    .dataframe thead th {\n",
       "        text-align: right;\n",
       "    }\n",
       "</style>\n",
       "<table border=\"1\" class=\"dataframe\">\n",
       "  <thead>\n",
       "    <tr style=\"text-align: right;\">\n",
       "      <th></th>\n",
       "      <th>total_images</th>\n",
       "      <th>last_price</th>\n",
       "      <th>total_area</th>\n",
       "      <th>first_day_exposition</th>\n",
       "      <th>rooms</th>\n",
       "      <th>ceiling_height</th>\n",
       "      <th>floors_total</th>\n",
       "      <th>living_area</th>\n",
       "      <th>floor</th>\n",
       "      <th>is_apartment</th>\n",
       "      <th>is_studio</th>\n",
       "      <th>is_open_plan</th>\n",
       "      <th>kitchen_area</th>\n",
       "      <th>balcony</th>\n",
       "      <th>locality_name</th>\n",
       "      <th>airports_nearest</th>\n",
       "      <th>city_center_nearest</th>\n",
       "      <th>parks_around_3000</th>\n",
       "      <th>parks_nearest</th>\n",
       "      <th>ponds_around_3000</th>\n",
       "      <th>ponds_nearest</th>\n",
       "      <th>days_exposition</th>\n",
       "      <th>price_for_m2</th>\n",
       "      <th>exp_day</th>\n",
       "      <th>exp_month</th>\n",
       "      <th>exp_year</th>\n",
       "      <th>floor_cat</th>\n",
       "      <th>city_center_nearest_km</th>\n",
       "    </tr>\n",
       "  </thead>\n",
       "  <tbody>\n",
       "    <tr>\n",
       "      <th>9</th>\n",
       "      <td>18</td>\n",
       "      <td>5400000.0</td>\n",
       "      <td>61.0</td>\n",
       "      <td>2017-02-26</td>\n",
       "      <td>3</td>\n",
       "      <td>2.50</td>\n",
       "      <td>9.0</td>\n",
       "      <td>43.6</td>\n",
       "      <td>7</td>\n",
       "      <td>False</td>\n",
       "      <td>False</td>\n",
       "      <td>False</td>\n",
       "      <td>6.5</td>\n",
       "      <td>2</td>\n",
       "      <td>Санкт-Петербург</td>\n",
       "      <td>50898.0</td>\n",
       "      <td>15008.0</td>\n",
       "      <td>0.0</td>\n",
       "      <td>NaN</td>\n",
       "      <td>0.0</td>\n",
       "      <td>NaN</td>\n",
       "      <td>289.0</td>\n",
       "      <td>88525.0</td>\n",
       "      <td>6</td>\n",
       "      <td>2</td>\n",
       "      <td>2017</td>\n",
       "      <td>другой</td>\n",
       "      <td>15.0</td>\n",
       "    </tr>\n",
       "    <tr>\n",
       "      <th>10</th>\n",
       "      <td>5</td>\n",
       "      <td>5050000.0</td>\n",
       "      <td>39.6</td>\n",
       "      <td>2017-11-16</td>\n",
       "      <td>1</td>\n",
       "      <td>2.67</td>\n",
       "      <td>12.0</td>\n",
       "      <td>20.3</td>\n",
       "      <td>3</td>\n",
       "      <td>False</td>\n",
       "      <td>False</td>\n",
       "      <td>False</td>\n",
       "      <td>8.5</td>\n",
       "      <td>0</td>\n",
       "      <td>Санкт-Петербург</td>\n",
       "      <td>38357.0</td>\n",
       "      <td>13878.0</td>\n",
       "      <td>1.0</td>\n",
       "      <td>310.0</td>\n",
       "      <td>2.0</td>\n",
       "      <td>553.0</td>\n",
       "      <td>137.0</td>\n",
       "      <td>127525.0</td>\n",
       "      <td>3</td>\n",
       "      <td>11</td>\n",
       "      <td>2017</td>\n",
       "      <td>другой</td>\n",
       "      <td>14.0</td>\n",
       "    </tr>\n",
       "    <tr>\n",
       "      <th>13</th>\n",
       "      <td>20</td>\n",
       "      <td>3550000.0</td>\n",
       "      <td>42.8</td>\n",
       "      <td>2017-07-01</td>\n",
       "      <td>2</td>\n",
       "      <td>2.56</td>\n",
       "      <td>5.0</td>\n",
       "      <td>27.0</td>\n",
       "      <td>5</td>\n",
       "      <td>False</td>\n",
       "      <td>False</td>\n",
       "      <td>False</td>\n",
       "      <td>5.2</td>\n",
       "      <td>1</td>\n",
       "      <td>Петергоф</td>\n",
       "      <td>37868.0</td>\n",
       "      <td>33058.0</td>\n",
       "      <td>1.0</td>\n",
       "      <td>294.0</td>\n",
       "      <td>3.0</td>\n",
       "      <td>298.0</td>\n",
       "      <td>366.0</td>\n",
       "      <td>82944.0</td>\n",
       "      <td>5</td>\n",
       "      <td>7</td>\n",
       "      <td>2017</td>\n",
       "      <td>последний</td>\n",
       "      <td>33.0</td>\n",
       "    </tr>\n",
       "    <tr>\n",
       "      <th>16</th>\n",
       "      <td>11</td>\n",
       "      <td>6700000.0</td>\n",
       "      <td>82.0</td>\n",
       "      <td>2017-11-23</td>\n",
       "      <td>3</td>\n",
       "      <td>3.05</td>\n",
       "      <td>5.0</td>\n",
       "      <td>55.6</td>\n",
       "      <td>1</td>\n",
       "      <td>False</td>\n",
       "      <td>False</td>\n",
       "      <td>False</td>\n",
       "      <td>9.0</td>\n",
       "      <td>0</td>\n",
       "      <td>Санкт-Петербург</td>\n",
       "      <td>22108.0</td>\n",
       "      <td>10698.0</td>\n",
       "      <td>3.0</td>\n",
       "      <td>420.0</td>\n",
       "      <td>0.0</td>\n",
       "      <td>NaN</td>\n",
       "      <td>397.0</td>\n",
       "      <td>81707.0</td>\n",
       "      <td>3</td>\n",
       "      <td>11</td>\n",
       "      <td>2017</td>\n",
       "      <td>первый</td>\n",
       "      <td>11.0</td>\n",
       "    </tr>\n",
       "    <tr>\n",
       "      <th>18</th>\n",
       "      <td>8</td>\n",
       "      <td>3250000.0</td>\n",
       "      <td>31.0</td>\n",
       "      <td>2017-01-27</td>\n",
       "      <td>1</td>\n",
       "      <td>2.50</td>\n",
       "      <td>5.0</td>\n",
       "      <td>19.4</td>\n",
       "      <td>2</td>\n",
       "      <td>False</td>\n",
       "      <td>False</td>\n",
       "      <td>False</td>\n",
       "      <td>5.6</td>\n",
       "      <td>1</td>\n",
       "      <td>Санкт-Петербург</td>\n",
       "      <td>44060.0</td>\n",
       "      <td>10842.0</td>\n",
       "      <td>1.0</td>\n",
       "      <td>759.0</td>\n",
       "      <td>0.0</td>\n",
       "      <td>NaN</td>\n",
       "      <td>168.0</td>\n",
       "      <td>104839.0</td>\n",
       "      <td>4</td>\n",
       "      <td>1</td>\n",
       "      <td>2017</td>\n",
       "      <td>другой</td>\n",
       "      <td>11.0</td>\n",
       "    </tr>\n",
       "  </tbody>\n",
       "</table>\n",
       "</div>"
      ],
      "text/plain": [
       "    total_images  last_price  total_area first_day_exposition  rooms  \\\n",
       "9             18   5400000.0        61.0           2017-02-26      3   \n",
       "10             5   5050000.0        39.6           2017-11-16      1   \n",
       "13            20   3550000.0        42.8           2017-07-01      2   \n",
       "16            11   6700000.0        82.0           2017-11-23      3   \n",
       "18             8   3250000.0        31.0           2017-01-27      1   \n",
       "\n",
       "    ceiling_height  floors_total  living_area  floor  is_apartment  is_studio  \\\n",
       "9             2.50           9.0         43.6      7         False      False   \n",
       "10            2.67          12.0         20.3      3         False      False   \n",
       "13            2.56           5.0         27.0      5         False      False   \n",
       "16            3.05           5.0         55.6      1         False      False   \n",
       "18            2.50           5.0         19.4      2         False      False   \n",
       "\n",
       "    is_open_plan  kitchen_area  balcony    locality_name  airports_nearest  \\\n",
       "9          False           6.5        2  Санкт-Петербург           50898.0   \n",
       "10         False           8.5        0  Санкт-Петербург           38357.0   \n",
       "13         False           5.2        1         Петергоф           37868.0   \n",
       "16         False           9.0        0  Санкт-Петербург           22108.0   \n",
       "18         False           5.6        1  Санкт-Петербург           44060.0   \n",
       "\n",
       "    city_center_nearest  parks_around_3000  parks_nearest  ponds_around_3000  \\\n",
       "9               15008.0                0.0            NaN                0.0   \n",
       "10              13878.0                1.0          310.0                2.0   \n",
       "13              33058.0                1.0          294.0                3.0   \n",
       "16              10698.0                3.0          420.0                0.0   \n",
       "18              10842.0                1.0          759.0                0.0   \n",
       "\n",
       "    ponds_nearest  days_exposition  price_for_m2  exp_day  exp_month  \\\n",
       "9             NaN            289.0       88525.0        6          2   \n",
       "10          553.0            137.0      127525.0        3         11   \n",
       "13          298.0            366.0       82944.0        5          7   \n",
       "16            NaN            397.0       81707.0        3         11   \n",
       "18            NaN            168.0      104839.0        4          1   \n",
       "\n",
       "    exp_year  floor_cat  city_center_nearest_km  \n",
       "9       2017     другой                    15.0  \n",
       "10      2017     другой                    14.0  \n",
       "13      2017  последний                    33.0  \n",
       "16      2017     первый                    11.0  \n",
       "18      2017     другой                    11.0  "
      ]
     },
     "execution_count": 37,
     "metadata": {},
     "output_type": "execute_result"
    }
   ],
   "source": [
    "data_stat_refined.head()"
   ]
  },
  {
   "cell_type": "markdown",
   "metadata": {},
   "source": [
    "Как видно, новые столбцы на месте, а преобразования прошли верно."
   ]
  },
  {
   "cell_type": "markdown",
   "metadata": {},
   "source": [
    "### Проведите исследовательский анализ данных"
   ]
  },
  {
   "cell_type": "markdown",
   "metadata": {},
   "source": [
    "#### Параметры объектов\n",
    "С помощью гистограмм рассмотрим различные признаки.\n",
    "##### Площадь: общая, жилая, кухни"
   ]
  },
  {
   "cell_type": "code",
   "execution_count": 38,
   "metadata": {
    "scrolled": true
   },
   "outputs": [
    {
     "data": {
      "text/plain": [
       "<AxesSubplot:title={'center':'Общая площадь'}, ylabel='Frequency'>"
      ]
     },
     "execution_count": 38,
     "metadata": {},
     "output_type": "execute_result"
    },
    {
     "data": {
      "image/png": "[encoded data removed]",
      "text/plain": [
       "<Figure size 432x288 with 1 Axes>"
      ]
     },
     "metadata": {
      "needs_background": "light"
     },
     "output_type": "display_data"
    }
   ],
   "source": [
    "data_stat_refined.plot(kind='hist', y='total_area', grid=True, title='Общая площадь')"
   ]
  },
  {
   "cell_type": "code",
   "execution_count": 39,
   "metadata": {
    "scrolled": false
   },
   "outputs": [
    {
     "data": {
      "text/plain": [
       "<AxesSubplot:title={'center':'Жилая площадь'}, ylabel='Frequency'>"
      ]
     },
     "execution_count": 39,
     "metadata": {},
     "output_type": "execute_result"
    },
    {
     "data": {
      "image/png": "[encoded data removed]",
      "text/plain": [
       "<Figure size 432x288 with 1 Axes>"
      ]
     },
     "metadata": {
      "needs_background": "light"
     },
     "output_type": "display_data"
    }
   ],
   "source": [
    "data_stat_refined.plot(kind='hist', y='living_area', grid=True, title='Жилая площадь')"
   ]
  },
  {
   "cell_type": "code",
   "execution_count": 40,
   "metadata": {
    "scrolled": false
   },
   "outputs": [
    {
     "data": {
      "text/plain": [
       "<AxesSubplot:title={'center':'Площадь кухни'}, ylabel='Frequency'>"
      ]
     },
     "execution_count": 40,
     "metadata": {},
     "output_type": "execute_result"
    },
    {
     "data": {
      "image/png": "[encoded data removed]",
      "text/plain": [
       "<Figure size 432x288 with 1 Axes>"
      ]
     },
     "metadata": {
      "needs_background": "light"
     },
     "output_type": "display_data"
    }
   ],
   "source": [
    "data_stat_refined.plot(kind='hist', y='kitchen_area', grid=True, title='Площадь кухни')"
   ]
  },
  {
   "cell_type": "markdown",
   "metadata": {},
   "source": [
    "Основная масса жилого фонда имеет общую площадь в пределах от 30 до 75м2, жилую - от 16 до 50м2. Наиболее распространены квартиры с общей площадью от 30 до 50м2 и жилой площадью от 16 до 37м2. Типичная площадь кухни - 5-12м2.   \n",
    "Гистограммы в правой части более пологи и походят на нормальное распределение, левая же часть - крутая и скачкообразная.  \n",
    "Выраженные максимумы в левой части гистограмм могут свидетельствовать, что в жилом фонде преобладают квартиры с меньшей площадью, что объяснимо. Такие квартиры более ликвидны, это на руку застройщику, т.к. уменьшает время между сдачей дома и получением выручки. \n",
    "##### Цена объекта"
   ]
  },
  {
   "cell_type": "code",
   "execution_count": 41,
   "metadata": {
    "scrolled": true
   },
   "outputs": [
    {
     "data": {
      "text/plain": [
       "<AxesSubplot:ylabel='Frequency'>"
      ]
     },
     "execution_count": 41,
     "metadata": {},
     "output_type": "execute_result"
    },
    {
     "data": {
      "image/png": "[encoded data removed]",
      "text/plain": [
       "<Figure size 432x288 with 1 Axes>"
      ]
     },
     "metadata": {
      "needs_background": "light"
     },
     "output_type": "display_data"
    }
   ],
   "source": [
    "#Для удобства приведем цены к размерности млн.руб.\n",
    "last_price_mil = data_stat_refined['last_price'] / 1000000\n",
    "#Подберем параметр bins так, чтобы цена столбца приблизительно равнялась четверти миллиона\n",
    "last_price_mil.plot(kind='hist', bins=110,  grid=True, xlim=(0, 15))"
   ]
  },
  {
   "cell_type": "markdown",
   "metadata": {},
   "source": [
    "Видно, что цены на объекты недвижимости распределены практически нормально. Наиболее типичные значения находятся в пределах от 3 до 5 млн.руб \n",
    "##### Количество комнат   "
   ]
  },
  {
   "cell_type": "code",
   "execution_count": 42,
   "metadata": {
    "scrolled": false
   },
   "outputs": [
    {
     "data": {
      "text/plain": [
       "<AxesSubplot:ylabel='Frequency'>"
      ]
     },
     "execution_count": 42,
     "metadata": {},
     "output_type": "execute_result"
    },
    {
     "data": {
      "image/png": "[encoded data removed]",
      "text/plain": [
       "<Figure size 432x288 with 1 Axes>"
      ]
     },
     "metadata": {
      "needs_background": "light"
     },
     "output_type": "display_data"
    }
   ],
   "source": [
    "#Исключим из выборки квартиры с открытой планировкой, т.к. \n",
    "#количество комнат для них определится только на этапе возведения перегородок.\n",
    "#А в нынешнем виде (с 1 комнатой) они могут исказить гистограмму.\n",
    "rooms = data_stat_refined.query('not(is_open_plan)')\n",
    "#Подберем параметр bins так, чтобы цена столбца равнялась 1\n",
    "rooms.plot(kind='hist', y='rooms', bins=5, grid=True)"
   ]
  },
  {
   "cell_type": "markdown",
   "metadata": {},
   "source": [
    "Подавляющее большинство (около 8500) квартир имеют одну или две комнаты. Трехкомнатные квартиры распространены, но заметно меньше (чуть более 3000). Четырех- и пятикомнатные квартиры составляют абсолютное меньшинство (менее 600 предложений).  \n",
    "Данная гистограмма также подтверждает гипотезу, что малогабаритное жилье существенно преобладает над крупногабаритным.\n",
    "##### Высота потолков"
   ]
  },
  {
   "cell_type": "code",
   "execution_count": 43,
   "metadata": {
    "scrolled": true
   },
   "outputs": [
    {
     "data": {
      "text/plain": [
       "<AxesSubplot:ylabel='Frequency'>"
      ]
     },
     "execution_count": 43,
     "metadata": {},
     "output_type": "execute_result"
    },
    {
     "data": {
      "image/png": "[encoded data removed]",
      "text/plain": [
       "<Figure size 432x288 with 1 Axes>"
      ]
     },
     "metadata": {
      "needs_background": "light"
     },
     "output_type": "display_data"
    }
   ],
   "source": [
    "data_stat_refined.plot(kind='hist', y='ceiling_height', grid=True)"
   ]
  },
  {
   "cell_type": "markdown",
   "metadata": {},
   "source": [
    "Наиболее типичная высота потолка находится в промежутке 2,4-2,75м. Меньшая, но все же заметная доля приходится на интервал 2,75-3,2м. Высоты за этими пределами являются редкостью. \n",
    "##### Этаж, тип этажа и общее количество этажей в доме    "
   ]
  },
  {
   "cell_type": "code",
   "execution_count": 44,
   "metadata": {
    "scrolled": true
   },
   "outputs": [
    {
     "data": {
      "text/plain": [
       "<AxesSubplot:title={'center':'Этаж'}, ylabel='Frequency'>"
      ]
     },
     "execution_count": 44,
     "metadata": {},
     "output_type": "execute_result"
    },
    {
     "data": {
      "image/png": "[encoded data removed]",
      "text/plain": [
       "<Figure size 432x288 with 1 Axes>"
      ]
     },
     "metadata": {
      "needs_background": "light"
     },
     "output_type": "display_data"
    }
   ],
   "source": [
    "data_stat_refined.plot(kind='hist', y='floor', grid=True, bins=30, title='Этаж')"
   ]
  },
  {
   "cell_type": "markdown",
   "metadata": {},
   "source": [
    "Абсолютное большинство собственников предпочитают селиться не выше 6 этажа. Обратим внимание на пик в районе 3го этажа, напоминающий нам о распространенном в быту мнении. "
   ]
  },
  {
   "cell_type": "code",
   "execution_count": 45,
   "metadata": {},
   "outputs": [
    {
     "data": {
      "text/plain": [
       "<AxesSubplot:title={'center':'Всего этажей'}, ylabel='Frequency'>"
      ]
     },
     "execution_count": 45,
     "metadata": {},
     "output_type": "execute_result"
    },
    {
     "data": {
      "image/png": "[encoded data removed]",
      "text/plain": [
       "<Figure size 432x288 with 1 Axes>"
      ]
     },
     "metadata": {
      "needs_background": "light"
     },
     "output_type": "display_data"
    }
   ],
   "source": [
    "data_stat_refined.plot(kind='hist', y='floors_total', grid=True, bins=30, title='Всего этажей')"
   ]
  },
  {
   "cell_type": "markdown",
   "metadata": {},
   "source": [
    "Диаграмма полностью подтвеждает, что в массовой застройке наиболее распространены 5 и 9-10 этажные дома. Малоэтажки и небоскребы встречаются сравнительно редко. "
   ]
  },
  {
   "cell_type": "code",
   "execution_count": 46,
   "metadata": {},
   "outputs": [
    {
     "data": {
      "text/plain": [
       "<AxesSubplot:title={'center':'Категория этажа'}, ylabel='floor_cat'>"
      ]
     },
     "execution_count": 46,
     "metadata": {},
     "output_type": "execute_result"
    },
    {
     "data": {
      "image/png": "[encoded data removed]",
      "text/plain": [
       "<Figure size 432x288 with 1 Axes>"
      ]
     },
     "metadata": {},
     "output_type": "display_data"
    }
   ],
   "source": [
    "data_stat_refined['floor_cat'].value_counts().plot(kind='pie', title='Категория этажа')"
   ]
  },
  {
   "cell_type": "markdown",
   "metadata": {},
   "source": [
    "Почти 75% собственников живут между первым и последним этажами. Доли живущих на первом или последнем этаже почти равны и составляют приблизительно 12-13%. \n",
    "##### Расстояние до центра, ближайшего аэропорта и парка    "
   ]
  },
  {
   "cell_type": "code",
   "execution_count": 47,
   "metadata": {
    "scrolled": false
   },
   "outputs": [
    {
     "data": {
      "text/plain": [
       "<AxesSubplot:title={'center':'Расстояние до центра, км'}, ylabel='Frequency'>"
      ]
     },
     "execution_count": 47,
     "metadata": {},
     "output_type": "execute_result"
    },
    {
     "data": {
      "image/png": "[encoded data removed]",
      "text/plain": [
       "<Figure size 432x288 with 1 Axes>"
      ]
     },
     "metadata": {
      "needs_background": "light"
     },
     "output_type": "display_data"
    }
   ],
   "source": [
    "data_stat_refined.plot(kind='hist', y='city_center_nearest_km', grid=True, title='Расстояние до центра, км', bins=65)"
   ]
  },
  {
   "cell_type": "markdown",
   "metadata": {},
   "source": [
    "Подавляющее большинство квартир находятся в радиусе 10-18км от центра. Заметно меньше заселен радиус меньше 10км. Можем предположить, что со временем город растет, а исторический центр становится все менее заселенным.  \n",
    "Обратим внимание на максимумы за 20км зоной. Вероятно, это населенные пункты, окружающие областной центр."
   ]
  },
  {
   "cell_type": "code",
   "execution_count": 48,
   "metadata": {
    "scrolled": false
   },
   "outputs": [
    {
     "data": {
      "text/plain": [
       "<AxesSubplot:title={'center':'Расстояние до ближайшего аэропорта, км'}, ylabel='Frequency'>"
      ]
     },
     "execution_count": 48,
     "metadata": {},
     "output_type": "execute_result"
    },
    {
     "data": {
      "image/png": "[encoded data removed]",
      "text/plain": [
       "<Figure size 432x288 with 1 Axes>"
      ]
     },
     "metadata": {
      "needs_background": "light"
     },
     "output_type": "display_data"
    }
   ],
   "source": [
    "airports_nearest_km = data_stat_refined['airports_nearest'] / 1000\n",
    "airports_nearest_km.plot(kind='hist', grid=True, title='Расстояние до ближайшего аэропорта, км')"
   ]
  },
  {
   "cell_type": "markdown",
   "metadata": {},
   "source": [
    "Подавляющее большинство объектов недвижимости находятся в радиусе от 10 до 50км от аэропорта."
   ]
  },
  {
   "cell_type": "code",
   "execution_count": 49,
   "metadata": {
    "scrolled": false
   },
   "outputs": [
    {
     "data": {
      "text/plain": [
       "<AxesSubplot:title={'center':'Расстояние до парка, м'}, ylabel='Frequency'>"
      ]
     },
     "execution_count": 49,
     "metadata": {},
     "output_type": "execute_result"
    },
    {
     "data": {
      "image/png": "[encoded data removed]",
      "text/plain": [
       "<Figure size 432x288 with 1 Axes>"
      ]
     },
     "metadata": {
      "needs_background": "light"
     },
     "output_type": "display_data"
    }
   ],
   "source": [
    "data_stat_refined.plot(kind='hist', y='parks_nearest', grid=True, title='Расстояние до парка, м', bins=30)"
   ]
  },
  {
   "cell_type": "markdown",
   "metadata": {},
   "source": [
    "С т.з. урбанистики, парки и жилая застройка должны идти рука об руку. То же мы видим на гистограмме: абсолютное большинство объектов находятся в радиусе 100-750м от парка. \n",
    "##### День и месяц публикации объявления"
   ]
  },
  {
   "cell_type": "code",
   "execution_count": 50,
   "metadata": {},
   "outputs": [
    {
     "data": {
      "text/plain": [
       "<AxesSubplot:title={'center':'День публикации (0-пн...6-вс)'}, ylabel='Frequency'>"
      ]
     },
     "execution_count": 50,
     "metadata": {},
     "output_type": "execute_result"
    },
    {
     "data": {
      "image/png": "[encoded data removed]",
      "text/plain": [
       "<Figure size 432x288 with 1 Axes>"
      ]
     },
     "metadata": {
      "needs_background": "light"
     },
     "output_type": "display_data"
    }
   ],
   "source": [
    "data_stat_refined.plot(kind='hist', y='exp_day', grid=True, title='День публикации (0-пн...6-вс)', bins=6)"
   ]
  },
  {
   "cell_type": "markdown",
   "metadata": {},
   "source": [
    "Люди чаще публикуют объявления по вторникам и четвергам, немного реже - по понедельникам и средам. С пятницы наблюдаем спад активности, которая сходит на нет к воскресенью."
   ]
  },
  {
   "cell_type": "code",
   "execution_count": 51,
   "metadata": {},
   "outputs": [
    {
     "data": {
      "text/plain": [
       "<AxesSubplot:title={'center':'Месяц публикации (1-янв...12-дек)'}, ylabel='Frequency'>"
      ]
     },
     "execution_count": 51,
     "metadata": {},
     "output_type": "execute_result"
    },
    {
     "data": {
      "image/png": "[encoded data removed]",
      "text/plain": [
       "<Figure size 432x288 with 1 Axes>"
      ]
     },
     "metadata": {
      "needs_background": "light"
     },
     "output_type": "display_data"
    }
   ],
   "source": [
    "data_stat_refined.plot(kind='hist', y='exp_month', grid=True, title='Месяц публикации (1-янв...12-дек)', bins=11)"
   ]
  },
  {
   "cell_type": "markdown",
   "metadata": {},
   "source": [
    "В декабре активность пользователей - около нуля. Вероятно, в преддверии нового года, люди не хотят заниматься операциями с недвижимостью. Активность возобновляется в январе, переходя в локальный максимум в феврале и марте. Несколько снижается в апреле, демонстрируя локальный минимум в мае (начало дачного сезона?). С июня равномерно растет до октября и показывает абсолютный максимум в ноябре. Интересно, что в сезон отпусков, с июля по сентябрь, спада активности не наблюдается.\n",
    "\n",
    "#### Оценка длительности продаж\n",
    "Посмотрим на гистограмму, а так же численное описание столбца `days_exposition`. Этот параметр показывает, сколько дней было размещено каждое объявление. "
   ]
  },
  {
   "cell_type": "code",
   "execution_count": 52,
   "metadata": {},
   "outputs": [
    {
     "data": {
      "text/plain": [
       "count    10054.000000\n",
       "mean       184.349015\n",
       "std        220.779949\n",
       "min          1.000000\n",
       "25%         44.000000\n",
       "50%        103.000000\n",
       "75%        237.000000\n",
       "max       1580.000000\n",
       "Name: days_exposition, dtype: float64"
      ]
     },
     "execution_count": 52,
     "metadata": {},
     "output_type": "execute_result"
    },
    {
     "data": {
      "image/png": "[encoded data removed]",
      "text/plain": [
       "<Figure size 432x288 with 1 Axes>"
      ]
     },
     "metadata": {
      "needs_background": "light"
     },
     "output_type": "display_data"
    }
   ],
   "source": [
    "data_stat_refined.plot(kind='hist', y='days_exposition', grid=True, bins=80)\n",
    "data_stat_refined['days_exposition'].describe()"
   ]
  },
  {
   "cell_type": "markdown",
   "metadata": {},
   "source": [
    "Самое короткое размещение (min) составляет 1 день, самое длительное (max) 1580 дней. Среднее значение (mean = 184 дня) сильно выше медианного (median = 103 дня) из-за высоких значений самых долгих продаж.  \n",
    "Видно, что большинство продаж совершаются в течение 200 дней со дня размещения объявления.  \n",
    "Границы быстрых долгих продаж можно условно установить по первой (Q1 = 44 дня, быстрые продажи) и третьей (Q3 = 237, долгие продажи) квартилям. \n",
    "#### Влияние различных признаков на стоимость\n",
    "##### Общая и жилая площадь, площадь кухни"
   ]
  },
  {
   "cell_type": "code",
   "execution_count": 53,
   "metadata": {},
   "outputs": [
    {
     "data": {
      "text/plain": [
       "<AxesSubplot:title={'center':'Влияние площади кухни на стоимость жилья'}, xlabel='kitchen_area', ylabel='last_price'>"
      ]
     },
     "execution_count": 53,
     "metadata": {},
     "output_type": "execute_result"
    },
    {
     "data": {
      "image/png": "[encoded data removed]",
      "text/plain": [
       "<Figure size 432x288 with 1 Axes>"
      ]
     },
     "metadata": {
      "needs_background": "light"
     },
     "output_type": "display_data"
    },
    {
     "data": {
      "image/png": "[encoded data removed]",
      "text/plain": [
       "<Figure size 432x288 with 1 Axes>"
      ]
     },
     "metadata": {
      "needs_background": "light"
     },
     "output_type": "display_data"
    },
    {
     "data": {
      "image/png": "[encoded data removed]",
      "text/plain": [
       "<Figure size 432x288 with 1 Axes>"
      ]
     },
     "metadata": {
      "needs_background": "light"
     },
     "output_type": "display_data"
    }
   ],
   "source": [
    "data_stat_refined.plot(x='total_area', y='last_price', kind='scatter', alpha=0.3,\n",
    "                       title='Влияние общей площади на стоимость жилья')\n",
    "data_stat_refined.plot(x='living_area', y='last_price', kind='scatter', alpha=0.3, \n",
    "                       title='Влияние жилой площади на стоимость жилья')\n",
    "data_stat_refined.plot(x='kitchen_area', y='last_price', kind='scatter', alpha=0.3, \n",
    "                       title='Влияние площади кухни на стоимость жилья')"
   ]
  },
  {
   "cell_type": "markdown",
   "metadata": {},
   "source": [
    "Во всех трех случая видна положительная корреляция. Цена медленно растет вслед за увеличением площади. Меньше всего это проявлено в случае с площадью кухни. Вид зависимости близок к линейной, попробуем применить коэффициент Пирсона для оценки силы корреляции."
   ]
  },
  {
   "cell_type": "code",
   "execution_count": 54,
   "metadata": {},
   "outputs": [
    {
     "name": "stdout",
     "output_type": "stream",
     "text": [
      "Коэффициент Пирсона: \n",
      " - цена/общая площадь 0.684 \n",
      " - цена/жилая площадь 0.573 \n",
      " - цена/площадь кухни 0.491\n"
     ]
    }
   ],
   "source": [
    "print(\n",
    "    'Коэффициент Пирсона: \\n - цена/общая площадь', \n",
    "    data_stat_refined['last_price'].corr(data_stat_refined['total_area']).round(3),\n",
    "    '\\n - цена/жилая площадь',\n",
    "    data_stat_refined['last_price'].corr(data_stat_refined['living_area']).round(3),\n",
    "    '\\n - цена/площадь кухни',\n",
    "    data_stat_refined['last_price'].corr(data_stat_refined['kitchen_area']).round(3),\n",
    ")      "
   ]
  },
  {
   "cell_type": "markdown",
   "metadata": {},
   "source": [
    "Цена показывает наиболее сильную связь с общей и жилой площадью, что логично. Площадь кухни оказывает менее заметное, косвенное влияние.\n",
    "##### Количество комнат\n",
    "Строим сводную таблицу с группировкой по количеству комнат и медианным значением цены. Выбираем медиану, чтобы снизить влияние максимумов и минимумов. Зависимость проследим на столбчатой диаграмме."
   ]
  },
  {
   "cell_type": "code",
   "execution_count": 55,
   "metadata": {},
   "outputs": [
    {
     "data": {
      "text/plain": [
       "<AxesSubplot:xlabel='rooms'>"
      ]
     },
     "execution_count": 55,
     "metadata": {},
     "output_type": "execute_result"
    },
    {
     "data": {
      "image/png": "[encoded data removed]",
      "text/plain": [
       "<Figure size 432x288 with 1 Axes>"
      ]
     },
     "metadata": {
      "needs_background": "light"
     },
     "output_type": "display_data"
    }
   ],
   "source": [
    "price_by_rooms = data_stat_refined.pivot_table(index='rooms', values='last_price', aggfunc='median') \n",
    "price_by_rooms.plot(kind='bar')"
   ]
  },
  {
   "cell_type": "markdown",
   "metadata": {},
   "source": [
    "Наблюдаем практически линейный рост цены при увеличении количества комнат от 1 до 4. Между 4х и 5 комнатными квартирами  - небольшая разница стоимости в пользу последних. 6 комнатные квартиры показывают нелинейный рост в стоимости.  \n",
    "Данные наблюдения лишний раз подтверждают положительную корреляцию между стоимостью и общей площадью квартиры.\n",
    "#####  Категория этажа \n",
    "Строим сводную таблицу с группировкой по количеству комнат и медианным значением цены. Выбираем медиану, чтобы снизить влияние максимумов и минимумов. Зависимость проследим на столбчатой диаграмме."
   ]
  },
  {
   "cell_type": "code",
   "execution_count": 56,
   "metadata": {},
   "outputs": [
    {
     "data": {
      "text/plain": [
       "<AxesSubplot:xlabel='floor_cat'>"
      ]
     },
     "execution_count": 56,
     "metadata": {},
     "output_type": "execute_result"
    },
    {
     "data": {
      "image/png": "[encoded data removed]",
      "text/plain": [
       "<Figure size 432x288 with 1 Axes>"
      ]
     },
     "metadata": {
      "needs_background": "light"
     },
     "output_type": "display_data"
    }
   ],
   "source": [
    "price_by_floor_cat = data_stat_refined.pivot_table(index='floor_cat', values='last_price', aggfunc='median')\n",
    "price_by_floor_cat.plot(kind='bar')"
   ]
  },
  {
   "cell_type": "markdown",
   "metadata": {},
   "source": [
    "Несмотря на небольшую разницу в медианных ценах, можно утверждать, что в общем случае квартиры на последнем этаже дороже, чем на первом. А квартиры на других этажах дороже, чем на последнем.\n",
    "##### Дата размещения (день недели, месяц, год)\n",
    "Строим сводную таблицу с группировкой дню недели, месяцу или году и медианным значением цены. Выбираем медиану, чтобы снизить влияние максимумов и минимумов. Зависимость проследим на столбчатой диаграмме."
   ]
  },
  {
   "cell_type": "code",
   "execution_count": 57,
   "metadata": {},
   "outputs": [
    {
     "data": {
      "text/plain": [
       "<AxesSubplot:title={'center':'Влияние года размещения на стоимость жилья'}, xlabel='exp_year'>"
      ]
     },
     "execution_count": 57,
     "metadata": {},
     "output_type": "execute_result"
    },
    {
     "data": {
      "image/png": "[encoded data removed]",
      "text/plain": [
       "<Figure size 432x288 with 1 Axes>"
      ]
     },
     "metadata": {
      "needs_background": "light"
     },
     "output_type": "display_data"
    },
    {
     "data": {
      "image/png": "[encoded data removed]",
      "text/plain": [
       "<Figure size 432x288 with 1 Axes>"
      ]
     },
     "metadata": {
      "needs_background": "light"
     },
     "output_type": "display_data"
    },
    {
     "data": {
      "image/png": "[encoded data removed]",
      "text/plain": [
       "<Figure size 432x288 with 1 Axes>"
      ]
     },
     "metadata": {
      "needs_background": "light"
     },
     "output_type": "display_data"
    }
   ],
   "source": [
    "price_by_exp_day = data_stat_refined.pivot_table(index='exp_day', values='last_price', aggfunc='median')\n",
    "price_by_exp_month = data_stat_refined.pivot_table(index='exp_month', values='last_price', aggfunc='median')\n",
    "price_by_exp_year = data_stat_refined.pivot_table(index='exp_year', values='last_price', aggfunc='median')\n",
    "price_by_exp_day.plot(kind='bar', title='Влияние дня размещения на стоимость жилья')\n",
    "price_by_exp_month.plot(kind='bar', title='Влияние месяца размещения на стоимость жилья')\n",
    "price_by_exp_year.plot(kind='bar', title='Влияние года размещения на стоимость жилья')"
   ]
  },
  {
   "cell_type": "markdown",
   "metadata": {},
   "source": [
    "День и месяц размещения почти не влияют на стоимость объекта, чего нельзя сказать о годе. Здесь диаграмма показывает квадратичную зависимость с минимумом в 2017 году. Т.е. с 2014 по 2017 стоимость квартир падала, а с 2017 по 2019 росла практически симметрично. \n",
    "#### Средняя цена квадратного метра\n",
    "##### Максимальная и минимальная\n",
    "Опередлим населённые пункты с самой высокой и низкой средней стоимостью квадратного метра."
   ]
  },
  {
   "cell_type": "code",
   "execution_count": 58,
   "metadata": {},
   "outputs": [
    {
     "data": {
      "text/html": [
       "<div>\n",
       "<style scoped>\n",
       "    .dataframe tbody tr th:only-of-type {\n",
       "        vertical-align: middle;\n",
       "    }\n",
       "\n",
       "    .dataframe tbody tr th {\n",
       "        vertical-align: top;\n",
       "    }\n",
       "\n",
       "    .dataframe thead th {\n",
       "        text-align: right;\n",
       "    }\n",
       "</style>\n",
       "<table border=\"1\" class=\"dataframe\">\n",
       "  <thead>\n",
       "    <tr style=\"text-align: right;\">\n",
       "      <th></th>\n",
       "      <th>ads_count</th>\n",
       "      <th>price_for_m2_mean</th>\n",
       "    </tr>\n",
       "    <tr>\n",
       "      <th>locality_name</th>\n",
       "      <th></th>\n",
       "      <th></th>\n",
       "    </tr>\n",
       "  </thead>\n",
       "  <tbody>\n",
       "    <tr>\n",
       "      <th>п. Совхозный</th>\n",
       "      <td>1</td>\n",
       "      <td>12556.0</td>\n",
       "    </tr>\n",
       "    <tr>\n",
       "      <th>Санкт-Петербург</th>\n",
       "      <td>8193</td>\n",
       "      <td>109293.0</td>\n",
       "    </tr>\n",
       "  </tbody>\n",
       "</table>\n",
       "</div>"
      ],
      "text/plain": [
       "                 ads_count  price_for_m2_mean\n",
       "locality_name                                \n",
       "п. Совхозный             1            12556.0\n",
       "Санкт-Петербург       8193           109293.0"
      ]
     },
     "execution_count": 58,
     "metadata": {},
     "output_type": "execute_result"
    }
   ],
   "source": [
    "#Строим сводную таблицу с группировкой по населенным пунктам, \n",
    "#в качестве значений берем количество объявлений и среднюю цену м2\n",
    "price_for_m2_mean = data_stat_refined.pivot_table(index='locality_name', values='price_for_m2', aggfunc=['count', 'mean'])\n",
    "#Даем столбцам более понятные назвения и округляем цены до целых\n",
    "price_for_m2_mean.columns = ['ads_count', 'price_for_m2_mean']\n",
    "price_for_m2_mean['price_for_m2_mean'] = price_for_m2_mean['price_for_m2_mean'].round()\n",
    "#Выводим населённые пункты с самой высокой и низкой стоимостью квадратного метра\n",
    "condition = 'price_for_m2_mean in [price_for_m2_mean.max(), price_for_m2_mean.min()]'\n",
    "price_for_m2_mean.query(condition).sort_values('price_for_m2_mean')"
   ]
  },
  {
   "cell_type": "markdown",
   "metadata": {},
   "source": [
    "Максимальная средняя стоимость наблюдается в Санкт-Петербурге (109293.0 руб/м2), она почти в 9 раз выше минимальной, наблюдаемой в п. Совхозный (12556.0 руб/м2).\n",
    "##### В наиболее активных населенных пунктах\n",
    "Рассчитаем среднюю цену одного квадратного метра для 10 населённых пунктов с наибольшим числом объявлений."
   ]
  },
  {
   "cell_type": "code",
   "execution_count": 59,
   "metadata": {},
   "outputs": [
    {
     "data": {
      "text/html": [
       "<div>\n",
       "<style scoped>\n",
       "    .dataframe tbody tr th:only-of-type {\n",
       "        vertical-align: middle;\n",
       "    }\n",
       "\n",
       "    .dataframe tbody tr th {\n",
       "        vertical-align: top;\n",
       "    }\n",
       "\n",
       "    .dataframe thead th {\n",
       "        text-align: right;\n",
       "    }\n",
       "</style>\n",
       "<table border=\"1\" class=\"dataframe\">\n",
       "  <thead>\n",
       "    <tr style=\"text-align: right;\">\n",
       "      <th></th>\n",
       "      <th>ads_count</th>\n",
       "      <th>price_for_m2_mean</th>\n",
       "    </tr>\n",
       "    <tr>\n",
       "      <th>locality_name</th>\n",
       "      <th></th>\n",
       "      <th></th>\n",
       "    </tr>\n",
       "  </thead>\n",
       "  <tbody>\n",
       "    <tr>\n",
       "      <th>Санкт-Петербург</th>\n",
       "      <td>8193</td>\n",
       "      <td>109293.0</td>\n",
       "    </tr>\n",
       "    <tr>\n",
       "      <th>Всеволожск</th>\n",
       "      <td>237</td>\n",
       "      <td>67339.0</td>\n",
       "    </tr>\n",
       "    <tr>\n",
       "      <th>п. Шушары</th>\n",
       "      <td>197</td>\n",
       "      <td>79485.0</td>\n",
       "    </tr>\n",
       "    <tr>\n",
       "      <th>Пушкин</th>\n",
       "      <td>193</td>\n",
       "      <td>101127.0</td>\n",
       "    </tr>\n",
       "    <tr>\n",
       "      <th>Колпино</th>\n",
       "      <td>187</td>\n",
       "      <td>75836.0</td>\n",
       "    </tr>\n",
       "    <tr>\n",
       "      <th>п. Мурино</th>\n",
       "      <td>182</td>\n",
       "      <td>86385.0</td>\n",
       "    </tr>\n",
       "    <tr>\n",
       "      <th>Петергоф</th>\n",
       "      <td>132</td>\n",
       "      <td>83824.0</td>\n",
       "    </tr>\n",
       "    <tr>\n",
       "      <th>п. Парголово</th>\n",
       "      <td>130</td>\n",
       "      <td>91177.0</td>\n",
       "    </tr>\n",
       "    <tr>\n",
       "      <th>Гатчина</th>\n",
       "      <td>128</td>\n",
       "      <td>69655.0</td>\n",
       "    </tr>\n",
       "    <tr>\n",
       "      <th>Сестрорецк</th>\n",
       "      <td>105</td>\n",
       "      <td>102331.0</td>\n",
       "    </tr>\n",
       "  </tbody>\n",
       "</table>\n",
       "</div>"
      ],
      "text/plain": [
       "                 ads_count  price_for_m2_mean\n",
       "locality_name                                \n",
       "Санкт-Петербург       8193           109293.0\n",
       "Всеволожск             237            67339.0\n",
       "п. Шушары              197            79485.0\n",
       "Пушкин                 193           101127.0\n",
       "Колпино                187            75836.0\n",
       "п. Мурино              182            86385.0\n",
       "Петергоф               132            83824.0\n",
       "п. Парголово           130            91177.0\n",
       "Гатчина                128            69655.0\n",
       "Сестрорецк             105           102331.0"
      ]
     },
     "execution_count": 59,
     "metadata": {},
     "output_type": "execute_result"
    },
    {
     "data": {
      "image/png": "[encoded data removed]",
      "text/plain": [
       "<Figure size 432x288 with 1 Axes>"
      ]
     },
     "metadata": {
      "needs_background": "light"
     },
     "output_type": "display_data"
    }
   ],
   "source": [
    "#Выделяем таблицу из 10 лидеров по количеству объявлений,\n",
    "#выводим ее на экран вместе со столбчатой диаграммой\n",
    "top_10_by_ads = price_for_m2_mean.sort_values('ads_count', ascending=False)[:10]\n",
    "top_10_by_ads['price_for_m2_mean'].plot(kind='bar', title='Средняя цена м2 в топ-10 по количеству объявлений')\n",
    "top_10_by_ads"
   ]
  },
  {
   "cell_type": "markdown",
   "metadata": {},
   "source": [
    "По средней стоимости квадратного метра среди 10 неиболее активных населенных пунктов лидирует Санкт-Петербург, второе место делят Пушкин и Сестрорецк. На третьем - п. Парголово.\n",
    "##### В СПб  в зависимости от расстояния до центра\n",
    "Выделим объявления в Санкт-Петербурге и рассчитаем среднюю цену квадратного метра для каждого километра удаления от центра города. Зависимость покажем на диаграмме рассеяния."
   ]
  },
  {
   "cell_type": "code",
   "execution_count": 60,
   "metadata": {},
   "outputs": [
    {
     "data": {
      "text/plain": [
       "<AxesSubplot:xlabel='distance_to_center_km', ylabel='price_for_m2_mean'>"
      ]
     },
     "execution_count": 60,
     "metadata": {},
     "output_type": "execute_result"
    },
    {
     "data": {
      "image/png": "[encoded data removed]",
      "text/plain": [
       "<Figure size 432x288 with 1 Axes>"
      ]
     },
     "metadata": {
      "needs_background": "light"
     },
     "output_type": "display_data"
    }
   ],
   "source": [
    "spb_price_by_center_km = data_stat_refined.query('locality_name == \"Санкт-Петербург\"').groupby('city_center_nearest_km')\n",
    "distance = []\n",
    "price = []\n",
    "for name, data in spb_price_by_center_km:\n",
    "    distance.append(name)\n",
    "    price.append(data['price_for_m2'].mean().round())    \n",
    "spb_price_by_center_km = pd.DataFrame({'distance_to_center_km' : distance, 'price_for_m2_mean' : price})\n",
    "spb_price_by_center_km.plot(kind='scatter', x='distance_to_center_km', y='price_for_m2_mean', grid=True)"
   ]
  },
  {
   "cell_type": "markdown",
   "metadata": {},
   "source": [
    "Видим отрицательную линейную корреляцию с заметным разбросом значений в диапазонах 0-5км и 25-30км. Такая картина подтверждает гипотезу: чем дальше от центра, тем ниже стоимость квадратного метра. Вероятно, разброс объясняется малым количеством объявлений для данного километра и/или наличием экстремально низких или высоких значений цены в этих объявлениях.  \n",
    "Рассчитаем коэффициент Пирсона. "
   ]
  },
  {
   "cell_type": "code",
   "execution_count": 61,
   "metadata": {},
   "outputs": [
    {
     "name": "stdout",
     "output_type": "stream",
     "text": [
      "Коэффициент Пирсона равен -0.932\n"
     ]
    }
   ],
   "source": [
    "print(\n",
    "    'Коэффициент Пирсона равен',\n",
    "    spb_price_by_center_km['price_for_m2_mean'].corr(spb_price_by_center_km['distance_to_center_km']).round(3))"
   ]
  },
  {
   "cell_type": "markdown",
   "metadata": {},
   "source": [
    "Значение коэффициента говорит о сильной отрицательной зависимости."
   ]
  },
  {
   "cell_type": "markdown",
   "metadata": {},
   "source": [
    "### Общий вывод\n",
    "В ходе предобработки данных были: \n",
    " - переименованы столбцы (см. [2.1](#%D0%9F%D0%B5%D1%80%D0%B5%D0%B8%D0%BC%D0%B5%D0%BD%D0%BE%D0%B2%D0%B0%D0%BD%D0%B8%D0%B5-%D1%81%D1%82%D0%BE%D0%BB%D0%B1%D1%86%D0%BE%D0%B2))\n",
    " - устранены неявные дубликаты (см. [2.2](#%D0%A0%D0%B0%D0%B1%D0%BE%D1%82%D0%B0-%D1%81-%D0%B4%D1%83%D0%B1%D0%BB%D0%B8%D0%BA%D0%B0%D1%82%D0%B0%D0%BC%D0%B8)),\n",
    " - частично заполнены пропуски (см. [2.3](#%D0%A0%D0%B0%D0%B1%D0%BE%D1%82%D0%B0-%D1%81-%D0%BF%D1%80%D0%BE%D0%BF%D1%83%D1%81%D0%BA%D0%B0%D0%BC%D0%B8)),\n",
    " - скорректированы типы данных (см. [2.4](#%D0%A0%D0%B0%D0%B1%D0%BE%D1%82%D0%B0-%D1%81-%D1%82%D0%B8%D0%BF%D0%B0%D0%BC%D0%B8-%D0%B4%D0%B0%D0%BD%D0%BD%D1%8B%D1%85)),\n",
    " - обработаны аномальные значения (см. [2.5](#%D0%A0%D0%B0%D0%B1%D0%BE%D1%82%D0%B0-%D1%81-%D0%B0%D0%BD%D0%BE%D0%BC%D0%B0%D0%BB%D1%8C%D0%BD%D1%8B%D0%BC%D0%B8-%D0%B7%D0%BD%D0%B0%D1%87%D0%B5%D0%BD%D0%B8%D1%8F%D0%BC%D0%B8)).\n",
    " \n",
    "В исходных данных обнаружено множество пропусков, которые невозможно заполнить. Это касается как пользовательской, так и картографической части. Кроме того, характер пропусков в картографических данных, говорит об алгоритмической ошибке при объединении и является поводом для bug report'a (см. [2.3.2](#%D0%91%D0%BB%D0%B8%D0%B6%D0%B0%D0%B9%D1%88%D0%B8%D0%B5-%D0%BF%D0%B0%D1%80%D0%BA%D0%B8,-%D0%BF%D1%80%D1%83%D0%B4%D1%8B,-%D0%B0%D1%8D%D1%80%D0%BE%D0%BF%D0%BE%D1%80%D1%82%D1%8B-%D0%B8-%D1%86%D0%B5%D0%BD%D1%82%D1%80-%D0%B3%D0%BE%D1%80%D0%BE%D0%B4%D0%B0)).  \n",
    "Так же обнаружено множество аномальных значений, которые как правило, можно объяснить ошибками пользователей.\n",
    "\n",
    "\n",
    "Для проведения исследований были добавлены новые признаки:\n",
    "- цена квадратного метра (см. [3.1](#%D0%A6%D0%B5%D0%BD%D0%B0-%D0%BA%D0%B2%D0%B0%D0%B4%D1%80%D0%B0%D1%82%D0%BD%D0%BE%D0%B3%D0%BE-%D0%BC%D0%B5%D1%82%D1%80%D0%B0)),\n",
    "- день недели, месяц и год публикации объявления (см. [3.2](#%D0%94%D0%B5%D0%BD%D1%8C,-%D0%BC%D0%B5%D1%81%D1%8F%D1%86-%D0%B8-%D0%B3%D0%BE%D0%B4-%D0%BF%D1%83%D0%B1%D0%BB%D0%B8%D0%BA%D0%B0%D1%86%D0%B8%D0%B8-%D0%BE%D0%B1%D1%8A%D1%8F%D0%B2%D0%BB%D0%B5%D0%BD%D0%B8%D1%8F)),\n",
    "- категория этажа (см. [3.3](#%D0%9A%D0%B0%D1%82%D0%B5%D0%B3%D0%BE%D1%80%D0%B8%D0%B7%D0%B0%D1%86%D0%B8%D1%8F-%D1%8D%D1%82%D0%B0%D0%B6%D0%B0)),\n",
    "- дистанция до центра в км (см. [3.4](#%D0%A0%D0%B0%D1%81%D1%81%D1%82%D0%BE%D1%8F%D0%BD%D0%B8%D0%B5-%D0%B4%D0%BE-%D1%86%D0%B5%D0%BD%D1%82%D1%80%D0%B0-%D0%B2-%D0%BA%D0%BC)).\n",
    "\n",
    "\n",
    "В ходе исследований было показано следующее:\n",
    "- основная масса жилья имеет общую площадь в пределах от 30 до 75м2, жилую - от 16 до 50м2, площадь кухни - 5-12м2 (см. [4.1.1](#%D0%9F%D0%BB%D0%BE%D1%89%D0%B0%D0%B4%D1%8C:-%D0%BE%D0%B1%D1%89%D0%B0%D1%8F,-%D0%B6%D0%B8%D0%BB%D0%B0%D1%8F,-%D0%BA%D1%83%D1%85%D0%BD%D0%B8));\n",
    "- большинство квартир имеют цену от 3 до 5 млн.руб (см. [4.1.2](#%D0%A6%D0%B5%D0%BD%D0%B0-%D0%BE%D0%B1%D1%8A%D0%B5%D0%BA%D1%82%D0%B0)); \n",
    "- подавляющее большинство квартир - 1 и 2 комнатные, заметно меньше 3 комнатных. 4 и 5 комнатные квартиры составляют абсолютное меньшинство (см. [4.1.3](#%D0%9A%D0%BE%D0%BB%D0%B8%D1%87%D0%B5%D1%81%D1%82%D0%B2%D0%BE-%D0%BA%D0%BE%D0%BC%D0%BD%D0%B0%D1%82));\n",
    "- типичная высота потолка находится в промежутке 2,4-2,75м, меньшая, но все же заметная, доля приходится на интервал 2,75-3,2м (см. [4.1.4](#%D0%92%D1%8B%D1%81%D0%BE%D1%82%D0%B0-%D0%BF%D0%BE%D1%82%D0%BE%D0%BB%D0%BA%D0%BE%D0%B2));\n",
    "- абсолютное большинство собственников предпочитают селиться не выше 6 этажа. Наиболее распространены 5 и 9-10 этажные дома. Почти 75% собственников живут между первым и последним этажами (см. [4.1.5](#%D0%AD%D1%82%D0%B0%D0%B6,-%D1%82%D0%B8%D0%BF-%D1%8D%D1%82%D0%B0%D0%B6%D0%B0-%D0%B8-%D0%BE%D0%B1%D1%89%D0%B5%D0%B5-%D0%BA%D0%BE%D0%BB%D0%B8%D1%87%D0%B5%D1%81%D1%82%D0%B2%D0%BE-%D1%8D%D1%82%D0%B0%D0%B6%D0%B5%D0%B9-%D0%B2-%D0%B4%D0%BE%D0%BC%D0%B5));\n",
    "- подавляющее большинство квартир находятся в радиусе 10-18км от центра, 10-50км от аэропорта и 100-750м от парка (см. [4.1.6](#%D0%A0%D0%B0%D1%81%D1%81%D1%82%D0%BE%D1%8F%D0%BD%D0%B8%D0%B5-%D0%B4%D0%BE-%D1%86%D0%B5%D0%BD%D1%82%D1%80%D0%B0,-%D0%B1%D0%BB%D0%B8%D0%B6%D0%B0%D0%B9%D1%88%D0%B5%D0%B3%D0%BE-%D0%B0%D1%8D%D1%80%D0%BE%D0%BF%D0%BE%D1%80%D1%82%D0%B0-%D0%B8-%D0%BF%D0%B0%D1%80%D0%BA%D0%B0));\n",
    "- в основном объявления публикуют с понедельника по четверг. С пятницы наблюдаеется спад активности, которая сходит на нет к воскресенью (см. [4.1.7](#%D0%94%D0%B5%D0%BD%D1%8C-%D0%B8-%D0%BC%D0%B5%D1%81%D1%8F%D1%86-%D0%BF%D1%83%D0%B1%D0%BB%D0%B8%D0%BA%D0%B0%D1%86%D0%B8%D0%B8-%D0%BE%D0%B1%D1%8A%D1%8F%D0%B2%D0%BB%D0%B5%D0%BD%D0%B8%D1%8F));\n",
    "- в декабре активность пользователей - около нуля, абсолютный максимум - в ноябре. Лоакльный максимум в феврале и марте, локальный минимум - в мае (см. [4.1.7](#%D0%94%D0%B5%D0%BD%D1%8C-%D0%B8-%D0%BC%D0%B5%D1%81%D1%8F%D1%86-%D0%BF%D1%83%D0%B1%D0%BB%D0%B8%D0%BA%D0%B0%D1%86%D0%B8%D0%B8-%D0%BE%D0%B1%D1%8A%D1%8F%D0%B2%D0%BB%D0%B5%D0%BD%D0%B8%D1%8F));\n",
    "- большинство продаж совершаются в течение 200 дней со дня размещения объявления (см. [4.2](#%D0%9E%D1%86%D0%B5%D0%BD%D0%BA%D0%B0-%D0%B4%D0%BB%D0%B8%D1%82%D0%B5%D0%BB%D1%8C%D0%BD%D0%BE%D1%81%D1%82%D0%B8-%D0%BF%D1%80%D0%BE%D0%B4%D0%B0%D0%B6));\n",
    "- цена квартиры растет с увеличением общей площади (см. [4.3.1](#%D0%9E%D0%B1%D1%89%D0%B0%D1%8F-%D0%B8-%D0%B6%D0%B8%D0%BB%D0%B0%D1%8F-%D0%BF%D0%BB%D0%BE%D1%89%D0%B0%D0%B4%D1%8C,-%D0%BF%D0%BB%D0%BE%D1%89%D0%B0%D0%B4%D1%8C-%D0%BA%D1%83%D1%85%D0%BD%D0%B8)), что подтверждается похожим ростом стоимости с увеличением количества комнат (см. [4.3.2](#%D0%9A%D0%BE%D0%BB%D0%B8%D1%87%D0%B5%D1%81%D1%82%D0%B2%D0%BE-%D0%BA%D0%BE%D0%BC%D0%BD%D0%B0%D1%82));\n",
    "- квартиры на \"последних\" этажах несколько дороже, чем на \"первых\". А квартиры на \"других\" немного дороже, чем на \"последних\" (см. [4.3.3](#%D0%9A%D0%B0%D1%82%D0%B5%D0%B3%D0%BE%D1%80%D0%B8%D1%8F-%D1%8D%D1%82%D0%B0%D0%B6%D0%B0));\n",
    "- день и месяц объявления почти не влияют на стоимость квартиры. В разрезе по годам заметен волнообразный тренд (см. [4.3.4](#%D0%94%D0%B0%D1%82%D0%B0-%D1%80%D0%B0%D0%B7%D0%BC%D0%B5%D1%89%D0%B5%D0%BD%D0%B8%D1%8F-(%D0%B4%D0%B5%D0%BD%D1%8C-%D0%BD%D0%B5%D0%B4%D0%B5%D0%BB%D0%B8,-%D0%BC%D0%B5%D1%81%D1%8F%D1%86,-%D0%B3%D0%BE%D0%B4)));\n",
    "- максимальная средняя цена м2 - в Санкт-Петербурге (109293.0 руб/м2), минимальная - в п. Совхозный (12556.0 руб/м2) (см. [4.4.1](#%D0%9C%D0%B0%D0%BA%D1%81%D0%B8%D0%BC%D0%B0%D0%BB%D1%8C%D0%BD%D0%B0%D1%8F-%D0%B8-%D0%BC%D0%B8%D0%BD%D0%B8%D0%BC%D0%B0%D0%BB%D1%8C%D0%BD%D0%B0%D1%8F));\n",
    "- топ-3 по средней стоимости м2 среди 10 населенных пунктов с наибольшим количеством объявлений: Санкт-Петербург, Пушкин и Сестрорецк, п. Парголово (см. [4.4.2](#%D0%92-%D0%BD%D0%B0%D0%B8%D0%B1%D0%BE%D0%BB%D0%B5%D0%B5-%D0%B0%D0%BA%D1%82%D0%B8%D0%B2%D0%BD%D1%8B%D1%85-%D0%BD%D0%B0%D1%81%D0%B5%D0%BB%D0%B5%D0%BD%D0%BD%D1%8B%D1%85-%D0%BF%D1%83%D0%BD%D0%BA%D1%82%D0%B0%D1%85));\n",
    "- на примере Санкт-Петербурга подтверждена гипотеза: чем дальше от центра, тем ниже средняя стоимость квадратного метра (см [4.4.3](#%D0%92-%D0%A1%D0%9F%D0%B1--%D0%B2-%D0%B7%D0%B0%D0%B2%D0%B8%D1%81%D0%B8%D0%BC%D0%BE%D1%81%D1%82%D0%B8-%D0%BE%D1%82-%D1%80%D0%B0%D1%81%D1%81%D1%82%D0%BE%D1%8F%D0%BD%D0%B8%D1%8F-%D0%B4%D0%BE-%D1%86%D0%B5%D0%BD%D1%82%D1%80%D0%B0))\n",
    "\n",
    "Обобщающие заключения:\n",
    "- среди рассмотренных признаков общая площадь и удаленность жилья от центра оказывают самое сильное влияние на цену квадратного метра;\n",
    "- как правило, в городах стоимость квадратного метра выше, чем в поселках;\n",
    "- в ходе предобработки мы сделали множество допущений из-за пропусков и различных ошибок в исходных данных. На этапе построения модели, это может отрицательно сказаться на ее предсказательной способности. Т.о., для реализации модели, необходимо использовать более точные данные."
   ]
  }
 ],
 "metadata": {
  "ExecuteTimeLog": [
   {
    "duration": 555,
    "start_time": "2023-01-23T07:09:57.831Z"
   },
   {
    "duration": 117,
    "start_time": "2023-01-23T07:10:12.546Z"
   },
   {
    "duration": 102,
    "start_time": "2023-01-23T07:13:37.053Z"
   },
   {
    "duration": 115,
    "start_time": "2023-01-23T07:17:59.781Z"
   },
   {
    "duration": 24,
    "start_time": "2023-01-23T07:20:19.742Z"
   },
   {
    "duration": 2224,
    "start_time": "2023-01-23T07:22:23.981Z"
   },
   {
    "duration": 2342,
    "start_time": "2023-01-23T07:23:01.080Z"
   },
   {
    "duration": 2413,
    "start_time": "2023-01-23T07:23:09.321Z"
   },
   {
    "duration": 80,
    "start_time": "2023-01-23T07:23:37.867Z"
   },
   {
    "duration": 2184,
    "start_time": "2023-01-23T07:23:43.134Z"
   },
   {
    "duration": 48,
    "start_time": "2023-01-23T07:33:22.673Z"
   },
   {
    "duration": 43,
    "start_time": "2023-01-23T07:36:40.032Z"
   },
   {
    "duration": 571,
    "start_time": "2023-01-23T07:37:09.093Z"
   },
   {
    "duration": 28,
    "start_time": "2023-01-23T07:37:09.667Z"
   },
   {
    "duration": 90,
    "start_time": "2023-01-23T07:37:09.697Z"
   },
   {
    "duration": 2829,
    "start_time": "2023-01-23T07:37:09.790Z"
   },
   {
    "duration": 526,
    "start_time": "2023-01-23T07:37:56.002Z"
   },
   {
    "duration": 18,
    "start_time": "2023-01-23T07:37:56.530Z"
   },
   {
    "duration": 47,
    "start_time": "2023-01-23T07:37:56.549Z"
   },
   {
    "duration": 2584,
    "start_time": "2023-01-23T07:37:56.598Z"
   },
   {
    "duration": 561,
    "start_time": "2023-01-23T07:45:11.258Z"
   },
   {
    "duration": 20,
    "start_time": "2023-01-23T07:45:11.821Z"
   },
   {
    "duration": 56,
    "start_time": "2023-01-23T07:45:11.843Z"
   },
   {
    "duration": 2553,
    "start_time": "2023-01-23T07:45:11.901Z"
   },
   {
    "duration": 31,
    "start_time": "2023-01-23T07:58:21.183Z"
   },
   {
    "duration": 29,
    "start_time": "2023-01-23T07:58:32.140Z"
   },
   {
    "duration": 7,
    "start_time": "2023-01-23T07:59:06.105Z"
   },
   {
    "duration": 6,
    "start_time": "2023-01-23T07:59:19.110Z"
   },
   {
    "duration": 541,
    "start_time": "2023-01-23T07:59:29.236Z"
   },
   {
    "duration": 24,
    "start_time": "2023-01-23T07:59:29.779Z"
   },
   {
    "duration": 48,
    "start_time": "2023-01-23T07:59:29.805Z"
   },
   {
    "duration": 2615,
    "start_time": "2023-01-23T07:59:29.855Z"
   },
   {
    "duration": 11,
    "start_time": "2023-01-23T07:59:32.472Z"
   },
   {
    "duration": 6,
    "start_time": "2023-01-23T07:59:45.405Z"
   },
   {
    "duration": 11,
    "start_time": "2023-01-23T08:02:28.341Z"
   },
   {
    "duration": 5,
    "start_time": "2023-01-23T08:03:31.033Z"
   },
   {
    "duration": 5,
    "start_time": "2023-01-23T08:03:32.916Z"
   },
   {
    "duration": 30,
    "start_time": "2023-01-23T08:16:42.975Z"
   },
   {
    "duration": 27,
    "start_time": "2023-01-23T08:18:02.673Z"
   },
   {
    "duration": 27,
    "start_time": "2023-01-23T08:18:11.423Z"
   },
   {
    "duration": 15,
    "start_time": "2023-01-23T08:18:24.456Z"
   },
   {
    "duration": 54,
    "start_time": "2023-01-23T08:22:47.414Z"
   },
   {
    "duration": 7,
    "start_time": "2023-01-23T08:23:22.558Z"
   },
   {
    "duration": 126,
    "start_time": "2023-01-23T08:26:09.814Z"
   },
   {
    "duration": 12,
    "start_time": "2023-01-23T08:26:20.713Z"
   },
   {
    "duration": 37,
    "start_time": "2023-01-23T08:26:28.107Z"
   },
   {
    "duration": 41,
    "start_time": "2023-01-23T08:26:36.768Z"
   },
   {
    "duration": 35,
    "start_time": "2023-01-23T08:27:02.056Z"
   },
   {
    "duration": 34,
    "start_time": "2023-01-23T08:27:06.086Z"
   },
   {
    "duration": 34,
    "start_time": "2023-01-23T08:33:44.134Z"
   },
   {
    "duration": 8,
    "start_time": "2023-01-23T08:36:20.388Z"
   },
   {
    "duration": 4,
    "start_time": "2023-01-23T08:42:36.411Z"
   },
   {
    "duration": 10,
    "start_time": "2023-01-23T08:42:44.161Z"
   },
   {
    "duration": 5,
    "start_time": "2023-01-23T08:42:57.361Z"
   },
   {
    "duration": 5,
    "start_time": "2023-01-23T08:43:04.272Z"
   },
   {
    "duration": 13,
    "start_time": "2023-01-23T08:47:37.076Z"
   },
   {
    "duration": 10,
    "start_time": "2023-01-23T08:48:48.437Z"
   },
   {
    "duration": 10,
    "start_time": "2023-01-23T08:52:38.698Z"
   },
   {
    "duration": 21,
    "start_time": "2023-01-23T08:53:02.904Z"
   },
   {
    "duration": 13,
    "start_time": "2023-01-23T08:55:37.997Z"
   },
   {
    "duration": 41,
    "start_time": "2023-01-23T09:09:35.426Z"
   },
   {
    "duration": 11,
    "start_time": "2023-01-23T09:09:58.370Z"
   },
   {
    "duration": 40,
    "start_time": "2023-01-23T09:10:38.115Z"
   },
   {
    "duration": 40,
    "start_time": "2023-01-23T09:15:31.699Z"
   },
   {
    "duration": 51,
    "start_time": "2023-01-23T09:16:09.798Z"
   },
   {
    "duration": 10,
    "start_time": "2023-01-23T09:16:16.671Z"
   },
   {
    "duration": 4,
    "start_time": "2023-01-23T09:23:01.447Z"
   },
   {
    "duration": 7,
    "start_time": "2023-01-23T09:23:56.064Z"
   },
   {
    "duration": 10,
    "start_time": "2023-01-23T09:24:53.424Z"
   },
   {
    "duration": 5,
    "start_time": "2023-01-23T09:30:12.931Z"
   },
   {
    "duration": 4,
    "start_time": "2023-01-23T09:30:16.967Z"
   },
   {
    "duration": 11,
    "start_time": "2023-01-23T09:31:27.645Z"
   },
   {
    "duration": 7,
    "start_time": "2023-01-23T09:39:23.085Z"
   },
   {
    "duration": 11,
    "start_time": "2023-01-23T09:40:29.323Z"
   },
   {
    "duration": 9,
    "start_time": "2023-01-23T09:42:08.060Z"
   },
   {
    "duration": 10,
    "start_time": "2023-01-23T09:43:48.145Z"
   },
   {
    "duration": 17,
    "start_time": "2023-01-23T09:44:25.085Z"
   },
   {
    "duration": 9,
    "start_time": "2023-01-23T09:45:12.342Z"
   },
   {
    "duration": 11,
    "start_time": "2023-01-23T09:48:00.681Z"
   },
   {
    "duration": 12,
    "start_time": "2023-01-23T09:49:02.726Z"
   },
   {
    "duration": 957,
    "start_time": "2023-01-23T09:51:02.998Z"
   },
   {
    "duration": 22,
    "start_time": "2023-01-23T09:51:18.948Z"
   },
   {
    "duration": 24,
    "start_time": "2023-01-23T10:41:23.563Z"
   },
   {
    "duration": 22,
    "start_time": "2023-01-23T11:01:09.411Z"
   },
   {
    "duration": 1046,
    "start_time": "2023-01-23T11:08:18.818Z"
   },
   {
    "duration": 834,
    "start_time": "2023-01-23T11:10:16.405Z"
   },
   {
    "duration": 57,
    "start_time": "2023-01-24T06:23:59.819Z"
   },
   {
    "duration": 41,
    "start_time": "2023-01-24T06:24:06.625Z"
   },
   {
    "duration": 518,
    "start_time": "2023-01-24T06:24:13.195Z"
   },
   {
    "duration": 14,
    "start_time": "2023-01-24T06:24:13.715Z"
   },
   {
    "duration": 36,
    "start_time": "2023-01-24T06:24:13.732Z"
   },
   {
    "duration": 2263,
    "start_time": "2023-01-24T06:24:13.770Z"
   },
   {
    "duration": 6,
    "start_time": "2023-01-24T06:24:16.035Z"
   },
   {
    "duration": 11,
    "start_time": "2023-01-24T06:24:16.043Z"
   },
   {
    "duration": 48,
    "start_time": "2023-01-24T06:24:16.055Z"
   },
   {
    "duration": 12,
    "start_time": "2023-01-24T06:24:16.104Z"
   },
   {
    "duration": 24,
    "start_time": "2023-01-24T06:24:16.117Z"
   },
   {
    "duration": 3,
    "start_time": "2023-01-24T06:24:16.143Z"
   },
   {
    "duration": 13,
    "start_time": "2023-01-24T06:24:16.148Z"
   },
   {
    "duration": 23,
    "start_time": "2023-01-24T06:24:16.163Z"
   },
   {
    "duration": 32,
    "start_time": "2023-01-24T06:24:51.523Z"
   },
   {
    "duration": 55,
    "start_time": "2023-01-24T06:28:49.180Z"
   },
   {
    "duration": 48,
    "start_time": "2023-01-24T06:28:53.897Z"
   },
   {
    "duration": 23,
    "start_time": "2023-01-24T06:30:08.267Z"
   },
   {
    "duration": 94,
    "start_time": "2023-01-24T06:40:38.096Z"
   },
   {
    "duration": 28,
    "start_time": "2023-01-24T06:41:47.346Z"
   },
   {
    "duration": 252,
    "start_time": "2023-01-24T06:42:52.876Z"
   },
   {
    "duration": 241,
    "start_time": "2023-01-24T06:43:03.915Z"
   },
   {
    "duration": 217,
    "start_time": "2023-01-24T06:46:59.392Z"
   },
   {
    "duration": 220,
    "start_time": "2023-01-24T06:47:07.126Z"
   },
   {
    "duration": 476,
    "start_time": "2023-01-24T06:51:48.886Z"
   },
   {
    "duration": 14,
    "start_time": "2023-01-24T06:51:49.363Z"
   },
   {
    "duration": 30,
    "start_time": "2023-01-24T06:51:49.378Z"
   },
   {
    "duration": 2023,
    "start_time": "2023-01-24T06:51:49.409Z"
   },
   {
    "duration": 6,
    "start_time": "2023-01-24T06:51:51.434Z"
   },
   {
    "duration": 9,
    "start_time": "2023-01-24T06:51:51.441Z"
   },
   {
    "duration": 29,
    "start_time": "2023-01-24T06:51:51.452Z"
   },
   {
    "duration": 223,
    "start_time": "2023-01-24T06:51:51.483Z"
   },
   {
    "duration": 9,
    "start_time": "2023-01-24T06:51:51.708Z"
   },
   {
    "duration": 7,
    "start_time": "2023-01-24T06:51:51.719Z"
   },
   {
    "duration": 15,
    "start_time": "2023-01-24T06:51:51.727Z"
   },
   {
    "duration": 30,
    "start_time": "2023-01-24T06:51:51.744Z"
   },
   {
    "duration": 515,
    "start_time": "2023-01-24T07:25:52.260Z"
   },
   {
    "duration": 16,
    "start_time": "2023-01-24T07:25:52.777Z"
   },
   {
    "duration": 42,
    "start_time": "2023-01-24T07:25:52.795Z"
   },
   {
    "duration": 2221,
    "start_time": "2023-01-24T07:25:52.840Z"
   },
   {
    "duration": 7,
    "start_time": "2023-01-24T07:25:55.063Z"
   },
   {
    "duration": 13,
    "start_time": "2023-01-24T07:25:55.072Z"
   },
   {
    "duration": 43,
    "start_time": "2023-01-24T07:25:55.086Z"
   },
   {
    "duration": 227,
    "start_time": "2023-01-24T07:25:55.131Z"
   },
   {
    "duration": 10,
    "start_time": "2023-01-24T07:25:55.360Z"
   },
   {
    "duration": 15,
    "start_time": "2023-01-24T07:25:55.372Z"
   },
   {
    "duration": 18,
    "start_time": "2023-01-24T07:25:55.389Z"
   },
   {
    "duration": 25,
    "start_time": "2023-01-24T07:25:55.409Z"
   },
   {
    "duration": 305,
    "start_time": "2023-01-24T07:28:21.831Z"
   },
   {
    "duration": 43,
    "start_time": "2023-01-24T07:28:57.405Z"
   },
   {
    "duration": 231,
    "start_time": "2023-01-24T07:29:13.529Z"
   },
   {
    "duration": 42,
    "start_time": "2023-01-24T09:01:29.365Z"
   },
   {
    "duration": 530,
    "start_time": "2023-01-24T09:01:36.251Z"
   },
   {
    "duration": 15,
    "start_time": "2023-01-24T09:01:36.783Z"
   },
   {
    "duration": 48,
    "start_time": "2023-01-24T09:01:36.800Z"
   },
   {
    "duration": 2232,
    "start_time": "2023-01-24T09:01:36.851Z"
   },
   {
    "duration": 6,
    "start_time": "2023-01-24T09:01:39.085Z"
   },
   {
    "duration": 6,
    "start_time": "2023-01-24T09:01:39.092Z"
   },
   {
    "duration": 31,
    "start_time": "2023-01-24T09:01:39.099Z"
   },
   {
    "duration": 225,
    "start_time": "2023-01-24T09:01:39.131Z"
   },
   {
    "duration": 9,
    "start_time": "2023-01-24T09:01:39.358Z"
   },
   {
    "duration": 8,
    "start_time": "2023-01-24T09:01:39.369Z"
   },
   {
    "duration": 14,
    "start_time": "2023-01-24T09:01:39.378Z"
   },
   {
    "duration": 23,
    "start_time": "2023-01-24T09:01:39.394Z"
   },
   {
    "duration": 14,
    "start_time": "2023-01-24T09:07:08.111Z"
   },
   {
    "duration": 16,
    "start_time": "2023-01-24T09:07:53.044Z"
   },
   {
    "duration": 74,
    "start_time": "2023-01-24T09:08:08.130Z"
   },
   {
    "duration": 198,
    "start_time": "2023-01-24T10:40:12.651Z"
   },
   {
    "duration": 49,
    "start_time": "2023-01-24T10:40:37.225Z"
   },
   {
    "duration": 568,
    "start_time": "2023-01-24T10:40:46.677Z"
   },
   {
    "duration": 19,
    "start_time": "2023-01-24T10:40:47.247Z"
   },
   {
    "duration": 42,
    "start_time": "2023-01-24T10:40:47.268Z"
   },
   {
    "duration": 2436,
    "start_time": "2023-01-24T10:40:47.312Z"
   },
   {
    "duration": 6,
    "start_time": "2023-01-24T10:40:49.750Z"
   },
   {
    "duration": 8,
    "start_time": "2023-01-24T10:40:49.758Z"
   },
   {
    "duration": 52,
    "start_time": "2023-01-24T10:40:49.767Z"
   },
   {
    "duration": 17,
    "start_time": "2023-01-24T10:40:49.820Z"
   },
   {
    "duration": 267,
    "start_time": "2023-01-24T10:40:49.838Z"
   },
   {
    "duration": 12,
    "start_time": "2023-01-24T10:40:50.108Z"
   },
   {
    "duration": 8,
    "start_time": "2023-01-24T10:40:50.121Z"
   },
   {
    "duration": 12,
    "start_time": "2023-01-24T10:40:50.131Z"
   },
   {
    "duration": 29,
    "start_time": "2023-01-24T10:40:50.144Z"
   },
   {
    "duration": 17,
    "start_time": "2023-01-24T10:41:06.875Z"
   },
   {
    "duration": 550,
    "start_time": "2023-01-24T10:56:57.576Z"
   },
   {
    "duration": 16,
    "start_time": "2023-01-24T10:56:58.129Z"
   },
   {
    "duration": 33,
    "start_time": "2023-01-24T10:56:58.147Z"
   },
   {
    "duration": 2374,
    "start_time": "2023-01-24T10:56:58.183Z"
   },
   {
    "duration": 8,
    "start_time": "2023-01-24T10:57:00.560Z"
   },
   {
    "duration": 29,
    "start_time": "2023-01-24T10:57:00.569Z"
   },
   {
    "duration": 60,
    "start_time": "2023-01-24T10:57:00.600Z"
   },
   {
    "duration": 19,
    "start_time": "2023-01-24T10:57:00.662Z"
   },
   {
    "duration": 242,
    "start_time": "2023-01-24T10:57:00.683Z"
   },
   {
    "duration": 12,
    "start_time": "2023-01-24T10:57:00.928Z"
   },
   {
    "duration": 39,
    "start_time": "2023-01-24T10:57:00.942Z"
   },
   {
    "duration": 30,
    "start_time": "2023-01-24T10:57:00.983Z"
   },
   {
    "duration": 35,
    "start_time": "2023-01-24T10:57:01.015Z"
   },
   {
    "duration": 75,
    "start_time": "2023-01-24T11:09:54.532Z"
   },
   {
    "duration": 38,
    "start_time": "2023-01-24T11:10:07.049Z"
   },
   {
    "duration": 35,
    "start_time": "2023-01-24T11:14:33.659Z"
   },
   {
    "duration": 61,
    "start_time": "2023-01-24T11:37:38.898Z"
   },
   {
    "duration": 660,
    "start_time": "2023-01-24T11:37:49.484Z"
   },
   {
    "duration": 18,
    "start_time": "2023-01-24T11:37:50.146Z"
   },
   {
    "duration": 49,
    "start_time": "2023-01-24T11:37:50.165Z"
   },
   {
    "duration": 2660,
    "start_time": "2023-01-24T11:37:50.218Z"
   },
   {
    "duration": 9,
    "start_time": "2023-01-24T11:37:52.880Z"
   },
   {
    "duration": 37,
    "start_time": "2023-01-24T11:37:52.891Z"
   },
   {
    "duration": 50,
    "start_time": "2023-01-24T11:37:52.929Z"
   },
   {
    "duration": 23,
    "start_time": "2023-01-24T11:37:52.981Z"
   },
   {
    "duration": 284,
    "start_time": "2023-01-24T11:37:53.006Z"
   },
   {
    "duration": 12,
    "start_time": "2023-01-24T11:37:53.293Z"
   },
   {
    "duration": 25,
    "start_time": "2023-01-24T11:37:53.307Z"
   },
   {
    "duration": 34,
    "start_time": "2023-01-24T11:37:53.334Z"
   },
   {
    "duration": 43,
    "start_time": "2023-01-24T11:37:53.370Z"
   },
   {
    "duration": 99,
    "start_time": "2023-01-24T11:40:16.770Z"
   },
   {
    "duration": 37,
    "start_time": "2023-01-24T11:40:50.399Z"
   },
   {
    "duration": 34,
    "start_time": "2023-01-24T11:44:46.051Z"
   },
   {
    "duration": 24,
    "start_time": "2023-01-24T11:45:36.055Z"
   },
   {
    "duration": 26,
    "start_time": "2023-01-24T11:46:55.485Z"
   },
   {
    "duration": 26,
    "start_time": "2023-01-24T11:47:17.603Z"
   },
   {
    "duration": 23,
    "start_time": "2023-01-24T11:48:19.645Z"
   },
   {
    "duration": 10,
    "start_time": "2023-01-24T11:53:15.243Z"
   },
   {
    "duration": 16,
    "start_time": "2023-01-24T11:55:05.157Z"
   },
   {
    "duration": 32,
    "start_time": "2023-01-24T11:56:38.305Z"
   },
   {
    "duration": 58,
    "start_time": "2023-01-24T12:04:22.911Z"
   },
   {
    "duration": 26,
    "start_time": "2023-01-24T12:05:48.708Z"
   },
   {
    "duration": 19,
    "start_time": "2023-01-24T12:28:36.915Z"
   },
   {
    "duration": 19,
    "start_time": "2023-01-24T12:29:23.970Z"
   },
   {
    "duration": 14,
    "start_time": "2023-01-24T12:29:43.194Z"
   },
   {
    "duration": 16,
    "start_time": "2023-01-24T12:30:02.566Z"
   },
   {
    "duration": 16,
    "start_time": "2023-01-24T12:31:01.238Z"
   },
   {
    "duration": 10,
    "start_time": "2023-01-24T12:37:09.379Z"
   },
   {
    "duration": 10,
    "start_time": "2023-01-24T12:37:26.870Z"
   },
   {
    "duration": 19,
    "start_time": "2023-01-24T12:39:07.722Z"
   },
   {
    "duration": 42,
    "start_time": "2023-01-24T12:39:28.292Z"
   },
   {
    "duration": 10,
    "start_time": "2023-01-24T12:42:10.482Z"
   },
   {
    "duration": 571,
    "start_time": "2023-01-24T12:48:55.751Z"
   },
   {
    "duration": 19,
    "start_time": "2023-01-24T12:48:56.324Z"
   },
   {
    "duration": 53,
    "start_time": "2023-01-24T12:48:56.345Z"
   },
   {
    "duration": 2625,
    "start_time": "2023-01-24T12:48:56.401Z"
   },
   {
    "duration": 7,
    "start_time": "2023-01-24T12:48:59.028Z"
   },
   {
    "duration": 12,
    "start_time": "2023-01-24T12:48:59.037Z"
   },
   {
    "duration": 32,
    "start_time": "2023-01-24T12:48:59.051Z"
   },
   {
    "duration": 27,
    "start_time": "2023-01-24T12:48:59.086Z"
   },
   {
    "duration": 320,
    "start_time": "2023-01-24T12:48:59.115Z"
   },
   {
    "duration": 10,
    "start_time": "2023-01-24T12:48:59.438Z"
   },
   {
    "duration": 8,
    "start_time": "2023-01-24T12:48:59.450Z"
   },
   {
    "duration": 9,
    "start_time": "2023-01-24T12:48:59.460Z"
   },
   {
    "duration": 37,
    "start_time": "2023-01-24T12:48:59.486Z"
   },
   {
    "duration": 51,
    "start_time": "2023-01-24T12:48:59.525Z"
   },
   {
    "duration": 0,
    "start_time": "2023-01-24T12:48:59.578Z"
   },
   {
    "duration": 0,
    "start_time": "2023-01-24T12:48:59.580Z"
   },
   {
    "duration": 0,
    "start_time": "2023-01-24T12:48:59.583Z"
   },
   {
    "duration": 5,
    "start_time": "2023-01-24T12:49:22.999Z"
   },
   {
    "duration": 16,
    "start_time": "2023-01-24T12:49:28.321Z"
   },
   {
    "duration": 8,
    "start_time": "2023-01-24T12:49:30.492Z"
   },
   {
    "duration": 24,
    "start_time": "2023-01-24T12:50:24.308Z"
   },
   {
    "duration": 81,
    "start_time": "2023-01-24T12:55:26.114Z"
   },
   {
    "duration": 47,
    "start_time": "2023-01-24T16:08:23.084Z"
   },
   {
    "duration": 713,
    "start_time": "2023-01-24T16:08:28.559Z"
   },
   {
    "duration": 17,
    "start_time": "2023-01-24T16:08:29.274Z"
   },
   {
    "duration": 38,
    "start_time": "2023-01-24T16:08:29.293Z"
   },
   {
    "duration": 2391,
    "start_time": "2023-01-24T16:08:29.333Z"
   },
   {
    "duration": 7,
    "start_time": "2023-01-24T16:08:31.727Z"
   },
   {
    "duration": 9,
    "start_time": "2023-01-24T16:08:31.736Z"
   },
   {
    "duration": 41,
    "start_time": "2023-01-24T16:08:31.747Z"
   },
   {
    "duration": 20,
    "start_time": "2023-01-24T16:08:31.789Z"
   },
   {
    "duration": 245,
    "start_time": "2023-01-24T16:08:31.820Z"
   },
   {
    "duration": 10,
    "start_time": "2023-01-24T16:08:32.069Z"
   },
   {
    "duration": 24,
    "start_time": "2023-01-24T16:08:32.081Z"
   },
   {
    "duration": 12,
    "start_time": "2023-01-24T16:08:32.107Z"
   },
   {
    "duration": 34,
    "start_time": "2023-01-24T16:08:32.121Z"
   },
   {
    "duration": 12,
    "start_time": "2023-01-24T16:08:32.157Z"
   },
   {
    "duration": 28,
    "start_time": "2023-01-24T16:08:32.170Z"
   },
   {
    "duration": 70,
    "start_time": "2023-01-24T16:08:32.200Z"
   },
   {
    "duration": 36,
    "start_time": "2023-01-24T16:08:32.271Z"
   },
   {
    "duration": 34,
    "start_time": "2023-01-24T16:09:33.511Z"
   },
   {
    "duration": 9,
    "start_time": "2023-01-24T16:09:47.917Z"
   },
   {
    "duration": 8,
    "start_time": "2023-01-24T16:10:20.518Z"
   },
   {
    "duration": 77,
    "start_time": "2023-01-24T16:12:23.676Z"
   },
   {
    "duration": 73,
    "start_time": "2023-01-24T16:12:28.571Z"
   },
   {
    "duration": 9,
    "start_time": "2023-01-24T16:12:45.314Z"
   },
   {
    "duration": 7,
    "start_time": "2023-01-24T16:13:02.180Z"
   },
   {
    "duration": 12,
    "start_time": "2023-01-24T16:14:48.722Z"
   },
   {
    "duration": 13,
    "start_time": "2023-01-24T16:15:28.790Z"
   },
   {
    "duration": 17,
    "start_time": "2023-01-24T16:22:55.853Z"
   },
   {
    "duration": 16,
    "start_time": "2023-01-24T16:23:27.089Z"
   },
   {
    "duration": 16,
    "start_time": "2023-01-24T16:23:40.412Z"
   },
   {
    "duration": 16,
    "start_time": "2023-01-24T16:23:50.368Z"
   },
   {
    "duration": 122,
    "start_time": "2023-01-24T16:25:00.379Z"
   },
   {
    "duration": 192,
    "start_time": "2023-01-24T16:25:14.179Z"
   },
   {
    "duration": 109,
    "start_time": "2023-01-24T16:26:51.227Z"
   },
   {
    "duration": 494,
    "start_time": "2023-01-24T16:27:27.350Z"
   },
   {
    "duration": 14,
    "start_time": "2023-01-24T16:27:27.846Z"
   },
   {
    "duration": 33,
    "start_time": "2023-01-24T16:27:27.862Z"
   },
   {
    "duration": 2158,
    "start_time": "2023-01-24T16:27:27.898Z"
   },
   {
    "duration": 6,
    "start_time": "2023-01-24T16:27:30.058Z"
   },
   {
    "duration": 15,
    "start_time": "2023-01-24T16:27:30.066Z"
   },
   {
    "duration": 34,
    "start_time": "2023-01-24T16:27:30.084Z"
   },
   {
    "duration": 19,
    "start_time": "2023-01-24T16:27:30.119Z"
   },
   {
    "duration": 273,
    "start_time": "2023-01-24T16:27:30.140Z"
   },
   {
    "duration": 9,
    "start_time": "2023-01-24T16:27:30.420Z"
   },
   {
    "duration": 23,
    "start_time": "2023-01-24T16:27:30.431Z"
   },
   {
    "duration": 27,
    "start_time": "2023-01-24T16:27:30.455Z"
   },
   {
    "duration": 46,
    "start_time": "2023-01-24T16:27:30.484Z"
   },
   {
    "duration": 20,
    "start_time": "2023-01-24T16:27:30.532Z"
   },
   {
    "duration": 31,
    "start_time": "2023-01-24T16:27:30.554Z"
   },
   {
    "duration": 79,
    "start_time": "2023-01-24T16:27:30.587Z"
   },
   {
    "duration": 13,
    "start_time": "2023-01-24T16:27:30.668Z"
   },
   {
    "duration": 11,
    "start_time": "2023-01-24T16:28:47.377Z"
   },
   {
    "duration": 15,
    "start_time": "2023-01-24T16:31:47.502Z"
   },
   {
    "duration": 16,
    "start_time": "2023-01-24T16:32:03.310Z"
   },
   {
    "duration": 16,
    "start_time": "2023-01-24T16:32:21.571Z"
   },
   {
    "duration": 73,
    "start_time": "2023-01-24T16:33:16.825Z"
   },
   {
    "duration": 9,
    "start_time": "2023-01-24T16:33:50.213Z"
   },
   {
    "duration": 10,
    "start_time": "2023-01-24T16:34:17.705Z"
   },
   {
    "duration": 508,
    "start_time": "2023-01-24T16:34:38.385Z"
   },
   {
    "duration": 15,
    "start_time": "2023-01-24T16:34:38.896Z"
   },
   {
    "duration": 33,
    "start_time": "2023-01-24T16:34:38.913Z"
   },
   {
    "duration": 2096,
    "start_time": "2023-01-24T16:34:38.948Z"
   },
   {
    "duration": 6,
    "start_time": "2023-01-24T16:34:41.046Z"
   },
   {
    "duration": 4,
    "start_time": "2023-01-24T16:34:41.053Z"
   },
   {
    "duration": 28,
    "start_time": "2023-01-24T16:34:41.059Z"
   },
   {
    "duration": 17,
    "start_time": "2023-01-24T16:34:41.088Z"
   },
   {
    "duration": 239,
    "start_time": "2023-01-24T16:34:41.107Z"
   },
   {
    "duration": 10,
    "start_time": "2023-01-24T16:34:41.348Z"
   },
   {
    "duration": 4,
    "start_time": "2023-01-24T16:34:41.360Z"
   },
   {
    "duration": 16,
    "start_time": "2023-01-24T16:34:41.366Z"
   },
   {
    "duration": 37,
    "start_time": "2023-01-24T16:34:41.384Z"
   },
   {
    "duration": 5,
    "start_time": "2023-01-24T16:34:41.423Z"
   },
   {
    "duration": 21,
    "start_time": "2023-01-24T16:34:41.430Z"
   },
   {
    "duration": 93,
    "start_time": "2023-01-24T16:34:41.453Z"
   },
   {
    "duration": 19,
    "start_time": "2023-01-24T16:34:41.547Z"
   },
   {
    "duration": 16,
    "start_time": "2023-01-24T16:39:15.069Z"
   },
   {
    "duration": 522,
    "start_time": "2023-01-24T16:39:20.022Z"
   },
   {
    "duration": 19,
    "start_time": "2023-01-24T16:39:20.546Z"
   },
   {
    "duration": 34,
    "start_time": "2023-01-24T16:39:20.566Z"
   },
   {
    "duration": 2242,
    "start_time": "2023-01-24T16:39:20.602Z"
   },
   {
    "duration": 5,
    "start_time": "2023-01-24T16:39:22.847Z"
   },
   {
    "duration": 7,
    "start_time": "2023-01-24T16:39:22.854Z"
   },
   {
    "duration": 33,
    "start_time": "2023-01-24T16:39:22.863Z"
   },
   {
    "duration": 18,
    "start_time": "2023-01-24T16:39:22.898Z"
   },
   {
    "duration": 234,
    "start_time": "2023-01-24T16:39:22.918Z"
   },
   {
    "duration": 10,
    "start_time": "2023-01-24T16:39:23.154Z"
   },
   {
    "duration": 7,
    "start_time": "2023-01-24T16:39:23.166Z"
   },
   {
    "duration": 8,
    "start_time": "2023-01-24T16:39:23.175Z"
   },
   {
    "duration": 46,
    "start_time": "2023-01-24T16:39:23.185Z"
   },
   {
    "duration": 6,
    "start_time": "2023-01-24T16:39:23.234Z"
   },
   {
    "duration": 18,
    "start_time": "2023-01-24T16:39:23.242Z"
   },
   {
    "duration": 100,
    "start_time": "2023-01-24T16:39:23.262Z"
   },
   {
    "duration": 14,
    "start_time": "2023-01-24T16:39:23.364Z"
   },
   {
    "duration": 9,
    "start_time": "2023-01-24T16:39:55.322Z"
   },
   {
    "duration": 17,
    "start_time": "2023-01-24T16:40:12.501Z"
   },
   {
    "duration": 721,
    "start_time": "2023-01-24T16:43:03.003Z"
   },
   {
    "duration": 15,
    "start_time": "2023-01-24T16:43:16.071Z"
   },
   {
    "duration": 16,
    "start_time": "2023-01-24T16:43:44.812Z"
   },
   {
    "duration": 7,
    "start_time": "2023-01-24T16:44:32.265Z"
   },
   {
    "duration": 4,
    "start_time": "2023-01-24T16:44:37.819Z"
   },
   {
    "duration": 14,
    "start_time": "2023-01-24T16:44:40.841Z"
   },
   {
    "duration": 10,
    "start_time": "2023-01-24T16:45:48.576Z"
   },
   {
    "duration": 14,
    "start_time": "2023-01-24T16:46:04.193Z"
   },
   {
    "duration": 14,
    "start_time": "2023-01-24T16:46:25.120Z"
   },
   {
    "duration": 15,
    "start_time": "2023-01-24T16:46:51.344Z"
   },
   {
    "duration": 42,
    "start_time": "2023-01-24T16:48:29.760Z"
   },
   {
    "duration": 46,
    "start_time": "2023-01-24T16:48:56.103Z"
   },
   {
    "duration": 65,
    "start_time": "2023-01-24T16:50:20.697Z"
   },
   {
    "duration": 108,
    "start_time": "2023-01-24T16:54:06.103Z"
   },
   {
    "duration": 105,
    "start_time": "2023-01-24T16:55:06.704Z"
   },
   {
    "duration": 106,
    "start_time": "2023-01-24T16:55:18.607Z"
   },
   {
    "duration": 116,
    "start_time": "2023-01-24T16:55:26.521Z"
   },
   {
    "duration": 135,
    "start_time": "2023-01-24T16:56:16.028Z"
   },
   {
    "duration": 271,
    "start_time": "2023-01-24T16:57:52.948Z"
   },
   {
    "duration": 243,
    "start_time": "2023-01-24T16:59:00.214Z"
   },
   {
    "duration": 16,
    "start_time": "2023-01-24T17:04:07.906Z"
   },
   {
    "duration": 65,
    "start_time": "2023-01-24T17:04:38.759Z"
   },
   {
    "duration": 136,
    "start_time": "2023-01-24T17:06:12.953Z"
   },
   {
    "duration": 126,
    "start_time": "2023-01-24T17:48:11.625Z"
   },
   {
    "duration": 135,
    "start_time": "2023-01-24T17:48:24.559Z"
   },
   {
    "duration": 82,
    "start_time": "2023-01-24T17:48:57.597Z"
   },
   {
    "duration": 300,
    "start_time": "2023-01-24T17:49:08.679Z"
   },
   {
    "duration": 378,
    "start_time": "2023-01-24T17:49:40.814Z"
   },
   {
    "duration": 387,
    "start_time": "2023-01-24T17:51:08.978Z"
   },
   {
    "duration": 430,
    "start_time": "2023-01-24T17:52:39.425Z"
   },
   {
    "duration": 361,
    "start_time": "2023-01-24T17:59:43.210Z"
   },
   {
    "duration": 14,
    "start_time": "2023-01-24T18:25:22.126Z"
   },
   {
    "duration": 528,
    "start_time": "2023-01-24T18:26:41.015Z"
   },
   {
    "duration": 16,
    "start_time": "2023-01-24T18:26:41.545Z"
   },
   {
    "duration": 33,
    "start_time": "2023-01-24T18:26:41.562Z"
   },
   {
    "duration": 2316,
    "start_time": "2023-01-24T18:26:41.597Z"
   },
   {
    "duration": 6,
    "start_time": "2023-01-24T18:26:43.915Z"
   },
   {
    "duration": 4,
    "start_time": "2023-01-24T18:26:43.923Z"
   },
   {
    "duration": 30,
    "start_time": "2023-01-24T18:26:43.929Z"
   },
   {
    "duration": 20,
    "start_time": "2023-01-24T18:26:43.961Z"
   },
   {
    "duration": 260,
    "start_time": "2023-01-24T18:26:43.983Z"
   },
   {
    "duration": 10,
    "start_time": "2023-01-24T18:26:44.245Z"
   },
   {
    "duration": 10,
    "start_time": "2023-01-24T18:26:44.256Z"
   },
   {
    "duration": 6,
    "start_time": "2023-01-24T18:26:44.267Z"
   },
   {
    "duration": 49,
    "start_time": "2023-01-24T18:26:44.275Z"
   },
   {
    "duration": 6,
    "start_time": "2023-01-24T18:26:44.326Z"
   },
   {
    "duration": 34,
    "start_time": "2023-01-24T18:26:44.334Z"
   },
   {
    "duration": 87,
    "start_time": "2023-01-24T18:26:44.370Z"
   },
   {
    "duration": 16,
    "start_time": "2023-01-24T18:26:44.458Z"
   },
   {
    "duration": 407,
    "start_time": "2023-01-24T18:26:44.475Z"
   },
   {
    "duration": 80,
    "start_time": "2023-01-24T18:26:44.885Z"
   },
   {
    "duration": 41,
    "start_time": "2023-01-24T18:27:04.995Z"
   },
   {
    "duration": 504,
    "start_time": "2023-01-24T18:31:35.540Z"
   },
   {
    "duration": 16,
    "start_time": "2023-01-24T18:31:36.046Z"
   },
   {
    "duration": 33,
    "start_time": "2023-01-24T18:31:36.064Z"
   },
   {
    "duration": 2270,
    "start_time": "2023-01-24T18:31:36.099Z"
   },
   {
    "duration": 7,
    "start_time": "2023-01-24T18:31:38.371Z"
   },
   {
    "duration": 10,
    "start_time": "2023-01-24T18:31:38.379Z"
   },
   {
    "duration": 33,
    "start_time": "2023-01-24T18:31:38.391Z"
   },
   {
    "duration": 19,
    "start_time": "2023-01-24T18:31:38.426Z"
   },
   {
    "duration": 261,
    "start_time": "2023-01-24T18:31:38.447Z"
   },
   {
    "duration": 16,
    "start_time": "2023-01-24T18:31:38.711Z"
   },
   {
    "duration": 3,
    "start_time": "2023-01-24T18:31:38.729Z"
   },
   {
    "duration": 8,
    "start_time": "2023-01-24T18:31:38.734Z"
   },
   {
    "duration": 119,
    "start_time": "2023-01-24T18:31:38.743Z"
   },
   {
    "duration": 0,
    "start_time": "2023-01-24T18:31:38.864Z"
   },
   {
    "duration": 0,
    "start_time": "2023-01-24T18:31:38.865Z"
   },
   {
    "duration": 0,
    "start_time": "2023-01-24T18:31:38.867Z"
   },
   {
    "duration": 0,
    "start_time": "2023-01-24T18:31:38.868Z"
   },
   {
    "duration": 1,
    "start_time": "2023-01-24T18:31:38.868Z"
   },
   {
    "duration": 0,
    "start_time": "2023-01-24T18:31:38.869Z"
   },
   {
    "duration": 39,
    "start_time": "2023-01-24T18:31:41.561Z"
   },
   {
    "duration": 45,
    "start_time": "2023-01-24T18:32:01.781Z"
   },
   {
    "duration": 59,
    "start_time": "2023-01-24T18:33:45.362Z"
   },
   {
    "duration": 21,
    "start_time": "2023-01-24T18:34:42.452Z"
   },
   {
    "duration": 512,
    "start_time": "2023-01-24T18:34:50.885Z"
   },
   {
    "duration": 24,
    "start_time": "2023-01-24T18:34:51.399Z"
   },
   {
    "duration": 34,
    "start_time": "2023-01-24T18:34:51.425Z"
   },
   {
    "duration": 2275,
    "start_time": "2023-01-24T18:34:51.461Z"
   },
   {
    "duration": 7,
    "start_time": "2023-01-24T18:34:53.738Z"
   },
   {
    "duration": 10,
    "start_time": "2023-01-24T18:34:53.746Z"
   },
   {
    "duration": 29,
    "start_time": "2023-01-24T18:34:53.757Z"
   },
   {
    "duration": 16,
    "start_time": "2023-01-24T18:34:53.788Z"
   },
   {
    "duration": 243,
    "start_time": "2023-01-24T18:34:53.820Z"
   },
   {
    "duration": 9,
    "start_time": "2023-01-24T18:34:54.065Z"
   },
   {
    "duration": 10,
    "start_time": "2023-01-24T18:34:54.076Z"
   },
   {
    "duration": 6,
    "start_time": "2023-01-24T18:34:54.088Z"
   },
   {
    "duration": 25,
    "start_time": "2023-01-24T18:34:54.096Z"
   },
   {
    "duration": 20,
    "start_time": "2023-01-24T18:34:54.123Z"
   },
   {
    "duration": 31,
    "start_time": "2023-01-24T18:34:54.144Z"
   },
   {
    "duration": 70,
    "start_time": "2023-01-24T18:34:54.177Z"
   },
   {
    "duration": 16,
    "start_time": "2023-01-24T18:34:54.249Z"
   },
   {
    "duration": 423,
    "start_time": "2023-01-24T18:34:54.266Z"
   },
   {
    "duration": 47,
    "start_time": "2023-01-24T18:34:54.690Z"
   },
   {
    "duration": 37,
    "start_time": "2023-01-24T18:36:21.362Z"
   },
   {
    "duration": 713,
    "start_time": "2023-01-25T07:21:15.370Z"
   },
   {
    "duration": 18,
    "start_time": "2023-01-25T07:21:16.086Z"
   },
   {
    "duration": 36,
    "start_time": "2023-01-25T07:21:16.106Z"
   },
   {
    "duration": 2690,
    "start_time": "2023-01-25T07:21:16.144Z"
   },
   {
    "duration": 8,
    "start_time": "2023-01-25T07:21:18.837Z"
   },
   {
    "duration": 4,
    "start_time": "2023-01-25T07:21:18.847Z"
   },
   {
    "duration": 35,
    "start_time": "2023-01-25T07:21:18.853Z"
   },
   {
    "duration": 52,
    "start_time": "2023-01-25T07:21:18.889Z"
   },
   {
    "duration": 303,
    "start_time": "2023-01-25T07:21:18.943Z"
   },
   {
    "duration": 13,
    "start_time": "2023-01-25T07:21:19.250Z"
   },
   {
    "duration": 43,
    "start_time": "2023-01-25T07:21:19.268Z"
   },
   {
    "duration": 46,
    "start_time": "2023-01-25T07:21:19.313Z"
   },
   {
    "duration": 15,
    "start_time": "2023-01-25T07:21:19.361Z"
   },
   {
    "duration": 20,
    "start_time": "2023-01-25T07:21:19.379Z"
   },
   {
    "duration": 23,
    "start_time": "2023-01-25T07:21:19.401Z"
   },
   {
    "duration": 93,
    "start_time": "2023-01-25T07:21:19.426Z"
   },
   {
    "duration": 27,
    "start_time": "2023-01-25T07:21:19.521Z"
   },
   {
    "duration": 389,
    "start_time": "2023-01-25T07:21:19.550Z"
   },
   {
    "duration": 40,
    "start_time": "2023-01-25T07:21:19.941Z"
   },
   {
    "duration": 37,
    "start_time": "2023-01-25T07:24:52.893Z"
   },
   {
    "duration": 160,
    "start_time": "2023-01-25T08:05:45.925Z"
   },
   {
    "duration": 15,
    "start_time": "2023-01-25T08:06:37.602Z"
   },
   {
    "duration": 528,
    "start_time": "2023-01-25T08:09:30.051Z"
   },
   {
    "duration": 18,
    "start_time": "2023-01-25T08:09:30.581Z"
   },
   {
    "duration": 85,
    "start_time": "2023-01-25T08:09:30.601Z"
   },
   {
    "duration": 2568,
    "start_time": "2023-01-25T08:09:30.688Z"
   },
   {
    "duration": 9,
    "start_time": "2023-01-25T08:09:33.259Z"
   },
   {
    "duration": 37,
    "start_time": "2023-01-25T08:09:33.270Z"
   },
   {
    "duration": 60,
    "start_time": "2023-01-25T08:09:33.310Z"
   },
   {
    "duration": 23,
    "start_time": "2023-01-25T08:09:33.372Z"
   },
   {
    "duration": 283,
    "start_time": "2023-01-25T08:09:33.397Z"
   },
   {
    "duration": 13,
    "start_time": "2023-01-25T08:09:33.684Z"
   },
   {
    "duration": 8,
    "start_time": "2023-01-25T08:09:33.700Z"
   },
   {
    "duration": 35,
    "start_time": "2023-01-25T08:09:33.711Z"
   },
   {
    "duration": 31,
    "start_time": "2023-01-25T08:09:33.748Z"
   },
   {
    "duration": 31,
    "start_time": "2023-01-25T08:09:33.781Z"
   },
   {
    "duration": 26,
    "start_time": "2023-01-25T08:09:33.815Z"
   },
   {
    "duration": 79,
    "start_time": "2023-01-25T08:09:33.843Z"
   },
   {
    "duration": 30,
    "start_time": "2023-01-25T08:09:33.923Z"
   },
   {
    "duration": 400,
    "start_time": "2023-01-25T08:09:33.955Z"
   },
   {
    "duration": 5,
    "start_time": "2023-01-25T08:09:34.357Z"
   },
   {
    "duration": 25,
    "start_time": "2023-01-25T08:09:34.364Z"
   },
   {
    "duration": 220,
    "start_time": "2023-01-25T08:09:34.391Z"
   },
   {
    "duration": 34,
    "start_time": "2023-01-25T08:12:38.568Z"
   },
   {
    "duration": 199,
    "start_time": "2023-01-25T08:13:05.385Z"
   },
   {
    "duration": 117,
    "start_time": "2023-01-25T08:14:53.334Z"
   },
   {
    "duration": 19,
    "start_time": "2023-01-25T08:15:10.152Z"
   },
   {
    "duration": 97,
    "start_time": "2023-01-25T08:15:20.399Z"
   },
   {
    "duration": 87,
    "start_time": "2023-01-25T08:16:46.991Z"
   },
   {
    "duration": 210,
    "start_time": "2023-01-25T08:17:21.784Z"
   },
   {
    "duration": 189,
    "start_time": "2023-01-25T08:18:32.189Z"
   },
   {
    "duration": 183,
    "start_time": "2023-01-25T08:18:43.449Z"
   },
   {
    "duration": 84,
    "start_time": "2023-01-25T08:19:30.691Z"
   },
   {
    "duration": 178,
    "start_time": "2023-01-25T08:19:46.884Z"
   },
   {
    "duration": 131,
    "start_time": "2023-01-25T08:20:22.575Z"
   },
   {
    "duration": 132,
    "start_time": "2023-01-25T08:20:44.122Z"
   },
   {
    "duration": 103,
    "start_time": "2023-01-25T08:21:31.850Z"
   },
   {
    "duration": 96,
    "start_time": "2023-01-25T08:24:17.558Z"
   },
   {
    "duration": 23,
    "start_time": "2023-01-25T08:25:57.822Z"
   },
   {
    "duration": 22,
    "start_time": "2023-01-25T08:26:22.569Z"
   },
   {
    "duration": 208,
    "start_time": "2023-01-25T08:29:17.600Z"
   },
   {
    "duration": 15,
    "start_time": "2023-01-25T08:30:02.787Z"
   },
   {
    "duration": 13,
    "start_time": "2023-01-25T08:30:08.372Z"
   },
   {
    "duration": 12,
    "start_time": "2023-01-25T08:30:13.505Z"
   },
   {
    "duration": 9,
    "start_time": "2023-01-25T08:30:30.394Z"
   },
   {
    "duration": 17,
    "start_time": "2023-01-25T08:32:13.165Z"
   },
   {
    "duration": 16,
    "start_time": "2023-01-25T08:32:57.267Z"
   },
   {
    "duration": 92,
    "start_time": "2023-01-25T08:34:33.888Z"
   },
   {
    "duration": 7016,
    "start_time": "2023-01-25T08:35:06.387Z"
   },
   {
    "duration": 7273,
    "start_time": "2023-01-25T08:35:43.371Z"
   },
   {
    "duration": 332,
    "start_time": "2023-01-25T08:37:57.154Z"
   },
   {
    "duration": 417,
    "start_time": "2023-01-25T08:38:43.335Z"
   },
   {
    "duration": 75,
    "start_time": "2023-01-25T08:46:08.403Z"
   },
   {
    "duration": 510,
    "start_time": "2023-01-25T08:46:29.431Z"
   },
   {
    "duration": 15,
    "start_time": "2023-01-25T08:46:29.943Z"
   },
   {
    "duration": 40,
    "start_time": "2023-01-25T08:46:29.960Z"
   },
   {
    "duration": 2269,
    "start_time": "2023-01-25T08:46:30.003Z"
   },
   {
    "duration": 6,
    "start_time": "2023-01-25T08:46:32.274Z"
   },
   {
    "duration": 15,
    "start_time": "2023-01-25T08:46:32.282Z"
   },
   {
    "duration": 44,
    "start_time": "2023-01-25T08:46:32.299Z"
   },
   {
    "duration": 19,
    "start_time": "2023-01-25T08:46:32.345Z"
   },
   {
    "duration": 331,
    "start_time": "2023-01-25T08:46:32.366Z"
   },
   {
    "duration": 10,
    "start_time": "2023-01-25T08:46:32.700Z"
   },
   {
    "duration": 15,
    "start_time": "2023-01-25T08:46:32.712Z"
   },
   {
    "duration": 10,
    "start_time": "2023-01-25T08:46:32.738Z"
   },
   {
    "duration": 14,
    "start_time": "2023-01-25T08:46:32.750Z"
   },
   {
    "duration": 22,
    "start_time": "2023-01-25T08:46:32.766Z"
   },
   {
    "duration": 30,
    "start_time": "2023-01-25T08:46:32.790Z"
   },
   {
    "duration": 85,
    "start_time": "2023-01-25T08:46:32.822Z"
   },
   {
    "duration": 30,
    "start_time": "2023-01-25T08:46:32.909Z"
   },
   {
    "duration": 371,
    "start_time": "2023-01-25T08:46:32.941Z"
   },
   {
    "duration": 5,
    "start_time": "2023-01-25T08:46:33.314Z"
   },
   {
    "duration": 32,
    "start_time": "2023-01-25T08:46:33.321Z"
   },
   {
    "duration": 320,
    "start_time": "2023-01-25T08:46:33.355Z"
   },
   {
    "duration": 5,
    "start_time": "2023-01-25T08:46:33.677Z"
   },
   {
    "duration": 40,
    "start_time": "2023-01-25T08:46:33.684Z"
   },
   {
    "duration": 29,
    "start_time": "2023-01-25T08:47:57.248Z"
   },
   {
    "duration": 46,
    "start_time": "2023-01-25T08:51:06.408Z"
   },
   {
    "duration": 3,
    "start_time": "2023-01-25T08:53:57.803Z"
   },
   {
    "duration": 430,
    "start_time": "2023-01-25T08:54:53.719Z"
   },
   {
    "duration": 446,
    "start_time": "2023-01-25T08:56:17.770Z"
   },
   {
    "duration": 413,
    "start_time": "2023-01-25T08:58:31.224Z"
   },
   {
    "duration": 396,
    "start_time": "2023-01-25T08:58:46.653Z"
   },
   {
    "duration": 573,
    "start_time": "2023-01-25T09:00:33.193Z"
   },
   {
    "duration": 872,
    "start_time": "2023-01-25T09:01:06.384Z"
   },
   {
    "duration": 1231,
    "start_time": "2023-01-25T09:15:47.963Z"
   },
   {
    "duration": 541,
    "start_time": "2023-01-25T09:16:03.492Z"
   },
   {
    "duration": 610,
    "start_time": "2023-01-25T09:16:51.266Z"
   },
   {
    "duration": 419,
    "start_time": "2023-01-25T09:16:54.537Z"
   },
   {
    "duration": 436,
    "start_time": "2023-01-25T09:17:23.185Z"
   },
   {
    "duration": 440,
    "start_time": "2023-01-25T09:20:06.842Z"
   },
   {
    "duration": 400,
    "start_time": "2023-01-25T09:21:59.893Z"
   },
   {
    "duration": 438,
    "start_time": "2023-01-25T09:22:44.783Z"
   },
   {
    "duration": 595,
    "start_time": "2023-01-25T09:24:36.136Z"
   },
   {
    "duration": 97,
    "start_time": "2023-01-25T09:26:40.588Z"
   },
   {
    "duration": 70,
    "start_time": "2023-01-25T09:26:47.724Z"
   },
   {
    "duration": 77,
    "start_time": "2023-01-25T09:26:53.180Z"
   },
   {
    "duration": 439,
    "start_time": "2023-01-25T09:26:59.464Z"
   },
   {
    "duration": 315,
    "start_time": "2023-01-25T09:32:25.684Z"
   },
   {
    "duration": 421,
    "start_time": "2023-01-25T09:32:42.192Z"
   },
   {
    "duration": 318,
    "start_time": "2023-01-25T09:32:52.819Z"
   },
   {
    "duration": 340,
    "start_time": "2023-01-25T09:33:33.657Z"
   },
   {
    "duration": 364,
    "start_time": "2023-01-25T09:34:04.201Z"
   },
   {
    "duration": 357,
    "start_time": "2023-01-25T09:34:22.442Z"
   },
   {
    "duration": 327,
    "start_time": "2023-01-25T09:34:41.961Z"
   },
   {
    "duration": 11,
    "start_time": "2023-01-25T09:48:21.389Z"
   },
   {
    "duration": 41,
    "start_time": "2023-01-25T10:32:23.409Z"
   },
   {
    "duration": 35,
    "start_time": "2023-01-25T10:34:08.564Z"
   },
   {
    "duration": 185,
    "start_time": "2023-01-25T10:34:18.446Z"
   },
   {
    "duration": 23,
    "start_time": "2023-01-25T10:38:11.671Z"
   },
   {
    "duration": 219,
    "start_time": "2023-01-25T10:39:17.111Z"
   },
   {
    "duration": 379,
    "start_time": "2023-01-25T10:40:21.267Z"
   },
   {
    "duration": 376,
    "start_time": "2023-01-25T10:40:39.852Z"
   },
   {
    "duration": 358,
    "start_time": "2023-01-25T10:41:17.520Z"
   },
   {
    "duration": 2120,
    "start_time": "2023-01-25T10:41:40.050Z"
   },
   {
    "duration": 23,
    "start_time": "2023-01-25T10:42:27.952Z"
   },
   {
    "duration": 11,
    "start_time": "2023-01-25T10:49:30.636Z"
   },
   {
    "duration": 99,
    "start_time": "2023-01-25T11:09:04.241Z"
   },
   {
    "duration": 16,
    "start_time": "2023-01-25T11:09:16.855Z"
   },
   {
    "duration": 15,
    "start_time": "2023-01-25T11:09:29.456Z"
   },
   {
    "duration": 809,
    "start_time": "2023-01-25T12:56:34.510Z"
   },
   {
    "duration": 22,
    "start_time": "2023-01-25T12:56:35.321Z"
   },
   {
    "duration": 37,
    "start_time": "2023-01-25T12:56:35.345Z"
   },
   {
    "duration": 2391,
    "start_time": "2023-01-25T12:56:35.384Z"
   },
   {
    "duration": 7,
    "start_time": "2023-01-25T12:56:37.777Z"
   },
   {
    "duration": 5,
    "start_time": "2023-01-25T12:56:37.785Z"
   },
   {
    "duration": 29,
    "start_time": "2023-01-25T12:56:37.791Z"
   },
   {
    "duration": 21,
    "start_time": "2023-01-25T12:56:37.822Z"
   },
   {
    "duration": 256,
    "start_time": "2023-01-25T12:56:37.844Z"
   },
   {
    "duration": 10,
    "start_time": "2023-01-25T12:56:38.103Z"
   },
   {
    "duration": 24,
    "start_time": "2023-01-25T12:56:38.115Z"
   },
   {
    "duration": 8,
    "start_time": "2023-01-25T12:56:38.142Z"
   },
   {
    "duration": 6,
    "start_time": "2023-01-25T12:56:38.152Z"
   },
   {
    "duration": 22,
    "start_time": "2023-01-25T12:56:38.160Z"
   },
   {
    "duration": 28,
    "start_time": "2023-01-25T12:56:38.184Z"
   },
   {
    "duration": 78,
    "start_time": "2023-01-25T12:56:38.214Z"
   },
   {
    "duration": 9,
    "start_time": "2023-01-25T12:56:38.294Z"
   },
   {
    "duration": 33,
    "start_time": "2023-01-25T12:56:38.305Z"
   },
   {
    "duration": 8,
    "start_time": "2023-01-25T12:56:38.340Z"
   },
   {
    "duration": 11,
    "start_time": "2023-01-25T12:56:38.349Z"
   },
   {
    "duration": 308,
    "start_time": "2023-01-25T12:56:38.362Z"
   },
   {
    "duration": 17,
    "start_time": "2023-01-25T12:56:38.672Z"
   },
   {
    "duration": 4,
    "start_time": "2023-01-25T12:56:38.691Z"
   },
   {
    "duration": 13,
    "start_time": "2023-01-25T12:56:38.697Z"
   },
   {
    "duration": 352,
    "start_time": "2023-01-25T12:56:38.712Z"
   },
   {
    "duration": 4,
    "start_time": "2023-01-25T12:56:39.066Z"
   },
   {
    "duration": 31,
    "start_time": "2023-01-25T12:56:39.072Z"
   },
   {
    "duration": 295,
    "start_time": "2023-01-25T12:57:37.036Z"
   },
   {
    "duration": 14,
    "start_time": "2023-01-25T12:58:31.898Z"
   },
   {
    "duration": 10,
    "start_time": "2023-01-25T12:59:44.799Z"
   },
   {
    "duration": 17,
    "start_time": "2023-01-25T13:06:32.562Z"
   },
   {
    "duration": 156,
    "start_time": "2023-01-25T13:07:40.108Z"
   },
   {
    "duration": 18,
    "start_time": "2023-01-25T13:09:08.197Z"
   },
   {
    "duration": 521,
    "start_time": "2023-01-25T13:12:23.651Z"
   },
   {
    "duration": 15,
    "start_time": "2023-01-25T13:12:24.174Z"
   },
   {
    "duration": 33,
    "start_time": "2023-01-25T13:12:24.191Z"
   },
   {
    "duration": 2339,
    "start_time": "2023-01-25T13:12:24.237Z"
   },
   {
    "duration": 7,
    "start_time": "2023-01-25T13:12:26.577Z"
   },
   {
    "duration": 17,
    "start_time": "2023-01-25T13:12:26.586Z"
   },
   {
    "duration": 68,
    "start_time": "2023-01-25T13:12:26.604Z"
   },
   {
    "duration": 18,
    "start_time": "2023-01-25T13:12:26.674Z"
   },
   {
    "duration": 282,
    "start_time": "2023-01-25T13:12:26.693Z"
   },
   {
    "duration": 9,
    "start_time": "2023-01-25T13:12:26.978Z"
   },
   {
    "duration": 7,
    "start_time": "2023-01-25T13:12:26.989Z"
   },
   {
    "duration": 20,
    "start_time": "2023-01-25T13:12:26.998Z"
   },
   {
    "duration": 14,
    "start_time": "2023-01-25T13:12:27.019Z"
   },
   {
    "duration": 35,
    "start_time": "2023-01-25T13:12:27.034Z"
   },
   {
    "duration": 24,
    "start_time": "2023-01-25T13:12:27.071Z"
   },
   {
    "duration": 77,
    "start_time": "2023-01-25T13:12:27.097Z"
   },
   {
    "duration": 11,
    "start_time": "2023-01-25T13:12:27.176Z"
   },
   {
    "duration": 29,
    "start_time": "2023-01-25T13:12:27.189Z"
   },
   {
    "duration": 31,
    "start_time": "2023-01-25T13:12:27.220Z"
   },
   {
    "duration": 22,
    "start_time": "2023-01-25T13:12:27.252Z"
   },
   {
    "duration": 8,
    "start_time": "2023-01-25T13:12:27.276Z"
   },
   {
    "duration": 11,
    "start_time": "2023-01-25T13:12:27.286Z"
   },
   {
    "duration": 344,
    "start_time": "2023-01-25T13:12:27.299Z"
   },
   {
    "duration": 17,
    "start_time": "2023-01-25T13:12:27.649Z"
   },
   {
    "duration": 6,
    "start_time": "2023-01-25T13:12:27.668Z"
   },
   {
    "duration": 20,
    "start_time": "2023-01-25T13:12:27.676Z"
   },
   {
    "duration": 317,
    "start_time": "2023-01-25T13:12:27.697Z"
   },
   {
    "duration": 5,
    "start_time": "2023-01-25T13:12:28.017Z"
   },
   {
    "duration": 60,
    "start_time": "2023-01-25T13:12:28.024Z"
   },
   {
    "duration": 526,
    "start_time": "2023-01-25T15:20:56.102Z"
   },
   {
    "duration": 14,
    "start_time": "2023-01-25T15:20:56.630Z"
   },
   {
    "duration": 34,
    "start_time": "2023-01-25T15:20:56.646Z"
   },
   {
    "duration": 2198,
    "start_time": "2023-01-25T15:20:56.682Z"
   },
   {
    "duration": 6,
    "start_time": "2023-01-25T15:20:58.883Z"
   },
   {
    "duration": 8,
    "start_time": "2023-01-25T15:20:58.890Z"
   },
   {
    "duration": 30,
    "start_time": "2023-01-25T15:20:58.899Z"
   },
   {
    "duration": 16,
    "start_time": "2023-01-25T15:20:58.931Z"
   },
   {
    "duration": 232,
    "start_time": "2023-01-25T15:20:58.949Z"
   },
   {
    "duration": 11,
    "start_time": "2023-01-25T15:20:59.188Z"
   },
   {
    "duration": 7,
    "start_time": "2023-01-25T15:20:59.200Z"
   },
   {
    "duration": 11,
    "start_time": "2023-01-25T15:20:59.209Z"
   },
   {
    "duration": 15,
    "start_time": "2023-01-25T15:20:59.222Z"
   },
   {
    "duration": 14,
    "start_time": "2023-01-25T15:20:59.239Z"
   },
   {
    "duration": 23,
    "start_time": "2023-01-25T15:20:59.254Z"
   },
   {
    "duration": 89,
    "start_time": "2023-01-25T15:20:59.280Z"
   },
   {
    "duration": 10,
    "start_time": "2023-01-25T15:20:59.371Z"
   },
   {
    "duration": 47,
    "start_time": "2023-01-25T15:20:59.382Z"
   },
   {
    "duration": 9,
    "start_time": "2023-01-25T15:20:59.430Z"
   },
   {
    "duration": 12,
    "start_time": "2023-01-25T15:20:59.440Z"
   },
   {
    "duration": 9,
    "start_time": "2023-01-25T15:20:59.454Z"
   },
   {
    "duration": 14,
    "start_time": "2023-01-25T15:20:59.465Z"
   },
   {
    "duration": 294,
    "start_time": "2023-01-25T15:20:59.480Z"
   },
   {
    "duration": 24,
    "start_time": "2023-01-25T15:20:59.775Z"
   },
   {
    "duration": 4,
    "start_time": "2023-01-25T15:20:59.801Z"
   },
   {
    "duration": 24,
    "start_time": "2023-01-25T15:20:59.807Z"
   },
   {
    "duration": 279,
    "start_time": "2023-01-25T15:20:59.833Z"
   },
   {
    "duration": 4,
    "start_time": "2023-01-25T15:21:00.114Z"
   },
   {
    "duration": 41,
    "start_time": "2023-01-25T15:21:00.120Z"
   },
   {
    "duration": 452,
    "start_time": "2023-01-25T15:23:07.504Z"
   },
   {
    "duration": 22,
    "start_time": "2023-01-25T15:23:07.958Z"
   },
   {
    "duration": 40,
    "start_time": "2023-01-25T15:23:07.982Z"
   },
   {
    "duration": 2080,
    "start_time": "2023-01-25T15:23:08.024Z"
   },
   {
    "duration": 5,
    "start_time": "2023-01-25T15:23:10.106Z"
   },
   {
    "duration": 8,
    "start_time": "2023-01-25T15:23:10.112Z"
   },
   {
    "duration": 46,
    "start_time": "2023-01-25T15:23:10.121Z"
   },
   {
    "duration": 18,
    "start_time": "2023-01-25T15:23:10.168Z"
   },
   {
    "duration": 230,
    "start_time": "2023-01-25T15:23:10.188Z"
   },
   {
    "duration": 12,
    "start_time": "2023-01-25T15:23:10.422Z"
   },
   {
    "duration": 4,
    "start_time": "2023-01-25T15:23:10.436Z"
   },
   {
    "duration": 13,
    "start_time": "2023-01-25T15:23:10.441Z"
   },
   {
    "duration": 13,
    "start_time": "2023-01-25T15:23:10.455Z"
   },
   {
    "duration": 15,
    "start_time": "2023-01-25T15:23:10.470Z"
   },
   {
    "duration": 16,
    "start_time": "2023-01-25T15:23:10.486Z"
   },
   {
    "duration": 66,
    "start_time": "2023-01-25T15:23:10.503Z"
   },
   {
    "duration": 21,
    "start_time": "2023-01-25T15:23:10.571Z"
   },
   {
    "duration": 22,
    "start_time": "2023-01-25T15:23:10.594Z"
   },
   {
    "duration": 8,
    "start_time": "2023-01-25T15:23:10.617Z"
   },
   {
    "duration": 11,
    "start_time": "2023-01-25T15:23:10.627Z"
   },
   {
    "duration": 7,
    "start_time": "2023-01-25T15:23:10.639Z"
   },
   {
    "duration": 41,
    "start_time": "2023-01-25T15:23:10.648Z"
   },
   {
    "duration": 276,
    "start_time": "2023-01-25T15:23:10.691Z"
   },
   {
    "duration": 25,
    "start_time": "2023-01-25T15:23:10.968Z"
   },
   {
    "duration": 4,
    "start_time": "2023-01-25T15:23:10.994Z"
   },
   {
    "duration": 26,
    "start_time": "2023-01-25T15:23:10.999Z"
   },
   {
    "duration": 280,
    "start_time": "2023-01-25T15:23:11.026Z"
   },
   {
    "duration": 5,
    "start_time": "2023-01-25T15:23:11.308Z"
   },
   {
    "duration": 37,
    "start_time": "2023-01-25T15:23:11.314Z"
   },
   {
    "duration": 543,
    "start_time": "2023-01-25T15:26:54.933Z"
   },
   {
    "duration": 14,
    "start_time": "2023-01-25T15:26:55.478Z"
   },
   {
    "duration": 36,
    "start_time": "2023-01-25T15:26:55.494Z"
   },
   {
    "duration": 2344,
    "start_time": "2023-01-25T15:26:55.532Z"
   },
   {
    "duration": 6,
    "start_time": "2023-01-25T15:26:57.879Z"
   },
   {
    "duration": 10,
    "start_time": "2023-01-25T15:26:57.886Z"
   },
   {
    "duration": 33,
    "start_time": "2023-01-25T15:26:57.897Z"
   },
   {
    "duration": 15,
    "start_time": "2023-01-25T15:26:57.932Z"
   },
   {
    "duration": 235,
    "start_time": "2023-01-25T15:26:57.949Z"
   },
   {
    "duration": 9,
    "start_time": "2023-01-25T15:26:58.186Z"
   },
   {
    "duration": 4,
    "start_time": "2023-01-25T15:26:58.197Z"
   },
   {
    "duration": 11,
    "start_time": "2023-01-25T15:26:58.202Z"
   },
   {
    "duration": 12,
    "start_time": "2023-01-25T15:26:58.214Z"
   },
   {
    "duration": 15,
    "start_time": "2023-01-25T15:26:58.228Z"
   },
   {
    "duration": 25,
    "start_time": "2023-01-25T15:26:58.245Z"
   },
   {
    "duration": 70,
    "start_time": "2023-01-25T15:26:58.272Z"
   },
   {
    "duration": 9,
    "start_time": "2023-01-25T15:26:58.344Z"
   },
   {
    "duration": 33,
    "start_time": "2023-01-25T15:26:58.354Z"
   },
   {
    "duration": 8,
    "start_time": "2023-01-25T15:26:58.388Z"
   },
   {
    "duration": 29,
    "start_time": "2023-01-25T15:26:58.397Z"
   },
   {
    "duration": 9,
    "start_time": "2023-01-25T15:26:58.427Z"
   },
   {
    "duration": 27,
    "start_time": "2023-01-25T15:26:58.437Z"
   },
   {
    "duration": 280,
    "start_time": "2023-01-25T15:26:58.465Z"
   },
   {
    "duration": 14,
    "start_time": "2023-01-25T15:26:58.747Z"
   },
   {
    "duration": 27,
    "start_time": "2023-01-25T15:26:58.762Z"
   },
   {
    "duration": 13,
    "start_time": "2023-01-25T15:26:58.791Z"
   },
   {
    "duration": 276,
    "start_time": "2023-01-25T15:26:58.805Z"
   },
   {
    "duration": 5,
    "start_time": "2023-01-25T15:26:59.082Z"
   },
   {
    "duration": 53,
    "start_time": "2023-01-25T15:26:59.089Z"
   },
   {
    "duration": 10,
    "start_time": "2023-01-25T15:27:53.199Z"
   },
   {
    "duration": 37,
    "start_time": "2023-01-25T15:29:21.757Z"
   },
   {
    "duration": 35,
    "start_time": "2023-01-25T15:30:26.914Z"
   },
   {
    "duration": 234,
    "start_time": "2023-01-25T15:32:12.963Z"
   },
   {
    "duration": 231,
    "start_time": "2023-01-25T15:32:37.980Z"
   },
   {
    "duration": 302,
    "start_time": "2023-01-25T15:33:10.995Z"
   },
   {
    "duration": 292,
    "start_time": "2023-01-25T15:33:23.489Z"
   },
   {
    "duration": 311,
    "start_time": "2023-01-25T15:35:37.746Z"
   },
   {
    "duration": 12,
    "start_time": "2023-01-25T15:50:10.754Z"
   },
   {
    "duration": 13,
    "start_time": "2023-01-25T15:50:19.532Z"
   },
   {
    "duration": 205,
    "start_time": "2023-01-25T15:50:55.274Z"
   },
   {
    "duration": 232,
    "start_time": "2023-01-25T15:51:13.601Z"
   },
   {
    "duration": 139,
    "start_time": "2023-01-25T15:51:22.605Z"
   },
   {
    "duration": 171,
    "start_time": "2023-01-25T15:51:32.056Z"
   },
   {
    "duration": 148,
    "start_time": "2023-01-25T15:51:53.902Z"
   },
   {
    "duration": 147,
    "start_time": "2023-01-25T15:51:58.393Z"
   },
   {
    "duration": 168,
    "start_time": "2023-01-25T15:52:10.520Z"
   },
   {
    "duration": 13,
    "start_time": "2023-01-25T15:52:57.149Z"
   },
   {
    "duration": 8,
    "start_time": "2023-01-25T15:54:34.687Z"
   },
   {
    "duration": 9,
    "start_time": "2023-01-25T15:57:01.810Z"
   },
   {
    "duration": 4,
    "start_time": "2023-01-25T16:00:44.989Z"
   },
   {
    "duration": 10,
    "start_time": "2023-01-25T16:01:55.675Z"
   },
   {
    "duration": 488,
    "start_time": "2023-01-25T16:02:25.962Z"
   },
   {
    "duration": 14,
    "start_time": "2023-01-25T16:02:26.453Z"
   },
   {
    "duration": 90,
    "start_time": "2023-01-25T16:02:26.468Z"
   },
   {
    "duration": 2119,
    "start_time": "2023-01-25T16:02:26.561Z"
   },
   {
    "duration": 8,
    "start_time": "2023-01-25T16:02:28.683Z"
   },
   {
    "duration": 29,
    "start_time": "2023-01-25T16:02:28.694Z"
   },
   {
    "duration": 68,
    "start_time": "2023-01-25T16:02:28.726Z"
   },
   {
    "duration": 16,
    "start_time": "2023-01-25T16:02:28.795Z"
   },
   {
    "duration": 252,
    "start_time": "2023-01-25T16:02:28.812Z"
   },
   {
    "duration": 8,
    "start_time": "2023-01-25T16:02:29.067Z"
   },
   {
    "duration": 63,
    "start_time": "2023-01-25T16:02:29.077Z"
   },
   {
    "duration": 35,
    "start_time": "2023-01-25T16:02:29.141Z"
   },
   {
    "duration": 39,
    "start_time": "2023-01-25T16:02:29.178Z"
   },
   {
    "duration": 51,
    "start_time": "2023-01-25T16:02:29.219Z"
   },
   {
    "duration": 42,
    "start_time": "2023-01-25T16:02:29.272Z"
   },
   {
    "duration": 81,
    "start_time": "2023-01-25T16:02:29.316Z"
   },
   {
    "duration": 10,
    "start_time": "2023-01-25T16:02:29.399Z"
   },
   {
    "duration": 43,
    "start_time": "2023-01-25T16:02:29.410Z"
   },
   {
    "duration": 92,
    "start_time": "2023-01-25T16:02:29.454Z"
   },
   {
    "duration": 38,
    "start_time": "2023-01-25T16:02:29.547Z"
   },
   {
    "duration": 35,
    "start_time": "2023-01-25T16:02:29.587Z"
   },
   {
    "duration": 25,
    "start_time": "2023-01-25T16:02:29.624Z"
   },
   {
    "duration": 60,
    "start_time": "2023-01-25T16:02:29.651Z"
   },
   {
    "duration": 25,
    "start_time": "2023-01-25T16:02:29.713Z"
   },
   {
    "duration": 16,
    "start_time": "2023-01-25T16:02:29.739Z"
   },
   {
    "duration": 42,
    "start_time": "2023-01-25T16:02:29.757Z"
   },
   {
    "duration": 684,
    "start_time": "2023-01-25T16:02:29.800Z"
   },
   {
    "duration": 3,
    "start_time": "2023-01-25T16:02:30.487Z"
   },
   {
    "duration": 36,
    "start_time": "2023-01-25T16:02:30.491Z"
   },
   {
    "duration": 152,
    "start_time": "2023-01-25T16:02:30.529Z"
   },
   {
    "duration": 480,
    "start_time": "2023-01-25T16:02:30.683Z"
   },
   {
    "duration": 6,
    "start_time": "2023-01-25T16:02:31.165Z"
   },
   {
    "duration": 119,
    "start_time": "2023-01-25T16:02:31.172Z"
   },
   {
    "duration": 8,
    "start_time": "2023-01-25T16:04:53.769Z"
   },
   {
    "duration": 12,
    "start_time": "2023-01-25T16:11:59.780Z"
   },
   {
    "duration": 495,
    "start_time": "2023-01-25T16:13:28.051Z"
   },
   {
    "duration": 14,
    "start_time": "2023-01-25T16:13:28.549Z"
   },
   {
    "duration": 38,
    "start_time": "2023-01-25T16:13:28.564Z"
   },
   {
    "duration": 2049,
    "start_time": "2023-01-25T16:13:28.604Z"
   },
   {
    "duration": 6,
    "start_time": "2023-01-25T16:13:30.655Z"
   },
   {
    "duration": 68,
    "start_time": "2023-01-25T16:13:30.662Z"
   },
   {
    "duration": 60,
    "start_time": "2023-01-25T16:13:30.731Z"
   },
   {
    "duration": 35,
    "start_time": "2023-01-25T16:13:30.793Z"
   },
   {
    "duration": 302,
    "start_time": "2023-01-25T16:13:30.829Z"
   },
   {
    "duration": 9,
    "start_time": "2023-01-25T16:13:31.134Z"
   },
   {
    "duration": 55,
    "start_time": "2023-01-25T16:13:31.145Z"
   },
   {
    "duration": 33,
    "start_time": "2023-01-25T16:13:31.202Z"
   },
   {
    "duration": 39,
    "start_time": "2023-01-25T16:13:31.237Z"
   },
   {
    "duration": 56,
    "start_time": "2023-01-25T16:13:31.277Z"
   },
   {
    "duration": 53,
    "start_time": "2023-01-25T16:13:31.335Z"
   },
   {
    "duration": 96,
    "start_time": "2023-01-25T16:13:31.390Z"
   },
   {
    "duration": 27,
    "start_time": "2023-01-25T16:13:31.488Z"
   },
   {
    "duration": 11,
    "start_time": "2023-01-25T16:13:31.517Z"
   },
   {
    "duration": 45,
    "start_time": "2023-01-25T16:13:31.530Z"
   },
   {
    "duration": 68,
    "start_time": "2023-01-25T16:13:31.576Z"
   },
   {
    "duration": 31,
    "start_time": "2023-01-25T16:13:31.646Z"
   },
   {
    "duration": 87,
    "start_time": "2023-01-25T16:13:31.678Z"
   },
   {
    "duration": 34,
    "start_time": "2023-01-25T16:13:31.767Z"
   },
   {
    "duration": 33,
    "start_time": "2023-01-25T16:13:31.802Z"
   },
   {
    "duration": 33,
    "start_time": "2023-01-25T16:13:31.836Z"
   },
   {
    "duration": 44,
    "start_time": "2023-01-25T16:13:31.871Z"
   },
   {
    "duration": 36,
    "start_time": "2023-01-25T16:13:31.917Z"
   },
   {
    "duration": 24,
    "start_time": "2023-01-25T16:13:31.956Z"
   },
   {
    "duration": 26,
    "start_time": "2023-01-25T16:13:31.982Z"
   },
   {
    "duration": 23,
    "start_time": "2023-01-25T16:13:32.010Z"
   },
   {
    "duration": 303,
    "start_time": "2023-01-25T16:13:32.035Z"
   },
   {
    "duration": 5,
    "start_time": "2023-01-25T16:13:32.339Z"
   },
   {
    "duration": 48,
    "start_time": "2023-01-25T16:13:32.345Z"
   },
   {
    "duration": 85,
    "start_time": "2023-01-25T16:14:11.688Z"
   },
   {
    "duration": 30,
    "start_time": "2023-01-25T16:14:21.691Z"
   },
   {
    "duration": 17,
    "start_time": "2023-01-25T16:18:35.182Z"
   },
   {
    "duration": 4,
    "start_time": "2023-01-25T16:25:28.788Z"
   },
   {
    "duration": 14,
    "start_time": "2023-01-25T16:26:24.813Z"
   },
   {
    "duration": 4,
    "start_time": "2023-01-25T16:26:29.408Z"
   },
   {
    "duration": 4,
    "start_time": "2023-01-25T16:27:27.641Z"
   },
   {
    "duration": 14,
    "start_time": "2023-01-25T16:33:32.898Z"
   },
   {
    "duration": 744,
    "start_time": "2023-01-25T16:37:56.857Z"
   },
   {
    "duration": 13,
    "start_time": "2023-01-25T16:38:05.618Z"
   },
   {
    "duration": 6,
    "start_time": "2023-01-25T17:33:16.610Z"
   },
   {
    "duration": 26,
    "start_time": "2023-01-25T17:36:05.918Z"
   },
   {
    "duration": 13,
    "start_time": "2023-01-25T17:38:28.021Z"
   },
   {
    "duration": 17,
    "start_time": "2023-01-25T17:39:06.523Z"
   },
   {
    "duration": 53,
    "start_time": "2023-01-25T17:39:39.197Z"
   },
   {
    "duration": 41,
    "start_time": "2023-01-25T17:39:42.978Z"
   },
   {
    "duration": 27,
    "start_time": "2023-01-25T17:40:00.830Z"
   },
   {
    "duration": 9,
    "start_time": "2023-01-25T17:40:48.020Z"
   },
   {
    "duration": 39,
    "start_time": "2023-01-25T17:42:13.652Z"
   },
   {
    "duration": 48,
    "start_time": "2023-01-26T07:21:30.305Z"
   },
   {
    "duration": 748,
    "start_time": "2023-01-26T07:21:36.442Z"
   },
   {
    "duration": 20,
    "start_time": "2023-01-26T07:21:37.193Z"
   },
   {
    "duration": 78,
    "start_time": "2023-01-26T07:21:37.215Z"
   },
   {
    "duration": 2689,
    "start_time": "2023-01-26T07:21:37.295Z"
   },
   {
    "duration": 8,
    "start_time": "2023-01-26T07:21:39.986Z"
   },
   {
    "duration": 13,
    "start_time": "2023-01-26T07:21:39.995Z"
   },
   {
    "duration": 52,
    "start_time": "2023-01-26T07:21:40.010Z"
   },
   {
    "duration": 20,
    "start_time": "2023-01-26T07:21:40.064Z"
   },
   {
    "duration": 325,
    "start_time": "2023-01-26T07:21:40.085Z"
   },
   {
    "duration": 26,
    "start_time": "2023-01-26T07:21:40.414Z"
   },
   {
    "duration": 16,
    "start_time": "2023-01-26T07:21:40.441Z"
   },
   {
    "duration": 17,
    "start_time": "2023-01-26T07:21:40.459Z"
   },
   {
    "duration": 74,
    "start_time": "2023-01-26T07:21:40.478Z"
   },
   {
    "duration": 3,
    "start_time": "2023-01-26T07:21:40.554Z"
   },
   {
    "duration": 41,
    "start_time": "2023-01-26T07:21:40.559Z"
   },
   {
    "duration": 26,
    "start_time": "2023-01-26T07:21:40.602Z"
   },
   {
    "duration": 87,
    "start_time": "2023-01-26T07:21:40.630Z"
   },
   {
    "duration": 42,
    "start_time": "2023-01-26T07:21:40.719Z"
   },
   {
    "duration": 16,
    "start_time": "2023-01-26T07:21:40.764Z"
   },
   {
    "duration": 13,
    "start_time": "2023-01-26T07:21:40.782Z"
   },
   {
    "duration": 42,
    "start_time": "2023-01-26T07:21:40.796Z"
   },
   {
    "duration": 7,
    "start_time": "2023-01-26T07:21:40.840Z"
   },
   {
    "duration": 55,
    "start_time": "2023-01-26T07:21:40.850Z"
   },
   {
    "duration": 31,
    "start_time": "2023-01-26T07:21:40.908Z"
   },
   {
    "duration": 28,
    "start_time": "2023-01-26T07:21:40.941Z"
   },
   {
    "duration": 31,
    "start_time": "2023-01-26T07:21:40.972Z"
   },
   {
    "duration": 37,
    "start_time": "2023-01-26T07:21:41.006Z"
   },
   {
    "duration": 11,
    "start_time": "2023-01-26T07:21:41.047Z"
   },
   {
    "duration": 44,
    "start_time": "2023-01-26T07:21:41.060Z"
   },
   {
    "duration": 12,
    "start_time": "2023-01-26T07:21:41.106Z"
   },
   {
    "duration": 36,
    "start_time": "2023-01-26T07:21:41.121Z"
   },
   {
    "duration": 83,
    "start_time": "2023-01-26T07:21:41.160Z"
   },
   {
    "duration": 3,
    "start_time": "2023-01-26T07:21:41.245Z"
   },
   {
    "duration": 35,
    "start_time": "2023-01-26T07:21:41.250Z"
   },
   {
    "duration": 55,
    "start_time": "2023-01-26T07:21:41.288Z"
   },
   {
    "duration": 360,
    "start_time": "2023-01-26T07:21:41.346Z"
   },
   {
    "duration": 5,
    "start_time": "2023-01-26T07:21:41.708Z"
   },
   {
    "duration": 54,
    "start_time": "2023-01-26T07:21:41.715Z"
   },
   {
    "duration": 47,
    "start_time": "2023-01-26T07:23:26.221Z"
   },
   {
    "duration": 17,
    "start_time": "2023-01-26T07:24:07.686Z"
   },
   {
    "duration": 29,
    "start_time": "2023-01-26T07:27:32.632Z"
   },
   {
    "duration": 29,
    "start_time": "2023-01-26T07:28:59.142Z"
   },
   {
    "duration": 20,
    "start_time": "2023-01-26T07:34:43.531Z"
   },
   {
    "duration": 99,
    "start_time": "2023-01-26T07:41:47.847Z"
   },
   {
    "duration": 95,
    "start_time": "2023-01-26T07:42:10.221Z"
   },
   {
    "duration": 26,
    "start_time": "2023-01-26T07:42:40.433Z"
   },
   {
    "duration": 24,
    "start_time": "2023-01-26T07:42:55.128Z"
   },
   {
    "duration": 96,
    "start_time": "2023-01-26T07:43:33.138Z"
   },
   {
    "duration": 73,
    "start_time": "2023-01-26T07:43:50.399Z"
   },
   {
    "duration": 76,
    "start_time": "2023-01-26T07:43:58.973Z"
   },
   {
    "duration": 72,
    "start_time": "2023-01-26T07:44:08.939Z"
   },
   {
    "duration": 137,
    "start_time": "2023-01-26T07:44:22.211Z"
   },
   {
    "duration": 25,
    "start_time": "2023-01-26T07:44:44.107Z"
   },
   {
    "duration": 23,
    "start_time": "2023-01-26T07:45:17.069Z"
   },
   {
    "duration": 40,
    "start_time": "2023-01-26T07:46:30.380Z"
   },
   {
    "duration": 26,
    "start_time": "2023-01-26T07:46:41.803Z"
   },
   {
    "duration": 75,
    "start_time": "2023-01-26T07:49:35.348Z"
   },
   {
    "duration": 11,
    "start_time": "2023-01-26T07:49:59.195Z"
   },
   {
    "duration": 46,
    "start_time": "2023-01-26T07:51:05.973Z"
   },
   {
    "duration": 33,
    "start_time": "2023-01-26T07:52:18.052Z"
   },
   {
    "duration": 69,
    "start_time": "2023-01-26T07:55:19.998Z"
   },
   {
    "duration": 38,
    "start_time": "2023-01-26T07:55:53.055Z"
   },
   {
    "duration": 52,
    "start_time": "2023-01-26T07:56:25.517Z"
   },
   {
    "duration": 46,
    "start_time": "2023-01-26T07:57:37.936Z"
   },
   {
    "duration": 65,
    "start_time": "2023-01-26T08:02:54.296Z"
   },
   {
    "duration": 34,
    "start_time": "2023-01-26T08:03:05.892Z"
   },
   {
    "duration": 48,
    "start_time": "2023-01-26T08:03:10.872Z"
   },
   {
    "duration": 37,
    "start_time": "2023-01-26T08:03:17.508Z"
   },
   {
    "duration": 29,
    "start_time": "2023-01-26T08:06:41.204Z"
   },
   {
    "duration": 8,
    "start_time": "2023-01-26T09:00:26.623Z"
   },
   {
    "duration": 48,
    "start_time": "2023-01-26T09:03:53.048Z"
   },
   {
    "duration": 12,
    "start_time": "2023-01-26T09:04:09.089Z"
   },
   {
    "duration": 9,
    "start_time": "2023-01-26T09:05:39.499Z"
   },
   {
    "duration": 9,
    "start_time": "2023-01-26T09:06:03.212Z"
   },
   {
    "duration": 591,
    "start_time": "2023-01-26T09:10:17.060Z"
   },
   {
    "duration": 24,
    "start_time": "2023-01-26T09:10:17.654Z"
   },
   {
    "duration": 40,
    "start_time": "2023-01-26T09:10:17.680Z"
   },
   {
    "duration": 2866,
    "start_time": "2023-01-26T09:10:17.722Z"
   },
   {
    "duration": 7,
    "start_time": "2023-01-26T09:10:20.592Z"
   },
   {
    "duration": 11,
    "start_time": "2023-01-26T09:10:20.601Z"
   },
   {
    "duration": 41,
    "start_time": "2023-01-26T09:10:20.614Z"
   },
   {
    "duration": 26,
    "start_time": "2023-01-26T09:10:20.658Z"
   },
   {
    "duration": 346,
    "start_time": "2023-01-26T09:10:20.687Z"
   },
   {
    "duration": 12,
    "start_time": "2023-01-26T09:10:21.038Z"
   },
   {
    "duration": 32,
    "start_time": "2023-01-26T09:10:21.052Z"
   },
   {
    "duration": 16,
    "start_time": "2023-01-26T09:10:21.086Z"
   },
   {
    "duration": 17,
    "start_time": "2023-01-26T09:10:21.104Z"
   },
   {
    "duration": 47,
    "start_time": "2023-01-26T09:10:21.125Z"
   },
   {
    "duration": 19,
    "start_time": "2023-01-26T09:10:21.174Z"
   },
   {
    "duration": 61,
    "start_time": "2023-01-26T09:10:21.194Z"
   },
   {
    "duration": 9,
    "start_time": "2023-01-26T09:10:21.257Z"
   },
   {
    "duration": 28,
    "start_time": "2023-01-26T09:10:21.268Z"
   },
   {
    "duration": 121,
    "start_time": "2023-01-26T09:10:21.298Z"
   },
   {
    "duration": 42,
    "start_time": "2023-01-26T09:10:21.421Z"
   },
   {
    "duration": 30,
    "start_time": "2023-01-26T09:10:21.465Z"
   },
   {
    "duration": 7,
    "start_time": "2023-01-26T09:10:21.497Z"
   },
   {
    "duration": 15,
    "start_time": "2023-01-26T09:10:21.506Z"
   },
   {
    "duration": 31,
    "start_time": "2023-01-26T09:10:21.522Z"
   },
   {
    "duration": 45,
    "start_time": "2023-01-26T09:10:21.555Z"
   },
   {
    "duration": 9,
    "start_time": "2023-01-26T09:10:21.601Z"
   },
   {
    "duration": 15,
    "start_time": "2023-01-26T09:10:21.611Z"
   },
   {
    "duration": 19,
    "start_time": "2023-01-26T09:10:21.628Z"
   },
   {
    "duration": 41,
    "start_time": "2023-01-26T09:10:21.649Z"
   },
   {
    "duration": 16,
    "start_time": "2023-01-26T09:10:21.691Z"
   },
   {
    "duration": 13,
    "start_time": "2023-01-26T09:10:21.709Z"
   },
   {
    "duration": 20,
    "start_time": "2023-01-26T09:10:21.723Z"
   },
   {
    "duration": 11,
    "start_time": "2023-01-26T09:10:21.756Z"
   },
   {
    "duration": 11,
    "start_time": "2023-01-26T09:10:21.769Z"
   },
   {
    "duration": 14,
    "start_time": "2023-01-26T09:10:21.781Z"
   },
   {
    "duration": 223,
    "start_time": "2023-01-26T09:10:21.796Z"
   },
   {
    "duration": 4,
    "start_time": "2023-01-26T09:10:22.021Z"
   },
   {
    "duration": 72,
    "start_time": "2023-01-26T09:10:22.027Z"
   },
   {
    "duration": 5,
    "start_time": "2023-01-26T09:10:22.102Z"
   },
   {
    "duration": 184,
    "start_time": "2023-01-26T09:11:01.360Z"
   },
   {
    "duration": 287,
    "start_time": "2023-01-26T09:20:19.115Z"
   },
   {
    "duration": 288,
    "start_time": "2023-01-26T09:20:36.814Z"
   },
   {
    "duration": 175,
    "start_time": "2023-01-26T09:21:19.996Z"
   },
   {
    "duration": 300,
    "start_time": "2023-01-26T09:22:11.367Z"
   },
   {
    "duration": 198,
    "start_time": "2023-01-26T09:22:35.461Z"
   },
   {
    "duration": 202,
    "start_time": "2023-01-26T09:23:08.555Z"
   },
   {
    "duration": 234,
    "start_time": "2023-01-26T09:23:34.897Z"
   },
   {
    "duration": 262,
    "start_time": "2023-01-26T09:24:07.470Z"
   },
   {
    "duration": 262,
    "start_time": "2023-01-26T09:24:18.104Z"
   },
   {
    "duration": 164,
    "start_time": "2023-01-26T09:25:10.745Z"
   },
   {
    "duration": 176,
    "start_time": "2023-01-26T09:35:38.690Z"
   },
   {
    "duration": 255,
    "start_time": "2023-01-26T09:36:06.400Z"
   },
   {
    "duration": 265,
    "start_time": "2023-01-26T09:38:42.293Z"
   },
   {
    "duration": 260,
    "start_time": "2023-01-26T09:39:09.163Z"
   },
   {
    "duration": 588,
    "start_time": "2023-01-26T09:42:42.874Z"
   },
   {
    "duration": 230,
    "start_time": "2023-01-26T09:43:15.610Z"
   },
   {
    "duration": 246,
    "start_time": "2023-01-26T09:46:11.720Z"
   },
   {
    "duration": 191,
    "start_time": "2023-01-26T09:48:52.167Z"
   },
   {
    "duration": 203,
    "start_time": "2023-01-26T09:49:30.113Z"
   },
   {
    "duration": 189,
    "start_time": "2023-01-26T09:54:09.566Z"
   },
   {
    "duration": 1601,
    "start_time": "2023-01-26T09:56:23.622Z"
   },
   {
    "duration": 249,
    "start_time": "2023-01-26T09:56:45.563Z"
   },
   {
    "duration": 217,
    "start_time": "2023-01-26T09:57:36.002Z"
   },
   {
    "duration": 138,
    "start_time": "2023-01-26T09:58:47.915Z"
   },
   {
    "duration": 243,
    "start_time": "2023-01-26T09:58:55.974Z"
   },
   {
    "duration": 342,
    "start_time": "2023-01-26T09:59:21.773Z"
   },
   {
    "duration": 443,
    "start_time": "2023-01-26T10:01:07.891Z"
   },
   {
    "duration": 345,
    "start_time": "2023-01-26T10:01:32.523Z"
   },
   {
    "duration": 105,
    "start_time": "2023-01-26T10:02:43.229Z"
   },
   {
    "duration": 347,
    "start_time": "2023-01-26T10:02:46.283Z"
   },
   {
    "duration": 272,
    "start_time": "2023-01-26T10:03:01.104Z"
   },
   {
    "duration": 301,
    "start_time": "2023-01-26T10:03:06.858Z"
   },
   {
    "duration": 357,
    "start_time": "2023-01-26T10:03:29.041Z"
   },
   {
    "duration": 302,
    "start_time": "2023-01-26T10:05:44.878Z"
   },
   {
    "duration": 510,
    "start_time": "2023-01-26T10:05:56.054Z"
   },
   {
    "duration": 319,
    "start_time": "2023-01-26T10:06:02.225Z"
   },
   {
    "duration": 192,
    "start_time": "2023-01-26T10:09:50.329Z"
   },
   {
    "duration": 230,
    "start_time": "2023-01-26T10:10:22.448Z"
   },
   {
    "duration": 188,
    "start_time": "2023-01-26T10:10:36.425Z"
   },
   {
    "duration": 262,
    "start_time": "2023-01-26T10:59:28.035Z"
   },
   {
    "duration": 180,
    "start_time": "2023-01-26T11:00:06.865Z"
   },
   {
    "duration": 203,
    "start_time": "2023-01-26T11:00:15.456Z"
   },
   {
    "duration": 184,
    "start_time": "2023-01-26T11:09:13.398Z"
   },
   {
    "duration": 204,
    "start_time": "2023-01-26T11:15:39.330Z"
   },
   {
    "duration": 183,
    "start_time": "2023-01-26T11:16:23.106Z"
   },
   {
    "duration": 203,
    "start_time": "2023-01-26T11:17:04.668Z"
   },
   {
    "duration": 181,
    "start_time": "2023-01-26T11:17:13.615Z"
   },
   {
    "duration": 213,
    "start_time": "2023-01-26T11:17:33.004Z"
   },
   {
    "duration": 205,
    "start_time": "2023-01-26T11:18:32.863Z"
   },
   {
    "duration": 217,
    "start_time": "2023-01-26T11:18:44.257Z"
   },
   {
    "duration": 210,
    "start_time": "2023-01-26T11:18:57.508Z"
   },
   {
    "duration": 225,
    "start_time": "2023-01-26T11:19:09.383Z"
   },
   {
    "duration": 540,
    "start_time": "2023-01-26T11:22:17.835Z"
   },
   {
    "duration": 23,
    "start_time": "2023-01-26T11:22:18.377Z"
   },
   {
    "duration": 64,
    "start_time": "2023-01-26T11:22:18.403Z"
   },
   {
    "duration": 2599,
    "start_time": "2023-01-26T11:22:18.473Z"
   },
   {
    "duration": 7,
    "start_time": "2023-01-26T11:22:21.074Z"
   },
   {
    "duration": 7,
    "start_time": "2023-01-26T11:22:21.082Z"
   },
   {
    "duration": 71,
    "start_time": "2023-01-26T11:22:21.091Z"
   },
   {
    "duration": 27,
    "start_time": "2023-01-26T11:22:21.167Z"
   },
   {
    "duration": 318,
    "start_time": "2023-01-26T11:22:21.196Z"
   },
   {
    "duration": 28,
    "start_time": "2023-01-26T11:22:21.517Z"
   },
   {
    "duration": 11,
    "start_time": "2023-01-26T11:22:21.555Z"
   },
   {
    "duration": 16,
    "start_time": "2023-01-26T11:22:21.569Z"
   },
   {
    "duration": 27,
    "start_time": "2023-01-26T11:22:21.587Z"
   },
   {
    "duration": 52,
    "start_time": "2023-01-26T11:22:21.616Z"
   },
   {
    "duration": 15,
    "start_time": "2023-01-26T11:22:21.671Z"
   },
   {
    "duration": 60,
    "start_time": "2023-01-26T11:22:21.687Z"
   },
   {
    "duration": 15,
    "start_time": "2023-01-26T11:22:21.753Z"
   },
   {
    "duration": 25,
    "start_time": "2023-01-26T11:22:21.769Z"
   },
   {
    "duration": 92,
    "start_time": "2023-01-26T11:22:21.796Z"
   },
   {
    "duration": 53,
    "start_time": "2023-01-26T11:22:21.890Z"
   },
   {
    "duration": 17,
    "start_time": "2023-01-26T11:22:21.950Z"
   },
   {
    "duration": 15,
    "start_time": "2023-01-26T11:22:21.969Z"
   },
   {
    "duration": 19,
    "start_time": "2023-01-26T11:22:21.986Z"
   },
   {
    "duration": 10,
    "start_time": "2023-01-26T11:22:22.007Z"
   },
   {
    "duration": 50,
    "start_time": "2023-01-26T11:22:22.018Z"
   },
   {
    "duration": 15,
    "start_time": "2023-01-26T11:22:22.070Z"
   },
   {
    "duration": 15,
    "start_time": "2023-01-26T11:22:22.088Z"
   },
   {
    "duration": 39,
    "start_time": "2023-01-26T11:22:22.108Z"
   },
   {
    "duration": 24,
    "start_time": "2023-01-26T11:22:22.148Z"
   },
   {
    "duration": 16,
    "start_time": "2023-01-26T11:22:22.174Z"
   },
   {
    "duration": 16,
    "start_time": "2023-01-26T11:22:22.192Z"
   },
   {
    "duration": 31,
    "start_time": "2023-01-26T11:22:22.209Z"
   },
   {
    "duration": 23,
    "start_time": "2023-01-26T11:22:22.243Z"
   },
   {
    "duration": 9,
    "start_time": "2023-01-26T11:22:22.268Z"
   },
   {
    "duration": 12,
    "start_time": "2023-01-26T11:22:22.278Z"
   },
   {
    "duration": 216,
    "start_time": "2023-01-26T11:22:22.292Z"
   },
   {
    "duration": 4,
    "start_time": "2023-01-26T11:22:22.510Z"
   },
   {
    "duration": 53,
    "start_time": "2023-01-26T11:22:22.516Z"
   },
   {
    "duration": 187,
    "start_time": "2023-01-26T11:22:22.571Z"
   },
   {
    "duration": 192,
    "start_time": "2023-01-26T11:22:22.761Z"
   },
   {
    "duration": 301,
    "start_time": "2023-01-26T11:22:22.961Z"
   },
   {
    "duration": 297,
    "start_time": "2023-01-26T11:22:23.264Z"
   },
   {
    "duration": 201,
    "start_time": "2023-01-26T11:22:23.563Z"
   },
   {
    "duration": 192,
    "start_time": "2023-01-26T11:22:23.766Z"
   },
   {
    "duration": 157,
    "start_time": "2023-01-26T11:22:23.960Z"
   },
   {
    "duration": 178,
    "start_time": "2023-01-26T11:22:24.118Z"
   },
   {
    "duration": 291,
    "start_time": "2023-01-26T11:23:19.659Z"
   },
   {
    "duration": 222,
    "start_time": "2023-01-26T11:23:50.611Z"
   },
   {
    "duration": 216,
    "start_time": "2023-01-26T11:24:00.396Z"
   },
   {
    "duration": 226,
    "start_time": "2023-01-26T11:24:12.307Z"
   },
   {
    "duration": 231,
    "start_time": "2023-01-26T11:24:24.296Z"
   },
   {
    "duration": 176,
    "start_time": "2023-01-26T11:25:45.620Z"
   },
   {
    "duration": 343,
    "start_time": "2023-01-26T11:26:24.228Z"
   },
   {
    "duration": 191,
    "start_time": "2023-01-26T11:26:50.316Z"
   },
   {
    "duration": 235,
    "start_time": "2023-01-26T11:27:53.460Z"
   },
   {
    "duration": 256,
    "start_time": "2023-01-26T11:28:04.909Z"
   },
   {
    "duration": 518,
    "start_time": "2023-01-26T11:37:28.284Z"
   },
   {
    "duration": 181,
    "start_time": "2023-01-26T11:40:09.103Z"
   },
   {
    "duration": 483,
    "start_time": "2023-01-26T11:40:22.299Z"
   },
   {
    "duration": 536,
    "start_time": "2023-01-26T11:40:43.345Z"
   },
   {
    "duration": 18,
    "start_time": "2023-01-26T11:40:43.884Z"
   },
   {
    "duration": 67,
    "start_time": "2023-01-26T11:40:43.903Z"
   },
   {
    "duration": 2541,
    "start_time": "2023-01-26T11:40:43.972Z"
   },
   {
    "duration": 30,
    "start_time": "2023-01-26T11:40:46.516Z"
   },
   {
    "duration": 8,
    "start_time": "2023-01-26T11:40:46.549Z"
   },
   {
    "duration": 48,
    "start_time": "2023-01-26T11:40:46.560Z"
   },
   {
    "duration": 18,
    "start_time": "2023-01-26T11:40:46.609Z"
   },
   {
    "duration": 314,
    "start_time": "2023-01-26T11:40:46.643Z"
   },
   {
    "duration": 14,
    "start_time": "2023-01-26T11:40:46.962Z"
   },
   {
    "duration": 10,
    "start_time": "2023-01-26T11:40:46.978Z"
   },
   {
    "duration": 20,
    "start_time": "2023-01-26T11:40:46.990Z"
   },
   {
    "duration": 63,
    "start_time": "2023-01-26T11:40:47.012Z"
   },
   {
    "duration": 30,
    "start_time": "2023-01-26T11:40:47.078Z"
   },
   {
    "duration": 16,
    "start_time": "2023-01-26T11:40:47.110Z"
   },
   {
    "duration": 49,
    "start_time": "2023-01-26T11:40:47.128Z"
   },
   {
    "duration": 5,
    "start_time": "2023-01-26T11:40:47.179Z"
   },
   {
    "duration": 24,
    "start_time": "2023-01-26T11:40:47.186Z"
   },
   {
    "duration": 123,
    "start_time": "2023-01-26T11:40:47.212Z"
   },
   {
    "duration": 48,
    "start_time": "2023-01-26T11:40:47.341Z"
   },
   {
    "duration": 15,
    "start_time": "2023-01-26T11:40:47.391Z"
   },
   {
    "duration": 37,
    "start_time": "2023-01-26T11:40:47.408Z"
   },
   {
    "duration": 43,
    "start_time": "2023-01-26T11:40:47.447Z"
   },
   {
    "duration": 15,
    "start_time": "2023-01-26T11:40:47.492Z"
   },
   {
    "duration": 21,
    "start_time": "2023-01-26T11:40:47.509Z"
   },
   {
    "duration": 26,
    "start_time": "2023-01-26T11:40:47.532Z"
   },
   {
    "duration": 47,
    "start_time": "2023-01-26T11:40:47.559Z"
   },
   {
    "duration": 9,
    "start_time": "2023-01-26T11:40:47.607Z"
   },
   {
    "duration": 14,
    "start_time": "2023-01-26T11:40:47.618Z"
   },
   {
    "duration": 45,
    "start_time": "2023-01-26T11:40:47.634Z"
   },
   {
    "duration": 14,
    "start_time": "2023-01-26T11:40:47.682Z"
   },
   {
    "duration": 11,
    "start_time": "2023-01-26T11:40:47.698Z"
   },
   {
    "duration": 17,
    "start_time": "2023-01-26T11:40:47.711Z"
   },
   {
    "duration": 45,
    "start_time": "2023-01-26T11:40:47.730Z"
   },
   {
    "duration": 13,
    "start_time": "2023-01-26T11:40:47.777Z"
   },
   {
    "duration": 185,
    "start_time": "2023-01-26T11:40:47.792Z"
   },
   {
    "duration": 5,
    "start_time": "2023-01-26T11:40:47.979Z"
   },
   {
    "duration": 37,
    "start_time": "2023-01-26T11:40:47.986Z"
   },
   {
    "duration": 197,
    "start_time": "2023-01-26T11:40:48.025Z"
   },
   {
    "duration": 219,
    "start_time": "2023-01-26T11:40:48.224Z"
   },
   {
    "duration": 397,
    "start_time": "2023-01-26T11:40:48.451Z"
   },
   {
    "duration": 269,
    "start_time": "2023-01-26T11:40:48.849Z"
   },
   {
    "duration": 207,
    "start_time": "2023-01-26T11:40:49.120Z"
   },
   {
    "duration": 239,
    "start_time": "2023-01-26T11:40:49.329Z"
   },
   {
    "duration": 227,
    "start_time": "2023-01-26T11:40:49.570Z"
   },
   {
    "duration": 477,
    "start_time": "2023-01-26T11:40:49.799Z"
   },
   {
    "duration": 0,
    "start_time": "2023-01-26T11:40:50.278Z"
   },
   {
    "duration": 0,
    "start_time": "2023-01-26T11:40:50.280Z"
   },
   {
    "duration": 8,
    "start_time": "2023-01-26T11:41:21.121Z"
   },
   {
    "duration": 8,
    "start_time": "2023-01-26T11:42:08.417Z"
   },
   {
    "duration": 14,
    "start_time": "2023-01-26T11:42:20.860Z"
   },
   {
    "duration": 357,
    "start_time": "2023-01-26T11:42:36.667Z"
   },
   {
    "duration": 112,
    "start_time": "2023-01-26T11:46:44.447Z"
   },
   {
    "duration": 201,
    "start_time": "2023-01-26T11:49:01.430Z"
   },
   {
    "duration": 122,
    "start_time": "2023-01-26T11:49:08.606Z"
   },
   {
    "duration": 92,
    "start_time": "2023-01-26T11:50:11.157Z"
   },
   {
    "duration": 97,
    "start_time": "2023-01-26T11:50:21.982Z"
   },
   {
    "duration": 172,
    "start_time": "2023-01-26T11:53:27.459Z"
   },
   {
    "duration": 175,
    "start_time": "2023-01-26T11:54:17.955Z"
   },
   {
    "duration": 183,
    "start_time": "2023-01-26T11:55:09.546Z"
   },
   {
    "duration": 408,
    "start_time": "2023-01-26T11:56:14.894Z"
   },
   {
    "duration": 275,
    "start_time": "2023-01-26T11:57:07.918Z"
   },
   {
    "duration": 174,
    "start_time": "2023-01-26T12:07:14.999Z"
   },
   {
    "duration": 258,
    "start_time": "2023-01-26T12:07:57.474Z"
   },
   {
    "duration": 290,
    "start_time": "2023-01-26T12:10:03.914Z"
   },
   {
    "duration": 158,
    "start_time": "2023-01-26T12:10:51.940Z"
   },
   {
    "duration": 25,
    "start_time": "2023-01-26T12:13:31.119Z"
   },
   {
    "duration": 148,
    "start_time": "2023-01-26T12:15:01.916Z"
   },
   {
    "duration": 199,
    "start_time": "2023-01-26T12:17:41.338Z"
   },
   {
    "duration": 206,
    "start_time": "2023-01-26T12:18:36.070Z"
   },
   {
    "duration": 281,
    "start_time": "2023-01-26T12:25:25.861Z"
   },
   {
    "duration": 154,
    "start_time": "2023-01-26T12:25:48.194Z"
   },
   {
    "duration": 163,
    "start_time": "2023-01-26T12:26:32.001Z"
   },
   {
    "duration": 150,
    "start_time": "2023-01-26T12:27:52.157Z"
   },
   {
    "duration": 155,
    "start_time": "2023-01-26T12:28:53.993Z"
   },
   {
    "duration": 195,
    "start_time": "2023-01-26T12:29:40.934Z"
   },
   {
    "duration": 170,
    "start_time": "2023-01-26T12:30:09.768Z"
   },
   {
    "duration": 150,
    "start_time": "2023-01-26T12:30:59.567Z"
   },
   {
    "duration": 158,
    "start_time": "2023-01-26T12:31:04.830Z"
   },
   {
    "duration": 187,
    "start_time": "2023-01-26T12:34:41.940Z"
   },
   {
    "duration": 509,
    "start_time": "2023-01-26T12:34:46.792Z"
   },
   {
    "duration": 33,
    "start_time": "2023-01-26T12:34:47.304Z"
   },
   {
    "duration": 56,
    "start_time": "2023-01-26T12:34:47.340Z"
   },
   {
    "duration": 2679,
    "start_time": "2023-01-26T12:34:47.398Z"
   },
   {
    "duration": 8,
    "start_time": "2023-01-26T12:34:50.078Z"
   },
   {
    "duration": 28,
    "start_time": "2023-01-26T12:34:50.087Z"
   },
   {
    "duration": 50,
    "start_time": "2023-01-26T12:34:50.117Z"
   },
   {
    "duration": 21,
    "start_time": "2023-01-26T12:34:50.169Z"
   },
   {
    "duration": 336,
    "start_time": "2023-01-26T12:34:50.192Z"
   },
   {
    "duration": 18,
    "start_time": "2023-01-26T12:34:50.531Z"
   },
   {
    "duration": 4,
    "start_time": "2023-01-26T12:34:50.551Z"
   },
   {
    "duration": 10,
    "start_time": "2023-01-26T12:34:50.556Z"
   },
   {
    "duration": 24,
    "start_time": "2023-01-26T12:34:50.568Z"
   },
   {
    "duration": 79,
    "start_time": "2023-01-26T12:34:50.594Z"
   },
   {
    "duration": 20,
    "start_time": "2023-01-26T12:34:50.675Z"
   },
   {
    "duration": 68,
    "start_time": "2023-01-26T12:34:50.696Z"
   },
   {
    "duration": 5,
    "start_time": "2023-01-26T12:34:50.766Z"
   },
   {
    "duration": 31,
    "start_time": "2023-01-26T12:34:50.773Z"
   },
   {
    "duration": 99,
    "start_time": "2023-01-26T12:34:50.806Z"
   },
   {
    "duration": 42,
    "start_time": "2023-01-26T12:34:50.907Z"
   },
   {
    "duration": 48,
    "start_time": "2023-01-26T12:34:50.951Z"
   },
   {
    "duration": 6,
    "start_time": "2023-01-26T12:34:51.001Z"
   },
   {
    "duration": 30,
    "start_time": "2023-01-26T12:34:51.009Z"
   },
   {
    "duration": 11,
    "start_time": "2023-01-26T12:34:51.040Z"
   },
   {
    "duration": 34,
    "start_time": "2023-01-26T12:34:51.053Z"
   },
   {
    "duration": 20,
    "start_time": "2023-01-26T12:34:51.089Z"
   },
   {
    "duration": 36,
    "start_time": "2023-01-26T12:34:51.111Z"
   },
   {
    "duration": 10,
    "start_time": "2023-01-26T12:34:51.152Z"
   },
   {
    "duration": 21,
    "start_time": "2023-01-26T12:34:51.164Z"
   },
   {
    "duration": 9,
    "start_time": "2023-01-26T12:34:51.186Z"
   },
   {
    "duration": 50,
    "start_time": "2023-01-26T12:34:51.197Z"
   },
   {
    "duration": 8,
    "start_time": "2023-01-26T12:34:51.249Z"
   },
   {
    "duration": 15,
    "start_time": "2023-01-26T12:34:51.259Z"
   },
   {
    "duration": 5,
    "start_time": "2023-01-26T12:34:51.276Z"
   },
   {
    "duration": 56,
    "start_time": "2023-01-26T12:34:51.284Z"
   },
   {
    "duration": 198,
    "start_time": "2023-01-26T12:34:51.342Z"
   },
   {
    "duration": 6,
    "start_time": "2023-01-26T12:34:51.541Z"
   },
   {
    "duration": 39,
    "start_time": "2023-01-26T12:34:51.549Z"
   },
   {
    "duration": 180,
    "start_time": "2023-01-26T12:34:51.590Z"
   },
   {
    "duration": 189,
    "start_time": "2023-01-26T12:34:51.772Z"
   },
   {
    "duration": 299,
    "start_time": "2023-01-26T12:34:51.963Z"
   },
   {
    "duration": 266,
    "start_time": "2023-01-26T12:34:52.263Z"
   },
   {
    "duration": 172,
    "start_time": "2023-01-26T12:34:52.531Z"
   },
   {
    "duration": 234,
    "start_time": "2023-01-26T12:34:52.705Z"
   },
   {
    "duration": 234,
    "start_time": "2023-01-26T12:34:52.941Z"
   },
   {
    "duration": 104,
    "start_time": "2023-01-26T12:34:53.177Z"
   },
   {
    "duration": 277,
    "start_time": "2023-01-26T12:34:53.283Z"
   },
   {
    "duration": 158,
    "start_time": "2023-01-26T12:34:53.562Z"
   },
   {
    "duration": 241,
    "start_time": "2023-01-26T12:34:53.721Z"
   },
   {
    "duration": 156,
    "start_time": "2023-01-26T12:35:02.768Z"
   },
   {
    "duration": 158,
    "start_time": "2023-01-26T12:35:46.918Z"
   },
   {
    "duration": 147,
    "start_time": "2023-01-26T12:35:55.668Z"
   },
   {
    "duration": 270,
    "start_time": "2023-01-26T12:42:20.084Z"
   },
   {
    "duration": 176,
    "start_time": "2023-01-26T12:42:35.759Z"
   },
   {
    "duration": 186,
    "start_time": "2023-01-26T12:44:09.746Z"
   },
   {
    "duration": 29,
    "start_time": "2023-01-26T12:57:32.528Z"
   },
   {
    "duration": 183,
    "start_time": "2023-01-26T15:56:05.782Z"
   },
   {
    "duration": 190,
    "start_time": "2023-01-26T15:56:12.970Z"
   },
   {
    "duration": 307,
    "start_time": "2023-01-26T15:57:42.697Z"
   },
   {
    "duration": 282,
    "start_time": "2023-01-26T16:07:56.145Z"
   },
   {
    "duration": 167,
    "start_time": "2023-01-26T16:08:14.158Z"
   },
   {
    "duration": 192,
    "start_time": "2023-01-26T16:08:47.956Z"
   },
   {
    "duration": 433,
    "start_time": "2023-01-26T16:09:02.309Z"
   },
   {
    "duration": 456,
    "start_time": "2023-01-26T16:09:58.646Z"
   },
   {
    "duration": 183,
    "start_time": "2023-01-26T16:10:31.481Z"
   },
   {
    "duration": 161,
    "start_time": "2023-01-26T16:22:32.860Z"
   },
   {
    "duration": 161,
    "start_time": "2023-01-26T16:24:30.091Z"
   },
   {
    "duration": 337,
    "start_time": "2023-01-26T16:25:07.852Z"
   },
   {
    "duration": 482,
    "start_time": "2023-01-26T16:25:45.832Z"
   },
   {
    "duration": 523,
    "start_time": "2023-01-26T16:27:59.000Z"
   },
   {
    "duration": 560,
    "start_time": "2023-01-26T16:33:17.041Z"
   },
   {
    "duration": 5,
    "start_time": "2023-01-26T16:37:26.068Z"
   },
   {
    "duration": 5,
    "start_time": "2023-01-26T16:37:36.473Z"
   },
   {
    "duration": 5,
    "start_time": "2023-01-26T16:37:47.892Z"
   },
   {
    "duration": 5,
    "start_time": "2023-01-26T16:37:51.815Z"
   },
   {
    "duration": 5,
    "start_time": "2023-01-26T16:38:09.863Z"
   },
   {
    "duration": 7,
    "start_time": "2023-01-26T16:40:13.990Z"
   },
   {
    "duration": 671,
    "start_time": "2023-01-26T16:56:23.088Z"
   },
   {
    "duration": 700,
    "start_time": "2023-01-26T16:58:09.944Z"
   },
   {
    "duration": 157,
    "start_time": "2023-01-26T16:58:37.900Z"
   },
   {
    "duration": 72,
    "start_time": "2023-01-26T17:59:57.600Z"
   },
   {
    "duration": 15,
    "start_time": "2023-01-26T18:00:11.080Z"
   },
   {
    "duration": 168,
    "start_time": "2023-01-26T18:01:55.221Z"
   },
   {
    "duration": 289,
    "start_time": "2023-01-26T18:02:47.983Z"
   },
   {
    "duration": 352,
    "start_time": "2023-01-26T18:03:11.527Z"
   },
   {
    "duration": 302,
    "start_time": "2023-01-26T18:03:35.404Z"
   },
   {
    "duration": 152,
    "start_time": "2023-01-26T18:05:01.376Z"
   },
   {
    "duration": 21,
    "start_time": "2023-01-26T18:17:03.955Z"
   },
   {
    "duration": 144,
    "start_time": "2023-01-26T18:18:57.485Z"
   },
   {
    "duration": 139,
    "start_time": "2023-01-26T18:19:08.117Z"
   },
   {
    "duration": 15,
    "start_time": "2023-01-26T18:19:30.520Z"
   },
   {
    "duration": 147,
    "start_time": "2023-01-26T18:19:41.332Z"
   },
   {
    "duration": 550,
    "start_time": "2023-01-26T18:24:53.520Z"
   },
   {
    "duration": 523,
    "start_time": "2023-01-26T18:27:58.919Z"
   },
   {
    "duration": 17,
    "start_time": "2023-01-26T18:29:45.745Z"
   },
   {
    "duration": 57,
    "start_time": "2023-01-27T07:35:45.331Z"
   },
   {
    "duration": 577,
    "start_time": "2023-01-27T07:35:51.507Z"
   },
   {
    "duration": 15,
    "start_time": "2023-01-27T07:35:52.086Z"
   },
   {
    "duration": 41,
    "start_time": "2023-01-27T07:35:52.102Z"
   },
   {
    "duration": 2515,
    "start_time": "2023-01-27T07:35:52.145Z"
   },
   {
    "duration": 7,
    "start_time": "2023-01-27T07:35:54.662Z"
   },
   {
    "duration": 15,
    "start_time": "2023-01-27T07:35:54.670Z"
   },
   {
    "duration": 32,
    "start_time": "2023-01-27T07:35:54.687Z"
   },
   {
    "duration": 18,
    "start_time": "2023-01-27T07:35:54.726Z"
   },
   {
    "duration": 301,
    "start_time": "2023-01-27T07:35:54.746Z"
   },
   {
    "duration": 10,
    "start_time": "2023-01-27T07:35:55.049Z"
   },
   {
    "duration": 5,
    "start_time": "2023-01-27T07:35:55.060Z"
   },
   {
    "duration": 9,
    "start_time": "2023-01-27T07:35:55.067Z"
   },
   {
    "duration": 49,
    "start_time": "2023-01-27T07:35:55.078Z"
   },
   {
    "duration": 24,
    "start_time": "2023-01-27T07:35:55.132Z"
   },
   {
    "duration": 14,
    "start_time": "2023-01-27T07:35:55.157Z"
   },
   {
    "duration": 53,
    "start_time": "2023-01-27T07:35:55.173Z"
   },
   {
    "duration": 7,
    "start_time": "2023-01-27T07:35:55.228Z"
   },
   {
    "duration": 28,
    "start_time": "2023-01-27T07:35:55.237Z"
   },
   {
    "duration": 83,
    "start_time": "2023-01-27T07:35:55.266Z"
   },
   {
    "duration": 26,
    "start_time": "2023-01-27T07:35:55.351Z"
   },
   {
    "duration": 13,
    "start_time": "2023-01-27T07:35:55.378Z"
   },
   {
    "duration": 3,
    "start_time": "2023-01-27T07:35:55.410Z"
   },
   {
    "duration": 26,
    "start_time": "2023-01-27T07:35:55.415Z"
   },
   {
    "duration": 11,
    "start_time": "2023-01-27T07:35:55.442Z"
   },
   {
    "duration": 20,
    "start_time": "2023-01-27T07:35:55.454Z"
   },
   {
    "duration": 16,
    "start_time": "2023-01-27T07:35:55.475Z"
   },
   {
    "duration": 21,
    "start_time": "2023-01-27T07:35:55.510Z"
   },
   {
    "duration": 28,
    "start_time": "2023-01-27T07:35:55.535Z"
   },
   {
    "duration": 18,
    "start_time": "2023-01-27T07:35:55.565Z"
   },
   {
    "duration": 19,
    "start_time": "2023-01-27T07:35:55.585Z"
   },
   {
    "duration": 25,
    "start_time": "2023-01-27T07:35:55.606Z"
   },
   {
    "duration": 25,
    "start_time": "2023-01-27T07:35:55.634Z"
   },
   {
    "duration": 14,
    "start_time": "2023-01-27T07:35:55.660Z"
   },
   {
    "duration": 10,
    "start_time": "2023-01-27T07:35:55.676Z"
   },
   {
    "duration": 31,
    "start_time": "2023-01-27T07:35:55.688Z"
   },
   {
    "duration": 221,
    "start_time": "2023-01-27T07:35:55.720Z"
   },
   {
    "duration": 5,
    "start_time": "2023-01-27T07:35:55.943Z"
   },
   {
    "duration": 39,
    "start_time": "2023-01-27T07:35:55.950Z"
   },
   {
    "duration": 162,
    "start_time": "2023-01-27T07:35:55.990Z"
   },
   {
    "duration": 188,
    "start_time": "2023-01-27T07:35:56.153Z"
   },
   {
    "duration": 310,
    "start_time": "2023-01-27T07:35:56.344Z"
   },
   {
    "duration": 159,
    "start_time": "2023-01-27T07:35:56.655Z"
   },
   {
    "duration": 143,
    "start_time": "2023-01-27T07:35:56.815Z"
   },
   {
    "duration": 225,
    "start_time": "2023-01-27T07:35:56.960Z"
   },
   {
    "duration": 242,
    "start_time": "2023-01-27T07:35:57.186Z"
   },
   {
    "duration": 94,
    "start_time": "2023-01-27T07:35:57.429Z"
   },
   {
    "duration": 212,
    "start_time": "2023-01-27T07:35:57.525Z"
   },
   {
    "duration": 130,
    "start_time": "2023-01-27T07:35:57.739Z"
   },
   {
    "duration": 197,
    "start_time": "2023-01-27T07:35:57.871Z"
   },
   {
    "duration": 142,
    "start_time": "2023-01-27T07:35:58.069Z"
   },
   {
    "duration": 248,
    "start_time": "2023-01-27T07:35:58.228Z"
   },
   {
    "duration": 257,
    "start_time": "2023-01-27T07:35:58.478Z"
   },
   {
    "duration": 493,
    "start_time": "2023-01-27T07:35:58.736Z"
   },
   {
    "duration": 6,
    "start_time": "2023-01-27T07:35:59.230Z"
   },
   {
    "duration": 150,
    "start_time": "2023-01-27T07:35:59.238Z"
   },
   {
    "duration": 116,
    "start_time": "2023-01-27T07:35:59.389Z"
   },
   {
    "duration": 439,
    "start_time": "2023-01-27T07:35:59.510Z"
   },
   {
    "duration": 81,
    "start_time": "2023-01-27T07:43:50.127Z"
   },
   {
    "duration": 14,
    "start_time": "2023-01-27T07:44:06.827Z"
   },
   {
    "duration": 15,
    "start_time": "2023-01-27T07:44:18.852Z"
   },
   {
    "duration": 20,
    "start_time": "2023-01-27T07:45:55.560Z"
   },
   {
    "duration": 24,
    "start_time": "2023-01-27T07:46:49.070Z"
   },
   {
    "duration": 24,
    "start_time": "2023-01-27T07:54:30.936Z"
   },
   {
    "duration": 23,
    "start_time": "2023-01-27T07:54:58.238Z"
   },
   {
    "duration": 15,
    "start_time": "2023-01-27T07:57:04.691Z"
   },
   {
    "duration": 29,
    "start_time": "2023-01-27T07:57:09.790Z"
   },
   {
    "duration": 20,
    "start_time": "2023-01-27T07:59:30.646Z"
   },
   {
    "duration": 16,
    "start_time": "2023-01-27T07:59:38.633Z"
   },
   {
    "duration": 25,
    "start_time": "2023-01-27T07:59:45.288Z"
   },
   {
    "duration": 37,
    "start_time": "2023-01-27T08:00:35.796Z"
   },
   {
    "duration": 30,
    "start_time": "2023-01-27T08:01:37.237Z"
   },
   {
    "duration": 45,
    "start_time": "2023-01-27T08:04:42.386Z"
   },
   {
    "duration": 22,
    "start_time": "2023-01-27T08:04:45.565Z"
   },
   {
    "duration": 16,
    "start_time": "2023-01-27T08:05:49.469Z"
   },
   {
    "duration": 23,
    "start_time": "2023-01-27T08:05:55.137Z"
   },
   {
    "duration": 76,
    "start_time": "2023-01-27T08:06:18.358Z"
   },
   {
    "duration": 23,
    "start_time": "2023-01-27T08:07:09.836Z"
   },
   {
    "duration": 24,
    "start_time": "2023-01-27T08:07:21.045Z"
   },
   {
    "duration": 164,
    "start_time": "2023-01-27T08:14:52.363Z"
   },
   {
    "duration": 57,
    "start_time": "2023-01-27T08:15:16.574Z"
   },
   {
    "duration": 164,
    "start_time": "2023-01-27T08:15:43.487Z"
   },
   {
    "duration": 159,
    "start_time": "2023-01-27T08:15:57.869Z"
   },
   {
    "duration": 16,
    "start_time": "2023-01-27T08:16:58.991Z"
   },
   {
    "duration": 23,
    "start_time": "2023-01-27T08:17:03.835Z"
   },
   {
    "duration": 33,
    "start_time": "2023-01-27T08:17:31.907Z"
   },
   {
    "duration": 27,
    "start_time": "2023-01-27T08:17:38.445Z"
   },
   {
    "duration": 23,
    "start_time": "2023-01-27T08:18:39.325Z"
   },
   {
    "duration": 176,
    "start_time": "2023-01-27T08:19:03.664Z"
   },
   {
    "duration": 252,
    "start_time": "2023-01-27T08:19:59.921Z"
   },
   {
    "duration": 169,
    "start_time": "2023-01-27T08:32:58.525Z"
   },
   {
    "duration": 166,
    "start_time": "2023-01-27T08:33:48.425Z"
   },
   {
    "duration": 35,
    "start_time": "2023-01-27T08:34:53.296Z"
   },
   {
    "duration": 84,
    "start_time": "2023-01-27T08:35:30.458Z"
   },
   {
    "duration": 47,
    "start_time": "2023-01-27T08:35:48.825Z"
   },
   {
    "duration": 173,
    "start_time": "2023-01-27T08:35:55.277Z"
   },
   {
    "duration": 447,
    "start_time": "2023-01-27T08:36:07.688Z"
   },
   {
    "duration": 164,
    "start_time": "2023-01-27T08:36:20.109Z"
   },
   {
    "duration": 168,
    "start_time": "2023-01-27T08:39:58.873Z"
   },
   {
    "duration": 190,
    "start_time": "2023-01-27T08:40:21.835Z"
   },
   {
    "duration": 5,
    "start_time": "2023-01-27T08:40:31.154Z"
   },
   {
    "duration": 10,
    "start_time": "2023-01-27T08:40:43.224Z"
   },
   {
    "duration": 9,
    "start_time": "2023-01-27T08:42:20.383Z"
   },
   {
    "duration": 8,
    "start_time": "2023-01-27T08:42:32.174Z"
   },
   {
    "duration": 8,
    "start_time": "2023-01-27T08:42:37.824Z"
   },
   {
    "duration": 5,
    "start_time": "2023-01-27T08:43:04.225Z"
   },
   {
    "duration": 8,
    "start_time": "2023-01-27T08:43:09.069Z"
   },
   {
    "duration": 841,
    "start_time": "2023-01-27T08:43:30.231Z"
   },
   {
    "duration": 6,
    "start_time": "2023-01-27T08:43:41.925Z"
   },
   {
    "duration": 53,
    "start_time": "2023-01-27T08:44:00.153Z"
   },
   {
    "duration": 910,
    "start_time": "2023-01-27T08:44:04.152Z"
   },
   {
    "duration": 803,
    "start_time": "2023-01-27T08:44:22.204Z"
   },
   {
    "duration": 8,
    "start_time": "2023-01-27T08:44:34.664Z"
   },
   {
    "duration": 7,
    "start_time": "2023-01-27T08:44:48.928Z"
   },
   {
    "duration": 9,
    "start_time": "2023-01-27T08:45:39.825Z"
   },
   {
    "duration": 8,
    "start_time": "2023-01-27T08:45:47.772Z"
   },
   {
    "duration": 15,
    "start_time": "2023-01-27T08:45:59.810Z"
   },
   {
    "duration": 9,
    "start_time": "2023-01-27T08:46:52.028Z"
   },
   {
    "duration": 7,
    "start_time": "2023-01-27T08:47:16.485Z"
   },
   {
    "duration": 821,
    "start_time": "2023-01-27T08:48:13.162Z"
   },
   {
    "duration": 802,
    "start_time": "2023-01-27T08:48:27.506Z"
   },
   {
    "duration": 717,
    "start_time": "2023-01-27T08:49:55.864Z"
   },
   {
    "duration": 7,
    "start_time": "2023-01-27T08:50:17.125Z"
   },
   {
    "duration": 10,
    "start_time": "2023-01-27T08:52:48.151Z"
   },
   {
    "duration": 12,
    "start_time": "2023-01-27T08:53:34.457Z"
   },
   {
    "duration": 11,
    "start_time": "2023-01-27T08:53:53.619Z"
   },
   {
    "duration": 11,
    "start_time": "2023-01-27T08:54:00.572Z"
   },
   {
    "duration": 6,
    "start_time": "2023-01-27T08:57:49.084Z"
   },
   {
    "duration": 9,
    "start_time": "2023-01-27T08:57:58.653Z"
   },
   {
    "duration": 505,
    "start_time": "2023-01-27T08:58:07.613Z"
   },
   {
    "duration": 16,
    "start_time": "2023-01-27T08:58:08.120Z"
   },
   {
    "duration": 30,
    "start_time": "2023-01-27T08:58:08.138Z"
   },
   {
    "duration": 2121,
    "start_time": "2023-01-27T08:58:08.171Z"
   },
   {
    "duration": 6,
    "start_time": "2023-01-27T08:58:10.294Z"
   },
   {
    "duration": 24,
    "start_time": "2023-01-27T08:58:10.301Z"
   },
   {
    "duration": 45,
    "start_time": "2023-01-27T08:58:10.327Z"
   },
   {
    "duration": 18,
    "start_time": "2023-01-27T08:58:10.374Z"
   },
   {
    "duration": 255,
    "start_time": "2023-01-27T08:58:10.394Z"
   },
   {
    "duration": 9,
    "start_time": "2023-01-27T08:58:10.651Z"
   },
   {
    "duration": 26,
    "start_time": "2023-01-27T08:58:10.661Z"
   },
   {
    "duration": 14,
    "start_time": "2023-01-27T08:58:10.688Z"
   },
   {
    "duration": 34,
    "start_time": "2023-01-27T08:58:10.704Z"
   },
   {
    "duration": 34,
    "start_time": "2023-01-27T08:58:10.740Z"
   },
   {
    "duration": 15,
    "start_time": "2023-01-27T08:58:10.775Z"
   },
   {
    "duration": 51,
    "start_time": "2023-01-27T08:58:10.791Z"
   },
   {
    "duration": 8,
    "start_time": "2023-01-27T08:58:10.844Z"
   },
   {
    "duration": 28,
    "start_time": "2023-01-27T08:58:10.853Z"
   },
   {
    "duration": 83,
    "start_time": "2023-01-27T08:58:10.883Z"
   },
   {
    "duration": 25,
    "start_time": "2023-01-27T08:58:10.967Z"
   },
   {
    "duration": 26,
    "start_time": "2023-01-27T08:58:10.994Z"
   },
   {
    "duration": 19,
    "start_time": "2023-01-27T08:58:11.021Z"
   },
   {
    "duration": 16,
    "start_time": "2023-01-27T08:58:11.042Z"
   },
   {
    "duration": 28,
    "start_time": "2023-01-27T08:58:11.060Z"
   },
   {
    "duration": 31,
    "start_time": "2023-01-27T08:58:11.090Z"
   },
   {
    "duration": 24,
    "start_time": "2023-01-27T08:58:11.123Z"
   },
   {
    "duration": 26,
    "start_time": "2023-01-27T08:58:11.149Z"
   },
   {
    "duration": 11,
    "start_time": "2023-01-27T08:58:11.179Z"
   },
   {
    "duration": 25,
    "start_time": "2023-01-27T08:58:11.191Z"
   },
   {
    "duration": 17,
    "start_time": "2023-01-27T08:58:11.218Z"
   },
   {
    "duration": 29,
    "start_time": "2023-01-27T08:58:11.236Z"
   },
   {
    "duration": 10,
    "start_time": "2023-01-27T08:58:11.267Z"
   },
   {
    "duration": 42,
    "start_time": "2023-01-27T08:58:11.279Z"
   },
   {
    "duration": 19,
    "start_time": "2023-01-27T08:58:11.322Z"
   },
   {
    "duration": 37,
    "start_time": "2023-01-27T08:58:11.343Z"
   },
   {
    "duration": 187,
    "start_time": "2023-01-27T08:58:11.382Z"
   },
   {
    "duration": 5,
    "start_time": "2023-01-27T08:58:11.570Z"
   },
   {
    "duration": 34,
    "start_time": "2023-01-27T08:58:11.577Z"
   },
   {
    "duration": 149,
    "start_time": "2023-01-27T08:58:11.613Z"
   },
   {
    "duration": 175,
    "start_time": "2023-01-27T08:58:11.764Z"
   },
   {
    "duration": 246,
    "start_time": "2023-01-27T08:58:11.940Z"
   },
   {
    "duration": 224,
    "start_time": "2023-01-27T08:58:12.188Z"
   },
   {
    "duration": 155,
    "start_time": "2023-01-27T08:58:12.413Z"
   },
   {
    "duration": 187,
    "start_time": "2023-01-27T08:58:12.570Z"
   },
   {
    "duration": 188,
    "start_time": "2023-01-27T08:58:12.759Z"
   },
   {
    "duration": 102,
    "start_time": "2023-01-27T08:58:12.949Z"
   },
   {
    "duration": 260,
    "start_time": "2023-01-27T08:58:13.053Z"
   },
   {
    "duration": 136,
    "start_time": "2023-01-27T08:58:13.315Z"
   },
   {
    "duration": 208,
    "start_time": "2023-01-27T08:58:13.453Z"
   },
   {
    "duration": 161,
    "start_time": "2023-01-27T08:58:13.663Z"
   },
   {
    "duration": 172,
    "start_time": "2023-01-27T08:58:13.826Z"
   },
   {
    "duration": 328,
    "start_time": "2023-01-27T08:58:13.999Z"
   },
   {
    "duration": 484,
    "start_time": "2023-01-27T08:58:14.328Z"
   },
   {
    "duration": 7,
    "start_time": "2023-01-27T08:58:14.813Z"
   },
   {
    "duration": 143,
    "start_time": "2023-01-27T08:58:14.821Z"
   },
   {
    "duration": 127,
    "start_time": "2023-01-27T08:58:14.966Z"
   },
   {
    "duration": 451,
    "start_time": "2023-01-27T08:58:15.094Z"
   },
   {
    "duration": 170,
    "start_time": "2023-01-27T08:58:15.547Z"
   },
   {
    "duration": 8,
    "start_time": "2023-01-27T08:58:15.718Z"
   },
   {
    "duration": 9,
    "start_time": "2023-01-27T08:58:34.023Z"
   },
   {
    "duration": 12,
    "start_time": "2023-01-27T08:59:14.662Z"
   },
   {
    "duration": 9,
    "start_time": "2023-01-27T08:59:42.993Z"
   },
   {
    "duration": 92,
    "start_time": "2023-01-27T09:32:09.183Z"
   },
   {
    "duration": 23,
    "start_time": "2023-01-27T09:33:00.873Z"
   },
   {
    "duration": 16,
    "start_time": "2023-01-27T09:33:18.460Z"
   },
   {
    "duration": 15,
    "start_time": "2023-01-27T09:33:39.054Z"
   },
   {
    "duration": 24,
    "start_time": "2023-01-27T09:33:53.150Z"
   },
   {
    "duration": 20,
    "start_time": "2023-01-27T09:34:02.942Z"
   },
   {
    "duration": 25,
    "start_time": "2023-01-27T09:34:10.074Z"
   },
   {
    "duration": 24,
    "start_time": "2023-01-27T09:34:20.678Z"
   },
   {
    "duration": 25,
    "start_time": "2023-01-27T09:35:26.404Z"
   },
   {
    "duration": 22,
    "start_time": "2023-01-27T09:35:37.177Z"
   },
   {
    "duration": 21,
    "start_time": "2023-01-27T09:36:56.087Z"
   },
   {
    "duration": 268,
    "start_time": "2023-01-27T09:38:15.274Z"
   },
   {
    "duration": 152,
    "start_time": "2023-01-27T09:39:24.753Z"
   },
   {
    "duration": 497,
    "start_time": "2023-01-27T09:40:39.524Z"
   },
   {
    "duration": 523,
    "start_time": "2023-01-27T09:42:31.449Z"
   },
   {
    "duration": 396,
    "start_time": "2023-01-27T09:42:51.269Z"
   },
   {
    "duration": 885,
    "start_time": "2023-01-27T09:43:57.889Z"
   },
   {
    "duration": 4732,
    "start_time": "2023-01-27T09:45:55.460Z"
   },
   {
    "duration": 6456,
    "start_time": "2023-01-27T09:46:11.740Z"
   },
   {
    "duration": 166,
    "start_time": "2023-01-27T09:50:07.569Z"
   },
   {
    "duration": 167,
    "start_time": "2023-01-27T09:50:14.708Z"
   },
   {
    "duration": 178,
    "start_time": "2023-01-27T09:50:45.002Z"
   },
   {
    "duration": 6,
    "start_time": "2023-01-27T09:57:18.706Z"
   },
   {
    "duration": 5,
    "start_time": "2023-01-27T09:57:25.850Z"
   },
   {
    "duration": 34,
    "start_time": "2023-01-27T10:03:28.073Z"
   },
   {
    "duration": 1487,
    "start_time": "2023-01-27T10:19:53.254Z"
   },
   {
    "duration": 1463,
    "start_time": "2023-01-27T10:20:15.657Z"
   },
   {
    "duration": 1744,
    "start_time": "2023-01-27T10:20:40.018Z"
   },
   {
    "duration": 8,
    "start_time": "2023-01-27T10:22:01.508Z"
   },
   {
    "duration": 4,
    "start_time": "2023-01-27T10:22:04.087Z"
   },
   {
    "duration": 6,
    "start_time": "2023-01-27T10:22:07.920Z"
   },
   {
    "duration": 4,
    "start_time": "2023-01-27T10:22:09.629Z"
   },
   {
    "duration": 23,
    "start_time": "2023-01-27T10:22:38.812Z"
   },
   {
    "duration": 5,
    "start_time": "2023-01-27T10:23:47.453Z"
   },
   {
    "duration": 4,
    "start_time": "2023-01-27T10:23:49.477Z"
   },
   {
    "duration": 24,
    "start_time": "2023-01-27T10:24:03.627Z"
   },
   {
    "duration": 17,
    "start_time": "2023-01-27T10:24:24.736Z"
   },
   {
    "duration": 70,
    "start_time": "2023-01-27T10:25:49.062Z"
   },
   {
    "duration": 52,
    "start_time": "2023-01-27T10:27:15.236Z"
   },
   {
    "duration": 29,
    "start_time": "2023-01-27T10:29:07.534Z"
   },
   {
    "duration": 17,
    "start_time": "2023-01-27T10:29:19.105Z"
   },
   {
    "duration": 17,
    "start_time": "2023-01-27T10:29:29.107Z"
   },
   {
    "duration": 21,
    "start_time": "2023-01-27T10:29:37.325Z"
   },
   {
    "duration": 22,
    "start_time": "2023-01-27T10:29:46.384Z"
   },
   {
    "duration": 18,
    "start_time": "2023-01-27T10:29:52.364Z"
   },
   {
    "duration": 262,
    "start_time": "2023-01-27T10:30:56.389Z"
   },
   {
    "duration": 18,
    "start_time": "2023-01-27T10:32:15.959Z"
   },
   {
    "duration": 9,
    "start_time": "2023-01-27T10:32:44.305Z"
   },
   {
    "duration": 32,
    "start_time": "2023-01-27T10:36:00.005Z"
   },
   {
    "duration": 24,
    "start_time": "2023-01-27T10:36:05.967Z"
   },
   {
    "duration": 37,
    "start_time": "2023-01-27T10:36:33.422Z"
   },
   {
    "duration": 7,
    "start_time": "2023-01-27T10:52:41.301Z"
   },
   {
    "duration": 6,
    "start_time": "2023-01-27T10:52:47.871Z"
   },
   {
    "duration": 4,
    "start_time": "2023-01-27T10:52:54.839Z"
   },
   {
    "duration": 12,
    "start_time": "2023-01-27T10:53:26.075Z"
   },
   {
    "duration": 15,
    "start_time": "2023-01-27T10:53:53.963Z"
   },
   {
    "duration": 35,
    "start_time": "2023-01-27T10:54:11.845Z"
   },
   {
    "duration": 31,
    "start_time": "2023-01-27T10:55:24.156Z"
   },
   {
    "duration": 8,
    "start_time": "2023-01-27T10:59:58.338Z"
   },
   {
    "duration": 619,
    "start_time": "2023-01-27T11:00:06.351Z"
   },
   {
    "duration": 22,
    "start_time": "2023-01-27T11:00:06.972Z"
   },
   {
    "duration": 104,
    "start_time": "2023-01-27T11:00:06.996Z"
   },
   {
    "duration": 2973,
    "start_time": "2023-01-27T11:00:07.104Z"
   },
   {
    "duration": 11,
    "start_time": "2023-01-27T11:00:10.079Z"
   },
   {
    "duration": 13,
    "start_time": "2023-01-27T11:00:10.092Z"
   },
   {
    "duration": 46,
    "start_time": "2023-01-27T11:00:10.107Z"
   },
   {
    "duration": 33,
    "start_time": "2023-01-27T11:00:10.155Z"
   },
   {
    "duration": 471,
    "start_time": "2023-01-27T11:00:10.192Z"
   },
   {
    "duration": 14,
    "start_time": "2023-01-27T11:00:10.667Z"
   },
   {
    "duration": 5,
    "start_time": "2023-01-27T11:00:10.682Z"
   },
   {
    "duration": 14,
    "start_time": "2023-01-27T11:00:10.710Z"
   },
   {
    "duration": 19,
    "start_time": "2023-01-27T11:00:10.726Z"
   },
   {
    "duration": 39,
    "start_time": "2023-01-27T11:00:10.747Z"
   },
   {
    "duration": 38,
    "start_time": "2023-01-27T11:00:10.788Z"
   },
   {
    "duration": 46,
    "start_time": "2023-01-27T11:00:10.828Z"
   },
   {
    "duration": 34,
    "start_time": "2023-01-27T11:00:10.877Z"
   },
   {
    "duration": 120,
    "start_time": "2023-01-27T11:00:10.913Z"
   },
   {
    "duration": 0,
    "start_time": "2023-01-27T11:00:11.036Z"
   },
   {
    "duration": 0,
    "start_time": "2023-01-27T11:00:11.038Z"
   },
   {
    "duration": 0,
    "start_time": "2023-01-27T11:00:11.039Z"
   },
   {
    "duration": 0,
    "start_time": "2023-01-27T11:00:11.043Z"
   },
   {
    "duration": 0,
    "start_time": "2023-01-27T11:00:11.045Z"
   },
   {
    "duration": 0,
    "start_time": "2023-01-27T11:00:11.047Z"
   },
   {
    "duration": 0,
    "start_time": "2023-01-27T11:00:11.048Z"
   },
   {
    "duration": 0,
    "start_time": "2023-01-27T11:00:11.051Z"
   },
   {
    "duration": 0,
    "start_time": "2023-01-27T11:00:11.053Z"
   },
   {
    "duration": 0,
    "start_time": "2023-01-27T11:00:11.055Z"
   },
   {
    "duration": 0,
    "start_time": "2023-01-27T11:00:11.056Z"
   },
   {
    "duration": 0,
    "start_time": "2023-01-27T11:00:11.058Z"
   },
   {
    "duration": 0,
    "start_time": "2023-01-27T11:00:11.059Z"
   },
   {
    "duration": 0,
    "start_time": "2023-01-27T11:00:11.061Z"
   },
   {
    "duration": 0,
    "start_time": "2023-01-27T11:00:11.062Z"
   },
   {
    "duration": 0,
    "start_time": "2023-01-27T11:00:11.064Z"
   },
   {
    "duration": 0,
    "start_time": "2023-01-27T11:00:11.065Z"
   },
   {
    "duration": 0,
    "start_time": "2023-01-27T11:00:11.067Z"
   },
   {
    "duration": 0,
    "start_time": "2023-01-27T11:00:11.111Z"
   },
   {
    "duration": 0,
    "start_time": "2023-01-27T11:00:11.113Z"
   },
   {
    "duration": 0,
    "start_time": "2023-01-27T11:00:11.115Z"
   },
   {
    "duration": 0,
    "start_time": "2023-01-27T11:00:11.116Z"
   },
   {
    "duration": 0,
    "start_time": "2023-01-27T11:00:11.117Z"
   },
   {
    "duration": 0,
    "start_time": "2023-01-27T11:00:11.118Z"
   },
   {
    "duration": 0,
    "start_time": "2023-01-27T11:00:11.120Z"
   },
   {
    "duration": 0,
    "start_time": "2023-01-27T11:00:11.122Z"
   },
   {
    "duration": 0,
    "start_time": "2023-01-27T11:00:11.122Z"
   },
   {
    "duration": 0,
    "start_time": "2023-01-27T11:00:11.124Z"
   },
   {
    "duration": 1,
    "start_time": "2023-01-27T11:00:11.125Z"
   },
   {
    "duration": 0,
    "start_time": "2023-01-27T11:00:11.127Z"
   },
   {
    "duration": 0,
    "start_time": "2023-01-27T11:00:11.128Z"
   },
   {
    "duration": 0,
    "start_time": "2023-01-27T11:00:11.130Z"
   },
   {
    "duration": 0,
    "start_time": "2023-01-27T11:00:11.132Z"
   },
   {
    "duration": 0,
    "start_time": "2023-01-27T11:00:11.133Z"
   },
   {
    "duration": 0,
    "start_time": "2023-01-27T11:00:11.135Z"
   },
   {
    "duration": 0,
    "start_time": "2023-01-27T11:00:11.136Z"
   },
   {
    "duration": 0,
    "start_time": "2023-01-27T11:00:11.138Z"
   },
   {
    "duration": 0,
    "start_time": "2023-01-27T11:00:11.140Z"
   },
   {
    "duration": 0,
    "start_time": "2023-01-27T11:00:11.141Z"
   },
   {
    "duration": 0,
    "start_time": "2023-01-27T11:00:11.143Z"
   },
   {
    "duration": 0,
    "start_time": "2023-01-27T11:00:11.144Z"
   },
   {
    "duration": 0,
    "start_time": "2023-01-27T11:00:11.146Z"
   },
   {
    "duration": 0,
    "start_time": "2023-01-27T11:00:11.147Z"
   },
   {
    "duration": 8,
    "start_time": "2023-01-27T11:02:37.768Z"
   },
   {
    "duration": 7,
    "start_time": "2023-01-27T11:03:18.421Z"
   },
   {
    "duration": 23,
    "start_time": "2023-01-27T11:07:33.302Z"
   },
   {
    "duration": 562,
    "start_time": "2023-01-27T11:07:49.249Z"
   },
   {
    "duration": 22,
    "start_time": "2023-01-27T11:07:49.814Z"
   },
   {
    "duration": 45,
    "start_time": "2023-01-27T11:07:49.837Z"
   },
   {
    "duration": 2188,
    "start_time": "2023-01-27T11:07:49.885Z"
   },
   {
    "duration": 10,
    "start_time": "2023-01-27T11:07:52.075Z"
   },
   {
    "duration": 13,
    "start_time": "2023-01-27T11:07:52.086Z"
   },
   {
    "duration": 37,
    "start_time": "2023-01-27T11:07:52.101Z"
   },
   {
    "duration": 23,
    "start_time": "2023-01-27T11:07:52.139Z"
   },
   {
    "duration": 288,
    "start_time": "2023-01-27T11:07:52.165Z"
   },
   {
    "duration": 10,
    "start_time": "2023-01-27T11:07:52.456Z"
   },
   {
    "duration": 4,
    "start_time": "2023-01-27T11:07:52.468Z"
   },
   {
    "duration": 16,
    "start_time": "2023-01-27T11:07:52.473Z"
   },
   {
    "duration": 38,
    "start_time": "2023-01-27T11:07:52.490Z"
   },
   {
    "duration": 32,
    "start_time": "2023-01-27T11:07:52.530Z"
   },
   {
    "duration": 17,
    "start_time": "2023-01-27T11:07:52.564Z"
   },
   {
    "duration": 71,
    "start_time": "2023-01-27T11:07:52.583Z"
   },
   {
    "duration": 7,
    "start_time": "2023-01-27T11:07:52.656Z"
   },
   {
    "duration": 29,
    "start_time": "2023-01-27T11:07:52.665Z"
   },
   {
    "duration": 100,
    "start_time": "2023-01-27T11:07:52.711Z"
   },
   {
    "duration": 0,
    "start_time": "2023-01-27T11:07:52.815Z"
   },
   {
    "duration": 0,
    "start_time": "2023-01-27T11:07:52.817Z"
   },
   {
    "duration": 0,
    "start_time": "2023-01-27T11:07:52.818Z"
   },
   {
    "duration": 0,
    "start_time": "2023-01-27T11:07:52.820Z"
   },
   {
    "duration": 0,
    "start_time": "2023-01-27T11:07:52.821Z"
   },
   {
    "duration": 0,
    "start_time": "2023-01-27T11:07:52.823Z"
   },
   {
    "duration": 0,
    "start_time": "2023-01-27T11:07:52.824Z"
   },
   {
    "duration": 0,
    "start_time": "2023-01-27T11:07:52.828Z"
   },
   {
    "duration": 0,
    "start_time": "2023-01-27T11:07:52.829Z"
   },
   {
    "duration": 0,
    "start_time": "2023-01-27T11:07:52.830Z"
   },
   {
    "duration": 0,
    "start_time": "2023-01-27T11:07:52.831Z"
   },
   {
    "duration": 0,
    "start_time": "2023-01-27T11:07:52.833Z"
   },
   {
    "duration": 0,
    "start_time": "2023-01-27T11:07:52.834Z"
   },
   {
    "duration": 0,
    "start_time": "2023-01-27T11:07:52.840Z"
   },
   {
    "duration": 0,
    "start_time": "2023-01-27T11:07:52.841Z"
   },
   {
    "duration": 0,
    "start_time": "2023-01-27T11:07:52.842Z"
   },
   {
    "duration": 0,
    "start_time": "2023-01-27T11:07:52.846Z"
   },
   {
    "duration": 0,
    "start_time": "2023-01-27T11:07:52.848Z"
   },
   {
    "duration": 0,
    "start_time": "2023-01-27T11:07:52.849Z"
   },
   {
    "duration": 0,
    "start_time": "2023-01-27T11:07:52.850Z"
   },
   {
    "duration": 0,
    "start_time": "2023-01-27T11:07:52.852Z"
   },
   {
    "duration": 0,
    "start_time": "2023-01-27T11:07:52.853Z"
   },
   {
    "duration": 0,
    "start_time": "2023-01-27T11:07:52.854Z"
   },
   {
    "duration": 0,
    "start_time": "2023-01-27T11:07:52.856Z"
   },
   {
    "duration": 0,
    "start_time": "2023-01-27T11:07:52.859Z"
   },
   {
    "duration": 0,
    "start_time": "2023-01-27T11:07:52.910Z"
   },
   {
    "duration": 1,
    "start_time": "2023-01-27T11:07:52.910Z"
   },
   {
    "duration": 0,
    "start_time": "2023-01-27T11:07:52.913Z"
   },
   {
    "duration": 0,
    "start_time": "2023-01-27T11:07:52.914Z"
   },
   {
    "duration": 0,
    "start_time": "2023-01-27T11:07:52.916Z"
   },
   {
    "duration": 0,
    "start_time": "2023-01-27T11:07:52.917Z"
   },
   {
    "duration": 0,
    "start_time": "2023-01-27T11:07:52.918Z"
   },
   {
    "duration": 0,
    "start_time": "2023-01-27T11:07:52.919Z"
   },
   {
    "duration": 0,
    "start_time": "2023-01-27T11:07:52.921Z"
   },
   {
    "duration": 0,
    "start_time": "2023-01-27T11:07:52.922Z"
   },
   {
    "duration": 0,
    "start_time": "2023-01-27T11:07:52.923Z"
   },
   {
    "duration": 0,
    "start_time": "2023-01-27T11:07:52.925Z"
   },
   {
    "duration": 0,
    "start_time": "2023-01-27T11:07:52.926Z"
   },
   {
    "duration": 0,
    "start_time": "2023-01-27T11:07:52.927Z"
   },
   {
    "duration": 0,
    "start_time": "2023-01-27T11:07:52.928Z"
   },
   {
    "duration": 0,
    "start_time": "2023-01-27T11:07:52.929Z"
   },
   {
    "duration": 0,
    "start_time": "2023-01-27T11:07:52.931Z"
   },
   {
    "duration": 82,
    "start_time": "2023-01-27T11:09:25.349Z"
   },
   {
    "duration": 15,
    "start_time": "2023-01-27T11:09:28.919Z"
   },
   {
    "duration": 26,
    "start_time": "2023-01-27T11:09:45.105Z"
   },
   {
    "duration": 1930,
    "start_time": "2023-01-27T11:09:51.331Z"
   },
   {
    "duration": 6,
    "start_time": "2023-01-27T11:10:08.312Z"
   },
   {
    "duration": 4,
    "start_time": "2023-01-27T11:10:37.915Z"
   },
   {
    "duration": 25,
    "start_time": "2023-01-27T11:10:45.561Z"
   },
   {
    "duration": 23,
    "start_time": "2023-01-27T11:10:52.055Z"
   },
   {
    "duration": 397,
    "start_time": "2023-01-27T11:11:07.292Z"
   },
   {
    "duration": 21,
    "start_time": "2023-01-27T11:11:17.326Z"
   },
   {
    "duration": 12,
    "start_time": "2023-01-27T11:11:32.506Z"
   },
   {
    "duration": 17,
    "start_time": "2023-01-27T11:11:36.610Z"
   },
   {
    "duration": 14,
    "start_time": "2023-01-27T11:11:41.524Z"
   },
   {
    "duration": 4,
    "start_time": "2023-01-27T11:12:00.938Z"
   },
   {
    "duration": 9,
    "start_time": "2023-01-27T11:12:02.999Z"
   },
   {
    "duration": 8,
    "start_time": "2023-01-27T11:12:04.769Z"
   },
   {
    "duration": 594,
    "start_time": "2023-01-27T11:13:23.471Z"
   },
   {
    "duration": 26,
    "start_time": "2023-01-27T11:13:24.067Z"
   },
   {
    "duration": 59,
    "start_time": "2023-01-27T11:13:24.095Z"
   },
   {
    "duration": 2692,
    "start_time": "2023-01-27T11:13:24.157Z"
   },
   {
    "duration": 12,
    "start_time": "2023-01-27T11:13:26.851Z"
   },
   {
    "duration": 13,
    "start_time": "2023-01-27T11:13:26.865Z"
   },
   {
    "duration": 39,
    "start_time": "2023-01-27T11:13:26.881Z"
   },
   {
    "duration": 25,
    "start_time": "2023-01-27T11:13:26.922Z"
   },
   {
    "duration": 323,
    "start_time": "2023-01-27T11:13:26.949Z"
   },
   {
    "duration": 9,
    "start_time": "2023-01-27T11:13:27.276Z"
   },
   {
    "duration": 23,
    "start_time": "2023-01-27T11:13:27.287Z"
   },
   {
    "duration": 14,
    "start_time": "2023-01-27T11:13:27.312Z"
   },
   {
    "duration": 19,
    "start_time": "2023-01-27T11:13:27.328Z"
   },
   {
    "duration": 22,
    "start_time": "2023-01-27T11:13:27.349Z"
   },
   {
    "duration": 18,
    "start_time": "2023-01-27T11:13:27.373Z"
   },
   {
    "duration": 51,
    "start_time": "2023-01-27T11:13:27.393Z"
   },
   {
    "duration": 8,
    "start_time": "2023-01-27T11:13:27.445Z"
   },
   {
    "duration": 23,
    "start_time": "2023-01-27T11:13:27.455Z"
   },
   {
    "duration": 107,
    "start_time": "2023-01-27T11:13:27.480Z"
   },
   {
    "duration": 0,
    "start_time": "2023-01-27T11:13:27.589Z"
   },
   {
    "duration": 0,
    "start_time": "2023-01-27T11:13:27.591Z"
   },
   {
    "duration": 0,
    "start_time": "2023-01-27T11:13:27.592Z"
   },
   {
    "duration": 0,
    "start_time": "2023-01-27T11:13:27.609Z"
   },
   {
    "duration": 0,
    "start_time": "2023-01-27T11:13:27.611Z"
   },
   {
    "duration": 0,
    "start_time": "2023-01-27T11:13:27.613Z"
   },
   {
    "duration": 0,
    "start_time": "2023-01-27T11:13:27.615Z"
   },
   {
    "duration": 0,
    "start_time": "2023-01-27T11:13:27.617Z"
   },
   {
    "duration": 0,
    "start_time": "2023-01-27T11:13:27.618Z"
   },
   {
    "duration": 0,
    "start_time": "2023-01-27T11:13:27.620Z"
   },
   {
    "duration": 0,
    "start_time": "2023-01-27T11:13:27.621Z"
   },
   {
    "duration": 0,
    "start_time": "2023-01-27T11:13:27.623Z"
   },
   {
    "duration": 0,
    "start_time": "2023-01-27T11:13:27.625Z"
   },
   {
    "duration": 0,
    "start_time": "2023-01-27T11:13:27.626Z"
   },
   {
    "duration": 0,
    "start_time": "2023-01-27T11:13:27.627Z"
   },
   {
    "duration": 0,
    "start_time": "2023-01-27T11:13:27.628Z"
   },
   {
    "duration": 0,
    "start_time": "2023-01-27T11:13:27.629Z"
   },
   {
    "duration": 0,
    "start_time": "2023-01-27T11:13:27.631Z"
   },
   {
    "duration": 0,
    "start_time": "2023-01-27T11:13:27.632Z"
   },
   {
    "duration": 0,
    "start_time": "2023-01-27T11:13:27.633Z"
   },
   {
    "duration": 0,
    "start_time": "2023-01-27T11:13:27.635Z"
   },
   {
    "duration": 0,
    "start_time": "2023-01-27T11:13:27.637Z"
   },
   {
    "duration": 0,
    "start_time": "2023-01-27T11:13:27.639Z"
   },
   {
    "duration": 0,
    "start_time": "2023-01-27T11:13:27.640Z"
   },
   {
    "duration": 0,
    "start_time": "2023-01-27T11:13:27.642Z"
   },
   {
    "duration": 0,
    "start_time": "2023-01-27T11:13:27.643Z"
   },
   {
    "duration": 0,
    "start_time": "2023-01-27T11:13:27.644Z"
   },
   {
    "duration": 0,
    "start_time": "2023-01-27T11:13:27.646Z"
   },
   {
    "duration": 0,
    "start_time": "2023-01-27T11:13:27.648Z"
   },
   {
    "duration": 0,
    "start_time": "2023-01-27T11:13:27.649Z"
   },
   {
    "duration": 0,
    "start_time": "2023-01-27T11:13:27.653Z"
   },
   {
    "duration": 0,
    "start_time": "2023-01-27T11:13:27.711Z"
   },
   {
    "duration": 0,
    "start_time": "2023-01-27T11:13:27.712Z"
   },
   {
    "duration": 0,
    "start_time": "2023-01-27T11:13:27.714Z"
   },
   {
    "duration": 0,
    "start_time": "2023-01-27T11:13:27.715Z"
   },
   {
    "duration": 0,
    "start_time": "2023-01-27T11:13:27.717Z"
   },
   {
    "duration": 0,
    "start_time": "2023-01-27T11:13:27.719Z"
   },
   {
    "duration": 0,
    "start_time": "2023-01-27T11:13:27.720Z"
   },
   {
    "duration": 0,
    "start_time": "2023-01-27T11:13:27.721Z"
   },
   {
    "duration": 0,
    "start_time": "2023-01-27T11:13:27.722Z"
   },
   {
    "duration": 0,
    "start_time": "2023-01-27T11:13:27.724Z"
   },
   {
    "duration": 0,
    "start_time": "2023-01-27T11:13:27.725Z"
   },
   {
    "duration": 7,
    "start_time": "2023-01-27T11:13:50.801Z"
   },
   {
    "duration": 7,
    "start_time": "2023-01-27T11:14:03.683Z"
   },
   {
    "duration": 23,
    "start_time": "2023-01-27T11:15:46.423Z"
   },
   {
    "duration": 97,
    "start_time": "2023-01-27T11:16:21.203Z"
   },
   {
    "duration": 45,
    "start_time": "2023-01-27T11:16:37.069Z"
   },
   {
    "duration": 17,
    "start_time": "2023-01-27T11:16:57.741Z"
   },
   {
    "duration": 10,
    "start_time": "2023-01-27T11:17:18.610Z"
   },
   {
    "duration": 6,
    "start_time": "2023-01-27T11:17:34.241Z"
   },
   {
    "duration": 19,
    "start_time": "2023-01-27T11:17:58.440Z"
   },
   {
    "duration": 5,
    "start_time": "2023-01-27T11:18:03.956Z"
   },
   {
    "duration": 17,
    "start_time": "2023-01-27T11:18:23.205Z"
   },
   {
    "duration": 12,
    "start_time": "2023-01-27T11:18:33.875Z"
   },
   {
    "duration": 20,
    "start_time": "2023-01-27T11:20:47.709Z"
   },
   {
    "duration": 11,
    "start_time": "2023-01-27T11:21:31.274Z"
   },
   {
    "duration": 607,
    "start_time": "2023-01-27T11:21:59.620Z"
   },
   {
    "duration": 18,
    "start_time": "2023-01-27T11:22:00.230Z"
   },
   {
    "duration": 63,
    "start_time": "2023-01-27T11:22:00.250Z"
   },
   {
    "duration": 2421,
    "start_time": "2023-01-27T11:22:00.316Z"
   },
   {
    "duration": 13,
    "start_time": "2023-01-27T11:22:02.739Z"
   },
   {
    "duration": 7,
    "start_time": "2023-01-27T11:22:02.754Z"
   },
   {
    "duration": 49,
    "start_time": "2023-01-27T11:22:02.763Z"
   },
   {
    "duration": 21,
    "start_time": "2023-01-27T11:22:02.814Z"
   },
   {
    "duration": 359,
    "start_time": "2023-01-27T11:22:02.838Z"
   },
   {
    "duration": 14,
    "start_time": "2023-01-27T11:22:03.209Z"
   },
   {
    "duration": 5,
    "start_time": "2023-01-27T11:22:03.225Z"
   },
   {
    "duration": 28,
    "start_time": "2023-01-27T11:22:03.231Z"
   },
   {
    "duration": 23,
    "start_time": "2023-01-27T11:22:03.261Z"
   },
   {
    "duration": 40,
    "start_time": "2023-01-27T11:22:03.286Z"
   },
   {
    "duration": 32,
    "start_time": "2023-01-27T11:22:03.329Z"
   },
   {
    "duration": 62,
    "start_time": "2023-01-27T11:22:03.363Z"
   },
   {
    "duration": 7,
    "start_time": "2023-01-27T11:22:03.426Z"
   },
   {
    "duration": 49,
    "start_time": "2023-01-27T11:22:03.434Z"
   },
   {
    "duration": 92,
    "start_time": "2023-01-27T11:22:03.485Z"
   },
   {
    "duration": 29,
    "start_time": "2023-01-27T11:22:03.586Z"
   },
   {
    "duration": 43,
    "start_time": "2023-01-27T11:22:03.618Z"
   },
   {
    "duration": 14,
    "start_time": "2023-01-27T11:22:03.663Z"
   },
   {
    "duration": 37,
    "start_time": "2023-01-27T11:22:03.679Z"
   },
   {
    "duration": 10,
    "start_time": "2023-01-27T11:22:03.718Z"
   },
   {
    "duration": 40,
    "start_time": "2023-01-27T11:22:03.730Z"
   },
   {
    "duration": 34,
    "start_time": "2023-01-27T11:22:03.773Z"
   },
   {
    "duration": 37,
    "start_time": "2023-01-27T11:22:03.809Z"
   },
   {
    "duration": 24,
    "start_time": "2023-01-27T11:22:03.851Z"
   },
   {
    "duration": 32,
    "start_time": "2023-01-27T11:22:03.877Z"
   },
   {
    "duration": 32,
    "start_time": "2023-01-27T11:22:03.911Z"
   },
   {
    "duration": 36,
    "start_time": "2023-01-27T11:22:03.946Z"
   },
   {
    "duration": 41,
    "start_time": "2023-01-27T11:22:03.986Z"
   },
   {
    "duration": 17,
    "start_time": "2023-01-27T11:22:04.028Z"
   },
   {
    "duration": 41,
    "start_time": "2023-01-27T11:22:04.048Z"
   },
   {
    "duration": 29,
    "start_time": "2023-01-27T11:22:04.091Z"
   },
   {
    "duration": 262,
    "start_time": "2023-01-27T11:22:04.122Z"
   },
   {
    "duration": 5,
    "start_time": "2023-01-27T11:22:04.386Z"
   },
   {
    "duration": 67,
    "start_time": "2023-01-27T11:22:04.393Z"
   },
   {
    "duration": 167,
    "start_time": "2023-01-27T11:22:04.462Z"
   },
   {
    "duration": 179,
    "start_time": "2023-01-27T11:22:04.631Z"
   },
   {
    "duration": 254,
    "start_time": "2023-01-27T11:22:04.811Z"
   },
   {
    "duration": 358,
    "start_time": "2023-01-27T11:22:05.067Z"
   },
   {
    "duration": 182,
    "start_time": "2023-01-27T11:22:05.428Z"
   },
   {
    "duration": 248,
    "start_time": "2023-01-27T11:22:05.613Z"
   },
   {
    "duration": 211,
    "start_time": "2023-01-27T11:22:05.863Z"
   },
   {
    "duration": 101,
    "start_time": "2023-01-27T11:22:06.077Z"
   },
   {
    "duration": 246,
    "start_time": "2023-01-27T11:22:06.181Z"
   },
   {
    "duration": 193,
    "start_time": "2023-01-27T11:22:06.429Z"
   },
   {
    "duration": 338,
    "start_time": "2023-01-27T11:22:06.625Z"
   },
   {
    "duration": 199,
    "start_time": "2023-01-27T11:22:06.965Z"
   },
   {
    "duration": 285,
    "start_time": "2023-01-27T11:22:07.166Z"
   },
   {
    "duration": 431,
    "start_time": "2023-01-27T11:22:07.454Z"
   },
   {
    "duration": 839,
    "start_time": "2023-01-27T11:22:07.887Z"
   },
   {
    "duration": 7,
    "start_time": "2023-01-27T11:22:08.728Z"
   },
   {
    "duration": 299,
    "start_time": "2023-01-27T11:22:08.737Z"
   },
   {
    "duration": 290,
    "start_time": "2023-01-27T11:22:09.037Z"
   },
   {
    "duration": 807,
    "start_time": "2023-01-27T11:22:09.329Z"
   },
   {
    "duration": 23,
    "start_time": "2023-01-27T11:22:10.137Z"
   },
   {
    "duration": 227,
    "start_time": "2023-01-27T11:22:10.162Z"
   },
   {
    "duration": 172,
    "start_time": "2023-01-27T11:22:10.390Z"
   },
   {
    "duration": 6,
    "start_time": "2023-01-27T11:22:10.564Z"
   },
   {
    "duration": 15,
    "start_time": "2023-01-27T11:24:57.187Z"
   },
   {
    "duration": 10,
    "start_time": "2023-01-27T11:25:14.670Z"
   },
   {
    "duration": 8,
    "start_time": "2023-01-27T11:25:49.002Z"
   },
   {
    "duration": 528,
    "start_time": "2023-01-27T11:26:00.084Z"
   },
   {
    "duration": 21,
    "start_time": "2023-01-27T11:26:00.614Z"
   },
   {
    "duration": 42,
    "start_time": "2023-01-27T11:26:00.637Z"
   },
   {
    "duration": 2138,
    "start_time": "2023-01-27T11:26:00.681Z"
   },
   {
    "duration": 10,
    "start_time": "2023-01-27T11:26:02.821Z"
   },
   {
    "duration": 15,
    "start_time": "2023-01-27T11:26:02.832Z"
   },
   {
    "duration": 33,
    "start_time": "2023-01-27T11:26:02.849Z"
   },
   {
    "duration": 20,
    "start_time": "2023-01-27T11:26:02.884Z"
   },
   {
    "duration": 312,
    "start_time": "2023-01-27T11:26:02.910Z"
   },
   {
    "duration": 13,
    "start_time": "2023-01-27T11:26:03.226Z"
   },
   {
    "duration": 4,
    "start_time": "2023-01-27T11:26:03.241Z"
   },
   {
    "duration": 16,
    "start_time": "2023-01-27T11:26:03.247Z"
   },
   {
    "duration": 16,
    "start_time": "2023-01-27T11:26:03.265Z"
   },
   {
    "duration": 52,
    "start_time": "2023-01-27T11:26:03.283Z"
   },
   {
    "duration": 22,
    "start_time": "2023-01-27T11:26:03.337Z"
   },
   {
    "duration": 30,
    "start_time": "2023-01-27T11:26:03.360Z"
   },
   {
    "duration": 23,
    "start_time": "2023-01-27T11:26:03.392Z"
   },
   {
    "duration": 21,
    "start_time": "2023-01-27T11:26:03.416Z"
   },
   {
    "duration": 86,
    "start_time": "2023-01-27T11:26:03.438Z"
   },
   {
    "duration": 27,
    "start_time": "2023-01-27T11:26:03.526Z"
   },
   {
    "duration": 13,
    "start_time": "2023-01-27T11:26:03.555Z"
   },
   {
    "duration": 5,
    "start_time": "2023-01-27T11:26:03.570Z"
   },
   {
    "duration": 36,
    "start_time": "2023-01-27T11:26:03.576Z"
   },
   {
    "duration": 10,
    "start_time": "2023-01-27T11:26:03.614Z"
   },
   {
    "duration": 20,
    "start_time": "2023-01-27T11:26:03.625Z"
   },
   {
    "duration": 12,
    "start_time": "2023-01-27T11:26:03.646Z"
   },
   {
    "duration": 12,
    "start_time": "2023-01-27T11:26:03.660Z"
   },
   {
    "duration": 40,
    "start_time": "2023-01-27T11:26:03.676Z"
   },
   {
    "duration": 12,
    "start_time": "2023-01-27T11:26:03.718Z"
   },
   {
    "duration": 12,
    "start_time": "2023-01-27T11:26:03.732Z"
   },
   {
    "duration": 35,
    "start_time": "2023-01-27T11:26:03.746Z"
   },
   {
    "duration": 8,
    "start_time": "2023-01-27T11:26:03.785Z"
   },
   {
    "duration": 20,
    "start_time": "2023-01-27T11:26:03.795Z"
   },
   {
    "duration": 7,
    "start_time": "2023-01-27T11:26:03.816Z"
   },
   {
    "duration": 12,
    "start_time": "2023-01-27T11:26:03.825Z"
   },
   {
    "duration": 212,
    "start_time": "2023-01-27T11:26:03.839Z"
   },
   {
    "duration": 4,
    "start_time": "2023-01-27T11:26:04.052Z"
   },
   {
    "duration": 30,
    "start_time": "2023-01-27T11:26:04.058Z"
   },
   {
    "duration": 194,
    "start_time": "2023-01-27T11:26:04.090Z"
   },
   {
    "duration": 162,
    "start_time": "2023-01-27T11:26:04.286Z"
   },
   {
    "duration": 248,
    "start_time": "2023-01-27T11:26:04.450Z"
   },
   {
    "duration": 235,
    "start_time": "2023-01-27T11:26:04.699Z"
   },
   {
    "duration": 157,
    "start_time": "2023-01-27T11:26:04.936Z"
   },
   {
    "duration": 202,
    "start_time": "2023-01-27T11:26:05.095Z"
   },
   {
    "duration": 212,
    "start_time": "2023-01-27T11:26:05.299Z"
   },
   {
    "duration": 105,
    "start_time": "2023-01-27T11:26:05.512Z"
   },
   {
    "duration": 433,
    "start_time": "2023-01-27T11:26:05.619Z"
   },
   {
    "duration": 285,
    "start_time": "2023-01-27T11:26:06.054Z"
   },
   {
    "duration": 499,
    "start_time": "2023-01-27T11:26:06.341Z"
   },
   {
    "duration": 310,
    "start_time": "2023-01-27T11:26:06.842Z"
   },
   {
    "duration": 367,
    "start_time": "2023-01-27T11:26:07.154Z"
   },
   {
    "duration": 402,
    "start_time": "2023-01-27T11:26:07.523Z"
   },
   {
    "duration": 519,
    "start_time": "2023-01-27T11:26:07.927Z"
   },
   {
    "duration": 7,
    "start_time": "2023-01-27T11:26:08.448Z"
   },
   {
    "duration": 219,
    "start_time": "2023-01-27T11:26:08.457Z"
   },
   {
    "duration": 187,
    "start_time": "2023-01-27T11:26:08.677Z"
   },
   {
    "duration": 446,
    "start_time": "2023-01-27T11:26:08.865Z"
   },
   {
    "duration": 31,
    "start_time": "2023-01-27T11:26:09.314Z"
   },
   {
    "duration": 183,
    "start_time": "2023-01-27T11:26:09.347Z"
   },
   {
    "duration": 190,
    "start_time": "2023-01-27T11:26:09.533Z"
   },
   {
    "duration": 6,
    "start_time": "2023-01-27T11:26:09.724Z"
   },
   {
    "duration": 186,
    "start_time": "2023-01-27T11:30:50.418Z"
   },
   {
    "duration": 169,
    "start_time": "2023-01-27T11:30:59.526Z"
   },
   {
    "duration": 372,
    "start_time": "2023-01-27T11:31:18.474Z"
   },
   {
    "duration": 187,
    "start_time": "2023-01-27T11:33:23.403Z"
   },
   {
    "duration": 169,
    "start_time": "2023-01-27T11:33:29.510Z"
   },
   {
    "duration": 178,
    "start_time": "2023-01-27T11:33:34.102Z"
   },
   {
    "duration": 178,
    "start_time": "2023-01-27T11:33:47.907Z"
   },
   {
    "duration": 166,
    "start_time": "2023-01-27T11:33:52.556Z"
   },
   {
    "duration": 469,
    "start_time": "2023-01-27T11:45:34.785Z"
   },
   {
    "duration": 157,
    "start_time": "2023-01-27T14:36:08.636Z"
   },
   {
    "duration": 542,
    "start_time": "2023-01-27T14:40:39.845Z"
   },
   {
    "duration": 33,
    "start_time": "2023-01-27T14:40:40.390Z"
   },
   {
    "duration": 43,
    "start_time": "2023-01-27T14:40:40.424Z"
   },
   {
    "duration": 2309,
    "start_time": "2023-01-27T14:40:40.470Z"
   },
   {
    "duration": 10,
    "start_time": "2023-01-27T14:40:42.781Z"
   },
   {
    "duration": 24,
    "start_time": "2023-01-27T14:40:42.819Z"
   },
   {
    "duration": 29,
    "start_time": "2023-01-27T14:40:42.845Z"
   },
   {
    "duration": 20,
    "start_time": "2023-01-27T14:40:42.876Z"
   },
   {
    "duration": 355,
    "start_time": "2023-01-27T14:40:42.898Z"
   },
   {
    "duration": 10,
    "start_time": "2023-01-27T14:40:43.256Z"
   },
   {
    "duration": 15,
    "start_time": "2023-01-27T14:40:43.267Z"
   },
   {
    "duration": 54,
    "start_time": "2023-01-27T14:40:43.284Z"
   },
   {
    "duration": 33,
    "start_time": "2023-01-27T14:40:43.340Z"
   },
   {
    "duration": 30,
    "start_time": "2023-01-27T14:40:43.375Z"
   },
   {
    "duration": 23,
    "start_time": "2023-01-27T14:40:43.407Z"
   },
   {
    "duration": 45,
    "start_time": "2023-01-27T14:40:43.443Z"
   },
   {
    "duration": 8,
    "start_time": "2023-01-27T14:40:43.491Z"
   },
   {
    "duration": 73,
    "start_time": "2023-01-27T14:40:43.501Z"
   },
   {
    "duration": 93,
    "start_time": "2023-01-27T14:40:43.575Z"
   },
   {
    "duration": 27,
    "start_time": "2023-01-27T14:40:43.671Z"
   },
   {
    "duration": 79,
    "start_time": "2023-01-27T14:40:43.700Z"
   },
   {
    "duration": 22,
    "start_time": "2023-01-27T14:40:43.780Z"
   },
   {
    "duration": 36,
    "start_time": "2023-01-27T14:40:43.804Z"
   },
   {
    "duration": 16,
    "start_time": "2023-01-27T14:40:43.842Z"
   },
   {
    "duration": 21,
    "start_time": "2023-01-27T14:40:43.860Z"
   },
   {
    "duration": 10,
    "start_time": "2023-01-27T14:40:43.883Z"
   },
   {
    "duration": 30,
    "start_time": "2023-01-27T14:40:43.895Z"
   },
   {
    "duration": 24,
    "start_time": "2023-01-27T14:40:43.929Z"
   },
   {
    "duration": 12,
    "start_time": "2023-01-27T14:40:43.955Z"
   },
   {
    "duration": 11,
    "start_time": "2023-01-27T14:40:43.969Z"
   },
   {
    "duration": 41,
    "start_time": "2023-01-27T14:40:43.982Z"
   },
   {
    "duration": 10,
    "start_time": "2023-01-27T14:40:44.032Z"
   },
   {
    "duration": 8,
    "start_time": "2023-01-27T14:40:44.044Z"
   },
   {
    "duration": 7,
    "start_time": "2023-01-27T14:40:44.053Z"
   },
   {
    "duration": 19,
    "start_time": "2023-01-27T14:40:44.062Z"
   },
   {
    "duration": 202,
    "start_time": "2023-01-27T14:40:44.084Z"
   },
   {
    "duration": 5,
    "start_time": "2023-01-27T14:40:44.288Z"
   },
   {
    "duration": 51,
    "start_time": "2023-01-27T14:40:44.295Z"
   },
   {
    "duration": 159,
    "start_time": "2023-01-27T14:40:44.348Z"
   },
   {
    "duration": 225,
    "start_time": "2023-01-27T14:40:44.509Z"
   },
   {
    "duration": 208,
    "start_time": "2023-01-27T14:40:44.744Z"
   },
   {
    "duration": 375,
    "start_time": "2023-01-27T14:40:44.954Z"
   },
   {
    "duration": 175,
    "start_time": "2023-01-27T14:40:45.331Z"
   },
   {
    "duration": 173,
    "start_time": "2023-01-27T14:40:45.507Z"
   },
   {
    "duration": 214,
    "start_time": "2023-01-27T14:40:45.681Z"
   },
   {
    "duration": 201,
    "start_time": "2023-01-27T14:40:45.897Z"
   },
   {
    "duration": 122,
    "start_time": "2023-01-27T14:40:46.100Z"
   },
   {
    "duration": 265,
    "start_time": "2023-01-27T14:40:46.223Z"
   },
   {
    "duration": 193,
    "start_time": "2023-01-27T14:40:46.489Z"
   },
   {
    "duration": 273,
    "start_time": "2023-01-27T14:40:46.684Z"
   },
   {
    "duration": 186,
    "start_time": "2023-01-27T14:40:46.960Z"
   },
   {
    "duration": 270,
    "start_time": "2023-01-27T14:40:47.149Z"
   },
   {
    "duration": 299,
    "start_time": "2023-01-27T14:40:47.420Z"
   },
   {
    "duration": 528,
    "start_time": "2023-01-27T14:40:47.720Z"
   },
   {
    "duration": 8,
    "start_time": "2023-01-27T14:40:48.249Z"
   },
   {
    "duration": 159,
    "start_time": "2023-01-27T14:40:48.259Z"
   },
   {
    "duration": 120,
    "start_time": "2023-01-27T14:40:48.439Z"
   },
   {
    "duration": 462,
    "start_time": "2023-01-27T14:40:48.561Z"
   },
   {
    "duration": 29,
    "start_time": "2023-01-27T14:40:49.024Z"
   },
   {
    "duration": 187,
    "start_time": "2023-01-27T14:40:49.054Z"
   },
   {
    "duration": 197,
    "start_time": "2023-01-27T14:40:49.243Z"
   },
   {
    "duration": 5,
    "start_time": "2023-01-27T14:40:49.442Z"
   },
   {
    "duration": 821,
    "start_time": "2023-01-27T16:32:46.172Z"
   },
   {
    "duration": 15,
    "start_time": "2023-01-27T16:32:46.996Z"
   },
   {
    "duration": 46,
    "start_time": "2023-01-27T16:32:47.013Z"
   },
   {
    "duration": 2356,
    "start_time": "2023-01-27T16:32:47.061Z"
   },
   {
    "duration": 10,
    "start_time": "2023-01-27T16:32:49.420Z"
   },
   {
    "duration": 7,
    "start_time": "2023-01-27T16:32:49.431Z"
   },
   {
    "duration": 41,
    "start_time": "2023-01-27T16:32:49.439Z"
   },
   {
    "duration": 16,
    "start_time": "2023-01-27T16:32:49.482Z"
   },
   {
    "duration": 265,
    "start_time": "2023-01-27T16:32:49.500Z"
   },
   {
    "duration": 18,
    "start_time": "2023-01-27T16:32:49.767Z"
   },
   {
    "duration": 4,
    "start_time": "2023-01-27T16:32:49.787Z"
   },
   {
    "duration": 7,
    "start_time": "2023-01-27T16:32:49.792Z"
   },
   {
    "duration": 14,
    "start_time": "2023-01-27T16:32:49.801Z"
   },
   {
    "duration": 24,
    "start_time": "2023-01-27T16:32:49.818Z"
   },
   {
    "duration": 41,
    "start_time": "2023-01-27T16:32:49.844Z"
   },
   {
    "duration": 35,
    "start_time": "2023-01-27T16:32:49.886Z"
   },
   {
    "duration": 6,
    "start_time": "2023-01-27T16:32:49.923Z"
   },
   {
    "duration": 19,
    "start_time": "2023-01-27T16:32:49.931Z"
   },
   {
    "duration": 103,
    "start_time": "2023-01-27T16:32:49.951Z"
   },
   {
    "duration": 43,
    "start_time": "2023-01-27T16:32:50.055Z"
   },
   {
    "duration": 31,
    "start_time": "2023-01-27T16:32:50.099Z"
   },
   {
    "duration": 13,
    "start_time": "2023-01-27T16:32:50.132Z"
   },
   {
    "duration": 20,
    "start_time": "2023-01-27T16:32:50.147Z"
   },
   {
    "duration": 13,
    "start_time": "2023-01-27T16:32:50.169Z"
   },
   {
    "duration": 20,
    "start_time": "2023-01-27T16:32:50.184Z"
   },
   {
    "duration": 16,
    "start_time": "2023-01-27T16:32:50.205Z"
   },
   {
    "duration": 13,
    "start_time": "2023-01-27T16:32:50.222Z"
   },
   {
    "duration": 8,
    "start_time": "2023-01-27T16:32:50.237Z"
   },
   {
    "duration": 42,
    "start_time": "2023-01-27T16:32:50.247Z"
   },
   {
    "duration": 23,
    "start_time": "2023-01-27T16:32:50.290Z"
   },
   {
    "duration": 31,
    "start_time": "2023-01-27T16:32:50.314Z"
   },
   {
    "duration": 20,
    "start_time": "2023-01-27T16:32:50.346Z"
   },
   {
    "duration": 19,
    "start_time": "2023-01-27T16:32:50.368Z"
   },
   {
    "duration": 32,
    "start_time": "2023-01-27T16:32:50.388Z"
   },
   {
    "duration": 14,
    "start_time": "2023-01-27T16:32:50.422Z"
   },
   {
    "duration": 158,
    "start_time": "2023-01-27T16:32:50.438Z"
   },
   {
    "duration": 4,
    "start_time": "2023-01-27T16:32:50.598Z"
   },
   {
    "duration": 30,
    "start_time": "2023-01-27T16:32:50.604Z"
   },
   {
    "duration": 191,
    "start_time": "2023-01-27T16:32:50.636Z"
   },
   {
    "duration": 195,
    "start_time": "2023-01-27T16:32:50.828Z"
   },
   {
    "duration": 199,
    "start_time": "2023-01-27T16:32:51.027Z"
   },
   {
    "duration": 360,
    "start_time": "2023-01-27T16:32:51.228Z"
   },
   {
    "duration": 179,
    "start_time": "2023-01-27T16:32:51.590Z"
   },
   {
    "duration": 166,
    "start_time": "2023-01-27T16:32:51.770Z"
   },
   {
    "duration": 227,
    "start_time": "2023-01-27T16:32:51.937Z"
   },
   {
    "duration": 215,
    "start_time": "2023-01-27T16:32:52.166Z"
   },
   {
    "duration": 100,
    "start_time": "2023-01-27T16:32:52.383Z"
   },
   {
    "duration": 264,
    "start_time": "2023-01-27T16:32:52.484Z"
   },
   {
    "duration": 150,
    "start_time": "2023-01-27T16:32:52.750Z"
   },
   {
    "duration": 220,
    "start_time": "2023-01-27T16:32:52.901Z"
   },
   {
    "duration": 160,
    "start_time": "2023-01-27T16:32:53.123Z"
   },
   {
    "duration": 297,
    "start_time": "2023-01-27T16:32:53.284Z"
   },
   {
    "duration": 311,
    "start_time": "2023-01-27T16:32:53.583Z"
   },
   {
    "duration": 509,
    "start_time": "2023-01-27T16:32:53.896Z"
   },
   {
    "duration": 7,
    "start_time": "2023-01-27T16:32:54.407Z"
   },
   {
    "duration": 151,
    "start_time": "2023-01-27T16:32:54.416Z"
   },
   {
    "duration": 140,
    "start_time": "2023-01-27T16:32:54.569Z"
   },
   {
    "duration": 472,
    "start_time": "2023-01-27T16:32:54.711Z"
   },
   {
    "duration": 31,
    "start_time": "2023-01-27T16:32:55.184Z"
   },
   {
    "duration": 199,
    "start_time": "2023-01-27T16:32:55.217Z"
   },
   {
    "duration": 205,
    "start_time": "2023-01-27T16:32:55.418Z"
   },
   {
    "duration": 5,
    "start_time": "2023-01-27T16:32:55.625Z"
   },
   {
    "duration": 53,
    "start_time": "2023-01-28T11:47:56.726Z"
   },
   {
    "duration": 837,
    "start_time": "2023-01-28T11:48:04.611Z"
   },
   {
    "duration": 22,
    "start_time": "2023-01-28T11:48:05.451Z"
   },
   {
    "duration": 36,
    "start_time": "2023-01-28T11:48:05.475Z"
   },
   {
    "duration": 2631,
    "start_time": "2023-01-28T11:48:05.513Z"
   },
   {
    "duration": 12,
    "start_time": "2023-01-28T11:48:08.147Z"
   },
   {
    "duration": 38,
    "start_time": "2023-01-28T11:48:08.161Z"
   },
   {
    "duration": 58,
    "start_time": "2023-01-28T11:48:08.201Z"
   },
   {
    "duration": 19,
    "start_time": "2023-01-28T11:48:08.261Z"
   },
   {
    "duration": 271,
    "start_time": "2023-01-28T11:48:08.281Z"
   },
   {
    "duration": 9,
    "start_time": "2023-01-28T11:48:08.554Z"
   },
   {
    "duration": 8,
    "start_time": "2023-01-28T11:48:08.565Z"
   },
   {
    "duration": 3,
    "start_time": "2023-01-28T11:48:08.575Z"
   },
   {
    "duration": 20,
    "start_time": "2023-01-28T11:48:08.580Z"
   },
   {
    "duration": 45,
    "start_time": "2023-01-28T11:48:08.603Z"
   },
   {
    "duration": 19,
    "start_time": "2023-01-28T11:48:08.650Z"
   },
   {
    "duration": 35,
    "start_time": "2023-01-28T11:48:08.670Z"
   },
   {
    "duration": 6,
    "start_time": "2023-01-28T11:48:08.707Z"
   },
   {
    "duration": 41,
    "start_time": "2023-01-28T11:48:08.714Z"
   },
   {
    "duration": 87,
    "start_time": "2023-01-28T11:48:08.757Z"
   },
   {
    "duration": 29,
    "start_time": "2023-01-28T11:48:08.845Z"
   },
   {
    "duration": 43,
    "start_time": "2023-01-28T11:48:08.876Z"
   },
   {
    "duration": 3,
    "start_time": "2023-01-28T11:48:08.921Z"
   },
   {
    "duration": 21,
    "start_time": "2023-01-28T11:48:08.926Z"
   },
   {
    "duration": 9,
    "start_time": "2023-01-28T11:48:08.949Z"
   },
   {
    "duration": 39,
    "start_time": "2023-01-28T11:48:08.959Z"
   },
   {
    "duration": 7,
    "start_time": "2023-01-28T11:48:09.000Z"
   },
   {
    "duration": 16,
    "start_time": "2023-01-28T11:48:09.009Z"
   },
   {
    "duration": 17,
    "start_time": "2023-01-28T11:48:09.027Z"
   },
   {
    "duration": 14,
    "start_time": "2023-01-28T11:48:09.046Z"
   },
   {
    "duration": 10,
    "start_time": "2023-01-28T11:48:09.062Z"
   },
   {
    "duration": 16,
    "start_time": "2023-01-28T11:48:09.073Z"
   },
   {
    "duration": 8,
    "start_time": "2023-01-28T11:48:09.091Z"
   },
   {
    "duration": 13,
    "start_time": "2023-01-28T11:48:09.100Z"
   },
   {
    "duration": 5,
    "start_time": "2023-01-28T11:48:09.138Z"
   },
   {
    "duration": 16,
    "start_time": "2023-01-28T11:48:09.144Z"
   },
   {
    "duration": 181,
    "start_time": "2023-01-28T11:48:09.162Z"
   },
   {
    "duration": 5,
    "start_time": "2023-01-28T11:48:09.345Z"
   },
   {
    "duration": 58,
    "start_time": "2023-01-28T11:48:09.354Z"
   },
   {
    "duration": 158,
    "start_time": "2023-01-28T11:48:09.414Z"
   },
   {
    "duration": 188,
    "start_time": "2023-01-28T11:48:09.574Z"
   },
   {
    "duration": 174,
    "start_time": "2023-01-28T11:48:09.766Z"
   },
   {
    "duration": 346,
    "start_time": "2023-01-28T11:48:09.942Z"
   },
   {
    "duration": 174,
    "start_time": "2023-01-28T11:48:10.290Z"
   },
   {
    "duration": 166,
    "start_time": "2023-01-28T11:48:10.466Z"
   },
   {
    "duration": 221,
    "start_time": "2023-01-28T11:48:10.637Z"
   },
   {
    "duration": 221,
    "start_time": "2023-01-28T11:48:10.859Z"
   },
   {
    "duration": 92,
    "start_time": "2023-01-28T11:48:11.082Z"
   },
   {
    "duration": 256,
    "start_time": "2023-01-28T11:48:11.176Z"
   },
   {
    "duration": 135,
    "start_time": "2023-01-28T11:48:11.434Z"
   },
   {
    "duration": 213,
    "start_time": "2023-01-28T11:48:11.571Z"
   },
   {
    "duration": 262,
    "start_time": "2023-01-28T11:48:11.786Z"
   },
   {
    "duration": 191,
    "start_time": "2023-01-28T11:48:12.050Z"
   },
   {
    "duration": 362,
    "start_time": "2023-01-28T11:48:12.243Z"
   },
   {
    "duration": 543,
    "start_time": "2023-01-28T11:48:12.608Z"
   },
   {
    "duration": 8,
    "start_time": "2023-01-28T11:48:13.153Z"
   },
   {
    "duration": 154,
    "start_time": "2023-01-28T11:48:13.162Z"
   },
   {
    "duration": 155,
    "start_time": "2023-01-28T11:48:13.317Z"
   },
   {
    "duration": 496,
    "start_time": "2023-01-28T11:48:13.474Z"
   },
   {
    "duration": 25,
    "start_time": "2023-01-28T11:48:13.972Z"
   },
   {
    "duration": 190,
    "start_time": "2023-01-28T11:48:13.999Z"
   },
   {
    "duration": 186,
    "start_time": "2023-01-28T11:48:14.192Z"
   },
   {
    "duration": 6,
    "start_time": "2023-01-28T11:48:14.380Z"
   },
   {
    "duration": 13,
    "start_time": "2023-01-28T11:48:31.631Z"
   },
   {
    "duration": 5,
    "start_time": "2023-01-28T11:48:49.545Z"
   },
   {
    "duration": 96,
    "start_time": "2023-01-28T11:54:44.335Z"
   },
   {
    "duration": 77,
    "start_time": "2023-01-28T12:03:52.086Z"
   },
   {
    "duration": 103,
    "start_time": "2023-01-28T12:04:11.272Z"
   },
   {
    "duration": 304,
    "start_time": "2023-01-28T12:05:56.556Z"
   },
   {
    "duration": 15,
    "start_time": "2023-01-28T12:08:08.452Z"
   },
   {
    "duration": 83,
    "start_time": "2023-01-28T12:13:23.699Z"
   },
   {
    "duration": 74,
    "start_time": "2023-01-28T12:13:47.255Z"
   },
   {
    "duration": 12,
    "start_time": "2023-01-28T12:14:10.356Z"
   },
   {
    "duration": 11,
    "start_time": "2023-01-28T12:14:19.055Z"
   },
   {
    "duration": 14,
    "start_time": "2023-01-28T12:14:27.409Z"
   },
   {
    "duration": 11,
    "start_time": "2023-01-28T12:20:52.864Z"
   },
   {
    "duration": 15,
    "start_time": "2023-01-28T12:21:32.265Z"
   },
   {
    "duration": 14,
    "start_time": "2023-01-28T12:22:52.344Z"
   },
   {
    "duration": 10,
    "start_time": "2023-01-28T12:23:00.485Z"
   },
   {
    "duration": 15,
    "start_time": "2023-01-28T12:24:16.869Z"
   },
   {
    "duration": 11,
    "start_time": "2023-01-28T12:24:22.176Z"
   },
   {
    "duration": 88,
    "start_time": "2023-01-28T12:26:35.905Z"
   },
   {
    "duration": 73,
    "start_time": "2023-01-28T12:26:44.753Z"
   },
   {
    "duration": 33,
    "start_time": "2023-01-28T12:26:52.471Z"
   },
   {
    "duration": 30,
    "start_time": "2023-01-28T12:27:52.737Z"
   },
   {
    "duration": 29,
    "start_time": "2023-01-28T12:28:19.328Z"
   },
   {
    "duration": 552,
    "start_time": "2023-01-28T12:28:55.517Z"
   },
   {
    "duration": 16,
    "start_time": "2023-01-28T12:28:56.071Z"
   },
   {
    "duration": 32,
    "start_time": "2023-01-28T12:28:56.088Z"
   },
   {
    "duration": 2307,
    "start_time": "2023-01-28T12:28:56.137Z"
   },
   {
    "duration": 10,
    "start_time": "2023-01-28T12:28:58.446Z"
   },
   {
    "duration": 4,
    "start_time": "2023-01-28T12:28:58.458Z"
   },
   {
    "duration": 27,
    "start_time": "2023-01-28T12:28:58.464Z"
   },
   {
    "duration": 45,
    "start_time": "2023-01-28T12:28:58.493Z"
   },
   {
    "duration": 269,
    "start_time": "2023-01-28T12:28:58.541Z"
   },
   {
    "duration": 10,
    "start_time": "2023-01-28T12:28:58.813Z"
   },
   {
    "duration": 20,
    "start_time": "2023-01-28T12:28:58.824Z"
   },
   {
    "duration": 16,
    "start_time": "2023-01-28T12:28:58.846Z"
   },
   {
    "duration": 28,
    "start_time": "2023-01-28T12:28:58.864Z"
   },
   {
    "duration": 14,
    "start_time": "2023-01-28T12:28:58.894Z"
   },
   {
    "duration": 51,
    "start_time": "2023-01-28T12:28:58.910Z"
   },
   {
    "duration": 6,
    "start_time": "2023-01-28T12:28:58.962Z"
   },
   {
    "duration": 22,
    "start_time": "2023-01-28T12:28:58.969Z"
   },
   {
    "duration": 90,
    "start_time": "2023-01-28T12:28:58.993Z"
   },
   {
    "duration": 28,
    "start_time": "2023-01-28T12:28:59.084Z"
   },
   {
    "duration": 28,
    "start_time": "2023-01-28T12:28:59.114Z"
   },
   {
    "duration": 4,
    "start_time": "2023-01-28T12:28:59.144Z"
   },
   {
    "duration": 16,
    "start_time": "2023-01-28T12:28:59.150Z"
   },
   {
    "duration": 10,
    "start_time": "2023-01-28T12:28:59.168Z"
   },
   {
    "duration": 20,
    "start_time": "2023-01-28T12:28:59.180Z"
   },
   {
    "duration": 43,
    "start_time": "2023-01-28T12:28:59.202Z"
   },
   {
    "duration": 13,
    "start_time": "2023-01-28T12:28:59.246Z"
   },
   {
    "duration": 8,
    "start_time": "2023-01-28T12:28:59.260Z"
   },
   {
    "duration": 11,
    "start_time": "2023-01-28T12:28:59.272Z"
   },
   {
    "duration": 8,
    "start_time": "2023-01-28T12:28:59.285Z"
   },
   {
    "duration": 50,
    "start_time": "2023-01-28T12:28:59.295Z"
   },
   {
    "duration": 6,
    "start_time": "2023-01-28T12:28:59.347Z"
   },
   {
    "duration": 9,
    "start_time": "2023-01-28T12:28:59.354Z"
   },
   {
    "duration": 5,
    "start_time": "2023-01-28T12:28:59.364Z"
   },
   {
    "duration": 12,
    "start_time": "2023-01-28T12:28:59.371Z"
   },
   {
    "duration": 179,
    "start_time": "2023-01-28T12:28:59.384Z"
   },
   {
    "duration": 5,
    "start_time": "2023-01-28T12:28:59.565Z"
   },
   {
    "duration": 26,
    "start_time": "2023-01-28T12:28:59.571Z"
   },
   {
    "duration": 166,
    "start_time": "2023-01-28T12:28:59.599Z"
   },
   {
    "duration": 169,
    "start_time": "2023-01-28T12:28:59.766Z"
   },
   {
    "duration": 167,
    "start_time": "2023-01-28T12:28:59.937Z"
   },
   {
    "duration": 349,
    "start_time": "2023-01-28T12:29:00.106Z"
   },
   {
    "duration": 174,
    "start_time": "2023-01-28T12:29:00.457Z"
   },
   {
    "duration": 171,
    "start_time": "2023-01-28T12:29:00.637Z"
   },
   {
    "duration": 201,
    "start_time": "2023-01-28T12:29:00.810Z"
   },
   {
    "duration": 225,
    "start_time": "2023-01-28T12:29:01.014Z"
   },
   {
    "duration": 78,
    "start_time": "2023-01-28T12:29:01.241Z"
   },
   {
    "duration": 268,
    "start_time": "2023-01-28T12:29:01.321Z"
   },
   {
    "duration": 182,
    "start_time": "2023-01-28T12:29:01.591Z"
   },
   {
    "duration": 223,
    "start_time": "2023-01-28T12:29:01.775Z"
   },
   {
    "duration": 167,
    "start_time": "2023-01-28T12:29:02.000Z"
   },
   {
    "duration": 291,
    "start_time": "2023-01-28T12:29:02.168Z"
   },
   {
    "duration": 339,
    "start_time": "2023-01-28T12:29:02.461Z"
   },
   {
    "duration": 502,
    "start_time": "2023-01-28T12:29:02.802Z"
   },
   {
    "duration": 9,
    "start_time": "2023-01-28T12:29:03.306Z"
   },
   {
    "duration": 155,
    "start_time": "2023-01-28T12:29:03.316Z"
   },
   {
    "duration": 138,
    "start_time": "2023-01-28T12:29:03.473Z"
   },
   {
    "duration": 475,
    "start_time": "2023-01-28T12:29:03.612Z"
   },
   {
    "duration": 24,
    "start_time": "2023-01-28T12:29:04.090Z"
   },
   {
    "duration": 188,
    "start_time": "2023-01-28T12:29:04.116Z"
   },
   {
    "duration": 189,
    "start_time": "2023-01-28T12:29:04.306Z"
   },
   {
    "duration": 6,
    "start_time": "2023-01-28T12:29:04.496Z"
   },
   {
    "duration": 96,
    "start_time": "2023-01-28T12:31:01.546Z"
   },
   {
    "duration": 35,
    "start_time": "2023-01-28T12:31:18.779Z"
   },
   {
    "duration": 558,
    "start_time": "2023-01-28T12:31:35.416Z"
   },
   {
    "duration": 17,
    "start_time": "2023-01-28T12:31:35.977Z"
   },
   {
    "duration": 44,
    "start_time": "2023-01-28T12:31:35.996Z"
   },
   {
    "duration": 2386,
    "start_time": "2023-01-28T12:31:36.042Z"
   },
   {
    "duration": 13,
    "start_time": "2023-01-28T12:31:38.431Z"
   },
   {
    "duration": 10,
    "start_time": "2023-01-28T12:31:38.447Z"
   },
   {
    "duration": 32,
    "start_time": "2023-01-28T12:31:38.459Z"
   },
   {
    "duration": 20,
    "start_time": "2023-01-28T12:31:38.493Z"
   },
   {
    "duration": 282,
    "start_time": "2023-01-28T12:31:38.515Z"
   },
   {
    "duration": 10,
    "start_time": "2023-01-28T12:31:38.800Z"
   },
   {
    "duration": 9,
    "start_time": "2023-01-28T12:31:38.811Z"
   },
   {
    "duration": 13,
    "start_time": "2023-01-28T12:31:38.839Z"
   },
   {
    "duration": 36,
    "start_time": "2023-01-28T12:31:38.853Z"
   },
   {
    "duration": 14,
    "start_time": "2023-01-28T12:31:38.891Z"
   },
   {
    "duration": 51,
    "start_time": "2023-01-28T12:31:38.906Z"
   },
   {
    "duration": 6,
    "start_time": "2023-01-28T12:31:38.959Z"
   },
   {
    "duration": 22,
    "start_time": "2023-01-28T12:31:38.966Z"
   },
   {
    "duration": 100,
    "start_time": "2023-01-28T12:31:38.989Z"
   },
   {
    "duration": 30,
    "start_time": "2023-01-28T12:31:39.091Z"
   },
   {
    "duration": 15,
    "start_time": "2023-01-28T12:31:39.137Z"
   },
   {
    "duration": 6,
    "start_time": "2023-01-28T12:31:39.154Z"
   },
   {
    "duration": 24,
    "start_time": "2023-01-28T12:31:39.162Z"
   },
   {
    "duration": 17,
    "start_time": "2023-01-28T12:31:39.188Z"
   },
   {
    "duration": 45,
    "start_time": "2023-01-28T12:31:39.207Z"
   },
   {
    "duration": 10,
    "start_time": "2023-01-28T12:31:39.255Z"
   },
   {
    "duration": 21,
    "start_time": "2023-01-28T12:31:39.268Z"
   },
   {
    "duration": 17,
    "start_time": "2023-01-28T12:31:39.291Z"
   },
   {
    "duration": 33,
    "start_time": "2023-01-28T12:31:39.313Z"
   },
   {
    "duration": 10,
    "start_time": "2023-01-28T12:31:39.348Z"
   },
   {
    "duration": 34,
    "start_time": "2023-01-28T12:31:39.359Z"
   },
   {
    "duration": 19,
    "start_time": "2023-01-28T12:31:39.395Z"
   },
   {
    "duration": 22,
    "start_time": "2023-01-28T12:31:39.416Z"
   },
   {
    "duration": 32,
    "start_time": "2023-01-28T12:31:39.440Z"
   },
   {
    "duration": 15,
    "start_time": "2023-01-28T12:31:39.476Z"
   },
   {
    "duration": 165,
    "start_time": "2023-01-28T12:31:39.493Z"
   },
   {
    "duration": 5,
    "start_time": "2023-01-28T12:31:39.659Z"
   },
   {
    "duration": 34,
    "start_time": "2023-01-28T12:31:39.665Z"
   },
   {
    "duration": 169,
    "start_time": "2023-01-28T12:31:39.701Z"
   },
   {
    "duration": 192,
    "start_time": "2023-01-28T12:31:39.872Z"
   },
   {
    "duration": 176,
    "start_time": "2023-01-28T12:31:40.066Z"
   },
   {
    "duration": 383,
    "start_time": "2023-01-28T12:31:40.244Z"
   },
   {
    "duration": 176,
    "start_time": "2023-01-28T12:31:40.629Z"
   },
   {
    "duration": 172,
    "start_time": "2023-01-28T12:31:40.807Z"
   },
   {
    "duration": 202,
    "start_time": "2023-01-28T12:31:40.981Z"
   },
   {
    "duration": 256,
    "start_time": "2023-01-28T12:31:41.185Z"
   },
   {
    "duration": 195,
    "start_time": "2023-01-28T12:31:41.443Z"
   },
   {
    "duration": 500,
    "start_time": "2023-01-28T12:31:41.640Z"
   },
   {
    "duration": 304,
    "start_time": "2023-01-28T12:31:42.141Z"
   },
   {
    "duration": 509,
    "start_time": "2023-01-28T12:31:42.448Z"
   },
   {
    "duration": 317,
    "start_time": "2023-01-28T12:31:42.959Z"
   },
   {
    "duration": 486,
    "start_time": "2023-01-28T12:31:43.277Z"
   },
   {
    "duration": 328,
    "start_time": "2023-01-28T12:31:43.765Z"
   },
   {
    "duration": 541,
    "start_time": "2023-01-28T12:31:44.095Z"
   },
   {
    "duration": 9,
    "start_time": "2023-01-28T12:31:44.638Z"
   },
   {
    "duration": 163,
    "start_time": "2023-01-28T12:31:44.649Z"
   },
   {
    "duration": 165,
    "start_time": "2023-01-28T12:31:44.813Z"
   },
   {
    "duration": 518,
    "start_time": "2023-01-28T12:31:44.980Z"
   },
   {
    "duration": 39,
    "start_time": "2023-01-28T12:31:45.500Z"
   },
   {
    "duration": 202,
    "start_time": "2023-01-28T12:31:45.541Z"
   },
   {
    "duration": 197,
    "start_time": "2023-01-28T12:31:45.745Z"
   },
   {
    "duration": 5,
    "start_time": "2023-01-28T12:31:45.944Z"
   },
   {
    "duration": 25,
    "start_time": "2023-01-28T12:34:51.795Z"
   },
   {
    "duration": 73,
    "start_time": "2023-01-28T12:35:26.484Z"
   },
   {
    "duration": 140,
    "start_time": "2023-01-28T12:35:31.573Z"
   },
   {
    "duration": 72,
    "start_time": "2023-01-28T12:36:28.788Z"
   },
   {
    "duration": 22,
    "start_time": "2023-01-28T12:36:34.382Z"
   },
   {
    "duration": 21,
    "start_time": "2023-01-28T12:36:41.683Z"
   },
   {
    "duration": 509,
    "start_time": "2023-01-28T13:16:37.972Z"
   },
   {
    "duration": 16,
    "start_time": "2023-01-28T13:16:38.484Z"
   },
   {
    "duration": 42,
    "start_time": "2023-01-28T13:16:38.502Z"
   },
   {
    "duration": 2441,
    "start_time": "2023-01-28T13:16:38.546Z"
   },
   {
    "duration": 10,
    "start_time": "2023-01-28T13:16:40.990Z"
   },
   {
    "duration": 8,
    "start_time": "2023-01-28T13:16:41.002Z"
   },
   {
    "duration": 32,
    "start_time": "2023-01-28T13:16:41.012Z"
   },
   {
    "duration": 20,
    "start_time": "2023-01-28T13:16:41.045Z"
   },
   {
    "duration": 264,
    "start_time": "2023-01-28T13:16:41.067Z"
   },
   {
    "duration": 10,
    "start_time": "2023-01-28T13:16:41.337Z"
   },
   {
    "duration": 20,
    "start_time": "2023-01-28T13:16:41.349Z"
   },
   {
    "duration": 51,
    "start_time": "2023-01-28T13:16:41.371Z"
   },
   {
    "duration": 33,
    "start_time": "2023-01-28T13:16:41.424Z"
   },
   {
    "duration": 14,
    "start_time": "2023-01-28T13:16:41.460Z"
   },
   {
    "duration": 45,
    "start_time": "2023-01-28T13:16:41.476Z"
   },
   {
    "duration": 18,
    "start_time": "2023-01-28T13:16:41.523Z"
   },
   {
    "duration": 22,
    "start_time": "2023-01-28T13:16:41.543Z"
   },
   {
    "duration": 89,
    "start_time": "2023-01-28T13:16:41.567Z"
   },
   {
    "duration": 30,
    "start_time": "2023-01-28T13:16:41.658Z"
   },
   {
    "duration": 27,
    "start_time": "2023-01-28T13:16:41.690Z"
   },
   {
    "duration": 17,
    "start_time": "2023-01-28T13:16:41.719Z"
   },
   {
    "duration": 31,
    "start_time": "2023-01-28T13:16:41.738Z"
   },
   {
    "duration": 21,
    "start_time": "2023-01-28T13:16:41.771Z"
   },
   {
    "duration": 33,
    "start_time": "2023-01-28T13:16:41.794Z"
   },
   {
    "duration": 9,
    "start_time": "2023-01-28T13:16:41.829Z"
   },
   {
    "duration": 20,
    "start_time": "2023-01-28T13:16:41.839Z"
   },
   {
    "duration": 22,
    "start_time": "2023-01-28T13:16:41.861Z"
   },
   {
    "duration": 19,
    "start_time": "2023-01-28T13:16:41.887Z"
   },
   {
    "duration": 21,
    "start_time": "2023-01-28T13:16:41.908Z"
   },
   {
    "duration": 39,
    "start_time": "2023-01-28T13:16:41.931Z"
   },
   {
    "duration": 19,
    "start_time": "2023-01-28T13:16:41.972Z"
   },
   {
    "duration": 30,
    "start_time": "2023-01-28T13:16:41.993Z"
   },
   {
    "duration": 25,
    "start_time": "2023-01-28T13:16:42.025Z"
   },
   {
    "duration": 23,
    "start_time": "2023-01-28T13:16:42.052Z"
   },
   {
    "duration": 177,
    "start_time": "2023-01-28T13:16:42.077Z"
   },
   {
    "duration": 5,
    "start_time": "2023-01-28T13:16:42.256Z"
   },
   {
    "duration": 38,
    "start_time": "2023-01-28T13:16:42.263Z"
   },
   {
    "duration": 205,
    "start_time": "2023-01-28T13:16:42.304Z"
   },
   {
    "duration": 216,
    "start_time": "2023-01-28T13:16:42.512Z"
   },
   {
    "duration": 179,
    "start_time": "2023-01-28T13:16:42.729Z"
   },
   {
    "duration": 366,
    "start_time": "2023-01-28T13:16:42.910Z"
   },
   {
    "duration": 189,
    "start_time": "2023-01-28T13:16:43.278Z"
   },
   {
    "duration": 226,
    "start_time": "2023-01-28T13:16:43.470Z"
   },
   {
    "duration": 220,
    "start_time": "2023-01-28T13:16:43.698Z"
   },
   {
    "duration": 349,
    "start_time": "2023-01-28T13:16:43.920Z"
   },
   {
    "duration": 112,
    "start_time": "2023-01-28T13:16:44.271Z"
   },
   {
    "duration": 258,
    "start_time": "2023-01-28T13:16:44.385Z"
   },
   {
    "duration": 145,
    "start_time": "2023-01-28T13:16:44.645Z"
   },
   {
    "duration": 211,
    "start_time": "2023-01-28T13:16:44.792Z"
   },
   {
    "duration": 150,
    "start_time": "2023-01-28T13:16:45.004Z"
   },
   {
    "duration": 271,
    "start_time": "2023-01-28T13:16:45.156Z"
   },
   {
    "duration": 275,
    "start_time": "2023-01-28T13:16:45.429Z"
   },
   {
    "duration": 504,
    "start_time": "2023-01-28T13:16:45.706Z"
   },
   {
    "duration": 6,
    "start_time": "2023-01-28T13:16:46.212Z"
   },
   {
    "duration": 145,
    "start_time": "2023-01-28T13:16:46.220Z"
   },
   {
    "duration": 125,
    "start_time": "2023-01-28T13:16:46.369Z"
   },
   {
    "duration": 462,
    "start_time": "2023-01-28T13:16:46.496Z"
   },
   {
    "duration": 24,
    "start_time": "2023-01-28T13:16:46.960Z"
   },
   {
    "duration": 181,
    "start_time": "2023-01-28T13:16:46.986Z"
   },
   {
    "duration": 171,
    "start_time": "2023-01-28T13:16:47.168Z"
   },
   {
    "duration": 6,
    "start_time": "2023-01-28T13:16:47.341Z"
   },
   {
    "duration": 6,
    "start_time": "2023-01-28T13:18:32.437Z"
   },
   {
    "duration": 573,
    "start_time": "2023-01-28T13:22:46.330Z"
   },
   {
    "duration": 16,
    "start_time": "2023-01-28T13:22:46.905Z"
   },
   {
    "duration": 49,
    "start_time": "2023-01-28T13:22:46.923Z"
   },
   {
    "duration": 2581,
    "start_time": "2023-01-28T13:22:46.975Z"
   },
   {
    "duration": 12,
    "start_time": "2023-01-28T13:22:49.558Z"
   },
   {
    "duration": 14,
    "start_time": "2023-01-28T13:22:49.571Z"
   },
   {
    "duration": 34,
    "start_time": "2023-01-28T13:22:49.586Z"
   },
   {
    "duration": 20,
    "start_time": "2023-01-28T13:22:49.622Z"
   },
   {
    "duration": 270,
    "start_time": "2023-01-28T13:22:49.644Z"
   },
   {
    "duration": 10,
    "start_time": "2023-01-28T13:22:49.917Z"
   },
   {
    "duration": 8,
    "start_time": "2023-01-28T13:22:49.938Z"
   },
   {
    "duration": 23,
    "start_time": "2023-01-28T13:22:49.947Z"
   },
   {
    "duration": 41,
    "start_time": "2023-01-28T13:22:49.972Z"
   },
   {
    "duration": 14,
    "start_time": "2023-01-28T13:22:50.015Z"
   },
   {
    "duration": 39,
    "start_time": "2023-01-28T13:22:50.031Z"
   },
   {
    "duration": 6,
    "start_time": "2023-01-28T13:22:50.072Z"
   },
   {
    "duration": 49,
    "start_time": "2023-01-28T13:22:50.080Z"
   },
   {
    "duration": 89,
    "start_time": "2023-01-28T13:22:50.131Z"
   },
   {
    "duration": 28,
    "start_time": "2023-01-28T13:22:50.222Z"
   },
   {
    "duration": 16,
    "start_time": "2023-01-28T13:22:50.252Z"
   },
   {
    "duration": 15,
    "start_time": "2023-01-28T13:22:50.270Z"
   },
   {
    "duration": 16,
    "start_time": "2023-01-28T13:22:50.286Z"
   },
   {
    "duration": 9,
    "start_time": "2023-01-28T13:22:50.303Z"
   },
   {
    "duration": 32,
    "start_time": "2023-01-28T13:22:50.314Z"
   },
   {
    "duration": 8,
    "start_time": "2023-01-28T13:22:50.348Z"
   },
   {
    "duration": 15,
    "start_time": "2023-01-28T13:22:50.358Z"
   },
   {
    "duration": 8,
    "start_time": "2023-01-28T13:22:50.375Z"
   },
   {
    "duration": 13,
    "start_time": "2023-01-28T13:22:50.387Z"
   },
   {
    "duration": 43,
    "start_time": "2023-01-28T13:22:50.401Z"
   },
   {
    "duration": 15,
    "start_time": "2023-01-28T13:22:50.446Z"
   },
   {
    "duration": 7,
    "start_time": "2023-01-28T13:22:50.462Z"
   },
   {
    "duration": 15,
    "start_time": "2023-01-28T13:22:50.470Z"
   },
   {
    "duration": 10,
    "start_time": "2023-01-28T13:22:50.486Z"
   },
   {
    "duration": 15,
    "start_time": "2023-01-28T13:22:50.497Z"
   },
   {
    "duration": 167,
    "start_time": "2023-01-28T13:22:50.514Z"
   },
   {
    "duration": 3,
    "start_time": "2023-01-28T13:22:50.683Z"
   },
   {
    "duration": 36,
    "start_time": "2023-01-28T13:22:50.688Z"
   },
   {
    "duration": 154,
    "start_time": "2023-01-28T13:22:50.725Z"
   },
   {
    "duration": 187,
    "start_time": "2023-01-28T13:22:50.881Z"
   },
   {
    "duration": 164,
    "start_time": "2023-01-28T13:22:51.069Z"
   },
   {
    "duration": 345,
    "start_time": "2023-01-28T13:22:51.234Z"
   },
   {
    "duration": 172,
    "start_time": "2023-01-28T13:22:51.581Z"
   },
   {
    "duration": 159,
    "start_time": "2023-01-28T13:22:51.754Z"
   },
   {
    "duration": 192,
    "start_time": "2023-01-28T13:22:51.915Z"
   },
   {
    "duration": 196,
    "start_time": "2023-01-28T13:22:52.109Z"
   },
   {
    "duration": 88,
    "start_time": "2023-01-28T13:22:52.307Z"
   },
   {
    "duration": 325,
    "start_time": "2023-01-28T13:22:52.397Z"
   },
   {
    "duration": 134,
    "start_time": "2023-01-28T13:22:52.724Z"
   },
   {
    "duration": 211,
    "start_time": "2023-01-28T13:22:52.860Z"
   },
   {
    "duration": 150,
    "start_time": "2023-01-28T13:22:53.073Z"
   },
   {
    "duration": 270,
    "start_time": "2023-01-28T13:22:53.225Z"
   },
   {
    "duration": 287,
    "start_time": "2023-01-28T13:22:53.497Z"
   },
   {
    "duration": 500,
    "start_time": "2023-01-28T13:22:53.787Z"
   },
   {
    "duration": 6,
    "start_time": "2023-01-28T13:22:54.289Z"
   },
   {
    "duration": 155,
    "start_time": "2023-01-28T13:22:54.296Z"
   },
   {
    "duration": 125,
    "start_time": "2023-01-28T13:22:54.453Z"
   },
   {
    "duration": 461,
    "start_time": "2023-01-28T13:22:54.580Z"
   },
   {
    "duration": 24,
    "start_time": "2023-01-28T13:22:55.042Z"
   },
   {
    "duration": 219,
    "start_time": "2023-01-28T13:22:55.068Z"
   },
   {
    "duration": 185,
    "start_time": "2023-01-28T13:22:55.289Z"
   },
   {
    "duration": 5,
    "start_time": "2023-01-28T13:22:55.475Z"
   }
  ],
  "kernelspec": {
   "display_name": "Python 3 (ipykernel)",
   "language": "python",
   "name": "python3"
  },
  "language_info": {
   "codemirror_mode": {
    "name": "ipython",
    "version": 3
   },
   "file_extension": ".py",
   "mimetype": "text/x-python",
   "name": "python",
   "nbconvert_exporter": "python",
   "pygments_lexer": "ipython3",
   "version": "3.9.5"
  },
  "toc": {
   "base_numbering": 1,
   "nav_menu": {},
   "number_sections": true,
   "sideBar": true,
   "skip_h1_title": true,
   "title_cell": "Table of Contents",
   "title_sidebar": "Contents",
   "toc_cell": false,
   "toc_position": {
    "height": "calc(100% - 180px)",
    "left": "10px",
    "top": "150px",
    "width": "250.195px"
   },
   "toc_section_display": true,
   "toc_window_display": true
  }
 },
 "nbformat": 4,
 "nbformat_minor": 2
}
