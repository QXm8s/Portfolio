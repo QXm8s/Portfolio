{
 "cells": [
  {
   "cell_type": "markdown",
   "metadata": {},
   "source": [
    "<h1 style=\"text-align: center;\">РАСПОЗНАВАНИЕ ТОКСИЧНЫХ КОММЕНТАРИЕВ</h1>"
   ]
  },
  {
   "cell_type": "markdown",
   "metadata": {
    "toc": true
   },
   "source": [
    "<h1>Содержание<span class=\"tocSkip\"></span></h1>\n",
    "<div class=\"toc\"><ul class=\"toc-item\"><li><span><a href=\"#Описание-проекта\" data-toc-modified-id=\"Описание-проекта-1\"><span class=\"toc-item-num\">1&nbsp;&nbsp;</span>Описание проекта</a></span><ul class=\"toc-item\"><li><span><a href=\"#Постановка-задачи\" data-toc-modified-id=\"Постановка-задачи-1.1\"><span class=\"toc-item-num\">1.1&nbsp;&nbsp;</span>Постановка задачи</a></span></li><li><span><a href=\"#Описание-данных\" data-toc-modified-id=\"Описание-данных-1.2\"><span class=\"toc-item-num\">1.2&nbsp;&nbsp;</span>Описание данных</a></span></li></ul></li><li><span><a href=\"#Импорт-библиотек-и-определение-констант\" data-toc-modified-id=\"Импорт-библиотек-и-определение-констант-2\"><span class=\"toc-item-num\">2&nbsp;&nbsp;</span>Импорт библиотек и определение констант</a></span></li><li><span><a href=\"#Обзор-и-подготовка-данных\" data-toc-modified-id=\"Обзор-и-подготовка-данных-3\"><span class=\"toc-item-num\">3&nbsp;&nbsp;</span>Обзор и подготовка данных</a></span></li><li><span><a href=\"#Конструирование-признаков\" data-toc-modified-id=\"Конструирование-признаков-4\"><span class=\"toc-item-num\">4&nbsp;&nbsp;</span>Конструирование признаков</a></span></li><li><span><a href=\"#Формирование-выборок\" data-toc-modified-id=\"Формирование-выборок-5\"><span class=\"toc-item-num\">5&nbsp;&nbsp;</span>Формирование выборок</a></span></li><li><span><a href=\"#Моделирование\" data-toc-modified-id=\"Моделирование-6\"><span class=\"toc-item-num\">6&nbsp;&nbsp;</span>Моделирование</a></span></li><li><span><a href=\"#Сравнение-моделей\" data-toc-modified-id=\"Сравнение-моделей-7\"><span class=\"toc-item-num\">7&nbsp;&nbsp;</span>Сравнение моделей</a></span></li><li><span><a href=\"#Выводы\" data-toc-modified-id=\"Выводы-8\"><span class=\"toc-item-num\">8&nbsp;&nbsp;</span>Выводы</a></span></li><li><span><a href=\"#Чек-лист-проверки\" data-toc-modified-id=\"Чек-лист-проверки-9\"><span class=\"toc-item-num\">9&nbsp;&nbsp;</span>Чек-лист проверки</a></span></li></ul></div>"
   ]
  },
  {
   "cell_type": "markdown",
   "metadata": {},
   "source": [
    "## Описание проекта\n",
    "Интернет-магазин «Викишоп» запускает новый сервис. Теперь пользователи могут редактировать и дополнять описания товаров, как в вики-сообществах. То есть клиенты предлагают свои правки и комментируют изменения других. Магазину нужен инструмент, который будет искать токсичные комментарии и отправлять их на модерацию.\n",
    "\n",
    "### Постановка задачи\n",
    "Обучите модель классифицировать комментарии на позитивные и негативные с метрикой качества *F1* не меньше 0.75. \n",
    " \n",
    "**Ход решения:**\n",
    " - загрузите и изучите данные, \n",
    " - подготовьте данные, \n",
    " - обучите разные модели с различными гиперпараметрами, \n",
    " - проверьте лучшую модель на тестовой выборке и сделайте выводы.\n",
    "\n",
    "### Описание данных \n",
    "В вашем распоряжении набор данных с разметкой о токсичности правок.\n",
    "\n",
    "**Признаки:**\n",
    " - text - текст комментария. \n",
    "\n",
    "**Целевой признак:**\n",
    " - toxic — токсичен комментарий или нет.\n",
    " \n",
    "## Импорт библиотек и определение констант"
   ]
  },
  {
   "cell_type": "code",
   "execution_count": 55,
   "metadata": {},
   "outputs": [
    {
     "name": "stdout",
     "output_type": "stream",
     "text": [
      "Requirement already satisfied: pandarallel in /opt/conda/lib/python3.9/site-packages (1.6.5)\r\n",
      "Requirement already satisfied: psutil in /opt/conda/lib/python3.9/site-packages (from pandarallel) (5.9.5)\r\n",
      "Requirement already satisfied: dill>=0.3.1 in /opt/conda/lib/python3.9/site-packages (from pandarallel) (0.3.6)\r\n",
      "Requirement already satisfied: pandas>=1 in /opt/conda/lib/python3.9/site-packages (from pandarallel) (1.2.4)\r\n",
      "Requirement already satisfied: python-dateutil>=2.7.3 in /opt/conda/lib/python3.9/site-packages (from pandas>=1->pandarallel) (2.8.1)\r\n",
      "Requirement already satisfied: pytz>=2017.3 in /opt/conda/lib/python3.9/site-packages (from pandas>=1->pandarallel) (2021.1)\r\n",
      "Requirement already satisfied: numpy>=1.16.5 in /opt/conda/lib/python3.9/site-packages (from pandas>=1->pandarallel) (1.21.1)\r\n",
      "Requirement already satisfied: six>=1.5 in /opt/conda/lib/python3.9/site-packages (from python-dateutil>=2.7.3->pandas>=1->pandarallel) (1.16.0)\r\n"
     ]
    }
   ],
   "source": [
    "!pip install pandarallel"
   ]
  },
  {
   "cell_type": "code",
   "execution_count": 56,
   "metadata": {},
   "outputs": [
    {
     "name": "stderr",
     "output_type": "stream",
     "text": [
      "[nltk_data] Downloading package stopwords to /home/jovyan/nltk_data...\n",
      "[nltk_data]   Package stopwords is already up-to-date!\n"
     ]
    }
   ],
   "source": [
    "import gc \n",
    "import pandas as pd\n",
    "import matplotlib.pyplot as plt\n",
    "import re \n",
    "import numpy as np \n",
    "import spacy\n",
    "\n",
    "from tqdm.notebook import tqdm\n",
    "\n",
    "from pandarallel import pandarallel\n",
    "\n",
    "import nltk\n",
    "nltk.download('stopwords')\n",
    "from nltk.corpus import stopwords\n",
    "\n",
    "from sklearn.linear_model import (\n",
    "    LogisticRegression, \n",
    "    SGDClassifier\n",
    ")\n",
    "from sklearn.dummy import DummyClassifier\n",
    "from sklearn.feature_extraction.text import TfidfVectorizer\n",
    "from sklearn.pipeline import Pipeline\n",
    "from sklearn.compose import ColumnTransformer\n",
    "from sklearn.preprocessing import MinMaxScaler\n",
    "from sklearn.model_selection import (\n",
    "    train_test_split,\n",
    "    GridSearchCV,\n",
    ")\n",
    "from sklearn.metrics import (\n",
    "    f1_score, \n",
    "    confusion_matrix,\n",
    "    ConfusionMatrixDisplay, \n",
    "    precision_recall_curve\n",
    ")\n",
    "\n",
    "from catboost import CatBoostClassifier"
   ]
  },
  {
   "cell_type": "code",
   "execution_count": 15,
   "metadata": {},
   "outputs": [],
   "source": [
    "#фиксируем:\n",
    "# - путь к данным\n",
    "PATH = '/datasets/toxic_comments.csv'\n",
    "# - целевой признак и признаки объекта\n",
    "TARGET = 'toxic' \n",
    "FEATURES = ['corpus', 'word_count', 'char_count']\n",
    "# - признаки для векторизации и масштабирования\n",
    "FTS_TO_VECTORIZE = 'corpus'\n",
    "FTS_TO_SCALE = ['word_count', 'char_count']\n",
    "# - параметр random state\n",
    "SEED = 3841"
   ]
  },
  {
   "cell_type": "markdown",
   "metadata": {},
   "source": [
    "## Обзор и подготовка данных\n",
    "Поместим данные в DataFrame. На примере нескольких строк оценим датасет визульно. Посмотрим на общую информацию."
   ]
  },
  {
   "cell_type": "code",
   "execution_count": 4,
   "metadata": {},
   "outputs": [
    {
     "data": {
      "text/html": [
       "<div>\n",
       "<style scoped>\n",
       "    .dataframe tbody tr th:only-of-type {\n",
       "        vertical-align: middle;\n",
       "    }\n",
       "\n",
       "    .dataframe tbody tr th {\n",
       "        vertical-align: top;\n",
       "    }\n",
       "\n",
       "    .dataframe thead th {\n",
       "        text-align: right;\n",
       "    }\n",
       "</style>\n",
       "<table border=\"1\" class=\"dataframe\">\n",
       "  <thead>\n",
       "    <tr style=\"text-align: right;\">\n",
       "      <th></th>\n",
       "      <th>Unnamed: 0</th>\n",
       "      <th>text</th>\n",
       "      <th>toxic</th>\n",
       "    </tr>\n",
       "  </thead>\n",
       "  <tbody>\n",
       "    <tr>\n",
       "      <th>136032</th>\n",
       "      <td>136170</td>\n",
       "      <td>\"\\n\\n Rivalry with Caltech \\n\\nThis section se...</td>\n",
       "      <td>0</td>\n",
       "    </tr>\n",
       "    <tr>\n",
       "      <th>44512</th>\n",
       "      <td>44565</td>\n",
       "      <td>userbox \\n\\nI made a small edit to one of your...</td>\n",
       "      <td>0</td>\n",
       "    </tr>\n",
       "    <tr>\n",
       "      <th>122819</th>\n",
       "      <td>122925</td>\n",
       "      <td>Illicit Use  Slang Terms \\n\\nI am thinking thi...</td>\n",
       "      <td>0</td>\n",
       "    </tr>\n",
       "    <tr>\n",
       "      <th>63974</th>\n",
       "      <td>64041</td>\n",
       "      <td>http://www.theguardian.com/lifeandstyle/wordof...</td>\n",
       "      <td>0</td>\n",
       "    </tr>\n",
       "    <tr>\n",
       "      <th>24017</th>\n",
       "      <td>24037</td>\n",
       "      <td>\"icon|w|or|d}} removes the cumbersome \"\"IPA\"\" ...</td>\n",
       "      <td>0</td>\n",
       "    </tr>\n",
       "    <tr>\n",
       "      <th>32520</th>\n",
       "      <td>32560</td>\n",
       "      <td>Hope this tis is no offense to either of yahs....</td>\n",
       "      <td>0</td>\n",
       "    </tr>\n",
       "    <tr>\n",
       "      <th>125698</th>\n",
       "      <td>125829</td>\n",
       "      <td>Thank you.  This is not esplained on the page ...</td>\n",
       "      <td>0</td>\n",
       "    </tr>\n",
       "    <tr>\n",
       "      <th>153428</th>\n",
       "      <td>153585</td>\n",
       "      <td>Spelling\\nIsn't the word spelled macuahuitl? O...</td>\n",
       "      <td>0</td>\n",
       "    </tr>\n",
       "    <tr>\n",
       "      <th>57778</th>\n",
       "      <td>57841</td>\n",
       "      <td>Richard Suhre is not a local...He was a transp...</td>\n",
       "      <td>0</td>\n",
       "    </tr>\n",
       "    <tr>\n",
       "      <th>14679</th>\n",
       "      <td>14695</td>\n",
       "      <td>\"\\n I wouldn't go so far as to say that they a...</td>\n",
       "      <td>0</td>\n",
       "    </tr>\n",
       "  </tbody>\n",
       "</table>\n",
       "</div>"
      ],
      "text/plain": [
       "        Unnamed: 0                                               text  toxic\n",
       "136032      136170  \"\\n\\n Rivalry with Caltech \\n\\nThis section se...      0\n",
       "44512        44565  userbox \\n\\nI made a small edit to one of your...      0\n",
       "122819      122925  Illicit Use  Slang Terms \\n\\nI am thinking thi...      0\n",
       "63974        64041  http://www.theguardian.com/lifeandstyle/wordof...      0\n",
       "24017        24037  \"icon|w|or|d}} removes the cumbersome \"\"IPA\"\" ...      0\n",
       "32520        32560  Hope this tis is no offense to either of yahs....      0\n",
       "125698      125829  Thank you.  This is not esplained on the page ...      0\n",
       "153428      153585  Spelling\\nIsn't the word spelled macuahuitl? O...      0\n",
       "57778        57841  Richard Suhre is not a local...He was a transp...      0\n",
       "14679        14695  \"\\n I wouldn't go so far as to say that they a...      0"
      ]
     },
     "execution_count": 4,
     "metadata": {},
     "output_type": "execute_result"
    }
   ],
   "source": [
    "df = pd.read_csv(PATH)\n",
    "df.sample(10)"
   ]
  },
  {
   "cell_type": "code",
   "execution_count": 5,
   "metadata": {},
   "outputs": [
    {
     "name": "stdout",
     "output_type": "stream",
     "text": [
      "<class 'pandas.core.frame.DataFrame'>\n",
      "RangeIndex: 159292 entries, 0 to 159291\n",
      "Data columns (total 3 columns):\n",
      " #   Column      Non-Null Count   Dtype \n",
      "---  ------      --------------   ----- \n",
      " 0   Unnamed: 0  159292 non-null  int64 \n",
      " 1   text        159292 non-null  object\n",
      " 2   toxic       159292 non-null  int64 \n",
      "dtypes: int64(2), object(1)\n",
      "memory usage: 3.6+ MB\n"
     ]
    }
   ],
   "source": [
    "df.info()"
   ]
  },
  {
   "cell_type": "markdown",
   "metadata": {},
   "source": [
    "Типы данных, определены верно. Данные интерпретированы корректно. Пропуски отсутствуют. Имеется неинформативный признак `Unnamed: 0`. В остальном, предобработка данных не требуется.\n",
    "\n",
    "Удалим неинформативный признак."
   ]
  },
  {
   "cell_type": "code",
   "execution_count": 6,
   "metadata": {},
   "outputs": [],
   "source": [
    "df = df.drop('Unnamed: 0', axis=1)"
   ]
  },
  {
   "cell_type": "markdown",
   "metadata": {},
   "source": [
    "Оценим соотношение классов:\n",
    " - в абсолютных значениях"
   ]
  },
  {
   "cell_type": "code",
   "execution_count": 7,
   "metadata": {
    "scrolled": true
   },
   "outputs": [
    {
     "data": {
      "text/plain": [
       "0    143106\n",
       "1     16186\n",
       "Name: toxic, dtype: int64"
      ]
     },
     "execution_count": 7,
     "metadata": {},
     "output_type": "execute_result"
    }
   ],
   "source": [
    "df[TARGET].value_counts()"
   ]
  },
  {
   "cell_type": "markdown",
   "metadata": {},
   "source": [
    "- и относительных значениях"
   ]
  },
  {
   "cell_type": "code",
   "execution_count": 8,
   "metadata": {},
   "outputs": [
    {
     "data": {
      "text/plain": [
       "0    0.898388\n",
       "1    0.101612\n",
       "Name: toxic, dtype: float64"
      ]
     },
     "execution_count": 8,
     "metadata": {},
     "output_type": "execute_result"
    }
   ],
   "source": [
    "df[TARGET].value_counts(normalize=True)"
   ]
  },
  {
   "cell_type": "markdown",
   "metadata": {},
   "source": [
    "Примерно 10% комментариев - токсичны (класс 1), оставшиеся 90% - не токсичны (класс 0). Т.о., нам предстоит решить задачу бинарной классификации в условиях дисбаланса классов. "
   ]
  },
  {
   "cell_type": "markdown",
   "metadata": {},
   "source": [
    "## Конструирование признаков\n",
    "Лемматизировав содержимое столбца `text`, получим новый признак `corpus`. Дабы повысить качество прогноза добавим два дополнительных признака:\n",
    " - `word_count` - количество слов в комментарии,\n",
    " - `char_count` - количество символов в комментарии. \n",
    "\n",
    "Опишем помогающую функцию."
   ]
  },
  {
   "cell_type": "code",
   "execution_count": 71,
   "metadata": {},
   "outputs": [],
   "source": [
    "def make_features(row, processor):\n",
    "    \"\"\"Возвращает строку DataFrame с тремя новыми признаками:\n",
    "     - corpus - лемматизированный, приведенный к нижнему \n",
    "    регистру текст, содержащий только буквенные символы,\n",
    "     - word_count - количество слов в тексте,\n",
    "     - char_count - количество символов в тексте\n",
    "    АРГУМЕНТЫ:\n",
    "    row -- строка DataFrame с текстом для очистки и лемматизации\n",
    "    processor -- лемматизатор\n",
    "    \"\"\"    \n",
    "    corpus = ''\n",
    "    word_cnt = 0\n",
    "    char_cnt = 0\n",
    "    tokens = processor(row['text'])\n",
    "    \n",
    "    for t in tokens:\n",
    "        lemma = t.lemma_.lower()\n",
    "        if lemma.isalpha():\n",
    "            if corpus == '':\n",
    "                corpus = lemma\n",
    "            else:\n",
    "                corpus = corpus + ' ' + lemma\n",
    "            word_cnt += 1\n",
    "        \n",
    "    char_cnt = len(corpus)\n",
    "    row['corpus'] = corpus\n",
    "    row['word_count'] = word_cnt\n",
    "    row['char_count'] = char_cnt    \n",
    "    return row"
   ]
  },
  {
   "cell_type": "code",
   "execution_count": 10,
   "metadata": {
    "scrolled": false
   },
   "outputs": [
    {
     "data": {
      "application/vnd.jupyter.widget-view+json": {
       "model_id": "5172132f3264485191a0baf69604c3a4",
       "version_major": 2,
       "version_minor": 0
      },
      "text/plain": [
       "progress:   0%|          | 0/159292 [00:00<?, ?it/s]"
      ]
     },
     "metadata": {},
     "output_type": "display_data"
    }
   ],
   "source": [
    "#инициализируем лемматизатор\n",
    "nlprocessor = spacy.load(\n",
    "    'en_core_web_sm', \n",
    "    disable=['parser', 'ner']\n",
    ")\n",
    "#инициализируем индикатор прогресса\n",
    "tqdm.pandas(desc=\"progress\")\n",
    "#создаем новые признаки\n",
    "df = df.progress_apply(make_features, axis=1, args=(nlprocessor, ))"
   ]
  },
  {
   "cell_type": "markdown",
   "metadata": {},
   "source": [
    "Проверим результат."
   ]
  },
  {
   "cell_type": "code",
   "execution_count": 11,
   "metadata": {
    "scrolled": true
   },
   "outputs": [
    {
     "data": {
      "text/html": [
       "<div>\n",
       "<style scoped>\n",
       "    .dataframe tbody tr th:only-of-type {\n",
       "        vertical-align: middle;\n",
       "    }\n",
       "\n",
       "    .dataframe tbody tr th {\n",
       "        vertical-align: top;\n",
       "    }\n",
       "\n",
       "    .dataframe thead th {\n",
       "        text-align: right;\n",
       "    }\n",
       "</style>\n",
       "<table border=\"1\" class=\"dataframe\">\n",
       "  <thead>\n",
       "    <tr style=\"text-align: right;\">\n",
       "      <th></th>\n",
       "      <th>text</th>\n",
       "      <th>toxic</th>\n",
       "      <th>corpus</th>\n",
       "      <th>word_count</th>\n",
       "      <th>char_count</th>\n",
       "    </tr>\n",
       "  </thead>\n",
       "  <tbody>\n",
       "    <tr>\n",
       "      <th>13734</th>\n",
       "      <td>Yes! I m pretty excited for it.</td>\n",
       "      <td>0</td>\n",
       "      <td>yes i m pretty excited for it</td>\n",
       "      <td>7</td>\n",
       "      <td>29</td>\n",
       "    </tr>\n",
       "    <tr>\n",
       "      <th>84642</th>\n",
       "      <td>\"\\nI agree.  My only objection would be an att...</td>\n",
       "      <td>0</td>\n",
       "      <td>i agree my only objection would be an attempt ...</td>\n",
       "      <td>72</td>\n",
       "      <td>376</td>\n",
       "    </tr>\n",
       "    <tr>\n",
       "      <th>88356</th>\n",
       "      <td>sweet, I love them. Keep it up!</td>\n",
       "      <td>0</td>\n",
       "      <td>sweet i love they keep it up</td>\n",
       "      <td>7</td>\n",
       "      <td>28</td>\n",
       "    </tr>\n",
       "    <tr>\n",
       "      <th>137673</th>\n",
       "      <td>\"\\n\\n Categories \\n\\nHey.. these categories yo...</td>\n",
       "      <td>0</td>\n",
       "      <td>category hey these category you be add importa...</td>\n",
       "      <td>104</td>\n",
       "      <td>562</td>\n",
       "    </tr>\n",
       "    <tr>\n",
       "      <th>106973</th>\n",
       "      <td>\"\\n\\n Hmm. \\n\\nNot one lousy source, all of th...</td>\n",
       "      <td>0</td>\n",
       "      <td>hmm not one lousy source all of they deny reli...</td>\n",
       "      <td>145</td>\n",
       "      <td>810</td>\n",
       "    </tr>\n",
       "    <tr>\n",
       "      <th>113477</th>\n",
       "      <td>Why is fatima put as winner and anya as runner...</td>\n",
       "      <td>0</td>\n",
       "      <td>why be fatima put as winner and anya as runner...</td>\n",
       "      <td>24</td>\n",
       "      <td>110</td>\n",
       "    </tr>\n",
       "    <tr>\n",
       "      <th>19075</th>\n",
       "      <td>It's not just the spokesman- the president of ...</td>\n",
       "      <td>0</td>\n",
       "      <td>it be not just the the president of the dlm be...</td>\n",
       "      <td>28</td>\n",
       "      <td>136</td>\n",
       "    </tr>\n",
       "    <tr>\n",
       "      <th>74088</th>\n",
       "      <td>No problem at.  (talk • contribs • logs)</td>\n",
       "      <td>0</td>\n",
       "      <td>no problem at talk contrib log</td>\n",
       "      <td>6</td>\n",
       "      <td>30</td>\n",
       "    </tr>\n",
       "    <tr>\n",
       "      <th>119261</th>\n",
       "      <td>Death \\n\\nCan someone at to the lead that he d...</td>\n",
       "      <td>0</td>\n",
       "      <td>death can someone at to the lead that he die t...</td>\n",
       "      <td>11</td>\n",
       "      <td>50</td>\n",
       "    </tr>\n",
       "    <tr>\n",
       "      <th>38602</th>\n",
       "      <td>Good grief John, you were willing to introduce...</td>\n",
       "      <td>0</td>\n",
       "      <td>good grief john you be willing to introduce th...</td>\n",
       "      <td>39</td>\n",
       "      <td>219</td>\n",
       "    </tr>\n",
       "  </tbody>\n",
       "</table>\n",
       "</div>"
      ],
      "text/plain": [
       "                                                     text  toxic  \\\n",
       "13734                     Yes! I m pretty excited for it.      0   \n",
       "84642   \"\\nI agree.  My only objection would be an att...      0   \n",
       "88356                     sweet, I love them. Keep it up!      0   \n",
       "137673  \"\\n\\n Categories \\n\\nHey.. these categories yo...      0   \n",
       "106973  \"\\n\\n Hmm. \\n\\nNot one lousy source, all of th...      0   \n",
       "113477  Why is fatima put as winner and anya as runner...      0   \n",
       "19075   It's not just the spokesman- the president of ...      0   \n",
       "74088            No problem at.  (talk • contribs • logs)      0   \n",
       "119261  Death \\n\\nCan someone at to the lead that he d...      0   \n",
       "38602   Good grief John, you were willing to introduce...      0   \n",
       "\n",
       "                                                   corpus  word_count  \\\n",
       "13734                       yes i m pretty excited for it           7   \n",
       "84642   i agree my only objection would be an attempt ...          72   \n",
       "88356                        sweet i love they keep it up           7   \n",
       "137673  category hey these category you be add importa...         104   \n",
       "106973  hmm not one lousy source all of they deny reli...         145   \n",
       "113477  why be fatima put as winner and anya as runner...          24   \n",
       "19075   it be not just the the president of the dlm be...          28   \n",
       "74088                      no problem at talk contrib log           6   \n",
       "119261  death can someone at to the lead that he die t...          11   \n",
       "38602   good grief john you be willing to introduce th...          39   \n",
       "\n",
       "        char_count  \n",
       "13734           29  \n",
       "84642          376  \n",
       "88356           28  \n",
       "137673         562  \n",
       "106973         810  \n",
       "113477         110  \n",
       "19075          136  \n",
       "74088           30  \n",
       "119261          50  \n",
       "38602          219  "
      ]
     },
     "execution_count": 11,
     "metadata": {},
     "output_type": "execute_result"
    }
   ],
   "source": [
    "df.sample(10)"
   ]
  },
  {
   "cell_type": "markdown",
   "metadata": {},
   "source": [
    "Признаки сформированы корректно.\n",
    "\n",
    "Проверим данные на неинформативные комментарии с нулевым количеством символов."
   ]
  },
  {
   "cell_type": "code",
   "execution_count": 12,
   "metadata": {},
   "outputs": [
    {
     "data": {
      "text/html": [
       "<div>\n",
       "<style scoped>\n",
       "    .dataframe tbody tr th:only-of-type {\n",
       "        vertical-align: middle;\n",
       "    }\n",
       "\n",
       "    .dataframe tbody tr th {\n",
       "        vertical-align: top;\n",
       "    }\n",
       "\n",
       "    .dataframe thead th {\n",
       "        text-align: right;\n",
       "    }\n",
       "</style>\n",
       "<table border=\"1\" class=\"dataframe\">\n",
       "  <thead>\n",
       "    <tr style=\"text-align: right;\">\n",
       "      <th></th>\n",
       "      <th>text</th>\n",
       "      <th>toxic</th>\n",
       "      <th>corpus</th>\n",
       "      <th>word_count</th>\n",
       "      <th>char_count</th>\n",
       "    </tr>\n",
       "  </thead>\n",
       "  <tbody>\n",
       "    <tr>\n",
       "      <th>17280</th>\n",
       "      <td>~ \\n\\n68.193.147.157</td>\n",
       "      <td>0</td>\n",
       "      <td></td>\n",
       "      <td>0</td>\n",
       "      <td>0</td>\n",
       "    </tr>\n",
       "    <tr>\n",
       "      <th>147397</th>\n",
       "      <td>http://www.world-pyramids.com/atr/usa/monkmoun...</td>\n",
       "      <td>0</td>\n",
       "      <td></td>\n",
       "      <td>0</td>\n",
       "      <td>0</td>\n",
       "    </tr>\n",
       "    <tr>\n",
       "      <th>98154</th>\n",
       "      <td>http://goproxing.biz 82.103.128.115</td>\n",
       "      <td>0</td>\n",
       "      <td></td>\n",
       "      <td>0</td>\n",
       "      <td>0</td>\n",
       "    </tr>\n",
       "    <tr>\n",
       "      <th>70026</th>\n",
       "      <td>207.181.198.184   Crescat100</td>\n",
       "      <td>0</td>\n",
       "      <td></td>\n",
       "      <td>0</td>\n",
       "      <td>0</td>\n",
       "    </tr>\n",
       "    <tr>\n",
       "      <th>104572</th>\n",
       "      <td>800 Club|800]] 07:29, 20</td>\n",
       "      <td>0</td>\n",
       "      <td></td>\n",
       "      <td>0</td>\n",
       "      <td>0</td>\n",
       "    </tr>\n",
       "    <tr>\n",
       "      <th>93421</th>\n",
       "      <td>{{unblock|yo</td>\n",
       "      <td>0</td>\n",
       "      <td></td>\n",
       "      <td>0</td>\n",
       "      <td>0</td>\n",
       "    </tr>\n",
       "    <tr>\n",
       "      <th>68350</th>\n",
       "      <td>http://en.wikipedia.org/wiki/Towns_in_the_Form...</td>\n",
       "      <td>0</td>\n",
       "      <td></td>\n",
       "      <td>0</td>\n",
       "      <td>0</td>\n",
       "    </tr>\n",
       "    <tr>\n",
       "      <th>106701</th>\n",
       "      <td>http://en.wikipedia.org/wiki/Wikipedia:ELYES</td>\n",
       "      <td>0</td>\n",
       "      <td></td>\n",
       "      <td>0</td>\n",
       "      <td>0</td>\n",
       "    </tr>\n",
       "    <tr>\n",
       "      <th>93873</th>\n",
       "      <td>http://wikipediawehaveaproblem.com/evidence-of...</td>\n",
       "      <td>0</td>\n",
       "      <td></td>\n",
       "      <td>0</td>\n",
       "      <td>0</td>\n",
       "    </tr>\n",
       "    <tr>\n",
       "      <th>41556</th>\n",
       "      <td>[   ]\\nhttp://www.smallholder.co.uk/news/87898...</td>\n",
       "      <td>0</td>\n",
       "      <td></td>\n",
       "      <td>0</td>\n",
       "      <td>0</td>\n",
       "    </tr>\n",
       "  </tbody>\n",
       "</table>\n",
       "</div>"
      ],
      "text/plain": [
       "                                                     text  toxic corpus  \\\n",
       "17280                                ~ \\n\\n68.193.147.157      0          \n",
       "147397  http://www.world-pyramids.com/atr/usa/monkmoun...      0          \n",
       "98154                 http://goproxing.biz 82.103.128.115      0          \n",
       "70026                        207.181.198.184   Crescat100      0          \n",
       "104572                           800 Club|800]] 07:29, 20      0          \n",
       "93421                                        {{unblock|yo      0          \n",
       "68350   http://en.wikipedia.org/wiki/Towns_in_the_Form...      0          \n",
       "106701       http://en.wikipedia.org/wiki/Wikipedia:ELYES      0          \n",
       "93873   http://wikipediawehaveaproblem.com/evidence-of...      0          \n",
       "41556   [   ]\\nhttp://www.smallholder.co.uk/news/87898...      0          \n",
       "\n",
       "        word_count  char_count  \n",
       "17280            0           0  \n",
       "147397           0           0  \n",
       "98154            0           0  \n",
       "70026            0           0  \n",
       "104572           0           0  \n",
       "93421            0           0  \n",
       "68350            0           0  \n",
       "106701           0           0  \n",
       "93873            0           0  \n",
       "41556            0           0  "
      ]
     },
     "execution_count": 12,
     "metadata": {},
     "output_type": "execute_result"
    }
   ],
   "source": [
    "df[df['char_count'] == 0].sample(10)"
   ]
  },
  {
   "cell_type": "markdown",
   "metadata": {},
   "source": [
    "Удалим неинформативные строки и проверим результат."
   ]
  },
  {
   "cell_type": "code",
   "execution_count": 13,
   "metadata": {},
   "outputs": [
    {
     "name": "stdout",
     "output_type": "stream",
     "text": [
      "Кол-во неинформативных строк: 0\n"
     ]
    }
   ],
   "source": [
    "df = df[df['char_count'] > 0] \n",
    "print(\n",
    "    'Кол-во неинформативных строк:', \n",
    "    df[df['char_count'] == 0].shape[0]\n",
    ")    "
   ]
  },
  {
   "cell_type": "markdown",
   "metadata": {},
   "source": [
    "## Формирование выборок\n",
    "Нам предстоит решить задачу бинарной классификации в условиях дисбаланса классов. Следовательно, соотношение классов в основном датасете должно воспроизводиться в выборках. Для этого сформируем стратифицированные обучающую и тестовую выборки. "
   ]
  },
  {
   "cell_type": "code",
   "execution_count": 16,
   "metadata": {
    "scrolled": true
   },
   "outputs": [],
   "source": [
    "X = df[FEATURES]\n",
    "y = df[TARGET]\n",
    "\n",
    "X_train, X_test, y_train, y_test = \\\n",
    "train_test_split(X, y, test_size=0.25, stratify=y, random_state=SEED)"
   ]
  },
  {
   "cell_type": "markdown",
   "metadata": {},
   "source": [
    "Проверим размер выборок и соотношение классов в них."
   ]
  },
  {
   "cell_type": "code",
   "execution_count": 17,
   "metadata": {
    "scrolled": true
   },
   "outputs": [
    {
     "name": "stdout",
     "output_type": "stream",
     "text": [
      "Размер выборок: \n",
      " - обучающая (признаки): (119428, 3) \n",
      " - обучающая (целевой признак): (119428,) \n",
      " - тестовая (признаки): (39810, 3) \n",
      " - тестовая (целевой признак): (39810,)\n"
     ]
    }
   ],
   "source": [
    "print('Размер выборок:',\n",
    "     '\\n - обучающая (признаки):', X_train.shape,\n",
    "     '\\n - обучающая (целевой признак):', y_train.shape,\n",
    "     '\\n - тестовая (признаки):', X_test.shape,\n",
    "     '\\n - тестовая (целевой признак):', y_test.shape)"
   ]
  },
  {
   "cell_type": "code",
   "execution_count": 18,
   "metadata": {},
   "outputs": [
    {
     "data": {
      "text/html": [
       "<div>\n",
       "<style scoped>\n",
       "    .dataframe tbody tr th:only-of-type {\n",
       "        vertical-align: middle;\n",
       "    }\n",
       "\n",
       "    .dataframe tbody tr th {\n",
       "        vertical-align: top;\n",
       "    }\n",
       "\n",
       "    .dataframe thead th {\n",
       "        text-align: right;\n",
       "    }\n",
       "</style>\n",
       "<table border=\"1\" class=\"dataframe\">\n",
       "  <thead>\n",
       "    <tr style=\"text-align: right;\">\n",
       "      <th></th>\n",
       "      <th>dataframe</th>\n",
       "      <th>train_sample</th>\n",
       "      <th>test_sample</th>\n",
       "    </tr>\n",
       "  </thead>\n",
       "  <tbody>\n",
       "    <tr>\n",
       "      <th>0</th>\n",
       "      <td>0.89836</td>\n",
       "      <td>0.898357</td>\n",
       "      <td>0.898367</td>\n",
       "    </tr>\n",
       "    <tr>\n",
       "      <th>1</th>\n",
       "      <td>0.10164</td>\n",
       "      <td>0.101643</td>\n",
       "      <td>0.101633</td>\n",
       "    </tr>\n",
       "  </tbody>\n",
       "</table>\n",
       "</div>"
      ],
      "text/plain": [
       "   dataframe  train_sample  test_sample\n",
       "0    0.89836      0.898357     0.898367\n",
       "1    0.10164      0.101643     0.101633"
      ]
     },
     "execution_count": 18,
     "metadata": {},
     "output_type": "execute_result"
    }
   ],
   "source": [
    "#выясняем соотношение классов в выборках\n",
    "balance_df = y.value_counts(normalize=True)\n",
    "balance_train = y_train.value_counts(normalize=True)\n",
    "balance_test = y_test.value_counts(normalize=True)\n",
    "#формируем сводную таблицу\n",
    "comparsion = pd.concat([balance_df, balance_train, balance_test], axis=1)\n",
    "comparsion.columns = ['dataframe', 'train_sample', 'test_sample']\n",
    "comparsion"
   ]
  },
  {
   "cell_type": "markdown",
   "metadata": {},
   "source": [
    "Выборки сформированы корректно.\n",
    "## Моделирование\n",
    "На обучающей выборке, с кросс-валидацией и метрикой качества F1:\n",
    " - формируем вектор признаков TF-IDF,\n",
    " - масштабируем признаки `word_count`, `char_count`, \n",
    " - ищем оптимальные гиперпараметры для моделей: \n",
    "     - LogisticRegression, \n",
    "     - SGDClassifier,\n",
    "     - CatBoostClassifier.\n",
    "\n",
    "Дисбаланс классов компенсируем параметром `class_weight = 'balanced'`."
   ]
  },
  {
   "cell_type": "code",
   "execution_count": 79,
   "metadata": {},
   "outputs": [],
   "source": [
    "#готовим стоп-слова\n",
    "s_words = set(stopwords.words('english'))\n",
    "#готовим ColumnTransformer из \n",
    "#TfidfVectorizer и MinMaxScaler\n",
    "col_transformer = ColumnTransformer(\n",
    "    [(\n",
    "        'vectorizer', \n",
    "        TfidfVectorizer(stop_words=s_words, lowercase=False), \n",
    "        FTS_TO_VECTORIZE\n",
    "    ),\n",
    "    (\n",
    "        'scaler', \n",
    "        MinMaxScaler(), \n",
    "        FTS_TO_SCALE\n",
    "    )]\n",
    ")\n",
    "#готовим pipeline из ColumnTransformer и модели-заглушки\n",
    "pipeline = Pipeline([\n",
    "    ('transformer', col_transformer), \n",
    "    ('model', DummyClassifier())       \n",
    "])\n",
    "#описываем модели и сетку гиперпараметров\n",
    "params = [\n",
    "    {\n",
    "        'model': [LogisticRegression(random_state=SEED)],\n",
    "        'model__C' : [15, 10],\n",
    "        'model__max_iter' : [400],\n",
    "        'model__class_weight' : ['balanced']        \n",
    "    }, \n",
    "    {\n",
    "        'model': [SGDClassifier(random_state=SEED)],\n",
    "        'model__alpha' : [0.00001, 0.0001],        \n",
    "        'model__class_weight' : ['balanced'],\n",
    "        'model__tol' : [None, 0.0001]        \n",
    "    }, \n",
    "    {\n",
    "        'model': [CatBoostClassifier(random_state=SEED, verbose=False)],        \n",
    "        'model__iterations' : [50, 150],\n",
    "        'model__auto_class_weights' : ['Balanced']        \n",
    "    }    \n",
    "]\n",
    "#инициализируем механизм поиска\n",
    "search = GridSearchCV(\n",
    "    pipeline, \n",
    "    param_grid=params,\n",
    "    scoring='f1',\n",
    "    cv=3\n",
    ")"
   ]
  },
  {
   "cell_type": "code",
   "execution_count": 80,
   "metadata": {
    "scrolled": true
   },
   "outputs": [
    {
     "name": "stdout",
     "output_type": "stream",
     "text": [
      "CPU times: user 21min 47s, sys: 7min 44s, total: 29min 32s\n",
      "Wall time: 29min 42s\n"
     ]
    },
    {
     "data": {
      "text/plain": [
       "GridSearchCV(cv=3,\n",
       "             estimator=Pipeline(steps=[('transformer',\n",
       "                                        ColumnTransformer(transformers=[('vectorizer',\n",
       "                                                                         TfidfVectorizer(lowercase=False,\n",
       "                                                                                         stop_words={'a',\n",
       "                                                                                                     'about',\n",
       "                                                                                                     'above',\n",
       "                                                                                                     'after',\n",
       "                                                                                                     'again',\n",
       "                                                                                                     'against',\n",
       "                                                                                                     'ain',\n",
       "                                                                                                     'all',\n",
       "                                                                                                     'am',\n",
       "                                                                                                     'an',\n",
       "                                                                                                     'and',\n",
       "                                                                                                     'any',\n",
       "                                                                                                     'are',\n",
       "                                                                                                     'aren',\n",
       "                                                                                                     \"aren't\",\n",
       "                                                                                                     'as',\n",
       "                                                                                                     'at',\n",
       "                                                                                                     'be',\n",
       "                                                                                                     'because',\n",
       "                                                                                                     'been',\n",
       "                                                                                                     'before',\n",
       "                                                                                                     'being',\n",
       "                                                                                                     'below',\n",
       "                                                                                                     'between',\n",
       "                                                                                                     'both',\n",
       "                                                                                                     'but',\n",
       "                                                                                                     'by',\n",
       "                                                                                                     'can',\n",
       "                                                                                                     'couldn'...\n",
       "                          'model__class_weight': ['balanced'],\n",
       "                          'model__max_iter': [400]},\n",
       "                         {'model': [SGDClassifier(random_state=3841)],\n",
       "                          'model__alpha': [1e-05, 0.0001],\n",
       "                          'model__class_weight': ['balanced'],\n",
       "                          'model__tol': [None, 0.0001]},\n",
       "                         {'model': [<catboost.core.CatBoostClassifier object at 0x7f69f1f35220>],\n",
       "                          'model__auto_class_weights': ['Balanced'],\n",
       "                          'model__iterations': [50, 150]}],\n",
       "             scoring='f1')"
      ]
     },
     "execution_count": 80,
     "metadata": {},
     "output_type": "execute_result"
    }
   ],
   "source": [
    "%%time\n",
    "search.fit(X_train, y_train)"
   ]
  },
  {
   "cell_type": "markdown",
   "metadata": {},
   "source": [
    "## Сравнение моделей\n",
    "Рассмотрим общую таблицу результатов."
   ]
  },
  {
   "cell_type": "code",
   "execution_count": 81,
   "metadata": {
    "scrolled": true
   },
   "outputs": [
    {
     "data": {
      "text/html": [
       "<div>\n",
       "<style scoped>\n",
       "    .dataframe tbody tr th:only-of-type {\n",
       "        vertical-align: middle;\n",
       "    }\n",
       "\n",
       "    .dataframe tbody tr th {\n",
       "        vertical-align: top;\n",
       "    }\n",
       "\n",
       "    .dataframe thead th {\n",
       "        text-align: right;\n",
       "    }\n",
       "</style>\n",
       "<table border=\"1\" class=\"dataframe\">\n",
       "  <thead>\n",
       "    <tr style=\"text-align: right;\">\n",
       "      <th></th>\n",
       "      <th>F1 valid</th>\n",
       "    </tr>\n",
       "  </thead>\n",
       "  <tbody>\n",
       "    <tr>\n",
       "      <th>LogisticRegression</th>\n",
       "      <td>0.755681</td>\n",
       "    </tr>\n",
       "    <tr>\n",
       "      <th>SGDClassifier</th>\n",
       "      <td>0.743765</td>\n",
       "    </tr>\n",
       "    <tr>\n",
       "      <th>CatBoostClassifier</th>\n",
       "      <td>0.737310</td>\n",
       "    </tr>\n",
       "  </tbody>\n",
       "</table>\n",
       "</div>"
      ],
      "text/plain": [
       "                    F1 valid\n",
       "LogisticRegression  0.755681\n",
       "SGDClassifier       0.743765\n",
       "CatBoostClassifier  0.737310"
      ]
     },
     "execution_count": 81,
     "metadata": {},
     "output_type": "execute_result"
    }
   ],
   "source": [
    "#считываем результаты поиска\n",
    "results = pd.DataFrame(search.cv_results_)\n",
    "results['est_class_name'] = \\\n",
    "results['param_model'].apply(lambda x : x.__class__.__name__)\n",
    "#готовим сводную таблицу лучших моделей каждого класса\n",
    "results_f1 = results.groupby('est_class_name') \\\n",
    "                    .agg({'mean_test_score' : 'max'}) \\\n",
    "                    .sort_values(by='mean_test_score', ascending=False)\n",
    "results_f1.index = results_f1.index.values\n",
    "results_f1.columns = ['F1 valid']\n",
    "results_f1"
   ]
  },
  {
   "cell_type": "markdown",
   "metadata": {},
   "source": [
    "Зафиксируем наблюдения:\n",
    " - все модели показывают сопоставимое значение F1 на обучающей выборке;\n",
    " - лучшая модель по критерию F1 - LogisticRegression. \n",
    "\n",
    "Определим F1 для лучшей модели на тестовой выборке."
   ]
  },
  {
   "cell_type": "code",
   "execution_count": 82,
   "metadata": {},
   "outputs": [
    {
     "name": "stdout",
     "output_type": "stream",
     "text": [
      "Тестовая выборка: \n",
      " - модель LogisticRegression \n",
      " - F1 0.76805 \n",
      " - гиперпараметры LogisticRegression(C=10, class_weight='balanced', max_iter=400,\n",
      "                   random_state=3841)\n"
     ]
    }
   ],
   "source": [
    "y_predicted = search.predict(X_test)\n",
    "f1_test = f1_score(y_test, y_predicted)\n",
    "print(\n",
    "    'Тестовая выборка:',\n",
    "    '\\n - модель', search.best_estimator_['model'].__class__.__name__, \n",
    "    '\\n - F1', round(f1_test, 6), \n",
    "    '\\n - гиперпараметры', search.best_params_['model']\n",
    ")     "
   ]
  },
  {
   "cell_type": "markdown",
   "metadata": {},
   "source": [
    "Получили значение метрики качества, удовлетворяющее условиям задачи (F1 не менее 0,75). Визуализируем нормализованную confusion matrix и PR кривую для нашей модели."
   ]
  },
  {
   "cell_type": "code",
   "execution_count": 83,
   "metadata": {},
   "outputs": [
    {
     "data": {
      "image/png": "[encoded data removed]",
      "text/plain": [
       "<Figure size 1152x504 with 3 Axes>"
      ]
     },
     "metadata": {
      "needs_background": "light"
     },
     "output_type": "display_data"
    }
   ],
   "source": [
    "fig, ax = plt.subplots(1, 2, figsize=(16, 7))\n",
    "#готовим confusion matrix\n",
    "cmd = ConfusionMatrixDisplay(\n",
    "    confusion_matrix(y_test, y_predicted, normalize='true')\n",
    ")\n",
    "cmd.plot(ax=ax[0], cmap=plt.cm.Blues, values_format='.3f')\n",
    "ax[0].set_title('Confusion matrix (нормализованная)')\n",
    "#готовим PR кривую\n",
    "precision, recall, threshold = precision_recall_curve(\n",
    "    y_test, \n",
    "    search.predict_proba(X_test)[:,1]\n",
    ")\n",
    "ax[1].plot(recall, precision)\n",
    "ax[1].grid(True)\n",
    "ax[1].set_ylabel('Precision')\n",
    "ax[1].set_xlabel('Recall')\n",
    "ax[1].set_title('PR кривая')\n",
    "#визуализируем\n",
    "fig.show()"
   ]
  },
  {
   "cell_type": "markdown",
   "metadata": {},
   "source": [
    "Зафиксируем наблюдения: \n",
    " - доли истинно-положительных (TP) и истинно-отрицательных (TN) прогнозов довольно велики: TP = 0.828, TN = 0.963; \n",
    " - доля ложно-положительных (FP) прогнозов на порядок ниже доли ложно-отрицательных (FN): FP = 0.037, FN = 0.172. \n",
    "\n",
    "Следовательно, модель хорошо классифицирует комментарии, заметно лучше распознавая нетоксичные. Вероятно, это последствия дисбаланса классов. При необходимости более точного прогноза, можно дополнительно компенсировать дисбаланс, подобрав порог классификации (threshold). \n",
    "## Выводы\n",
    "**В ходе обзора и подготовки данных** ([см.3](#%D0%9E%D0%B1%D0%B7%D0%BE%D1%80-%D0%B8-%D0%BF%D0%BE%D0%B4%D0%B3%D0%BE%D1%82%D0%BE%D0%B2%D0%BA%D0%B0-%D0%B4%D0%B0%D0%BD%D0%BD%D1%8B%D1%85)):\n",
    " - удален неинформативный признак,\n",
    " - показан дисбаланс классов.\n",
    "\n",
    "**В ходе конструирования признаков** ([см.4](#%D0%9A%D0%BE%D0%BD%D1%81%D1%82%D1%80%D1%83%D0%B8%D1%80%D0%BE%D0%B2%D0%B0%D0%BD%D0%B8%D0%B5-%D0%BF%D1%80%D0%B8%D0%B7%D0%BD%D0%B0%D0%BA%D0%BE%D0%B2)):\n",
    " - сформирован корпус лемматизированных, очищенных текстов, \n",
    " - добавлены признаки `word_count` (кол-во слов в комментарии) и `char_count` (кол-во символов в комментарии). \n",
    "\n",
    "**При формирования выборок**, в соотношении 0.75/0.25, созданы стратифицированные обучающая и тестовая выборки ([см.5](#%D0%A4%D0%BE%D1%80%D0%BC%D0%B8%D1%80%D0%BE%D0%B2%D0%B0%D0%BD%D0%B8%D0%B5-%D0%B2%D1%8B%D0%B1%D0%BE%D1%80%D0%BE%D0%BA)).\n",
    "\n",
    "**В ходе моделирования** на обучающей выборке с кроссвалидацией и метрикой F1 ([см.6](#%D0%9C%D0%BE%D0%B4%D0%B5%D0%BB%D0%B8%D1%80%D0%BE%D0%B2%D0%B0%D0%BD%D0%B8%D0%B5)):\n",
    " - сформированы векторы признаков TF-IDF,\n",
    " - масштабированы признаки `word_count` и `char_count`,\n",
    " - проведен поиск гиперпараметров для моделей:\n",
    "     - LogisticRegression,\n",
    "     - SGDClassifier,\n",
    "     - CatBoostClassifier.\n",
    "\n",
    "**В ходе сравнения** показано, что LogisticRegression ([см.7](#%D0%A1%D1%80%D0%B0%D0%B2%D0%BD%D0%B5%D0%BD%D0%B8%D0%B5-%D0%BC%D0%BE%D0%B4%D0%B5%D0%BB%D0%B5%D0%B9)):\n",
    " - является лучшей моделью по критерию F1 на обучающей выборке,\n",
    " - имеет F1 выше контрольного значения 0.75 на тестовой выборке."
   ]
  }
 ],
 "metadata": {
  "ExecuteTimeLog": [
   {
    "duration": 1350,
    "start_time": "2023-06-01T08:42:48.575Z"
   },
   {
    "duration": 2,
    "start_time": "2023-06-01T08:46:02.392Z"
   },
   {
    "duration": 3369,
    "start_time": "2023-06-01T08:47:17.716Z"
   },
   {
    "duration": 94,
    "start_time": "2023-06-01T08:48:14.790Z"
   },
   {
    "duration": 725,
    "start_time": "2023-06-01T08:48:20.681Z"
   },
   {
    "duration": 682,
    "start_time": "2023-06-01T08:48:33.076Z"
   },
   {
    "duration": 680,
    "start_time": "2023-06-01T08:48:47.356Z"
   },
   {
    "duration": 722,
    "start_time": "2023-06-01T08:48:55.009Z"
   },
   {
    "duration": 32,
    "start_time": "2023-06-01T08:49:10.922Z"
   },
   {
    "duration": 692,
    "start_time": "2023-06-01T08:49:59.526Z"
   },
   {
    "duration": 33,
    "start_time": "2023-06-01T08:50:05.251Z"
   },
   {
    "duration": 47,
    "start_time": "2023-06-01T08:52:58.795Z"
   },
   {
    "duration": 14,
    "start_time": "2023-06-01T08:56:16.614Z"
   },
   {
    "duration": 15,
    "start_time": "2023-06-01T08:56:37.584Z"
   },
   {
    "duration": 1254,
    "start_time": "2023-06-01T08:56:47.978Z"
   },
   {
    "duration": 2,
    "start_time": "2023-06-01T08:56:49.234Z"
   },
   {
    "duration": 796,
    "start_time": "2023-06-01T08:56:49.238Z"
   },
   {
    "duration": 43,
    "start_time": "2023-06-01T08:56:50.036Z"
   },
   {
    "duration": 20,
    "start_time": "2023-06-01T08:56:50.080Z"
   },
   {
    "duration": 5,
    "start_time": "2023-06-01T08:59:53.469Z"
   },
   {
    "duration": 4,
    "start_time": "2023-06-01T09:04:57.381Z"
   },
   {
    "duration": 647,
    "start_time": "2023-06-01T09:05:36.013Z"
   },
   {
    "duration": 684,
    "start_time": "2023-06-01T09:06:31.404Z"
   },
   {
    "duration": 649,
    "start_time": "2023-06-01T09:06:48.812Z"
   },
   {
    "duration": 51,
    "start_time": "2023-06-01T09:25:45.250Z"
   },
   {
    "duration": 3,
    "start_time": "2023-06-01T09:25:53.520Z"
   },
   {
    "duration": 3,
    "start_time": "2023-06-01T09:30:14.415Z"
   },
   {
    "duration": 101,
    "start_time": "2023-06-01T09:31:08.623Z"
   },
   {
    "duration": 1207,
    "start_time": "2023-06-01T09:32:47.018Z"
   },
   {
    "duration": 3,
    "start_time": "2023-06-01T09:32:48.227Z"
   },
   {
    "duration": 3551,
    "start_time": "2023-06-01T09:32:48.232Z"
   },
   {
    "duration": 30,
    "start_time": "2023-06-01T09:32:51.784Z"
   },
   {
    "duration": 16,
    "start_time": "2023-06-01T09:32:51.815Z"
   },
   {
    "duration": 28,
    "start_time": "2023-06-01T09:32:51.833Z"
   },
   {
    "duration": 15,
    "start_time": "2023-06-01T09:32:51.863Z"
   },
   {
    "duration": 8,
    "start_time": "2023-06-01T09:34:09.798Z"
   },
   {
    "duration": 39,
    "start_time": "2023-06-01T09:34:34.474Z"
   },
   {
    "duration": 1333,
    "start_time": "2023-06-01T09:34:46.556Z"
   },
   {
    "duration": 3,
    "start_time": "2023-06-01T09:34:47.890Z"
   },
   {
    "duration": 3421,
    "start_time": "2023-06-01T09:34:47.894Z"
   },
   {
    "duration": 30,
    "start_time": "2023-06-01T09:34:51.317Z"
   },
   {
    "duration": 10,
    "start_time": "2023-06-01T09:34:51.349Z"
   },
   {
    "duration": 8,
    "start_time": "2023-06-01T09:34:51.360Z"
   },
   {
    "duration": 14,
    "start_time": "2023-06-01T09:34:51.369Z"
   },
   {
    "duration": 15,
    "start_time": "2023-06-01T09:34:51.384Z"
   },
   {
    "duration": 3,
    "start_time": "2023-06-01T09:35:02.639Z"
   },
   {
    "duration": 5,
    "start_time": "2023-06-01T09:35:09.503Z"
   },
   {
    "duration": 3,
    "start_time": "2023-06-01T09:35:51.678Z"
   },
   {
    "duration": 6,
    "start_time": "2023-06-01T09:36:05.619Z"
   },
   {
    "duration": 3,
    "start_time": "2023-06-01T09:39:04.043Z"
   },
   {
    "duration": 109,
    "start_time": "2023-06-01T09:39:13.333Z"
   },
   {
    "duration": 3,
    "start_time": "2023-06-01T09:40:52.035Z"
   },
   {
    "duration": 18,
    "start_time": "2023-06-01T09:40:56.438Z"
   },
   {
    "duration": 3,
    "start_time": "2023-06-01T09:41:13.403Z"
   },
   {
    "duration": 4,
    "start_time": "2023-06-01T09:41:15.377Z"
   },
   {
    "duration": 3,
    "start_time": "2023-06-01T09:41:25.508Z"
   },
   {
    "duration": 4,
    "start_time": "2023-06-01T09:41:30.500Z"
   },
   {
    "duration": 3,
    "start_time": "2023-06-01T09:41:49.896Z"
   },
   {
    "duration": 3,
    "start_time": "2023-06-01T09:41:51.622Z"
   },
   {
    "duration": 3,
    "start_time": "2023-06-01T09:42:07.118Z"
   },
   {
    "duration": 4,
    "start_time": "2023-06-01T09:42:08.680Z"
   },
   {
    "duration": 3,
    "start_time": "2023-06-01T09:43:08.787Z"
   },
   {
    "duration": 4,
    "start_time": "2023-06-01T09:43:10.687Z"
   },
   {
    "duration": 3,
    "start_time": "2023-06-01T09:43:55.380Z"
   },
   {
    "duration": 4,
    "start_time": "2023-06-01T09:43:58.116Z"
   },
   {
    "duration": 4,
    "start_time": "2023-06-01T09:44:18.779Z"
   },
   {
    "duration": 6,
    "start_time": "2023-06-01T09:44:21.174Z"
   },
   {
    "duration": 3,
    "start_time": "2023-06-01T09:46:23.775Z"
   },
   {
    "duration": 4,
    "start_time": "2023-06-01T09:46:32.581Z"
   },
   {
    "duration": 3,
    "start_time": "2023-06-01T09:46:35.783Z"
   },
   {
    "duration": 595,
    "start_time": "2023-06-01T09:46:39.141Z"
   },
   {
    "duration": 634,
    "start_time": "2023-06-01T09:46:45.845Z"
   },
   {
    "duration": 5,
    "start_time": "2023-06-01T09:55:58.718Z"
   },
   {
    "duration": 4,
    "start_time": "2023-06-01T09:56:01.446Z"
   },
   {
    "duration": 3,
    "start_time": "2023-06-01T09:56:05.015Z"
   },
   {
    "duration": 647,
    "start_time": "2023-06-01T09:56:07.536Z"
   },
   {
    "duration": 4,
    "start_time": "2023-06-01T09:57:27.514Z"
   },
   {
    "duration": 4,
    "start_time": "2023-06-01T09:57:30.722Z"
   },
   {
    "duration": 3,
    "start_time": "2023-06-01T09:57:32.941Z"
   },
   {
    "duration": 606,
    "start_time": "2023-06-01T09:57:33.881Z"
   },
   {
    "duration": 7,
    "start_time": "2023-06-01T10:05:47.248Z"
   },
   {
    "duration": 4,
    "start_time": "2023-06-01T10:07:49.683Z"
   },
   {
    "duration": 4,
    "start_time": "2023-06-01T10:07:59.439Z"
   },
   {
    "duration": 5,
    "start_time": "2023-06-01T10:09:43.872Z"
   },
   {
    "duration": 5,
    "start_time": "2023-06-01T10:09:55.112Z"
   },
   {
    "duration": 5,
    "start_time": "2023-06-01T10:11:01.485Z"
   },
   {
    "duration": 7,
    "start_time": "2023-06-01T10:11:14.773Z"
   },
   {
    "duration": 5,
    "start_time": "2023-06-01T10:12:51.182Z"
   },
   {
    "duration": 4,
    "start_time": "2023-06-01T10:13:15.351Z"
   },
   {
    "duration": 675,
    "start_time": "2023-06-01T10:13:31.659Z"
   },
   {
    "duration": 7,
    "start_time": "2023-06-01T10:15:41.624Z"
   },
   {
    "duration": 4,
    "start_time": "2023-06-01T10:16:46.369Z"
   },
   {
    "duration": 4,
    "start_time": "2023-06-01T10:17:05.336Z"
   },
   {
    "duration": 656,
    "start_time": "2023-06-01T10:17:14.794Z"
   },
   {
    "duration": 54,
    "start_time": "2023-06-01T10:26:55.329Z"
   },
   {
    "duration": 3,
    "start_time": "2023-06-01T10:30:17.577Z"
   },
   {
    "duration": 651,
    "start_time": "2023-06-01T10:30:20.081Z"
   },
   {
    "duration": 367,
    "start_time": "2023-06-01T10:52:16.490Z"
   },
   {
    "duration": 5,
    "start_time": "2023-06-01T10:54:23.495Z"
   },
   {
    "duration": 5,
    "start_time": "2023-06-01T10:56:16.204Z"
   },
   {
    "duration": 3,
    "start_time": "2023-06-01T10:56:18.815Z"
   },
   {
    "duration": 5,
    "start_time": "2023-06-01T10:56:24.861Z"
   },
   {
    "duration": 16,
    "start_time": "2023-06-01T10:58:07.390Z"
   },
   {
    "duration": 5,
    "start_time": "2023-06-01T10:58:37.798Z"
   },
   {
    "duration": 32,
    "start_time": "2023-06-01T11:02:04.043Z"
   },
   {
    "duration": 6,
    "start_time": "2023-06-01T11:02:07.959Z"
   },
   {
    "duration": 1206,
    "start_time": "2023-06-01T11:02:10.801Z"
   },
   {
    "duration": 4,
    "start_time": "2023-06-01T11:06:50.107Z"
   },
   {
    "duration": 4,
    "start_time": "2023-06-01T11:07:15.495Z"
   },
   {
    "duration": 5,
    "start_time": "2023-06-01T11:07:18.426Z"
   },
   {
    "duration": 5,
    "start_time": "2023-06-01T11:08:56.652Z"
   },
   {
    "duration": 11,
    "start_time": "2023-06-01T11:12:01.475Z"
   },
   {
    "duration": 4,
    "start_time": "2023-06-01T11:12:12.187Z"
   },
   {
    "duration": 3,
    "start_time": "2023-06-01T11:12:15.358Z"
   },
   {
    "duration": 3,
    "start_time": "2023-06-01T11:12:17.590Z"
   },
   {
    "duration": 32357,
    "start_time": "2023-06-01T11:13:05.071Z"
   },
   {
    "duration": 2,
    "start_time": "2023-06-01T11:47:26.083Z"
   },
   {
    "duration": 6,
    "start_time": "2023-06-01T11:51:32.571Z"
   },
   {
    "duration": 4,
    "start_time": "2023-06-01T11:52:28.854Z"
   },
   {
    "duration": 15,
    "start_time": "2023-06-01T11:55:08.380Z"
   },
   {
    "duration": 3,
    "start_time": "2023-06-01T11:55:12.755Z"
   },
   {
    "duration": 6,
    "start_time": "2023-06-01T11:56:09.751Z"
   },
   {
    "duration": 5,
    "start_time": "2023-06-01T11:56:25.014Z"
   },
   {
    "duration": 62,
    "start_time": "2023-06-01T11:57:00.067Z"
   },
   {
    "duration": 62,
    "start_time": "2023-06-01T11:57:13.806Z"
   },
   {
    "duration": 4893,
    "start_time": "2023-06-01T11:58:34.944Z"
   },
   {
    "duration": 4,
    "start_time": "2023-06-01T11:58:54.883Z"
   },
   {
    "duration": 4,
    "start_time": "2023-06-01T11:59:17.095Z"
   },
   {
    "duration": 4,
    "start_time": "2023-06-01T12:00:11.154Z"
   },
   {
    "duration": 201,
    "start_time": "2023-06-01T12:00:45.922Z"
   },
   {
    "duration": 6,
    "start_time": "2023-06-01T12:03:53.592Z"
   },
   {
    "duration": 48398,
    "start_time": "2023-06-01T12:04:52.864Z"
   },
   {
    "duration": 65858,
    "start_time": "2023-06-01T12:07:12.776Z"
   },
   {
    "duration": 16901,
    "start_time": "2023-06-01T12:10:18.274Z"
   },
   {
    "duration": 4,
    "start_time": "2023-06-01T12:10:43.354Z"
   },
   {
    "duration": 92742,
    "start_time": "2023-06-01T12:10:56.201Z"
   },
   {
    "duration": 5450,
    "start_time": "2023-06-01T12:12:48.487Z"
   },
   {
    "duration": 4,
    "start_time": "2023-06-01T12:13:30.408Z"
   },
   {
    "duration": 65824,
    "start_time": "2023-06-01T12:13:35.317Z"
   },
   {
    "duration": 47712,
    "start_time": "2023-06-01T12:14:51.650Z"
   },
   {
    "duration": 92192,
    "start_time": "2023-06-01T12:18:44.627Z"
   },
   {
    "duration": 46,
    "start_time": "2023-06-02T08:27:55.765Z"
   },
   {
    "duration": 1704,
    "start_time": "2023-06-02T08:28:16.705Z"
   },
   {
    "duration": 2,
    "start_time": "2023-06-02T08:28:18.411Z"
   },
   {
    "duration": 2413,
    "start_time": "2023-06-02T08:28:18.414Z"
   },
   {
    "duration": 22,
    "start_time": "2023-06-02T08:28:20.828Z"
   },
   {
    "duration": 6,
    "start_time": "2023-06-02T08:28:20.853Z"
   },
   {
    "duration": 5,
    "start_time": "2023-06-02T08:28:20.861Z"
   },
   {
    "duration": 12,
    "start_time": "2023-06-02T08:28:20.867Z"
   },
   {
    "duration": 137,
    "start_time": "2023-06-02T08:28:20.881Z"
   },
   {
    "duration": 0,
    "start_time": "2023-06-02T08:28:21.020Z"
   },
   {
    "duration": 0,
    "start_time": "2023-06-02T08:28:21.021Z"
   },
   {
    "duration": 0,
    "start_time": "2023-06-02T08:28:21.022Z"
   },
   {
    "duration": 0,
    "start_time": "2023-06-02T08:28:21.024Z"
   },
   {
    "duration": 0,
    "start_time": "2023-06-02T08:28:21.025Z"
   },
   {
    "duration": 0,
    "start_time": "2023-06-02T08:28:21.026Z"
   },
   {
    "duration": 0,
    "start_time": "2023-06-02T08:28:21.027Z"
   },
   {
    "duration": 0,
    "start_time": "2023-06-02T08:28:21.028Z"
   },
   {
    "duration": 2,
    "start_time": "2023-06-02T08:29:18.909Z"
   },
   {
    "duration": 37612,
    "start_time": "2023-06-02T08:29:20.637Z"
   },
   {
    "duration": 63,
    "start_time": "2023-06-02T08:30:10.495Z"
   },
   {
    "duration": 8,
    "start_time": "2023-06-02T08:30:12.665Z"
   },
   {
    "duration": 15,
    "start_time": "2023-06-02T08:32:38.698Z"
   },
   {
    "duration": 8,
    "start_time": "2023-06-02T08:33:32.891Z"
   },
   {
    "duration": 18,
    "start_time": "2023-06-02T08:33:40.114Z"
   },
   {
    "duration": 4,
    "start_time": "2023-06-02T08:35:29.352Z"
   },
   {
    "duration": 13,
    "start_time": "2023-06-02T08:37:17.250Z"
   },
   {
    "duration": 3,
    "start_time": "2023-06-02T08:52:39.375Z"
   },
   {
    "duration": 5473,
    "start_time": "2023-06-02T08:52:50.910Z"
   },
   {
    "duration": 5596,
    "start_time": "2023-06-02T08:53:01.651Z"
   },
   {
    "duration": 85867,
    "start_time": "2023-06-02T09:21:46.263Z"
   },
   {
    "duration": 7,
    "start_time": "2023-06-02T09:23:12.133Z"
   },
   {
    "duration": 139286,
    "start_time": "2023-06-02T09:26:34.286Z"
   },
   {
    "duration": 120638,
    "start_time": "2023-06-02T09:29:20.857Z"
   },
   {
    "duration": 136514,
    "start_time": "2023-06-02T09:31:31.834Z"
   },
   {
    "duration": 104,
    "start_time": "2023-06-02T09:35:55.429Z"
   },
   {
    "duration": 4,
    "start_time": "2023-06-02T09:35:59.077Z"
   },
   {
    "duration": 42282,
    "start_time": "2023-06-02T09:36:01.760Z"
   },
   {
    "duration": 5,
    "start_time": "2023-06-02T09:36:50.685Z"
   },
   {
    "duration": 1927795,
    "start_time": "2023-06-02T09:36:53.265Z"
   },
   {
    "duration": 17,
    "start_time": "2023-06-02T10:10:12.843Z"
   },
   {
    "duration": 1794,
    "start_time": "2023-06-02T10:13:05.860Z"
   },
   {
    "duration": 4,
    "start_time": "2023-06-02T10:15:55.254Z"
   },
   {
    "duration": 24634,
    "start_time": "2023-06-02T10:16:04.360Z"
   },
   {
    "duration": 17,
    "start_time": "2023-06-02T10:16:40.612Z"
   },
   {
    "duration": 137053,
    "start_time": "2023-06-02T10:16:44.807Z"
   },
   {
    "duration": 3,
    "start_time": "2023-06-02T10:19:12.699Z"
   },
   {
    "duration": 633775,
    "start_time": "2023-06-02T10:19:16.961Z"
   },
   {
    "duration": 33,
    "start_time": "2023-06-02T10:34:06.505Z"
   },
   {
    "duration": 1659,
    "start_time": "2023-06-02T10:34:46.457Z"
   },
   {
    "duration": 4,
    "start_time": "2023-06-02T10:58:20.187Z"
   },
   {
    "duration": 21,
    "start_time": "2023-06-02T10:58:46.393Z"
   },
   {
    "duration": 148,
    "start_time": "2023-06-02T10:58:59.492Z"
   },
   {
    "duration": 3,
    "start_time": "2023-06-02T10:59:13.917Z"
   },
   {
    "duration": 24839,
    "start_time": "2023-06-02T10:59:33.908Z"
   },
   {
    "duration": 12,
    "start_time": "2023-06-02T11:00:03.416Z"
   },
   {
    "duration": 4,
    "start_time": "2023-06-02T11:03:21.910Z"
   },
   {
    "duration": 69097,
    "start_time": "2023-06-02T11:03:39.865Z"
   },
   {
    "duration": 14,
    "start_time": "2023-06-02T11:05:04.888Z"
   },
   {
    "duration": 4,
    "start_time": "2023-06-02T11:06:55.674Z"
   },
   {
    "duration": 3,
    "start_time": "2023-06-02T11:07:05.604Z"
   },
   {
    "duration": 26820,
    "start_time": "2023-06-02T11:07:08.406Z"
   },
   {
    "duration": 3,
    "start_time": "2023-06-02T11:07:37.086Z"
   },
   {
    "duration": 46822,
    "start_time": "2023-06-02T11:07:39.360Z"
   },
   {
    "duration": 12,
    "start_time": "2023-06-02T11:08:28.512Z"
   },
   {
    "duration": 3,
    "start_time": "2023-06-02T11:09:08.479Z"
   },
   {
    "duration": 28850,
    "start_time": "2023-06-02T11:09:11.279Z"
   },
   {
    "duration": 12,
    "start_time": "2023-06-02T11:11:05.286Z"
   },
   {
    "duration": 1643,
    "start_time": "2023-06-02T11:11:18.850Z"
   },
   {
    "duration": 3,
    "start_time": "2023-06-02T11:11:42.017Z"
   },
   {
    "duration": 115363,
    "start_time": "2023-06-02T11:11:45.009Z"
   },
   {
    "duration": 12,
    "start_time": "2023-06-02T11:13:45.078Z"
   },
   {
    "duration": 1690,
    "start_time": "2023-06-02T11:13:53.962Z"
   },
   {
    "duration": 18,
    "start_time": "2023-06-02T11:14:52.924Z"
   },
   {
    "duration": 4,
    "start_time": "2023-06-02T11:15:39.025Z"
   },
   {
    "duration": 181640,
    "start_time": "2023-06-02T11:15:43.983Z"
   },
   {
    "duration": 12,
    "start_time": "2023-06-02T11:20:21.142Z"
   },
   {
    "duration": 1501,
    "start_time": "2023-06-02T11:20:38.690Z"
   },
   {
    "duration": 112096,
    "start_time": "2023-06-02T11:26:43.078Z"
   },
   {
    "duration": 123096,
    "start_time": "2023-06-02T11:29:04.051Z"
   },
   {
    "duration": 2678,
    "start_time": "2023-06-05T09:23:19.274Z"
   },
   {
    "duration": 1789,
    "start_time": "2023-06-05T09:29:13.369Z"
   },
   {
    "duration": 3,
    "start_time": "2023-06-05T09:29:15.160Z"
   },
   {
    "duration": 2528,
    "start_time": "2023-06-05T09:29:15.164Z"
   },
   {
    "duration": 32,
    "start_time": "2023-06-05T09:29:17.694Z"
   },
   {
    "duration": 11,
    "start_time": "2023-06-05T09:29:17.728Z"
   },
   {
    "duration": 8,
    "start_time": "2023-06-05T09:29:17.741Z"
   },
   {
    "duration": 8,
    "start_time": "2023-06-05T09:29:17.750Z"
   },
   {
    "duration": 16,
    "start_time": "2023-06-05T09:29:17.760Z"
   },
   {
    "duration": 34160,
    "start_time": "2023-06-05T09:29:17.778Z"
   },
   {
    "duration": 2,
    "start_time": "2023-06-05T09:29:51.940Z"
   },
   {
    "duration": 35,
    "start_time": "2023-06-05T09:29:51.944Z"
   },
   {
    "duration": 68,
    "start_time": "2023-06-05T09:29:51.980Z"
   },
   {
    "duration": 146,
    "start_time": "2023-06-05T09:29:52.050Z"
   },
   {
    "duration": 0,
    "start_time": "2023-06-05T09:29:52.197Z"
   },
   {
    "duration": 0,
    "start_time": "2023-06-05T09:29:52.198Z"
   },
   {
    "duration": 0,
    "start_time": "2023-06-05T09:29:52.199Z"
   },
   {
    "duration": 0,
    "start_time": "2023-06-05T09:29:52.200Z"
   },
   {
    "duration": 0,
    "start_time": "2023-06-05T09:29:52.201Z"
   },
   {
    "duration": 0,
    "start_time": "2023-06-05T09:29:52.202Z"
   },
   {
    "duration": 0,
    "start_time": "2023-06-05T09:29:52.203Z"
   },
   {
    "duration": 0,
    "start_time": "2023-06-05T09:29:52.204Z"
   },
   {
    "duration": 0,
    "start_time": "2023-06-05T09:29:52.205Z"
   },
   {
    "duration": 0,
    "start_time": "2023-06-05T09:29:52.206Z"
   },
   {
    "duration": 5,
    "start_time": "2023-06-05T09:30:03.703Z"
   },
   {
    "duration": 15,
    "start_time": "2023-06-05T09:30:05.655Z"
   },
   {
    "duration": 5,
    "start_time": "2023-06-05T09:30:09.847Z"
   },
   {
    "duration": 4925,
    "start_time": "2023-06-05T09:30:12.143Z"
   },
   {
    "duration": 4,
    "start_time": "2023-06-05T09:30:19.951Z"
   },
   {
    "duration": 121,
    "start_time": "2023-06-05T09:30:24.335Z"
   },
   {
    "duration": 4,
    "start_time": "2023-06-05T09:30:32.257Z"
   },
   {
    "duration": 19248,
    "start_time": "2023-06-05T09:30:35.345Z"
   },
   {
    "duration": 4,
    "start_time": "2023-06-05T09:31:18.260Z"
   },
   {
    "duration": 23823,
    "start_time": "2023-06-05T09:31:20.799Z"
   },
   {
    "duration": 4,
    "start_time": "2023-06-05T09:31:51.016Z"
   },
   {
    "duration": 794448,
    "start_time": "2023-06-05T09:31:53.102Z"
   },
   {
    "duration": 17,
    "start_time": "2023-06-05T09:47:46.507Z"
   },
   {
    "duration": 2215,
    "start_time": "2023-06-05T09:47:59.428Z"
   },
   {
    "duration": 6,
    "start_time": "2023-06-05T09:48:58.976Z"
   },
   {
    "duration": 511417,
    "start_time": "2023-06-05T09:49:08.536Z"
   },
   {
    "duration": 15,
    "start_time": "2023-06-05T09:59:03.668Z"
   },
   {
    "duration": 2059,
    "start_time": "2023-06-05T09:59:25.298Z"
   },
   {
    "duration": 37,
    "start_time": "2023-06-05T10:00:10.415Z"
   },
   {
    "duration": 4,
    "start_time": "2023-06-05T10:00:27.922Z"
   },
   {
    "duration": 10854,
    "start_time": "2023-06-05T10:00:31.626Z"
   },
   {
    "duration": 4,
    "start_time": "2023-06-05T10:01:46.124Z"
   },
   {
    "duration": 313990,
    "start_time": "2023-06-05T10:01:48.944Z"
   },
   {
    "duration": 14,
    "start_time": "2023-06-05T10:07:12.927Z"
   },
   {
    "duration": 4,
    "start_time": "2023-06-05T10:08:06.678Z"
   },
   {
    "duration": 556096,
    "start_time": "2023-06-05T10:08:10.037Z"
   },
   {
    "duration": 12,
    "start_time": "2023-06-05T10:18:35.887Z"
   },
   {
    "duration": 2094,
    "start_time": "2023-06-05T10:18:42.537Z"
   },
   {
    "duration": 5,
    "start_time": "2023-06-05T10:22:19.051Z"
   },
   {
    "duration": 5,
    "start_time": "2023-06-05T10:22:58.689Z"
   },
   {
    "duration": 134,
    "start_time": "2023-06-05T10:23:22.503Z"
   },
   {
    "duration": 24,
    "start_time": "2023-06-05T10:23:50.449Z"
   },
   {
    "duration": 4,
    "start_time": "2023-06-05T10:23:56.281Z"
   },
   {
    "duration": 20,
    "start_time": "2023-06-05T10:24:01.634Z"
   },
   {
    "duration": 13,
    "start_time": "2023-06-05T10:24:48.455Z"
   },
   {
    "duration": 5,
    "start_time": "2023-06-05T10:25:25.463Z"
   },
   {
    "duration": 142419,
    "start_time": "2023-06-05T10:25:34.737Z"
   },
   {
    "duration": 9,
    "start_time": "2023-06-05T10:30:17.879Z"
   },
   {
    "duration": 5,
    "start_time": "2023-06-05T10:30:22.711Z"
   },
   {
    "duration": 465450,
    "start_time": "2023-06-05T10:30:25.841Z"
   },
   {
    "duration": 20,
    "start_time": "2023-06-05T10:38:54.056Z"
   },
   {
    "duration": 1641,
    "start_time": "2023-06-05T10:39:11.631Z"
   },
   {
    "duration": 7,
    "start_time": "2023-06-05T10:41:18.172Z"
   },
   {
    "duration": 20,
    "start_time": "2023-06-05T10:45:40.204Z"
   },
   {
    "duration": 9,
    "start_time": "2023-06-05T10:46:50.774Z"
   },
   {
    "duration": 23,
    "start_time": "2023-06-05T10:47:01.128Z"
   },
   {
    "duration": 12,
    "start_time": "2023-06-05T10:47:03.310Z"
   },
   {
    "duration": 4,
    "start_time": "2023-06-05T10:47:17.287Z"
   },
   {
    "duration": 4,
    "start_time": "2023-06-05T10:47:51.930Z"
   },
   {
    "duration": 1031,
    "start_time": "2023-06-05T10:49:53.200Z"
   },
   {
    "duration": 2407,
    "start_time": "2023-06-05T10:50:17.603Z"
   },
   {
    "duration": 4,
    "start_time": "2023-06-05T10:50:31.876Z"
   },
   {
    "duration": 11,
    "start_time": "2023-06-05T10:50:43.925Z"
   },
   {
    "duration": 1505,
    "start_time": "2023-06-05T10:58:55.638Z"
   },
   {
    "duration": 11,
    "start_time": "2023-06-05T10:59:21.767Z"
   },
   {
    "duration": 4,
    "start_time": "2023-06-05T10:59:51.715Z"
   },
   {
    "duration": 4,
    "start_time": "2023-06-05T11:00:00.890Z"
   },
   {
    "duration": 5,
    "start_time": "2023-06-05T11:01:58.617Z"
   },
   {
    "duration": 5,
    "start_time": "2023-06-05T11:02:48.660Z"
   },
   {
    "duration": 20,
    "start_time": "2023-06-05T11:03:07.053Z"
   },
   {
    "duration": 12,
    "start_time": "2023-06-05T11:03:09.612Z"
   },
   {
    "duration": 6,
    "start_time": "2023-06-05T11:03:11.957Z"
   },
   {
    "duration": 9,
    "start_time": "2023-06-05T11:03:18.191Z"
   },
   {
    "duration": 12,
    "start_time": "2023-06-05T11:04:25.857Z"
   },
   {
    "duration": 11,
    "start_time": "2023-06-05T11:04:36.434Z"
   },
   {
    "duration": 10,
    "start_time": "2023-06-05T11:05:00.603Z"
   },
   {
    "duration": 9,
    "start_time": "2023-06-05T11:06:07.759Z"
   },
   {
    "duration": 13,
    "start_time": "2023-06-05T11:06:12.135Z"
   },
   {
    "duration": 8,
    "start_time": "2023-06-05T11:06:33.241Z"
   },
   {
    "duration": 11,
    "start_time": "2023-06-05T11:07:08.858Z"
   },
   {
    "duration": 10,
    "start_time": "2023-06-05T11:10:44.654Z"
   },
   {
    "duration": 9,
    "start_time": "2023-06-05T11:10:51.383Z"
   },
   {
    "duration": 12,
    "start_time": "2023-06-05T11:10:55.776Z"
   },
   {
    "duration": 12,
    "start_time": "2023-06-05T11:11:02.315Z"
   },
   {
    "duration": 16,
    "start_time": "2023-06-05T11:12:29.685Z"
   },
   {
    "duration": 14,
    "start_time": "2023-06-05T11:12:49.582Z"
   },
   {
    "duration": 15,
    "start_time": "2023-06-05T11:13:01.975Z"
   },
   {
    "duration": 147,
    "start_time": "2023-06-05T11:15:34.251Z"
   },
   {
    "duration": 1639,
    "start_time": "2023-06-05T11:19:07.925Z"
   },
   {
    "duration": 1679,
    "start_time": "2023-06-05T11:20:10.752Z"
   },
   {
    "duration": 1679,
    "start_time": "2023-06-05T11:20:36.671Z"
   },
   {
    "duration": 1490,
    "start_time": "2023-06-05T11:24:07.949Z"
   },
   {
    "duration": 1526,
    "start_time": "2023-06-05T11:24:33.086Z"
   },
   {
    "duration": 86,
    "start_time": "2023-06-05T11:29:48.067Z"
   },
   {
    "duration": 13,
    "start_time": "2023-06-05T11:29:55.961Z"
   },
   {
    "duration": 5,
    "start_time": "2023-06-05T11:35:54.358Z"
   },
   {
    "duration": 10,
    "start_time": "2023-06-05T11:39:31.074Z"
   },
   {
    "duration": 11,
    "start_time": "2023-06-05T11:39:59.779Z"
   },
   {
    "duration": 362,
    "start_time": "2023-06-05T11:40:18.781Z"
   },
   {
    "duration": 224,
    "start_time": "2023-06-05T11:40:24.973Z"
   },
   {
    "duration": 192,
    "start_time": "2023-06-05T11:40:57.503Z"
   },
   {
    "duration": 6,
    "start_time": "2023-06-05T11:42:18.259Z"
   },
   {
    "duration": 204,
    "start_time": "2023-06-05T11:42:47.095Z"
   },
   {
    "duration": 212,
    "start_time": "2023-06-05T11:42:58.414Z"
   },
   {
    "duration": 211,
    "start_time": "2023-06-05T11:43:06.930Z"
   },
   {
    "duration": 228,
    "start_time": "2023-06-05T11:44:17.348Z"
   },
   {
    "duration": 200,
    "start_time": "2023-06-05T11:44:30.140Z"
   },
   {
    "duration": 274,
    "start_time": "2023-06-05T11:46:08.394Z"
   },
   {
    "duration": 385,
    "start_time": "2023-06-05T11:48:04.945Z"
   },
   {
    "duration": 236,
    "start_time": "2023-06-05T11:48:34.761Z"
   },
   {
    "duration": 215,
    "start_time": "2023-06-05T11:49:58.513Z"
   },
   {
    "duration": 215,
    "start_time": "2023-06-05T11:50:09.432Z"
   },
   {
    "duration": 969,
    "start_time": "2023-06-05T11:50:46.617Z"
   },
   {
    "duration": 1816,
    "start_time": "2023-06-05T11:50:59.066Z"
   },
   {
    "duration": 1420,
    "start_time": "2023-06-05T11:51:26.172Z"
   },
   {
    "duration": 2156,
    "start_time": "2023-06-05T11:51:36.660Z"
   },
   {
    "duration": 8954,
    "start_time": "2023-06-05T11:53:41.765Z"
   },
   {
    "duration": 251,
    "start_time": "2023-06-05T11:54:16.014Z"
   },
   {
    "duration": 7,
    "start_time": "2023-06-05T11:54:26.920Z"
   },
   {
    "duration": 243,
    "start_time": "2023-06-05T11:54:31.906Z"
   },
   {
    "duration": 2340,
    "start_time": "2023-06-05T11:56:15.922Z"
   },
   {
    "duration": 6,
    "start_time": "2023-06-05T11:56:22.287Z"
   },
   {
    "duration": 237,
    "start_time": "2023-06-05T11:56:34.686Z"
   },
   {
    "duration": 6208,
    "start_time": "2023-06-05T11:56:45.958Z"
   },
   {
    "duration": 7,
    "start_time": "2023-06-05T11:56:54.991Z"
   },
   {
    "duration": 262,
    "start_time": "2023-06-05T11:57:01.704Z"
   },
   {
    "duration": 253,
    "start_time": "2023-06-05T11:57:16.491Z"
   },
   {
    "duration": 220,
    "start_time": "2023-06-05T11:58:08.075Z"
   },
   {
    "duration": 270,
    "start_time": "2023-06-05T11:58:17.716Z"
   },
   {
    "duration": 282,
    "start_time": "2023-06-05T11:59:27.175Z"
   },
   {
    "duration": 278,
    "start_time": "2023-06-05T12:00:30.083Z"
   },
   {
    "duration": 299,
    "start_time": "2023-06-05T12:00:53.037Z"
   },
   {
    "duration": 1606,
    "start_time": "2023-06-05T12:07:41.099Z"
   },
   {
    "duration": 1567,
    "start_time": "2023-06-05T12:07:49.083Z"
   },
   {
    "duration": 1570,
    "start_time": "2023-06-05T12:08:04.909Z"
   },
   {
    "duration": 1873,
    "start_time": "2023-06-05T12:10:13.236Z"
   },
   {
    "duration": 1777,
    "start_time": "2023-06-05T12:10:53.093Z"
   },
   {
    "duration": 1913,
    "start_time": "2023-06-05T12:12:07.314Z"
   },
   {
    "duration": 1901,
    "start_time": "2023-06-05T12:12:31.724Z"
   },
   {
    "duration": 1845,
    "start_time": "2023-06-05T12:12:51.070Z"
   },
   {
    "duration": 1865,
    "start_time": "2023-06-05T12:13:12.145Z"
   },
   {
    "duration": 1874,
    "start_time": "2023-06-05T12:14:11.425Z"
   },
   {
    "duration": 1852,
    "start_time": "2023-06-05T12:14:33.701Z"
   },
   {
    "duration": 2227,
    "start_time": "2023-06-05T12:16:04.852Z"
   },
   {
    "duration": 2030,
    "start_time": "2023-06-05T12:16:25.166Z"
   },
   {
    "duration": 3,
    "start_time": "2023-06-06T07:46:11.841Z"
   },
   {
    "duration": 1880,
    "start_time": "2023-06-06T07:46:11.847Z"
   },
   {
    "duration": 3,
    "start_time": "2023-06-06T07:46:13.729Z"
   },
   {
    "duration": 2420,
    "start_time": "2023-06-06T07:46:13.734Z"
   },
   {
    "duration": 24,
    "start_time": "2023-06-06T07:46:16.155Z"
   },
   {
    "duration": 9,
    "start_time": "2023-06-06T07:46:16.181Z"
   },
   {
    "duration": 24,
    "start_time": "2023-06-06T07:46:16.191Z"
   },
   {
    "duration": 19,
    "start_time": "2023-06-06T07:46:16.216Z"
   },
   {
    "duration": 15,
    "start_time": "2023-06-06T07:46:16.237Z"
   },
   {
    "duration": 35877,
    "start_time": "2023-06-06T07:46:16.253Z"
   },
   {
    "duration": 2,
    "start_time": "2023-06-06T07:46:52.132Z"
   },
   {
    "duration": 11,
    "start_time": "2023-06-06T07:46:52.136Z"
   },
   {
    "duration": 69,
    "start_time": "2023-06-06T07:46:52.149Z"
   },
   {
    "duration": 4,
    "start_time": "2023-06-06T07:46:52.219Z"
   },
   {
    "duration": 27,
    "start_time": "2023-06-06T07:46:52.226Z"
   },
   {
    "duration": 3,
    "start_time": "2023-06-06T07:46:52.254Z"
   },
   {
    "duration": 21,
    "start_time": "2023-06-06T07:46:52.259Z"
   },
   {
    "duration": 22,
    "start_time": "2023-06-06T07:46:52.282Z"
   },
   {
    "duration": 275,
    "start_time": "2023-06-06T07:46:52.306Z"
   },
   {
    "duration": 6,
    "start_time": "2023-06-06T07:46:52.586Z"
   },
   {
    "duration": 28,
    "start_time": "2023-06-06T07:46:52.593Z"
   },
   {
    "duration": 0,
    "start_time": "2023-06-06T07:46:52.622Z"
   },
   {
    "duration": 0,
    "start_time": "2023-06-06T07:46:52.623Z"
   },
   {
    "duration": 4,
    "start_time": "2023-06-06T07:47:34.610Z"
   },
   {
    "duration": 24323,
    "start_time": "2023-06-06T07:47:35.776Z"
   },
   {
    "duration": 12,
    "start_time": "2023-06-06T07:48:06.412Z"
   },
   {
    "duration": 21,
    "start_time": "2023-06-06T07:48:18.306Z"
   },
   {
    "duration": 5,
    "start_time": "2023-06-06T07:51:29.373Z"
   },
   {
    "duration": 4,
    "start_time": "2023-06-06T07:51:35.418Z"
   },
   {
    "duration": 109466,
    "start_time": "2023-06-06T07:51:36.813Z"
   },
   {
    "duration": 26,
    "start_time": "2023-06-06T07:53:31.364Z"
   },
   {
    "duration": 6,
    "start_time": "2023-06-06T07:55:30.504Z"
   },
   {
    "duration": 275712,
    "start_time": "2023-06-06T07:55:34.277Z"
   },
   {
    "duration": 21,
    "start_time": "2023-06-06T08:00:50.478Z"
   },
   {
    "duration": 5,
    "start_time": "2023-06-06T08:01:35.376Z"
   },
   {
    "duration": 1008597,
    "start_time": "2023-06-06T08:01:40.136Z"
   },
   {
    "duration": 14,
    "start_time": "2023-06-06T08:21:45.217Z"
   },
   {
    "duration": 4,
    "start_time": "2023-06-06T08:24:26.641Z"
   },
   {
    "duration": 29362,
    "start_time": "2023-06-06T08:24:30.614Z"
   },
   {
    "duration": 387,
    "start_time": "2023-06-06T08:25:11.139Z"
   },
   {
    "duration": 5,
    "start_time": "2023-06-06T08:25:21.052Z"
   },
   {
    "duration": 198353,
    "start_time": "2023-06-06T08:25:23.437Z"
   },
   {
    "duration": 6,
    "start_time": "2023-06-06T08:30:08.069Z"
   },
   {
    "duration": 200933,
    "start_time": "2023-06-06T08:30:11.077Z"
   },
   {
    "duration": 5,
    "start_time": "2023-06-06T08:49:14.330Z"
   },
   {
    "duration": 3,
    "start_time": "2023-06-06T08:50:15.715Z"
   },
   {
    "duration": 1774,
    "start_time": "2023-06-06T08:50:15.719Z"
   },
   {
    "duration": 3,
    "start_time": "2023-06-06T08:50:17.495Z"
   },
   {
    "duration": 958,
    "start_time": "2023-06-06T08:50:17.500Z"
   },
   {
    "duration": 40,
    "start_time": "2023-06-06T08:50:18.459Z"
   },
   {
    "duration": 21,
    "start_time": "2023-06-06T08:50:18.501Z"
   },
   {
    "duration": 11,
    "start_time": "2023-06-06T08:50:18.523Z"
   },
   {
    "duration": 6,
    "start_time": "2023-06-06T08:50:18.535Z"
   },
   {
    "duration": 6,
    "start_time": "2023-06-06T08:50:18.542Z"
   },
   {
    "duration": 37032,
    "start_time": "2023-06-06T08:50:18.549Z"
   },
   {
    "duration": 3,
    "start_time": "2023-06-06T08:50:55.582Z"
   },
   {
    "duration": 50,
    "start_time": "2023-06-06T08:50:55.586Z"
   },
   {
    "duration": 85,
    "start_time": "2023-06-06T08:50:55.638Z"
   },
   {
    "duration": 4,
    "start_time": "2023-06-06T08:50:55.725Z"
   },
   {
    "duration": 46,
    "start_time": "2023-06-06T08:50:55.731Z"
   },
   {
    "duration": 9,
    "start_time": "2023-06-06T08:50:55.778Z"
   },
   {
    "duration": 40,
    "start_time": "2023-06-06T08:50:55.788Z"
   },
   {
    "duration": 1902469,
    "start_time": "2023-06-06T08:50:55.829Z"
   },
   {
    "duration": 106,
    "start_time": "2023-06-06T09:22:38.300Z"
   },
   {
    "duration": 26,
    "start_time": "2023-06-06T09:22:38.408Z"
   },
   {
    "duration": 43,
    "start_time": "2023-06-06T09:22:38.435Z"
   },
   {
    "duration": 1587,
    "start_time": "2023-06-06T09:22:38.479Z"
   },
   {
    "duration": 0,
    "start_time": "2023-06-06T09:22:40.068Z"
   },
   {
    "duration": 1533,
    "start_time": "2023-06-06T09:23:26.748Z"
   },
   {
    "duration": 17,
    "start_time": "2023-06-06T09:27:32.709Z"
   },
   {
    "duration": 3,
    "start_time": "2023-06-06T09:27:39.922Z"
   },
   {
    "duration": 38108,
    "start_time": "2023-06-06T09:27:47.447Z"
   },
   {
    "duration": 7,
    "start_time": "2023-06-06T09:28:27.918Z"
   },
   {
    "duration": 13,
    "start_time": "2023-06-06T09:28:59.947Z"
   },
   {
    "duration": 1463,
    "start_time": "2023-06-06T09:30:30.152Z"
   },
   {
    "duration": 1803,
    "start_time": "2023-06-06T09:36:38.122Z"
   },
   {
    "duration": 1719,
    "start_time": "2023-06-06T09:39:10.100Z"
   },
   {
    "duration": 1769,
    "start_time": "2023-06-06T09:39:26.238Z"
   },
   {
    "duration": 6,
    "start_time": "2023-06-06T10:17:24.011Z"
   },
   {
    "duration": 6,
    "start_time": "2023-06-06T10:17:30.911Z"
   },
   {
    "duration": 304878,
    "start_time": "2023-06-06T10:17:38.611Z"
   },
   {
    "duration": 5,
    "start_time": "2023-06-06T10:23:19.931Z"
   },
   {
    "duration": 269068,
    "start_time": "2023-06-06T10:23:23.330Z"
   },
   {
    "duration": 1958,
    "start_time": "2023-06-06T10:28:26.998Z"
   },
   {
    "duration": 3,
    "start_time": "2023-06-06T10:28:28.958Z"
   },
   {
    "duration": 872,
    "start_time": "2023-06-06T10:28:28.963Z"
   },
   {
    "duration": 24,
    "start_time": "2023-06-06T10:28:29.836Z"
   },
   {
    "duration": 8,
    "start_time": "2023-06-06T10:28:29.862Z"
   },
   {
    "duration": 26,
    "start_time": "2023-06-06T10:28:29.871Z"
   },
   {
    "duration": 37151,
    "start_time": "2023-06-06T10:28:29.899Z"
   },
   {
    "duration": 8,
    "start_time": "2023-06-06T10:29:07.051Z"
   },
   {
    "duration": 124,
    "start_time": "2023-06-06T10:29:07.061Z"
   },
   {
    "duration": 5,
    "start_time": "2023-06-06T10:29:07.188Z"
   },
   {
    "duration": 56,
    "start_time": "2023-06-06T10:29:07.195Z"
   },
   {
    "duration": 13,
    "start_time": "2023-06-06T10:29:07.253Z"
   },
   {
    "duration": 40,
    "start_time": "2023-06-06T10:29:07.268Z"
   },
   {
    "duration": 283500,
    "start_time": "2023-06-06T10:29:07.310Z"
   },
   {
    "duration": 16,
    "start_time": "2023-06-06T10:33:50.812Z"
   },
   {
    "duration": 39,
    "start_time": "2023-06-06T10:33:50.829Z"
   },
   {
    "duration": 1691,
    "start_time": "2023-06-06T10:33:50.870Z"
   },
   {
    "duration": 2115,
    "start_time": "2023-06-06T10:33:52.563Z"
   },
   {
    "duration": 1777,
    "start_time": "2023-06-06T10:36:06.280Z"
   },
   {
    "duration": 3,
    "start_time": "2023-06-06T10:36:08.059Z"
   },
   {
    "duration": 919,
    "start_time": "2023-06-06T10:36:08.063Z"
   },
   {
    "duration": 30,
    "start_time": "2023-06-06T10:36:08.985Z"
   },
   {
    "duration": 13,
    "start_time": "2023-06-06T10:36:09.017Z"
   },
   {
    "duration": 6,
    "start_time": "2023-06-06T10:36:09.032Z"
   },
   {
    "duration": 40391,
    "start_time": "2023-06-06T10:36:09.040Z"
   },
   {
    "duration": 8,
    "start_time": "2023-06-06T10:36:49.433Z"
   },
   {
    "duration": 82,
    "start_time": "2023-06-06T10:36:49.443Z"
   },
   {
    "duration": 5,
    "start_time": "2023-06-06T10:36:49.528Z"
   },
   {
    "duration": 19,
    "start_time": "2023-06-06T10:36:49.535Z"
   },
   {
    "duration": 19,
    "start_time": "2023-06-06T10:36:49.556Z"
   },
   {
    "duration": 967828,
    "start_time": "2023-06-06T10:36:49.576Z"
   },
   {
    "duration": 14,
    "start_time": "2023-06-06T10:52:57.406Z"
   },
   {
    "duration": 1606,
    "start_time": "2023-06-06T10:52:57.421Z"
   },
   {
    "duration": 1682,
    "start_time": "2023-06-06T10:52:59.028Z"
   },
   {
    "duration": 26,
    "start_time": "2023-06-06T10:54:32.303Z"
   },
   {
    "duration": 5,
    "start_time": "2023-06-06T10:56:53.342Z"
   },
   {
    "duration": 372785,
    "start_time": "2023-06-06T10:56:56.709Z"
   },
   {
    "duration": 20,
    "start_time": "2023-06-06T11:06:14.298Z"
   },
   {
    "duration": 1636,
    "start_time": "2023-06-06T11:06:54.705Z"
   },
   {
    "duration": 4,
    "start_time": "2023-06-06T11:08:18.656Z"
   },
   {
    "duration": 5,
    "start_time": "2023-06-06T11:08:46.838Z"
   },
   {
    "duration": 166089,
    "start_time": "2023-06-06T11:08:49.232Z"
   },
   {
    "duration": 5,
    "start_time": "2023-06-06T11:11:38.968Z"
   },
   {
    "duration": 196474,
    "start_time": "2023-06-06T11:11:46.626Z"
   },
   {
    "duration": 1974,
    "start_time": "2023-06-06T11:15:59.571Z"
   },
   {
    "duration": 3,
    "start_time": "2023-06-06T11:16:01.547Z"
   },
   {
    "duration": 940,
    "start_time": "2023-06-06T11:16:01.551Z"
   },
   {
    "duration": 24,
    "start_time": "2023-06-06T11:16:02.493Z"
   },
   {
    "duration": 101,
    "start_time": "2023-06-06T11:16:02.519Z"
   },
   {
    "duration": 14,
    "start_time": "2023-06-06T11:16:02.621Z"
   },
   {
    "duration": 35004,
    "start_time": "2023-06-06T11:16:02.636Z"
   },
   {
    "duration": 7,
    "start_time": "2023-06-06T11:16:37.641Z"
   },
   {
    "duration": 66,
    "start_time": "2023-06-06T11:16:37.650Z"
   },
   {
    "duration": 4,
    "start_time": "2023-06-06T11:16:37.718Z"
   },
   {
    "duration": 22,
    "start_time": "2023-06-06T11:16:37.723Z"
   },
   {
    "duration": 5,
    "start_time": "2023-06-06T11:16:37.747Z"
   },
   {
    "duration": 22135,
    "start_time": "2023-06-06T11:16:37.753Z"
   },
   {
    "duration": 21,
    "start_time": "2023-06-06T11:16:59.889Z"
   },
   {
    "duration": 0,
    "start_time": "2023-06-06T11:16:59.912Z"
   },
   {
    "duration": 0,
    "start_time": "2023-06-06T11:16:59.913Z"
   },
   {
    "duration": 0,
    "start_time": "2023-06-06T11:16:59.914Z"
   },
   {
    "duration": 1721,
    "start_time": "2023-06-06T11:17:20.921Z"
   },
   {
    "duration": 3,
    "start_time": "2023-06-06T11:17:22.643Z"
   },
   {
    "duration": 964,
    "start_time": "2023-06-06T11:17:22.647Z"
   },
   {
    "duration": 23,
    "start_time": "2023-06-06T11:17:23.613Z"
   },
   {
    "duration": 10,
    "start_time": "2023-06-06T11:17:23.637Z"
   },
   {
    "duration": 8,
    "start_time": "2023-06-06T11:17:23.648Z"
   },
   {
    "duration": 34823,
    "start_time": "2023-06-06T11:17:23.657Z"
   },
   {
    "duration": 7,
    "start_time": "2023-06-06T11:17:58.481Z"
   },
   {
    "duration": 57,
    "start_time": "2023-06-06T11:17:58.490Z"
   },
   {
    "duration": 3,
    "start_time": "2023-06-06T11:17:58.549Z"
   },
   {
    "duration": 15,
    "start_time": "2023-06-06T11:17:58.554Z"
   },
   {
    "duration": 7,
    "start_time": "2023-06-06T11:17:58.584Z"
   },
   {
    "duration": 1178285,
    "start_time": "2023-06-06T11:17:58.592Z"
   },
   {
    "duration": 40,
    "start_time": "2023-06-06T11:37:36.879Z"
   },
   {
    "duration": 0,
    "start_time": "2023-06-06T11:37:36.921Z"
   },
   {
    "duration": 0,
    "start_time": "2023-06-06T11:37:36.922Z"
   },
   {
    "duration": 0,
    "start_time": "2023-06-06T11:37:36.923Z"
   },
   {
    "duration": 2315,
    "start_time": "2023-06-06T12:27:14.911Z"
   },
   {
    "duration": 3,
    "start_time": "2023-06-06T12:27:17.234Z"
   },
   {
    "duration": 1097,
    "start_time": "2023-06-06T12:27:17.239Z"
   },
   {
    "duration": 26,
    "start_time": "2023-06-06T12:27:18.339Z"
   },
   {
    "duration": 82,
    "start_time": "2023-06-06T12:27:18.368Z"
   },
   {
    "duration": 11,
    "start_time": "2023-06-06T12:27:18.452Z"
   },
   {
    "duration": 42170,
    "start_time": "2023-06-06T12:27:18.465Z"
   },
   {
    "duration": 8,
    "start_time": "2023-06-06T12:28:00.637Z"
   },
   {
    "duration": 108,
    "start_time": "2023-06-06T12:28:00.647Z"
   },
   {
    "duration": 19,
    "start_time": "2023-06-06T12:28:00.757Z"
   },
   {
    "duration": 81,
    "start_time": "2023-06-06T12:28:00.777Z"
   },
   {
    "duration": 86,
    "start_time": "2023-06-06T12:28:00.860Z"
   },
   {
    "duration": 2167567,
    "start_time": "2023-06-06T12:28:00.948Z"
   },
   {
    "duration": 43,
    "start_time": "2023-06-06T13:04:08.524Z"
   },
   {
    "duration": 11,
    "start_time": "2023-06-06T13:04:08.568Z"
   },
   {
    "duration": 2077,
    "start_time": "2023-06-06T13:04:08.581Z"
   },
   {
    "duration": 2203,
    "start_time": "2023-06-06T13:04:10.660Z"
   },
   {
    "duration": 6800,
    "start_time": "2023-06-08T09:53:26.951Z"
   },
   {
    "duration": 6,
    "start_time": "2023-06-08T09:53:40.942Z"
   },
   {
    "duration": 3359,
    "start_time": "2023-06-08T09:53:48.192Z"
   },
   {
    "duration": 9,
    "start_time": "2023-06-08T09:54:54.202Z"
   },
   {
    "duration": 8,
    "start_time": "2023-06-08T09:54:58.114Z"
   },
   {
    "duration": 43,
    "start_time": "2023-06-08T09:55:07.962Z"
   },
   {
    "duration": 15,
    "start_time": "2023-06-08T09:55:10.458Z"
   },
   {
    "duration": 10,
    "start_time": "2023-06-08T09:55:12.628Z"
   },
   {
    "duration": 380,
    "start_time": "2023-06-08T09:55:48.445Z"
   },
   {
    "duration": 3,
    "start_time": "2023-06-08T09:56:19.743Z"
   },
   {
    "duration": 634,
    "start_time": "2023-06-08T09:56:24.767Z"
   },
   {
    "duration": 3,
    "start_time": "2023-06-08T09:57:51.481Z"
   },
   {
    "duration": 513,
    "start_time": "2023-06-08T09:57:54.274Z"
   },
   {
    "duration": 3,
    "start_time": "2023-06-08T09:58:13.217Z"
   },
   {
    "duration": 447,
    "start_time": "2023-06-08T09:58:16.517Z"
   },
   {
    "duration": 644,
    "start_time": "2023-06-08T09:59:16.665Z"
   },
   {
    "duration": 465,
    "start_time": "2023-06-08T09:59:30.978Z"
   },
   {
    "duration": 464,
    "start_time": "2023-06-08T10:00:58.400Z"
   },
   {
    "duration": 501,
    "start_time": "2023-06-08T10:02:31.804Z"
   },
   {
    "duration": 492,
    "start_time": "2023-06-08T10:12:58.866Z"
   },
   {
    "duration": 3,
    "start_time": "2023-06-08T10:15:18.987Z"
   },
   {
    "duration": 447,
    "start_time": "2023-06-08T10:15:23.192Z"
   },
   {
    "duration": 446,
    "start_time": "2023-06-08T10:18:18.515Z"
   },
   {
    "duration": 3,
    "start_time": "2023-06-08T10:19:59.761Z"
   },
   {
    "duration": 434,
    "start_time": "2023-06-08T10:20:02.712Z"
   },
   {
    "duration": 683,
    "start_time": "2023-06-08T10:20:51.628Z"
   },
   {
    "duration": 3,
    "start_time": "2023-06-08T10:22:26.184Z"
   },
   {
    "duration": 415,
    "start_time": "2023-06-08T10:22:29.001Z"
   },
   {
    "duration": 5410,
    "start_time": "2023-06-09T08:07:02.912Z"
   },
   {
    "duration": 6,
    "start_time": "2023-06-09T08:07:08.324Z"
   },
   {
    "duration": 3329,
    "start_time": "2023-06-09T08:07:08.331Z"
   },
   {
    "duration": 33,
    "start_time": "2023-06-09T08:07:11.662Z"
   },
   {
    "duration": 12,
    "start_time": "2023-06-09T08:07:11.697Z"
   },
   {
    "duration": 9,
    "start_time": "2023-06-09T08:07:11.710Z"
   },
   {
    "duration": 6,
    "start_time": "2023-06-09T08:07:11.721Z"
   },
   {
    "duration": 527,
    "start_time": "2023-06-09T08:07:11.729Z"
   },
   {
    "duration": 3,
    "start_time": "2023-06-09T08:07:12.258Z"
   },
   {
    "duration": 271718,
    "start_time": "2023-06-09T08:07:12.263Z"
   },
   {
    "duration": 0,
    "start_time": "2023-06-09T08:11:43.983Z"
   },
   {
    "duration": 0,
    "start_time": "2023-06-09T08:11:43.984Z"
   },
   {
    "duration": 0,
    "start_time": "2023-06-09T08:11:43.986Z"
   },
   {
    "duration": 0,
    "start_time": "2023-06-09T08:11:43.987Z"
   },
   {
    "duration": 0,
    "start_time": "2023-06-09T08:11:43.988Z"
   },
   {
    "duration": 0,
    "start_time": "2023-06-09T08:11:43.989Z"
   },
   {
    "duration": 0,
    "start_time": "2023-06-09T08:11:43.990Z"
   },
   {
    "duration": 0,
    "start_time": "2023-06-09T08:11:43.992Z"
   },
   {
    "duration": 0,
    "start_time": "2023-06-09T08:11:43.993Z"
   },
   {
    "duration": 20,
    "start_time": "2023-06-09T08:12:34.758Z"
   },
   {
    "duration": 770,
    "start_time": "2023-06-09T08:13:16.225Z"
   },
   {
    "duration": 4302,
    "start_time": "2023-06-09T08:13:21.751Z"
   },
   {
    "duration": 50,
    "start_time": "2023-06-09T08:13:33.501Z"
   },
   {
    "duration": 475,
    "start_time": "2023-06-09T08:14:13.045Z"
   },
   {
    "duration": 21113,
    "start_time": "2023-06-09T08:17:28.615Z"
   },
   {
    "duration": 61908,
    "start_time": "2023-06-09T08:17:59.847Z"
   },
   {
    "duration": 662,
    "start_time": "2023-06-09T08:19:44.995Z"
   },
   {
    "duration": 1979,
    "start_time": "2023-06-09T08:20:16.260Z"
   },
   {
    "duration": 5195,
    "start_time": "2023-06-09T08:20:18.241Z"
   },
   {
    "duration": 5,
    "start_time": "2023-06-09T08:20:23.438Z"
   },
   {
    "duration": 797,
    "start_time": "2023-06-09T08:20:23.445Z"
   },
   {
    "duration": 35,
    "start_time": "2023-06-09T08:20:24.252Z"
   },
   {
    "duration": 21,
    "start_time": "2023-06-09T08:20:24.289Z"
   },
   {
    "duration": 23,
    "start_time": "2023-06-09T08:20:24.312Z"
   },
   {
    "duration": 23,
    "start_time": "2023-06-09T08:20:24.336Z"
   },
   {
    "duration": 518,
    "start_time": "2023-06-09T08:20:24.361Z"
   },
   {
    "duration": 4,
    "start_time": "2023-06-09T08:20:24.880Z"
   },
   {
    "duration": 1703801,
    "start_time": "2023-06-09T08:20:24.886Z"
   },
   {
    "duration": 0,
    "start_time": "2023-06-09T08:48:48.689Z"
   },
   {
    "duration": 0,
    "start_time": "2023-06-09T08:48:48.691Z"
   },
   {
    "duration": 0,
    "start_time": "2023-06-09T08:48:48.692Z"
   },
   {
    "duration": 0,
    "start_time": "2023-06-09T08:48:48.693Z"
   },
   {
    "duration": 0,
    "start_time": "2023-06-09T08:48:48.694Z"
   },
   {
    "duration": 0,
    "start_time": "2023-06-09T08:48:48.695Z"
   },
   {
    "duration": 0,
    "start_time": "2023-06-09T08:48:48.697Z"
   },
   {
    "duration": 0,
    "start_time": "2023-06-09T08:48:48.698Z"
   },
   {
    "duration": 0,
    "start_time": "2023-06-09T08:48:48.699Z"
   },
   {
    "duration": 0,
    "start_time": "2023-06-09T08:48:48.700Z"
   },
   {
    "duration": 505,
    "start_time": "2023-06-09T08:50:55.788Z"
   },
   {
    "duration": 4,
    "start_time": "2023-06-09T08:51:05.375Z"
   },
   {
    "duration": 768,
    "start_time": "2023-06-09T08:51:07.497Z"
   },
   {
    "duration": 489,
    "start_time": "2023-06-09T08:51:35.792Z"
   },
   {
    "duration": 4,
    "start_time": "2023-06-09T09:02:40.314Z"
   },
   {
    "duration": 520,
    "start_time": "2023-06-09T09:03:23.938Z"
   },
   {
    "duration": 4,
    "start_time": "2023-06-09T09:04:54.987Z"
   },
   {
    "duration": 456,
    "start_time": "2023-06-09T09:04:56.995Z"
   },
   {
    "duration": 566,
    "start_time": "2023-06-09T09:07:29.800Z"
   },
   {
    "duration": 556,
    "start_time": "2023-06-09T09:07:41.639Z"
   },
   {
    "duration": 2026,
    "start_time": "2023-06-09T09:07:49.219Z"
   },
   {
    "duration": 5489,
    "start_time": "2023-06-09T09:07:51.247Z"
   },
   {
    "duration": 6,
    "start_time": "2023-06-09T09:07:56.737Z"
   },
   {
    "duration": 818,
    "start_time": "2023-06-09T09:07:56.746Z"
   },
   {
    "duration": 32,
    "start_time": "2023-06-09T09:07:57.566Z"
   },
   {
    "duration": 13,
    "start_time": "2023-06-09T09:07:57.600Z"
   },
   {
    "duration": 9,
    "start_time": "2023-06-09T09:07:57.615Z"
   },
   {
    "duration": 26,
    "start_time": "2023-06-09T09:07:57.626Z"
   },
   {
    "duration": 527,
    "start_time": "2023-06-09T09:07:57.654Z"
   },
   {
    "duration": 6,
    "start_time": "2023-06-09T09:07:58.184Z"
   },
   {
    "duration": 27,
    "start_time": "2023-06-09T09:07:58.192Z"
   },
   {
    "duration": 502,
    "start_time": "2023-06-09T09:07:58.222Z"
   },
   {
    "duration": 9225,
    "start_time": "2023-06-09T09:07:58.725Z"
   },
   {
    "duration": 0,
    "start_time": "2023-06-09T09:08:07.951Z"
   },
   {
    "duration": 0,
    "start_time": "2023-06-09T09:08:07.953Z"
   },
   {
    "duration": 0,
    "start_time": "2023-06-09T09:08:07.955Z"
   },
   {
    "duration": 0,
    "start_time": "2023-06-09T09:08:07.957Z"
   },
   {
    "duration": 0,
    "start_time": "2023-06-09T09:08:07.958Z"
   },
   {
    "duration": 0,
    "start_time": "2023-06-09T09:08:07.959Z"
   },
   {
    "duration": 0,
    "start_time": "2023-06-09T09:08:07.961Z"
   },
   {
    "duration": 0,
    "start_time": "2023-06-09T09:08:07.962Z"
   },
   {
    "duration": 0,
    "start_time": "2023-06-09T09:08:07.963Z"
   },
   {
    "duration": 1652,
    "start_time": "2023-06-09T09:09:17.866Z"
   },
   {
    "duration": 1418,
    "start_time": "2023-06-09T09:09:28.980Z"
   },
   {
    "duration": 1169,
    "start_time": "2023-06-09T09:09:53.317Z"
   },
   {
    "duration": 1379,
    "start_time": "2023-06-09T09:12:12.430Z"
   },
   {
    "duration": 1244,
    "start_time": "2023-06-09T09:13:34.763Z"
   },
   {
    "duration": 1361,
    "start_time": "2023-06-09T09:14:39.220Z"
   },
   {
    "duration": 1344,
    "start_time": "2023-06-09T09:14:48.380Z"
   },
   {
    "duration": 1582,
    "start_time": "2023-06-09T09:14:54.419Z"
   },
   {
    "duration": 1050,
    "start_time": "2023-06-09T09:15:38.054Z"
   },
   {
    "duration": 29,
    "start_time": "2023-06-09T09:15:51.091Z"
   },
   {
    "duration": 1151,
    "start_time": "2023-06-09T09:15:56.200Z"
   },
   {
    "duration": 665,
    "start_time": "2023-06-09T09:16:16.326Z"
   },
   {
    "duration": 1343,
    "start_time": "2023-06-09T09:24:46.399Z"
   },
   {
    "duration": 1481,
    "start_time": "2023-06-09T09:25:17.059Z"
   },
   {
    "duration": 467,
    "start_time": "2023-06-09T09:26:15.619Z"
   },
   {
    "duration": 5,
    "start_time": "2023-06-09T09:30:23.984Z"
   },
   {
    "duration": 1652,
    "start_time": "2023-06-09T09:30:56.942Z"
   },
   {
    "duration": 1265,
    "start_time": "2023-06-09T09:31:27.222Z"
   },
   {
    "duration": 473,
    "start_time": "2023-06-09T09:31:56.963Z"
   },
   {
    "duration": 754,
    "start_time": "2023-06-09T09:32:12.933Z"
   },
   {
    "duration": 1586,
    "start_time": "2023-06-09T09:33:11.519Z"
   },
   {
    "duration": 5,
    "start_time": "2023-06-09T09:36:16.263Z"
   },
   {
    "duration": 1516,
    "start_time": "2023-06-09T09:36:32.520Z"
   },
   {
    "duration": 1698,
    "start_time": "2023-06-09T09:40:20.867Z"
   },
   {
    "duration": 1608,
    "start_time": "2023-06-09T09:40:39.379Z"
   },
   {
    "duration": 4,
    "start_time": "2023-06-09T09:40:53.625Z"
   },
   {
    "duration": 812,
    "start_time": "2023-06-09T09:40:58.027Z"
   },
   {
    "duration": 435,
    "start_time": "2023-06-09T09:41:37.116Z"
   },
   {
    "duration": 535,
    "start_time": "2023-06-09T09:41:48.257Z"
   },
   {
    "duration": 485,
    "start_time": "2023-06-09T09:42:23.333Z"
   },
   {
    "duration": 758,
    "start_time": "2023-06-09T09:42:40.749Z"
   },
   {
    "duration": 464,
    "start_time": "2023-06-09T09:42:55.979Z"
   },
   {
    "duration": 2417,
    "start_time": "2023-06-09T09:43:52.771Z"
   },
   {
    "duration": 5846,
    "start_time": "2023-06-09T09:43:55.190Z"
   },
   {
    "duration": 7,
    "start_time": "2023-06-09T09:44:01.038Z"
   },
   {
    "duration": 864,
    "start_time": "2023-06-09T09:44:01.047Z"
   },
   {
    "duration": 49,
    "start_time": "2023-06-09T09:44:01.915Z"
   },
   {
    "duration": 29,
    "start_time": "2023-06-09T09:44:01.967Z"
   },
   {
    "duration": 98,
    "start_time": "2023-06-09T09:44:01.998Z"
   },
   {
    "duration": 36,
    "start_time": "2023-06-09T09:44:02.098Z"
   },
   {
    "duration": 550,
    "start_time": "2023-06-09T09:44:02.135Z"
   },
   {
    "duration": 4,
    "start_time": "2023-06-09T09:44:02.687Z"
   },
   {
    "duration": 6,
    "start_time": "2023-06-09T09:44:02.693Z"
   },
   {
    "duration": 517,
    "start_time": "2023-06-09T09:44:02.700Z"
   },
   {
    "duration": 1539,
    "start_time": "2023-06-09T09:44:03.219Z"
   },
   {
    "duration": 356,
    "start_time": "2023-06-09T09:44:04.760Z"
   },
   {
    "duration": 0,
    "start_time": "2023-06-09T09:44:05.117Z"
   },
   {
    "duration": 0,
    "start_time": "2023-06-09T09:44:05.119Z"
   },
   {
    "duration": 0,
    "start_time": "2023-06-09T09:44:05.120Z"
   },
   {
    "duration": 0,
    "start_time": "2023-06-09T09:44:05.121Z"
   },
   {
    "duration": 0,
    "start_time": "2023-06-09T09:44:05.122Z"
   },
   {
    "duration": 0,
    "start_time": "2023-06-09T09:44:05.123Z"
   },
   {
    "duration": 0,
    "start_time": "2023-06-09T09:44:05.124Z"
   },
   {
    "duration": 0,
    "start_time": "2023-06-09T09:44:05.125Z"
   },
   {
    "duration": 1840,
    "start_time": "2023-06-09T09:44:25.944Z"
   },
   {
    "duration": 4,
    "start_time": "2023-06-09T09:48:55.730Z"
   },
   {
    "duration": 4,
    "start_time": "2023-06-09T09:49:00.265Z"
   },
   {
    "duration": 61,
    "start_time": "2023-06-09T09:49:06.538Z"
   },
   {
    "duration": 45,
    "start_time": "2023-06-09T09:49:11.551Z"
   },
   {
    "duration": 5,
    "start_time": "2023-06-09T09:49:31.996Z"
   },
   {
    "duration": 5929,
    "start_time": "2023-06-09T09:52:09.324Z"
   },
   {
    "duration": 10,
    "start_time": "2023-06-09T09:53:24.462Z"
   },
   {
    "duration": 7,
    "start_time": "2023-06-09T09:53:35.767Z"
   },
   {
    "duration": 2193,
    "start_time": "2023-06-09T10:01:16.896Z"
   },
   {
    "duration": 5182,
    "start_time": "2023-06-09T10:01:19.092Z"
   },
   {
    "duration": 6,
    "start_time": "2023-06-09T10:01:24.276Z"
   },
   {
    "duration": 786,
    "start_time": "2023-06-09T10:01:24.284Z"
   },
   {
    "duration": 32,
    "start_time": "2023-06-09T10:01:25.072Z"
   },
   {
    "duration": 13,
    "start_time": "2023-06-09T10:01:25.106Z"
   },
   {
    "duration": 12,
    "start_time": "2023-06-09T10:01:25.120Z"
   },
   {
    "duration": 18,
    "start_time": "2023-06-09T10:01:25.133Z"
   },
   {
    "duration": 4533,
    "start_time": "2023-06-09T10:01:25.152Z"
   },
   {
    "duration": 0,
    "start_time": "2023-06-09T10:01:29.687Z"
   },
   {
    "duration": 0,
    "start_time": "2023-06-09T10:01:29.689Z"
   },
   {
    "duration": 0,
    "start_time": "2023-06-09T10:01:29.690Z"
   },
   {
    "duration": 0,
    "start_time": "2023-06-09T10:01:29.691Z"
   },
   {
    "duration": 0,
    "start_time": "2023-06-09T10:01:29.693Z"
   },
   {
    "duration": 0,
    "start_time": "2023-06-09T10:01:29.694Z"
   },
   {
    "duration": 0,
    "start_time": "2023-06-09T10:01:29.696Z"
   },
   {
    "duration": 0,
    "start_time": "2023-06-09T10:01:29.698Z"
   },
   {
    "duration": 0,
    "start_time": "2023-06-09T10:01:29.699Z"
   },
   {
    "duration": 2233,
    "start_time": "2023-06-09T10:02:39.218Z"
   },
   {
    "duration": 5269,
    "start_time": "2023-06-09T10:02:41.455Z"
   },
   {
    "duration": 6,
    "start_time": "2023-06-09T10:02:46.726Z"
   },
   {
    "duration": 820,
    "start_time": "2023-06-09T10:02:46.733Z"
   },
   {
    "duration": 33,
    "start_time": "2023-06-09T10:02:47.555Z"
   },
   {
    "duration": 12,
    "start_time": "2023-06-09T10:02:47.591Z"
   },
   {
    "duration": 7,
    "start_time": "2023-06-09T10:02:47.605Z"
   },
   {
    "duration": 5,
    "start_time": "2023-06-09T10:02:47.613Z"
   },
   {
    "duration": 159501,
    "start_time": "2023-06-09T10:02:47.620Z"
   },
   {
    "duration": 0,
    "start_time": "2023-06-09T10:05:27.124Z"
   },
   {
    "duration": 0,
    "start_time": "2023-06-09T10:05:27.126Z"
   },
   {
    "duration": 0,
    "start_time": "2023-06-09T10:05:27.127Z"
   },
   {
    "duration": 0,
    "start_time": "2023-06-09T10:05:27.128Z"
   },
   {
    "duration": 0,
    "start_time": "2023-06-09T10:05:27.129Z"
   },
   {
    "duration": 0,
    "start_time": "2023-06-09T10:05:27.131Z"
   },
   {
    "duration": 0,
    "start_time": "2023-06-09T10:05:27.132Z"
   },
   {
    "duration": 0,
    "start_time": "2023-06-09T10:05:27.133Z"
   },
   {
    "duration": 0,
    "start_time": "2023-06-09T10:05:27.134Z"
   },
   {
    "duration": 2078,
    "start_time": "2023-06-09T10:05:40.278Z"
   },
   {
    "duration": 6615,
    "start_time": "2023-06-09T10:05:42.359Z"
   },
   {
    "duration": 6,
    "start_time": "2023-06-09T10:05:48.976Z"
   },
   {
    "duration": 1486,
    "start_time": "2023-06-09T10:05:48.984Z"
   },
   {
    "duration": 36,
    "start_time": "2023-06-09T10:05:50.472Z"
   },
   {
    "duration": 15,
    "start_time": "2023-06-09T10:05:50.510Z"
   },
   {
    "duration": 13,
    "start_time": "2023-06-09T10:05:50.527Z"
   },
   {
    "duration": 31,
    "start_time": "2023-06-09T10:05:50.541Z"
   },
   {
    "duration": 122154,
    "start_time": "2023-06-09T10:05:50.574Z"
   },
   {
    "duration": 0,
    "start_time": "2023-06-09T10:07:52.732Z"
   },
   {
    "duration": 0,
    "start_time": "2023-06-09T10:07:52.734Z"
   },
   {
    "duration": 0,
    "start_time": "2023-06-09T10:07:52.735Z"
   },
   {
    "duration": 0,
    "start_time": "2023-06-09T10:07:52.737Z"
   },
   {
    "duration": 0,
    "start_time": "2023-06-09T10:07:52.738Z"
   },
   {
    "duration": 0,
    "start_time": "2023-06-09T10:07:52.739Z"
   },
   {
    "duration": 0,
    "start_time": "2023-06-09T10:07:52.740Z"
   },
   {
    "duration": 0,
    "start_time": "2023-06-09T10:07:52.742Z"
   },
   {
    "duration": 0,
    "start_time": "2023-06-09T10:07:52.743Z"
   },
   {
    "duration": 6,
    "start_time": "2023-06-09T10:12:28.511Z"
   },
   {
    "duration": 2681,
    "start_time": "2023-06-09T10:13:49.076Z"
   },
   {
    "duration": 4970,
    "start_time": "2023-06-09T10:13:51.760Z"
   },
   {
    "duration": 6,
    "start_time": "2023-06-09T10:13:56.732Z"
   },
   {
    "duration": 831,
    "start_time": "2023-06-09T10:13:56.739Z"
   },
   {
    "duration": 32,
    "start_time": "2023-06-09T10:13:57.572Z"
   },
   {
    "duration": 13,
    "start_time": "2023-06-09T10:13:57.606Z"
   },
   {
    "duration": 8,
    "start_time": "2023-06-09T10:13:57.621Z"
   },
   {
    "duration": 25,
    "start_time": "2023-06-09T10:13:57.630Z"
   },
   {
    "duration": 6,
    "start_time": "2023-06-09T10:13:57.657Z"
   },
   {
    "duration": 4560,
    "start_time": "2023-06-09T10:13:57.665Z"
   },
   {
    "duration": 0,
    "start_time": "2023-06-09T10:14:02.228Z"
   },
   {
    "duration": 0,
    "start_time": "2023-06-09T10:14:02.230Z"
   },
   {
    "duration": 0,
    "start_time": "2023-06-09T10:14:02.231Z"
   },
   {
    "duration": 0,
    "start_time": "2023-06-09T10:14:02.233Z"
   },
   {
    "duration": 0,
    "start_time": "2023-06-09T10:14:02.234Z"
   },
   {
    "duration": 0,
    "start_time": "2023-06-09T10:14:02.235Z"
   },
   {
    "duration": 0,
    "start_time": "2023-06-09T10:14:02.236Z"
   },
   {
    "duration": 0,
    "start_time": "2023-06-09T10:14:02.250Z"
   },
   {
    "duration": 0,
    "start_time": "2023-06-09T10:14:02.251Z"
   },
   {
    "duration": 645,
    "start_time": "2023-06-09T10:14:56.447Z"
   },
   {
    "duration": 2049,
    "start_time": "2023-06-09T10:15:08.943Z"
   },
   {
    "duration": 5346,
    "start_time": "2023-06-09T10:15:10.994Z"
   },
   {
    "duration": 6,
    "start_time": "2023-06-09T10:15:16.342Z"
   },
   {
    "duration": 785,
    "start_time": "2023-06-09T10:15:16.350Z"
   },
   {
    "duration": 40,
    "start_time": "2023-06-09T10:15:17.137Z"
   },
   {
    "duration": 13,
    "start_time": "2023-06-09T10:15:17.178Z"
   },
   {
    "duration": 8,
    "start_time": "2023-06-09T10:15:17.193Z"
   },
   {
    "duration": 7,
    "start_time": "2023-06-09T10:15:17.203Z"
   },
   {
    "duration": 17,
    "start_time": "2023-06-09T10:15:17.212Z"
   },
   {
    "duration": 949011,
    "start_time": "2023-06-09T10:15:17.231Z"
   },
   {
    "duration": 0,
    "start_time": "2023-06-09T10:31:06.244Z"
   },
   {
    "duration": 0,
    "start_time": "2023-06-09T10:31:06.250Z"
   },
   {
    "duration": 0,
    "start_time": "2023-06-09T10:31:06.252Z"
   },
   {
    "duration": 0,
    "start_time": "2023-06-09T10:31:06.253Z"
   },
   {
    "duration": 0,
    "start_time": "2023-06-09T10:31:06.255Z"
   },
   {
    "duration": 0,
    "start_time": "2023-06-09T10:31:06.256Z"
   },
   {
    "duration": 0,
    "start_time": "2023-06-09T10:31:06.257Z"
   },
   {
    "duration": 0,
    "start_time": "2023-06-09T10:31:06.259Z"
   },
   {
    "duration": 0,
    "start_time": "2023-06-09T10:31:06.259Z"
   },
   {
    "duration": 2092,
    "start_time": "2023-06-09T10:32:57.311Z"
   },
   {
    "duration": 6693,
    "start_time": "2023-06-09T10:32:59.406Z"
   },
   {
    "duration": 6,
    "start_time": "2023-06-09T10:33:06.101Z"
   },
   {
    "duration": 796,
    "start_time": "2023-06-09T10:33:06.110Z"
   },
   {
    "duration": 48,
    "start_time": "2023-06-09T10:33:06.908Z"
   },
   {
    "duration": 14,
    "start_time": "2023-06-09T10:33:06.958Z"
   },
   {
    "duration": 7,
    "start_time": "2023-06-09T10:33:06.974Z"
   },
   {
    "duration": 6,
    "start_time": "2023-06-09T10:33:06.983Z"
   },
   {
    "duration": 9,
    "start_time": "2023-06-09T10:33:06.991Z"
   },
   {
    "duration": 834,
    "start_time": "2023-06-09T10:33:07.002Z"
   },
   {
    "duration": 0,
    "start_time": "2023-06-09T10:33:07.838Z"
   },
   {
    "duration": 0,
    "start_time": "2023-06-09T10:33:07.839Z"
   },
   {
    "duration": 0,
    "start_time": "2023-06-09T10:33:07.841Z"
   },
   {
    "duration": 0,
    "start_time": "2023-06-09T10:33:07.842Z"
   },
   {
    "duration": 0,
    "start_time": "2023-06-09T10:33:07.850Z"
   },
   {
    "duration": 0,
    "start_time": "2023-06-09T10:33:07.852Z"
   },
   {
    "duration": 0,
    "start_time": "2023-06-09T10:33:07.853Z"
   },
   {
    "duration": 0,
    "start_time": "2023-06-09T10:33:07.855Z"
   },
   {
    "duration": 0,
    "start_time": "2023-06-09T10:33:07.856Z"
   },
   {
    "duration": 2096,
    "start_time": "2023-06-09T10:33:23.030Z"
   },
   {
    "duration": 2516,
    "start_time": "2023-06-09T10:33:25.128Z"
   },
   {
    "duration": 0,
    "start_time": "2023-06-09T10:33:27.646Z"
   },
   {
    "duration": 0,
    "start_time": "2023-06-09T10:33:27.647Z"
   },
   {
    "duration": 0,
    "start_time": "2023-06-09T10:33:27.649Z"
   },
   {
    "duration": 0,
    "start_time": "2023-06-09T10:33:27.650Z"
   },
   {
    "duration": 0,
    "start_time": "2023-06-09T10:33:27.652Z"
   },
   {
    "duration": 0,
    "start_time": "2023-06-09T10:33:27.653Z"
   },
   {
    "duration": 0,
    "start_time": "2023-06-09T10:33:27.655Z"
   },
   {
    "duration": 0,
    "start_time": "2023-06-09T10:33:27.656Z"
   },
   {
    "duration": 0,
    "start_time": "2023-06-09T10:33:27.659Z"
   },
   {
    "duration": 0,
    "start_time": "2023-06-09T10:33:27.660Z"
   },
   {
    "duration": 0,
    "start_time": "2023-06-09T10:33:27.661Z"
   },
   {
    "duration": 0,
    "start_time": "2023-06-09T10:33:27.662Z"
   },
   {
    "duration": 0,
    "start_time": "2023-06-09T10:33:27.663Z"
   },
   {
    "duration": 0,
    "start_time": "2023-06-09T10:33:27.664Z"
   },
   {
    "duration": 0,
    "start_time": "2023-06-09T10:33:27.666Z"
   },
   {
    "duration": 0,
    "start_time": "2023-06-09T10:33:27.667Z"
   },
   {
    "duration": 0,
    "start_time": "2023-06-09T10:33:27.668Z"
   },
   {
    "duration": 2015,
    "start_time": "2023-06-09T10:33:56.503Z"
   },
   {
    "duration": 4577,
    "start_time": "2023-06-09T10:33:58.521Z"
   },
   {
    "duration": 6,
    "start_time": "2023-06-09T10:34:03.153Z"
   },
   {
    "duration": 1620,
    "start_time": "2023-06-09T10:34:03.161Z"
   },
   {
    "duration": 67,
    "start_time": "2023-06-09T10:34:04.783Z"
   },
   {
    "duration": 14,
    "start_time": "2023-06-09T10:34:04.852Z"
   },
   {
    "duration": 21,
    "start_time": "2023-06-09T10:34:04.868Z"
   },
   {
    "duration": 6,
    "start_time": "2023-06-09T10:34:04.891Z"
   },
   {
    "duration": 7,
    "start_time": "2023-06-09T10:34:04.899Z"
   },
   {
    "duration": 934309,
    "start_time": "2023-06-09T10:34:04.907Z"
   },
   {
    "duration": 344,
    "start_time": "2023-06-09T10:49:39.218Z"
   },
   {
    "duration": 0,
    "start_time": "2023-06-09T10:49:39.564Z"
   },
   {
    "duration": 0,
    "start_time": "2023-06-09T10:49:39.566Z"
   },
   {
    "duration": 0,
    "start_time": "2023-06-09T10:49:39.567Z"
   },
   {
    "duration": 0,
    "start_time": "2023-06-09T10:49:39.568Z"
   },
   {
    "duration": 0,
    "start_time": "2023-06-09T10:49:39.569Z"
   },
   {
    "duration": 0,
    "start_time": "2023-06-09T10:49:39.571Z"
   },
   {
    "duration": 0,
    "start_time": "2023-06-09T10:49:39.572Z"
   },
   {
    "duration": 0,
    "start_time": "2023-06-09T10:49:39.573Z"
   },
   {
    "duration": 25,
    "start_time": "2023-06-09T10:51:47.291Z"
   },
   {
    "duration": 7,
    "start_time": "2023-06-09T10:51:53.374Z"
   },
   {
    "duration": 6,
    "start_time": "2023-06-09T10:51:57.263Z"
   },
   {
    "duration": 6,
    "start_time": "2023-06-09T10:52:10.460Z"
   },
   {
    "duration": 5,
    "start_time": "2023-06-09T10:52:38.980Z"
   },
   {
    "duration": 4,
    "start_time": "2023-06-09T10:54:10.354Z"
   },
   {
    "duration": 5,
    "start_time": "2023-06-09T10:54:29.052Z"
   },
   {
    "duration": 7,
    "start_time": "2023-06-09T10:54:44.030Z"
   },
   {
    "duration": 6,
    "start_time": "2023-06-09T10:54:52.796Z"
   },
   {
    "duration": 2118,
    "start_time": "2023-06-09T10:58:05.119Z"
   },
   {
    "duration": 4697,
    "start_time": "2023-06-09T10:58:07.239Z"
   },
   {
    "duration": 6,
    "start_time": "2023-06-09T10:58:11.939Z"
   },
   {
    "duration": 819,
    "start_time": "2023-06-09T10:58:11.947Z"
   },
   {
    "duration": 36,
    "start_time": "2023-06-09T10:58:12.768Z"
   },
   {
    "duration": 14,
    "start_time": "2023-06-09T10:58:12.806Z"
   },
   {
    "duration": 6,
    "start_time": "2023-06-09T10:58:12.821Z"
   },
   {
    "duration": 8,
    "start_time": "2023-06-09T10:58:12.850Z"
   },
   {
    "duration": 6,
    "start_time": "2023-06-09T10:58:12.860Z"
   },
   {
    "duration": 1255,
    "start_time": "2023-06-09T10:58:12.870Z"
   },
   {
    "duration": 4,
    "start_time": "2023-06-09T10:58:14.127Z"
   },
   {
    "duration": 7,
    "start_time": "2023-06-09T10:58:14.132Z"
   },
   {
    "duration": 8,
    "start_time": "2023-06-09T10:58:14.141Z"
   },
   {
    "duration": 5,
    "start_time": "2023-06-09T10:58:14.151Z"
   },
   {
    "duration": 36,
    "start_time": "2023-06-09T10:58:14.158Z"
   },
   {
    "duration": 0,
    "start_time": "2023-06-09T10:58:14.196Z"
   },
   {
    "duration": 0,
    "start_time": "2023-06-09T10:58:14.197Z"
   },
   {
    "duration": 0,
    "start_time": "2023-06-09T10:58:14.200Z"
   },
   {
    "duration": 0,
    "start_time": "2023-06-09T10:58:14.202Z"
   },
   {
    "duration": 0,
    "start_time": "2023-06-09T10:58:14.204Z"
   },
   {
    "duration": 0,
    "start_time": "2023-06-09T10:58:14.206Z"
   },
   {
    "duration": 0,
    "start_time": "2023-06-09T10:58:14.207Z"
   },
   {
    "duration": 0,
    "start_time": "2023-06-09T10:58:14.208Z"
   },
   {
    "duration": 2188,
    "start_time": "2023-06-09T10:58:54.153Z"
   },
   {
    "duration": 5859,
    "start_time": "2023-06-09T10:58:56.343Z"
   },
   {
    "duration": 8,
    "start_time": "2023-06-09T10:59:02.204Z"
   },
   {
    "duration": 888,
    "start_time": "2023-06-09T10:59:02.215Z"
   },
   {
    "duration": 32,
    "start_time": "2023-06-09T10:59:03.105Z"
   },
   {
    "duration": 13,
    "start_time": "2023-06-09T10:59:03.151Z"
   },
   {
    "duration": 10,
    "start_time": "2023-06-09T10:59:03.167Z"
   },
   {
    "duration": 14,
    "start_time": "2023-06-09T10:59:03.180Z"
   },
   {
    "duration": 31,
    "start_time": "2023-06-09T10:59:03.196Z"
   },
   {
    "duration": 1262,
    "start_time": "2023-06-09T10:59:03.229Z"
   },
   {
    "duration": 3,
    "start_time": "2023-06-09T10:59:04.493Z"
   },
   {
    "duration": 11,
    "start_time": "2023-06-09T10:59:04.498Z"
   },
   {
    "duration": 9,
    "start_time": "2023-06-09T10:59:04.510Z"
   },
   {
    "duration": 13,
    "start_time": "2023-06-09T10:59:04.521Z"
   },
   {
    "duration": 25,
    "start_time": "2023-06-09T10:59:04.536Z"
   },
   {
    "duration": 0,
    "start_time": "2023-06-09T10:59:04.563Z"
   },
   {
    "duration": 0,
    "start_time": "2023-06-09T10:59:04.565Z"
   },
   {
    "duration": 0,
    "start_time": "2023-06-09T10:59:04.566Z"
   },
   {
    "duration": 0,
    "start_time": "2023-06-09T10:59:04.567Z"
   },
   {
    "duration": 0,
    "start_time": "2023-06-09T10:59:04.568Z"
   },
   {
    "duration": 0,
    "start_time": "2023-06-09T10:59:04.569Z"
   },
   {
    "duration": 0,
    "start_time": "2023-06-09T10:59:04.570Z"
   },
   {
    "duration": 0,
    "start_time": "2023-06-09T10:59:04.572Z"
   },
   {
    "duration": 2078,
    "start_time": "2023-06-09T11:11:40.732Z"
   },
   {
    "duration": 5476,
    "start_time": "2023-06-09T11:11:42.812Z"
   },
   {
    "duration": 8,
    "start_time": "2023-06-09T11:11:48.290Z"
   },
   {
    "duration": 764,
    "start_time": "2023-06-09T11:11:48.300Z"
   },
   {
    "duration": 30,
    "start_time": "2023-06-09T11:11:49.066Z"
   },
   {
    "duration": 20,
    "start_time": "2023-06-09T11:11:49.097Z"
   },
   {
    "duration": 29,
    "start_time": "2023-06-09T11:11:49.119Z"
   },
   {
    "duration": 13,
    "start_time": "2023-06-09T11:11:49.149Z"
   },
   {
    "duration": 15,
    "start_time": "2023-06-09T11:11:49.164Z"
   },
   {
    "duration": 2022,
    "start_time": "2023-06-09T11:11:49.181Z"
   },
   {
    "duration": 2,
    "start_time": "2023-06-09T11:11:51.205Z"
   },
   {
    "duration": 10,
    "start_time": "2023-06-09T11:11:51.209Z"
   },
   {
    "duration": 16,
    "start_time": "2023-06-09T11:11:51.221Z"
   },
   {
    "duration": 34,
    "start_time": "2023-06-09T11:11:51.239Z"
   },
   {
    "duration": 21,
    "start_time": "2023-06-09T11:11:51.275Z"
   },
   {
    "duration": 0,
    "start_time": "2023-06-09T11:11:51.297Z"
   },
   {
    "duration": 0,
    "start_time": "2023-06-09T11:11:51.299Z"
   },
   {
    "duration": 0,
    "start_time": "2023-06-09T11:11:51.300Z"
   },
   {
    "duration": 0,
    "start_time": "2023-06-09T11:11:51.301Z"
   },
   {
    "duration": 0,
    "start_time": "2023-06-09T11:11:51.302Z"
   },
   {
    "duration": 0,
    "start_time": "2023-06-09T11:11:51.303Z"
   },
   {
    "duration": 0,
    "start_time": "2023-06-09T11:11:51.304Z"
   },
   {
    "duration": 0,
    "start_time": "2023-06-09T11:11:51.305Z"
   },
   {
    "duration": 6,
    "start_time": "2023-06-09T11:14:40.703Z"
   },
   {
    "duration": 19,
    "start_time": "2023-06-09T11:15:10.794Z"
   },
   {
    "duration": 10,
    "start_time": "2023-06-09T11:15:13.992Z"
   },
   {
    "duration": 2064,
    "start_time": "2023-06-09T11:17:09.521Z"
   },
   {
    "duration": 5084,
    "start_time": "2023-06-09T11:17:11.587Z"
   },
   {
    "duration": 5,
    "start_time": "2023-06-09T11:17:16.673Z"
   },
   {
    "duration": 785,
    "start_time": "2023-06-09T11:17:16.681Z"
   },
   {
    "duration": 31,
    "start_time": "2023-06-09T11:17:17.468Z"
   },
   {
    "duration": 12,
    "start_time": "2023-06-09T11:17:17.501Z"
   },
   {
    "duration": 7,
    "start_time": "2023-06-09T11:17:17.515Z"
   },
   {
    "duration": 32,
    "start_time": "2023-06-09T11:17:17.523Z"
   },
   {
    "duration": 3,
    "start_time": "2023-06-09T11:17:17.557Z"
   },
   {
    "duration": 8,
    "start_time": "2023-06-09T11:17:17.562Z"
   },
   {
    "duration": 8,
    "start_time": "2023-06-09T11:17:17.571Z"
   },
   {
    "duration": 1135,
    "start_time": "2023-06-09T11:17:17.580Z"
   },
   {
    "duration": 2,
    "start_time": "2023-06-09T11:17:18.717Z"
   },
   {
    "duration": 5,
    "start_time": "2023-06-09T11:17:18.721Z"
   },
   {
    "duration": 4,
    "start_time": "2023-06-09T11:17:18.727Z"
   },
   {
    "duration": 4,
    "start_time": "2023-06-09T11:17:18.733Z"
   },
   {
    "duration": 23,
    "start_time": "2023-06-09T11:17:18.738Z"
   },
   {
    "duration": 0,
    "start_time": "2023-06-09T11:17:18.762Z"
   },
   {
    "duration": 0,
    "start_time": "2023-06-09T11:17:18.764Z"
   },
   {
    "duration": 0,
    "start_time": "2023-06-09T11:17:18.765Z"
   },
   {
    "duration": 0,
    "start_time": "2023-06-09T11:17:18.766Z"
   },
   {
    "duration": 0,
    "start_time": "2023-06-09T11:17:18.767Z"
   },
   {
    "duration": 0,
    "start_time": "2023-06-09T11:17:18.768Z"
   },
   {
    "duration": 0,
    "start_time": "2023-06-09T11:17:18.769Z"
   },
   {
    "duration": 0,
    "start_time": "2023-06-09T11:17:18.770Z"
   },
   {
    "duration": 2493,
    "start_time": "2023-06-09T11:21:10.769Z"
   },
   {
    "duration": 5620,
    "start_time": "2023-06-09T11:21:13.265Z"
   },
   {
    "duration": 8,
    "start_time": "2023-06-09T11:21:18.889Z"
   },
   {
    "duration": 800,
    "start_time": "2023-06-09T11:21:18.900Z"
   },
   {
    "duration": 31,
    "start_time": "2023-06-09T11:21:19.702Z"
   },
   {
    "duration": 32,
    "start_time": "2023-06-09T11:21:19.735Z"
   },
   {
    "duration": 9,
    "start_time": "2023-06-09T11:21:19.770Z"
   },
   {
    "duration": 15,
    "start_time": "2023-06-09T11:21:19.781Z"
   },
   {
    "duration": 7,
    "start_time": "2023-06-09T11:21:19.798Z"
   },
   {
    "duration": 5,
    "start_time": "2023-06-09T11:21:19.806Z"
   },
   {
    "duration": 9,
    "start_time": "2023-06-09T11:21:19.813Z"
   },
   {
    "duration": 1248,
    "start_time": "2023-06-09T11:21:19.824Z"
   },
   {
    "duration": 2,
    "start_time": "2023-06-09T11:21:21.075Z"
   },
   {
    "duration": 30,
    "start_time": "2023-06-09T11:21:21.079Z"
   },
   {
    "duration": 18,
    "start_time": "2023-06-09T11:21:21.111Z"
   },
   {
    "duration": 18,
    "start_time": "2023-06-09T11:21:21.131Z"
   },
   {
    "duration": 41,
    "start_time": "2023-06-09T11:21:21.152Z"
   },
   {
    "duration": 0,
    "start_time": "2023-06-09T11:21:21.194Z"
   },
   {
    "duration": 0,
    "start_time": "2023-06-09T11:21:21.196Z"
   },
   {
    "duration": 0,
    "start_time": "2023-06-09T11:21:21.197Z"
   },
   {
    "duration": 0,
    "start_time": "2023-06-09T11:21:21.198Z"
   },
   {
    "duration": 0,
    "start_time": "2023-06-09T11:21:21.199Z"
   },
   {
    "duration": 0,
    "start_time": "2023-06-09T11:21:21.200Z"
   },
   {
    "duration": 0,
    "start_time": "2023-06-09T11:21:21.201Z"
   },
   {
    "duration": 0,
    "start_time": "2023-06-09T11:21:21.202Z"
   },
   {
    "duration": 807,
    "start_time": "2023-06-09T11:21:52.087Z"
   },
   {
    "duration": 774,
    "start_time": "2023-06-09T11:22:11.791Z"
   },
   {
    "duration": 2112,
    "start_time": "2023-06-09T11:22:56.273Z"
   },
   {
    "duration": 5893,
    "start_time": "2023-06-09T11:22:58.387Z"
   },
   {
    "duration": 8,
    "start_time": "2023-06-09T11:23:04.282Z"
   },
   {
    "duration": 808,
    "start_time": "2023-06-09T11:23:04.292Z"
   },
   {
    "duration": 31,
    "start_time": "2023-06-09T11:23:05.102Z"
   },
   {
    "duration": 31,
    "start_time": "2023-06-09T11:23:05.135Z"
   },
   {
    "duration": 17,
    "start_time": "2023-06-09T11:23:05.168Z"
   },
   {
    "duration": 40,
    "start_time": "2023-06-09T11:23:05.187Z"
   },
   {
    "duration": 13,
    "start_time": "2023-06-09T11:23:05.229Z"
   },
   {
    "duration": 23,
    "start_time": "2023-06-09T11:23:05.243Z"
   },
   {
    "duration": 18,
    "start_time": "2023-06-09T11:23:05.268Z"
   },
   {
    "duration": 1077,
    "start_time": "2023-06-09T11:23:05.288Z"
   },
   {
    "duration": 4,
    "start_time": "2023-06-09T11:23:06.367Z"
   },
   {
    "duration": 10,
    "start_time": "2023-06-09T11:23:06.374Z"
   },
   {
    "duration": 12,
    "start_time": "2023-06-09T11:23:06.386Z"
   },
   {
    "duration": 4,
    "start_time": "2023-06-09T11:23:06.400Z"
   },
   {
    "duration": 20,
    "start_time": "2023-06-09T11:23:06.405Z"
   },
   {
    "duration": 0,
    "start_time": "2023-06-09T11:23:06.426Z"
   },
   {
    "duration": 0,
    "start_time": "2023-06-09T11:23:06.427Z"
   },
   {
    "duration": 0,
    "start_time": "2023-06-09T11:23:06.428Z"
   },
   {
    "duration": 0,
    "start_time": "2023-06-09T11:23:06.429Z"
   },
   {
    "duration": 0,
    "start_time": "2023-06-09T11:23:06.430Z"
   },
   {
    "duration": 0,
    "start_time": "2023-06-09T11:23:06.432Z"
   },
   {
    "duration": 0,
    "start_time": "2023-06-09T11:23:06.450Z"
   },
   {
    "duration": 0,
    "start_time": "2023-06-09T11:23:06.452Z"
   },
   {
    "duration": 3256,
    "start_time": "2023-06-09T11:23:41.179Z"
   },
   {
    "duration": 4551,
    "start_time": "2023-06-09T11:23:44.438Z"
   },
   {
    "duration": 6,
    "start_time": "2023-06-09T11:23:48.991Z"
   },
   {
    "duration": 810,
    "start_time": "2023-06-09T11:23:48.999Z"
   },
   {
    "duration": 44,
    "start_time": "2023-06-09T11:23:49.810Z"
   },
   {
    "duration": 13,
    "start_time": "2023-06-09T11:23:49.856Z"
   },
   {
    "duration": 7,
    "start_time": "2023-06-09T11:23:49.872Z"
   },
   {
    "duration": 8,
    "start_time": "2023-06-09T11:23:49.880Z"
   },
   {
    "duration": 4,
    "start_time": "2023-06-09T11:23:49.889Z"
   },
   {
    "duration": 11,
    "start_time": "2023-06-09T11:23:49.895Z"
   },
   {
    "duration": 44,
    "start_time": "2023-06-09T11:23:49.907Z"
   },
   {
    "duration": 1012,
    "start_time": "2023-06-09T11:23:49.955Z"
   },
   {
    "duration": 3,
    "start_time": "2023-06-09T11:23:50.972Z"
   },
   {
    "duration": 6,
    "start_time": "2023-06-09T11:23:50.977Z"
   },
   {
    "duration": 4,
    "start_time": "2023-06-09T11:23:50.984Z"
   },
   {
    "duration": 4,
    "start_time": "2023-06-09T11:23:50.990Z"
   },
   {
    "duration": 22,
    "start_time": "2023-06-09T11:23:50.996Z"
   },
   {
    "duration": 0,
    "start_time": "2023-06-09T11:23:51.019Z"
   },
   {
    "duration": 0,
    "start_time": "2023-06-09T11:23:51.021Z"
   },
   {
    "duration": 0,
    "start_time": "2023-06-09T11:23:51.022Z"
   },
   {
    "duration": 0,
    "start_time": "2023-06-09T11:23:51.024Z"
   },
   {
    "duration": 0,
    "start_time": "2023-06-09T11:23:51.024Z"
   },
   {
    "duration": 1,
    "start_time": "2023-06-09T11:23:51.025Z"
   },
   {
    "duration": 0,
    "start_time": "2023-06-09T11:23:51.027Z"
   },
   {
    "duration": 0,
    "start_time": "2023-06-09T11:23:51.050Z"
   },
   {
    "duration": 4364,
    "start_time": "2023-06-09T12:40:12.320Z"
   },
   {
    "duration": 21492,
    "start_time": "2023-06-09T12:40:16.686Z"
   },
   {
    "duration": 5,
    "start_time": "2023-06-09T12:40:38.179Z"
   },
   {
    "duration": 3415,
    "start_time": "2023-06-09T12:40:38.186Z"
   },
   {
    "duration": 31,
    "start_time": "2023-06-09T12:40:41.603Z"
   },
   {
    "duration": 26,
    "start_time": "2023-06-09T12:40:41.636Z"
   },
   {
    "duration": 16,
    "start_time": "2023-06-09T12:40:41.664Z"
   },
   {
    "duration": 21,
    "start_time": "2023-06-09T12:40:41.682Z"
   },
   {
    "duration": 4,
    "start_time": "2023-06-09T12:40:41.705Z"
   },
   {
    "duration": 5,
    "start_time": "2023-06-09T12:40:41.712Z"
   },
   {
    "duration": 9,
    "start_time": "2023-06-09T12:40:41.719Z"
   },
   {
    "duration": 1235,
    "start_time": "2023-06-09T12:40:41.730Z"
   },
   {
    "duration": 3,
    "start_time": "2023-06-09T12:40:42.967Z"
   },
   {
    "duration": 6,
    "start_time": "2023-06-09T12:40:42.972Z"
   },
   {
    "duration": 16,
    "start_time": "2023-06-09T12:40:42.979Z"
   },
   {
    "duration": 33,
    "start_time": "2023-06-09T12:40:42.998Z"
   },
   {
    "duration": 35,
    "start_time": "2023-06-09T12:40:43.033Z"
   },
   {
    "duration": 0,
    "start_time": "2023-06-09T12:40:43.071Z"
   },
   {
    "duration": 0,
    "start_time": "2023-06-09T12:40:43.073Z"
   },
   {
    "duration": 0,
    "start_time": "2023-06-09T12:40:43.075Z"
   },
   {
    "duration": 0,
    "start_time": "2023-06-09T12:40:43.076Z"
   },
   {
    "duration": 0,
    "start_time": "2023-06-09T12:40:43.078Z"
   },
   {
    "duration": 0,
    "start_time": "2023-06-09T12:40:43.079Z"
   },
   {
    "duration": 0,
    "start_time": "2023-06-09T12:40:43.081Z"
   },
   {
    "duration": 0,
    "start_time": "2023-06-09T12:40:43.082Z"
   },
   {
    "duration": 794,
    "start_time": "2023-06-09T12:41:03.479Z"
   },
   {
    "duration": 2147,
    "start_time": "2023-06-09T12:43:21.089Z"
   },
   {
    "duration": 4757,
    "start_time": "2023-06-09T12:43:23.238Z"
   },
   {
    "duration": 6,
    "start_time": "2023-06-09T12:43:27.997Z"
   },
   {
    "duration": 825,
    "start_time": "2023-06-09T12:43:28.005Z"
   },
   {
    "duration": 40,
    "start_time": "2023-06-09T12:43:28.831Z"
   },
   {
    "duration": 12,
    "start_time": "2023-06-09T12:43:28.873Z"
   },
   {
    "duration": 8,
    "start_time": "2023-06-09T12:43:28.887Z"
   },
   {
    "duration": 8,
    "start_time": "2023-06-09T12:43:28.896Z"
   },
   {
    "duration": 4,
    "start_time": "2023-06-09T12:43:28.906Z"
   },
   {
    "duration": 6,
    "start_time": "2023-06-09T12:43:28.912Z"
   },
   {
    "duration": 38,
    "start_time": "2023-06-09T12:43:28.920Z"
   },
   {
    "duration": 969,
    "start_time": "2023-06-09T12:43:28.959Z"
   },
   {
    "duration": 0,
    "start_time": "2023-06-09T12:43:29.930Z"
   },
   {
    "duration": 0,
    "start_time": "2023-06-09T12:43:29.931Z"
   },
   {
    "duration": 0,
    "start_time": "2023-06-09T12:43:29.932Z"
   },
   {
    "duration": 0,
    "start_time": "2023-06-09T12:43:29.933Z"
   },
   {
    "duration": 0,
    "start_time": "2023-06-09T12:43:29.934Z"
   },
   {
    "duration": 0,
    "start_time": "2023-06-09T12:43:29.935Z"
   },
   {
    "duration": 0,
    "start_time": "2023-06-09T12:43:29.936Z"
   },
   {
    "duration": 0,
    "start_time": "2023-06-09T12:43:29.937Z"
   },
   {
    "duration": 0,
    "start_time": "2023-06-09T12:43:29.938Z"
   },
   {
    "duration": 0,
    "start_time": "2023-06-09T12:43:29.951Z"
   },
   {
    "duration": 0,
    "start_time": "2023-06-09T12:43:29.952Z"
   },
   {
    "duration": 1,
    "start_time": "2023-06-09T12:43:29.955Z"
   },
   {
    "duration": 0,
    "start_time": "2023-06-09T12:43:29.962Z"
   },
   {
    "duration": 2504,
    "start_time": "2023-06-09T13:52:46.888Z"
   },
   {
    "duration": 23303,
    "start_time": "2023-06-09T13:52:49.395Z"
   },
   {
    "duration": 9,
    "start_time": "2023-06-09T13:53:12.704Z"
   },
   {
    "duration": 3739,
    "start_time": "2023-06-09T13:53:12.715Z"
   },
   {
    "duration": 36,
    "start_time": "2023-06-09T13:53:16.456Z"
   },
   {
    "duration": 19,
    "start_time": "2023-06-09T13:53:16.495Z"
   },
   {
    "duration": 20,
    "start_time": "2023-06-09T13:53:16.516Z"
   },
   {
    "duration": 20,
    "start_time": "2023-06-09T13:53:16.538Z"
   },
   {
    "duration": 6,
    "start_time": "2023-06-09T13:53:16.562Z"
   },
   {
    "duration": 10,
    "start_time": "2023-06-09T13:53:16.570Z"
   },
   {
    "duration": 45,
    "start_time": "2023-06-09T13:53:16.582Z"
   },
   {
    "duration": 729,
    "start_time": "2023-06-09T13:53:16.628Z"
   },
   {
    "duration": 48,
    "start_time": "2023-06-09T13:53:17.368Z"
   },
   {
    "duration": 0,
    "start_time": "2023-06-09T13:53:17.418Z"
   },
   {
    "duration": 0,
    "start_time": "2023-06-09T13:53:17.419Z"
   },
   {
    "duration": 0,
    "start_time": "2023-06-09T13:53:17.421Z"
   },
   {
    "duration": 0,
    "start_time": "2023-06-09T13:53:17.422Z"
   },
   {
    "duration": 0,
    "start_time": "2023-06-09T13:53:17.424Z"
   },
   {
    "duration": 0,
    "start_time": "2023-06-09T13:53:17.425Z"
   },
   {
    "duration": 0,
    "start_time": "2023-06-09T13:53:17.426Z"
   },
   {
    "duration": 0,
    "start_time": "2023-06-09T13:53:17.428Z"
   },
   {
    "duration": 0,
    "start_time": "2023-06-09T13:53:17.429Z"
   },
   {
    "duration": 0,
    "start_time": "2023-06-09T13:53:17.430Z"
   },
   {
    "duration": 0,
    "start_time": "2023-06-09T13:53:17.432Z"
   },
   {
    "duration": 0,
    "start_time": "2023-06-09T13:53:17.433Z"
   },
   {
    "duration": 0,
    "start_time": "2023-06-09T13:53:17.434Z"
   },
   {
    "duration": 507,
    "start_time": "2023-06-09T13:53:41.013Z"
   },
   {
    "duration": 819,
    "start_time": "2023-06-09T13:55:15.559Z"
   },
   {
    "duration": 787,
    "start_time": "2023-06-09T13:55:29.610Z"
   },
   {
    "duration": 2089,
    "start_time": "2023-06-09T13:56:11.173Z"
   },
   {
    "duration": 5577,
    "start_time": "2023-06-09T13:56:13.265Z"
   },
   {
    "duration": 6,
    "start_time": "2023-06-09T13:56:18.843Z"
   },
   {
    "duration": 803,
    "start_time": "2023-06-09T13:56:18.862Z"
   },
   {
    "duration": 33,
    "start_time": "2023-06-09T13:56:19.666Z"
   },
   {
    "duration": 14,
    "start_time": "2023-06-09T13:56:19.701Z"
   },
   {
    "duration": 20,
    "start_time": "2023-06-09T13:56:19.717Z"
   },
   {
    "duration": 27,
    "start_time": "2023-06-09T13:56:19.738Z"
   },
   {
    "duration": 4,
    "start_time": "2023-06-09T13:56:19.766Z"
   },
   {
    "duration": 13,
    "start_time": "2023-06-09T13:56:19.773Z"
   },
   {
    "duration": 16,
    "start_time": "2023-06-09T13:56:19.787Z"
   },
   {
    "duration": 23,
    "start_time": "2023-06-09T13:56:19.804Z"
   },
   {
    "duration": 346,
    "start_time": "2023-06-09T13:56:19.829Z"
   },
   {
    "duration": 0,
    "start_time": "2023-06-09T13:56:20.177Z"
   },
   {
    "duration": 0,
    "start_time": "2023-06-09T13:56:20.178Z"
   },
   {
    "duration": 0,
    "start_time": "2023-06-09T13:56:20.179Z"
   },
   {
    "duration": 0,
    "start_time": "2023-06-09T13:56:20.180Z"
   },
   {
    "duration": 0,
    "start_time": "2023-06-09T13:56:20.181Z"
   },
   {
    "duration": 0,
    "start_time": "2023-06-09T13:56:20.182Z"
   },
   {
    "duration": 0,
    "start_time": "2023-06-09T13:56:20.183Z"
   },
   {
    "duration": 0,
    "start_time": "2023-06-09T13:56:20.184Z"
   },
   {
    "duration": 0,
    "start_time": "2023-06-09T13:56:20.185Z"
   },
   {
    "duration": 0,
    "start_time": "2023-06-09T13:56:20.186Z"
   },
   {
    "duration": 0,
    "start_time": "2023-06-09T13:56:20.186Z"
   },
   {
    "duration": 0,
    "start_time": "2023-06-09T13:56:20.188Z"
   },
   {
    "duration": 0,
    "start_time": "2023-06-09T13:56:20.189Z"
   },
   {
    "duration": 0,
    "start_time": "2023-06-09T13:56:20.189Z"
   },
   {
    "duration": 20,
    "start_time": "2023-06-09T13:56:41.769Z"
   },
   {
    "duration": 823,
    "start_time": "2023-06-09T13:56:47.548Z"
   },
   {
    "duration": 900,
    "start_time": "2023-06-09T13:56:58.304Z"
   },
   {
    "duration": 908,
    "start_time": "2023-06-09T13:57:34.083Z"
   },
   {
    "duration": 5,
    "start_time": "2023-06-09T13:57:40.942Z"
   },
   {
    "duration": 797,
    "start_time": "2023-06-09T13:57:52.317Z"
   },
   {
    "duration": 5,
    "start_time": "2023-06-09T14:00:44.196Z"
   },
   {
    "duration": 855,
    "start_time": "2023-06-09T14:00:51.639Z"
   },
   {
    "duration": 2119,
    "start_time": "2023-06-09T14:01:11.471Z"
   },
   {
    "duration": 5604,
    "start_time": "2023-06-09T14:01:13.592Z"
   },
   {
    "duration": 6,
    "start_time": "2023-06-09T14:01:19.198Z"
   },
   {
    "duration": 837,
    "start_time": "2023-06-09T14:01:19.206Z"
   },
   {
    "duration": 39,
    "start_time": "2023-06-09T14:01:20.045Z"
   },
   {
    "duration": 14,
    "start_time": "2023-06-09T14:01:20.085Z"
   },
   {
    "duration": 14,
    "start_time": "2023-06-09T14:01:20.101Z"
   },
   {
    "duration": 23,
    "start_time": "2023-06-09T14:01:20.117Z"
   },
   {
    "duration": 9,
    "start_time": "2023-06-09T14:01:20.141Z"
   },
   {
    "duration": 14,
    "start_time": "2023-06-09T14:01:20.151Z"
   },
   {
    "duration": 12,
    "start_time": "2023-06-09T14:01:20.167Z"
   },
   {
    "duration": 16,
    "start_time": "2023-06-09T14:01:20.180Z"
   },
   {
    "duration": 1333,
    "start_time": "2023-06-09T14:01:20.198Z"
   },
   {
    "duration": 0,
    "start_time": "2023-06-09T14:01:21.534Z"
   },
   {
    "duration": 1,
    "start_time": "2023-06-09T14:01:21.535Z"
   },
   {
    "duration": 0,
    "start_time": "2023-06-09T14:01:21.537Z"
   },
   {
    "duration": 0,
    "start_time": "2023-06-09T14:01:21.538Z"
   },
   {
    "duration": 0,
    "start_time": "2023-06-09T14:01:21.555Z"
   },
   {
    "duration": 0,
    "start_time": "2023-06-09T14:01:21.563Z"
   },
   {
    "duration": 0,
    "start_time": "2023-06-09T14:01:21.564Z"
   },
   {
    "duration": 0,
    "start_time": "2023-06-09T14:01:21.566Z"
   },
   {
    "duration": 0,
    "start_time": "2023-06-09T14:01:21.567Z"
   },
   {
    "duration": 0,
    "start_time": "2023-06-09T14:01:21.568Z"
   },
   {
    "duration": 0,
    "start_time": "2023-06-09T14:01:21.570Z"
   },
   {
    "duration": 0,
    "start_time": "2023-06-09T14:01:21.571Z"
   },
   {
    "duration": 0,
    "start_time": "2023-06-09T14:01:21.572Z"
   },
   {
    "duration": 1,
    "start_time": "2023-06-09T14:01:21.573Z"
   },
   {
    "duration": 0,
    "start_time": "2023-06-09T14:01:21.575Z"
   },
   {
    "duration": 6,
    "start_time": "2023-06-09T14:03:12.761Z"
   },
   {
    "duration": 975,
    "start_time": "2023-06-09T14:03:17.509Z"
   },
   {
    "duration": 7,
    "start_time": "2023-06-09T14:03:30.035Z"
   },
   {
    "duration": 5,
    "start_time": "2023-06-09T14:05:21.005Z"
   },
   {
    "duration": 1048,
    "start_time": "2023-06-09T14:05:25.757Z"
   },
   {
    "duration": 2065,
    "start_time": "2023-06-09T14:06:03.031Z"
   },
   {
    "duration": 5291,
    "start_time": "2023-06-09T14:06:05.098Z"
   },
   {
    "duration": 6,
    "start_time": "2023-06-09T14:06:10.392Z"
   },
   {
    "duration": 822,
    "start_time": "2023-06-09T14:06:10.401Z"
   },
   {
    "duration": 41,
    "start_time": "2023-06-09T14:06:11.225Z"
   },
   {
    "duration": 15,
    "start_time": "2023-06-09T14:06:11.268Z"
   },
   {
    "duration": 11,
    "start_time": "2023-06-09T14:06:11.285Z"
   },
   {
    "duration": 9,
    "start_time": "2023-06-09T14:06:11.298Z"
   },
   {
    "duration": 4,
    "start_time": "2023-06-09T14:06:11.309Z"
   },
   {
    "duration": 35,
    "start_time": "2023-06-09T14:06:11.315Z"
   },
   {
    "duration": 14,
    "start_time": "2023-06-09T14:06:11.352Z"
   },
   {
    "duration": 5,
    "start_time": "2023-06-09T14:06:11.368Z"
   },
   {
    "duration": 1306,
    "start_time": "2023-06-09T14:06:11.375Z"
   },
   {
    "duration": 0,
    "start_time": "2023-06-09T14:06:12.683Z"
   },
   {
    "duration": 0,
    "start_time": "2023-06-09T14:06:12.685Z"
   },
   {
    "duration": 0,
    "start_time": "2023-06-09T14:06:12.686Z"
   },
   {
    "duration": 0,
    "start_time": "2023-06-09T14:06:12.687Z"
   },
   {
    "duration": 0,
    "start_time": "2023-06-09T14:06:12.688Z"
   },
   {
    "duration": 0,
    "start_time": "2023-06-09T14:06:12.689Z"
   },
   {
    "duration": 0,
    "start_time": "2023-06-09T14:06:12.690Z"
   },
   {
    "duration": 0,
    "start_time": "2023-06-09T14:06:12.692Z"
   },
   {
    "duration": 0,
    "start_time": "2023-06-09T14:06:12.692Z"
   },
   {
    "duration": 0,
    "start_time": "2023-06-09T14:06:12.694Z"
   },
   {
    "duration": 0,
    "start_time": "2023-06-09T14:06:12.695Z"
   },
   {
    "duration": 0,
    "start_time": "2023-06-09T14:06:12.696Z"
   },
   {
    "duration": 0,
    "start_time": "2023-06-09T14:06:12.697Z"
   },
   {
    "duration": 0,
    "start_time": "2023-06-09T14:06:12.698Z"
   },
   {
    "duration": 0,
    "start_time": "2023-06-09T14:06:12.699Z"
   },
   {
    "duration": 722,
    "start_time": "2023-06-09T14:06:44.360Z"
   },
   {
    "duration": 6,
    "start_time": "2023-06-09T14:06:58.289Z"
   },
   {
    "duration": 709,
    "start_time": "2023-06-09T14:07:00.575Z"
   },
   {
    "duration": 9,
    "start_time": "2023-06-09T14:08:14.330Z"
   },
   {
    "duration": 689,
    "start_time": "2023-06-09T14:08:20.794Z"
   },
   {
    "duration": 2006,
    "start_time": "2023-06-09T14:08:31.809Z"
   },
   {
    "duration": 5463,
    "start_time": "2023-06-09T14:08:33.818Z"
   },
   {
    "duration": 6,
    "start_time": "2023-06-09T14:08:39.283Z"
   },
   {
    "duration": 788,
    "start_time": "2023-06-09T14:08:39.291Z"
   },
   {
    "duration": 33,
    "start_time": "2023-06-09T14:08:40.081Z"
   },
   {
    "duration": 17,
    "start_time": "2023-06-09T14:08:40.116Z"
   },
   {
    "duration": 20,
    "start_time": "2023-06-09T14:08:40.135Z"
   },
   {
    "duration": 28,
    "start_time": "2023-06-09T14:08:40.157Z"
   },
   {
    "duration": 16,
    "start_time": "2023-06-09T14:08:40.187Z"
   },
   {
    "duration": 6,
    "start_time": "2023-06-09T14:08:40.205Z"
   },
   {
    "duration": 6,
    "start_time": "2023-06-09T14:08:40.213Z"
   },
   {
    "duration": 8,
    "start_time": "2023-06-09T14:08:40.221Z"
   },
   {
    "duration": 1000,
    "start_time": "2023-06-09T14:08:40.231Z"
   },
   {
    "duration": 0,
    "start_time": "2023-06-09T14:08:41.233Z"
   },
   {
    "duration": 0,
    "start_time": "2023-06-09T14:08:41.234Z"
   },
   {
    "duration": 0,
    "start_time": "2023-06-09T14:08:41.235Z"
   },
   {
    "duration": 0,
    "start_time": "2023-06-09T14:08:41.236Z"
   },
   {
    "duration": 0,
    "start_time": "2023-06-09T14:08:41.237Z"
   },
   {
    "duration": 0,
    "start_time": "2023-06-09T14:08:41.250Z"
   },
   {
    "duration": 0,
    "start_time": "2023-06-09T14:08:41.251Z"
   },
   {
    "duration": 0,
    "start_time": "2023-06-09T14:08:41.253Z"
   },
   {
    "duration": 0,
    "start_time": "2023-06-09T14:08:41.254Z"
   },
   {
    "duration": 0,
    "start_time": "2023-06-09T14:08:41.255Z"
   },
   {
    "duration": 0,
    "start_time": "2023-06-09T14:08:41.256Z"
   },
   {
    "duration": 0,
    "start_time": "2023-06-09T14:08:41.257Z"
   },
   {
    "duration": 0,
    "start_time": "2023-06-09T14:08:41.258Z"
   },
   {
    "duration": 0,
    "start_time": "2023-06-09T14:08:41.259Z"
   },
   {
    "duration": 0,
    "start_time": "2023-06-09T14:08:41.260Z"
   },
   {
    "duration": 8412,
    "start_time": "2023-06-09T14:09:55.304Z"
   },
   {
    "duration": 6,
    "start_time": "2023-06-09T14:12:44.371Z"
   },
   {
    "duration": 544,
    "start_time": "2023-06-09T14:12:48.876Z"
   },
   {
    "duration": 6,
    "start_time": "2023-06-09T14:14:33.551Z"
   },
   {
    "duration": 836,
    "start_time": "2023-06-09T14:14:36.402Z"
   },
   {
    "duration": 21,
    "start_time": "2023-06-09T14:15:50.829Z"
   },
   {
    "duration": 7,
    "start_time": "2023-06-09T14:15:55.711Z"
   },
   {
    "duration": 13,
    "start_time": "2023-06-09T14:16:37.576Z"
   },
   {
    "duration": 689,
    "start_time": "2023-06-09T14:16:55.048Z"
   },
   {
    "duration": 11,
    "start_time": "2023-06-09T14:17:52.066Z"
   },
   {
    "duration": 856,
    "start_time": "2023-06-09T14:17:58.365Z"
   },
   {
    "duration": 31,
    "start_time": "2023-06-09T14:18:45.708Z"
   },
   {
    "duration": 566,
    "start_time": "2023-06-09T14:18:54.740Z"
   },
   {
    "duration": 5,
    "start_time": "2023-06-09T14:18:59.524Z"
   },
   {
    "duration": 9835,
    "start_time": "2023-06-09T14:19:03.309Z"
   },
   {
    "duration": 2088,
    "start_time": "2023-06-09T14:20:00.127Z"
   },
   {
    "duration": 5595,
    "start_time": "2023-06-09T14:20:02.218Z"
   },
   {
    "duration": 5,
    "start_time": "2023-06-09T14:20:07.815Z"
   },
   {
    "duration": 874,
    "start_time": "2023-06-09T14:20:07.822Z"
   },
   {
    "duration": 33,
    "start_time": "2023-06-09T14:20:08.699Z"
   },
   {
    "duration": 37,
    "start_time": "2023-06-09T14:20:08.734Z"
   },
   {
    "duration": 34,
    "start_time": "2023-06-09T14:20:08.773Z"
   },
   {
    "duration": 18,
    "start_time": "2023-06-09T14:20:08.809Z"
   },
   {
    "duration": 28,
    "start_time": "2023-06-09T14:20:08.828Z"
   },
   {
    "duration": 6,
    "start_time": "2023-06-09T14:20:08.862Z"
   },
   {
    "duration": 36,
    "start_time": "2023-06-09T14:20:08.870Z"
   },
   {
    "duration": 29,
    "start_time": "2023-06-09T14:20:08.908Z"
   },
   {
    "duration": 10685,
    "start_time": "2023-06-09T14:20:08.939Z"
   },
   {
    "duration": 364,
    "start_time": "2023-06-09T14:20:19.628Z"
   },
   {
    "duration": 0,
    "start_time": "2023-06-09T14:20:19.994Z"
   },
   {
    "duration": 0,
    "start_time": "2023-06-09T14:20:19.995Z"
   },
   {
    "duration": 0,
    "start_time": "2023-06-09T14:20:19.995Z"
   },
   {
    "duration": 0,
    "start_time": "2023-06-09T14:20:19.997Z"
   },
   {
    "duration": 0,
    "start_time": "2023-06-09T14:20:19.998Z"
   },
   {
    "duration": 0,
    "start_time": "2023-06-09T14:20:19.998Z"
   },
   {
    "duration": 0,
    "start_time": "2023-06-09T14:20:19.999Z"
   },
   {
    "duration": 0,
    "start_time": "2023-06-09T14:20:20.000Z"
   },
   {
    "duration": 0,
    "start_time": "2023-06-09T14:20:20.001Z"
   },
   {
    "duration": 0,
    "start_time": "2023-06-09T14:20:20.002Z"
   },
   {
    "duration": 0,
    "start_time": "2023-06-09T14:20:20.004Z"
   },
   {
    "duration": 0,
    "start_time": "2023-06-09T14:20:20.005Z"
   },
   {
    "duration": 0,
    "start_time": "2023-06-09T14:20:20.006Z"
   },
   {
    "duration": 0,
    "start_time": "2023-06-09T14:20:20.008Z"
   },
   {
    "duration": 8093,
    "start_time": "2023-06-09T14:22:00.872Z"
   },
   {
    "duration": 2064,
    "start_time": "2023-06-09T14:24:18.009Z"
   },
   {
    "duration": 5614,
    "start_time": "2023-06-09T14:24:20.076Z"
   },
   {
    "duration": 5,
    "start_time": "2023-06-09T14:24:25.692Z"
   },
   {
    "duration": 855,
    "start_time": "2023-06-09T14:24:25.699Z"
   },
   {
    "duration": 36,
    "start_time": "2023-06-09T14:24:26.556Z"
   },
   {
    "duration": 14,
    "start_time": "2023-06-09T14:24:26.593Z"
   },
   {
    "duration": 10,
    "start_time": "2023-06-09T14:24:26.608Z"
   },
   {
    "duration": 35,
    "start_time": "2023-06-09T14:24:26.619Z"
   },
   {
    "duration": 4,
    "start_time": "2023-06-09T14:24:26.656Z"
   },
   {
    "duration": 15,
    "start_time": "2023-06-09T14:24:26.662Z"
   },
   {
    "duration": 8,
    "start_time": "2023-06-09T14:24:26.679Z"
   },
   {
    "duration": 7,
    "start_time": "2023-06-09T14:24:26.689Z"
   },
   {
    "duration": 12297,
    "start_time": "2023-06-09T14:24:26.698Z"
   },
   {
    "duration": 345,
    "start_time": "2023-06-09T14:24:38.999Z"
   },
   {
    "duration": 0,
    "start_time": "2023-06-09T14:24:39.346Z"
   },
   {
    "duration": 0,
    "start_time": "2023-06-09T14:24:39.347Z"
   },
   {
    "duration": 0,
    "start_time": "2023-06-09T14:24:39.350Z"
   },
   {
    "duration": 0,
    "start_time": "2023-06-09T14:24:39.352Z"
   },
   {
    "duration": 0,
    "start_time": "2023-06-09T14:24:39.353Z"
   },
   {
    "duration": 0,
    "start_time": "2023-06-09T14:24:39.354Z"
   },
   {
    "duration": 0,
    "start_time": "2023-06-09T14:24:39.355Z"
   },
   {
    "duration": 0,
    "start_time": "2023-06-09T14:24:39.356Z"
   },
   {
    "duration": 0,
    "start_time": "2023-06-09T14:24:39.357Z"
   },
   {
    "duration": 0,
    "start_time": "2023-06-09T14:24:39.358Z"
   },
   {
    "duration": 0,
    "start_time": "2023-06-09T14:24:39.359Z"
   },
   {
    "duration": 0,
    "start_time": "2023-06-09T14:24:39.360Z"
   },
   {
    "duration": 0,
    "start_time": "2023-06-09T14:24:39.362Z"
   },
   {
    "duration": 0,
    "start_time": "2023-06-09T14:24:39.363Z"
   },
   {
    "duration": 974,
    "start_time": "2023-06-09T14:25:16.571Z"
   },
   {
    "duration": 13,
    "start_time": "2023-06-09T14:25:26.263Z"
   },
   {
    "duration": 1559887,
    "start_time": "2023-06-09T14:27:39.965Z"
   },
   {
    "duration": 51,
    "start_time": "2023-06-09T15:00:28.993Z"
   },
   {
    "duration": 13,
    "start_time": "2023-06-09T15:02:24.064Z"
   },
   {
    "duration": 28,
    "start_time": "2023-06-09T15:02:44.426Z"
   },
   {
    "duration": 7,
    "start_time": "2023-06-09T15:02:52.327Z"
   },
   {
    "duration": 10,
    "start_time": "2023-06-09T15:03:58.215Z"
   },
   {
    "duration": 18,
    "start_time": "2023-06-09T15:04:35.133Z"
   },
   {
    "duration": 10,
    "start_time": "2023-06-09T15:05:45.958Z"
   },
   {
    "duration": 8,
    "start_time": "2023-06-09T15:07:21.539Z"
   },
   {
    "duration": 5,
    "start_time": "2023-06-09T15:07:31.245Z"
   },
   {
    "duration": 5,
    "start_time": "2023-06-09T15:07:36.839Z"
   },
   {
    "duration": 29,
    "start_time": "2023-06-09T15:09:53.260Z"
   },
   {
    "duration": 4339,
    "start_time": "2023-06-10T16:02:21.577Z"
   },
   {
    "duration": 6001,
    "start_time": "2023-06-10T16:02:25.918Z"
   },
   {
    "duration": 4,
    "start_time": "2023-06-10T16:02:31.921Z"
   },
   {
    "duration": 2428,
    "start_time": "2023-06-10T16:02:31.927Z"
   },
   {
    "duration": 24,
    "start_time": "2023-06-10T16:02:34.356Z"
   },
   {
    "duration": 76,
    "start_time": "2023-06-10T16:02:34.381Z"
   },
   {
    "duration": 18,
    "start_time": "2023-06-10T16:02:34.458Z"
   },
   {
    "duration": 14,
    "start_time": "2023-06-10T16:02:34.477Z"
   },
   {
    "duration": 5,
    "start_time": "2023-06-10T16:02:34.492Z"
   },
   {
    "duration": 1215927,
    "start_time": "2023-06-10T16:02:34.499Z"
   },
   {
    "duration": 32,
    "start_time": "2023-06-10T16:22:50.428Z"
   },
   {
    "duration": 8,
    "start_time": "2023-06-10T16:22:50.461Z"
   },
   {
    "duration": 34,
    "start_time": "2023-06-10T16:22:50.470Z"
   },
   {
    "duration": 104,
    "start_time": "2023-06-10T16:22:50.505Z"
   },
   {
    "duration": 0,
    "start_time": "2023-06-10T16:22:50.610Z"
   },
   {
    "duration": 0,
    "start_time": "2023-06-10T16:22:50.611Z"
   },
   {
    "duration": 0,
    "start_time": "2023-06-10T16:22:50.612Z"
   },
   {
    "duration": 0,
    "start_time": "2023-06-10T16:22:50.613Z"
   },
   {
    "duration": 0,
    "start_time": "2023-06-10T16:22:50.614Z"
   },
   {
    "duration": 0,
    "start_time": "2023-06-10T16:22:50.615Z"
   },
   {
    "duration": 0,
    "start_time": "2023-06-10T16:22:50.616Z"
   },
   {
    "duration": 3,
    "start_time": "2023-06-10T16:41:47.566Z"
   },
   {
    "duration": 67,
    "start_time": "2023-06-10T16:42:05.685Z"
   },
   {
    "duration": 3,
    "start_time": "2023-06-10T16:42:08.973Z"
   },
   {
    "duration": 19,
    "start_time": "2023-06-10T16:42:17.976Z"
   },
   {
    "duration": 6,
    "start_time": "2023-06-10T16:45:25.136Z"
   },
   {
    "duration": 330,
    "start_time": "2023-06-10T16:50:29.369Z"
   },
   {
    "duration": 3,
    "start_time": "2023-06-10T16:50:39.522Z"
   },
   {
    "duration": 4294,
    "start_time": "2023-06-10T16:50:48.765Z"
   },
   {
    "duration": 4,
    "start_time": "2023-06-10T16:50:59.000Z"
   },
   {
    "duration": 13,
    "start_time": "2023-06-10T16:52:00.759Z"
   },
   {
    "duration": 4,
    "start_time": "2023-06-10T16:52:09.696Z"
   },
   {
    "duration": 4,
    "start_time": "2023-06-10T16:52:23.168Z"
   },
   {
    "duration": 16,
    "start_time": "2023-06-10T16:54:29.597Z"
   },
   {
    "duration": 8,
    "start_time": "2023-06-10T16:54:34.522Z"
   },
   {
    "duration": 8,
    "start_time": "2023-06-10T16:54:45.429Z"
   },
   {
    "duration": 18,
    "start_time": "2023-06-10T16:54:53.078Z"
   },
   {
    "duration": 14,
    "start_time": "2023-06-10T16:55:17.215Z"
   },
   {
    "duration": 15,
    "start_time": "2023-06-10T16:56:36.905Z"
   },
   {
    "duration": 18,
    "start_time": "2023-06-10T16:57:26.304Z"
   },
   {
    "duration": 47,
    "start_time": "2023-06-10T16:57:36.165Z"
   },
   {
    "duration": 15,
    "start_time": "2023-06-10T16:57:48.072Z"
   },
   {
    "duration": 28,
    "start_time": "2023-06-10T16:58:12.476Z"
   },
   {
    "duration": 9354,
    "start_time": "2023-06-10T16:59:44.636Z"
   },
   {
    "duration": 7,
    "start_time": "2023-06-10T16:59:59.724Z"
   },
   {
    "duration": 27,
    "start_time": "2023-06-10T17:00:07.175Z"
   },
   {
    "duration": 5,
    "start_time": "2023-06-10T17:00:53.440Z"
   },
   {
    "duration": 27,
    "start_time": "2023-06-10T17:01:02.001Z"
   },
   {
    "duration": 5008,
    "start_time": "2023-06-10T17:01:05.768Z"
   },
   {
    "duration": 4524,
    "start_time": "2023-06-10T17:02:02.700Z"
   },
   {
    "duration": 26,
    "start_time": "2023-06-10T17:02:09.385Z"
   },
   {
    "duration": 13,
    "start_time": "2023-06-10T17:02:13.485Z"
   },
   {
    "duration": 18,
    "start_time": "2023-06-10T17:04:33.997Z"
   },
   {
    "duration": 16,
    "start_time": "2023-06-10T17:05:06.102Z"
   },
   {
    "duration": 3674,
    "start_time": "2023-06-10T17:05:41.359Z"
   },
   {
    "duration": 154,
    "start_time": "2023-06-10T17:05:51.190Z"
   },
   {
    "duration": 26,
    "start_time": "2023-06-10T17:06:02.335Z"
   },
   {
    "duration": 4,
    "start_time": "2023-06-10T17:06:09.250Z"
   },
   {
    "duration": 6750,
    "start_time": "2023-06-10T17:06:22.742Z"
   },
   {
    "duration": 6,
    "start_time": "2023-06-10T17:06:32.359Z"
   },
   {
    "duration": 26,
    "start_time": "2023-06-10T17:06:41.841Z"
   },
   {
    "duration": 1915,
    "start_time": "2023-06-10T17:09:06.332Z"
   },
   {
    "duration": 6,
    "start_time": "2023-06-10T17:09:09.280Z"
   },
   {
    "duration": 4,
    "start_time": "2023-06-10T17:09:12.625Z"
   },
   {
    "duration": 5,
    "start_time": "2023-06-10T17:12:02.018Z"
   },
   {
    "duration": 279839,
    "start_time": "2023-06-10T17:12:09.566Z"
   },
   {
    "duration": 12,
    "start_time": "2023-06-10T17:16:59.158Z"
   },
   {
    "duration": 1390,
    "start_time": "2023-06-10T17:17:06.907Z"
   },
   {
    "duration": 5,
    "start_time": "2023-06-10T17:17:48.612Z"
   },
   {
    "duration": 8206,
    "start_time": "2023-06-10T17:18:03.769Z"
   },
   {
    "duration": 2785,
    "start_time": "2023-06-10T17:18:18.583Z"
   },
   {
    "duration": 4,
    "start_time": "2023-06-10T17:18:25.177Z"
   },
   {
    "duration": 6,
    "start_time": "2023-06-10T17:18:46.934Z"
   },
   {
    "duration": 470210,
    "start_time": "2023-06-10T17:18:54.188Z"
   },
   {
    "duration": 12,
    "start_time": "2023-06-10T17:29:55.331Z"
   },
   {
    "duration": 5,
    "start_time": "2023-06-10T17:30:14.159Z"
   },
   {
    "duration": 303122,
    "start_time": "2023-06-10T17:30:18.364Z"
   },
   {
    "duration": 4,
    "start_time": "2023-06-10T17:38:18.148Z"
   },
   {
    "duration": 12,
    "start_time": "2023-06-10T17:38:29.214Z"
   },
   {
    "duration": 5,
    "start_time": "2023-06-10T17:38:41.711Z"
   },
   {
    "duration": 339147,
    "start_time": "2023-06-10T17:38:45.569Z"
   },
   {
    "duration": 12,
    "start_time": "2023-06-10T17:45:44.052Z"
   },
   {
    "duration": 1453,
    "start_time": "2023-06-10T17:45:47.855Z"
   },
   {
    "duration": 7,
    "start_time": "2023-06-10T17:46:30.674Z"
   },
   {
    "duration": 5,
    "start_time": "2023-06-10T17:47:23.632Z"
   },
   {
    "duration": 6,
    "start_time": "2023-06-10T17:48:33.515Z"
   },
   {
    "duration": 1782596,
    "start_time": "2023-06-10T17:48:38.696Z"
   },
   {
    "duration": 15,
    "start_time": "2023-06-10T18:21:34.509Z"
   },
   {
    "duration": 1419,
    "start_time": "2023-06-10T18:21:39.059Z"
   },
   {
    "duration": 1693,
    "start_time": "2023-06-10T18:21:45.667Z"
   }
  ],
  "kernelspec": {
   "display_name": "Python 3 (ipykernel)",
   "language": "python",
   "name": "python3"
  },
  "language_info": {
   "codemirror_mode": {
    "name": "ipython",
    "version": 3
   },
   "file_extension": ".py",
   "mimetype": "text/x-python",
   "name": "python",
   "nbconvert_exporter": "python",
   "pygments_lexer": "ipython3",
   "version": "3.9.5"
  },
  "toc": {
   "base_numbering": 1,
   "nav_menu": {},
   "number_sections": true,
   "sideBar": true,
   "skip_h1_title": true,
   "title_cell": "Содержание",
   "title_sidebar": "Contents",
   "toc_cell": true,
   "toc_position": {
    "height": "calc(100% - 180px)",
    "left": "10px",
    "top": "150px",
    "width": "302.383px"
   },
   "toc_section_display": true,
   "toc_window_display": false
  }
 },
 "nbformat": 4,
 "nbformat_minor": 2
}
