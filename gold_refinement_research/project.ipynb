{
 "cells": [
  {
   "cell_type": "markdown",
   "metadata": {},
   "source": [
    "<h1 style=\"text-align: center;\">ПРЕДСКАЗАНИЕ КОЭФФИЦИЕНТА ВОССТАНОВЛЕНИЯ ЗОЛОТА ИЗ РУДЫ (ПРОТОТИПНОЕ РЕШЕНИЕ) </h1>"
   ]
  },
  {
   "cell_type": "markdown",
   "metadata": {
    "toc": true
   },
   "source": [
    "<h1>Содержание<span class=\"tocSkip\"></span></h1>\n",
    "<div class=\"toc\"><ul class=\"toc-item\"><li><span><a href=\"#Описание-проекта\" data-toc-modified-id=\"Описание-проекта-1\"><span class=\"toc-item-num\">1&nbsp;&nbsp;</span>Описание проекта</a></span><ul class=\"toc-item\"><li><span><a href=\"#Описание-данных\" data-toc-modified-id=\"Описание-данных-1.1\"><span class=\"toc-item-num\">1.1&nbsp;&nbsp;</span>Описание данных</a></span></li><li><span><a href=\"#Постановка-задачи\" data-toc-modified-id=\"Постановка-задачи-1.2\"><span class=\"toc-item-num\">1.2&nbsp;&nbsp;</span>Постановка задачи</a></span></li></ul></li><li><span><a href=\"#Импорт-библиотек-и-описание-констант\" data-toc-modified-id=\"Импорт-библиотек-и-описание-констант-2\"><span class=\"toc-item-num\">2&nbsp;&nbsp;</span>Импорт библиотек и описание констант</a></span></li><li><span><a href=\"#Загрузка-и-подготовка-данных\" data-toc-modified-id=\"Загрузка-и-подготовка-данных-3\"><span class=\"toc-item-num\">3&nbsp;&nbsp;</span>Загрузка и подготовка данных</a></span><ul class=\"toc-item\"><li><span><a href=\"#Переименование-столбцов\" data-toc-modified-id=\"Переименование-столбцов-3.1\"><span class=\"toc-item-num\">3.1&nbsp;&nbsp;</span>Переименование столбцов</a></span></li><li><span><a href=\"#Проверка-эффективности-обогащения\" data-toc-modified-id=\"Проверка-эффективности-обогащения-3.2\"><span class=\"toc-item-num\">3.2&nbsp;&nbsp;</span>Проверка эффективности обогащения</a></span></li><li><span><a href=\"#Анализ-признаков-тестовой-выборки\" data-toc-modified-id=\"Анализ-признаков-тестовой-выборки-3.3\"><span class=\"toc-item-num\">3.3&nbsp;&nbsp;</span>Анализ признаков тестовой выборки</a></span></li><li><span><a href=\"#Обработка-пропусков\" data-toc-modified-id=\"Обработка-пропусков-3.4\"><span class=\"toc-item-num\">3.4&nbsp;&nbsp;</span>Обработка пропусков</a></span></li><li><span><a href=\"#Обработка-дубликатов\" data-toc-modified-id=\"Обработка-дубликатов-3.5\"><span class=\"toc-item-num\">3.5&nbsp;&nbsp;</span>Обработка дубликатов</a></span></li></ul></li><li><span><a href=\"#Анализ-данных\" data-toc-modified-id=\"Анализ-данных-4\"><span class=\"toc-item-num\">4&nbsp;&nbsp;</span>Анализ данных</a></span><ul class=\"toc-item\"><li><span><a href=\"#Распределение-размеров-гранул-сырья\" data-toc-modified-id=\"Распределение-размеров-гранул-сырья-4.1\"><span class=\"toc-item-num\">4.1&nbsp;&nbsp;</span>Распределение размеров гранул сырья</a></span></li><li><span><a href=\"#Концентрация-Au,-Ag,-Pb-на-этапах-очистки\" data-toc-modified-id=\"Концентрация-Au,-Ag,-Pb-на-этапах-очистки-4.2\"><span class=\"toc-item-num\">4.2&nbsp;&nbsp;</span>Концентрация Au, Ag, Pb на этапах очистки</a></span></li><li><span><a href=\"#Концентрация-всех-веществ-на-этапах-очистки\" data-toc-modified-id=\"Концентрация-всех-веществ-на-этапах-очистки-4.3\"><span class=\"toc-item-num\">4.3&nbsp;&nbsp;</span>Концентрация всех веществ на этапах очистки</a></span></li></ul></li><li><span><a href=\"#Моделирование\" data-toc-modified-id=\"Моделирование-5\"><span class=\"toc-item-num\">5&nbsp;&nbsp;</span>Моделирование</a></span><ul class=\"toc-item\"><li><span><a href=\"#Метрика-sMAPE\" data-toc-modified-id=\"Метрика-sMAPE-5.1\"><span class=\"toc-item-num\">5.1&nbsp;&nbsp;</span>Метрика sMAPE</a></span></li><li><span><a href=\"#Определение-признаков\" data-toc-modified-id=\"Определение-признаков-5.2\"><span class=\"toc-item-num\">5.2&nbsp;&nbsp;</span>Определение признаков</a></span></li><li><span><a href=\"#Подготовка-данных\" data-toc-modified-id=\"Подготовка-данных-5.3\"><span class=\"toc-item-num\">5.3&nbsp;&nbsp;</span>Подготовка данных</a></span></li><li><span><a href=\"#Выбор-модели\" data-toc-modified-id=\"Выбор-модели-5.4\"><span class=\"toc-item-num\">5.4&nbsp;&nbsp;</span>Выбор модели</a></span></li></ul></li><li><span><a href=\"#Выводы\" data-toc-modified-id=\"Выводы-6\"><span class=\"toc-item-num\">6&nbsp;&nbsp;</span>Выводы</a></span></li><li><span><a href=\"#Чек-лист-готовности-проекта\" data-toc-modified-id=\"Чек-лист-готовности-проекта-7\"><span class=\"toc-item-num\">7&nbsp;&nbsp;</span>Чек-лист готовности проекта</a></span></li></ul></div>"
   ]
  },
  {
   "cell_type": "markdown",
   "metadata": {},
   "source": [
    "## Описание проекта\n",
    "Подготовьте прототип модели машинного обучения для «Цифры». Компания разрабатывает решения для эффективной работы промышленных предприятий.  \n",
    "Чтобы оптимизировать производство, модель должна предсказать коэффициент восстановления золота из золотосодержащей руды. В вашем распоряжении данные с параметрами добычи и очистки. \n",
    "\n",
    "**Термины технологического процесса:**\n",
    " - Rougher feed — исходное сырье\n",
    " - Rougher additions (или reagent additions) — флотационные реагенты: Xanthate, Sulphate, Depressant \n",
    " - Rougher process — флотация\n",
    " - Rougher tails — отвальные хвосты\n",
    " - Float banks — флотационные установки\n",
    " - Cleaner process — очистка\n",
    " - Rougher Au — черновой концентрат золота\n",
    " - Final Au — финальный концентрат золота\n",
    " \n",
    "**Параметры этапов технологического процесса:**\n",
    " - air amount — объём воздуха\n",
    " - fluid levels — уровень жидкости\n",
    " - feed size — размер гранул сырья\n",
    " - feed rate — скорость подачи\n",
    "\n",
    "### Описание данных\n",
    "\n",
    "**В вашем распоряжении сырые данные (выгрузки из хранилища):**\n",
    " - gold_recovery_train_new.csv — обучающая выборка\n",
    " - gold_recovery_test_new.csv — тестовая выборка\n",
    " - gold_recovery_full_new.csv — исходные данные.\n",
    "\n",
    "Данные индексируются датой и временем получения информации (признак date). Соседние по времени параметры часто похожи.  \n",
    "Некоторые параметры недоступны, потому что замеряются и/или рассчитываются значительно позже. Из-за этого в тестовой выборке отсутствуют некоторые признаки, которые могут быть в обучающей. Также в тестовом наборе нет целевых признаков.  \n",
    "Исходный датасет содержит обучающую и тестовую выборки со всеми признаками.\n",
    "\n",
    "**Структура именования признаков:** [этап].[тип_параметра].[название_параметра]\n",
    "\n",
    "**Значения блока** [этап]:\n",
    " - rougher — флотация\n",
    " - primary_cleaner — первичная очистка\n",
    " - secondary_cleaner — вторичная очистка\n",
    " - final — финальный этап\n",
    "\n",
    "**Значения блока** [тип_параметра]:\n",
    " - input — параметры сырья на входе\n",
    " - output — параметры сырья на выходе \n",
    " - state — параметры состояния этапа\n",
    " - calculation — расчётные характеристики\n",
    " \n",
    "### Постановка задачи\n",
    "**С помощью машинного обучения спрогнозируйте две величины:**\n",
    " - эффективность обогащения чернового концентрата `rougher.output.recovery`\n",
    " - эффективность обогащения финального концентрата `final.output.recovery`.\n",
    "\n",
    "Для решения задачи используйте метрику качества — sMAPE (симметричное среднее абсолютное процентное отклонение)\n",
    "\n",
    "![sMAPE](https://pictures.s3.yandex.net/resources/smape_1576238825.jpg) \n",
    "\n",
    "Итоговая метрика складывается из двух величин:\n",
    "\n",
    "![Итоговая sMAPE](https://pictures.s3.yandex.net/resources/_smape_1576238814.jpg) \n",
    "\n",
    "**Ход решения:**\n",
    " - подготовьте данные\n",
    "      - откройте файлы данных и изучите их\n",
    "      - проверьте, что эффективность обогащения рассчитана правильно. Вычислите её на обучающей выборке для признака `rougher.output.recovery`. Найдите MAE между вашими расчётами и значением признака. Опишите выводы\n",
    "      - проанализируйте признаки, недоступные в тестовой выборке\n",
    "      - проведите предобработку данных\n",
    " - проанализируйте данные\n",
    "      - посмотрите, как меняется концентрация Au, Ag, Pb на различных этапах очистки. Опишите выводы\n",
    "      - сравните распределения размеров гранул сырья на обучающей и тестовой выборках. Если распределения сильно отличаются друг от друга, оценка модели будет неправильной\n",
    "      - исследуйте суммарную концентрацию всех веществ на разных стадиях: в сырье, черновом и финальном концентратах. \n",
    " - постройте модель\n",
    "     - напишите функцию для вычисления итоговой sMAPE\n",
    "     - обучите разные модели, оцените их качество кросс-валидацией. Выберите лучшую модель и проверьте её на тестовой выборке. Опишите выводы"
   ]
  },
  {
   "cell_type": "markdown",
   "metadata": {},
   "source": [
    "## Импорт библиотек и описание констант"
   ]
  },
  {
   "cell_type": "code",
   "execution_count": 1,
   "metadata": {},
   "outputs": [],
   "source": [
    "import pandas as pd\n",
    "import numpy as np\n",
    "import matplotlib.pyplot as plt\n",
    "import seaborn as sns\n",
    "\n",
    "from sklearn.preprocessing import StandardScaler \n",
    "from sklearn.pipeline import make_pipeline\n",
    "from sklearn.metrics import mean_absolute_error, make_scorer \n",
    "from sklearn.linear_model import LinearRegression\n",
    "from sklearn.ensemble import RandomForestRegressor\n",
    "from sklearn.tree import DecisionTreeRegressor\n",
    "from sklearn.dummy import DummyRegressor\n",
    "from sklearn.model_selection import GridSearchCV, train_test_split"
   ]
  },
  {
   "cell_type": "code",
   "execution_count": 2,
   "metadata": {},
   "outputs": [],
   "source": [
    "#фиксируем: \n",
    "# - random state\n",
    "SEED = 76451\n",
    "# - путь к файлам данных\n",
    "PATH = '/datasets/gold_recovery_*_new.csv'\n",
    "# - метку обучающей выборки\n",
    "DATASET_TRAIN_LBL = 'train'\n",
    "# - метку тестовой выборки\n",
    "DATASET_TEST_LBL = 'test'\n",
    "# - метку полного датасета\n",
    "DATASET_FULL_LBL = 'full'"
   ]
  },
  {
   "cell_type": "markdown",
   "metadata": {},
   "source": [
    "## Загрузка и подготовка данных\n",
    "Поместим данные в DataFrame. На примере нескольких строк оценим датасеты визульно. Посмотрим на общую информацию."
   ]
  },
  {
   "cell_type": "code",
   "execution_count": 3,
   "metadata": {
    "scrolled": true
   },
   "outputs": [
    {
     "data": {
      "text/html": [
       "<div>\n",
       "<style scoped>\n",
       "    .dataframe tbody tr th:only-of-type {\n",
       "        vertical-align: middle;\n",
       "    }\n",
       "\n",
       "    .dataframe tbody tr th {\n",
       "        vertical-align: top;\n",
       "    }\n",
       "\n",
       "    .dataframe thead th {\n",
       "        text-align: right;\n",
       "    }\n",
       "</style>\n",
       "<table border=\"1\" class=\"dataframe\">\n",
       "  <thead>\n",
       "    <tr style=\"text-align: right;\">\n",
       "      <th></th>\n",
       "      <th>final.output.concentrate_ag</th>\n",
       "      <th>final.output.concentrate_pb</th>\n",
       "      <th>final.output.concentrate_sol</th>\n",
       "      <th>final.output.concentrate_au</th>\n",
       "      <th>final.output.recovery</th>\n",
       "      <th>final.output.tail_ag</th>\n",
       "      <th>final.output.tail_pb</th>\n",
       "      <th>final.output.tail_sol</th>\n",
       "      <th>final.output.tail_au</th>\n",
       "      <th>primary_cleaner.input.sulfate</th>\n",
       "      <th>...</th>\n",
       "      <th>secondary_cleaner.state.floatbank4_a_air</th>\n",
       "      <th>secondary_cleaner.state.floatbank4_a_level</th>\n",
       "      <th>secondary_cleaner.state.floatbank4_b_air</th>\n",
       "      <th>secondary_cleaner.state.floatbank4_b_level</th>\n",
       "      <th>secondary_cleaner.state.floatbank5_a_air</th>\n",
       "      <th>secondary_cleaner.state.floatbank5_a_level</th>\n",
       "      <th>secondary_cleaner.state.floatbank5_b_air</th>\n",
       "      <th>secondary_cleaner.state.floatbank5_b_level</th>\n",
       "      <th>secondary_cleaner.state.floatbank6_a_air</th>\n",
       "      <th>secondary_cleaner.state.floatbank6_a_level</th>\n",
       "    </tr>\n",
       "    <tr>\n",
       "      <th>date</th>\n",
       "      <th></th>\n",
       "      <th></th>\n",
       "      <th></th>\n",
       "      <th></th>\n",
       "      <th></th>\n",
       "      <th></th>\n",
       "      <th></th>\n",
       "      <th></th>\n",
       "      <th></th>\n",
       "      <th></th>\n",
       "      <th></th>\n",
       "      <th></th>\n",
       "      <th></th>\n",
       "      <th></th>\n",
       "      <th></th>\n",
       "      <th></th>\n",
       "      <th></th>\n",
       "      <th></th>\n",
       "      <th></th>\n",
       "      <th></th>\n",
       "      <th></th>\n",
       "    </tr>\n",
       "  </thead>\n",
       "  <tbody>\n",
       "    <tr>\n",
       "      <th>2016-01-15 00:00:00</th>\n",
       "      <td>6.055403</td>\n",
       "      <td>9.889648</td>\n",
       "      <td>5.507324</td>\n",
       "      <td>42.192020</td>\n",
       "      <td>70.541216</td>\n",
       "      <td>10.411962</td>\n",
       "      <td>0.895447</td>\n",
       "      <td>16.904297</td>\n",
       "      <td>2.143149</td>\n",
       "      <td>127.092003</td>\n",
       "      <td>...</td>\n",
       "      <td>14.016835</td>\n",
       "      <td>-502.488007</td>\n",
       "      <td>12.099931</td>\n",
       "      <td>-504.715942</td>\n",
       "      <td>9.925633</td>\n",
       "      <td>-498.310211</td>\n",
       "      <td>8.079666</td>\n",
       "      <td>-500.470978</td>\n",
       "      <td>14.151341</td>\n",
       "      <td>-605.841980</td>\n",
       "    </tr>\n",
       "    <tr>\n",
       "      <th>2016-01-15 01:00:00</th>\n",
       "      <td>6.029369</td>\n",
       "      <td>9.968944</td>\n",
       "      <td>5.257781</td>\n",
       "      <td>42.701629</td>\n",
       "      <td>69.266198</td>\n",
       "      <td>10.462676</td>\n",
       "      <td>0.927452</td>\n",
       "      <td>16.634514</td>\n",
       "      <td>2.224930</td>\n",
       "      <td>125.629232</td>\n",
       "      <td>...</td>\n",
       "      <td>13.992281</td>\n",
       "      <td>-505.503262</td>\n",
       "      <td>11.950531</td>\n",
       "      <td>-501.331529</td>\n",
       "      <td>10.039245</td>\n",
       "      <td>-500.169983</td>\n",
       "      <td>7.984757</td>\n",
       "      <td>-500.582168</td>\n",
       "      <td>13.998353</td>\n",
       "      <td>-599.787184</td>\n",
       "    </tr>\n",
       "    <tr>\n",
       "      <th>2016-01-15 02:00:00</th>\n",
       "      <td>6.055926</td>\n",
       "      <td>10.213995</td>\n",
       "      <td>5.383759</td>\n",
       "      <td>42.657501</td>\n",
       "      <td>68.116445</td>\n",
       "      <td>10.507046</td>\n",
       "      <td>0.953716</td>\n",
       "      <td>16.208849</td>\n",
       "      <td>2.257889</td>\n",
       "      <td>123.819808</td>\n",
       "      <td>...</td>\n",
       "      <td>14.015015</td>\n",
       "      <td>-502.520901</td>\n",
       "      <td>11.912783</td>\n",
       "      <td>-501.133383</td>\n",
       "      <td>10.070913</td>\n",
       "      <td>-500.129135</td>\n",
       "      <td>8.013877</td>\n",
       "      <td>-500.517572</td>\n",
       "      <td>14.028663</td>\n",
       "      <td>-601.427363</td>\n",
       "    </tr>\n",
       "    <tr>\n",
       "      <th>2016-01-15 03:00:00</th>\n",
       "      <td>6.047977</td>\n",
       "      <td>9.977019</td>\n",
       "      <td>4.858634</td>\n",
       "      <td>42.689819</td>\n",
       "      <td>68.347543</td>\n",
       "      <td>10.422762</td>\n",
       "      <td>0.883763</td>\n",
       "      <td>16.532835</td>\n",
       "      <td>2.146849</td>\n",
       "      <td>122.270188</td>\n",
       "      <td>...</td>\n",
       "      <td>14.036510</td>\n",
       "      <td>-500.857308</td>\n",
       "      <td>11.999550</td>\n",
       "      <td>-501.193686</td>\n",
       "      <td>9.970366</td>\n",
       "      <td>-499.201640</td>\n",
       "      <td>7.977324</td>\n",
       "      <td>-500.255908</td>\n",
       "      <td>14.005551</td>\n",
       "      <td>-599.996129</td>\n",
       "    </tr>\n",
       "    <tr>\n",
       "      <th>2016-01-15 04:00:00</th>\n",
       "      <td>6.148599</td>\n",
       "      <td>10.142511</td>\n",
       "      <td>4.939416</td>\n",
       "      <td>42.774141</td>\n",
       "      <td>66.927016</td>\n",
       "      <td>10.360302</td>\n",
       "      <td>0.792826</td>\n",
       "      <td>16.525686</td>\n",
       "      <td>2.055292</td>\n",
       "      <td>117.988169</td>\n",
       "      <td>...</td>\n",
       "      <td>14.027298</td>\n",
       "      <td>-499.838632</td>\n",
       "      <td>11.953070</td>\n",
       "      <td>-501.053894</td>\n",
       "      <td>9.925709</td>\n",
       "      <td>-501.686727</td>\n",
       "      <td>7.894242</td>\n",
       "      <td>-500.356035</td>\n",
       "      <td>13.996647</td>\n",
       "      <td>-601.496691</td>\n",
       "    </tr>\n",
       "  </tbody>\n",
       "</table>\n",
       "<p>5 rows × 86 columns</p>\n",
       "</div>"
      ],
      "text/plain": [
       "                     final.output.concentrate_ag  final.output.concentrate_pb  \\\n",
       "date                                                                            \n",
       "2016-01-15 00:00:00                     6.055403                     9.889648   \n",
       "2016-01-15 01:00:00                     6.029369                     9.968944   \n",
       "2016-01-15 02:00:00                     6.055926                    10.213995   \n",
       "2016-01-15 03:00:00                     6.047977                     9.977019   \n",
       "2016-01-15 04:00:00                     6.148599                    10.142511   \n",
       "\n",
       "                     final.output.concentrate_sol  \\\n",
       "date                                                \n",
       "2016-01-15 00:00:00                      5.507324   \n",
       "2016-01-15 01:00:00                      5.257781   \n",
       "2016-01-15 02:00:00                      5.383759   \n",
       "2016-01-15 03:00:00                      4.858634   \n",
       "2016-01-15 04:00:00                      4.939416   \n",
       "\n",
       "                     final.output.concentrate_au  final.output.recovery  \\\n",
       "date                                                                      \n",
       "2016-01-15 00:00:00                    42.192020              70.541216   \n",
       "2016-01-15 01:00:00                    42.701629              69.266198   \n",
       "2016-01-15 02:00:00                    42.657501              68.116445   \n",
       "2016-01-15 03:00:00                    42.689819              68.347543   \n",
       "2016-01-15 04:00:00                    42.774141              66.927016   \n",
       "\n",
       "                     final.output.tail_ag  final.output.tail_pb  \\\n",
       "date                                                              \n",
       "2016-01-15 00:00:00             10.411962              0.895447   \n",
       "2016-01-15 01:00:00             10.462676              0.927452   \n",
       "2016-01-15 02:00:00             10.507046              0.953716   \n",
       "2016-01-15 03:00:00             10.422762              0.883763   \n",
       "2016-01-15 04:00:00             10.360302              0.792826   \n",
       "\n",
       "                     final.output.tail_sol  final.output.tail_au  \\\n",
       "date                                                               \n",
       "2016-01-15 00:00:00              16.904297              2.143149   \n",
       "2016-01-15 01:00:00              16.634514              2.224930   \n",
       "2016-01-15 02:00:00              16.208849              2.257889   \n",
       "2016-01-15 03:00:00              16.532835              2.146849   \n",
       "2016-01-15 04:00:00              16.525686              2.055292   \n",
       "\n",
       "                     primary_cleaner.input.sulfate  ...  \\\n",
       "date                                                ...   \n",
       "2016-01-15 00:00:00                     127.092003  ...   \n",
       "2016-01-15 01:00:00                     125.629232  ...   \n",
       "2016-01-15 02:00:00                     123.819808  ...   \n",
       "2016-01-15 03:00:00                     122.270188  ...   \n",
       "2016-01-15 04:00:00                     117.988169  ...   \n",
       "\n",
       "                     secondary_cleaner.state.floatbank4_a_air  \\\n",
       "date                                                            \n",
       "2016-01-15 00:00:00                                 14.016835   \n",
       "2016-01-15 01:00:00                                 13.992281   \n",
       "2016-01-15 02:00:00                                 14.015015   \n",
       "2016-01-15 03:00:00                                 14.036510   \n",
       "2016-01-15 04:00:00                                 14.027298   \n",
       "\n",
       "                     secondary_cleaner.state.floatbank4_a_level  \\\n",
       "date                                                              \n",
       "2016-01-15 00:00:00                                 -502.488007   \n",
       "2016-01-15 01:00:00                                 -505.503262   \n",
       "2016-01-15 02:00:00                                 -502.520901   \n",
       "2016-01-15 03:00:00                                 -500.857308   \n",
       "2016-01-15 04:00:00                                 -499.838632   \n",
       "\n",
       "                     secondary_cleaner.state.floatbank4_b_air  \\\n",
       "date                                                            \n",
       "2016-01-15 00:00:00                                 12.099931   \n",
       "2016-01-15 01:00:00                                 11.950531   \n",
       "2016-01-15 02:00:00                                 11.912783   \n",
       "2016-01-15 03:00:00                                 11.999550   \n",
       "2016-01-15 04:00:00                                 11.953070   \n",
       "\n",
       "                     secondary_cleaner.state.floatbank4_b_level  \\\n",
       "date                                                              \n",
       "2016-01-15 00:00:00                                 -504.715942   \n",
       "2016-01-15 01:00:00                                 -501.331529   \n",
       "2016-01-15 02:00:00                                 -501.133383   \n",
       "2016-01-15 03:00:00                                 -501.193686   \n",
       "2016-01-15 04:00:00                                 -501.053894   \n",
       "\n",
       "                     secondary_cleaner.state.floatbank5_a_air  \\\n",
       "date                                                            \n",
       "2016-01-15 00:00:00                                  9.925633   \n",
       "2016-01-15 01:00:00                                 10.039245   \n",
       "2016-01-15 02:00:00                                 10.070913   \n",
       "2016-01-15 03:00:00                                  9.970366   \n",
       "2016-01-15 04:00:00                                  9.925709   \n",
       "\n",
       "                     secondary_cleaner.state.floatbank5_a_level  \\\n",
       "date                                                              \n",
       "2016-01-15 00:00:00                                 -498.310211   \n",
       "2016-01-15 01:00:00                                 -500.169983   \n",
       "2016-01-15 02:00:00                                 -500.129135   \n",
       "2016-01-15 03:00:00                                 -499.201640   \n",
       "2016-01-15 04:00:00                                 -501.686727   \n",
       "\n",
       "                     secondary_cleaner.state.floatbank5_b_air  \\\n",
       "date                                                            \n",
       "2016-01-15 00:00:00                                  8.079666   \n",
       "2016-01-15 01:00:00                                  7.984757   \n",
       "2016-01-15 02:00:00                                  8.013877   \n",
       "2016-01-15 03:00:00                                  7.977324   \n",
       "2016-01-15 04:00:00                                  7.894242   \n",
       "\n",
       "                     secondary_cleaner.state.floatbank5_b_level  \\\n",
       "date                                                              \n",
       "2016-01-15 00:00:00                                 -500.470978   \n",
       "2016-01-15 01:00:00                                 -500.582168   \n",
       "2016-01-15 02:00:00                                 -500.517572   \n",
       "2016-01-15 03:00:00                                 -500.255908   \n",
       "2016-01-15 04:00:00                                 -500.356035   \n",
       "\n",
       "                     secondary_cleaner.state.floatbank6_a_air  \\\n",
       "date                                                            \n",
       "2016-01-15 00:00:00                                 14.151341   \n",
       "2016-01-15 01:00:00                                 13.998353   \n",
       "2016-01-15 02:00:00                                 14.028663   \n",
       "2016-01-15 03:00:00                                 14.005551   \n",
       "2016-01-15 04:00:00                                 13.996647   \n",
       "\n",
       "                     secondary_cleaner.state.floatbank6_a_level  \n",
       "date                                                             \n",
       "2016-01-15 00:00:00                                 -605.841980  \n",
       "2016-01-15 01:00:00                                 -599.787184  \n",
       "2016-01-15 02:00:00                                 -601.427363  \n",
       "2016-01-15 03:00:00                                 -599.996129  \n",
       "2016-01-15 04:00:00                                 -601.496691  \n",
       "\n",
       "[5 rows x 86 columns]"
      ]
     },
     "metadata": {},
     "output_type": "display_data"
    },
    {
     "name": "stdout",
     "output_type": "stream",
     "text": [
      "<class 'pandas.core.frame.DataFrame'>\n",
      "DatetimeIndex: 14149 entries, 2016-01-15 00:00:00 to 2018-08-18 10:59:59\n",
      "Data columns (total 86 columns):\n",
      " #   Column                                              Non-Null Count  Dtype  \n",
      "---  ------                                              --------------  -----  \n",
      " 0   final.output.concentrate_ag                         14148 non-null  float64\n",
      " 1   final.output.concentrate_pb                         14148 non-null  float64\n",
      " 2   final.output.concentrate_sol                        13938 non-null  float64\n",
      " 3   final.output.concentrate_au                         14149 non-null  float64\n",
      " 4   final.output.recovery                               14149 non-null  float64\n",
      " 5   final.output.tail_ag                                14149 non-null  float64\n",
      " 6   final.output.tail_pb                                14049 non-null  float64\n",
      " 7   final.output.tail_sol                               14144 non-null  float64\n",
      " 8   final.output.tail_au                                14149 non-null  float64\n",
      " 9   primary_cleaner.input.sulfate                       14129 non-null  float64\n",
      " 10  primary_cleaner.input.depressant                    14117 non-null  float64\n",
      " 11  primary_cleaner.input.feed_size                     14149 non-null  float64\n",
      " 12  primary_cleaner.input.xanthate                      14049 non-null  float64\n",
      " 13  primary_cleaner.output.concentrate_ag               14149 non-null  float64\n",
      " 14  primary_cleaner.output.concentrate_pb               14063 non-null  float64\n",
      " 15  primary_cleaner.output.concentrate_sol              13863 non-null  float64\n",
      " 16  primary_cleaner.output.concentrate_au               14149 non-null  float64\n",
      " 17  primary_cleaner.output.tail_ag                      14148 non-null  float64\n",
      " 18  primary_cleaner.output.tail_pb                      14134 non-null  float64\n",
      " 19  primary_cleaner.output.tail_sol                     14103 non-null  float64\n",
      " 20  primary_cleaner.output.tail_au                      14149 non-null  float64\n",
      " 21  primary_cleaner.state.floatbank8_a_air              14145 non-null  float64\n",
      " 22  primary_cleaner.state.floatbank8_a_level            14148 non-null  float64\n",
      " 23  primary_cleaner.state.floatbank8_b_air              14145 non-null  float64\n",
      " 24  primary_cleaner.state.floatbank8_b_level            14148 non-null  float64\n",
      " 25  primary_cleaner.state.floatbank8_c_air              14147 non-null  float64\n",
      " 26  primary_cleaner.state.floatbank8_c_level            14148 non-null  float64\n",
      " 27  primary_cleaner.state.floatbank8_d_air              14146 non-null  float64\n",
      " 28  primary_cleaner.state.floatbank8_d_level            14148 non-null  float64\n",
      " 29  rougher.calculation.sulfate_to_au_concentrate       14148 non-null  float64\n",
      " 30  rougher.calculation.floatbank10_sulfate_to_au_feed  14148 non-null  float64\n",
      " 31  rougher.calculation.floatbank11_sulfate_to_au_feed  14148 non-null  float64\n",
      " 32  rougher.calculation.au_pb_ratio                     14149 non-null  float64\n",
      " 33  rougher.input.feed_ag                               14149 non-null  float64\n",
      " 34  rougher.input.feed_pb                               14049 non-null  float64\n",
      " 35  rougher.input.feed_rate                             14141 non-null  float64\n",
      " 36  rougher.input.feed_size                             14005 non-null  float64\n",
      " 37  rougher.input.feed_sol                              14071 non-null  float64\n",
      " 38  rougher.input.feed_au                               14149 non-null  float64\n",
      " 39  rougher.input.floatbank10_sulfate                   14120 non-null  float64\n",
      " 40  rougher.input.floatbank10_xanthate                  14141 non-null  float64\n",
      " 41  rougher.input.floatbank11_sulfate                   14113 non-null  float64\n",
      " 42  rougher.input.floatbank11_xanthate                  13721 non-null  float64\n",
      " 43  rougher.output.concentrate_ag                       14149 non-null  float64\n",
      " 44  rougher.output.concentrate_pb                       14149 non-null  float64\n",
      " 45  rougher.output.concentrate_sol                      14127 non-null  float64\n",
      " 46  rougher.output.concentrate_au                       14149 non-null  float64\n",
      " 47  rougher.output.recovery                             14149 non-null  float64\n",
      " 48  rougher.output.tail_ag                              14148 non-null  float64\n",
      " 49  rougher.output.tail_pb                              14149 non-null  float64\n",
      " 50  rougher.output.tail_sol                             14149 non-null  float64\n",
      " 51  rougher.output.tail_au                              14149 non-null  float64\n",
      " 52  rougher.state.floatbank10_a_air                     14148 non-null  float64\n",
      " 53  rougher.state.floatbank10_a_level                   14148 non-null  float64\n",
      " 54  rougher.state.floatbank10_b_air                     14148 non-null  float64\n",
      " 55  rougher.state.floatbank10_b_level                   14148 non-null  float64\n",
      " 56  rougher.state.floatbank10_c_air                     14148 non-null  float64\n",
      " 57  rougher.state.floatbank10_c_level                   14148 non-null  float64\n",
      " 58  rougher.state.floatbank10_d_air                     14149 non-null  float64\n",
      " 59  rougher.state.floatbank10_d_level                   14149 non-null  float64\n",
      " 60  rougher.state.floatbank10_e_air                     13713 non-null  float64\n",
      " 61  rougher.state.floatbank10_e_level                   14149 non-null  float64\n",
      " 62  rougher.state.floatbank10_f_air                     14149 non-null  float64\n",
      " 63  rougher.state.floatbank10_f_level                   14149 non-null  float64\n",
      " 64  secondary_cleaner.output.tail_ag                    14147 non-null  float64\n",
      " 65  secondary_cleaner.output.tail_pb                    14139 non-null  float64\n",
      " 66  secondary_cleaner.output.tail_sol                   12544 non-null  float64\n",
      " 67  secondary_cleaner.output.tail_au                    14149 non-null  float64\n",
      " 68  secondary_cleaner.state.floatbank2_a_air            13932 non-null  float64\n",
      " 69  secondary_cleaner.state.floatbank2_a_level          14148 non-null  float64\n",
      " 70  secondary_cleaner.state.floatbank2_b_air            14128 non-null  float64\n",
      " 71  secondary_cleaner.state.floatbank2_b_level          14148 non-null  float64\n",
      " 72  secondary_cleaner.state.floatbank3_a_air            14145 non-null  float64\n",
      " 73  secondary_cleaner.state.floatbank3_a_level          14148 non-null  float64\n",
      " 74  secondary_cleaner.state.floatbank3_b_air            14148 non-null  float64\n",
      " 75  secondary_cleaner.state.floatbank3_b_level          14148 non-null  float64\n",
      " 76  secondary_cleaner.state.floatbank4_a_air            14143 non-null  float64\n",
      " 77  secondary_cleaner.state.floatbank4_a_level          14148 non-null  float64\n",
      " 78  secondary_cleaner.state.floatbank4_b_air            14148 non-null  float64\n",
      " 79  secondary_cleaner.state.floatbank4_b_level          14148 non-null  float64\n",
      " 80  secondary_cleaner.state.floatbank5_a_air            14148 non-null  float64\n",
      " 81  secondary_cleaner.state.floatbank5_a_level          14148 non-null  float64\n",
      " 82  secondary_cleaner.state.floatbank5_b_air            14148 non-null  float64\n",
      " 83  secondary_cleaner.state.floatbank5_b_level          14148 non-null  float64\n",
      " 84  secondary_cleaner.state.floatbank6_a_air            14147 non-null  float64\n",
      " 85  secondary_cleaner.state.floatbank6_a_level          14148 non-null  float64\n",
      "dtypes: float64(86)\n",
      "memory usage: 9.4 MB\n"
     ]
    },
    {
     "data": {
      "text/html": [
       "<div>\n",
       "<style scoped>\n",
       "    .dataframe tbody tr th:only-of-type {\n",
       "        vertical-align: middle;\n",
       "    }\n",
       "\n",
       "    .dataframe tbody tr th {\n",
       "        vertical-align: top;\n",
       "    }\n",
       "\n",
       "    .dataframe thead th {\n",
       "        text-align: right;\n",
       "    }\n",
       "</style>\n",
       "<table border=\"1\" class=\"dataframe\">\n",
       "  <thead>\n",
       "    <tr style=\"text-align: right;\">\n",
       "      <th></th>\n",
       "      <th>primary_cleaner.input.sulfate</th>\n",
       "      <th>primary_cleaner.input.depressant</th>\n",
       "      <th>primary_cleaner.input.feed_size</th>\n",
       "      <th>primary_cleaner.input.xanthate</th>\n",
       "      <th>primary_cleaner.state.floatbank8_a_air</th>\n",
       "      <th>primary_cleaner.state.floatbank8_a_level</th>\n",
       "      <th>primary_cleaner.state.floatbank8_b_air</th>\n",
       "      <th>primary_cleaner.state.floatbank8_b_level</th>\n",
       "      <th>primary_cleaner.state.floatbank8_c_air</th>\n",
       "      <th>primary_cleaner.state.floatbank8_c_level</th>\n",
       "      <th>...</th>\n",
       "      <th>secondary_cleaner.state.floatbank4_a_air</th>\n",
       "      <th>secondary_cleaner.state.floatbank4_a_level</th>\n",
       "      <th>secondary_cleaner.state.floatbank4_b_air</th>\n",
       "      <th>secondary_cleaner.state.floatbank4_b_level</th>\n",
       "      <th>secondary_cleaner.state.floatbank5_a_air</th>\n",
       "      <th>secondary_cleaner.state.floatbank5_a_level</th>\n",
       "      <th>secondary_cleaner.state.floatbank5_b_air</th>\n",
       "      <th>secondary_cleaner.state.floatbank5_b_level</th>\n",
       "      <th>secondary_cleaner.state.floatbank6_a_air</th>\n",
       "      <th>secondary_cleaner.state.floatbank6_a_level</th>\n",
       "    </tr>\n",
       "    <tr>\n",
       "      <th>date</th>\n",
       "      <th></th>\n",
       "      <th></th>\n",
       "      <th></th>\n",
       "      <th></th>\n",
       "      <th></th>\n",
       "      <th></th>\n",
       "      <th></th>\n",
       "      <th></th>\n",
       "      <th></th>\n",
       "      <th></th>\n",
       "      <th></th>\n",
       "      <th></th>\n",
       "      <th></th>\n",
       "      <th></th>\n",
       "      <th></th>\n",
       "      <th></th>\n",
       "      <th></th>\n",
       "      <th></th>\n",
       "      <th></th>\n",
       "      <th></th>\n",
       "      <th></th>\n",
       "    </tr>\n",
       "  </thead>\n",
       "  <tbody>\n",
       "    <tr>\n",
       "      <th>2016-09-01 00:59:59</th>\n",
       "      <td>210.800909</td>\n",
       "      <td>14.993118</td>\n",
       "      <td>8.080000</td>\n",
       "      <td>1.005021</td>\n",
       "      <td>1398.981301</td>\n",
       "      <td>-500.225577</td>\n",
       "      <td>1399.144926</td>\n",
       "      <td>-499.919735</td>\n",
       "      <td>1400.102998</td>\n",
       "      <td>-500.704369</td>\n",
       "      <td>...</td>\n",
       "      <td>12.023554</td>\n",
       "      <td>-497.795834</td>\n",
       "      <td>8.016656</td>\n",
       "      <td>-501.289139</td>\n",
       "      <td>7.946562</td>\n",
       "      <td>-432.317850</td>\n",
       "      <td>4.872511</td>\n",
       "      <td>-500.037437</td>\n",
       "      <td>26.705889</td>\n",
       "      <td>-499.709414</td>\n",
       "    </tr>\n",
       "    <tr>\n",
       "      <th>2016-09-01 01:59:59</th>\n",
       "      <td>215.392455</td>\n",
       "      <td>14.987471</td>\n",
       "      <td>8.080000</td>\n",
       "      <td>0.990469</td>\n",
       "      <td>1398.777912</td>\n",
       "      <td>-500.057435</td>\n",
       "      <td>1398.055362</td>\n",
       "      <td>-499.778182</td>\n",
       "      <td>1396.151033</td>\n",
       "      <td>-499.240168</td>\n",
       "      <td>...</td>\n",
       "      <td>12.058140</td>\n",
       "      <td>-498.695773</td>\n",
       "      <td>8.130979</td>\n",
       "      <td>-499.634209</td>\n",
       "      <td>7.958270</td>\n",
       "      <td>-525.839648</td>\n",
       "      <td>4.878850</td>\n",
       "      <td>-500.162375</td>\n",
       "      <td>25.019940</td>\n",
       "      <td>-499.819438</td>\n",
       "    </tr>\n",
       "    <tr>\n",
       "      <th>2016-09-01 02:59:59</th>\n",
       "      <td>215.259946</td>\n",
       "      <td>12.884934</td>\n",
       "      <td>7.786667</td>\n",
       "      <td>0.996043</td>\n",
       "      <td>1398.493666</td>\n",
       "      <td>-500.868360</td>\n",
       "      <td>1398.860436</td>\n",
       "      <td>-499.764529</td>\n",
       "      <td>1398.075709</td>\n",
       "      <td>-502.151509</td>\n",
       "      <td>...</td>\n",
       "      <td>11.962366</td>\n",
       "      <td>-498.767484</td>\n",
       "      <td>8.096893</td>\n",
       "      <td>-500.827423</td>\n",
       "      <td>8.071056</td>\n",
       "      <td>-500.801673</td>\n",
       "      <td>4.905125</td>\n",
       "      <td>-499.828510</td>\n",
       "      <td>24.994862</td>\n",
       "      <td>-500.622559</td>\n",
       "    </tr>\n",
       "    <tr>\n",
       "      <th>2016-09-01 03:59:59</th>\n",
       "      <td>215.336236</td>\n",
       "      <td>12.006805</td>\n",
       "      <td>7.640000</td>\n",
       "      <td>0.863514</td>\n",
       "      <td>1399.618111</td>\n",
       "      <td>-498.863574</td>\n",
       "      <td>1397.440120</td>\n",
       "      <td>-499.211024</td>\n",
       "      <td>1400.129303</td>\n",
       "      <td>-498.355873</td>\n",
       "      <td>...</td>\n",
       "      <td>12.033091</td>\n",
       "      <td>-498.350935</td>\n",
       "      <td>8.074946</td>\n",
       "      <td>-499.474407</td>\n",
       "      <td>7.897085</td>\n",
       "      <td>-500.868509</td>\n",
       "      <td>4.931400</td>\n",
       "      <td>-499.963623</td>\n",
       "      <td>24.948919</td>\n",
       "      <td>-498.709987</td>\n",
       "    </tr>\n",
       "    <tr>\n",
       "      <th>2016-09-01 04:59:59</th>\n",
       "      <td>199.099327</td>\n",
       "      <td>10.682530</td>\n",
       "      <td>7.530000</td>\n",
       "      <td>0.805575</td>\n",
       "      <td>1401.268123</td>\n",
       "      <td>-500.808305</td>\n",
       "      <td>1398.128818</td>\n",
       "      <td>-499.504543</td>\n",
       "      <td>1402.172226</td>\n",
       "      <td>-500.810606</td>\n",
       "      <td>...</td>\n",
       "      <td>12.025367</td>\n",
       "      <td>-500.786497</td>\n",
       "      <td>8.054678</td>\n",
       "      <td>-500.397500</td>\n",
       "      <td>8.107890</td>\n",
       "      <td>-509.526725</td>\n",
       "      <td>4.957674</td>\n",
       "      <td>-500.360026</td>\n",
       "      <td>25.003331</td>\n",
       "      <td>-500.856333</td>\n",
       "    </tr>\n",
       "  </tbody>\n",
       "</table>\n",
       "<p>5 rows × 52 columns</p>\n",
       "</div>"
      ],
      "text/plain": [
       "                     primary_cleaner.input.sulfate  \\\n",
       "date                                                 \n",
       "2016-09-01 00:59:59                     210.800909   \n",
       "2016-09-01 01:59:59                     215.392455   \n",
       "2016-09-01 02:59:59                     215.259946   \n",
       "2016-09-01 03:59:59                     215.336236   \n",
       "2016-09-01 04:59:59                     199.099327   \n",
       "\n",
       "                     primary_cleaner.input.depressant  \\\n",
       "date                                                    \n",
       "2016-09-01 00:59:59                         14.993118   \n",
       "2016-09-01 01:59:59                         14.987471   \n",
       "2016-09-01 02:59:59                         12.884934   \n",
       "2016-09-01 03:59:59                         12.006805   \n",
       "2016-09-01 04:59:59                         10.682530   \n",
       "\n",
       "                     primary_cleaner.input.feed_size  \\\n",
       "date                                                   \n",
       "2016-09-01 00:59:59                         8.080000   \n",
       "2016-09-01 01:59:59                         8.080000   \n",
       "2016-09-01 02:59:59                         7.786667   \n",
       "2016-09-01 03:59:59                         7.640000   \n",
       "2016-09-01 04:59:59                         7.530000   \n",
       "\n",
       "                     primary_cleaner.input.xanthate  \\\n",
       "date                                                  \n",
       "2016-09-01 00:59:59                        1.005021   \n",
       "2016-09-01 01:59:59                        0.990469   \n",
       "2016-09-01 02:59:59                        0.996043   \n",
       "2016-09-01 03:59:59                        0.863514   \n",
       "2016-09-01 04:59:59                        0.805575   \n",
       "\n",
       "                     primary_cleaner.state.floatbank8_a_air  \\\n",
       "date                                                          \n",
       "2016-09-01 00:59:59                             1398.981301   \n",
       "2016-09-01 01:59:59                             1398.777912   \n",
       "2016-09-01 02:59:59                             1398.493666   \n",
       "2016-09-01 03:59:59                             1399.618111   \n",
       "2016-09-01 04:59:59                             1401.268123   \n",
       "\n",
       "                     primary_cleaner.state.floatbank8_a_level  \\\n",
       "date                                                            \n",
       "2016-09-01 00:59:59                               -500.225577   \n",
       "2016-09-01 01:59:59                               -500.057435   \n",
       "2016-09-01 02:59:59                               -500.868360   \n",
       "2016-09-01 03:59:59                               -498.863574   \n",
       "2016-09-01 04:59:59                               -500.808305   \n",
       "\n",
       "                     primary_cleaner.state.floatbank8_b_air  \\\n",
       "date                                                          \n",
       "2016-09-01 00:59:59                             1399.144926   \n",
       "2016-09-01 01:59:59                             1398.055362   \n",
       "2016-09-01 02:59:59                             1398.860436   \n",
       "2016-09-01 03:59:59                             1397.440120   \n",
       "2016-09-01 04:59:59                             1398.128818   \n",
       "\n",
       "                     primary_cleaner.state.floatbank8_b_level  \\\n",
       "date                                                            \n",
       "2016-09-01 00:59:59                               -499.919735   \n",
       "2016-09-01 01:59:59                               -499.778182   \n",
       "2016-09-01 02:59:59                               -499.764529   \n",
       "2016-09-01 03:59:59                               -499.211024   \n",
       "2016-09-01 04:59:59                               -499.504543   \n",
       "\n",
       "                     primary_cleaner.state.floatbank8_c_air  \\\n",
       "date                                                          \n",
       "2016-09-01 00:59:59                             1400.102998   \n",
       "2016-09-01 01:59:59                             1396.151033   \n",
       "2016-09-01 02:59:59                             1398.075709   \n",
       "2016-09-01 03:59:59                             1400.129303   \n",
       "2016-09-01 04:59:59                             1402.172226   \n",
       "\n",
       "                     primary_cleaner.state.floatbank8_c_level  ...  \\\n",
       "date                                                           ...   \n",
       "2016-09-01 00:59:59                               -500.704369  ...   \n",
       "2016-09-01 01:59:59                               -499.240168  ...   \n",
       "2016-09-01 02:59:59                               -502.151509  ...   \n",
       "2016-09-01 03:59:59                               -498.355873  ...   \n",
       "2016-09-01 04:59:59                               -500.810606  ...   \n",
       "\n",
       "                     secondary_cleaner.state.floatbank4_a_air  \\\n",
       "date                                                            \n",
       "2016-09-01 00:59:59                                 12.023554   \n",
       "2016-09-01 01:59:59                                 12.058140   \n",
       "2016-09-01 02:59:59                                 11.962366   \n",
       "2016-09-01 03:59:59                                 12.033091   \n",
       "2016-09-01 04:59:59                                 12.025367   \n",
       "\n",
       "                     secondary_cleaner.state.floatbank4_a_level  \\\n",
       "date                                                              \n",
       "2016-09-01 00:59:59                                 -497.795834   \n",
       "2016-09-01 01:59:59                                 -498.695773   \n",
       "2016-09-01 02:59:59                                 -498.767484   \n",
       "2016-09-01 03:59:59                                 -498.350935   \n",
       "2016-09-01 04:59:59                                 -500.786497   \n",
       "\n",
       "                     secondary_cleaner.state.floatbank4_b_air  \\\n",
       "date                                                            \n",
       "2016-09-01 00:59:59                                  8.016656   \n",
       "2016-09-01 01:59:59                                  8.130979   \n",
       "2016-09-01 02:59:59                                  8.096893   \n",
       "2016-09-01 03:59:59                                  8.074946   \n",
       "2016-09-01 04:59:59                                  8.054678   \n",
       "\n",
       "                     secondary_cleaner.state.floatbank4_b_level  \\\n",
       "date                                                              \n",
       "2016-09-01 00:59:59                                 -501.289139   \n",
       "2016-09-01 01:59:59                                 -499.634209   \n",
       "2016-09-01 02:59:59                                 -500.827423   \n",
       "2016-09-01 03:59:59                                 -499.474407   \n",
       "2016-09-01 04:59:59                                 -500.397500   \n",
       "\n",
       "                     secondary_cleaner.state.floatbank5_a_air  \\\n",
       "date                                                            \n",
       "2016-09-01 00:59:59                                  7.946562   \n",
       "2016-09-01 01:59:59                                  7.958270   \n",
       "2016-09-01 02:59:59                                  8.071056   \n",
       "2016-09-01 03:59:59                                  7.897085   \n",
       "2016-09-01 04:59:59                                  8.107890   \n",
       "\n",
       "                     secondary_cleaner.state.floatbank5_a_level  \\\n",
       "date                                                              \n",
       "2016-09-01 00:59:59                                 -432.317850   \n",
       "2016-09-01 01:59:59                                 -525.839648   \n",
       "2016-09-01 02:59:59                                 -500.801673   \n",
       "2016-09-01 03:59:59                                 -500.868509   \n",
       "2016-09-01 04:59:59                                 -509.526725   \n",
       "\n",
       "                     secondary_cleaner.state.floatbank5_b_air  \\\n",
       "date                                                            \n",
       "2016-09-01 00:59:59                                  4.872511   \n",
       "2016-09-01 01:59:59                                  4.878850   \n",
       "2016-09-01 02:59:59                                  4.905125   \n",
       "2016-09-01 03:59:59                                  4.931400   \n",
       "2016-09-01 04:59:59                                  4.957674   \n",
       "\n",
       "                     secondary_cleaner.state.floatbank5_b_level  \\\n",
       "date                                                              \n",
       "2016-09-01 00:59:59                                 -500.037437   \n",
       "2016-09-01 01:59:59                                 -500.162375   \n",
       "2016-09-01 02:59:59                                 -499.828510   \n",
       "2016-09-01 03:59:59                                 -499.963623   \n",
       "2016-09-01 04:59:59                                 -500.360026   \n",
       "\n",
       "                     secondary_cleaner.state.floatbank6_a_air  \\\n",
       "date                                                            \n",
       "2016-09-01 00:59:59                                 26.705889   \n",
       "2016-09-01 01:59:59                                 25.019940   \n",
       "2016-09-01 02:59:59                                 24.994862   \n",
       "2016-09-01 03:59:59                                 24.948919   \n",
       "2016-09-01 04:59:59                                 25.003331   \n",
       "\n",
       "                     secondary_cleaner.state.floatbank6_a_level  \n",
       "date                                                             \n",
       "2016-09-01 00:59:59                                 -499.709414  \n",
       "2016-09-01 01:59:59                                 -499.819438  \n",
       "2016-09-01 02:59:59                                 -500.622559  \n",
       "2016-09-01 03:59:59                                 -498.709987  \n",
       "2016-09-01 04:59:59                                 -500.856333  \n",
       "\n",
       "[5 rows x 52 columns]"
      ]
     },
     "metadata": {},
     "output_type": "display_data"
    },
    {
     "name": "stdout",
     "output_type": "stream",
     "text": [
      "<class 'pandas.core.frame.DataFrame'>\n",
      "DatetimeIndex: 5290 entries, 2016-09-01 00:59:59 to 2017-12-31 23:59:59\n",
      "Data columns (total 52 columns):\n",
      " #   Column                                      Non-Null Count  Dtype  \n",
      "---  ------                                      --------------  -----  \n",
      " 0   primary_cleaner.input.sulfate               5286 non-null   float64\n",
      " 1   primary_cleaner.input.depressant            5285 non-null   float64\n",
      " 2   primary_cleaner.input.feed_size             5290 non-null   float64\n",
      " 3   primary_cleaner.input.xanthate              5286 non-null   float64\n",
      " 4   primary_cleaner.state.floatbank8_a_air      5290 non-null   float64\n",
      " 5   primary_cleaner.state.floatbank8_a_level    5290 non-null   float64\n",
      " 6   primary_cleaner.state.floatbank8_b_air      5290 non-null   float64\n",
      " 7   primary_cleaner.state.floatbank8_b_level    5290 non-null   float64\n",
      " 8   primary_cleaner.state.floatbank8_c_air      5290 non-null   float64\n",
      " 9   primary_cleaner.state.floatbank8_c_level    5290 non-null   float64\n",
      " 10  primary_cleaner.state.floatbank8_d_air      5290 non-null   float64\n",
      " 11  primary_cleaner.state.floatbank8_d_level    5290 non-null   float64\n",
      " 12  rougher.input.feed_ag                       5290 non-null   float64\n",
      " 13  rougher.input.feed_pb                       5290 non-null   float64\n",
      " 14  rougher.input.feed_rate                     5287 non-null   float64\n",
      " 15  rougher.input.feed_size                     5289 non-null   float64\n",
      " 16  rougher.input.feed_sol                      5269 non-null   float64\n",
      " 17  rougher.input.feed_au                       5290 non-null   float64\n",
      " 18  rougher.input.floatbank10_sulfate           5285 non-null   float64\n",
      " 19  rougher.input.floatbank10_xanthate          5290 non-null   float64\n",
      " 20  rougher.input.floatbank11_sulfate           5282 non-null   float64\n",
      " 21  rougher.input.floatbank11_xanthate          5265 non-null   float64\n",
      " 22  rougher.state.floatbank10_a_air             5290 non-null   float64\n",
      " 23  rougher.state.floatbank10_a_level           5290 non-null   float64\n",
      " 24  rougher.state.floatbank10_b_air             5290 non-null   float64\n",
      " 25  rougher.state.floatbank10_b_level           5290 non-null   float64\n",
      " 26  rougher.state.floatbank10_c_air             5290 non-null   float64\n",
      " 27  rougher.state.floatbank10_c_level           5290 non-null   float64\n",
      " 28  rougher.state.floatbank10_d_air             5290 non-null   float64\n",
      " 29  rougher.state.floatbank10_d_level           5290 non-null   float64\n",
      " 30  rougher.state.floatbank10_e_air             5290 non-null   float64\n",
      " 31  rougher.state.floatbank10_e_level           5290 non-null   float64\n",
      " 32  rougher.state.floatbank10_f_air             5290 non-null   float64\n",
      " 33  rougher.state.floatbank10_f_level           5290 non-null   float64\n",
      " 34  secondary_cleaner.state.floatbank2_a_air    5287 non-null   float64\n",
      " 35  secondary_cleaner.state.floatbank2_a_level  5290 non-null   float64\n",
      " 36  secondary_cleaner.state.floatbank2_b_air    5288 non-null   float64\n",
      " 37  secondary_cleaner.state.floatbank2_b_level  5290 non-null   float64\n",
      " 38  secondary_cleaner.state.floatbank3_a_air    5281 non-null   float64\n",
      " 39  secondary_cleaner.state.floatbank3_a_level  5290 non-null   float64\n",
      " 40  secondary_cleaner.state.floatbank3_b_air    5290 non-null   float64\n",
      " 41  secondary_cleaner.state.floatbank3_b_level  5290 non-null   float64\n",
      " 42  secondary_cleaner.state.floatbank4_a_air    5290 non-null   float64\n",
      " 43  secondary_cleaner.state.floatbank4_a_level  5290 non-null   float64\n",
      " 44  secondary_cleaner.state.floatbank4_b_air    5290 non-null   float64\n",
      " 45  secondary_cleaner.state.floatbank4_b_level  5290 non-null   float64\n",
      " 46  secondary_cleaner.state.floatbank5_a_air    5290 non-null   float64\n",
      " 47  secondary_cleaner.state.floatbank5_a_level  5290 non-null   float64\n",
      " 48  secondary_cleaner.state.floatbank5_b_air    5290 non-null   float64\n",
      " 49  secondary_cleaner.state.floatbank5_b_level  5290 non-null   float64\n",
      " 50  secondary_cleaner.state.floatbank6_a_air    5290 non-null   float64\n",
      " 51  secondary_cleaner.state.floatbank6_a_level  5290 non-null   float64\n",
      "dtypes: float64(52)\n",
      "memory usage: 2.1 MB\n"
     ]
    },
    {
     "data": {
      "text/html": [
       "<div>\n",
       "<style scoped>\n",
       "    .dataframe tbody tr th:only-of-type {\n",
       "        vertical-align: middle;\n",
       "    }\n",
       "\n",
       "    .dataframe tbody tr th {\n",
       "        vertical-align: top;\n",
       "    }\n",
       "\n",
       "    .dataframe thead th {\n",
       "        text-align: right;\n",
       "    }\n",
       "</style>\n",
       "<table border=\"1\" class=\"dataframe\">\n",
       "  <thead>\n",
       "    <tr style=\"text-align: right;\">\n",
       "      <th></th>\n",
       "      <th>final.output.concentrate_ag</th>\n",
       "      <th>final.output.concentrate_pb</th>\n",
       "      <th>final.output.concentrate_sol</th>\n",
       "      <th>final.output.concentrate_au</th>\n",
       "      <th>final.output.recovery</th>\n",
       "      <th>final.output.tail_ag</th>\n",
       "      <th>final.output.tail_pb</th>\n",
       "      <th>final.output.tail_sol</th>\n",
       "      <th>final.output.tail_au</th>\n",
       "      <th>primary_cleaner.input.sulfate</th>\n",
       "      <th>...</th>\n",
       "      <th>secondary_cleaner.state.floatbank4_a_air</th>\n",
       "      <th>secondary_cleaner.state.floatbank4_a_level</th>\n",
       "      <th>secondary_cleaner.state.floatbank4_b_air</th>\n",
       "      <th>secondary_cleaner.state.floatbank4_b_level</th>\n",
       "      <th>secondary_cleaner.state.floatbank5_a_air</th>\n",
       "      <th>secondary_cleaner.state.floatbank5_a_level</th>\n",
       "      <th>secondary_cleaner.state.floatbank5_b_air</th>\n",
       "      <th>secondary_cleaner.state.floatbank5_b_level</th>\n",
       "      <th>secondary_cleaner.state.floatbank6_a_air</th>\n",
       "      <th>secondary_cleaner.state.floatbank6_a_level</th>\n",
       "    </tr>\n",
       "    <tr>\n",
       "      <th>date</th>\n",
       "      <th></th>\n",
       "      <th></th>\n",
       "      <th></th>\n",
       "      <th></th>\n",
       "      <th></th>\n",
       "      <th></th>\n",
       "      <th></th>\n",
       "      <th></th>\n",
       "      <th></th>\n",
       "      <th></th>\n",
       "      <th></th>\n",
       "      <th></th>\n",
       "      <th></th>\n",
       "      <th></th>\n",
       "      <th></th>\n",
       "      <th></th>\n",
       "      <th></th>\n",
       "      <th></th>\n",
       "      <th></th>\n",
       "      <th></th>\n",
       "      <th></th>\n",
       "    </tr>\n",
       "  </thead>\n",
       "  <tbody>\n",
       "    <tr>\n",
       "      <th>2016-01-15 00:00:00</th>\n",
       "      <td>6.055403</td>\n",
       "      <td>9.889648</td>\n",
       "      <td>5.507324</td>\n",
       "      <td>42.192020</td>\n",
       "      <td>70.541216</td>\n",
       "      <td>10.411962</td>\n",
       "      <td>0.895447</td>\n",
       "      <td>16.904297</td>\n",
       "      <td>2.143149</td>\n",
       "      <td>127.092003</td>\n",
       "      <td>...</td>\n",
       "      <td>14.016835</td>\n",
       "      <td>-502.488007</td>\n",
       "      <td>12.099931</td>\n",
       "      <td>-504.715942</td>\n",
       "      <td>9.925633</td>\n",
       "      <td>-498.310211</td>\n",
       "      <td>8.079666</td>\n",
       "      <td>-500.470978</td>\n",
       "      <td>14.151341</td>\n",
       "      <td>-605.841980</td>\n",
       "    </tr>\n",
       "    <tr>\n",
       "      <th>2016-01-15 01:00:00</th>\n",
       "      <td>6.029369</td>\n",
       "      <td>9.968944</td>\n",
       "      <td>5.257781</td>\n",
       "      <td>42.701629</td>\n",
       "      <td>69.266198</td>\n",
       "      <td>10.462676</td>\n",
       "      <td>0.927452</td>\n",
       "      <td>16.634514</td>\n",
       "      <td>2.224930</td>\n",
       "      <td>125.629232</td>\n",
       "      <td>...</td>\n",
       "      <td>13.992281</td>\n",
       "      <td>-505.503262</td>\n",
       "      <td>11.950531</td>\n",
       "      <td>-501.331529</td>\n",
       "      <td>10.039245</td>\n",
       "      <td>-500.169983</td>\n",
       "      <td>7.984757</td>\n",
       "      <td>-500.582168</td>\n",
       "      <td>13.998353</td>\n",
       "      <td>-599.787184</td>\n",
       "    </tr>\n",
       "    <tr>\n",
       "      <th>2016-01-15 02:00:00</th>\n",
       "      <td>6.055926</td>\n",
       "      <td>10.213995</td>\n",
       "      <td>5.383759</td>\n",
       "      <td>42.657501</td>\n",
       "      <td>68.116445</td>\n",
       "      <td>10.507046</td>\n",
       "      <td>0.953716</td>\n",
       "      <td>16.208849</td>\n",
       "      <td>2.257889</td>\n",
       "      <td>123.819808</td>\n",
       "      <td>...</td>\n",
       "      <td>14.015015</td>\n",
       "      <td>-502.520901</td>\n",
       "      <td>11.912783</td>\n",
       "      <td>-501.133383</td>\n",
       "      <td>10.070913</td>\n",
       "      <td>-500.129135</td>\n",
       "      <td>8.013877</td>\n",
       "      <td>-500.517572</td>\n",
       "      <td>14.028663</td>\n",
       "      <td>-601.427363</td>\n",
       "    </tr>\n",
       "    <tr>\n",
       "      <th>2016-01-15 03:00:00</th>\n",
       "      <td>6.047977</td>\n",
       "      <td>9.977019</td>\n",
       "      <td>4.858634</td>\n",
       "      <td>42.689819</td>\n",
       "      <td>68.347543</td>\n",
       "      <td>10.422762</td>\n",
       "      <td>0.883763</td>\n",
       "      <td>16.532835</td>\n",
       "      <td>2.146849</td>\n",
       "      <td>122.270188</td>\n",
       "      <td>...</td>\n",
       "      <td>14.036510</td>\n",
       "      <td>-500.857308</td>\n",
       "      <td>11.999550</td>\n",
       "      <td>-501.193686</td>\n",
       "      <td>9.970366</td>\n",
       "      <td>-499.201640</td>\n",
       "      <td>7.977324</td>\n",
       "      <td>-500.255908</td>\n",
       "      <td>14.005551</td>\n",
       "      <td>-599.996129</td>\n",
       "    </tr>\n",
       "    <tr>\n",
       "      <th>2016-01-15 04:00:00</th>\n",
       "      <td>6.148599</td>\n",
       "      <td>10.142511</td>\n",
       "      <td>4.939416</td>\n",
       "      <td>42.774141</td>\n",
       "      <td>66.927016</td>\n",
       "      <td>10.360302</td>\n",
       "      <td>0.792826</td>\n",
       "      <td>16.525686</td>\n",
       "      <td>2.055292</td>\n",
       "      <td>117.988169</td>\n",
       "      <td>...</td>\n",
       "      <td>14.027298</td>\n",
       "      <td>-499.838632</td>\n",
       "      <td>11.953070</td>\n",
       "      <td>-501.053894</td>\n",
       "      <td>9.925709</td>\n",
       "      <td>-501.686727</td>\n",
       "      <td>7.894242</td>\n",
       "      <td>-500.356035</td>\n",
       "      <td>13.996647</td>\n",
       "      <td>-601.496691</td>\n",
       "    </tr>\n",
       "  </tbody>\n",
       "</table>\n",
       "<p>5 rows × 86 columns</p>\n",
       "</div>"
      ],
      "text/plain": [
       "                     final.output.concentrate_ag  final.output.concentrate_pb  \\\n",
       "date                                                                            \n",
       "2016-01-15 00:00:00                     6.055403                     9.889648   \n",
       "2016-01-15 01:00:00                     6.029369                     9.968944   \n",
       "2016-01-15 02:00:00                     6.055926                    10.213995   \n",
       "2016-01-15 03:00:00                     6.047977                     9.977019   \n",
       "2016-01-15 04:00:00                     6.148599                    10.142511   \n",
       "\n",
       "                     final.output.concentrate_sol  \\\n",
       "date                                                \n",
       "2016-01-15 00:00:00                      5.507324   \n",
       "2016-01-15 01:00:00                      5.257781   \n",
       "2016-01-15 02:00:00                      5.383759   \n",
       "2016-01-15 03:00:00                      4.858634   \n",
       "2016-01-15 04:00:00                      4.939416   \n",
       "\n",
       "                     final.output.concentrate_au  final.output.recovery  \\\n",
       "date                                                                      \n",
       "2016-01-15 00:00:00                    42.192020              70.541216   \n",
       "2016-01-15 01:00:00                    42.701629              69.266198   \n",
       "2016-01-15 02:00:00                    42.657501              68.116445   \n",
       "2016-01-15 03:00:00                    42.689819              68.347543   \n",
       "2016-01-15 04:00:00                    42.774141              66.927016   \n",
       "\n",
       "                     final.output.tail_ag  final.output.tail_pb  \\\n",
       "date                                                              \n",
       "2016-01-15 00:00:00             10.411962              0.895447   \n",
       "2016-01-15 01:00:00             10.462676              0.927452   \n",
       "2016-01-15 02:00:00             10.507046              0.953716   \n",
       "2016-01-15 03:00:00             10.422762              0.883763   \n",
       "2016-01-15 04:00:00             10.360302              0.792826   \n",
       "\n",
       "                     final.output.tail_sol  final.output.tail_au  \\\n",
       "date                                                               \n",
       "2016-01-15 00:00:00              16.904297              2.143149   \n",
       "2016-01-15 01:00:00              16.634514              2.224930   \n",
       "2016-01-15 02:00:00              16.208849              2.257889   \n",
       "2016-01-15 03:00:00              16.532835              2.146849   \n",
       "2016-01-15 04:00:00              16.525686              2.055292   \n",
       "\n",
       "                     primary_cleaner.input.sulfate  ...  \\\n",
       "date                                                ...   \n",
       "2016-01-15 00:00:00                     127.092003  ...   \n",
       "2016-01-15 01:00:00                     125.629232  ...   \n",
       "2016-01-15 02:00:00                     123.819808  ...   \n",
       "2016-01-15 03:00:00                     122.270188  ...   \n",
       "2016-01-15 04:00:00                     117.988169  ...   \n",
       "\n",
       "                     secondary_cleaner.state.floatbank4_a_air  \\\n",
       "date                                                            \n",
       "2016-01-15 00:00:00                                 14.016835   \n",
       "2016-01-15 01:00:00                                 13.992281   \n",
       "2016-01-15 02:00:00                                 14.015015   \n",
       "2016-01-15 03:00:00                                 14.036510   \n",
       "2016-01-15 04:00:00                                 14.027298   \n",
       "\n",
       "                     secondary_cleaner.state.floatbank4_a_level  \\\n",
       "date                                                              \n",
       "2016-01-15 00:00:00                                 -502.488007   \n",
       "2016-01-15 01:00:00                                 -505.503262   \n",
       "2016-01-15 02:00:00                                 -502.520901   \n",
       "2016-01-15 03:00:00                                 -500.857308   \n",
       "2016-01-15 04:00:00                                 -499.838632   \n",
       "\n",
       "                     secondary_cleaner.state.floatbank4_b_air  \\\n",
       "date                                                            \n",
       "2016-01-15 00:00:00                                 12.099931   \n",
       "2016-01-15 01:00:00                                 11.950531   \n",
       "2016-01-15 02:00:00                                 11.912783   \n",
       "2016-01-15 03:00:00                                 11.999550   \n",
       "2016-01-15 04:00:00                                 11.953070   \n",
       "\n",
       "                     secondary_cleaner.state.floatbank4_b_level  \\\n",
       "date                                                              \n",
       "2016-01-15 00:00:00                                 -504.715942   \n",
       "2016-01-15 01:00:00                                 -501.331529   \n",
       "2016-01-15 02:00:00                                 -501.133383   \n",
       "2016-01-15 03:00:00                                 -501.193686   \n",
       "2016-01-15 04:00:00                                 -501.053894   \n",
       "\n",
       "                     secondary_cleaner.state.floatbank5_a_air  \\\n",
       "date                                                            \n",
       "2016-01-15 00:00:00                                  9.925633   \n",
       "2016-01-15 01:00:00                                 10.039245   \n",
       "2016-01-15 02:00:00                                 10.070913   \n",
       "2016-01-15 03:00:00                                  9.970366   \n",
       "2016-01-15 04:00:00                                  9.925709   \n",
       "\n",
       "                     secondary_cleaner.state.floatbank5_a_level  \\\n",
       "date                                                              \n",
       "2016-01-15 00:00:00                                 -498.310211   \n",
       "2016-01-15 01:00:00                                 -500.169983   \n",
       "2016-01-15 02:00:00                                 -500.129135   \n",
       "2016-01-15 03:00:00                                 -499.201640   \n",
       "2016-01-15 04:00:00                                 -501.686727   \n",
       "\n",
       "                     secondary_cleaner.state.floatbank5_b_air  \\\n",
       "date                                                            \n",
       "2016-01-15 00:00:00                                  8.079666   \n",
       "2016-01-15 01:00:00                                  7.984757   \n",
       "2016-01-15 02:00:00                                  8.013877   \n",
       "2016-01-15 03:00:00                                  7.977324   \n",
       "2016-01-15 04:00:00                                  7.894242   \n",
       "\n",
       "                     secondary_cleaner.state.floatbank5_b_level  \\\n",
       "date                                                              \n",
       "2016-01-15 00:00:00                                 -500.470978   \n",
       "2016-01-15 01:00:00                                 -500.582168   \n",
       "2016-01-15 02:00:00                                 -500.517572   \n",
       "2016-01-15 03:00:00                                 -500.255908   \n",
       "2016-01-15 04:00:00                                 -500.356035   \n",
       "\n",
       "                     secondary_cleaner.state.floatbank6_a_air  \\\n",
       "date                                                            \n",
       "2016-01-15 00:00:00                                 14.151341   \n",
       "2016-01-15 01:00:00                                 13.998353   \n",
       "2016-01-15 02:00:00                                 14.028663   \n",
       "2016-01-15 03:00:00                                 14.005551   \n",
       "2016-01-15 04:00:00                                 13.996647   \n",
       "\n",
       "                     secondary_cleaner.state.floatbank6_a_level  \n",
       "date                                                             \n",
       "2016-01-15 00:00:00                                 -605.841980  \n",
       "2016-01-15 01:00:00                                 -599.787184  \n",
       "2016-01-15 02:00:00                                 -601.427363  \n",
       "2016-01-15 03:00:00                                 -599.996129  \n",
       "2016-01-15 04:00:00                                 -601.496691  \n",
       "\n",
       "[5 rows x 86 columns]"
      ]
     },
     "metadata": {},
     "output_type": "display_data"
    },
    {
     "name": "stdout",
     "output_type": "stream",
     "text": [
      "<class 'pandas.core.frame.DataFrame'>\n",
      "DatetimeIndex: 19439 entries, 2016-01-15 00:00:00 to 2018-08-18 10:59:59\n",
      "Data columns (total 86 columns):\n",
      " #   Column                                              Non-Null Count  Dtype  \n",
      "---  ------                                              --------------  -----  \n",
      " 0   final.output.concentrate_ag                         19438 non-null  float64\n",
      " 1   final.output.concentrate_pb                         19438 non-null  float64\n",
      " 2   final.output.concentrate_sol                        19228 non-null  float64\n",
      " 3   final.output.concentrate_au                         19439 non-null  float64\n",
      " 4   final.output.recovery                               19439 non-null  float64\n",
      " 5   final.output.tail_ag                                19438 non-null  float64\n",
      " 6   final.output.tail_pb                                19338 non-null  float64\n",
      " 7   final.output.tail_sol                               19433 non-null  float64\n",
      " 8   final.output.tail_au                                19439 non-null  float64\n",
      " 9   primary_cleaner.input.sulfate                       19415 non-null  float64\n",
      " 10  primary_cleaner.input.depressant                    19402 non-null  float64\n",
      " 11  primary_cleaner.input.feed_size                     19439 non-null  float64\n",
      " 12  primary_cleaner.input.xanthate                      19335 non-null  float64\n",
      " 13  primary_cleaner.output.concentrate_ag               19439 non-null  float64\n",
      " 14  primary_cleaner.output.concentrate_pb               19323 non-null  float64\n",
      " 15  primary_cleaner.output.concentrate_sol              19069 non-null  float64\n",
      " 16  primary_cleaner.output.concentrate_au               19439 non-null  float64\n",
      " 17  primary_cleaner.output.tail_ag                      19435 non-null  float64\n",
      " 18  primary_cleaner.output.tail_pb                      19418 non-null  float64\n",
      " 19  primary_cleaner.output.tail_sol                     19377 non-null  float64\n",
      " 20  primary_cleaner.output.tail_au                      19439 non-null  float64\n",
      " 21  primary_cleaner.state.floatbank8_a_air              19435 non-null  float64\n",
      " 22  primary_cleaner.state.floatbank8_a_level            19438 non-null  float64\n",
      " 23  primary_cleaner.state.floatbank8_b_air              19435 non-null  float64\n",
      " 24  primary_cleaner.state.floatbank8_b_level            19438 non-null  float64\n",
      " 25  primary_cleaner.state.floatbank8_c_air              19437 non-null  float64\n",
      " 26  primary_cleaner.state.floatbank8_c_level            19438 non-null  float64\n",
      " 27  primary_cleaner.state.floatbank8_d_air              19436 non-null  float64\n",
      " 28  primary_cleaner.state.floatbank8_d_level            19438 non-null  float64\n",
      " 29  rougher.calculation.sulfate_to_au_concentrate       19437 non-null  float64\n",
      " 30  rougher.calculation.floatbank10_sulfate_to_au_feed  19437 non-null  float64\n",
      " 31  rougher.calculation.floatbank11_sulfate_to_au_feed  19437 non-null  float64\n",
      " 32  rougher.calculation.au_pb_ratio                     19439 non-null  float64\n",
      " 33  rougher.input.feed_ag                               19439 non-null  float64\n",
      " 34  rougher.input.feed_pb                               19339 non-null  float64\n",
      " 35  rougher.input.feed_rate                             19428 non-null  float64\n",
      " 36  rougher.input.feed_size                             19294 non-null  float64\n",
      " 37  rougher.input.feed_sol                              19340 non-null  float64\n",
      " 38  rougher.input.feed_au                               19439 non-null  float64\n",
      " 39  rougher.input.floatbank10_sulfate                   19405 non-null  float64\n",
      " 40  rougher.input.floatbank10_xanthate                  19431 non-null  float64\n",
      " 41  rougher.input.floatbank11_sulfate                   19395 non-null  float64\n",
      " 42  rougher.input.floatbank11_xanthate                  18986 non-null  float64\n",
      " 43  rougher.output.concentrate_ag                       19439 non-null  float64\n",
      " 44  rougher.output.concentrate_pb                       19439 non-null  float64\n",
      " 45  rougher.output.concentrate_sol                      19416 non-null  float64\n",
      " 46  rougher.output.concentrate_au                       19439 non-null  float64\n",
      " 47  rougher.output.recovery                             19439 non-null  float64\n",
      " 48  rougher.output.tail_ag                              19438 non-null  float64\n",
      " 49  rougher.output.tail_pb                              19439 non-null  float64\n",
      " 50  rougher.output.tail_sol                             19439 non-null  float64\n",
      " 51  rougher.output.tail_au                              19439 non-null  float64\n",
      " 52  rougher.state.floatbank10_a_air                     19438 non-null  float64\n",
      " 53  rougher.state.floatbank10_a_level                   19438 non-null  float64\n",
      " 54  rougher.state.floatbank10_b_air                     19438 non-null  float64\n",
      " 55  rougher.state.floatbank10_b_level                   19438 non-null  float64\n",
      " 56  rougher.state.floatbank10_c_air                     19438 non-null  float64\n",
      " 57  rougher.state.floatbank10_c_level                   19438 non-null  float64\n",
      " 58  rougher.state.floatbank10_d_air                     19439 non-null  float64\n",
      " 59  rougher.state.floatbank10_d_level                   19439 non-null  float64\n",
      " 60  rougher.state.floatbank10_e_air                     19003 non-null  float64\n",
      " 61  rougher.state.floatbank10_e_level                   19439 non-null  float64\n",
      " 62  rougher.state.floatbank10_f_air                     19439 non-null  float64\n",
      " 63  rougher.state.floatbank10_f_level                   19439 non-null  float64\n",
      " 64  secondary_cleaner.output.tail_ag                    19437 non-null  float64\n",
      " 65  secondary_cleaner.output.tail_pb                    19427 non-null  float64\n",
      " 66  secondary_cleaner.output.tail_sol                   17691 non-null  float64\n",
      " 67  secondary_cleaner.output.tail_au                    19439 non-null  float64\n",
      " 68  secondary_cleaner.state.floatbank2_a_air            19219 non-null  float64\n",
      " 69  secondary_cleaner.state.floatbank2_a_level          19438 non-null  float64\n",
      " 70  secondary_cleaner.state.floatbank2_b_air            19416 non-null  float64\n",
      " 71  secondary_cleaner.state.floatbank2_b_level          19438 non-null  float64\n",
      " 72  secondary_cleaner.state.floatbank3_a_air            19426 non-null  float64\n",
      " 73  secondary_cleaner.state.floatbank3_a_level          19438 non-null  float64\n",
      " 74  secondary_cleaner.state.floatbank3_b_air            19438 non-null  float64\n",
      " 75  secondary_cleaner.state.floatbank3_b_level          19438 non-null  float64\n",
      " 76  secondary_cleaner.state.floatbank4_a_air            19433 non-null  float64\n",
      " 77  secondary_cleaner.state.floatbank4_a_level          19438 non-null  float64\n",
      " 78  secondary_cleaner.state.floatbank4_b_air            19438 non-null  float64\n",
      " 79  secondary_cleaner.state.floatbank4_b_level          19438 non-null  float64\n",
      " 80  secondary_cleaner.state.floatbank5_a_air            19438 non-null  float64\n",
      " 81  secondary_cleaner.state.floatbank5_a_level          19438 non-null  float64\n",
      " 82  secondary_cleaner.state.floatbank5_b_air            19438 non-null  float64\n",
      " 83  secondary_cleaner.state.floatbank5_b_level          19438 non-null  float64\n",
      " 84  secondary_cleaner.state.floatbank6_a_air            19437 non-null  float64\n",
      " 85  secondary_cleaner.state.floatbank6_a_level          19438 non-null  float64\n",
      "dtypes: float64(86)\n",
      "memory usage: 12.9 MB\n"
     ]
    }
   ],
   "source": [
    "dfs = {}\n",
    "#для обработки датасетов в циклах сохраним их в словарь\n",
    "for lbl in [DATASET_TRAIN_LBL, \n",
    "            DATASET_TEST_LBL, \n",
    "            DATASET_FULL_LBL]:\n",
    "    \n",
    "    df = pd.read_csv(PATH.replace('*', lbl), \n",
    "                     index_col='date', \n",
    "                     parse_dates=['date'], \n",
    "                     date_parser=pd.to_datetime)\n",
    "    \n",
    "    display(df.head())\n",
    "    df.info()\n",
    "    dfs[lbl] = df\n",
    "#для обработки датасетов по отдельности создадим переменные \n",
    "df_train = dfs[DATASET_TRAIN_LBL] \n",
    "df_test = dfs[DATASET_TEST_LBL]\n",
    "df_full = dfs[DATASET_FULL_LBL]"
   ]
  },
  {
   "cell_type": "markdown",
   "metadata": {},
   "source": [
    "Типы данных определены верно, данные интерпретированы корректно. Столбцы именованы в snake_case, однако чересчур громоздко. Имеются пропуски. \n",
    "\n",
    "### Переименование столбцов\n",
    "Cократим наименования столбцов не потеряв семантику."
   ]
  },
  {
   "cell_type": "code",
   "execution_count": 4,
   "metadata": {},
   "outputs": [],
   "source": [
    "def rename_columns(col_names):\n",
    "    \"\"\"Возвращает список строк, измененных\n",
    "    в соответствии со словарем replacements. \n",
    "    АРГУМЕНТЫ:\n",
    "    col_names -- коллекция изменяемых строк\n",
    "    \"\"\"\n",
    "    result = []\n",
    "    replacements = {'primary' : 'p',\n",
    "                    'secondary' : 's',\n",
    "                    'input' : 'i',\n",
    "                    'output' : 'o',\n",
    "                    'state' : 's',\n",
    "                    'calculation' : 'c',\n",
    "                    'float' : 'flt'} \n",
    "    for col_name in col_names:\n",
    "        for key, value in replacements.items():\n",
    "            col_name = col_name.replace(key, value)\n",
    "        result.append(col_name)\n",
    "        \n",
    "    return result"
   ]
  },
  {
   "cell_type": "code",
   "execution_count": 5,
   "metadata": {},
   "outputs": [],
   "source": [
    "for df in dfs.values(): \n",
    "    df.columns = rename_columns(df.columns)"
   ]
  },
  {
   "cell_type": "markdown",
   "metadata": {},
   "source": [
    "### Проверка эффективности обогащения \n",
    "На обучающей выборке определим расчетное значение `rougher.o.recovery`. Сравним его с экспериментальным, посчитав среднее абсолютное отклонение (MAE).\n",
    "\n",
    "Опишем функцию для расчета эффективности обогащения."
   ]
  },
  {
   "cell_type": "code",
   "execution_count": 6,
   "metadata": {},
   "outputs": [],
   "source": [
    "def recovery(c, f, t):\n",
    "    \"\"\"Возвращает эффективность обогащения руды.\n",
    "    АРГУМЕНТЫ:\n",
    "    c -- доля золота в сырье после этапа обогащения \n",
    "    f -- доля золота в сырье до этапа обогащения \n",
    "    t -- доля золота в отвальных хвостах после этапа обогащения\n",
    "    \"\"\"\n",
    "    return (c * (f - t)) / (f * (c - t)) * 100"
   ]
  },
  {
   "cell_type": "code",
   "execution_count": 7,
   "metadata": {},
   "outputs": [
    {
     "name": "stdout",
     "output_type": "stream",
     "text": [
      "Среднее абсолютное отклонения (MAE): 0.0\n"
     ]
    }
   ],
   "source": [
    "#определяем переменные для расчета\n",
    "f = df_train['rougher.i.feed_au']\n",
    "c = df_train['rougher.o.concentrate_au']\n",
    "t = df_train['rougher.o.tail_au']\n",
    "#определяем экспериментальные значения\n",
    "recovery_true = df_train['rougher.o.recovery'] \n",
    "#определяем расчетные значения\n",
    "recovery_calculated = recovery(c, f, t)\n",
    "#считаем MAE\n",
    "mae = mean_absolute_error(recovery_true, recovery_calculated)\n",
    "print('Среднее абсолютное отклонения (MAE):', round(mae, 2))"
   ]
  },
  {
   "cell_type": "markdown",
   "metadata": {},
   "source": [
    "Расчетные и экспериментальные значения полностью совпадают.\n",
    "### Анализ признаков тестовой выборки\n",
    "Рассмотрим набор признаков тестовой выборки. На примере обучающей выборки определим недоступные признаки. "
   ]
  },
  {
   "cell_type": "code",
   "execution_count": 8,
   "metadata": {
    "scrolled": true
   },
   "outputs": [
    {
     "name": "stdout",
     "output_type": "stream",
     "text": [
      "Признаков, доступных в тестовой выборке: 52\n"
     ]
    },
    {
     "data": {
      "text/plain": [
       "{'p_cleaner.i.depressant',\n",
       " 'p_cleaner.i.feed_size',\n",
       " 'p_cleaner.i.sulfate',\n",
       " 'p_cleaner.i.xanthate',\n",
       " 'p_cleaner.s.fltbank8_a_air',\n",
       " 'p_cleaner.s.fltbank8_a_level',\n",
       " 'p_cleaner.s.fltbank8_b_air',\n",
       " 'p_cleaner.s.fltbank8_b_level',\n",
       " 'p_cleaner.s.fltbank8_c_air',\n",
       " 'p_cleaner.s.fltbank8_c_level',\n",
       " 'p_cleaner.s.fltbank8_d_air',\n",
       " 'p_cleaner.s.fltbank8_d_level',\n",
       " 'rougher.i.feed_ag',\n",
       " 'rougher.i.feed_au',\n",
       " 'rougher.i.feed_pb',\n",
       " 'rougher.i.feed_rate',\n",
       " 'rougher.i.feed_size',\n",
       " 'rougher.i.feed_sol',\n",
       " 'rougher.i.fltbank10_sulfate',\n",
       " 'rougher.i.fltbank10_xanthate',\n",
       " 'rougher.i.fltbank11_sulfate',\n",
       " 'rougher.i.fltbank11_xanthate',\n",
       " 'rougher.s.fltbank10_a_air',\n",
       " 'rougher.s.fltbank10_a_level',\n",
       " 'rougher.s.fltbank10_b_air',\n",
       " 'rougher.s.fltbank10_b_level',\n",
       " 'rougher.s.fltbank10_c_air',\n",
       " 'rougher.s.fltbank10_c_level',\n",
       " 'rougher.s.fltbank10_d_air',\n",
       " 'rougher.s.fltbank10_d_level',\n",
       " 'rougher.s.fltbank10_e_air',\n",
       " 'rougher.s.fltbank10_e_level',\n",
       " 'rougher.s.fltbank10_f_air',\n",
       " 'rougher.s.fltbank10_f_level',\n",
       " 's_cleaner.s.fltbank2_a_air',\n",
       " 's_cleaner.s.fltbank2_a_level',\n",
       " 's_cleaner.s.fltbank2_b_air',\n",
       " 's_cleaner.s.fltbank2_b_level',\n",
       " 's_cleaner.s.fltbank3_a_air',\n",
       " 's_cleaner.s.fltbank3_a_level',\n",
       " 's_cleaner.s.fltbank3_b_air',\n",
       " 's_cleaner.s.fltbank3_b_level',\n",
       " 's_cleaner.s.fltbank4_a_air',\n",
       " 's_cleaner.s.fltbank4_a_level',\n",
       " 's_cleaner.s.fltbank4_b_air',\n",
       " 's_cleaner.s.fltbank4_b_level',\n",
       " 's_cleaner.s.fltbank5_a_air',\n",
       " 's_cleaner.s.fltbank5_a_level',\n",
       " 's_cleaner.s.fltbank5_b_air',\n",
       " 's_cleaner.s.fltbank5_b_level',\n",
       " 's_cleaner.s.fltbank6_a_air',\n",
       " 's_cleaner.s.fltbank6_a_level'}"
      ]
     },
     "metadata": {},
     "output_type": "display_data"
    }
   ],
   "source": [
    "df_test_columns = set(df_test.columns)\n",
    "print('Признаков, доступных в тестовой выборке:', len(df_test_columns))\n",
    "display(df_test_columns)"
   ]
  },
  {
   "cell_type": "code",
   "execution_count": 9,
   "metadata": {
    "scrolled": true
   },
   "outputs": [
    {
     "name": "stdout",
     "output_type": "stream",
     "text": [
      "Признаков, недоступных в тестовой выборке: 34\n"
     ]
    },
    {
     "data": {
      "text/plain": [
       "{'final.o.concentrate_ag',\n",
       " 'final.o.concentrate_au',\n",
       " 'final.o.concentrate_pb',\n",
       " 'final.o.concentrate_sol',\n",
       " 'final.o.recovery',\n",
       " 'final.o.tail_ag',\n",
       " 'final.o.tail_au',\n",
       " 'final.o.tail_pb',\n",
       " 'final.o.tail_sol',\n",
       " 'p_cleaner.o.concentrate_ag',\n",
       " 'p_cleaner.o.concentrate_au',\n",
       " 'p_cleaner.o.concentrate_pb',\n",
       " 'p_cleaner.o.concentrate_sol',\n",
       " 'p_cleaner.o.tail_ag',\n",
       " 'p_cleaner.o.tail_au',\n",
       " 'p_cleaner.o.tail_pb',\n",
       " 'p_cleaner.o.tail_sol',\n",
       " 'rougher.c.au_pb_ratio',\n",
       " 'rougher.c.fltbank10_sulfate_to_au_feed',\n",
       " 'rougher.c.fltbank11_sulfate_to_au_feed',\n",
       " 'rougher.c.sulfate_to_au_concentrate',\n",
       " 'rougher.o.concentrate_ag',\n",
       " 'rougher.o.concentrate_au',\n",
       " 'rougher.o.concentrate_pb',\n",
       " 'rougher.o.concentrate_sol',\n",
       " 'rougher.o.recovery',\n",
       " 'rougher.o.tail_ag',\n",
       " 'rougher.o.tail_au',\n",
       " 'rougher.o.tail_pb',\n",
       " 'rougher.o.tail_sol',\n",
       " 's_cleaner.o.tail_ag',\n",
       " 's_cleaner.o.tail_au',\n",
       " 's_cleaner.o.tail_pb',\n",
       " 's_cleaner.o.tail_sol'}"
      ]
     },
     "metadata": {},
     "output_type": "display_data"
    }
   ],
   "source": [
    "df_train_columns = set(df_train.columns)\n",
    "difference = df_train_columns - df_test_columns \n",
    "print('Признаков, недоступных в тестовой выборке:', len(difference))\n",
    "display(difference)    "
   ]
  },
  {
   "cell_type": "markdown",
   "metadata": {},
   "source": [
    "Для всех этапов процесса обогащения в тестовой выборке:\n",
    " - присутствуют признаки, определяющие входные параметры и состояние этапа (метки `.i.` и `.s.` соответственно);\n",
    " - отсутствуют признаки, определяющие выходные и расчетные параметры этапа (метки `.o.` и `.c.` соответственно).\n",
    " \n",
    "Вероятно мы наблюдаем своеобразную подсказку, которая поможет в выборе признаков для обучения. Дабы избежать утечки, мы должны обучать модель на данных, известных ДО момента замера/предсказания целевого признака. Иначе говоря, мы не можем использовать для обучения выходные и расчетные параметры этапов технологического процесса, т.к. на момент предсказания они неизвестны. \n",
    "\n",
    "Учитывая изложенное, используем набор признаков, доступный в тестовой выборке, для обучения моделей в дальнейшем.\n",
    "\n",
    "### Обработка пропусков\n",
    "Сосредоточимся на обучающей и тестовой выборках. Полные данные используем для сравнений и в качестве донора. \n",
    "\n",
    "Определим функцию, представляющую данные о пропусках. "
   ]
  },
  {
   "cell_type": "code",
   "execution_count": 10,
   "metadata": {},
   "outputs": [],
   "source": [
    "def isna_summary(data_frame):\n",
    "    \"\"\"Возвращает DataFrame с количеством \n",
    "    и процентом пропусков в столбцах.\n",
    "    АРГУМЕНТЫ\n",
    "    data_frame -- DataFrame для анализа\n",
    "    \"\"\"\n",
    "    nulls = data_frame.isna()\n",
    "    result = pd.concat([nulls.sum(), nulls.mean() * 100], axis=1)\n",
    "    result.columns = ['sum', 'percent']\n",
    "    return result[result['sum'] > 0]    "
   ]
  },
  {
   "cell_type": "markdown",
   "metadata": {},
   "source": [
    "Рассмотрим пропуски в разрезе признаков, которые мы намерены использовать для обучения моделей.  "
   ]
  },
  {
   "cell_type": "code",
   "execution_count": 11,
   "metadata": {
    "scrolled": true
   },
   "outputs": [
    {
     "data": {
      "text/html": [
       "<div>\n",
       "<style scoped>\n",
       "    .dataframe tbody tr th:only-of-type {\n",
       "        vertical-align: middle;\n",
       "    }\n",
       "\n",
       "    .dataframe tbody tr th {\n",
       "        vertical-align: top;\n",
       "    }\n",
       "\n",
       "    .dataframe thead th {\n",
       "        text-align: right;\n",
       "    }\n",
       "</style>\n",
       "<table border=\"1\" class=\"dataframe\">\n",
       "  <thead>\n",
       "    <tr style=\"text-align: right;\">\n",
       "      <th></th>\n",
       "      <th>sum_train</th>\n",
       "      <th>percent_train</th>\n",
       "      <th>sum_test</th>\n",
       "      <th>percent_test</th>\n",
       "    </tr>\n",
       "  </thead>\n",
       "  <tbody>\n",
       "    <tr>\n",
       "      <th>p_cleaner.i.depressant</th>\n",
       "      <td>32</td>\n",
       "      <td>0.226164</td>\n",
       "      <td>5.0</td>\n",
       "      <td>0.094518</td>\n",
       "    </tr>\n",
       "    <tr>\n",
       "      <th>p_cleaner.i.sulfate</th>\n",
       "      <td>20</td>\n",
       "      <td>0.141353</td>\n",
       "      <td>4.0</td>\n",
       "      <td>0.075614</td>\n",
       "    </tr>\n",
       "    <tr>\n",
       "      <th>p_cleaner.i.xanthate</th>\n",
       "      <td>100</td>\n",
       "      <td>0.706764</td>\n",
       "      <td>4.0</td>\n",
       "      <td>0.075614</td>\n",
       "    </tr>\n",
       "    <tr>\n",
       "      <th>p_cleaner.s.fltbank8_a_air</th>\n",
       "      <td>4</td>\n",
       "      <td>0.028271</td>\n",
       "      <td>NaN</td>\n",
       "      <td>NaN</td>\n",
       "    </tr>\n",
       "    <tr>\n",
       "      <th>p_cleaner.s.fltbank8_a_level</th>\n",
       "      <td>1</td>\n",
       "      <td>0.007068</td>\n",
       "      <td>NaN</td>\n",
       "      <td>NaN</td>\n",
       "    </tr>\n",
       "    <tr>\n",
       "      <th>p_cleaner.s.fltbank8_b_air</th>\n",
       "      <td>4</td>\n",
       "      <td>0.028271</td>\n",
       "      <td>NaN</td>\n",
       "      <td>NaN</td>\n",
       "    </tr>\n",
       "    <tr>\n",
       "      <th>p_cleaner.s.fltbank8_b_level</th>\n",
       "      <td>1</td>\n",
       "      <td>0.007068</td>\n",
       "      <td>NaN</td>\n",
       "      <td>NaN</td>\n",
       "    </tr>\n",
       "    <tr>\n",
       "      <th>p_cleaner.s.fltbank8_c_air</th>\n",
       "      <td>2</td>\n",
       "      <td>0.014135</td>\n",
       "      <td>NaN</td>\n",
       "      <td>NaN</td>\n",
       "    </tr>\n",
       "    <tr>\n",
       "      <th>p_cleaner.s.fltbank8_c_level</th>\n",
       "      <td>1</td>\n",
       "      <td>0.007068</td>\n",
       "      <td>NaN</td>\n",
       "      <td>NaN</td>\n",
       "    </tr>\n",
       "    <tr>\n",
       "      <th>p_cleaner.s.fltbank8_d_air</th>\n",
       "      <td>3</td>\n",
       "      <td>0.021203</td>\n",
       "      <td>NaN</td>\n",
       "      <td>NaN</td>\n",
       "    </tr>\n",
       "    <tr>\n",
       "      <th>p_cleaner.s.fltbank8_d_level</th>\n",
       "      <td>1</td>\n",
       "      <td>0.007068</td>\n",
       "      <td>NaN</td>\n",
       "      <td>NaN</td>\n",
       "    </tr>\n",
       "    <tr>\n",
       "      <th>rougher.i.feed_pb</th>\n",
       "      <td>100</td>\n",
       "      <td>0.706764</td>\n",
       "      <td>NaN</td>\n",
       "      <td>NaN</td>\n",
       "    </tr>\n",
       "    <tr>\n",
       "      <th>rougher.i.feed_rate</th>\n",
       "      <td>8</td>\n",
       "      <td>0.056541</td>\n",
       "      <td>3.0</td>\n",
       "      <td>0.056711</td>\n",
       "    </tr>\n",
       "    <tr>\n",
       "      <th>rougher.i.feed_size</th>\n",
       "      <td>144</td>\n",
       "      <td>1.017740</td>\n",
       "      <td>1.0</td>\n",
       "      <td>0.018904</td>\n",
       "    </tr>\n",
       "    <tr>\n",
       "      <th>rougher.i.feed_sol</th>\n",
       "      <td>78</td>\n",
       "      <td>0.551276</td>\n",
       "      <td>21.0</td>\n",
       "      <td>0.396975</td>\n",
       "    </tr>\n",
       "    <tr>\n",
       "      <th>rougher.i.fltbank10_sulfate</th>\n",
       "      <td>29</td>\n",
       "      <td>0.204961</td>\n",
       "      <td>5.0</td>\n",
       "      <td>0.094518</td>\n",
       "    </tr>\n",
       "    <tr>\n",
       "      <th>rougher.i.fltbank10_xanthate</th>\n",
       "      <td>8</td>\n",
       "      <td>0.056541</td>\n",
       "      <td>NaN</td>\n",
       "      <td>NaN</td>\n",
       "    </tr>\n",
       "    <tr>\n",
       "      <th>rougher.i.fltbank11_sulfate</th>\n",
       "      <td>36</td>\n",
       "      <td>0.254435</td>\n",
       "      <td>8.0</td>\n",
       "      <td>0.151229</td>\n",
       "    </tr>\n",
       "    <tr>\n",
       "      <th>rougher.i.fltbank11_xanthate</th>\n",
       "      <td>428</td>\n",
       "      <td>3.024949</td>\n",
       "      <td>25.0</td>\n",
       "      <td>0.472590</td>\n",
       "    </tr>\n",
       "    <tr>\n",
       "      <th>rougher.s.fltbank10_a_air</th>\n",
       "      <td>1</td>\n",
       "      <td>0.007068</td>\n",
       "      <td>NaN</td>\n",
       "      <td>NaN</td>\n",
       "    </tr>\n",
       "    <tr>\n",
       "      <th>rougher.s.fltbank10_a_level</th>\n",
       "      <td>1</td>\n",
       "      <td>0.007068</td>\n",
       "      <td>NaN</td>\n",
       "      <td>NaN</td>\n",
       "    </tr>\n",
       "    <tr>\n",
       "      <th>rougher.s.fltbank10_b_air</th>\n",
       "      <td>1</td>\n",
       "      <td>0.007068</td>\n",
       "      <td>NaN</td>\n",
       "      <td>NaN</td>\n",
       "    </tr>\n",
       "    <tr>\n",
       "      <th>rougher.s.fltbank10_b_level</th>\n",
       "      <td>1</td>\n",
       "      <td>0.007068</td>\n",
       "      <td>NaN</td>\n",
       "      <td>NaN</td>\n",
       "    </tr>\n",
       "    <tr>\n",
       "      <th>rougher.s.fltbank10_c_air</th>\n",
       "      <td>1</td>\n",
       "      <td>0.007068</td>\n",
       "      <td>NaN</td>\n",
       "      <td>NaN</td>\n",
       "    </tr>\n",
       "    <tr>\n",
       "      <th>rougher.s.fltbank10_c_level</th>\n",
       "      <td>1</td>\n",
       "      <td>0.007068</td>\n",
       "      <td>NaN</td>\n",
       "      <td>NaN</td>\n",
       "    </tr>\n",
       "    <tr>\n",
       "      <th>rougher.s.fltbank10_e_air</th>\n",
       "      <td>436</td>\n",
       "      <td>3.081490</td>\n",
       "      <td>NaN</td>\n",
       "      <td>NaN</td>\n",
       "    </tr>\n",
       "    <tr>\n",
       "      <th>s_cleaner.s.fltbank2_a_air</th>\n",
       "      <td>217</td>\n",
       "      <td>1.533677</td>\n",
       "      <td>3.0</td>\n",
       "      <td>0.056711</td>\n",
       "    </tr>\n",
       "    <tr>\n",
       "      <th>s_cleaner.s.fltbank2_a_level</th>\n",
       "      <td>1</td>\n",
       "      <td>0.007068</td>\n",
       "      <td>NaN</td>\n",
       "      <td>NaN</td>\n",
       "    </tr>\n",
       "    <tr>\n",
       "      <th>s_cleaner.s.fltbank2_b_air</th>\n",
       "      <td>21</td>\n",
       "      <td>0.148420</td>\n",
       "      <td>2.0</td>\n",
       "      <td>0.037807</td>\n",
       "    </tr>\n",
       "    <tr>\n",
       "      <th>s_cleaner.s.fltbank2_b_level</th>\n",
       "      <td>1</td>\n",
       "      <td>0.007068</td>\n",
       "      <td>NaN</td>\n",
       "      <td>NaN</td>\n",
       "    </tr>\n",
       "    <tr>\n",
       "      <th>s_cleaner.s.fltbank3_a_air</th>\n",
       "      <td>4</td>\n",
       "      <td>0.028271</td>\n",
       "      <td>9.0</td>\n",
       "      <td>0.170132</td>\n",
       "    </tr>\n",
       "    <tr>\n",
       "      <th>s_cleaner.s.fltbank3_a_level</th>\n",
       "      <td>1</td>\n",
       "      <td>0.007068</td>\n",
       "      <td>NaN</td>\n",
       "      <td>NaN</td>\n",
       "    </tr>\n",
       "    <tr>\n",
       "      <th>s_cleaner.s.fltbank3_b_air</th>\n",
       "      <td>1</td>\n",
       "      <td>0.007068</td>\n",
       "      <td>NaN</td>\n",
       "      <td>NaN</td>\n",
       "    </tr>\n",
       "    <tr>\n",
       "      <th>s_cleaner.s.fltbank3_b_level</th>\n",
       "      <td>1</td>\n",
       "      <td>0.007068</td>\n",
       "      <td>NaN</td>\n",
       "      <td>NaN</td>\n",
       "    </tr>\n",
       "    <tr>\n",
       "      <th>s_cleaner.s.fltbank4_a_air</th>\n",
       "      <td>6</td>\n",
       "      <td>0.042406</td>\n",
       "      <td>NaN</td>\n",
       "      <td>NaN</td>\n",
       "    </tr>\n",
       "    <tr>\n",
       "      <th>s_cleaner.s.fltbank4_a_level</th>\n",
       "      <td>1</td>\n",
       "      <td>0.007068</td>\n",
       "      <td>NaN</td>\n",
       "      <td>NaN</td>\n",
       "    </tr>\n",
       "    <tr>\n",
       "      <th>s_cleaner.s.fltbank4_b_air</th>\n",
       "      <td>1</td>\n",
       "      <td>0.007068</td>\n",
       "      <td>NaN</td>\n",
       "      <td>NaN</td>\n",
       "    </tr>\n",
       "    <tr>\n",
       "      <th>s_cleaner.s.fltbank4_b_level</th>\n",
       "      <td>1</td>\n",
       "      <td>0.007068</td>\n",
       "      <td>NaN</td>\n",
       "      <td>NaN</td>\n",
       "    </tr>\n",
       "    <tr>\n",
       "      <th>s_cleaner.s.fltbank5_a_air</th>\n",
       "      <td>1</td>\n",
       "      <td>0.007068</td>\n",
       "      <td>NaN</td>\n",
       "      <td>NaN</td>\n",
       "    </tr>\n",
       "    <tr>\n",
       "      <th>s_cleaner.s.fltbank5_a_level</th>\n",
       "      <td>1</td>\n",
       "      <td>0.007068</td>\n",
       "      <td>NaN</td>\n",
       "      <td>NaN</td>\n",
       "    </tr>\n",
       "    <tr>\n",
       "      <th>s_cleaner.s.fltbank5_b_air</th>\n",
       "      <td>1</td>\n",
       "      <td>0.007068</td>\n",
       "      <td>NaN</td>\n",
       "      <td>NaN</td>\n",
       "    </tr>\n",
       "    <tr>\n",
       "      <th>s_cleaner.s.fltbank5_b_level</th>\n",
       "      <td>1</td>\n",
       "      <td>0.007068</td>\n",
       "      <td>NaN</td>\n",
       "      <td>NaN</td>\n",
       "    </tr>\n",
       "    <tr>\n",
       "      <th>s_cleaner.s.fltbank6_a_air</th>\n",
       "      <td>2</td>\n",
       "      <td>0.014135</td>\n",
       "      <td>NaN</td>\n",
       "      <td>NaN</td>\n",
       "    </tr>\n",
       "    <tr>\n",
       "      <th>s_cleaner.s.fltbank6_a_level</th>\n",
       "      <td>1</td>\n",
       "      <td>0.007068</td>\n",
       "      <td>NaN</td>\n",
       "      <td>NaN</td>\n",
       "    </tr>\n",
       "  </tbody>\n",
       "</table>\n",
       "</div>"
      ],
      "text/plain": [
       "                              sum_train  percent_train  sum_test  percent_test\n",
       "p_cleaner.i.depressant               32       0.226164       5.0      0.094518\n",
       "p_cleaner.i.sulfate                  20       0.141353       4.0      0.075614\n",
       "p_cleaner.i.xanthate                100       0.706764       4.0      0.075614\n",
       "p_cleaner.s.fltbank8_a_air            4       0.028271       NaN           NaN\n",
       "p_cleaner.s.fltbank8_a_level          1       0.007068       NaN           NaN\n",
       "p_cleaner.s.fltbank8_b_air            4       0.028271       NaN           NaN\n",
       "p_cleaner.s.fltbank8_b_level          1       0.007068       NaN           NaN\n",
       "p_cleaner.s.fltbank8_c_air            2       0.014135       NaN           NaN\n",
       "p_cleaner.s.fltbank8_c_level          1       0.007068       NaN           NaN\n",
       "p_cleaner.s.fltbank8_d_air            3       0.021203       NaN           NaN\n",
       "p_cleaner.s.fltbank8_d_level          1       0.007068       NaN           NaN\n",
       "rougher.i.feed_pb                   100       0.706764       NaN           NaN\n",
       "rougher.i.feed_rate                   8       0.056541       3.0      0.056711\n",
       "rougher.i.feed_size                 144       1.017740       1.0      0.018904\n",
       "rougher.i.feed_sol                   78       0.551276      21.0      0.396975\n",
       "rougher.i.fltbank10_sulfate          29       0.204961       5.0      0.094518\n",
       "rougher.i.fltbank10_xanthate          8       0.056541       NaN           NaN\n",
       "rougher.i.fltbank11_sulfate          36       0.254435       8.0      0.151229\n",
       "rougher.i.fltbank11_xanthate        428       3.024949      25.0      0.472590\n",
       "rougher.s.fltbank10_a_air             1       0.007068       NaN           NaN\n",
       "rougher.s.fltbank10_a_level           1       0.007068       NaN           NaN\n",
       "rougher.s.fltbank10_b_air             1       0.007068       NaN           NaN\n",
       "rougher.s.fltbank10_b_level           1       0.007068       NaN           NaN\n",
       "rougher.s.fltbank10_c_air             1       0.007068       NaN           NaN\n",
       "rougher.s.fltbank10_c_level           1       0.007068       NaN           NaN\n",
       "rougher.s.fltbank10_e_air           436       3.081490       NaN           NaN\n",
       "s_cleaner.s.fltbank2_a_air          217       1.533677       3.0      0.056711\n",
       "s_cleaner.s.fltbank2_a_level          1       0.007068       NaN           NaN\n",
       "s_cleaner.s.fltbank2_b_air           21       0.148420       2.0      0.037807\n",
       "s_cleaner.s.fltbank2_b_level          1       0.007068       NaN           NaN\n",
       "s_cleaner.s.fltbank3_a_air            4       0.028271       9.0      0.170132\n",
       "s_cleaner.s.fltbank3_a_level          1       0.007068       NaN           NaN\n",
       "s_cleaner.s.fltbank3_b_air            1       0.007068       NaN           NaN\n",
       "s_cleaner.s.fltbank3_b_level          1       0.007068       NaN           NaN\n",
       "s_cleaner.s.fltbank4_a_air            6       0.042406       NaN           NaN\n",
       "s_cleaner.s.fltbank4_a_level          1       0.007068       NaN           NaN\n",
       "s_cleaner.s.fltbank4_b_air            1       0.007068       NaN           NaN\n",
       "s_cleaner.s.fltbank4_b_level          1       0.007068       NaN           NaN\n",
       "s_cleaner.s.fltbank5_a_air            1       0.007068       NaN           NaN\n",
       "s_cleaner.s.fltbank5_a_level          1       0.007068       NaN           NaN\n",
       "s_cleaner.s.fltbank5_b_air            1       0.007068       NaN           NaN\n",
       "s_cleaner.s.fltbank5_b_level          1       0.007068       NaN           NaN\n",
       "s_cleaner.s.fltbank6_a_air            2       0.014135       NaN           NaN\n",
       "s_cleaner.s.fltbank6_a_level          1       0.007068       NaN           NaN"
      ]
     },
     "execution_count": 11,
     "metadata": {},
     "output_type": "execute_result"
    }
   ],
   "source": [
    "#определим признаки\n",
    "features = df_test.columns.to_list()\n",
    "#определим пропуски в признаках для обучающей выборки\n",
    "nans_train = isna_summary(df_train)\n",
    "nans_train = nans_train[nans_train.index.isin(features)]\n",
    "#определим пропуски в признаках для тестовой выборки\n",
    "nans_test = isna_summary(df_test)\n",
    "nans_test = nans_test[nans_test.index.isin(features)]\n",
    "#для лучшего восприятия объединим данные о пропусках\n",
    "nans_train.merge(nans_test,\n",
    "                 how='outer',\n",
    "                 left_index=True,\n",
    "                 right_index=True,\n",
    "                 suffixes=['_train', '_test'])"
   ]
  },
  {
   "cell_type": "markdown",
   "metadata": {},
   "source": [
    "Количество пропусков невелико. Одновременно, мы ничего не знаем о том, как они появились и не можем заполнить их достоверной информацией. Дабы действовать наверняка и не ухудшать качество моделей, удалим пропуски."
   ]
  },
  {
   "cell_type": "code",
   "execution_count": 12,
   "metadata": {},
   "outputs": [],
   "source": [
    "df_train = df_train.dropna(subset=features)\n",
    "df_test = df_test.dropna(subset=features)"
   ]
  },
  {
   "cell_type": "markdown",
   "metadata": {},
   "source": [
    "Посмотрим на результаты."
   ]
  },
  {
   "cell_type": "code",
   "execution_count": 13,
   "metadata": {},
   "outputs": [
    {
     "name": "stdout",
     "output_type": "stream",
     "text": [
      "Количество пропусков в выборках: \n",
      " - обучающей: 0 \n",
      " - тестовой: 0\n"
     ]
    }
   ],
   "source": [
    "print('Количество пропусков в выборках:',\n",
    "     '\\n - обучающей:', df_train[features].isna().sum().sum(),\n",
    "     '\\n - тестовой:', df_test[features].isna().sum().sum())"
   ]
  },
  {
   "cell_type": "markdown",
   "metadata": {},
   "source": [
    "Преобразования прошли корректно.\n",
    "### Обработка дубликатов\n",
    "Неявные дубликаты отсутствуют за неимением категориальных признаков. Проверим наличие явных дубликатов в обучающей и тестовой выборках. "
   ]
  },
  {
   "cell_type": "code",
   "execution_count": 14,
   "metadata": {},
   "outputs": [
    {
     "name": "stdout",
     "output_type": "stream",
     "text": [
      "Количество явных дубликатов в выборках: \n",
      " - обучающей: 0 \n",
      " - тестовой: 0\n"
     ]
    }
   ],
   "source": [
    "print('Количество явных дубликатов в выборках:',\n",
    "     '\\n - обучающей:', df_train.duplicated().sum(),\n",
    "     '\\n - тестовой:', df_test.duplicated().sum())"
   ]
  },
  {
   "cell_type": "markdown",
   "metadata": {},
   "source": [
    "## Анализ данных\n",
    " \n",
    "### Распределение размеров гранул сырья\n",
    "Сравним распределение размеров гранул сырья на обучающей и тестовой выборках. При сильном отличии предсказание модели будет неправильным."
   ]
  },
  {
   "cell_type": "code",
   "execution_count": 15,
   "metadata": {},
   "outputs": [],
   "source": [
    "def feed_size_kde(df_train, df_test):\n",
    "    \"\"\"Строит нормализованое распределение размеров \n",
    "    гранул сырья для этапов флотации и очистки на данных \n",
    "    обучающей и тестовой выборки.\n",
    "    АРГУМЕНТЫ:\n",
    "    df_train -- обучающий датасет\n",
    "    df_test -- тестовый датасет\n",
    "    \"\"\"\n",
    "    #определяем этапы обогащения руды\n",
    "    stages = ['rougher', 'p_cleaner']\n",
    "    #готовим датасеты\n",
    "    dfs = {'обучающая' : df_train,\n",
    "           'тестовая' : df_test}\n",
    "    #готовим оси для гистограмм\n",
    "    fig, ax = plt.subplots(1, 2, figsize=(16, 6))\n",
    "    #для каждого этапа...\n",
    "    for i in range(0, len(stages)):\n",
    "        stage = stages[i]\n",
    "        #для каждого датасета\n",
    "        for df_lbl, df in dfs.items(): \n",
    "            #извлекаем данные\n",
    "            x = df[stage + '.i.feed_size']\n",
    "            #строим распределение\n",
    "            sns.kdeplot(data=x, ax=ax[i], label='Выборка: {0}'.format(df_lbl))            \n",
    "            ax[i].grid(True)\n",
    "            ax[i].set_xlabel('Размер гранул')\n",
    "            ax[i].set_ylabel('Плотность значений')\n",
    "            ax[i].set_title('Нормализованое распределение размеров гранул на этапе {0}'.format(stage))\n",
    "            ax[i].legend(loc='upper right')            \n",
    "    fig.show()"
   ]
  },
  {
   "cell_type": "markdown",
   "metadata": {},
   "source": [
    "Строим нормализованые распределения..."
   ]
  },
  {
   "cell_type": "code",
   "execution_count": 16,
   "metadata": {
    "scrolled": false
   },
   "outputs": [
    {
     "data": {
      "image/png": "[encoded data removed]",
      "text/plain": [
       "<Figure size 1152x432 with 2 Axes>"
      ]
     },
     "metadata": {
      "needs_background": "light"
     },
     "output_type": "display_data"
    }
   ],
   "source": [
    "feed_size_kde(df_train, df_test)"
   ]
  },
  {
   "cell_type": "markdown",
   "metadata": {},
   "source": [
    "...и готовим описательную статистику."
   ]
  },
  {
   "cell_type": "code",
   "execution_count": 17,
   "metadata": {
    "scrolled": true
   },
   "outputs": [
    {
     "data": {
      "text/html": [
       "<div>\n",
       "<style scoped>\n",
       "    .dataframe tbody tr th:only-of-type {\n",
       "        vertical-align: middle;\n",
       "    }\n",
       "\n",
       "    .dataframe tbody tr th {\n",
       "        vertical-align: top;\n",
       "    }\n",
       "\n",
       "    .dataframe thead th {\n",
       "        text-align: right;\n",
       "    }\n",
       "</style>\n",
       "<table border=\"1\" class=\"dataframe\">\n",
       "  <thead>\n",
       "    <tr style=\"text-align: right;\">\n",
       "      <th></th>\n",
       "      <th>train_rougher_feed_size</th>\n",
       "      <th>test_rougher_feed_size</th>\n",
       "      <th>train_p_cleaner_feed_size</th>\n",
       "      <th>test_p_cleaner_feed_size</th>\n",
       "    </tr>\n",
       "  </thead>\n",
       "  <tbody>\n",
       "    <tr>\n",
       "      <th>count</th>\n",
       "      <td>12679.000000</td>\n",
       "      <td>5229.000000</td>\n",
       "      <td>12679.000000</td>\n",
       "      <td>5229.000000</td>\n",
       "    </tr>\n",
       "    <tr>\n",
       "      <th>mean</th>\n",
       "      <td>58.414412</td>\n",
       "      <td>55.863978</td>\n",
       "      <td>7.339055</td>\n",
       "      <td>7.271546</td>\n",
       "    </tr>\n",
       "    <tr>\n",
       "      <th>std</th>\n",
       "      <td>20.441275</td>\n",
       "      <td>18.914656</td>\n",
       "      <td>0.600689</td>\n",
       "      <td>0.605887</td>\n",
       "    </tr>\n",
       "    <tr>\n",
       "      <th>min</th>\n",
       "      <td>9.659576</td>\n",
       "      <td>0.046369</td>\n",
       "      <td>1.080000</td>\n",
       "      <td>5.650000</td>\n",
       "    </tr>\n",
       "    <tr>\n",
       "      <th>25%</th>\n",
       "      <td>48.721041</td>\n",
       "      <td>43.911874</td>\n",
       "      <td>6.980000</td>\n",
       "      <td>6.900000</td>\n",
       "    </tr>\n",
       "    <tr>\n",
       "      <th>50%</th>\n",
       "      <td>54.651129</td>\n",
       "      <td>50.772729</td>\n",
       "      <td>7.300000</td>\n",
       "      <td>7.250000</td>\n",
       "    </tr>\n",
       "    <tr>\n",
       "      <th>75%</th>\n",
       "      <td>63.719220</td>\n",
       "      <td>62.265394</td>\n",
       "      <td>7.700000</td>\n",
       "      <td>7.600000</td>\n",
       "    </tr>\n",
       "    <tr>\n",
       "      <th>max</th>\n",
       "      <td>484.967466</td>\n",
       "      <td>392.494040</td>\n",
       "      <td>10.470000</td>\n",
       "      <td>15.500000</td>\n",
       "    </tr>\n",
       "  </tbody>\n",
       "</table>\n",
       "</div>"
      ],
      "text/plain": [
       "       train_rougher_feed_size  test_rougher_feed_size  \\\n",
       "count             12679.000000             5229.000000   \n",
       "mean                 58.414412               55.863978   \n",
       "std                  20.441275               18.914656   \n",
       "min                   9.659576                0.046369   \n",
       "25%                  48.721041               43.911874   \n",
       "50%                  54.651129               50.772729   \n",
       "75%                  63.719220               62.265394   \n",
       "max                 484.967466              392.494040   \n",
       "\n",
       "       train_p_cleaner_feed_size  test_p_cleaner_feed_size  \n",
       "count               12679.000000               5229.000000  \n",
       "mean                    7.339055                  7.271546  \n",
       "std                     0.600689                  0.605887  \n",
       "min                     1.080000                  5.650000  \n",
       "25%                     6.980000                  6.900000  \n",
       "50%                     7.300000                  7.250000  \n",
       "75%                     7.700000                  7.600000  \n",
       "max                    10.470000                 15.500000  "
      ]
     },
     "execution_count": 17,
     "metadata": {},
     "output_type": "execute_result"
    }
   ],
   "source": [
    "feed_size_stats = pd.concat([df_train.describe()['rougher.i.feed_size'],\n",
    "                             df_test.describe()['rougher.i.feed_size'],\n",
    "                             df_train.describe()['p_cleaner.i.feed_size'],\n",
    "                             df_test.describe()['p_cleaner.i.feed_size']], axis=1)\n",
    "\n",
    "feed_size_stats.columns = ['train_rougher_feed_size', \n",
    "                           'test_rougher_feed_size', \n",
    "                           'train_p_cleaner_feed_size', \n",
    "                           'test_p_cleaner_feed_size']\n",
    "feed_size_stats"
   ]
  },
  {
   "cell_type": "markdown",
   "metadata": {},
   "source": [
    "Распределения выглядят весьма подобными. Несмотря на выбросы, демонстрируют близкие значения среднего, медианы и стандартного отклонения, особенно на этапе очистки (`p_cleaner`). Предположим, что имеющиеся различия не окажут большого влияния на предсказательную способность модели.\n",
    "### Концентрация Au, Ag, Pb на этапах очистки\n",
    "На примере обучающей выборки рассмотрим, как меняется концентрация Au, Ag, Pb на различных этапах очистки. "
   ]
  },
  {
   "cell_type": "code",
   "execution_count": 18,
   "metadata": {},
   "outputs": [],
   "source": [
    "def metall_concentration_hist(data_frame, metalls):\n",
    "    \"\"\"Строит гистограммы концентрации металлов\n",
    "    на разных этапах обогащения руды.\n",
    "    АРГУМЕНТЫ:\n",
    "    data_frame -- датасет с данными о концентрации\n",
    "    metalls -- список металлов\n",
    "    \"\"\"\n",
    "    #определяем этапы обогащения руды    \n",
    "    stages = ['rougher.i.feed', \n",
    "              'rougher.o.concentrate', \n",
    "              'p_cleaner.o.concentrate', \n",
    "              'final.o.concentrate'] \n",
    "    #готовим оси для гистограмм\n",
    "    fig, ax = plt.subplots(3, 1, figsize=(16, len(metalls) * 6))\n",
    "    #для каждого металла...\n",
    "    for i in range(0, len(metalls)):\n",
    "        metall = metalls[i]\n",
    "        #... и этапа обогащения\n",
    "        for j in range(0, len(stages)):\n",
    "            stage = stages[j]\n",
    "            #извлекаем данные \n",
    "            x = data_frame[stage + '_' + metall]\n",
    "            #строим гистограмму\n",
    "            ax[i].hist(x, bins=200, alpha=0.75, label='Этап: {0}'.format(stage))            \n",
    "            ax[i].grid(True)\n",
    "            ax[i].set_xlabel('Концентрация {0}'.format(metall))\n",
    "            ax[i].set_ylabel('Количество значений')\n",
    "            ax[i].set_title('Распределение концентрации {0} на этапах очистки'.format(metall))\n",
    "            ax[i].legend(loc='upper left')\n",
    "    fig.show()"
   ]
  },
  {
   "cell_type": "code",
   "execution_count": 19,
   "metadata": {},
   "outputs": [
    {
     "data": {
      "image/png": "[encoded data removed]",
      "text/plain": [
       "<Figure size 1152x1296 with 3 Axes>"
      ]
     },
     "metadata": {
      "needs_background": "light"
     },
     "output_type": "display_data"
    }
   ],
   "source": [
    "metall_concentration_hist(df_train, ['au', 'ag', 'pb'])"
   ]
  },
  {
   "cell_type": "markdown",
   "metadata": {},
   "source": [
    "На протяжении технологического процесса:\n",
    " - концентрация золота закономерно растет,\n",
    " - концентрация серебра возрастает к выходу с флотации, далее падает,\n",
    " - концентрация свинца растет до выхода с первичной очистки, далее к выходу с финального этапа меняется мало,\n",
    " - разброс концентрации всех металлов уменьшается к финальному этапу,\n",
    " - все металлы на всех этапах имеют одинаковое количество нулевых значений концентрации, что может указывать на сбой в работе телеметрии. Проверим данную гипотезу в следующем пункте.\n",
    "\n",
    "### Концентрация всех веществ на этапах очистки\n",
    "На примере обучающей выборки исследуем суммарную концентрацию веществ в сырье, в черновом и финальном концентратах. "
   ]
  },
  {
   "cell_type": "code",
   "execution_count": 20,
   "metadata": {},
   "outputs": [],
   "source": [
    "def concentration_hist(data_frame):\n",
    "    \"\"\"Строит гистограммы суммарной концентрации \n",
    "    веществ на разных этапах обогащения руды.\n",
    "    АРГУМЕНТЫ:\n",
    "    data_frame -- датасет с данными о концентрации    \n",
    "    \"\"\"\n",
    "    #определяем этапы обогащения руды\n",
    "    stages = ['rougher.i.feed', \n",
    "              'rougher.o.concentrate', \n",
    "              'p_cleaner.o.concentrate', \n",
    "              'final.o.concentrate']\n",
    "    #определяем вещества для подсчета суммарной концентрации\n",
    "    metalls = ['au', 'ag', 'pb', 'sol']\n",
    "    #готовим оси\n",
    "    fig, ax = plt.subplots(figsize=(16, 6))\n",
    "    #для каждого этапа...\n",
    "    for stage in stages:\n",
    "        #...считаем суммарную концентрацию веществ\n",
    "        x = None\n",
    "        for metall in metalls:\n",
    "            if x is None:\n",
    "                x = data_frame[stage + '_' + metall]\n",
    "            else:\n",
    "                x += data_frame[stage + '_' + metall] \n",
    "        #строим гистограмму\n",
    "        ax.hist(x, bins=200, alpha=0.75, label='Этап: {0}'.format(stage))            \n",
    "        ax.grid(True)\n",
    "        ax.set_xlabel('Суммарная выходная концентрация веществ')\n",
    "        ax.set_ylabel('Количество значений')\n",
    "        ax.set_title('Распределение суммарной выходной концентрации веществ на этапах очистки')\n",
    "        ax.legend(loc='upper left')\n",
    "    fig.show()"
   ]
  },
  {
   "cell_type": "code",
   "execution_count": 21,
   "metadata": {
    "scrolled": false
   },
   "outputs": [
    {
     "data": {
      "image/png": "[encoded data removed]",
      "text/plain": [
       "<Figure size 1152x432 with 1 Axes>"
      ]
     },
     "metadata": {
      "needs_background": "light"
     },
     "output_type": "display_data"
    }
   ],
   "source": [
    "concentration_hist(df_train)"
   ]
  },
  {
   "cell_type": "markdown",
   "metadata": {},
   "source": [
    "Суммарная концентрация веществ:\n",
    " - растет до выхода с флотации, далее падает к выходу с первичной очистки, затем снова растет к финальному этапу,\n",
    " - существенно снижает разброс значений к финальному этапу,\n",
    " - имеет заметное количество нулевых значений, что подтверждает гипотезу о возможном сбое в работе телеметрии.\n",
    "    \n",
    "Гистограммы показывают нулевые концентрации металлов по отдельности и в сумме, что не нормально. Дабы не ухудшать предсказательную способность модели, очистим обучающую выборку от данных аномальных значений."
   ]
  },
  {
   "cell_type": "code",
   "execution_count": 22,
   "metadata": {},
   "outputs": [],
   "source": [
    "#считаем суммарную концентрацию всех веществ  \n",
    "sum_rougher = df_train.loc[:, 'rougher.o.concentrate_ag':'rougher.o.concentrate_au'].sum(axis=1)\n",
    "sum_cleaner = df_train.loc[:, 'p_cleaner.o.concentrate_ag':'p_cleaner.o.concentrate_au'].sum(axis=1)\n",
    "sum_final = df_train.loc[:, 'final.o.concentrate_ag':'final.o.concentrate_au'].sum(axis=1)\n",
    "#формулируем вырадение-фильтр\n",
    "condition = (sum_rougher != 0) & (sum_cleaner != 0) & (sum_final != 0)\n",
    "#очищаем датасет\n",
    "df_train = df_train.loc[condition, :]"
   ]
  },
  {
   "cell_type": "markdown",
   "metadata": {},
   "source": [
    "Проверим результат."
   ]
  },
  {
   "cell_type": "code",
   "execution_count": 23,
   "metadata": {
    "scrolled": true
   },
   "outputs": [
    {
     "name": "stdout",
     "output_type": "stream",
     "text": [
      "Количество строк с нулевой концентрацией: 0\n"
     ]
    }
   ],
   "source": [
    "#считаем суммарную концентрацию всех веществ  \n",
    "sum_rougher = df_train.loc[:, 'rougher.o.concentrate_ag':'rougher.o.concentrate_au'].sum(axis=1)\n",
    "sum_cleaner = df_train.loc[:, 'p_cleaner.o.concentrate_ag':'p_cleaner.o.concentrate_au'].sum(axis=1)\n",
    "sum_final = df_train.loc[:, 'final.o.concentrate_ag':'final.o.concentrate_au'].sum(axis=1)\n",
    "#формулируем вырадение-фильтр\n",
    "condition = (sum_rougher == 0) | (sum_cleaner == 0) | (sum_final == 0)\n",
    "print('Количество строк с нулевой концентрацией:',\n",
    "      len(df_train[condition]))"
   ]
  },
  {
   "cell_type": "markdown",
   "metadata": {},
   "source": [
    "Преобразования прошли корректно."
   ]
  },
  {
   "cell_type": "markdown",
   "metadata": {},
   "source": [
    "## Моделирование\n",
    "В данном исследовании нам предстоит решить задачу регрессии, прдсказав целевые признаки `rougher.o.recovery` и `final.o.recovery`.\n",
    "### Метрика sMAPE\n",
    "Для оценки моделей воспользуемся метрикой sMAPE (симметричное среднее абсолютное процентное отклонение). Опишем функции для определения, непосредственно, самой метрики, а также ее итоговой формы. "
   ]
  },
  {
   "cell_type": "code",
   "execution_count": 24,
   "metadata": {},
   "outputs": [],
   "source": [
    "def smape(y_true, y_pred):\n",
    "    '''Возвращает значение sMAPE (симметричного \n",
    "    среднего абсолютного процентного отклонения).\n",
    "    АРГУМЕНТЫ:\n",
    "    y_true -- реальные значения целевого признака\n",
    "    y_pred -- предсказанные значения целевого признака\n",
    "    '''\n",
    "    n = len(y_true)\n",
    "    s = ((abs(y_true - y_pred)) / (0.5 * (abs(y_true) + abs(y_pred)))).sum() \n",
    "    return s / n * 100"
   ]
  },
  {
   "cell_type": "code",
   "execution_count": 25,
   "metadata": {},
   "outputs": [],
   "source": [
    "def smape_total(y_rougher_true, y_rougher_pred, y_final_true, y_final_pred):\n",
    "    '''Возвращает итоговое значение sMAPE, как сумму \n",
    "    sMAPE этапа флотации и sMAPE финального этапа с\n",
    "    учетом весовых коэффициентов.\n",
    "    АРГУМЕНТЫ:\n",
    "    y_rougher_true, y_rougher_pred -- реальные и предсказанные значения целевого\n",
    "                                      признака для этапа флотации\n",
    "    y_final_true, y_final_pred --  реальные и предсказанные значения целевого\n",
    "                                   признака для финального этапа\n",
    "    '''\n",
    "    smape_rougher = smape(y_rougher_true, y_rougher_pred)\n",
    "    smape_final = smape(y_final_true, y_final_pred)\n",
    "    return 0.25 * smape_rougher + 0.75 * smape_final"
   ]
  },
  {
   "cell_type": "markdown",
   "metadata": {},
   "source": [
    "Также на основе функции `smape` инициализируем объект класса `sklearn.metrics.Scorer`, который пригодится на этапе кросс-валидации. "
   ]
  },
  {
   "cell_type": "code",
   "execution_count": 26,
   "metadata": {},
   "outputs": [],
   "source": [
    "neg_smape = make_scorer(smape, greater_is_better=False)"
   ]
  },
  {
   "cell_type": "markdown",
   "metadata": {},
   "source": [
    "### Определение признаков\n",
    "Опишем признаковое пространство. \n",
    "\n",
    "Для предсказания `rougher.o.recovery` используем только те признаки, которые относятся к этапу флотации. "
   ]
  },
  {
   "cell_type": "code",
   "execution_count": 27,
   "metadata": {},
   "outputs": [],
   "source": [
    "condition = df_test.columns.str.contains('rougher')\n",
    "FTS_ROUGHER = df_test.columns[condition].to_list()\n",
    "TGT_ROUGHER = 'rougher.o.recovery'"
   ]
  },
  {
   "cell_type": "markdown",
   "metadata": {},
   "source": [
    "Для целевого признака `final.o.recovery` используем все признаки тестовой выборки."
   ]
  },
  {
   "cell_type": "code",
   "execution_count": 28,
   "metadata": {},
   "outputs": [],
   "source": [
    "FTS_FINAL = df_test.columns.to_list()\n",
    "TGT_FINAL = 'final.o.recovery'"
   ]
  },
  {
   "cell_type": "markdown",
   "metadata": {},
   "source": [
    "Проверим, что получилось."
   ]
  },
  {
   "cell_type": "code",
   "execution_count": 29,
   "metadata": {
    "scrolled": true
   },
   "outputs": [
    {
     "name": "stdout",
     "output_type": "stream",
     "text": [
      "Признаки объектов для этапа флотации:\n"
     ]
    },
    {
     "data": {
      "text/plain": [
       "['rougher.i.feed_ag',\n",
       " 'rougher.i.feed_pb',\n",
       " 'rougher.i.feed_rate',\n",
       " 'rougher.i.feed_size',\n",
       " 'rougher.i.feed_sol',\n",
       " 'rougher.i.feed_au',\n",
       " 'rougher.i.fltbank10_sulfate',\n",
       " 'rougher.i.fltbank10_xanthate',\n",
       " 'rougher.i.fltbank11_sulfate',\n",
       " 'rougher.i.fltbank11_xanthate',\n",
       " 'rougher.s.fltbank10_a_air',\n",
       " 'rougher.s.fltbank10_a_level',\n",
       " 'rougher.s.fltbank10_b_air',\n",
       " 'rougher.s.fltbank10_b_level',\n",
       " 'rougher.s.fltbank10_c_air',\n",
       " 'rougher.s.fltbank10_c_level',\n",
       " 'rougher.s.fltbank10_d_air',\n",
       " 'rougher.s.fltbank10_d_level',\n",
       " 'rougher.s.fltbank10_e_air',\n",
       " 'rougher.s.fltbank10_e_level',\n",
       " 'rougher.s.fltbank10_f_air',\n",
       " 'rougher.s.fltbank10_f_level']"
      ]
     },
     "execution_count": 29,
     "metadata": {},
     "output_type": "execute_result"
    }
   ],
   "source": [
    "print('Признаки объектов для этапа флотации:')\n",
    "FTS_ROUGHER"
   ]
  },
  {
   "cell_type": "code",
   "execution_count": 30,
   "metadata": {
    "scrolled": true
   },
   "outputs": [
    {
     "name": "stdout",
     "output_type": "stream",
     "text": [
      "Признаки объектов для финального этапа:\n"
     ]
    },
    {
     "data": {
      "text/plain": [
       "['p_cleaner.i.sulfate',\n",
       " 'p_cleaner.i.depressant',\n",
       " 'p_cleaner.i.feed_size',\n",
       " 'p_cleaner.i.xanthate',\n",
       " 'p_cleaner.s.fltbank8_a_air',\n",
       " 'p_cleaner.s.fltbank8_a_level',\n",
       " 'p_cleaner.s.fltbank8_b_air',\n",
       " 'p_cleaner.s.fltbank8_b_level',\n",
       " 'p_cleaner.s.fltbank8_c_air',\n",
       " 'p_cleaner.s.fltbank8_c_level',\n",
       " 'p_cleaner.s.fltbank8_d_air',\n",
       " 'p_cleaner.s.fltbank8_d_level',\n",
       " 'rougher.i.feed_ag',\n",
       " 'rougher.i.feed_pb',\n",
       " 'rougher.i.feed_rate',\n",
       " 'rougher.i.feed_size',\n",
       " 'rougher.i.feed_sol',\n",
       " 'rougher.i.feed_au',\n",
       " 'rougher.i.fltbank10_sulfate',\n",
       " 'rougher.i.fltbank10_xanthate',\n",
       " 'rougher.i.fltbank11_sulfate',\n",
       " 'rougher.i.fltbank11_xanthate',\n",
       " 'rougher.s.fltbank10_a_air',\n",
       " 'rougher.s.fltbank10_a_level',\n",
       " 'rougher.s.fltbank10_b_air',\n",
       " 'rougher.s.fltbank10_b_level',\n",
       " 'rougher.s.fltbank10_c_air',\n",
       " 'rougher.s.fltbank10_c_level',\n",
       " 'rougher.s.fltbank10_d_air',\n",
       " 'rougher.s.fltbank10_d_level',\n",
       " 'rougher.s.fltbank10_e_air',\n",
       " 'rougher.s.fltbank10_e_level',\n",
       " 'rougher.s.fltbank10_f_air',\n",
       " 'rougher.s.fltbank10_f_level',\n",
       " 's_cleaner.s.fltbank2_a_air',\n",
       " 's_cleaner.s.fltbank2_a_level',\n",
       " 's_cleaner.s.fltbank2_b_air',\n",
       " 's_cleaner.s.fltbank2_b_level',\n",
       " 's_cleaner.s.fltbank3_a_air',\n",
       " 's_cleaner.s.fltbank3_a_level',\n",
       " 's_cleaner.s.fltbank3_b_air',\n",
       " 's_cleaner.s.fltbank3_b_level',\n",
       " 's_cleaner.s.fltbank4_a_air',\n",
       " 's_cleaner.s.fltbank4_a_level',\n",
       " 's_cleaner.s.fltbank4_b_air',\n",
       " 's_cleaner.s.fltbank4_b_level',\n",
       " 's_cleaner.s.fltbank5_a_air',\n",
       " 's_cleaner.s.fltbank5_a_level',\n",
       " 's_cleaner.s.fltbank5_b_air',\n",
       " 's_cleaner.s.fltbank5_b_level',\n",
       " 's_cleaner.s.fltbank6_a_air',\n",
       " 's_cleaner.s.fltbank6_a_level']"
      ]
     },
     "execution_count": 30,
     "metadata": {},
     "output_type": "execute_result"
    }
   ],
   "source": [
    "print('Признаки объектов для финального этапа:')\n",
    "FTS_FINAL"
   ]
  },
  {
   "cell_type": "markdown",
   "metadata": {},
   "source": [
    "Признаковое пространство сформировано корректно.\n",
    "### Подготовка данных\n",
    "Подготовим выборки для обучения и тестирования моделей."
   ]
  },
  {
   "cell_type": "code",
   "execution_count": 31,
   "metadata": {},
   "outputs": [],
   "source": [
    "#для этапа флотации\n",
    "fts_train_rougher = df_train[FTS_ROUGHER]\n",
    "tgt_train_rougher = df_train[TGT_ROUGHER]\n",
    "\n",
    "fts_test_rougher = df_test[FTS_ROUGHER]\n",
    "condition = df_full.index.isin(fts_test_rougher.index)\n",
    "tgt_test_rougher = df_full[condition][TGT_ROUGHER]\n",
    "\n",
    "#для финального этапа\n",
    "fts_train_final = df_train[FTS_FINAL]\n",
    "tgt_train_final = df_train[TGT_FINAL]\n",
    "\n",
    "fts_test_final = df_test[FTS_FINAL]\n",
    "condition = df_full.index.isin(fts_test_final.index)\n",
    "tgt_test_final = df_full[condition][TGT_FINAL]"
   ]
  },
  {
   "cell_type": "markdown",
   "metadata": {},
   "source": [
    "### Выбор модели\n",
    "Опишем характеристики данного этапа:\n",
    " - исследуемые модели: LinearRegression, DecisionTreeRegressor, RandomForestRegressor, DummyRegressor;\n",
    " - масштабирование признаков: StandardScaler;\n",
    " - подбор гиперпараметров и кросс-валидация: GridSearchCV.\n",
    " - метрика качества: sMAPE. \n",
    "\n",
    "Для оценки моделей, определим функцию, реализующую данные характеристики."
   ]
  },
  {
   "cell_type": "code",
   "execution_count": 32,
   "metadata": {},
   "outputs": [],
   "source": [
    "def estimator_performance(est_params_rougher, fts_train_rougher, tgt_train_rougher,\n",
    "                          est_params_final, fts_train_final, tgt_train_final):\n",
    "    \"\"\"Для целевых признаков TGT_ROUGHER и TGT_FINAL определяет лучшие\n",
    "    модели по метрике sMAPE на обучающей выборке (fts_train_*, tgt_train_*)\n",
    "    Возвращает DataFrame с оценками sMAPE для всех моделей, словарь \n",
    "    с лучшими моделями, а также словарь с константными моделями.\n",
    "    АРГУМЕНТЫ:\n",
    "    est_params_rougher -- словарь {тип модели : гиперпараметры} для этапа rougher  \n",
    "    fts_train_rougher, tgt_train_rougher -- обучающая выборка для этапа rougher\n",
    "    est_params_final -- словарь {тип модели : гиперпараметры} для этапа final\n",
    "    fts_train_final, tgt_train_final -- обучающая выборка для этапа final\n",
    "    \"\"\"      \n",
    "    stats = {}\n",
    "    est_best = {TGT_ROUGHER : None, TGT_FINAL : None}\n",
    "    est_const = {TGT_ROUGHER : None, TGT_FINAL : None}\n",
    "    #для каждого этапа (rougher и final)\n",
    "    for tgt_feature in est_best:\n",
    "        #инициализируем:\n",
    "        # - лучшую sMAPE\n",
    "        score_best = 100\n",
    "        # - лучшую модель\n",
    "        search_best = None\n",
    "        # - ноборы гиперпараметров\n",
    "        est_params = None\n",
    "        # - обучающую выборку\n",
    "        fts_train = None\n",
    "        tgt_train = None\n",
    "        if tgt_feature == TGT_ROUGHER:\n",
    "            est_params = est_params_rougher\n",
    "            fts_train = fts_train_rougher\n",
    "            tgt_train = tgt_train_rougher\n",
    "        else: \n",
    "            est_params = est_params_final\n",
    "            fts_train = fts_train_final\n",
    "            tgt_train = tgt_train_final\n",
    "        #для каждого типа модели и набора гиперпараметров\n",
    "        for est_name, est_params in est_params.items():\n",
    "            #инициализируем модель\n",
    "            estimator = None\n",
    "            if est_name == 'linearregression':\n",
    "                estimator = LinearRegression()\n",
    "            elif est_name == 'decisiontreeregressor':\n",
    "                estimator = DecisionTreeRegressor(random_state=SEED)\n",
    "            elif est_name == 'randomforestregressor':\n",
    "                estimator = RandomForestRegressor(random_state=SEED)\n",
    "            elif est_name == 'dummyregressor':\n",
    "                estimator = DummyRegressor()\n",
    "            #инициализируем pipeline с масштабированием \n",
    "            #признаков и моделью\n",
    "            pipeline = make_pipeline(StandardScaler(), estimator)\n",
    "            #инициализируем поиск лучших гиперпараметров c \n",
    "            #кросс-валидацией и метрикой sMAPE\n",
    "            search = GridSearchCV(pipeline, \n",
    "                                  param_grid=est_params,\n",
    "                                  scoring=neg_smape)\n",
    "            #запускаем поиск лучших гиперпараметров\n",
    "            #на обучающей выборке\n",
    "            search.fit(fts_train, tgt_train)\n",
    "            score = search.best_score_ * -1\n",
    "            #определяем лучшую модель\n",
    "            if score < score_best:\n",
    "                score_best = score\n",
    "                search_best = search\n",
    "            #сохраняем sMAPE    \n",
    "            if stats.get(est_name) is None:\n",
    "                stats[est_name] = [score]\n",
    "            else:\n",
    "                stats[est_name].append(score)\n",
    "            #сохраняем константную модель\n",
    "            if est_name == 'dummyregressor':\n",
    "                est_const[tgt_feature] = search\n",
    "        #сохраняем лучшую модель   \n",
    "        est_best[tgt_feature] = search_best\n",
    "    #формируем DataFrame со статистикой sMAPE\n",
    "    idx = ['sMAPE {0}'.format(TGT_ROUGHER), 'sMAPE {0}'.format(TGT_FINAL)]\n",
    "    stats = pd.DataFrame(stats, index=idx)\n",
    "    return stats, est_best, est_const"
   ]
  },
  {
   "cell_type": "markdown",
   "metadata": {},
   "source": [
    "Определим эффективность моделей в предсказании `rougher.o.recovery` и `final.o.recovery` на обучающих выборках. Подсветим ячейки с минимальными значениями sMAPE. "
   ]
  },
  {
   "cell_type": "code",
   "execution_count": 33,
   "metadata": {},
   "outputs": [
    {
     "data": {
      "text/html": [
       "<style  type=\"text/css\" >\n",
       "#T_a6a23_row0_col2,#T_a6a23_row1_col2{\n",
       "            background-color:  lightblue;\n",
       "        }</style><table id=\"T_a6a23_\" ><thead>    <tr>        <th class=\"blank level0\" ></th>        <th class=\"col_heading level0 col0\" >linearregression</th>        <th class=\"col_heading level0 col1\" >decisiontreeregressor</th>        <th class=\"col_heading level0 col2\" >randomforestregressor</th>        <th class=\"col_heading level0 col3\" >dummyregressor</th>    </tr></thead><tbody>\n",
       "                <tr>\n",
       "                        <th id=\"T_a6a23_level0_row0\" class=\"row_heading level0 row0\" >sMAPE rougher.o.recovery</th>\n",
       "                        <td id=\"T_a6a23_row0_col0\" class=\"data row0 col0\" >6.237301</td>\n",
       "                        <td id=\"T_a6a23_row0_col1\" class=\"data row0 col1\" >6.414943</td>\n",
       "                        <td id=\"T_a6a23_row0_col2\" class=\"data row0 col2\" >6.117395</td>\n",
       "                        <td id=\"T_a6a23_row0_col3\" class=\"data row0 col3\" >7.579599</td>\n",
       "            </tr>\n",
       "            <tr>\n",
       "                        <th id=\"T_a6a23_level0_row1\" class=\"row_heading level0 row1\" >sMAPE final.o.recovery</th>\n",
       "                        <td id=\"T_a6a23_row1_col0\" class=\"data row1 col0\" >10.241993</td>\n",
       "                        <td id=\"T_a6a23_row1_col1\" class=\"data row1 col1\" >9.220507</td>\n",
       "                        <td id=\"T_a6a23_row1_col2\" class=\"data row1 col2\" >8.780252</td>\n",
       "                        <td id=\"T_a6a23_row1_col3\" class=\"data row1 col3\" >9.718425</td>\n",
       "            </tr>\n",
       "    </tbody></table>"
      ],
      "text/plain": [
       "<pandas.io.formats.style.Styler at 0x7ff591c25b80>"
      ]
     },
     "execution_count": 33,
     "metadata": {},
     "output_type": "execute_result"
    }
   ],
   "source": [
    "#готовим гиперпараметры:\n",
    "# - для этапа флотации\n",
    "dtr_params_rougher = {'decisiontreeregressor__max_depth' : range(2, 8, 2)}\n",
    "rfr_params_rougher = {'randomforestregressor__n_estimators': range(15, 30, 5),\n",
    "                      'randomforestregressor__max_depth': range(2, 6, 2)}\n",
    "\n",
    "est_params_rougher = {'linearregression' : {}, \n",
    "                      'decisiontreeregressor' : dtr_params_rougher,\n",
    "                      'randomforestregressor' : rfr_params_rougher,\n",
    "                      'dummyregressor' : {}}\n",
    "\n",
    "# - для финального этапа\n",
    "dtr_params_final = {'decisiontreeregressor__max_depth' : range(2, 8, 2)}\n",
    "rfr_params_final = {'randomforestregressor__n_estimators': range(15, 30, 5), \n",
    "                    'randomforestregressor__max_depth': range(2, 6, 2)}\n",
    "\n",
    "est_params_final = {'linearregression' : {}, \n",
    "                    'decisiontreeregressor' : dtr_params_final, \n",
    "                    'randomforestregressor' : rfr_params_final, \n",
    "                    'dummyregressor' : {}}\n",
    "\n",
    "#собираем статистику\n",
    "stats, est_best, est_const = estimator_performance(est_params_rougher, \n",
    "                                                   fts_train_rougher,\n",
    "                                                   tgt_train_rougher,\n",
    "                                                   est_params_final,\n",
    "                                                   fts_train_final,\n",
    "                                                   tgt_train_final)\n",
    "#выводим статистику на экран\n",
    "stats.style.highlight_min(color='lightblue', axis=1)"
   ]
  },
  {
   "cell_type": "code",
   "execution_count": 34,
   "metadata": {},
   "outputs": [
    {
     "name": "stdout",
     "output_type": "stream",
     "text": [
      "Лучший результат в предсказании на обучающей выборке.\n",
      "\n",
      "Признак rougher.o.recovery: \n",
      " - модель randomforestregressor \n",
      " - гиперпараметры {'randomforestregressor__max_depth': 4, 'randomforestregressor__n_estimators': 20} \n",
      " - sMAPE 6.12\n",
      "\n",
      "Признак final.o.recovery: \n",
      " - модель randomforestregressor \n",
      " - гиперпараметры {'randomforestregressor__max_depth': 2, 'randomforestregressor__n_estimators': 25} \n",
      " - sMAPE 8.78\n"
     ]
    }
   ],
   "source": [
    "print('Лучший результат в предсказании на обучающей выборке.')\n",
    "est_rougher = 'randomforestregressor'\n",
    "sMAPE_rougher = round(stats[est_rougher].min(), 2)\n",
    "print('\\nПризнак {0}:'.format(TGT_ROUGHER),\n",
    "     '\\n - модель', est_rougher,\n",
    "     '\\n - гиперпараметры', est_best[TGT_ROUGHER].best_params_,\n",
    "     '\\n - sMAPE', sMAPE_rougher)\n",
    "est_final = 'randomforestregressor'\n",
    "sMAPE_final = round(stats[est_final].max(), 2)\n",
    "print('\\nПризнак {0}:'.format(TGT_FINAL),\n",
    "     '\\n - модель', est_final,\n",
    "     '\\n - гиперпараметры', est_best[TGT_FINAL].best_params_,\n",
    "     '\\n - sMAPE', sMAPE_final)"
   ]
  },
  {
   "cell_type": "markdown",
   "metadata": {},
   "source": [
    "Проверим эффективность моделей тестовой выборке и рассчитаем итоговую sMAPE."
   ]
  },
  {
   "cell_type": "code",
   "execution_count": 35,
   "metadata": {},
   "outputs": [
    {
     "data": {
      "text/html": [
       "<div>\n",
       "<style scoped>\n",
       "    .dataframe tbody tr th:only-of-type {\n",
       "        vertical-align: middle;\n",
       "    }\n",
       "\n",
       "    .dataframe tbody tr th {\n",
       "        vertical-align: top;\n",
       "    }\n",
       "\n",
       "    .dataframe thead th {\n",
       "        text-align: right;\n",
       "    }\n",
       "</style>\n",
       "<table border=\"1\" class=\"dataframe\">\n",
       "  <thead>\n",
       "    <tr style=\"text-align: right;\">\n",
       "      <th></th>\n",
       "      <th>randomforestregressor + randomforestregressor</th>\n",
       "      <th>dummyregressor + dummyregressor</th>\n",
       "    </tr>\n",
       "  </thead>\n",
       "  <tbody>\n",
       "    <tr>\n",
       "      <th>sMAPE rougher.o.recovery</th>\n",
       "      <td>8.983218</td>\n",
       "      <td>8.958463</td>\n",
       "    </tr>\n",
       "    <tr>\n",
       "      <th>sMAPE final.o.recovery</th>\n",
       "      <td>8.872676</td>\n",
       "      <td>9.516964</td>\n",
       "    </tr>\n",
       "    <tr>\n",
       "      <th>sMAPE total</th>\n",
       "      <td>8.900311</td>\n",
       "      <td>9.377339</td>\n",
       "    </tr>\n",
       "  </tbody>\n",
       "</table>\n",
       "</div>"
      ],
      "text/plain": [
       "                          randomforestregressor + randomforestregressor  \\\n",
       "sMAPE rougher.o.recovery                                       8.983218   \n",
       "sMAPE final.o.recovery                                         8.872676   \n",
       "sMAPE total                                                    8.900311   \n",
       "\n",
       "                          dummyregressor + dummyregressor  \n",
       "sMAPE rougher.o.recovery                         8.958463  \n",
       "sMAPE final.o.recovery                           9.516964  \n",
       "sMAPE total                                      9.377339  "
      ]
     },
     "execution_count": 35,
     "metadata": {},
     "output_type": "execute_result"
    }
   ],
   "source": [
    "#считаем предсказания лучших моделей на тестовых выборках\n",
    "pred_test_rougher = est_best[TGT_ROUGHER].predict(fts_test_rougher)\n",
    "pred_test_final = est_best[TGT_FINAL].predict(fts_test_final)\n",
    "\n",
    "#считаем предсказания константных моделей на тестовых выборках\n",
    "const_pred_test_rougher = est_const[TGT_ROUGHER].predict(fts_test_rougher)\n",
    "const_pred_test_final = est_const[TGT_FINAL].predict(fts_test_final)\n",
    "\n",
    "#считаем sMAPE для лучших моделей\n",
    "sMAPE_best = [smape(tgt_test_rougher, pred_test_rougher),\n",
    "              smape(tgt_test_final, pred_test_final),\n",
    "              smape_total(tgt_test_rougher, pred_test_rougher, \n",
    "                          tgt_test_final, pred_test_final)]\n",
    "\n",
    "#считаем sMAPE для константных моделей\n",
    "sMAPE_const = [smape(tgt_test_rougher, const_pred_test_rougher), \n",
    "               smape(tgt_test_final, const_pred_test_final),\n",
    "               smape_total(tgt_test_rougher, const_pred_test_rougher,\n",
    "                           tgt_test_final, const_pred_test_final)]\n",
    "\n",
    "#формируем и выводим на экран итоговую статистику\n",
    "d = {'randomforestregressor + randomforestregressor' : sMAPE_best,\n",
    "        'dummyregressor + dummyregressor' : sMAPE_const}\n",
    "i = ['sMAPE {0}'.format(TGT_ROUGHER), \n",
    "     'sMAPE {0}'.format(TGT_FINAL),\n",
    "     'sMAPE total']\n",
    "pd.DataFrame(d, index = i)"
   ]
  },
  {
   "cell_type": "markdown",
   "metadata": {},
   "source": [
    "На тестовой выборке пара моделей `RandomForestRegressor` показывает лучшую итоговую  `sMAPE = 8.90`, опережая пару константных моделей `DummyRegressor`."
   ]
  },
  {
   "cell_type": "markdown",
   "metadata": {},
   "source": [
    "## Выводы\n",
    "**В ходе загрузки и подготовки данных:**\n",
    " - переименованы столбцы ([см.3.1](#%D0%9F%D0%B5%D1%80%D0%B5%D0%B8%D0%BC%D0%B5%D0%BD%D0%BE%D0%B2%D0%B0%D0%BD%D0%B8%D0%B5-%D1%81%D1%82%D0%BE%D0%BB%D0%B1%D1%86%D0%BE%D0%B2)), \n",
    " - значения `rougher.o.recovery` проверены и подтверждены ([см.3.2](#%D0%9F%D1%80%D0%BE%D0%B2%D0%B5%D1%80%D0%BA%D0%B0-%D1%8D%D1%84%D1%84%D0%B5%D0%BA%D1%82%D0%B8%D0%B2%D0%BD%D0%BE%D1%81%D1%82%D0%B8-%D0%BE%D0%B1%D0%BE%D0%B3%D0%B0%D1%89%D0%B5%D0%BD%D0%B8%D1%8F)),\n",
    " - показано, что набор признаков тестовой выборки следует использовать для обучения моделей ([см.3.3](#%D0%90%D0%BD%D0%B0%D0%BB%D0%B8%D0%B7-%D0%BF%D1%80%D0%B8%D0%B7%D0%BD%D0%B0%D0%BA%D0%BE%D0%B2-%D1%82%D0%B5%D1%81%D1%82%D0%BE%D0%B2%D0%BE%D0%B9-%D0%B2%D1%8B%D0%B1%D0%BE%D1%80%D0%BA%D0%B8)), \n",
    " - удалены пропуски в признаках для обучения ([см.3.4](#%D0%9E%D0%B1%D1%80%D0%B0%D0%B1%D0%BE%D1%82%D0%BA%D0%B0-%D0%BF%D1%80%D0%BE%D0%BF%D1%83%D1%81%D0%BA%D0%BE%D0%B2)),\n",
    " - показано отсутствие явных и неявных дубликатов ([см.3.5](#%D0%9E%D0%B1%D1%80%D0%B0%D0%B1%D0%BE%D1%82%D0%BA%D0%B0-%D0%B4%D1%83%D0%B1%D0%BB%D0%B8%D0%BA%D0%B0%D1%82%D0%BE%D0%B2)).\n",
    " \n",
    "**В ходе анализа данных показано следующее:**\n",
    " - распределения размеров гранул сырья на обучающей и тестовой выборках отличаются незначительно ([см.4.1](#%D0%A0%D0%B0%D1%81%D0%BF%D1%80%D0%B5%D0%B4%D0%B5%D0%BB%D0%B5%D0%BD%D0%B8%D0%B5-%D1%80%D0%B0%D0%B7%D0%BC%D0%B5%D1%80%D0%BE%D0%B2-%D0%B3%D1%80%D0%B0%D0%BD%D1%83%D0%BB-%D1%81%D1%8B%D1%80%D1%8C%D1%8F)),\n",
    " - на протяжении технологичесвого процесса ([см.4.2](#%D0%9A%D0%BE%D0%BD%D1%86%D0%B5%D0%BD%D1%82%D1%80%D0%B0%D1%86%D0%B8%D1%8F-Au,-Ag,-Pb-%D0%BD%D0%B0-%D1%8D%D1%82%D0%B0%D0%BF%D0%B0%D1%85-%D0%BE%D1%87%D0%B8%D1%81%D1%82%D0%BA%D0%B8)): \n",
    "     - концентрация золота растет,\n",
    "     - концентрация серебра возрастает к выходу с флотации, далее падает,\n",
    "     - концентрация свинца растет до выхода с первичной очистки, далее к выходу с финального этапа меняется мало,\n",
    "     - разброс концентрации всех металлов уменьшается,\n",
    "     - концентрации всех металлов имеют заметное количество нулевых значений, что может указывать на сбой в работе телеметрии.\n",
    " - суммарная концентрация веществ на протяжении технологичесвого процесса ([см.4.3](#%D0%9A%D0%BE%D0%BD%D1%86%D0%B5%D0%BD%D1%82%D1%80%D0%B0%D1%86%D0%B8%D1%8F-%D0%B2%D1%81%D0%B5%D1%85-%D0%B2%D0%B5%D1%89%D0%B5%D1%81%D1%82%D0%B2-%D0%BD%D0%B0-%D1%8D%D1%82%D0%B0%D0%BF%D0%B0%D1%85-%D0%BE%D1%87%D0%B8%D1%81%D1%82%D0%BA%D0%B8)):\n",
    "     - растет до выхода с флотации, далее падает к выходу с первичной очистки, затем снова растет к финальному этапу,\n",
    "     - существенно снижает разброс значений к финальному этапу,\n",
    "     - имеет заметное количество нулевых значений, что подтверждает гипотезу о возможном сбое в работе телеметрии.\n",
    " - подтвеждена гипотеза о сбое в работе телеметрии, аномальные данные удалены из обучающей выборки. \n",
    " \n",
    "**В ходе моделирования:**\n",
    " - реализованы функции для расчета метрики sMAPE ([см.5.1](#%D0%9C%D0%B5%D1%82%D1%80%D0%B8%D0%BA%D0%B0-sMAPE)),\n",
    " - определено признаковое пространство для обучения и проверки моделей ([см.5.2](#%D0%9E%D0%BF%D1%80%D0%B5%D0%B4%D0%B5%D0%BB%D0%B5%D0%BD%D0%B8%D0%B5-%D0%BF%D1%80%D0%B8%D0%B7%D0%BD%D0%B0%D0%BA%D0%BE%D0%B2)),\n",
    " - подготовлены выборки (обучающая и тестовая) ([см.5.3](#%D0%9F%D0%BE%D0%B4%D0%B3%D0%BE%D1%82%D0%BE%D0%B2%D0%BA%D0%B0-%D0%B4%D0%B0%D0%BD%D0%BD%D1%8B%D1%85)), \n",
    " - для прогнозирования на тестовой выборке признаков ([см.5.4](#%D0%92%D1%8B%D0%B1%D0%BE%D1%80-%D0%BC%D0%BE%D0%B4%D0%B5%D0%BB%D0%B8)):\n",
    "     - `rougher.o.recovery` отобрана модель `RandomForestRegressor` с гиперпараметрами `max_depth = 4, n_estimators = 20`,\n",
    "     - `final.o.recovery` отобрана модель `RandomForestRegressor` с гиперпараметрами `max_depth = 2, n_estimators = 25`.\n",
    " - рассчитано значение итоговой метрики: `sMAPE = 8.90`"
   ]
  }
 ],
 "metadata": {
  "ExecuteTimeLog": [
   {
    "duration": 1451,
    "start_time": "2023-04-10T08:19:48.256Z"
   },
   {
    "duration": 2,
    "start_time": "2023-04-10T08:21:19.238Z"
   },
   {
    "duration": 99,
    "start_time": "2023-04-10T08:24:17.823Z"
   },
   {
    "duration": 113,
    "start_time": "2023-04-10T08:24:51.106Z"
   },
   {
    "duration": 3,
    "start_time": "2023-04-10T08:25:00.665Z"
   },
   {
    "duration": 1917,
    "start_time": "2023-04-10T08:25:02.625Z"
   },
   {
    "duration": 783,
    "start_time": "2023-04-10T08:30:39.787Z"
   },
   {
    "duration": 3,
    "start_time": "2023-04-10T10:52:18.851Z"
   },
   {
    "duration": 29,
    "start_time": "2023-04-10T11:10:45.764Z"
   },
   {
    "duration": 10,
    "start_time": "2023-04-10T11:11:01.277Z"
   },
   {
    "duration": 845,
    "start_time": "2023-04-10T11:11:36.731Z"
   },
   {
    "duration": 224,
    "start_time": "2023-04-10T11:12:26.642Z"
   },
   {
    "duration": 1276,
    "start_time": "2023-04-10T11:13:09.911Z"
   },
   {
    "duration": 733,
    "start_time": "2023-04-10T11:13:29.409Z"
   },
   {
    "duration": 3,
    "start_time": "2023-04-10T11:15:59.210Z"
   },
   {
    "duration": 3,
    "start_time": "2023-04-10T11:16:29.203Z"
   },
   {
    "duration": 12,
    "start_time": "2023-04-10T11:18:23.730Z"
   },
   {
    "duration": 3,
    "start_time": "2023-04-10T11:23:21.869Z"
   },
   {
    "duration": 768,
    "start_time": "2023-04-10T11:25:14.129Z"
   },
   {
    "duration": 10,
    "start_time": "2023-04-10T11:37:30.046Z"
   },
   {
    "duration": 7,
    "start_time": "2023-04-10T11:44:14.357Z"
   },
   {
    "duration": 3,
    "start_time": "2023-04-10T11:52:50.310Z"
   },
   {
    "duration": 3,
    "start_time": "2023-04-10T11:54:34.320Z"
   },
   {
    "duration": 124,
    "start_time": "2023-04-10T11:56:07.241Z"
   },
   {
    "duration": 101,
    "start_time": "2023-04-10T11:56:22.317Z"
   },
   {
    "duration": 119,
    "start_time": "2023-04-10T11:56:25.192Z"
   },
   {
    "duration": 49,
    "start_time": "2023-04-11T06:41:22.198Z"
   },
   {
    "duration": 1300,
    "start_time": "2023-04-11T06:41:26.683Z"
   },
   {
    "duration": 2,
    "start_time": "2023-04-11T06:41:27.985Z"
   },
   {
    "duration": 2223,
    "start_time": "2023-04-11T06:41:27.989Z"
   },
   {
    "duration": 3,
    "start_time": "2023-04-11T06:41:30.214Z"
   },
   {
    "duration": 42,
    "start_time": "2023-04-11T06:41:30.218Z"
   },
   {
    "duration": 35,
    "start_time": "2023-04-11T06:41:30.262Z"
   },
   {
    "duration": 120,
    "start_time": "2023-04-11T06:41:30.299Z"
   },
   {
    "duration": 340,
    "start_time": "2023-04-11T06:41:30.420Z"
   },
   {
    "duration": 56,
    "start_time": "2023-04-11T06:45:20.100Z"
   },
   {
    "duration": 876,
    "start_time": "2023-04-11T06:46:04.030Z"
   },
   {
    "duration": 3,
    "start_time": "2023-04-11T06:46:25.408Z"
   },
   {
    "duration": 16827,
    "start_time": "2023-04-11T06:46:32.588Z"
   },
   {
    "duration": 2175,
    "start_time": "2023-04-11T06:47:30.380Z"
   },
   {
    "duration": 1975,
    "start_time": "2023-04-11T06:49:55.855Z"
   },
   {
    "duration": 1808,
    "start_time": "2023-04-11T06:50:27.146Z"
   },
   {
    "duration": 2073,
    "start_time": "2023-04-11T06:52:00.171Z"
   },
   {
    "duration": 262,
    "start_time": "2023-04-11T06:56:13.520Z"
   },
   {
    "duration": 14,
    "start_time": "2023-04-11T06:56:34.890Z"
   },
   {
    "duration": 7,
    "start_time": "2023-04-11T06:58:02.893Z"
   },
   {
    "duration": 13,
    "start_time": "2023-04-11T06:58:16.664Z"
   },
   {
    "duration": 10,
    "start_time": "2023-04-11T06:58:31.689Z"
   },
   {
    "duration": 5,
    "start_time": "2023-04-11T06:58:42.071Z"
   },
   {
    "duration": 59,
    "start_time": "2023-04-11T07:05:32.850Z"
   },
   {
    "duration": 6,
    "start_time": "2023-04-11T07:05:53.892Z"
   },
   {
    "duration": 10,
    "start_time": "2023-04-11T07:09:37.790Z"
   },
   {
    "duration": 17,
    "start_time": "2023-04-11T07:10:35.612Z"
   },
   {
    "duration": 21,
    "start_time": "2023-04-11T07:29:46.233Z"
   },
   {
    "duration": 3,
    "start_time": "2023-04-11T07:31:41.391Z"
   },
   {
    "duration": 10,
    "start_time": "2023-04-11T07:31:48.817Z"
   },
   {
    "duration": 13,
    "start_time": "2023-04-11T07:31:57.525Z"
   },
   {
    "duration": 11,
    "start_time": "2023-04-11T07:32:08.246Z"
   },
   {
    "duration": 3,
    "start_time": "2023-04-11T07:37:19.253Z"
   },
   {
    "duration": 20,
    "start_time": "2023-04-11T07:37:29.834Z"
   },
   {
    "duration": 2,
    "start_time": "2023-04-11T07:37:46.728Z"
   },
   {
    "duration": 3,
    "start_time": "2023-04-11T07:37:50.967Z"
   },
   {
    "duration": 14,
    "start_time": "2023-04-11T07:37:52.736Z"
   },
   {
    "duration": 3,
    "start_time": "2023-04-11T07:38:15.788Z"
   },
   {
    "duration": 16,
    "start_time": "2023-04-11T07:38:18.203Z"
   },
   {
    "duration": 3,
    "start_time": "2023-04-11T07:39:04.940Z"
   },
   {
    "duration": 16,
    "start_time": "2023-04-11T07:39:07.138Z"
   },
   {
    "duration": 3,
    "start_time": "2023-04-11T07:39:27.651Z"
   },
   {
    "duration": 15,
    "start_time": "2023-04-11T07:39:29.951Z"
   },
   {
    "duration": 3,
    "start_time": "2023-04-11T07:41:19.514Z"
   },
   {
    "duration": 16,
    "start_time": "2023-04-11T07:41:20.987Z"
   },
   {
    "duration": 3,
    "start_time": "2023-04-11T07:42:06.214Z"
   },
   {
    "duration": 16,
    "start_time": "2023-04-11T07:42:08.201Z"
   },
   {
    "duration": 16,
    "start_time": "2023-04-11T07:42:56.247Z"
   },
   {
    "duration": 12,
    "start_time": "2023-04-11T07:43:04.308Z"
   },
   {
    "duration": 20,
    "start_time": "2023-04-11T07:43:22.188Z"
   },
   {
    "duration": 4,
    "start_time": "2023-04-11T07:49:34.359Z"
   },
   {
    "duration": 5,
    "start_time": "2023-04-11T07:49:39.265Z"
   },
   {
    "duration": 11,
    "start_time": "2023-04-11T07:55:38.106Z"
   },
   {
    "duration": 12,
    "start_time": "2023-04-11T07:56:00.511Z"
   },
   {
    "duration": 21,
    "start_time": "2023-04-11T07:56:26.887Z"
   },
   {
    "duration": 1053,
    "start_time": "2023-04-11T07:56:41.777Z"
   },
   {
    "duration": 724,
    "start_time": "2023-04-11T07:57:25.404Z"
   },
   {
    "duration": 807,
    "start_time": "2023-04-11T07:58:02.507Z"
   },
   {
    "duration": 1415,
    "start_time": "2023-04-11T07:58:20.525Z"
   },
   {
    "duration": 9,
    "start_time": "2023-04-11T07:58:21.947Z"
   },
   {
    "duration": 953,
    "start_time": "2023-04-11T07:58:21.958Z"
   },
   {
    "duration": 3,
    "start_time": "2023-04-11T07:58:22.913Z"
   },
   {
    "duration": 29,
    "start_time": "2023-04-11T07:58:22.918Z"
   },
   {
    "duration": 9,
    "start_time": "2023-04-11T07:58:22.950Z"
   },
   {
    "duration": 30,
    "start_time": "2023-04-11T07:58:22.961Z"
   },
   {
    "duration": 10,
    "start_time": "2023-04-11T07:58:22.993Z"
   },
   {
    "duration": 42,
    "start_time": "2023-04-11T07:58:23.005Z"
   },
   {
    "duration": 2,
    "start_time": "2023-04-11T07:58:23.056Z"
   },
   {
    "duration": 15,
    "start_time": "2023-04-11T07:58:23.060Z"
   },
   {
    "duration": 116,
    "start_time": "2023-04-11T07:58:23.078Z"
   },
   {
    "duration": 5,
    "start_time": "2023-04-11T07:58:23.196Z"
   },
   {
    "duration": 2188,
    "start_time": "2023-04-11T07:58:23.203Z"
   },
   {
    "duration": 4,
    "start_time": "2023-04-11T07:59:42.526Z"
   },
   {
    "duration": 225,
    "start_time": "2023-04-11T08:00:41.021Z"
   },
   {
    "duration": 256,
    "start_time": "2023-04-11T08:01:37.352Z"
   },
   {
    "duration": 221,
    "start_time": "2023-04-11T08:03:43.115Z"
   },
   {
    "duration": 340,
    "start_time": "2023-04-11T08:06:22.482Z"
   },
   {
    "duration": 7,
    "start_time": "2023-04-11T08:08:31.521Z"
   },
   {
    "duration": 6,
    "start_time": "2023-04-11T08:08:53.841Z"
   },
   {
    "duration": 5,
    "start_time": "2023-04-11T08:10:31.519Z"
   },
   {
    "duration": 5,
    "start_time": "2023-04-11T08:10:40.683Z"
   },
   {
    "duration": 20,
    "start_time": "2023-04-11T08:12:34.911Z"
   },
   {
    "duration": 5,
    "start_time": "2023-04-11T08:13:20.022Z"
   },
   {
    "duration": 14,
    "start_time": "2023-04-11T08:13:43.989Z"
   },
   {
    "duration": 17,
    "start_time": "2023-04-11T08:14:15.451Z"
   },
   {
    "duration": 19,
    "start_time": "2023-04-11T08:14:45.510Z"
   },
   {
    "duration": 14,
    "start_time": "2023-04-11T08:14:54.355Z"
   },
   {
    "duration": 7,
    "start_time": "2023-04-11T08:15:49.949Z"
   },
   {
    "duration": 162,
    "start_time": "2023-04-11T08:16:07.968Z"
   },
   {
    "duration": 227,
    "start_time": "2023-04-11T08:17:49.633Z"
   },
   {
    "duration": 3,
    "start_time": "2023-04-11T09:15:35.414Z"
   },
   {
    "duration": 12,
    "start_time": "2023-04-11T09:18:48.217Z"
   },
   {
    "duration": 15,
    "start_time": "2023-04-11T09:19:40.320Z"
   },
   {
    "duration": 3,
    "start_time": "2023-04-11T09:19:56.670Z"
   },
   {
    "duration": 4,
    "start_time": "2023-04-11T09:19:58.934Z"
   },
   {
    "duration": 5,
    "start_time": "2023-04-11T09:20:48.975Z"
   },
   {
    "duration": 6,
    "start_time": "2023-04-11T09:20:51.111Z"
   },
   {
    "duration": 8,
    "start_time": "2023-04-11T09:21:44.472Z"
   },
   {
    "duration": 4,
    "start_time": "2023-04-11T09:22:17.841Z"
   },
   {
    "duration": 5,
    "start_time": "2023-04-11T09:22:22.771Z"
   },
   {
    "duration": 9,
    "start_time": "2023-04-11T09:22:42.671Z"
   },
   {
    "duration": 4,
    "start_time": "2023-04-11T09:22:51.846Z"
   },
   {
    "duration": 3,
    "start_time": "2023-04-11T09:23:19.855Z"
   },
   {
    "duration": 21,
    "start_time": "2023-04-11T09:23:22.004Z"
   },
   {
    "duration": 6,
    "start_time": "2023-04-11T09:23:42.937Z"
   },
   {
    "duration": 5,
    "start_time": "2023-04-11T09:23:51.131Z"
   },
   {
    "duration": 19,
    "start_time": "2023-04-11T09:29:50.506Z"
   },
   {
    "duration": 757,
    "start_time": "2023-04-11T09:43:12.916Z"
   },
   {
    "duration": 17,
    "start_time": "2023-04-11T09:43:24.704Z"
   },
   {
    "duration": 33,
    "start_time": "2023-04-11T09:43:47.022Z"
   },
   {
    "duration": 7,
    "start_time": "2023-04-11T09:52:29.750Z"
   },
   {
    "duration": 8,
    "start_time": "2023-04-11T09:52:41.482Z"
   },
   {
    "duration": 7,
    "start_time": "2023-04-11T09:52:48.767Z"
   },
   {
    "duration": 16,
    "start_time": "2023-04-11T10:09:24.282Z"
   },
   {
    "duration": 17,
    "start_time": "2023-04-11T10:12:41.581Z"
   },
   {
    "duration": 19,
    "start_time": "2023-04-11T10:12:44.178Z"
   },
   {
    "duration": 21,
    "start_time": "2023-04-11T10:13:14.034Z"
   },
   {
    "duration": 17,
    "start_time": "2023-04-11T10:13:35.174Z"
   },
   {
    "duration": 1289,
    "start_time": "2023-04-11T10:14:20.008Z"
   },
   {
    "duration": 3,
    "start_time": "2023-04-11T10:14:21.299Z"
   },
   {
    "duration": 754,
    "start_time": "2023-04-11T10:14:21.304Z"
   },
   {
    "duration": 4,
    "start_time": "2023-04-11T10:14:22.060Z"
   },
   {
    "duration": 17,
    "start_time": "2023-04-11T10:14:22.066Z"
   },
   {
    "duration": 7,
    "start_time": "2023-04-11T10:14:22.084Z"
   },
   {
    "duration": 8,
    "start_time": "2023-04-11T10:14:22.093Z"
   },
   {
    "duration": 4,
    "start_time": "2023-04-11T10:14:22.102Z"
   },
   {
    "duration": 3,
    "start_time": "2023-04-11T10:14:22.108Z"
   },
   {
    "duration": 34,
    "start_time": "2023-04-11T10:14:22.113Z"
   },
   {
    "duration": 24,
    "start_time": "2023-04-11T10:14:22.149Z"
   },
   {
    "duration": 17,
    "start_time": "2023-04-11T10:14:22.175Z"
   },
   {
    "duration": 308,
    "start_time": "2023-04-11T10:14:22.193Z"
   },
   {
    "duration": 4,
    "start_time": "2023-04-11T10:14:22.503Z"
   },
   {
    "duration": 195,
    "start_time": "2023-04-11T10:14:22.508Z"
   },
   {
    "duration": 845,
    "start_time": "2023-04-11T10:14:22.705Z"
   },
   {
    "duration": 0,
    "start_time": "2023-04-11T10:14:23.552Z"
   },
   {
    "duration": 21,
    "start_time": "2023-04-11T10:16:44.495Z"
   },
   {
    "duration": 13,
    "start_time": "2023-04-11T10:16:46.978Z"
   },
   {
    "duration": 8,
    "start_time": "2023-04-11T10:17:07.304Z"
   },
   {
    "duration": 16,
    "start_time": "2023-04-11T10:17:12.704Z"
   },
   {
    "duration": 11,
    "start_time": "2023-04-11T10:17:17.581Z"
   },
   {
    "duration": 9,
    "start_time": "2023-04-11T10:17:27.383Z"
   },
   {
    "duration": 4,
    "start_time": "2023-04-11T10:18:58.533Z"
   },
   {
    "duration": 1610,
    "start_time": "2023-04-11T10:26:29.869Z"
   },
   {
    "duration": 258,
    "start_time": "2023-04-11T10:31:20.624Z"
   },
   {
    "duration": 330,
    "start_time": "2023-04-11T10:31:26.224Z"
   },
   {
    "duration": 172,
    "start_time": "2023-04-11T10:38:22.179Z"
   },
   {
    "duration": 239,
    "start_time": "2023-04-11T10:38:31.748Z"
   },
   {
    "duration": 300,
    "start_time": "2023-04-11T10:38:40.017Z"
   },
   {
    "duration": 242,
    "start_time": "2023-04-11T10:39:07.265Z"
   },
   {
    "duration": 229,
    "start_time": "2023-04-11T10:39:24.549Z"
   },
   {
    "duration": 4,
    "start_time": "2023-04-11T10:39:55.047Z"
   },
   {
    "duration": 411,
    "start_time": "2023-04-11T10:40:00.203Z"
   },
   {
    "duration": 540,
    "start_time": "2023-04-11T10:41:34.375Z"
   },
   {
    "duration": 426,
    "start_time": "2023-04-11T10:41:53.363Z"
   },
   {
    "duration": 600,
    "start_time": "2023-04-11T10:42:03.659Z"
   },
   {
    "duration": 828,
    "start_time": "2023-04-11T10:42:10.433Z"
   },
   {
    "duration": 980,
    "start_time": "2023-04-11T10:42:16.630Z"
   },
   {
    "duration": 881,
    "start_time": "2023-04-11T10:42:35.508Z"
   },
   {
    "duration": 1027,
    "start_time": "2023-04-11T10:42:44.684Z"
   },
   {
    "duration": 795,
    "start_time": "2023-04-11T10:43:15.896Z"
   },
   {
    "duration": 944,
    "start_time": "2023-04-11T10:45:17.279Z"
   },
   {
    "duration": 1005,
    "start_time": "2023-04-11T10:46:55.859Z"
   },
   {
    "duration": 770,
    "start_time": "2023-04-11T10:47:07.719Z"
   },
   {
    "duration": 51,
    "start_time": "2023-04-11T10:49:22.763Z"
   },
   {
    "duration": 5,
    "start_time": "2023-04-11T10:49:47.386Z"
   },
   {
    "duration": 1029,
    "start_time": "2023-04-11T10:50:05.113Z"
   },
   {
    "duration": 6,
    "start_time": "2023-04-11T10:51:09.640Z"
   },
   {
    "duration": 857,
    "start_time": "2023-04-11T10:51:21.473Z"
   },
   {
    "duration": 1091,
    "start_time": "2023-04-11T10:52:04.483Z"
   },
   {
    "duration": 962,
    "start_time": "2023-04-11T10:52:15.651Z"
   },
   {
    "duration": 881,
    "start_time": "2023-04-11T10:52:34.337Z"
   },
   {
    "duration": 1079,
    "start_time": "2023-04-11T10:52:44.020Z"
   },
   {
    "duration": 1108,
    "start_time": "2023-04-11T10:52:50.923Z"
   },
   {
    "duration": 867,
    "start_time": "2023-04-11T10:52:57.807Z"
   },
   {
    "duration": 930,
    "start_time": "2023-04-11T10:53:18.799Z"
   },
   {
    "duration": 979,
    "start_time": "2023-04-11T10:53:37.783Z"
   },
   {
    "duration": 855,
    "start_time": "2023-04-11T10:54:05.048Z"
   },
   {
    "duration": 1127,
    "start_time": "2023-04-11T10:54:18.520Z"
   },
   {
    "duration": 5,
    "start_time": "2023-04-11T11:09:09.527Z"
   },
   {
    "duration": 305,
    "start_time": "2023-04-11T11:09:25.899Z"
   },
   {
    "duration": 4,
    "start_time": "2023-04-11T11:09:50.922Z"
   },
   {
    "duration": 2983,
    "start_time": "2023-04-11T11:09:52.655Z"
   },
   {
    "duration": 5,
    "start_time": "2023-04-11T11:10:18.068Z"
   },
   {
    "duration": 820,
    "start_time": "2023-04-11T11:10:23.756Z"
   },
   {
    "duration": 4,
    "start_time": "2023-04-11T11:10:37.147Z"
   },
   {
    "duration": 2586,
    "start_time": "2023-04-11T11:10:40.720Z"
   },
   {
    "duration": 55,
    "start_time": "2023-04-11T11:13:38.809Z"
   },
   {
    "duration": 5,
    "start_time": "2023-04-11T11:13:43.281Z"
   },
   {
    "duration": 2849,
    "start_time": "2023-04-11T11:13:46.914Z"
   },
   {
    "duration": 6,
    "start_time": "2023-04-11T11:14:01.180Z"
   },
   {
    "duration": 3021,
    "start_time": "2023-04-11T11:14:03.397Z"
   },
   {
    "duration": 7,
    "start_time": "2023-04-11T11:14:54.540Z"
   },
   {
    "duration": 3015,
    "start_time": "2023-04-11T11:14:57.453Z"
   },
   {
    "duration": 5,
    "start_time": "2023-04-11T11:15:11.055Z"
   },
   {
    "duration": 2823,
    "start_time": "2023-04-11T11:15:13.936Z"
   },
   {
    "duration": 5,
    "start_time": "2023-04-11T11:16:33.235Z"
   },
   {
    "duration": 2925,
    "start_time": "2023-04-11T11:16:35.123Z"
   },
   {
    "duration": 5,
    "start_time": "2023-04-11T11:18:53.714Z"
   },
   {
    "duration": 3107,
    "start_time": "2023-04-11T11:18:55.838Z"
   },
   {
    "duration": 5,
    "start_time": "2023-04-11T11:19:32.382Z"
   },
   {
    "duration": 3541,
    "start_time": "2023-04-11T11:19:34.259Z"
   },
   {
    "duration": 5,
    "start_time": "2023-04-11T11:23:26.810Z"
   },
   {
    "duration": 6,
    "start_time": "2023-04-11T11:25:05.979Z"
   },
   {
    "duration": 2928,
    "start_time": "2023-04-11T11:25:08.399Z"
   },
   {
    "duration": 6,
    "start_time": "2023-04-11T11:27:00.062Z"
   },
   {
    "duration": 3109,
    "start_time": "2023-04-11T11:27:04.052Z"
   },
   {
    "duration": 6,
    "start_time": "2023-04-11T11:29:37.965Z"
   },
   {
    "duration": 517,
    "start_time": "2023-04-11T11:29:40.346Z"
   },
   {
    "duration": 5,
    "start_time": "2023-04-11T11:29:48.374Z"
   },
   {
    "duration": 3354,
    "start_time": "2023-04-11T11:29:51.613Z"
   },
   {
    "duration": 6,
    "start_time": "2023-04-11T11:30:20.884Z"
   },
   {
    "duration": 3187,
    "start_time": "2023-04-11T11:30:23.118Z"
   },
   {
    "duration": 6,
    "start_time": "2023-04-11T11:37:28.681Z"
   },
   {
    "duration": 6,
    "start_time": "2023-04-11T11:37:38.981Z"
   },
   {
    "duration": 6,
    "start_time": "2023-04-11T11:48:26.509Z"
   },
   {
    "duration": 48,
    "start_time": "2023-04-11T11:48:39.501Z"
   },
   {
    "duration": 5,
    "start_time": "2023-04-11T11:48:48.212Z"
   },
   {
    "duration": 802,
    "start_time": "2023-04-11T11:48:56.540Z"
   },
   {
    "duration": 5,
    "start_time": "2023-04-11T11:50:23.661Z"
   },
   {
    "duration": 1116,
    "start_time": "2023-04-11T11:50:26.339Z"
   },
   {
    "duration": 5,
    "start_time": "2023-04-11T11:50:35.295Z"
   },
   {
    "duration": 834,
    "start_time": "2023-04-11T11:50:37.841Z"
   },
   {
    "duration": 11,
    "start_time": "2023-04-11T11:54:13.209Z"
   },
   {
    "duration": 11,
    "start_time": "2023-04-11T11:54:23.247Z"
   },
   {
    "duration": 9,
    "start_time": "2023-04-11T11:54:38.118Z"
   },
   {
    "duration": 205,
    "start_time": "2023-04-11T11:54:53.161Z"
   },
   {
    "duration": 192,
    "start_time": "2023-04-11T11:54:55.691Z"
   },
   {
    "duration": 177,
    "start_time": "2023-04-11T11:55:05.892Z"
   },
   {
    "duration": 288,
    "start_time": "2023-04-11T11:55:42.148Z"
   },
   {
    "duration": 319,
    "start_time": "2023-04-11T11:55:52.870Z"
   },
   {
    "duration": 335,
    "start_time": "2023-04-11T11:56:04.040Z"
   },
   {
    "duration": 52,
    "start_time": "2023-04-11T12:39:37.333Z"
   },
   {
    "duration": 5,
    "start_time": "2023-04-11T12:40:03.370Z"
   },
   {
    "duration": 770,
    "start_time": "2023-04-11T12:40:06.963Z"
   },
   {
    "duration": 4,
    "start_time": "2023-04-11T12:40:43.190Z"
   },
   {
    "duration": 925,
    "start_time": "2023-04-11T12:40:47.217Z"
   },
   {
    "duration": 4,
    "start_time": "2023-04-11T12:40:58.352Z"
   },
   {
    "duration": 980,
    "start_time": "2023-04-11T12:41:00.652Z"
   },
   {
    "duration": 5,
    "start_time": "2023-04-11T12:41:40.877Z"
   },
   {
    "duration": 804,
    "start_time": "2023-04-11T12:41:45.032Z"
   },
   {
    "duration": 5,
    "start_time": "2023-04-11T12:44:29.695Z"
   },
   {
    "duration": 606,
    "start_time": "2023-04-11T12:44:32.149Z"
   },
   {
    "duration": 6,
    "start_time": "2023-04-11T12:47:05.345Z"
   },
   {
    "duration": 717,
    "start_time": "2023-04-11T12:47:09.108Z"
   },
   {
    "duration": 131,
    "start_time": "2023-04-11T12:51:04.375Z"
   },
   {
    "duration": 101,
    "start_time": "2023-04-11T12:51:11.045Z"
   },
   {
    "duration": 103,
    "start_time": "2023-04-11T12:51:45.820Z"
   },
   {
    "duration": 118,
    "start_time": "2023-04-11T12:52:24.203Z"
   },
   {
    "duration": 261,
    "start_time": "2023-04-11T12:52:29.937Z"
   },
   {
    "duration": 45,
    "start_time": "2023-04-11T12:53:51.615Z"
   },
   {
    "duration": 5,
    "start_time": "2023-04-11T12:53:58.884Z"
   },
   {
    "duration": 120,
    "start_time": "2023-04-11T12:54:21.582Z"
   },
   {
    "duration": 87,
    "start_time": "2023-04-11T12:54:30.053Z"
   },
   {
    "duration": 83,
    "start_time": "2023-04-11T12:54:36.509Z"
   },
   {
    "duration": 4,
    "start_time": "2023-04-11T12:54:59.479Z"
   },
   {
    "duration": 669,
    "start_time": "2023-04-11T12:55:13.599Z"
   },
   {
    "duration": 638,
    "start_time": "2023-04-11T13:00:10.392Z"
   },
   {
    "duration": 504,
    "start_time": "2023-04-11T13:03:18.650Z"
   },
   {
    "duration": 516,
    "start_time": "2023-04-11T13:03:22.782Z"
   },
   {
    "duration": 6,
    "start_time": "2023-04-11T16:45:03.340Z"
   },
   {
    "duration": 6,
    "start_time": "2023-04-11T16:45:24.921Z"
   },
   {
    "duration": 2523,
    "start_time": "2023-04-11T16:45:27.072Z"
   },
   {
    "duration": 4,
    "start_time": "2023-04-11T17:01:07.448Z"
   },
   {
    "duration": 9,
    "start_time": "2023-04-11T17:01:19.286Z"
   },
   {
    "duration": 8,
    "start_time": "2023-04-11T17:01:24.762Z"
   },
   {
    "duration": 8,
    "start_time": "2023-04-11T17:01:27.497Z"
   },
   {
    "duration": 2691,
    "start_time": "2023-04-11T17:01:29.526Z"
   },
   {
    "duration": 10,
    "start_time": "2023-04-11T17:02:00.823Z"
   },
   {
    "duration": 8,
    "start_time": "2023-04-11T17:02:09.776Z"
   },
   {
    "duration": 135,
    "start_time": "2023-04-11T17:02:14.510Z"
   },
   {
    "duration": 4,
    "start_time": "2023-04-11T17:03:20.365Z"
   },
   {
    "duration": 727,
    "start_time": "2023-04-11T17:03:22.585Z"
   },
   {
    "duration": 8,
    "start_time": "2023-04-11T17:32:27.192Z"
   },
   {
    "duration": 1258,
    "start_time": "2023-04-11T17:32:30.498Z"
   },
   {
    "duration": 5,
    "start_time": "2023-04-11T17:33:34.742Z"
   },
   {
    "duration": 2691,
    "start_time": "2023-04-11T17:33:37.562Z"
   },
   {
    "duration": 1415,
    "start_time": "2023-04-11T17:35:09.143Z"
   },
   {
    "duration": 3,
    "start_time": "2023-04-11T17:35:10.560Z"
   },
   {
    "duration": 2273,
    "start_time": "2023-04-11T17:35:10.565Z"
   },
   {
    "duration": 4,
    "start_time": "2023-04-11T17:35:12.839Z"
   },
   {
    "duration": 10,
    "start_time": "2023-04-11T17:35:12.845Z"
   },
   {
    "duration": 4,
    "start_time": "2023-04-11T17:35:12.857Z"
   },
   {
    "duration": 9,
    "start_time": "2023-04-11T17:35:12.862Z"
   },
   {
    "duration": 5,
    "start_time": "2023-04-11T17:35:12.873Z"
   },
   {
    "duration": 4,
    "start_time": "2023-04-11T17:35:12.880Z"
   },
   {
    "duration": 27,
    "start_time": "2023-04-11T17:35:12.886Z"
   },
   {
    "duration": 45,
    "start_time": "2023-04-11T17:35:12.915Z"
   },
   {
    "duration": 239,
    "start_time": "2023-04-11T17:35:12.962Z"
   },
   {
    "duration": 4,
    "start_time": "2023-04-11T17:35:13.203Z"
   },
   {
    "duration": 206,
    "start_time": "2023-04-11T17:35:13.210Z"
   },
   {
    "duration": 1698,
    "start_time": "2023-04-11T17:35:13.417Z"
   },
   {
    "duration": 6,
    "start_time": "2023-04-11T17:35:15.116Z"
   },
   {
    "duration": 2854,
    "start_time": "2023-04-11T17:35:15.124Z"
   },
   {
    "duration": 5,
    "start_time": "2023-04-11T17:35:17.980Z"
   },
   {
    "duration": 881,
    "start_time": "2023-04-11T17:35:17.987Z"
   },
   {
    "duration": 6,
    "start_time": "2023-04-11T17:35:18.870Z"
   },
   {
    "duration": 841,
    "start_time": "2023-04-11T17:35:18.878Z"
   },
   {
    "duration": 5,
    "start_time": "2023-04-11T17:35:19.720Z"
   },
   {
    "duration": 773,
    "start_time": "2023-04-11T17:35:19.735Z"
   },
   {
    "duration": 49,
    "start_time": "2023-04-12T07:44:10.714Z"
   },
   {
    "duration": 1451,
    "start_time": "2023-04-12T07:44:15.021Z"
   },
   {
    "duration": 3,
    "start_time": "2023-04-12T07:44:16.474Z"
   },
   {
    "duration": 1928,
    "start_time": "2023-04-12T07:44:16.478Z"
   },
   {
    "duration": 4,
    "start_time": "2023-04-12T07:44:18.408Z"
   },
   {
    "duration": 11,
    "start_time": "2023-04-12T07:44:18.413Z"
   },
   {
    "duration": 10,
    "start_time": "2023-04-12T07:44:18.426Z"
   },
   {
    "duration": 9,
    "start_time": "2023-04-12T07:44:18.438Z"
   },
   {
    "duration": 4,
    "start_time": "2023-04-12T07:44:18.449Z"
   },
   {
    "duration": 10,
    "start_time": "2023-04-12T07:44:18.455Z"
   },
   {
    "duration": 31,
    "start_time": "2023-04-12T07:44:18.468Z"
   },
   {
    "duration": 25,
    "start_time": "2023-04-12T07:44:18.500Z"
   },
   {
    "duration": 276,
    "start_time": "2023-04-12T07:44:18.526Z"
   },
   {
    "duration": 2,
    "start_time": "2023-04-12T07:44:18.804Z"
   },
   {
    "duration": 213,
    "start_time": "2023-04-12T07:44:18.808Z"
   },
   {
    "duration": 1775,
    "start_time": "2023-04-12T07:44:19.022Z"
   },
   {
    "duration": 5,
    "start_time": "2023-04-12T07:44:20.798Z"
   },
   {
    "duration": 2923,
    "start_time": "2023-04-12T07:44:20.805Z"
   },
   {
    "duration": 5,
    "start_time": "2023-04-12T07:44:23.730Z"
   },
   {
    "duration": 1063,
    "start_time": "2023-04-12T07:44:23.737Z"
   },
   {
    "duration": 6,
    "start_time": "2023-04-12T07:44:24.802Z"
   },
   {
    "duration": 875,
    "start_time": "2023-04-12T07:44:24.810Z"
   },
   {
    "duration": 5,
    "start_time": "2023-04-12T07:44:25.687Z"
   },
   {
    "duration": 814,
    "start_time": "2023-04-12T07:44:25.694Z"
   },
   {
    "duration": 5,
    "start_time": "2023-04-12T07:44:26.510Z"
   },
   {
    "duration": 42,
    "start_time": "2023-04-12T07:44:26.517Z"
   },
   {
    "duration": 5,
    "start_time": "2023-04-12T07:48:37.255Z"
   },
   {
    "duration": 5,
    "start_time": "2023-04-12T07:49:22.367Z"
   },
   {
    "duration": 4,
    "start_time": "2023-04-12T07:51:22.169Z"
   },
   {
    "duration": 27,
    "start_time": "2023-04-12T07:53:17.097Z"
   },
   {
    "duration": 7,
    "start_time": "2023-04-12T07:53:39.558Z"
   },
   {
    "duration": 140,
    "start_time": "2023-04-12T07:56:21.963Z"
   },
   {
    "duration": 5,
    "start_time": "2023-04-12T07:56:51.350Z"
   },
   {
    "duration": 41,
    "start_time": "2023-04-12T07:57:38.969Z"
   },
   {
    "duration": 17,
    "start_time": "2023-04-12T07:58:11.772Z"
   },
   {
    "duration": 263,
    "start_time": "2023-04-12T07:58:30.272Z"
   },
   {
    "duration": 14,
    "start_time": "2023-04-12T07:58:42.797Z"
   },
   {
    "duration": 518,
    "start_time": "2023-04-12T07:59:16.988Z"
   },
   {
    "duration": 17,
    "start_time": "2023-04-12T08:00:02.153Z"
   },
   {
    "duration": 12,
    "start_time": "2023-04-12T08:01:26.630Z"
   },
   {
    "duration": 900,
    "start_time": "2023-04-12T08:05:25.484Z"
   },
   {
    "duration": 28,
    "start_time": "2023-04-12T08:05:57.149Z"
   },
   {
    "duration": 18,
    "start_time": "2023-04-12T08:06:16.471Z"
   },
   {
    "duration": 1443,
    "start_time": "2023-04-12T08:06:53.246Z"
   },
   {
    "duration": 3,
    "start_time": "2023-04-12T08:06:54.691Z"
   },
   {
    "duration": 828,
    "start_time": "2023-04-12T08:06:54.696Z"
   },
   {
    "duration": 4,
    "start_time": "2023-04-12T08:06:55.526Z"
   },
   {
    "duration": 15,
    "start_time": "2023-04-12T08:06:55.531Z"
   },
   {
    "duration": 8,
    "start_time": "2023-04-12T08:06:55.548Z"
   },
   {
    "duration": 21,
    "start_time": "2023-04-12T08:06:55.557Z"
   },
   {
    "duration": 7,
    "start_time": "2023-04-12T08:06:55.579Z"
   },
   {
    "duration": 5,
    "start_time": "2023-04-12T08:06:55.588Z"
   },
   {
    "duration": 19,
    "start_time": "2023-04-12T08:06:55.595Z"
   },
   {
    "duration": 23,
    "start_time": "2023-04-12T08:06:55.616Z"
   },
   {
    "duration": 289,
    "start_time": "2023-04-12T08:06:55.641Z"
   },
   {
    "duration": 3,
    "start_time": "2023-04-12T08:06:55.932Z"
   },
   {
    "duration": 225,
    "start_time": "2023-04-12T08:06:55.937Z"
   },
   {
    "duration": 1917,
    "start_time": "2023-04-12T08:06:56.164Z"
   },
   {
    "duration": 6,
    "start_time": "2023-04-12T08:06:58.082Z"
   },
   {
    "duration": 3266,
    "start_time": "2023-04-12T08:06:58.090Z"
   },
   {
    "duration": 10,
    "start_time": "2023-04-12T08:07:01.358Z"
   },
   {
    "duration": 1056,
    "start_time": "2023-04-12T08:07:01.370Z"
   },
   {
    "duration": 7,
    "start_time": "2023-04-12T08:07:02.428Z"
   },
   {
    "duration": 916,
    "start_time": "2023-04-12T08:07:02.438Z"
   },
   {
    "duration": 6,
    "start_time": "2023-04-12T08:07:03.356Z"
   },
   {
    "duration": 897,
    "start_time": "2023-04-12T08:07:03.363Z"
   },
   {
    "duration": 5,
    "start_time": "2023-04-12T08:07:04.262Z"
   },
   {
    "duration": 49,
    "start_time": "2023-04-12T08:07:04.269Z"
   },
   {
    "duration": 26,
    "start_time": "2023-04-12T08:07:04.320Z"
   },
   {
    "duration": 160,
    "start_time": "2023-04-12T08:07:04.349Z"
   },
   {
    "duration": 5,
    "start_time": "2023-04-12T08:07:55.490Z"
   },
   {
    "duration": 9,
    "start_time": "2023-04-12T08:08:06.183Z"
   },
   {
    "duration": 5,
    "start_time": "2023-04-12T08:08:15.296Z"
   },
   {
    "duration": 11,
    "start_time": "2023-04-12T08:10:02.630Z"
   },
   {
    "duration": 65,
    "start_time": "2023-04-12T08:10:08.718Z"
   },
   {
    "duration": 4,
    "start_time": "2023-04-12T08:10:13.108Z"
   },
   {
    "duration": 3,
    "start_time": "2023-04-12T08:12:24.954Z"
   },
   {
    "duration": 206,
    "start_time": "2023-04-12T08:12:47.581Z"
   },
   {
    "duration": 61,
    "start_time": "2023-04-12T08:20:28.510Z"
   },
   {
    "duration": 58,
    "start_time": "2023-04-12T08:21:00.263Z"
   },
   {
    "duration": 6,
    "start_time": "2023-04-12T08:21:12.768Z"
   },
   {
    "duration": 3,
    "start_time": "2023-04-12T08:22:20.561Z"
   },
   {
    "duration": 33,
    "start_time": "2023-04-12T08:32:58.354Z"
   },
   {
    "duration": 11,
    "start_time": "2023-04-12T08:41:18.310Z"
   },
   {
    "duration": 10,
    "start_time": "2023-04-12T08:41:55.642Z"
   },
   {
    "duration": 1513,
    "start_time": "2023-04-12T08:43:00.560Z"
   },
   {
    "duration": 3,
    "start_time": "2023-04-12T08:43:02.075Z"
   },
   {
    "duration": 850,
    "start_time": "2023-04-12T08:43:02.080Z"
   },
   {
    "duration": 4,
    "start_time": "2023-04-12T08:43:02.933Z"
   },
   {
    "duration": 29,
    "start_time": "2023-04-12T08:43:02.939Z"
   },
   {
    "duration": 25,
    "start_time": "2023-04-12T08:43:02.969Z"
   },
   {
    "duration": 38,
    "start_time": "2023-04-12T08:43:02.995Z"
   },
   {
    "duration": 5,
    "start_time": "2023-04-12T08:43:03.035Z"
   },
   {
    "duration": 7,
    "start_time": "2023-04-12T08:43:03.041Z"
   },
   {
    "duration": 20,
    "start_time": "2023-04-12T08:43:03.050Z"
   },
   {
    "duration": 22,
    "start_time": "2023-04-12T08:43:03.072Z"
   },
   {
    "duration": 328,
    "start_time": "2023-04-12T08:43:03.096Z"
   },
   {
    "duration": 138,
    "start_time": "2023-04-12T08:43:03.426Z"
   },
   {
    "duration": 1792,
    "start_time": "2023-04-12T08:43:03.565Z"
   },
   {
    "duration": 5,
    "start_time": "2023-04-12T08:43:05.358Z"
   },
   {
    "duration": 3019,
    "start_time": "2023-04-12T08:43:05.365Z"
   },
   {
    "duration": 5,
    "start_time": "2023-04-12T08:43:08.385Z"
   },
   {
    "duration": 903,
    "start_time": "2023-04-12T08:43:08.392Z"
   },
   {
    "duration": 6,
    "start_time": "2023-04-12T08:43:09.298Z"
   },
   {
    "duration": 859,
    "start_time": "2023-04-12T08:43:09.306Z"
   },
   {
    "duration": 5,
    "start_time": "2023-04-12T08:43:10.166Z"
   },
   {
    "duration": 799,
    "start_time": "2023-04-12T08:43:10.173Z"
   },
   {
    "duration": 3,
    "start_time": "2023-04-12T08:43:10.974Z"
   },
   {
    "duration": 3,
    "start_time": "2023-04-12T08:43:10.985Z"
   },
   {
    "duration": 11,
    "start_time": "2023-04-12T08:43:10.990Z"
   },
   {
    "duration": 6,
    "start_time": "2023-04-12T08:43:11.002Z"
   },
   {
    "duration": 126,
    "start_time": "2023-04-12T08:43:11.009Z"
   },
   {
    "duration": 19,
    "start_time": "2023-04-12T08:47:03.266Z"
   },
   {
    "duration": 4,
    "start_time": "2023-04-12T08:49:07.624Z"
   },
   {
    "duration": 19,
    "start_time": "2023-04-12T08:49:21.848Z"
   },
   {
    "duration": 16,
    "start_time": "2023-04-12T08:50:27.638Z"
   },
   {
    "duration": 11,
    "start_time": "2023-04-12T08:52:51.169Z"
   },
   {
    "duration": 21,
    "start_time": "2023-04-12T08:54:58.478Z"
   },
   {
    "duration": 20,
    "start_time": "2023-04-12T08:55:23.350Z"
   },
   {
    "duration": 21,
    "start_time": "2023-04-12T08:55:32.638Z"
   },
   {
    "duration": 19,
    "start_time": "2023-04-12T08:57:07.129Z"
   },
   {
    "duration": 16,
    "start_time": "2023-04-12T09:00:01.784Z"
   },
   {
    "duration": 26,
    "start_time": "2023-04-12T09:05:48.906Z"
   },
   {
    "duration": 36,
    "start_time": "2023-04-12T09:06:18.356Z"
   },
   {
    "duration": 26,
    "start_time": "2023-04-12T09:07:49.828Z"
   },
   {
    "duration": 100,
    "start_time": "2023-04-12T09:08:10.787Z"
   },
   {
    "duration": 1505,
    "start_time": "2023-04-12T09:08:57.854Z"
   },
   {
    "duration": 3,
    "start_time": "2023-04-12T09:08:59.361Z"
   },
   {
    "duration": 820,
    "start_time": "2023-04-12T09:08:59.365Z"
   },
   {
    "duration": 4,
    "start_time": "2023-04-12T09:09:00.186Z"
   },
   {
    "duration": 13,
    "start_time": "2023-04-12T09:09:00.193Z"
   },
   {
    "duration": 32,
    "start_time": "2023-04-12T09:09:00.208Z"
   },
   {
    "duration": 31,
    "start_time": "2023-04-12T09:09:00.241Z"
   },
   {
    "duration": 27,
    "start_time": "2023-04-12T09:09:00.274Z"
   },
   {
    "duration": 25,
    "start_time": "2023-04-12T09:09:00.302Z"
   },
   {
    "duration": 42,
    "start_time": "2023-04-12T09:09:00.329Z"
   },
   {
    "duration": 23,
    "start_time": "2023-04-12T09:09:00.373Z"
   },
   {
    "duration": 373,
    "start_time": "2023-04-12T09:09:00.398Z"
   },
   {
    "duration": 154,
    "start_time": "2023-04-12T09:09:00.773Z"
   },
   {
    "duration": 1815,
    "start_time": "2023-04-12T09:09:00.930Z"
   },
   {
    "duration": 6,
    "start_time": "2023-04-12T09:09:02.747Z"
   },
   {
    "duration": 3103,
    "start_time": "2023-04-12T09:09:02.754Z"
   },
   {
    "duration": 5,
    "start_time": "2023-04-12T09:09:05.859Z"
   },
   {
    "duration": 961,
    "start_time": "2023-04-12T09:09:05.865Z"
   },
   {
    "duration": 7,
    "start_time": "2023-04-12T09:09:06.828Z"
   },
   {
    "duration": 918,
    "start_time": "2023-04-12T09:09:06.836Z"
   },
   {
    "duration": 6,
    "start_time": "2023-04-12T09:09:07.757Z"
   },
   {
    "duration": 894,
    "start_time": "2023-04-12T09:09:07.765Z"
   },
   {
    "duration": 3,
    "start_time": "2023-04-12T09:09:08.661Z"
   },
   {
    "duration": 6,
    "start_time": "2023-04-12T09:09:08.665Z"
   },
   {
    "duration": 15,
    "start_time": "2023-04-12T09:09:08.673Z"
   },
   {
    "duration": 6,
    "start_time": "2023-04-12T09:09:08.690Z"
   },
   {
    "duration": 188,
    "start_time": "2023-04-12T09:09:08.698Z"
   },
   {
    "duration": 110,
    "start_time": "2023-04-12T09:09:32.511Z"
   },
   {
    "duration": 114,
    "start_time": "2023-04-12T09:09:38.181Z"
   },
   {
    "duration": 113,
    "start_time": "2023-04-12T09:10:57.646Z"
   },
   {
    "duration": 3,
    "start_time": "2023-04-12T09:11:11.493Z"
   },
   {
    "duration": 21239,
    "start_time": "2023-04-12T09:11:19.355Z"
   },
   {
    "duration": 21967,
    "start_time": "2023-04-12T09:12:27.113Z"
   },
   {
    "duration": 390,
    "start_time": "2023-04-12T09:15:55.045Z"
   },
   {
    "duration": 4,
    "start_time": "2023-04-12T09:16:30.622Z"
   },
   {
    "duration": 7,
    "start_time": "2023-04-12T09:17:46.145Z"
   },
   {
    "duration": 16689,
    "start_time": "2023-04-12T09:18:27.294Z"
   },
   {
    "duration": 183,
    "start_time": "2023-04-12T09:21:14.301Z"
   },
   {
    "duration": 16774,
    "start_time": "2023-04-12T09:21:18.849Z"
   },
   {
    "duration": 374,
    "start_time": "2023-04-12T09:21:45.387Z"
   },
   {
    "duration": 7,
    "start_time": "2023-04-12T09:21:48.811Z"
   },
   {
    "duration": 4,
    "start_time": "2023-04-12T09:23:57.197Z"
   },
   {
    "duration": 8,
    "start_time": "2023-04-12T09:25:43.810Z"
   },
   {
    "duration": 10,
    "start_time": "2023-04-12T09:27:19.718Z"
   },
   {
    "duration": 10,
    "start_time": "2023-04-12T09:28:39.701Z"
   },
   {
    "duration": 11,
    "start_time": "2023-04-12T09:29:04.603Z"
   },
   {
    "duration": 393,
    "start_time": "2023-04-12T09:29:06.896Z"
   },
   {
    "duration": 19,
    "start_time": "2023-04-12T09:30:33.786Z"
   },
   {
    "duration": 7,
    "start_time": "2023-04-12T09:30:36.798Z"
   },
   {
    "duration": 18,
    "start_time": "2023-04-12T09:30:38.745Z"
   },
   {
    "duration": 153,
    "start_time": "2023-04-12T09:30:41.541Z"
   },
   {
    "duration": 5,
    "start_time": "2023-04-12T09:57:45.412Z"
   },
   {
    "duration": 12,
    "start_time": "2023-04-12T10:05:44.684Z"
   },
   {
    "duration": 12,
    "start_time": "2023-04-12T10:06:55.744Z"
   },
   {
    "duration": 29,
    "start_time": "2023-04-12T10:07:03.542Z"
   },
   {
    "duration": 14245,
    "start_time": "2023-04-12T10:08:03.545Z"
   },
   {
    "duration": 13,
    "start_time": "2023-04-12T10:11:35.153Z"
   },
   {
    "duration": 5,
    "start_time": "2023-04-12T10:12:43.879Z"
   },
   {
    "duration": 4,
    "start_time": "2023-04-12T10:12:48.877Z"
   },
   {
    "duration": 3,
    "start_time": "2023-04-12T10:14:28.676Z"
   },
   {
    "duration": 2,
    "start_time": "2023-04-12T10:14:35.620Z"
   },
   {
    "duration": 15110,
    "start_time": "2023-04-12T10:14:50.383Z"
   },
   {
    "duration": 13,
    "start_time": "2023-04-12T10:15:21.180Z"
   },
   {
    "duration": 16217,
    "start_time": "2023-04-12T10:15:32.571Z"
   },
   {
    "duration": 14679,
    "start_time": "2023-04-12T10:16:02.214Z"
   },
   {
    "duration": 16324,
    "start_time": "2023-04-12T10:16:29.970Z"
   },
   {
    "duration": 15141,
    "start_time": "2023-04-12T10:17:04.849Z"
   },
   {
    "duration": 15822,
    "start_time": "2023-04-12T10:17:44.272Z"
   },
   {
    "duration": 1400,
    "start_time": "2023-04-12T10:18:58.448Z"
   },
   {
    "duration": 3,
    "start_time": "2023-04-12T10:18:59.850Z"
   },
   {
    "duration": 845,
    "start_time": "2023-04-12T10:18:59.854Z"
   },
   {
    "duration": 4,
    "start_time": "2023-04-12T10:19:00.702Z"
   },
   {
    "duration": 38,
    "start_time": "2023-04-12T10:19:00.707Z"
   },
   {
    "duration": 38,
    "start_time": "2023-04-12T10:19:00.747Z"
   },
   {
    "duration": 21,
    "start_time": "2023-04-12T10:19:00.786Z"
   },
   {
    "duration": 33,
    "start_time": "2023-04-12T10:19:00.809Z"
   },
   {
    "duration": 50,
    "start_time": "2023-04-12T10:19:00.844Z"
   },
   {
    "duration": 30,
    "start_time": "2023-04-12T10:19:00.897Z"
   },
   {
    "duration": 37,
    "start_time": "2023-04-12T10:19:00.929Z"
   },
   {
    "duration": 358,
    "start_time": "2023-04-12T10:19:00.968Z"
   },
   {
    "duration": 150,
    "start_time": "2023-04-12T10:19:01.328Z"
   },
   {
    "duration": 1889,
    "start_time": "2023-04-12T10:19:01.480Z"
   },
   {
    "duration": 5,
    "start_time": "2023-04-12T10:19:03.371Z"
   },
   {
    "duration": 3067,
    "start_time": "2023-04-12T10:19:03.378Z"
   },
   {
    "duration": 5,
    "start_time": "2023-04-12T10:19:06.447Z"
   },
   {
    "duration": 894,
    "start_time": "2023-04-12T10:19:06.454Z"
   },
   {
    "duration": 7,
    "start_time": "2023-04-12T10:19:07.350Z"
   },
   {
    "duration": 859,
    "start_time": "2023-04-12T10:19:07.359Z"
   },
   {
    "duration": 5,
    "start_time": "2023-04-12T10:19:08.220Z"
   },
   {
    "duration": 766,
    "start_time": "2023-04-12T10:19:08.226Z"
   },
   {
    "duration": 3,
    "start_time": "2023-04-12T10:19:08.994Z"
   },
   {
    "duration": 5,
    "start_time": "2023-04-12T10:19:08.998Z"
   },
   {
    "duration": 8,
    "start_time": "2023-04-12T10:19:09.004Z"
   },
   {
    "duration": 117,
    "start_time": "2023-04-12T10:19:09.013Z"
   },
   {
    "duration": 0,
    "start_time": "2023-04-12T10:19:09.132Z"
   },
   {
    "duration": 0,
    "start_time": "2023-04-12T10:19:09.133Z"
   },
   {
    "duration": 0,
    "start_time": "2023-04-12T10:19:09.134Z"
   },
   {
    "duration": 0,
    "start_time": "2023-04-12T10:19:09.135Z"
   },
   {
    "duration": 0,
    "start_time": "2023-04-12T10:19:09.136Z"
   },
   {
    "duration": 0,
    "start_time": "2023-04-12T10:19:09.137Z"
   },
   {
    "duration": 0,
    "start_time": "2023-04-12T10:19:09.138Z"
   },
   {
    "duration": 0,
    "start_time": "2023-04-12T10:19:09.139Z"
   },
   {
    "duration": 0,
    "start_time": "2023-04-12T10:19:09.140Z"
   },
   {
    "duration": 1429,
    "start_time": "2023-04-12T10:20:13.520Z"
   },
   {
    "duration": 3,
    "start_time": "2023-04-12T10:20:14.951Z"
   },
   {
    "duration": 805,
    "start_time": "2023-04-12T10:20:14.955Z"
   },
   {
    "duration": 4,
    "start_time": "2023-04-12T10:20:15.762Z"
   },
   {
    "duration": 10,
    "start_time": "2023-04-12T10:20:15.767Z"
   },
   {
    "duration": 8,
    "start_time": "2023-04-12T10:20:15.778Z"
   },
   {
    "duration": 11,
    "start_time": "2023-04-12T10:20:15.788Z"
   },
   {
    "duration": 4,
    "start_time": "2023-04-12T10:20:15.800Z"
   },
   {
    "duration": 7,
    "start_time": "2023-04-12T10:20:15.806Z"
   },
   {
    "duration": 19,
    "start_time": "2023-04-12T10:20:15.816Z"
   },
   {
    "duration": 49,
    "start_time": "2023-04-12T10:20:15.836Z"
   },
   {
    "duration": 316,
    "start_time": "2023-04-12T10:20:15.887Z"
   },
   {
    "duration": 131,
    "start_time": "2023-04-12T10:20:16.205Z"
   },
   {
    "duration": 1739,
    "start_time": "2023-04-12T10:20:16.338Z"
   },
   {
    "duration": 5,
    "start_time": "2023-04-12T10:20:18.079Z"
   },
   {
    "duration": 2900,
    "start_time": "2023-04-12T10:20:18.085Z"
   },
   {
    "duration": 5,
    "start_time": "2023-04-12T10:20:20.987Z"
   },
   {
    "duration": 895,
    "start_time": "2023-04-12T10:20:20.994Z"
   },
   {
    "duration": 7,
    "start_time": "2023-04-12T10:20:21.890Z"
   },
   {
    "duration": 865,
    "start_time": "2023-04-12T10:20:21.899Z"
   },
   {
    "duration": 5,
    "start_time": "2023-04-12T10:20:22.765Z"
   },
   {
    "duration": 810,
    "start_time": "2023-04-12T10:20:22.772Z"
   },
   {
    "duration": 3,
    "start_time": "2023-04-12T10:20:23.584Z"
   },
   {
    "duration": 5,
    "start_time": "2023-04-12T10:20:23.589Z"
   },
   {
    "duration": 6,
    "start_time": "2023-04-12T10:20:23.595Z"
   },
   {
    "duration": 10,
    "start_time": "2023-04-12T10:20:23.603Z"
   },
   {
    "duration": 5,
    "start_time": "2023-04-12T10:20:23.614Z"
   },
   {
    "duration": 15665,
    "start_time": "2023-04-12T10:20:23.623Z"
   },
   {
    "duration": 396,
    "start_time": "2023-04-12T10:20:39.290Z"
   },
   {
    "duration": 16644,
    "start_time": "2023-04-12T10:20:39.688Z"
   },
   {
    "duration": 386,
    "start_time": "2023-04-12T10:20:56.334Z"
   },
   {
    "duration": 6,
    "start_time": "2023-04-12T10:20:56.722Z"
   },
   {
    "duration": 14,
    "start_time": "2023-04-12T10:20:56.730Z"
   },
   {
    "duration": 24,
    "start_time": "2023-04-12T10:20:56.745Z"
   },
   {
    "duration": 218,
    "start_time": "2023-04-12T10:20:56.771Z"
   },
   {
    "duration": 1039,
    "start_time": "2023-04-12T10:26:02.356Z"
   },
   {
    "duration": 964,
    "start_time": "2023-04-12T10:27:03.528Z"
   },
   {
    "duration": 126,
    "start_time": "2023-04-12T10:27:48.087Z"
   },
   {
    "duration": 31,
    "start_time": "2023-04-12T10:32:49.806Z"
   },
   {
    "duration": 16935,
    "start_time": "2023-04-12T10:33:19.420Z"
   },
   {
    "duration": 16078,
    "start_time": "2023-04-12T10:36:51.818Z"
   },
   {
    "duration": 17673,
    "start_time": "2023-04-12T10:37:33.236Z"
   },
   {
    "duration": 17177,
    "start_time": "2023-04-12T10:39:05.234Z"
   },
   {
    "duration": 111,
    "start_time": "2023-04-12T10:40:05.772Z"
   },
   {
    "duration": 3,
    "start_time": "2023-04-12T11:06:07.743Z"
   },
   {
    "duration": 934,
    "start_time": "2023-04-12T11:06:46.161Z"
   },
   {
    "duration": 3,
    "start_time": "2023-04-12T11:35:33.526Z"
   },
   {
    "duration": 3,
    "start_time": "2023-04-12T11:35:35.703Z"
   },
   {
    "duration": 7,
    "start_time": "2023-04-12T11:44:28.463Z"
   },
   {
    "duration": 5,
    "start_time": "2023-04-12T11:45:26.675Z"
   },
   {
    "duration": 3,
    "start_time": "2023-04-12T11:45:29.708Z"
   },
   {
    "duration": 3,
    "start_time": "2023-04-12T11:45:31.193Z"
   },
   {
    "duration": 3,
    "start_time": "2023-04-12T11:45:35.562Z"
   },
   {
    "duration": 16,
    "start_time": "2023-04-12T11:45:38.062Z"
   },
   {
    "duration": 1525,
    "start_time": "2023-04-12T11:46:25.272Z"
   },
   {
    "duration": 3,
    "start_time": "2023-04-12T11:46:26.799Z"
   },
   {
    "duration": 844,
    "start_time": "2023-04-12T11:46:26.804Z"
   },
   {
    "duration": 4,
    "start_time": "2023-04-12T11:46:27.651Z"
   },
   {
    "duration": 9,
    "start_time": "2023-04-12T11:46:27.657Z"
   },
   {
    "duration": 17,
    "start_time": "2023-04-12T11:46:27.668Z"
   },
   {
    "duration": 11,
    "start_time": "2023-04-12T11:46:27.687Z"
   },
   {
    "duration": 8,
    "start_time": "2023-04-12T11:46:27.699Z"
   },
   {
    "duration": 4,
    "start_time": "2023-04-12T11:46:27.709Z"
   },
   {
    "duration": 20,
    "start_time": "2023-04-12T11:46:27.717Z"
   },
   {
    "duration": 62,
    "start_time": "2023-04-12T11:46:27.739Z"
   },
   {
    "duration": 347,
    "start_time": "2023-04-12T11:46:27.803Z"
   },
   {
    "duration": 154,
    "start_time": "2023-04-12T11:46:28.151Z"
   },
   {
    "duration": 1826,
    "start_time": "2023-04-12T11:46:28.307Z"
   },
   {
    "duration": 6,
    "start_time": "2023-04-12T11:46:30.135Z"
   },
   {
    "duration": 3163,
    "start_time": "2023-04-12T11:46:30.142Z"
   },
   {
    "duration": 5,
    "start_time": "2023-04-12T11:46:33.307Z"
   },
   {
    "duration": 1026,
    "start_time": "2023-04-12T11:46:33.314Z"
   },
   {
    "duration": 6,
    "start_time": "2023-04-12T11:46:34.342Z"
   },
   {
    "duration": 860,
    "start_time": "2023-04-12T11:46:34.350Z"
   },
   {
    "duration": 4,
    "start_time": "2023-04-12T11:46:35.212Z"
   },
   {
    "duration": 804,
    "start_time": "2023-04-12T11:46:35.218Z"
   },
   {
    "duration": 3,
    "start_time": "2023-04-12T11:46:36.024Z"
   },
   {
    "duration": 11,
    "start_time": "2023-04-12T11:46:36.029Z"
   },
   {
    "duration": 5,
    "start_time": "2023-04-12T11:46:36.042Z"
   },
   {
    "duration": 10,
    "start_time": "2023-04-12T11:46:36.048Z"
   },
   {
    "duration": 6,
    "start_time": "2023-04-12T11:46:36.060Z"
   },
   {
    "duration": 6,
    "start_time": "2023-04-12T11:46:36.085Z"
   },
   {
    "duration": 6,
    "start_time": "2023-04-12T11:46:36.092Z"
   },
   {
    "duration": 5,
    "start_time": "2023-04-12T11:46:36.099Z"
   },
   {
    "duration": 279,
    "start_time": "2023-04-12T11:46:36.106Z"
   },
   {
    "duration": 0,
    "start_time": "2023-04-12T11:46:36.387Z"
   },
   {
    "duration": 0,
    "start_time": "2023-04-12T11:46:36.388Z"
   },
   {
    "duration": 0,
    "start_time": "2023-04-12T11:46:36.389Z"
   },
   {
    "duration": 0,
    "start_time": "2023-04-12T11:46:36.390Z"
   },
   {
    "duration": 0,
    "start_time": "2023-04-12T11:46:36.391Z"
   },
   {
    "duration": 0,
    "start_time": "2023-04-12T11:46:36.392Z"
   },
   {
    "duration": 802358,
    "start_time": "2023-04-12T11:48:17.906Z"
   },
   {
    "duration": 0,
    "start_time": "2023-04-12T12:01:40.266Z"
   },
   {
    "duration": 4,
    "start_time": "2023-04-12T12:02:15.266Z"
   },
   {
    "duration": 10921,
    "start_time": "2023-04-12T12:02:48.745Z"
   },
   {
    "duration": 6105,
    "start_time": "2023-04-12T12:03:17.907Z"
   },
   {
    "duration": 3250,
    "start_time": "2023-04-12T12:03:31.575Z"
   },
   {
    "duration": 627,
    "start_time": "2023-04-12T12:03:39.831Z"
   },
   {
    "duration": 1342,
    "start_time": "2023-04-12T12:03:43.957Z"
   },
   {
    "duration": 1885,
    "start_time": "2023-04-12T12:03:48.613Z"
   },
   {
    "duration": 2564,
    "start_time": "2023-04-12T12:03:53.484Z"
   },
   {
    "duration": 3212,
    "start_time": "2023-04-12T12:03:59.551Z"
   },
   {
    "duration": 2515,
    "start_time": "2023-04-12T12:04:17.492Z"
   },
   {
    "duration": 3826,
    "start_time": "2023-04-12T12:04:22.593Z"
   },
   {
    "duration": 4315,
    "start_time": "2023-04-12T12:04:34.395Z"
   },
   {
    "duration": 5054,
    "start_time": "2023-04-12T12:04:44.041Z"
   },
   {
    "duration": 5757,
    "start_time": "2023-04-12T12:04:54.420Z"
   },
   {
    "duration": 6223,
    "start_time": "2023-04-12T12:05:05.627Z"
   },
   {
    "duration": 6710,
    "start_time": "2023-04-12T12:05:15.188Z"
   },
   {
    "duration": 9378,
    "start_time": "2023-04-12T12:05:25.971Z"
   },
   {
    "duration": 25563,
    "start_time": "2023-04-12T12:05:43.965Z"
   },
   {
    "duration": 14802,
    "start_time": "2023-04-12T12:06:17.493Z"
   },
   {
    "duration": 7735,
    "start_time": "2023-04-12T12:06:41.921Z"
   },
   {
    "duration": 2829,
    "start_time": "2023-04-12T12:07:01.423Z"
   },
   {
    "duration": 2128,
    "start_time": "2023-04-12T12:07:10.730Z"
   },
   {
    "duration": 2449,
    "start_time": "2023-04-12T12:07:21.532Z"
   },
   {
    "duration": 2174,
    "start_time": "2023-04-12T12:07:28.220Z"
   },
   {
    "duration": 93,
    "start_time": "2023-04-12T12:07:37.092Z"
   },
   {
    "duration": 630,
    "start_time": "2023-04-12T12:07:45.373Z"
   },
   {
    "duration": 1144,
    "start_time": "2023-04-12T12:07:49.069Z"
   },
   {
    "duration": 1776,
    "start_time": "2023-04-12T12:08:06.685Z"
   },
   {
    "duration": 2189,
    "start_time": "2023-04-12T12:08:12.206Z"
   },
   {
    "duration": 2635,
    "start_time": "2023-04-12T12:08:17.078Z"
   },
   {
    "duration": 3056,
    "start_time": "2023-04-12T12:08:22.670Z"
   },
   {
    "duration": 1162,
    "start_time": "2023-04-12T12:08:29.351Z"
   },
   {
    "duration": 1235,
    "start_time": "2023-04-12T12:08:55.769Z"
   },
   {
    "duration": 1233,
    "start_time": "2023-04-12T12:09:01.401Z"
   },
   {
    "duration": 1162,
    "start_time": "2023-04-12T12:09:05.457Z"
   },
   {
    "duration": 2108,
    "start_time": "2023-04-12T12:09:11.817Z"
   },
   {
    "duration": 1201,
    "start_time": "2023-04-12T12:09:33.988Z"
   },
   {
    "duration": 1168,
    "start_time": "2023-04-12T12:09:38.445Z"
   },
   {
    "duration": 1166,
    "start_time": "2023-04-12T12:09:42.155Z"
   },
   {
    "duration": 1154,
    "start_time": "2023-04-12T12:09:46.404Z"
   },
   {
    "duration": 2231,
    "start_time": "2023-04-12T12:09:55.647Z"
   },
   {
    "duration": 111,
    "start_time": "2023-04-12T12:10:11.890Z"
   },
   {
    "duration": 61,
    "start_time": "2023-04-12T12:10:16.349Z"
   },
   {
    "duration": 280,
    "start_time": "2023-04-12T12:10:36.295Z"
   },
   {
    "duration": 61,
    "start_time": "2023-04-12T12:10:40.495Z"
   },
   {
    "duration": 85,
    "start_time": "2023-04-12T12:10:45.487Z"
   },
   {
    "duration": 108,
    "start_time": "2023-04-12T12:10:50.079Z"
   },
   {
    "duration": 63,
    "start_time": "2023-04-12T12:10:58.696Z"
   },
   {
    "duration": 1128,
    "start_time": "2023-04-12T12:11:04.896Z"
   },
   {
    "duration": 1185,
    "start_time": "2023-04-12T12:11:14.106Z"
   },
   {
    "duration": 4824,
    "start_time": "2023-04-12T12:12:01.070Z"
   },
   {
    "duration": 5472,
    "start_time": "2023-04-12T12:12:34.760Z"
   },
   {
    "duration": 4,
    "start_time": "2023-04-12T12:14:18.144Z"
   },
   {
    "duration": 6,
    "start_time": "2023-04-12T12:16:31.480Z"
   },
   {
    "duration": 8,
    "start_time": "2023-04-12T12:24:25.324Z"
   },
   {
    "duration": 1776,
    "start_time": "2023-04-12T16:26:37.917Z"
   },
   {
    "duration": 4,
    "start_time": "2023-04-12T16:26:39.695Z"
   },
   {
    "duration": 3561,
    "start_time": "2023-04-12T16:26:39.701Z"
   },
   {
    "duration": 4,
    "start_time": "2023-04-12T16:26:43.264Z"
   },
   {
    "duration": 7,
    "start_time": "2023-04-12T16:26:43.270Z"
   },
   {
    "duration": 6,
    "start_time": "2023-04-12T16:26:43.279Z"
   },
   {
    "duration": 13,
    "start_time": "2023-04-12T16:26:43.286Z"
   },
   {
    "duration": 9,
    "start_time": "2023-04-12T16:26:43.301Z"
   },
   {
    "duration": 36,
    "start_time": "2023-04-12T16:26:43.311Z"
   },
   {
    "duration": 23,
    "start_time": "2023-04-12T16:26:43.350Z"
   },
   {
    "duration": 24,
    "start_time": "2023-04-12T16:26:43.374Z"
   },
   {
    "duration": 135,
    "start_time": "2023-04-12T16:26:43.400Z"
   },
   {
    "duration": 10,
    "start_time": "2023-04-12T16:26:43.537Z"
   },
   {
    "duration": 7,
    "start_time": "2023-04-12T16:26:43.548Z"
   },
   {
    "duration": 3103,
    "start_time": "2023-04-12T16:26:43.556Z"
   },
   {
    "duration": 6,
    "start_time": "2023-04-12T16:26:46.660Z"
   },
   {
    "duration": 1150,
    "start_time": "2023-04-12T16:26:46.668Z"
   },
   {
    "duration": 7,
    "start_time": "2023-04-12T16:26:47.820Z"
   },
   {
    "duration": 648,
    "start_time": "2023-04-12T16:26:47.829Z"
   },
   {
    "duration": 10,
    "start_time": "2023-04-12T16:26:48.479Z"
   },
   {
    "duration": 963,
    "start_time": "2023-04-12T16:26:48.491Z"
   },
   {
    "duration": 4,
    "start_time": "2023-04-12T16:26:49.455Z"
   },
   {
    "duration": 15,
    "start_time": "2023-04-12T16:26:49.460Z"
   },
   {
    "duration": 12,
    "start_time": "2023-04-12T16:26:49.478Z"
   },
   {
    "duration": 38,
    "start_time": "2023-04-12T16:26:49.492Z"
   },
   {
    "duration": 12,
    "start_time": "2023-04-12T16:26:49.532Z"
   },
   {
    "duration": 16,
    "start_time": "2023-04-12T16:26:49.546Z"
   },
   {
    "duration": 14,
    "start_time": "2023-04-12T16:26:49.565Z"
   },
   {
    "duration": 15,
    "start_time": "2023-04-12T16:26:49.581Z"
   },
   {
    "duration": 6071,
    "start_time": "2023-04-12T16:26:49.597Z"
   },
   {
    "duration": 1,
    "start_time": "2023-04-12T16:26:55.669Z"
   },
   {
    "duration": 0,
    "start_time": "2023-04-12T16:26:55.671Z"
   },
   {
    "duration": 0,
    "start_time": "2023-04-12T16:26:55.673Z"
   },
   {
    "duration": 0,
    "start_time": "2023-04-12T16:26:55.675Z"
   },
   {
    "duration": 0,
    "start_time": "2023-04-12T16:26:55.676Z"
   },
   {
    "duration": 0,
    "start_time": "2023-04-12T16:26:55.687Z"
   },
   {
    "duration": 1250,
    "start_time": "2023-04-12T16:28:50.540Z"
   },
   {
    "duration": 1245,
    "start_time": "2023-04-12T16:30:20.645Z"
   },
   {
    "duration": 40,
    "start_time": "2023-04-12T16:31:23.931Z"
   },
   {
    "duration": 8,
    "start_time": "2023-04-12T16:31:28.596Z"
   },
   {
    "duration": 7,
    "start_time": "2023-04-12T16:32:08.635Z"
   },
   {
    "duration": 5,
    "start_time": "2023-04-12T16:32:10.411Z"
   },
   {
    "duration": 1342,
    "start_time": "2023-04-12T16:32:15.945Z"
   },
   {
    "duration": 5,
    "start_time": "2023-04-12T16:33:18.279Z"
   },
   {
    "duration": 1232,
    "start_time": "2023-04-12T16:33:22.766Z"
   },
   {
    "duration": 8,
    "start_time": "2023-04-12T16:34:13.875Z"
   },
   {
    "duration": 1385,
    "start_time": "2023-04-12T16:34:17.510Z"
   },
   {
    "duration": 6,
    "start_time": "2023-04-12T16:35:04.844Z"
   },
   {
    "duration": 1070,
    "start_time": "2023-04-12T16:35:06.830Z"
   },
   {
    "duration": 3346,
    "start_time": "2023-04-12T16:36:14.998Z"
   },
   {
    "duration": 5861,
    "start_time": "2023-04-12T16:38:17.858Z"
   },
   {
    "duration": 1486,
    "start_time": "2023-04-12T16:38:58.402Z"
   },
   {
    "duration": 3,
    "start_time": "2023-04-12T16:38:59.890Z"
   },
   {
    "duration": 965,
    "start_time": "2023-04-12T16:38:59.895Z"
   },
   {
    "duration": 6,
    "start_time": "2023-04-12T16:39:00.862Z"
   },
   {
    "duration": 38,
    "start_time": "2023-04-12T16:39:00.871Z"
   },
   {
    "duration": 35,
    "start_time": "2023-04-12T16:39:00.911Z"
   },
   {
    "duration": 27,
    "start_time": "2023-04-12T16:39:00.947Z"
   },
   {
    "duration": 38,
    "start_time": "2023-04-12T16:39:00.977Z"
   },
   {
    "duration": 46,
    "start_time": "2023-04-12T16:39:01.018Z"
   },
   {
    "duration": 55,
    "start_time": "2023-04-12T16:39:01.066Z"
   },
   {
    "duration": 43,
    "start_time": "2023-04-12T16:39:01.123Z"
   },
   {
    "duration": 171,
    "start_time": "2023-04-12T16:39:01.168Z"
   },
   {
    "duration": 11,
    "start_time": "2023-04-12T16:39:01.341Z"
   },
   {
    "duration": 37,
    "start_time": "2023-04-12T16:39:01.355Z"
   },
   {
    "duration": 3233,
    "start_time": "2023-04-12T16:39:01.394Z"
   },
   {
    "duration": 5,
    "start_time": "2023-04-12T16:39:04.629Z"
   },
   {
    "duration": 1297,
    "start_time": "2023-04-12T16:39:04.636Z"
   },
   {
    "duration": 7,
    "start_time": "2023-04-12T16:39:05.935Z"
   },
   {
    "duration": 724,
    "start_time": "2023-04-12T16:39:05.943Z"
   },
   {
    "duration": 6,
    "start_time": "2023-04-12T16:39:06.669Z"
   },
   {
    "duration": 1065,
    "start_time": "2023-04-12T16:39:06.677Z"
   },
   {
    "duration": 4,
    "start_time": "2023-04-12T16:39:07.744Z"
   },
   {
    "duration": 13,
    "start_time": "2023-04-12T16:39:07.750Z"
   },
   {
    "duration": 14,
    "start_time": "2023-04-12T16:39:07.765Z"
   },
   {
    "duration": 20,
    "start_time": "2023-04-12T16:39:07.780Z"
   },
   {
    "duration": 12,
    "start_time": "2023-04-12T16:39:07.804Z"
   },
   {
    "duration": 15,
    "start_time": "2023-04-12T16:39:07.818Z"
   },
   {
    "duration": 6,
    "start_time": "2023-04-12T16:39:07.835Z"
   },
   {
    "duration": 3920,
    "start_time": "2023-04-12T16:39:07.843Z"
   },
   {
    "duration": 0,
    "start_time": "2023-04-12T16:39:11.766Z"
   },
   {
    "duration": 0,
    "start_time": "2023-04-12T16:39:11.767Z"
   },
   {
    "duration": 0,
    "start_time": "2023-04-12T16:39:11.770Z"
   },
   {
    "duration": 0,
    "start_time": "2023-04-12T16:39:11.771Z"
   },
   {
    "duration": 0,
    "start_time": "2023-04-12T16:39:11.789Z"
   },
   {
    "duration": 0,
    "start_time": "2023-04-12T16:39:11.791Z"
   },
   {
    "duration": 0,
    "start_time": "2023-04-12T16:39:11.793Z"
   },
   {
    "duration": 14,
    "start_time": "2023-04-12T16:39:56.109Z"
   },
   {
    "duration": 15,
    "start_time": "2023-04-12T16:40:21.506Z"
   },
   {
    "duration": 18,
    "start_time": "2023-04-12T16:41:22.300Z"
   },
   {
    "duration": 1595,
    "start_time": "2023-04-12T16:41:40.670Z"
   },
   {
    "duration": 3,
    "start_time": "2023-04-12T16:41:42.268Z"
   },
   {
    "duration": 866,
    "start_time": "2023-04-12T16:41:42.273Z"
   },
   {
    "duration": 4,
    "start_time": "2023-04-12T16:41:43.141Z"
   },
   {
    "duration": 12,
    "start_time": "2023-04-12T16:41:43.147Z"
   },
   {
    "duration": 7,
    "start_time": "2023-04-12T16:41:43.161Z"
   },
   {
    "duration": 23,
    "start_time": "2023-04-12T16:41:43.170Z"
   },
   {
    "duration": 10,
    "start_time": "2023-04-12T16:41:43.195Z"
   },
   {
    "duration": 8,
    "start_time": "2023-04-12T16:41:43.207Z"
   },
   {
    "duration": 37,
    "start_time": "2023-04-12T16:41:43.217Z"
   },
   {
    "duration": 39,
    "start_time": "2023-04-12T16:41:43.255Z"
   },
   {
    "duration": 141,
    "start_time": "2023-04-12T16:41:43.296Z"
   },
   {
    "duration": 13,
    "start_time": "2023-04-12T16:41:43.438Z"
   },
   {
    "duration": 8,
    "start_time": "2023-04-12T16:41:43.456Z"
   },
   {
    "duration": 3157,
    "start_time": "2023-04-12T16:41:43.466Z"
   },
   {
    "duration": 6,
    "start_time": "2023-04-12T16:41:46.625Z"
   },
   {
    "duration": 1274,
    "start_time": "2023-04-12T16:41:46.633Z"
   },
   {
    "duration": 7,
    "start_time": "2023-04-12T16:41:47.910Z"
   },
   {
    "duration": 663,
    "start_time": "2023-04-12T16:41:47.919Z"
   },
   {
    "duration": 8,
    "start_time": "2023-04-12T16:41:48.585Z"
   },
   {
    "duration": 979,
    "start_time": "2023-04-12T16:41:48.595Z"
   },
   {
    "duration": 12,
    "start_time": "2023-04-12T16:41:49.576Z"
   },
   {
    "duration": 8,
    "start_time": "2023-04-12T16:41:49.590Z"
   },
   {
    "duration": 13,
    "start_time": "2023-04-12T16:41:49.600Z"
   },
   {
    "duration": 34,
    "start_time": "2023-04-12T16:41:49.616Z"
   },
   {
    "duration": 6,
    "start_time": "2023-04-12T16:41:49.652Z"
   },
   {
    "duration": 27,
    "start_time": "2023-04-12T16:41:49.660Z"
   },
   {
    "duration": 14,
    "start_time": "2023-04-12T16:41:49.689Z"
   },
   {
    "duration": 3482,
    "start_time": "2023-04-12T16:41:49.705Z"
   },
   {
    "duration": 0,
    "start_time": "2023-04-12T16:41:53.190Z"
   },
   {
    "duration": 0,
    "start_time": "2023-04-12T16:41:53.191Z"
   },
   {
    "duration": 0,
    "start_time": "2023-04-12T16:41:53.193Z"
   },
   {
    "duration": 0,
    "start_time": "2023-04-12T16:41:53.195Z"
   },
   {
    "duration": 1,
    "start_time": "2023-04-12T16:41:53.196Z"
   },
   {
    "duration": 0,
    "start_time": "2023-04-12T16:41:53.198Z"
   },
   {
    "duration": 0,
    "start_time": "2023-04-12T16:41:53.199Z"
   },
   {
    "duration": 9,
    "start_time": "2023-04-12T16:41:58.761Z"
   },
   {
    "duration": 10,
    "start_time": "2023-04-12T16:42:46.400Z"
   },
   {
    "duration": 1637,
    "start_time": "2023-04-12T16:44:21.627Z"
   },
   {
    "duration": 3,
    "start_time": "2023-04-12T16:44:23.266Z"
   },
   {
    "duration": 916,
    "start_time": "2023-04-12T16:44:23.271Z"
   },
   {
    "duration": 5,
    "start_time": "2023-04-12T16:44:24.189Z"
   },
   {
    "duration": 26,
    "start_time": "2023-04-12T16:44:24.196Z"
   },
   {
    "duration": 23,
    "start_time": "2023-04-12T16:44:24.224Z"
   },
   {
    "duration": 17,
    "start_time": "2023-04-12T16:44:24.249Z"
   },
   {
    "duration": 9,
    "start_time": "2023-04-12T16:44:24.268Z"
   },
   {
    "duration": 7,
    "start_time": "2023-04-12T16:44:24.279Z"
   },
   {
    "duration": 22,
    "start_time": "2023-04-12T16:44:24.288Z"
   },
   {
    "duration": 24,
    "start_time": "2023-04-12T16:44:24.311Z"
   },
   {
    "duration": 18,
    "start_time": "2023-04-12T16:44:24.337Z"
   },
   {
    "duration": 41,
    "start_time": "2023-04-12T16:44:24.357Z"
   },
   {
    "duration": 23,
    "start_time": "2023-04-12T16:44:24.404Z"
   },
   {
    "duration": 156,
    "start_time": "2023-04-12T16:44:24.428Z"
   },
   {
    "duration": 10,
    "start_time": "2023-04-12T16:44:24.588Z"
   },
   {
    "duration": 20,
    "start_time": "2023-04-12T16:44:24.600Z"
   },
   {
    "duration": 3205,
    "start_time": "2023-04-12T16:44:24.622Z"
   },
   {
    "duration": 5,
    "start_time": "2023-04-12T16:44:27.829Z"
   },
   {
    "duration": 1183,
    "start_time": "2023-04-12T16:44:27.835Z"
   },
   {
    "duration": 8,
    "start_time": "2023-04-12T16:44:29.020Z"
   },
   {
    "duration": 649,
    "start_time": "2023-04-12T16:44:29.030Z"
   },
   {
    "duration": 7,
    "start_time": "2023-04-12T16:44:29.681Z"
   },
   {
    "duration": 936,
    "start_time": "2023-04-12T16:44:29.690Z"
   },
   {
    "duration": 4,
    "start_time": "2023-04-12T16:44:30.628Z"
   },
   {
    "duration": 39,
    "start_time": "2023-04-12T16:44:30.634Z"
   },
   {
    "duration": 31,
    "start_time": "2023-04-12T16:44:30.675Z"
   },
   {
    "duration": 33,
    "start_time": "2023-04-12T16:44:30.708Z"
   },
   {
    "duration": 64,
    "start_time": "2023-04-12T16:44:30.743Z"
   },
   {
    "duration": 44,
    "start_time": "2023-04-12T16:44:30.810Z"
   },
   {
    "duration": 128,
    "start_time": "2023-04-12T16:44:30.856Z"
   },
   {
    "duration": 65,
    "start_time": "2023-04-12T16:44:30.986Z"
   },
   {
    "duration": 3534,
    "start_time": "2023-04-12T16:44:31.053Z"
   },
   {
    "duration": 0,
    "start_time": "2023-04-12T16:44:34.589Z"
   },
   {
    "duration": 0,
    "start_time": "2023-04-12T16:44:34.590Z"
   },
   {
    "duration": 0,
    "start_time": "2023-04-12T16:44:34.591Z"
   },
   {
    "duration": 0,
    "start_time": "2023-04-12T16:44:34.592Z"
   },
   {
    "duration": 0,
    "start_time": "2023-04-12T16:44:34.594Z"
   },
   {
    "duration": 0,
    "start_time": "2023-04-12T16:44:34.595Z"
   },
   {
    "duration": 0,
    "start_time": "2023-04-12T16:44:34.596Z"
   },
   {
    "duration": 12,
    "start_time": "2023-04-12T16:45:19.778Z"
   },
   {
    "duration": 1481,
    "start_time": "2023-04-12T16:48:25.940Z"
   },
   {
    "duration": 3,
    "start_time": "2023-04-12T16:48:27.423Z"
   },
   {
    "duration": 823,
    "start_time": "2023-04-12T16:48:27.427Z"
   },
   {
    "duration": 4,
    "start_time": "2023-04-12T16:48:28.252Z"
   },
   {
    "duration": 10,
    "start_time": "2023-04-12T16:48:28.258Z"
   },
   {
    "duration": 5,
    "start_time": "2023-04-12T16:48:28.270Z"
   },
   {
    "duration": 18,
    "start_time": "2023-04-12T16:48:28.276Z"
   },
   {
    "duration": 4,
    "start_time": "2023-04-12T16:48:28.296Z"
   },
   {
    "duration": 5,
    "start_time": "2023-04-12T16:48:28.302Z"
   },
   {
    "duration": 20,
    "start_time": "2023-04-12T16:48:28.309Z"
   },
   {
    "duration": 24,
    "start_time": "2023-04-12T16:48:28.331Z"
   },
   {
    "duration": 42,
    "start_time": "2023-04-12T16:48:28.356Z"
   },
   {
    "duration": 19,
    "start_time": "2023-04-12T16:48:28.400Z"
   },
   {
    "duration": 10,
    "start_time": "2023-04-12T16:48:28.422Z"
   },
   {
    "duration": 163,
    "start_time": "2023-04-12T16:48:28.435Z"
   },
   {
    "duration": 10,
    "start_time": "2023-04-12T16:48:28.600Z"
   },
   {
    "duration": 6,
    "start_time": "2023-04-12T16:48:28.611Z"
   },
   {
    "duration": 3276,
    "start_time": "2023-04-12T16:48:28.619Z"
   },
   {
    "duration": 6,
    "start_time": "2023-04-12T16:48:31.896Z"
   },
   {
    "duration": 1226,
    "start_time": "2023-04-12T16:48:31.904Z"
   },
   {
    "duration": 6,
    "start_time": "2023-04-12T16:48:33.133Z"
   },
   {
    "duration": 646,
    "start_time": "2023-04-12T16:48:33.141Z"
   },
   {
    "duration": 5,
    "start_time": "2023-04-12T16:48:33.789Z"
   },
   {
    "duration": 926,
    "start_time": "2023-04-12T16:48:33.796Z"
   },
   {
    "duration": 4,
    "start_time": "2023-04-12T16:48:34.725Z"
   },
   {
    "duration": 12,
    "start_time": "2023-04-12T16:48:34.731Z"
   },
   {
    "duration": 10,
    "start_time": "2023-04-12T16:48:34.745Z"
   },
   {
    "duration": 137,
    "start_time": "2023-04-12T16:48:34.758Z"
   },
   {
    "duration": 0,
    "start_time": "2023-04-12T16:48:34.896Z"
   },
   {
    "duration": 0,
    "start_time": "2023-04-12T16:48:34.898Z"
   },
   {
    "duration": 0,
    "start_time": "2023-04-12T16:48:34.900Z"
   },
   {
    "duration": 0,
    "start_time": "2023-04-12T16:48:34.902Z"
   },
   {
    "duration": 0,
    "start_time": "2023-04-12T16:48:34.904Z"
   },
   {
    "duration": 0,
    "start_time": "2023-04-12T16:48:34.905Z"
   },
   {
    "duration": 0,
    "start_time": "2023-04-12T16:48:34.907Z"
   },
   {
    "duration": 0,
    "start_time": "2023-04-12T16:48:34.908Z"
   },
   {
    "duration": 0,
    "start_time": "2023-04-12T16:48:34.910Z"
   },
   {
    "duration": 0,
    "start_time": "2023-04-12T16:48:34.912Z"
   },
   {
    "duration": 0,
    "start_time": "2023-04-12T16:48:34.913Z"
   },
   {
    "duration": 0,
    "start_time": "2023-04-12T16:48:34.915Z"
   },
   {
    "duration": 19,
    "start_time": "2023-04-12T16:48:39.443Z"
   },
   {
    "duration": 5,
    "start_time": "2023-04-12T16:49:25.599Z"
   },
   {
    "duration": 49,
    "start_time": "2023-04-12T16:49:43.464Z"
   },
   {
    "duration": 48,
    "start_time": "2023-04-12T16:50:11.020Z"
   },
   {
    "duration": 40,
    "start_time": "2023-04-12T16:50:31.800Z"
   },
   {
    "duration": 41,
    "start_time": "2023-04-12T16:52:00.798Z"
   },
   {
    "duration": 1703,
    "start_time": "2023-04-12T16:53:10.958Z"
   },
   {
    "duration": 3,
    "start_time": "2023-04-12T16:53:12.663Z"
   },
   {
    "duration": 827,
    "start_time": "2023-04-12T16:53:12.667Z"
   },
   {
    "duration": 4,
    "start_time": "2023-04-12T16:53:13.496Z"
   },
   {
    "duration": 26,
    "start_time": "2023-04-12T16:53:13.502Z"
   },
   {
    "duration": 17,
    "start_time": "2023-04-12T16:53:13.529Z"
   },
   {
    "duration": 24,
    "start_time": "2023-04-12T16:53:13.548Z"
   },
   {
    "duration": 7,
    "start_time": "2023-04-12T16:53:13.574Z"
   },
   {
    "duration": 21,
    "start_time": "2023-04-12T16:53:13.583Z"
   },
   {
    "duration": 27,
    "start_time": "2023-04-12T16:53:13.605Z"
   },
   {
    "duration": 2,
    "start_time": "2023-04-12T16:53:13.634Z"
   },
   {
    "duration": 45,
    "start_time": "2023-04-12T16:53:13.638Z"
   },
   {
    "duration": 22,
    "start_time": "2023-04-12T16:53:13.685Z"
   },
   {
    "duration": 13,
    "start_time": "2023-04-12T16:53:13.710Z"
   },
   {
    "duration": 121,
    "start_time": "2023-04-12T16:53:13.724Z"
   },
   {
    "duration": 10,
    "start_time": "2023-04-12T16:53:13.847Z"
   },
   {
    "duration": 7,
    "start_time": "2023-04-12T16:53:13.858Z"
   },
   {
    "duration": 3163,
    "start_time": "2023-04-12T16:53:13.867Z"
   },
   {
    "duration": 6,
    "start_time": "2023-04-12T16:53:17.032Z"
   },
   {
    "duration": 1155,
    "start_time": "2023-04-12T16:53:17.039Z"
   },
   {
    "duration": 7,
    "start_time": "2023-04-12T16:53:18.196Z"
   },
   {
    "duration": 899,
    "start_time": "2023-04-12T16:53:18.205Z"
   },
   {
    "duration": 5,
    "start_time": "2023-04-12T16:53:19.106Z"
   },
   {
    "duration": 1874,
    "start_time": "2023-04-12T16:53:19.113Z"
   },
   {
    "duration": 4,
    "start_time": "2023-04-12T16:53:20.989Z"
   },
   {
    "duration": 19,
    "start_time": "2023-04-12T16:53:20.994Z"
   },
   {
    "duration": 12,
    "start_time": "2023-04-12T16:53:21.015Z"
   },
   {
    "duration": 63,
    "start_time": "2023-04-12T16:53:21.029Z"
   },
   {
    "duration": 12,
    "start_time": "2023-04-12T16:53:21.094Z"
   },
   {
    "duration": 4,
    "start_time": "2023-04-12T16:53:21.107Z"
   },
   {
    "duration": 1464,
    "start_time": "2023-04-12T16:53:21.113Z"
   },
   {
    "duration": 0,
    "start_time": "2023-04-12T16:53:22.579Z"
   },
   {
    "duration": 0,
    "start_time": "2023-04-12T16:53:22.581Z"
   },
   {
    "duration": 0,
    "start_time": "2023-04-12T16:53:22.582Z"
   },
   {
    "duration": 0,
    "start_time": "2023-04-12T16:53:22.583Z"
   },
   {
    "duration": 0,
    "start_time": "2023-04-12T16:53:22.584Z"
   },
   {
    "duration": 0,
    "start_time": "2023-04-12T16:53:22.585Z"
   },
   {
    "duration": 0,
    "start_time": "2023-04-12T16:53:22.586Z"
   },
   {
    "duration": 0,
    "start_time": "2023-04-12T16:53:22.587Z"
   },
   {
    "duration": 0,
    "start_time": "2023-04-12T16:53:22.589Z"
   },
   {
    "duration": 6,
    "start_time": "2023-04-12T16:54:52.177Z"
   },
   {
    "duration": 24,
    "start_time": "2023-04-12T17:00:26.638Z"
   },
   {
    "duration": 4,
    "start_time": "2023-04-12T17:00:36.902Z"
   },
   {
    "duration": 9,
    "start_time": "2023-04-12T17:00:48.779Z"
   },
   {
    "duration": 4,
    "start_time": "2023-04-12T17:01:04.405Z"
   },
   {
    "duration": 1589,
    "start_time": "2023-04-12T17:02:31.276Z"
   },
   {
    "duration": 3,
    "start_time": "2023-04-12T17:02:32.867Z"
   },
   {
    "duration": 858,
    "start_time": "2023-04-12T17:02:32.871Z"
   },
   {
    "duration": 4,
    "start_time": "2023-04-12T17:02:33.730Z"
   },
   {
    "duration": 16,
    "start_time": "2023-04-12T17:02:33.736Z"
   },
   {
    "duration": 20,
    "start_time": "2023-04-12T17:02:33.754Z"
   },
   {
    "duration": 19,
    "start_time": "2023-04-12T17:02:33.776Z"
   },
   {
    "duration": 20,
    "start_time": "2023-04-12T17:02:33.796Z"
   },
   {
    "duration": 11,
    "start_time": "2023-04-12T17:02:33.818Z"
   },
   {
    "duration": 29,
    "start_time": "2023-04-12T17:02:33.831Z"
   },
   {
    "duration": 4,
    "start_time": "2023-04-12T17:02:33.861Z"
   },
   {
    "duration": 33,
    "start_time": "2023-04-12T17:02:33.867Z"
   },
   {
    "duration": 3,
    "start_time": "2023-04-12T17:02:33.902Z"
   },
   {
    "duration": 23,
    "start_time": "2023-04-12T17:02:33.908Z"
   },
   {
    "duration": 12,
    "start_time": "2023-04-12T17:02:33.932Z"
   },
   {
    "duration": 25,
    "start_time": "2023-04-12T17:02:33.946Z"
   },
   {
    "duration": 145,
    "start_time": "2023-04-12T17:02:33.974Z"
   },
   {
    "duration": 10,
    "start_time": "2023-04-12T17:02:34.121Z"
   },
   {
    "duration": 16,
    "start_time": "2023-04-12T17:02:34.133Z"
   },
   {
    "duration": 3932,
    "start_time": "2023-04-12T17:02:34.151Z"
   },
   {
    "duration": 5,
    "start_time": "2023-04-12T17:02:38.085Z"
   },
   {
    "duration": 1129,
    "start_time": "2023-04-12T17:02:38.092Z"
   },
   {
    "duration": 7,
    "start_time": "2023-04-12T17:02:39.223Z"
   },
   {
    "duration": 614,
    "start_time": "2023-04-12T17:02:39.231Z"
   },
   {
    "duration": 4,
    "start_time": "2023-04-12T17:02:39.847Z"
   },
   {
    "duration": 1002,
    "start_time": "2023-04-12T17:02:39.853Z"
   },
   {
    "duration": 4,
    "start_time": "2023-04-12T17:02:40.856Z"
   },
   {
    "duration": 7,
    "start_time": "2023-04-12T17:02:40.861Z"
   },
   {
    "duration": 6,
    "start_time": "2023-04-12T17:02:40.869Z"
   },
   {
    "duration": 8,
    "start_time": "2023-04-12T17:02:40.888Z"
   },
   {
    "duration": 11,
    "start_time": "2023-04-12T17:02:40.898Z"
   },
   {
    "duration": 3,
    "start_time": "2023-04-12T17:02:40.911Z"
   },
   {
    "duration": 3829,
    "start_time": "2023-04-12T17:02:40.916Z"
   },
   {
    "duration": 0,
    "start_time": "2023-04-12T17:02:44.747Z"
   },
   {
    "duration": 0,
    "start_time": "2023-04-12T17:02:44.748Z"
   },
   {
    "duration": 1,
    "start_time": "2023-04-12T17:02:44.749Z"
   },
   {
    "duration": 0,
    "start_time": "2023-04-12T17:02:44.751Z"
   },
   {
    "duration": 0,
    "start_time": "2023-04-12T17:02:44.752Z"
   },
   {
    "duration": 0,
    "start_time": "2023-04-12T17:02:44.754Z"
   },
   {
    "duration": 0,
    "start_time": "2023-04-12T17:02:44.755Z"
   },
   {
    "duration": 0,
    "start_time": "2023-04-12T17:02:44.756Z"
   },
   {
    "duration": 0,
    "start_time": "2023-04-12T17:02:44.757Z"
   },
   {
    "duration": 13,
    "start_time": "2023-04-12T17:04:02.107Z"
   },
   {
    "duration": 1459,
    "start_time": "2023-04-12T17:04:28.851Z"
   },
   {
    "duration": 4,
    "start_time": "2023-04-12T17:04:30.312Z"
   },
   {
    "duration": 995,
    "start_time": "2023-04-12T17:04:30.318Z"
   },
   {
    "duration": 3,
    "start_time": "2023-04-12T17:04:31.315Z"
   },
   {
    "duration": 68,
    "start_time": "2023-04-12T17:04:31.320Z"
   },
   {
    "duration": 25,
    "start_time": "2023-04-12T17:04:31.390Z"
   },
   {
    "duration": 36,
    "start_time": "2023-04-12T17:04:31.417Z"
   },
   {
    "duration": 33,
    "start_time": "2023-04-12T17:04:31.455Z"
   },
   {
    "duration": 19,
    "start_time": "2023-04-12T17:04:31.490Z"
   },
   {
    "duration": 80,
    "start_time": "2023-04-12T17:04:31.511Z"
   },
   {
    "duration": 12,
    "start_time": "2023-04-12T17:04:31.593Z"
   },
   {
    "duration": 43,
    "start_time": "2023-04-12T17:04:31.607Z"
   },
   {
    "duration": 7,
    "start_time": "2023-04-12T17:04:31.688Z"
   },
   {
    "duration": 96,
    "start_time": "2023-04-12T17:04:31.699Z"
   },
   {
    "duration": 3,
    "start_time": "2023-04-12T17:04:31.796Z"
   },
   {
    "duration": 87,
    "start_time": "2023-04-12T17:04:31.801Z"
   },
   {
    "duration": 13,
    "start_time": "2023-04-12T17:04:31.890Z"
   },
   {
    "duration": 11,
    "start_time": "2023-04-12T17:04:31.904Z"
   },
   {
    "duration": 298,
    "start_time": "2023-04-12T17:04:31.916Z"
   },
   {
    "duration": 10,
    "start_time": "2023-04-12T17:04:32.215Z"
   },
   {
    "duration": 61,
    "start_time": "2023-04-12T17:04:32.227Z"
   },
   {
    "duration": 3396,
    "start_time": "2023-04-12T17:04:32.290Z"
   },
   {
    "duration": 5,
    "start_time": "2023-04-12T17:04:35.688Z"
   },
   {
    "duration": 1123,
    "start_time": "2023-04-12T17:04:35.695Z"
   },
   {
    "duration": 7,
    "start_time": "2023-04-12T17:04:36.820Z"
   },
   {
    "duration": 605,
    "start_time": "2023-04-12T17:04:36.829Z"
   },
   {
    "duration": 6,
    "start_time": "2023-04-12T17:04:37.436Z"
   },
   {
    "duration": 885,
    "start_time": "2023-04-12T17:04:37.444Z"
   },
   {
    "duration": 3,
    "start_time": "2023-04-12T17:04:38.331Z"
   },
   {
    "duration": 26,
    "start_time": "2023-04-12T17:04:38.336Z"
   },
   {
    "duration": 9,
    "start_time": "2023-04-12T17:04:38.364Z"
   },
   {
    "duration": 26,
    "start_time": "2023-04-12T17:04:38.374Z"
   },
   {
    "duration": 14,
    "start_time": "2023-04-12T17:04:38.402Z"
   },
   {
    "duration": 4,
    "start_time": "2023-04-12T17:04:38.418Z"
   },
   {
    "duration": 1473,
    "start_time": "2023-04-12T17:04:38.423Z"
   },
   {
    "duration": 0,
    "start_time": "2023-04-12T17:04:39.898Z"
   },
   {
    "duration": 0,
    "start_time": "2023-04-12T17:04:39.899Z"
   },
   {
    "duration": 0,
    "start_time": "2023-04-12T17:04:39.901Z"
   },
   {
    "duration": 0,
    "start_time": "2023-04-12T17:04:39.903Z"
   },
   {
    "duration": 0,
    "start_time": "2023-04-12T17:04:39.904Z"
   },
   {
    "duration": 0,
    "start_time": "2023-04-12T17:04:39.905Z"
   },
   {
    "duration": 0,
    "start_time": "2023-04-12T17:04:39.906Z"
   },
   {
    "duration": 0,
    "start_time": "2023-04-12T17:04:39.907Z"
   },
   {
    "duration": 0,
    "start_time": "2023-04-12T17:04:39.908Z"
   },
   {
    "duration": 4,
    "start_time": "2023-04-12T17:07:25.373Z"
   },
   {
    "duration": 1456,
    "start_time": "2023-04-12T17:07:41.842Z"
   },
   {
    "duration": 2,
    "start_time": "2023-04-12T17:07:43.300Z"
   },
   {
    "duration": 855,
    "start_time": "2023-04-12T17:07:43.304Z"
   },
   {
    "duration": 4,
    "start_time": "2023-04-12T17:07:44.161Z"
   },
   {
    "duration": 14,
    "start_time": "2023-04-12T17:07:44.167Z"
   },
   {
    "duration": 7,
    "start_time": "2023-04-12T17:07:44.183Z"
   },
   {
    "duration": 24,
    "start_time": "2023-04-12T17:07:44.192Z"
   },
   {
    "duration": 4,
    "start_time": "2023-04-12T17:07:44.218Z"
   },
   {
    "duration": 7,
    "start_time": "2023-04-12T17:07:44.223Z"
   },
   {
    "duration": 20,
    "start_time": "2023-04-12T17:07:44.231Z"
   },
   {
    "duration": 13,
    "start_time": "2023-04-12T17:07:44.254Z"
   },
   {
    "duration": 25,
    "start_time": "2023-04-12T17:07:44.269Z"
   },
   {
    "duration": 8,
    "start_time": "2023-04-12T17:07:44.296Z"
   },
   {
    "duration": 35,
    "start_time": "2023-04-12T17:07:44.307Z"
   },
   {
    "duration": 4,
    "start_time": "2023-04-12T17:07:44.343Z"
   },
   {
    "duration": 18,
    "start_time": "2023-04-12T17:07:44.348Z"
   },
   {
    "duration": 20,
    "start_time": "2023-04-12T17:07:44.368Z"
   },
   {
    "duration": 9,
    "start_time": "2023-04-12T17:07:44.390Z"
   },
   {
    "duration": 148,
    "start_time": "2023-04-12T17:07:44.401Z"
   },
   {
    "duration": 12,
    "start_time": "2023-04-12T17:07:44.551Z"
   },
   {
    "duration": 28,
    "start_time": "2023-04-12T17:07:44.565Z"
   },
   {
    "duration": 3032,
    "start_time": "2023-04-12T17:07:44.595Z"
   },
   {
    "duration": 5,
    "start_time": "2023-04-12T17:07:47.629Z"
   },
   {
    "duration": 1152,
    "start_time": "2023-04-12T17:07:47.636Z"
   },
   {
    "duration": 7,
    "start_time": "2023-04-12T17:07:48.790Z"
   },
   {
    "duration": 605,
    "start_time": "2023-04-12T17:07:48.799Z"
   },
   {
    "duration": 5,
    "start_time": "2023-04-12T17:07:49.406Z"
   },
   {
    "duration": 935,
    "start_time": "2023-04-12T17:07:49.413Z"
   },
   {
    "duration": 4,
    "start_time": "2023-04-12T17:07:50.349Z"
   },
   {
    "duration": 12,
    "start_time": "2023-04-12T17:07:50.354Z"
   },
   {
    "duration": 15,
    "start_time": "2023-04-12T17:07:50.368Z"
   },
   {
    "duration": 32,
    "start_time": "2023-04-12T17:07:50.385Z"
   },
   {
    "duration": 18,
    "start_time": "2023-04-12T17:07:50.419Z"
   },
   {
    "duration": 10,
    "start_time": "2023-04-12T17:07:50.439Z"
   },
   {
    "duration": 2760,
    "start_time": "2023-04-12T17:07:50.451Z"
   },
   {
    "duration": 1,
    "start_time": "2023-04-12T17:07:53.213Z"
   },
   {
    "duration": 0,
    "start_time": "2023-04-12T17:07:53.214Z"
   },
   {
    "duration": 0,
    "start_time": "2023-04-12T17:07:53.216Z"
   },
   {
    "duration": 0,
    "start_time": "2023-04-12T17:07:53.218Z"
   },
   {
    "duration": 0,
    "start_time": "2023-04-12T17:07:53.219Z"
   },
   {
    "duration": 0,
    "start_time": "2023-04-12T17:07:53.220Z"
   },
   {
    "duration": 0,
    "start_time": "2023-04-12T17:07:53.221Z"
   },
   {
    "duration": 0,
    "start_time": "2023-04-12T17:07:53.222Z"
   },
   {
    "duration": 0,
    "start_time": "2023-04-12T17:07:53.224Z"
   },
   {
    "duration": 7,
    "start_time": "2023-04-12T17:08:33.635Z"
   },
   {
    "duration": 13,
    "start_time": "2023-04-12T17:08:36.205Z"
   },
   {
    "duration": 1900,
    "start_time": "2023-04-12T17:08:42.088Z"
   },
   {
    "duration": 3,
    "start_time": "2023-04-12T17:08:43.990Z"
   },
   {
    "duration": 883,
    "start_time": "2023-04-12T17:08:43.995Z"
   },
   {
    "duration": 10,
    "start_time": "2023-04-12T17:08:44.879Z"
   },
   {
    "duration": 6,
    "start_time": "2023-04-12T17:08:44.891Z"
   },
   {
    "duration": 18,
    "start_time": "2023-04-12T17:08:44.898Z"
   },
   {
    "duration": 17,
    "start_time": "2023-04-12T17:08:44.918Z"
   },
   {
    "duration": 5,
    "start_time": "2023-04-12T17:08:44.937Z"
   },
   {
    "duration": 11,
    "start_time": "2023-04-12T17:08:44.943Z"
   },
   {
    "duration": 17,
    "start_time": "2023-04-12T17:08:44.956Z"
   },
   {
    "duration": 12,
    "start_time": "2023-04-12T17:08:44.975Z"
   },
   {
    "duration": 7,
    "start_time": "2023-04-12T17:08:44.989Z"
   },
   {
    "duration": 13,
    "start_time": "2023-04-12T17:08:44.998Z"
   },
   {
    "duration": 53,
    "start_time": "2023-04-12T17:08:45.014Z"
   },
   {
    "duration": 3,
    "start_time": "2023-04-12T17:08:45.069Z"
   },
   {
    "duration": 22,
    "start_time": "2023-04-12T17:08:45.074Z"
   },
   {
    "duration": 15,
    "start_time": "2023-04-12T17:08:45.098Z"
   },
   {
    "duration": 15,
    "start_time": "2023-04-12T17:08:45.115Z"
   },
   {
    "duration": 162,
    "start_time": "2023-04-12T17:08:45.132Z"
   },
   {
    "duration": 10,
    "start_time": "2023-04-12T17:08:45.295Z"
   },
   {
    "duration": 5,
    "start_time": "2023-04-12T17:08:45.307Z"
   },
   {
    "duration": 3033,
    "start_time": "2023-04-12T17:08:45.314Z"
   },
   {
    "duration": 6,
    "start_time": "2023-04-12T17:08:48.348Z"
   },
   {
    "duration": 1135,
    "start_time": "2023-04-12T17:08:48.356Z"
   },
   {
    "duration": 6,
    "start_time": "2023-04-12T17:08:49.493Z"
   },
   {
    "duration": 632,
    "start_time": "2023-04-12T17:08:49.502Z"
   },
   {
    "duration": 6,
    "start_time": "2023-04-12T17:08:50.135Z"
   },
   {
    "duration": 1013,
    "start_time": "2023-04-12T17:08:50.142Z"
   },
   {
    "duration": 3,
    "start_time": "2023-04-12T17:08:51.157Z"
   },
   {
    "duration": 25,
    "start_time": "2023-04-12T17:08:51.162Z"
   },
   {
    "duration": 11,
    "start_time": "2023-04-12T17:08:51.189Z"
   },
   {
    "duration": 9,
    "start_time": "2023-04-12T17:08:51.202Z"
   },
   {
    "duration": 16,
    "start_time": "2023-04-12T17:08:51.212Z"
   },
   {
    "duration": 4,
    "start_time": "2023-04-12T17:08:51.229Z"
   },
   {
    "duration": 1663,
    "start_time": "2023-04-12T17:08:51.234Z"
   },
   {
    "duration": 0,
    "start_time": "2023-04-12T17:08:52.899Z"
   },
   {
    "duration": 0,
    "start_time": "2023-04-12T17:08:52.901Z"
   },
   {
    "duration": 0,
    "start_time": "2023-04-12T17:08:52.903Z"
   },
   {
    "duration": 0,
    "start_time": "2023-04-12T17:08:52.904Z"
   },
   {
    "duration": 0,
    "start_time": "2023-04-12T17:08:52.905Z"
   },
   {
    "duration": 0,
    "start_time": "2023-04-12T17:08:52.906Z"
   },
   {
    "duration": 0,
    "start_time": "2023-04-12T17:08:52.907Z"
   },
   {
    "duration": 0,
    "start_time": "2023-04-12T17:08:52.908Z"
   },
   {
    "duration": 0,
    "start_time": "2023-04-12T17:08:52.909Z"
   },
   {
    "duration": 14,
    "start_time": "2023-04-12T17:09:44.101Z"
   },
   {
    "duration": 12,
    "start_time": "2023-04-12T17:09:57.193Z"
   },
   {
    "duration": 2,
    "start_time": "2023-04-12T17:10:05.700Z"
   },
   {
    "duration": 1516,
    "start_time": "2023-04-12T17:10:11.060Z"
   },
   {
    "duration": 4,
    "start_time": "2023-04-12T17:10:12.578Z"
   },
   {
    "duration": 864,
    "start_time": "2023-04-12T17:10:12.584Z"
   },
   {
    "duration": 4,
    "start_time": "2023-04-12T17:10:13.450Z"
   },
   {
    "duration": 10,
    "start_time": "2023-04-12T17:10:13.456Z"
   },
   {
    "duration": 6,
    "start_time": "2023-04-12T17:10:13.468Z"
   },
   {
    "duration": 19,
    "start_time": "2023-04-12T17:10:13.476Z"
   },
   {
    "duration": 6,
    "start_time": "2023-04-12T17:10:13.496Z"
   },
   {
    "duration": 7,
    "start_time": "2023-04-12T17:10:13.504Z"
   },
   {
    "duration": 24,
    "start_time": "2023-04-12T17:10:13.514Z"
   },
   {
    "duration": 18,
    "start_time": "2023-04-12T17:10:13.540Z"
   },
   {
    "duration": 28,
    "start_time": "2023-04-12T17:10:13.560Z"
   },
   {
    "duration": 3,
    "start_time": "2023-04-12T17:10:13.590Z"
   },
   {
    "duration": 9,
    "start_time": "2023-04-12T17:10:13.595Z"
   },
   {
    "duration": 16,
    "start_time": "2023-04-12T17:10:13.606Z"
   },
   {
    "duration": 30,
    "start_time": "2023-04-12T17:10:13.624Z"
   },
   {
    "duration": 16,
    "start_time": "2023-04-12T17:10:13.656Z"
   },
   {
    "duration": 22,
    "start_time": "2023-04-12T17:10:13.674Z"
   },
   {
    "duration": 106,
    "start_time": "2023-04-12T17:10:13.698Z"
   },
   {
    "duration": 10,
    "start_time": "2023-04-12T17:10:13.806Z"
   },
   {
    "duration": 6,
    "start_time": "2023-04-12T17:10:13.817Z"
   },
   {
    "duration": 3047,
    "start_time": "2023-04-12T17:10:13.824Z"
   },
   {
    "duration": 214,
    "start_time": "2023-04-12T17:10:16.873Z"
   },
   {
    "duration": 928,
    "start_time": "2023-04-12T17:10:17.089Z"
   },
   {
    "duration": 7,
    "start_time": "2023-04-12T17:10:18.018Z"
   },
   {
    "duration": 1188,
    "start_time": "2023-04-12T17:10:18.026Z"
   },
   {
    "duration": 5,
    "start_time": "2023-04-12T17:10:19.215Z"
   },
   {
    "duration": 1522,
    "start_time": "2023-04-12T17:10:19.224Z"
   },
   {
    "duration": 5,
    "start_time": "2023-04-12T17:10:20.748Z"
   },
   {
    "duration": 9,
    "start_time": "2023-04-12T17:10:20.755Z"
   },
   {
    "duration": 18,
    "start_time": "2023-04-12T17:10:20.766Z"
   },
   {
    "duration": 26,
    "start_time": "2023-04-12T17:10:20.786Z"
   },
   {
    "duration": 20,
    "start_time": "2023-04-12T17:10:20.814Z"
   },
   {
    "duration": 9,
    "start_time": "2023-04-12T17:10:20.836Z"
   },
   {
    "duration": 2992,
    "start_time": "2023-04-12T17:10:20.847Z"
   },
   {
    "duration": 0,
    "start_time": "2023-04-12T17:10:23.841Z"
   },
   {
    "duration": 0,
    "start_time": "2023-04-12T17:10:23.843Z"
   },
   {
    "duration": 0,
    "start_time": "2023-04-12T17:10:23.845Z"
   },
   {
    "duration": 0,
    "start_time": "2023-04-12T17:10:23.847Z"
   },
   {
    "duration": 0,
    "start_time": "2023-04-12T17:10:23.849Z"
   },
   {
    "duration": 0,
    "start_time": "2023-04-12T17:10:23.850Z"
   },
   {
    "duration": 0,
    "start_time": "2023-04-12T17:10:23.853Z"
   },
   {
    "duration": 0,
    "start_time": "2023-04-12T17:10:23.854Z"
   },
   {
    "duration": 0,
    "start_time": "2023-04-12T17:10:23.856Z"
   },
   {
    "duration": 25,
    "start_time": "2023-04-12T17:11:51.952Z"
   },
   {
    "duration": 9,
    "start_time": "2023-04-12T17:11:59.752Z"
   },
   {
    "duration": 9,
    "start_time": "2023-04-12T17:12:16.978Z"
   },
   {
    "duration": 13,
    "start_time": "2023-04-12T17:12:35.466Z"
   },
   {
    "duration": 9,
    "start_time": "2023-04-12T17:13:05.941Z"
   },
   {
    "duration": 43,
    "start_time": "2023-04-12T17:13:43.988Z"
   },
   {
    "duration": 20,
    "start_time": "2023-04-12T17:14:42.945Z"
   },
   {
    "duration": 5,
    "start_time": "2023-04-12T17:15:43.557Z"
   },
   {
    "duration": 25,
    "start_time": "2023-04-12T17:15:49.633Z"
   },
   {
    "duration": 10,
    "start_time": "2023-04-12T17:16:04.626Z"
   },
   {
    "duration": 9,
    "start_time": "2023-04-12T17:16:45.396Z"
   },
   {
    "duration": 17,
    "start_time": "2023-04-12T17:17:52.393Z"
   },
   {
    "duration": 14,
    "start_time": "2023-04-12T17:18:21.524Z"
   },
   {
    "duration": 15,
    "start_time": "2023-04-12T17:18:27.602Z"
   },
   {
    "duration": 14,
    "start_time": "2023-04-12T18:07:34.911Z"
   },
   {
    "duration": 14,
    "start_time": "2023-04-12T18:09:04.300Z"
   },
   {
    "duration": 19,
    "start_time": "2023-04-12T18:09:26.849Z"
   },
   {
    "duration": 1461,
    "start_time": "2023-04-12T18:12:38.731Z"
   },
   {
    "duration": 3,
    "start_time": "2023-04-12T18:12:40.194Z"
   },
   {
    "duration": 900,
    "start_time": "2023-04-12T18:12:40.198Z"
   },
   {
    "duration": 3,
    "start_time": "2023-04-12T18:12:41.100Z"
   },
   {
    "duration": 6,
    "start_time": "2023-04-12T18:12:41.106Z"
   },
   {
    "duration": 6,
    "start_time": "2023-04-12T18:12:41.113Z"
   },
   {
    "duration": 15,
    "start_time": "2023-04-12T18:12:41.120Z"
   },
   {
    "duration": 6,
    "start_time": "2023-04-12T18:12:41.136Z"
   },
   {
    "duration": 19,
    "start_time": "2023-04-12T18:12:41.144Z"
   },
   {
    "duration": 15,
    "start_time": "2023-04-12T18:12:41.188Z"
   },
   {
    "duration": 4,
    "start_time": "2023-04-12T18:12:41.205Z"
   },
   {
    "duration": 19,
    "start_time": "2023-04-12T18:12:41.211Z"
   },
   {
    "duration": 11,
    "start_time": "2023-04-12T18:12:41.231Z"
   },
   {
    "duration": 8,
    "start_time": "2023-04-12T18:12:41.245Z"
   },
   {
    "duration": 35,
    "start_time": "2023-04-12T18:12:41.254Z"
   },
   {
    "duration": 11,
    "start_time": "2023-04-12T18:12:41.291Z"
   },
   {
    "duration": 20,
    "start_time": "2023-04-12T18:12:41.304Z"
   },
   {
    "duration": 27,
    "start_time": "2023-04-12T18:12:41.325Z"
   },
   {
    "duration": 16,
    "start_time": "2023-04-12T18:12:41.354Z"
   },
   {
    "duration": 26,
    "start_time": "2023-04-12T18:12:41.372Z"
   },
   {
    "duration": 115,
    "start_time": "2023-04-12T18:12:41.400Z"
   },
   {
    "duration": 11,
    "start_time": "2023-04-12T18:12:41.516Z"
   },
   {
    "duration": 6,
    "start_time": "2023-04-12T18:12:41.529Z"
   },
   {
    "duration": 4007,
    "start_time": "2023-04-12T18:12:41.536Z"
   },
   {
    "duration": 6,
    "start_time": "2023-04-12T18:12:45.545Z"
   },
   {
    "duration": 1141,
    "start_time": "2023-04-12T18:12:45.552Z"
   },
   {
    "duration": 6,
    "start_time": "2023-04-12T18:12:46.695Z"
   },
   {
    "duration": 658,
    "start_time": "2023-04-12T18:12:46.703Z"
   },
   {
    "duration": 5,
    "start_time": "2023-04-12T18:12:47.363Z"
   },
   {
    "duration": 938,
    "start_time": "2023-04-12T18:12:47.369Z"
   },
   {
    "duration": 5,
    "start_time": "2023-04-12T18:12:48.310Z"
   },
   {
    "duration": 6,
    "start_time": "2023-04-12T18:12:48.317Z"
   },
   {
    "duration": 4,
    "start_time": "2023-04-12T18:12:48.325Z"
   },
   {
    "duration": 7,
    "start_time": "2023-04-12T18:12:48.330Z"
   },
   {
    "duration": 13,
    "start_time": "2023-04-12T18:12:48.339Z"
   },
   {
    "duration": 3,
    "start_time": "2023-04-12T18:12:48.354Z"
   },
   {
    "duration": 1934,
    "start_time": "2023-04-12T18:12:48.359Z"
   },
   {
    "duration": 0,
    "start_time": "2023-04-12T18:12:50.295Z"
   },
   {
    "duration": 0,
    "start_time": "2023-04-12T18:12:50.296Z"
   },
   {
    "duration": 0,
    "start_time": "2023-04-12T18:12:50.298Z"
   },
   {
    "duration": 0,
    "start_time": "2023-04-12T18:12:50.299Z"
   },
   {
    "duration": 0,
    "start_time": "2023-04-12T18:12:50.300Z"
   },
   {
    "duration": 0,
    "start_time": "2023-04-12T18:12:50.301Z"
   },
   {
    "duration": 0,
    "start_time": "2023-04-12T18:12:50.302Z"
   },
   {
    "duration": 0,
    "start_time": "2023-04-12T18:12:50.303Z"
   },
   {
    "duration": 0,
    "start_time": "2023-04-12T18:12:50.304Z"
   },
   {
    "duration": 14,
    "start_time": "2023-04-12T18:16:44.208Z"
   },
   {
    "duration": 14,
    "start_time": "2023-04-12T18:18:57.815Z"
   },
   {
    "duration": 1742,
    "start_time": "2023-04-12T18:19:12.967Z"
   },
   {
    "duration": 3,
    "start_time": "2023-04-12T18:19:14.711Z"
   },
   {
    "duration": 892,
    "start_time": "2023-04-12T18:19:14.715Z"
   },
   {
    "duration": 4,
    "start_time": "2023-04-12T18:19:15.608Z"
   },
   {
    "duration": 15,
    "start_time": "2023-04-12T18:19:15.614Z"
   },
   {
    "duration": 14,
    "start_time": "2023-04-12T18:19:15.631Z"
   },
   {
    "duration": 27,
    "start_time": "2023-04-12T18:19:15.646Z"
   },
   {
    "duration": 12,
    "start_time": "2023-04-12T18:19:15.675Z"
   },
   {
    "duration": 20,
    "start_time": "2023-04-12T18:19:15.689Z"
   },
   {
    "duration": 15,
    "start_time": "2023-04-12T18:19:15.710Z"
   },
   {
    "duration": 16,
    "start_time": "2023-04-12T18:19:15.726Z"
   },
   {
    "duration": 4,
    "start_time": "2023-04-12T18:19:15.743Z"
   },
   {
    "duration": 46,
    "start_time": "2023-04-12T18:19:15.748Z"
   },
   {
    "duration": 12,
    "start_time": "2023-04-12T18:19:15.797Z"
   },
   {
    "duration": 7,
    "start_time": "2023-04-12T18:19:15.811Z"
   },
   {
    "duration": 4,
    "start_time": "2023-04-12T18:19:15.819Z"
   },
   {
    "duration": 6,
    "start_time": "2023-04-12T18:19:15.824Z"
   },
   {
    "duration": 6,
    "start_time": "2023-04-12T18:19:15.831Z"
   },
   {
    "duration": 51,
    "start_time": "2023-04-12T18:19:15.838Z"
   },
   {
    "duration": 17,
    "start_time": "2023-04-12T18:19:15.890Z"
   },
   {
    "duration": 22,
    "start_time": "2023-04-12T18:19:15.908Z"
   },
   {
    "duration": 120,
    "start_time": "2023-04-12T18:19:15.931Z"
   },
   {
    "duration": 11,
    "start_time": "2023-04-12T18:19:16.053Z"
   },
   {
    "duration": 28,
    "start_time": "2023-04-12T18:19:16.065Z"
   },
   {
    "duration": 3052,
    "start_time": "2023-04-12T18:19:16.095Z"
   },
   {
    "duration": 6,
    "start_time": "2023-04-12T18:19:19.149Z"
   },
   {
    "duration": 1136,
    "start_time": "2023-04-12T18:19:19.157Z"
   },
   {
    "duration": 6,
    "start_time": "2023-04-12T18:19:20.295Z"
   },
   {
    "duration": 705,
    "start_time": "2023-04-12T18:19:20.302Z"
   },
   {
    "duration": 5,
    "start_time": "2023-04-12T18:19:21.009Z"
   },
   {
    "duration": 902,
    "start_time": "2023-04-12T18:19:21.015Z"
   },
   {
    "duration": 3,
    "start_time": "2023-04-12T18:19:21.919Z"
   },
   {
    "duration": 5,
    "start_time": "2023-04-12T18:19:21.923Z"
   },
   {
    "duration": 5,
    "start_time": "2023-04-12T18:19:21.930Z"
   },
   {
    "duration": 7,
    "start_time": "2023-04-12T18:19:21.936Z"
   },
   {
    "duration": 14,
    "start_time": "2023-04-12T18:19:21.945Z"
   },
   {
    "duration": 30,
    "start_time": "2023-04-12T18:19:21.960Z"
   },
   {
    "duration": 1941,
    "start_time": "2023-04-12T18:19:21.992Z"
   },
   {
    "duration": 0,
    "start_time": "2023-04-12T18:19:23.935Z"
   },
   {
    "duration": 0,
    "start_time": "2023-04-12T18:19:23.937Z"
   },
   {
    "duration": 0,
    "start_time": "2023-04-12T18:19:23.938Z"
   },
   {
    "duration": 0,
    "start_time": "2023-04-12T18:19:23.939Z"
   },
   {
    "duration": 0,
    "start_time": "2023-04-12T18:19:23.940Z"
   },
   {
    "duration": 0,
    "start_time": "2023-04-12T18:19:23.941Z"
   },
   {
    "duration": 0,
    "start_time": "2023-04-12T18:19:23.943Z"
   },
   {
    "duration": 0,
    "start_time": "2023-04-12T18:19:23.944Z"
   },
   {
    "duration": 0,
    "start_time": "2023-04-12T18:19:23.945Z"
   },
   {
    "duration": 4,
    "start_time": "2023-04-12T18:19:40.108Z"
   },
   {
    "duration": 3,
    "start_time": "2023-04-12T18:19:53.999Z"
   },
   {
    "duration": 1501,
    "start_time": "2023-04-12T18:22:48.192Z"
   },
   {
    "duration": 3,
    "start_time": "2023-04-12T18:22:49.695Z"
   },
   {
    "duration": 918,
    "start_time": "2023-04-12T18:22:49.699Z"
   },
   {
    "duration": 5,
    "start_time": "2023-04-12T18:22:50.619Z"
   },
   {
    "duration": 23,
    "start_time": "2023-04-12T18:22:50.627Z"
   },
   {
    "duration": 20,
    "start_time": "2023-04-12T18:22:50.652Z"
   },
   {
    "duration": 19,
    "start_time": "2023-04-12T18:22:50.674Z"
   },
   {
    "duration": 21,
    "start_time": "2023-04-12T18:22:50.695Z"
   },
   {
    "duration": 23,
    "start_time": "2023-04-12T18:22:50.718Z"
   },
   {
    "duration": 5,
    "start_time": "2023-04-12T18:22:50.743Z"
   },
   {
    "duration": 28,
    "start_time": "2023-04-12T18:22:50.750Z"
   },
   {
    "duration": 21,
    "start_time": "2023-04-12T18:22:50.780Z"
   },
   {
    "duration": 11,
    "start_time": "2023-04-12T18:22:50.802Z"
   },
   {
    "duration": 23,
    "start_time": "2023-04-12T18:22:50.816Z"
   },
   {
    "duration": 11,
    "start_time": "2023-04-12T18:22:50.841Z"
   },
   {
    "duration": 8,
    "start_time": "2023-04-12T18:22:50.854Z"
   },
   {
    "duration": 17,
    "start_time": "2023-04-12T18:22:50.864Z"
   },
   {
    "duration": 12,
    "start_time": "2023-04-12T18:22:50.886Z"
   },
   {
    "duration": 25,
    "start_time": "2023-04-12T18:22:50.899Z"
   },
   {
    "duration": 34,
    "start_time": "2023-04-12T18:22:50.926Z"
   },
   {
    "duration": 15,
    "start_time": "2023-04-12T18:22:50.962Z"
   },
   {
    "duration": 12,
    "start_time": "2023-04-12T18:22:50.979Z"
   },
   {
    "duration": 115,
    "start_time": "2023-04-12T18:22:50.993Z"
   },
   {
    "duration": 10,
    "start_time": "2023-04-12T18:22:51.109Z"
   },
   {
    "duration": 32,
    "start_time": "2023-04-12T18:22:51.121Z"
   },
   {
    "duration": 2955,
    "start_time": "2023-04-12T18:22:51.156Z"
   },
   {
    "duration": 6,
    "start_time": "2023-04-12T18:22:54.112Z"
   },
   {
    "duration": 1173,
    "start_time": "2023-04-12T18:22:54.119Z"
   },
   {
    "duration": 6,
    "start_time": "2023-04-12T18:22:55.294Z"
   },
   {
    "duration": 654,
    "start_time": "2023-04-12T18:22:55.302Z"
   },
   {
    "duration": 5,
    "start_time": "2023-04-12T18:22:55.958Z"
   },
   {
    "duration": 952,
    "start_time": "2023-04-12T18:22:55.965Z"
   },
   {
    "duration": 4,
    "start_time": "2023-04-12T18:22:56.919Z"
   },
   {
    "duration": 7,
    "start_time": "2023-04-12T18:22:56.925Z"
   },
   {
    "duration": 8,
    "start_time": "2023-04-12T18:22:56.933Z"
   },
   {
    "duration": 16,
    "start_time": "2023-04-12T18:22:56.943Z"
   },
   {
    "duration": 27,
    "start_time": "2023-04-12T18:22:56.961Z"
   },
   {
    "duration": 5,
    "start_time": "2023-04-12T18:22:56.990Z"
   },
   {
    "duration": 1596,
    "start_time": "2023-04-12T18:22:56.996Z"
   },
   {
    "duration": 0,
    "start_time": "2023-04-12T18:22:58.594Z"
   },
   {
    "duration": 0,
    "start_time": "2023-04-12T18:22:58.597Z"
   },
   {
    "duration": 0,
    "start_time": "2023-04-12T18:22:58.598Z"
   },
   {
    "duration": 0,
    "start_time": "2023-04-12T18:22:58.599Z"
   },
   {
    "duration": 0,
    "start_time": "2023-04-12T18:22:58.600Z"
   },
   {
    "duration": 0,
    "start_time": "2023-04-12T18:22:58.601Z"
   },
   {
    "duration": 0,
    "start_time": "2023-04-12T18:22:58.602Z"
   },
   {
    "duration": 0,
    "start_time": "2023-04-12T18:22:58.603Z"
   },
   {
    "duration": 0,
    "start_time": "2023-04-12T18:22:58.604Z"
   },
   {
    "duration": 6,
    "start_time": "2023-04-12T18:25:08.804Z"
   },
   {
    "duration": 17,
    "start_time": "2023-04-12T18:25:39.066Z"
   },
   {
    "duration": 4,
    "start_time": "2023-04-12T18:27:03.057Z"
   },
   {
    "duration": 6,
    "start_time": "2023-04-12T18:28:15.281Z"
   },
   {
    "duration": 14,
    "start_time": "2023-04-12T18:35:33.259Z"
   },
   {
    "duration": 18,
    "start_time": "2023-04-12T18:35:47.906Z"
   },
   {
    "duration": 22,
    "start_time": "2023-04-12T18:36:25.043Z"
   },
   {
    "duration": 13,
    "start_time": "2023-04-12T18:36:29.626Z"
   },
   {
    "duration": 17,
    "start_time": "2023-04-12T18:36:48.259Z"
   },
   {
    "duration": 14,
    "start_time": "2023-04-12T18:37:12.649Z"
   },
   {
    "duration": 24,
    "start_time": "2023-04-12T18:39:14.511Z"
   },
   {
    "duration": 7,
    "start_time": "2023-04-12T18:40:15.005Z"
   },
   {
    "duration": 3774,
    "start_time": "2023-04-12T18:40:22.764Z"
   },
   {
    "duration": 6,
    "start_time": "2023-04-12T18:42:27.732Z"
   },
   {
    "duration": 5086,
    "start_time": "2023-04-12T18:42:29.887Z"
   },
   {
    "duration": 76,
    "start_time": "2023-04-12T18:42:49.562Z"
   },
   {
    "duration": 5071,
    "start_time": "2023-04-12T18:42:54.419Z"
   },
   {
    "duration": 269886,
    "start_time": "2023-04-12T18:43:20.234Z"
   },
   {
    "duration": 611176,
    "start_time": "2023-04-12T18:49:16.747Z"
   },
   {
    "duration": 7014,
    "start_time": "2023-04-12T19:03:47.001Z"
   },
   {
    "duration": 17416,
    "start_time": "2023-04-12T19:04:24.530Z"
   },
   {
    "duration": 371,
    "start_time": "2023-04-12T19:05:46.132Z"
   },
   {
    "duration": 356,
    "start_time": "2023-04-12T19:05:52.372Z"
   },
   {
    "duration": 487,
    "start_time": "2023-04-12T19:05:57.823Z"
   },
   {
    "duration": 413,
    "start_time": "2023-04-12T19:06:00.794Z"
   },
   {
    "duration": 406,
    "start_time": "2023-04-12T19:06:06.400Z"
   },
   {
    "duration": 367,
    "start_time": "2023-04-12T19:06:12.760Z"
   },
   {
    "duration": 8243,
    "start_time": "2023-04-12T19:06:19.666Z"
   },
   {
    "duration": 8867,
    "start_time": "2023-04-12T19:06:48.138Z"
   },
   {
    "duration": 11371,
    "start_time": "2023-04-12T19:07:02.225Z"
   },
   {
    "duration": 6689,
    "start_time": "2023-04-12T19:07:24.336Z"
   },
   {
    "duration": 4462,
    "start_time": "2023-04-12T19:08:06.323Z"
   },
   {
    "duration": 6591,
    "start_time": "2023-04-12T19:08:23.762Z"
   },
   {
    "duration": 8748,
    "start_time": "2023-04-12T19:08:35.404Z"
   },
   {
    "duration": 11108,
    "start_time": "2023-04-12T19:08:50.986Z"
   },
   {
    "duration": 13346,
    "start_time": "2023-04-12T19:09:10.357Z"
   },
   {
    "duration": 15413,
    "start_time": "2023-04-12T19:09:29.699Z"
   },
   {
    "duration": 22291,
    "start_time": "2023-04-12T19:09:50.277Z"
   },
   {
    "duration": 33717,
    "start_time": "2023-04-12T19:10:19.400Z"
   },
   {
    "duration": 617256,
    "start_time": "2023-04-12T19:12:52.954Z"
   },
   {
    "duration": 4,
    "start_time": "2023-04-12T19:27:09.977Z"
   },
   {
    "duration": 56148,
    "start_time": "2023-04-12T19:28:19.091Z"
   },
   {
    "duration": 887,
    "start_time": "2023-04-12T19:34:35.071Z"
   },
   {
    "duration": 654,
    "start_time": "2023-04-12T19:34:46.757Z"
   },
   {
    "duration": 374,
    "start_time": "2023-04-12T19:34:51.786Z"
   },
   {
    "duration": 414,
    "start_time": "2023-04-12T19:34:55.065Z"
   },
   {
    "duration": 618,
    "start_time": "2023-04-12T19:35:00.942Z"
   },
   {
    "duration": 657,
    "start_time": "2023-04-12T19:35:06.529Z"
   },
   {
    "duration": 599,
    "start_time": "2023-04-12T19:35:15.983Z"
   },
   {
    "duration": 1068,
    "start_time": "2023-04-12T19:35:23.576Z"
   },
   {
    "duration": 932,
    "start_time": "2023-04-12T19:35:36.264Z"
   },
   {
    "duration": 896,
    "start_time": "2023-04-12T19:35:40.423Z"
   },
   {
    "duration": 789,
    "start_time": "2023-04-12T19:35:48.494Z"
   },
   {
    "duration": 769,
    "start_time": "2023-04-12T19:35:54.455Z"
   },
   {
    "duration": 719,
    "start_time": "2023-04-12T19:35:59.850Z"
   },
   {
    "duration": 755,
    "start_time": "2023-04-12T19:36:03.455Z"
   },
   {
    "duration": 814,
    "start_time": "2023-04-12T19:36:06.722Z"
   },
   {
    "duration": 813,
    "start_time": "2023-04-12T19:36:10.483Z"
   },
   {
    "duration": 847,
    "start_time": "2023-04-12T19:36:13.585Z"
   },
   {
    "duration": 752,
    "start_time": "2023-04-12T19:36:17.352Z"
   },
   {
    "duration": 938,
    "start_time": "2023-04-12T19:36:21.321Z"
   },
   {
    "duration": 873,
    "start_time": "2023-04-12T19:36:24.353Z"
   },
   {
    "duration": 1868,
    "start_time": "2023-04-13T07:45:00.422Z"
   },
   {
    "duration": 5,
    "start_time": "2023-04-13T07:45:02.293Z"
   },
   {
    "duration": 2053,
    "start_time": "2023-04-13T07:45:02.301Z"
   },
   {
    "duration": 5,
    "start_time": "2023-04-13T07:45:04.355Z"
   },
   {
    "duration": 4,
    "start_time": "2023-04-13T07:45:04.362Z"
   },
   {
    "duration": 8,
    "start_time": "2023-04-13T07:45:04.368Z"
   },
   {
    "duration": 25,
    "start_time": "2023-04-13T07:45:04.378Z"
   },
   {
    "duration": 10,
    "start_time": "2023-04-13T07:45:04.406Z"
   },
   {
    "duration": 16,
    "start_time": "2023-04-13T07:45:04.419Z"
   },
   {
    "duration": 8,
    "start_time": "2023-04-13T07:45:04.437Z"
   },
   {
    "duration": 24,
    "start_time": "2023-04-13T07:45:04.446Z"
   },
   {
    "duration": 39,
    "start_time": "2023-04-13T07:45:04.472Z"
   },
   {
    "duration": 5,
    "start_time": "2023-04-13T07:45:04.514Z"
   },
   {
    "duration": 20,
    "start_time": "2023-04-13T07:45:04.522Z"
   },
   {
    "duration": 12,
    "start_time": "2023-04-13T07:45:04.544Z"
   },
   {
    "duration": 48,
    "start_time": "2023-04-13T07:45:04.557Z"
   },
   {
    "duration": 12,
    "start_time": "2023-04-13T07:45:04.608Z"
   },
   {
    "duration": 4,
    "start_time": "2023-04-13T07:45:04.621Z"
   },
   {
    "duration": 7,
    "start_time": "2023-04-13T07:45:04.626Z"
   },
   {
    "duration": 5,
    "start_time": "2023-04-13T07:45:04.634Z"
   },
   {
    "duration": 66,
    "start_time": "2023-04-13T07:45:04.641Z"
   },
   {
    "duration": 18,
    "start_time": "2023-04-13T07:45:04.710Z"
   },
   {
    "duration": 10,
    "start_time": "2023-04-13T07:45:04.730Z"
   },
   {
    "duration": 138,
    "start_time": "2023-04-13T07:45:04.741Z"
   },
   {
    "duration": 22,
    "start_time": "2023-04-13T07:45:04.880Z"
   },
   {
    "duration": 10,
    "start_time": "2023-04-13T07:45:04.906Z"
   },
   {
    "duration": 3599,
    "start_time": "2023-04-13T07:45:04.918Z"
   },
   {
    "duration": 5,
    "start_time": "2023-04-13T07:45:08.519Z"
   },
   {
    "duration": 1316,
    "start_time": "2023-04-13T07:45:08.526Z"
   },
   {
    "duration": 7,
    "start_time": "2023-04-13T07:45:09.844Z"
   },
   {
    "duration": 823,
    "start_time": "2023-04-13T07:45:09.852Z"
   },
   {
    "duration": 6,
    "start_time": "2023-04-13T07:45:10.677Z"
   },
   {
    "duration": 1114,
    "start_time": "2023-04-13T07:45:10.688Z"
   },
   {
    "duration": 5,
    "start_time": "2023-04-13T07:45:11.805Z"
   },
   {
    "duration": 11,
    "start_time": "2023-04-13T07:45:11.812Z"
   },
   {
    "duration": 4,
    "start_time": "2023-04-13T07:45:11.825Z"
   },
   {
    "duration": 15,
    "start_time": "2023-04-13T07:45:11.830Z"
   },
   {
    "duration": 27,
    "start_time": "2023-04-13T07:45:11.847Z"
   },
   {
    "duration": 5,
    "start_time": "2023-04-13T07:45:11.875Z"
   },
   {
    "duration": 48,
    "start_time": "2023-04-13T07:45:11.881Z"
   },
   {
    "duration": 6,
    "start_time": "2023-04-13T07:45:11.933Z"
   },
   {
    "duration": 1491,
    "start_time": "2023-04-13T07:45:24.232Z"
   },
   {
    "duration": 3,
    "start_time": "2023-04-13T07:45:25.725Z"
   },
   {
    "duration": 935,
    "start_time": "2023-04-13T07:45:25.730Z"
   },
   {
    "duration": 4,
    "start_time": "2023-04-13T07:45:26.667Z"
   },
   {
    "duration": 33,
    "start_time": "2023-04-13T07:45:26.673Z"
   },
   {
    "duration": 23,
    "start_time": "2023-04-13T07:45:26.709Z"
   },
   {
    "duration": 54,
    "start_time": "2023-04-13T07:45:26.734Z"
   },
   {
    "duration": 23,
    "start_time": "2023-04-13T07:45:26.792Z"
   },
   {
    "duration": 57,
    "start_time": "2023-04-13T07:45:26.817Z"
   },
   {
    "duration": 11,
    "start_time": "2023-04-13T07:45:26.877Z"
   },
   {
    "duration": 28,
    "start_time": "2023-04-13T07:45:26.892Z"
   },
   {
    "duration": 30,
    "start_time": "2023-04-13T07:45:26.922Z"
   },
   {
    "duration": 17,
    "start_time": "2023-04-13T07:45:26.954Z"
   },
   {
    "duration": 55,
    "start_time": "2023-04-13T07:45:26.973Z"
   },
   {
    "duration": 15,
    "start_time": "2023-04-13T07:45:27.030Z"
   },
   {
    "duration": 17,
    "start_time": "2023-04-13T07:45:27.046Z"
   },
   {
    "duration": 17,
    "start_time": "2023-04-13T07:45:27.065Z"
   },
   {
    "duration": 18,
    "start_time": "2023-04-13T07:45:27.084Z"
   },
   {
    "duration": 12,
    "start_time": "2023-04-13T07:45:27.104Z"
   },
   {
    "duration": 38,
    "start_time": "2023-04-13T07:45:27.117Z"
   },
   {
    "duration": 45,
    "start_time": "2023-04-13T07:45:27.157Z"
   },
   {
    "duration": 30,
    "start_time": "2023-04-13T07:45:27.204Z"
   },
   {
    "duration": 12,
    "start_time": "2023-04-13T07:45:27.235Z"
   },
   {
    "duration": 132,
    "start_time": "2023-04-13T07:45:27.248Z"
   },
   {
    "duration": 25,
    "start_time": "2023-04-13T07:45:27.383Z"
   },
   {
    "duration": 13,
    "start_time": "2023-04-13T07:45:27.411Z"
   },
   {
    "duration": 3817,
    "start_time": "2023-04-13T07:45:27.425Z"
   },
   {
    "duration": 6,
    "start_time": "2023-04-13T07:45:31.246Z"
   },
   {
    "duration": 1395,
    "start_time": "2023-04-13T07:45:31.253Z"
   },
   {
    "duration": 7,
    "start_time": "2023-04-13T07:45:32.649Z"
   },
   {
    "duration": 741,
    "start_time": "2023-04-13T07:45:32.658Z"
   },
   {
    "duration": 8,
    "start_time": "2023-04-13T07:45:33.404Z"
   },
   {
    "duration": 1124,
    "start_time": "2023-04-13T07:45:33.414Z"
   },
   {
    "duration": 5,
    "start_time": "2023-04-13T07:45:34.541Z"
   },
   {
    "duration": 7,
    "start_time": "2023-04-13T07:45:34.547Z"
   },
   {
    "duration": 5,
    "start_time": "2023-04-13T07:45:34.556Z"
   },
   {
    "duration": 7,
    "start_time": "2023-04-13T07:45:34.563Z"
   },
   {
    "duration": 17,
    "start_time": "2023-04-13T07:45:34.593Z"
   },
   {
    "duration": 6,
    "start_time": "2023-04-13T07:45:34.612Z"
   },
   {
    "duration": 31,
    "start_time": "2023-04-13T07:45:34.620Z"
   },
   {
    "duration": 7,
    "start_time": "2023-04-13T07:45:34.653Z"
   },
   {
    "duration": 11758,
    "start_time": "2023-04-13T07:45:34.694Z"
   },
   {
    "duration": 9,
    "start_time": "2023-04-13T07:45:46.454Z"
   },
   {
    "duration": 19031,
    "start_time": "2023-04-13T07:45:46.465Z"
   },
   {
    "duration": 3,
    "start_time": "2023-04-13T07:46:05.499Z"
   },
   {
    "duration": 60697,
    "start_time": "2023-04-13T07:46:05.504Z"
   },
   {
    "duration": 419,
    "start_time": "2023-04-13T07:47:06.203Z"
   },
   {
    "duration": 903,
    "start_time": "2023-04-13T07:47:06.624Z"
   },
   {
    "duration": 7,
    "start_time": "2023-04-13T07:47:07.529Z"
   },
   {
    "duration": 25,
    "start_time": "2023-04-13T07:47:07.538Z"
   },
   {
    "duration": 629,
    "start_time": "2023-04-13T07:47:07.565Z"
   },
   {
    "duration": 6,
    "start_time": "2023-04-13T07:48:46.084Z"
   },
   {
    "duration": 505,
    "start_time": "2023-04-13T07:49:29.378Z"
   },
   {
    "duration": 204,
    "start_time": "2023-04-13T07:49:44.374Z"
   },
   {
    "duration": 9,
    "start_time": "2023-04-13T07:51:16.278Z"
   },
   {
    "duration": 27,
    "start_time": "2023-04-13T07:51:56.799Z"
   },
   {
    "duration": 7,
    "start_time": "2023-04-13T07:52:16.857Z"
   },
   {
    "duration": 12,
    "start_time": "2023-04-13T07:53:18.163Z"
   },
   {
    "duration": 377,
    "start_time": "2023-04-13T07:54:42.867Z"
   },
   {
    "duration": 413,
    "start_time": "2023-04-13T07:56:15.031Z"
   },
   {
    "duration": 403,
    "start_time": "2023-04-13T07:56:49.170Z"
   },
   {
    "duration": 9,
    "start_time": "2023-04-13T07:57:14.030Z"
   },
   {
    "duration": 11,
    "start_time": "2023-04-13T07:57:16.731Z"
   },
   {
    "duration": 10,
    "start_time": "2023-04-13T07:57:29.727Z"
   },
   {
    "duration": 18,
    "start_time": "2023-04-13T07:57:31.645Z"
   },
   {
    "duration": 12,
    "start_time": "2023-04-13T07:57:47.076Z"
   },
   {
    "duration": 9,
    "start_time": "2023-04-13T07:58:25.417Z"
   },
   {
    "duration": 55,
    "start_time": "2023-04-13T07:58:27.616Z"
   },
   {
    "duration": 422,
    "start_time": "2023-04-13T07:59:15.817Z"
   },
   {
    "duration": 12,
    "start_time": "2023-04-13T07:59:22.770Z"
   },
   {
    "duration": 28,
    "start_time": "2023-04-13T07:59:24.552Z"
   },
   {
    "duration": 10,
    "start_time": "2023-04-13T08:00:33.773Z"
   },
   {
    "duration": 17,
    "start_time": "2023-04-13T08:00:35.816Z"
   },
   {
    "duration": 539,
    "start_time": "2023-04-13T08:02:27.963Z"
   },
   {
    "duration": 9,
    "start_time": "2023-04-13T08:02:31.326Z"
   },
   {
    "duration": 20,
    "start_time": "2023-04-13T08:02:32.445Z"
   },
   {
    "duration": 10,
    "start_time": "2023-04-13T08:02:56.430Z"
   },
   {
    "duration": 51,
    "start_time": "2023-04-13T08:02:58.415Z"
   },
   {
    "duration": 11,
    "start_time": "2023-04-13T08:03:27.405Z"
   },
   {
    "duration": 835,
    "start_time": "2023-04-13T08:03:40.433Z"
   },
   {
    "duration": 381,
    "start_time": "2023-04-13T08:03:51.682Z"
   },
   {
    "duration": 823,
    "start_time": "2023-04-13T08:04:12.618Z"
   },
   {
    "duration": 55,
    "start_time": "2023-04-13T08:05:41.334Z"
   },
   {
    "duration": 856,
    "start_time": "2023-04-13T08:05:45.019Z"
   },
   {
    "duration": 10,
    "start_time": "2023-04-13T08:06:40.762Z"
   },
   {
    "duration": 5,
    "start_time": "2023-04-13T08:06:42.555Z"
   },
   {
    "duration": 9,
    "start_time": "2023-04-13T08:06:55.779Z"
   },
   {
    "duration": 12,
    "start_time": "2023-04-13T08:06:57.719Z"
   },
   {
    "duration": 773,
    "start_time": "2023-04-13T08:07:02.812Z"
   },
   {
    "duration": 775,
    "start_time": "2023-04-13T08:07:09.718Z"
   },
   {
    "duration": 737,
    "start_time": "2023-04-13T08:07:47.019Z"
   },
   {
    "duration": 748,
    "start_time": "2023-04-13T08:08:04.095Z"
   },
   {
    "duration": 776,
    "start_time": "2023-04-13T08:08:24.220Z"
   },
   {
    "duration": 5,
    "start_time": "2023-04-13T08:08:50.682Z"
   },
   {
    "duration": 12,
    "start_time": "2023-04-13T08:09:28.427Z"
   },
   {
    "duration": 11,
    "start_time": "2023-04-13T08:10:20.760Z"
   },
   {
    "duration": 28,
    "start_time": "2023-04-13T08:11:01.635Z"
   },
   {
    "duration": 12,
    "start_time": "2023-04-13T08:13:51.774Z"
   },
   {
    "duration": 782,
    "start_time": "2023-04-13T08:15:46.554Z"
   },
   {
    "duration": 10,
    "start_time": "2023-04-13T08:16:03.372Z"
   },
   {
    "duration": 7,
    "start_time": "2023-04-13T08:16:53.014Z"
   },
   {
    "duration": 7,
    "start_time": "2023-04-13T08:16:56.464Z"
   },
   {
    "duration": 13,
    "start_time": "2023-04-13T08:18:46.076Z"
   },
   {
    "duration": 13,
    "start_time": "2023-04-13T08:18:56.741Z"
   },
   {
    "duration": 15,
    "start_time": "2023-04-13T08:19:38.431Z"
   },
   {
    "duration": 12,
    "start_time": "2023-04-13T08:20:05.065Z"
   },
   {
    "duration": 13,
    "start_time": "2023-04-13T08:20:12.522Z"
   },
   {
    "duration": 14,
    "start_time": "2023-04-13T08:20:33.622Z"
   },
   {
    "duration": 4,
    "start_time": "2023-04-13T08:22:22.720Z"
   },
   {
    "duration": 15,
    "start_time": "2023-04-13T08:22:34.011Z"
   },
   {
    "duration": 407,
    "start_time": "2023-04-13T08:22:43.580Z"
   },
   {
    "duration": 3,
    "start_time": "2023-04-13T08:22:47.777Z"
   },
   {
    "duration": 18,
    "start_time": "2023-04-13T08:22:49.307Z"
   },
   {
    "duration": 18,
    "start_time": "2023-04-13T08:23:53.094Z"
   },
   {
    "duration": 13,
    "start_time": "2023-04-13T08:25:51.779Z"
   },
   {
    "duration": 21420,
    "start_time": "2023-04-13T08:26:03.296Z"
   },
   {
    "duration": 16,
    "start_time": "2023-04-13T08:27:10.412Z"
   },
   {
    "duration": 4,
    "start_time": "2023-04-13T08:27:32.382Z"
   },
   {
    "duration": 653,
    "start_time": "2023-04-13T08:27:55.460Z"
   },
   {
    "duration": 48913,
    "start_time": "2023-04-13T08:28:31.333Z"
   },
   {
    "duration": 14,
    "start_time": "2023-04-13T08:36:59.842Z"
   },
   {
    "duration": 3,
    "start_time": "2023-04-13T08:37:07.626Z"
   },
   {
    "duration": 731,
    "start_time": "2023-04-13T08:39:00.521Z"
   },
   {
    "duration": 776,
    "start_time": "2023-04-13T08:39:07.230Z"
   },
   {
    "duration": 725,
    "start_time": "2023-04-13T08:39:11.314Z"
   },
   {
    "duration": 721,
    "start_time": "2023-04-13T08:39:15.214Z"
   },
   {
    "duration": 341,
    "start_time": "2023-04-13T08:39:25.958Z"
   },
   {
    "duration": 376,
    "start_time": "2023-04-13T08:39:32.063Z"
   },
   {
    "duration": 378,
    "start_time": "2023-04-13T08:39:38.168Z"
   },
   {
    "duration": 378,
    "start_time": "2023-04-13T08:39:48.382Z"
   },
   {
    "duration": 394,
    "start_time": "2023-04-13T08:39:52.657Z"
   },
   {
    "duration": 345,
    "start_time": "2023-04-13T08:39:57.265Z"
   },
   {
    "duration": 354,
    "start_time": "2023-04-13T08:40:00.570Z"
   },
   {
    "duration": 4,
    "start_time": "2023-04-13T09:01:54.878Z"
   },
   {
    "duration": 3,
    "start_time": "2023-04-13T09:17:43.141Z"
   },
   {
    "duration": 7,
    "start_time": "2023-04-13T09:23:24.040Z"
   },
   {
    "duration": 4,
    "start_time": "2023-04-13T09:35:26.658Z"
   },
   {
    "duration": 7,
    "start_time": "2023-04-13T09:36:02.802Z"
   },
   {
    "duration": 6,
    "start_time": "2023-04-13T09:36:24.025Z"
   },
   {
    "duration": 5,
    "start_time": "2023-04-13T09:36:47.341Z"
   },
   {
    "duration": 6,
    "start_time": "2023-04-13T09:42:01.850Z"
   },
   {
    "duration": 5,
    "start_time": "2023-04-13T09:43:59.234Z"
   },
   {
    "duration": 3,
    "start_time": "2023-04-13T10:45:28.795Z"
   },
   {
    "duration": 16,
    "start_time": "2023-04-13T10:45:45.065Z"
   },
   {
    "duration": 4,
    "start_time": "2023-04-13T10:48:20.538Z"
   },
   {
    "duration": 24,
    "start_time": "2023-04-13T10:49:34.047Z"
   },
   {
    "duration": 23,
    "start_time": "2023-04-13T10:51:07.017Z"
   },
   {
    "duration": 16,
    "start_time": "2023-04-13T10:52:04.116Z"
   },
   {
    "duration": 30,
    "start_time": "2023-04-13T10:58:57.708Z"
   },
   {
    "duration": 27,
    "start_time": "2023-04-13T11:00:38.421Z"
   },
   {
    "duration": 28,
    "start_time": "2023-04-13T11:00:48.641Z"
   },
   {
    "duration": 23,
    "start_time": "2023-04-13T11:01:40.461Z"
   },
   {
    "duration": 27,
    "start_time": "2023-04-13T11:01:47.235Z"
   },
   {
    "duration": 5,
    "start_time": "2023-04-13T11:01:55.478Z"
   },
   {
    "duration": 33,
    "start_time": "2023-04-13T11:07:40.327Z"
   },
   {
    "duration": 14,
    "start_time": "2023-04-13T11:14:33.846Z"
   },
   {
    "duration": 20,
    "start_time": "2023-04-13T11:15:21.915Z"
   },
   {
    "duration": 26,
    "start_time": "2023-04-13T11:15:46.554Z"
   },
   {
    "duration": 11,
    "start_time": "2023-04-13T11:15:52.636Z"
   },
   {
    "duration": 12,
    "start_time": "2023-04-13T11:18:55.334Z"
   },
   {
    "duration": 108,
    "start_time": "2023-04-13T11:23:21.238Z"
   },
   {
    "duration": 132,
    "start_time": "2023-04-13T11:24:20.616Z"
   },
   {
    "duration": 121,
    "start_time": "2023-04-13T11:24:24.871Z"
   },
   {
    "duration": 6,
    "start_time": "2023-04-13T11:39:07.737Z"
   },
   {
    "duration": 3091,
    "start_time": "2023-04-13T11:39:11.862Z"
   },
   {
    "duration": 1524,
    "start_time": "2023-04-13T11:40:36.405Z"
   },
   {
    "duration": 3,
    "start_time": "2023-04-13T11:40:37.932Z"
   },
   {
    "duration": 806,
    "start_time": "2023-04-13T11:40:37.937Z"
   },
   {
    "duration": 4,
    "start_time": "2023-04-13T11:40:38.745Z"
   },
   {
    "duration": 7,
    "start_time": "2023-04-13T11:40:38.751Z"
   },
   {
    "duration": 14,
    "start_time": "2023-04-13T11:40:38.760Z"
   },
   {
    "duration": 21,
    "start_time": "2023-04-13T11:40:38.776Z"
   },
   {
    "duration": 6,
    "start_time": "2023-04-13T11:40:38.799Z"
   },
   {
    "duration": 29,
    "start_time": "2023-04-13T11:40:38.807Z"
   },
   {
    "duration": 10,
    "start_time": "2023-04-13T11:40:38.839Z"
   },
   {
    "duration": 37,
    "start_time": "2023-04-13T11:40:38.851Z"
   },
   {
    "duration": 17,
    "start_time": "2023-04-13T11:40:38.890Z"
   },
   {
    "duration": 11,
    "start_time": "2023-04-13T11:40:38.909Z"
   },
   {
    "duration": 156,
    "start_time": "2023-04-13T11:40:38.921Z"
   },
   {
    "duration": 5,
    "start_time": "2023-04-13T11:40:39.079Z"
   },
   {
    "duration": 3268,
    "start_time": "2023-04-13T11:40:39.086Z"
   },
   {
    "duration": 5,
    "start_time": "2023-04-13T11:40:42.356Z"
   },
   {
    "duration": 1194,
    "start_time": "2023-04-13T11:40:42.362Z"
   },
   {
    "duration": 7,
    "start_time": "2023-04-13T11:40:43.558Z"
   },
   {
    "duration": 670,
    "start_time": "2023-04-13T11:40:43.567Z"
   },
   {
    "duration": 6,
    "start_time": "2023-04-13T11:40:44.239Z"
   },
   {
    "duration": 980,
    "start_time": "2023-04-13T11:40:44.246Z"
   },
   {
    "duration": 4,
    "start_time": "2023-04-13T11:40:45.228Z"
   },
   {
    "duration": 10,
    "start_time": "2023-04-13T11:40:45.234Z"
   },
   {
    "duration": 16,
    "start_time": "2023-04-13T11:40:45.247Z"
   },
   {
    "duration": 8,
    "start_time": "2023-04-13T11:40:45.265Z"
   },
   {
    "duration": 21,
    "start_time": "2023-04-13T11:40:45.274Z"
   },
   {
    "duration": 6,
    "start_time": "2023-04-13T11:40:45.300Z"
   },
   {
    "duration": 127,
    "start_time": "2023-04-13T11:40:45.308Z"
   },
   {
    "duration": 0,
    "start_time": "2023-04-13T11:40:45.437Z"
   },
   {
    "duration": 0,
    "start_time": "2023-04-13T11:40:45.439Z"
   },
   {
    "duration": 0,
    "start_time": "2023-04-13T11:40:45.440Z"
   },
   {
    "duration": 0,
    "start_time": "2023-04-13T11:40:45.442Z"
   },
   {
    "duration": 0,
    "start_time": "2023-04-13T11:40:45.443Z"
   },
   {
    "duration": 0,
    "start_time": "2023-04-13T11:40:45.445Z"
   },
   {
    "duration": 0,
    "start_time": "2023-04-13T11:40:45.446Z"
   },
   {
    "duration": 1,
    "start_time": "2023-04-13T11:40:45.447Z"
   },
   {
    "duration": 0,
    "start_time": "2023-04-13T11:40:45.449Z"
   },
   {
    "duration": 0,
    "start_time": "2023-04-13T11:40:45.450Z"
   },
   {
    "duration": 0,
    "start_time": "2023-04-13T11:40:45.452Z"
   },
   {
    "duration": 0,
    "start_time": "2023-04-13T11:40:45.453Z"
   },
   {
    "duration": 0,
    "start_time": "2023-04-13T11:40:45.490Z"
   },
   {
    "duration": 0,
    "start_time": "2023-04-13T11:40:45.492Z"
   },
   {
    "duration": 0,
    "start_time": "2023-04-13T11:40:45.493Z"
   },
   {
    "duration": 6,
    "start_time": "2023-04-13T12:00:52.102Z"
   },
   {
    "duration": 6,
    "start_time": "2023-04-13T12:03:06.822Z"
   },
   {
    "duration": 910,
    "start_time": "2023-04-13T12:03:09.489Z"
   },
   {
    "duration": 991,
    "start_time": "2023-04-13T12:05:09.602Z"
   },
   {
    "duration": 605,
    "start_time": "2023-04-13T12:06:58.111Z"
   },
   {
    "duration": 6,
    "start_time": "2023-04-13T12:18:00.035Z"
   },
   {
    "duration": 1090,
    "start_time": "2023-04-13T12:18:02.270Z"
   },
   {
    "duration": 52,
    "start_time": "2023-04-13T12:30:50.472Z"
   },
   {
    "duration": 62,
    "start_time": "2023-04-13T15:21:07.308Z"
   },
   {
    "duration": 1994,
    "start_time": "2023-04-13T15:28:28.250Z"
   },
   {
    "duration": 7,
    "start_time": "2023-04-13T15:28:30.246Z"
   },
   {
    "duration": 3166,
    "start_time": "2023-04-13T15:28:30.255Z"
   },
   {
    "duration": 5,
    "start_time": "2023-04-13T15:28:33.423Z"
   },
   {
    "duration": 11,
    "start_time": "2023-04-13T15:28:33.431Z"
   },
   {
    "duration": 12,
    "start_time": "2023-04-13T15:28:33.443Z"
   },
   {
    "duration": 9,
    "start_time": "2023-04-13T15:28:33.457Z"
   },
   {
    "duration": 23,
    "start_time": "2023-04-13T15:28:33.468Z"
   },
   {
    "duration": 10,
    "start_time": "2023-04-13T15:28:33.493Z"
   },
   {
    "duration": 18,
    "start_time": "2023-04-13T15:28:33.504Z"
   },
   {
    "duration": 41,
    "start_time": "2023-04-13T15:28:33.527Z"
   },
   {
    "duration": 20,
    "start_time": "2023-04-13T15:28:33.570Z"
   },
   {
    "duration": 17,
    "start_time": "2023-04-13T15:28:33.591Z"
   },
   {
    "duration": 160,
    "start_time": "2023-04-13T15:28:33.614Z"
   },
   {
    "duration": 7,
    "start_time": "2023-04-13T15:28:33.775Z"
   },
   {
    "duration": 5183,
    "start_time": "2023-04-13T15:28:33.784Z"
   },
   {
    "duration": 6,
    "start_time": "2023-04-13T15:28:38.969Z"
   },
   {
    "duration": 1376,
    "start_time": "2023-04-13T15:28:38.977Z"
   },
   {
    "duration": 752,
    "start_time": "2023-04-13T15:28:40.355Z"
   },
   {
    "duration": 12,
    "start_time": "2023-04-13T15:28:41.109Z"
   },
   {
    "duration": 1244,
    "start_time": "2023-04-13T15:28:41.123Z"
   },
   {
    "duration": 4,
    "start_time": "2023-04-13T15:28:42.368Z"
   },
   {
    "duration": 19,
    "start_time": "2023-04-13T15:28:42.374Z"
   },
   {
    "duration": 26,
    "start_time": "2023-04-13T15:28:42.394Z"
   },
   {
    "duration": 20,
    "start_time": "2023-04-13T15:28:42.423Z"
   },
   {
    "duration": 11,
    "start_time": "2023-04-13T15:28:42.445Z"
   },
   {
    "duration": 13,
    "start_time": "2023-04-13T15:28:42.458Z"
   },
   {
    "duration": 25,
    "start_time": "2023-04-13T15:28:42.472Z"
   },
   {
    "duration": 165,
    "start_time": "2023-04-13T15:28:42.499Z"
   },
   {
    "duration": 0,
    "start_time": "2023-04-13T15:28:42.667Z"
   },
   {
    "duration": 0,
    "start_time": "2023-04-13T15:28:42.670Z"
   },
   {
    "duration": 0,
    "start_time": "2023-04-13T15:28:42.671Z"
   },
   {
    "duration": 0,
    "start_time": "2023-04-13T15:28:42.673Z"
   },
   {
    "duration": 0,
    "start_time": "2023-04-13T15:28:42.674Z"
   },
   {
    "duration": 0,
    "start_time": "2023-04-13T15:28:42.679Z"
   },
   {
    "duration": 0,
    "start_time": "2023-04-13T15:28:42.681Z"
   },
   {
    "duration": 0,
    "start_time": "2023-04-13T15:28:42.682Z"
   },
   {
    "duration": 0,
    "start_time": "2023-04-13T15:28:42.684Z"
   },
   {
    "duration": 0,
    "start_time": "2023-04-13T15:28:42.685Z"
   },
   {
    "duration": 0,
    "start_time": "2023-04-13T15:28:42.719Z"
   },
   {
    "duration": 0,
    "start_time": "2023-04-13T15:28:42.725Z"
   },
   {
    "duration": 0,
    "start_time": "2023-04-13T15:28:42.726Z"
   },
   {
    "duration": 0,
    "start_time": "2023-04-13T15:28:42.731Z"
   },
   {
    "duration": 0,
    "start_time": "2023-04-13T15:28:42.743Z"
   },
   {
    "duration": 1599,
    "start_time": "2023-04-13T15:29:48.356Z"
   },
   {
    "duration": 2,
    "start_time": "2023-04-13T15:29:49.957Z"
   },
   {
    "duration": 927,
    "start_time": "2023-04-13T15:29:49.961Z"
   },
   {
    "duration": 4,
    "start_time": "2023-04-13T15:29:50.889Z"
   },
   {
    "duration": 26,
    "start_time": "2023-04-13T15:29:50.895Z"
   },
   {
    "duration": 15,
    "start_time": "2023-04-13T15:29:50.926Z"
   },
   {
    "duration": 31,
    "start_time": "2023-04-13T15:29:50.942Z"
   },
   {
    "duration": 23,
    "start_time": "2023-04-13T15:29:50.975Z"
   },
   {
    "duration": 31,
    "start_time": "2023-04-13T15:29:50.999Z"
   },
   {
    "duration": 5,
    "start_time": "2023-04-13T15:29:51.031Z"
   },
   {
    "duration": 32,
    "start_time": "2023-04-13T15:29:51.038Z"
   },
   {
    "duration": 32,
    "start_time": "2023-04-13T15:29:51.072Z"
   },
   {
    "duration": 20,
    "start_time": "2023-04-13T15:29:51.106Z"
   },
   {
    "duration": 141,
    "start_time": "2023-04-13T15:29:51.131Z"
   },
   {
    "duration": 6,
    "start_time": "2023-04-13T15:29:51.274Z"
   },
   {
    "duration": 3346,
    "start_time": "2023-04-13T15:29:51.282Z"
   },
   {
    "duration": 9,
    "start_time": "2023-04-13T15:29:54.630Z"
   },
   {
    "duration": 1147,
    "start_time": "2023-04-13T15:29:54.641Z"
   },
   {
    "duration": 690,
    "start_time": "2023-04-13T15:29:55.790Z"
   },
   {
    "duration": 6,
    "start_time": "2023-04-13T15:29:56.482Z"
   },
   {
    "duration": 1367,
    "start_time": "2023-04-13T15:29:56.490Z"
   },
   {
    "duration": 4,
    "start_time": "2023-04-13T15:29:57.859Z"
   },
   {
    "duration": 13,
    "start_time": "2023-04-13T15:29:57.864Z"
   },
   {
    "duration": 5,
    "start_time": "2023-04-13T15:29:57.879Z"
   },
   {
    "duration": 12,
    "start_time": "2023-04-13T15:29:57.885Z"
   },
   {
    "duration": 5,
    "start_time": "2023-04-13T15:29:57.899Z"
   },
   {
    "duration": 27,
    "start_time": "2023-04-13T15:29:57.906Z"
   },
   {
    "duration": 11,
    "start_time": "2023-04-13T15:29:57.938Z"
   },
   {
    "duration": 122,
    "start_time": "2023-04-13T15:29:57.951Z"
   },
   {
    "duration": 0,
    "start_time": "2023-04-13T15:29:58.075Z"
   },
   {
    "duration": 0,
    "start_time": "2023-04-13T15:29:58.076Z"
   },
   {
    "duration": 0,
    "start_time": "2023-04-13T15:29:58.077Z"
   },
   {
    "duration": 0,
    "start_time": "2023-04-13T15:29:58.078Z"
   },
   {
    "duration": 0,
    "start_time": "2023-04-13T15:29:58.079Z"
   },
   {
    "duration": 0,
    "start_time": "2023-04-13T15:29:58.080Z"
   },
   {
    "duration": 0,
    "start_time": "2023-04-13T15:29:58.082Z"
   },
   {
    "duration": 0,
    "start_time": "2023-04-13T15:29:58.083Z"
   },
   {
    "duration": 0,
    "start_time": "2023-04-13T15:29:58.084Z"
   },
   {
    "duration": 0,
    "start_time": "2023-04-13T15:29:58.085Z"
   },
   {
    "duration": 0,
    "start_time": "2023-04-13T15:29:58.086Z"
   },
   {
    "duration": 0,
    "start_time": "2023-04-13T15:29:58.087Z"
   },
   {
    "duration": 0,
    "start_time": "2023-04-13T15:29:58.112Z"
   },
   {
    "duration": 1,
    "start_time": "2023-04-13T15:29:58.112Z"
   },
   {
    "duration": 0,
    "start_time": "2023-04-13T15:29:58.113Z"
   },
   {
    "duration": 5,
    "start_time": "2023-04-13T15:30:14.905Z"
   },
   {
    "duration": 6,
    "start_time": "2023-04-13T15:30:49.681Z"
   },
   {
    "duration": 8,
    "start_time": "2023-04-13T15:37:38.037Z"
   },
   {
    "duration": 7,
    "start_time": "2023-04-13T15:37:41.458Z"
   },
   {
    "duration": 6,
    "start_time": "2023-04-13T15:37:53.792Z"
   },
   {
    "duration": 5,
    "start_time": "2023-04-13T15:38:00.444Z"
   },
   {
    "duration": 10,
    "start_time": "2023-04-13T15:39:47.996Z"
   },
   {
    "duration": 5,
    "start_time": "2023-04-13T15:39:50.895Z"
   },
   {
    "duration": 4,
    "start_time": "2023-04-13T15:44:18.686Z"
   },
   {
    "duration": 5,
    "start_time": "2023-04-13T15:44:31.820Z"
   },
   {
    "duration": 42,
    "start_time": "2023-04-13T15:49:54.904Z"
   },
   {
    "duration": 9,
    "start_time": "2023-04-13T16:26:20.483Z"
   },
   {
    "duration": 9366,
    "start_time": "2023-04-13T16:30:30.544Z"
   },
   {
    "duration": 64,
    "start_time": "2023-04-13T16:30:43.601Z"
   },
   {
    "duration": 391,
    "start_time": "2023-04-13T16:31:59.911Z"
   },
   {
    "duration": 91,
    "start_time": "2023-04-13T16:32:08.579Z"
   },
   {
    "duration": 129,
    "start_time": "2023-04-13T16:32:12.956Z"
   },
   {
    "duration": 44,
    "start_time": "2023-04-13T16:32:16.336Z"
   },
   {
    "duration": 89,
    "start_time": "2023-04-13T16:32:20.767Z"
   },
   {
    "duration": 114,
    "start_time": "2023-04-13T16:32:26.494Z"
   },
   {
    "duration": 159,
    "start_time": "2023-04-13T16:32:30.984Z"
   },
   {
    "duration": 177,
    "start_time": "2023-04-13T16:32:35.886Z"
   },
   {
    "duration": 150,
    "start_time": "2023-04-13T16:32:40.355Z"
   },
   {
    "duration": 204,
    "start_time": "2023-04-13T16:32:44.681Z"
   },
   {
    "duration": 183,
    "start_time": "2023-04-13T16:32:50.985Z"
   },
   {
    "duration": 157,
    "start_time": "2023-04-13T16:32:55.836Z"
   },
   {
    "duration": 193,
    "start_time": "2023-04-13T16:32:59.769Z"
   },
   {
    "duration": 5549,
    "start_time": "2023-04-13T16:33:30.983Z"
   },
   {
    "duration": 20,
    "start_time": "2023-04-13T16:33:40.560Z"
   },
   {
    "duration": 5529,
    "start_time": "2023-04-13T16:34:28.146Z"
   },
   {
    "duration": 253,
    "start_time": "2023-04-13T16:34:49.161Z"
   },
   {
    "duration": 146,
    "start_time": "2023-04-13T16:34:56.155Z"
   },
   {
    "duration": 9289,
    "start_time": "2023-04-13T16:35:18.649Z"
   },
   {
    "duration": 26,
    "start_time": "2023-04-13T16:35:31.944Z"
   },
   {
    "duration": 9330,
    "start_time": "2023-04-13T16:36:54.386Z"
   },
   {
    "duration": 2400,
    "start_time": "2023-04-13T16:37:15.853Z"
   },
   {
    "duration": 1029,
    "start_time": "2023-04-13T16:37:27.092Z"
   },
   {
    "duration": 574,
    "start_time": "2023-04-13T16:37:33.141Z"
   },
   {
    "duration": 964,
    "start_time": "2023-04-13T16:37:37.733Z"
   },
   {
    "duration": 1274,
    "start_time": "2023-04-13T16:37:40.731Z"
   },
   {
    "duration": 1895,
    "start_time": "2023-04-13T16:37:45.753Z"
   },
   {
    "duration": 1447,
    "start_time": "2023-04-13T16:37:53.541Z"
   },
   {
    "duration": 1679,
    "start_time": "2023-04-13T16:38:00.664Z"
   },
   {
    "duration": 1131,
    "start_time": "2023-04-13T16:38:06.569Z"
   },
   {
    "duration": 1585,
    "start_time": "2023-04-13T16:38:10.538Z"
   },
   {
    "duration": 916,
    "start_time": "2023-04-13T16:49:20.107Z"
   },
   {
    "duration": 114,
    "start_time": "2023-04-13T16:49:25.572Z"
   },
   {
    "duration": 201,
    "start_time": "2023-04-13T16:49:35.074Z"
   },
   {
    "duration": 310,
    "start_time": "2023-04-13T16:49:39.326Z"
   },
   {
    "duration": 414,
    "start_time": "2023-04-13T16:49:43.038Z"
   },
   {
    "duration": 526,
    "start_time": "2023-04-13T16:49:46.532Z"
   },
   {
    "duration": 556,
    "start_time": "2023-04-13T16:49:50.713Z"
   },
   {
    "duration": 631,
    "start_time": "2023-04-13T16:49:56.090Z"
   },
   {
    "duration": 788,
    "start_time": "2023-04-13T16:50:00.146Z"
   },
   {
    "duration": 1260,
    "start_time": "2023-04-13T16:50:04.304Z"
   },
   {
    "duration": 261,
    "start_time": "2023-04-13T16:50:09.186Z"
   },
   {
    "duration": 323,
    "start_time": "2023-04-13T16:50:12.449Z"
   },
   {
    "duration": 394,
    "start_time": "2023-04-13T16:50:15.492Z"
   },
   {
    "duration": 635,
    "start_time": "2023-04-13T16:50:19.500Z"
   },
   {
    "duration": 529,
    "start_time": "2023-04-13T16:50:22.478Z"
   },
   {
    "duration": 645,
    "start_time": "2023-04-13T16:50:27.159Z"
   },
   {
    "duration": 632,
    "start_time": "2023-04-13T16:50:30.289Z"
   },
   {
    "duration": 212,
    "start_time": "2023-04-13T16:50:33.750Z"
   },
   {
    "duration": 107,
    "start_time": "2023-04-13T16:50:41.655Z"
   },
   {
    "duration": 197,
    "start_time": "2023-04-13T16:50:45.490Z"
   },
   {
    "duration": 297,
    "start_time": "2023-04-13T16:50:49.369Z"
   },
   {
    "duration": 386,
    "start_time": "2023-04-13T16:50:53.234Z"
   },
   {
    "duration": 436,
    "start_time": "2023-04-13T16:50:57.567Z"
   },
   {
    "duration": 195,
    "start_time": "2023-04-13T16:51:01.037Z"
   },
   {
    "duration": 1537,
    "start_time": "2023-04-13T16:52:30.337Z"
   },
   {
    "duration": 190,
    "start_time": "2023-04-13T16:53:58.208Z"
   },
   {
    "duration": 1371,
    "start_time": "2023-04-13T16:54:01.381Z"
   },
   {
    "duration": 1694,
    "start_time": "2023-04-13T16:55:01.833Z"
   },
   {
    "duration": 1224,
    "start_time": "2023-04-13T16:55:18.539Z"
   },
   {
    "duration": 625,
    "start_time": "2023-04-13T16:55:23.669Z"
   },
   {
    "duration": 810,
    "start_time": "2023-04-13T17:53:40.828Z"
   },
   {
    "duration": 617,
    "start_time": "2023-04-13T17:53:48.511Z"
   },
   {
    "duration": 981,
    "start_time": "2023-04-13T17:53:53.070Z"
   },
   {
    "duration": 862,
    "start_time": "2023-04-13T17:53:59.192Z"
   },
   {
    "duration": 1196,
    "start_time": "2023-04-13T17:54:04.005Z"
   },
   {
    "duration": 1135,
    "start_time": "2023-04-13T17:54:10.172Z"
   },
   {
    "duration": 2655,
    "start_time": "2023-04-13T17:54:13.801Z"
   },
   {
    "duration": 826,
    "start_time": "2023-04-13T17:54:22.687Z"
   },
   {
    "duration": 3984,
    "start_time": "2023-04-13T17:54:29.536Z"
   },
   {
    "duration": 6456,
    "start_time": "2023-04-13T17:54:37.874Z"
   },
   {
    "duration": 9914,
    "start_time": "2023-04-13T17:54:50.475Z"
   },
   {
    "duration": 3340,
    "start_time": "2023-04-13T17:55:10.240Z"
   },
   {
    "duration": 2983,
    "start_time": "2023-04-13T17:55:17.688Z"
   },
   {
    "duration": 1495,
    "start_time": "2023-04-13T17:55:31.625Z"
   },
   {
    "duration": 1375,
    "start_time": "2023-04-13T17:55:35.961Z"
   },
   {
    "duration": 1304,
    "start_time": "2023-04-13T17:55:39.603Z"
   },
   {
    "duration": 1201,
    "start_time": "2023-04-13T17:55:43.856Z"
   },
   {
    "duration": 961,
    "start_time": "2023-04-13T17:55:47.633Z"
   },
   {
    "duration": 977,
    "start_time": "2023-04-13T17:55:50.856Z"
   },
   {
    "duration": 953,
    "start_time": "2023-04-13T17:55:54.162Z"
   },
   {
    "duration": 1531,
    "start_time": "2023-04-13T17:56:37.662Z"
   },
   {
    "duration": 194,
    "start_time": "2023-04-13T17:56:42.072Z"
   },
   {
    "duration": 5455,
    "start_time": "2023-04-13T17:56:58.940Z"
   },
   {
    "duration": 27,
    "start_time": "2023-04-13T17:57:12.768Z"
   },
   {
    "duration": 528,
    "start_time": "2023-04-13T17:58:47.169Z"
   },
   {
    "duration": 1280,
    "start_time": "2023-04-13T17:58:51.902Z"
   },
   {
    "duration": 1254,
    "start_time": "2023-04-13T17:58:56.103Z"
   },
   {
    "duration": 1619,
    "start_time": "2023-04-13T17:59:00.563Z"
   },
   {
    "duration": 4679,
    "start_time": "2023-04-13T17:59:06.344Z"
   },
   {
    "duration": 1605,
    "start_time": "2023-04-13T17:59:14.194Z"
   },
   {
    "duration": 1242,
    "start_time": "2023-04-13T17:59:18.335Z"
   },
   {
    "duration": 1173,
    "start_time": "2023-04-13T17:59:22.075Z"
   },
   {
    "duration": 1227,
    "start_time": "2023-04-13T17:59:26.397Z"
   },
   {
    "duration": 8983,
    "start_time": "2023-04-13T17:59:41.798Z"
   },
   {
    "duration": 11283,
    "start_time": "2023-04-13T17:59:54.205Z"
   },
   {
    "duration": 30,
    "start_time": "2023-04-13T18:00:10.929Z"
   },
   {
    "duration": 9,
    "start_time": "2023-04-13T18:08:53.309Z"
   },
   {
    "duration": 7,
    "start_time": "2023-04-13T18:10:36.065Z"
   },
   {
    "duration": 10,
    "start_time": "2023-04-13T18:13:37.045Z"
   },
   {
    "duration": 8,
    "start_time": "2023-04-13T18:15:01.477Z"
   },
   {
    "duration": 15,
    "start_time": "2023-04-13T18:16:16.412Z"
   },
   {
    "duration": 18,
    "start_time": "2023-04-13T18:16:44.964Z"
   },
   {
    "duration": 1873,
    "start_time": "2023-04-14T08:55:28.574Z"
   },
   {
    "duration": 3,
    "start_time": "2023-04-14T08:57:42.790Z"
   },
   {
    "duration": 2031,
    "start_time": "2023-04-14T08:58:18.149Z"
   },
   {
    "duration": 1486,
    "start_time": "2023-04-14T09:25:09.244Z"
   },
   {
    "duration": 4,
    "start_time": "2023-04-14T09:25:10.732Z"
   },
   {
    "duration": 811,
    "start_time": "2023-04-14T09:25:10.741Z"
   },
   {
    "duration": 6,
    "start_time": "2023-04-14T09:25:11.554Z"
   },
   {
    "duration": 15,
    "start_time": "2023-04-14T09:25:11.562Z"
   },
   {
    "duration": 5,
    "start_time": "2023-04-14T09:25:11.579Z"
   },
   {
    "duration": 15,
    "start_time": "2023-04-14T09:25:11.586Z"
   },
   {
    "duration": 6,
    "start_time": "2023-04-14T09:25:11.603Z"
   },
   {
    "duration": 11,
    "start_time": "2023-04-14T09:25:11.612Z"
   },
   {
    "duration": 10,
    "start_time": "2023-04-14T09:25:11.625Z"
   },
   {
    "duration": 65,
    "start_time": "2023-04-14T09:25:11.638Z"
   },
   {
    "duration": 23,
    "start_time": "2023-04-14T09:25:11.705Z"
   },
   {
    "duration": 14,
    "start_time": "2023-04-14T09:25:11.730Z"
   },
   {
    "duration": 218,
    "start_time": "2023-04-14T09:25:11.746Z"
   },
   {
    "duration": 8,
    "start_time": "2023-04-14T09:25:11.966Z"
   },
   {
    "duration": 3233,
    "start_time": "2023-04-14T09:25:11.976Z"
   },
   {
    "duration": 8,
    "start_time": "2023-04-14T09:25:15.212Z"
   },
   {
    "duration": 1074,
    "start_time": "2023-04-14T09:25:15.222Z"
   },
   {
    "duration": 706,
    "start_time": "2023-04-14T09:25:16.298Z"
   },
   {
    "duration": 8,
    "start_time": "2023-04-14T09:25:17.006Z"
   },
   {
    "duration": 1124,
    "start_time": "2023-04-14T09:25:17.016Z"
   },
   {
    "duration": 4,
    "start_time": "2023-04-14T09:25:18.142Z"
   },
   {
    "duration": 30,
    "start_time": "2023-04-14T09:25:18.148Z"
   },
   {
    "duration": 19,
    "start_time": "2023-04-14T09:25:18.180Z"
   },
   {
    "duration": 27,
    "start_time": "2023-04-14T09:25:18.201Z"
   },
   {
    "duration": 16,
    "start_time": "2023-04-14T09:25:18.230Z"
   },
   {
    "duration": 12,
    "start_time": "2023-04-14T09:25:18.250Z"
   },
   {
    "duration": 41,
    "start_time": "2023-04-14T09:25:18.264Z"
   },
   {
    "duration": 9,
    "start_time": "2023-04-14T09:25:18.308Z"
   },
   {
    "duration": 7158,
    "start_time": "2023-04-14T09:25:18.319Z"
   },
   {
    "duration": 5678,
    "start_time": "2023-04-14T09:25:25.478Z"
   },
   {
    "duration": 72,
    "start_time": "2023-04-14T09:25:31.159Z"
   },
   {
    "duration": 187,
    "start_time": "2023-04-14T09:25:31.238Z"
   },
   {
    "duration": 0,
    "start_time": "2023-04-14T09:25:31.427Z"
   },
   {
    "duration": 0,
    "start_time": "2023-04-14T09:25:31.429Z"
   },
   {
    "duration": 0,
    "start_time": "2023-04-14T09:25:31.431Z"
   },
   {
    "duration": 0,
    "start_time": "2023-04-14T09:25:31.432Z"
   },
   {
    "duration": 0,
    "start_time": "2023-04-14T09:25:31.434Z"
   },
   {
    "duration": 0,
    "start_time": "2023-04-14T09:25:31.435Z"
   },
   {
    "duration": 0,
    "start_time": "2023-04-14T09:25:31.437Z"
   },
   {
    "duration": 0,
    "start_time": "2023-04-14T09:25:31.438Z"
   },
   {
    "duration": 0,
    "start_time": "2023-04-14T09:25:31.440Z"
   },
   {
    "duration": 10,
    "start_time": "2023-04-14T09:26:18.846Z"
   },
   {
    "duration": 101548,
    "start_time": "2023-04-14T10:24:41.929Z"
   },
   {
    "duration": 4,
    "start_time": "2023-04-14T10:29:00.303Z"
   },
   {
    "duration": 806,
    "start_time": "2023-04-14T10:29:02.390Z"
   },
   {
    "duration": 12,
    "start_time": "2023-04-14T10:32:41.922Z"
   },
   {
    "duration": 9,
    "start_time": "2023-04-14T10:34:24.552Z"
   },
   {
    "duration": 109433,
    "start_time": "2023-04-14T10:38:41.448Z"
   },
   {
    "duration": 1525,
    "start_time": "2023-04-14T10:45:18.384Z"
   },
   {
    "duration": 9,
    "start_time": "2023-04-14T10:45:19.912Z"
   },
   {
    "duration": 940,
    "start_time": "2023-04-14T10:45:19.922Z"
   },
   {
    "duration": 6,
    "start_time": "2023-04-14T10:45:20.866Z"
   },
   {
    "duration": 46,
    "start_time": "2023-04-14T10:45:20.875Z"
   },
   {
    "duration": 22,
    "start_time": "2023-04-14T10:45:20.923Z"
   },
   {
    "duration": 36,
    "start_time": "2023-04-14T10:45:20.946Z"
   },
   {
    "duration": 38,
    "start_time": "2023-04-14T10:45:20.984Z"
   },
   {
    "duration": 23,
    "start_time": "2023-04-14T10:45:21.024Z"
   },
   {
    "duration": 3,
    "start_time": "2023-04-14T10:45:21.050Z"
   },
   {
    "duration": 30,
    "start_time": "2023-04-14T10:45:21.055Z"
   },
   {
    "duration": 31,
    "start_time": "2023-04-14T10:45:21.086Z"
   },
   {
    "duration": 14,
    "start_time": "2023-04-14T10:45:21.119Z"
   },
   {
    "duration": 182,
    "start_time": "2023-04-14T10:45:21.135Z"
   },
   {
    "duration": 6,
    "start_time": "2023-04-14T10:45:21.320Z"
   },
   {
    "duration": 3566,
    "start_time": "2023-04-14T10:45:21.328Z"
   },
   {
    "duration": 8,
    "start_time": "2023-04-14T10:45:24.926Z"
   },
   {
    "duration": 1229,
    "start_time": "2023-04-14T10:45:24.936Z"
   },
   {
    "duration": 737,
    "start_time": "2023-04-14T10:45:26.167Z"
   },
   {
    "duration": 10,
    "start_time": "2023-04-14T10:45:26.912Z"
   },
   {
    "duration": 1245,
    "start_time": "2023-04-14T10:45:26.924Z"
   },
   {
    "duration": 5,
    "start_time": "2023-04-14T10:45:28.171Z"
   },
   {
    "duration": 9,
    "start_time": "2023-04-14T10:45:28.178Z"
   },
   {
    "duration": 7,
    "start_time": "2023-04-14T10:45:28.202Z"
   },
   {
    "duration": 5,
    "start_time": "2023-04-14T10:45:28.213Z"
   },
   {
    "duration": 7,
    "start_time": "2023-04-14T10:45:28.221Z"
   },
   {
    "duration": 8,
    "start_time": "2023-04-14T10:45:28.230Z"
   },
   {
    "duration": 24,
    "start_time": "2023-04-14T10:45:28.242Z"
   },
   {
    "duration": 35,
    "start_time": "2023-04-14T10:45:28.268Z"
   },
   {
    "duration": 116376,
    "start_time": "2023-04-14T10:45:28.306Z"
   },
   {
    "duration": 106266,
    "start_time": "2023-04-14T10:47:24.684Z"
   },
   {
    "duration": 75,
    "start_time": "2023-04-14T10:49:10.952Z"
   },
   {
    "duration": 8,
    "start_time": "2023-04-14T10:49:11.030Z"
   },
   {
    "duration": 11,
    "start_time": "2023-04-16T08:58:45.460Z"
   },
   {
    "duration": 44,
    "start_time": "2023-04-16T08:58:48.239Z"
   },
   {
    "duration": 1526,
    "start_time": "2023-04-16T08:58:55.048Z"
   },
   {
    "duration": 3,
    "start_time": "2023-04-16T08:58:56.576Z"
   },
   {
    "duration": 3309,
    "start_time": "2023-04-16T08:58:56.581Z"
   },
   {
    "duration": 4,
    "start_time": "2023-04-16T08:58:59.892Z"
   },
   {
    "duration": 52,
    "start_time": "2023-04-16T08:58:59.897Z"
   },
   {
    "duration": 12,
    "start_time": "2023-04-16T08:58:59.950Z"
   },
   {
    "duration": 15,
    "start_time": "2023-04-16T08:58:59.963Z"
   },
   {
    "duration": 16,
    "start_time": "2023-04-16T08:58:59.980Z"
   },
   {
    "duration": 53,
    "start_time": "2023-04-16T08:58:59.997Z"
   },
   {
    "duration": 10,
    "start_time": "2023-04-16T08:59:00.053Z"
   },
   {
    "duration": 86,
    "start_time": "2023-04-16T08:59:00.064Z"
   },
   {
    "duration": 18,
    "start_time": "2023-04-16T08:59:00.152Z"
   },
   {
    "duration": 49,
    "start_time": "2023-04-16T08:59:00.171Z"
   },
   {
    "duration": 152,
    "start_time": "2023-04-16T08:59:00.222Z"
   },
   {
    "duration": 6,
    "start_time": "2023-04-16T08:59:00.375Z"
   },
   {
    "duration": 3310,
    "start_time": "2023-04-16T08:59:00.382Z"
   },
   {
    "duration": 6,
    "start_time": "2023-04-16T08:59:03.693Z"
   },
   {
    "duration": 724,
    "start_time": "2023-04-16T08:59:03.700Z"
   },
   {
    "duration": 947,
    "start_time": "2023-04-16T08:59:04.425Z"
   },
   {
    "duration": 5,
    "start_time": "2023-04-16T08:59:05.373Z"
   },
   {
    "duration": 827,
    "start_time": "2023-04-16T08:59:05.380Z"
   },
   {
    "duration": 3,
    "start_time": "2023-04-16T08:59:06.209Z"
   },
   {
    "duration": 22,
    "start_time": "2023-04-16T08:59:06.214Z"
   },
   {
    "duration": 20,
    "start_time": "2023-04-16T08:59:06.238Z"
   },
   {
    "duration": 9,
    "start_time": "2023-04-16T08:59:06.259Z"
   },
   {
    "duration": 10,
    "start_time": "2023-04-16T08:59:06.270Z"
   },
   {
    "duration": 10,
    "start_time": "2023-04-16T08:59:06.282Z"
   },
   {
    "duration": 18,
    "start_time": "2023-04-16T08:59:06.295Z"
   },
   {
    "duration": 6,
    "start_time": "2023-04-16T08:59:06.314Z"
   },
   {
    "duration": 108573,
    "start_time": "2023-04-16T08:59:06.322Z"
   },
   {
    "duration": 0,
    "start_time": "2023-04-16T09:00:54.897Z"
   },
   {
    "duration": 0,
    "start_time": "2023-04-16T09:00:54.899Z"
   },
   {
    "duration": 0,
    "start_time": "2023-04-16T09:00:54.900Z"
   },
   {
    "duration": 0,
    "start_time": "2023-04-16T09:00:54.902Z"
   },
   {
    "duration": 309,
    "start_time": "2023-04-16T09:01:00.169Z"
   },
   {
    "duration": 220,
    "start_time": "2023-04-16T09:01:33.512Z"
   },
   {
    "duration": 214,
    "start_time": "2023-04-16T09:02:46.035Z"
   },
   {
    "duration": 11,
    "start_time": "2023-04-16T09:05:08.913Z"
   },
   {
    "duration": 13,
    "start_time": "2023-04-16T09:05:18.232Z"
   },
   {
    "duration": 25,
    "start_time": "2023-04-16T09:05:28.610Z"
   },
   {
    "duration": 5,
    "start_time": "2023-04-16T09:07:50.258Z"
   },
   {
    "duration": 1168,
    "start_time": "2023-04-16T09:07:53.877Z"
   },
   {
    "duration": 6,
    "start_time": "2023-04-16T09:09:54.209Z"
   },
   {
    "duration": 743,
    "start_time": "2023-04-16T09:09:56.982Z"
   },
   {
    "duration": 227,
    "start_time": "2023-04-16T09:18:03.828Z"
   },
   {
    "duration": 205,
    "start_time": "2023-04-16T09:22:02.940Z"
   },
   {
    "duration": 493,
    "start_time": "2023-04-16T09:22:16.597Z"
   },
   {
    "duration": 687,
    "start_time": "2023-04-16T09:23:28.618Z"
   },
   {
    "duration": 782,
    "start_time": "2023-04-16T09:23:35.715Z"
   },
   {
    "duration": 5,
    "start_time": "2023-04-16T09:27:59.515Z"
   },
   {
    "duration": 797,
    "start_time": "2023-04-16T09:28:03.177Z"
   },
   {
    "duration": 5,
    "start_time": "2023-04-16T09:30:55.107Z"
   },
   {
    "duration": 837,
    "start_time": "2023-04-16T09:30:58.335Z"
   },
   {
    "duration": 6,
    "start_time": "2023-04-16T09:33:33.968Z"
   },
   {
    "duration": 840,
    "start_time": "2023-04-16T09:33:36.321Z"
   },
   {
    "duration": 1168,
    "start_time": "2023-04-16T09:36:49.723Z"
   },
   {
    "duration": 1173,
    "start_time": "2023-04-16T09:37:35.701Z"
   },
   {
    "duration": 6,
    "start_time": "2023-04-16T09:43:42.765Z"
   },
   {
    "duration": 817,
    "start_time": "2023-04-16T09:43:49.457Z"
   },
   {
    "duration": 45,
    "start_time": "2023-04-16T09:44:47.412Z"
   },
   {
    "duration": 28,
    "start_time": "2023-04-16T09:45:25.695Z"
   },
   {
    "duration": 24,
    "start_time": "2023-04-16T09:45:40.662Z"
   },
   {
    "duration": 9,
    "start_time": "2023-04-16T09:45:55.534Z"
   },
   {
    "duration": 10,
    "start_time": "2023-04-16T09:46:36.217Z"
   },
   {
    "duration": 37,
    "start_time": "2023-04-16T09:46:39.209Z"
   },
   {
    "duration": 21,
    "start_time": "2023-04-16T09:47:30.866Z"
   },
   {
    "duration": 3324,
    "start_time": "2023-04-16T10:03:26.038Z"
   },
   {
    "duration": 1451,
    "start_time": "2023-04-16T10:03:48.076Z"
   },
   {
    "duration": 2,
    "start_time": "2023-04-16T10:03:49.529Z"
   },
   {
    "duration": 852,
    "start_time": "2023-04-16T10:03:49.533Z"
   },
   {
    "duration": 5,
    "start_time": "2023-04-16T10:03:50.387Z"
   },
   {
    "duration": 29,
    "start_time": "2023-04-16T10:03:50.394Z"
   },
   {
    "duration": 21,
    "start_time": "2023-04-16T10:03:50.424Z"
   },
   {
    "duration": 16,
    "start_time": "2023-04-16T10:03:50.447Z"
   },
   {
    "duration": 7,
    "start_time": "2023-04-16T10:03:50.464Z"
   },
   {
    "duration": 11,
    "start_time": "2023-04-16T10:03:50.472Z"
   },
   {
    "duration": 19,
    "start_time": "2023-04-16T10:03:50.484Z"
   },
   {
    "duration": 54,
    "start_time": "2023-04-16T10:03:50.504Z"
   },
   {
    "duration": 34,
    "start_time": "2023-04-16T10:03:50.560Z"
   },
   {
    "duration": 24,
    "start_time": "2023-04-16T10:03:50.596Z"
   },
   {
    "duration": 166,
    "start_time": "2023-04-16T10:03:50.623Z"
   },
   {
    "duration": 62,
    "start_time": "2023-04-16T10:03:50.791Z"
   },
   {
    "duration": 4676,
    "start_time": "2023-04-16T10:03:50.855Z"
   },
   {
    "duration": 8,
    "start_time": "2023-04-16T10:03:55.534Z"
   },
   {
    "duration": 969,
    "start_time": "2023-04-16T10:03:55.544Z"
   },
   {
    "duration": 594,
    "start_time": "2023-04-16T10:03:56.515Z"
   },
   {
    "duration": 7,
    "start_time": "2023-04-16T10:03:57.111Z"
   },
   {
    "duration": 1277,
    "start_time": "2023-04-16T10:03:57.119Z"
   },
   {
    "duration": 26,
    "start_time": "2023-04-16T10:03:58.398Z"
   },
   {
    "duration": 28,
    "start_time": "2023-04-16T10:03:58.426Z"
   },
   {
    "duration": 31,
    "start_time": "2023-04-16T10:03:58.455Z"
   },
   {
    "duration": 11,
    "start_time": "2023-04-16T10:03:58.488Z"
   },
   {
    "duration": 14,
    "start_time": "2023-04-16T10:03:58.501Z"
   },
   {
    "duration": 12,
    "start_time": "2023-04-16T10:03:58.516Z"
   },
   {
    "duration": 22,
    "start_time": "2023-04-16T10:03:58.529Z"
   },
   {
    "duration": 21,
    "start_time": "2023-04-16T10:03:58.552Z"
   },
   {
    "duration": 8,
    "start_time": "2023-04-16T10:03:58.575Z"
   },
   {
    "duration": 3889,
    "start_time": "2023-04-16T10:03:58.585Z"
   },
   {
    "duration": 7750,
    "start_time": "2023-04-16T10:04:02.476Z"
   },
   {
    "duration": 72,
    "start_time": "2023-04-16T10:04:10.228Z"
   },
   {
    "duration": 1564,
    "start_time": "2023-04-16T10:04:10.302Z"
   },
   {
    "duration": 1410,
    "start_time": "2023-04-16T10:16:12.302Z"
   },
   {
    "duration": 3,
    "start_time": "2023-04-16T10:16:13.714Z"
   },
   {
    "duration": 821,
    "start_time": "2023-04-16T10:16:13.718Z"
   },
   {
    "duration": 13,
    "start_time": "2023-04-16T10:16:14.541Z"
   },
   {
    "duration": 24,
    "start_time": "2023-04-16T10:16:14.557Z"
   },
   {
    "duration": 15,
    "start_time": "2023-04-16T10:16:14.583Z"
   },
   {
    "duration": 20,
    "start_time": "2023-04-16T10:16:14.601Z"
   },
   {
    "duration": 41,
    "start_time": "2023-04-16T10:16:14.623Z"
   },
   {
    "duration": 29,
    "start_time": "2023-04-16T10:16:14.666Z"
   },
   {
    "duration": 16,
    "start_time": "2023-04-16T10:16:14.697Z"
   },
   {
    "duration": 36,
    "start_time": "2023-04-16T10:16:14.714Z"
   },
   {
    "duration": 16,
    "start_time": "2023-04-16T10:16:14.752Z"
   },
   {
    "duration": 22,
    "start_time": "2023-04-16T10:16:14.769Z"
   },
   {
    "duration": 137,
    "start_time": "2023-04-16T10:16:14.794Z"
   },
   {
    "duration": 16,
    "start_time": "2023-04-16T10:16:14.933Z"
   },
   {
    "duration": 1020,
    "start_time": "2023-04-16T10:16:14.950Z"
   },
   {
    "duration": 566,
    "start_time": "2023-04-16T10:16:15.971Z"
   },
   {
    "duration": 6,
    "start_time": "2023-04-16T10:16:16.538Z"
   },
   {
    "duration": 3315,
    "start_time": "2023-04-16T10:16:16.545Z"
   },
   {
    "duration": 5,
    "start_time": "2023-04-16T10:16:19.862Z"
   },
   {
    "duration": 1284,
    "start_time": "2023-04-16T10:16:19.869Z"
   },
   {
    "duration": 4,
    "start_time": "2023-04-16T10:16:21.154Z"
   },
   {
    "duration": 14,
    "start_time": "2023-04-16T10:16:21.160Z"
   },
   {
    "duration": 17,
    "start_time": "2023-04-16T10:16:21.175Z"
   },
   {
    "duration": 14,
    "start_time": "2023-04-16T10:16:21.194Z"
   },
   {
    "duration": 16,
    "start_time": "2023-04-16T10:16:21.210Z"
   },
   {
    "duration": 13,
    "start_time": "2023-04-16T10:16:21.227Z"
   },
   {
    "duration": 26,
    "start_time": "2023-04-16T10:16:21.242Z"
   },
   {
    "duration": 8,
    "start_time": "2023-04-16T10:16:21.270Z"
   },
   {
    "duration": 4075,
    "start_time": "2023-04-16T10:16:21.279Z"
   },
   {
    "duration": 8518,
    "start_time": "2023-04-16T10:16:25.356Z"
   },
   {
    "duration": 55,
    "start_time": "2023-04-16T10:16:33.876Z"
   },
   {
    "duration": 1326,
    "start_time": "2023-04-16T10:16:33.933Z"
   },
   {
    "duration": 3,
    "start_time": "2023-04-16T10:36:59.439Z"
   },
   {
    "duration": 9,
    "start_time": "2023-04-16T16:41:23.922Z"
   },
   {
    "duration": 51,
    "start_time": "2023-04-16T16:53:18.834Z"
   },
   {
    "duration": 7,
    "start_time": "2023-04-16T16:53:29.835Z"
   },
   {
    "duration": 7,
    "start_time": "2023-04-16T16:53:40.386Z"
   },
   {
    "duration": 1479,
    "start_time": "2023-04-16T16:53:49.339Z"
   },
   {
    "duration": 3,
    "start_time": "2023-04-16T16:53:50.820Z"
   },
   {
    "duration": 3317,
    "start_time": "2023-04-16T16:53:50.825Z"
   },
   {
    "duration": 4,
    "start_time": "2023-04-16T16:53:54.144Z"
   },
   {
    "duration": 5,
    "start_time": "2023-04-16T16:53:54.149Z"
   },
   {
    "duration": 9,
    "start_time": "2023-04-16T16:53:54.156Z"
   },
   {
    "duration": 20,
    "start_time": "2023-04-16T16:53:54.166Z"
   },
   {
    "duration": 7,
    "start_time": "2023-04-16T16:53:54.188Z"
   },
   {
    "duration": 4,
    "start_time": "2023-04-16T16:53:54.196Z"
   },
   {
    "duration": 15,
    "start_time": "2023-04-16T16:53:54.202Z"
   },
   {
    "duration": 24,
    "start_time": "2023-04-16T16:53:54.218Z"
   },
   {
    "duration": 14,
    "start_time": "2023-04-16T16:53:54.244Z"
   },
   {
    "duration": 24,
    "start_time": "2023-04-16T16:53:54.260Z"
   },
   {
    "duration": 137,
    "start_time": "2023-04-16T16:53:54.286Z"
   },
   {
    "duration": 5,
    "start_time": "2023-04-16T16:53:54.424Z"
   },
   {
    "duration": 1077,
    "start_time": "2023-04-16T16:53:54.431Z"
   },
   {
    "duration": 1164,
    "start_time": "2023-04-16T16:53:55.509Z"
   },
   {
    "duration": 16,
    "start_time": "2023-04-16T16:53:56.675Z"
   },
   {
    "duration": 3248,
    "start_time": "2023-04-16T16:53:56.693Z"
   },
   {
    "duration": 5,
    "start_time": "2023-04-16T16:53:59.943Z"
   },
   {
    "duration": 1181,
    "start_time": "2023-04-16T16:53:59.950Z"
   },
   {
    "duration": 3,
    "start_time": "2023-04-16T16:54:01.133Z"
   },
   {
    "duration": 71,
    "start_time": "2023-04-16T16:54:01.138Z"
   },
   {
    "duration": 27,
    "start_time": "2023-04-16T16:54:01.211Z"
   },
   {
    "duration": 71,
    "start_time": "2023-04-16T16:54:01.239Z"
   },
   {
    "duration": 38,
    "start_time": "2023-04-16T16:54:01.312Z"
   },
   {
    "duration": 64,
    "start_time": "2023-04-16T16:54:01.352Z"
   },
   {
    "duration": 41,
    "start_time": "2023-04-16T16:54:01.420Z"
   },
   {
    "duration": 53,
    "start_time": "2023-04-16T16:54:01.463Z"
   },
   {
    "duration": 53,
    "start_time": "2023-04-16T16:54:01.518Z"
   },
   {
    "duration": 4029,
    "start_time": "2023-04-16T16:54:01.590Z"
   },
   {
    "duration": 8731,
    "start_time": "2023-04-16T16:54:05.621Z"
   },
   {
    "duration": 113,
    "start_time": "2023-04-16T16:54:14.354Z"
   },
   {
    "duration": 0,
    "start_time": "2023-04-16T16:54:14.472Z"
   },
   {
    "duration": 0,
    "start_time": "2023-04-16T16:54:14.472Z"
   },
   {
    "duration": 6,
    "start_time": "2023-04-16T16:56:29.342Z"
   },
   {
    "duration": 13,
    "start_time": "2023-04-16T17:00:35.943Z"
   },
   {
    "duration": 6,
    "start_time": "2023-04-16T18:09:06.624Z"
   },
   {
    "duration": 7,
    "start_time": "2023-04-16T18:19:27.229Z"
   },
   {
    "duration": 8,
    "start_time": "2023-04-16T18:25:58.714Z"
   },
   {
    "duration": 1129,
    "start_time": "2023-04-16T18:26:18.844Z"
   },
   {
    "duration": 10,
    "start_time": "2023-04-16T18:26:39.045Z"
   },
   {
    "duration": 14093,
    "start_time": "2023-04-16T18:26:42.322Z"
   },
   {
    "duration": 78,
    "start_time": "2023-04-16T18:27:01.642Z"
   },
   {
    "duration": 4,
    "start_time": "2023-04-16T18:27:31.362Z"
   },
   {
    "duration": 7,
    "start_time": "2023-04-16T18:27:46.128Z"
   },
   {
    "duration": 12579,
    "start_time": "2023-04-16T18:27:50.539Z"
   },
   {
    "duration": 12,
    "start_time": "2023-04-16T18:28:05.528Z"
   },
   {
    "duration": 17,
    "start_time": "2023-04-16T18:28:08.460Z"
   },
   {
    "duration": 399,
    "start_time": "2023-04-16T18:43:52.145Z"
   },
   {
    "duration": 1365,
    "start_time": "2023-04-16T18:44:24.589Z"
   },
   {
    "duration": 3,
    "start_time": "2023-04-16T18:44:25.955Z"
   },
   {
    "duration": 860,
    "start_time": "2023-04-16T18:44:25.960Z"
   },
   {
    "duration": 4,
    "start_time": "2023-04-16T18:44:26.821Z"
   },
   {
    "duration": 53,
    "start_time": "2023-04-16T18:44:26.828Z"
   },
   {
    "duration": 4,
    "start_time": "2023-04-16T18:44:26.883Z"
   },
   {
    "duration": 19,
    "start_time": "2023-04-16T18:44:26.888Z"
   },
   {
    "duration": 6,
    "start_time": "2023-04-16T18:44:26.909Z"
   },
   {
    "duration": 15,
    "start_time": "2023-04-16T18:44:26.917Z"
   },
   {
    "duration": 7,
    "start_time": "2023-04-16T18:44:26.981Z"
   },
   {
    "duration": 39,
    "start_time": "2023-04-16T18:44:26.990Z"
   },
   {
    "duration": 18,
    "start_time": "2023-04-16T18:44:27.082Z"
   },
   {
    "duration": 17,
    "start_time": "2023-04-16T18:44:27.102Z"
   },
   {
    "duration": 278,
    "start_time": "2023-04-16T18:44:27.122Z"
   },
   {
    "duration": 5,
    "start_time": "2023-04-16T18:44:27.402Z"
   },
   {
    "duration": 1395,
    "start_time": "2023-04-16T18:44:27.409Z"
   },
   {
    "duration": 546,
    "start_time": "2023-04-16T18:44:28.806Z"
   },
   {
    "duration": 5,
    "start_time": "2023-04-16T18:44:29.353Z"
   },
   {
    "duration": 3356,
    "start_time": "2023-04-16T18:44:29.359Z"
   },
   {
    "duration": 5,
    "start_time": "2023-04-16T18:44:32.717Z"
   },
   {
    "duration": 1300,
    "start_time": "2023-04-16T18:44:32.724Z"
   },
   {
    "duration": 499,
    "start_time": "2023-04-16T18:44:34.025Z"
   },
   {
    "duration": 0,
    "start_time": "2023-04-16T18:44:34.526Z"
   },
   {
    "duration": 0,
    "start_time": "2023-04-16T18:44:34.527Z"
   },
   {
    "duration": 0,
    "start_time": "2023-04-16T18:44:34.528Z"
   },
   {
    "duration": 0,
    "start_time": "2023-04-16T18:44:34.528Z"
   },
   {
    "duration": 0,
    "start_time": "2023-04-16T18:44:34.529Z"
   },
   {
    "duration": 0,
    "start_time": "2023-04-16T18:44:34.530Z"
   },
   {
    "duration": 0,
    "start_time": "2023-04-16T18:44:34.531Z"
   },
   {
    "duration": 0,
    "start_time": "2023-04-16T18:44:34.532Z"
   },
   {
    "duration": 0,
    "start_time": "2023-04-16T18:44:34.533Z"
   },
   {
    "duration": 0,
    "start_time": "2023-04-16T18:44:34.534Z"
   },
   {
    "duration": 0,
    "start_time": "2023-04-16T18:44:34.535Z"
   },
   {
    "duration": 0,
    "start_time": "2023-04-16T18:44:34.536Z"
   },
   {
    "duration": 0,
    "start_time": "2023-04-16T18:44:34.537Z"
   },
   {
    "duration": 0,
    "start_time": "2023-04-16T18:44:34.538Z"
   },
   {
    "duration": 0,
    "start_time": "2023-04-16T18:44:34.538Z"
   },
   {
    "duration": 0,
    "start_time": "2023-04-16T18:44:34.540Z"
   },
   {
    "duration": 0,
    "start_time": "2023-04-16T18:44:34.541Z"
   },
   {
    "duration": 5,
    "start_time": "2023-04-16T18:45:07.249Z"
   },
   {
    "duration": 15,
    "start_time": "2023-04-16T18:47:16.569Z"
   },
   {
    "duration": 9,
    "start_time": "2023-04-16T18:47:56.087Z"
   },
   {
    "duration": 8,
    "start_time": "2023-04-16T18:48:06.789Z"
   },
   {
    "duration": 7,
    "start_time": "2023-04-16T18:48:21.593Z"
   },
   {
    "duration": 91,
    "start_time": "2023-04-16T18:51:57.051Z"
   },
   {
    "duration": 24,
    "start_time": "2023-04-16T18:52:02.771Z"
   },
   {
    "duration": 18,
    "start_time": "2023-04-16T18:52:40.636Z"
   },
   {
    "duration": 15,
    "start_time": "2023-04-16T18:53:06.650Z"
   },
   {
    "duration": 16,
    "start_time": "2023-04-16T18:53:23.287Z"
   },
   {
    "duration": 20,
    "start_time": "2023-04-16T18:53:40.633Z"
   },
   {
    "duration": 20,
    "start_time": "2023-04-16T18:55:24.144Z"
   },
   {
    "duration": 29,
    "start_time": "2023-04-16T18:55:38.432Z"
   },
   {
    "duration": 15,
    "start_time": "2023-04-16T18:56:23.220Z"
   },
   {
    "duration": 651,
    "start_time": "2023-04-16T18:57:05.852Z"
   },
   {
    "duration": 681,
    "start_time": "2023-04-16T18:58:03.140Z"
   },
   {
    "duration": 1833,
    "start_time": "2023-04-16T18:59:47.931Z"
   },
   {
    "duration": 5,
    "start_time": "2023-04-16T19:00:07.259Z"
   },
   {
    "duration": 2004,
    "start_time": "2023-04-16T19:00:11.564Z"
   },
   {
    "duration": 1658,
    "start_time": "2023-04-16T19:00:44.571Z"
   },
   {
    "duration": 93,
    "start_time": "2023-04-16T19:01:03.827Z"
   },
   {
    "duration": 161,
    "start_time": "2023-04-16T19:01:55.163Z"
   },
   {
    "duration": 43,
    "start_time": "2023-04-16T19:02:01.423Z"
   },
   {
    "duration": 663,
    "start_time": "2023-04-16T19:02:53.241Z"
   },
   {
    "duration": 60,
    "start_time": "2023-04-16T19:04:05.647Z"
   },
   {
    "duration": 1187,
    "start_time": "2023-04-16T19:07:20.042Z"
   },
   {
    "duration": 1495,
    "start_time": "2023-04-16T19:08:25.788Z"
   },
   {
    "duration": 4,
    "start_time": "2023-04-16T19:08:27.286Z"
   },
   {
    "duration": 857,
    "start_time": "2023-04-16T19:08:27.292Z"
   },
   {
    "duration": 4,
    "start_time": "2023-04-16T19:08:28.151Z"
   },
   {
    "duration": 6,
    "start_time": "2023-04-16T19:08:28.157Z"
   },
   {
    "duration": 4,
    "start_time": "2023-04-16T19:08:28.179Z"
   },
   {
    "duration": 10,
    "start_time": "2023-04-16T19:08:28.186Z"
   },
   {
    "duration": 10,
    "start_time": "2023-04-16T19:08:28.197Z"
   },
   {
    "duration": 6,
    "start_time": "2023-04-16T19:08:28.208Z"
   },
   {
    "duration": 6,
    "start_time": "2023-04-16T19:08:28.215Z"
   },
   {
    "duration": 26,
    "start_time": "2023-04-16T19:08:28.222Z"
   },
   {
    "duration": 42,
    "start_time": "2023-04-16T19:08:28.249Z"
   },
   {
    "duration": 10,
    "start_time": "2023-04-16T19:08:28.292Z"
   },
   {
    "duration": 124,
    "start_time": "2023-04-16T19:08:28.305Z"
   },
   {
    "duration": 4,
    "start_time": "2023-04-16T19:08:28.431Z"
   },
   {
    "duration": 996,
    "start_time": "2023-04-16T19:08:28.437Z"
   },
   {
    "duration": 547,
    "start_time": "2023-04-16T19:08:29.434Z"
   },
   {
    "duration": 5,
    "start_time": "2023-04-16T19:08:29.982Z"
   },
   {
    "duration": 4193,
    "start_time": "2023-04-16T19:08:29.989Z"
   },
   {
    "duration": 6,
    "start_time": "2023-04-16T19:08:34.184Z"
   },
   {
    "duration": 1236,
    "start_time": "2023-04-16T19:08:34.192Z"
   },
   {
    "duration": 1197,
    "start_time": "2023-04-16T19:08:35.429Z"
   },
   {
    "duration": 3,
    "start_time": "2023-04-16T19:08:36.627Z"
   },
   {
    "duration": 14,
    "start_time": "2023-04-16T19:08:36.632Z"
   },
   {
    "duration": 9,
    "start_time": "2023-04-16T19:08:36.648Z"
   },
   {
    "duration": 7,
    "start_time": "2023-04-16T19:08:36.659Z"
   },
   {
    "duration": 22,
    "start_time": "2023-04-16T19:08:36.668Z"
   },
   {
    "duration": 8,
    "start_time": "2023-04-16T19:08:36.692Z"
   },
   {
    "duration": 6,
    "start_time": "2023-04-16T19:08:36.702Z"
   },
   {
    "duration": 19,
    "start_time": "2023-04-16T19:08:36.709Z"
   },
   {
    "duration": 7,
    "start_time": "2023-04-16T19:08:36.730Z"
   },
   {
    "duration": 12475,
    "start_time": "2023-04-16T19:08:36.739Z"
   },
   {
    "duration": 42,
    "start_time": "2023-04-16T19:08:49.215Z"
   },
   {
    "duration": 25,
    "start_time": "2023-04-16T19:08:49.258Z"
   },
   {
    "duration": 126,
    "start_time": "2023-04-16T19:08:49.285Z"
   },
   {
    "duration": 0,
    "start_time": "2023-04-16T19:08:49.412Z"
   },
   {
    "duration": 0,
    "start_time": "2023-04-16T19:08:49.413Z"
   },
   {
    "duration": 0,
    "start_time": "2023-04-16T19:08:49.414Z"
   },
   {
    "duration": 0,
    "start_time": "2023-04-16T19:08:49.415Z"
   },
   {
    "duration": 10,
    "start_time": "2023-04-16T19:10:19.526Z"
   },
   {
    "duration": 25,
    "start_time": "2023-04-16T19:10:42.741Z"
   },
   {
    "duration": 12519,
    "start_time": "2023-04-16T19:13:37.386Z"
   },
   {
    "duration": 104,
    "start_time": "2023-04-16T19:15:53.928Z"
   },
   {
    "duration": 10938,
    "start_time": "2023-04-16T19:17:26.028Z"
   },
   {
    "duration": 1411,
    "start_time": "2023-04-16T19:17:41.328Z"
   },
   {
    "duration": 2,
    "start_time": "2023-04-16T19:17:42.741Z"
   },
   {
    "duration": 765,
    "start_time": "2023-04-16T19:17:42.744Z"
   },
   {
    "duration": 5,
    "start_time": "2023-04-16T19:17:43.510Z"
   },
   {
    "duration": 10,
    "start_time": "2023-04-16T19:17:43.516Z"
   },
   {
    "duration": 7,
    "start_time": "2023-04-16T19:17:43.527Z"
   },
   {
    "duration": 8,
    "start_time": "2023-04-16T19:17:43.536Z"
   },
   {
    "duration": 6,
    "start_time": "2023-04-16T19:17:43.546Z"
   },
   {
    "duration": 31,
    "start_time": "2023-04-16T19:17:43.554Z"
   },
   {
    "duration": 5,
    "start_time": "2023-04-16T19:17:43.586Z"
   },
   {
    "duration": 27,
    "start_time": "2023-04-16T19:17:43.592Z"
   },
   {
    "duration": 15,
    "start_time": "2023-04-16T19:17:43.620Z"
   },
   {
    "duration": 9,
    "start_time": "2023-04-16T19:17:43.636Z"
   },
   {
    "duration": 135,
    "start_time": "2023-04-16T19:17:43.648Z"
   },
   {
    "duration": 6,
    "start_time": "2023-04-16T19:17:43.785Z"
   },
   {
    "duration": 833,
    "start_time": "2023-04-16T19:17:43.792Z"
   },
   {
    "duration": 485,
    "start_time": "2023-04-16T19:17:44.626Z"
   },
   {
    "duration": 5,
    "start_time": "2023-04-16T19:17:45.113Z"
   },
   {
    "duration": 4054,
    "start_time": "2023-04-16T19:17:45.119Z"
   },
   {
    "duration": 9,
    "start_time": "2023-04-16T19:17:49.182Z"
   },
   {
    "duration": 1314,
    "start_time": "2023-04-16T19:17:49.192Z"
   },
   {
    "duration": 5030,
    "start_time": "2023-04-16T19:17:50.507Z"
   },
   {
    "duration": 1,
    "start_time": "2023-04-16T19:17:55.538Z"
   },
   {
    "duration": 0,
    "start_time": "2023-04-16T19:17:55.540Z"
   },
   {
    "duration": 0,
    "start_time": "2023-04-16T19:17:55.541Z"
   },
   {
    "duration": 0,
    "start_time": "2023-04-16T19:17:55.542Z"
   },
   {
    "duration": 0,
    "start_time": "2023-04-16T19:17:55.544Z"
   },
   {
    "duration": 0,
    "start_time": "2023-04-16T19:17:55.545Z"
   },
   {
    "duration": 0,
    "start_time": "2023-04-16T19:17:55.546Z"
   },
   {
    "duration": 0,
    "start_time": "2023-04-16T19:17:55.548Z"
   },
   {
    "duration": 0,
    "start_time": "2023-04-16T19:17:55.550Z"
   },
   {
    "duration": 0,
    "start_time": "2023-04-16T19:17:55.574Z"
   },
   {
    "duration": 0,
    "start_time": "2023-04-16T19:17:55.574Z"
   },
   {
    "duration": 0,
    "start_time": "2023-04-16T19:17:55.575Z"
   },
   {
    "duration": 0,
    "start_time": "2023-04-16T19:17:55.576Z"
   },
   {
    "duration": 0,
    "start_time": "2023-04-16T19:17:55.576Z"
   },
   {
    "duration": 0,
    "start_time": "2023-04-16T19:17:55.577Z"
   },
   {
    "duration": 0,
    "start_time": "2023-04-16T19:17:55.578Z"
   },
   {
    "duration": 0,
    "start_time": "2023-04-16T19:17:55.578Z"
   },
   {
    "duration": 0,
    "start_time": "2023-04-16T19:17:55.579Z"
   },
   {
    "duration": 0,
    "start_time": "2023-04-16T19:17:55.579Z"
   },
   {
    "duration": 2255,
    "start_time": "2023-04-17T05:51:42.842Z"
   },
   {
    "duration": 5,
    "start_time": "2023-04-17T05:51:45.100Z"
   },
   {
    "duration": 4464,
    "start_time": "2023-04-17T05:51:45.107Z"
   },
   {
    "duration": 7,
    "start_time": "2023-04-17T05:51:49.578Z"
   },
   {
    "duration": 49,
    "start_time": "2023-04-17T05:51:49.587Z"
   },
   {
    "duration": 17,
    "start_time": "2023-04-17T05:51:49.640Z"
   },
   {
    "duration": 24,
    "start_time": "2023-04-17T05:51:49.660Z"
   },
   {
    "duration": 18,
    "start_time": "2023-04-17T05:51:49.686Z"
   },
   {
    "duration": 19,
    "start_time": "2023-04-17T05:51:49.707Z"
   },
   {
    "duration": 16,
    "start_time": "2023-04-17T05:51:49.729Z"
   },
   {
    "duration": 52,
    "start_time": "2023-04-17T05:51:49.748Z"
   },
   {
    "duration": 25,
    "start_time": "2023-04-17T05:51:49.802Z"
   },
   {
    "duration": 28,
    "start_time": "2023-04-17T05:51:49.829Z"
   },
   {
    "duration": 193,
    "start_time": "2023-04-17T05:51:49.863Z"
   },
   {
    "duration": 8,
    "start_time": "2023-04-17T05:51:50.058Z"
   },
   {
    "duration": 1046,
    "start_time": "2023-04-17T05:51:50.068Z"
   },
   {
    "duration": 864,
    "start_time": "2023-04-17T05:51:51.116Z"
   },
   {
    "duration": 7,
    "start_time": "2023-04-17T05:51:51.986Z"
   },
   {
    "duration": 6270,
    "start_time": "2023-04-17T05:51:51.995Z"
   },
   {
    "duration": 8,
    "start_time": "2023-04-17T05:51:58.283Z"
   },
   {
    "duration": 2686,
    "start_time": "2023-04-17T05:51:58.293Z"
   },
   {
    "duration": 11,
    "start_time": "2023-04-17T05:52:00.981Z"
   },
   {
    "duration": 8014,
    "start_time": "2023-04-17T05:52:00.994Z"
   },
   {
    "duration": 0,
    "start_time": "2023-04-17T05:52:09.012Z"
   },
   {
    "duration": 0,
    "start_time": "2023-04-17T05:52:09.013Z"
   },
   {
    "duration": 0,
    "start_time": "2023-04-17T05:52:09.014Z"
   },
   {
    "duration": 0,
    "start_time": "2023-04-17T05:52:09.016Z"
   },
   {
    "duration": 0,
    "start_time": "2023-04-17T05:52:09.017Z"
   },
   {
    "duration": 0,
    "start_time": "2023-04-17T05:52:09.019Z"
   },
   {
    "duration": 0,
    "start_time": "2023-04-17T05:52:09.020Z"
   },
   {
    "duration": 0,
    "start_time": "2023-04-17T05:52:09.036Z"
   },
   {
    "duration": 0,
    "start_time": "2023-04-17T05:52:09.038Z"
   },
   {
    "duration": 0,
    "start_time": "2023-04-17T05:52:09.040Z"
   },
   {
    "duration": 0,
    "start_time": "2023-04-17T05:52:09.042Z"
   },
   {
    "duration": 0,
    "start_time": "2023-04-17T05:52:09.043Z"
   },
   {
    "duration": 0,
    "start_time": "2023-04-17T05:52:09.045Z"
   },
   {
    "duration": 0,
    "start_time": "2023-04-17T05:52:09.047Z"
   },
   {
    "duration": 0,
    "start_time": "2023-04-17T05:52:09.049Z"
   },
   {
    "duration": 0,
    "start_time": "2023-04-17T05:52:09.051Z"
   },
   {
    "duration": 0,
    "start_time": "2023-04-17T05:52:09.053Z"
   },
   {
    "duration": 0,
    "start_time": "2023-04-17T05:52:09.059Z"
   },
   {
    "duration": 0,
    "start_time": "2023-04-17T05:52:09.061Z"
   },
   {
    "duration": 80,
    "start_time": "2023-04-17T05:54:54.713Z"
   },
   {
    "duration": 1209,
    "start_time": "2023-04-17T05:55:22.548Z"
   },
   {
    "duration": 18,
    "start_time": "2023-04-17T05:55:42.516Z"
   },
   {
    "duration": 9,
    "start_time": "2023-04-17T05:56:10.584Z"
   },
   {
    "duration": 11,
    "start_time": "2023-04-17T05:56:24.911Z"
   },
   {
    "duration": 10,
    "start_time": "2023-04-17T05:56:53.848Z"
   },
   {
    "duration": 15,
    "start_time": "2023-04-17T05:59:21.470Z"
   },
   {
    "duration": 13,
    "start_time": "2023-04-17T05:59:41.370Z"
   },
   {
    "duration": 14,
    "start_time": "2023-04-17T06:00:31.927Z"
   },
   {
    "duration": 7,
    "start_time": "2023-04-17T06:00:40.201Z"
   },
   {
    "duration": 7,
    "start_time": "2023-04-17T06:02:40.817Z"
   },
   {
    "duration": 8,
    "start_time": "2023-04-17T06:03:32.621Z"
   },
   {
    "duration": 8,
    "start_time": "2023-04-17T06:04:00.278Z"
   },
   {
    "duration": 8,
    "start_time": "2023-04-17T06:04:37.424Z"
   },
   {
    "duration": 8,
    "start_time": "2023-04-17T06:05:30.059Z"
   },
   {
    "duration": 9,
    "start_time": "2023-04-17T06:05:36.272Z"
   },
   {
    "duration": 9,
    "start_time": "2023-04-17T06:06:03.879Z"
   },
   {
    "duration": 9,
    "start_time": "2023-04-17T06:06:14.176Z"
   },
   {
    "duration": 8,
    "start_time": "2023-04-17T06:06:21.222Z"
   },
   {
    "duration": 9,
    "start_time": "2023-04-17T06:06:31.227Z"
   },
   {
    "duration": 8,
    "start_time": "2023-04-17T06:06:47.412Z"
   },
   {
    "duration": 8,
    "start_time": "2023-04-17T06:06:49.627Z"
   },
   {
    "duration": 9,
    "start_time": "2023-04-17T06:06:51.999Z"
   },
   {
    "duration": 10,
    "start_time": "2023-04-17T06:06:57.639Z"
   },
   {
    "duration": 16,
    "start_time": "2023-04-17T06:11:56.698Z"
   },
   {
    "duration": 8,
    "start_time": "2023-04-17T06:12:06.896Z"
   },
   {
    "duration": 22,
    "start_time": "2023-04-17T06:19:34.049Z"
   },
   {
    "duration": 10,
    "start_time": "2023-04-17T06:19:57.944Z"
   },
   {
    "duration": 9,
    "start_time": "2023-04-17T06:20:09.637Z"
   },
   {
    "duration": 7,
    "start_time": "2023-04-17T06:22:43.155Z"
   },
   {
    "duration": 20,
    "start_time": "2023-04-17T06:22:58.642Z"
   },
   {
    "duration": 32,
    "start_time": "2023-04-17T06:23:15.955Z"
   },
   {
    "duration": 3708,
    "start_time": "2023-04-17T06:23:32.743Z"
   },
   {
    "duration": 15,
    "start_time": "2023-04-17T06:24:11.526Z"
   },
   {
    "duration": 39,
    "start_time": "2023-04-17T06:25:22.734Z"
   },
   {
    "duration": 32,
    "start_time": "2023-04-17T06:25:29.248Z"
   },
   {
    "duration": 13,
    "start_time": "2023-04-17T06:25:33.745Z"
   },
   {
    "duration": 13,
    "start_time": "2023-04-17T06:25:35.701Z"
   },
   {
    "duration": 20,
    "start_time": "2023-04-17T06:25:55.337Z"
   },
   {
    "duration": 13,
    "start_time": "2023-04-17T06:25:59.802Z"
   },
   {
    "duration": 1720,
    "start_time": "2023-04-17T07:57:05.754Z"
   },
   {
    "duration": 4,
    "start_time": "2023-04-17T07:57:07.476Z"
   },
   {
    "duration": 933,
    "start_time": "2023-04-17T07:57:07.481Z"
   },
   {
    "duration": 5,
    "start_time": "2023-04-17T07:57:08.417Z"
   },
   {
    "duration": 7,
    "start_time": "2023-04-17T07:57:08.433Z"
   },
   {
    "duration": 18,
    "start_time": "2023-04-17T07:57:08.443Z"
   },
   {
    "duration": 16,
    "start_time": "2023-04-17T07:57:08.464Z"
   },
   {
    "duration": 10,
    "start_time": "2023-04-17T07:57:08.482Z"
   },
   {
    "duration": 39,
    "start_time": "2023-04-17T07:57:08.494Z"
   },
   {
    "duration": 4,
    "start_time": "2023-04-17T07:57:08.537Z"
   },
   {
    "duration": 50,
    "start_time": "2023-04-17T07:57:08.542Z"
   },
   {
    "duration": 21,
    "start_time": "2023-04-17T07:57:08.594Z"
   },
   {
    "duration": 19,
    "start_time": "2023-04-17T07:57:08.617Z"
   },
   {
    "duration": 144,
    "start_time": "2023-04-17T07:57:08.638Z"
   },
   {
    "duration": 6,
    "start_time": "2023-04-17T07:57:08.784Z"
   },
   {
    "duration": 1556,
    "start_time": "2023-04-17T07:57:08.791Z"
   },
   {
    "duration": 1617,
    "start_time": "2023-04-17T07:57:10.350Z"
   },
   {
    "duration": 8,
    "start_time": "2023-04-17T07:57:11.970Z"
   },
   {
    "duration": 4315,
    "start_time": "2023-04-17T07:57:12.035Z"
   },
   {
    "duration": 6,
    "start_time": "2023-04-17T07:57:16.352Z"
   },
   {
    "duration": 1800,
    "start_time": "2023-04-17T07:57:16.359Z"
   },
   {
    "duration": 14,
    "start_time": "2023-04-17T07:57:18.161Z"
   },
   {
    "duration": 52,
    "start_time": "2023-04-17T07:57:18.178Z"
   },
   {
    "duration": 30,
    "start_time": "2023-04-17T07:57:18.232Z"
   },
   {
    "duration": 46,
    "start_time": "2023-04-17T07:57:18.265Z"
   },
   {
    "duration": 29,
    "start_time": "2023-04-17T07:57:18.313Z"
   },
   {
    "duration": 37,
    "start_time": "2023-04-17T07:57:18.344Z"
   },
   {
    "duration": 29,
    "start_time": "2023-04-17T07:57:18.385Z"
   },
   {
    "duration": 44,
    "start_time": "2023-04-17T07:57:18.416Z"
   },
   {
    "duration": 39,
    "start_time": "2023-04-17T07:57:18.462Z"
   },
   {
    "duration": 37,
    "start_time": "2023-04-17T07:57:18.503Z"
   },
   {
    "duration": 34,
    "start_time": "2023-04-17T07:57:18.542Z"
   },
   {
    "duration": 29,
    "start_time": "2023-04-17T07:57:18.578Z"
   },
   {
    "duration": 57,
    "start_time": "2023-04-17T07:57:18.609Z"
   },
   {
    "duration": 11,
    "start_time": "2023-04-17T07:57:18.667Z"
   },
   {
    "duration": 12211,
    "start_time": "2023-04-17T07:57:18.680Z"
   },
   {
    "duration": 59,
    "start_time": "2023-04-17T07:57:30.893Z"
   },
   {
    "duration": 12,
    "start_time": "2023-04-17T07:57:30.954Z"
   },
   {
    "duration": 154,
    "start_time": "2023-04-17T07:57:30.968Z"
   },
   {
    "duration": 0,
    "start_time": "2023-04-17T07:57:31.124Z"
   },
   {
    "duration": 0,
    "start_time": "2023-04-17T07:57:31.126Z"
   },
   {
    "duration": 0,
    "start_time": "2023-04-17T07:57:31.127Z"
   },
   {
    "duration": 0,
    "start_time": "2023-04-17T07:57:31.128Z"
   },
   {
    "duration": 1679,
    "start_time": "2023-04-17T08:11:04.522Z"
   },
   {
    "duration": 3,
    "start_time": "2023-04-17T08:11:06.203Z"
   },
   {
    "duration": 984,
    "start_time": "2023-04-17T08:11:06.208Z"
   },
   {
    "duration": 6,
    "start_time": "2023-04-17T08:11:07.194Z"
   },
   {
    "duration": 16,
    "start_time": "2023-04-17T08:11:07.203Z"
   },
   {
    "duration": 12,
    "start_time": "2023-04-17T08:11:07.221Z"
   },
   {
    "duration": 10,
    "start_time": "2023-04-17T08:11:07.235Z"
   },
   {
    "duration": 10,
    "start_time": "2023-04-17T08:11:07.247Z"
   },
   {
    "duration": 8,
    "start_time": "2023-04-17T08:11:07.259Z"
   },
   {
    "duration": 16,
    "start_time": "2023-04-17T08:11:07.269Z"
   },
   {
    "duration": 54,
    "start_time": "2023-04-17T08:11:07.287Z"
   },
   {
    "duration": 49,
    "start_time": "2023-04-17T08:11:07.343Z"
   },
   {
    "duration": 23,
    "start_time": "2023-04-17T08:11:07.394Z"
   },
   {
    "duration": 157,
    "start_time": "2023-04-17T08:11:07.420Z"
   },
   {
    "duration": 6,
    "start_time": "2023-04-17T08:11:07.579Z"
   },
   {
    "duration": 1082,
    "start_time": "2023-04-17T08:11:07.587Z"
   },
   {
    "duration": 816,
    "start_time": "2023-04-17T08:11:08.671Z"
   },
   {
    "duration": 6,
    "start_time": "2023-04-17T08:11:09.489Z"
   },
   {
    "duration": 5461,
    "start_time": "2023-04-17T08:11:09.497Z"
   },
   {
    "duration": 7,
    "start_time": "2023-04-17T08:11:14.959Z"
   },
   {
    "duration": 1662,
    "start_time": "2023-04-17T08:11:14.967Z"
   },
   {
    "duration": 15,
    "start_time": "2023-04-17T08:11:16.631Z"
   },
   {
    "duration": 21,
    "start_time": "2023-04-17T08:11:16.648Z"
   },
   {
    "duration": 3,
    "start_time": "2023-04-17T08:11:16.671Z"
   },
   {
    "duration": 11,
    "start_time": "2023-04-17T08:11:16.676Z"
   },
   {
    "duration": 17,
    "start_time": "2023-04-17T08:11:16.689Z"
   },
   {
    "duration": 35,
    "start_time": "2023-04-17T08:11:16.708Z"
   },
   {
    "duration": 32,
    "start_time": "2023-04-17T08:11:16.745Z"
   },
   {
    "duration": 13,
    "start_time": "2023-04-17T08:11:16.779Z"
   },
   {
    "duration": 7,
    "start_time": "2023-04-17T08:11:16.794Z"
   },
   {
    "duration": 7,
    "start_time": "2023-04-17T08:11:16.803Z"
   },
   {
    "duration": 12,
    "start_time": "2023-04-17T08:11:16.812Z"
   },
   {
    "duration": 11,
    "start_time": "2023-04-17T08:11:16.826Z"
   },
   {
    "duration": 40,
    "start_time": "2023-04-17T08:11:16.839Z"
   },
   {
    "duration": 14,
    "start_time": "2023-04-17T08:11:16.881Z"
   },
   {
    "duration": 12153,
    "start_time": "2023-04-17T08:11:16.898Z"
   },
   {
    "duration": 73,
    "start_time": "2023-04-17T08:11:29.052Z"
   },
   {
    "duration": 11,
    "start_time": "2023-04-17T08:11:29.127Z"
   },
   {
    "duration": 124,
    "start_time": "2023-04-17T08:11:29.140Z"
   },
   {
    "duration": 0,
    "start_time": "2023-04-17T08:11:29.266Z"
   },
   {
    "duration": 0,
    "start_time": "2023-04-17T08:11:29.267Z"
   },
   {
    "duration": 0,
    "start_time": "2023-04-17T08:11:29.268Z"
   },
   {
    "duration": 0,
    "start_time": "2023-04-17T08:11:29.269Z"
   },
   {
    "duration": 0,
    "start_time": "2023-04-17T08:11:29.271Z"
   },
   {
    "duration": 18,
    "start_time": "2023-04-17T08:11:34.438Z"
   },
   {
    "duration": 8,
    "start_time": "2023-04-17T08:13:51.926Z"
   },
   {
    "duration": 15,
    "start_time": "2023-04-17T08:15:35.685Z"
   },
   {
    "duration": 14,
    "start_time": "2023-04-17T08:15:38.418Z"
   },
   {
    "duration": 13,
    "start_time": "2023-04-17T08:15:40.414Z"
   },
   {
    "duration": 517737,
    "start_time": "2023-04-17T08:49:47.685Z"
   },
   {
    "duration": 10,
    "start_time": "2023-04-17T09:15:11.281Z"
   },
   {
    "duration": 18,
    "start_time": "2023-04-17T09:17:38.596Z"
   },
   {
    "duration": 11234,
    "start_time": "2023-04-17T09:18:02.861Z"
   },
   {
    "duration": 27091,
    "start_time": "2023-04-17T09:19:29.858Z"
   },
   {
    "duration": 29179,
    "start_time": "2023-04-17T09:23:08.022Z"
   },
   {
    "duration": 49828,
    "start_time": "2023-04-17T09:24:23.066Z"
   },
   {
    "duration": 25273,
    "start_time": "2023-04-17T09:25:27.998Z"
   },
   {
    "duration": 15,
    "start_time": "2023-04-17T09:28:25.088Z"
   },
   {
    "duration": 16431,
    "start_time": "2023-04-17T09:28:59.068Z"
   },
   {
    "duration": 12178,
    "start_time": "2023-04-17T09:29:38.032Z"
   },
   {
    "duration": 36815,
    "start_time": "2023-04-17T09:31:53.708Z"
   },
   {
    "duration": 18356,
    "start_time": "2023-04-17T09:32:47.066Z"
   },
   {
    "duration": 9709,
    "start_time": "2023-04-17T09:37:34.877Z"
   },
   {
    "duration": 43569,
    "start_time": "2023-04-17T09:38:04.563Z"
   },
   {
    "duration": 84606,
    "start_time": "2023-04-17T09:39:04.466Z"
   },
   {
    "duration": 275443,
    "start_time": "2023-04-17T09:43:35.353Z"
   },
   {
    "duration": 98,
    "start_time": "2023-04-17T09:56:57.178Z"
   },
   {
    "duration": 16,
    "start_time": "2023-04-17T10:04:13.709Z"
   },
   {
    "duration": 6,
    "start_time": "2023-04-17T10:04:31.809Z"
   },
   {
    "duration": 10,
    "start_time": "2023-04-17T10:06:03.323Z"
   },
   {
    "duration": 72,
    "start_time": "2023-04-17T10:07:43.018Z"
   },
   {
    "duration": 66,
    "start_time": "2023-04-17T10:07:53.471Z"
   },
   {
    "duration": 61,
    "start_time": "2023-04-17T10:08:31.868Z"
   },
   {
    "duration": 60,
    "start_time": "2023-04-17T10:11:15.964Z"
   },
   {
    "duration": 106143,
    "start_time": "2023-04-17T10:23:07.605Z"
   },
   {
    "duration": 44,
    "start_time": "2023-04-17T10:34:55.308Z"
   },
   {
    "duration": 13,
    "start_time": "2023-04-17T10:35:43.805Z"
   },
   {
    "duration": 123453,
    "start_time": "2023-04-17T10:37:22.723Z"
   },
   {
    "duration": 8,
    "start_time": "2023-04-17T10:39:32.210Z"
   },
   {
    "duration": 51,
    "start_time": "2023-04-17T10:39:35.713Z"
   },
   {
    "duration": 110617,
    "start_time": "2023-04-17T10:39:53.772Z"
   },
   {
    "duration": 11,
    "start_time": "2023-04-17T10:43:39.785Z"
   },
   {
    "duration": 57,
    "start_time": "2023-04-17T10:43:43.125Z"
   },
   {
    "duration": 1741,
    "start_time": "2023-04-17T11:03:04.952Z"
   },
   {
    "duration": 4,
    "start_time": "2023-04-17T11:03:06.695Z"
   },
   {
    "duration": 959,
    "start_time": "2023-04-17T11:03:06.700Z"
   },
   {
    "duration": 4,
    "start_time": "2023-04-17T11:03:07.661Z"
   },
   {
    "duration": 11,
    "start_time": "2023-04-17T11:03:07.667Z"
   },
   {
    "duration": 6,
    "start_time": "2023-04-17T11:03:07.680Z"
   },
   {
    "duration": 17,
    "start_time": "2023-04-17T11:03:07.687Z"
   },
   {
    "duration": 6,
    "start_time": "2023-04-17T11:03:07.706Z"
   },
   {
    "duration": 22,
    "start_time": "2023-04-17T11:03:07.713Z"
   },
   {
    "duration": 3,
    "start_time": "2023-04-17T11:03:07.738Z"
   },
   {
    "duration": 33,
    "start_time": "2023-04-17T11:03:07.743Z"
   },
   {
    "duration": 19,
    "start_time": "2023-04-17T11:03:07.778Z"
   },
   {
    "duration": 38,
    "start_time": "2023-04-17T11:03:07.799Z"
   },
   {
    "duration": 139,
    "start_time": "2023-04-17T11:03:07.839Z"
   },
   {
    "duration": 5,
    "start_time": "2023-04-17T11:03:07.980Z"
   },
   {
    "duration": 1024,
    "start_time": "2023-04-17T11:03:07.987Z"
   },
   {
    "duration": 670,
    "start_time": "2023-04-17T11:03:09.014Z"
   },
   {
    "duration": 6,
    "start_time": "2023-04-17T11:03:09.686Z"
   },
   {
    "duration": 4116,
    "start_time": "2023-04-17T11:03:09.694Z"
   },
   {
    "duration": 7,
    "start_time": "2023-04-17T11:03:13.812Z"
   },
   {
    "duration": 1608,
    "start_time": "2023-04-17T11:03:13.821Z"
   },
   {
    "duration": 18,
    "start_time": "2023-04-17T11:03:15.431Z"
   },
   {
    "duration": 27,
    "start_time": "2023-04-17T11:03:15.451Z"
   },
   {
    "duration": 20,
    "start_time": "2023-04-17T11:03:15.480Z"
   },
   {
    "duration": 18,
    "start_time": "2023-04-17T11:03:15.502Z"
   },
   {
    "duration": 18,
    "start_time": "2023-04-17T11:03:15.523Z"
   },
   {
    "duration": 10,
    "start_time": "2023-04-17T11:03:15.543Z"
   },
   {
    "duration": 5,
    "start_time": "2023-04-17T11:03:15.556Z"
   },
   {
    "duration": 20,
    "start_time": "2023-04-17T11:03:15.562Z"
   },
   {
    "duration": 28,
    "start_time": "2023-04-17T11:03:15.584Z"
   },
   {
    "duration": 38,
    "start_time": "2023-04-17T11:03:15.613Z"
   },
   {
    "duration": 19,
    "start_time": "2023-04-17T11:03:15.653Z"
   },
   {
    "duration": 100685,
    "start_time": "2023-04-17T11:03:15.674Z"
   },
   {
    "duration": 8,
    "start_time": "2023-04-17T11:04:56.361Z"
   },
   {
    "duration": 63,
    "start_time": "2023-04-17T11:04:56.370Z"
   }
  ],
  "kernelspec": {
   "display_name": "Python 3 (ipykernel)",
   "language": "python",
   "name": "python3"
  },
  "language_info": {
   "codemirror_mode": {
    "name": "ipython",
    "version": 3
   },
   "file_extension": ".py",
   "mimetype": "text/x-python",
   "name": "python",
   "nbconvert_exporter": "python",
   "pygments_lexer": "ipython3",
   "version": "3.9.5"
  },
  "toc": {
   "base_numbering": 1,
   "nav_menu": {},
   "number_sections": true,
   "sideBar": true,
   "skip_h1_title": true,
   "title_cell": "Содержание",
   "title_sidebar": "Contents",
   "toc_cell": true,
   "toc_position": {
    "height": "calc(100% - 180px)",
    "left": "10px",
    "top": "150px",
    "width": "251px"
   },
   "toc_section_display": true,
   "toc_window_display": true
  }
 },
 "nbformat": 4,
 "nbformat_minor": 2
}
