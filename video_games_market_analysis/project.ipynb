{
 "cells": [
  {
   "cell_type": "markdown",
   "metadata": {},
   "source": [
    "# ИССЛЕДОВАНИЕ РЫНКА ВИДЕОИГР\n",
    "## Введение\n",
    "Вы работаете в интернет-магазине «Стримчик», который продаёт видеоигры по всему миру. Из открытых источников доступны исторические данные о продажах игр, оценки пользователей и экспертов, жанры и платформы (например, Xbox или PlayStation). \n",
    "\n",
    "Важные замечания: \n",
    "- перед вами данные с 1980 до 2016 года;\n",
    "- данные за 2016 год могут быть неполными.\n",
    "\n",
    "Описание данных:\n",
    "- Name — название игры;\n",
    "- Platform — игровая платформа;\n",
    "- Year_of_Release — год выпуска игры;\n",
    "- Genre — жанр игры;\n",
    "- NA_salesб, EU_sales, JP_sales — продажи игр в с.Америке, Европе и Японии (млн. копий);\n",
    "- Other_sales — продажи игр в других странах (млн. копий);\n",
    "- Critic_Score — оценка критиков (максимум 100);\n",
    "- User_Score — оценка пользователей (максимум 10);\n",
    "- Rating — рейтинг организации ESRB (англ. Entertainment Software Rating Board), определяющий возрастную категорию игры. \n",
    "\n",
    "## Постановка задачи\n",
    "Необходимо выявить закономерности, определяющие успешность игры. Это позволит сделать ставку на потенциально популярный продукт и спланировать рекламные кампании в 2017 году.\n",
    "## План исследования\n",
    "Шаг 1. Откройте файл с данными и изучите общую информацию\n",
    "\n",
    "Шаг 2. Подготовьте данные:\n",
    "- замените названия столбцов (приведите к нижнему регистру);\n",
    "- преобразуйте данные в нужные типы. Опишите, в каких столбцах заменили тип данных и почему;\n",
    "- обработайте пропуски при необходимости:\n",
    "    - объясните, почему заполнили пропуски определённым образом или почему не стали это делать;\n",
    "    - опишите причины, которые могли привести к пропускам;\n",
    "    - обратите внимание на аббревиатуру 'tbd' в столбце с оценкой пользователей. Отдельно разберите это значение и опишите, как его обработать;\n",
    "    - посчитайте суммарные продажи во всех регионах и запишите их в отдельный столбец.\n",
    "\n",
    "Шаг 3. Проведите исследовательский анализ данных:\n",
    "- посмотрите, сколько игр выпускалось в разные годы. Важны ли данные за все периоды?\n",
    "- посмотрите, как менялись продажи по платформам. Выберите платформы с наибольшими суммарными продажами и постройте распределение по годам. За какой характерный срок появляются новые и исчезают старые платформы?\n",
    "- возьмите данные за соответствующий актуальный период. Актуальный период определите самостоятельно в результате исследования предыдущих вопросов. Основной фактор — эти данные помогут построить прогноз на 2017 год. Не учитывайте в работе данные за предыдущие годы;\n",
    "- какие платформы лидируют по продажам, растут или падают? Выберите несколько потенциально прибыльных платформ;\n",
    "- постройте график «ящик с усами» по глобальным продажам игр в разбивке по платформам. Опишите результат;\n",
    "- посмотрите, как влияют на продажи внутри одной популярной платформы отзывы пользователей и критиков. Постройте диаграмму рассеяния и посчитайте корреляцию между отзывами и продажами. Сформулируйте выводы. Соотнесите выводы с продажами игр на других платформах;\n",
    "- посмотрите на общее распределение игр по жанрам. Что можно сказать о самых прибыльных жанрах? Выделяются ли жанры с высокими и низкими продажами?\n",
    "\n",
    "Шаг 4. Составьте портрет пользователя каждого региона\n",
    "Определите для пользователя каждого региона (NA, EU, JP):\n",
    "- самые популярные платформы (топ-5). Опишите различия в долях продаж;\n",
    "- самые популярные жанры (топ-5). Поясните разницу;\n",
    "- влияет ли рейтинг ESRB на продажи в отдельном регионе?\n",
    "\n",
    "Шаг 5. Проверьте гипотезы\n",
    "- средние пользовательские рейтинги платформ Xbox One и PC - одинаковые;\n",
    "- средние пользовательские рейтинги жанров Action и Sports - разные.\n",
    "- задайте самостоятельно пороговое значение alpha.\n",
    "- поясните:\n",
    "    - как вы сформулировали нулевую и альтернативную гипотезы;\n",
    "    - какой критерий применили для проверки гипотез и почему.\n",
    "\n",
    "Шаг 6. Напишите общий вывод\n",
    "## Обзор данных\n",
    "Загрузим данные, просмотрим первые 10 строк и общую информацию о датасете."
   ]
  },
  {
   "cell_type": "code",
   "execution_count": 1,
   "metadata": {
    "scrolled": true
   },
   "outputs": [],
   "source": [
    "#Импортируем библиотеки\n",
    "import numpy as np\n",
    "import pandas as pd\n",
    "import seaborn as sns\n",
    "from scipy import stats as st\n",
    "from matplotlib import pyplot as plt"
   ]
  },
  {
   "cell_type": "code",
   "execution_count": 2,
   "metadata": {},
   "outputs": [],
   "source": [
    "#Загружаем данные из файла\n",
    "data = pd.read_csv('/datasets/games.csv')"
   ]
  },
  {
   "cell_type": "code",
   "execution_count": 3,
   "metadata": {},
   "outputs": [
    {
     "data": {
      "text/html": [
       "<div>\n",
       "<style scoped>\n",
       "    .dataframe tbody tr th:only-of-type {\n",
       "        vertical-align: middle;\n",
       "    }\n",
       "\n",
       "    .dataframe tbody tr th {\n",
       "        vertical-align: top;\n",
       "    }\n",
       "\n",
       "    .dataframe thead th {\n",
       "        text-align: right;\n",
       "    }\n",
       "</style>\n",
       "<table border=\"1\" class=\"dataframe\">\n",
       "  <thead>\n",
       "    <tr style=\"text-align: right;\">\n",
       "      <th></th>\n",
       "      <th>Name</th>\n",
       "      <th>Platform</th>\n",
       "      <th>Year_of_Release</th>\n",
       "      <th>Genre</th>\n",
       "      <th>NA_sales</th>\n",
       "      <th>EU_sales</th>\n",
       "      <th>JP_sales</th>\n",
       "      <th>Other_sales</th>\n",
       "      <th>Critic_Score</th>\n",
       "      <th>User_Score</th>\n",
       "      <th>Rating</th>\n",
       "    </tr>\n",
       "  </thead>\n",
       "  <tbody>\n",
       "    <tr>\n",
       "      <th>0</th>\n",
       "      <td>Wii Sports</td>\n",
       "      <td>Wii</td>\n",
       "      <td>2006.0</td>\n",
       "      <td>Sports</td>\n",
       "      <td>41.36</td>\n",
       "      <td>28.96</td>\n",
       "      <td>3.77</td>\n",
       "      <td>8.45</td>\n",
       "      <td>76.0</td>\n",
       "      <td>8</td>\n",
       "      <td>E</td>\n",
       "    </tr>\n",
       "    <tr>\n",
       "      <th>1</th>\n",
       "      <td>Super Mario Bros.</td>\n",
       "      <td>NES</td>\n",
       "      <td>1985.0</td>\n",
       "      <td>Platform</td>\n",
       "      <td>29.08</td>\n",
       "      <td>3.58</td>\n",
       "      <td>6.81</td>\n",
       "      <td>0.77</td>\n",
       "      <td>NaN</td>\n",
       "      <td>NaN</td>\n",
       "      <td>NaN</td>\n",
       "    </tr>\n",
       "    <tr>\n",
       "      <th>2</th>\n",
       "      <td>Mario Kart Wii</td>\n",
       "      <td>Wii</td>\n",
       "      <td>2008.0</td>\n",
       "      <td>Racing</td>\n",
       "      <td>15.68</td>\n",
       "      <td>12.76</td>\n",
       "      <td>3.79</td>\n",
       "      <td>3.29</td>\n",
       "      <td>82.0</td>\n",
       "      <td>8.3</td>\n",
       "      <td>E</td>\n",
       "    </tr>\n",
       "    <tr>\n",
       "      <th>3</th>\n",
       "      <td>Wii Sports Resort</td>\n",
       "      <td>Wii</td>\n",
       "      <td>2009.0</td>\n",
       "      <td>Sports</td>\n",
       "      <td>15.61</td>\n",
       "      <td>10.93</td>\n",
       "      <td>3.28</td>\n",
       "      <td>2.95</td>\n",
       "      <td>80.0</td>\n",
       "      <td>8</td>\n",
       "      <td>E</td>\n",
       "    </tr>\n",
       "    <tr>\n",
       "      <th>4</th>\n",
       "      <td>Pokemon Red/Pokemon Blue</td>\n",
       "      <td>GB</td>\n",
       "      <td>1996.0</td>\n",
       "      <td>Role-Playing</td>\n",
       "      <td>11.27</td>\n",
       "      <td>8.89</td>\n",
       "      <td>10.22</td>\n",
       "      <td>1.00</td>\n",
       "      <td>NaN</td>\n",
       "      <td>NaN</td>\n",
       "      <td>NaN</td>\n",
       "    </tr>\n",
       "    <tr>\n",
       "      <th>5</th>\n",
       "      <td>Tetris</td>\n",
       "      <td>GB</td>\n",
       "      <td>1989.0</td>\n",
       "      <td>Puzzle</td>\n",
       "      <td>23.20</td>\n",
       "      <td>2.26</td>\n",
       "      <td>4.22</td>\n",
       "      <td>0.58</td>\n",
       "      <td>NaN</td>\n",
       "      <td>NaN</td>\n",
       "      <td>NaN</td>\n",
       "    </tr>\n",
       "    <tr>\n",
       "      <th>6</th>\n",
       "      <td>New Super Mario Bros.</td>\n",
       "      <td>DS</td>\n",
       "      <td>2006.0</td>\n",
       "      <td>Platform</td>\n",
       "      <td>11.28</td>\n",
       "      <td>9.14</td>\n",
       "      <td>6.50</td>\n",
       "      <td>2.88</td>\n",
       "      <td>89.0</td>\n",
       "      <td>8.5</td>\n",
       "      <td>E</td>\n",
       "    </tr>\n",
       "    <tr>\n",
       "      <th>7</th>\n",
       "      <td>Wii Play</td>\n",
       "      <td>Wii</td>\n",
       "      <td>2006.0</td>\n",
       "      <td>Misc</td>\n",
       "      <td>13.96</td>\n",
       "      <td>9.18</td>\n",
       "      <td>2.93</td>\n",
       "      <td>2.84</td>\n",
       "      <td>58.0</td>\n",
       "      <td>6.6</td>\n",
       "      <td>E</td>\n",
       "    </tr>\n",
       "    <tr>\n",
       "      <th>8</th>\n",
       "      <td>New Super Mario Bros. Wii</td>\n",
       "      <td>Wii</td>\n",
       "      <td>2009.0</td>\n",
       "      <td>Platform</td>\n",
       "      <td>14.44</td>\n",
       "      <td>6.94</td>\n",
       "      <td>4.70</td>\n",
       "      <td>2.24</td>\n",
       "      <td>87.0</td>\n",
       "      <td>8.4</td>\n",
       "      <td>E</td>\n",
       "    </tr>\n",
       "    <tr>\n",
       "      <th>9</th>\n",
       "      <td>Duck Hunt</td>\n",
       "      <td>NES</td>\n",
       "      <td>1984.0</td>\n",
       "      <td>Shooter</td>\n",
       "      <td>26.93</td>\n",
       "      <td>0.63</td>\n",
       "      <td>0.28</td>\n",
       "      <td>0.47</td>\n",
       "      <td>NaN</td>\n",
       "      <td>NaN</td>\n",
       "      <td>NaN</td>\n",
       "    </tr>\n",
       "  </tbody>\n",
       "</table>\n",
       "</div>"
      ],
      "text/plain": [
       "                        Name Platform  Year_of_Release         Genre  \\\n",
       "0                 Wii Sports      Wii           2006.0        Sports   \n",
       "1          Super Mario Bros.      NES           1985.0      Platform   \n",
       "2             Mario Kart Wii      Wii           2008.0        Racing   \n",
       "3          Wii Sports Resort      Wii           2009.0        Sports   \n",
       "4   Pokemon Red/Pokemon Blue       GB           1996.0  Role-Playing   \n",
       "5                     Tetris       GB           1989.0        Puzzle   \n",
       "6      New Super Mario Bros.       DS           2006.0      Platform   \n",
       "7                   Wii Play      Wii           2006.0          Misc   \n",
       "8  New Super Mario Bros. Wii      Wii           2009.0      Platform   \n",
       "9                  Duck Hunt      NES           1984.0       Shooter   \n",
       "\n",
       "   NA_sales  EU_sales  JP_sales  Other_sales  Critic_Score User_Score Rating  \n",
       "0     41.36     28.96      3.77         8.45          76.0          8      E  \n",
       "1     29.08      3.58      6.81         0.77           NaN        NaN    NaN  \n",
       "2     15.68     12.76      3.79         3.29          82.0        8.3      E  \n",
       "3     15.61     10.93      3.28         2.95          80.0          8      E  \n",
       "4     11.27      8.89     10.22         1.00           NaN        NaN    NaN  \n",
       "5     23.20      2.26      4.22         0.58           NaN        NaN    NaN  \n",
       "6     11.28      9.14      6.50         2.88          89.0        8.5      E  \n",
       "7     13.96      9.18      2.93         2.84          58.0        6.6      E  \n",
       "8     14.44      6.94      4.70         2.24          87.0        8.4      E  \n",
       "9     26.93      0.63      0.28         0.47           NaN        NaN    NaN  "
      ]
     },
     "execution_count": 3,
     "metadata": {},
     "output_type": "execute_result"
    }
   ],
   "source": [
    "#Выводим первые строки датасета\n",
    "data.head(10)"
   ]
  },
  {
   "cell_type": "code",
   "execution_count": 4,
   "metadata": {},
   "outputs": [
    {
     "name": "stdout",
     "output_type": "stream",
     "text": [
      "<class 'pandas.core.frame.DataFrame'>\n",
      "RangeIndex: 16715 entries, 0 to 16714\n",
      "Data columns (total 11 columns):\n",
      " #   Column           Non-Null Count  Dtype  \n",
      "---  ------           --------------  -----  \n",
      " 0   Name             16713 non-null  object \n",
      " 1   Platform         16715 non-null  object \n",
      " 2   Year_of_Release  16446 non-null  float64\n",
      " 3   Genre            16713 non-null  object \n",
      " 4   NA_sales         16715 non-null  float64\n",
      " 5   EU_sales         16715 non-null  float64\n",
      " 6   JP_sales         16715 non-null  float64\n",
      " 7   Other_sales      16715 non-null  float64\n",
      " 8   Critic_Score     8137 non-null   float64\n",
      " 9   User_Score       10014 non-null  object \n",
      " 10  Rating           9949 non-null   object \n",
      "dtypes: float64(6), object(5)\n",
      "memory usage: 1.4+ MB\n"
     ]
    }
   ],
   "source": [
    "data.info()"
   ]
  },
  {
   "cell_type": "markdown",
   "metadata": {},
   "source": [
    "Имеются пропуски, несоответствие типов и др. Проведем предобработку данных.\n",
    "## Предобработка данных\n",
    "### Наименование столбцов\n",
    "Приведем названия столбцов к нижнему регистру и проверим результат."
   ]
  },
  {
   "cell_type": "code",
   "execution_count": 5,
   "metadata": {},
   "outputs": [],
   "source": [
    "data.columns = data.columns.str.lower()"
   ]
  },
  {
   "cell_type": "markdown",
   "metadata": {},
   "source": [
    "### Обработка дубликатов\n",
    "Поищем явные дубликаты."
   ]
  },
  {
   "cell_type": "code",
   "execution_count": 6,
   "metadata": {},
   "outputs": [
    {
     "name": "stdout",
     "output_type": "stream",
     "text": [
      "Явных дубликтов: 0\n"
     ]
    }
   ],
   "source": [
    "print('Явных дубликтов:', data.duplicated().sum())"
   ]
  },
  {
   "cell_type": "markdown",
   "metadata": {},
   "source": [
    "Рассмотрим уникальные значения категориальных столбцов `platform`, `genre` и `rating` в поисках неявных дубликатов."
   ]
  },
  {
   "cell_type": "code",
   "execution_count": 7,
   "metadata": {},
   "outputs": [
    {
     "name": "stdout",
     "output_type": "stream",
     "text": [
      "Уникальные значения \n",
      " - платформа: ['2600' '3DO' '3DS' 'DC' 'DS' 'GB' 'GBA' 'GC' 'GEN' 'GG' 'N64' 'NES' 'NG'\n",
      " 'PC' 'PCFX' 'PS' 'PS2' 'PS3' 'PS4' 'PSP' 'PSV' 'SAT' 'SCD' 'SNES' 'TG16'\n",
      " 'WS' 'Wii' 'WiiU' 'X360' 'XB' 'XOne'] \n",
      "\n",
      " - жанр: ['Action' 'Adventure' 'Fighting' 'Misc' 'Platform' 'Puzzle' 'Racing'\n",
      " 'Role-Playing' 'Shooter' 'Simulation' 'Sports' 'Strategy' nan] \n",
      "\n",
      " - рейтинг ESRB: ['AO' 'E' 'E10+' 'EC' 'K-A' 'M' 'RP' 'T' nan]\n"
     ]
    }
   ],
   "source": [
    "print('Уникальные значения',\n",
    "      '\\n - платформа:', data['platform'].sort_values().unique(),\n",
    "      '\\n\\n - жанр:', data['genre'].sort_values().unique(),\n",
    "      '\\n\\n - рейтинг ESRB:', data['rating'].sort_values().unique(),          \n",
    "     )    "
   ]
  },
  {
   "cell_type": "markdown",
   "metadata": {},
   "source": [
    "Неявные дубликаты отсутствуют.\n",
    "\n",
    "Стобец `name` содержит гораздо больше уникальных вариантов, его проверим отдельно. Унифицируем наименования игр с помощью функции, приводящей к нижнему регистру и удаляющей лишние разделители между словами. Затем повторно проверим датасет на дубликаты по сочетанию унифицированного наименования, платформы, года выпуска и жанра.   "
   ]
  },
  {
   "cell_type": "code",
   "execution_count": 8,
   "metadata": {},
   "outputs": [],
   "source": [
    "def unify(value):\n",
    "    \"\"\"Формирует и возвращает строку в нижнем регистре, \n",
    "    где слова разделены одним пробелом.\n",
    "    \n",
    "    Параметры:\n",
    "    value -- значение для преобразований\n",
    "    \"\"\"\n",
    "    if not isinstance(value, str):\n",
    "        value = str(value)\n",
    "    return ' '.join(value.lower().split())"
   ]
  },
  {
   "cell_type": "code",
   "execution_count": 9,
   "metadata": {},
   "outputs": [
    {
     "data": {
      "text/html": [
       "<div>\n",
       "<style scoped>\n",
       "    .dataframe tbody tr th:only-of-type {\n",
       "        vertical-align: middle;\n",
       "    }\n",
       "\n",
       "    .dataframe tbody tr th {\n",
       "        vertical-align: top;\n",
       "    }\n",
       "\n",
       "    .dataframe thead th {\n",
       "        text-align: right;\n",
       "    }\n",
       "</style>\n",
       "<table border=\"1\" class=\"dataframe\">\n",
       "  <thead>\n",
       "    <tr style=\"text-align: right;\">\n",
       "      <th></th>\n",
       "      <th>name</th>\n",
       "      <th>platform</th>\n",
       "      <th>year_of_release</th>\n",
       "      <th>genre</th>\n",
       "    </tr>\n",
       "  </thead>\n",
       "  <tbody>\n",
       "    <tr>\n",
       "      <th>14244</th>\n",
       "      <td>nan</td>\n",
       "      <td>GEN</td>\n",
       "      <td>1993.0</td>\n",
       "      <td>NaN</td>\n",
       "    </tr>\n",
       "    <tr>\n",
       "      <th>16230</th>\n",
       "      <td>madden nfl 13</td>\n",
       "      <td>PS3</td>\n",
       "      <td>2012.0</td>\n",
       "      <td>Sports</td>\n",
       "    </tr>\n",
       "  </tbody>\n",
       "</table>\n",
       "</div>"
      ],
      "text/plain": [
       "                name platform  year_of_release   genre\n",
       "14244            nan      GEN           1993.0     NaN\n",
       "16230  madden nfl 13      PS3           2012.0  Sports"
      ]
     },
     "execution_count": 9,
     "metadata": {},
     "output_type": "execute_result"
    }
   ],
   "source": [
    "data_to_check = data[['name', 'platform', 'year_of_release', 'genre']].copy()\n",
    "data_to_check['name'] = data_to_check['name'].apply(unify)\n",
    "data_to_check[data_to_check.duplicated()]"
   ]
  },
  {
   "cell_type": "markdown",
   "metadata": {},
   "source": [
    "Избавимся от дубликатов в основном датасете и продолжим предобработку."
   ]
  },
  {
   "cell_type": "code",
   "execution_count": 10,
   "metadata": {},
   "outputs": [],
   "source": [
    "idx = data[data_to_check.duplicated()].index.values.tolist()\n",
    "data = data.drop(idx).reset_index(drop=True)"
   ]
  },
  {
   "cell_type": "markdown",
   "metadata": {},
   "source": [
    "### Обработка пропусков и преобразование типов\n",
    "Посмотрим на пропуски и типы в масштабе всего датасета. Затем последовательно их разберем и обработаем."
   ]
  },
  {
   "cell_type": "code",
   "execution_count": 11,
   "metadata": {
    "scrolled": true
   },
   "outputs": [
    {
     "data": {
      "text/plain": [
       "name                  1\n",
       "platform              0\n",
       "year_of_release     269\n",
       "genre                 1\n",
       "na_sales              0\n",
       "eu_sales              0\n",
       "jp_sales              0\n",
       "other_sales           0\n",
       "critic_score       8577\n",
       "user_score         6700\n",
       "rating             6765\n",
       "dtype: int64"
      ]
     },
     "execution_count": 11,
     "metadata": {},
     "output_type": "execute_result"
    }
   ],
   "source": [
    "data.isna().sum()"
   ]
  },
  {
   "cell_type": "code",
   "execution_count": 12,
   "metadata": {
    "scrolled": true
   },
   "outputs": [
    {
     "data": {
      "text/plain": [
       "name                object\n",
       "platform            object\n",
       "year_of_release    float64\n",
       "genre               object\n",
       "na_sales           float64\n",
       "eu_sales           float64\n",
       "jp_sales           float64\n",
       "other_sales        float64\n",
       "critic_score       float64\n",
       "user_score          object\n",
       "rating              object\n",
       "dtype: object"
      ]
     },
     "execution_count": 12,
     "metadata": {},
     "output_type": "execute_result"
    }
   ],
   "source": [
    "data.dtypes"
   ]
  },
  {
   "cell_type": "markdown",
   "metadata": {},
   "source": [
    "#### Наименование и жанр\n",
    "В колонках `name` и `genre` есть пропуски. Посмотрим, возможно они находятся в одной строке."
   ]
  },
  {
   "cell_type": "code",
   "execution_count": 13,
   "metadata": {},
   "outputs": [
    {
     "data": {
      "text/html": [
       "<div>\n",
       "<style scoped>\n",
       "    .dataframe tbody tr th:only-of-type {\n",
       "        vertical-align: middle;\n",
       "    }\n",
       "\n",
       "    .dataframe tbody tr th {\n",
       "        vertical-align: top;\n",
       "    }\n",
       "\n",
       "    .dataframe thead th {\n",
       "        text-align: right;\n",
       "    }\n",
       "</style>\n",
       "<table border=\"1\" class=\"dataframe\">\n",
       "  <thead>\n",
       "    <tr style=\"text-align: right;\">\n",
       "      <th></th>\n",
       "      <th>name</th>\n",
       "      <th>platform</th>\n",
       "      <th>year_of_release</th>\n",
       "      <th>genre</th>\n",
       "      <th>na_sales</th>\n",
       "      <th>eu_sales</th>\n",
       "      <th>jp_sales</th>\n",
       "      <th>other_sales</th>\n",
       "      <th>critic_score</th>\n",
       "      <th>user_score</th>\n",
       "      <th>rating</th>\n",
       "    </tr>\n",
       "  </thead>\n",
       "  <tbody>\n",
       "    <tr>\n",
       "      <th>659</th>\n",
       "      <td>NaN</td>\n",
       "      <td>GEN</td>\n",
       "      <td>1993.0</td>\n",
       "      <td>NaN</td>\n",
       "      <td>1.78</td>\n",
       "      <td>0.53</td>\n",
       "      <td>0.0</td>\n",
       "      <td>0.08</td>\n",
       "      <td>NaN</td>\n",
       "      <td>NaN</td>\n",
       "      <td>NaN</td>\n",
       "    </tr>\n",
       "  </tbody>\n",
       "</table>\n",
       "</div>"
      ],
      "text/plain": [
       "    name platform  year_of_release genre  na_sales  eu_sales  jp_sales  \\\n",
       "659  NaN      GEN           1993.0   NaN      1.78      0.53       0.0   \n",
       "\n",
       "     other_sales  critic_score user_score rating  \n",
       "659         0.08           NaN        NaN    NaN  "
      ]
     },
     "execution_count": 13,
     "metadata": {},
     "output_type": "execute_result"
    }
   ],
   "source": [
    "data[data['name'].isna()]"
   ]
  },
  {
   "cell_type": "markdown",
   "metadata": {},
   "source": [
    "Так и есть. Как видно полезной информации здесь крайне мало. Восстановить ее не представляется возможным. Удалим эти пропуски."
   ]
  },
  {
   "cell_type": "code",
   "execution_count": 14,
   "metadata": {},
   "outputs": [],
   "source": [
    "data = data[~data['name'].isna()]"
   ]
  },
  {
   "cell_type": "markdown",
   "metadata": {},
   "source": [
    "#### Год выпуска\n",
    "В колонке `year_of_release` имеется 269 пропусков. Взглянем на них. "
   ]
  },
  {
   "cell_type": "code",
   "execution_count": 15,
   "metadata": {},
   "outputs": [
    {
     "data": {
      "text/html": [
       "<div>\n",
       "<style scoped>\n",
       "    .dataframe tbody tr th:only-of-type {\n",
       "        vertical-align: middle;\n",
       "    }\n",
       "\n",
       "    .dataframe tbody tr th {\n",
       "        vertical-align: top;\n",
       "    }\n",
       "\n",
       "    .dataframe thead th {\n",
       "        text-align: right;\n",
       "    }\n",
       "</style>\n",
       "<table border=\"1\" class=\"dataframe\">\n",
       "  <thead>\n",
       "    <tr style=\"text-align: right;\">\n",
       "      <th></th>\n",
       "      <th>name</th>\n",
       "      <th>platform</th>\n",
       "      <th>year_of_release</th>\n",
       "      <th>genre</th>\n",
       "      <th>na_sales</th>\n",
       "      <th>eu_sales</th>\n",
       "      <th>jp_sales</th>\n",
       "      <th>other_sales</th>\n",
       "      <th>critic_score</th>\n",
       "      <th>user_score</th>\n",
       "      <th>rating</th>\n",
       "    </tr>\n",
       "  </thead>\n",
       "  <tbody>\n",
       "    <tr>\n",
       "      <th>183</th>\n",
       "      <td>Madden NFL 2004</td>\n",
       "      <td>PS2</td>\n",
       "      <td>NaN</td>\n",
       "      <td>Sports</td>\n",
       "      <td>4.26</td>\n",
       "      <td>0.26</td>\n",
       "      <td>0.01</td>\n",
       "      <td>0.71</td>\n",
       "      <td>94.0</td>\n",
       "      <td>8.5</td>\n",
       "      <td>E</td>\n",
       "    </tr>\n",
       "    <tr>\n",
       "      <th>377</th>\n",
       "      <td>FIFA Soccer 2004</td>\n",
       "      <td>PS2</td>\n",
       "      <td>NaN</td>\n",
       "      <td>Sports</td>\n",
       "      <td>0.59</td>\n",
       "      <td>2.36</td>\n",
       "      <td>0.04</td>\n",
       "      <td>0.51</td>\n",
       "      <td>84.0</td>\n",
       "      <td>6.4</td>\n",
       "      <td>E</td>\n",
       "    </tr>\n",
       "    <tr>\n",
       "      <th>456</th>\n",
       "      <td>LEGO Batman: The Videogame</td>\n",
       "      <td>Wii</td>\n",
       "      <td>NaN</td>\n",
       "      <td>Action</td>\n",
       "      <td>1.80</td>\n",
       "      <td>0.97</td>\n",
       "      <td>0.00</td>\n",
       "      <td>0.29</td>\n",
       "      <td>74.0</td>\n",
       "      <td>7.9</td>\n",
       "      <td>E10+</td>\n",
       "    </tr>\n",
       "    <tr>\n",
       "      <th>475</th>\n",
       "      <td>wwe Smackdown vs. Raw 2006</td>\n",
       "      <td>PS2</td>\n",
       "      <td>NaN</td>\n",
       "      <td>Fighting</td>\n",
       "      <td>1.57</td>\n",
       "      <td>1.02</td>\n",
       "      <td>0.00</td>\n",
       "      <td>0.41</td>\n",
       "      <td>NaN</td>\n",
       "      <td>NaN</td>\n",
       "      <td>NaN</td>\n",
       "    </tr>\n",
       "    <tr>\n",
       "      <th>609</th>\n",
       "      <td>Space Invaders</td>\n",
       "      <td>2600</td>\n",
       "      <td>NaN</td>\n",
       "      <td>Shooter</td>\n",
       "      <td>2.36</td>\n",
       "      <td>0.14</td>\n",
       "      <td>0.00</td>\n",
       "      <td>0.03</td>\n",
       "      <td>NaN</td>\n",
       "      <td>NaN</td>\n",
       "      <td>NaN</td>\n",
       "    </tr>\n",
       "    <tr>\n",
       "      <th>...</th>\n",
       "      <td>...</td>\n",
       "      <td>...</td>\n",
       "      <td>...</td>\n",
       "      <td>...</td>\n",
       "      <td>...</td>\n",
       "      <td>...</td>\n",
       "      <td>...</td>\n",
       "      <td>...</td>\n",
       "      <td>...</td>\n",
       "      <td>...</td>\n",
       "      <td>...</td>\n",
       "    </tr>\n",
       "    <tr>\n",
       "      <th>16371</th>\n",
       "      <td>PDC World Championship Darts 2008</td>\n",
       "      <td>PSP</td>\n",
       "      <td>NaN</td>\n",
       "      <td>Sports</td>\n",
       "      <td>0.01</td>\n",
       "      <td>0.00</td>\n",
       "      <td>0.00</td>\n",
       "      <td>0.00</td>\n",
       "      <td>43.0</td>\n",
       "      <td>tbd</td>\n",
       "      <td>E10+</td>\n",
       "    </tr>\n",
       "    <tr>\n",
       "      <th>16403</th>\n",
       "      <td>Freaky Flyers</td>\n",
       "      <td>GC</td>\n",
       "      <td>NaN</td>\n",
       "      <td>Racing</td>\n",
       "      <td>0.01</td>\n",
       "      <td>0.00</td>\n",
       "      <td>0.00</td>\n",
       "      <td>0.00</td>\n",
       "      <td>69.0</td>\n",
       "      <td>6.5</td>\n",
       "      <td>T</td>\n",
       "    </tr>\n",
       "    <tr>\n",
       "      <th>16446</th>\n",
       "      <td>Inversion</td>\n",
       "      <td>PC</td>\n",
       "      <td>NaN</td>\n",
       "      <td>Shooter</td>\n",
       "      <td>0.01</td>\n",
       "      <td>0.00</td>\n",
       "      <td>0.00</td>\n",
       "      <td>0.00</td>\n",
       "      <td>59.0</td>\n",
       "      <td>6.7</td>\n",
       "      <td>M</td>\n",
       "    </tr>\n",
       "    <tr>\n",
       "      <th>16456</th>\n",
       "      <td>Hakuouki: Shinsengumi Kitan</td>\n",
       "      <td>PS3</td>\n",
       "      <td>NaN</td>\n",
       "      <td>Adventure</td>\n",
       "      <td>0.01</td>\n",
       "      <td>0.00</td>\n",
       "      <td>0.00</td>\n",
       "      <td>0.00</td>\n",
       "      <td>NaN</td>\n",
       "      <td>NaN</td>\n",
       "      <td>NaN</td>\n",
       "    </tr>\n",
       "    <tr>\n",
       "      <th>16520</th>\n",
       "      <td>Virtua Quest</td>\n",
       "      <td>GC</td>\n",
       "      <td>NaN</td>\n",
       "      <td>Role-Playing</td>\n",
       "      <td>0.01</td>\n",
       "      <td>0.00</td>\n",
       "      <td>0.00</td>\n",
       "      <td>0.00</td>\n",
       "      <td>55.0</td>\n",
       "      <td>5.5</td>\n",
       "      <td>T</td>\n",
       "    </tr>\n",
       "  </tbody>\n",
       "</table>\n",
       "<p>269 rows × 11 columns</p>\n",
       "</div>"
      ],
      "text/plain": [
       "                                    name platform  year_of_release  \\\n",
       "183                      Madden NFL 2004      PS2              NaN   \n",
       "377                     FIFA Soccer 2004      PS2              NaN   \n",
       "456           LEGO Batman: The Videogame      Wii              NaN   \n",
       "475           wwe Smackdown vs. Raw 2006      PS2              NaN   \n",
       "609                       Space Invaders     2600              NaN   \n",
       "...                                  ...      ...              ...   \n",
       "16371  PDC World Championship Darts 2008      PSP              NaN   \n",
       "16403                      Freaky Flyers       GC              NaN   \n",
       "16446                          Inversion       PC              NaN   \n",
       "16456        Hakuouki: Shinsengumi Kitan      PS3              NaN   \n",
       "16520                       Virtua Quest       GC              NaN   \n",
       "\n",
       "              genre  na_sales  eu_sales  jp_sales  other_sales  critic_score  \\\n",
       "183          Sports      4.26      0.26      0.01         0.71          94.0   \n",
       "377          Sports      0.59      2.36      0.04         0.51          84.0   \n",
       "456          Action      1.80      0.97      0.00         0.29          74.0   \n",
       "475        Fighting      1.57      1.02      0.00         0.41           NaN   \n",
       "609         Shooter      2.36      0.14      0.00         0.03           NaN   \n",
       "...             ...       ...       ...       ...          ...           ...   \n",
       "16371        Sports      0.01      0.00      0.00         0.00          43.0   \n",
       "16403        Racing      0.01      0.00      0.00         0.00          69.0   \n",
       "16446       Shooter      0.01      0.00      0.00         0.00          59.0   \n",
       "16456     Adventure      0.01      0.00      0.00         0.00           NaN   \n",
       "16520  Role-Playing      0.01      0.00      0.00         0.00          55.0   \n",
       "\n",
       "      user_score rating  \n",
       "183          8.5      E  \n",
       "377          6.4      E  \n",
       "456          7.9   E10+  \n",
       "475          NaN    NaN  \n",
       "609          NaN    NaN  \n",
       "...          ...    ...  \n",
       "16371        tbd   E10+  \n",
       "16403        6.5      T  \n",
       "16446        6.7      M  \n",
       "16456        NaN    NaN  \n",
       "16520        5.5      T  \n",
       "\n",
       "[269 rows x 11 columns]"
      ]
     },
     "execution_count": 15,
     "metadata": {},
     "output_type": "execute_result"
    }
   ],
   "source": [
    "data[data['year_of_release'].isna()]"
   ]
  },
  {
   "cell_type": "markdown",
   "metadata": {},
   "source": [
    "В названиях некоторых игр фигурирует год. Однако это не значит, что данная игра была выпущена на той или иной платформе в том же году. Например, \"Madden NFL 2004\" [по данным Википедии](https://en.wikipedia.org/wiki/Madden_NFL_2004) вышел на платформах GameCube, Microsoft Windows, PlayStation 2, PlayStation, Game Boy, Advance Xbox в 2003 году.  \n",
    "Подобные пропуски можно заполнить с помощью альтернативного датасета-донора, сопоставив название и платформу. Однако, в нашем случае это нецелесообразно, т.к. количество пропусков мало (< 2%), а затраты на реализацию явно превысят эффект. Мы видим, что эти строки содержат полезные данные, значит, не стоит их удалять. Одновременно нам необходимо привести данные в столбце `year_of_release` к целочисленному типу.  \n",
    "В качестве решения, промаркируем пропуски нулевым значением и приведем данные к типу int."
   ]
  },
  {
   "cell_type": "code",
   "execution_count": 16,
   "metadata": {},
   "outputs": [],
   "source": [
    "data['year_of_release'] = data['year_of_release'].fillna(0).astype('int')"
   ]
  },
  {
   "cell_type": "markdown",
   "metadata": {},
   "source": [
    "#### Оценки критиков и пользователей,  рейтинг ESRB\n",
    "Столбец `user_score` (оценка пользователей) заполнился данными типа `object`, хотя по аналогии с `critic_score` (оценка критиков) типом должен быть `float`. Посмотрим на уникальные значения `user_score`."
   ]
  },
  {
   "cell_type": "code",
   "execution_count": 17,
   "metadata": {},
   "outputs": [
    {
     "data": {
      "text/plain": [
       "array(['8', nan, '8.3', '8.5', '6.6', '8.4', '8.6', '7.7', '6.3', '7.4',\n",
       "       '8.2', '9', '7.9', '8.1', '8.7', '7.1', '3.4', '5.3', '4.8', '3.2',\n",
       "       '8.9', '6.4', '7.8', '7.5', '2.6', '7.2', '9.2', '7', '7.3', '4.3',\n",
       "       '7.6', '5.7', '5', '9.1', '6.5', 'tbd', '8.8', '6.9', '9.4', '6.8',\n",
       "       '6.1', '6.7', '5.4', '4', '4.9', '4.5', '9.3', '6.2', '4.2', '6',\n",
       "       '3.7', '4.1', '5.8', '5.6', '5.5', '4.4', '4.6', '5.9', '3.9',\n",
       "       '3.1', '2.9', '5.2', '3.3', '4.7', '5.1', '3.5', '2.5', '1.9', '3',\n",
       "       '2.7', '2.2', '2', '9.5', '2.1', '3.6', '2.8', '1.8', '3.8', '0',\n",
       "       '1.6', '9.6', '2.4', '1.7', '1.1', '0.3', '1.5', '0.7', '1.2',\n",
       "       '2.3', '0.5', '1.3', '0.2', '0.6', '1.4', '0.9', '1', '9.7'],\n",
       "      dtype=object)"
      ]
     },
     "execution_count": 17,
     "metadata": {},
     "output_type": "execute_result"
    }
   ],
   "source": [
    "data['user_score'].unique()"
   ]
  },
  {
   "cell_type": "markdown",
   "metadata": {},
   "source": [
    "Наряду с `NaN` и вещественными числами видим значение `tbd`, неприводимое к численному типу. Похоже, это аббревиатура, которая применительно к рейтингу обозначает to be determined. Т.е. не определен, подлежит дальнейшему определению. В нашем случае `tbd` нечем заменить, и в этом смысле данное значение не отличается от пропуска. В то же время оценки пользователей нам потребуются в числовом формате.  \n",
    "В качестве решения, заменим `tbd` на `NaN` и приведем данные к нужному типу."
   ]
  },
  {
   "cell_type": "code",
   "execution_count": 18,
   "metadata": {},
   "outputs": [],
   "source": [
    "data.loc[data['user_score'] == 'tbd', 'user_score'] = np.nan\n",
    "data['user_score'] = data['user_score'].astype('float')"
   ]
  },
  {
   "cell_type": "markdown",
   "metadata": {},
   "source": [
    "Проверим предположение, что пропуски в оценках критиков и пользоваталей, а также рейтинге ESRB сопутствуют друг другу. "
   ]
  },
  {
   "cell_type": "code",
   "execution_count": 19,
   "metadata": {},
   "outputs": [
    {
     "data": {
      "text/html": [
       "<div>\n",
       "<style scoped>\n",
       "    .dataframe tbody tr th:only-of-type {\n",
       "        vertical-align: middle;\n",
       "    }\n",
       "\n",
       "    .dataframe tbody tr th {\n",
       "        vertical-align: top;\n",
       "    }\n",
       "\n",
       "    .dataframe thead th {\n",
       "        text-align: right;\n",
       "    }\n",
       "</style>\n",
       "<table border=\"1\" class=\"dataframe\">\n",
       "  <thead>\n",
       "    <tr style=\"text-align: right;\">\n",
       "      <th></th>\n",
       "      <th>name</th>\n",
       "      <th>platform</th>\n",
       "      <th>year_of_release</th>\n",
       "      <th>genre</th>\n",
       "      <th>na_sales</th>\n",
       "      <th>eu_sales</th>\n",
       "      <th>jp_sales</th>\n",
       "      <th>other_sales</th>\n",
       "      <th>critic_score</th>\n",
       "      <th>user_score</th>\n",
       "      <th>rating</th>\n",
       "    </tr>\n",
       "  </thead>\n",
       "  <tbody>\n",
       "    <tr>\n",
       "      <th>1</th>\n",
       "      <td>Super Mario Bros.</td>\n",
       "      <td>NES</td>\n",
       "      <td>1985</td>\n",
       "      <td>Platform</td>\n",
       "      <td>29.08</td>\n",
       "      <td>3.58</td>\n",
       "      <td>6.81</td>\n",
       "      <td>0.77</td>\n",
       "      <td>NaN</td>\n",
       "      <td>NaN</td>\n",
       "      <td>NaN</td>\n",
       "    </tr>\n",
       "    <tr>\n",
       "      <th>4</th>\n",
       "      <td>Pokemon Red/Pokemon Blue</td>\n",
       "      <td>GB</td>\n",
       "      <td>1996</td>\n",
       "      <td>Role-Playing</td>\n",
       "      <td>11.27</td>\n",
       "      <td>8.89</td>\n",
       "      <td>10.22</td>\n",
       "      <td>1.00</td>\n",
       "      <td>NaN</td>\n",
       "      <td>NaN</td>\n",
       "      <td>NaN</td>\n",
       "    </tr>\n",
       "    <tr>\n",
       "      <th>5</th>\n",
       "      <td>Tetris</td>\n",
       "      <td>GB</td>\n",
       "      <td>1989</td>\n",
       "      <td>Puzzle</td>\n",
       "      <td>23.20</td>\n",
       "      <td>2.26</td>\n",
       "      <td>4.22</td>\n",
       "      <td>0.58</td>\n",
       "      <td>NaN</td>\n",
       "      <td>NaN</td>\n",
       "      <td>NaN</td>\n",
       "    </tr>\n",
       "    <tr>\n",
       "      <th>9</th>\n",
       "      <td>Duck Hunt</td>\n",
       "      <td>NES</td>\n",
       "      <td>1984</td>\n",
       "      <td>Shooter</td>\n",
       "      <td>26.93</td>\n",
       "      <td>0.63</td>\n",
       "      <td>0.28</td>\n",
       "      <td>0.47</td>\n",
       "      <td>NaN</td>\n",
       "      <td>NaN</td>\n",
       "      <td>NaN</td>\n",
       "    </tr>\n",
       "    <tr>\n",
       "      <th>10</th>\n",
       "      <td>Nintendogs</td>\n",
       "      <td>DS</td>\n",
       "      <td>2005</td>\n",
       "      <td>Simulation</td>\n",
       "      <td>9.05</td>\n",
       "      <td>10.95</td>\n",
       "      <td>1.93</td>\n",
       "      <td>2.74</td>\n",
       "      <td>NaN</td>\n",
       "      <td>NaN</td>\n",
       "      <td>NaN</td>\n",
       "    </tr>\n",
       "    <tr>\n",
       "      <th>...</th>\n",
       "      <td>...</td>\n",
       "      <td>...</td>\n",
       "      <td>...</td>\n",
       "      <td>...</td>\n",
       "      <td>...</td>\n",
       "      <td>...</td>\n",
       "      <td>...</td>\n",
       "      <td>...</td>\n",
       "      <td>...</td>\n",
       "      <td>...</td>\n",
       "      <td>...</td>\n",
       "    </tr>\n",
       "    <tr>\n",
       "      <th>16708</th>\n",
       "      <td>Samurai Warriors: Sanada Maru</td>\n",
       "      <td>PS3</td>\n",
       "      <td>2016</td>\n",
       "      <td>Action</td>\n",
       "      <td>0.00</td>\n",
       "      <td>0.00</td>\n",
       "      <td>0.01</td>\n",
       "      <td>0.00</td>\n",
       "      <td>NaN</td>\n",
       "      <td>NaN</td>\n",
       "      <td>NaN</td>\n",
       "    </tr>\n",
       "    <tr>\n",
       "      <th>16709</th>\n",
       "      <td>LMA Manager 2007</td>\n",
       "      <td>X360</td>\n",
       "      <td>2006</td>\n",
       "      <td>Sports</td>\n",
       "      <td>0.00</td>\n",
       "      <td>0.01</td>\n",
       "      <td>0.00</td>\n",
       "      <td>0.00</td>\n",
       "      <td>NaN</td>\n",
       "      <td>NaN</td>\n",
       "      <td>NaN</td>\n",
       "    </tr>\n",
       "    <tr>\n",
       "      <th>16710</th>\n",
       "      <td>Haitaka no Psychedelica</td>\n",
       "      <td>PSV</td>\n",
       "      <td>2016</td>\n",
       "      <td>Adventure</td>\n",
       "      <td>0.00</td>\n",
       "      <td>0.00</td>\n",
       "      <td>0.01</td>\n",
       "      <td>0.00</td>\n",
       "      <td>NaN</td>\n",
       "      <td>NaN</td>\n",
       "      <td>NaN</td>\n",
       "    </tr>\n",
       "    <tr>\n",
       "      <th>16711</th>\n",
       "      <td>Spirits &amp; Spells</td>\n",
       "      <td>GBA</td>\n",
       "      <td>2003</td>\n",
       "      <td>Platform</td>\n",
       "      <td>0.01</td>\n",
       "      <td>0.00</td>\n",
       "      <td>0.00</td>\n",
       "      <td>0.00</td>\n",
       "      <td>NaN</td>\n",
       "      <td>NaN</td>\n",
       "      <td>NaN</td>\n",
       "    </tr>\n",
       "    <tr>\n",
       "      <th>16712</th>\n",
       "      <td>Winning Post 8 2016</td>\n",
       "      <td>PSV</td>\n",
       "      <td>2016</td>\n",
       "      <td>Simulation</td>\n",
       "      <td>0.00</td>\n",
       "      <td>0.00</td>\n",
       "      <td>0.01</td>\n",
       "      <td>0.00</td>\n",
       "      <td>NaN</td>\n",
       "      <td>NaN</td>\n",
       "      <td>NaN</td>\n",
       "    </tr>\n",
       "  </tbody>\n",
       "</table>\n",
       "<p>6665 rows × 11 columns</p>\n",
       "</div>"
      ],
      "text/plain": [
       "                                name platform  year_of_release         genre  \\\n",
       "1                  Super Mario Bros.      NES             1985      Platform   \n",
       "4           Pokemon Red/Pokemon Blue       GB             1996  Role-Playing   \n",
       "5                             Tetris       GB             1989        Puzzle   \n",
       "9                          Duck Hunt      NES             1984       Shooter   \n",
       "10                        Nintendogs       DS             2005    Simulation   \n",
       "...                              ...      ...              ...           ...   \n",
       "16708  Samurai Warriors: Sanada Maru      PS3             2016        Action   \n",
       "16709               LMA Manager 2007     X360             2006        Sports   \n",
       "16710        Haitaka no Psychedelica      PSV             2016     Adventure   \n",
       "16711               Spirits & Spells      GBA             2003      Platform   \n",
       "16712            Winning Post 8 2016      PSV             2016    Simulation   \n",
       "\n",
       "       na_sales  eu_sales  jp_sales  other_sales  critic_score  user_score  \\\n",
       "1         29.08      3.58      6.81         0.77           NaN         NaN   \n",
       "4         11.27      8.89     10.22         1.00           NaN         NaN   \n",
       "5         23.20      2.26      4.22         0.58           NaN         NaN   \n",
       "9         26.93      0.63      0.28         0.47           NaN         NaN   \n",
       "10         9.05     10.95      1.93         2.74           NaN         NaN   \n",
       "...         ...       ...       ...          ...           ...         ...   \n",
       "16708      0.00      0.00      0.01         0.00           NaN         NaN   \n",
       "16709      0.00      0.01      0.00         0.00           NaN         NaN   \n",
       "16710      0.00      0.00      0.01         0.00           NaN         NaN   \n",
       "16711      0.01      0.00      0.00         0.00           NaN         NaN   \n",
       "16712      0.00      0.00      0.01         0.00           NaN         NaN   \n",
       "\n",
       "      rating  \n",
       "1        NaN  \n",
       "4        NaN  \n",
       "5        NaN  \n",
       "9        NaN  \n",
       "10       NaN  \n",
       "...      ...  \n",
       "16708    NaN  \n",
       "16709    NaN  \n",
       "16710    NaN  \n",
       "16711    NaN  \n",
       "16712    NaN  \n",
       "\n",
       "[6665 rows x 11 columns]"
      ]
     },
     "execution_count": 19,
     "metadata": {},
     "output_type": "execute_result"
    }
   ],
   "source": [
    "condition = (data['critic_score'].isna()) &\\\n",
    "            (data['user_score'].isna()) &\\\n",
    "            (data['rating'].isna())\n",
    "nans = data[condition]\n",
    "nans"
   ]
  },
  {
   "cell_type": "markdown",
   "metadata": {},
   "source": [
    "Предположение подтвержается. Данная ситуация (`NaN` во всех трех столбцах) покрывает подавляющее большинство пропусков в пользовательских оценках и рейтинге ESRB, а также бОльшую часть пропусков в оценках критиков.  \n",
    "Посмотрим как пропуски распределяются по годам. Возможно, они относятся к новинкам, которые просто не успели оценить, или, наоборот, к самым старым играм, где система рейтингов еще не сформировалась."
   ]
  },
  {
   "cell_type": "code",
   "execution_count": 20,
   "metadata": {
    "scrolled": true
   },
   "outputs": [
    {
     "data": {
      "text/plain": [
       "<AxesSubplot:title={'center':'Распределение игр без рейтинга по годам'}, xlabel='Год', ylabel='Количество игр, шт.'>"
      ]
     },
     "execution_count": 20,
     "metadata": {},
     "output_type": "execute_result"
    },
    {
     "data": {
      "image/png": "[encoded data removed]",
      "text/plain": [
       "<Figure size 1152x288 with 1 Axes>"
      ]
     },
     "metadata": {
      "needs_background": "light"
     },
     "output_type": "display_data"
    }
   ],
   "source": [
    "nans['year_of_release'].value_counts().sort_index().plot(kind='bar',                                                         \n",
    "                                                         grid=True, \n",
    "                                                         figsize=(16, 4),\n",
    "                                                         xlabel='Год',\n",
    "                                                         ylabel='Количество игр, шт.',\n",
    "                                                         title = 'Распределение игр без рейтинга по годам')"
   ]
  },
  {
   "cell_type": "markdown",
   "metadata": {},
   "source": [
    "Подавляющее большинство пропусков распределено между 1994 и 2015 годом. Похоже, они не имеют отношения к новинкам или старым играм.  \n",
    "Возможно более показательной окажется связь с популярностью игр (мало/нет пользователей и критиков - мало/нет оценок)."
   ]
  },
  {
   "cell_type": "code",
   "execution_count": 21,
   "metadata": {
    "scrolled": true
   },
   "outputs": [
    {
     "data": {
      "text/html": [
       "<div>\n",
       "<style scoped>\n",
       "    .dataframe tbody tr th:only-of-type {\n",
       "        vertical-align: middle;\n",
       "    }\n",
       "\n",
       "    .dataframe tbody tr th {\n",
       "        vertical-align: top;\n",
       "    }\n",
       "\n",
       "    .dataframe thead th {\n",
       "        text-align: right;\n",
       "    }\n",
       "</style>\n",
       "<table border=\"1\" class=\"dataframe\">\n",
       "  <thead>\n",
       "    <tr style=\"text-align: right;\">\n",
       "      <th></th>\n",
       "      <th>eu_sales</th>\n",
       "      <th>jp_sales</th>\n",
       "      <th>na_sales</th>\n",
       "      <th>other_sales</th>\n",
       "    </tr>\n",
       "  </thead>\n",
       "  <tbody>\n",
       "    <tr>\n",
       "      <th>count</th>\n",
       "      <td>5771.000000</td>\n",
       "      <td>5771.000000</td>\n",
       "      <td>5771.000000</td>\n",
       "      <td>5771.000000</td>\n",
       "    </tr>\n",
       "    <tr>\n",
       "      <th>mean</th>\n",
       "      <td>0.104800</td>\n",
       "      <td>0.145408</td>\n",
       "      <td>0.214089</td>\n",
       "      <td>0.025893</td>\n",
       "    </tr>\n",
       "    <tr>\n",
       "      <th>std</th>\n",
       "      <td>0.441498</td>\n",
       "      <td>0.436100</td>\n",
       "      <td>0.954364</td>\n",
       "      <td>0.121369</td>\n",
       "    </tr>\n",
       "    <tr>\n",
       "      <th>min</th>\n",
       "      <td>0.000000</td>\n",
       "      <td>0.000000</td>\n",
       "      <td>0.000000</td>\n",
       "      <td>0.000000</td>\n",
       "    </tr>\n",
       "    <tr>\n",
       "      <th>25%</th>\n",
       "      <td>0.000000</td>\n",
       "      <td>0.000000</td>\n",
       "      <td>0.000000</td>\n",
       "      <td>0.000000</td>\n",
       "    </tr>\n",
       "    <tr>\n",
       "      <th>50%</th>\n",
       "      <td>0.000000</td>\n",
       "      <td>0.030000</td>\n",
       "      <td>0.000000</td>\n",
       "      <td>0.000000</td>\n",
       "    </tr>\n",
       "    <tr>\n",
       "      <th>75%</th>\n",
       "      <td>0.050000</td>\n",
       "      <td>0.120000</td>\n",
       "      <td>0.120000</td>\n",
       "      <td>0.010000</td>\n",
       "    </tr>\n",
       "    <tr>\n",
       "      <th>max</th>\n",
       "      <td>10.950000</td>\n",
       "      <td>10.220000</td>\n",
       "      <td>32.480000</td>\n",
       "      <td>3.490000</td>\n",
       "    </tr>\n",
       "  </tbody>\n",
       "</table>\n",
       "</div>"
      ],
      "text/plain": [
       "          eu_sales     jp_sales     na_sales  other_sales\n",
       "count  5771.000000  5771.000000  5771.000000  5771.000000\n",
       "mean      0.104800     0.145408     0.214089     0.025893\n",
       "std       0.441498     0.436100     0.954364     0.121369\n",
       "min       0.000000     0.000000     0.000000     0.000000\n",
       "25%       0.000000     0.000000     0.000000     0.000000\n",
       "50%       0.000000     0.030000     0.000000     0.000000\n",
       "75%       0.050000     0.120000     0.120000     0.010000\n",
       "max      10.950000    10.220000    32.480000     3.490000"
      ]
     },
     "execution_count": 21,
     "metadata": {},
     "output_type": "execute_result"
    }
   ],
   "source": [
    "sales_col_names = ['na_sales', 'eu_sales', 'jp_sales', 'other_sales']\n",
    "nans.pivot_table(index='name', values=sales_col_names, aggfunc='sum').describe()"
   ]
  },
  {
   "cell_type": "markdown",
   "metadata": {},
   "source": [
    "Действительно, несмотря на внушительные максимумы (до 10 миллионов в Европе и Японии, до 32 миллионов в с.Америке), 75% игр не преодолели порог в 120 тыс. проданных копий в Японии и с.Америке, и в 50 тыс. - в Европе. 50% игр в Европе и с.Америке показывают нулевые продажи.  \n",
    "\n",
    "Мы не знаем, как собирались данные, и имеем целый ряд факторов, которые могли привести к столь многочисленным пропускам: \n",
    "- на заре игровой индустрии оценки и рейтинги какое-то время просто отсутствовали. Например, [организация ESRB](https://en.wikipedia.org/wiki/Entertainment_Software_Rating_Board) появилась лишь в 1994 году. Новинки же, возможно, еще не успели оценить;\n",
    "- похоже, некоторые игры никто не заметил и они попросту не были оценены. Нет игроков - нет оценок; \n",
    "- в подавляющем большинстве случаев пропуски в оценке критиков и пользователей, а также рейтинге ESRB появляются одновременно, что может указывать на ошибку алгоритма на этапе сбора и объединения данных.\n",
    "\n",
    "Похоже, мы наблюдаем совместное влияние всех перечисленных факторов и не можем однозначно определить механизм возникновения пропусков. Данные о количестве оценок могли бы нам помочь (если игра была оценена ноль раз, значит пропуск можно заполнить нулем баллов). Однако, таких данных у нас нет. Медианные, средние и т.д. значения нам не подходят, т.к. исказят картину.\n",
    "Т.о., восстановление пропусков не представляется возможным. \n",
    "\n",
    "На текущем этапе исследования мы оставим данные, как есть. В дальнейшем, в зависимости от задачи и при необходимости, будем исключать из рассмотрения строки с пропусками.\n",
    "### Проверка\n",
    "Оценим результаты преобразований в наименовании столбцов..."
   ]
  },
  {
   "cell_type": "code",
   "execution_count": 22,
   "metadata": {},
   "outputs": [
    {
     "data": {
      "text/plain": [
       "Index(['name', 'platform', 'year_of_release', 'genre', 'na_sales', 'eu_sales',\n",
       "       'jp_sales', 'other_sales', 'critic_score', 'user_score', 'rating'],\n",
       "      dtype='object')"
      ]
     },
     "execution_count": 22,
     "metadata": {},
     "output_type": "execute_result"
    }
   ],
   "source": [
    "data.columns"
   ]
  },
  {
   "cell_type": "markdown",
   "metadata": {},
   "source": [
    "...количестве пропусков..."
   ]
  },
  {
   "cell_type": "code",
   "execution_count": 23,
   "metadata": {
    "scrolled": true
   },
   "outputs": [
    {
     "data": {
      "text/plain": [
       "name                  0\n",
       "platform              0\n",
       "year_of_release       0\n",
       "genre                 0\n",
       "na_sales              0\n",
       "eu_sales              0\n",
       "jp_sales              0\n",
       "other_sales           0\n",
       "critic_score       8576\n",
       "user_score         9123\n",
       "rating             6764\n",
       "dtype: int64"
      ]
     },
     "execution_count": 23,
     "metadata": {},
     "output_type": "execute_result"
    }
   ],
   "source": [
    "data.isna().sum()"
   ]
  },
  {
   "cell_type": "markdown",
   "metadata": {},
   "source": [
    "...и типах данных."
   ]
  },
  {
   "cell_type": "code",
   "execution_count": 24,
   "metadata": {
    "scrolled": true
   },
   "outputs": [
    {
     "data": {
      "text/plain": [
       "name                object\n",
       "platform            object\n",
       "year_of_release      int64\n",
       "genre               object\n",
       "na_sales           float64\n",
       "eu_sales           float64\n",
       "jp_sales           float64\n",
       "other_sales        float64\n",
       "critic_score       float64\n",
       "user_score         float64\n",
       "rating              object\n",
       "dtype: object"
      ]
     },
     "execution_count": 24,
     "metadata": {},
     "output_type": "execute_result"
    }
   ],
   "source": [
    "data.dtypes"
   ]
  },
  {
   "cell_type": "markdown",
   "metadata": {},
   "source": [
    "Преобразования прошли корректно.\n",
    "\n",
    "### Расчет общих продаж \n",
    "Создадим столбец `total_sales` с данными об общем количестве продаж во всех регионах. Выведем первые пять строк датасета для проверки. "
   ]
  },
  {
   "cell_type": "code",
   "execution_count": 25,
   "metadata": {},
   "outputs": [
    {
     "data": {
      "text/html": [
       "<div>\n",
       "<style scoped>\n",
       "    .dataframe tbody tr th:only-of-type {\n",
       "        vertical-align: middle;\n",
       "    }\n",
       "\n",
       "    .dataframe tbody tr th {\n",
       "        vertical-align: top;\n",
       "    }\n",
       "\n",
       "    .dataframe thead th {\n",
       "        text-align: right;\n",
       "    }\n",
       "</style>\n",
       "<table border=\"1\" class=\"dataframe\">\n",
       "  <thead>\n",
       "    <tr style=\"text-align: right;\">\n",
       "      <th></th>\n",
       "      <th>name</th>\n",
       "      <th>platform</th>\n",
       "      <th>year_of_release</th>\n",
       "      <th>genre</th>\n",
       "      <th>na_sales</th>\n",
       "      <th>eu_sales</th>\n",
       "      <th>jp_sales</th>\n",
       "      <th>other_sales</th>\n",
       "      <th>critic_score</th>\n",
       "      <th>user_score</th>\n",
       "      <th>rating</th>\n",
       "      <th>total_sales</th>\n",
       "    </tr>\n",
       "  </thead>\n",
       "  <tbody>\n",
       "    <tr>\n",
       "      <th>0</th>\n",
       "      <td>Wii Sports</td>\n",
       "      <td>Wii</td>\n",
       "      <td>2006</td>\n",
       "      <td>Sports</td>\n",
       "      <td>41.36</td>\n",
       "      <td>28.96</td>\n",
       "      <td>3.77</td>\n",
       "      <td>8.45</td>\n",
       "      <td>76.0</td>\n",
       "      <td>8.0</td>\n",
       "      <td>E</td>\n",
       "      <td>82.54</td>\n",
       "    </tr>\n",
       "    <tr>\n",
       "      <th>1</th>\n",
       "      <td>Super Mario Bros.</td>\n",
       "      <td>NES</td>\n",
       "      <td>1985</td>\n",
       "      <td>Platform</td>\n",
       "      <td>29.08</td>\n",
       "      <td>3.58</td>\n",
       "      <td>6.81</td>\n",
       "      <td>0.77</td>\n",
       "      <td>NaN</td>\n",
       "      <td>NaN</td>\n",
       "      <td>NaN</td>\n",
       "      <td>40.24</td>\n",
       "    </tr>\n",
       "    <tr>\n",
       "      <th>2</th>\n",
       "      <td>Mario Kart Wii</td>\n",
       "      <td>Wii</td>\n",
       "      <td>2008</td>\n",
       "      <td>Racing</td>\n",
       "      <td>15.68</td>\n",
       "      <td>12.76</td>\n",
       "      <td>3.79</td>\n",
       "      <td>3.29</td>\n",
       "      <td>82.0</td>\n",
       "      <td>8.3</td>\n",
       "      <td>E</td>\n",
       "      <td>35.52</td>\n",
       "    </tr>\n",
       "    <tr>\n",
       "      <th>3</th>\n",
       "      <td>Wii Sports Resort</td>\n",
       "      <td>Wii</td>\n",
       "      <td>2009</td>\n",
       "      <td>Sports</td>\n",
       "      <td>15.61</td>\n",
       "      <td>10.93</td>\n",
       "      <td>3.28</td>\n",
       "      <td>2.95</td>\n",
       "      <td>80.0</td>\n",
       "      <td>8.0</td>\n",
       "      <td>E</td>\n",
       "      <td>32.77</td>\n",
       "    </tr>\n",
       "    <tr>\n",
       "      <th>4</th>\n",
       "      <td>Pokemon Red/Pokemon Blue</td>\n",
       "      <td>GB</td>\n",
       "      <td>1996</td>\n",
       "      <td>Role-Playing</td>\n",
       "      <td>11.27</td>\n",
       "      <td>8.89</td>\n",
       "      <td>10.22</td>\n",
       "      <td>1.00</td>\n",
       "      <td>NaN</td>\n",
       "      <td>NaN</td>\n",
       "      <td>NaN</td>\n",
       "      <td>31.38</td>\n",
       "    </tr>\n",
       "  </tbody>\n",
       "</table>\n",
       "</div>"
      ],
      "text/plain": [
       "                       name platform  year_of_release         genre  na_sales  \\\n",
       "0                Wii Sports      Wii             2006        Sports     41.36   \n",
       "1         Super Mario Bros.      NES             1985      Platform     29.08   \n",
       "2            Mario Kart Wii      Wii             2008        Racing     15.68   \n",
       "3         Wii Sports Resort      Wii             2009        Sports     15.61   \n",
       "4  Pokemon Red/Pokemon Blue       GB             1996  Role-Playing     11.27   \n",
       "\n",
       "   eu_sales  jp_sales  other_sales  critic_score  user_score rating  \\\n",
       "0     28.96      3.77         8.45          76.0         8.0      E   \n",
       "1      3.58      6.81         0.77           NaN         NaN    NaN   \n",
       "2     12.76      3.79         3.29          82.0         8.3      E   \n",
       "3     10.93      3.28         2.95          80.0         8.0      E   \n",
       "4      8.89     10.22         1.00           NaN         NaN    NaN   \n",
       "\n",
       "   total_sales  \n",
       "0        82.54  \n",
       "1        40.24  \n",
       "2        35.52  \n",
       "3        32.77  \n",
       "4        31.38  "
      ]
     },
     "execution_count": 25,
     "metadata": {},
     "output_type": "execute_result"
    }
   ],
   "source": [
    "data['total_sales'] = data[sales_col_names].sum(axis=1)\n",
    "data.head()"
   ]
  },
  {
   "cell_type": "markdown",
   "metadata": {},
   "source": [
    "Преобразование прошло корректно.\n",
    "## Исследовательский анализ данных\n",
    "### Игровые релизы\n",
    "Посмотрим сколько игр было выпущено в разные годы. Строки с нулевым значением года выпуска рассматривать не будем."
   ]
  },
  {
   "cell_type": "code",
   "execution_count": 26,
   "metadata": {},
   "outputs": [
    {
     "data": {
      "text/plain": [
       "<AxesSubplot:title={'center':'Распределение игр по годам выпуска'}, xlabel='Год', ylabel='Выпущено игр, шт.'>"
      ]
     },
     "execution_count": 26,
     "metadata": {},
     "output_type": "execute_result"
    },
    {
     "data": {
      "image/png": "[encoded data removed]",
      "text/plain": [
       "<Figure size 1152x288 with 1 Axes>"
      ]
     },
     "metadata": {
      "needs_background": "light"
     },
     "output_type": "display_data"
    }
   ],
   "source": [
    "data.loc[data['year_of_release'] != 0, 'year_of_release'].value_counts()\\\n",
    "                                                         .sort_index()\\\n",
    "                                                         .plot(kind='bar', \n",
    "                                                               grid=True,\n",
    "                                                               figsize=(16, 4),\n",
    "                                                               xlabel='Год',\n",
    "                                                               ylabel='Выпущено игр, шт.',\n",
    "                                                               title='Распределение игр по годам выпуска')"
   ]
  },
  {
   "cell_type": "markdown",
   "metadata": {},
   "source": [
    "С 1980 г. наблюдаем плавный рост с историческим максимумом (чуть более 1400 релизов) в 2008-2009 г.г. Начиная с 2010 г. - спад до 2013 с локальным ростом до 2015. Учитывая, что данные за 2016 год - неполные, дальнейший тренд может быть как положительным, так и отрицательным.  \n",
    "### Игровые платформы\n",
    "Посмотрим, как продажи распределились по платформам за все время наблюдений."
   ]
  },
  {
   "cell_type": "code",
   "execution_count": 27,
   "metadata": {},
   "outputs": [
    {
     "data": {
      "text/plain": [
       "<AxesSubplot:title={'center':'Продажи игр по платформам за весь период наблюдений'}, xlabel='Платформа', ylabel='Продано игр, млн. копий'>"
      ]
     },
     "execution_count": 27,
     "metadata": {},
     "output_type": "execute_result"
    },
    {
     "data": {
      "image/png": "[encoded data removed]",
      "text/plain": [
       "<Figure size 1152x288 with 1 Axes>"
      ]
     },
     "metadata": {
      "needs_background": "light"
     },
     "output_type": "display_data"
    }
   ],
   "source": [
    "sales_by_plat = data.pivot_table(index='platform', values='total_sales', aggfunc='sum')\\\n",
    "                    .sort_values(by='total_sales', ascending=False)\n",
    "sales_by_plat.plot(kind='bar',\n",
    "                   grid=True,\n",
    "                   figsize=(16, 4),\n",
    "                   xlabel='Платформа',\n",
    "                   ylabel='Продано игр, млн. копий',\n",
    "                   title='Продажи игр по платформам за весь период наблюдений')    "
   ]
  },
  {
   "cell_type": "markdown",
   "metadata": {},
   "source": [
    "#### Лидеры продаж\n",
    "Выберем пятерку лидеров и посмотрим, как продажи распределялись по годам. Для этого сформируем сводную таблицу и взглянем на первые несколько строк. "
   ]
  },
  {
   "cell_type": "code",
   "execution_count": 28,
   "metadata": {},
   "outputs": [
    {
     "name": "stdout",
     "output_type": "stream",
     "text": [
      "Top-5 игровых платформ по объему продаж ['PS2', 'X360', 'PS3', 'Wii', 'DS']\n"
     ]
    },
    {
     "data": {
      "text/html": [
       "<div>\n",
       "<style scoped>\n",
       "    .dataframe tbody tr th:only-of-type {\n",
       "        vertical-align: middle;\n",
       "    }\n",
       "\n",
       "    .dataframe tbody tr th {\n",
       "        vertical-align: top;\n",
       "    }\n",
       "\n",
       "    .dataframe thead th {\n",
       "        text-align: right;\n",
       "    }\n",
       "</style>\n",
       "<table border=\"1\" class=\"dataframe\">\n",
       "  <thead>\n",
       "    <tr style=\"text-align: right;\">\n",
       "      <th></th>\n",
       "      <th>year_of_release</th>\n",
       "      <th>platform</th>\n",
       "      <th>total_sales</th>\n",
       "    </tr>\n",
       "  </thead>\n",
       "  <tbody>\n",
       "    <tr>\n",
       "      <th>8</th>\n",
       "      <td>1985</td>\n",
       "      <td>DS</td>\n",
       "      <td>0.02</td>\n",
       "    </tr>\n",
       "    <tr>\n",
       "      <th>94</th>\n",
       "      <td>2000</td>\n",
       "      <td>PS2</td>\n",
       "      <td>39.17</td>\n",
       "    </tr>\n",
       "    <tr>\n",
       "      <th>104</th>\n",
       "      <td>2001</td>\n",
       "      <td>PS2</td>\n",
       "      <td>166.43</td>\n",
       "    </tr>\n",
       "    <tr>\n",
       "      <th>113</th>\n",
       "      <td>2002</td>\n",
       "      <td>PS2</td>\n",
       "      <td>205.38</td>\n",
       "    </tr>\n",
       "    <tr>\n",
       "      <th>119</th>\n",
       "      <td>2003</td>\n",
       "      <td>PS2</td>\n",
       "      <td>184.31</td>\n",
       "    </tr>\n",
       "    <tr>\n",
       "      <th>121</th>\n",
       "      <td>2004</td>\n",
       "      <td>DS</td>\n",
       "      <td>17.27</td>\n",
       "    </tr>\n",
       "    <tr>\n",
       "      <th>125</th>\n",
       "      <td>2004</td>\n",
       "      <td>PS2</td>\n",
       "      <td>211.81</td>\n",
       "    </tr>\n",
       "    <tr>\n",
       "      <th>128</th>\n",
       "      <td>2005</td>\n",
       "      <td>DS</td>\n",
       "      <td>130.14</td>\n",
       "    </tr>\n",
       "    <tr>\n",
       "      <th>132</th>\n",
       "      <td>2005</td>\n",
       "      <td>PS2</td>\n",
       "      <td>160.66</td>\n",
       "    </tr>\n",
       "    <tr>\n",
       "      <th>134</th>\n",
       "      <td>2005</td>\n",
       "      <td>X360</td>\n",
       "      <td>8.25</td>\n",
       "    </tr>\n",
       "    <tr>\n",
       "      <th>136</th>\n",
       "      <td>2006</td>\n",
       "      <td>DS</td>\n",
       "      <td>119.81</td>\n",
       "    </tr>\n",
       "    <tr>\n",
       "      <th>140</th>\n",
       "      <td>2006</td>\n",
       "      <td>PS2</td>\n",
       "      <td>103.42</td>\n",
       "    </tr>\n",
       "    <tr>\n",
       "      <th>141</th>\n",
       "      <td>2006</td>\n",
       "      <td>PS3</td>\n",
       "      <td>20.96</td>\n",
       "    </tr>\n",
       "    <tr>\n",
       "      <th>143</th>\n",
       "      <td>2006</td>\n",
       "      <td>Wii</td>\n",
       "      <td>137.15</td>\n",
       "    </tr>\n",
       "    <tr>\n",
       "      <th>144</th>\n",
       "      <td>2006</td>\n",
       "      <td>X360</td>\n",
       "      <td>51.62</td>\n",
       "    </tr>\n",
       "  </tbody>\n",
       "</table>\n",
       "</div>"
      ],
      "text/plain": [
       "     year_of_release platform  total_sales\n",
       "8               1985       DS         0.02\n",
       "94              2000      PS2        39.17\n",
       "104             2001      PS2       166.43\n",
       "113             2002      PS2       205.38\n",
       "119             2003      PS2       184.31\n",
       "121             2004       DS        17.27\n",
       "125             2004      PS2       211.81\n",
       "128             2005       DS       130.14\n",
       "132             2005      PS2       160.66\n",
       "134             2005     X360         8.25\n",
       "136             2006       DS       119.81\n",
       "140             2006      PS2       103.42\n",
       "141             2006      PS3        20.96\n",
       "143             2006      Wii       137.15\n",
       "144             2006     X360        51.62"
      ]
     },
     "execution_count": 28,
     "metadata": {},
     "output_type": "execute_result"
    }
   ],
   "source": [
    "top5_plats = list(sales_by_plat.head().index)\n",
    "print('Top-5 игровых платформ по объему продаж', top5_plats)\n",
    "sales_by_year_plat = data[data['year_of_release'] != 0].pivot_table(index=['year_of_release', 'platform'],\n",
    "                                                                    values='total_sales',\n",
    "                                                                    aggfunc='sum')\\\n",
    "                                                       .reset_index()\n",
    "plat_top = sales_by_year_plat[sales_by_year_plat['platform'].isin(top5_plats)]\n",
    "plat_top.head(15)"
   ]
  },
  {
   "cell_type": "markdown",
   "metadata": {},
   "source": [
    "Данные отсортированы по году в порядке возрастания. Обратим внимание на первую строку. В 1985 году было продано 20000 копий для платформы DS. Спустя 19 лет, в 2004 эта платформа появляется вновь и показывает ежегодные продажи. Судя по всему, речь о платформе [Nintendo DS](https://ru.wikipedia.org/wiki/Nintendo_DS), выпущенной в 2004 году, т.о. в 1985 игр для нее не могло существовать. Рассмотрим аномальные данные подробнее."
   ]
  },
  {
   "cell_type": "code",
   "execution_count": 29,
   "metadata": {},
   "outputs": [
    {
     "data": {
      "text/html": [
       "<div>\n",
       "<style scoped>\n",
       "    .dataframe tbody tr th:only-of-type {\n",
       "        vertical-align: middle;\n",
       "    }\n",
       "\n",
       "    .dataframe tbody tr th {\n",
       "        vertical-align: top;\n",
       "    }\n",
       "\n",
       "    .dataframe thead th {\n",
       "        text-align: right;\n",
       "    }\n",
       "</style>\n",
       "<table border=\"1\" class=\"dataframe\">\n",
       "  <thead>\n",
       "    <tr style=\"text-align: right;\">\n",
       "      <th></th>\n",
       "      <th>name</th>\n",
       "      <th>platform</th>\n",
       "      <th>year_of_release</th>\n",
       "      <th>genre</th>\n",
       "      <th>na_sales</th>\n",
       "      <th>eu_sales</th>\n",
       "      <th>jp_sales</th>\n",
       "      <th>other_sales</th>\n",
       "      <th>critic_score</th>\n",
       "      <th>user_score</th>\n",
       "      <th>rating</th>\n",
       "      <th>total_sales</th>\n",
       "    </tr>\n",
       "  </thead>\n",
       "  <tbody>\n",
       "    <tr>\n",
       "      <th>15956</th>\n",
       "      <td>Strongest Tokyo University Shogi DS</td>\n",
       "      <td>DS</td>\n",
       "      <td>1985</td>\n",
       "      <td>Action</td>\n",
       "      <td>0.0</td>\n",
       "      <td>0.0</td>\n",
       "      <td>0.02</td>\n",
       "      <td>0.0</td>\n",
       "      <td>NaN</td>\n",
       "      <td>NaN</td>\n",
       "      <td>NaN</td>\n",
       "      <td>0.02</td>\n",
       "    </tr>\n",
       "  </tbody>\n",
       "</table>\n",
       "</div>"
      ],
      "text/plain": [
       "                                      name platform  year_of_release   genre  \\\n",
       "15956  Strongest Tokyo University Shogi DS       DS             1985  Action   \n",
       "\n",
       "       na_sales  eu_sales  jp_sales  other_sales  critic_score  user_score  \\\n",
       "15956       0.0       0.0      0.02          0.0           NaN         NaN   \n",
       "\n",
       "      rating  total_sales  \n",
       "15956    NaN         0.02  "
      ]
     },
     "execution_count": 29,
     "metadata": {},
     "output_type": "execute_result"
    }
   ],
   "source": [
    "data[(data['platform'] == 'DS') & (data['year_of_release'] == 1985)]"
   ]
  },
  {
   "cell_type": "markdown",
   "metadata": {},
   "source": [
    "Нашли единственную строку, которая дала те самые 20000 проданных копий. [Strongest Tokyo University Shogi DS](https://translate.google.com/?sl=auto&tl=en&text=Saikyou%20Toudai%20Shogi%0A&op=translate) или [Saikyou Toudai Shogi DS](https://gamefaqs.gamespot.com/ds/937837-saikyou-toudai-shogi-ds/data) - это игра для платформы DS, выпущенная в Японии в 2007 году. Исправим ошибку в данных, проверим результат и вернемся к исследованию."
   ]
  },
  {
   "cell_type": "code",
   "execution_count": 30,
   "metadata": {},
   "outputs": [
    {
     "data": {
      "text/html": [
       "<div>\n",
       "<style scoped>\n",
       "    .dataframe tbody tr th:only-of-type {\n",
       "        vertical-align: middle;\n",
       "    }\n",
       "\n",
       "    .dataframe tbody tr th {\n",
       "        vertical-align: top;\n",
       "    }\n",
       "\n",
       "    .dataframe thead th {\n",
       "        text-align: right;\n",
       "    }\n",
       "</style>\n",
       "<table border=\"1\" class=\"dataframe\">\n",
       "  <thead>\n",
       "    <tr style=\"text-align: right;\">\n",
       "      <th></th>\n",
       "      <th>name</th>\n",
       "      <th>platform</th>\n",
       "      <th>year_of_release</th>\n",
       "      <th>genre</th>\n",
       "      <th>na_sales</th>\n",
       "      <th>eu_sales</th>\n",
       "      <th>jp_sales</th>\n",
       "      <th>other_sales</th>\n",
       "      <th>critic_score</th>\n",
       "      <th>user_score</th>\n",
       "      <th>rating</th>\n",
       "      <th>total_sales</th>\n",
       "    </tr>\n",
       "  </thead>\n",
       "  <tbody>\n",
       "    <tr>\n",
       "      <th>15956</th>\n",
       "      <td>Strongest Tokyo University Shogi DS</td>\n",
       "      <td>DS</td>\n",
       "      <td>2007</td>\n",
       "      <td>Action</td>\n",
       "      <td>0.0</td>\n",
       "      <td>0.0</td>\n",
       "      <td>0.02</td>\n",
       "      <td>0.0</td>\n",
       "      <td>NaN</td>\n",
       "      <td>NaN</td>\n",
       "      <td>NaN</td>\n",
       "      <td>0.02</td>\n",
       "    </tr>\n",
       "  </tbody>\n",
       "</table>\n",
       "</div>"
      ],
      "text/plain": [
       "                                      name platform  year_of_release   genre  \\\n",
       "15956  Strongest Tokyo University Shogi DS       DS             2007  Action   \n",
       "\n",
       "       na_sales  eu_sales  jp_sales  other_sales  critic_score  user_score  \\\n",
       "15956       0.0       0.0      0.02          0.0           NaN         NaN   \n",
       "\n",
       "      rating  total_sales  \n",
       "15956    NaN         0.02  "
      ]
     },
     "execution_count": 30,
     "metadata": {},
     "output_type": "execute_result"
    }
   ],
   "source": [
    "data.loc[data['name'] == 'Strongest Tokyo University Shogi DS', 'year_of_release'] = 2007\n",
    "data[data['name'] == 'Strongest Tokyo University Shogi DS']"
   ]
  },
  {
   "cell_type": "markdown",
   "metadata": {},
   "source": [
    "Ошибка исправлена.  \n",
    "Сформируем сводную таблицу с уточненными данными и рассмотрим на диаграмме распределение продаж по годам."
   ]
  },
  {
   "cell_type": "code",
   "execution_count": 31,
   "metadata": {},
   "outputs": [
    {
     "data": {
      "image/png": "[encoded data removed]",
      "text/plain": [
       "<Figure size 1152x288 with 1 Axes>"
      ]
     },
     "metadata": {
      "needs_background": "light"
     },
     "output_type": "display_data"
    }
   ],
   "source": [
    "sales_by_year_plat = data[data['year_of_release'] != 0].pivot_table(index=['year_of_release', 'platform'],\n",
    "                                                                    values='total_sales',\n",
    "                                                                    aggfunc='sum')\\\n",
    "                                                       .reset_index()\n",
    "plat_top = sales_by_year_plat[sales_by_year_plat['platform'].isin(top5_plats)]\n",
    "fig, axes = plt.subplots(figsize=(16, 4))\n",
    "sns.barplot(ax=axes, \n",
    "            data=plat_top,\n",
    "            x=\"year_of_release\", \n",
    "            y=\"total_sales\", \n",
    "            hue=\"platform\")\n",
    "fig.show()"
   ]
  },
  {
   "cell_type": "markdown",
   "metadata": {},
   "source": [
    "Распределение продаж для всех платформ походит на нормальное, имеет выраженые периоды подъема, пика и спада. Следовательно, сами платформы имеют некий цикл жизни, составляющий, судя по графику, 9-10 лет. PS2, DS и Wii, по состоянию на 2016 г., уже неактуальны, а PS3 и X360 - явно находятся в конце жизненного цикла.  \n",
    "Справедливо предположить, что современные растущие игровые платформы в данном графике не отражены, т.к. еще не могут конкурировать с рассматриваемыми по объемам продаж. В дальнейшем исследовании мы определим и учтем такие актуальные платформы.\n",
    "#### Жизненный цикл\n",
    "Благодаря тому, что рассматриваемые платформы - лидеры продаж за всю историю, полностью или почти полностью завершили свой жизненный цикл, мы можем определить его среднюю продолжительность аналитически."
   ]
  },
  {
   "cell_type": "code",
   "execution_count": 32,
   "metadata": {},
   "outputs": [
    {
     "name": "stdout",
     "output_type": "stream",
     "text": [
      "Средняя продолжительность жизненного цикла среди платформ-лидеров рынка составляет 10.2 лет.\n"
     ]
    }
   ],
   "source": [
    "plat_life_cycle = plat_top.pivot_table(index='platform', \n",
    "                                       values='year_of_release', \n",
    "                                       aggfunc=['min', 'max'])\n",
    "plat_life_cycle.columns = ['bol', 'eol']\n",
    "mean = (plat_life_cycle['eol'] - plat_life_cycle['bol']).mean()\n",
    "print('Средняя продолжительность жизненного цикла среди платформ-лидеров рынка составляет', mean, 'лет.')"
   ]
  },
  {
   "cell_type": "markdown",
   "metadata": {},
   "source": [
    "#### Перспективные \n",
    "Определим перспективные, развивающиеся игровые платформы. Ранее мы убедились, что среди лидеров рынка таковых нет. Для наглядности исключим их, и рассмотрим данные с 2011 года. "
   ]
  },
  {
   "cell_type": "code",
   "execution_count": 33,
   "metadata": {},
   "outputs": [
    {
     "data": {
      "image/png": "[encoded data removed]",
      "text/plain": [
       "<Figure size 1152x288 with 1 Axes>"
      ]
     },
     "metadata": {
      "needs_background": "light"
     },
     "output_type": "display_data"
    }
   ],
   "source": [
    "condition = (sales_by_year_plat['year_of_release'] > 2010) &\\\n",
    "            (~sales_by_year_plat['platform'].isin(top5_plats))\n",
    "plat_actual = sales_by_year_plat[condition]\n",
    "fig, axes = plt.subplots(figsize=(16, 4))\n",
    "sns.barplot(ax=axes,\n",
    "            data=plat_actual,\n",
    "            x=\"year_of_release\", \n",
    "            y=\"total_sales\", \n",
    "            hue=\"platform\")\n",
    "fig.show()"
   ]
  },
  {
   "cell_type": "markdown",
   "metadata": {},
   "source": [
    "Как отмечалось ранее, данные за 2016 год могут быть неполными, поэтому достоверным будем считать период до 2015 включительно. Платформы 3DS и PSP заканчивают жизненный цикл. PSV и WiiU, несмотря на относительную новизну, не показали бурного роста, а к 2015 году демонстрируют падение. Платформа PC так же не выглядит перспективной.  \n",
    "В то же время PS4 и XOne (представлены в 2013 году), находясь в 1й половине жизненного цикла и показывая рост продаж, являются потенциально прибыльными.\n",
    "### Выбор актуального периода\n",
    "Для дальнейшего исследования необходимо выделить из всей истории налбюдений некий период, позволяющий сделать предположения относительно 2017 года. Этот период должен отражать текущие тренды игровой индустрии в объеме выпуска, продажах игр, а также акутальных игровых платформах.  \n",
    "Сосредоточимся на данных, начиная с 2013 года. Этот период представляется наиболее актуальным по двум причинам: \n",
    " - с 2013 количество выпускаемых игр с каждым годом растет, задавая тренд. Вполне возможно, этот рост продолжится и в 2016 году (нужны полные данные);\n",
    " - в 2013 году были выпущены потенциально наиболее прибыльные игровые платформы PS4 и XOne. С 2014 года они являются лидерами продаж."
   ]
  },
  {
   "cell_type": "code",
   "execution_count": 34,
   "metadata": {},
   "outputs": [],
   "source": [
    "data2013 = data[data['year_of_release'] > 2012]"
   ]
  },
  {
   "cell_type": "markdown",
   "metadata": {},
   "source": [
    "### Диаграмма размаха игровых продаж \n",
    "Рассмотрим суммарные продажи игр по разным платформам в формате диаграммы размаха."
   ]
  },
  {
   "cell_type": "code",
   "execution_count": 35,
   "metadata": {},
   "outputs": [
    {
     "data": {
      "image/png": "[encoded data removed]",
      "text/plain": [
       "<Figure size 1152x288 with 1 Axes>"
      ]
     },
     "metadata": {
      "needs_background": "light"
     },
     "output_type": "display_data"
    }
   ],
   "source": [
    "fig, axis = plt.subplots(figsize=(16, 4))\n",
    "a = sns.boxplot(ax=axis, data=data2013, x='total_sales', y='platform')\n",
    "a.set_xlim(0, 2)\n",
    "fig.show()"
   ]
  },
  {
   "cell_type": "markdown",
   "metadata": {},
   "source": [
    "Обратим внимание на две особенности, характерные для всех платформ. \n",
    "1. Отрезок Q2-Q3 (медиана-3й квартиль) в разы превышает отрезок Q1-Q2 (1й квартиль-медиана). Это значит, что игры из второй половины выбоки имеют больший разброс и гораздо сильнее отличаются друг от друга по продажам, нежели игры первой половины.\n",
    "2. Множество \"выбросов\" указывает не на аномалии, а на эффект, характерный для высококонкурентных массовых продаж: на фоне общей массы выделяются абсолютные хиты. \n",
    "\n",
    "### Влияние оценки пользователей и критиков на продажи\n",
    "Оценим, как на продажи влияют отзывы пользователей и критиков. Для этого выберем 3 популярные платформы: PS4, XOne и X360. Чтобы получить более качественную картину, очистим данные от строк:\n",
    " - с пропусками и значением-маркером (-1) в оценке пользователей;\n",
    " - с пропусками в оценке критиков."
   ]
  },
  {
   "cell_type": "code",
   "execution_count": 36,
   "metadata": {},
   "outputs": [],
   "source": [
    "condition = ~((data2013['user_score'].isna()) | (data2013['critic_score'].isna()))\n",
    "sales_by_score = data2013[condition]"
   ]
  },
  {
   "cell_type": "code",
   "execution_count": 37,
   "metadata": {},
   "outputs": [],
   "source": [
    "def display_corr(data, platform):\n",
    "    \"\"\"По данным датасета строит для игровой платформы: \n",
    "     - матрицу корреляции для оценок пользователей, критиков и суммарных продаж;\n",
    "     - диаграмму рассеяния для оценок пользователей и суммарных продаж;\n",
    "     - диаграмму рассеяния для оценок критиков и суммарных продаж.\n",
    "    \n",
    "    Параметры:\n",
    "    data -- датасет с данными\n",
    "    platform -- наименование игровой плаформы\n",
    "    \"\"\"\n",
    "    d = data.loc[data['platform'] == platform, ['critic_score', 'user_score', 'total_sales']]\n",
    "    print('Матрица корреляции для', platform)\n",
    "    display(d.corr())\n",
    "    print('Диаграммы соответствия продаж оценкам пользователей и критиков для', platform)\n",
    "    fig, axis = plt.subplots(1, 2, figsize=(16,4))\n",
    "    sns.scatterplot(ax=axis[0], x='user_score', y='total_sales', data=d, alpha=0.6)\n",
    "    sns.scatterplot(ax=axis[1], x='critic_score', y='total_sales', data=d, alpha=0.6)\n",
    "    fig.show()"
   ]
  },
  {
   "cell_type": "code",
   "execution_count": 38,
   "metadata": {},
   "outputs": [
    {
     "name": "stdout",
     "output_type": "stream",
     "text": [
      "Матрица корреляции для PS4\n"
     ]
    },
    {
     "data": {
      "text/html": [
       "<div>\n",
       "<style scoped>\n",
       "    .dataframe tbody tr th:only-of-type {\n",
       "        vertical-align: middle;\n",
       "    }\n",
       "\n",
       "    .dataframe tbody tr th {\n",
       "        vertical-align: top;\n",
       "    }\n",
       "\n",
       "    .dataframe thead th {\n",
       "        text-align: right;\n",
       "    }\n",
       "</style>\n",
       "<table border=\"1\" class=\"dataframe\">\n",
       "  <thead>\n",
       "    <tr style=\"text-align: right;\">\n",
       "      <th></th>\n",
       "      <th>critic_score</th>\n",
       "      <th>user_score</th>\n",
       "      <th>total_sales</th>\n",
       "    </tr>\n",
       "  </thead>\n",
       "  <tbody>\n",
       "    <tr>\n",
       "      <th>critic_score</th>\n",
       "      <td>1.000000</td>\n",
       "      <td>0.557654</td>\n",
       "      <td>0.405895</td>\n",
       "    </tr>\n",
       "    <tr>\n",
       "      <th>user_score</th>\n",
       "      <td>0.557654</td>\n",
       "      <td>1.000000</td>\n",
       "      <td>-0.033625</td>\n",
       "    </tr>\n",
       "    <tr>\n",
       "      <th>total_sales</th>\n",
       "      <td>0.405895</td>\n",
       "      <td>-0.033625</td>\n",
       "      <td>1.000000</td>\n",
       "    </tr>\n",
       "  </tbody>\n",
       "</table>\n",
       "</div>"
      ],
      "text/plain": [
       "              critic_score  user_score  total_sales\n",
       "critic_score      1.000000    0.557654     0.405895\n",
       "user_score        0.557654    1.000000    -0.033625\n",
       "total_sales       0.405895   -0.033625     1.000000"
      ]
     },
     "metadata": {},
     "output_type": "display_data"
    },
    {
     "name": "stdout",
     "output_type": "stream",
     "text": [
      "Диаграммы соответствия продаж оценкам пользователей и критиков для PS4\n"
     ]
    },
    {
     "data": {
      "image/png": "[encoded data removed]",
      "text/plain": [
       "<Figure size 1152x288 with 2 Axes>"
      ]
     },
     "metadata": {
      "needs_background": "light"
     },
     "output_type": "display_data"
    }
   ],
   "source": [
    "display_corr(sales_by_score, 'PS4')"
   ]
  },
  {
   "cell_type": "code",
   "execution_count": 39,
   "metadata": {},
   "outputs": [
    {
     "name": "stdout",
     "output_type": "stream",
     "text": [
      "Матрица корреляции для XOne\n"
     ]
    },
    {
     "data": {
      "text/html": [
       "<div>\n",
       "<style scoped>\n",
       "    .dataframe tbody tr th:only-of-type {\n",
       "        vertical-align: middle;\n",
       "    }\n",
       "\n",
       "    .dataframe tbody tr th {\n",
       "        vertical-align: top;\n",
       "    }\n",
       "\n",
       "    .dataframe thead th {\n",
       "        text-align: right;\n",
       "    }\n",
       "</style>\n",
       "<table border=\"1\" class=\"dataframe\">\n",
       "  <thead>\n",
       "    <tr style=\"text-align: right;\">\n",
       "      <th></th>\n",
       "      <th>critic_score</th>\n",
       "      <th>user_score</th>\n",
       "      <th>total_sales</th>\n",
       "    </tr>\n",
       "  </thead>\n",
       "  <tbody>\n",
       "    <tr>\n",
       "      <th>critic_score</th>\n",
       "      <td>1.000000</td>\n",
       "      <td>0.472462</td>\n",
       "      <td>0.410422</td>\n",
       "    </tr>\n",
       "    <tr>\n",
       "      <th>user_score</th>\n",
       "      <td>0.472462</td>\n",
       "      <td>1.000000</td>\n",
       "      <td>-0.094003</td>\n",
       "    </tr>\n",
       "    <tr>\n",
       "      <th>total_sales</th>\n",
       "      <td>0.410422</td>\n",
       "      <td>-0.094003</td>\n",
       "      <td>1.000000</td>\n",
       "    </tr>\n",
       "  </tbody>\n",
       "</table>\n",
       "</div>"
      ],
      "text/plain": [
       "              critic_score  user_score  total_sales\n",
       "critic_score      1.000000    0.472462     0.410422\n",
       "user_score        0.472462    1.000000    -0.094003\n",
       "total_sales       0.410422   -0.094003     1.000000"
      ]
     },
     "metadata": {},
     "output_type": "display_data"
    },
    {
     "name": "stdout",
     "output_type": "stream",
     "text": [
      "Диаграммы соответствия продаж оценкам пользователей и критиков для XOne\n"
     ]
    },
    {
     "data": {
      "image/png": "[encoded data removed]",
      "text/plain": [
       "<Figure size 1152x288 with 2 Axes>"
      ]
     },
     "metadata": {
      "needs_background": "light"
     },
     "output_type": "display_data"
    }
   ],
   "source": [
    "display_corr(sales_by_score, 'XOne')"
   ]
  },
  {
   "cell_type": "code",
   "execution_count": 40,
   "metadata": {},
   "outputs": [
    {
     "name": "stdout",
     "output_type": "stream",
     "text": [
      "Матрица корреляции для X360\n"
     ]
    },
    {
     "data": {
      "text/html": [
       "<div>\n",
       "<style scoped>\n",
       "    .dataframe tbody tr th:only-of-type {\n",
       "        vertical-align: middle;\n",
       "    }\n",
       "\n",
       "    .dataframe tbody tr th {\n",
       "        vertical-align: top;\n",
       "    }\n",
       "\n",
       "    .dataframe thead th {\n",
       "        text-align: right;\n",
       "    }\n",
       "</style>\n",
       "<table border=\"1\" class=\"dataframe\">\n",
       "  <thead>\n",
       "    <tr style=\"text-align: right;\">\n",
       "      <th></th>\n",
       "      <th>critic_score</th>\n",
       "      <th>user_score</th>\n",
       "      <th>total_sales</th>\n",
       "    </tr>\n",
       "  </thead>\n",
       "  <tbody>\n",
       "    <tr>\n",
       "      <th>critic_score</th>\n",
       "      <td>1.000000</td>\n",
       "      <td>0.520946</td>\n",
       "      <td>0.350345</td>\n",
       "    </tr>\n",
       "    <tr>\n",
       "      <th>user_score</th>\n",
       "      <td>0.520946</td>\n",
       "      <td>1.000000</td>\n",
       "      <td>-0.006238</td>\n",
       "    </tr>\n",
       "    <tr>\n",
       "      <th>total_sales</th>\n",
       "      <td>0.350345</td>\n",
       "      <td>-0.006238</td>\n",
       "      <td>1.000000</td>\n",
       "    </tr>\n",
       "  </tbody>\n",
       "</table>\n",
       "</div>"
      ],
      "text/plain": [
       "              critic_score  user_score  total_sales\n",
       "critic_score      1.000000    0.520946     0.350345\n",
       "user_score        0.520946    1.000000    -0.006238\n",
       "total_sales       0.350345   -0.006238     1.000000"
      ]
     },
     "metadata": {},
     "output_type": "display_data"
    },
    {
     "name": "stdout",
     "output_type": "stream",
     "text": [
      "Диаграммы соответствия продаж оценкам пользователей и критиков для X360\n"
     ]
    },
    {
     "data": {
      "image/png": "[encoded data removed]",
      "text/plain": [
       "<Figure size 1152x288 with 2 Axes>"
      ]
     },
     "metadata": {
      "needs_background": "light"
     },
     "output_type": "display_data"
    }
   ],
   "source": [
    "display_corr(sales_by_score, 'X360')"
   ]
  },
  {
   "cell_type": "markdown",
   "metadata": {},
   "source": [
    "На диаграммах рассеяния для всех трех платформ просматривается некое лиенйное соответствие, однако сложно назвать его выраженным. Корреляция для PS4, XOne и X360 между продажами:\n",
    " -  и оценками критиков - положительная, невысокая, с коэффициентами: 0.406, 0.410 и 0.350 соответственно;\n",
    " -  и оценками пользователей - отрицательная, околонулевая, с коэффициентами: -0.033, -0.094 и -0.006 соответственно.\n",
    "\n",
    "Отсюда можно сделать следующие выводы: \n",
    " - часто игры со средними оценками продаются хорошо. И наоборот: игры с высокими оценками продаются средне;\n",
    " - высокая оценка критиков в ряде случаев соответствует высоким продажам игры;\n",
    " - оценка пользователей практически не влияет на продажи.\n",
    "\n",
    "Слабое (или отсутствующее) влияние оценок на продажи - контринтуитивно и требует проверки на данных из альтернативных источников. \n",
    "### Распределение игр по жанрам\n",
    "Рассмотрим, как игровые жанры распределены по объему релизов и медианному объему продаж."
   ]
  },
  {
   "cell_type": "code",
   "execution_count": 41,
   "metadata": {
    "scrolled": true
   },
   "outputs": [
    {
     "name": "stdout",
     "output_type": "stream",
     "text": [
      "Распределение игровых жанров по объему выпуска и медианному объему продаж\n"
     ]
    },
    {
     "data": {
      "image/png": "[encoded data removed]",
      "text/plain": [
       "<Figure size 1152x288 with 2 Axes>"
      ]
     },
     "metadata": {
      "needs_background": "light"
     },
     "output_type": "display_data"
    }
   ],
   "source": [
    "sales_by_gen = data2013.pivot_table(index='genre', values='total_sales', aggfunc=['count', 'median']).reset_index()\n",
    "sales_by_gen.columns = ['genre', 'releases', 'sales']\n",
    "\n",
    "print('Распределение игровых жанров по объему выпуска и медианному объему продаж')\n",
    "fig, axes = plt.subplots(1, 2, figsize=(16,4))\n",
    "sns.barplot(ax=axes[0], \n",
    "            x='releases', \n",
    "            y='genre', \n",
    "            data=sales_by_gen.sort_values(by='releases', ascending=False))\n",
    "sns.barplot(ax=axes[1], \n",
    "            x='sales',\n",
    "            y='genre',\n",
    "            data=sales_by_gen.sort_values(by='sales', ascending=False))\n",
    "fig.show()"
   ]
  },
  {
   "cell_type": "markdown",
   "metadata": {},
   "source": [
    "По объему выпуска лидируют жанры Action, Role-Playing, Adventure, Sports и Shooter. Минимальные объемы выпуска, в порядке убывания, показывают Simulation, Strategy и Puzzle.  \n",
    "При этом наиболее продаваемые жанры - Shooter, Sports, Platform, Role-Playing и Fighting. Минимальные объемы продаж в порядке убывания показывают Strategy, Puzzle и Adventure.  \n",
    "По совокупности характеристик, жанры Shooter, Sports и Platform выглядят наиболее потенциально прибыльными.\n",
    "### Региональный портрет пользователя\n",
    "#### Популярные платформы\n",
    "Для каждого региона (NA, EU, JP) выберем 5 наиболее популярных платформ и оценим их доли в общем объеме продаж."
   ]
  },
  {
   "cell_type": "code",
   "execution_count": 42,
   "metadata": {},
   "outputs": [],
   "source": [
    "def display_market_share(data, by, top5=True):\n",
    "    \"\"\"Строит по данным датасета круговые диаграммы продаж \n",
    "    для рынков с.Америки, Европы и Японии.\n",
    "\n",
    "    Параметры:\n",
    "    data -- датасет с данными о продажах\n",
    "    by -- признак для подсчета продаж (platform, genre, rating...)    \n",
    "    top5 -- флаг пятерки лидеров (default True). \n",
    "            True - продажи рассчитываются среди top-5 признака by по убыванию. \n",
    "            False - продажи рассчитываются среди всех значений by.\n",
    "    \"\"\"\n",
    "    d = data.pivot_table(index=by, values=['na_sales', 'eu_sales', 'jp_sales'], aggfunc='sum').reset_index()\n",
    "    if top5:\n",
    "        na = d.sort_values(by='na_sales', ascending=False).head()\n",
    "        eu = d.sort_values(by='eu_sales', ascending=False).head()\n",
    "        jp = d.sort_values(by='jp_sales', ascending=False).head()        \n",
    "    else:\n",
    "        na = d.sort_values(by='na_sales', ascending=False)\n",
    "        eu = d.sort_values(by='eu_sales', ascending=False)\n",
    "        jp = d.sort_values(by='jp_sales', ascending=False)\n",
    "        \n",
    "    fig, axes = plt.subplots(1, 3, figsize=(16,5))\n",
    "    axes[0].pie(x=na['na_sales'], labels=na[by], autopct='%.2f%%')\n",
    "    axes[1].pie(x=eu['eu_sales'], labels=eu[by], autopct='%.2f%%')\n",
    "    axes[2].pie(x=jp['jp_sales'], labels=jp[by], autopct='%.2f%%')\n",
    "    fig.show()"
   ]
  },
  {
   "cell_type": "code",
   "execution_count": 43,
   "metadata": {},
   "outputs": [
    {
     "name": "stdout",
     "output_type": "stream",
     "text": [
      "Объем продаж в долях рынка среди top-5 платформ в с.Америке, Европе и Японии\n"
     ]
    },
    {
     "data": {
      "image/png": "[encoded data removed]",
      "text/plain": [
       "<Figure size 1152x360 with 3 Axes>"
      ]
     },
     "metadata": {},
     "output_type": "display_data"
    }
   ],
   "source": [
    "print('Объем продаж в долях рынка среди top-5 платформ в с.Америке, Европе и Японии')\n",
    "display_market_share(data2013, 'platform')"
   ]
  },
  {
   "cell_type": "markdown",
   "metadata": {},
   "source": [
    "В с.Америке лидируют перспективные PS4 (28.32%) и XOne (24.17%), занимая чуть более половины рынка, заметная доля принадлежит X360 (21,20%). PS3 (16.48%) и 3DS (9.92%) замыкают пятерку лидеров.\n",
    "\n",
    "В Европе перспективным платформам PS4 и XOne (42.25% и 15.45% соответственно) принадлежит почти 60% рынка с заметным перевесом в пользу PS4. Пятая часть (20.3%) - за платформой PS3. X360 (12.73%) и 3DS (9.27%) замыкают пятерку лидеров.\n",
    "\n",
    "В Японии половина рынка принадлежит единственной платформе - 3DS (49.64%). Около 30% - за PS3 (17.09%) и PSV (13.61%). Перспективная PS4 занимает всего 11.68%. Замыкает пятерку WiiU (7.97%). \n",
    "\n",
    "Рынки с.Америки и Европы схожи в приверженности к современным, перспективным платформам PS4 и XOne. При этом заметное место в структуре продаж играют и \"доживающие\" платформы (X360, PS3, 3DS). Японский рынок - гораздо более консервативен: PS4 занимает чуть больше 10% рынка, а XOne - вовсе отсутсвует.\n",
    "#### Популярные жанры\n",
    "Для каждого региона (NA, EU, JP) выберем 5 наиболее популярных жанров и оценим их доли в общем объеме продаж."
   ]
  },
  {
   "cell_type": "code",
   "execution_count": 44,
   "metadata": {
    "scrolled": true
   },
   "outputs": [
    {
     "name": "stdout",
     "output_type": "stream",
     "text": [
      "Объем продаж в долях рынка среди top-5 игровых жанров в с.Америке, Европе и Японии\n"
     ]
    },
    {
     "data": {
      "image/png": "[encoded data removed]",
      "text/plain": [
       "<Figure size 1152x360 with 3 Axes>"
      ]
     },
     "metadata": {},
     "output_type": "display_data"
    }
   ],
   "source": [
    "print('Объем продаж в долях рынка среди top-5 игровых жанров в с.Америке, Европе и Японии')\n",
    "display_market_share(data2013, 'genre')"
   ]
  },
  {
   "cell_type": "markdown",
   "metadata": {},
   "source": [
    "Рынки с.Америки и Европы почти не отличаются количественно и качественно. Жанры Action и Shooter занимают около 63%, Sports - около 18%, Role-Playing - около 12%. Приблизительно 7% приходится на Misc - в с.Америке и Racing - в Европе. Это и есть единственное значимое отличие между данными регионами.  \n",
    "\n",
    "Япония демонстрирует принципально иную картину. Наиболее популярный жанр - Role-Playing (44.39%). Доля Action (35.24%) схожа с Европейским (36.50%) и с.Американским (33.62%) рынком. Замыкают пятерку жанров: Misc (8%), Fighting (6.65%) и Shooter, с минимальной долей - 5.75%. Жанры Sports и Racing в Японии не представлены.\n",
    "\n",
    "Похоже, жанровая структура обусловлена культурно-историческими особенностями регионов:\n",
    " - весьма схожими, в случае с.Америки и Европы;\n",
    " - и отличными, в случае Японии.\n",
    " \n",
    "#### Влияние рейтинга ESRB \n",
    "Рейтинг [ESRB](https://ru.wikipedia.org/wiki/Entertainment_Software_Rating_Board) актуален для с.Американского региона. В Европе используется рейтинг [PEGI](https://ru.wikipedia.org/wiki/Pan_European_Game_Information), а в Японии - [CERO](https://ru.wikipedia.org/wiki/Computer_Entertainment_Rating_Organization). Т.о., для многих игровых релизов рейтинга ESRB может не быть, что подтверждается внушительным количеством пропусков в нашем датасете. В данной части исследования поробуем  учесть эти пропуски, предварительно промаркировав их значением `unknown`."
   ]
  },
  {
   "cell_type": "code",
   "execution_count": 45,
   "metadata": {},
   "outputs": [
    {
     "name": "stdout",
     "output_type": "stream",
     "text": [
      "Объем продаж в долях рынка среди рейтингов ESRB в с.Америке, Европе и Японии\n"
     ]
    },
    {
     "data": {
      "image/png": "[encoded data removed]",
      "text/plain": [
       "<Figure size 1152x360 with 3 Axes>"
      ]
     },
     "metadata": {},
     "output_type": "display_data"
    }
   ],
   "source": [
    "data2013_rating = data2013.copy()\n",
    "data2013_rating['rating'] = data2013_rating['rating'].fillna('unknown')\n",
    "print('Объем продаж в долях рынка среди рейтингов ESRB в с.Америке, Европе и Японии')\n",
    "display_market_share(data2013_rating, 'rating', top5=False)"
   ]
  },
  {
   "cell_type": "markdown",
   "metadata": {},
   "source": [
    "Расшифровка рейтингов ESRB по [данным](https://ru.wikipedia.org/wiki/Entertainment_Software_Rating_Board) Википедии: \n",
    " - «E» («Everyone») — «Для всех»: Содержание вполне подходит для всех возрастов. Такие игры могут понравиться и взрослым. Игры с этим рейтингом могут содержать минимальное насилие, в основном «мультяшного» характера. Первоначально \"K-A\" (\"Kids to Adults\");\n",
    " - «E10+» («Everyone 10 and older») — «Для всех от 10 лет и старше»: Проекты с данным рейтингом могут содержать или немного больше мультипликационного или мягкого насилия, или несколько откровенные сцены, или минимальное количество крови;\n",
    " - «T» («Teen») — «Подросткам»: Игра подходит для лиц от 13 лет. Проекты из данной категории могут содержать насилие, непристойные сцены, грубый юмор, в меру откровенное сексуальное содержимое, кровь или нечастое использование ненормативной лексики;\n",
    " - «M» («Mature») — «Для взрослых»: Материалы игры не подходят для лиц младше 17 лет. Проекты с данным рейтингом могут содержать достаточно жестокое насилие, большое количество крови с расчленением, непристойные сексуальные сцены или грубую ненормативную лексику, нежелательную для младшей аудитории.\n",
    " \n",
    "Кроме того, для неизвестного рейтинга мы используем значение-маркер `unknown`. \n",
    " \n",
    "Рынки с.Америки и Европы отличаются незначительно и демонстрируют схожие доли продаж по всем рейтингам. В Японии принципиально иная картина: ~60% продаж приходится на релизы с неизвестным рейтингом ESRB, что лишний раз указывает на обособленность данного рынка. Вероятно, это также связано с активным использованием национальной рейтинговой системы CERO. \n",
    "## Статистический анализ данных\n",
    "Для дальнейшей проверки гипотез очистим датасет от строк с пропусками в пользовательских оценках. "
   ]
  },
  {
   "cell_type": "code",
   "execution_count": 46,
   "metadata": {},
   "outputs": [],
   "source": [
    "usr_score = data2013[~data2013['user_score'].isna()]"
   ]
  },
  {
   "cell_type": "markdown",
   "metadata": {},
   "source": [
    "Статистическую значимость гипотез будем проверять с помощью Т критерия для двух независимых выборок, функцией `ttest_ind(a, b, equal_var=True)` из библиотеки `scipy.stats`, где: \n",
    " - `a` и `b`: независимые выборки;\n",
    " - `equal_var`: флаг равенства выборочных дисперсий (по умолчанию True). При `equal_var=True`, применяется Т критерий Стьюдента, предполагающий равные дисперсии сравниваемых генеральных совокупностей. При `equal_var=False`, применяется Т критерий Уэлча, предполагающий неравные дисперсии сравниваемых генеральных совокупностей.\n",
    "\n",
    "Т.о., для корректной оценки необходимо узнать дисперсии сравниваемых выборок. Так же не помешает предварительно оценить выборочные средние и количество наблюдений. Установим пороговое значение статистической значимости - 5% и создадим функции, которые облегчат дальнейшие расчеты."
   ]
  },
  {
   "cell_type": "code",
   "execution_count": 47,
   "metadata": {},
   "outputs": [],
   "source": [
    "alpha = 0.05"
   ]
  },
  {
   "cell_type": "code",
   "execution_count": 48,
   "metadata": {},
   "outputs": [],
   "source": [
    "def usr_score_mean_var(data, col_name, col_values):\n",
    "    \"\"\"Для каждого значения col_values из столбца col_name\n",
    "    возвращает Series с пользовательскими оценками из датасета data. \n",
    "    Для каждого набора оценок выводит на экран количество, \n",
    "    среднее значение и дисперсию.\n",
    "\n",
    "    Параметры:\n",
    "    data -- датасет с данными\n",
    "    col_name -- наименование столбца (platform, genre...)\n",
    "    col_values -- список значений из столбца col_name\n",
    "    \"\"\"\n",
    "    result = []\n",
    "    for col_value in col_values:\n",
    "        d = data[data[col_name] == col_value]['user_score']\n",
    "        print('Пользовательские оценки для',\n",
    "          col_name, '=', col_value, '\\n',\n",
    "         ' - количество:', d.count(), '\\n',        \n",
    "         ' - среднее:', d.mean(), '\\n',\n",
    "         ' - дисперсия:', d.var())\n",
    "        result.append(d)                \n",
    "    return result"
   ]
  },
  {
   "cell_type": "code",
   "execution_count": 49,
   "metadata": {},
   "outputs": [],
   "source": [
    "def perform_ttest(alpha, a, b, eq_var=True):\n",
    "    \"\"\"Проводит t-тест для двух независимых выборок. Выводит на экран \n",
    "    занчение pvalue и решение относительно нулевой гипотезы.\n",
    "\n",
    "    Параметры:\n",
    "    alpha -- порог значимости \n",
    "    a -- первая выборка \n",
    "    b -- вторая выборка \n",
    "    eq_var -- флаг равенства выборочных дисперсий (default True)\n",
    "    \"\"\"\n",
    "    result = st.ttest_ind(a, b, equal_var=eq_var)\n",
    "    pval = round(result.pvalue, 4)\n",
    "    print('pvalue:', pval)\n",
    "    if pval > alpha:\n",
    "        print('Не отвергаем нулевую гипотезу.')\n",
    "    else:\n",
    "        print('Отвергаем нулевую гипотезу.')"
   ]
  },
  {
   "cell_type": "markdown",
   "metadata": {},
   "source": [
    "### Пользовательские рейтинги платформ \n",
    "Сформулируем гипотезы, нулевую и альтернативную:\n",
    " - H0, средние пользовательские оценки игр для платформ XOne и PC <b>равны</b>;\n",
    " - H1, средние пользовательские оценки игр для платформ XOne и PC <b>не равны</b>.\n",
    "\n",
    "Оценим выборочные средие и дисперсии. "
   ]
  },
  {
   "cell_type": "code",
   "execution_count": 50,
   "metadata": {
    "scrolled": true
   },
   "outputs": [
    {
     "name": "stdout",
     "output_type": "stream",
     "text": [
      "Пользовательские оценки для platform = XOne \n",
      "  - количество: 182 \n",
      "  - среднее: 6.521428571428572 \n",
      "  - дисперсия: 1.9069968429360695\n",
      "Пользовательские оценки для platform = PC \n",
      "  - количество: 155 \n",
      "  - среднее: 6.2696774193548395 \n",
      "  - дисперсия: 3.035892752408882\n"
     ]
    }
   ],
   "source": [
    "scores = usr_score_mean_var(usr_score, 'platform', ['XOne', 'PC'])"
   ]
  },
  {
   "cell_type": "markdown",
   "metadata": {},
   "source": [
    "Выборочные дисперсии различаются на единицу, но не в разы. Т.о., разброс выборок сопоставим. Используем значение по умолчанию `True` для флага `equal_var`."
   ]
  },
  {
   "cell_type": "code",
   "execution_count": 51,
   "metadata": {
    "scrolled": true
   },
   "outputs": [
    {
     "name": "stdout",
     "output_type": "stream",
     "text": [
      "pvalue: 0.1401\n",
      "Не отвергаем нулевую гипотезу.\n"
     ]
    }
   ],
   "source": [
    "xone_usr_score = scores[0]\n",
    "pc_usr_score = scores[1]\n",
    "perform_ttest(alpha, xone_usr_score, pc_usr_score)"
   ]
  },
  {
   "cell_type": "markdown",
   "metadata": {},
   "source": [
    "Любопытно, что при значении `equal_var=False`, мы получим тот же результат. "
   ]
  },
  {
   "cell_type": "code",
   "execution_count": 52,
   "metadata": {
    "scrolled": true
   },
   "outputs": [
    {
     "name": "stdout",
     "output_type": "stream",
     "text": [
      "pvalue: 0.1476\n",
      "Не отвергаем нулевую гипотезу.\n"
     ]
    }
   ],
   "source": [
    "perform_ttest(alpha, xone_usr_score, pc_usr_score, eq_var=False)"
   ]
  },
  {
   "cell_type": "markdown",
   "metadata": {},
   "source": [
    "Проведенный анализ дает основание утверждать, что средние пользовательские оценки игр для платформ XOne и PC равны.\n",
    "### Пользовательские рейтинги жанров \n",
    "Сформулируем гипотезы, нулевую и альтернативную:\n",
    " - H0, средние пользовательские оценки игр в жанрах Action и Sports <b>равны</b>;\n",
    " - H1, средние пользовательские оценки игр в жанрах Action и Sports <b>не равны</b>."
   ]
  },
  {
   "cell_type": "code",
   "execution_count": 53,
   "metadata": {},
   "outputs": [
    {
     "name": "stdout",
     "output_type": "stream",
     "text": [
      "Пользовательские оценки для genre = Action \n",
      "  - количество: 389 \n",
      "  - среднее: 6.837532133676092 \n",
      "  - дисперсия: 1.7693609042482705\n",
      "Пользовательские оценки для genre = Sports \n",
      "  - количество: 160 \n",
      "  - среднее: 5.238124999999999 \n",
      "  - дисперсия: 3.180612814465409\n"
     ]
    }
   ],
   "source": [
    "scores = usr_score_mean_var(usr_score, 'genre', ['Action', 'Sports'])"
   ]
  },
  {
   "cell_type": "markdown",
   "metadata": {},
   "source": [
    "Выборочные дисперсии различаются, но не в разы. Т.о., разброс выборок сопоставим. Используем значение по умолчанию `True` для флага `equal_var`."
   ]
  },
  {
   "cell_type": "code",
   "execution_count": 54,
   "metadata": {},
   "outputs": [
    {
     "name": "stdout",
     "output_type": "stream",
     "text": [
      "pvalue: 0.0\n",
      "Отвергаем нулевую гипотезу.\n"
     ]
    }
   ],
   "source": [
    "action_usr_score = scores[0]\n",
    "sports_usr_score = scores[1]\n",
    "perform_ttest(alpha, action_usr_score, sports_usr_score)"
   ]
  },
  {
   "cell_type": "markdown",
   "metadata": {},
   "source": [
    "Любопытно, что при значении `equal_var=False`, мы получим тот же результат. "
   ]
  },
  {
   "cell_type": "code",
   "execution_count": 55,
   "metadata": {
    "scrolled": true
   },
   "outputs": [
    {
     "name": "stdout",
     "output_type": "stream",
     "text": [
      "pvalue: 0.0\n",
      "Отвергаем нулевую гипотезу.\n"
     ]
    }
   ],
   "source": [
    "perform_ttest(alpha, action_usr_score, sports_usr_score, eq_var=False)"
   ]
  },
  {
   "cell_type": "markdown",
   "metadata": {},
   "source": [
    "Проведенный анализ дает основание утверждать, что средние пользовательские оценки игр в жанрах Action и Sports не равны.\n",
    "## Выводы\n",
    "### Предобработка данных\n",
    "В ходе предобработки данных были: \n",
    " - переименованы столбцы (см. [5.1](#%D0%9D%D0%B0%D0%B8%D0%BC%D0%B5%D0%BD%D0%BE%D0%B2%D0%B0%D0%BD%D0%B8%D0%B5-%D1%81%D1%82%D0%BE%D0%BB%D0%B1%D1%86%D0%BE%D0%B2))\n",
    " - устранены неявные дубликаты (см. [5.2](#%D0%9E%D0%B1%D1%80%D0%B0%D0%B1%D0%BE%D1%82%D0%BA%D0%B0-%D0%B4%D1%83%D0%B1%D0%BB%D0%B8%D0%BA%D0%B0%D1%82%D0%BE%D0%B2)),\n",
    " - частично заполнены пропуски и скорректированы типы данных (см. [5.3](#%D0%9E%D0%B1%D1%80%D0%B0%D0%B1%D0%BE%D1%82%D0%BA%D0%B0-%D0%BF%D1%80%D0%BE%D0%BF%D1%83%D1%81%D0%BA%D0%BE%D0%B2-%D0%B8-%D0%BF%D1%80%D0%B5%D0%BE%D0%B1%D1%80%D0%B0%D0%B7%D0%BE%D0%B2%D0%B0%D0%BD%D0%B8%D0%B5-%D1%82%D0%B8%D0%BF%D0%BE%D0%B2)),\n",
    " - добавлен новый признак - `total_sales`, суммарные продажи во всех регионах (см. [5.5](#%D0%A0%D0%B0%D1%81%D1%87%D0%B5%D1%82-%D0%BE%D0%B1%D1%89%D0%B8%D1%85-%D0%BF%D1%80%D0%BE%D0%B4%D0%B0%D0%B6)).\n",
    " \n",
    "В исходных данных обнаружено множество пропусков, механизм возникновения которых не удалось однозначно установить (см. [5.3.3](#%D0%9E%D1%86%D0%B5%D0%BD%D0%BA%D0%B8-%D0%BA%D1%80%D0%B8%D1%82%D0%B8%D0%BA%D0%BE%D0%B2-%D0%B8-%D0%BF%D0%BE%D0%BB%D1%8C%D0%B7%D0%BE%D0%B2%D0%B0%D1%82%D0%B5%D0%BB%D0%B5%D0%B9,--%D1%80%D0%B5%D0%B9%D1%82%D0%B8%D0%BD%D0%B3-ESRB)). Одновременно, строки с пропусками содержали полезную информацию и были оставлены, как есть. В ходе исследования, при необходимости, они исключались из рассмотрения или дополнительно обрабатывались.\n",
    "### Исследовательский анализ\n",
    "В ходе исследовательского анализа было показано следующее:\n",
    "- с 2013 г. наблюдается рост количества игровых релизов. Учитывая, что данные за 2016 год - неполные, дальнейший тренд может быть как положительным, так и отрицательным  (см. [6.1](#%D0%98%D0%B3%D1%80%D0%BE%D0%B2%D1%8B%D0%B5-%D1%80%D0%B5%D0%BB%D0%B8%D0%B7%D1%8B));\n",
    "- top-5 платформ по количеству проданных игр за всю историю наблюдений: PS2, X360, PS3, Wii, DS (см. [6.2.1](#%D0%9B%D0%B8%D0%B4%D0%B5%D1%80%D1%8B-%D0%BF%D1%80%D0%BE%D0%B4%D0%B0%D0%B6));\n",
    "- игровые платформы имеют жизненный цикл средней продолжительностью (на примере top-5 платформ) около 10 лет (см. [6.2.2](#%D0%96%D0%B8%D0%B7%D0%BD%D0%B5%D0%BD%D0%BD%D1%8B%D0%B9-%D1%86%D0%B8%D0%BA%D0%BB));\n",
    "- платформы из top-5 по состоянию на 2016 г. не актуальны (PS2, DS и Wii), либо находятся в конце жизненного цикла (PS3, X360) (см. [6.2.2](#%D0%96%D0%B8%D0%B7%D0%BD%D0%B5%D0%BD%D0%BD%D1%8B%D0%B9-%D1%86%D0%B8%D0%BA%D0%BB));\n",
    "- PS4 и XOne являются потенциально прибыльными игровыми платформами (см. [6.2.3](#%D0%9F%D0%B5%D1%80%D1%81%D0%BF%D0%B5%D0%BA%D1%82%D0%B8%D0%B2%D0%BD%D1%8B%D0%B5));\n",
    "- актуальный период начинается с 2013 года (см. [6.3](#%D0%92%D1%8B%D0%B1%D0%BE%D1%80-%D0%B0%D0%BA%D1%82%D1%83%D0%B0%D0%BB%D1%8C%D0%BD%D0%BE%D0%B3%D0%BE-%D0%BF%D0%B5%D1%80%D0%B8%D0%BE%D0%B4%D0%B0));\n",
    "- для рынка видеоигр характерено появление выделяющихся на общем фоне, абсолютных хитов (см. [6.4](#%D0%94%D0%B8%D0%B0%D0%B3%D1%80%D0%B0%D0%BC%D0%BC%D0%B0-%D1%80%D0%B0%D0%B7%D0%BC%D0%B0%D1%85%D0%B0-%D0%B8%D0%B3%D1%80%D0%BE%D0%B2%D1%8B%D1%85-%D0%BF%D1%80%D0%BE%D0%B4%D0%B0%D0%B6));\n",
    "- оценка критиков слабо влияет, а оценка пользователей практически не влияет на продажи игр. Эти выводы требуют проверки на данных из альтернативных источников (см. [6.5](#%D0%92%D0%BB%D0%B8%D1%8F%D0%BD%D0%B8%D0%B5-%D0%BE%D1%86%D0%B5%D0%BD%D0%BA%D0%B8-%D0%BF%D0%BE%D0%BB%D1%8C%D0%B7%D0%BE%D0%B2%D0%B0%D1%82%D0%B5%D0%BB%D0%B5%D0%B9-%D0%B8-%D0%BA%D1%80%D0%B8%D1%82%D0%B8%D0%BA%D0%BE%D0%B2-%D0%BD%D0%B0-%D0%BF%D1%80%D0%BE%D0%B4%D0%B0%D0%B6%D0%B8));\n",
    "- с учетом объема релизов и продаж жанры Shooter, Sports и Platform потенциально наиболее прибыльны. (см. [6.6](#%D0%A0%D0%B0%D1%81%D0%BF%D1%80%D0%B5%D0%B4%D0%B5%D0%BB%D0%B5%D0%BD%D0%B8%D0%B5-%D0%B8%D0%B3%D1%80-%D0%BF%D0%BE-%D0%B6%D0%B0%D0%BD%D1%80%D0%B0%D0%BC));\n",
    "- рынки с.Америки и Европы тяготеют к перспективным платформам PS4 и XOne, заметное место в структуре продаж занимают \"доживающие\" платформы (X360, PS3, 3DS). Японский рынок - гораздо более консервативен: PS4 занимает чуть больше 10% рынка, а XOne - вовсе отсутсвует (см. [6.7.1](b#%D0%9F%D0%BE%D0%BF%D1%83%D0%BB%D1%8F%D1%80%D0%BD%D1%8B%D0%B5-%D0%BF%D0%BB%D0%B0%D1%82%D1%84%D0%BE%D1%80%D0%BC%D1%8B));\n",
    "- жанры Action, Shooter и Sports наиболее популярны в с.Америке и Европе. Япония демонстрирует своеобразие: жанры Role-Playing (44.39%) и Action (35.24%) делят около 80% рынка (см. [6.7.2](#%D0%9F%D0%BE%D0%BF%D1%83%D0%BB%D1%8F%D1%80%D0%BD%D1%8B%D0%B5-%D0%B6%D0%B0%D0%BD%D1%80%D1%8B));\n",
    "- с.Америка и Европа демонстрируют схожие доли продаж по всем рейтингам ESRB. В Японии ~60% продаж приходится на релизы с неизвестным рейтингом ESRB. Вероятно, это связано с активным использованием национальной рейтинговой системы CERO (см. [6.7.3](#%D0%92%D0%BB%D0%B8%D1%8F%D0%BD%D0%B8%D0%B5-%D1%80%D0%B5%D0%B9%D1%82%D0%B8%D0%BD%D0%B3%D0%B0-ESRB)).\n",
    "\n",
    "### Статистический анализ\n",
    "В ходе статистического анализа было показано следующее:\n",
    "- получено основание утверждать, что средние пользовательские оценки игр для платформ XOne и PC равны (см. [7.1](#%D0%9F%D0%BE%D0%BB%D1%8C%D0%B7%D0%BE%D0%B2%D0%B0%D1%82%D0%B5%D0%BB%D1%8C%D1%81%D0%BA%D0%B8%D0%B5-%D1%80%D0%B5%D0%B9%D1%82%D0%B8%D0%BD%D0%B3%D0%B8-%D0%BF%D0%BB%D0%B0%D1%82%D1%84%D0%BE%D1%80%D0%BC));\n",
    "- получено основание утверждать, что средние пользовательские оценки игр в жанрах Action и Sports не равны (см. [7.2](#%D0%9F%D0%BE%D0%BB%D1%8C%D0%B7%D0%BE%D0%B2%D0%B0%D1%82%D0%B5%D0%BB%D1%8C%D1%81%D0%BA%D0%B8%D0%B5-%D1%80%D0%B5%D0%B9%D1%82%D0%B8%D0%BD%D0%B3%D0%B8-%D0%B6%D0%B0%D0%BD%D1%80%D0%BE%D0%B2))."
   ]
  }
 ],
 "metadata": {
  "ExecuteTimeLog": [
   {
    "duration": 1415,
    "start_time": "2023-02-13T08:57:40.992Z"
   },
   {
    "duration": 213,
    "start_time": "2023-02-13T08:58:28.386Z"
   },
   {
    "duration": 59,
    "start_time": "2023-02-13T09:00:11.156Z"
   },
   {
    "duration": 52,
    "start_time": "2023-02-13T09:00:43.403Z"
   },
   {
    "duration": 56,
    "start_time": "2023-02-13T09:00:53.134Z"
   },
   {
    "duration": 57,
    "start_time": "2023-02-13T09:01:31.603Z"
   },
   {
    "duration": 51,
    "start_time": "2023-02-13T09:02:51.827Z"
   },
   {
    "duration": 74,
    "start_time": "2023-02-13T09:07:58.292Z"
   },
   {
    "duration": 17,
    "start_time": "2023-02-13T09:10:04.309Z"
   },
   {
    "duration": 22,
    "start_time": "2023-02-13T09:27:25.981Z"
   },
   {
    "duration": 5,
    "start_time": "2023-02-13T09:29:08.482Z"
   },
   {
    "duration": 1321,
    "start_time": "2023-02-13T09:58:00.193Z"
   },
   {
    "duration": 1154,
    "start_time": "2023-02-13T09:58:11.098Z"
   },
   {
    "duration": 34,
    "start_time": "2023-02-13T09:58:23.564Z"
   },
   {
    "duration": 948,
    "start_time": "2023-02-13T10:00:02.674Z"
   },
   {
    "duration": 27,
    "start_time": "2023-02-13T10:00:23.860Z"
   },
   {
    "duration": 35,
    "start_time": "2023-02-13T10:00:39.451Z"
   },
   {
    "duration": 28,
    "start_time": "2023-02-13T10:00:48.429Z"
   },
   {
    "duration": 17,
    "start_time": "2023-02-13T10:00:59.271Z"
   },
   {
    "duration": 15,
    "start_time": "2023-02-13T10:02:44.479Z"
   },
   {
    "duration": 6,
    "start_time": "2023-02-13T10:02:48.220Z"
   },
   {
    "duration": 22,
    "start_time": "2023-02-13T10:06:57.302Z"
   },
   {
    "duration": 14,
    "start_time": "2023-02-13T10:18:14.725Z"
   },
   {
    "duration": 16,
    "start_time": "2023-02-13T10:18:32.321Z"
   },
   {
    "duration": 20,
    "start_time": "2023-02-13T10:20:14.694Z"
   },
   {
    "duration": 14,
    "start_time": "2023-02-13T10:25:09.996Z"
   },
   {
    "duration": 6,
    "start_time": "2023-02-13T10:25:12.406Z"
   },
   {
    "duration": 16,
    "start_time": "2023-02-13T10:25:14.193Z"
   },
   {
    "duration": 6,
    "start_time": "2023-02-13T10:25:29.790Z"
   },
   {
    "duration": 17,
    "start_time": "2023-02-13T10:25:31.798Z"
   },
   {
    "duration": 17,
    "start_time": "2023-02-13T10:25:48.955Z"
   },
   {
    "duration": 24,
    "start_time": "2023-02-13T10:25:59.409Z"
   },
   {
    "duration": 1270,
    "start_time": "2023-02-13T10:26:09.193Z"
   },
   {
    "duration": 15,
    "start_time": "2023-02-13T10:26:10.466Z"
   },
   {
    "duration": 50,
    "start_time": "2023-02-13T10:26:10.483Z"
   },
   {
    "duration": 32,
    "start_time": "2023-02-13T10:26:10.534Z"
   },
   {
    "duration": 29,
    "start_time": "2023-02-13T10:26:10.568Z"
   },
   {
    "duration": 14,
    "start_time": "2023-02-13T10:28:33.529Z"
   },
   {
    "duration": 11,
    "start_time": "2023-02-13T10:28:44.759Z"
   },
   {
    "duration": 75,
    "start_time": "2023-02-13T10:29:53.859Z"
   },
   {
    "duration": 12,
    "start_time": "2023-02-13T10:30:05.485Z"
   },
   {
    "duration": 9,
    "start_time": "2023-02-13T10:30:17.887Z"
   },
   {
    "duration": 157,
    "start_time": "2023-02-13T10:32:34.401Z"
   },
   {
    "duration": 88,
    "start_time": "2023-02-13T10:32:39.698Z"
   },
   {
    "duration": 92,
    "start_time": "2023-02-13T10:32:52.815Z"
   },
   {
    "duration": 12,
    "start_time": "2023-02-13T10:33:33.904Z"
   },
   {
    "duration": 9,
    "start_time": "2023-02-13T10:33:38.774Z"
   },
   {
    "duration": 10,
    "start_time": "2023-02-13T10:34:27.668Z"
   },
   {
    "duration": 12,
    "start_time": "2023-02-13T10:35:03.837Z"
   },
   {
    "duration": 24,
    "start_time": "2023-02-13T10:40:33.621Z"
   },
   {
    "duration": 8,
    "start_time": "2023-02-13T10:50:53.111Z"
   },
   {
    "duration": 23,
    "start_time": "2023-02-13T10:51:19.453Z"
   },
   {
    "duration": 29,
    "start_time": "2023-02-13T10:51:32.509Z"
   },
   {
    "duration": 5,
    "start_time": "2023-02-13T11:18:03.036Z"
   },
   {
    "duration": 9,
    "start_time": "2023-02-13T11:21:50.028Z"
   },
   {
    "duration": 99,
    "start_time": "2023-02-13T11:29:47.812Z"
   },
   {
    "duration": 29,
    "start_time": "2023-02-13T11:30:06.161Z"
   },
   {
    "duration": 23,
    "start_time": "2023-02-13T11:35:03.324Z"
   },
   {
    "duration": 22,
    "start_time": "2023-02-13T11:35:26.754Z"
   },
   {
    "duration": 39,
    "start_time": "2023-02-13T11:43:59.466Z"
   },
   {
    "duration": 11,
    "start_time": "2023-02-13T11:46:52.808Z"
   },
   {
    "duration": 49,
    "start_time": "2023-02-14T06:42:45.824Z"
   },
   {
    "duration": 1516,
    "start_time": "2023-02-14T06:43:06.118Z"
   },
   {
    "duration": 21,
    "start_time": "2023-02-14T06:43:07.637Z"
   },
   {
    "duration": 17,
    "start_time": "2023-02-14T06:43:07.660Z"
   },
   {
    "duration": 16,
    "start_time": "2023-02-14T06:43:07.679Z"
   },
   {
    "duration": 22,
    "start_time": "2023-02-14T06:43:07.696Z"
   },
   {
    "duration": 36,
    "start_time": "2023-02-14T06:43:07.721Z"
   },
   {
    "duration": 12,
    "start_time": "2023-02-14T06:43:07.760Z"
   },
   {
    "duration": 42,
    "start_time": "2023-02-14T06:43:07.775Z"
   },
   {
    "duration": 35,
    "start_time": "2023-02-14T06:43:07.823Z"
   },
   {
    "duration": 189,
    "start_time": "2023-02-14T06:45:13.890Z"
   },
   {
    "duration": 107,
    "start_time": "2023-02-14T06:45:26.561Z"
   },
   {
    "duration": 27,
    "start_time": "2023-02-14T06:45:30.991Z"
   },
   {
    "duration": 87675,
    "start_time": "2023-02-14T06:45:45.201Z"
   },
   {
    "duration": 40,
    "start_time": "2023-02-14T06:59:31.584Z"
   },
   {
    "duration": 20,
    "start_time": "2023-02-14T07:02:03.000Z"
   },
   {
    "duration": 10,
    "start_time": "2023-02-14T07:02:06.623Z"
   },
   {
    "duration": 15,
    "start_time": "2023-02-14T07:02:27.166Z"
   },
   {
    "duration": 15,
    "start_time": "2023-02-14T07:02:31.195Z"
   },
   {
    "duration": 135,
    "start_time": "2023-02-14T07:05:15.096Z"
   },
   {
    "duration": 634,
    "start_time": "2023-02-14T07:05:31.714Z"
   },
   {
    "duration": 601,
    "start_time": "2023-02-14T07:11:20.473Z"
   },
   {
    "duration": 589,
    "start_time": "2023-02-14T07:11:50.620Z"
   },
   {
    "duration": 1248,
    "start_time": "2023-02-14T07:12:21.226Z"
   },
   {
    "duration": 15,
    "start_time": "2023-02-14T07:12:22.476Z"
   },
   {
    "duration": 29,
    "start_time": "2023-02-14T07:12:22.492Z"
   },
   {
    "duration": 19,
    "start_time": "2023-02-14T07:12:22.523Z"
   },
   {
    "duration": 18,
    "start_time": "2023-02-14T07:12:22.544Z"
   },
   {
    "duration": 29,
    "start_time": "2023-02-14T07:12:22.564Z"
   },
   {
    "duration": 30,
    "start_time": "2023-02-14T07:12:22.594Z"
   },
   {
    "duration": 361,
    "start_time": "2023-02-14T07:12:22.626Z"
   },
   {
    "duration": 47,
    "start_time": "2023-02-14T07:12:22.989Z"
   },
   {
    "duration": 62,
    "start_time": "2023-02-14T07:13:15.384Z"
   },
   {
    "duration": 294,
    "start_time": "2023-02-14T07:13:20.861Z"
   },
   {
    "duration": 364,
    "start_time": "2023-02-14T07:13:43.416Z"
   },
   {
    "duration": 312,
    "start_time": "2023-02-14T07:17:15.474Z"
   },
   {
    "duration": 409,
    "start_time": "2023-02-14T07:17:37.664Z"
   },
   {
    "duration": 310,
    "start_time": "2023-02-14T07:18:02.646Z"
   },
   {
    "duration": 364,
    "start_time": "2023-02-14T07:18:20.320Z"
   },
   {
    "duration": 370,
    "start_time": "2023-02-14T07:18:32.691Z"
   },
   {
    "duration": 377,
    "start_time": "2023-02-14T07:18:44.285Z"
   },
   {
    "duration": 320,
    "start_time": "2023-02-14T07:19:21.470Z"
   },
   {
    "duration": 450,
    "start_time": "2023-02-14T07:20:44.297Z"
   },
   {
    "duration": 410,
    "start_time": "2023-02-14T07:32:06.095Z"
   },
   {
    "duration": 63718,
    "start_time": "2023-02-14T07:35:30.577Z"
   },
   {
    "duration": 138489,
    "start_time": "2023-02-14T07:37:31.868Z"
   },
   {
    "duration": 17,
    "start_time": "2023-02-14T07:42:00.357Z"
   },
   {
    "duration": 22,
    "start_time": "2023-02-14T07:42:10.473Z"
   },
   {
    "duration": 37,
    "start_time": "2023-02-14T07:44:39.705Z"
   },
   {
    "duration": 35,
    "start_time": "2023-02-14T07:47:27.853Z"
   },
   {
    "duration": 34,
    "start_time": "2023-02-14T07:53:18.233Z"
   },
   {
    "duration": 21,
    "start_time": "2023-02-14T07:53:40.792Z"
   },
   {
    "duration": 27,
    "start_time": "2023-02-14T07:54:03.667Z"
   },
   {
    "duration": 26,
    "start_time": "2023-02-14T07:54:08.819Z"
   },
   {
    "duration": 39,
    "start_time": "2023-02-14T07:54:13.305Z"
   },
   {
    "duration": 864,
    "start_time": "2023-02-14T08:06:06.629Z"
   },
   {
    "duration": 6,
    "start_time": "2023-02-14T08:06:10.688Z"
   },
   {
    "duration": 13,
    "start_time": "2023-02-14T08:26:32.293Z"
   },
   {
    "duration": 774,
    "start_time": "2023-02-14T08:28:36.871Z"
   },
   {
    "duration": 771,
    "start_time": "2023-02-14T08:29:09.939Z"
   },
   {
    "duration": 705,
    "start_time": "2023-02-14T08:29:49.615Z"
   },
   {
    "duration": 724,
    "start_time": "2023-02-14T08:30:36.739Z"
   },
   {
    "duration": 6,
    "start_time": "2023-02-14T08:31:09.453Z"
   },
   {
    "duration": 8,
    "start_time": "2023-02-14T08:31:24.303Z"
   },
   {
    "duration": 10,
    "start_time": "2023-02-14T08:31:33.599Z"
   },
   {
    "duration": 7,
    "start_time": "2023-02-14T08:32:36.295Z"
   },
   {
    "duration": 8,
    "start_time": "2023-02-14T08:32:50.928Z"
   },
   {
    "duration": 10,
    "start_time": "2023-02-14T08:33:04.850Z"
   },
   {
    "duration": 10,
    "start_time": "2023-02-14T08:33:14.234Z"
   },
   {
    "duration": 10,
    "start_time": "2023-02-14T08:34:53.692Z"
   },
   {
    "duration": 10,
    "start_time": "2023-02-14T08:36:35.688Z"
   },
   {
    "duration": 9,
    "start_time": "2023-02-14T08:37:47.149Z"
   },
   {
    "duration": 9,
    "start_time": "2023-02-14T08:37:54.264Z"
   },
   {
    "duration": 1171,
    "start_time": "2023-02-14T08:38:47.151Z"
   },
   {
    "duration": 14,
    "start_time": "2023-02-14T08:38:48.324Z"
   },
   {
    "duration": 16,
    "start_time": "2023-02-14T08:38:48.340Z"
   },
   {
    "duration": 13,
    "start_time": "2023-02-14T08:38:48.358Z"
   },
   {
    "duration": 8,
    "start_time": "2023-02-14T08:38:48.373Z"
   },
   {
    "duration": 34,
    "start_time": "2023-02-14T08:38:48.383Z"
   },
   {
    "duration": 11,
    "start_time": "2023-02-14T08:38:48.419Z"
   },
   {
    "duration": 27,
    "start_time": "2023-02-14T08:38:48.432Z"
   },
   {
    "duration": 11,
    "start_time": "2023-02-14T08:38:48.461Z"
   },
   {
    "duration": 28,
    "start_time": "2023-02-14T08:38:48.475Z"
   },
   {
    "duration": 13,
    "start_time": "2023-02-14T08:38:48.505Z"
   },
   {
    "duration": 323,
    "start_time": "2023-02-14T08:38:48.519Z"
   },
   {
    "duration": 31,
    "start_time": "2023-02-14T08:38:48.844Z"
   },
   {
    "duration": 6,
    "start_time": "2023-02-14T08:43:21.736Z"
   },
   {
    "duration": 21,
    "start_time": "2023-02-14T08:49:38.443Z"
   },
   {
    "duration": 32,
    "start_time": "2023-02-14T09:13:21.870Z"
   },
   {
    "duration": 325,
    "start_time": "2023-02-14T09:14:15.704Z"
   },
   {
    "duration": 347,
    "start_time": "2023-02-14T09:16:08.864Z"
   },
   {
    "duration": 45,
    "start_time": "2023-02-14T09:28:03.306Z"
   },
   {
    "duration": 31,
    "start_time": "2023-02-14T09:28:41.702Z"
   },
   {
    "duration": 17,
    "start_time": "2023-02-14T11:08:32.599Z"
   },
   {
    "duration": 17,
    "start_time": "2023-02-14T11:08:40.381Z"
   },
   {
    "duration": 102,
    "start_time": "2023-02-14T11:09:24.657Z"
   },
   {
    "duration": 5,
    "start_time": "2023-02-14T11:09:38.768Z"
   },
   {
    "duration": 7,
    "start_time": "2023-02-14T11:10:17.594Z"
   },
   {
    "duration": 15,
    "start_time": "2023-02-14T11:10:53.325Z"
   },
   {
    "duration": 18,
    "start_time": "2023-02-14T11:19:11.306Z"
   },
   {
    "duration": 32,
    "start_time": "2023-02-14T11:19:44.630Z"
   },
   {
    "duration": 42,
    "start_time": "2023-02-14T11:23:46.183Z"
   },
   {
    "duration": 41,
    "start_time": "2023-02-14T11:23:50.248Z"
   },
   {
    "duration": 53,
    "start_time": "2023-02-14T11:24:51.389Z"
   },
   {
    "duration": 38,
    "start_time": "2023-02-14T11:25:14.409Z"
   },
   {
    "duration": 39,
    "start_time": "2023-02-14T11:26:01.003Z"
   },
   {
    "duration": 40,
    "start_time": "2023-02-14T11:26:04.869Z"
   },
   {
    "duration": 55,
    "start_time": "2023-02-14T11:26:21.640Z"
   },
   {
    "duration": 47,
    "start_time": "2023-02-14T11:28:15.024Z"
   },
   {
    "duration": 39,
    "start_time": "2023-02-14T11:28:39.995Z"
   },
   {
    "duration": 39,
    "start_time": "2023-02-14T11:28:48.040Z"
   },
   {
    "duration": 50,
    "start_time": "2023-02-14T11:28:59.691Z"
   },
   {
    "duration": 46,
    "start_time": "2023-02-14T11:29:22.266Z"
   },
   {
    "duration": 50,
    "start_time": "2023-02-14T11:34:36.458Z"
   },
   {
    "duration": 64,
    "start_time": "2023-02-14T11:34:52.438Z"
   },
   {
    "duration": 72,
    "start_time": "2023-02-14T11:35:39.841Z"
   },
   {
    "duration": 78,
    "start_time": "2023-02-14T11:36:40.471Z"
   },
   {
    "duration": 16,
    "start_time": "2023-02-14T11:40:38.834Z"
   },
   {
    "duration": 15,
    "start_time": "2023-02-14T11:41:11.266Z"
   },
   {
    "duration": 12,
    "start_time": "2023-02-14T11:43:40.022Z"
   },
   {
    "duration": 13,
    "start_time": "2023-02-14T11:44:02.295Z"
   },
   {
    "duration": 10,
    "start_time": "2023-02-14T11:45:18.391Z"
   },
   {
    "duration": 43,
    "start_time": "2023-02-14T11:45:49.699Z"
   },
   {
    "duration": 45,
    "start_time": "2023-02-14T11:45:53.173Z"
   },
   {
    "duration": 12,
    "start_time": "2023-02-14T11:45:57.433Z"
   },
   {
    "duration": 65,
    "start_time": "2023-02-14T11:47:06.881Z"
   },
   {
    "duration": 54,
    "start_time": "2023-02-14T11:47:13.818Z"
   },
   {
    "duration": 12,
    "start_time": "2023-02-14T11:47:17.034Z"
   },
   {
    "duration": 29,
    "start_time": "2023-02-14T11:48:48.117Z"
   },
   {
    "duration": 27,
    "start_time": "2023-02-14T11:49:05.659Z"
   },
   {
    "duration": 26,
    "start_time": "2023-02-14T11:49:23.601Z"
   },
   {
    "duration": 25,
    "start_time": "2023-02-14T11:49:43.280Z"
   },
   {
    "duration": 25,
    "start_time": "2023-02-14T11:49:54.649Z"
   },
   {
    "duration": 9,
    "start_time": "2023-02-14T11:58:32.853Z"
   },
   {
    "duration": 5,
    "start_time": "2023-02-14T11:58:44.103Z"
   },
   {
    "duration": 4,
    "start_time": "2023-02-14T11:59:43.038Z"
   },
   {
    "duration": 4,
    "start_time": "2023-02-14T11:59:50.143Z"
   },
   {
    "duration": 6,
    "start_time": "2023-02-14T12:00:14.537Z"
   },
   {
    "duration": 5,
    "start_time": "2023-02-14T12:07:11.087Z"
   },
   {
    "duration": 17,
    "start_time": "2023-02-14T12:07:23.416Z"
   },
   {
    "duration": 31,
    "start_time": "2023-02-14T12:37:03.996Z"
   },
   {
    "duration": 6,
    "start_time": "2023-02-14T12:37:20.557Z"
   },
   {
    "duration": 288,
    "start_time": "2023-02-14T12:38:09.788Z"
   },
   {
    "duration": 745,
    "start_time": "2023-02-14T12:39:18.299Z"
   },
   {
    "duration": 432,
    "start_time": "2023-02-14T12:39:27.048Z"
   },
   {
    "duration": 6074,
    "start_time": "2023-02-14T12:40:50.920Z"
   },
   {
    "duration": 441,
    "start_time": "2023-02-14T12:41:47.062Z"
   },
   {
    "duration": 546,
    "start_time": "2023-02-14T12:43:25.241Z"
   },
   {
    "duration": 334,
    "start_time": "2023-02-14T12:44:15.419Z"
   },
   {
    "duration": 323,
    "start_time": "2023-02-14T12:44:26.301Z"
   },
   {
    "duration": 332,
    "start_time": "2023-02-14T12:44:35.736Z"
   },
   {
    "duration": 337,
    "start_time": "2023-02-14T12:47:10.712Z"
   },
   {
    "duration": 340,
    "start_time": "2023-02-14T12:48:49.220Z"
   },
   {
    "duration": 48,
    "start_time": "2023-02-14T12:49:13.775Z"
   },
   {
    "duration": 338,
    "start_time": "2023-02-14T12:49:19.346Z"
   },
   {
    "duration": 348,
    "start_time": "2023-02-14T12:49:32.624Z"
   },
   {
    "duration": 45,
    "start_time": "2023-02-14T12:50:31.581Z"
   },
   {
    "duration": 350,
    "start_time": "2023-02-14T12:50:37.574Z"
   },
   {
    "duration": 351,
    "start_time": "2023-02-14T12:51:51.766Z"
   },
   {
    "duration": 24,
    "start_time": "2023-02-14T15:41:43.746Z"
   },
   {
    "duration": 17,
    "start_time": "2023-02-14T15:42:28.839Z"
   },
   {
    "duration": 22,
    "start_time": "2023-02-14T15:42:35.140Z"
   },
   {
    "duration": 5108,
    "start_time": "2023-02-14T15:47:41.198Z"
   },
   {
    "duration": 10212,
    "start_time": "2023-02-14T15:48:32.913Z"
   },
   {
    "duration": 9941,
    "start_time": "2023-02-14T15:49:47.837Z"
   },
   {
    "duration": 4138,
    "start_time": "2023-02-14T15:50:54.823Z"
   },
   {
    "duration": 4527,
    "start_time": "2023-02-14T15:54:59.490Z"
   },
   {
    "duration": 17,
    "start_time": "2023-02-14T15:56:17.350Z"
   },
   {
    "duration": 16,
    "start_time": "2023-02-14T15:56:48.403Z"
   },
   {
    "duration": 16,
    "start_time": "2023-02-14T15:57:11.337Z"
   },
   {
    "duration": 15,
    "start_time": "2023-02-14T15:59:40.106Z"
   },
   {
    "duration": 20,
    "start_time": "2023-02-14T15:59:57.253Z"
   },
   {
    "duration": 17,
    "start_time": "2023-02-14T16:00:03.581Z"
   },
   {
    "duration": 13,
    "start_time": "2023-02-14T16:00:19.605Z"
   },
   {
    "duration": 13,
    "start_time": "2023-02-14T16:01:22.887Z"
   },
   {
    "duration": 19,
    "start_time": "2023-02-14T16:01:59.983Z"
   },
   {
    "duration": 18,
    "start_time": "2023-02-14T16:02:18.953Z"
   },
   {
    "duration": 21,
    "start_time": "2023-02-14T16:02:55.585Z"
   },
   {
    "duration": 21,
    "start_time": "2023-02-14T16:03:23.973Z"
   },
   {
    "duration": 20,
    "start_time": "2023-02-14T16:03:31.118Z"
   },
   {
    "duration": 46,
    "start_time": "2023-02-14T16:03:35.983Z"
   },
   {
    "duration": 21,
    "start_time": "2023-02-14T16:03:53.350Z"
   },
   {
    "duration": 14,
    "start_time": "2023-02-14T16:04:06.562Z"
   },
   {
    "duration": 21,
    "start_time": "2023-02-14T16:04:18.914Z"
   },
   {
    "duration": 20,
    "start_time": "2023-02-14T16:04:22.786Z"
   },
   {
    "duration": 19,
    "start_time": "2023-02-14T16:04:47.079Z"
   },
   {
    "duration": 19,
    "start_time": "2023-02-14T16:06:10.153Z"
   },
   {
    "duration": 3687,
    "start_time": "2023-02-14T16:07:08.630Z"
   },
   {
    "duration": 3799,
    "start_time": "2023-02-14T16:08:02.600Z"
   },
   {
    "duration": 18,
    "start_time": "2023-02-14T16:08:11.481Z"
   },
   {
    "duration": 2567,
    "start_time": "2023-02-14T16:08:44.807Z"
   },
   {
    "duration": 44,
    "start_time": "2023-02-14T16:10:48.570Z"
   },
   {
    "duration": 167808,
    "start_time": "2023-02-14T16:13:43.861Z"
   },
   {
    "duration": 43,
    "start_time": "2023-02-14T17:28:37.306Z"
   },
   {
    "duration": 936,
    "start_time": "2023-02-14T17:29:30.931Z"
   },
   {
    "duration": 811,
    "start_time": "2023-02-14T17:41:20.720Z"
   },
   {
    "duration": 22,
    "start_time": "2023-02-14T17:41:33.848Z"
   },
   {
    "duration": 28419,
    "start_time": "2023-02-14T17:42:57.149Z"
   },
   {
    "duration": 24,
    "start_time": "2023-02-14T17:44:29.358Z"
   },
   {
    "duration": 9752,
    "start_time": "2023-02-14T17:45:36.572Z"
   },
   {
    "duration": 1183,
    "start_time": "2023-02-14T17:45:56.912Z"
   },
   {
    "duration": 1067,
    "start_time": "2023-02-14T17:46:37.724Z"
   },
   {
    "duration": 37,
    "start_time": "2023-02-14T17:47:17.131Z"
   },
   {
    "duration": 1257,
    "start_time": "2023-02-14T17:47:34.719Z"
   },
   {
    "duration": 1024,
    "start_time": "2023-02-14T17:48:12.623Z"
   },
   {
    "duration": 178,
    "start_time": "2023-02-14T17:49:05.542Z"
   },
   {
    "duration": 179,
    "start_time": "2023-02-14T17:49:43.517Z"
   },
   {
    "duration": 812,
    "start_time": "2023-02-14T17:49:50.981Z"
   },
   {
    "duration": 842,
    "start_time": "2023-02-14T17:52:13.253Z"
   },
   {
    "duration": 806,
    "start_time": "2023-02-14T17:52:54.378Z"
   },
   {
    "duration": 13,
    "start_time": "2023-02-14T17:53:28.253Z"
   },
   {
    "duration": 1267,
    "start_time": "2023-02-14T17:53:36.505Z"
   },
   {
    "duration": 17,
    "start_time": "2023-02-14T17:53:37.775Z"
   },
   {
    "duration": 18,
    "start_time": "2023-02-14T17:53:37.794Z"
   },
   {
    "duration": 24,
    "start_time": "2023-02-14T17:53:37.814Z"
   },
   {
    "duration": 32,
    "start_time": "2023-02-14T17:53:37.840Z"
   },
   {
    "duration": 94,
    "start_time": "2023-02-14T17:53:37.874Z"
   },
   {
    "duration": 11,
    "start_time": "2023-02-14T17:53:37.970Z"
   },
   {
    "duration": 23,
    "start_time": "2023-02-14T17:53:37.982Z"
   },
   {
    "duration": 18,
    "start_time": "2023-02-14T17:53:38.007Z"
   },
   {
    "duration": 15,
    "start_time": "2023-02-14T17:53:38.027Z"
   },
   {
    "duration": 23,
    "start_time": "2023-02-14T17:53:38.044Z"
   },
   {
    "duration": 13,
    "start_time": "2023-02-14T17:53:38.068Z"
   },
   {
    "duration": 26,
    "start_time": "2023-02-14T17:53:38.083Z"
   },
   {
    "duration": 11,
    "start_time": "2023-02-14T17:53:38.110Z"
   },
   {
    "duration": 24,
    "start_time": "2023-02-14T17:53:38.122Z"
   },
   {
    "duration": 365,
    "start_time": "2023-02-14T17:53:38.148Z"
   },
   {
    "duration": 33,
    "start_time": "2023-02-14T17:53:38.515Z"
   },
   {
    "duration": 5,
    "start_time": "2023-02-14T17:53:38.549Z"
   },
   {
    "duration": 13,
    "start_time": "2023-02-14T17:53:38.555Z"
   },
   {
    "duration": 7,
    "start_time": "2023-02-14T17:53:38.570Z"
   },
   {
    "duration": 17,
    "start_time": "2023-02-14T17:53:38.602Z"
   },
   {
    "duration": 364,
    "start_time": "2023-02-14T17:53:38.621Z"
   },
   {
    "duration": 18,
    "start_time": "2023-02-14T17:53:38.986Z"
   },
   {
    "duration": 2,
    "start_time": "2023-02-14T17:53:39.006Z"
   },
   {
    "duration": 13,
    "start_time": "2023-02-14T17:53:53.175Z"
   },
   {
    "duration": 25,
    "start_time": "2023-02-14T17:53:56.748Z"
   },
   {
    "duration": 35,
    "start_time": "2023-02-14T17:54:19.221Z"
   },
   {
    "duration": 116,
    "start_time": "2023-02-14T17:54:54.773Z"
   },
   {
    "duration": 26,
    "start_time": "2023-02-14T17:54:57.681Z"
   },
   {
    "duration": 35,
    "start_time": "2023-02-14T17:55:26.198Z"
   },
   {
    "duration": 22,
    "start_time": "2023-02-14T17:56:05.518Z"
   },
   {
    "duration": 36,
    "start_time": "2023-02-14T17:56:09.573Z"
   },
   {
    "duration": 535,
    "start_time": "2023-02-14T17:56:15.901Z"
   },
   {
    "duration": 864,
    "start_time": "2023-02-14T17:57:31.523Z"
   },
   {
    "duration": 25,
    "start_time": "2023-02-14T17:58:27.758Z"
   },
   {
    "duration": 926,
    "start_time": "2023-02-14T17:58:34.782Z"
   },
   {
    "duration": 942,
    "start_time": "2023-02-14T17:58:43.629Z"
   },
   {
    "duration": 905,
    "start_time": "2023-02-14T17:59:12.941Z"
   },
   {
    "duration": 3328,
    "start_time": "2023-02-14T18:12:45.165Z"
   },
   {
    "duration": 981,
    "start_time": "2023-02-14T18:13:13.074Z"
   },
   {
    "duration": 43,
    "start_time": "2023-02-14T18:14:54.772Z"
   },
   {
    "duration": 37,
    "start_time": "2023-02-14T18:14:58.465Z"
   },
   {
    "duration": 791,
    "start_time": "2023-02-14T18:15:02.117Z"
   },
   {
    "duration": 1004,
    "start_time": "2023-02-14T18:15:36.709Z"
   },
   {
    "duration": 897,
    "start_time": "2023-02-14T18:15:49.963Z"
   },
   {
    "duration": 1763,
    "start_time": "2023-02-14T18:17:21.975Z"
   },
   {
    "duration": 1472,
    "start_time": "2023-02-15T08:03:28.001Z"
   },
   {
    "duration": 13,
    "start_time": "2023-02-15T08:03:29.475Z"
   },
   {
    "duration": 32,
    "start_time": "2023-02-15T08:03:29.490Z"
   },
   {
    "duration": 16,
    "start_time": "2023-02-15T08:03:29.524Z"
   },
   {
    "duration": 34,
    "start_time": "2023-02-15T08:03:29.541Z"
   },
   {
    "duration": 79,
    "start_time": "2023-02-15T08:03:29.576Z"
   },
   {
    "duration": 9,
    "start_time": "2023-02-15T08:03:29.657Z"
   },
   {
    "duration": 15,
    "start_time": "2023-02-15T08:03:29.668Z"
   },
   {
    "duration": 22,
    "start_time": "2023-02-15T08:03:29.690Z"
   },
   {
    "duration": 11,
    "start_time": "2023-02-15T08:03:29.716Z"
   },
   {
    "duration": 18,
    "start_time": "2023-02-15T08:03:29.729Z"
   },
   {
    "duration": 9,
    "start_time": "2023-02-15T08:03:29.748Z"
   },
   {
    "duration": 6,
    "start_time": "2023-02-15T08:03:29.758Z"
   },
   {
    "duration": 26,
    "start_time": "2023-02-15T08:03:29.765Z"
   },
   {
    "duration": 18,
    "start_time": "2023-02-15T08:03:29.793Z"
   },
   {
    "duration": 324,
    "start_time": "2023-02-15T08:03:29.813Z"
   },
   {
    "duration": 32,
    "start_time": "2023-02-15T08:03:30.139Z"
   },
   {
    "duration": 4,
    "start_time": "2023-02-15T08:03:30.172Z"
   },
   {
    "duration": 8,
    "start_time": "2023-02-15T08:03:30.191Z"
   },
   {
    "duration": 11,
    "start_time": "2023-02-15T08:03:30.201Z"
   },
   {
    "duration": 44,
    "start_time": "2023-02-15T08:03:30.214Z"
   },
   {
    "duration": 353,
    "start_time": "2023-02-15T08:03:30.260Z"
   },
   {
    "duration": 1564,
    "start_time": "2023-02-15T08:03:30.614Z"
   },
   {
    "duration": 11,
    "start_time": "2023-02-15T08:03:32.181Z"
   },
   {
    "duration": 352,
    "start_time": "2023-02-15T08:06:13.121Z"
   },
   {
    "duration": 295,
    "start_time": "2023-02-15T08:06:26.892Z"
   },
   {
    "duration": 694,
    "start_time": "2023-02-15T08:08:01.049Z"
   },
   {
    "duration": 727,
    "start_time": "2023-02-15T08:08:54.793Z"
   },
   {
    "duration": 166,
    "start_time": "2023-02-15T08:10:49.701Z"
   },
   {
    "duration": 168,
    "start_time": "2023-02-15T08:11:23.304Z"
   },
   {
    "duration": 176,
    "start_time": "2023-02-15T08:11:51.031Z"
   },
   {
    "duration": 127,
    "start_time": "2023-02-15T08:13:46.545Z"
   },
   {
    "duration": 129,
    "start_time": "2023-02-15T08:14:19.608Z"
   },
   {
    "duration": 32,
    "start_time": "2023-02-15T08:16:35.404Z"
   },
   {
    "duration": 174,
    "start_time": "2023-02-15T08:16:43.532Z"
   },
   {
    "duration": 718,
    "start_time": "2023-02-15T08:16:57.751Z"
   },
   {
    "duration": 655,
    "start_time": "2023-02-15T08:17:08.995Z"
   },
   {
    "duration": 671,
    "start_time": "2023-02-15T08:17:33.683Z"
   },
   {
    "duration": 599,
    "start_time": "2023-02-15T08:21:17.656Z"
   },
   {
    "duration": 878,
    "start_time": "2023-02-15T08:21:26.841Z"
   },
   {
    "duration": 806,
    "start_time": "2023-02-15T08:21:30.138Z"
   },
   {
    "duration": 796,
    "start_time": "2023-02-15T08:25:56.076Z"
   },
   {
    "duration": 15,
    "start_time": "2023-02-15T08:30:33.030Z"
   },
   {
    "duration": 15,
    "start_time": "2023-02-15T08:31:00.553Z"
   },
   {
    "duration": 288,
    "start_time": "2023-02-15T08:32:08.818Z"
   },
   {
    "duration": 281,
    "start_time": "2023-02-15T08:34:40.903Z"
   },
   {
    "duration": 294,
    "start_time": "2023-02-15T08:39:57.071Z"
   },
   {
    "duration": 10,
    "start_time": "2023-02-15T08:40:31.342Z"
   },
   {
    "duration": 290,
    "start_time": "2023-02-15T08:40:37.752Z"
   },
   {
    "duration": 321,
    "start_time": "2023-02-15T08:40:45.319Z"
   },
   {
    "duration": 298,
    "start_time": "2023-02-15T08:43:12.014Z"
   },
   {
    "duration": 496,
    "start_time": "2023-02-15T08:45:44.472Z"
   },
   {
    "duration": 330,
    "start_time": "2023-02-15T08:46:13.738Z"
   },
   {
    "duration": 10,
    "start_time": "2023-02-15T09:21:41.897Z"
   },
   {
    "duration": 1211,
    "start_time": "2023-02-15T09:21:58.059Z"
   },
   {
    "duration": 14,
    "start_time": "2023-02-15T09:21:59.272Z"
   },
   {
    "duration": 16,
    "start_time": "2023-02-15T09:21:59.288Z"
   },
   {
    "duration": 16,
    "start_time": "2023-02-15T09:21:59.306Z"
   },
   {
    "duration": 31,
    "start_time": "2023-02-15T09:21:59.323Z"
   },
   {
    "duration": 93,
    "start_time": "2023-02-15T09:21:59.356Z"
   },
   {
    "duration": 9,
    "start_time": "2023-02-15T09:21:59.451Z"
   },
   {
    "duration": 9,
    "start_time": "2023-02-15T09:21:59.462Z"
   },
   {
    "duration": 24,
    "start_time": "2023-02-15T09:21:59.473Z"
   },
   {
    "duration": 11,
    "start_time": "2023-02-15T09:21:59.501Z"
   },
   {
    "duration": 22,
    "start_time": "2023-02-15T09:21:59.513Z"
   },
   {
    "duration": 9,
    "start_time": "2023-02-15T09:21:59.537Z"
   },
   {
    "duration": 7,
    "start_time": "2023-02-15T09:21:59.547Z"
   },
   {
    "duration": 15,
    "start_time": "2023-02-15T09:21:59.556Z"
   },
   {
    "duration": 38,
    "start_time": "2023-02-15T09:21:59.572Z"
   },
   {
    "duration": 330,
    "start_time": "2023-02-15T09:21:59.612Z"
   },
   {
    "duration": 30,
    "start_time": "2023-02-15T09:21:59.944Z"
   },
   {
    "duration": 4,
    "start_time": "2023-02-15T09:21:59.991Z"
   },
   {
    "duration": 22,
    "start_time": "2023-02-15T09:21:59.997Z"
   },
   {
    "duration": 27,
    "start_time": "2023-02-15T09:22:00.020Z"
   },
   {
    "duration": 36,
    "start_time": "2023-02-15T09:22:00.048Z"
   },
   {
    "duration": 310,
    "start_time": "2023-02-15T09:22:00.086Z"
   },
   {
    "duration": 319,
    "start_time": "2023-02-15T09:22:00.397Z"
   },
   {
    "duration": 718,
    "start_time": "2023-02-15T09:22:00.718Z"
   },
   {
    "duration": 4,
    "start_time": "2023-02-15T09:22:01.438Z"
   },
   {
    "duration": 389,
    "start_time": "2023-02-15T09:22:29.526Z"
   },
   {
    "duration": 300,
    "start_time": "2023-02-15T09:22:38.841Z"
   },
   {
    "duration": 132,
    "start_time": "2023-02-15T09:24:56.406Z"
   },
   {
    "duration": 319,
    "start_time": "2023-02-15T09:25:00.417Z"
   },
   {
    "duration": 9,
    "start_time": "2023-02-15T09:25:05.007Z"
   },
   {
    "duration": 9,
    "start_time": "2023-02-15T09:26:25.667Z"
   },
   {
    "duration": 322,
    "start_time": "2023-02-15T09:26:29.665Z"
   },
   {
    "duration": 8,
    "start_time": "2023-02-15T09:26:33.503Z"
   },
   {
    "duration": 3,
    "start_time": "2023-02-15T09:26:41.387Z"
   },
   {
    "duration": 5,
    "start_time": "2023-02-15T09:26:47.928Z"
   },
   {
    "duration": 4,
    "start_time": "2023-02-15T09:27:18.961Z"
   },
   {
    "duration": 3,
    "start_time": "2023-02-15T09:27:45.594Z"
   },
   {
    "duration": 3,
    "start_time": "2023-02-15T09:27:50.341Z"
   },
   {
    "duration": 4,
    "start_time": "2023-02-15T09:28:20.485Z"
   },
   {
    "duration": 295,
    "start_time": "2023-02-15T09:30:46.775Z"
   },
   {
    "duration": 5291,
    "start_time": "2023-02-15T09:35:26.484Z"
   },
   {
    "duration": 512,
    "start_time": "2023-02-15T09:35:47.962Z"
   },
   {
    "duration": 6370,
    "start_time": "2023-02-15T09:36:00.688Z"
   },
   {
    "duration": 134,
    "start_time": "2023-02-15T09:36:22.347Z"
   },
   {
    "duration": 14,
    "start_time": "2023-02-15T09:37:02.496Z"
   },
   {
    "duration": 14,
    "start_time": "2023-02-15T09:37:19.384Z"
   },
   {
    "duration": 4,
    "start_time": "2023-02-15T09:37:30.673Z"
   },
   {
    "duration": 29,
    "start_time": "2023-02-15T09:38:10.484Z"
   },
   {
    "duration": 298,
    "start_time": "2023-02-15T09:38:12.510Z"
   },
   {
    "duration": 25,
    "start_time": "2023-02-15T09:41:26.556Z"
   },
   {
    "duration": 239,
    "start_time": "2023-02-15T09:47:54.504Z"
   },
   {
    "duration": 221,
    "start_time": "2023-02-15T09:48:02.670Z"
   },
   {
    "duration": 115,
    "start_time": "2023-02-15T09:50:06.897Z"
   },
   {
    "duration": 23,
    "start_time": "2023-02-15T09:50:10.646Z"
   },
   {
    "duration": 847,
    "start_time": "2023-02-15T09:51:19.361Z"
   },
   {
    "duration": 21,
    "start_time": "2023-02-15T09:57:57.431Z"
   },
   {
    "duration": 27,
    "start_time": "2023-02-15T09:58:53.937Z"
   },
   {
    "duration": 195,
    "start_time": "2023-02-15T10:11:30.283Z"
   },
   {
    "duration": 650,
    "start_time": "2023-02-15T10:13:48.577Z"
   },
   {
    "duration": 698,
    "start_time": "2023-02-15T10:14:01.424Z"
   },
   {
    "duration": 1149,
    "start_time": "2023-02-15T10:14:15.245Z"
   },
   {
    "duration": 14,
    "start_time": "2023-02-15T10:14:16.396Z"
   },
   {
    "duration": 24,
    "start_time": "2023-02-15T10:14:16.412Z"
   },
   {
    "duration": 21,
    "start_time": "2023-02-15T10:14:16.439Z"
   },
   {
    "duration": 40,
    "start_time": "2023-02-15T10:14:16.462Z"
   },
   {
    "duration": 119,
    "start_time": "2023-02-15T10:14:16.506Z"
   },
   {
    "duration": 11,
    "start_time": "2023-02-15T10:14:16.627Z"
   },
   {
    "duration": 14,
    "start_time": "2023-02-15T10:14:16.640Z"
   },
   {
    "duration": 39,
    "start_time": "2023-02-15T10:14:16.656Z"
   },
   {
    "duration": 19,
    "start_time": "2023-02-15T10:14:16.698Z"
   },
   {
    "duration": 26,
    "start_time": "2023-02-15T10:14:16.719Z"
   },
   {
    "duration": 36,
    "start_time": "2023-02-15T10:14:16.747Z"
   },
   {
    "duration": 7,
    "start_time": "2023-02-15T10:14:16.791Z"
   },
   {
    "duration": 21,
    "start_time": "2023-02-15T10:14:16.800Z"
   },
   {
    "duration": 37,
    "start_time": "2023-02-15T10:14:16.823Z"
   },
   {
    "duration": 322,
    "start_time": "2023-02-15T10:14:16.862Z"
   },
   {
    "duration": 38,
    "start_time": "2023-02-15T10:14:17.185Z"
   },
   {
    "duration": 5,
    "start_time": "2023-02-15T10:14:17.225Z"
   },
   {
    "duration": 12,
    "start_time": "2023-02-15T10:14:17.232Z"
   },
   {
    "duration": 6,
    "start_time": "2023-02-15T10:14:17.246Z"
   },
   {
    "duration": 43,
    "start_time": "2023-02-15T10:14:17.254Z"
   },
   {
    "duration": 338,
    "start_time": "2023-02-15T10:14:17.299Z"
   },
   {
    "duration": 333,
    "start_time": "2023-02-15T10:14:17.639Z"
   },
   {
    "duration": 220,
    "start_time": "2023-02-15T10:14:17.974Z"
   },
   {
    "duration": 0,
    "start_time": "2023-02-15T10:14:18.196Z"
   },
   {
    "duration": 0,
    "start_time": "2023-02-15T10:14:18.197Z"
   },
   {
    "duration": 0,
    "start_time": "2023-02-15T10:14:18.198Z"
   },
   {
    "duration": 782,
    "start_time": "2023-02-15T10:14:39.947Z"
   },
   {
    "duration": 699,
    "start_time": "2023-02-15T10:14:45.397Z"
   },
   {
    "duration": 1251,
    "start_time": "2023-02-15T10:14:52.373Z"
   },
   {
    "duration": 15,
    "start_time": "2023-02-15T10:14:53.625Z"
   },
   {
    "duration": 33,
    "start_time": "2023-02-15T10:14:53.642Z"
   },
   {
    "duration": 20,
    "start_time": "2023-02-15T10:14:53.677Z"
   },
   {
    "duration": 30,
    "start_time": "2023-02-15T10:14:53.699Z"
   },
   {
    "duration": 92,
    "start_time": "2023-02-15T10:14:53.731Z"
   },
   {
    "duration": 11,
    "start_time": "2023-02-15T10:14:53.825Z"
   },
   {
    "duration": 43,
    "start_time": "2023-02-15T10:14:53.838Z"
   },
   {
    "duration": 21,
    "start_time": "2023-02-15T10:14:53.883Z"
   },
   {
    "duration": 20,
    "start_time": "2023-02-15T10:14:53.906Z"
   },
   {
    "duration": 23,
    "start_time": "2023-02-15T10:14:53.927Z"
   },
   {
    "duration": 15,
    "start_time": "2023-02-15T10:14:53.952Z"
   },
   {
    "duration": 7,
    "start_time": "2023-02-15T10:14:53.969Z"
   },
   {
    "duration": 15,
    "start_time": "2023-02-15T10:14:53.977Z"
   },
   {
    "duration": 20,
    "start_time": "2023-02-15T10:14:53.994Z"
   },
   {
    "duration": 323,
    "start_time": "2023-02-15T10:14:54.015Z"
   },
   {
    "duration": 32,
    "start_time": "2023-02-15T10:14:54.340Z"
   },
   {
    "duration": 4,
    "start_time": "2023-02-15T10:14:54.374Z"
   },
   {
    "duration": 19,
    "start_time": "2023-02-15T10:14:54.392Z"
   },
   {
    "duration": 15,
    "start_time": "2023-02-15T10:14:54.413Z"
   },
   {
    "duration": 27,
    "start_time": "2023-02-15T10:14:54.429Z"
   },
   {
    "duration": 321,
    "start_time": "2023-02-15T10:14:54.458Z"
   },
   {
    "duration": 316,
    "start_time": "2023-02-15T10:14:54.781Z"
   },
   {
    "duration": 688,
    "start_time": "2023-02-15T10:14:55.099Z"
   },
   {
    "duration": 26,
    "start_time": "2023-02-15T10:14:55.791Z"
   },
   {
    "duration": 950,
    "start_time": "2023-02-15T10:14:55.818Z"
   },
   {
    "duration": 4,
    "start_time": "2023-02-15T10:14:56.770Z"
   },
   {
    "duration": 692,
    "start_time": "2023-02-15T10:15:32.129Z"
   },
   {
    "duration": 1268,
    "start_time": "2023-02-15T10:15:41.826Z"
   },
   {
    "duration": 13,
    "start_time": "2023-02-15T10:15:43.096Z"
   },
   {
    "duration": 20,
    "start_time": "2023-02-15T10:15:43.111Z"
   },
   {
    "duration": 16,
    "start_time": "2023-02-15T10:15:43.133Z"
   },
   {
    "duration": 43,
    "start_time": "2023-02-15T10:15:43.150Z"
   },
   {
    "duration": 77,
    "start_time": "2023-02-15T10:15:43.194Z"
   },
   {
    "duration": 23,
    "start_time": "2023-02-15T10:15:43.273Z"
   },
   {
    "duration": 5,
    "start_time": "2023-02-15T10:15:43.297Z"
   },
   {
    "duration": 14,
    "start_time": "2023-02-15T10:15:43.304Z"
   },
   {
    "duration": 8,
    "start_time": "2023-02-15T10:15:43.322Z"
   },
   {
    "duration": 20,
    "start_time": "2023-02-15T10:15:43.331Z"
   },
   {
    "duration": 41,
    "start_time": "2023-02-15T10:15:43.353Z"
   },
   {
    "duration": 6,
    "start_time": "2023-02-15T10:15:43.396Z"
   },
   {
    "duration": 14,
    "start_time": "2023-02-15T10:15:43.404Z"
   },
   {
    "duration": 38,
    "start_time": "2023-02-15T10:15:43.420Z"
   },
   {
    "duration": 327,
    "start_time": "2023-02-15T10:15:43.459Z"
   },
   {
    "duration": 30,
    "start_time": "2023-02-15T10:15:43.788Z"
   },
   {
    "duration": 4,
    "start_time": "2023-02-15T10:15:43.820Z"
   },
   {
    "duration": 20,
    "start_time": "2023-02-15T10:15:43.826Z"
   },
   {
    "duration": 8,
    "start_time": "2023-02-15T10:15:43.848Z"
   },
   {
    "duration": 35,
    "start_time": "2023-02-15T10:15:43.857Z"
   },
   {
    "duration": 328,
    "start_time": "2023-02-15T10:15:43.894Z"
   },
   {
    "duration": 309,
    "start_time": "2023-02-15T10:15:44.224Z"
   },
   {
    "duration": 738,
    "start_time": "2023-02-15T10:15:44.535Z"
   },
   {
    "duration": 38,
    "start_time": "2023-02-15T10:15:45.274Z"
   },
   {
    "duration": 24,
    "start_time": "2023-02-15T10:15:45.313Z"
   },
   {
    "duration": 2,
    "start_time": "2023-02-15T10:15:45.339Z"
   },
   {
    "duration": 2,
    "start_time": "2023-02-15T10:20:19.791Z"
   },
   {
    "duration": 26,
    "start_time": "2023-02-15T10:48:14.523Z"
   },
   {
    "duration": 16,
    "start_time": "2023-02-15T11:19:42.379Z"
   },
   {
    "duration": 27,
    "start_time": "2023-02-15T11:19:50.365Z"
   },
   {
    "duration": 35,
    "start_time": "2023-02-15T11:20:28.185Z"
   },
   {
    "duration": 100,
    "start_time": "2023-02-15T11:24:30.840Z"
   },
   {
    "duration": 783,
    "start_time": "2023-02-15T11:27:03.979Z"
   },
   {
    "duration": 14,
    "start_time": "2023-02-15T11:31:09.121Z"
   },
   {
    "duration": 5,
    "start_time": "2023-02-15T11:39:27.010Z"
   },
   {
    "duration": 17,
    "start_time": "2023-02-15T11:39:46.925Z"
   },
   {
    "duration": 736,
    "start_time": "2023-02-15T11:41:42.845Z"
   },
   {
    "duration": 690,
    "start_time": "2023-02-15T11:43:05.875Z"
   },
   {
    "duration": 19,
    "start_time": "2023-02-15T11:46:51.286Z"
   },
   {
    "duration": 13,
    "start_time": "2023-02-15T11:48:09.901Z"
   },
   {
    "duration": 15,
    "start_time": "2023-02-15T11:50:43.014Z"
   },
   {
    "duration": 16,
    "start_time": "2023-02-15T11:51:35.827Z"
   },
   {
    "duration": 16,
    "start_time": "2023-02-15T12:03:52.022Z"
   },
   {
    "duration": 24,
    "start_time": "2023-02-15T12:04:09.380Z"
   },
   {
    "duration": 1256,
    "start_time": "2023-02-15T12:04:30.730Z"
   },
   {
    "duration": 19,
    "start_time": "2023-02-15T12:04:31.989Z"
   },
   {
    "duration": 21,
    "start_time": "2023-02-15T12:04:32.010Z"
   },
   {
    "duration": 16,
    "start_time": "2023-02-15T12:04:32.033Z"
   },
   {
    "duration": 26,
    "start_time": "2023-02-15T12:04:32.051Z"
   },
   {
    "duration": 78,
    "start_time": "2023-02-15T12:04:32.092Z"
   },
   {
    "duration": 21,
    "start_time": "2023-02-15T12:04:32.171Z"
   },
   {
    "duration": 25,
    "start_time": "2023-02-15T12:04:32.194Z"
   },
   {
    "duration": 39,
    "start_time": "2023-02-15T12:04:32.221Z"
   },
   {
    "duration": 27,
    "start_time": "2023-02-15T12:04:32.262Z"
   },
   {
    "duration": 34,
    "start_time": "2023-02-15T12:04:32.290Z"
   },
   {
    "duration": 8,
    "start_time": "2023-02-15T12:04:32.325Z"
   },
   {
    "duration": 31,
    "start_time": "2023-02-15T12:04:32.335Z"
   },
   {
    "duration": 29,
    "start_time": "2023-02-15T12:04:32.367Z"
   },
   {
    "duration": 28,
    "start_time": "2023-02-15T12:04:32.398Z"
   },
   {
    "duration": 314,
    "start_time": "2023-02-15T12:04:32.428Z"
   },
   {
    "duration": 32,
    "start_time": "2023-02-15T12:04:32.744Z"
   },
   {
    "duration": 15,
    "start_time": "2023-02-15T12:04:32.778Z"
   },
   {
    "duration": 16,
    "start_time": "2023-02-15T12:04:32.795Z"
   },
   {
    "duration": 15,
    "start_time": "2023-02-15T12:04:32.812Z"
   },
   {
    "duration": 20,
    "start_time": "2023-02-15T12:04:32.828Z"
   },
   {
    "duration": 325,
    "start_time": "2023-02-15T12:04:32.849Z"
   },
   {
    "duration": 312,
    "start_time": "2023-02-15T12:04:33.175Z"
   },
   {
    "duration": 21,
    "start_time": "2023-02-15T12:04:33.491Z"
   },
   {
    "duration": 13,
    "start_time": "2023-02-15T12:04:33.514Z"
   },
   {
    "duration": 20,
    "start_time": "2023-02-15T12:04:33.528Z"
   },
   {
    "duration": 6429,
    "start_time": "2023-02-15T12:04:33.549Z"
   },
   {
    "duration": 22,
    "start_time": "2023-02-15T12:04:39.982Z"
   },
   {
    "duration": 110,
    "start_time": "2023-02-15T12:04:40.006Z"
   },
   {
    "duration": 0,
    "start_time": "2023-02-15T12:04:40.118Z"
   },
   {
    "duration": 701,
    "start_time": "2023-02-15T12:06:58.856Z"
   },
   {
    "duration": 652,
    "start_time": "2023-02-15T12:07:27.801Z"
   },
   {
    "duration": 16,
    "start_time": "2023-02-15T12:08:18.334Z"
   },
   {
    "duration": 18,
    "start_time": "2023-02-15T12:08:38.790Z"
   },
   {
    "duration": 17,
    "start_time": "2023-02-15T12:09:45.316Z"
   },
   {
    "duration": 66,
    "start_time": "2023-02-15T12:12:07.758Z"
   },
   {
    "duration": 78,
    "start_time": "2023-02-15T12:12:33.038Z"
   },
   {
    "duration": 11,
    "start_time": "2023-02-15T12:12:42.233Z"
   },
   {
    "duration": 13,
    "start_time": "2023-02-15T12:13:31.980Z"
   },
   {
    "duration": 13,
    "start_time": "2023-02-15T12:13:42.114Z"
   },
   {
    "duration": 412,
    "start_time": "2023-02-15T12:14:04.355Z"
   },
   {
    "duration": 435,
    "start_time": "2023-02-15T12:14:46.983Z"
   },
   {
    "duration": 12,
    "start_time": "2023-02-15T12:14:55.147Z"
   },
   {
    "duration": 374,
    "start_time": "2023-02-15T12:15:46.051Z"
   },
   {
    "duration": 374,
    "start_time": "2023-02-15T12:17:44.500Z"
   },
   {
    "duration": 356,
    "start_time": "2023-02-15T12:17:58.411Z"
   },
   {
    "duration": 396,
    "start_time": "2023-02-15T12:18:30.468Z"
   },
   {
    "duration": 652,
    "start_time": "2023-02-15T12:19:32.433Z"
   },
   {
    "duration": 263,
    "start_time": "2023-02-15T12:20:15.504Z"
   },
   {
    "duration": 272,
    "start_time": "2023-02-15T12:21:14.947Z"
   },
   {
    "duration": 66,
    "start_time": "2023-02-15T12:21:31.690Z"
   },
   {
    "duration": 276,
    "start_time": "2023-02-15T12:21:41.401Z"
   },
   {
    "duration": 264,
    "start_time": "2023-02-15T12:22:04.267Z"
   },
   {
    "duration": 720,
    "start_time": "2023-02-15T12:23:15.692Z"
   },
   {
    "duration": 13,
    "start_time": "2023-02-15T12:23:35.108Z"
   },
   {
    "duration": 11,
    "start_time": "2023-02-15T12:24:00.822Z"
   },
   {
    "duration": 274,
    "start_time": "2023-02-15T12:26:20.590Z"
   },
   {
    "duration": 299,
    "start_time": "2023-02-15T12:27:04.092Z"
   },
   {
    "duration": 308,
    "start_time": "2023-02-15T12:27:47.422Z"
   },
   {
    "duration": 307,
    "start_time": "2023-02-15T12:30:15.425Z"
   },
   {
    "duration": 113,
    "start_time": "2023-02-15T12:30:35.260Z"
   },
   {
    "duration": 74,
    "start_time": "2023-02-15T12:30:42.782Z"
   },
   {
    "duration": 338,
    "start_time": "2023-02-15T12:30:49.397Z"
   },
   {
    "duration": 360,
    "start_time": "2023-02-15T12:31:11.922Z"
   },
   {
    "duration": 106,
    "start_time": "2023-02-15T12:34:17.191Z"
   },
   {
    "duration": 400,
    "start_time": "2023-02-15T12:34:26.691Z"
   },
   {
    "duration": 92,
    "start_time": "2023-02-15T12:36:43.304Z"
   },
   {
    "duration": 740,
    "start_time": "2023-02-15T12:36:51.553Z"
   },
   {
    "duration": 401,
    "start_time": "2023-02-15T12:40:30.428Z"
   },
   {
    "duration": 4,
    "start_time": "2023-02-15T15:19:34.777Z"
   },
   {
    "duration": 5,
    "start_time": "2023-02-15T15:35:54.774Z"
   },
   {
    "duration": 352,
    "start_time": "2023-02-15T15:43:21.725Z"
   },
   {
    "duration": 509,
    "start_time": "2023-02-15T15:44:50.975Z"
   },
   {
    "duration": 125,
    "start_time": "2023-02-15T15:45:11.414Z"
   },
   {
    "duration": 225,
    "start_time": "2023-02-15T15:45:18.621Z"
   },
   {
    "duration": 236,
    "start_time": "2023-02-15T15:45:44.123Z"
   },
   {
    "duration": 72,
    "start_time": "2023-02-15T15:48:59.161Z"
   },
   {
    "duration": 358,
    "start_time": "2023-02-15T15:49:16.171Z"
   },
   {
    "duration": 73,
    "start_time": "2023-02-15T15:49:20.129Z"
   },
   {
    "duration": 74,
    "start_time": "2023-02-15T15:49:36.852Z"
   },
   {
    "duration": 76,
    "start_time": "2023-02-15T15:50:43.761Z"
   },
   {
    "duration": 247,
    "start_time": "2023-02-15T15:52:36.171Z"
   },
   {
    "duration": 220,
    "start_time": "2023-02-15T15:53:10.473Z"
   },
   {
    "duration": 212,
    "start_time": "2023-02-15T15:53:27.137Z"
   },
   {
    "duration": 225,
    "start_time": "2023-02-15T15:56:24.122Z"
   },
   {
    "duration": 232,
    "start_time": "2023-02-15T15:56:30.928Z"
   },
   {
    "duration": 255,
    "start_time": "2023-02-15T15:56:48.533Z"
   },
   {
    "duration": 261,
    "start_time": "2023-02-15T16:05:02.647Z"
   },
   {
    "duration": 279,
    "start_time": "2023-02-15T16:05:56.419Z"
   },
   {
    "duration": 707,
    "start_time": "2023-02-15T17:10:50.269Z"
   },
   {
    "duration": 50,
    "start_time": "2023-02-16T07:04:41.243Z"
   },
   {
    "duration": 46,
    "start_time": "2023-02-16T07:04:47.386Z"
   },
   {
    "duration": 1397,
    "start_time": "2023-02-16T07:04:52.732Z"
   },
   {
    "duration": 14,
    "start_time": "2023-02-16T07:04:54.131Z"
   },
   {
    "duration": 13,
    "start_time": "2023-02-16T07:04:54.147Z"
   },
   {
    "duration": 19,
    "start_time": "2023-02-16T07:04:54.161Z"
   },
   {
    "duration": 42,
    "start_time": "2023-02-16T07:04:54.182Z"
   },
   {
    "duration": 86,
    "start_time": "2023-02-16T07:04:54.225Z"
   },
   {
    "duration": 9,
    "start_time": "2023-02-16T07:04:54.312Z"
   },
   {
    "duration": 14,
    "start_time": "2023-02-16T07:04:54.322Z"
   },
   {
    "duration": 21,
    "start_time": "2023-02-16T07:04:54.337Z"
   },
   {
    "duration": 15,
    "start_time": "2023-02-16T07:04:54.360Z"
   },
   {
    "duration": 22,
    "start_time": "2023-02-16T07:04:54.376Z"
   },
   {
    "duration": 9,
    "start_time": "2023-02-16T07:04:54.411Z"
   },
   {
    "duration": 14,
    "start_time": "2023-02-16T07:04:54.421Z"
   },
   {
    "duration": 26,
    "start_time": "2023-02-16T07:04:54.438Z"
   },
   {
    "duration": 23,
    "start_time": "2023-02-16T07:04:54.465Z"
   },
   {
    "duration": 287,
    "start_time": "2023-02-16T07:04:54.489Z"
   },
   {
    "duration": 40,
    "start_time": "2023-02-16T07:04:54.778Z"
   },
   {
    "duration": 4,
    "start_time": "2023-02-16T07:04:54.820Z"
   },
   {
    "duration": 10,
    "start_time": "2023-02-16T07:04:54.825Z"
   },
   {
    "duration": 4,
    "start_time": "2023-02-16T07:04:54.837Z"
   },
   {
    "duration": 16,
    "start_time": "2023-02-16T07:04:54.843Z"
   },
   {
    "duration": 388,
    "start_time": "2023-02-16T07:04:54.861Z"
   },
   {
    "duration": 311,
    "start_time": "2023-02-16T07:04:55.250Z"
   },
   {
    "duration": 20,
    "start_time": "2023-02-16T07:04:55.563Z"
   },
   {
    "duration": 13,
    "start_time": "2023-02-16T07:04:55.585Z"
   },
   {
    "duration": 27,
    "start_time": "2023-02-16T07:04:55.599Z"
   },
   {
    "duration": 646,
    "start_time": "2023-02-16T07:04:55.628Z"
   },
   {
    "duration": 15,
    "start_time": "2023-02-16T07:04:56.275Z"
   },
   {
    "duration": 671,
    "start_time": "2023-02-16T07:04:56.292Z"
   },
   {
    "duration": 274,
    "start_time": "2023-02-16T07:04:56.964Z"
   },
   {
    "duration": 5,
    "start_time": "2023-02-16T07:04:57.240Z"
   },
   {
    "duration": 17,
    "start_time": "2023-02-16T07:04:57.247Z"
   },
   {
    "duration": 22,
    "start_time": "2023-02-16T07:06:20.299Z"
   },
   {
    "duration": 22,
    "start_time": "2023-02-16T07:07:41.538Z"
   },
   {
    "duration": 23,
    "start_time": "2023-02-16T07:07:54.755Z"
   },
   {
    "duration": 22,
    "start_time": "2023-02-16T07:08:19.110Z"
   },
   {
    "duration": 8,
    "start_time": "2023-02-16T07:11:03.139Z"
   },
   {
    "duration": 23,
    "start_time": "2023-02-16T07:11:07.577Z"
   },
   {
    "duration": 468,
    "start_time": "2023-02-16T07:13:15.894Z"
   },
   {
    "duration": 19,
    "start_time": "2023-02-16T07:13:32.943Z"
   },
   {
    "duration": 438,
    "start_time": "2023-02-16T07:15:14.688Z"
   },
   {
    "duration": 430,
    "start_time": "2023-02-16T07:16:10.764Z"
   },
   {
    "duration": 557,
    "start_time": "2023-02-16T07:18:52.418Z"
   },
   {
    "duration": 450,
    "start_time": "2023-02-16T07:19:12.456Z"
   },
   {
    "duration": 439,
    "start_time": "2023-02-16T07:20:23.049Z"
   },
   {
    "duration": 773,
    "start_time": "2023-02-16T07:32:00.502Z"
   },
   {
    "duration": 738,
    "start_time": "2023-02-16T07:32:17.733Z"
   },
   {
    "duration": 697,
    "start_time": "2023-02-16T07:32:37.316Z"
   },
   {
    "duration": 819,
    "start_time": "2023-02-16T07:32:59.285Z"
   },
   {
    "duration": 754,
    "start_time": "2023-02-16T07:33:26.683Z"
   },
   {
    "duration": 286,
    "start_time": "2023-02-16T07:34:22.955Z"
   },
   {
    "duration": 258,
    "start_time": "2023-02-16T07:34:58.703Z"
   },
   {
    "duration": 258,
    "start_time": "2023-02-16T07:35:07.778Z"
   },
   {
    "duration": 259,
    "start_time": "2023-02-16T07:35:15.794Z"
   },
   {
    "duration": 369,
    "start_time": "2023-02-16T07:35:23.396Z"
   },
   {
    "duration": 262,
    "start_time": "2023-02-16T07:35:31.343Z"
   },
   {
    "duration": 6,
    "start_time": "2023-02-16T08:02:53.709Z"
   },
   {
    "duration": 243,
    "start_time": "2023-02-16T08:03:15.504Z"
   },
   {
    "duration": 243,
    "start_time": "2023-02-16T08:03:26.120Z"
   },
   {
    "duration": 249,
    "start_time": "2023-02-16T08:03:48.871Z"
   },
   {
    "duration": 231,
    "start_time": "2023-02-16T08:04:33.919Z"
   },
   {
    "duration": 268,
    "start_time": "2023-02-16T08:04:51.192Z"
   },
   {
    "duration": 236,
    "start_time": "2023-02-16T08:11:41.643Z"
   },
   {
    "duration": 24,
    "start_time": "2023-02-16T08:39:43.125Z"
   },
   {
    "duration": 60,
    "start_time": "2023-02-16T08:39:49.585Z"
   },
   {
    "duration": 47,
    "start_time": "2023-02-16T08:46:49.962Z"
   },
   {
    "duration": 450,
    "start_time": "2023-02-16T08:47:48.850Z"
   },
   {
    "duration": 35,
    "start_time": "2023-02-16T08:48:07.635Z"
   },
   {
    "duration": 386,
    "start_time": "2023-02-16T08:48:14.676Z"
   },
   {
    "duration": 380,
    "start_time": "2023-02-16T08:49:10.282Z"
   },
   {
    "duration": 1038,
    "start_time": "2023-02-16T08:49:26.561Z"
   },
   {
    "duration": 907,
    "start_time": "2023-02-16T08:50:11.699Z"
   },
   {
    "duration": 913,
    "start_time": "2023-02-16T08:50:31.789Z"
   },
   {
    "duration": 902,
    "start_time": "2023-02-16T08:52:33.589Z"
   },
   {
    "duration": 36,
    "start_time": "2023-02-16T09:10:36.139Z"
   },
   {
    "duration": 1183,
    "start_time": "2023-02-16T09:10:59.958Z"
   },
   {
    "duration": 214,
    "start_time": "2023-02-16T09:11:21.140Z"
   },
   {
    "duration": 194,
    "start_time": "2023-02-16T09:11:54.743Z"
   },
   {
    "duration": 207,
    "start_time": "2023-02-16T09:12:13.853Z"
   },
   {
    "duration": 202,
    "start_time": "2023-02-16T09:12:27.228Z"
   },
   {
    "duration": 217,
    "start_time": "2023-02-16T09:12:42.833Z"
   },
   {
    "duration": 187,
    "start_time": "2023-02-16T09:12:56.380Z"
   },
   {
    "duration": 28,
    "start_time": "2023-02-16T09:13:04.283Z"
   },
   {
    "duration": 43,
    "start_time": "2023-02-16T09:14:18.239Z"
   },
   {
    "duration": 30,
    "start_time": "2023-02-16T09:14:27.452Z"
   },
   {
    "duration": 167,
    "start_time": "2023-02-16T09:14:59.001Z"
   },
   {
    "duration": 29,
    "start_time": "2023-02-16T09:15:15.547Z"
   },
   {
    "duration": 192,
    "start_time": "2023-02-16T09:15:42.337Z"
   },
   {
    "duration": 196,
    "start_time": "2023-02-16T09:16:00.199Z"
   },
   {
    "duration": 363,
    "start_time": "2023-02-16T09:17:35.534Z"
   },
   {
    "duration": 21,
    "start_time": "2023-02-16T09:17:43.277Z"
   },
   {
    "duration": 26,
    "start_time": "2023-02-16T09:18:24.038Z"
   },
   {
    "duration": 188,
    "start_time": "2023-02-16T09:18:38.659Z"
   },
   {
    "duration": 44,
    "start_time": "2023-02-16T09:19:19.440Z"
   },
   {
    "duration": 197,
    "start_time": "2023-02-16T09:19:26.473Z"
   },
   {
    "duration": 223,
    "start_time": "2023-02-16T09:19:57.252Z"
   },
   {
    "duration": 307,
    "start_time": "2023-02-16T09:26:20.830Z"
   },
   {
    "duration": 1416,
    "start_time": "2023-02-16T09:27:22.332Z"
   },
   {
    "duration": 1264,
    "start_time": "2023-02-16T09:27:41.636Z"
   },
   {
    "duration": 1269,
    "start_time": "2023-02-16T09:29:00.889Z"
   },
   {
    "duration": 1250,
    "start_time": "2023-02-16T09:29:34.932Z"
   },
   {
    "duration": 2503,
    "start_time": "2023-02-16T09:54:56.440Z"
   },
   {
    "duration": 1476,
    "start_time": "2023-02-16T09:55:36.484Z"
   },
   {
    "duration": 24,
    "start_time": "2023-02-16T10:02:52.831Z"
   },
   {
    "duration": 227,
    "start_time": "2023-02-16T10:03:05.856Z"
   },
   {
    "duration": 472,
    "start_time": "2023-02-16T10:03:13.042Z"
   },
   {
    "duration": 553,
    "start_time": "2023-02-16T10:03:18.640Z"
   },
   {
    "duration": 459,
    "start_time": "2023-02-16T10:03:29.535Z"
   },
   {
    "duration": 50,
    "start_time": "2023-02-16T10:04:27.256Z"
   },
   {
    "duration": 55,
    "start_time": "2023-02-16T10:04:35.040Z"
   },
   {
    "duration": 357,
    "start_time": "2023-02-16T10:04:40.052Z"
   },
   {
    "duration": 49,
    "start_time": "2023-02-16T10:07:23.236Z"
   },
   {
    "duration": 319,
    "start_time": "2023-02-16T10:07:29.436Z"
   },
   {
    "duration": 349,
    "start_time": "2023-02-16T10:14:18.435Z"
   },
   {
    "duration": 202,
    "start_time": "2023-02-16T10:15:09.779Z"
   },
   {
    "duration": 26,
    "start_time": "2023-02-16T10:15:15.648Z"
   },
   {
    "duration": 1361,
    "start_time": "2023-02-16T10:15:39.333Z"
   },
   {
    "duration": 41,
    "start_time": "2023-02-16T10:15:40.696Z"
   },
   {
    "duration": 36,
    "start_time": "2023-02-16T10:15:40.742Z"
   },
   {
    "duration": 21,
    "start_time": "2023-02-16T10:15:40.783Z"
   },
   {
    "duration": 64,
    "start_time": "2023-02-16T10:15:40.806Z"
   },
   {
    "duration": 188,
    "start_time": "2023-02-16T10:15:40.871Z"
   },
   {
    "duration": 13,
    "start_time": "2023-02-16T10:15:41.076Z"
   },
   {
    "duration": 9,
    "start_time": "2023-02-16T10:15:41.091Z"
   },
   {
    "duration": 83,
    "start_time": "2023-02-16T10:15:41.102Z"
   },
   {
    "duration": 9,
    "start_time": "2023-02-16T10:15:41.188Z"
   },
   {
    "duration": 46,
    "start_time": "2023-02-16T10:15:41.199Z"
   },
   {
    "duration": 28,
    "start_time": "2023-02-16T10:15:41.247Z"
   },
   {
    "duration": 6,
    "start_time": "2023-02-16T10:15:41.277Z"
   },
   {
    "duration": 15,
    "start_time": "2023-02-16T10:15:41.287Z"
   },
   {
    "duration": 92,
    "start_time": "2023-02-16T10:15:41.304Z"
   },
   {
    "duration": 410,
    "start_time": "2023-02-16T10:15:41.398Z"
   },
   {
    "duration": 47,
    "start_time": "2023-02-16T10:15:41.813Z"
   },
   {
    "duration": 5,
    "start_time": "2023-02-16T10:15:41.861Z"
   },
   {
    "duration": 11,
    "start_time": "2023-02-16T10:15:41.867Z"
   },
   {
    "duration": 6,
    "start_time": "2023-02-16T10:15:41.879Z"
   },
   {
    "duration": 41,
    "start_time": "2023-02-16T10:15:41.886Z"
   },
   {
    "duration": 389,
    "start_time": "2023-02-16T10:15:41.928Z"
   },
   {
    "duration": 360,
    "start_time": "2023-02-16T10:15:42.319Z"
   },
   {
    "duration": 42,
    "start_time": "2023-02-16T10:15:42.681Z"
   },
   {
    "duration": 35,
    "start_time": "2023-02-16T10:15:42.725Z"
   },
   {
    "duration": 19,
    "start_time": "2023-02-16T10:15:42.761Z"
   },
   {
    "duration": 769,
    "start_time": "2023-02-16T10:15:42.781Z"
   },
   {
    "duration": 19,
    "start_time": "2023-02-16T10:15:43.557Z"
   },
   {
    "duration": 758,
    "start_time": "2023-02-16T10:15:43.578Z"
   },
   {
    "duration": 284,
    "start_time": "2023-02-16T10:15:44.340Z"
   },
   {
    "duration": 323,
    "start_time": "2023-02-16T10:15:44.628Z"
   },
   {
    "duration": 304,
    "start_time": "2023-02-16T10:15:44.953Z"
   },
   {
    "duration": 316,
    "start_time": "2023-02-16T10:15:45.259Z"
   },
   {
    "duration": 20,
    "start_time": "2023-02-16T10:15:45.576Z"
   },
   {
    "duration": 43,
    "start_time": "2023-02-16T10:15:45.598Z"
   },
   {
    "duration": 19,
    "start_time": "2023-02-16T10:16:14.615Z"
   },
   {
    "duration": 21,
    "start_time": "2023-02-16T10:16:44.238Z"
   },
   {
    "duration": 14,
    "start_time": "2023-02-16T10:17:00.474Z"
   },
   {
    "duration": 15,
    "start_time": "2023-02-16T10:18:23.865Z"
   },
   {
    "duration": 187,
    "start_time": "2023-02-16T10:18:32.232Z"
   },
   {
    "duration": 24,
    "start_time": "2023-02-16T10:19:19.062Z"
   },
   {
    "duration": 37,
    "start_time": "2023-02-16T10:19:24.634Z"
   },
   {
    "duration": 24,
    "start_time": "2023-02-16T10:19:34.264Z"
   },
   {
    "duration": 30,
    "start_time": "2023-02-16T10:20:22.831Z"
   },
   {
    "duration": 334,
    "start_time": "2023-02-16T10:21:48.327Z"
   },
   {
    "duration": 449,
    "start_time": "2023-02-16T10:22:32.427Z"
   },
   {
    "duration": 424,
    "start_time": "2023-02-16T10:22:47.051Z"
   },
   {
    "duration": 400,
    "start_time": "2023-02-16T10:24:04.590Z"
   },
   {
    "duration": 384,
    "start_time": "2023-02-16T10:25:11.078Z"
   },
   {
    "duration": 14,
    "start_time": "2023-02-16T10:46:01.185Z"
   },
   {
    "duration": 14,
    "start_time": "2023-02-16T10:46:07.854Z"
   },
   {
    "duration": 12,
    "start_time": "2023-02-16T10:47:29.453Z"
   },
   {
    "duration": 16,
    "start_time": "2023-02-16T10:47:34.647Z"
   },
   {
    "duration": 19,
    "start_time": "2023-02-16T10:48:30.043Z"
   },
   {
    "duration": 300,
    "start_time": "2023-02-16T10:51:59.692Z"
   },
   {
    "duration": 370,
    "start_time": "2023-02-16T10:53:08.673Z"
   },
   {
    "duration": 446,
    "start_time": "2023-02-16T10:53:14.351Z"
   },
   {
    "duration": 305,
    "start_time": "2023-02-16T11:02:43.031Z"
   },
   {
    "duration": 288,
    "start_time": "2023-02-16T11:03:54.861Z"
   },
   {
    "duration": 18,
    "start_time": "2023-02-16T11:08:48.758Z"
   },
   {
    "duration": 256,
    "start_time": "2023-02-16T11:10:01.442Z"
   },
   {
    "duration": 269,
    "start_time": "2023-02-16T11:10:12.747Z"
   },
   {
    "duration": 380,
    "start_time": "2023-02-16T11:10:58.883Z"
   },
   {
    "duration": 307,
    "start_time": "2023-02-16T11:11:09.071Z"
   },
   {
    "duration": 301,
    "start_time": "2023-02-16T11:11:14.744Z"
   },
   {
    "duration": 303,
    "start_time": "2023-02-16T11:16:34.748Z"
   },
   {
    "duration": 270,
    "start_time": "2023-02-16T11:17:42.488Z"
   },
   {
    "duration": 424,
    "start_time": "2023-02-16T11:20:40.843Z"
   },
   {
    "duration": 300,
    "start_time": "2023-02-16T11:21:08.848Z"
   },
   {
    "duration": 261,
    "start_time": "2023-02-16T11:21:31.943Z"
   },
   {
    "duration": 271,
    "start_time": "2023-02-16T11:21:41.580Z"
   },
   {
    "duration": 278,
    "start_time": "2023-02-16T11:21:45.697Z"
   },
   {
    "duration": 291,
    "start_time": "2023-02-16T11:23:12.236Z"
   },
   {
    "duration": 13,
    "start_time": "2023-02-16T12:02:54.539Z"
   },
   {
    "duration": 5,
    "start_time": "2023-02-16T12:03:44.386Z"
   },
   {
    "duration": 20,
    "start_time": "2023-02-16T12:04:39.451Z"
   },
   {
    "duration": 267,
    "start_time": "2023-02-16T12:04:43.738Z"
   },
   {
    "duration": 1699,
    "start_time": "2023-02-16T12:06:29.288Z"
   },
   {
    "duration": 282,
    "start_time": "2023-02-16T12:07:07.477Z"
   },
   {
    "duration": 323,
    "start_time": "2023-02-16T12:07:13.260Z"
   },
   {
    "duration": 460,
    "start_time": "2023-02-16T15:53:53.932Z"
   },
   {
    "duration": 276,
    "start_time": "2023-02-16T15:54:05.452Z"
   },
   {
    "duration": 34,
    "start_time": "2023-02-16T15:57:10.081Z"
   },
   {
    "duration": 263,
    "start_time": "2023-02-16T15:57:18.280Z"
   },
   {
    "duration": 7,
    "start_time": "2023-02-16T15:57:47.653Z"
   },
   {
    "duration": 307,
    "start_time": "2023-02-16T15:58:01.951Z"
   },
   {
    "duration": 6,
    "start_time": "2023-02-16T17:59:39.940Z"
   },
   {
    "duration": 22,
    "start_time": "2023-02-16T17:59:47.652Z"
   },
   {
    "duration": 4,
    "start_time": "2023-02-16T17:59:59.755Z"
   },
   {
    "duration": 11,
    "start_time": "2023-02-16T18:03:43.130Z"
   },
   {
    "duration": 23,
    "start_time": "2023-02-16T18:03:49.308Z"
   },
   {
    "duration": 8,
    "start_time": "2023-02-16T18:03:51.032Z"
   },
   {
    "duration": 8,
    "start_time": "2023-02-16T18:04:08.669Z"
   },
   {
    "duration": 11,
    "start_time": "2023-02-16T18:04:17.562Z"
   },
   {
    "duration": 9,
    "start_time": "2023-02-16T18:05:05.152Z"
   },
   {
    "duration": 23,
    "start_time": "2023-02-16T18:05:15.294Z"
   },
   {
    "duration": 20,
    "start_time": "2023-02-16T18:05:37.528Z"
   },
   {
    "duration": 10,
    "start_time": "2023-02-16T18:06:01.568Z"
   },
   {
    "duration": 581,
    "start_time": "2023-02-16T18:06:33.934Z"
   },
   {
    "duration": 593,
    "start_time": "2023-02-16T18:06:56.580Z"
   },
   {
    "duration": 13,
    "start_time": "2023-02-16T18:07:06.626Z"
   },
   {
    "duration": 9,
    "start_time": "2023-02-16T18:07:28.273Z"
   },
   {
    "duration": 7,
    "start_time": "2023-02-16T18:11:12.901Z"
   },
   {
    "duration": 7,
    "start_time": "2023-02-16T18:11:24.664Z"
   },
   {
    "duration": 19,
    "start_time": "2023-02-16T18:11:56.106Z"
   },
   {
    "duration": 9,
    "start_time": "2023-02-16T18:12:11.437Z"
   },
   {
    "duration": 9,
    "start_time": "2023-02-16T18:12:35.172Z"
   },
   {
    "duration": 3,
    "start_time": "2023-02-16T18:13:46.999Z"
   },
   {
    "duration": 12,
    "start_time": "2023-02-16T18:13:58.238Z"
   },
   {
    "duration": 6,
    "start_time": "2023-02-16T18:14:05.193Z"
   },
   {
    "duration": 8,
    "start_time": "2023-02-16T18:14:36.777Z"
   },
   {
    "duration": 18,
    "start_time": "2023-02-16T18:15:33.730Z"
   },
   {
    "duration": 14,
    "start_time": "2023-02-16T18:19:19.842Z"
   },
   {
    "duration": 11,
    "start_time": "2023-02-16T18:22:33.730Z"
   },
   {
    "duration": 7,
    "start_time": "2023-02-16T18:23:09.295Z"
   },
   {
    "duration": 5,
    "start_time": "2023-02-16T18:23:40.138Z"
   },
   {
    "duration": 8,
    "start_time": "2023-02-16T18:23:43.437Z"
   },
   {
    "duration": 4,
    "start_time": "2023-02-16T18:23:58.398Z"
   },
   {
    "duration": 8,
    "start_time": "2023-02-16T18:24:01.674Z"
   },
   {
    "duration": 5,
    "start_time": "2023-02-16T18:24:34.978Z"
   },
   {
    "duration": 9,
    "start_time": "2023-02-16T18:24:41.066Z"
   },
   {
    "duration": 10,
    "start_time": "2023-02-16T18:25:04.029Z"
   },
   {
    "duration": 5,
    "start_time": "2023-02-16T18:25:09.035Z"
   },
   {
    "duration": 8,
    "start_time": "2023-02-16T18:25:12.277Z"
   },
   {
    "duration": 9,
    "start_time": "2023-02-16T18:25:19.238Z"
   },
   {
    "duration": 6,
    "start_time": "2023-02-16T18:26:28.870Z"
   },
   {
    "duration": 23,
    "start_time": "2023-02-16T18:26:39.204Z"
   },
   {
    "duration": 12,
    "start_time": "2023-02-16T18:26:52.994Z"
   },
   {
    "duration": 12,
    "start_time": "2023-02-16T18:27:04.245Z"
   },
   {
    "duration": 7,
    "start_time": "2023-02-16T18:27:16.092Z"
   },
   {
    "duration": 8,
    "start_time": "2023-02-16T18:28:11.657Z"
   },
   {
    "duration": 8,
    "start_time": "2023-02-16T18:28:31.626Z"
   },
   {
    "duration": 9,
    "start_time": "2023-02-16T18:29:06.692Z"
   },
   {
    "duration": 7,
    "start_time": "2023-02-16T18:29:19.530Z"
   },
   {
    "duration": 11,
    "start_time": "2023-02-16T18:30:17.584Z"
   },
   {
    "duration": 7,
    "start_time": "2023-02-16T18:30:30.177Z"
   },
   {
    "duration": 5,
    "start_time": "2023-02-16T18:30:50.591Z"
   },
   {
    "duration": 5,
    "start_time": "2023-02-16T18:31:07.047Z"
   },
   {
    "duration": 1272,
    "start_time": "2023-02-16T18:32:00.247Z"
   },
   {
    "duration": 25,
    "start_time": "2023-02-16T18:32:01.522Z"
   },
   {
    "duration": 28,
    "start_time": "2023-02-16T18:32:01.549Z"
   },
   {
    "duration": 18,
    "start_time": "2023-02-16T18:32:01.579Z"
   },
   {
    "duration": 50,
    "start_time": "2023-02-16T18:32:01.599Z"
   },
   {
    "duration": 125,
    "start_time": "2023-02-16T18:32:01.651Z"
   },
   {
    "duration": 10,
    "start_time": "2023-02-16T18:32:01.778Z"
   },
   {
    "duration": 18,
    "start_time": "2023-02-16T18:32:01.790Z"
   },
   {
    "duration": 61,
    "start_time": "2023-02-16T18:32:01.809Z"
   },
   {
    "duration": 49,
    "start_time": "2023-02-16T18:32:01.873Z"
   },
   {
    "duration": 54,
    "start_time": "2023-02-16T18:32:01.924Z"
   },
   {
    "duration": 30,
    "start_time": "2023-02-16T18:32:01.980Z"
   },
   {
    "duration": 38,
    "start_time": "2023-02-16T18:32:02.012Z"
   },
   {
    "duration": 30,
    "start_time": "2023-02-16T18:32:02.052Z"
   },
   {
    "duration": 38,
    "start_time": "2023-02-16T18:32:02.084Z"
   },
   {
    "duration": 370,
    "start_time": "2023-02-16T18:32:02.124Z"
   },
   {
    "duration": 62,
    "start_time": "2023-02-16T18:32:02.496Z"
   },
   {
    "duration": 5,
    "start_time": "2023-02-16T18:32:02.560Z"
   },
   {
    "duration": 16,
    "start_time": "2023-02-16T18:32:02.566Z"
   },
   {
    "duration": 7,
    "start_time": "2023-02-16T18:32:02.584Z"
   },
   {
    "duration": 37,
    "start_time": "2023-02-16T18:32:02.592Z"
   },
   {
    "duration": 361,
    "start_time": "2023-02-16T18:32:02.632Z"
   },
   {
    "duration": 390,
    "start_time": "2023-02-16T18:32:02.995Z"
   },
   {
    "duration": 44,
    "start_time": "2023-02-16T18:32:03.387Z"
   },
   {
    "duration": 14,
    "start_time": "2023-02-16T18:32:03.435Z"
   },
   {
    "duration": 20,
    "start_time": "2023-02-16T18:32:03.451Z"
   },
   {
    "duration": 681,
    "start_time": "2023-02-16T18:32:03.473Z"
   },
   {
    "duration": 19,
    "start_time": "2023-02-16T18:32:04.158Z"
   },
   {
    "duration": 767,
    "start_time": "2023-02-16T18:32:04.179Z"
   },
   {
    "duration": 288,
    "start_time": "2023-02-16T18:32:04.947Z"
   },
   {
    "duration": 305,
    "start_time": "2023-02-16T18:32:05.237Z"
   },
   {
    "duration": 279,
    "start_time": "2023-02-16T18:32:05.544Z"
   },
   {
    "duration": 307,
    "start_time": "2023-02-16T18:32:05.826Z"
   },
   {
    "duration": 369,
    "start_time": "2023-02-16T18:32:06.135Z"
   },
   {
    "duration": 271,
    "start_time": "2023-02-16T18:32:06.506Z"
   },
   {
    "duration": 426,
    "start_time": "2023-02-16T18:32:06.779Z"
   },
   {
    "duration": 255,
    "start_time": "2023-02-16T18:32:07.207Z"
   },
   {
    "duration": 6,
    "start_time": "2023-02-16T18:32:07.464Z"
   },
   {
    "duration": 10,
    "start_time": "2023-02-16T18:32:07.471Z"
   },
   {
    "duration": 10,
    "start_time": "2023-02-16T18:32:07.482Z"
   },
   {
    "duration": 5,
    "start_time": "2023-02-16T18:32:07.510Z"
   },
   {
    "duration": 7,
    "start_time": "2023-02-16T18:32:07.517Z"
   },
   {
    "duration": 6,
    "start_time": "2023-02-16T18:32:07.525Z"
   },
   {
    "duration": 5,
    "start_time": "2023-02-16T18:32:07.533Z"
   },
   {
    "duration": 12,
    "start_time": "2023-02-16T18:32:07.540Z"
   },
   {
    "duration": 46,
    "start_time": "2023-02-17T07:01:41.401Z"
   },
   {
    "duration": 1646,
    "start_time": "2023-02-17T07:01:49.561Z"
   },
   {
    "duration": 13,
    "start_time": "2023-02-17T07:01:51.209Z"
   },
   {
    "duration": 24,
    "start_time": "2023-02-17T07:01:51.223Z"
   },
   {
    "duration": 43,
    "start_time": "2023-02-17T07:01:51.249Z"
   },
   {
    "duration": 42,
    "start_time": "2023-02-17T07:01:51.294Z"
   },
   {
    "duration": 88,
    "start_time": "2023-02-17T07:01:51.337Z"
   },
   {
    "duration": 8,
    "start_time": "2023-02-17T07:01:51.426Z"
   },
   {
    "duration": 8,
    "start_time": "2023-02-17T07:01:51.436Z"
   },
   {
    "duration": 59,
    "start_time": "2023-02-17T07:01:51.445Z"
   },
   {
    "duration": 17,
    "start_time": "2023-02-17T07:01:51.507Z"
   },
   {
    "duration": 40,
    "start_time": "2023-02-17T07:01:51.526Z"
   },
   {
    "duration": 26,
    "start_time": "2023-02-17T07:01:51.576Z"
   },
   {
    "duration": 11,
    "start_time": "2023-02-17T07:01:51.603Z"
   },
   {
    "duration": 27,
    "start_time": "2023-02-17T07:01:51.615Z"
   },
   {
    "duration": 43,
    "start_time": "2023-02-17T07:01:51.644Z"
   },
   {
    "duration": 344,
    "start_time": "2023-02-17T07:01:51.691Z"
   },
   {
    "duration": 62,
    "start_time": "2023-02-17T07:01:52.037Z"
   },
   {
    "duration": 15,
    "start_time": "2023-02-17T07:01:52.101Z"
   },
   {
    "duration": 25,
    "start_time": "2023-02-17T07:01:52.118Z"
   },
   {
    "duration": 19,
    "start_time": "2023-02-17T07:01:52.145Z"
   },
   {
    "duration": 51,
    "start_time": "2023-02-17T07:01:52.166Z"
   },
   {
    "duration": 378,
    "start_time": "2023-02-17T07:01:52.219Z"
   },
   {
    "duration": 336,
    "start_time": "2023-02-17T07:01:52.598Z"
   },
   {
    "duration": 34,
    "start_time": "2023-02-17T07:01:52.936Z"
   },
   {
    "duration": 24,
    "start_time": "2023-02-17T07:01:52.971Z"
   },
   {
    "duration": 20,
    "start_time": "2023-02-17T07:01:52.997Z"
   },
   {
    "duration": 811,
    "start_time": "2023-02-17T07:01:53.018Z"
   },
   {
    "duration": 15,
    "start_time": "2023-02-17T07:01:53.832Z"
   },
   {
    "duration": 679,
    "start_time": "2023-02-17T07:01:53.849Z"
   },
   {
    "duration": 290,
    "start_time": "2023-02-17T07:01:54.530Z"
   },
   {
    "duration": 334,
    "start_time": "2023-02-17T07:01:54.823Z"
   },
   {
    "duration": 279,
    "start_time": "2023-02-17T07:01:55.159Z"
   },
   {
    "duration": 304,
    "start_time": "2023-02-17T07:01:55.439Z"
   },
   {
    "duration": 367,
    "start_time": "2023-02-17T07:01:55.744Z"
   },
   {
    "duration": 269,
    "start_time": "2023-02-17T07:01:56.112Z"
   },
   {
    "duration": 365,
    "start_time": "2023-02-17T07:01:56.383Z"
   },
   {
    "duration": 257,
    "start_time": "2023-02-17T07:01:56.750Z"
   },
   {
    "duration": 12,
    "start_time": "2023-02-17T07:01:57.009Z"
   },
   {
    "duration": 130,
    "start_time": "2023-02-17T07:01:57.023Z"
   },
   {
    "duration": 0,
    "start_time": "2023-02-17T07:01:57.154Z"
   },
   {
    "duration": 1,
    "start_time": "2023-02-17T07:01:57.155Z"
   },
   {
    "duration": 0,
    "start_time": "2023-02-17T07:01:57.157Z"
   },
   {
    "duration": 0,
    "start_time": "2023-02-17T07:01:57.157Z"
   },
   {
    "duration": 0,
    "start_time": "2023-02-17T07:01:57.158Z"
   },
   {
    "duration": 0,
    "start_time": "2023-02-17T07:01:57.159Z"
   },
   {
    "duration": 13,
    "start_time": "2023-02-17T07:06:36.392Z"
   },
   {
    "duration": 7,
    "start_time": "2023-02-17T07:06:54.832Z"
   },
   {
    "duration": 8,
    "start_time": "2023-02-17T07:06:57.458Z"
   },
   {
    "duration": 6,
    "start_time": "2023-02-17T07:07:17.344Z"
   },
   {
    "duration": 8,
    "start_time": "2023-02-17T07:07:19.693Z"
   },
   {
    "duration": 9,
    "start_time": "2023-02-17T07:28:17.224Z"
   },
   {
    "duration": 5,
    "start_time": "2023-02-17T07:32:54.789Z"
   },
   {
    "duration": 10,
    "start_time": "2023-02-17T07:32:58.091Z"
   },
   {
    "duration": 3,
    "start_time": "2023-02-17T07:34:48.418Z"
   },
   {
    "duration": 9,
    "start_time": "2023-02-17T07:34:51.257Z"
   },
   {
    "duration": 5,
    "start_time": "2023-02-17T07:41:24.048Z"
   },
   {
    "duration": 80,
    "start_time": "2023-02-17T07:42:37.537Z"
   },
   {
    "duration": 5,
    "start_time": "2023-02-17T07:42:55.630Z"
   },
   {
    "duration": 10,
    "start_time": "2023-02-17T07:45:10.528Z"
   },
   {
    "duration": 3,
    "start_time": "2023-02-17T07:45:17.386Z"
   },
   {
    "duration": 18,
    "start_time": "2023-02-17T07:45:19.962Z"
   },
   {
    "duration": 6,
    "start_time": "2023-02-17T07:45:28.327Z"
   },
   {
    "duration": 8,
    "start_time": "2023-02-17T07:46:00.940Z"
   },
   {
    "duration": 80,
    "start_time": "2023-02-17T07:52:02.707Z"
   },
   {
    "duration": 12,
    "start_time": "2023-02-17T07:52:17.917Z"
   },
   {
    "duration": 5,
    "start_time": "2023-02-17T07:52:22.075Z"
   },
   {
    "duration": 9,
    "start_time": "2023-02-17T07:52:25.986Z"
   },
   {
    "duration": 15,
    "start_time": "2023-02-17T07:52:28.972Z"
   },
   {
    "duration": 8,
    "start_time": "2023-02-17T07:52:54.355Z"
   },
   {
    "duration": 5,
    "start_time": "2023-02-17T07:53:15.461Z"
   },
   {
    "duration": 19,
    "start_time": "2023-02-17T07:53:18.605Z"
   },
   {
    "duration": 10,
    "start_time": "2023-02-17T07:53:23.287Z"
   },
   {
    "duration": 17,
    "start_time": "2023-02-17T07:53:25.920Z"
   },
   {
    "duration": 5,
    "start_time": "2023-02-17T07:53:43.175Z"
   },
   {
    "duration": 6,
    "start_time": "2023-02-17T07:54:28.587Z"
   },
   {
    "duration": 4,
    "start_time": "2023-02-17T07:54:37.593Z"
   },
   {
    "duration": 15,
    "start_time": "2023-02-17T07:54:44.050Z"
   },
   {
    "duration": 4,
    "start_time": "2023-02-17T07:55:15.107Z"
   },
   {
    "duration": 14,
    "start_time": "2023-02-17T07:55:19.554Z"
   },
   {
    "duration": 19,
    "start_time": "2023-02-17T07:55:41.590Z"
   },
   {
    "duration": 8,
    "start_time": "2023-02-17T07:55:48.744Z"
   },
   {
    "duration": 15,
    "start_time": "2023-02-17T07:55:51.352Z"
   },
   {
    "duration": 5,
    "start_time": "2023-02-17T07:56:47.398Z"
   },
   {
    "duration": 7,
    "start_time": "2023-02-17T07:57:34.829Z"
   },
   {
    "duration": 4,
    "start_time": "2023-02-17T07:57:41.922Z"
   },
   {
    "duration": 4,
    "start_time": "2023-02-17T07:59:21.659Z"
   },
   {
    "duration": 9,
    "start_time": "2023-02-17T08:00:53.027Z"
   },
   {
    "duration": 82,
    "start_time": "2023-02-17T08:05:09.470Z"
   },
   {
    "duration": 6,
    "start_time": "2023-02-17T08:06:00.524Z"
   },
   {
    "duration": 4,
    "start_time": "2023-02-17T08:06:56.185Z"
   },
   {
    "duration": 181,
    "start_time": "2023-02-17T08:12:55.295Z"
   },
   {
    "duration": 251,
    "start_time": "2023-02-17T08:13:11.206Z"
   },
   {
    "duration": 266,
    "start_time": "2023-02-17T08:13:35.649Z"
   },
   {
    "duration": 285,
    "start_time": "2023-02-17T08:13:43.631Z"
   },
   {
    "duration": 89,
    "start_time": "2023-02-17T08:39:59.344Z"
   },
   {
    "duration": 5,
    "start_time": "2023-02-17T08:57:31.217Z"
   },
   {
    "duration": 5,
    "start_time": "2023-02-17T08:58:10.365Z"
   },
   {
    "duration": 4,
    "start_time": "2023-02-17T08:58:38.325Z"
   },
   {
    "duration": 6,
    "start_time": "2023-02-17T08:58:44.960Z"
   },
   {
    "duration": 13,
    "start_time": "2023-02-17T09:01:53.223Z"
   },
   {
    "duration": 10,
    "start_time": "2023-02-17T09:01:58.849Z"
   },
   {
    "duration": 12,
    "start_time": "2023-02-17T09:02:37.048Z"
   },
   {
    "duration": 5,
    "start_time": "2023-02-17T09:02:42.916Z"
   },
   {
    "duration": 22,
    "start_time": "2023-02-17T09:08:44.594Z"
   },
   {
    "duration": 26,
    "start_time": "2023-02-17T09:09:23.985Z"
   },
   {
    "duration": 87,
    "start_time": "2023-02-17T09:10:38.136Z"
   },
   {
    "duration": 70,
    "start_time": "2023-02-17T09:11:41.996Z"
   },
   {
    "duration": 36518,
    "start_time": "2023-02-17T09:12:03.794Z"
   },
   {
    "duration": 1375,
    "start_time": "2023-02-17T09:13:07.417Z"
   },
   {
    "duration": 22,
    "start_time": "2023-02-17T09:13:08.793Z"
   },
   {
    "duration": 18,
    "start_time": "2023-02-17T09:13:08.816Z"
   },
   {
    "duration": 15,
    "start_time": "2023-02-17T09:13:08.836Z"
   },
   {
    "duration": 48,
    "start_time": "2023-02-17T09:13:08.868Z"
   },
   {
    "duration": 4,
    "start_time": "2023-02-17T09:13:08.918Z"
   },
   {
    "duration": 1807,
    "start_time": "2023-02-17T09:13:08.924Z"
   },
   {
    "duration": 0,
    "start_time": "2023-02-17T09:13:10.733Z"
   },
   {
    "duration": 0,
    "start_time": "2023-02-17T09:13:10.736Z"
   },
   {
    "duration": 0,
    "start_time": "2023-02-17T09:13:10.738Z"
   },
   {
    "duration": 0,
    "start_time": "2023-02-17T09:13:10.740Z"
   },
   {
    "duration": 0,
    "start_time": "2023-02-17T09:13:10.741Z"
   },
   {
    "duration": 0,
    "start_time": "2023-02-17T09:13:10.742Z"
   },
   {
    "duration": 0,
    "start_time": "2023-02-17T09:13:10.744Z"
   },
   {
    "duration": 0,
    "start_time": "2023-02-17T09:13:10.745Z"
   },
   {
    "duration": 0,
    "start_time": "2023-02-17T09:13:10.746Z"
   },
   {
    "duration": 0,
    "start_time": "2023-02-17T09:13:10.747Z"
   },
   {
    "duration": 0,
    "start_time": "2023-02-17T09:13:10.748Z"
   },
   {
    "duration": 0,
    "start_time": "2023-02-17T09:13:10.750Z"
   },
   {
    "duration": 0,
    "start_time": "2023-02-17T09:13:10.751Z"
   },
   {
    "duration": 0,
    "start_time": "2023-02-17T09:13:10.752Z"
   },
   {
    "duration": 0,
    "start_time": "2023-02-17T09:13:10.753Z"
   },
   {
    "duration": 0,
    "start_time": "2023-02-17T09:13:10.754Z"
   },
   {
    "duration": 0,
    "start_time": "2023-02-17T09:13:10.755Z"
   },
   {
    "duration": 0,
    "start_time": "2023-02-17T09:13:10.756Z"
   },
   {
    "duration": 0,
    "start_time": "2023-02-17T09:13:10.757Z"
   },
   {
    "duration": 0,
    "start_time": "2023-02-17T09:13:10.758Z"
   },
   {
    "duration": 0,
    "start_time": "2023-02-17T09:13:10.759Z"
   },
   {
    "duration": 0,
    "start_time": "2023-02-17T09:13:10.760Z"
   },
   {
    "duration": 0,
    "start_time": "2023-02-17T09:13:10.762Z"
   },
   {
    "duration": 0,
    "start_time": "2023-02-17T09:13:10.763Z"
   },
   {
    "duration": 0,
    "start_time": "2023-02-17T09:13:10.764Z"
   },
   {
    "duration": 0,
    "start_time": "2023-02-17T09:13:10.765Z"
   },
   {
    "duration": 0,
    "start_time": "2023-02-17T09:13:10.768Z"
   },
   {
    "duration": 0,
    "start_time": "2023-02-17T09:13:10.775Z"
   },
   {
    "duration": 0,
    "start_time": "2023-02-17T09:13:10.777Z"
   },
   {
    "duration": 0,
    "start_time": "2023-02-17T09:13:10.779Z"
   },
   {
    "duration": 0,
    "start_time": "2023-02-17T09:13:10.780Z"
   },
   {
    "duration": 0,
    "start_time": "2023-02-17T09:13:10.782Z"
   },
   {
    "duration": 0,
    "start_time": "2023-02-17T09:13:10.785Z"
   },
   {
    "duration": 0,
    "start_time": "2023-02-17T09:13:10.785Z"
   },
   {
    "duration": 0,
    "start_time": "2023-02-17T09:13:10.786Z"
   },
   {
    "duration": 0,
    "start_time": "2023-02-17T09:13:10.787Z"
   },
   {
    "duration": 0,
    "start_time": "2023-02-17T09:13:10.787Z"
   },
   {
    "duration": 0,
    "start_time": "2023-02-17T09:13:10.788Z"
   },
   {
    "duration": 0,
    "start_time": "2023-02-17T09:13:10.789Z"
   },
   {
    "duration": 1568,
    "start_time": "2023-02-17T09:13:41.980Z"
   },
   {
    "duration": 1489,
    "start_time": "2023-02-17T09:14:09.329Z"
   },
   {
    "duration": 1793,
    "start_time": "2023-02-17T09:15:03.259Z"
   },
   {
    "duration": 1373,
    "start_time": "2023-02-17T09:15:54.969Z"
   },
   {
    "duration": 15,
    "start_time": "2023-02-17T09:15:56.344Z"
   },
   {
    "duration": 28,
    "start_time": "2023-02-17T09:15:56.362Z"
   },
   {
    "duration": 33,
    "start_time": "2023-02-17T09:15:56.394Z"
   },
   {
    "duration": 35,
    "start_time": "2023-02-17T09:15:56.429Z"
   },
   {
    "duration": 19,
    "start_time": "2023-02-17T09:15:56.466Z"
   },
   {
    "duration": 1698,
    "start_time": "2023-02-17T09:15:56.489Z"
   },
   {
    "duration": 0,
    "start_time": "2023-02-17T09:15:58.190Z"
   },
   {
    "duration": 0,
    "start_time": "2023-02-17T09:15:58.191Z"
   },
   {
    "duration": 0,
    "start_time": "2023-02-17T09:15:58.192Z"
   },
   {
    "duration": 0,
    "start_time": "2023-02-17T09:15:58.193Z"
   },
   {
    "duration": 0,
    "start_time": "2023-02-17T09:15:58.194Z"
   },
   {
    "duration": 0,
    "start_time": "2023-02-17T09:15:58.195Z"
   },
   {
    "duration": 0,
    "start_time": "2023-02-17T09:15:58.197Z"
   },
   {
    "duration": 0,
    "start_time": "2023-02-17T09:15:58.198Z"
   },
   {
    "duration": 0,
    "start_time": "2023-02-17T09:15:58.199Z"
   },
   {
    "duration": 0,
    "start_time": "2023-02-17T09:15:58.201Z"
   },
   {
    "duration": 0,
    "start_time": "2023-02-17T09:15:58.202Z"
   },
   {
    "duration": 0,
    "start_time": "2023-02-17T09:15:58.203Z"
   },
   {
    "duration": 1,
    "start_time": "2023-02-17T09:15:58.204Z"
   },
   {
    "duration": 0,
    "start_time": "2023-02-17T09:15:58.206Z"
   },
   {
    "duration": 0,
    "start_time": "2023-02-17T09:15:58.207Z"
   },
   {
    "duration": 0,
    "start_time": "2023-02-17T09:15:58.209Z"
   },
   {
    "duration": 0,
    "start_time": "2023-02-17T09:15:58.210Z"
   },
   {
    "duration": 0,
    "start_time": "2023-02-17T09:15:58.212Z"
   },
   {
    "duration": 0,
    "start_time": "2023-02-17T09:15:58.214Z"
   },
   {
    "duration": 0,
    "start_time": "2023-02-17T09:15:58.216Z"
   },
   {
    "duration": 0,
    "start_time": "2023-02-17T09:15:58.218Z"
   },
   {
    "duration": 0,
    "start_time": "2023-02-17T09:15:58.219Z"
   },
   {
    "duration": 0,
    "start_time": "2023-02-17T09:15:58.221Z"
   },
   {
    "duration": 0,
    "start_time": "2023-02-17T09:15:58.222Z"
   },
   {
    "duration": 0,
    "start_time": "2023-02-17T09:15:58.224Z"
   },
   {
    "duration": 0,
    "start_time": "2023-02-17T09:15:58.225Z"
   },
   {
    "duration": 0,
    "start_time": "2023-02-17T09:15:58.227Z"
   },
   {
    "duration": 0,
    "start_time": "2023-02-17T09:15:58.228Z"
   },
   {
    "duration": 0,
    "start_time": "2023-02-17T09:15:58.230Z"
   },
   {
    "duration": 0,
    "start_time": "2023-02-17T09:15:58.266Z"
   },
   {
    "duration": 0,
    "start_time": "2023-02-17T09:15:58.267Z"
   },
   {
    "duration": 0,
    "start_time": "2023-02-17T09:15:58.268Z"
   },
   {
    "duration": 0,
    "start_time": "2023-02-17T09:15:58.269Z"
   },
   {
    "duration": 0,
    "start_time": "2023-02-17T09:15:58.271Z"
   },
   {
    "duration": 0,
    "start_time": "2023-02-17T09:15:58.272Z"
   },
   {
    "duration": 0,
    "start_time": "2023-02-17T09:15:58.273Z"
   },
   {
    "duration": 0,
    "start_time": "2023-02-17T09:15:58.274Z"
   },
   {
    "duration": 0,
    "start_time": "2023-02-17T09:15:58.275Z"
   },
   {
    "duration": 0,
    "start_time": "2023-02-17T09:15:58.276Z"
   },
   {
    "duration": 4,
    "start_time": "2023-02-17T09:16:58.297Z"
   },
   {
    "duration": 4,
    "start_time": "2023-02-17T09:17:30.125Z"
   },
   {
    "duration": 376,
    "start_time": "2023-02-17T09:19:43.506Z"
   },
   {
    "duration": 21,
    "start_time": "2023-02-17T09:20:30.793Z"
   },
   {
    "duration": 23,
    "start_time": "2023-02-17T09:20:57.632Z"
   },
   {
    "duration": 92,
    "start_time": "2023-02-17T09:25:01.407Z"
   },
   {
    "duration": 26,
    "start_time": "2023-02-17T09:25:11.021Z"
   },
   {
    "duration": 28,
    "start_time": "2023-02-17T09:27:39.698Z"
   },
   {
    "duration": 27,
    "start_time": "2023-02-17T09:27:49.053Z"
   },
   {
    "duration": 22,
    "start_time": "2023-02-17T09:27:55.894Z"
   },
   {
    "duration": 34,
    "start_time": "2023-02-17T09:28:08.344Z"
   },
   {
    "duration": 23,
    "start_time": "2023-02-17T09:28:17.995Z"
   },
   {
    "duration": 39,
    "start_time": "2023-02-17T09:28:25.168Z"
   },
   {
    "duration": 34,
    "start_time": "2023-02-17T09:30:01.995Z"
   },
   {
    "duration": 17,
    "start_time": "2023-02-17T09:31:55.853Z"
   },
   {
    "duration": 17,
    "start_time": "2023-02-17T09:32:03.602Z"
   },
   {
    "duration": 59,
    "start_time": "2023-02-17T09:34:29.261Z"
   },
   {
    "duration": 27,
    "start_time": "2023-02-17T09:47:32.484Z"
   },
   {
    "duration": 34,
    "start_time": "2023-02-17T09:48:02.763Z"
   },
   {
    "duration": 31,
    "start_time": "2023-02-17T09:48:27.245Z"
   },
   {
    "duration": 28,
    "start_time": "2023-02-17T09:50:34.497Z"
   },
   {
    "duration": 29,
    "start_time": "2023-02-17T09:51:29.835Z"
   },
   {
    "duration": 42,
    "start_time": "2023-02-17T09:51:54.436Z"
   },
   {
    "duration": 24,
    "start_time": "2023-02-17T09:52:00.034Z"
   },
   {
    "duration": 44,
    "start_time": "2023-02-17T09:52:28.548Z"
   },
   {
    "duration": 103,
    "start_time": "2023-02-17T09:53:12.437Z"
   },
   {
    "duration": 29,
    "start_time": "2023-02-17T09:54:22.727Z"
   },
   {
    "duration": 12,
    "start_time": "2023-02-17T09:55:16.335Z"
   },
   {
    "duration": 19,
    "start_time": "2023-02-17T09:57:11.113Z"
   },
   {
    "duration": 1298,
    "start_time": "2023-02-17T09:58:07.991Z"
   },
   {
    "duration": 125,
    "start_time": "2023-02-17T09:58:09.291Z"
   },
   {
    "duration": 0,
    "start_time": "2023-02-17T09:58:09.419Z"
   },
   {
    "duration": 0,
    "start_time": "2023-02-17T09:58:09.419Z"
   },
   {
    "duration": 0,
    "start_time": "2023-02-17T09:58:09.420Z"
   },
   {
    "duration": 0,
    "start_time": "2023-02-17T09:58:09.421Z"
   },
   {
    "duration": 0,
    "start_time": "2023-02-17T09:58:09.422Z"
   },
   {
    "duration": 0,
    "start_time": "2023-02-17T09:58:09.423Z"
   },
   {
    "duration": 0,
    "start_time": "2023-02-17T09:58:09.424Z"
   },
   {
    "duration": 0,
    "start_time": "2023-02-17T09:58:09.425Z"
   },
   {
    "duration": 0,
    "start_time": "2023-02-17T09:58:09.426Z"
   },
   {
    "duration": 0,
    "start_time": "2023-02-17T09:58:09.427Z"
   },
   {
    "duration": 0,
    "start_time": "2023-02-17T09:58:09.428Z"
   },
   {
    "duration": 0,
    "start_time": "2023-02-17T09:58:09.429Z"
   },
   {
    "duration": 0,
    "start_time": "2023-02-17T09:58:09.430Z"
   },
   {
    "duration": 0,
    "start_time": "2023-02-17T09:58:09.431Z"
   },
   {
    "duration": 0,
    "start_time": "2023-02-17T09:58:09.432Z"
   },
   {
    "duration": 0,
    "start_time": "2023-02-17T09:58:09.433Z"
   },
   {
    "duration": 0,
    "start_time": "2023-02-17T09:58:09.434Z"
   },
   {
    "duration": 0,
    "start_time": "2023-02-17T09:58:09.435Z"
   },
   {
    "duration": 0,
    "start_time": "2023-02-17T09:58:09.436Z"
   },
   {
    "duration": 0,
    "start_time": "2023-02-17T09:58:09.472Z"
   },
   {
    "duration": 1,
    "start_time": "2023-02-17T09:58:09.474Z"
   },
   {
    "duration": 0,
    "start_time": "2023-02-17T09:58:09.475Z"
   },
   {
    "duration": 0,
    "start_time": "2023-02-17T09:58:09.476Z"
   },
   {
    "duration": 0,
    "start_time": "2023-02-17T09:58:09.477Z"
   },
   {
    "duration": 0,
    "start_time": "2023-02-17T09:58:09.478Z"
   },
   {
    "duration": 0,
    "start_time": "2023-02-17T09:58:09.479Z"
   },
   {
    "duration": 0,
    "start_time": "2023-02-17T09:58:09.480Z"
   },
   {
    "duration": 0,
    "start_time": "2023-02-17T09:58:09.480Z"
   },
   {
    "duration": 0,
    "start_time": "2023-02-17T09:58:09.481Z"
   },
   {
    "duration": 0,
    "start_time": "2023-02-17T09:58:09.482Z"
   },
   {
    "duration": 0,
    "start_time": "2023-02-17T09:58:09.483Z"
   },
   {
    "duration": 0,
    "start_time": "2023-02-17T09:58:09.484Z"
   },
   {
    "duration": 0,
    "start_time": "2023-02-17T09:58:09.485Z"
   },
   {
    "duration": 0,
    "start_time": "2023-02-17T09:58:09.486Z"
   },
   {
    "duration": 1,
    "start_time": "2023-02-17T09:58:09.486Z"
   },
   {
    "duration": 0,
    "start_time": "2023-02-17T09:58:09.487Z"
   },
   {
    "duration": 0,
    "start_time": "2023-02-17T09:58:09.488Z"
   },
   {
    "duration": 0,
    "start_time": "2023-02-17T09:58:09.489Z"
   },
   {
    "duration": 0,
    "start_time": "2023-02-17T09:58:09.491Z"
   },
   {
    "duration": 0,
    "start_time": "2023-02-17T09:58:09.492Z"
   },
   {
    "duration": 0,
    "start_time": "2023-02-17T09:58:09.493Z"
   },
   {
    "duration": 0,
    "start_time": "2023-02-17T09:58:09.493Z"
   },
   {
    "duration": 0,
    "start_time": "2023-02-17T09:58:09.494Z"
   },
   {
    "duration": 0,
    "start_time": "2023-02-17T09:58:09.495Z"
   },
   {
    "duration": 11,
    "start_time": "2023-02-17T09:58:17.103Z"
   },
   {
    "duration": 1307,
    "start_time": "2023-02-17T09:58:29.387Z"
   },
   {
    "duration": 119,
    "start_time": "2023-02-17T09:58:30.697Z"
   },
   {
    "duration": 0,
    "start_time": "2023-02-17T09:58:30.819Z"
   },
   {
    "duration": 0,
    "start_time": "2023-02-17T09:58:30.821Z"
   },
   {
    "duration": 0,
    "start_time": "2023-02-17T09:58:30.823Z"
   },
   {
    "duration": 0,
    "start_time": "2023-02-17T09:58:30.824Z"
   },
   {
    "duration": 0,
    "start_time": "2023-02-17T09:58:30.826Z"
   },
   {
    "duration": 0,
    "start_time": "2023-02-17T09:58:30.828Z"
   },
   {
    "duration": 0,
    "start_time": "2023-02-17T09:58:30.829Z"
   },
   {
    "duration": 0,
    "start_time": "2023-02-17T09:58:30.830Z"
   },
   {
    "duration": 0,
    "start_time": "2023-02-17T09:58:30.832Z"
   },
   {
    "duration": 0,
    "start_time": "2023-02-17T09:58:30.833Z"
   },
   {
    "duration": 0,
    "start_time": "2023-02-17T09:58:30.835Z"
   },
   {
    "duration": 0,
    "start_time": "2023-02-17T09:58:30.836Z"
   },
   {
    "duration": 0,
    "start_time": "2023-02-17T09:58:30.867Z"
   },
   {
    "duration": 0,
    "start_time": "2023-02-17T09:58:30.868Z"
   },
   {
    "duration": 0,
    "start_time": "2023-02-17T09:58:30.872Z"
   },
   {
    "duration": 0,
    "start_time": "2023-02-17T09:58:30.873Z"
   },
   {
    "duration": 0,
    "start_time": "2023-02-17T09:58:30.874Z"
   },
   {
    "duration": 0,
    "start_time": "2023-02-17T09:58:30.875Z"
   },
   {
    "duration": 0,
    "start_time": "2023-02-17T09:58:30.876Z"
   },
   {
    "duration": 0,
    "start_time": "2023-02-17T09:58:30.877Z"
   },
   {
    "duration": 0,
    "start_time": "2023-02-17T09:58:30.878Z"
   },
   {
    "duration": 0,
    "start_time": "2023-02-17T09:58:30.879Z"
   },
   {
    "duration": 0,
    "start_time": "2023-02-17T09:58:30.880Z"
   },
   {
    "duration": 0,
    "start_time": "2023-02-17T09:58:30.881Z"
   },
   {
    "duration": 0,
    "start_time": "2023-02-17T09:58:30.881Z"
   },
   {
    "duration": 1,
    "start_time": "2023-02-17T09:58:30.883Z"
   },
   {
    "duration": 0,
    "start_time": "2023-02-17T09:58:30.884Z"
   },
   {
    "duration": 0,
    "start_time": "2023-02-17T09:58:30.887Z"
   },
   {
    "duration": 0,
    "start_time": "2023-02-17T09:58:30.887Z"
   },
   {
    "duration": 0,
    "start_time": "2023-02-17T09:58:30.889Z"
   },
   {
    "duration": 0,
    "start_time": "2023-02-17T09:58:30.891Z"
   },
   {
    "duration": 0,
    "start_time": "2023-02-17T09:58:30.892Z"
   },
   {
    "duration": 0,
    "start_time": "2023-02-17T09:58:30.893Z"
   },
   {
    "duration": 0,
    "start_time": "2023-02-17T09:58:30.894Z"
   },
   {
    "duration": 0,
    "start_time": "2023-02-17T09:58:30.896Z"
   },
   {
    "duration": 0,
    "start_time": "2023-02-17T09:58:30.897Z"
   },
   {
    "duration": 0,
    "start_time": "2023-02-17T09:58:30.898Z"
   },
   {
    "duration": 0,
    "start_time": "2023-02-17T09:58:30.900Z"
   },
   {
    "duration": 0,
    "start_time": "2023-02-17T09:58:30.901Z"
   },
   {
    "duration": 0,
    "start_time": "2023-02-17T09:58:30.903Z"
   },
   {
    "duration": 0,
    "start_time": "2023-02-17T09:58:30.905Z"
   },
   {
    "duration": 0,
    "start_time": "2023-02-17T09:58:30.906Z"
   },
   {
    "duration": 0,
    "start_time": "2023-02-17T09:58:30.908Z"
   },
   {
    "duration": 0,
    "start_time": "2023-02-17T09:58:30.910Z"
   },
   {
    "duration": 69,
    "start_time": "2023-02-17T09:58:48.416Z"
   },
   {
    "duration": 19,
    "start_time": "2023-02-17T09:58:50.780Z"
   },
   {
    "duration": 20,
    "start_time": "2023-02-17T09:58:56.798Z"
   },
   {
    "duration": 17,
    "start_time": "2023-02-17T09:58:59.776Z"
   },
   {
    "duration": 26,
    "start_time": "2023-02-17T09:59:01.412Z"
   },
   {
    "duration": 29,
    "start_time": "2023-02-17T09:59:03.924Z"
   },
   {
    "duration": 17,
    "start_time": "2023-02-17T09:59:05.913Z"
   },
   {
    "duration": 22,
    "start_time": "2023-02-17T09:59:43.740Z"
   },
   {
    "duration": 18,
    "start_time": "2023-02-17T10:00:05.737Z"
   },
   {
    "duration": 18,
    "start_time": "2023-02-17T10:02:07.417Z"
   },
   {
    "duration": 23,
    "start_time": "2023-02-17T10:02:38.367Z"
   },
   {
    "duration": 1210,
    "start_time": "2023-02-17T10:02:58.729Z"
   },
   {
    "duration": 14,
    "start_time": "2023-02-17T10:02:59.941Z"
   },
   {
    "duration": 16,
    "start_time": "2023-02-17T10:02:59.956Z"
   },
   {
    "duration": 24,
    "start_time": "2023-02-17T10:02:59.978Z"
   },
   {
    "duration": 28,
    "start_time": "2023-02-17T10:03:00.004Z"
   },
   {
    "duration": 43,
    "start_time": "2023-02-17T10:03:00.033Z"
   },
   {
    "duration": 12,
    "start_time": "2023-02-17T10:03:00.081Z"
   },
   {
    "duration": 17,
    "start_time": "2023-02-17T10:03:00.095Z"
   },
   {
    "duration": 34,
    "start_time": "2023-02-17T10:03:00.113Z"
   },
   {
    "duration": 54,
    "start_time": "2023-02-17T10:03:00.150Z"
   },
   {
    "duration": 36,
    "start_time": "2023-02-17T10:03:00.206Z"
   },
   {
    "duration": 67,
    "start_time": "2023-02-17T10:03:00.244Z"
   },
   {
    "duration": 17,
    "start_time": "2023-02-17T10:03:00.313Z"
   },
   {
    "duration": 33,
    "start_time": "2023-02-17T10:03:00.331Z"
   },
   {
    "duration": 41,
    "start_time": "2023-02-17T10:03:00.365Z"
   },
   {
    "duration": 45,
    "start_time": "2023-02-17T10:03:00.408Z"
   },
   {
    "duration": 133,
    "start_time": "2023-02-17T10:03:00.455Z"
   },
   {
    "duration": 0,
    "start_time": "2023-02-17T10:03:00.591Z"
   },
   {
    "duration": 0,
    "start_time": "2023-02-17T10:03:00.592Z"
   },
   {
    "duration": 0,
    "start_time": "2023-02-17T10:03:00.593Z"
   },
   {
    "duration": 0,
    "start_time": "2023-02-17T10:03:00.594Z"
   },
   {
    "duration": 0,
    "start_time": "2023-02-17T10:03:00.596Z"
   },
   {
    "duration": 0,
    "start_time": "2023-02-17T10:03:00.597Z"
   },
   {
    "duration": 0,
    "start_time": "2023-02-17T10:03:00.598Z"
   },
   {
    "duration": 0,
    "start_time": "2023-02-17T10:03:00.599Z"
   },
   {
    "duration": 0,
    "start_time": "2023-02-17T10:03:00.600Z"
   },
   {
    "duration": 0,
    "start_time": "2023-02-17T10:03:00.601Z"
   },
   {
    "duration": 0,
    "start_time": "2023-02-17T10:03:00.603Z"
   },
   {
    "duration": 0,
    "start_time": "2023-02-17T10:03:00.604Z"
   },
   {
    "duration": 0,
    "start_time": "2023-02-17T10:03:00.605Z"
   },
   {
    "duration": 1,
    "start_time": "2023-02-17T10:03:00.606Z"
   },
   {
    "duration": 0,
    "start_time": "2023-02-17T10:03:00.608Z"
   },
   {
    "duration": 0,
    "start_time": "2023-02-17T10:03:00.608Z"
   },
   {
    "duration": 0,
    "start_time": "2023-02-17T10:03:00.609Z"
   },
   {
    "duration": 0,
    "start_time": "2023-02-17T10:03:00.610Z"
   },
   {
    "duration": 0,
    "start_time": "2023-02-17T10:03:00.611Z"
   },
   {
    "duration": 0,
    "start_time": "2023-02-17T10:03:00.613Z"
   },
   {
    "duration": 0,
    "start_time": "2023-02-17T10:03:00.614Z"
   },
   {
    "duration": 0,
    "start_time": "2023-02-17T10:03:00.615Z"
   },
   {
    "duration": 0,
    "start_time": "2023-02-17T10:03:00.616Z"
   },
   {
    "duration": 0,
    "start_time": "2023-02-17T10:03:00.617Z"
   },
   {
    "duration": 0,
    "start_time": "2023-02-17T10:03:00.618Z"
   },
   {
    "duration": 0,
    "start_time": "2023-02-17T10:03:00.619Z"
   },
   {
    "duration": 0,
    "start_time": "2023-02-17T10:03:00.671Z"
   },
   {
    "duration": 0,
    "start_time": "2023-02-17T10:03:00.672Z"
   },
   {
    "duration": 0,
    "start_time": "2023-02-17T10:03:00.672Z"
   },
   {
    "duration": 24,
    "start_time": "2023-02-17T10:03:15.280Z"
   },
   {
    "duration": 31,
    "start_time": "2023-02-17T10:03:26.823Z"
   },
   {
    "duration": 68,
    "start_time": "2023-02-17T10:03:42.194Z"
   },
   {
    "duration": 18,
    "start_time": "2023-02-17T10:03:45.448Z"
   },
   {
    "duration": 17,
    "start_time": "2023-02-17T10:03:51.636Z"
   },
   {
    "duration": 16,
    "start_time": "2023-02-17T10:03:56.403Z"
   },
   {
    "duration": 31,
    "start_time": "2023-02-17T10:03:59.440Z"
   },
   {
    "duration": 30,
    "start_time": "2023-02-17T10:04:18.681Z"
   },
   {
    "duration": 24,
    "start_time": "2023-02-17T10:05:22.300Z"
   },
   {
    "duration": 12,
    "start_time": "2023-02-17T10:05:37.128Z"
   },
   {
    "duration": 10,
    "start_time": "2023-02-17T10:08:09.383Z"
   },
   {
    "duration": 10,
    "start_time": "2023-02-17T10:08:43.910Z"
   },
   {
    "duration": 1286,
    "start_time": "2023-02-17T10:09:45.535Z"
   },
   {
    "duration": 15,
    "start_time": "2023-02-17T10:09:46.823Z"
   },
   {
    "duration": 33,
    "start_time": "2023-02-17T10:09:46.841Z"
   },
   {
    "duration": 53,
    "start_time": "2023-02-17T10:09:46.877Z"
   },
   {
    "duration": 43,
    "start_time": "2023-02-17T10:09:46.932Z"
   },
   {
    "duration": 35,
    "start_time": "2023-02-17T10:09:46.982Z"
   },
   {
    "duration": 14,
    "start_time": "2023-02-17T10:09:47.019Z"
   },
   {
    "duration": 30,
    "start_time": "2023-02-17T10:09:47.035Z"
   },
   {
    "duration": 31,
    "start_time": "2023-02-17T10:09:47.067Z"
   },
   {
    "duration": 21,
    "start_time": "2023-02-17T10:09:47.102Z"
   },
   {
    "duration": 12,
    "start_time": "2023-02-17T10:09:47.125Z"
   },
   {
    "duration": 52,
    "start_time": "2023-02-17T10:09:47.140Z"
   },
   {
    "duration": 16,
    "start_time": "2023-02-17T10:09:47.195Z"
   },
   {
    "duration": 7,
    "start_time": "2023-02-17T10:09:47.212Z"
   },
   {
    "duration": 22,
    "start_time": "2023-02-17T10:09:47.222Z"
   },
   {
    "duration": 32,
    "start_time": "2023-02-17T10:09:47.246Z"
   },
   {
    "duration": 111,
    "start_time": "2023-02-17T10:09:47.280Z"
   },
   {
    "duration": 0,
    "start_time": "2023-02-17T10:09:47.393Z"
   },
   {
    "duration": 0,
    "start_time": "2023-02-17T10:09:47.394Z"
   },
   {
    "duration": 0,
    "start_time": "2023-02-17T10:09:47.395Z"
   },
   {
    "duration": 0,
    "start_time": "2023-02-17T10:09:47.396Z"
   },
   {
    "duration": 0,
    "start_time": "2023-02-17T10:09:47.397Z"
   },
   {
    "duration": 0,
    "start_time": "2023-02-17T10:09:47.398Z"
   },
   {
    "duration": 0,
    "start_time": "2023-02-17T10:09:47.399Z"
   },
   {
    "duration": 0,
    "start_time": "2023-02-17T10:09:47.400Z"
   },
   {
    "duration": 0,
    "start_time": "2023-02-17T10:09:47.401Z"
   },
   {
    "duration": 0,
    "start_time": "2023-02-17T10:09:47.402Z"
   },
   {
    "duration": 0,
    "start_time": "2023-02-17T10:09:47.403Z"
   },
   {
    "duration": 0,
    "start_time": "2023-02-17T10:09:47.405Z"
   },
   {
    "duration": 0,
    "start_time": "2023-02-17T10:09:47.405Z"
   },
   {
    "duration": 0,
    "start_time": "2023-02-17T10:09:47.406Z"
   },
   {
    "duration": 0,
    "start_time": "2023-02-17T10:09:47.407Z"
   },
   {
    "duration": 0,
    "start_time": "2023-02-17T10:09:47.408Z"
   },
   {
    "duration": 0,
    "start_time": "2023-02-17T10:09:47.410Z"
   },
   {
    "duration": 0,
    "start_time": "2023-02-17T10:09:47.411Z"
   },
   {
    "duration": 0,
    "start_time": "2023-02-17T10:09:47.412Z"
   },
   {
    "duration": 0,
    "start_time": "2023-02-17T10:09:47.413Z"
   },
   {
    "duration": 0,
    "start_time": "2023-02-17T10:09:47.413Z"
   },
   {
    "duration": 0,
    "start_time": "2023-02-17T10:09:47.414Z"
   },
   {
    "duration": 0,
    "start_time": "2023-02-17T10:09:47.415Z"
   },
   {
    "duration": 0,
    "start_time": "2023-02-17T10:09:47.416Z"
   },
   {
    "duration": 0,
    "start_time": "2023-02-17T10:09:47.417Z"
   },
   {
    "duration": 0,
    "start_time": "2023-02-17T10:09:47.417Z"
   },
   {
    "duration": 0,
    "start_time": "2023-02-17T10:09:47.418Z"
   },
   {
    "duration": 0,
    "start_time": "2023-02-17T10:09:47.420Z"
   },
   {
    "duration": 0,
    "start_time": "2023-02-17T10:09:47.420Z"
   },
   {
    "duration": 1165,
    "start_time": "2023-02-17T10:10:05.152Z"
   },
   {
    "duration": 9,
    "start_time": "2023-02-17T10:10:24.880Z"
   },
   {
    "duration": 22,
    "start_time": "2023-02-17T10:10:38.693Z"
   },
   {
    "duration": 17,
    "start_time": "2023-02-17T10:10:54.320Z"
   },
   {
    "duration": 1237,
    "start_time": "2023-02-17T10:11:12.197Z"
   },
   {
    "duration": 20,
    "start_time": "2023-02-17T10:11:13.436Z"
   },
   {
    "duration": 57,
    "start_time": "2023-02-17T10:11:13.458Z"
   },
   {
    "duration": 26,
    "start_time": "2023-02-17T10:11:13.517Z"
   },
   {
    "duration": 54,
    "start_time": "2023-02-17T10:11:13.545Z"
   },
   {
    "duration": 25,
    "start_time": "2023-02-17T10:11:13.600Z"
   },
   {
    "duration": 23,
    "start_time": "2023-02-17T10:11:13.627Z"
   },
   {
    "duration": 49,
    "start_time": "2023-02-17T10:11:13.652Z"
   },
   {
    "duration": 20,
    "start_time": "2023-02-17T10:11:13.703Z"
   },
   {
    "duration": 33,
    "start_time": "2023-02-17T10:11:13.726Z"
   },
   {
    "duration": 54,
    "start_time": "2023-02-17T10:11:13.761Z"
   },
   {
    "duration": 32,
    "start_time": "2023-02-17T10:11:13.817Z"
   },
   {
    "duration": 8,
    "start_time": "2023-02-17T10:11:13.850Z"
   },
   {
    "duration": 50,
    "start_time": "2023-02-17T10:11:13.859Z"
   },
   {
    "duration": 38,
    "start_time": "2023-02-17T10:11:13.910Z"
   },
   {
    "duration": 54,
    "start_time": "2023-02-17T10:11:13.950Z"
   },
   {
    "duration": 106,
    "start_time": "2023-02-17T10:11:14.006Z"
   },
   {
    "duration": 0,
    "start_time": "2023-02-17T10:11:14.114Z"
   },
   {
    "duration": 1,
    "start_time": "2023-02-17T10:11:14.115Z"
   },
   {
    "duration": 0,
    "start_time": "2023-02-17T10:11:14.117Z"
   },
   {
    "duration": 0,
    "start_time": "2023-02-17T10:11:14.118Z"
   },
   {
    "duration": 0,
    "start_time": "2023-02-17T10:11:14.120Z"
   },
   {
    "duration": 0,
    "start_time": "2023-02-17T10:11:14.121Z"
   },
   {
    "duration": 0,
    "start_time": "2023-02-17T10:11:14.122Z"
   },
   {
    "duration": 0,
    "start_time": "2023-02-17T10:11:14.124Z"
   },
   {
    "duration": 0,
    "start_time": "2023-02-17T10:11:14.125Z"
   },
   {
    "duration": 0,
    "start_time": "2023-02-17T10:11:14.126Z"
   },
   {
    "duration": 0,
    "start_time": "2023-02-17T10:11:14.128Z"
   },
   {
    "duration": 0,
    "start_time": "2023-02-17T10:11:14.129Z"
   },
   {
    "duration": 0,
    "start_time": "2023-02-17T10:11:14.131Z"
   },
   {
    "duration": 0,
    "start_time": "2023-02-17T10:11:14.132Z"
   },
   {
    "duration": 0,
    "start_time": "2023-02-17T10:11:14.134Z"
   },
   {
    "duration": 0,
    "start_time": "2023-02-17T10:11:14.135Z"
   },
   {
    "duration": 0,
    "start_time": "2023-02-17T10:11:14.135Z"
   },
   {
    "duration": 0,
    "start_time": "2023-02-17T10:11:14.173Z"
   },
   {
    "duration": 0,
    "start_time": "2023-02-17T10:11:14.174Z"
   },
   {
    "duration": 0,
    "start_time": "2023-02-17T10:11:14.175Z"
   },
   {
    "duration": 0,
    "start_time": "2023-02-17T10:11:14.176Z"
   },
   {
    "duration": 0,
    "start_time": "2023-02-17T10:11:14.177Z"
   },
   {
    "duration": 0,
    "start_time": "2023-02-17T10:11:14.178Z"
   },
   {
    "duration": 0,
    "start_time": "2023-02-17T10:11:14.183Z"
   },
   {
    "duration": 0,
    "start_time": "2023-02-17T10:11:14.184Z"
   },
   {
    "duration": 0,
    "start_time": "2023-02-17T10:11:14.185Z"
   },
   {
    "duration": 0,
    "start_time": "2023-02-17T10:11:14.185Z"
   },
   {
    "duration": 0,
    "start_time": "2023-02-17T10:11:14.192Z"
   },
   {
    "duration": 0,
    "start_time": "2023-02-17T10:11:14.193Z"
   },
   {
    "duration": 1230,
    "start_time": "2023-02-17T10:12:08.516Z"
   },
   {
    "duration": 12,
    "start_time": "2023-02-17T10:12:09.748Z"
   },
   {
    "duration": 30,
    "start_time": "2023-02-17T10:12:09.762Z"
   },
   {
    "duration": 35,
    "start_time": "2023-02-17T10:12:09.794Z"
   },
   {
    "duration": 52,
    "start_time": "2023-02-17T10:12:09.831Z"
   },
   {
    "duration": 47,
    "start_time": "2023-02-17T10:12:09.887Z"
   },
   {
    "duration": 26,
    "start_time": "2023-02-17T10:12:09.935Z"
   },
   {
    "duration": 19,
    "start_time": "2023-02-17T10:12:09.963Z"
   },
   {
    "duration": 32,
    "start_time": "2023-02-17T10:12:09.983Z"
   },
   {
    "duration": 29,
    "start_time": "2023-02-17T10:12:10.017Z"
   },
   {
    "duration": 29,
    "start_time": "2023-02-17T10:12:10.047Z"
   },
   {
    "duration": 41,
    "start_time": "2023-02-17T10:12:10.079Z"
   },
   {
    "duration": 9,
    "start_time": "2023-02-17T10:12:10.121Z"
   },
   {
    "duration": 69,
    "start_time": "2023-02-17T10:12:10.132Z"
   },
   {
    "duration": 13,
    "start_time": "2023-02-17T10:12:10.202Z"
   },
   {
    "duration": 29,
    "start_time": "2023-02-17T10:12:10.216Z"
   },
   {
    "duration": 103,
    "start_time": "2023-02-17T10:12:10.247Z"
   },
   {
    "duration": 0,
    "start_time": "2023-02-17T10:12:10.352Z"
   },
   {
    "duration": 0,
    "start_time": "2023-02-17T10:12:10.353Z"
   },
   {
    "duration": 0,
    "start_time": "2023-02-17T10:12:10.355Z"
   },
   {
    "duration": 0,
    "start_time": "2023-02-17T10:12:10.356Z"
   },
   {
    "duration": 0,
    "start_time": "2023-02-17T10:12:10.357Z"
   },
   {
    "duration": 1,
    "start_time": "2023-02-17T10:12:10.358Z"
   },
   {
    "duration": 0,
    "start_time": "2023-02-17T10:12:10.367Z"
   },
   {
    "duration": 0,
    "start_time": "2023-02-17T10:12:10.367Z"
   },
   {
    "duration": 0,
    "start_time": "2023-02-17T10:12:10.368Z"
   },
   {
    "duration": 0,
    "start_time": "2023-02-17T10:12:10.369Z"
   },
   {
    "duration": 0,
    "start_time": "2023-02-17T10:12:10.370Z"
   },
   {
    "duration": 0,
    "start_time": "2023-02-17T10:12:10.371Z"
   },
   {
    "duration": 0,
    "start_time": "2023-02-17T10:12:10.372Z"
   },
   {
    "duration": 0,
    "start_time": "2023-02-17T10:12:10.373Z"
   },
   {
    "duration": 0,
    "start_time": "2023-02-17T10:12:10.374Z"
   },
   {
    "duration": 0,
    "start_time": "2023-02-17T10:12:10.375Z"
   },
   {
    "duration": 0,
    "start_time": "2023-02-17T10:12:10.379Z"
   },
   {
    "duration": 0,
    "start_time": "2023-02-17T10:12:10.381Z"
   },
   {
    "duration": 0,
    "start_time": "2023-02-17T10:12:10.382Z"
   },
   {
    "duration": 0,
    "start_time": "2023-02-17T10:12:10.384Z"
   },
   {
    "duration": 0,
    "start_time": "2023-02-17T10:12:10.385Z"
   },
   {
    "duration": 0,
    "start_time": "2023-02-17T10:12:10.386Z"
   },
   {
    "duration": 0,
    "start_time": "2023-02-17T10:12:10.388Z"
   },
   {
    "duration": 0,
    "start_time": "2023-02-17T10:12:10.389Z"
   },
   {
    "duration": 0,
    "start_time": "2023-02-17T10:12:10.391Z"
   },
   {
    "duration": 0,
    "start_time": "2023-02-17T10:12:10.392Z"
   },
   {
    "duration": 0,
    "start_time": "2023-02-17T10:12:10.394Z"
   },
   {
    "duration": 0,
    "start_time": "2023-02-17T10:12:10.395Z"
   },
   {
    "duration": 0,
    "start_time": "2023-02-17T10:12:10.397Z"
   },
   {
    "duration": 1627,
    "start_time": "2023-02-17T10:13:00.015Z"
   },
   {
    "duration": 13,
    "start_time": "2023-02-17T10:13:16.489Z"
   },
   {
    "duration": 13,
    "start_time": "2023-02-17T10:13:25.173Z"
   },
   {
    "duration": 1212,
    "start_time": "2023-02-17T10:14:23.686Z"
   },
   {
    "duration": 17,
    "start_time": "2023-02-17T10:14:24.900Z"
   },
   {
    "duration": 24,
    "start_time": "2023-02-17T10:14:24.919Z"
   },
   {
    "duration": 40,
    "start_time": "2023-02-17T10:14:24.946Z"
   },
   {
    "duration": 41,
    "start_time": "2023-02-17T10:14:24.988Z"
   },
   {
    "duration": 51,
    "start_time": "2023-02-17T10:14:25.031Z"
   },
   {
    "duration": 12,
    "start_time": "2023-02-17T10:14:25.083Z"
   },
   {
    "duration": 43,
    "start_time": "2023-02-17T10:14:25.098Z"
   },
   {
    "duration": 11,
    "start_time": "2023-02-17T10:14:25.142Z"
   },
   {
    "duration": 9,
    "start_time": "2023-02-17T10:14:25.156Z"
   },
   {
    "duration": 43,
    "start_time": "2023-02-17T10:14:25.167Z"
   },
   {
    "duration": 39,
    "start_time": "2023-02-17T10:14:25.212Z"
   },
   {
    "duration": 44,
    "start_time": "2023-02-17T10:14:25.253Z"
   },
   {
    "duration": 23,
    "start_time": "2023-02-17T10:14:25.299Z"
   },
   {
    "duration": 9,
    "start_time": "2023-02-17T10:14:25.324Z"
   },
   {
    "duration": 12,
    "start_time": "2023-02-17T10:14:25.334Z"
   },
   {
    "duration": 27,
    "start_time": "2023-02-17T10:14:25.347Z"
   },
   {
    "duration": 104,
    "start_time": "2023-02-17T10:14:25.376Z"
   },
   {
    "duration": 0,
    "start_time": "2023-02-17T10:14:25.483Z"
   },
   {
    "duration": 0,
    "start_time": "2023-02-17T10:14:25.484Z"
   },
   {
    "duration": 0,
    "start_time": "2023-02-17T10:14:25.486Z"
   },
   {
    "duration": 0,
    "start_time": "2023-02-17T10:14:25.486Z"
   },
   {
    "duration": 0,
    "start_time": "2023-02-17T10:14:25.488Z"
   },
   {
    "duration": 0,
    "start_time": "2023-02-17T10:14:25.489Z"
   },
   {
    "duration": 0,
    "start_time": "2023-02-17T10:14:25.490Z"
   },
   {
    "duration": 0,
    "start_time": "2023-02-17T10:14:25.491Z"
   },
   {
    "duration": 0,
    "start_time": "2023-02-17T10:14:25.492Z"
   },
   {
    "duration": 0,
    "start_time": "2023-02-17T10:14:25.493Z"
   },
   {
    "duration": 0,
    "start_time": "2023-02-17T10:14:25.494Z"
   },
   {
    "duration": 0,
    "start_time": "2023-02-17T10:14:25.495Z"
   },
   {
    "duration": 0,
    "start_time": "2023-02-17T10:14:25.496Z"
   },
   {
    "duration": 0,
    "start_time": "2023-02-17T10:14:25.496Z"
   },
   {
    "duration": 0,
    "start_time": "2023-02-17T10:14:25.497Z"
   },
   {
    "duration": 0,
    "start_time": "2023-02-17T10:14:25.498Z"
   },
   {
    "duration": 0,
    "start_time": "2023-02-17T10:14:25.499Z"
   },
   {
    "duration": 0,
    "start_time": "2023-02-17T10:14:25.500Z"
   },
   {
    "duration": 0,
    "start_time": "2023-02-17T10:14:25.501Z"
   },
   {
    "duration": 0,
    "start_time": "2023-02-17T10:14:25.502Z"
   },
   {
    "duration": 0,
    "start_time": "2023-02-17T10:14:25.504Z"
   },
   {
    "duration": 0,
    "start_time": "2023-02-17T10:14:25.504Z"
   },
   {
    "duration": 0,
    "start_time": "2023-02-17T10:14:25.506Z"
   },
   {
    "duration": 0,
    "start_time": "2023-02-17T10:14:25.507Z"
   },
   {
    "duration": 0,
    "start_time": "2023-02-17T10:14:25.509Z"
   },
   {
    "duration": 0,
    "start_time": "2023-02-17T10:14:25.509Z"
   },
   {
    "duration": 0,
    "start_time": "2023-02-17T10:14:25.510Z"
   },
   {
    "duration": 0,
    "start_time": "2023-02-17T10:14:25.512Z"
   },
   {
    "duration": 0,
    "start_time": "2023-02-17T10:14:25.513Z"
   },
   {
    "duration": 9,
    "start_time": "2023-02-17T10:15:11.644Z"
   },
   {
    "duration": 1155,
    "start_time": "2023-02-17T10:15:21.029Z"
   },
   {
    "duration": 14,
    "start_time": "2023-02-17T10:15:22.186Z"
   },
   {
    "duration": 14,
    "start_time": "2023-02-17T10:15:22.201Z"
   },
   {
    "duration": 16,
    "start_time": "2023-02-17T10:15:22.217Z"
   },
   {
    "duration": 50,
    "start_time": "2023-02-17T10:15:22.235Z"
   },
   {
    "duration": 28,
    "start_time": "2023-02-17T10:15:22.287Z"
   },
   {
    "duration": 7,
    "start_time": "2023-02-17T10:15:22.317Z"
   },
   {
    "duration": 11,
    "start_time": "2023-02-17T10:15:22.325Z"
   },
   {
    "duration": 12,
    "start_time": "2023-02-17T10:15:22.337Z"
   },
   {
    "duration": 15,
    "start_time": "2023-02-17T10:15:22.370Z"
   },
   {
    "duration": 11,
    "start_time": "2023-02-17T10:15:22.387Z"
   },
   {
    "duration": 18,
    "start_time": "2023-02-17T10:15:22.400Z"
   },
   {
    "duration": 7,
    "start_time": "2023-02-17T10:15:22.419Z"
   },
   {
    "duration": 4,
    "start_time": "2023-02-17T10:15:22.428Z"
   },
   {
    "duration": 8,
    "start_time": "2023-02-17T10:15:22.433Z"
   },
   {
    "duration": 20,
    "start_time": "2023-02-17T10:15:22.480Z"
   },
   {
    "duration": 102,
    "start_time": "2023-02-17T10:15:22.501Z"
   },
   {
    "duration": 0,
    "start_time": "2023-02-17T10:15:22.605Z"
   },
   {
    "duration": 0,
    "start_time": "2023-02-17T10:15:22.606Z"
   },
   {
    "duration": 0,
    "start_time": "2023-02-17T10:15:22.607Z"
   },
   {
    "duration": 0,
    "start_time": "2023-02-17T10:15:22.609Z"
   },
   {
    "duration": 0,
    "start_time": "2023-02-17T10:15:22.609Z"
   },
   {
    "duration": 0,
    "start_time": "2023-02-17T10:15:22.611Z"
   },
   {
    "duration": 0,
    "start_time": "2023-02-17T10:15:22.612Z"
   },
   {
    "duration": 0,
    "start_time": "2023-02-17T10:15:22.613Z"
   },
   {
    "duration": 0,
    "start_time": "2023-02-17T10:15:22.614Z"
   },
   {
    "duration": 0,
    "start_time": "2023-02-17T10:15:22.615Z"
   },
   {
    "duration": 0,
    "start_time": "2023-02-17T10:15:22.617Z"
   },
   {
    "duration": 0,
    "start_time": "2023-02-17T10:15:22.618Z"
   },
   {
    "duration": 0,
    "start_time": "2023-02-17T10:15:22.619Z"
   },
   {
    "duration": 0,
    "start_time": "2023-02-17T10:15:22.620Z"
   },
   {
    "duration": 0,
    "start_time": "2023-02-17T10:15:22.622Z"
   },
   {
    "duration": 0,
    "start_time": "2023-02-17T10:15:22.623Z"
   },
   {
    "duration": 0,
    "start_time": "2023-02-17T10:15:22.625Z"
   },
   {
    "duration": 0,
    "start_time": "2023-02-17T10:15:22.626Z"
   },
   {
    "duration": 0,
    "start_time": "2023-02-17T10:15:22.627Z"
   },
   {
    "duration": 0,
    "start_time": "2023-02-17T10:15:22.629Z"
   },
   {
    "duration": 0,
    "start_time": "2023-02-17T10:15:22.630Z"
   },
   {
    "duration": 0,
    "start_time": "2023-02-17T10:15:22.631Z"
   },
   {
    "duration": 0,
    "start_time": "2023-02-17T10:15:22.671Z"
   },
   {
    "duration": 0,
    "start_time": "2023-02-17T10:15:22.672Z"
   },
   {
    "duration": 0,
    "start_time": "2023-02-17T10:15:22.672Z"
   },
   {
    "duration": 0,
    "start_time": "2023-02-17T10:15:22.673Z"
   },
   {
    "duration": 0,
    "start_time": "2023-02-17T10:15:22.674Z"
   },
   {
    "duration": 0,
    "start_time": "2023-02-17T10:15:22.674Z"
   },
   {
    "duration": 0,
    "start_time": "2023-02-17T10:15:22.675Z"
   },
   {
    "duration": 8,
    "start_time": "2023-02-17T10:20:42.808Z"
   },
   {
    "duration": 23,
    "start_time": "2023-02-17T10:24:29.321Z"
   },
   {
    "duration": 394,
    "start_time": "2023-02-17T10:25:25.010Z"
   },
   {
    "duration": 333,
    "start_time": "2023-02-17T10:28:49.782Z"
   },
   {
    "duration": 34,
    "start_time": "2023-02-17T10:30:08.196Z"
   },
   {
    "duration": 3,
    "start_time": "2023-02-17T10:35:02.682Z"
   },
   {
    "duration": 6,
    "start_time": "2023-02-17T10:35:44.803Z"
   },
   {
    "duration": 12,
    "start_time": "2023-02-17T10:35:48.197Z"
   },
   {
    "duration": 5,
    "start_time": "2023-02-17T10:35:52.204Z"
   },
   {
    "duration": 18,
    "start_time": "2023-02-17T10:36:09.912Z"
   },
   {
    "duration": 336,
    "start_time": "2023-02-17T10:39:10.322Z"
   },
   {
    "duration": 311,
    "start_time": "2023-02-17T10:39:57.535Z"
   },
   {
    "duration": 374,
    "start_time": "2023-02-17T10:40:02.245Z"
   },
   {
    "duration": 17,
    "start_time": "2023-02-17T10:42:41.439Z"
   },
   {
    "duration": 442,
    "start_time": "2023-02-17T10:42:53.000Z"
   },
   {
    "duration": 348,
    "start_time": "2023-02-17T10:43:48.861Z"
   },
   {
    "duration": 10,
    "start_time": "2023-02-17T10:47:12.035Z"
   },
   {
    "duration": 30,
    "start_time": "2023-02-17T10:48:03.738Z"
   },
   {
    "duration": 23,
    "start_time": "2023-02-17T10:49:23.432Z"
   },
   {
    "duration": 4,
    "start_time": "2023-02-17T10:51:27.330Z"
   },
   {
    "duration": 31,
    "start_time": "2023-02-17T10:51:55.662Z"
   },
   {
    "duration": 15,
    "start_time": "2023-02-17T10:52:57.293Z"
   },
   {
    "duration": 17,
    "start_time": "2023-02-17T10:53:16.587Z"
   },
   {
    "duration": 7,
    "start_time": "2023-02-17T10:54:49.166Z"
   },
   {
    "duration": 21,
    "start_time": "2023-02-17T10:54:53.905Z"
   },
   {
    "duration": 706,
    "start_time": "2023-02-17T10:55:13.610Z"
   },
   {
    "duration": 715,
    "start_time": "2023-02-17T10:55:30.027Z"
   },
   {
    "duration": 17,
    "start_time": "2023-02-17T10:57:17.409Z"
   },
   {
    "duration": 777,
    "start_time": "2023-02-17T10:58:40.341Z"
   },
   {
    "duration": 22,
    "start_time": "2023-02-17T10:59:47.664Z"
   },
   {
    "duration": 497,
    "start_time": "2023-02-17T10:59:59.634Z"
   },
   {
    "duration": 403,
    "start_time": "2023-02-17T11:00:28.350Z"
   },
   {
    "duration": 5,
    "start_time": "2023-02-17T11:08:53.797Z"
   },
   {
    "duration": 312,
    "start_time": "2023-02-17T11:09:20.375Z"
   },
   {
    "duration": 311,
    "start_time": "2023-02-17T11:10:56.860Z"
   },
   {
    "duration": 246,
    "start_time": "2023-02-17T11:11:15.703Z"
   },
   {
    "duration": 408,
    "start_time": "2023-02-17T11:11:19.761Z"
   },
   {
    "duration": 295,
    "start_time": "2023-02-17T11:12:47.621Z"
   },
   {
    "duration": 261,
    "start_time": "2023-02-17T11:12:56.193Z"
   },
   {
    "duration": 81,
    "start_time": "2023-02-17T11:14:31.428Z"
   },
   {
    "duration": 320,
    "start_time": "2023-02-17T11:14:37.679Z"
   },
   {
    "duration": 289,
    "start_time": "2023-02-17T11:15:18.859Z"
   },
   {
    "duration": 287,
    "start_time": "2023-02-17T11:15:37.051Z"
   },
   {
    "duration": 324,
    "start_time": "2023-02-17T11:15:41.132Z"
   },
   {
    "duration": 490,
    "start_time": "2023-02-17T11:17:44.903Z"
   },
   {
    "duration": 354,
    "start_time": "2023-02-17T11:17:58.628Z"
   },
   {
    "duration": 501,
    "start_time": "2023-02-17T11:19:17.522Z"
   },
   {
    "duration": 257,
    "start_time": "2023-02-17T11:20:48.393Z"
   },
   {
    "duration": 267,
    "start_time": "2023-02-17T11:22:08.519Z"
   },
   {
    "duration": 252,
    "start_time": "2023-02-17T11:22:28.007Z"
   },
   {
    "duration": 295,
    "start_time": "2023-02-17T11:23:11.653Z"
   },
   {
    "duration": 341,
    "start_time": "2023-02-17T11:23:57.533Z"
   },
   {
    "duration": 328,
    "start_time": "2023-02-17T11:24:07.313Z"
   },
   {
    "duration": 282,
    "start_time": "2023-02-17T11:24:33.648Z"
   },
   {
    "duration": 266,
    "start_time": "2023-02-17T11:25:02.891Z"
   },
   {
    "duration": 9,
    "start_time": "2023-02-17T11:25:42.577Z"
   },
   {
    "duration": 6,
    "start_time": "2023-02-17T11:25:47.993Z"
   },
   {
    "duration": 10,
    "start_time": "2023-02-17T11:26:01.481Z"
   },
   {
    "duration": 5,
    "start_time": "2023-02-17T11:26:04.394Z"
   },
   {
    "duration": 5,
    "start_time": "2023-02-17T11:26:09.024Z"
   },
   {
    "duration": 10,
    "start_time": "2023-02-17T11:26:18.926Z"
   },
   {
    "duration": 5,
    "start_time": "2023-02-17T11:26:30.616Z"
   },
   {
    "duration": 5,
    "start_time": "2023-02-17T11:26:33.418Z"
   },
   {
    "duration": 66,
    "start_time": "2023-02-17T14:58:38.291Z"
   },
   {
    "duration": 1420,
    "start_time": "2023-02-17T15:04:03.830Z"
   },
   {
    "duration": 1248,
    "start_time": "2023-02-17T15:04:19.667Z"
   },
   {
    "duration": 13,
    "start_time": "2023-02-17T15:04:20.917Z"
   },
   {
    "duration": 13,
    "start_time": "2023-02-17T15:04:20.931Z"
   },
   {
    "duration": 25,
    "start_time": "2023-02-17T15:04:20.947Z"
   },
   {
    "duration": 31,
    "start_time": "2023-02-17T15:04:20.973Z"
   },
   {
    "duration": 27,
    "start_time": "2023-02-17T15:04:21.006Z"
   },
   {
    "duration": 6,
    "start_time": "2023-02-17T15:04:21.034Z"
   },
   {
    "duration": 41,
    "start_time": "2023-02-17T15:04:21.041Z"
   },
   {
    "duration": 4,
    "start_time": "2023-02-17T15:04:21.084Z"
   },
   {
    "duration": 24,
    "start_time": "2023-02-17T15:04:21.092Z"
   },
   {
    "duration": 20,
    "start_time": "2023-02-17T15:04:21.117Z"
   },
   {
    "duration": 7,
    "start_time": "2023-02-17T15:04:21.139Z"
   },
   {
    "duration": 6,
    "start_time": "2023-02-17T15:04:21.147Z"
   },
   {
    "duration": 20,
    "start_time": "2023-02-17T15:04:21.154Z"
   },
   {
    "duration": 29,
    "start_time": "2023-02-17T15:04:21.175Z"
   },
   {
    "duration": 367,
    "start_time": "2023-02-17T15:04:21.206Z"
   },
   {
    "duration": 37,
    "start_time": "2023-02-17T15:04:21.574Z"
   },
   {
    "duration": 3,
    "start_time": "2023-02-17T15:04:21.613Z"
   },
   {
    "duration": 10,
    "start_time": "2023-02-17T15:04:21.618Z"
   },
   {
    "duration": 4,
    "start_time": "2023-02-17T15:04:21.630Z"
   },
   {
    "duration": 41,
    "start_time": "2023-02-17T15:04:21.635Z"
   },
   {
    "duration": 331,
    "start_time": "2023-02-17T15:04:21.679Z"
   },
   {
    "duration": 357,
    "start_time": "2023-02-17T15:04:22.012Z"
   },
   {
    "duration": 32,
    "start_time": "2023-02-17T15:04:22.370Z"
   },
   {
    "duration": 15,
    "start_time": "2023-02-17T15:04:22.404Z"
   },
   {
    "duration": 21,
    "start_time": "2023-02-17T15:04:22.420Z"
   },
   {
    "duration": 719,
    "start_time": "2023-02-17T15:04:22.443Z"
   },
   {
    "duration": 18,
    "start_time": "2023-02-17T15:04:23.168Z"
   },
   {
    "duration": 474,
    "start_time": "2023-02-17T15:04:23.188Z"
   },
   {
    "duration": 9,
    "start_time": "2023-02-17T15:04:23.667Z"
   },
   {
    "duration": 267,
    "start_time": "2023-02-17T15:04:23.677Z"
   },
   {
    "duration": 276,
    "start_time": "2023-02-17T15:04:23.946Z"
   },
   {
    "duration": 275,
    "start_time": "2023-02-17T15:04:24.225Z"
   },
   {
    "duration": 303,
    "start_time": "2023-02-17T15:04:24.503Z"
   },
   {
    "duration": 433,
    "start_time": "2023-02-17T15:04:24.808Z"
   },
   {
    "duration": 254,
    "start_time": "2023-02-17T15:04:25.243Z"
   },
   {
    "duration": 383,
    "start_time": "2023-02-17T15:04:25.500Z"
   },
   {
    "duration": 214,
    "start_time": "2023-02-17T15:04:25.885Z"
   },
   {
    "duration": 4,
    "start_time": "2023-02-17T15:04:26.101Z"
   },
   {
    "duration": 7,
    "start_time": "2023-02-17T15:04:26.107Z"
   },
   {
    "duration": 16,
    "start_time": "2023-02-17T15:04:26.115Z"
   },
   {
    "duration": 5,
    "start_time": "2023-02-17T15:04:26.133Z"
   },
   {
    "duration": 7,
    "start_time": "2023-02-17T15:04:26.140Z"
   },
   {
    "duration": 42,
    "start_time": "2023-02-17T15:04:26.149Z"
   },
   {
    "duration": 5,
    "start_time": "2023-02-17T15:04:26.193Z"
   },
   {
    "duration": 5,
    "start_time": "2023-02-17T15:04:26.200Z"
   },
   {
    "duration": 7,
    "start_time": "2023-02-17T15:06:00.796Z"
   },
   {
    "duration": 12,
    "start_time": "2023-02-17T15:06:13.024Z"
   },
   {
    "duration": 1410,
    "start_time": "2023-02-17T15:06:29.696Z"
   },
   {
    "duration": 14,
    "start_time": "2023-02-17T15:06:31.108Z"
   },
   {
    "duration": 22,
    "start_time": "2023-02-17T15:06:31.124Z"
   },
   {
    "duration": 77,
    "start_time": "2023-02-17T15:06:31.148Z"
   },
   {
    "duration": 53,
    "start_time": "2023-02-17T15:06:31.226Z"
   },
   {
    "duration": 34,
    "start_time": "2023-02-17T15:06:31.282Z"
   },
   {
    "duration": 6,
    "start_time": "2023-02-17T15:06:31.318Z"
   },
   {
    "duration": 28,
    "start_time": "2023-02-17T15:06:31.326Z"
   },
   {
    "duration": 35,
    "start_time": "2023-02-17T15:06:31.356Z"
   },
   {
    "duration": 41,
    "start_time": "2023-02-17T15:06:31.394Z"
   },
   {
    "duration": 18,
    "start_time": "2023-02-17T15:06:31.437Z"
   },
   {
    "duration": 63,
    "start_time": "2023-02-17T15:06:31.457Z"
   },
   {
    "duration": 16,
    "start_time": "2023-02-17T15:06:31.522Z"
   },
   {
    "duration": 44,
    "start_time": "2023-02-17T15:06:31.540Z"
   },
   {
    "duration": 11,
    "start_time": "2023-02-17T15:06:31.585Z"
   },
   {
    "duration": 40,
    "start_time": "2023-02-17T15:06:31.598Z"
   },
   {
    "duration": 380,
    "start_time": "2023-02-17T15:06:31.639Z"
   },
   {
    "duration": 31,
    "start_time": "2023-02-17T15:06:32.021Z"
   },
   {
    "duration": 27,
    "start_time": "2023-02-17T15:06:32.054Z"
   },
   {
    "duration": 14,
    "start_time": "2023-02-17T15:06:32.084Z"
   },
   {
    "duration": 18,
    "start_time": "2023-02-17T15:06:32.100Z"
   },
   {
    "duration": 31,
    "start_time": "2023-02-17T15:06:32.120Z"
   },
   {
    "duration": 353,
    "start_time": "2023-02-17T15:06:32.152Z"
   },
   {
    "duration": 358,
    "start_time": "2023-02-17T15:06:32.507Z"
   },
   {
    "duration": 37,
    "start_time": "2023-02-17T15:06:32.867Z"
   },
   {
    "duration": 14,
    "start_time": "2023-02-17T15:06:32.907Z"
   },
   {
    "duration": 35,
    "start_time": "2023-02-17T15:06:32.924Z"
   },
   {
    "duration": 1442,
    "start_time": "2023-02-17T15:06:32.963Z"
   },
   {
    "duration": 76,
    "start_time": "2023-02-17T15:06:34.407Z"
   },
   {
    "duration": 1100,
    "start_time": "2023-02-17T15:06:34.486Z"
   },
   {
    "duration": 5,
    "start_time": "2023-02-17T15:06:35.588Z"
   },
   {
    "duration": 329,
    "start_time": "2023-02-17T15:06:35.594Z"
   },
   {
    "duration": 318,
    "start_time": "2023-02-17T15:06:35.925Z"
   },
   {
    "duration": 281,
    "start_time": "2023-02-17T15:06:36.244Z"
   },
   {
    "duration": 363,
    "start_time": "2023-02-17T15:06:36.527Z"
   },
   {
    "duration": 389,
    "start_time": "2023-02-17T15:06:36.893Z"
   },
   {
    "duration": 269,
    "start_time": "2023-02-17T15:06:37.285Z"
   },
   {
    "duration": 435,
    "start_time": "2023-02-17T15:06:37.556Z"
   },
   {
    "duration": 321,
    "start_time": "2023-02-17T15:06:37.993Z"
   },
   {
    "duration": 6,
    "start_time": "2023-02-17T15:06:38.316Z"
   },
   {
    "duration": 34,
    "start_time": "2023-02-17T15:06:38.325Z"
   },
   {
    "duration": 50,
    "start_time": "2023-02-17T15:06:38.361Z"
   },
   {
    "duration": 9,
    "start_time": "2023-02-17T15:06:38.414Z"
   },
   {
    "duration": 19,
    "start_time": "2023-02-17T15:06:38.425Z"
   },
   {
    "duration": 50,
    "start_time": "2023-02-17T15:06:38.446Z"
   },
   {
    "duration": 26,
    "start_time": "2023-02-17T15:06:38.499Z"
   },
   {
    "duration": 16,
    "start_time": "2023-02-17T15:06:38.527Z"
   },
   {
    "duration": 240,
    "start_time": "2023-02-17T15:27:16.235Z"
   },
   {
    "duration": 251,
    "start_time": "2023-02-17T15:41:10.518Z"
   },
   {
    "duration": 364,
    "start_time": "2023-02-17T15:41:38.942Z"
   },
   {
    "duration": 7,
    "start_time": "2023-02-17T15:55:13.380Z"
   },
   {
    "duration": 1378,
    "start_time": "2023-02-17T16:00:06.378Z"
   },
   {
    "duration": 19,
    "start_time": "2023-02-17T16:00:07.758Z"
   },
   {
    "duration": 11,
    "start_time": "2023-02-17T16:00:07.784Z"
   },
   {
    "duration": 25,
    "start_time": "2023-02-17T16:00:07.797Z"
   },
   {
    "duration": 25,
    "start_time": "2023-02-17T16:00:07.824Z"
   },
   {
    "duration": 42,
    "start_time": "2023-02-17T16:00:07.851Z"
   },
   {
    "duration": 7,
    "start_time": "2023-02-17T16:00:07.895Z"
   },
   {
    "duration": 17,
    "start_time": "2023-02-17T16:00:07.904Z"
   },
   {
    "duration": 13,
    "start_time": "2023-02-17T16:00:07.922Z"
   },
   {
    "duration": 14,
    "start_time": "2023-02-17T16:00:07.938Z"
   },
   {
    "duration": 13,
    "start_time": "2023-02-17T16:00:07.971Z"
   },
   {
    "duration": 24,
    "start_time": "2023-02-17T16:00:07.986Z"
   },
   {
    "duration": 5,
    "start_time": "2023-02-17T16:00:08.011Z"
   },
   {
    "duration": 10,
    "start_time": "2023-02-17T16:00:08.017Z"
   },
   {
    "duration": 9,
    "start_time": "2023-02-17T16:00:08.029Z"
   },
   {
    "duration": 37,
    "start_time": "2023-02-17T16:00:08.039Z"
   },
   {
    "duration": 409,
    "start_time": "2023-02-17T16:00:08.077Z"
   },
   {
    "duration": 30,
    "start_time": "2023-02-17T16:00:08.488Z"
   },
   {
    "duration": 5,
    "start_time": "2023-02-17T16:00:08.520Z"
   },
   {
    "duration": 24,
    "start_time": "2023-02-17T16:00:08.527Z"
   },
   {
    "duration": 6,
    "start_time": "2023-02-17T16:00:08.553Z"
   },
   {
    "duration": 26,
    "start_time": "2023-02-17T16:00:08.569Z"
   },
   {
    "duration": 350,
    "start_time": "2023-02-17T16:00:08.596Z"
   },
   {
    "duration": 356,
    "start_time": "2023-02-17T16:00:08.948Z"
   },
   {
    "duration": 22,
    "start_time": "2023-02-17T16:00:09.306Z"
   },
   {
    "duration": 14,
    "start_time": "2023-02-17T16:00:09.330Z"
   },
   {
    "duration": 62,
    "start_time": "2023-02-17T16:00:09.346Z"
   },
   {
    "duration": 703,
    "start_time": "2023-02-17T16:00:09.412Z"
   },
   {
    "duration": 16,
    "start_time": "2023-02-17T16:00:10.116Z"
   },
   {
    "duration": 501,
    "start_time": "2023-02-17T16:00:10.133Z"
   },
   {
    "duration": 5,
    "start_time": "2023-02-17T16:00:10.636Z"
   },
   {
    "duration": 357,
    "start_time": "2023-02-17T16:00:10.643Z"
   },
   {
    "duration": 305,
    "start_time": "2023-02-17T16:00:11.002Z"
   },
   {
    "duration": 317,
    "start_time": "2023-02-17T16:00:11.308Z"
   },
   {
    "duration": 304,
    "start_time": "2023-02-17T16:00:11.628Z"
   },
   {
    "duration": 360,
    "start_time": "2023-02-17T16:00:11.933Z"
   },
   {
    "duration": 255,
    "start_time": "2023-02-17T16:00:12.294Z"
   },
   {
    "duration": 412,
    "start_time": "2023-02-17T16:00:12.551Z"
   },
   {
    "duration": 250,
    "start_time": "2023-02-17T16:00:12.969Z"
   },
   {
    "duration": 4,
    "start_time": "2023-02-17T16:00:13.221Z"
   },
   {
    "duration": 10,
    "start_time": "2023-02-17T16:00:13.227Z"
   },
   {
    "duration": 34,
    "start_time": "2023-02-17T16:00:13.239Z"
   },
   {
    "duration": 11,
    "start_time": "2023-02-17T16:00:13.275Z"
   },
   {
    "duration": 7,
    "start_time": "2023-02-17T16:00:13.289Z"
   },
   {
    "duration": 15,
    "start_time": "2023-02-17T16:00:13.297Z"
   },
   {
    "duration": 7,
    "start_time": "2023-02-17T16:00:13.313Z"
   },
   {
    "duration": 10,
    "start_time": "2023-02-17T16:00:13.322Z"
   },
   {
    "duration": 1199,
    "start_time": "2023-02-17T18:08:03.224Z"
   },
   {
    "duration": 14,
    "start_time": "2023-02-17T18:08:04.425Z"
   },
   {
    "duration": 3,
    "start_time": "2023-02-17T18:08:04.440Z"
   },
   {
    "duration": 52,
    "start_time": "2023-02-17T18:08:04.445Z"
   },
   {
    "duration": 27,
    "start_time": "2023-02-17T18:08:04.498Z"
   },
   {
    "duration": 30,
    "start_time": "2023-02-17T18:08:04.527Z"
   },
   {
    "duration": 6,
    "start_time": "2023-02-17T18:08:04.559Z"
   },
   {
    "duration": 33,
    "start_time": "2023-02-17T18:08:04.567Z"
   },
   {
    "duration": 5,
    "start_time": "2023-02-17T18:08:04.601Z"
   },
   {
    "duration": 19,
    "start_time": "2023-02-17T18:08:04.609Z"
   },
   {
    "duration": 8,
    "start_time": "2023-02-17T18:08:04.630Z"
   },
   {
    "duration": 21,
    "start_time": "2023-02-17T18:08:04.640Z"
   },
   {
    "duration": 4,
    "start_time": "2023-02-17T18:08:04.663Z"
   },
   {
    "duration": 32,
    "start_time": "2023-02-17T18:08:04.669Z"
   },
   {
    "duration": 10,
    "start_time": "2023-02-17T18:08:04.703Z"
   },
   {
    "duration": 20,
    "start_time": "2023-02-17T18:08:04.715Z"
   },
   {
    "duration": 334,
    "start_time": "2023-02-17T18:08:04.737Z"
   },
   {
    "duration": 39,
    "start_time": "2023-02-17T18:08:05.073Z"
   },
   {
    "duration": 4,
    "start_time": "2023-02-17T18:08:05.113Z"
   },
   {
    "duration": 19,
    "start_time": "2023-02-17T18:08:05.118Z"
   },
   {
    "duration": 6,
    "start_time": "2023-02-17T18:08:05.138Z"
   },
   {
    "duration": 17,
    "start_time": "2023-02-17T18:08:05.146Z"
   },
   {
    "duration": 335,
    "start_time": "2023-02-17T18:08:05.164Z"
   },
   {
    "duration": 329,
    "start_time": "2023-02-17T18:08:05.500Z"
   },
   {
    "duration": 23,
    "start_time": "2023-02-17T18:08:05.831Z"
   },
   {
    "duration": 16,
    "start_time": "2023-02-17T18:08:05.855Z"
   },
   {
    "duration": 44,
    "start_time": "2023-02-17T18:08:05.874Z"
   },
   {
    "duration": 675,
    "start_time": "2023-02-17T18:08:05.924Z"
   },
   {
    "duration": 18,
    "start_time": "2023-02-17T18:08:06.600Z"
   },
   {
    "duration": 476,
    "start_time": "2023-02-17T18:08:06.620Z"
   },
   {
    "duration": 5,
    "start_time": "2023-02-17T18:08:07.099Z"
   },
   {
    "duration": 268,
    "start_time": "2023-02-17T18:08:07.105Z"
   },
   {
    "duration": 288,
    "start_time": "2023-02-17T18:08:07.375Z"
   },
   {
    "duration": 275,
    "start_time": "2023-02-17T18:08:07.666Z"
   },
   {
    "duration": 307,
    "start_time": "2023-02-17T18:08:07.942Z"
   },
   {
    "duration": 375,
    "start_time": "2023-02-17T18:08:08.251Z"
   },
   {
    "duration": 295,
    "start_time": "2023-02-17T18:08:08.628Z"
   },
   {
    "duration": 391,
    "start_time": "2023-02-17T18:08:08.925Z"
   },
   {
    "duration": 236,
    "start_time": "2023-02-17T18:08:09.318Z"
   },
   {
    "duration": 5,
    "start_time": "2023-02-17T18:08:09.556Z"
   },
   {
    "duration": 17,
    "start_time": "2023-02-17T18:08:09.563Z"
   },
   {
    "duration": 23,
    "start_time": "2023-02-17T18:08:09.582Z"
   },
   {
    "duration": 6,
    "start_time": "2023-02-17T18:08:09.606Z"
   },
   {
    "duration": 9,
    "start_time": "2023-02-17T18:08:09.614Z"
   },
   {
    "duration": 13,
    "start_time": "2023-02-17T18:08:09.625Z"
   },
   {
    "duration": 9,
    "start_time": "2023-02-17T18:08:09.639Z"
   },
   {
    "duration": 12,
    "start_time": "2023-02-17T18:08:09.651Z"
   },
   {
    "duration": 1167,
    "start_time": "2023-02-17T21:10:29.864Z"
   },
   {
    "duration": 13,
    "start_time": "2023-02-17T21:10:31.033Z"
   },
   {
    "duration": 12,
    "start_time": "2023-02-17T21:10:31.048Z"
   },
   {
    "duration": 31,
    "start_time": "2023-02-17T21:10:31.062Z"
   },
   {
    "duration": 39,
    "start_time": "2023-02-17T21:10:31.095Z"
   },
   {
    "duration": 27,
    "start_time": "2023-02-17T21:10:31.136Z"
   },
   {
    "duration": 20,
    "start_time": "2023-02-17T21:10:31.165Z"
   },
   {
    "duration": 14,
    "start_time": "2023-02-17T21:10:31.187Z"
   },
   {
    "duration": 7,
    "start_time": "2023-02-17T21:10:31.202Z"
   },
   {
    "duration": 12,
    "start_time": "2023-02-17T21:10:31.211Z"
   },
   {
    "duration": 15,
    "start_time": "2023-02-17T21:10:31.224Z"
   },
   {
    "duration": 44,
    "start_time": "2023-02-17T21:10:31.241Z"
   },
   {
    "duration": 13,
    "start_time": "2023-02-17T21:10:31.287Z"
   },
   {
    "duration": 24,
    "start_time": "2023-02-17T21:10:31.301Z"
   },
   {
    "duration": 22,
    "start_time": "2023-02-17T21:10:31.326Z"
   },
   {
    "duration": 27,
    "start_time": "2023-02-17T21:10:31.349Z"
   },
   {
    "duration": 300,
    "start_time": "2023-02-17T21:10:31.377Z"
   },
   {
    "duration": 29,
    "start_time": "2023-02-17T21:10:31.678Z"
   },
   {
    "duration": 3,
    "start_time": "2023-02-17T21:10:31.709Z"
   },
   {
    "duration": 14,
    "start_time": "2023-02-17T21:10:31.713Z"
   },
   {
    "duration": 20,
    "start_time": "2023-02-17T21:10:31.728Z"
   },
   {
    "duration": 14,
    "start_time": "2023-02-17T21:10:31.750Z"
   },
   {
    "duration": 314,
    "start_time": "2023-02-17T21:10:31.765Z"
   },
   {
    "duration": 284,
    "start_time": "2023-02-17T21:10:32.080Z"
   },
   {
    "duration": 23,
    "start_time": "2023-02-17T21:10:32.366Z"
   },
   {
    "duration": 12,
    "start_time": "2023-02-17T21:10:32.390Z"
   },
   {
    "duration": 19,
    "start_time": "2023-02-17T21:10:32.403Z"
   },
   {
    "duration": 696,
    "start_time": "2023-02-17T21:10:32.425Z"
   },
   {
    "duration": 25,
    "start_time": "2023-02-17T21:10:33.123Z"
   },
   {
    "duration": 479,
    "start_time": "2023-02-17T21:10:33.149Z"
   },
   {
    "duration": 4,
    "start_time": "2023-02-17T21:10:33.630Z"
   },
   {
    "duration": 274,
    "start_time": "2023-02-17T21:10:33.636Z"
   },
   {
    "duration": 298,
    "start_time": "2023-02-17T21:10:33.912Z"
   },
   {
    "duration": 288,
    "start_time": "2023-02-17T21:10:34.211Z"
   },
   {
    "duration": 321,
    "start_time": "2023-02-17T21:10:34.500Z"
   },
   {
    "duration": 374,
    "start_time": "2023-02-17T21:10:34.823Z"
   },
   {
    "duration": 331,
    "start_time": "2023-02-17T21:10:35.200Z"
   },
   {
    "duration": 357,
    "start_time": "2023-02-17T21:10:35.532Z"
   },
   {
    "duration": 237,
    "start_time": "2023-02-17T21:10:35.891Z"
   },
   {
    "duration": 5,
    "start_time": "2023-02-17T21:10:36.130Z"
   },
   {
    "duration": 5,
    "start_time": "2023-02-17T21:10:36.148Z"
   },
   {
    "duration": 21,
    "start_time": "2023-02-17T21:10:36.155Z"
   },
   {
    "duration": 7,
    "start_time": "2023-02-17T21:10:36.178Z"
   },
   {
    "duration": 7,
    "start_time": "2023-02-17T21:10:36.187Z"
   },
   {
    "duration": 10,
    "start_time": "2023-02-17T21:10:36.195Z"
   },
   {
    "duration": 4,
    "start_time": "2023-02-17T21:10:36.207Z"
   },
   {
    "duration": 11,
    "start_time": "2023-02-17T21:10:36.212Z"
   },
   {
    "duration": 72,
    "start_time": "2023-02-17T21:17:07.067Z"
   },
   {
    "duration": 78,
    "start_time": "2023-02-17T21:19:04.920Z"
   },
   {
    "duration": 15,
    "start_time": "2023-02-17T21:25:32.481Z"
   },
   {
    "duration": 1351,
    "start_time": "2023-02-18T07:10:43.583Z"
   },
   {
    "duration": 190,
    "start_time": "2023-02-18T07:10:46.201Z"
   },
   {
    "duration": 20,
    "start_time": "2023-02-18T07:11:03.448Z"
   },
   {
    "duration": 4,
    "start_time": "2023-02-18T07:14:21.587Z"
   },
   {
    "duration": 4,
    "start_time": "2023-02-18T07:16:00.779Z"
   },
   {
    "duration": 31,
    "start_time": "2023-02-18T07:16:02.714Z"
   },
   {
    "duration": 8,
    "start_time": "2023-02-18T11:04:03.714Z"
   },
   {
    "duration": 46,
    "start_time": "2023-02-18T11:04:08.456Z"
   },
   {
    "duration": 1311,
    "start_time": "2023-02-18T11:08:59.687Z"
   },
   {
    "duration": 106,
    "start_time": "2023-02-18T11:09:01.000Z"
   },
   {
    "duration": 20,
    "start_time": "2023-02-18T11:09:01.108Z"
   },
   {
    "duration": 27,
    "start_time": "2023-02-18T11:09:01.131Z"
   },
   {
    "duration": 17,
    "start_time": "2023-02-18T11:09:01.159Z"
   },
   {
    "duration": 33,
    "start_time": "2023-02-18T11:09:01.177Z"
   },
   {
    "duration": 37,
    "start_time": "2023-02-18T11:09:01.212Z"
   },
   {
    "duration": 3,
    "start_time": "2023-02-18T11:09:01.251Z"
   },
   {
    "duration": 294,
    "start_time": "2023-02-18T11:09:01.256Z"
   },
   {
    "duration": 0,
    "start_time": "2023-02-18T11:09:01.553Z"
   },
   {
    "duration": 0,
    "start_time": "2023-02-18T11:09:01.554Z"
   },
   {
    "duration": 0,
    "start_time": "2023-02-18T11:09:01.555Z"
   },
   {
    "duration": 0,
    "start_time": "2023-02-18T11:09:01.557Z"
   },
   {
    "duration": 0,
    "start_time": "2023-02-18T11:09:01.558Z"
   },
   {
    "duration": 0,
    "start_time": "2023-02-18T11:09:01.559Z"
   },
   {
    "duration": 0,
    "start_time": "2023-02-18T11:09:01.560Z"
   },
   {
    "duration": 0,
    "start_time": "2023-02-18T11:09:01.561Z"
   },
   {
    "duration": 0,
    "start_time": "2023-02-18T11:09:01.562Z"
   },
   {
    "duration": 0,
    "start_time": "2023-02-18T11:09:01.563Z"
   },
   {
    "duration": 0,
    "start_time": "2023-02-18T11:09:01.564Z"
   },
   {
    "duration": 0,
    "start_time": "2023-02-18T11:09:01.565Z"
   },
   {
    "duration": 0,
    "start_time": "2023-02-18T11:09:01.567Z"
   },
   {
    "duration": 0,
    "start_time": "2023-02-18T11:09:01.567Z"
   },
   {
    "duration": 0,
    "start_time": "2023-02-18T11:09:01.569Z"
   },
   {
    "duration": 0,
    "start_time": "2023-02-18T11:09:01.570Z"
   },
   {
    "duration": 0,
    "start_time": "2023-02-18T11:09:01.571Z"
   },
   {
    "duration": 0,
    "start_time": "2023-02-18T11:09:01.572Z"
   },
   {
    "duration": 0,
    "start_time": "2023-02-18T11:09:01.573Z"
   },
   {
    "duration": 0,
    "start_time": "2023-02-18T11:09:01.574Z"
   },
   {
    "duration": 0,
    "start_time": "2023-02-18T11:09:01.575Z"
   },
   {
    "duration": 0,
    "start_time": "2023-02-18T11:09:01.575Z"
   },
   {
    "duration": 0,
    "start_time": "2023-02-18T11:09:01.577Z"
   },
   {
    "duration": 0,
    "start_time": "2023-02-18T11:09:01.577Z"
   },
   {
    "duration": 0,
    "start_time": "2023-02-18T11:09:01.579Z"
   },
   {
    "duration": 0,
    "start_time": "2023-02-18T11:09:01.580Z"
   },
   {
    "duration": 0,
    "start_time": "2023-02-18T11:09:01.581Z"
   },
   {
    "duration": 0,
    "start_time": "2023-02-18T11:09:01.582Z"
   },
   {
    "duration": 0,
    "start_time": "2023-02-18T11:09:01.583Z"
   },
   {
    "duration": 0,
    "start_time": "2023-02-18T11:09:01.584Z"
   },
   {
    "duration": 0,
    "start_time": "2023-02-18T11:09:01.585Z"
   },
   {
    "duration": 0,
    "start_time": "2023-02-18T11:09:01.586Z"
   },
   {
    "duration": 0,
    "start_time": "2023-02-18T11:09:01.587Z"
   },
   {
    "duration": 0,
    "start_time": "2023-02-18T11:09:01.627Z"
   },
   {
    "duration": 0,
    "start_time": "2023-02-18T11:09:01.629Z"
   },
   {
    "duration": 0,
    "start_time": "2023-02-18T11:09:01.630Z"
   },
   {
    "duration": 0,
    "start_time": "2023-02-18T11:09:01.632Z"
   },
   {
    "duration": 0,
    "start_time": "2023-02-18T11:09:01.633Z"
   },
   {
    "duration": 0,
    "start_time": "2023-02-18T11:09:01.634Z"
   },
   {
    "duration": 0,
    "start_time": "2023-02-18T11:09:01.636Z"
   },
   {
    "duration": 0,
    "start_time": "2023-02-18T11:09:01.637Z"
   },
   {
    "duration": 192,
    "start_time": "2023-02-18T11:09:18.303Z"
   },
   {
    "duration": 4,
    "start_time": "2023-02-18T11:09:37.758Z"
   },
   {
    "duration": 1129,
    "start_time": "2023-02-18T11:09:45.991Z"
   },
   {
    "duration": 48,
    "start_time": "2023-02-18T11:09:47.122Z"
   },
   {
    "duration": 20,
    "start_time": "2023-02-18T11:09:47.172Z"
   },
   {
    "duration": 14,
    "start_time": "2023-02-18T11:09:47.194Z"
   },
   {
    "duration": 3,
    "start_time": "2023-02-18T11:09:47.209Z"
   },
   {
    "duration": 26,
    "start_time": "2023-02-18T11:09:47.213Z"
   },
   {
    "duration": 25,
    "start_time": "2023-02-18T11:09:47.241Z"
   },
   {
    "duration": 3,
    "start_time": "2023-02-18T11:09:47.268Z"
   },
   {
    "duration": 284,
    "start_time": "2023-02-18T11:09:47.273Z"
   },
   {
    "duration": 0,
    "start_time": "2023-02-18T11:09:47.560Z"
   },
   {
    "duration": 0,
    "start_time": "2023-02-18T11:09:47.561Z"
   },
   {
    "duration": 0,
    "start_time": "2023-02-18T11:09:47.563Z"
   },
   {
    "duration": 0,
    "start_time": "2023-02-18T11:09:47.563Z"
   },
   {
    "duration": 0,
    "start_time": "2023-02-18T11:09:47.564Z"
   },
   {
    "duration": 0,
    "start_time": "2023-02-18T11:09:47.565Z"
   },
   {
    "duration": 0,
    "start_time": "2023-02-18T11:09:47.567Z"
   },
   {
    "duration": 0,
    "start_time": "2023-02-18T11:09:47.568Z"
   },
   {
    "duration": 0,
    "start_time": "2023-02-18T11:09:47.568Z"
   },
   {
    "duration": 0,
    "start_time": "2023-02-18T11:09:47.569Z"
   },
   {
    "duration": 0,
    "start_time": "2023-02-18T11:09:47.570Z"
   },
   {
    "duration": 0,
    "start_time": "2023-02-18T11:09:47.571Z"
   },
   {
    "duration": 0,
    "start_time": "2023-02-18T11:09:47.572Z"
   },
   {
    "duration": 0,
    "start_time": "2023-02-18T11:09:47.573Z"
   },
   {
    "duration": 0,
    "start_time": "2023-02-18T11:09:47.574Z"
   },
   {
    "duration": 0,
    "start_time": "2023-02-18T11:09:47.575Z"
   },
   {
    "duration": 0,
    "start_time": "2023-02-18T11:09:47.576Z"
   },
   {
    "duration": 0,
    "start_time": "2023-02-18T11:09:47.577Z"
   },
   {
    "duration": 0,
    "start_time": "2023-02-18T11:09:47.578Z"
   },
   {
    "duration": 0,
    "start_time": "2023-02-18T11:09:47.580Z"
   },
   {
    "duration": 0,
    "start_time": "2023-02-18T11:09:47.580Z"
   },
   {
    "duration": 0,
    "start_time": "2023-02-18T11:09:47.581Z"
   },
   {
    "duration": 0,
    "start_time": "2023-02-18T11:09:47.583Z"
   },
   {
    "duration": 0,
    "start_time": "2023-02-18T11:09:47.584Z"
   },
   {
    "duration": 0,
    "start_time": "2023-02-18T11:09:47.585Z"
   },
   {
    "duration": 0,
    "start_time": "2023-02-18T11:09:47.586Z"
   },
   {
    "duration": 0,
    "start_time": "2023-02-18T11:09:47.587Z"
   },
   {
    "duration": 0,
    "start_time": "2023-02-18T11:09:47.588Z"
   },
   {
    "duration": 0,
    "start_time": "2023-02-18T11:09:47.588Z"
   },
   {
    "duration": 0,
    "start_time": "2023-02-18T11:09:47.589Z"
   },
   {
    "duration": 0,
    "start_time": "2023-02-18T11:09:47.591Z"
   },
   {
    "duration": 0,
    "start_time": "2023-02-18T11:09:47.592Z"
   },
   {
    "duration": 0,
    "start_time": "2023-02-18T11:09:47.593Z"
   },
   {
    "duration": 0,
    "start_time": "2023-02-18T11:09:47.594Z"
   },
   {
    "duration": 0,
    "start_time": "2023-02-18T11:09:47.595Z"
   },
   {
    "duration": 0,
    "start_time": "2023-02-18T11:09:47.596Z"
   },
   {
    "duration": 0,
    "start_time": "2023-02-18T11:09:47.597Z"
   },
   {
    "duration": 0,
    "start_time": "2023-02-18T11:09:47.597Z"
   },
   {
    "duration": 0,
    "start_time": "2023-02-18T11:09:47.627Z"
   },
   {
    "duration": 0,
    "start_time": "2023-02-18T11:09:47.628Z"
   },
   {
    "duration": 0,
    "start_time": "2023-02-18T11:09:47.629Z"
   },
   {
    "duration": 1080,
    "start_time": "2023-02-18T11:10:18.676Z"
   },
   {
    "duration": 47,
    "start_time": "2023-02-18T11:10:19.759Z"
   },
   {
    "duration": 21,
    "start_time": "2023-02-18T11:10:19.808Z"
   },
   {
    "duration": 15,
    "start_time": "2023-02-18T11:10:19.831Z"
   },
   {
    "duration": 3,
    "start_time": "2023-02-18T11:10:19.847Z"
   },
   {
    "duration": 20,
    "start_time": "2023-02-18T11:10:19.851Z"
   },
   {
    "duration": 24,
    "start_time": "2023-02-18T11:10:19.873Z"
   },
   {
    "duration": 3,
    "start_time": "2023-02-18T11:10:19.899Z"
   },
   {
    "duration": 26,
    "start_time": "2023-02-18T11:10:19.926Z"
   },
   {
    "duration": 116,
    "start_time": "2023-02-18T11:10:19.955Z"
   },
   {
    "duration": 0,
    "start_time": "2023-02-18T11:10:20.074Z"
   },
   {
    "duration": 0,
    "start_time": "2023-02-18T11:10:20.076Z"
   },
   {
    "duration": 0,
    "start_time": "2023-02-18T11:10:20.077Z"
   },
   {
    "duration": 0,
    "start_time": "2023-02-18T11:10:20.078Z"
   },
   {
    "duration": 0,
    "start_time": "2023-02-18T11:10:20.079Z"
   },
   {
    "duration": 0,
    "start_time": "2023-02-18T11:10:20.081Z"
   },
   {
    "duration": 0,
    "start_time": "2023-02-18T11:10:20.083Z"
   },
   {
    "duration": 0,
    "start_time": "2023-02-18T11:10:20.084Z"
   },
   {
    "duration": 0,
    "start_time": "2023-02-18T11:10:20.085Z"
   },
   {
    "duration": 0,
    "start_time": "2023-02-18T11:10:20.087Z"
   },
   {
    "duration": 0,
    "start_time": "2023-02-18T11:10:20.089Z"
   },
   {
    "duration": 0,
    "start_time": "2023-02-18T11:10:20.090Z"
   },
   {
    "duration": 0,
    "start_time": "2023-02-18T11:10:20.092Z"
   },
   {
    "duration": 0,
    "start_time": "2023-02-18T11:10:20.093Z"
   },
   {
    "duration": 0,
    "start_time": "2023-02-18T11:10:20.094Z"
   },
   {
    "duration": 0,
    "start_time": "2023-02-18T11:10:20.095Z"
   },
   {
    "duration": 0,
    "start_time": "2023-02-18T11:10:20.096Z"
   },
   {
    "duration": 0,
    "start_time": "2023-02-18T11:10:20.097Z"
   },
   {
    "duration": 0,
    "start_time": "2023-02-18T11:10:20.127Z"
   },
   {
    "duration": 0,
    "start_time": "2023-02-18T11:10:20.128Z"
   },
   {
    "duration": 0,
    "start_time": "2023-02-18T11:10:20.130Z"
   },
   {
    "duration": 0,
    "start_time": "2023-02-18T11:10:20.132Z"
   },
   {
    "duration": 0,
    "start_time": "2023-02-18T11:10:20.133Z"
   },
   {
    "duration": 0,
    "start_time": "2023-02-18T11:10:20.134Z"
   },
   {
    "duration": 0,
    "start_time": "2023-02-18T11:10:20.135Z"
   },
   {
    "duration": 0,
    "start_time": "2023-02-18T11:10:20.136Z"
   },
   {
    "duration": 0,
    "start_time": "2023-02-18T11:10:20.137Z"
   },
   {
    "duration": 0,
    "start_time": "2023-02-18T11:10:20.139Z"
   },
   {
    "duration": 0,
    "start_time": "2023-02-18T11:10:20.140Z"
   },
   {
    "duration": 0,
    "start_time": "2023-02-18T11:10:20.142Z"
   },
   {
    "duration": 0,
    "start_time": "2023-02-18T11:10:20.143Z"
   },
   {
    "duration": 0,
    "start_time": "2023-02-18T11:10:20.144Z"
   },
   {
    "duration": 0,
    "start_time": "2023-02-18T11:10:20.145Z"
   },
   {
    "duration": 0,
    "start_time": "2023-02-18T11:10:20.147Z"
   },
   {
    "duration": 0,
    "start_time": "2023-02-18T11:10:20.148Z"
   },
   {
    "duration": 0,
    "start_time": "2023-02-18T11:10:20.150Z"
   },
   {
    "duration": 0,
    "start_time": "2023-02-18T11:10:20.151Z"
   },
   {
    "duration": 0,
    "start_time": "2023-02-18T11:10:20.152Z"
   },
   {
    "duration": 0,
    "start_time": "2023-02-18T11:10:20.154Z"
   },
   {
    "duration": 0,
    "start_time": "2023-02-18T11:10:20.155Z"
   },
   {
    "duration": 1125,
    "start_time": "2023-02-18T11:10:44.090Z"
   },
   {
    "duration": 51,
    "start_time": "2023-02-18T11:10:45.217Z"
   },
   {
    "duration": 20,
    "start_time": "2023-02-18T11:10:45.270Z"
   },
   {
    "duration": 14,
    "start_time": "2023-02-18T11:10:45.292Z"
   },
   {
    "duration": 3,
    "start_time": "2023-02-18T11:10:45.308Z"
   },
   {
    "duration": 23,
    "start_time": "2023-02-18T11:10:45.313Z"
   },
   {
    "duration": 27,
    "start_time": "2023-02-18T11:10:45.338Z"
   },
   {
    "duration": 4,
    "start_time": "2023-02-18T11:10:45.366Z"
   },
   {
    "duration": 31,
    "start_time": "2023-02-18T11:10:45.371Z"
   },
   {
    "duration": 32,
    "start_time": "2023-02-18T11:10:45.404Z"
   },
   {
    "duration": 9,
    "start_time": "2023-02-18T11:10:45.437Z"
   },
   {
    "duration": 8,
    "start_time": "2023-02-18T11:10:45.447Z"
   },
   {
    "duration": 16,
    "start_time": "2023-02-18T11:10:45.456Z"
   },
   {
    "duration": 21,
    "start_time": "2023-02-18T11:10:45.475Z"
   },
   {
    "duration": 36,
    "start_time": "2023-02-18T11:10:45.497Z"
   },
   {
    "duration": 4,
    "start_time": "2023-02-18T11:10:45.535Z"
   },
   {
    "duration": 6,
    "start_time": "2023-02-18T11:10:45.541Z"
   },
   {
    "duration": 8,
    "start_time": "2023-02-18T11:10:45.549Z"
   },
   {
    "duration": 22,
    "start_time": "2023-02-18T11:10:45.558Z"
   },
   {
    "duration": 360,
    "start_time": "2023-02-18T11:10:45.582Z"
   },
   {
    "duration": 33,
    "start_time": "2023-02-18T11:10:45.943Z"
   },
   {
    "duration": 4,
    "start_time": "2023-02-18T11:10:45.977Z"
   },
   {
    "duration": 12,
    "start_time": "2023-02-18T11:10:45.982Z"
   },
   {
    "duration": 6,
    "start_time": "2023-02-18T11:10:45.996Z"
   },
   {
    "duration": 36,
    "start_time": "2023-02-18T11:10:46.003Z"
   },
   {
    "duration": 342,
    "start_time": "2023-02-18T11:10:46.041Z"
   },
   {
    "duration": 345,
    "start_time": "2023-02-18T11:10:46.385Z"
   },
   {
    "duration": 25,
    "start_time": "2023-02-18T11:10:46.732Z"
   },
   {
    "duration": 16,
    "start_time": "2023-02-18T11:10:46.759Z"
   },
   {
    "duration": 20,
    "start_time": "2023-02-18T11:10:46.777Z"
   },
   {
    "duration": 710,
    "start_time": "2023-02-18T11:10:46.799Z"
   },
   {
    "duration": 22,
    "start_time": "2023-02-18T11:10:47.511Z"
   },
   {
    "duration": 485,
    "start_time": "2023-02-18T11:10:47.535Z"
   },
   {
    "duration": 6,
    "start_time": "2023-02-18T11:10:48.022Z"
   },
   {
    "duration": 253,
    "start_time": "2023-02-18T11:10:48.029Z"
   },
   {
    "duration": 269,
    "start_time": "2023-02-18T11:10:48.284Z"
   },
   {
    "duration": 258,
    "start_time": "2023-02-18T11:10:48.555Z"
   },
   {
    "duration": 303,
    "start_time": "2023-02-18T11:10:48.815Z"
   },
   {
    "duration": 348,
    "start_time": "2023-02-18T11:10:49.119Z"
   },
   {
    "duration": 260,
    "start_time": "2023-02-18T11:10:49.469Z"
   },
   {
    "duration": 384,
    "start_time": "2023-02-18T11:10:49.732Z"
   },
   {
    "duration": 263,
    "start_time": "2023-02-18T11:10:50.118Z"
   },
   {
    "duration": 5,
    "start_time": "2023-02-18T11:10:50.384Z"
   },
   {
    "duration": 6,
    "start_time": "2023-02-18T11:10:50.390Z"
   },
   {
    "duration": 29,
    "start_time": "2023-02-18T11:10:50.398Z"
   },
   {
    "duration": 4,
    "start_time": "2023-02-18T11:10:50.428Z"
   },
   {
    "duration": 8,
    "start_time": "2023-02-18T11:10:50.434Z"
   },
   {
    "duration": 16,
    "start_time": "2023-02-18T11:10:50.443Z"
   },
   {
    "duration": 6,
    "start_time": "2023-02-18T11:10:50.461Z"
   },
   {
    "duration": 14,
    "start_time": "2023-02-18T11:10:50.469Z"
   },
   {
    "duration": 22,
    "start_time": "2023-02-18T11:11:23.112Z"
   },
   {
    "duration": 13,
    "start_time": "2023-02-18T11:11:54.223Z"
   },
   {
    "duration": 1084,
    "start_time": "2023-02-18T11:12:04.570Z"
   },
   {
    "duration": 50,
    "start_time": "2023-02-18T11:12:05.656Z"
   },
   {
    "duration": 21,
    "start_time": "2023-02-18T11:12:05.707Z"
   },
   {
    "duration": 20,
    "start_time": "2023-02-18T11:12:05.730Z"
   },
   {
    "duration": 26,
    "start_time": "2023-02-18T11:12:05.752Z"
   },
   {
    "duration": 20,
    "start_time": "2023-02-18T11:12:05.780Z"
   },
   {
    "duration": 34,
    "start_time": "2023-02-18T11:12:05.802Z"
   },
   {
    "duration": 3,
    "start_time": "2023-02-18T11:12:05.838Z"
   },
   {
    "duration": 31,
    "start_time": "2023-02-18T11:12:05.843Z"
   },
   {
    "duration": 12,
    "start_time": "2023-02-18T11:12:05.876Z"
   },
   {
    "duration": 9,
    "start_time": "2023-02-18T11:12:05.890Z"
   },
   {
    "duration": 31,
    "start_time": "2023-02-18T11:12:05.900Z"
   },
   {
    "duration": 20,
    "start_time": "2023-02-18T11:12:05.933Z"
   },
   {
    "duration": 6,
    "start_time": "2023-02-18T11:12:05.955Z"
   },
   {
    "duration": 38,
    "start_time": "2023-02-18T11:12:05.963Z"
   },
   {
    "duration": 6,
    "start_time": "2023-02-18T11:12:06.002Z"
   },
   {
    "duration": 6,
    "start_time": "2023-02-18T11:12:06.009Z"
   },
   {
    "duration": 13,
    "start_time": "2023-02-18T11:12:06.016Z"
   },
   {
    "duration": 34,
    "start_time": "2023-02-18T11:12:06.031Z"
   },
   {
    "duration": 373,
    "start_time": "2023-02-18T11:12:06.067Z"
   },
   {
    "duration": 33,
    "start_time": "2023-02-18T11:12:06.441Z"
   },
   {
    "duration": 4,
    "start_time": "2023-02-18T11:12:06.475Z"
   },
   {
    "duration": 16,
    "start_time": "2023-02-18T11:12:06.481Z"
   },
   {
    "duration": 5,
    "start_time": "2023-02-18T11:12:06.499Z"
   },
   {
    "duration": 35,
    "start_time": "2023-02-18T11:12:06.505Z"
   },
   {
    "duration": 356,
    "start_time": "2023-02-18T11:12:06.542Z"
   },
   {
    "duration": 330,
    "start_time": "2023-02-18T11:12:06.900Z"
   },
   {
    "duration": 23,
    "start_time": "2023-02-18T11:12:07.233Z"
   },
   {
    "duration": 14,
    "start_time": "2023-02-18T11:12:07.258Z"
   },
   {
    "duration": 19,
    "start_time": "2023-02-18T11:12:07.273Z"
   },
   {
    "duration": 691,
    "start_time": "2023-02-18T11:12:07.293Z"
   },
   {
    "duration": 15,
    "start_time": "2023-02-18T11:12:07.986Z"
   },
   {
    "duration": 472,
    "start_time": "2023-02-18T11:12:08.003Z"
   },
   {
    "duration": 5,
    "start_time": "2023-02-18T11:12:08.477Z"
   },
   {
    "duration": 279,
    "start_time": "2023-02-18T11:12:08.484Z"
   },
   {
    "duration": 298,
    "start_time": "2023-02-18T11:12:08.764Z"
   },
   {
    "duration": 505,
    "start_time": "2023-02-18T11:12:09.064Z"
   },
   {
    "duration": 660,
    "start_time": "2023-02-18T11:12:09.571Z"
   },
   {
    "duration": 753,
    "start_time": "2023-02-18T11:12:10.233Z"
   },
   {
    "duration": 251,
    "start_time": "2023-02-18T11:12:10.988Z"
   },
   {
    "duration": 365,
    "start_time": "2023-02-18T11:12:11.241Z"
   },
   {
    "duration": 234,
    "start_time": "2023-02-18T11:12:11.608Z"
   },
   {
    "duration": 5,
    "start_time": "2023-02-18T11:12:11.844Z"
   },
   {
    "duration": 6,
    "start_time": "2023-02-18T11:12:11.851Z"
   },
   {
    "duration": 12,
    "start_time": "2023-02-18T11:12:11.858Z"
   },
   {
    "duration": 7,
    "start_time": "2023-02-18T11:12:11.872Z"
   },
   {
    "duration": 7,
    "start_time": "2023-02-18T11:12:11.880Z"
   },
   {
    "duration": 40,
    "start_time": "2023-02-18T11:12:11.889Z"
   },
   {
    "duration": 5,
    "start_time": "2023-02-18T11:12:11.931Z"
   },
   {
    "duration": 11,
    "start_time": "2023-02-18T11:12:11.938Z"
   },
   {
    "duration": 7,
    "start_time": "2023-02-18T11:13:26.955Z"
   },
   {
    "duration": 5,
    "start_time": "2023-02-18T11:13:44.105Z"
   },
   {
    "duration": 1140,
    "start_time": "2023-02-18T11:14:48.911Z"
   },
   {
    "duration": 48,
    "start_time": "2023-02-18T11:14:50.053Z"
   },
   {
    "duration": 18,
    "start_time": "2023-02-18T11:14:50.103Z"
   },
   {
    "duration": 13,
    "start_time": "2023-02-18T11:14:50.123Z"
   },
   {
    "duration": 3,
    "start_time": "2023-02-18T11:14:50.137Z"
   },
   {
    "duration": 17,
    "start_time": "2023-02-18T11:14:50.141Z"
   },
   {
    "duration": 25,
    "start_time": "2023-02-18T11:14:50.160Z"
   },
   {
    "duration": 4,
    "start_time": "2023-02-18T11:14:50.187Z"
   },
   {
    "duration": 62,
    "start_time": "2023-02-18T11:14:50.192Z"
   },
   {
    "duration": 14,
    "start_time": "2023-02-18T11:14:50.257Z"
   },
   {
    "duration": 30,
    "start_time": "2023-02-18T11:14:50.274Z"
   },
   {
    "duration": 7,
    "start_time": "2023-02-18T11:14:50.307Z"
   },
   {
    "duration": 23,
    "start_time": "2023-02-18T11:14:50.315Z"
   },
   {
    "duration": 41,
    "start_time": "2023-02-18T11:14:50.340Z"
   },
   {
    "duration": 32,
    "start_time": "2023-02-18T11:14:50.384Z"
   },
   {
    "duration": 10,
    "start_time": "2023-02-18T11:14:50.418Z"
   },
   {
    "duration": 11,
    "start_time": "2023-02-18T11:14:50.430Z"
   },
   {
    "duration": 20,
    "start_time": "2023-02-18T11:14:50.443Z"
   },
   {
    "duration": 26,
    "start_time": "2023-02-18T11:14:50.465Z"
   },
   {
    "duration": 328,
    "start_time": "2023-02-18T11:14:50.493Z"
   },
   {
    "duration": 33,
    "start_time": "2023-02-18T11:14:50.823Z"
   },
   {
    "duration": 4,
    "start_time": "2023-02-18T11:14:50.858Z"
   },
   {
    "duration": 10,
    "start_time": "2023-02-18T11:14:50.863Z"
   },
   {
    "duration": 4,
    "start_time": "2023-02-18T11:14:50.875Z"
   },
   {
    "duration": 16,
    "start_time": "2023-02-18T11:14:50.881Z"
   },
   {
    "duration": 350,
    "start_time": "2023-02-18T11:14:50.899Z"
   },
   {
    "duration": 319,
    "start_time": "2023-02-18T11:14:51.251Z"
   },
   {
    "duration": 24,
    "start_time": "2023-02-18T11:14:51.573Z"
   },
   {
    "duration": 31,
    "start_time": "2023-02-18T11:14:51.598Z"
   },
   {
    "duration": 31,
    "start_time": "2023-02-18T11:14:51.632Z"
   },
   {
    "duration": 699,
    "start_time": "2023-02-18T11:14:51.664Z"
   },
   {
    "duration": 18,
    "start_time": "2023-02-18T11:14:52.364Z"
   },
   {
    "duration": 501,
    "start_time": "2023-02-18T11:14:52.384Z"
   },
   {
    "duration": 5,
    "start_time": "2023-02-18T11:14:52.886Z"
   },
   {
    "duration": 265,
    "start_time": "2023-02-18T11:14:52.892Z"
   },
   {
    "duration": 273,
    "start_time": "2023-02-18T11:14:53.159Z"
   },
   {
    "duration": 278,
    "start_time": "2023-02-18T11:14:53.433Z"
   },
   {
    "duration": 305,
    "start_time": "2023-02-18T11:14:53.713Z"
   },
   {
    "duration": 360,
    "start_time": "2023-02-18T11:14:54.020Z"
   },
   {
    "duration": 283,
    "start_time": "2023-02-18T11:14:54.381Z"
   },
   {
    "duration": 373,
    "start_time": "2023-02-18T11:14:54.666Z"
   },
   {
    "duration": 238,
    "start_time": "2023-02-18T11:14:55.040Z"
   },
   {
    "duration": 4,
    "start_time": "2023-02-18T11:14:55.280Z"
   },
   {
    "duration": 6,
    "start_time": "2023-02-18T11:14:55.286Z"
   },
   {
    "duration": 13,
    "start_time": "2023-02-18T11:14:55.294Z"
   },
   {
    "duration": 21,
    "start_time": "2023-02-18T11:14:55.309Z"
   },
   {
    "duration": 7,
    "start_time": "2023-02-18T11:14:55.331Z"
   },
   {
    "duration": 9,
    "start_time": "2023-02-18T11:14:55.339Z"
   },
   {
    "duration": 5,
    "start_time": "2023-02-18T11:14:55.350Z"
   },
   {
    "duration": 17,
    "start_time": "2023-02-18T11:14:55.356Z"
   },
   {
    "duration": 10,
    "start_time": "2023-02-18T11:17:58.640Z"
   },
   {
    "duration": 5,
    "start_time": "2023-02-18T11:18:57.262Z"
   },
   {
    "duration": 1151,
    "start_time": "2023-02-18T11:20:30.609Z"
   },
   {
    "duration": 51,
    "start_time": "2023-02-18T11:20:31.762Z"
   },
   {
    "duration": 21,
    "start_time": "2023-02-18T11:20:31.815Z"
   },
   {
    "duration": 25,
    "start_time": "2023-02-18T11:20:31.838Z"
   },
   {
    "duration": 4,
    "start_time": "2023-02-18T11:20:31.865Z"
   },
   {
    "duration": 22,
    "start_time": "2023-02-18T11:20:31.870Z"
   },
   {
    "duration": 39,
    "start_time": "2023-02-18T11:20:31.894Z"
   },
   {
    "duration": 3,
    "start_time": "2023-02-18T11:20:31.935Z"
   },
   {
    "duration": 32,
    "start_time": "2023-02-18T11:20:31.940Z"
   },
   {
    "duration": 12,
    "start_time": "2023-02-18T11:20:31.974Z"
   },
   {
    "duration": 12,
    "start_time": "2023-02-18T11:20:31.988Z"
   },
   {
    "duration": 26,
    "start_time": "2023-02-18T11:20:32.002Z"
   },
   {
    "duration": 13,
    "start_time": "2023-02-18T11:20:32.030Z"
   },
   {
    "duration": 9,
    "start_time": "2023-02-18T11:20:32.044Z"
   },
   {
    "duration": 36,
    "start_time": "2023-02-18T11:20:32.054Z"
   },
   {
    "duration": 25,
    "start_time": "2023-02-18T11:20:32.091Z"
   },
   {
    "duration": 6,
    "start_time": "2023-02-18T11:20:32.118Z"
   },
   {
    "duration": 22,
    "start_time": "2023-02-18T11:20:32.126Z"
   },
   {
    "duration": 24,
    "start_time": "2023-02-18T11:20:32.150Z"
   },
   {
    "duration": 333,
    "start_time": "2023-02-18T11:20:32.176Z"
   },
   {
    "duration": 40,
    "start_time": "2023-02-18T11:20:32.511Z"
   },
   {
    "duration": 4,
    "start_time": "2023-02-18T11:20:32.553Z"
   },
   {
    "duration": 14,
    "start_time": "2023-02-18T11:20:32.558Z"
   },
   {
    "duration": 15,
    "start_time": "2023-02-18T11:20:32.573Z"
   },
   {
    "duration": 18,
    "start_time": "2023-02-18T11:20:32.589Z"
   },
   {
    "duration": 372,
    "start_time": "2023-02-18T11:20:32.609Z"
   },
   {
    "duration": 338,
    "start_time": "2023-02-18T11:20:32.982Z"
   },
   {
    "duration": 28,
    "start_time": "2023-02-18T11:20:33.326Z"
   },
   {
    "duration": 14,
    "start_time": "2023-02-18T11:20:33.356Z"
   },
   {
    "duration": 60,
    "start_time": "2023-02-18T11:20:33.371Z"
   },
   {
    "duration": 715,
    "start_time": "2023-02-18T11:20:33.433Z"
   },
   {
    "duration": 16,
    "start_time": "2023-02-18T11:20:34.149Z"
   },
   {
    "duration": 501,
    "start_time": "2023-02-18T11:20:34.167Z"
   },
   {
    "duration": 5,
    "start_time": "2023-02-18T11:20:34.670Z"
   },
   {
    "duration": 309,
    "start_time": "2023-02-18T11:20:34.677Z"
   },
   {
    "duration": 288,
    "start_time": "2023-02-18T11:20:34.988Z"
   },
   {
    "duration": 475,
    "start_time": "2023-02-18T11:20:35.278Z"
   },
   {
    "duration": 610,
    "start_time": "2023-02-18T11:20:35.755Z"
   },
   {
    "duration": 791,
    "start_time": "2023-02-18T11:20:36.367Z"
   },
   {
    "duration": 507,
    "start_time": "2023-02-18T11:20:37.159Z"
   },
   {
    "duration": 992,
    "start_time": "2023-02-18T11:20:37.668Z"
   },
   {
    "duration": 502,
    "start_time": "2023-02-18T11:20:38.662Z"
   },
   {
    "duration": 5,
    "start_time": "2023-02-18T11:20:39.165Z"
   },
   {
    "duration": 5,
    "start_time": "2023-02-18T11:20:39.227Z"
   },
   {
    "duration": 19,
    "start_time": "2023-02-18T11:20:39.234Z"
   },
   {
    "duration": 6,
    "start_time": "2023-02-18T11:20:39.255Z"
   },
   {
    "duration": 7,
    "start_time": "2023-02-18T11:20:39.263Z"
   },
   {
    "duration": 59,
    "start_time": "2023-02-18T11:20:39.271Z"
   },
   {
    "duration": 4,
    "start_time": "2023-02-18T11:20:39.331Z"
   },
   {
    "duration": 23,
    "start_time": "2023-02-18T11:20:39.337Z"
   },
   {
    "duration": 41,
    "start_time": "2023-02-18T11:22:06.442Z"
   },
   {
    "duration": 16,
    "start_time": "2023-02-18T11:22:48.526Z"
   },
   {
    "duration": 17,
    "start_time": "2023-02-18T11:22:57.223Z"
   },
   {
    "duration": 279,
    "start_time": "2023-02-18T11:27:16.669Z"
   },
   {
    "duration": 273,
    "start_time": "2023-02-18T11:27:24.966Z"
   },
   {
    "duration": 296,
    "start_time": "2023-02-18T11:34:04.679Z"
   },
   {
    "duration": 6,
    "start_time": "2023-02-18T11:35:11.281Z"
   },
   {
    "duration": 5,
    "start_time": "2023-02-18T11:35:13.882Z"
   },
   {
    "duration": 292,
    "start_time": "2023-02-18T11:35:16.910Z"
   },
   {
    "duration": 5,
    "start_time": "2023-02-18T11:41:04.206Z"
   },
   {
    "duration": 5,
    "start_time": "2023-02-18T11:41:05.530Z"
   },
   {
    "duration": 288,
    "start_time": "2023-02-18T11:41:06.696Z"
   },
   {
    "duration": 302,
    "start_time": "2023-02-18T11:41:10.829Z"
   },
   {
    "duration": 291,
    "start_time": "2023-02-18T11:42:15.177Z"
   },
   {
    "duration": 268,
    "start_time": "2023-02-18T11:42:25.875Z"
   },
   {
    "duration": 10,
    "start_time": "2023-02-18T11:43:06.574Z"
   },
   {
    "duration": 123,
    "start_time": "2023-02-18T11:43:15.526Z"
   },
   {
    "duration": 8,
    "start_time": "2023-02-18T11:43:21.341Z"
   },
   {
    "duration": 6,
    "start_time": "2023-02-18T11:43:31.092Z"
   },
   {
    "duration": 1218,
    "start_time": "2023-02-18T11:43:40.044Z"
   },
   {
    "duration": 47,
    "start_time": "2023-02-18T11:43:41.264Z"
   },
   {
    "duration": 20,
    "start_time": "2023-02-18T11:43:41.313Z"
   },
   {
    "duration": 14,
    "start_time": "2023-02-18T11:43:41.335Z"
   },
   {
    "duration": 4,
    "start_time": "2023-02-18T11:43:41.350Z"
   },
   {
    "duration": 18,
    "start_time": "2023-02-18T11:43:41.355Z"
   },
   {
    "duration": 26,
    "start_time": "2023-02-18T11:43:41.374Z"
   },
   {
    "duration": 25,
    "start_time": "2023-02-18T11:43:41.402Z"
   },
   {
    "duration": 28,
    "start_time": "2023-02-18T11:43:41.429Z"
   },
   {
    "duration": 11,
    "start_time": "2023-02-18T11:43:41.459Z"
   },
   {
    "duration": 8,
    "start_time": "2023-02-18T11:43:41.472Z"
   },
   {
    "duration": 6,
    "start_time": "2023-02-18T11:43:41.482Z"
   },
   {
    "duration": 38,
    "start_time": "2023-02-18T11:43:41.490Z"
   },
   {
    "duration": 5,
    "start_time": "2023-02-18T11:43:41.529Z"
   },
   {
    "duration": 21,
    "start_time": "2023-02-18T11:43:41.536Z"
   },
   {
    "duration": 4,
    "start_time": "2023-02-18T11:43:41.559Z"
   },
   {
    "duration": 8,
    "start_time": "2023-02-18T11:43:41.564Z"
   },
   {
    "duration": 8,
    "start_time": "2023-02-18T11:43:41.574Z"
   },
   {
    "duration": 51,
    "start_time": "2023-02-18T11:43:41.583Z"
   },
   {
    "duration": 352,
    "start_time": "2023-02-18T11:43:41.636Z"
   },
   {
    "duration": 41,
    "start_time": "2023-02-18T11:43:41.989Z"
   },
   {
    "duration": 5,
    "start_time": "2023-02-18T11:43:42.032Z"
   },
   {
    "duration": 11,
    "start_time": "2023-02-18T11:43:42.038Z"
   },
   {
    "duration": 6,
    "start_time": "2023-02-18T11:43:42.050Z"
   },
   {
    "duration": 18,
    "start_time": "2023-02-18T11:43:42.057Z"
   },
   {
    "duration": 357,
    "start_time": "2023-02-18T11:43:42.077Z"
   },
   {
    "duration": 339,
    "start_time": "2023-02-18T11:43:42.436Z"
   },
   {
    "duration": 22,
    "start_time": "2023-02-18T11:43:42.779Z"
   },
   {
    "duration": 25,
    "start_time": "2023-02-18T11:43:42.803Z"
   },
   {
    "duration": 15,
    "start_time": "2023-02-18T11:43:42.830Z"
   },
   {
    "duration": 682,
    "start_time": "2023-02-18T11:43:42.847Z"
   },
   {
    "duration": 17,
    "start_time": "2023-02-18T11:43:43.531Z"
   },
   {
    "duration": 491,
    "start_time": "2023-02-18T11:43:43.550Z"
   },
   {
    "duration": 5,
    "start_time": "2023-02-18T11:43:44.043Z"
   },
   {
    "duration": 278,
    "start_time": "2023-02-18T11:43:44.049Z"
   },
   {
    "duration": 6,
    "start_time": "2023-02-18T11:43:44.328Z"
   },
   {
    "duration": 8,
    "start_time": "2023-02-18T11:43:44.335Z"
   },
   {
    "duration": 326,
    "start_time": "2023-02-18T11:43:44.345Z"
   },
   {
    "duration": 291,
    "start_time": "2023-02-18T11:43:44.674Z"
   },
   {
    "duration": 328,
    "start_time": "2023-02-18T11:43:44.967Z"
   },
   {
    "duration": 370,
    "start_time": "2023-02-18T11:43:45.297Z"
   },
   {
    "duration": 285,
    "start_time": "2023-02-18T11:43:45.669Z"
   },
   {
    "duration": 394,
    "start_time": "2023-02-18T11:43:45.956Z"
   },
   {
    "duration": 252,
    "start_time": "2023-02-18T11:43:46.352Z"
   },
   {
    "duration": 5,
    "start_time": "2023-02-18T11:43:46.606Z"
   },
   {
    "duration": 22,
    "start_time": "2023-02-18T11:43:46.613Z"
   },
   {
    "duration": 29,
    "start_time": "2023-02-18T11:43:46.637Z"
   },
   {
    "duration": 5,
    "start_time": "2023-02-18T11:43:46.668Z"
   },
   {
    "duration": 7,
    "start_time": "2023-02-18T11:43:46.675Z"
   },
   {
    "duration": 14,
    "start_time": "2023-02-18T11:43:46.684Z"
   },
   {
    "duration": 6,
    "start_time": "2023-02-18T11:43:46.699Z"
   },
   {
    "duration": 12,
    "start_time": "2023-02-18T11:43:46.707Z"
   },
   {
    "duration": 385,
    "start_time": "2023-02-18T11:51:11.580Z"
   },
   {
    "duration": 392,
    "start_time": "2023-02-18T11:53:08.857Z"
   },
   {
    "duration": 383,
    "start_time": "2023-02-18T11:53:18.676Z"
   },
   {
    "duration": 361,
    "start_time": "2023-02-18T11:53:24.757Z"
   },
   {
    "duration": 668,
    "start_time": "2023-02-18T11:53:30.266Z"
   },
   {
    "duration": 415,
    "start_time": "2023-02-18T11:54:46.106Z"
   },
   {
    "duration": 6,
    "start_time": "2023-02-18T12:28:18.201Z"
   },
   {
    "duration": 248,
    "start_time": "2023-02-18T12:28:24.157Z"
   },
   {
    "duration": 279,
    "start_time": "2023-02-18T12:28:30.648Z"
   },
   {
    "duration": 97,
    "start_time": "2023-02-18T12:29:57.220Z"
   },
   {
    "duration": 10,
    "start_time": "2023-02-18T12:30:02.451Z"
   },
   {
    "duration": 7,
    "start_time": "2023-02-18T12:30:06.765Z"
   },
   {
    "duration": 7,
    "start_time": "2023-02-18T12:31:04.836Z"
   },
   {
    "duration": 11,
    "start_time": "2023-02-18T12:32:21.959Z"
   },
   {
    "duration": 17,
    "start_time": "2023-02-18T12:33:46.623Z"
   },
   {
    "duration": 10,
    "start_time": "2023-02-18T12:35:14.698Z"
   },
   {
    "duration": 8,
    "start_time": "2023-02-18T12:35:32.078Z"
   },
   {
    "duration": 8,
    "start_time": "2023-02-18T12:36:08.874Z"
   },
   {
    "duration": 11,
    "start_time": "2023-02-18T12:36:22.132Z"
   },
   {
    "duration": 16,
    "start_time": "2023-02-18T12:36:54.099Z"
   },
   {
    "duration": 6,
    "start_time": "2023-02-18T12:37:12.236Z"
   },
   {
    "duration": 5,
    "start_time": "2023-02-18T12:38:11.379Z"
   },
   {
    "duration": 3,
    "start_time": "2023-02-18T13:05:31.220Z"
   },
   {
    "duration": 1152,
    "start_time": "2023-02-18T13:06:14.007Z"
   },
   {
    "duration": 49,
    "start_time": "2023-02-18T13:06:15.162Z"
   },
   {
    "duration": 21,
    "start_time": "2023-02-18T13:06:15.213Z"
   },
   {
    "duration": 15,
    "start_time": "2023-02-18T13:06:15.236Z"
   },
   {
    "duration": 4,
    "start_time": "2023-02-18T13:06:15.253Z"
   },
   {
    "duration": 18,
    "start_time": "2023-02-18T13:06:15.259Z"
   },
   {
    "duration": 50,
    "start_time": "2023-02-18T13:06:15.280Z"
   },
   {
    "duration": 4,
    "start_time": "2023-02-18T13:06:15.332Z"
   },
   {
    "duration": 29,
    "start_time": "2023-02-18T13:06:15.338Z"
   },
   {
    "duration": 12,
    "start_time": "2023-02-18T13:06:15.370Z"
   },
   {
    "duration": 10,
    "start_time": "2023-02-18T13:06:15.383Z"
   },
   {
    "duration": 34,
    "start_time": "2023-02-18T13:06:15.394Z"
   },
   {
    "duration": 13,
    "start_time": "2023-02-18T13:06:15.430Z"
   },
   {
    "duration": 9,
    "start_time": "2023-02-18T13:06:15.445Z"
   },
   {
    "duration": 23,
    "start_time": "2023-02-18T13:06:15.456Z"
   },
   {
    "duration": 5,
    "start_time": "2023-02-18T13:06:15.480Z"
   },
   {
    "duration": 6,
    "start_time": "2023-02-18T13:06:15.486Z"
   },
   {
    "duration": 34,
    "start_time": "2023-02-18T13:06:15.494Z"
   },
   {
    "duration": 20,
    "start_time": "2023-02-18T13:06:15.530Z"
   },
   {
    "duration": 348,
    "start_time": "2023-02-18T13:06:15.552Z"
   },
   {
    "duration": 42,
    "start_time": "2023-02-18T13:06:15.902Z"
   },
   {
    "duration": 7,
    "start_time": "2023-02-18T13:06:15.945Z"
   },
   {
    "duration": 10,
    "start_time": "2023-02-18T13:06:15.953Z"
   },
   {
    "duration": 7,
    "start_time": "2023-02-18T13:06:15.964Z"
   },
   {
    "duration": 19,
    "start_time": "2023-02-18T13:06:15.973Z"
   },
   {
    "duration": 353,
    "start_time": "2023-02-18T13:06:15.993Z"
   },
   {
    "duration": 364,
    "start_time": "2023-02-18T13:06:16.348Z"
   },
   {
    "duration": 33,
    "start_time": "2023-02-18T13:06:16.716Z"
   },
   {
    "duration": 16,
    "start_time": "2023-02-18T13:06:16.750Z"
   },
   {
    "duration": 48,
    "start_time": "2023-02-18T13:06:16.768Z"
   },
   {
    "duration": 699,
    "start_time": "2023-02-18T13:06:16.817Z"
   },
   {
    "duration": 21,
    "start_time": "2023-02-18T13:06:17.518Z"
   },
   {
    "duration": 510,
    "start_time": "2023-02-18T13:06:17.541Z"
   },
   {
    "duration": 4,
    "start_time": "2023-02-18T13:06:18.053Z"
   },
   {
    "duration": 261,
    "start_time": "2023-02-18T13:06:18.059Z"
   },
   {
    "duration": 9,
    "start_time": "2023-02-18T13:06:18.322Z"
   },
   {
    "duration": 5,
    "start_time": "2023-02-18T13:06:18.333Z"
   },
   {
    "duration": 300,
    "start_time": "2023-02-18T13:06:18.340Z"
   },
   {
    "duration": 293,
    "start_time": "2023-02-18T13:06:18.641Z"
   },
   {
    "duration": 306,
    "start_time": "2023-02-18T13:06:18.935Z"
   },
   {
    "duration": 520,
    "start_time": "2023-02-18T13:06:19.243Z"
   },
   {
    "duration": 63,
    "start_time": "2023-02-18T13:06:19.765Z"
   },
   {
    "duration": 598,
    "start_time": "2023-02-18T13:06:19.829Z"
   },
   {
    "duration": 817,
    "start_time": "2023-02-18T13:06:20.429Z"
   },
   {
    "duration": 6,
    "start_time": "2023-02-18T13:06:21.248Z"
   },
   {
    "duration": 8,
    "start_time": "2023-02-18T13:06:21.256Z"
   },
   {
    "duration": 8,
    "start_time": "2023-02-18T13:06:21.266Z"
   },
   {
    "duration": 55,
    "start_time": "2023-02-18T13:06:21.276Z"
   },
   {
    "duration": 7,
    "start_time": "2023-02-18T13:06:21.334Z"
   },
   {
    "duration": 6,
    "start_time": "2023-02-18T13:06:21.343Z"
   },
   {
    "duration": 12,
    "start_time": "2023-02-18T13:06:21.350Z"
   },
   {
    "duration": 4,
    "start_time": "2023-02-18T13:06:21.364Z"
   },
   {
    "duration": 5,
    "start_time": "2023-02-18T13:06:21.370Z"
   },
   {
    "duration": 4,
    "start_time": "2023-02-18T13:07:36.093Z"
   },
   {
    "duration": 7,
    "start_time": "2023-02-18T13:25:32.878Z"
   },
   {
    "duration": 9,
    "start_time": "2023-02-18T13:27:06.468Z"
   },
   {
    "duration": 237,
    "start_time": "2023-02-18T13:27:25.584Z"
   },
   {
    "duration": 262,
    "start_time": "2023-02-18T13:27:34.637Z"
   },
   {
    "duration": 4,
    "start_time": "2023-02-18T13:56:17.370Z"
   },
   {
    "duration": 4,
    "start_time": "2023-02-18T13:58:30.098Z"
   },
   {
    "duration": 9,
    "start_time": "2023-02-18T13:58:35.572Z"
   },
   {
    "duration": 8,
    "start_time": "2023-02-18T14:04:51.883Z"
   },
   {
    "duration": 4,
    "start_time": "2023-02-18T14:05:25.731Z"
   },
   {
    "duration": 4,
    "start_time": "2023-02-18T14:05:29.279Z"
   },
   {
    "duration": 1144,
    "start_time": "2023-02-18T14:15:46.829Z"
   },
   {
    "duration": 49,
    "start_time": "2023-02-18T14:15:47.975Z"
   },
   {
    "duration": 20,
    "start_time": "2023-02-18T14:15:48.026Z"
   },
   {
    "duration": 14,
    "start_time": "2023-02-18T14:15:48.048Z"
   },
   {
    "duration": 3,
    "start_time": "2023-02-18T14:15:48.064Z"
   },
   {
    "duration": 17,
    "start_time": "2023-02-18T14:15:48.069Z"
   },
   {
    "duration": 50,
    "start_time": "2023-02-18T14:15:48.087Z"
   },
   {
    "duration": 4,
    "start_time": "2023-02-18T14:15:48.138Z"
   },
   {
    "duration": 31,
    "start_time": "2023-02-18T14:15:48.143Z"
   },
   {
    "duration": 12,
    "start_time": "2023-02-18T14:15:48.175Z"
   },
   {
    "duration": 9,
    "start_time": "2023-02-18T14:15:48.189Z"
   },
   {
    "duration": 6,
    "start_time": "2023-02-18T14:15:48.226Z"
   },
   {
    "duration": 17,
    "start_time": "2023-02-18T14:15:48.233Z"
   },
   {
    "duration": 12,
    "start_time": "2023-02-18T14:15:48.253Z"
   },
   {
    "duration": 25,
    "start_time": "2023-02-18T14:15:48.266Z"
   },
   {
    "duration": 4,
    "start_time": "2023-02-18T14:15:48.293Z"
   },
   {
    "duration": 14,
    "start_time": "2023-02-18T14:15:48.298Z"
   },
   {
    "duration": 18,
    "start_time": "2023-02-18T14:15:48.314Z"
   },
   {
    "duration": 28,
    "start_time": "2023-02-18T14:15:48.334Z"
   },
   {
    "duration": 367,
    "start_time": "2023-02-18T14:15:48.364Z"
   },
   {
    "duration": 31,
    "start_time": "2023-02-18T14:15:48.733Z"
   },
   {
    "duration": 4,
    "start_time": "2023-02-18T14:15:48.766Z"
   },
   {
    "duration": 20,
    "start_time": "2023-02-18T14:15:48.771Z"
   },
   {
    "duration": 6,
    "start_time": "2023-02-18T14:15:48.792Z"
   },
   {
    "duration": 31,
    "start_time": "2023-02-18T14:15:48.799Z"
   },
   {
    "duration": 342,
    "start_time": "2023-02-18T14:15:48.831Z"
   },
   {
    "duration": 333,
    "start_time": "2023-02-18T14:15:49.175Z"
   },
   {
    "duration": 30,
    "start_time": "2023-02-18T14:15:49.510Z"
   },
   {
    "duration": 68,
    "start_time": "2023-02-18T14:15:49.542Z"
   },
   {
    "duration": 28,
    "start_time": "2023-02-18T14:15:49.612Z"
   },
   {
    "duration": 702,
    "start_time": "2023-02-18T14:15:49.641Z"
   },
   {
    "duration": 16,
    "start_time": "2023-02-18T14:15:50.345Z"
   },
   {
    "duration": 572,
    "start_time": "2023-02-18T14:15:50.363Z"
   },
   {
    "duration": 5,
    "start_time": "2023-02-18T14:15:50.937Z"
   },
   {
    "duration": 286,
    "start_time": "2023-02-18T14:15:50.944Z"
   },
   {
    "duration": 5,
    "start_time": "2023-02-18T14:15:51.232Z"
   },
   {
    "duration": 6,
    "start_time": "2023-02-18T14:15:51.238Z"
   },
   {
    "duration": 292,
    "start_time": "2023-02-18T14:15:51.246Z"
   },
   {
    "duration": 276,
    "start_time": "2023-02-18T14:15:51.540Z"
   },
   {
    "duration": 315,
    "start_time": "2023-02-18T14:15:51.818Z"
   },
   {
    "duration": 379,
    "start_time": "2023-02-18T14:15:52.137Z"
   },
   {
    "duration": 11,
    "start_time": "2023-02-18T14:15:52.518Z"
   },
   {
    "duration": 271,
    "start_time": "2023-02-18T14:15:52.530Z"
   },
   {
    "duration": 373,
    "start_time": "2023-02-18T14:15:52.803Z"
   },
   {
    "duration": 262,
    "start_time": "2023-02-18T14:15:53.177Z"
   },
   {
    "duration": 4,
    "start_time": "2023-02-18T14:15:53.441Z"
   },
   {
    "duration": 7,
    "start_time": "2023-02-18T14:15:53.447Z"
   },
   {
    "duration": 6,
    "start_time": "2023-02-18T14:15:53.456Z"
   },
   {
    "duration": 8,
    "start_time": "2023-02-18T14:15:53.464Z"
   },
   {
    "duration": 14,
    "start_time": "2023-02-18T14:15:53.473Z"
   },
   {
    "duration": 20,
    "start_time": "2023-02-18T14:15:53.489Z"
   },
   {
    "duration": 17,
    "start_time": "2023-02-18T14:15:53.511Z"
   },
   {
    "duration": 16,
    "start_time": "2023-02-18T14:15:53.530Z"
   },
   {
    "duration": 7,
    "start_time": "2023-02-18T14:15:53.547Z"
   },
   {
    "duration": 7,
    "start_time": "2023-02-18T14:15:53.555Z"
   },
   {
    "duration": 1202,
    "start_time": "2023-02-18T22:14:35.011Z"
   },
   {
    "duration": 47,
    "start_time": "2023-02-18T22:14:36.214Z"
   },
   {
    "duration": 19,
    "start_time": "2023-02-18T22:14:36.262Z"
   },
   {
    "duration": 12,
    "start_time": "2023-02-18T22:14:36.282Z"
   },
   {
    "duration": 2,
    "start_time": "2023-02-18T22:14:36.296Z"
   },
   {
    "duration": 15,
    "start_time": "2023-02-18T22:14:36.302Z"
   },
   {
    "duration": 25,
    "start_time": "2023-02-18T22:14:36.318Z"
   },
   {
    "duration": 4,
    "start_time": "2023-02-18T22:14:36.345Z"
   },
   {
    "duration": 29,
    "start_time": "2023-02-18T22:14:36.350Z"
   },
   {
    "duration": 12,
    "start_time": "2023-02-18T22:14:36.402Z"
   },
   {
    "duration": 8,
    "start_time": "2023-02-18T22:14:36.416Z"
   },
   {
    "duration": 4,
    "start_time": "2023-02-18T22:14:36.426Z"
   },
   {
    "duration": 15,
    "start_time": "2023-02-18T22:14:36.432Z"
   },
   {
    "duration": 6,
    "start_time": "2023-02-18T22:14:36.449Z"
   },
   {
    "duration": 52,
    "start_time": "2023-02-18T22:14:36.457Z"
   },
   {
    "duration": 5,
    "start_time": "2023-02-18T22:14:36.511Z"
   },
   {
    "duration": 7,
    "start_time": "2023-02-18T22:14:36.517Z"
   },
   {
    "duration": 9,
    "start_time": "2023-02-18T22:14:36.526Z"
   },
   {
    "duration": 24,
    "start_time": "2023-02-18T22:14:36.537Z"
   },
   {
    "duration": 344,
    "start_time": "2023-02-18T22:14:36.562Z"
   },
   {
    "duration": 31,
    "start_time": "2023-02-18T22:14:36.908Z"
   },
   {
    "duration": 4,
    "start_time": "2023-02-18T22:14:36.941Z"
   },
   {
    "duration": 10,
    "start_time": "2023-02-18T22:14:36.946Z"
   },
   {
    "duration": 4,
    "start_time": "2023-02-18T22:14:36.958Z"
   },
   {
    "duration": 44,
    "start_time": "2023-02-18T22:14:36.964Z"
   },
   {
    "duration": 322,
    "start_time": "2023-02-18T22:14:37.010Z"
   },
   {
    "duration": 314,
    "start_time": "2023-02-18T22:14:37.333Z"
   },
   {
    "duration": 22,
    "start_time": "2023-02-18T22:14:37.651Z"
   },
   {
    "duration": 30,
    "start_time": "2023-02-18T22:14:37.675Z"
   },
   {
    "duration": 15,
    "start_time": "2023-02-18T22:14:37.706Z"
   },
   {
    "duration": 652,
    "start_time": "2023-02-18T22:14:37.723Z"
   },
   {
    "duration": 16,
    "start_time": "2023-02-18T22:14:38.377Z"
   },
   {
    "duration": 462,
    "start_time": "2023-02-18T22:14:38.395Z"
   },
   {
    "duration": 4,
    "start_time": "2023-02-18T22:14:38.859Z"
   },
   {
    "duration": 249,
    "start_time": "2023-02-18T22:14:38.865Z"
   },
   {
    "duration": 5,
    "start_time": "2023-02-18T22:14:39.116Z"
   },
   {
    "duration": 8,
    "start_time": "2023-02-18T22:14:39.123Z"
   },
   {
    "duration": 297,
    "start_time": "2023-02-18T22:14:39.133Z"
   },
   {
    "duration": 262,
    "start_time": "2023-02-18T22:14:39.432Z"
   },
   {
    "duration": 290,
    "start_time": "2023-02-18T22:14:39.696Z"
   },
   {
    "duration": 439,
    "start_time": "2023-02-18T22:14:39.987Z"
   },
   {
    "duration": 6,
    "start_time": "2023-02-18T22:14:40.428Z"
   },
   {
    "duration": 500,
    "start_time": "2023-02-18T22:14:40.435Z"
   },
   {
    "duration": 776,
    "start_time": "2023-02-18T22:14:40.936Z"
   },
   {
    "duration": 371,
    "start_time": "2023-02-18T22:14:41.714Z"
   },
   {
    "duration": 5,
    "start_time": "2023-02-18T22:14:42.086Z"
   },
   {
    "duration": 12,
    "start_time": "2023-02-18T22:14:42.092Z"
   },
   {
    "duration": 13,
    "start_time": "2023-02-18T22:14:42.106Z"
   },
   {
    "duration": 12,
    "start_time": "2023-02-18T22:14:42.121Z"
   },
   {
    "duration": 15,
    "start_time": "2023-02-18T22:14:42.135Z"
   },
   {
    "duration": 18,
    "start_time": "2023-02-18T22:14:42.151Z"
   },
   {
    "duration": 14,
    "start_time": "2023-02-18T22:14:42.171Z"
   },
   {
    "duration": 13,
    "start_time": "2023-02-18T22:14:42.188Z"
   },
   {
    "duration": 5,
    "start_time": "2023-02-18T22:14:42.203Z"
   },
   {
    "duration": 8,
    "start_time": "2023-02-18T22:14:42.210Z"
   },
   {
    "duration": 1558,
    "start_time": "2023-02-19T12:32:41.936Z"
   },
   {
    "duration": 144,
    "start_time": "2023-02-19T12:32:43.497Z"
   },
   {
    "duration": 33,
    "start_time": "2023-02-19T12:32:43.644Z"
   },
   {
    "duration": 17,
    "start_time": "2023-02-19T12:32:43.680Z"
   },
   {
    "duration": 7,
    "start_time": "2023-02-19T12:32:43.707Z"
   },
   {
    "duration": 43,
    "start_time": "2023-02-19T12:32:43.716Z"
   },
   {
    "duration": 29,
    "start_time": "2023-02-19T12:32:43.761Z"
   },
   {
    "duration": 4,
    "start_time": "2023-02-19T12:32:43.792Z"
   },
   {
    "duration": 45,
    "start_time": "2023-02-19T12:32:43.798Z"
   },
   {
    "duration": 16,
    "start_time": "2023-02-19T12:32:43.846Z"
   },
   {
    "duration": 11,
    "start_time": "2023-02-19T12:32:43.864Z"
   },
   {
    "duration": 7,
    "start_time": "2023-02-19T12:32:43.877Z"
   },
   {
    "duration": 49,
    "start_time": "2023-02-19T12:32:43.903Z"
   },
   {
    "duration": 8,
    "start_time": "2023-02-19T12:32:43.956Z"
   },
   {
    "duration": 23,
    "start_time": "2023-02-19T12:32:43.966Z"
   },
   {
    "duration": 6,
    "start_time": "2023-02-19T12:32:43.991Z"
   },
   {
    "duration": 11,
    "start_time": "2023-02-19T12:32:43.999Z"
   },
   {
    "duration": 55,
    "start_time": "2023-02-19T12:32:44.012Z"
   },
   {
    "duration": 39,
    "start_time": "2023-02-19T12:32:44.068Z"
   },
   {
    "duration": 474,
    "start_time": "2023-02-19T12:32:44.116Z"
   },
   {
    "duration": 58,
    "start_time": "2023-02-19T12:32:44.592Z"
   },
   {
    "duration": 17,
    "start_time": "2023-02-19T12:32:44.653Z"
   },
   {
    "duration": 26,
    "start_time": "2023-02-19T12:32:44.673Z"
   },
   {
    "duration": 21,
    "start_time": "2023-02-19T12:32:44.701Z"
   },
   {
    "duration": 44,
    "start_time": "2023-02-19T12:32:44.724Z"
   },
   {
    "duration": 395,
    "start_time": "2023-02-19T12:32:44.770Z"
   },
   {
    "duration": 409,
    "start_time": "2023-02-19T12:32:45.167Z"
   },
   {
    "duration": 42,
    "start_time": "2023-02-19T12:32:45.578Z"
   },
   {
    "duration": 21,
    "start_time": "2023-02-19T12:32:45.622Z"
   },
   {
    "duration": 20,
    "start_time": "2023-02-19T12:32:45.645Z"
   },
   {
    "duration": 814,
    "start_time": "2023-02-19T12:32:45.667Z"
   },
   {
    "duration": 30,
    "start_time": "2023-02-19T12:32:46.483Z"
   },
   {
    "duration": 1408,
    "start_time": "2023-02-19T12:32:46.515Z"
   },
   {
    "duration": 7,
    "start_time": "2023-02-19T12:32:47.931Z"
   },
   {
    "duration": 809,
    "start_time": "2023-02-19T12:32:47.940Z"
   },
   {
    "duration": 71,
    "start_time": "2023-02-19T12:32:48.752Z"
   },
   {
    "duration": 22,
    "start_time": "2023-02-19T12:32:48.826Z"
   },
   {
    "duration": 481,
    "start_time": "2023-02-19T12:32:48.850Z"
   },
   {
    "duration": 358,
    "start_time": "2023-02-19T12:32:49.338Z"
   },
   {
    "duration": 372,
    "start_time": "2023-02-19T12:32:49.698Z"
   },
   {
    "duration": 414,
    "start_time": "2023-02-19T12:32:50.075Z"
   },
   {
    "duration": 6,
    "start_time": "2023-02-19T12:32:50.491Z"
   },
   {
    "duration": 318,
    "start_time": "2023-02-19T12:32:50.510Z"
   },
   {
    "duration": 422,
    "start_time": "2023-02-19T12:32:50.830Z"
   },
   {
    "duration": 327,
    "start_time": "2023-02-19T12:32:51.256Z"
   },
   {
    "duration": 5,
    "start_time": "2023-02-19T12:32:51.586Z"
   },
   {
    "duration": 39,
    "start_time": "2023-02-19T12:32:51.604Z"
   },
   {
    "duration": 9,
    "start_time": "2023-02-19T12:32:51.645Z"
   },
   {
    "duration": 10,
    "start_time": "2023-02-19T12:32:51.656Z"
   },
   {
    "duration": 15,
    "start_time": "2023-02-19T12:32:51.668Z"
   },
   {
    "duration": 5,
    "start_time": "2023-02-19T12:32:51.685Z"
   },
   {
    "duration": 7,
    "start_time": "2023-02-19T12:32:51.692Z"
   },
   {
    "duration": 49,
    "start_time": "2023-02-19T12:32:51.701Z"
   },
   {
    "duration": 7,
    "start_time": "2023-02-19T12:32:51.752Z"
   },
   {
    "duration": 6,
    "start_time": "2023-02-19T12:32:51.761Z"
   }
  ],
  "kernelspec": {
   "display_name": "Python 3 (ipykernel)",
   "language": "python",
   "name": "python3"
  },
  "language_info": {
   "codemirror_mode": {
    "name": "ipython",
    "version": 3
   },
   "file_extension": ".py",
   "mimetype": "text/x-python",
   "name": "python",
   "nbconvert_exporter": "python",
   "pygments_lexer": "ipython3",
   "version": "3.9.5"
  },
  "toc": {
   "base_numbering": 1,
   "nav_menu": {},
   "number_sections": true,
   "sideBar": true,
   "skip_h1_title": true,
   "title_cell": "Table of Contents",
   "title_sidebar": "Contents",
   "toc_cell": false,
   "toc_position": {
    "height": "calc(100% - 180px)",
    "left": "10px",
    "top": "150px",
    "width": "366.2px"
   },
   "toc_section_display": true,
   "toc_window_display": true
  }
 },
 "nbformat": 4,
 "nbformat_minor": 2
}
