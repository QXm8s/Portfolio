{
 "cells": [
  {
   "cell_type": "markdown",
   "metadata": {},
   "source": [
    "# РЕШЕНИЕ ЗАДАЧИ БИНАРНОЙ КЛАССИФИКАЦИИ В УСЛОВИЯХ ДИСБАЛАНСА КЛАССОВ НА ПРИМЕРЕ ОТТОКА КЛИЕНТОВ БАНКА"
   ]
  },
  {
   "cell_type": "markdown",
   "metadata": {
    "toc": true
   },
   "source": [
    "<h1>Содержание<span class=\"tocSkip\"></span></h1>\n",
    "<div class=\"toc\"><ul class=\"toc-item\"><li><span><a href=\"#Описание-проекта\" data-toc-modified-id=\"Описание-проекта-1\"><span class=\"toc-item-num\">1&nbsp;&nbsp;</span>Описание проекта</a></span><ul class=\"toc-item\"><li><span><a href=\"#Постановка-задачи\" data-toc-modified-id=\"Постановка-задачи-1.1\"><span class=\"toc-item-num\">1.1&nbsp;&nbsp;</span>Постановка задачи</a></span></li></ul></li><li><span><a href=\"#Обзор-данных\" data-toc-modified-id=\"Обзор-данных-2\"><span class=\"toc-item-num\">2&nbsp;&nbsp;</span>Обзор данных</a></span></li><li><span><a href=\"#Подготовка-данных\" data-toc-modified-id=\"Подготовка-данных-3\"><span class=\"toc-item-num\">3&nbsp;&nbsp;</span>Подготовка данных</a></span><ul class=\"toc-item\"><li><span><a href=\"#Переименование-столбцов\" data-toc-modified-id=\"Переименование-столбцов-3.1\"><span class=\"toc-item-num\">3.1&nbsp;&nbsp;</span>Переименование столбцов</a></span></li><li><span><a href=\"#Работа-с-пропусками\" data-toc-modified-id=\"Работа-с-пропусками-3.2\"><span class=\"toc-item-num\">3.2&nbsp;&nbsp;</span>Работа с пропусками</a></span></li><li><span><a href=\"#Выбор-признаков\" data-toc-modified-id=\"Выбор-признаков-3.3\"><span class=\"toc-item-num\">3.3&nbsp;&nbsp;</span>Выбор признаков</a></span></li><li><span><a href=\"#Формирование-выборок\" data-toc-modified-id=\"Формирование-выборок-3.4\"><span class=\"toc-item-num\">3.4&nbsp;&nbsp;</span>Формирование выборок</a></span></li><li><span><a href=\"#Кодирование-признаков\" data-toc-modified-id=\"Кодирование-признаков-3.5\"><span class=\"toc-item-num\">3.5&nbsp;&nbsp;</span>Кодирование признаков</a></span></li><li><span><a href=\"#Масштабирование-признаков\" data-toc-modified-id=\"Масштабирование-признаков-3.6\"><span class=\"toc-item-num\">3.6&nbsp;&nbsp;</span>Масштабирование признаков</a></span></li><li><span><a href=\"#Проверка\" data-toc-modified-id=\"Проверка-3.7\"><span class=\"toc-item-num\">3.7&nbsp;&nbsp;</span>Проверка</a></span></li></ul></li><li><span><a href=\"#Исследование-задачи\" data-toc-modified-id=\"Исследование-задачи-4\"><span class=\"toc-item-num\">4&nbsp;&nbsp;</span>Исследование задачи</a></span></li><li><span><a href=\"#Борьба-с-дисбалансом\" data-toc-modified-id=\"Борьба-с-дисбалансом-5\"><span class=\"toc-item-num\">5&nbsp;&nbsp;</span>Борьба с дисбалансом</a></span><ul class=\"toc-item\"><li><span><a href=\"#Без-борьбы,-как-есть-(None)\" data-toc-modified-id=\"Без-борьбы,-как-есть-(None)-5.1\"><span class=\"toc-item-num\">5.1&nbsp;&nbsp;</span>Без борьбы, как есть (None)</a></span></li><li><span><a href=\"#Пересемплирование-(Upsampling)\" data-toc-modified-id=\"Пересемплирование-(Upsampling)-5.2\"><span class=\"toc-item-num\">5.2&nbsp;&nbsp;</span>Пересемплирование (Upsampling)</a></span></li><li><span><a href=\"#Недосемплирование-(Downsampling)\" data-toc-modified-id=\"Недосемплирование-(Downsampling)-5.3\"><span class=\"toc-item-num\">5.3&nbsp;&nbsp;</span>Недосемплирование (Downsampling)</a></span></li><li><span><a href=\"#Взвешивание-классов-(Class-weight)\" data-toc-modified-id=\"Взвешивание-классов-(Class-weight)-5.4\"><span class=\"toc-item-num\">5.4&nbsp;&nbsp;</span>Взвешивание классов (Class weight)</a></span></li><li><span><a href=\"#Порог-классификации-(Threshold)\" data-toc-modified-id=\"Порог-классификации-(Threshold)-5.5\"><span class=\"toc-item-num\">5.5&nbsp;&nbsp;</span>Порог классификации (Threshold)</a></span></li><li><span><a href=\"#Предварительный-итог\" data-toc-modified-id=\"Предварительный-итог-5.6\"><span class=\"toc-item-num\">5.6&nbsp;&nbsp;</span>Предварительный итог</a></span></li></ul></li><li><span><a href=\"#Тестирование-модели\" data-toc-modified-id=\"Тестирование-модели-6\"><span class=\"toc-item-num\">6&nbsp;&nbsp;</span>Тестирование модели</a></span><ul class=\"toc-item\"><li><span><a href=\"#Гиперпараметры-по-умолчанию\" data-toc-modified-id=\"Гиперпараметры-по-умолчанию-6.1\"><span class=\"toc-item-num\">6.1&nbsp;&nbsp;</span>Гиперпараметры по-умолчанию</a></span></li><li><span><a href=\"#Подбор-гиперпараметров\" data-toc-modified-id=\"Подбор-гиперпараметров-6.2\"><span class=\"toc-item-num\">6.2&nbsp;&nbsp;</span>Подбор гиперпараметров</a></span></li><li><span><a href=\"#Оптимальные-гиперпараметры\" data-toc-modified-id=\"Оптимальные-гиперпараметры-6.3\"><span class=\"toc-item-num\">6.3&nbsp;&nbsp;</span>Оптимальные гиперпараметры</a></span></li><li><span><a href=\"#PR-и-ROC-кривые\" data-toc-modified-id=\"PR-и-ROC-кривые-6.4\"><span class=\"toc-item-num\">6.4&nbsp;&nbsp;</span>PR и ROC кривые</a></span></li></ul></li><li><span><a href=\"#Выводы\" data-toc-modified-id=\"Выводы-7\"><span class=\"toc-item-num\">7&nbsp;&nbsp;</span>Выводы</a></span><ul class=\"toc-item\"><li><span><a href=\"#Обзор-и-подготовка-данных\" data-toc-modified-id=\"Обзор-и-подготовка-данных-7.1\"><span class=\"toc-item-num\">7.1&nbsp;&nbsp;</span>Обзор и подготовка данных</a></span></li><li><span><a href=\"#Исследование-задачи\" data-toc-modified-id=\"Исследование-задачи-7.2\"><span class=\"toc-item-num\">7.2&nbsp;&nbsp;</span>Исследование задачи</a></span></li><li><span><a href=\"#Формирование-выборок\" data-toc-modified-id=\"Формирование-выборок-7.3\"><span class=\"toc-item-num\">7.3&nbsp;&nbsp;</span>Формирование выборок</a></span></li><li><span><a href=\"#Барьба-с-дисбалансом\" data-toc-modified-id=\"Барьба-с-дисбалансом-7.4\"><span class=\"toc-item-num\">7.4&nbsp;&nbsp;</span>Барьба с дисбалансом</a></span></li><li><span><a href=\"#Тестирование-модели\" data-toc-modified-id=\"Тестирование-модели-7.5\"><span class=\"toc-item-num\">7.5&nbsp;&nbsp;</span>Тестирование модели</a></span></li></ul></li><li><span><a href=\"#Чек-лист-готовности-проекта\" data-toc-modified-id=\"Чек-лист-готовности-проекта-8\"><span class=\"toc-item-num\">8&nbsp;&nbsp;</span>Чек-лист готовности проекта</a></span></li></ul></div>"
   ]
  },
  {
   "cell_type": "markdown",
   "metadata": {},
   "source": [
    "## Описание проекта\n",
    "Из «Бета-Банка» стали уходить клиенты. Каждый месяц - немного, но заметно. Банковские маркетологи посчитали: сохранять текущих клиентов дешевле, чем привлекать новых. Вам предоставлены исторические данные о поведении клиентов и расторжении договоров с банком. \n",
    "\n",
    "**Описание данных**  \n",
    "Признаки:\n",
    "- RowNumber — индекс строки в данных,\n",
    "- CustomerId — уникальный идентификатор клиента,\n",
    "- Surname — фамилия,\n",
    "- CreditScore — кредитный рейтинг,\n",
    "- Geography — страна проживания,\n",
    "- Gender — пол,\n",
    "- Age — возраст,\n",
    "- Tenure — сколько лет человек является клиентом банка,\n",
    "- Balance — баланс на счёте,\n",
    "- NumOfProducts — количество продуктов банка, используемых клиентом,\n",
    "- HasCrCard — наличие кредитной карты,\n",
    "- IsActiveMember — активность клиента,\n",
    "- EstimatedSalary — предполагаемая зарплата.\n",
    "\n",
    "Целевой признак:\n",
    "- Exited — факт ухода клиента.\n",
    "\n",
    "### Постановка задачи\n",
    "Нужно спрогнозировать, уйдёт клиент из банка в ближайшее время или нет. Постройте модель с предельно большим значением F1-меры, дополнительно измеряйте AUC-ROC.  \n",
    "<b>Важно:</b> минимальное допустимое значение F1-меры `F1 = 0.59`. "
   ]
  },
  {
   "cell_type": "markdown",
   "metadata": {},
   "source": [
    "## Обзор данных"
   ]
  },
  {
   "cell_type": "code",
   "execution_count": 1,
   "metadata": {},
   "outputs": [],
   "source": [
    "import numpy as np\n",
    "import re\n",
    "import pandas as pd\n",
    "import seaborn as sns\n",
    "import matplotlib.pyplot as plt\n",
    "\n",
    "from sklearn.preprocessing import StandardScaler, OneHotEncoder\n",
    "from sklearn.linear_model import LogisticRegression\n",
    "from sklearn.tree import DecisionTreeClassifier\n",
    "from sklearn.ensemble import RandomForestClassifier\n",
    "from sklearn.model_selection import train_test_split\n",
    "from sklearn.metrics import confusion_matrix, f1_score, roc_auc_score, roc_curve, precision_recall_curve\n",
    "from sklearn.utils import shuffle\n",
    "#Фиксируем значение для random_state\n",
    "SEED = 36741"
   ]
  },
  {
   "cell_type": "markdown",
   "metadata": {},
   "source": [
    "Поместим данные в DataFrame. На примере нескольких строк оценим датасет визульно."
   ]
  },
  {
   "cell_type": "code",
   "execution_count": 2,
   "metadata": {
    "scrolled": true
   },
   "outputs": [
    {
     "data": {
      "text/html": [
       "<div>\n",
       "<style scoped>\n",
       "    .dataframe tbody tr th:only-of-type {\n",
       "        vertical-align: middle;\n",
       "    }\n",
       "\n",
       "    .dataframe tbody tr th {\n",
       "        vertical-align: top;\n",
       "    }\n",
       "\n",
       "    .dataframe thead th {\n",
       "        text-align: right;\n",
       "    }\n",
       "</style>\n",
       "<table border=\"1\" class=\"dataframe\">\n",
       "  <thead>\n",
       "    <tr style=\"text-align: right;\">\n",
       "      <th></th>\n",
       "      <th>RowNumber</th>\n",
       "      <th>CustomerId</th>\n",
       "      <th>Surname</th>\n",
       "      <th>CreditScore</th>\n",
       "      <th>Geography</th>\n",
       "      <th>Gender</th>\n",
       "      <th>Age</th>\n",
       "      <th>Tenure</th>\n",
       "      <th>Balance</th>\n",
       "      <th>NumOfProducts</th>\n",
       "      <th>HasCrCard</th>\n",
       "      <th>IsActiveMember</th>\n",
       "      <th>EstimatedSalary</th>\n",
       "      <th>Exited</th>\n",
       "    </tr>\n",
       "  </thead>\n",
       "  <tbody>\n",
       "    <tr>\n",
       "      <th>0</th>\n",
       "      <td>1</td>\n",
       "      <td>15634602</td>\n",
       "      <td>Hargrave</td>\n",
       "      <td>619</td>\n",
       "      <td>France</td>\n",
       "      <td>Female</td>\n",
       "      <td>42</td>\n",
       "      <td>2.0</td>\n",
       "      <td>0.00</td>\n",
       "      <td>1</td>\n",
       "      <td>1</td>\n",
       "      <td>1</td>\n",
       "      <td>101348.88</td>\n",
       "      <td>1</td>\n",
       "    </tr>\n",
       "    <tr>\n",
       "      <th>1</th>\n",
       "      <td>2</td>\n",
       "      <td>15647311</td>\n",
       "      <td>Hill</td>\n",
       "      <td>608</td>\n",
       "      <td>Spain</td>\n",
       "      <td>Female</td>\n",
       "      <td>41</td>\n",
       "      <td>1.0</td>\n",
       "      <td>83807.86</td>\n",
       "      <td>1</td>\n",
       "      <td>0</td>\n",
       "      <td>1</td>\n",
       "      <td>112542.58</td>\n",
       "      <td>0</td>\n",
       "    </tr>\n",
       "    <tr>\n",
       "      <th>2</th>\n",
       "      <td>3</td>\n",
       "      <td>15619304</td>\n",
       "      <td>Onio</td>\n",
       "      <td>502</td>\n",
       "      <td>France</td>\n",
       "      <td>Female</td>\n",
       "      <td>42</td>\n",
       "      <td>8.0</td>\n",
       "      <td>159660.80</td>\n",
       "      <td>3</td>\n",
       "      <td>1</td>\n",
       "      <td>0</td>\n",
       "      <td>113931.57</td>\n",
       "      <td>1</td>\n",
       "    </tr>\n",
       "    <tr>\n",
       "      <th>3</th>\n",
       "      <td>4</td>\n",
       "      <td>15701354</td>\n",
       "      <td>Boni</td>\n",
       "      <td>699</td>\n",
       "      <td>France</td>\n",
       "      <td>Female</td>\n",
       "      <td>39</td>\n",
       "      <td>1.0</td>\n",
       "      <td>0.00</td>\n",
       "      <td>2</td>\n",
       "      <td>0</td>\n",
       "      <td>0</td>\n",
       "      <td>93826.63</td>\n",
       "      <td>0</td>\n",
       "    </tr>\n",
       "    <tr>\n",
       "      <th>4</th>\n",
       "      <td>5</td>\n",
       "      <td>15737888</td>\n",
       "      <td>Mitchell</td>\n",
       "      <td>850</td>\n",
       "      <td>Spain</td>\n",
       "      <td>Female</td>\n",
       "      <td>43</td>\n",
       "      <td>2.0</td>\n",
       "      <td>125510.82</td>\n",
       "      <td>1</td>\n",
       "      <td>1</td>\n",
       "      <td>1</td>\n",
       "      <td>79084.10</td>\n",
       "      <td>0</td>\n",
       "    </tr>\n",
       "  </tbody>\n",
       "</table>\n",
       "</div>"
      ],
      "text/plain": [
       "   RowNumber  CustomerId   Surname  CreditScore Geography  Gender  Age  \\\n",
       "0          1    15634602  Hargrave          619    France  Female   42   \n",
       "1          2    15647311      Hill          608     Spain  Female   41   \n",
       "2          3    15619304      Onio          502    France  Female   42   \n",
       "3          4    15701354      Boni          699    France  Female   39   \n",
       "4          5    15737888  Mitchell          850     Spain  Female   43   \n",
       "\n",
       "   Tenure    Balance  NumOfProducts  HasCrCard  IsActiveMember  \\\n",
       "0     2.0       0.00              1          1               1   \n",
       "1     1.0   83807.86              1          0               1   \n",
       "2     8.0  159660.80              3          1               0   \n",
       "3     1.0       0.00              2          0               0   \n",
       "4     2.0  125510.82              1          1               1   \n",
       "\n",
       "   EstimatedSalary  Exited  \n",
       "0        101348.88       1  \n",
       "1        112542.58       0  \n",
       "2        113931.57       1  \n",
       "3         93826.63       0  \n",
       "4         79084.10       0  "
      ]
     },
     "execution_count": 2,
     "metadata": {},
     "output_type": "execute_result"
    }
   ],
   "source": [
    "data = pd.read_csv('/datasets/Churn.csv')\n",
    "data.head()"
   ]
  },
  {
   "cell_type": "markdown",
   "metadata": {},
   "source": [
    "Посмотрим на общую информацию."
   ]
  },
  {
   "cell_type": "code",
   "execution_count": 3,
   "metadata": {
    "scrolled": true
   },
   "outputs": [
    {
     "name": "stdout",
     "output_type": "stream",
     "text": [
      "<class 'pandas.core.frame.DataFrame'>\n",
      "RangeIndex: 10000 entries, 0 to 9999\n",
      "Data columns (total 14 columns):\n",
      " #   Column           Non-Null Count  Dtype  \n",
      "---  ------           --------------  -----  \n",
      " 0   RowNumber        10000 non-null  int64  \n",
      " 1   CustomerId       10000 non-null  int64  \n",
      " 2   Surname          10000 non-null  object \n",
      " 3   CreditScore      10000 non-null  int64  \n",
      " 4   Geography        10000 non-null  object \n",
      " 5   Gender           10000 non-null  object \n",
      " 6   Age              10000 non-null  int64  \n",
      " 7   Tenure           9091 non-null   float64\n",
      " 8   Balance          10000 non-null  float64\n",
      " 9   NumOfProducts    10000 non-null  int64  \n",
      " 10  HasCrCard        10000 non-null  int64  \n",
      " 11  IsActiveMember   10000 non-null  int64  \n",
      " 12  EstimatedSalary  10000 non-null  float64\n",
      " 13  Exited           10000 non-null  int64  \n",
      "dtypes: float64(3), int64(8), object(3)\n",
      "memory usage: 1.1+ MB\n"
     ]
    }
   ],
   "source": [
    "data.info()"
   ]
  },
  {
   "cell_type": "markdown",
   "metadata": {},
   "source": [
    "Типы данных определены верно, сами данные интерпретированы корректно. В столбце `Tenure` есть пропуски. Столбцы именованы в CamelCase.\n",
    "\n",
    "Поищем явные и неявные дубликаты."
   ]
  },
  {
   "cell_type": "code",
   "execution_count": 4,
   "metadata": {
    "scrolled": true
   },
   "outputs": [
    {
     "data": {
      "text/plain": [
       "0"
      ]
     },
     "execution_count": 4,
     "metadata": {},
     "output_type": "execute_result"
    }
   ],
   "source": [
    "data.duplicated().sum()"
   ]
  },
  {
   "cell_type": "code",
   "execution_count": 5,
   "metadata": {
    "scrolled": true
   },
   "outputs": [
    {
     "data": {
      "text/plain": [
       "array(['Female', 'Male'], dtype=object)"
      ]
     },
     "execution_count": 5,
     "metadata": {},
     "output_type": "execute_result"
    }
   ],
   "source": [
    "data['Gender'].unique()"
   ]
  },
  {
   "cell_type": "code",
   "execution_count": 6,
   "metadata": {},
   "outputs": [
    {
     "data": {
      "text/plain": [
       "array(['France', 'Spain', 'Germany'], dtype=object)"
      ]
     },
     "execution_count": 6,
     "metadata": {},
     "output_type": "execute_result"
    }
   ],
   "source": [
    "data['Geography'].unique()"
   ]
  },
  {
   "cell_type": "markdown",
   "metadata": {},
   "source": [
    "Дубликаты отсутствуют.\n",
    "\n",
    "\n",
    "Изучим описательную статистику и распределение данных, исключив столбцы `RowNumber` и `CustomerId`, как не представляющие интереса."
   ]
  },
  {
   "cell_type": "code",
   "execution_count": 7,
   "metadata": {
    "scrolled": false
   },
   "outputs": [
    {
     "data": {
      "text/html": [
       "<div>\n",
       "<style scoped>\n",
       "    .dataframe tbody tr th:only-of-type {\n",
       "        vertical-align: middle;\n",
       "    }\n",
       "\n",
       "    .dataframe tbody tr th {\n",
       "        vertical-align: top;\n",
       "    }\n",
       "\n",
       "    .dataframe thead th {\n",
       "        text-align: right;\n",
       "    }\n",
       "</style>\n",
       "<table border=\"1\" class=\"dataframe\">\n",
       "  <thead>\n",
       "    <tr style=\"text-align: right;\">\n",
       "      <th></th>\n",
       "      <th>CreditScore</th>\n",
       "      <th>Age</th>\n",
       "      <th>Tenure</th>\n",
       "      <th>Balance</th>\n",
       "      <th>NumOfProducts</th>\n",
       "      <th>HasCrCard</th>\n",
       "      <th>IsActiveMember</th>\n",
       "      <th>EstimatedSalary</th>\n",
       "      <th>Exited</th>\n",
       "    </tr>\n",
       "  </thead>\n",
       "  <tbody>\n",
       "    <tr>\n",
       "      <th>count</th>\n",
       "      <td>10000.000000</td>\n",
       "      <td>10000.000000</td>\n",
       "      <td>9091.000000</td>\n",
       "      <td>10000.000000</td>\n",
       "      <td>10000.000000</td>\n",
       "      <td>10000.00000</td>\n",
       "      <td>10000.000000</td>\n",
       "      <td>10000.000000</td>\n",
       "      <td>10000.000000</td>\n",
       "    </tr>\n",
       "    <tr>\n",
       "      <th>mean</th>\n",
       "      <td>650.528800</td>\n",
       "      <td>38.921800</td>\n",
       "      <td>4.997690</td>\n",
       "      <td>76485.889288</td>\n",
       "      <td>1.530200</td>\n",
       "      <td>0.70550</td>\n",
       "      <td>0.515100</td>\n",
       "      <td>100090.239881</td>\n",
       "      <td>0.203700</td>\n",
       "    </tr>\n",
       "    <tr>\n",
       "      <th>std</th>\n",
       "      <td>96.653299</td>\n",
       "      <td>10.487806</td>\n",
       "      <td>2.894723</td>\n",
       "      <td>62397.405202</td>\n",
       "      <td>0.581654</td>\n",
       "      <td>0.45584</td>\n",
       "      <td>0.499797</td>\n",
       "      <td>57510.492818</td>\n",
       "      <td>0.402769</td>\n",
       "    </tr>\n",
       "    <tr>\n",
       "      <th>min</th>\n",
       "      <td>350.000000</td>\n",
       "      <td>18.000000</td>\n",
       "      <td>0.000000</td>\n",
       "      <td>0.000000</td>\n",
       "      <td>1.000000</td>\n",
       "      <td>0.00000</td>\n",
       "      <td>0.000000</td>\n",
       "      <td>11.580000</td>\n",
       "      <td>0.000000</td>\n",
       "    </tr>\n",
       "    <tr>\n",
       "      <th>25%</th>\n",
       "      <td>584.000000</td>\n",
       "      <td>32.000000</td>\n",
       "      <td>2.000000</td>\n",
       "      <td>0.000000</td>\n",
       "      <td>1.000000</td>\n",
       "      <td>0.00000</td>\n",
       "      <td>0.000000</td>\n",
       "      <td>51002.110000</td>\n",
       "      <td>0.000000</td>\n",
       "    </tr>\n",
       "    <tr>\n",
       "      <th>50%</th>\n",
       "      <td>652.000000</td>\n",
       "      <td>37.000000</td>\n",
       "      <td>5.000000</td>\n",
       "      <td>97198.540000</td>\n",
       "      <td>1.000000</td>\n",
       "      <td>1.00000</td>\n",
       "      <td>1.000000</td>\n",
       "      <td>100193.915000</td>\n",
       "      <td>0.000000</td>\n",
       "    </tr>\n",
       "    <tr>\n",
       "      <th>75%</th>\n",
       "      <td>718.000000</td>\n",
       "      <td>44.000000</td>\n",
       "      <td>7.000000</td>\n",
       "      <td>127644.240000</td>\n",
       "      <td>2.000000</td>\n",
       "      <td>1.00000</td>\n",
       "      <td>1.000000</td>\n",
       "      <td>149388.247500</td>\n",
       "      <td>0.000000</td>\n",
       "    </tr>\n",
       "    <tr>\n",
       "      <th>max</th>\n",
       "      <td>850.000000</td>\n",
       "      <td>92.000000</td>\n",
       "      <td>10.000000</td>\n",
       "      <td>250898.090000</td>\n",
       "      <td>4.000000</td>\n",
       "      <td>1.00000</td>\n",
       "      <td>1.000000</td>\n",
       "      <td>199992.480000</td>\n",
       "      <td>1.000000</td>\n",
       "    </tr>\n",
       "  </tbody>\n",
       "</table>\n",
       "</div>"
      ],
      "text/plain": [
       "        CreditScore           Age       Tenure        Balance  NumOfProducts  \\\n",
       "count  10000.000000  10000.000000  9091.000000   10000.000000   10000.000000   \n",
       "mean     650.528800     38.921800     4.997690   76485.889288       1.530200   \n",
       "std       96.653299     10.487806     2.894723   62397.405202       0.581654   \n",
       "min      350.000000     18.000000     0.000000       0.000000       1.000000   \n",
       "25%      584.000000     32.000000     2.000000       0.000000       1.000000   \n",
       "50%      652.000000     37.000000     5.000000   97198.540000       1.000000   \n",
       "75%      718.000000     44.000000     7.000000  127644.240000       2.000000   \n",
       "max      850.000000     92.000000    10.000000  250898.090000       4.000000   \n",
       "\n",
       "         HasCrCard  IsActiveMember  EstimatedSalary        Exited  \n",
       "count  10000.00000    10000.000000     10000.000000  10000.000000  \n",
       "mean       0.70550        0.515100    100090.239881      0.203700  \n",
       "std        0.45584        0.499797     57510.492818      0.402769  \n",
       "min        0.00000        0.000000        11.580000      0.000000  \n",
       "25%        0.00000        0.000000     51002.110000      0.000000  \n",
       "50%        1.00000        1.000000    100193.915000      0.000000  \n",
       "75%        1.00000        1.000000    149388.247500      0.000000  \n",
       "max        1.00000        1.000000    199992.480000      1.000000  "
      ]
     },
     "execution_count": 7,
     "metadata": {},
     "output_type": "execute_result"
    }
   ],
   "source": [
    "data.loc[:, 'CreditScore':].describe()"
   ]
  },
  {
   "cell_type": "code",
   "execution_count": 8,
   "metadata": {
    "scrolled": true
   },
   "outputs": [
    {
     "data": {
      "text/plain": [
       "array([[<AxesSubplot:title={'center':'CreditScore'}>,\n",
       "        <AxesSubplot:title={'center':'Age'}>,\n",
       "        <AxesSubplot:title={'center':'Tenure'}>],\n",
       "       [<AxesSubplot:title={'center':'Balance'}>,\n",
       "        <AxesSubplot:title={'center':'NumOfProducts'}>,\n",
       "        <AxesSubplot:title={'center':'HasCrCard'}>],\n",
       "       [<AxesSubplot:title={'center':'IsActiveMember'}>,\n",
       "        <AxesSubplot:title={'center':'EstimatedSalary'}>,\n",
       "        <AxesSubplot:title={'center':'Exited'}>]], dtype=object)"
      ]
     },
     "execution_count": 8,
     "metadata": {},
     "output_type": "execute_result"
    },
    {
     "data": {
      "image/png": "[encoded data removed]",
      "text/plain": [
       "<Figure size 1152x1152 with 9 Axes>"
      ]
     },
     "metadata": {
      "needs_background": "light"
     },
     "output_type": "display_data"
    }
   ],
   "source": [
    "data.loc[:, 'CreditScore':].hist(figsize=(16,16), bins=50)"
   ]
  },
  {
   "cell_type": "markdown",
   "metadata": {},
   "source": [
    "В описательной статистике данные выглядят правдоподобно. Одновременно, на гистограммах видны некоторые особенности:\n",
    "- `CreditScore` имеет аномальную частоту (около 300 записей) в районе значения 850. Возможно, регламент банка не предусматривает кредитного рейтинга выше 850. Т.о., со временем надежные заемщики просто \"накапливаются\" в этой зоне;\n",
    "- распределение `Tenure` должно быть близко к нормальному. В то же время частоты интервала от 4 до 6 лет, будто бы занижены;\n",
    "- значения `Balance` распределены практически нормально за исключением зоны околонулевых значений. Выходит, в банке более 3500 клиентов с нулевым балансом;\n",
    "- распределение `EstimatedSalary` должно быть близко к нормальному. Гистограмма же показывает, что на всем диапазоне зарплат от 0 до 200000, количество клиентов колеблется вокруг 200 человек. Возможно, это указывает на ошибки алгоритма оценки зарплат;\n",
    "- распределение `Exited` указывает на дисбаланс классов. Около 8000 человек являются действующими клиентами, около 2000 - ушли из банка.\n",
    "\n",
    "## Подготовка данных\n",
    "### Переименование столбцов\n",
    "С помощью регулярных выражений приведем названия столбцов к snake_case."
   ]
  },
  {
   "cell_type": "code",
   "execution_count": 46,
   "metadata": {
    "scrolled": true
   },
   "outputs": [
    {
     "data": {
      "text/plain": [
       "Index(['credit_score', 'geography', 'gender', 'age', 'tenure', 'balance',\n",
       "       'num_of_products', 'has_cr_card', 'is_active_member',\n",
       "       'estimated_salary', 'exited'],\n",
       "      dtype='object')"
      ]
     },
     "execution_count": 46,
     "metadata": {},
     "output_type": "execute_result"
    }
   ],
   "source": [
    "col_names = []\n",
    "for col_name in data.columns:\n",
    "    col_names.append(re.sub(r'(?<!^)(?=[A-Z])', '_', col_name).lower())\n",
    "\n",
    "data.columns = col_names\n",
    "data.columns"
   ]
  },
  {
   "cell_type": "markdown",
   "metadata": {},
   "source": [
    "### Работа с пропусками\n",
    "В столбце `tenure` около 900 пропусков. Посмотрим, как распределены классы в записях с пропусками."
   ]
  },
  {
   "cell_type": "code",
   "execution_count": 10,
   "metadata": {},
   "outputs": [
    {
     "data": {
      "text/plain": [
       "0    726\n",
       "1    183\n",
       "Name: exited, dtype: int64"
      ]
     },
     "execution_count": 10,
     "metadata": {},
     "output_type": "execute_result"
    }
   ],
   "source": [
    "data[data['tenure'].isna()]['exited'].value_counts()"
   ]
  },
  {
   "cell_type": "markdown",
   "metadata": {},
   "source": [
    "Соотношение классов около 20%:80% - то же, что и в основном датасете. Т.е., удалив записи с пропусками, мы не ухудшим баланс классов и некритично уменьшим количество объектов малочисленного класса. "
   ]
  },
  {
   "cell_type": "code",
   "execution_count": 11,
   "metadata": {},
   "outputs": [
    {
     "data": {
      "text/plain": [
       "row_number          0\n",
       "customer_id         0\n",
       "surname             0\n",
       "credit_score        0\n",
       "geography           0\n",
       "gender              0\n",
       "age                 0\n",
       "tenure              0\n",
       "balance             0\n",
       "num_of_products     0\n",
       "has_cr_card         0\n",
       "is_active_member    0\n",
       "estimated_salary    0\n",
       "exited              0\n",
       "dtype: int64"
      ]
     },
     "execution_count": 11,
     "metadata": {},
     "output_type": "execute_result"
    }
   ],
   "source": [
    "data = data[~data['tenure'].isna()]\n",
    "data.isna().sum()"
   ]
  },
  {
   "cell_type": "markdown",
   "metadata": {},
   "source": [
    "### Выбор признаков\n",
    "В рамках данного исследования исключим `RowNumber`, `CustomerId` и `Surname` из списка признаков, как незначимые."
   ]
  },
  {
   "cell_type": "code",
   "execution_count": 12,
   "metadata": {
    "scrolled": true
   },
   "outputs": [
    {
     "data": {
      "text/plain": [
       "Index(['credit_score', 'geography', 'gender', 'age', 'tenure', 'balance',\n",
       "       'num_of_products', 'has_cr_card', 'is_active_member',\n",
       "       'estimated_salary', 'exited'],\n",
       "      dtype='object')"
      ]
     },
     "execution_count": 12,
     "metadata": {},
     "output_type": "execute_result"
    }
   ],
   "source": [
    "data = data.loc[:, 'credit_score':]\n",
    "data.columns"
   ]
  },
  {
   "cell_type": "markdown",
   "metadata": {},
   "source": [
    "### Формирование выборок \n",
    "Сформируем обучающую, валидационную и тестовую выборки в соотношении 60%:20%:20% со стратификацией по целевому признаку. Т.е. так, чтобы баланс классов в каждой выборке был одинаковым."
   ]
  },
  {
   "cell_type": "code",
   "execution_count": 13,
   "metadata": {},
   "outputs": [],
   "source": [
    "tgt = data['exited'] \n",
    "fts = data.drop('exited', axis=1)\n",
    "#Отделяем 60% под обучающую выборку, 40% под валидациюонную и тестовую\n",
    "fts_train, fts_tmp, tgt_train, tgt_tmp = train_test_split(fts, tgt, \n",
    "                                                          test_size=0.4, \n",
    "                                                          random_state=SEED, \n",
    "                                                          stratify=tgt)\n",
    "#40% делим пополам: выделяем 20% под валидационную и 20% под тестовую выборку\n",
    "fts_valid, fts_test, tgt_valid, tgt_test = train_test_split(fts_tmp, tgt_tmp, \n",
    "                                                            test_size=0.5, \n",
    "                                                            random_state=SEED, \n",
    "                                                            stratify=tgt_tmp)"
   ]
  },
  {
   "cell_type": "markdown",
   "metadata": {},
   "source": [
    "Проверим размер и баланс классов для полученных выборок."
   ]
  },
  {
   "cell_type": "code",
   "execution_count": 14,
   "metadata": {},
   "outputs": [
    {
     "name": "stdout",
     "output_type": "stream",
     "text": [
      "Признаки. Размер выборок: \n",
      " - обучающая: (5454, 10) \n",
      " - валидационная: (1818, 10) \n",
      " - тестовая (1819, 10)\n",
      "Целевой признак. Размер выборок: \n",
      " - обучающая: (5454,) \n",
      " - валидационная: (1818,) \n",
      " - тестовая (1819,)\n"
     ]
    }
   ],
   "source": [
    "print('Признаки. Размер выборок: \\n - обучающая:', fts_train.shape,\n",
    "      '\\n - валидационная:', fts_valid.shape,\n",
    "      '\\n - тестовая', fts_test.shape)\n",
    "print('Целевой признак. Размер выборок: \\n - обучающая:', tgt_train.shape,\n",
    "      '\\n - валидационная:', tgt_valid.shape,\n",
    "      '\\n - тестовая', tgt_test.shape)"
   ]
  },
  {
   "cell_type": "code",
   "execution_count": 15,
   "metadata": {},
   "outputs": [
    {
     "data": {
      "text/plain": [
       "0    0.796113\n",
       "1    0.203887\n",
       "Name: exited, dtype: float64"
      ]
     },
     "execution_count": 15,
     "metadata": {},
     "output_type": "execute_result"
    }
   ],
   "source": [
    "tgt_train.value_counts(normalize=True)"
   ]
  },
  {
   "cell_type": "code",
   "execution_count": 16,
   "metadata": {},
   "outputs": [
    {
     "data": {
      "text/plain": [
       "0    0.79593\n",
       "1    0.20407\n",
       "Name: exited, dtype: float64"
      ]
     },
     "execution_count": 16,
     "metadata": {},
     "output_type": "execute_result"
    }
   ],
   "source": [
    "tgt_valid.value_counts(normalize=True)"
   ]
  },
  {
   "cell_type": "code",
   "execution_count": 17,
   "metadata": {
    "scrolled": true
   },
   "outputs": [
    {
     "data": {
      "text/plain": [
       "0    0.796042\n",
       "1    0.203958\n",
       "Name: exited, dtype: float64"
      ]
     },
     "execution_count": 17,
     "metadata": {},
     "output_type": "execute_result"
    }
   ],
   "source": [
    "tgt_test.value_counts(normalize=True)"
   ]
  },
  {
   "cell_type": "markdown",
   "metadata": {},
   "source": [
    "Баланс классов воспроизводится, размеры соответствуют соотношению 60%:20%:20%. Выборки сформированы корректно.\n",
    "### Кодирование признаков\n",
    "Закодируем категориальные признаки методом One-Hot Encoding. "
   ]
  },
  {
   "cell_type": "code",
   "execution_count": 18,
   "metadata": {},
   "outputs": [],
   "source": [
    "fts_to_encode = ['geography', 'gender']\n",
    "\n",
    "encoder = OneHotEncoder(handle_unknown='ignore', dtype='int64', sparse=False)\n",
    "\n",
    "fts_train_encoded = pd.DataFrame(encoder.fit_transform(fts_train[fts_to_encode]))\n",
    "fts_valid_encoded = pd.DataFrame(encoder.transform(fts_valid[fts_to_encode]))\n",
    "fts_test_encoded = pd.DataFrame(encoder.transform(fts_test[fts_to_encode]))\n",
    "\n",
    "fts_train_encoded.index = fts_train.index\n",
    "fts_valid_encoded.index = fts_valid.index\n",
    "fts_test_encoded.index = fts_test.index\n",
    "\n",
    "fts_train = pd.concat([fts_train, fts_train_encoded], axis=1).drop(fts_to_encode, axis=1)\n",
    "fts_valid = pd.concat([fts_valid, fts_valid_encoded], axis=1).drop(fts_to_encode, axis=1)\n",
    "fts_test = pd.concat([fts_test, fts_test_encoded], axis=1).drop(fts_to_encode, axis=1)"
   ]
  },
  {
   "cell_type": "markdown",
   "metadata": {},
   "source": [
    "### Масштабирование признаков\n",
    "Значения численных признаков сильно разнятся, как по абсолюному значению, так и по разбросу. Проведем масштабирование с помощью `StandardScaler`."
   ]
  },
  {
   "cell_type": "code",
   "execution_count": 19,
   "metadata": {},
   "outputs": [],
   "source": [
    "fts_to_scale = ['credit_score', 'age', 'tenure', 'balance', 'num_of_products', 'estimated_salary']\n",
    "\n",
    "scaler = StandardScaler()\n",
    "\n",
    "fts_train[fts_to_scale] = pd.DataFrame(scaler.fit_transform(fts_train[fts_to_scale]),\n",
    "                                       columns=fts_to_scale,\n",
    "                                       index=fts_train.index)\n",
    "fts_valid[fts_to_scale] = pd.DataFrame(scaler.transform(fts_valid[fts_to_scale]),\n",
    "                                       columns=fts_to_scale,\n",
    "                                       index=fts_valid.index)\n",
    "fts_test[fts_to_scale] = pd.DataFrame(scaler.transform(fts_test[fts_to_scale]),\n",
    "                                       columns=fts_to_scale,\n",
    "                                       index=fts_test.index)"
   ]
  },
  {
   "cell_type": "markdown",
   "metadata": {},
   "source": [
    "### Проверка\n",
    "Проверим, как прошли преобразования."
   ]
  },
  {
   "cell_type": "code",
   "execution_count": 20,
   "metadata": {},
   "outputs": [
    {
     "data": {
      "text/html": [
       "<div>\n",
       "<style scoped>\n",
       "    .dataframe tbody tr th:only-of-type {\n",
       "        vertical-align: middle;\n",
       "    }\n",
       "\n",
       "    .dataframe tbody tr th {\n",
       "        vertical-align: top;\n",
       "    }\n",
       "\n",
       "    .dataframe thead th {\n",
       "        text-align: right;\n",
       "    }\n",
       "</style>\n",
       "<table border=\"1\" class=\"dataframe\">\n",
       "  <thead>\n",
       "    <tr style=\"text-align: right;\">\n",
       "      <th></th>\n",
       "      <th>credit_score</th>\n",
       "      <th>age</th>\n",
       "      <th>tenure</th>\n",
       "      <th>balance</th>\n",
       "      <th>num_of_products</th>\n",
       "      <th>has_cr_card</th>\n",
       "      <th>is_active_member</th>\n",
       "      <th>estimated_salary</th>\n",
       "      <th>0</th>\n",
       "      <th>1</th>\n",
       "      <th>2</th>\n",
       "      <th>3</th>\n",
       "      <th>4</th>\n",
       "    </tr>\n",
       "  </thead>\n",
       "  <tbody>\n",
       "    <tr>\n",
       "      <th>6917</th>\n",
       "      <td>-0.007582</td>\n",
       "      <td>0.195134</td>\n",
       "      <td>-0.352526</td>\n",
       "      <td>0.636029</td>\n",
       "      <td>-0.924772</td>\n",
       "      <td>1</td>\n",
       "      <td>0</td>\n",
       "      <td>0.761630</td>\n",
       "      <td>0</td>\n",
       "      <td>1</td>\n",
       "      <td>0</td>\n",
       "      <td>1</td>\n",
       "      <td>0</td>\n",
       "    </tr>\n",
       "    <tr>\n",
       "      <th>3437</th>\n",
       "      <td>0.516257</td>\n",
       "      <td>-0.655140</td>\n",
       "      <td>-0.697958</td>\n",
       "      <td>-1.221888</td>\n",
       "      <td>-0.924772</td>\n",
       "      <td>0</td>\n",
       "      <td>0</td>\n",
       "      <td>-0.066007</td>\n",
       "      <td>1</td>\n",
       "      <td>0</td>\n",
       "      <td>0</td>\n",
       "      <td>1</td>\n",
       "      <td>0</td>\n",
       "    </tr>\n",
       "    <tr>\n",
       "      <th>5319</th>\n",
       "      <td>-0.048667</td>\n",
       "      <td>-1.316465</td>\n",
       "      <td>-1.388823</td>\n",
       "      <td>1.301403</td>\n",
       "      <td>0.801342</td>\n",
       "      <td>1</td>\n",
       "      <td>0</td>\n",
       "      <td>-0.112187</td>\n",
       "      <td>0</td>\n",
       "      <td>1</td>\n",
       "      <td>0</td>\n",
       "      <td>0</td>\n",
       "      <td>1</td>\n",
       "    </tr>\n",
       "  </tbody>\n",
       "</table>\n",
       "</div>"
      ],
      "text/plain": [
       "      credit_score       age    tenure   balance  num_of_products  \\\n",
       "6917     -0.007582  0.195134 -0.352526  0.636029        -0.924772   \n",
       "3437      0.516257 -0.655140 -0.697958 -1.221888        -0.924772   \n",
       "5319     -0.048667 -1.316465 -1.388823  1.301403         0.801342   \n",
       "\n",
       "      has_cr_card  is_active_member  estimated_salary  0  1  2  3  4  \n",
       "6917            1                 0          0.761630  0  1  0  1  0  \n",
       "3437            0                 0         -0.066007  1  0  0  1  0  \n",
       "5319            1                 0         -0.112187  0  1  0  0  1  "
      ]
     },
     "execution_count": 20,
     "metadata": {},
     "output_type": "execute_result"
    }
   ],
   "source": [
    "fts_train.head(3)"
   ]
  },
  {
   "cell_type": "code",
   "execution_count": 21,
   "metadata": {
    "scrolled": false
   },
   "outputs": [
    {
     "data": {
      "text/html": [
       "<div>\n",
       "<style scoped>\n",
       "    .dataframe tbody tr th:only-of-type {\n",
       "        vertical-align: middle;\n",
       "    }\n",
       "\n",
       "    .dataframe tbody tr th {\n",
       "        vertical-align: top;\n",
       "    }\n",
       "\n",
       "    .dataframe thead th {\n",
       "        text-align: right;\n",
       "    }\n",
       "</style>\n",
       "<table border=\"1\" class=\"dataframe\">\n",
       "  <thead>\n",
       "    <tr style=\"text-align: right;\">\n",
       "      <th></th>\n",
       "      <th>credit_score</th>\n",
       "      <th>age</th>\n",
       "      <th>tenure</th>\n",
       "      <th>balance</th>\n",
       "      <th>num_of_products</th>\n",
       "      <th>has_cr_card</th>\n",
       "      <th>is_active_member</th>\n",
       "      <th>estimated_salary</th>\n",
       "      <th>0</th>\n",
       "      <th>1</th>\n",
       "      <th>2</th>\n",
       "      <th>3</th>\n",
       "      <th>4</th>\n",
       "    </tr>\n",
       "  </thead>\n",
       "  <tbody>\n",
       "    <tr>\n",
       "      <th>3509</th>\n",
       "      <td>1.307151</td>\n",
       "      <td>-0.182766</td>\n",
       "      <td>-1.388823</td>\n",
       "      <td>-1.221888</td>\n",
       "      <td>-0.924772</td>\n",
       "      <td>1</td>\n",
       "      <td>1</td>\n",
       "      <td>0.472384</td>\n",
       "      <td>1</td>\n",
       "      <td>0</td>\n",
       "      <td>0</td>\n",
       "      <td>0</td>\n",
       "      <td>1</td>\n",
       "    </tr>\n",
       "    <tr>\n",
       "      <th>477</th>\n",
       "      <td>-0.397893</td>\n",
       "      <td>0.100659</td>\n",
       "      <td>1.029203</td>\n",
       "      <td>0.394200</td>\n",
       "      <td>0.801342</td>\n",
       "      <td>1</td>\n",
       "      <td>0</td>\n",
       "      <td>0.827658</td>\n",
       "      <td>1</td>\n",
       "      <td>0</td>\n",
       "      <td>0</td>\n",
       "      <td>1</td>\n",
       "      <td>0</td>\n",
       "    </tr>\n",
       "    <tr>\n",
       "      <th>1330</th>\n",
       "      <td>-0.100024</td>\n",
       "      <td>0.667508</td>\n",
       "      <td>1.029203</td>\n",
       "      <td>-1.221888</td>\n",
       "      <td>0.801342</td>\n",
       "      <td>1</td>\n",
       "      <td>0</td>\n",
       "      <td>-0.181956</td>\n",
       "      <td>0</td>\n",
       "      <td>0</td>\n",
       "      <td>1</td>\n",
       "      <td>1</td>\n",
       "      <td>0</td>\n",
       "    </tr>\n",
       "  </tbody>\n",
       "</table>\n",
       "</div>"
      ],
      "text/plain": [
       "      credit_score       age    tenure   balance  num_of_products  \\\n",
       "3509      1.307151 -0.182766 -1.388823 -1.221888        -0.924772   \n",
       "477      -0.397893  0.100659  1.029203  0.394200         0.801342   \n",
       "1330     -0.100024  0.667508  1.029203 -1.221888         0.801342   \n",
       "\n",
       "      has_cr_card  is_active_member  estimated_salary  0  1  2  3  4  \n",
       "3509            1                 1          0.472384  1  0  0  0  1  \n",
       "477             1                 0          0.827658  1  0  0  1  0  \n",
       "1330            1                 0         -0.181956  0  0  1  1  0  "
      ]
     },
     "execution_count": 21,
     "metadata": {},
     "output_type": "execute_result"
    }
   ],
   "source": [
    "fts_valid.head(3)"
   ]
  },
  {
   "cell_type": "code",
   "execution_count": 22,
   "metadata": {},
   "outputs": [
    {
     "data": {
      "text/html": [
       "<div>\n",
       "<style scoped>\n",
       "    .dataframe tbody tr th:only-of-type {\n",
       "        vertical-align: middle;\n",
       "    }\n",
       "\n",
       "    .dataframe tbody tr th {\n",
       "        vertical-align: top;\n",
       "    }\n",
       "\n",
       "    .dataframe thead th {\n",
       "        text-align: right;\n",
       "    }\n",
       "</style>\n",
       "<table border=\"1\" class=\"dataframe\">\n",
       "  <thead>\n",
       "    <tr style=\"text-align: right;\">\n",
       "      <th></th>\n",
       "      <th>credit_score</th>\n",
       "      <th>age</th>\n",
       "      <th>tenure</th>\n",
       "      <th>balance</th>\n",
       "      <th>num_of_products</th>\n",
       "      <th>has_cr_card</th>\n",
       "      <th>is_active_member</th>\n",
       "      <th>estimated_salary</th>\n",
       "      <th>0</th>\n",
       "      <th>1</th>\n",
       "      <th>2</th>\n",
       "      <th>3</th>\n",
       "      <th>4</th>\n",
       "    </tr>\n",
       "  </thead>\n",
       "  <tbody>\n",
       "    <tr>\n",
       "      <th>9727</th>\n",
       "      <td>-1.229873</td>\n",
       "      <td>0.573033</td>\n",
       "      <td>-1.388823</td>\n",
       "      <td>-1.221888</td>\n",
       "      <td>-0.924772</td>\n",
       "      <td>0</td>\n",
       "      <td>1</td>\n",
       "      <td>1.577412</td>\n",
       "      <td>1</td>\n",
       "      <td>0</td>\n",
       "      <td>0</td>\n",
       "      <td>1</td>\n",
       "      <td>0</td>\n",
       "    </tr>\n",
       "    <tr>\n",
       "      <th>8452</th>\n",
       "      <td>0.968197</td>\n",
       "      <td>0.667508</td>\n",
       "      <td>-1.388823</td>\n",
       "      <td>-1.221888</td>\n",
       "      <td>2.527456</td>\n",
       "      <td>1</td>\n",
       "      <td>1</td>\n",
       "      <td>1.348320</td>\n",
       "      <td>0</td>\n",
       "      <td>0</td>\n",
       "      <td>1</td>\n",
       "      <td>1</td>\n",
       "      <td>0</td>\n",
       "    </tr>\n",
       "    <tr>\n",
       "      <th>5050</th>\n",
       "      <td>0.547071</td>\n",
       "      <td>-0.655140</td>\n",
       "      <td>-1.388823</td>\n",
       "      <td>0.792939</td>\n",
       "      <td>-0.924772</td>\n",
       "      <td>1</td>\n",
       "      <td>1</td>\n",
       "      <td>-0.749764</td>\n",
       "      <td>1</td>\n",
       "      <td>0</td>\n",
       "      <td>0</td>\n",
       "      <td>0</td>\n",
       "      <td>1</td>\n",
       "    </tr>\n",
       "  </tbody>\n",
       "</table>\n",
       "</div>"
      ],
      "text/plain": [
       "      credit_score       age    tenure   balance  num_of_products  \\\n",
       "9727     -1.229873  0.573033 -1.388823 -1.221888        -0.924772   \n",
       "8452      0.968197  0.667508 -1.388823 -1.221888         2.527456   \n",
       "5050      0.547071 -0.655140 -1.388823  0.792939        -0.924772   \n",
       "\n",
       "      has_cr_card  is_active_member  estimated_salary  0  1  2  3  4  \n",
       "9727            0                 1          1.577412  1  0  0  1  0  \n",
       "8452            1                 1          1.348320  0  0  1  1  0  \n",
       "5050            1                 1         -0.749764  1  0  0  0  1  "
      ]
     },
     "execution_count": 22,
     "metadata": {},
     "output_type": "execute_result"
    }
   ],
   "source": [
    "fts_test.head(3)"
   ]
  },
  {
   "cell_type": "markdown",
   "metadata": {},
   "source": [
    "Пропуски удалены, признаки акутализированы, закодированы и отмасштабированы, наименования приведены к snake_case. Преобразования прошли корректно. \n",
    "## Исследование задачи\n",
    "В качестве целевого используем признак `exited` (факт ухода клиента). Оценим баланс классов количественно.\n",
    "\n",
    "В абсолютных значениях:"
   ]
  },
  {
   "cell_type": "code",
   "execution_count": 23,
   "metadata": {},
   "outputs": [
    {
     "data": {
      "text/plain": [
       "0    7237\n",
       "1    1854\n",
       "Name: exited, dtype: int64"
      ]
     },
     "execution_count": 23,
     "metadata": {},
     "output_type": "execute_result"
    }
   ],
   "source": [
    "data['exited'].value_counts()"
   ]
  },
  {
   "cell_type": "markdown",
   "metadata": {},
   "source": [
    "И относительных значениях:"
   ]
  },
  {
   "cell_type": "code",
   "execution_count": 24,
   "metadata": {},
   "outputs": [
    {
     "data": {
      "text/plain": [
       "0    0.796062\n",
       "1    0.203938\n",
       "Name: exited, dtype: float64"
      ]
     },
     "execution_count": 24,
     "metadata": {},
     "output_type": "execute_result"
    }
   ],
   "source": [
    "data['exited'].value_counts(normalize=True)"
   ]
  },
  {
   "cell_type": "markdown",
   "metadata": {},
   "source": [
    "Примерно 20% объектов принадлежат положительному классу, 80% - отрицательному. Т.о., нам предстоит решить задачу бинарной классификации в условиях дисбаланса классов. \n",
    "\n",
    "**Сформулируем свойства исследования**: \n",
    " - исследуемые модели: \n",
    "     - LogisticRegression, \n",
    "     - DecisionTreeClassifier, \n",
    "     - RandomForestClassifier;\n",
    " - исследуемые метрики качества: \n",
    "     - F1-мера,\n",
    "     - AUC ROC;\n",
    " - исследуемые методы борьбы с дисбалансом: \n",
    "     - без борьбы, как есть (none)\n",
    "     - пересемплирование (upsampling), \n",
    "     - недосемплирование (downsampling), \n",
    "     - взвешивание классов (class weight), \n",
    "     - подбор порога классификации (threshold).\n",
    "\n",
    "**Обозначим ход исследования**: \n",
    "- сформируем обучающую, валидационную и тестовую выборки, \n",
    "- для каждого метода борьбы с дисбалансом:\n",
    "    - на обучающей выборке обучим модели с гиперпараметрами по-умолчанию,\n",
    "    - на валидационной выборке оценим F1-меру и AUC ROC моделей,\n",
    "    - сравним модели между собой,\n",
    "- сформируем сводную статистику для всех методов и моделей,\n",
    "- выберем лучший метод и модель,\n",
    "- оптимизируем гиперпараметры модели, \n",
    "- рассмотрим метрики качества модели на тестовой выборке, \n",
    "- сформулируем выводы. "
   ]
  },
  {
   "cell_type": "markdown",
   "metadata": {},
   "source": [
    "## Борьба с дисбалансом\n",
    "Опишем ряд функций, которые помогут нам в дальнейшем."
   ]
  },
  {
   "cell_type": "code",
   "execution_count": 25,
   "metadata": {},
   "outputs": [],
   "source": [
    "def resample_data(fts, tgt, multiplier):\n",
    "    \"\"\"Балансирует (upsampling или downsampling) выборки, \n",
    "    исходя из предположения, что объекты положительного \n",
    "    класса - в меньшинстве.\n",
    "    Возвращает сбалансированные выборки.\n",
    "    АРГУМЕНТЫ:\n",
    "    fts -- выборка признаков \n",
    "    tgt -- выборка целевых признаков\n",
    "    multiplier -- коэффициент балансировки. При значении < 1 применяется downsampling,\n",
    "                  иначе - upsampling\n",
    "    \"\"\" \n",
    "    #Выделяем данные положительного класса\n",
    "    tgt_pos = tgt[tgt == 1]\n",
    "    fts_pos = fts[tgt == 1]\n",
    "    #Выделяем данные отрицательного класса\n",
    "    tgt_neg = tgt[tgt == 0]\n",
    "    fts_neg = fts[tgt == 0]\n",
    "    #Готовим сбалансированные выборки\n",
    "    fts_resampled = None\n",
    "    tgt_resampled = None\n",
    "    \n",
    "    if multiplier < 1:\n",
    "        #Применяем downsampling...\n",
    "        fts_neg = fts_neg.sample(frac=multiplier, random_state=SEED)\n",
    "        tgt_neg = tgt_neg.sample(frac=multiplier, random_state=SEED)\n",
    "        \n",
    "        fts_resampled = pd.concat([fts_pos] + [fts_neg])\n",
    "        tgt_resampled = pd.concat([tgt_pos] + [tgt_neg])\n",
    "    else:\n",
    "        #...или upsampling\n",
    "        fts_resampled = pd.concat([fts_neg] + [fts_pos] * multiplier)\n",
    "        tgt_resampled = pd.concat([tgt_neg] + [tgt_pos] * multiplier)        \n",
    "    #Возвращаем случайным образом перемешанные сбалансирвоанные выборки\n",
    "    return shuffle(fts_resampled, tgt_resampled, random_state=SEED)"
   ]
  },
  {
   "cell_type": "code",
   "execution_count": 26,
   "metadata": {},
   "outputs": [],
   "source": [
    "def get_best_f1_threshold(model, fts_valid, tgt_valid):\n",
    "    \"\"\"Подбирает порог классификации (threshold), максимизиируя \n",
    "    значение F1-меры на передаваемых в функцию выборках.\n",
    "    Возвращает лучшее значение F1-меры и соотетствующее ему \n",
    "    значение порога классификации.\n",
    "    АРГУМЕНТЫ:\n",
    "    model -- обученная модель\n",
    "    fts_valid -- выборка признаков\n",
    "    tgt_valid -- выборка целевых признаков\n",
    "    \"\"\" \n",
    "    threshold_best = None\n",
    "    f1_best = 0\n",
    "    for threshold in np.arange(0, 1.025, 0.025):\n",
    "        predict_proba_pos = model.predict_proba(fts_valid)[:, 1]\n",
    "        f1 = f1_score(tgt_valid, predict_proba_pos > threshold)\n",
    "        \n",
    "        if f1 > f1_best:\n",
    "            f1_best = f1\n",
    "            threshold_best = threshold\n",
    "            \n",
    "    return f1_best, threshold_best"
   ]
  },
  {
   "cell_type": "code",
   "execution_count": 27,
   "metadata": {},
   "outputs": [],
   "source": [
    "def perform_scoring(method, models, fts_train, fts_valid, tgt_train, tgt_valid):\n",
    "    \"\"\"Обучает модели на обучающих выборках, рассчитывает \n",
    "    F1-меру (при необходмости подбирая порог классификации) и \n",
    "    AUC ROC на валидационных выборках.\n",
    "    Возвращает DataFrame с итоговой статистикой.\n",
    "    АРГУМЕНТЫ:\n",
    "    method -- наименование сценария, отражается в итоговой статистике\n",
    "    models -- список моделей\n",
    "    fts_train -- признаки обучающей выборки\n",
    "    fts_valid -- признаки валидационной выборки\n",
    "    tgt_train -- целевой признак обучающей выборки\n",
    "    tgt_valid -- целевой признак валидационной выборки \n",
    "    \"\"\" \n",
    "    stats = []\n",
    "    #Для каждой модели:\n",
    "    for model in models: \n",
    "        #готовим список со статистикой\n",
    "        stats_row = []        \n",
    "        stats_row.append(model.__class__.__name__)\n",
    "        stats_row.append(method)\n",
    "        #обучаем на обучающей выборке\n",
    "        model.fit(fts_train, tgt_train)\n",
    "        #рассчитываем f1-меру и при необходимости подбираем \n",
    "        #порог классификации на валидационной выборке\n",
    "        threshold = None                            \n",
    "        f1 = None                    \n",
    "        if 'Threshold' in method:\n",
    "            #при необходимости\n",
    "            f1, threshold = get_best_f1_threshold(model, fts_valid, tgt_valid)            \n",
    "        else:\n",
    "            f1, threshold = f1_score(tgt_valid, model.predict(fts_valid)), np.NAN            \n",
    "        #записываем f1-меру и порог классификации в статистику\n",
    "        stats_row.append(round(f1, 4))\n",
    "        stats_row.append(round(threshold, 4))\n",
    "        #рассчитываем auc roc на валидационной выборке\n",
    "        auc_roc = roc_auc_score(tgt_valid, model.predict_proba(fts_valid)[:, 1])\n",
    "        #записываем auc roc в статистику\n",
    "        stats_row.append(round(auc_roc, 4)) \n",
    "        \n",
    "        stats.append(stats_row)\n",
    "    #возвращаем DataFrame с итоговой статистикой                    \n",
    "    return pd.DataFrame(stats, columns=['model', 'method', 'f1', 'threshold', 'auc_roc'])"
   ]
  },
  {
   "cell_type": "markdown",
   "metadata": {},
   "source": [
    "### Без борьбы, как есть (None)\n",
    "Обучим модели на несбалансированной выборке, а метрики качества оценим на валидационной."
   ]
  },
  {
   "cell_type": "code",
   "execution_count": 28,
   "metadata": {},
   "outputs": [
    {
     "data": {
      "text/html": [
       "<style  type=\"text/css\" >\n",
       "#T_b8973_row2_col2,#T_b8973_row2_col4{\n",
       "            background-color:  lightblue;\n",
       "        }</style><table id=\"T_b8973_\" ><thead>    <tr>        <th class=\"blank level0\" ></th>        <th class=\"col_heading level0 col0\" >model</th>        <th class=\"col_heading level0 col1\" >method</th>        <th class=\"col_heading level0 col2\" >f1</th>        <th class=\"col_heading level0 col3\" >threshold</th>        <th class=\"col_heading level0 col4\" >auc_roc</th>    </tr></thead><tbody>\n",
       "                <tr>\n",
       "                        <th id=\"T_b8973_level0_row0\" class=\"row_heading level0 row0\" >0</th>\n",
       "                        <td id=\"T_b8973_row0_col0\" class=\"data row0 col0\" >LogisticRegression</td>\n",
       "                        <td id=\"T_b8973_row0_col1\" class=\"data row0 col1\" >None</td>\n",
       "                        <td id=\"T_b8973_row0_col2\" class=\"data row0 col2\" >0.290900</td>\n",
       "                        <td id=\"T_b8973_row0_col3\" class=\"data row0 col3\" >nan</td>\n",
       "                        <td id=\"T_b8973_row0_col4\" class=\"data row0 col4\" >0.794500</td>\n",
       "            </tr>\n",
       "            <tr>\n",
       "                        <th id=\"T_b8973_level0_row1\" class=\"row_heading level0 row1\" >1</th>\n",
       "                        <td id=\"T_b8973_row1_col0\" class=\"data row1 col0\" >DecisionTreeClassifier</td>\n",
       "                        <td id=\"T_b8973_row1_col1\" class=\"data row1 col1\" >None</td>\n",
       "                        <td id=\"T_b8973_row1_col2\" class=\"data row1 col2\" >0.514100</td>\n",
       "                        <td id=\"T_b8973_row1_col3\" class=\"data row1 col3\" >nan</td>\n",
       "                        <td id=\"T_b8973_row1_col4\" class=\"data row1 col4\" >0.698000</td>\n",
       "            </tr>\n",
       "            <tr>\n",
       "                        <th id=\"T_b8973_level0_row2\" class=\"row_heading level0 row2\" >2</th>\n",
       "                        <td id=\"T_b8973_row2_col0\" class=\"data row2 col0\" >RandomForestClassifier</td>\n",
       "                        <td id=\"T_b8973_row2_col1\" class=\"data row2 col1\" >None</td>\n",
       "                        <td id=\"T_b8973_row2_col2\" class=\"data row2 col2\" >0.601000</td>\n",
       "                        <td id=\"T_b8973_row2_col3\" class=\"data row2 col3\" >nan</td>\n",
       "                        <td id=\"T_b8973_row2_col4\" class=\"data row2 col4\" >0.869500</td>\n",
       "            </tr>\n",
       "    </tbody></table>"
      ],
      "text/plain": [
       "<pandas.io.formats.style.Styler at 0x7f124c9f3be0>"
      ]
     },
     "execution_count": 28,
     "metadata": {},
     "output_type": "execute_result"
    }
   ],
   "source": [
    "models = [LogisticRegression(random_state=SEED),\n",
    "          DecisionTreeClassifier(random_state=SEED),\n",
    "          RandomForestClassifier(random_state=SEED)]\n",
    "\n",
    "scoring_none = perform_scoring('None', \n",
    "                               models,\n",
    "                               fts_train, fts_valid,\n",
    "                               tgt_train, tgt_valid)\n",
    "\n",
    "scoring_none.style.highlight_max(subset=['f1', 'auc_roc'],\n",
    "                                 color='lightblue',\n",
    "                                 axis = 0)"
   ]
  },
  {
   "cell_type": "markdown",
   "metadata": {},
   "source": [
    "На несбанасированной выборке:\n",
    " - RandomForestClassifier показывает лучшие значения F1-меры и AUC ROC,\n",
    " - LogisticRegression показывает весьма низкое значение F1-меры при среднем AUC ROC,\n",
    " - DecisionTreeClassifier показывает среднее значение F1-меры при минимальном AUC ROC.\n",
    " \n",
    "### Пересемплирование (Upsampling)\n",
    "Выровняем баланс обучающей выборки, увеличив количество объектов положительного класса. "
   ]
  },
  {
   "cell_type": "code",
   "execution_count": 29,
   "metadata": {},
   "outputs": [],
   "source": [
    "up_multiplier = round(tgt_train.value_counts().max() / tgt_train.value_counts().min())\n",
    "fts_train_upsampled, tgt_train_upsampled = resample_data(fts_train, tgt_train, up_multiplier)"
   ]
  },
  {
   "cell_type": "markdown",
   "metadata": {},
   "source": [
    "Проверим новый баланс классов."
   ]
  },
  {
   "cell_type": "code",
   "execution_count": 30,
   "metadata": {},
   "outputs": [
    {
     "data": {
      "text/plain": [
       "1    4448\n",
       "0    4342\n",
       "Name: exited, dtype: int64"
      ]
     },
     "execution_count": 30,
     "metadata": {},
     "output_type": "execute_result"
    }
   ],
   "source": [
    "tgt_train_upsampled.value_counts()"
   ]
  },
  {
   "cell_type": "markdown",
   "metadata": {},
   "source": [
    "Обучим модели на новой сбалансированной выборке, а метрики качества оценим на валидационной."
   ]
  },
  {
   "cell_type": "code",
   "execution_count": 31,
   "metadata": {},
   "outputs": [
    {
     "data": {
      "text/html": [
       "<style  type=\"text/css\" >\n",
       "#T_71cd3_row2_col2,#T_71cd3_row2_col4{\n",
       "            background-color:  lightblue;\n",
       "        }</style><table id=\"T_71cd3_\" ><thead>    <tr>        <th class=\"blank level0\" ></th>        <th class=\"col_heading level0 col0\" >model</th>        <th class=\"col_heading level0 col1\" >method</th>        <th class=\"col_heading level0 col2\" >f1</th>        <th class=\"col_heading level0 col3\" >threshold</th>        <th class=\"col_heading level0 col4\" >auc_roc</th>    </tr></thead><tbody>\n",
       "                <tr>\n",
       "                        <th id=\"T_71cd3_level0_row0\" class=\"row_heading level0 row0\" >0</th>\n",
       "                        <td id=\"T_71cd3_row0_col0\" class=\"data row0 col0\" >LogisticRegression</td>\n",
       "                        <td id=\"T_71cd3_row0_col1\" class=\"data row0 col1\" >Upsampling</td>\n",
       "                        <td id=\"T_71cd3_row0_col2\" class=\"data row0 col2\" >0.534200</td>\n",
       "                        <td id=\"T_71cd3_row0_col3\" class=\"data row0 col3\" >nan</td>\n",
       "                        <td id=\"T_71cd3_row0_col4\" class=\"data row0 col4\" >0.794400</td>\n",
       "            </tr>\n",
       "            <tr>\n",
       "                        <th id=\"T_71cd3_level0_row1\" class=\"row_heading level0 row1\" >1</th>\n",
       "                        <td id=\"T_71cd3_row1_col0\" class=\"data row1 col0\" >DecisionTreeClassifier</td>\n",
       "                        <td id=\"T_71cd3_row1_col1\" class=\"data row1 col1\" >Upsampling</td>\n",
       "                        <td id=\"T_71cd3_row1_col2\" class=\"data row1 col2\" >0.495300</td>\n",
       "                        <td id=\"T_71cd3_row1_col3\" class=\"data row1 col3\" >nan</td>\n",
       "                        <td id=\"T_71cd3_row1_col4\" class=\"data row1 col4\" >0.682700</td>\n",
       "            </tr>\n",
       "            <tr>\n",
       "                        <th id=\"T_71cd3_level0_row2\" class=\"row_heading level0 row2\" >2</th>\n",
       "                        <td id=\"T_71cd3_row2_col0\" class=\"data row2 col0\" >RandomForestClassifier</td>\n",
       "                        <td id=\"T_71cd3_row2_col1\" class=\"data row2 col1\" >Upsampling</td>\n",
       "                        <td id=\"T_71cd3_row2_col2\" class=\"data row2 col2\" >0.610700</td>\n",
       "                        <td id=\"T_71cd3_row2_col3\" class=\"data row2 col3\" >nan</td>\n",
       "                        <td id=\"T_71cd3_row2_col4\" class=\"data row2 col4\" >0.863500</td>\n",
       "            </tr>\n",
       "    </tbody></table>"
      ],
      "text/plain": [
       "<pandas.io.formats.style.Styler at 0x7f125553bbb0>"
      ]
     },
     "execution_count": 31,
     "metadata": {},
     "output_type": "execute_result"
    }
   ],
   "source": [
    "models = [LogisticRegression(random_state=SEED),\n",
    "          DecisionTreeClassifier(random_state=SEED),\n",
    "          RandomForestClassifier(random_state=SEED)]\n",
    "\n",
    "scoring_upsampling = perform_scoring('Upsampling', \n",
    "                                     models, \n",
    "                                     fts_train_upsampled, fts_valid, \n",
    "                                     tgt_train_upsampled, tgt_valid)\n",
    "\n",
    "scoring_upsampling.style.highlight_max(subset=['f1', 'auc_roc'],\n",
    "                                       color='lightblue',\n",
    "                                       axis = 0)"
   ]
  },
  {
   "cell_type": "markdown",
   "metadata": {},
   "source": [
    "На пересемплированной выборке:\n",
    " - RandomForestClassifier показывает лучшие значения F1-меры и AUC ROC,\n",
    " - LogisticRegression заметно улучшила результаты и показывает средние значения F1-меры и AUC ROC,\n",
    " - DecisionTreeClassifier показывает наиболее низкие значения F1-меры и AUC ROC.\n",
    " \n",
    "### Недосемплирование (Downsampling)\n",
    "Выровняем баланс обучающей выборки, уменьшив количество объектов отрицательного класса."
   ]
  },
  {
   "cell_type": "code",
   "execution_count": 32,
   "metadata": {},
   "outputs": [],
   "source": [
    "down_multiplier = tgt_train.value_counts().min() / tgt_train.value_counts().max()\n",
    "fts_train_dwnsampled, tgt_train_dwnsampled = resample_data(fts_train, tgt_train, down_multiplier)"
   ]
  },
  {
   "cell_type": "markdown",
   "metadata": {},
   "source": [
    "Проверим новый баланс классов."
   ]
  },
  {
   "cell_type": "code",
   "execution_count": 33,
   "metadata": {},
   "outputs": [
    {
     "data": {
      "text/plain": [
       "0    1112\n",
       "1    1112\n",
       "Name: exited, dtype: int64"
      ]
     },
     "execution_count": 33,
     "metadata": {},
     "output_type": "execute_result"
    }
   ],
   "source": [
    "tgt_train_dwnsampled.value_counts()"
   ]
  },
  {
   "cell_type": "markdown",
   "metadata": {},
   "source": [
    " Обучим модели на новой сбалансированной выборке, а метрики качества оценим на валидационной."
   ]
  },
  {
   "cell_type": "code",
   "execution_count": 34,
   "metadata": {},
   "outputs": [
    {
     "data": {
      "text/html": [
       "<style  type=\"text/css\" >\n",
       "#T_b83e9_row2_col2,#T_b83e9_row2_col4{\n",
       "            background-color:  lightblue;\n",
       "        }</style><table id=\"T_b83e9_\" ><thead>    <tr>        <th class=\"blank level0\" ></th>        <th class=\"col_heading level0 col0\" >model</th>        <th class=\"col_heading level0 col1\" >method</th>        <th class=\"col_heading level0 col2\" >f1</th>        <th class=\"col_heading level0 col3\" >threshold</th>        <th class=\"col_heading level0 col4\" >auc_roc</th>    </tr></thead><tbody>\n",
       "                <tr>\n",
       "                        <th id=\"T_b83e9_level0_row0\" class=\"row_heading level0 row0\" >0</th>\n",
       "                        <td id=\"T_b83e9_row0_col0\" class=\"data row0 col0\" >LogisticRegression</td>\n",
       "                        <td id=\"T_b83e9_row0_col1\" class=\"data row0 col1\" >Downsampling</td>\n",
       "                        <td id=\"T_b83e9_row0_col2\" class=\"data row0 col2\" >0.522100</td>\n",
       "                        <td id=\"T_b83e9_row0_col3\" class=\"data row0 col3\" >nan</td>\n",
       "                        <td id=\"T_b83e9_row0_col4\" class=\"data row0 col4\" >0.796500</td>\n",
       "            </tr>\n",
       "            <tr>\n",
       "                        <th id=\"T_b83e9_level0_row1\" class=\"row_heading level0 row1\" >1</th>\n",
       "                        <td id=\"T_b83e9_row1_col0\" class=\"data row1 col0\" >DecisionTreeClassifier</td>\n",
       "                        <td id=\"T_b83e9_row1_col1\" class=\"data row1 col1\" >Downsampling</td>\n",
       "                        <td id=\"T_b83e9_row1_col2\" class=\"data row1 col2\" >0.509200</td>\n",
       "                        <td id=\"T_b83e9_row1_col3\" class=\"data row1 col3\" >nan</td>\n",
       "                        <td id=\"T_b83e9_row1_col4\" class=\"data row1 col4\" >0.721300</td>\n",
       "            </tr>\n",
       "            <tr>\n",
       "                        <th id=\"T_b83e9_level0_row2\" class=\"row_heading level0 row2\" >2</th>\n",
       "                        <td id=\"T_b83e9_row2_col0\" class=\"data row2 col0\" >RandomForestClassifier</td>\n",
       "                        <td id=\"T_b83e9_row2_col1\" class=\"data row2 col1\" >Downsampling</td>\n",
       "                        <td id=\"T_b83e9_row2_col2\" class=\"data row2 col2\" >0.599600</td>\n",
       "                        <td id=\"T_b83e9_row2_col3\" class=\"data row2 col3\" >nan</td>\n",
       "                        <td id=\"T_b83e9_row2_col4\" class=\"data row2 col4\" >0.862400</td>\n",
       "            </tr>\n",
       "    </tbody></table>"
      ],
      "text/plain": [
       "<pandas.io.formats.style.Styler at 0x7f124c40eb80>"
      ]
     },
     "execution_count": 34,
     "metadata": {},
     "output_type": "execute_result"
    }
   ],
   "source": [
    "models = [LogisticRegression(random_state=SEED),\n",
    "          DecisionTreeClassifier(random_state=SEED),\n",
    "          RandomForestClassifier(random_state=SEED)]\n",
    "\n",
    "scoring_dwnsampling = perform_scoring('Downsampling', \n",
    "                                       models, \n",
    "                                       fts_train_dwnsampled, fts_valid, \n",
    "                                       tgt_train_dwnsampled, tgt_valid)\n",
    "\n",
    "scoring_dwnsampling.style.highlight_max(subset=['f1', 'auc_roc'],\n",
    "                                        color='lightblue',\n",
    "                                        axis = 0)"
   ]
  },
  {
   "cell_type": "markdown",
   "metadata": {},
   "source": [
    "На недосемплированной выборке:\n",
    " - RandomForestClassifier, по-прежнему, показывает лучшие значения F1-меры и AUC ROC,\n",
    " - LogisticRegression - на втором месте,\n",
    " - DecisionTreeClassifier показывает наиболее низкие значения F1-меры и AUC ROC.\n",
    " \n",
    "### Взвешивание классов (Class weight)\n",
    "Инициализируем модели, указав на дисбаланс классов с помощью параметра `class_weight='balanced'`. Обучим модели на несбалансированной выборке, а метрики качества оценим на валидационной."
   ]
  },
  {
   "cell_type": "code",
   "execution_count": 35,
   "metadata": {},
   "outputs": [
    {
     "data": {
      "text/html": [
       "<style  type=\"text/css\" >\n",
       "#T_bd9dc_row2_col2,#T_bd9dc_row2_col4{\n",
       "            background-color:  lightblue;\n",
       "        }</style><table id=\"T_bd9dc_\" ><thead>    <tr>        <th class=\"blank level0\" ></th>        <th class=\"col_heading level0 col0\" >model</th>        <th class=\"col_heading level0 col1\" >method</th>        <th class=\"col_heading level0 col2\" >f1</th>        <th class=\"col_heading level0 col3\" >threshold</th>        <th class=\"col_heading level0 col4\" >auc_roc</th>    </tr></thead><tbody>\n",
       "                <tr>\n",
       "                        <th id=\"T_bd9dc_level0_row0\" class=\"row_heading level0 row0\" >0</th>\n",
       "                        <td id=\"T_bd9dc_row0_col0\" class=\"data row0 col0\" >LogisticRegression</td>\n",
       "                        <td id=\"T_bd9dc_row0_col1\" class=\"data row0 col1\" >Class weight</td>\n",
       "                        <td id=\"T_bd9dc_row0_col2\" class=\"data row0 col2\" >0.532700</td>\n",
       "                        <td id=\"T_bd9dc_row0_col3\" class=\"data row0 col3\" >nan</td>\n",
       "                        <td id=\"T_bd9dc_row0_col4\" class=\"data row0 col4\" >0.794400</td>\n",
       "            </tr>\n",
       "            <tr>\n",
       "                        <th id=\"T_bd9dc_level0_row1\" class=\"row_heading level0 row1\" >1</th>\n",
       "                        <td id=\"T_bd9dc_row1_col0\" class=\"data row1 col0\" >DecisionTreeClassifier</td>\n",
       "                        <td id=\"T_bd9dc_row1_col1\" class=\"data row1 col1\" >Class weight</td>\n",
       "                        <td id=\"T_bd9dc_row1_col2\" class=\"data row1 col2\" >0.504700</td>\n",
       "                        <td id=\"T_bd9dc_row1_col3\" class=\"data row1 col3\" >nan</td>\n",
       "                        <td id=\"T_bd9dc_row1_col4\" class=\"data row1 col4\" >0.688800</td>\n",
       "            </tr>\n",
       "            <tr>\n",
       "                        <th id=\"T_bd9dc_level0_row2\" class=\"row_heading level0 row2\" >2</th>\n",
       "                        <td id=\"T_bd9dc_row2_col0\" class=\"data row2 col0\" >RandomForestClassifier</td>\n",
       "                        <td id=\"T_bd9dc_row2_col1\" class=\"data row2 col1\" >Class weight</td>\n",
       "                        <td id=\"T_bd9dc_row2_col2\" class=\"data row2 col2\" >0.567100</td>\n",
       "                        <td id=\"T_bd9dc_row2_col3\" class=\"data row2 col3\" >nan</td>\n",
       "                        <td id=\"T_bd9dc_row2_col4\" class=\"data row2 col4\" >0.867100</td>\n",
       "            </tr>\n",
       "    </tbody></table>"
      ],
      "text/plain": [
       "<pandas.io.formats.style.Styler at 0x7f124c828f40>"
      ]
     },
     "execution_count": 35,
     "metadata": {},
     "output_type": "execute_result"
    }
   ],
   "source": [
    "models = [LogisticRegression(class_weight='balanced', random_state=SEED),\n",
    "          DecisionTreeClassifier(class_weight='balanced', random_state=SEED),\n",
    "          RandomForestClassifier(class_weight='balanced', random_state=SEED)]\n",
    "\n",
    "scoring_class_weight = perform_scoring('Class weight', \n",
    "                                       models, \n",
    "                                       fts_train, fts_valid, \n",
    "                                       tgt_train, tgt_valid)\n",
    "\n",
    "scoring_class_weight.style.highlight_max(subset=['f1', 'auc_roc'],\n",
    "                                         color='lightblue',\n",
    "                                         axis = 0)"
   ]
  },
  {
   "cell_type": "markdown",
   "metadata": {},
   "source": [
    "На несбалансированной выборке со взвешиванием классов:\n",
    " - RandomForestClassifier показывает более низкое, но все же лучшее значение F1-меры и AUC ROC,\n",
    " - LogisticRegression - показывает средние значения F1-меры и AUC ROC,\n",
    " - DecisionTreeClassifier - на третьем месте.\n",
    " \n",
    "### Порог классификации (Threshold)\n",
    "Обучим модели на несбалансированной выборке. Затем на валидационной выборке подберем значение порога классификации так, чтобы F1-мера была максимальной."
   ]
  },
  {
   "cell_type": "code",
   "execution_count": 36,
   "metadata": {},
   "outputs": [
    {
     "data": {
      "text/html": [
       "<style  type=\"text/css\" >\n",
       "#T_d1fe4_row2_col2,#T_d1fe4_row2_col4{\n",
       "            background-color:  lightblue;\n",
       "        }</style><table id=\"T_d1fe4_\" ><thead>    <tr>        <th class=\"blank level0\" ></th>        <th class=\"col_heading level0 col0\" >model</th>        <th class=\"col_heading level0 col1\" >method</th>        <th class=\"col_heading level0 col2\" >f1</th>        <th class=\"col_heading level0 col3\" >threshold</th>        <th class=\"col_heading level0 col4\" >auc_roc</th>    </tr></thead><tbody>\n",
       "                <tr>\n",
       "                        <th id=\"T_d1fe4_level0_row0\" class=\"row_heading level0 row0\" >0</th>\n",
       "                        <td id=\"T_d1fe4_row0_col0\" class=\"data row0 col0\" >LogisticRegression</td>\n",
       "                        <td id=\"T_d1fe4_row0_col1\" class=\"data row0 col1\" >Threshold</td>\n",
       "                        <td id=\"T_d1fe4_row0_col2\" class=\"data row0 col2\" >0.543600</td>\n",
       "                        <td id=\"T_d1fe4_row0_col3\" class=\"data row0 col3\" >0.275000</td>\n",
       "                        <td id=\"T_d1fe4_row0_col4\" class=\"data row0 col4\" >0.794500</td>\n",
       "            </tr>\n",
       "            <tr>\n",
       "                        <th id=\"T_d1fe4_level0_row1\" class=\"row_heading level0 row1\" >1</th>\n",
       "                        <td id=\"T_d1fe4_row1_col0\" class=\"data row1 col0\" >DecisionTreeClassifier</td>\n",
       "                        <td id=\"T_d1fe4_row1_col1\" class=\"data row1 col1\" >Threshold</td>\n",
       "                        <td id=\"T_d1fe4_row1_col2\" class=\"data row1 col2\" >0.514100</td>\n",
       "                        <td id=\"T_d1fe4_row1_col3\" class=\"data row1 col3\" >0.000000</td>\n",
       "                        <td id=\"T_d1fe4_row1_col4\" class=\"data row1 col4\" >0.698000</td>\n",
       "            </tr>\n",
       "            <tr>\n",
       "                        <th id=\"T_d1fe4_level0_row2\" class=\"row_heading level0 row2\" >2</th>\n",
       "                        <td id=\"T_d1fe4_row2_col0\" class=\"data row2 col0\" >RandomForestClassifier</td>\n",
       "                        <td id=\"T_d1fe4_row2_col1\" class=\"data row2 col1\" >Threshold</td>\n",
       "                        <td id=\"T_d1fe4_row2_col2\" class=\"data row2 col2\" >0.643500</td>\n",
       "                        <td id=\"T_d1fe4_row2_col3\" class=\"data row2 col3\" >0.400000</td>\n",
       "                        <td id=\"T_d1fe4_row2_col4\" class=\"data row2 col4\" >0.869500</td>\n",
       "            </tr>\n",
       "    </tbody></table>"
      ],
      "text/plain": [
       "<pandas.io.formats.style.Styler at 0x7f1255238a00>"
      ]
     },
     "execution_count": 36,
     "metadata": {},
     "output_type": "execute_result"
    }
   ],
   "source": [
    "models = [LogisticRegression(random_state=SEED),\n",
    "          DecisionTreeClassifier(random_state=SEED),\n",
    "          RandomForestClassifier(random_state=SEED)]\n",
    "\n",
    "scoring_threshold = perform_scoring('Threshold', \n",
    "                                    models, \n",
    "                                    fts_train, fts_valid, \n",
    "                                    tgt_train, tgt_valid)\n",
    "\n",
    "scoring_threshold.style.highlight_max(subset=['f1', 'auc_roc'],\n",
    "                                      color='lightblue',\n",
    "                                      axis = 0)"
   ]
  },
  {
   "cell_type": "markdown",
   "metadata": {},
   "source": [
    "На несбалансированной выборке с подбором порога классификации все модели улучшили результат:\n",
    " - RandomForestClassifier лидирует с `threshold=0.400`,\n",
    " - LogisticRegression - на втором месте с `threshold=0.275`,\n",
    " - DecisionTreeClassifier - на третьем месте с `threshold=0.000`.\n",
    "\n",
    " \n",
    "### Предварительный итог\n",
    "Соберем общую статистику... "
   ]
  },
  {
   "cell_type": "code",
   "execution_count": 37,
   "metadata": {
    "scrolled": true
   },
   "outputs": [],
   "source": [
    "scoring = pd.concat([scoring_none] + \n",
    "                    [scoring_upsampling] + \n",
    "                    [scoring_dwnsampling] + \n",
    "                    [scoring_class_weight] + \n",
    "                    [scoring_threshold])"
   ]
  },
  {
   "cell_type": "markdown",
   "metadata": {},
   "source": [
    "...и посмотрим на нее в разрезе моделей."
   ]
  },
  {
   "cell_type": "code",
   "execution_count": 38,
   "metadata": {},
   "outputs": [
    {
     "name": "stdout",
     "output_type": "stream",
     "text": [
      "DecisionTreeClassifier\n"
     ]
    },
    {
     "data": {
      "text/html": [
       "<style  type=\"text/css\" >\n",
       "#T_7bd44_row0_col1,#T_7bd44_row2_col3,#T_7bd44_row4_col1{\n",
       "            background-color:  lightblue;\n",
       "        }</style><table id=\"T_7bd44_\" ><thead>    <tr>        <th class=\"blank level0\" ></th>        <th class=\"col_heading level0 col0\" >method</th>        <th class=\"col_heading level0 col1\" >f1</th>        <th class=\"col_heading level0 col2\" >threshold</th>        <th class=\"col_heading level0 col3\" >auc_roc</th>    </tr></thead><tbody>\n",
       "                <tr>\n",
       "                        <th id=\"T_7bd44_level0_row0\" class=\"row_heading level0 row0\" >0</th>\n",
       "                        <td id=\"T_7bd44_row0_col0\" class=\"data row0 col0\" >None</td>\n",
       "                        <td id=\"T_7bd44_row0_col1\" class=\"data row0 col1\" >0.514100</td>\n",
       "                        <td id=\"T_7bd44_row0_col2\" class=\"data row0 col2\" >nan</td>\n",
       "                        <td id=\"T_7bd44_row0_col3\" class=\"data row0 col3\" >0.698000</td>\n",
       "            </tr>\n",
       "            <tr>\n",
       "                        <th id=\"T_7bd44_level0_row1\" class=\"row_heading level0 row1\" >1</th>\n",
       "                        <td id=\"T_7bd44_row1_col0\" class=\"data row1 col0\" >Upsampling</td>\n",
       "                        <td id=\"T_7bd44_row1_col1\" class=\"data row1 col1\" >0.495300</td>\n",
       "                        <td id=\"T_7bd44_row1_col2\" class=\"data row1 col2\" >nan</td>\n",
       "                        <td id=\"T_7bd44_row1_col3\" class=\"data row1 col3\" >0.682700</td>\n",
       "            </tr>\n",
       "            <tr>\n",
       "                        <th id=\"T_7bd44_level0_row2\" class=\"row_heading level0 row2\" >2</th>\n",
       "                        <td id=\"T_7bd44_row2_col0\" class=\"data row2 col0\" >Downsampling</td>\n",
       "                        <td id=\"T_7bd44_row2_col1\" class=\"data row2 col1\" >0.509200</td>\n",
       "                        <td id=\"T_7bd44_row2_col2\" class=\"data row2 col2\" >nan</td>\n",
       "                        <td id=\"T_7bd44_row2_col3\" class=\"data row2 col3\" >0.721300</td>\n",
       "            </tr>\n",
       "            <tr>\n",
       "                        <th id=\"T_7bd44_level0_row3\" class=\"row_heading level0 row3\" >3</th>\n",
       "                        <td id=\"T_7bd44_row3_col0\" class=\"data row3 col0\" >Class weight</td>\n",
       "                        <td id=\"T_7bd44_row3_col1\" class=\"data row3 col1\" >0.504700</td>\n",
       "                        <td id=\"T_7bd44_row3_col2\" class=\"data row3 col2\" >nan</td>\n",
       "                        <td id=\"T_7bd44_row3_col3\" class=\"data row3 col3\" >0.688800</td>\n",
       "            </tr>\n",
       "            <tr>\n",
       "                        <th id=\"T_7bd44_level0_row4\" class=\"row_heading level0 row4\" >4</th>\n",
       "                        <td id=\"T_7bd44_row4_col0\" class=\"data row4 col0\" >Threshold</td>\n",
       "                        <td id=\"T_7bd44_row4_col1\" class=\"data row4 col1\" >0.514100</td>\n",
       "                        <td id=\"T_7bd44_row4_col2\" class=\"data row4 col2\" >0.000000</td>\n",
       "                        <td id=\"T_7bd44_row4_col3\" class=\"data row4 col3\" >0.698000</td>\n",
       "            </tr>\n",
       "    </tbody></table>"
      ],
      "text/plain": [
       "<pandas.io.formats.style.Styler at 0x7f124c828640>"
      ]
     },
     "metadata": {},
     "output_type": "display_data"
    },
    {
     "name": "stdout",
     "output_type": "stream",
     "text": [
      "\n",
      "LogisticRegression\n"
     ]
    },
    {
     "data": {
      "text/html": [
       "<style  type=\"text/css\" >\n",
       "#T_42bfb_row2_col3,#T_42bfb_row4_col1{\n",
       "            background-color:  lightblue;\n",
       "        }</style><table id=\"T_42bfb_\" ><thead>    <tr>        <th class=\"blank level0\" ></th>        <th class=\"col_heading level0 col0\" >method</th>        <th class=\"col_heading level0 col1\" >f1</th>        <th class=\"col_heading level0 col2\" >threshold</th>        <th class=\"col_heading level0 col3\" >auc_roc</th>    </tr></thead><tbody>\n",
       "                <tr>\n",
       "                        <th id=\"T_42bfb_level0_row0\" class=\"row_heading level0 row0\" >0</th>\n",
       "                        <td id=\"T_42bfb_row0_col0\" class=\"data row0 col0\" >None</td>\n",
       "                        <td id=\"T_42bfb_row0_col1\" class=\"data row0 col1\" >0.290900</td>\n",
       "                        <td id=\"T_42bfb_row0_col2\" class=\"data row0 col2\" >nan</td>\n",
       "                        <td id=\"T_42bfb_row0_col3\" class=\"data row0 col3\" >0.794500</td>\n",
       "            </tr>\n",
       "            <tr>\n",
       "                        <th id=\"T_42bfb_level0_row1\" class=\"row_heading level0 row1\" >1</th>\n",
       "                        <td id=\"T_42bfb_row1_col0\" class=\"data row1 col0\" >Upsampling</td>\n",
       "                        <td id=\"T_42bfb_row1_col1\" class=\"data row1 col1\" >0.534200</td>\n",
       "                        <td id=\"T_42bfb_row1_col2\" class=\"data row1 col2\" >nan</td>\n",
       "                        <td id=\"T_42bfb_row1_col3\" class=\"data row1 col3\" >0.794400</td>\n",
       "            </tr>\n",
       "            <tr>\n",
       "                        <th id=\"T_42bfb_level0_row2\" class=\"row_heading level0 row2\" >2</th>\n",
       "                        <td id=\"T_42bfb_row2_col0\" class=\"data row2 col0\" >Downsampling</td>\n",
       "                        <td id=\"T_42bfb_row2_col1\" class=\"data row2 col1\" >0.522100</td>\n",
       "                        <td id=\"T_42bfb_row2_col2\" class=\"data row2 col2\" >nan</td>\n",
       "                        <td id=\"T_42bfb_row2_col3\" class=\"data row2 col3\" >0.796500</td>\n",
       "            </tr>\n",
       "            <tr>\n",
       "                        <th id=\"T_42bfb_level0_row3\" class=\"row_heading level0 row3\" >3</th>\n",
       "                        <td id=\"T_42bfb_row3_col0\" class=\"data row3 col0\" >Class weight</td>\n",
       "                        <td id=\"T_42bfb_row3_col1\" class=\"data row3 col1\" >0.532700</td>\n",
       "                        <td id=\"T_42bfb_row3_col2\" class=\"data row3 col2\" >nan</td>\n",
       "                        <td id=\"T_42bfb_row3_col3\" class=\"data row3 col3\" >0.794400</td>\n",
       "            </tr>\n",
       "            <tr>\n",
       "                        <th id=\"T_42bfb_level0_row4\" class=\"row_heading level0 row4\" >4</th>\n",
       "                        <td id=\"T_42bfb_row4_col0\" class=\"data row4 col0\" >Threshold</td>\n",
       "                        <td id=\"T_42bfb_row4_col1\" class=\"data row4 col1\" >0.543600</td>\n",
       "                        <td id=\"T_42bfb_row4_col2\" class=\"data row4 col2\" >0.275000</td>\n",
       "                        <td id=\"T_42bfb_row4_col3\" class=\"data row4 col3\" >0.794500</td>\n",
       "            </tr>\n",
       "    </tbody></table>"
      ],
      "text/plain": [
       "<pandas.io.formats.style.Styler at 0x7f124c81dac0>"
      ]
     },
     "metadata": {},
     "output_type": "display_data"
    },
    {
     "name": "stdout",
     "output_type": "stream",
     "text": [
      "\n",
      "RandomForestClassifier\n"
     ]
    },
    {
     "data": {
      "text/html": [
       "<style  type=\"text/css\" >\n",
       "#T_1a65e_row0_col3,#T_1a65e_row4_col1,#T_1a65e_row4_col3{\n",
       "            background-color:  lightblue;\n",
       "        }</style><table id=\"T_1a65e_\" ><thead>    <tr>        <th class=\"blank level0\" ></th>        <th class=\"col_heading level0 col0\" >method</th>        <th class=\"col_heading level0 col1\" >f1</th>        <th class=\"col_heading level0 col2\" >threshold</th>        <th class=\"col_heading level0 col3\" >auc_roc</th>    </tr></thead><tbody>\n",
       "                <tr>\n",
       "                        <th id=\"T_1a65e_level0_row0\" class=\"row_heading level0 row0\" >0</th>\n",
       "                        <td id=\"T_1a65e_row0_col0\" class=\"data row0 col0\" >None</td>\n",
       "                        <td id=\"T_1a65e_row0_col1\" class=\"data row0 col1\" >0.601000</td>\n",
       "                        <td id=\"T_1a65e_row0_col2\" class=\"data row0 col2\" >nan</td>\n",
       "                        <td id=\"T_1a65e_row0_col3\" class=\"data row0 col3\" >0.869500</td>\n",
       "            </tr>\n",
       "            <tr>\n",
       "                        <th id=\"T_1a65e_level0_row1\" class=\"row_heading level0 row1\" >1</th>\n",
       "                        <td id=\"T_1a65e_row1_col0\" class=\"data row1 col0\" >Upsampling</td>\n",
       "                        <td id=\"T_1a65e_row1_col1\" class=\"data row1 col1\" >0.610700</td>\n",
       "                        <td id=\"T_1a65e_row1_col2\" class=\"data row1 col2\" >nan</td>\n",
       "                        <td id=\"T_1a65e_row1_col3\" class=\"data row1 col3\" >0.863500</td>\n",
       "            </tr>\n",
       "            <tr>\n",
       "                        <th id=\"T_1a65e_level0_row2\" class=\"row_heading level0 row2\" >2</th>\n",
       "                        <td id=\"T_1a65e_row2_col0\" class=\"data row2 col0\" >Downsampling</td>\n",
       "                        <td id=\"T_1a65e_row2_col1\" class=\"data row2 col1\" >0.599600</td>\n",
       "                        <td id=\"T_1a65e_row2_col2\" class=\"data row2 col2\" >nan</td>\n",
       "                        <td id=\"T_1a65e_row2_col3\" class=\"data row2 col3\" >0.862400</td>\n",
       "            </tr>\n",
       "            <tr>\n",
       "                        <th id=\"T_1a65e_level0_row3\" class=\"row_heading level0 row3\" >3</th>\n",
       "                        <td id=\"T_1a65e_row3_col0\" class=\"data row3 col0\" >Class weight</td>\n",
       "                        <td id=\"T_1a65e_row3_col1\" class=\"data row3 col1\" >0.567100</td>\n",
       "                        <td id=\"T_1a65e_row3_col2\" class=\"data row3 col2\" >nan</td>\n",
       "                        <td id=\"T_1a65e_row3_col3\" class=\"data row3 col3\" >0.867100</td>\n",
       "            </tr>\n",
       "            <tr>\n",
       "                        <th id=\"T_1a65e_level0_row4\" class=\"row_heading level0 row4\" >4</th>\n",
       "                        <td id=\"T_1a65e_row4_col0\" class=\"data row4 col0\" >Threshold</td>\n",
       "                        <td id=\"T_1a65e_row4_col1\" class=\"data row4 col1\" >0.643500</td>\n",
       "                        <td id=\"T_1a65e_row4_col2\" class=\"data row4 col2\" >0.400000</td>\n",
       "                        <td id=\"T_1a65e_row4_col3\" class=\"data row4 col3\" >0.869500</td>\n",
       "            </tr>\n",
       "    </tbody></table>"
      ],
      "text/plain": [
       "<pandas.io.formats.style.Styler at 0x7f124c81d670>"
      ]
     },
     "metadata": {},
     "output_type": "display_data"
    },
    {
     "name": "stdout",
     "output_type": "stream",
     "text": [
      "\n"
     ]
    }
   ],
   "source": [
    "scoring_by_model = {}\n",
    "for m in scoring['model'].value_counts().index:\n",
    "    s = scoring[scoring['model'] == m].reset_index(drop=True).loc[:, 'method':]\n",
    "    scoring_by_model[m] = s \n",
    "\n",
    "for key, value in scoring_by_model.items():\n",
    "    print(key)\n",
    "    display(value.style.highlight_max(subset=['f1', 'auc_roc'],\n",
    "                                      color='lightblue',\n",
    "                                      axis = 0))\n",
    "    print()"
   ]
  },
  {
   "cell_type": "markdown",
   "metadata": {},
   "source": [
    "В 5 сценариях борьбы с дисбалансом классов мы использовали модели с гиперпараметрами по-умолчанию. Параметры качества (F1-меру и AUC ROC) измеряли на валидационной выборке. \n",
    "\n",
    "**Подведем предварительные итоги**:\n",
    "- RandomForestClassifier:\n",
    "    - лидирует по всем показателям во всех сценариях борьбы с дисбалансом,     \n",
    "    - показывает лучшие результаты при подборе порога классификации (Threshold),\n",
    "    - мало реагирует на пере/недосемплирование (Up/Downsampling),\n",
    "    - заметно снижает значение F1-меры при взвешивании классов (Class weight),\n",
    "    - во всех сценариях демонстрирует приблизительно одинаковую AUC ROC,\n",
    "    - в 4 случаях из 5 имеет F1-меру больше порогового значения 0.59,\n",
    "- LogisticRegression:\n",
    "    - показывает минимальное значение F1-меры в первом сценарии (None),\n",
    "    - заметно повышает F1-меру и AUC ROC, т.о., выходит на второе место, в остальных сценариях;\n",
    "    - показывает лучшие результаты при подборе порога классификации (Threshold),    \n",
    "    - во всех сценариях демонстрирует приблизительно одинаковую AUC ROC,\n",
    "    - во всех сценариях имеет F1-меру значительно ниже порогового значения 0.59,\n",
    "- DecisionTreeClassifier:\n",
    "    - занимает третье место, демонстрируя самые низкие показатели (за исключением F1-меры в сценарии None),\n",
    "    - лучшее значение F1-меры имеет в сценариях без борьбы (None) и порога классификации (Threshold),\n",
    "    - показывает бОльший разброс AUC ROC с максимумом в сценарии недосемплирования (Downsampling), \n",
    "    - во всех сценариях имеет F1-меру значительно ниже порогового значения 0.59.\n",
    "    \n",
    "Т.о., модель RandomForestClassifier с подбором порога классификации (Threshold) выглядят наиболее перспективными с т.з. максимизации F1-меры и AUC ROC.\n",
    "## Тестирование модели\n",
    "Проверим свое предположение: \n",
    "- инициализируем RandomForestClassifier с гиперпараметрами по-умолчанию,\n",
    "- обучим модель на несбалансированной обучающей выборке, \n",
    "- на валидационной выборке максимизируем F1-меру, подобрав оптимальный порог классификации (Threshold),\n",
    "- на тестовой выборке оценим F1-меру, применив оптимальный порог классификации (Threshold),\n",
    "- если F1-мера на тестовой выборке окажется ниже 0.59, добьемся подходящего значения, подобрав оптимальные гиперпараметры.\n",
    "\n",
    "### Гиперпараметры по-умолчанию "
   ]
  },
  {
   "cell_type": "code",
   "execution_count": 39,
   "metadata": {},
   "outputs": [
    {
     "name": "stdout",
     "output_type": "stream",
     "text": [
      "Валидационная выборка: \n",
      " - F1-мера: 0.6435 \n",
      " - порог классификации: 0.4 \n",
      "Тестовая выборка: \n",
      " - F1-мера: 0.5714 \n",
      " - порог классификации: 0.4\n"
     ]
    }
   ],
   "source": [
    "rfc = RandomForestClassifier(random_state=SEED)\n",
    "rfc.fit(fts_train, tgt_train)\n",
    "\n",
    "f1_valid, threshold_valid = get_best_f1_threshold(rfc, fts_valid, tgt_valid)\n",
    "f1_test = f1_score(tgt_test, rfc.predict_proba(fts_test)[:, 1] > threshold_valid)\n",
    "print('Валидационная выборка:',\n",
    "      '\\n - F1-мера:', round(f1_valid, 4),\n",
    "      '\\n - порог классификации:', round(threshold_valid, 4),\n",
    "      '\\nТестовая выборка:',\n",
    "      '\\n - F1-мера:', round(f1_test, 4),\n",
    "      '\\n - порог классификации:', round(threshold_valid, 4))"
   ]
  },
  {
   "cell_type": "markdown",
   "metadata": {},
   "source": [
    "Значение F1-меры с порогом классификации 0.4 на тестовой выборке ниже порогового. Переходим к подбору гиперпараметров.\n",
    "### Подбор гиперпараметров\n",
    "Опишем функцию, которая поможет нам в подборе. "
   ]
  },
  {
   "cell_type": "code",
   "execution_count": 40,
   "metadata": {},
   "outputs": [],
   "source": [
    "def expand_params(index, p_collapsed_dict, p_expanded_list, p_expanded):\n",
    "    \"\"\"Формирует список словарей с различными комбинациями \n",
    "    гиперпараметров для инициализации модели.    \n",
    "    АРГУМЕНТЫ:\n",
    "    index -- адрес текущего параметра в словаре p_collapsed_dict \n",
    "    p_collapsed_dict -- словарь с параметрами вида \n",
    "                        {ИМЯ1 : [ЗНАЧЕНИЕ1, ...], ..., ИМЯn : [ЗНАЧЕНИЕn, ...]} \n",
    "    p_expanded_list -- список словарей с комбинациями параметров вида\n",
    "                       [{ИМЯ1 : ЗНАЧЕНИЕ1, ..., ИМЯn : ЗНАЧЕНИЕn}, ...]\n",
    "    p_expanded -- словарь для хранения текущей комбинации параметров \n",
    "    \"\"\"    \n",
    "    #Определяем количество параметров\n",
    "    p_count = len(p_collapsed_dict)\n",
    "    #Определяем текущий параметр\n",
    "    p_name = list(p_collapsed_dict.keys())[index]\n",
    "    #Определяем значения текущего параметр\n",
    "    p_values = p_collapsed_dict[p_name]\n",
    "    #Итерируем значения\n",
    "    for p_value in p_values:                \n",
    "        p_expanded[p_name] = p_value\n",
    "        #Если список параметров не пройден до конца, проводим рекурсивный вызов\n",
    "        if index+1 < p_count:\n",
    "            expand_params(index+1, p_collapsed_dict, p_expanded_list, p_expanded)\n",
    "        ##Если список параметров пройден до конца, сохраняем текущую комбинацию значений\n",
    "        else:            \n",
    "            p_expanded_list.append(p_expanded.copy())"
   ]
  },
  {
   "cell_type": "markdown",
   "metadata": {},
   "source": [
    "Варьируем значения `n_estimators`, `max_depth` и `class_weight`, чтобы добиться максимального значения F1-меры на валидационной выборке. Проверим, как сформировались варианты гиперпараметров..."
   ]
  },
  {
   "cell_type": "code",
   "execution_count": 50,
   "metadata": {},
   "outputs": [
    {
     "data": {
      "text/plain": [
       "[{'max_depth': 8, 'n_estimators': 100, 'class_weight': 'balanced'},\n",
       " {'max_depth': 8, 'n_estimators': 100, 'class_weight': None},\n",
       " {'max_depth': 8, 'n_estimators': 110, 'class_weight': 'balanced'},\n",
       " {'max_depth': 8, 'n_estimators': 110, 'class_weight': None},\n",
       " {'max_depth': 8, 'n_estimators': 120, 'class_weight': 'balanced'},\n",
       " {'max_depth': 8, 'n_estimators': 120, 'class_weight': None},\n",
       " {'max_depth': 8, 'n_estimators': 130, 'class_weight': 'balanced'},\n",
       " {'max_depth': 8, 'n_estimators': 130, 'class_weight': None},\n",
       " {'max_depth': 8, 'n_estimators': 140, 'class_weight': 'balanced'},\n",
       " {'max_depth': 8, 'n_estimators': 140, 'class_weight': None},\n",
       " {'max_depth': 8, 'n_estimators': 150, 'class_weight': 'balanced'},\n",
       " {'max_depth': 8, 'n_estimators': 150, 'class_weight': None},\n",
       " {'max_depth': 8, 'n_estimators': 160, 'class_weight': 'balanced'},\n",
       " {'max_depth': 8, 'n_estimators': 160, 'class_weight': None},\n",
       " {'max_depth': 8, 'n_estimators': 170, 'class_weight': 'balanced'},\n",
       " {'max_depth': 8, 'n_estimators': 170, 'class_weight': None},\n",
       " {'max_depth': 8, 'n_estimators': 180, 'class_weight': 'balanced'},\n",
       " {'max_depth': 8, 'n_estimators': 180, 'class_weight': None},\n",
       " {'max_depth': 8, 'n_estimators': 190, 'class_weight': 'balanced'},\n",
       " {'max_depth': 8, 'n_estimators': 190, 'class_weight': None},\n",
       " {'max_depth': 8, 'n_estimators': 200, 'class_weight': 'balanced'},\n",
       " {'max_depth': 8, 'n_estimators': 200, 'class_weight': None},\n",
       " {'max_depth': 9, 'n_estimators': 100, 'class_weight': 'balanced'},\n",
       " {'max_depth': 9, 'n_estimators': 100, 'class_weight': None},\n",
       " {'max_depth': 9, 'n_estimators': 110, 'class_weight': 'balanced'},\n",
       " {'max_depth': 9, 'n_estimators': 110, 'class_weight': None},\n",
       " {'max_depth': 9, 'n_estimators': 120, 'class_weight': 'balanced'},\n",
       " {'max_depth': 9, 'n_estimators': 120, 'class_weight': None},\n",
       " {'max_depth': 9, 'n_estimators': 130, 'class_weight': 'balanced'},\n",
       " {'max_depth': 9, 'n_estimators': 130, 'class_weight': None}]"
      ]
     },
     "execution_count": 50,
     "metadata": {},
     "output_type": "execute_result"
    }
   ],
   "source": [
    "hp_collapsed = {'max_depth' : list(range(8, 16)),\n",
    "                'n_estimators' : list(range(100, 210, 10)),            \n",
    "                'class_weight' : ['balanced', None]}\n",
    "\n",
    "hp_expanded = []\n",
    "expand_params(0, hp_collapsed, hp_expanded, {})\n",
    "hp_expanded[:30]"
   ]
  },
  {
   "cell_type": "markdown",
   "metadata": {},
   "source": [
    "...и найдем лучшее сочетание."
   ]
  },
  {
   "cell_type": "code",
   "execution_count": 69,
   "metadata": {},
   "outputs": [
    {
     "name": "stdout",
     "output_type": "stream",
     "text": [
      "Валидационная выборка: \n",
      " - F1-мера: 0.6401 \n",
      " - гиперпараметры: {'max_depth': 9, 'n_estimators': 170, 'class_weight': 'balanced'}\n"
     ]
    }
   ],
   "source": [
    "f1_best = 0\n",
    "hp_best = None\n",
    "for hp in hp_expanded:\n",
    "    m = RandomForestClassifier(random_state=SEED)\n",
    "    m.set_params(**hp)\n",
    "    m.fit(fts_train, tgt_train)\n",
    "    f1_current = f1_score(tgt_valid, m.predict(fts_valid))\n",
    "    if f1_current > f1_best:\n",
    "        f1_best = f1_current\n",
    "        hp_best = hp\n",
    "\n",
    "print('Валидационная выборка:',\n",
    "      '\\n - F1-мера:', round(f1_best, 4),\n",
    "      '\\n - гиперпараметры:', hp_best)"
   ]
  },
  {
   "cell_type": "markdown",
   "metadata": {},
   "source": [
    "Отметим, что взвешивание классов (`class_weight='balanced'`) дало высокое значение F1-меры совместно с подбором `max_depth` и `n_estimators`. Одновременно, то же самое взвешивание совемстено с гиперпараметрами по-умолчанию ухудшило показатель F1-меры ([см.4.6](#%D0%92%D0%B7%D0%B2%D0%B5%D1%88%D0%B8%D0%B2%D0%B0%D0%BD%D0%B8%D0%B5-%D0%BA%D0%BB%D0%B0%D1%81%D1%81%D0%BE%D0%B2-(Class-weight))). \n",
    "### Оптимальные гиперпараметры\n",
    "Посчитаем F1-меру на тестовой выборке с новыми гиперпараметрами."
   ]
  },
  {
   "cell_type": "code",
   "execution_count": 70,
   "metadata": {},
   "outputs": [
    {
     "name": "stdout",
     "output_type": "stream",
     "text": [
      "Валидационная выборка: \n",
      " - F1-мера: 0.6401 \n",
      " - порог классификации: 0.5 \n",
      "Тестовая выборка: \n",
      " - F1-мера: 0.5964 \n",
      " - порог классификации: 0.5\n"
     ]
    }
   ],
   "source": [
    "hp = hp_best.copy()\n",
    "hp['random_state'] = SEED\n",
    "rfc = RandomForestClassifier()\n",
    "rfc.set_params(**hp)\n",
    "rfc.fit(fts_train, tgt_train)\n",
    "\n",
    "f1_valid, threshold_valid = get_best_f1_threshold(rfc, fts_valid, tgt_valid)\n",
    "f1_test = f1_score(tgt_test, rfc.predict_proba(fts_test)[:, 1] > threshold_valid)\n",
    "print('Валидационная выборка:',\n",
    "      '\\n - F1-мера:', round(f1_valid, 4),\n",
    "      '\\n - порог классификации:', round(threshold_valid, 4),\n",
    "      '\\nТестовая выборка:',\n",
    "      '\\n - F1-мера:', round(f1_test, 4),\n",
    "      '\\n - порог классификации:', round(threshold_valid, 4))"
   ]
  },
  {
   "cell_type": "markdown",
   "metadata": {},
   "source": [
    "Мы добились подходящего значения F1-меры на тестовой выборке. Обратим внимание на подобранный порог классификации `threshold = 0.5`. Получается, что для заданных выборок (обучающей, валидационной и тестовой) и оптимальных гиперпараметров подбор порога классификации не играет роли, т.к. сам порог принимает значение по-умолчанию. \n",
    "\n",
    "Для текущей модели рассчитаем AUC ROC на тестовой выборке."
   ]
  },
  {
   "cell_type": "code",
   "execution_count": 44,
   "metadata": {},
   "outputs": [
    {
     "name": "stdout",
     "output_type": "stream",
     "text": [
      "Тестовая выборка: \n",
      " - AUC ROC: 0.8423\n"
     ]
    }
   ],
   "source": [
    "auc_roc = roc_auc_score(tgt_test, rfc.predict_proba(fts_test)[:, 1])\n",
    "print('Тестовая выборка:',\n",
    "      '\\n - AUC ROC:', round(auc_roc, 4))"
   ]
  },
  {
   "cell_type": "markdown",
   "metadata": {},
   "source": [
    "### PR и ROC кривые\n",
    "PR и ROC кривые показывают, насколько хорошо модель распознает классы на всем диапазоне порогов классификации. При этом первая оперирует метриками Precision и Recall, а вторая - True positive rate и False pasitive rate. \n",
    "\n",
    "Построим эти кривые для нашей модели."
   ]
  },
  {
   "cell_type": "code",
   "execution_count": 45,
   "metadata": {
    "scrolled": false
   },
   "outputs": [
    {
     "data": {
      "image/png": "[encoded data removed]",
      "text/plain": [
       "<Figure size 1152x540 with 2 Axes>"
      ]
     },
     "metadata": {
      "needs_background": "light"
     },
     "output_type": "display_data"
    }
   ],
   "source": [
    "fig, axis = plt.subplots(1, 2, figsize=(16, 7.5))\n",
    "\n",
    "p, r, t = precision_recall_curve(tgt_test, rfc.predict_proba(fts_test)[:, 1])\n",
    "axis[0].grid(True)\n",
    "axis[0].plot(r, p)\n",
    "axis[0].set_xlabel('Recall')\n",
    "axis[0].set_ylabel('Precision')\n",
    "axis[0].set_ylim([-0.05, 1.05])\n",
    "axis[0].set_xlim([-0.05, 1.05])\n",
    "axis[0].set_title('Кривая Precision-Recall')\n",
    "\n",
    "fpr, tpr, t = roc_curve(tgt_test, rfc.predict_proba(fts_test)[:, 1])\n",
    "axis[1].grid(True)\n",
    "axis[1].plot(fpr, tpr)\n",
    "axis[1].plot([0, 1], [0, 1], linestyle='--')\n",
    "axis[1].set_xlabel('False positive rate (FPR)')\n",
    "axis[1].set_ylabel('True positive rate (TPR)')\n",
    "axis[1].set_ylim([-0.05, 1.05])\n",
    "axis[1].set_xlim([-0.05, 1.05])\n",
    "axis[1].set_title('Кривая ROC') \n",
    "    \n",
    "fig.show()"
   ]
  },
  {
   "cell_type": "markdown",
   "metadata": {},
   "source": [
    "Графики показывают, что наша модель лучше случайной, но все же далека от идеала. PR кривая должна стремиться к точке (1, 1), где Presicion = Recall = 1, а ROC  кривая - к точке (0, 1), где FPR = 0 и TPR = 1. Иначе говоря, чем ближе площадь под кривой к 1, тем выше предсказательная сила модели.\n",
    "\n",
    "Одновременно наша модель показывает F1-меру выше порогового значения и, т.о., решает поставленную задачу на приемлемом уровне.\n",
    "## Выводы\n",
    "### Обзор и подготовка данных\n",
    "В ходе обзора было показано, что данные нуждаются в предобработке ([см.2](#%D0%9E%D0%B1%D0%B7%D0%BE%D1%80-%D0%B4%D0%B0%D0%BD%D0%BD%D1%8B%D1%85)).\n",
    "\n",
    "В ходе подготовки были:\n",
    "- обработаны пропуски ([см.3.2](#%D0%A0%D0%B0%D0%B1%D0%BE%D1%82%D0%B0-%D1%81-%D0%BF%D1%80%D0%BE%D0%BF%D1%83%D1%81%D0%BA%D0%B0%D0%BC%D0%B8)),\n",
    "- переименованы ([см.3.1](#%D0%9F%D0%B5%D1%80%D0%B5%D0%B8%D0%BC%D0%B5%D0%BD%D0%BE%D0%B2%D0%B0%D0%BD%D0%B8%D0%B5-%D1%81%D1%82%D0%BE%D0%BB%D0%B1%D1%86%D0%BE%D0%B2)), скорректированы ([см.3.3](#%D0%92%D1%8B%D0%B1%D0%BE%D1%80-%D0%BF%D1%80%D0%B8%D0%B7%D0%BD%D0%B0%D0%BA%D0%BE%D0%B2)), закодированы ([см.3.5](#%D0%9A%D0%BE%D0%B4%D0%B8%D1%80%D0%BE%D0%B2%D0%B0%D0%BD%D0%B8%D0%B5-%D0%BF%D1%80%D0%B8%D0%B7%D0%BD%D0%B0%D0%BA%D0%BE%D0%B2)) и отмасштабированы ([см.3.6](#%D0%9C%D0%B0%D1%81%D1%88%D1%82%D0%B0%D0%B1%D0%B8%D1%80%D0%BE%D0%B2%D0%B0%D0%BD%D0%B8%D0%B5-%D0%BF%D1%80%D0%B8%D0%B7%D0%BD%D0%B0%D0%BA%D0%BE%D0%B2)) признаки.\n",
    "\n",
    "### Исследование задачи\n",
    "Был показан и оценен дисбаланс классов, а также сформулированы свойства и структура дальнейшего исследования ([см.4](#%D0%98%D1%81%D1%81%D0%BB%D0%B5%D0%B4%D0%BE%D0%B2%D0%B0%D0%BD%D0%B8%D0%B5-%D0%B7%D0%B0%D0%B4%D0%B0%D1%87%D0%B8))\n",
    "\n",
    "### Формирование выборок\n",
    "Исходные данные были разбиты на обучающую, валидационную и тестовую выборки в соотношении 60%+20%+20% соответственно ([см.5](#%D0%A4%D0%BE%D1%80%D0%BC%D0%B8%D1%80%D0%BE%D0%B2%D0%B0%D0%BD%D0%B8%D0%B5-%D0%B2%D1%8B%D0%B1%D0%BE%D1%80%D0%BE%D0%BA))\n",
    "\n",
    "### Барьба с дисбалансом\n",
    "Сравнение метрик качества в 5 сценариях (см.[6.1](#%D0%91%D0%B5%D0%B7-%D0%B1%D0%BE%D1%80%D1%8C%D0%B1%D1%8B,-%D0%BA%D0%B0%D0%BA-%D0%B5%D1%81%D1%82%D1%8C-(None)), [6.2](#%D0%9F%D0%B5%D1%80%D0%B5%D1%81%D0%B5%D0%BC%D0%BF%D0%BB%D0%B8%D1%80%D0%BE%D0%B2%D0%B0%D0%BD%D0%B8%D0%B5-(Upsampling)), [6.3](#%D0%9D%D0%B5%D0%B4%D0%BE%D1%81%D0%B5%D0%BC%D0%BF%D0%BB%D0%B8%D1%80%D0%BE%D0%B2%D0%B0%D0%BD%D0%B8%D0%B5-(Downsampling)), [6.4](#%D0%92%D0%B7%D0%B2%D0%B5%D1%88%D0%B8%D0%B2%D0%B0%D0%BD%D0%B8%D0%B5-%D0%BA%D0%BB%D0%B0%D1%81%D1%81%D0%BE%D0%B2-(Class-weight)), [6.5](#%D0%9F%D0%BE%D1%80%D0%BE%D0%B3-%D0%BA%D0%BB%D0%B0%D1%81%D1%81%D0%B8%D1%84%D0%B8%D0%BA%D0%B0%D1%86%D0%B8%D0%B8-(Threshold))) показало, что наиболее перспективной является модель RandomForestClassifier при подборе порога классификации ([см.6.6](#%D0%9F%D1%80%D0%B5%D0%B4%D0%B2%D0%B0%D1%80%D0%B8%D1%82%D0%B5%D0%BB%D1%8C%D0%BD%D1%8B%D0%B9-%D0%B8%D1%82%D0%BE%D0%B3)).\n",
    "\n",
    "### Тестирование модели\n",
    "В ходе тестирвоания было показано следующее:\n",
    "- необходима оптимизация гиперпараметров модели (см.[7.1](#%D0%93%D0%B8%D0%BF%D0%B5%D1%80%D0%BF%D0%B0%D1%80%D0%B0%D0%BC%D0%B5%D1%82%D1%80%D1%8B-%D0%BF%D0%BE-%D1%83%D0%BC%D0%BE%D0%BB%D1%87%D0%B0%D0%BD%D0%B8%D1%8E), [7.2](#%D0%9F%D0%BE%D0%B4%D0%B1%D0%BE%D1%80-%D0%B3%D0%B8%D0%BF%D0%B5%D1%80%D0%BF%D0%B0%D1%80%D0%B0%D0%BC%D0%B5%D1%82%D1%80%D0%BE%D0%B2)),\n",
    "- RandomForestClassifier с гиперпараметрами `max_depth = 9`, `n_estimators = 170`, `class_weight = balanced` и порогом классификации `threshold = 0.5` демонстрирует `F1 = 0.5964` и `AUC ROC = 0.8423` на тестовой выборке. Т.о., решая задачу на необходимом (`F1 >= 0.59`) уровне. (см.[7.3](#%D0%9E%D0%BF%D1%82%D0%B8%D0%BC%D0%B0%D0%BB%D1%8C%D0%BD%D1%8B%D0%B5-%D0%B3%D0%B8%D0%BF%D0%B5%D1%80%D0%BF%D0%B0%D1%80%D0%B0%D0%BC%D0%B5%D1%82%D1%80%D1%8B), [7.4](#PR-%D0%B8-ROC-%D0%BA%D1%80%D0%B8%D0%B2%D1%8B%D0%B5))"
   ]
  }
 ],
 "metadata": {
  "ExecuteTimeLog": [
   {
    "duration": 388,
    "start_time": "2023-03-17T08:23:47.319Z"
   },
   {
    "duration": 3,
    "start_time": "2023-03-17T08:23:49.011Z"
   },
   {
    "duration": 3,
    "start_time": "2023-03-17T08:24:08.722Z"
   },
   {
    "duration": 2,
    "start_time": "2023-03-17T08:24:19.005Z"
   },
   {
    "duration": 90,
    "start_time": "2023-03-17T08:24:56.733Z"
   },
   {
    "duration": 1604,
    "start_time": "2023-03-17T08:25:03.416Z"
   },
   {
    "duration": 111,
    "start_time": "2023-03-17T08:25:24.199Z"
   },
   {
    "duration": 893,
    "start_time": "2023-03-17T08:25:30.581Z"
   },
   {
    "duration": 56,
    "start_time": "2023-03-17T08:26:48.920Z"
   },
   {
    "duration": 57,
    "start_time": "2023-03-17T08:28:51.912Z"
   },
   {
    "duration": 55,
    "start_time": "2023-03-17T08:28:58.279Z"
   },
   {
    "duration": 15,
    "start_time": "2023-03-17T08:29:07.083Z"
   },
   {
    "duration": 7,
    "start_time": "2023-03-17T08:31:40.843Z"
   },
   {
    "duration": 23,
    "start_time": "2023-03-17T08:59:33.150Z"
   },
   {
    "duration": 7,
    "start_time": "2023-03-17T08:59:57.665Z"
   },
   {
    "duration": 6,
    "start_time": "2023-03-17T09:00:06.795Z"
   },
   {
    "duration": 7,
    "start_time": "2023-03-17T09:00:21.512Z"
   },
   {
    "duration": 31,
    "start_time": "2023-03-17T09:02:11.220Z"
   },
   {
    "duration": 11,
    "start_time": "2023-03-17T09:02:50.547Z"
   },
   {
    "duration": 10,
    "start_time": "2023-03-17T09:02:56.390Z"
   },
   {
    "duration": 8,
    "start_time": "2023-03-17T09:03:05.293Z"
   },
   {
    "duration": 5,
    "start_time": "2023-03-17T09:06:26.039Z"
   },
   {
    "duration": 43,
    "start_time": "2023-03-17T09:07:25.357Z"
   },
   {
    "duration": 8,
    "start_time": "2023-03-17T09:16:11.476Z"
   },
   {
    "duration": 8,
    "start_time": "2023-03-17T09:16:23.203Z"
   },
   {
    "duration": 82,
    "start_time": "2023-03-17T09:16:45.464Z"
   },
   {
    "duration": 7,
    "start_time": "2023-03-17T09:16:48.604Z"
   },
   {
    "duration": 151,
    "start_time": "2023-03-17T09:19:03.503Z"
   },
   {
    "duration": 210,
    "start_time": "2023-03-17T09:19:22.981Z"
   },
   {
    "duration": 249,
    "start_time": "2023-03-17T09:19:55.518Z"
   },
   {
    "duration": 320,
    "start_time": "2023-03-17T09:20:23.602Z"
   },
   {
    "duration": 9,
    "start_time": "2023-03-17T09:28:28.156Z"
   },
   {
    "duration": 1409,
    "start_time": "2023-03-17T09:28:58.153Z"
   },
   {
    "duration": 559,
    "start_time": "2023-03-17T09:33:37.651Z"
   },
   {
    "duration": 36,
    "start_time": "2023-03-17T09:34:07.775Z"
   },
   {
    "duration": 7,
    "start_time": "2023-03-17T09:34:22.690Z"
   },
   {
    "duration": 7,
    "start_time": "2023-03-17T09:34:25.780Z"
   },
   {
    "duration": 7,
    "start_time": "2023-03-17T09:34:29.262Z"
   },
   {
    "duration": 12,
    "start_time": "2023-03-17T09:36:27.069Z"
   },
   {
    "duration": 9,
    "start_time": "2023-03-17T09:36:56.953Z"
   },
   {
    "duration": 8,
    "start_time": "2023-03-17T09:37:13.736Z"
   },
   {
    "duration": 8,
    "start_time": "2023-03-17T09:46:51.683Z"
   },
   {
    "duration": 77,
    "start_time": "2023-03-17T10:00:24.078Z"
   },
   {
    "duration": 49,
    "start_time": "2023-03-17T10:02:59.136Z"
   },
   {
    "duration": 48,
    "start_time": "2023-03-17T10:03:11.596Z"
   },
   {
    "duration": 19,
    "start_time": "2023-03-17T10:03:14.492Z"
   },
   {
    "duration": 14,
    "start_time": "2023-03-17T10:05:21.990Z"
   },
   {
    "duration": 50,
    "start_time": "2023-03-17T10:09:52.012Z"
   },
   {
    "duration": 13,
    "start_time": "2023-03-17T10:11:17.879Z"
   },
   {
    "duration": 50,
    "start_time": "2023-03-17T10:11:20.485Z"
   },
   {
    "duration": 17,
    "start_time": "2023-03-17T10:12:29.609Z"
   },
   {
    "duration": 11,
    "start_time": "2023-03-17T10:13:13.360Z"
   },
   {
    "duration": 4,
    "start_time": "2023-03-17T10:15:30.883Z"
   },
   {
    "duration": 5,
    "start_time": "2023-03-17T10:16:37.847Z"
   },
   {
    "duration": 10,
    "start_time": "2023-03-17T10:17:22.382Z"
   },
   {
    "duration": 11,
    "start_time": "2023-03-17T10:17:30.625Z"
   },
   {
    "duration": 13,
    "start_time": "2023-03-17T10:26:01.227Z"
   },
   {
    "duration": 1418,
    "start_time": "2023-03-17T10:31:44.362Z"
   },
   {
    "duration": 1596,
    "start_time": "2023-03-17T10:32:05.639Z"
   },
   {
    "duration": 1530,
    "start_time": "2023-03-17T10:34:58.192Z"
   },
   {
    "duration": 2069,
    "start_time": "2023-03-17T10:35:29.862Z"
   },
   {
    "duration": 894,
    "start_time": "2023-03-17T10:36:21.058Z"
   },
   {
    "duration": 3,
    "start_time": "2023-03-17T10:36:21.954Z"
   },
   {
    "duration": 74,
    "start_time": "2023-03-17T10:36:21.959Z"
   },
   {
    "duration": 14,
    "start_time": "2023-03-17T10:36:22.035Z"
   },
   {
    "duration": 11,
    "start_time": "2023-03-17T10:36:22.051Z"
   },
   {
    "duration": 5,
    "start_time": "2023-03-17T10:36:22.064Z"
   },
   {
    "duration": 24,
    "start_time": "2023-03-17T10:36:22.070Z"
   },
   {
    "duration": 44,
    "start_time": "2023-03-17T10:36:22.096Z"
   },
   {
    "duration": 2192,
    "start_time": "2023-03-17T10:36:22.142Z"
   },
   {
    "duration": 8,
    "start_time": "2023-03-17T10:36:24.337Z"
   },
   {
    "duration": 11,
    "start_time": "2023-03-17T10:36:24.346Z"
   },
   {
    "duration": 7,
    "start_time": "2023-03-17T10:36:24.358Z"
   },
   {
    "duration": 25,
    "start_time": "2023-03-17T10:36:24.366Z"
   },
   {
    "duration": 150,
    "start_time": "2023-03-17T10:36:24.392Z"
   },
   {
    "duration": 264,
    "start_time": "2023-03-17T10:36:24.544Z"
   },
   {
    "duration": 8,
    "start_time": "2023-03-17T10:36:24.811Z"
   },
   {
    "duration": 17,
    "start_time": "2023-03-17T10:36:24.820Z"
   },
   {
    "duration": 60,
    "start_time": "2023-03-17T10:37:16.668Z"
   },
   {
    "duration": 101,
    "start_time": "2023-03-17T10:38:02.670Z"
   },
   {
    "duration": 9,
    "start_time": "2023-03-17T10:38:09.521Z"
   },
   {
    "duration": 9,
    "start_time": "2023-03-17T10:38:20.791Z"
   },
   {
    "duration": 9,
    "start_time": "2023-03-17T10:38:33.557Z"
   },
   {
    "duration": 2099,
    "start_time": "2023-03-17T10:38:41.377Z"
   },
   {
    "duration": 4,
    "start_time": "2023-03-17T10:39:54.756Z"
   },
   {
    "duration": 11,
    "start_time": "2023-03-17T10:42:09.958Z"
   },
   {
    "duration": 12,
    "start_time": "2023-03-17T10:42:21.401Z"
   },
   {
    "duration": 5,
    "start_time": "2023-03-17T10:43:11.862Z"
   },
   {
    "duration": 4,
    "start_time": "2023-03-17T10:58:57.030Z"
   },
   {
    "duration": 3,
    "start_time": "2023-03-17T11:01:16.164Z"
   },
   {
    "duration": 10,
    "start_time": "2023-03-17T11:05:19.159Z"
   },
   {
    "duration": 4,
    "start_time": "2023-03-17T11:05:29.494Z"
   },
   {
    "duration": 5,
    "start_time": "2023-03-17T11:05:36.009Z"
   },
   {
    "duration": 12,
    "start_time": "2023-03-17T11:06:44.092Z"
   },
   {
    "duration": 1429,
    "start_time": "2023-03-17T11:10:20.993Z"
   },
   {
    "duration": 3,
    "start_time": "2023-03-17T11:10:22.425Z"
   },
   {
    "duration": 62,
    "start_time": "2023-03-17T11:10:22.430Z"
   },
   {
    "duration": 14,
    "start_time": "2023-03-17T11:10:22.495Z"
   },
   {
    "duration": 12,
    "start_time": "2023-03-17T11:10:22.510Z"
   },
   {
    "duration": 5,
    "start_time": "2023-03-17T11:10:22.524Z"
   },
   {
    "duration": 6,
    "start_time": "2023-03-17T11:10:22.531Z"
   },
   {
    "duration": 62,
    "start_time": "2023-03-17T11:10:22.538Z"
   },
   {
    "duration": 2093,
    "start_time": "2023-03-17T11:10:22.601Z"
   },
   {
    "duration": 6,
    "start_time": "2023-03-17T11:10:24.696Z"
   },
   {
    "duration": 16,
    "start_time": "2023-03-17T11:10:24.703Z"
   },
   {
    "duration": 1410,
    "start_time": "2023-03-17T11:10:24.721Z"
   },
   {
    "duration": 0,
    "start_time": "2023-03-17T11:10:26.133Z"
   },
   {
    "duration": 0,
    "start_time": "2023-03-17T11:10:26.134Z"
   },
   {
    "duration": 0,
    "start_time": "2023-03-17T11:10:26.135Z"
   },
   {
    "duration": 0,
    "start_time": "2023-03-17T11:10:26.137Z"
   },
   {
    "duration": 0,
    "start_time": "2023-03-17T11:10:26.138Z"
   },
   {
    "duration": 0,
    "start_time": "2023-03-17T11:10:26.139Z"
   },
   {
    "duration": 1348,
    "start_time": "2023-03-20T07:46:24.995Z"
   },
   {
    "duration": 2,
    "start_time": "2023-03-20T07:46:26.346Z"
   },
   {
    "duration": 201,
    "start_time": "2023-03-20T07:46:26.350Z"
   },
   {
    "duration": 15,
    "start_time": "2023-03-20T07:46:26.553Z"
   },
   {
    "duration": 13,
    "start_time": "2023-03-20T07:46:26.571Z"
   },
   {
    "duration": 5,
    "start_time": "2023-03-20T07:46:26.586Z"
   },
   {
    "duration": 6,
    "start_time": "2023-03-20T07:46:26.594Z"
   },
   {
    "duration": 59,
    "start_time": "2023-03-20T07:46:26.601Z"
   },
   {
    "duration": 1945,
    "start_time": "2023-03-20T07:46:26.661Z"
   },
   {
    "duration": 5,
    "start_time": "2023-03-20T07:46:28.608Z"
   },
   {
    "duration": 15,
    "start_time": "2023-03-20T07:46:28.615Z"
   },
   {
    "duration": 825,
    "start_time": "2023-03-20T07:46:28.632Z"
   },
   {
    "duration": 0,
    "start_time": "2023-03-20T07:46:29.459Z"
   },
   {
    "duration": 0,
    "start_time": "2023-03-20T07:46:29.461Z"
   },
   {
    "duration": 0,
    "start_time": "2023-03-20T07:46:29.462Z"
   },
   {
    "duration": 0,
    "start_time": "2023-03-20T07:46:29.463Z"
   },
   {
    "duration": 0,
    "start_time": "2023-03-20T07:46:29.464Z"
   },
   {
    "duration": 0,
    "start_time": "2023-03-20T07:46:29.465Z"
   },
   {
    "duration": 725,
    "start_time": "2023-03-20T07:57:35.182Z"
   },
   {
    "duration": 888,
    "start_time": "2023-03-20T07:57:48.266Z"
   },
   {
    "duration": 9,
    "start_time": "2023-03-20T07:58:09.933Z"
   },
   {
    "duration": 7,
    "start_time": "2023-03-20T07:58:28.602Z"
   },
   {
    "duration": 5,
    "start_time": "2023-03-20T07:59:23.055Z"
   },
   {
    "duration": 12,
    "start_time": "2023-03-20T07:59:32.743Z"
   },
   {
    "duration": 4,
    "start_time": "2023-03-20T08:02:03.867Z"
   },
   {
    "duration": 13,
    "start_time": "2023-03-20T08:02:09.218Z"
   },
   {
    "duration": 4,
    "start_time": "2023-03-20T08:04:03.076Z"
   },
   {
    "duration": 805,
    "start_time": "2023-03-20T08:05:15.451Z"
   },
   {
    "duration": 12,
    "start_time": "2023-03-20T08:05:41.312Z"
   },
   {
    "duration": 46,
    "start_time": "2023-03-20T08:05:59.476Z"
   },
   {
    "duration": 5,
    "start_time": "2023-03-20T08:06:02.859Z"
   },
   {
    "duration": 10,
    "start_time": "2023-03-20T08:06:58.533Z"
   },
   {
    "duration": 17,
    "start_time": "2023-03-20T08:07:08.607Z"
   },
   {
    "duration": 52,
    "start_time": "2023-03-20T08:27:24.661Z"
   },
   {
    "duration": 55,
    "start_time": "2023-03-20T08:28:58.997Z"
   },
   {
    "duration": 216,
    "start_time": "2023-03-20T08:29:27.814Z"
   },
   {
    "duration": 9,
    "start_time": "2023-03-20T08:29:53.337Z"
   },
   {
    "duration": 61,
    "start_time": "2023-03-20T08:30:32.208Z"
   },
   {
    "duration": 34,
    "start_time": "2023-03-20T08:35:01.067Z"
   },
   {
    "duration": 15,
    "start_time": "2023-03-20T08:35:19.536Z"
   },
   {
    "duration": 15,
    "start_time": "2023-03-20T08:35:51.498Z"
   },
   {
    "duration": 10,
    "start_time": "2023-03-20T08:36:10.798Z"
   },
   {
    "duration": 20,
    "start_time": "2023-03-20T08:36:13.894Z"
   },
   {
    "duration": 32,
    "start_time": "2023-03-20T08:37:26.498Z"
   },
   {
    "duration": 10,
    "start_time": "2023-03-20T08:39:58.710Z"
   },
   {
    "duration": 43,
    "start_time": "2023-03-20T08:42:07.009Z"
   },
   {
    "duration": 28,
    "start_time": "2023-03-20T08:42:14.505Z"
   },
   {
    "duration": 18,
    "start_time": "2023-03-20T08:44:33.750Z"
   },
   {
    "duration": 1370,
    "start_time": "2023-03-20T08:45:08.140Z"
   },
   {
    "duration": 2,
    "start_time": "2023-03-20T08:45:09.512Z"
   },
   {
    "duration": 72,
    "start_time": "2023-03-20T08:45:09.516Z"
   },
   {
    "duration": 15,
    "start_time": "2023-03-20T08:45:09.590Z"
   },
   {
    "duration": 12,
    "start_time": "2023-03-20T08:45:09.608Z"
   },
   {
    "duration": 5,
    "start_time": "2023-03-20T08:45:09.621Z"
   },
   {
    "duration": 5,
    "start_time": "2023-03-20T08:45:09.628Z"
   },
   {
    "duration": 74,
    "start_time": "2023-03-20T08:45:09.635Z"
   },
   {
    "duration": 1901,
    "start_time": "2023-03-20T08:45:09.710Z"
   },
   {
    "duration": 4,
    "start_time": "2023-03-20T08:45:11.612Z"
   },
   {
    "duration": 104,
    "start_time": "2023-03-20T08:45:11.617Z"
   },
   {
    "duration": 7,
    "start_time": "2023-03-20T08:45:11.723Z"
   },
   {
    "duration": 10,
    "start_time": "2023-03-20T08:45:11.731Z"
   },
   {
    "duration": 17,
    "start_time": "2023-03-20T08:45:11.744Z"
   },
   {
    "duration": 22,
    "start_time": "2023-03-20T08:45:11.762Z"
   },
   {
    "duration": 11,
    "start_time": "2023-03-20T08:45:11.786Z"
   },
   {
    "duration": 1208,
    "start_time": "2023-03-20T08:45:11.798Z"
   },
   {
    "duration": 0,
    "start_time": "2023-03-20T08:45:13.007Z"
   },
   {
    "duration": 0,
    "start_time": "2023-03-20T08:45:13.009Z"
   },
   {
    "duration": 0,
    "start_time": "2023-03-20T08:45:13.010Z"
   },
   {
    "duration": 0,
    "start_time": "2023-03-20T08:45:13.011Z"
   },
   {
    "duration": 0,
    "start_time": "2023-03-20T08:45:13.012Z"
   },
   {
    "duration": 0,
    "start_time": "2023-03-20T08:45:13.013Z"
   },
   {
    "duration": 1415,
    "start_time": "2023-03-20T08:45:15.899Z"
   },
   {
    "duration": 2,
    "start_time": "2023-03-20T08:45:17.317Z"
   },
   {
    "duration": 65,
    "start_time": "2023-03-20T08:45:17.321Z"
   },
   {
    "duration": 16,
    "start_time": "2023-03-20T08:45:17.389Z"
   },
   {
    "duration": 11,
    "start_time": "2023-03-20T08:45:17.407Z"
   },
   {
    "duration": 5,
    "start_time": "2023-03-20T08:45:17.419Z"
   },
   {
    "duration": 6,
    "start_time": "2023-03-20T08:45:17.425Z"
   },
   {
    "duration": 74,
    "start_time": "2023-03-20T08:45:17.433Z"
   },
   {
    "duration": 3302,
    "start_time": "2023-03-20T08:45:17.509Z"
   },
   {
    "duration": 4,
    "start_time": "2023-03-20T08:45:20.813Z"
   },
   {
    "duration": 15,
    "start_time": "2023-03-20T08:45:20.818Z"
   },
   {
    "duration": 7,
    "start_time": "2023-03-20T08:45:20.834Z"
   },
   {
    "duration": 5,
    "start_time": "2023-03-20T08:45:20.843Z"
   },
   {
    "duration": 46,
    "start_time": "2023-03-20T08:45:20.849Z"
   },
   {
    "duration": 20,
    "start_time": "2023-03-20T08:45:20.898Z"
   },
   {
    "duration": 11,
    "start_time": "2023-03-20T08:45:20.920Z"
   },
   {
    "duration": 870,
    "start_time": "2023-03-20T08:45:20.933Z"
   },
   {
    "duration": 0,
    "start_time": "2023-03-20T08:45:21.805Z"
   },
   {
    "duration": 0,
    "start_time": "2023-03-20T08:45:21.806Z"
   },
   {
    "duration": 0,
    "start_time": "2023-03-20T08:45:21.807Z"
   },
   {
    "duration": 0,
    "start_time": "2023-03-20T08:45:21.808Z"
   },
   {
    "duration": 0,
    "start_time": "2023-03-20T08:45:21.810Z"
   },
   {
    "duration": 0,
    "start_time": "2023-03-20T08:45:21.811Z"
   },
   {
    "duration": 1434,
    "start_time": "2023-03-20T08:45:53.898Z"
   },
   {
    "duration": 2,
    "start_time": "2023-03-20T08:45:55.334Z"
   },
   {
    "duration": 75,
    "start_time": "2023-03-20T08:45:55.337Z"
   },
   {
    "duration": 12,
    "start_time": "2023-03-20T08:45:55.414Z"
   },
   {
    "duration": 18,
    "start_time": "2023-03-20T08:45:55.428Z"
   },
   {
    "duration": 4,
    "start_time": "2023-03-20T08:45:55.448Z"
   },
   {
    "duration": 4,
    "start_time": "2023-03-20T08:45:55.453Z"
   },
   {
    "duration": 48,
    "start_time": "2023-03-20T08:45:55.459Z"
   },
   {
    "duration": 1906,
    "start_time": "2023-03-20T08:45:55.508Z"
   },
   {
    "duration": 3,
    "start_time": "2023-03-20T08:45:57.416Z"
   },
   {
    "duration": 19,
    "start_time": "2023-03-20T08:45:57.421Z"
   },
   {
    "duration": 4,
    "start_time": "2023-03-20T08:45:57.442Z"
   },
   {
    "duration": 4,
    "start_time": "2023-03-20T08:45:57.447Z"
   },
   {
    "duration": 27,
    "start_time": "2023-03-20T08:45:57.453Z"
   },
   {
    "duration": 31,
    "start_time": "2023-03-20T08:45:57.482Z"
   },
   {
    "duration": 11,
    "start_time": "2023-03-20T08:45:57.514Z"
   },
   {
    "duration": 886,
    "start_time": "2023-03-20T08:45:57.527Z"
   },
   {
    "duration": 0,
    "start_time": "2023-03-20T08:45:58.415Z"
   },
   {
    "duration": 0,
    "start_time": "2023-03-20T08:45:58.422Z"
   },
   {
    "duration": 0,
    "start_time": "2023-03-20T08:45:58.423Z"
   },
   {
    "duration": 0,
    "start_time": "2023-03-20T08:45:58.425Z"
   },
   {
    "duration": 0,
    "start_time": "2023-03-20T08:45:58.426Z"
   },
   {
    "duration": 0,
    "start_time": "2023-03-20T08:45:58.427Z"
   },
   {
    "duration": 1350,
    "start_time": "2023-03-20T08:48:11.906Z"
   },
   {
    "duration": 2,
    "start_time": "2023-03-20T08:48:13.258Z"
   },
   {
    "duration": 63,
    "start_time": "2023-03-20T08:48:13.262Z"
   },
   {
    "duration": 13,
    "start_time": "2023-03-20T08:48:13.326Z"
   },
   {
    "duration": 9,
    "start_time": "2023-03-20T08:48:13.341Z"
   },
   {
    "duration": 5,
    "start_time": "2023-03-20T08:48:13.351Z"
   },
   {
    "duration": 7,
    "start_time": "2023-03-20T08:48:13.357Z"
   },
   {
    "duration": 43,
    "start_time": "2023-03-20T08:48:13.365Z"
   },
   {
    "duration": 2116,
    "start_time": "2023-03-20T08:48:13.410Z"
   },
   {
    "duration": 6,
    "start_time": "2023-03-20T08:48:15.530Z"
   },
   {
    "duration": 26,
    "start_time": "2023-03-20T08:48:15.538Z"
   },
   {
    "duration": 10,
    "start_time": "2023-03-20T08:48:15.566Z"
   },
   {
    "duration": 10,
    "start_time": "2023-03-20T08:48:15.578Z"
   },
   {
    "duration": 22,
    "start_time": "2023-03-20T08:48:15.591Z"
   },
   {
    "duration": 38,
    "start_time": "2023-03-20T08:48:15.614Z"
   },
   {
    "duration": 34,
    "start_time": "2023-03-20T08:48:15.653Z"
   },
   {
    "duration": 1018,
    "start_time": "2023-03-20T08:48:15.689Z"
   },
   {
    "duration": 0,
    "start_time": "2023-03-20T08:48:16.708Z"
   },
   {
    "duration": 0,
    "start_time": "2023-03-20T08:48:16.710Z"
   },
   {
    "duration": 1,
    "start_time": "2023-03-20T08:48:16.710Z"
   },
   {
    "duration": 0,
    "start_time": "2023-03-20T08:48:16.711Z"
   },
   {
    "duration": 0,
    "start_time": "2023-03-20T08:48:16.713Z"
   },
   {
    "duration": 0,
    "start_time": "2023-03-20T08:48:16.713Z"
   },
   {
    "duration": 28,
    "start_time": "2023-03-20T08:49:13.509Z"
   },
   {
    "duration": 1524,
    "start_time": "2023-03-20T08:49:20.051Z"
   },
   {
    "duration": 3,
    "start_time": "2023-03-20T08:49:21.577Z"
   },
   {
    "duration": 66,
    "start_time": "2023-03-20T08:49:21.582Z"
   },
   {
    "duration": 16,
    "start_time": "2023-03-20T08:49:21.650Z"
   },
   {
    "duration": 19,
    "start_time": "2023-03-20T08:49:21.668Z"
   },
   {
    "duration": 7,
    "start_time": "2023-03-20T08:49:21.689Z"
   },
   {
    "duration": 6,
    "start_time": "2023-03-20T08:49:21.698Z"
   },
   {
    "duration": 70,
    "start_time": "2023-03-20T08:49:21.707Z"
   },
   {
    "duration": 2259,
    "start_time": "2023-03-20T08:49:21.779Z"
   },
   {
    "duration": 8,
    "start_time": "2023-03-20T08:49:24.045Z"
   },
   {
    "duration": 9,
    "start_time": "2023-03-20T08:49:24.056Z"
   },
   {
    "duration": 7,
    "start_time": "2023-03-20T08:49:24.076Z"
   },
   {
    "duration": 5,
    "start_time": "2023-03-20T08:49:24.086Z"
   },
   {
    "duration": 41,
    "start_time": "2023-03-20T08:49:24.093Z"
   },
   {
    "duration": 48,
    "start_time": "2023-03-20T08:49:24.137Z"
   },
   {
    "duration": 15,
    "start_time": "2023-03-20T08:49:24.187Z"
   },
   {
    "duration": 1032,
    "start_time": "2023-03-20T08:49:24.204Z"
   },
   {
    "duration": 0,
    "start_time": "2023-03-20T08:49:25.237Z"
   },
   {
    "duration": 0,
    "start_time": "2023-03-20T08:49:25.238Z"
   },
   {
    "duration": 0,
    "start_time": "2023-03-20T08:49:25.240Z"
   },
   {
    "duration": 0,
    "start_time": "2023-03-20T08:49:25.241Z"
   },
   {
    "duration": 0,
    "start_time": "2023-03-20T08:49:25.242Z"
   },
   {
    "duration": 0,
    "start_time": "2023-03-20T08:49:25.243Z"
   },
   {
    "duration": 13,
    "start_time": "2023-03-20T08:52:23.532Z"
   },
   {
    "duration": 11,
    "start_time": "2023-03-20T08:52:29.624Z"
   },
   {
    "duration": 6,
    "start_time": "2023-03-20T09:00:44.176Z"
   },
   {
    "duration": 51,
    "start_time": "2023-03-20T09:02:14.075Z"
   },
   {
    "duration": 5,
    "start_time": "2023-03-20T09:03:02.936Z"
   },
   {
    "duration": 5,
    "start_time": "2023-03-20T09:03:16.005Z"
   },
   {
    "duration": 5,
    "start_time": "2023-03-20T09:03:27.941Z"
   },
   {
    "duration": 4,
    "start_time": "2023-03-20T09:03:33.953Z"
   },
   {
    "duration": 5,
    "start_time": "2023-03-20T09:04:01.762Z"
   },
   {
    "duration": 7,
    "start_time": "2023-03-20T09:05:07.916Z"
   },
   {
    "duration": 6,
    "start_time": "2023-03-20T09:06:17.121Z"
   },
   {
    "duration": 42,
    "start_time": "2023-03-20T09:06:36.713Z"
   },
   {
    "duration": 6,
    "start_time": "2023-03-20T09:06:51.755Z"
   },
   {
    "duration": 15,
    "start_time": "2023-03-20T09:21:44.290Z"
   },
   {
    "duration": 4,
    "start_time": "2023-03-20T09:21:51.634Z"
   },
   {
    "duration": 10,
    "start_time": "2023-03-20T09:26:06.288Z"
   },
   {
    "duration": 9,
    "start_time": "2023-03-20T09:26:14.314Z"
   },
   {
    "duration": 13,
    "start_time": "2023-03-20T09:27:02.906Z"
   },
   {
    "duration": 8,
    "start_time": "2023-03-20T09:27:07.109Z"
   },
   {
    "duration": 1217,
    "start_time": "2023-03-20T09:31:57.158Z"
   },
   {
    "duration": 287,
    "start_time": "2023-03-20T09:32:11.606Z"
   },
   {
    "duration": 10,
    "start_time": "2023-03-20T09:33:34.406Z"
   },
   {
    "duration": 43,
    "start_time": "2023-03-20T09:34:13.608Z"
   },
   {
    "duration": 784,
    "start_time": "2023-03-20T09:35:15.744Z"
   },
   {
    "duration": 151,
    "start_time": "2023-03-20T09:42:15.332Z"
   },
   {
    "duration": 321,
    "start_time": "2023-03-20T09:43:00.359Z"
   },
   {
    "duration": 724,
    "start_time": "2023-03-20T09:43:06.737Z"
   },
   {
    "duration": 734,
    "start_time": "2023-03-20T09:43:16.879Z"
   },
   {
    "duration": 46,
    "start_time": "2023-03-20T09:43:28.310Z"
   },
   {
    "duration": 49,
    "start_time": "2023-03-20T09:43:35.016Z"
   },
   {
    "duration": 57,
    "start_time": "2023-03-20T16:32:11.371Z"
   },
   {
    "duration": 1873,
    "start_time": "2023-03-20T16:32:16.730Z"
   },
   {
    "duration": 3,
    "start_time": "2023-03-20T16:32:18.606Z"
   },
   {
    "duration": 140,
    "start_time": "2023-03-20T16:32:18.611Z"
   },
   {
    "duration": 23,
    "start_time": "2023-03-20T16:32:18.752Z"
   },
   {
    "duration": 17,
    "start_time": "2023-03-20T16:32:18.778Z"
   },
   {
    "duration": 5,
    "start_time": "2023-03-20T16:32:18.797Z"
   },
   {
    "duration": 11,
    "start_time": "2023-03-20T16:32:18.803Z"
   },
   {
    "duration": 72,
    "start_time": "2023-03-20T16:32:18.816Z"
   },
   {
    "duration": 2397,
    "start_time": "2023-03-20T16:32:18.890Z"
   },
   {
    "duration": 4,
    "start_time": "2023-03-20T16:32:21.289Z"
   },
   {
    "duration": 12,
    "start_time": "2023-03-20T16:32:21.295Z"
   },
   {
    "duration": 16,
    "start_time": "2023-03-20T16:32:21.309Z"
   },
   {
    "duration": 18,
    "start_time": "2023-03-20T16:32:21.327Z"
   },
   {
    "duration": 43,
    "start_time": "2023-03-20T16:32:21.357Z"
   },
   {
    "duration": 15,
    "start_time": "2023-03-20T16:32:21.401Z"
   },
   {
    "duration": 19,
    "start_time": "2023-03-20T16:32:21.418Z"
   },
   {
    "duration": 59,
    "start_time": "2023-03-20T16:32:21.443Z"
   },
   {
    "duration": 29,
    "start_time": "2023-03-20T16:32:21.504Z"
   },
   {
    "duration": 48,
    "start_time": "2023-03-20T16:32:21.535Z"
   },
   {
    "duration": 24,
    "start_time": "2023-03-20T16:32:21.585Z"
   },
   {
    "duration": 1535,
    "start_time": "2023-03-20T16:32:21.611Z"
   },
   {
    "duration": 140,
    "start_time": "2023-03-20T16:32:23.149Z"
   },
   {
    "duration": 873,
    "start_time": "2023-03-20T16:32:23.290Z"
   },
   {
    "duration": 47,
    "start_time": "2023-03-20T16:33:09.576Z"
   },
   {
    "duration": 921,
    "start_time": "2023-03-20T16:33:16.208Z"
   },
   {
    "duration": 843,
    "start_time": "2023-03-20T16:33:22.915Z"
   },
   {
    "duration": 131,
    "start_time": "2023-03-20T17:24:09.470Z"
   },
   {
    "duration": 13,
    "start_time": "2023-03-20T17:24:14.852Z"
   },
   {
    "duration": 6,
    "start_time": "2023-03-20T17:24:40.498Z"
   },
   {
    "duration": 10,
    "start_time": "2023-03-20T17:32:40.158Z"
   },
   {
    "duration": 12,
    "start_time": "2023-03-20T17:34:26.601Z"
   },
   {
    "duration": 32,
    "start_time": "2023-03-20T17:34:32.533Z"
   },
   {
    "duration": 23,
    "start_time": "2023-03-20T17:36:01.764Z"
   },
   {
    "duration": 10,
    "start_time": "2023-03-20T17:36:40.740Z"
   },
   {
    "duration": 15,
    "start_time": "2023-03-20T17:36:57.586Z"
   },
   {
    "duration": 866,
    "start_time": "2023-03-20T17:37:01.485Z"
   },
   {
    "duration": 26,
    "start_time": "2023-03-20T17:37:14.483Z"
   },
   {
    "duration": 446,
    "start_time": "2023-03-20T17:37:18.043Z"
   },
   {
    "duration": 414,
    "start_time": "2023-03-20T17:39:53.589Z"
   },
   {
    "duration": 469,
    "start_time": "2023-03-20T17:40:04.352Z"
   },
   {
    "duration": 667,
    "start_time": "2023-03-20T17:40:20.082Z"
   },
   {
    "duration": 838,
    "start_time": "2023-03-20T17:40:34.962Z"
   },
   {
    "duration": 949,
    "start_time": "2023-03-20T17:40:39.931Z"
   },
   {
    "duration": 916,
    "start_time": "2023-03-20T17:40:54.681Z"
   },
   {
    "duration": 427,
    "start_time": "2023-03-20T17:41:07.409Z"
   },
   {
    "duration": 473,
    "start_time": "2023-03-20T17:41:11.739Z"
   },
   {
    "duration": 70460,
    "start_time": "2023-03-20T17:50:06.959Z"
   },
   {
    "duration": 7,
    "start_time": "2023-03-20T17:51:17.422Z"
   },
   {
    "duration": 50,
    "start_time": "2023-03-21T06:33:34.084Z"
   },
   {
    "duration": 1650,
    "start_time": "2023-03-21T06:33:39.207Z"
   },
   {
    "duration": 3,
    "start_time": "2023-03-21T06:33:40.859Z"
   },
   {
    "duration": 406,
    "start_time": "2023-03-21T06:33:40.864Z"
   },
   {
    "duration": 13,
    "start_time": "2023-03-21T06:33:41.273Z"
   },
   {
    "duration": 13,
    "start_time": "2023-03-21T06:33:41.288Z"
   },
   {
    "duration": 5,
    "start_time": "2023-03-21T06:33:41.303Z"
   },
   {
    "duration": 8,
    "start_time": "2023-03-21T06:33:41.309Z"
   },
   {
    "duration": 51,
    "start_time": "2023-03-21T06:33:41.319Z"
   },
   {
    "duration": 1965,
    "start_time": "2023-03-21T06:33:41.372Z"
   },
   {
    "duration": 4,
    "start_time": "2023-03-21T06:33:43.341Z"
   },
   {
    "duration": 8,
    "start_time": "2023-03-21T06:33:43.347Z"
   },
   {
    "duration": 5,
    "start_time": "2023-03-21T06:33:43.356Z"
   },
   {
    "duration": 5,
    "start_time": "2023-03-21T06:33:43.362Z"
   },
   {
    "duration": 15,
    "start_time": "2023-03-21T06:33:43.368Z"
   },
   {
    "duration": 44,
    "start_time": "2023-03-21T06:33:43.384Z"
   },
   {
    "duration": 18,
    "start_time": "2023-03-21T06:33:43.430Z"
   },
   {
    "duration": 16,
    "start_time": "2023-03-21T06:33:43.449Z"
   },
   {
    "duration": 6,
    "start_time": "2023-03-21T06:33:43.467Z"
   },
   {
    "duration": 12,
    "start_time": "2023-03-21T06:33:43.475Z"
   },
   {
    "duration": 34,
    "start_time": "2023-03-21T06:33:43.489Z"
   },
   {
    "duration": 212,
    "start_time": "2023-03-21T06:33:43.525Z"
   },
   {
    "duration": 134,
    "start_time": "2023-03-21T06:33:43.824Z"
   },
   {
    "duration": 757,
    "start_time": "2023-03-21T06:33:43.960Z"
   },
   {
    "duration": 208,
    "start_time": "2023-03-21T06:33:44.719Z"
   },
   {
    "duration": 133,
    "start_time": "2023-03-21T06:33:44.929Z"
   },
   {
    "duration": 736,
    "start_time": "2023-03-21T06:33:45.063Z"
   },
   {
    "duration": 3,
    "start_time": "2023-03-21T06:33:45.801Z"
   },
   {
    "duration": 18,
    "start_time": "2023-03-21T06:33:45.806Z"
   },
   {
    "duration": 16,
    "start_time": "2023-03-21T06:33:45.826Z"
   },
   {
    "duration": 5,
    "start_time": "2023-03-21T06:33:45.844Z"
   },
   {
    "duration": 177,
    "start_time": "2023-03-21T06:33:45.851Z"
   },
   {
    "duration": 198,
    "start_time": "2023-03-21T06:33:46.030Z"
   },
   {
    "duration": 404,
    "start_time": "2023-03-21T06:33:46.230Z"
   },
   {
    "duration": 5,
    "start_time": "2023-03-21T06:33:46.635Z"
   },
   {
    "duration": 13,
    "start_time": "2023-03-21T06:33:46.642Z"
   },
   {
    "duration": 5,
    "start_time": "2023-03-21T06:33:46.656Z"
   },
   {
    "duration": 272,
    "start_time": "2023-03-21T06:33:46.663Z"
   },
   {
    "duration": 112,
    "start_time": "2023-03-21T06:33:47.036Z"
   },
   {
    "duration": 402,
    "start_time": "2023-03-21T06:33:47.150Z"
   },
   {
    "duration": 5,
    "start_time": "2023-03-21T06:34:27.842Z"
   },
   {
    "duration": 6,
    "start_time": "2023-03-21T06:34:33.979Z"
   },
   {
    "duration": 109,
    "start_time": "2023-03-21T06:37:58.594Z"
   },
   {
    "duration": 5,
    "start_time": "2023-03-21T06:38:01.561Z"
   },
   {
    "duration": 13,
    "start_time": "2023-03-21T06:38:03.239Z"
   },
   {
    "duration": 5,
    "start_time": "2023-03-21T06:38:05.579Z"
   },
   {
    "duration": 48,
    "start_time": "2023-03-21T06:39:15.566Z"
   },
   {
    "duration": 12,
    "start_time": "2023-03-21T06:39:19.028Z"
   },
   {
    "duration": 6,
    "start_time": "2023-03-21T06:41:49.844Z"
   },
   {
    "duration": 10,
    "start_time": "2023-03-21T06:42:18.805Z"
   },
   {
    "duration": 6,
    "start_time": "2023-03-21T06:42:20.937Z"
   },
   {
    "duration": 12,
    "start_time": "2023-03-21T06:42:40.657Z"
   },
   {
    "duration": 5,
    "start_time": "2023-03-21T06:42:43.248Z"
   },
   {
    "duration": 14,
    "start_time": "2023-03-21T06:43:51.738Z"
   },
   {
    "duration": 5,
    "start_time": "2023-03-21T06:44:43.790Z"
   },
   {
    "duration": 7,
    "start_time": "2023-03-21T06:44:46.960Z"
   },
   {
    "duration": 13,
    "start_time": "2023-03-21T06:44:52.893Z"
   },
   {
    "duration": 7,
    "start_time": "2023-03-21T06:44:55.191Z"
   },
   {
    "duration": 1388,
    "start_time": "2023-03-21T06:45:24.001Z"
   },
   {
    "duration": 3,
    "start_time": "2023-03-21T06:45:25.392Z"
   },
   {
    "duration": 60,
    "start_time": "2023-03-21T06:45:25.397Z"
   },
   {
    "duration": 18,
    "start_time": "2023-03-21T06:45:25.460Z"
   },
   {
    "duration": 16,
    "start_time": "2023-03-21T06:45:25.480Z"
   },
   {
    "duration": 6,
    "start_time": "2023-03-21T06:45:25.498Z"
   },
   {
    "duration": 5,
    "start_time": "2023-03-21T06:45:25.524Z"
   },
   {
    "duration": 61,
    "start_time": "2023-03-21T06:45:25.531Z"
   },
   {
    "duration": 2054,
    "start_time": "2023-03-21T06:45:25.594Z"
   },
   {
    "duration": 3,
    "start_time": "2023-03-21T06:45:27.651Z"
   },
   {
    "duration": 10,
    "start_time": "2023-03-21T06:45:27.656Z"
   },
   {
    "duration": 20,
    "start_time": "2023-03-21T06:45:27.668Z"
   },
   {
    "duration": 4,
    "start_time": "2023-03-21T06:45:27.690Z"
   },
   {
    "duration": 10,
    "start_time": "2023-03-21T06:45:27.696Z"
   },
   {
    "duration": 24,
    "start_time": "2023-03-21T06:45:27.707Z"
   },
   {
    "duration": 12,
    "start_time": "2023-03-21T06:45:27.733Z"
   },
   {
    "duration": 10,
    "start_time": "2023-03-21T06:45:27.747Z"
   },
   {
    "duration": 6,
    "start_time": "2023-03-21T06:45:27.759Z"
   },
   {
    "duration": 7,
    "start_time": "2023-03-21T06:45:27.767Z"
   },
   {
    "duration": 9,
    "start_time": "2023-03-21T06:45:27.776Z"
   },
   {
    "duration": 1241,
    "start_time": "2023-03-21T06:45:27.787Z"
   },
   {
    "duration": 150,
    "start_time": "2023-03-21T06:45:29.031Z"
   },
   {
    "duration": 739,
    "start_time": "2023-03-21T06:45:29.184Z"
   },
   {
    "duration": 407,
    "start_time": "2023-03-21T06:45:29.925Z"
   },
   {
    "duration": 226,
    "start_time": "2023-03-21T06:45:30.334Z"
   },
   {
    "duration": 777,
    "start_time": "2023-03-21T06:45:30.562Z"
   },
   {
    "duration": 3,
    "start_time": "2023-03-21T06:45:31.340Z"
   },
   {
    "duration": 22,
    "start_time": "2023-03-21T06:45:31.346Z"
   },
   {
    "duration": 34,
    "start_time": "2023-03-21T06:45:31.370Z"
   },
   {
    "duration": 29,
    "start_time": "2023-03-21T06:45:31.406Z"
   },
   {
    "duration": 100,
    "start_time": "2023-03-21T06:45:31.436Z"
   },
   {
    "duration": 112,
    "start_time": "2023-03-21T06:45:31.625Z"
   },
   {
    "duration": 398,
    "start_time": "2023-03-21T06:45:31.739Z"
   },
   {
    "duration": 5,
    "start_time": "2023-03-21T06:45:32.139Z"
   },
   {
    "duration": 121,
    "start_time": "2023-03-21T06:45:32.145Z"
   },
   {
    "duration": 0,
    "start_time": "2023-03-21T06:45:32.268Z"
   },
   {
    "duration": 0,
    "start_time": "2023-03-21T06:45:32.269Z"
   },
   {
    "duration": 0,
    "start_time": "2023-03-21T06:45:32.270Z"
   },
   {
    "duration": 0,
    "start_time": "2023-03-21T06:45:32.271Z"
   },
   {
    "duration": 12,
    "start_time": "2023-03-21T06:45:47.103Z"
   },
   {
    "duration": 5,
    "start_time": "2023-03-21T06:45:49.606Z"
   },
   {
    "duration": 730,
    "start_time": "2023-03-21T06:46:12.094Z"
   },
   {
    "duration": 53,
    "start_time": "2023-03-21T06:46:22.561Z"
   },
   {
    "duration": 1052,
    "start_time": "2023-03-21T06:46:35.197Z"
   },
   {
    "duration": 5,
    "start_time": "2023-03-21T07:32:49.294Z"
   },
   {
    "duration": 188,
    "start_time": "2023-03-21T07:39:27.948Z"
   },
   {
    "duration": 426,
    "start_time": "2023-03-21T07:39:42.909Z"
   },
   {
    "duration": 69,
    "start_time": "2023-03-21T07:41:58.957Z"
   },
   {
    "duration": 312,
    "start_time": "2023-03-21T07:42:12.755Z"
   },
   {
    "duration": 923,
    "start_time": "2023-03-21T07:42:19.437Z"
   },
   {
    "duration": 619,
    "start_time": "2023-03-21T07:43:50.209Z"
   },
   {
    "duration": 404,
    "start_time": "2023-03-21T07:43:59.131Z"
   },
   {
    "duration": 65,
    "start_time": "2023-03-21T07:44:09.346Z"
   },
   {
    "duration": 67,
    "start_time": "2023-03-21T07:44:16.672Z"
   },
   {
    "duration": 752,
    "start_time": "2023-03-21T07:45:08.815Z"
   },
   {
    "duration": 22,
    "start_time": "2023-03-21T08:05:05.164Z"
   },
   {
    "duration": 18,
    "start_time": "2023-03-21T08:05:23.524Z"
   },
   {
    "duration": 4,
    "start_time": "2023-03-21T08:05:33.895Z"
   },
   {
    "duration": 1394,
    "start_time": "2023-03-21T08:05:53.283Z"
   },
   {
    "duration": 3,
    "start_time": "2023-03-21T08:05:54.679Z"
   },
   {
    "duration": 87,
    "start_time": "2023-03-21T08:05:54.683Z"
   },
   {
    "duration": 19,
    "start_time": "2023-03-21T08:05:54.773Z"
   },
   {
    "duration": 12,
    "start_time": "2023-03-21T08:05:54.794Z"
   },
   {
    "duration": 5,
    "start_time": "2023-03-21T08:05:54.808Z"
   },
   {
    "duration": 13,
    "start_time": "2023-03-21T08:05:54.814Z"
   },
   {
    "duration": 44,
    "start_time": "2023-03-21T08:05:54.828Z"
   },
   {
    "duration": 2050,
    "start_time": "2023-03-21T08:05:54.874Z"
   },
   {
    "duration": 4,
    "start_time": "2023-03-21T08:05:56.927Z"
   },
   {
    "duration": 8,
    "start_time": "2023-03-21T08:05:56.933Z"
   },
   {
    "duration": 5,
    "start_time": "2023-03-21T08:05:56.942Z"
   },
   {
    "duration": 9,
    "start_time": "2023-03-21T08:05:56.948Z"
   },
   {
    "duration": 10,
    "start_time": "2023-03-21T08:05:56.960Z"
   },
   {
    "duration": 58,
    "start_time": "2023-03-21T08:05:56.972Z"
   },
   {
    "duration": 13,
    "start_time": "2023-03-21T08:05:57.033Z"
   },
   {
    "duration": 20,
    "start_time": "2023-03-21T08:05:57.047Z"
   },
   {
    "duration": 1230,
    "start_time": "2023-03-21T08:05:57.068Z"
   },
   {
    "duration": 0,
    "start_time": "2023-03-21T08:05:58.300Z"
   },
   {
    "duration": 0,
    "start_time": "2023-03-21T08:05:58.302Z"
   },
   {
    "duration": 0,
    "start_time": "2023-03-21T08:05:58.303Z"
   },
   {
    "duration": 0,
    "start_time": "2023-03-21T08:05:58.305Z"
   },
   {
    "duration": 0,
    "start_time": "2023-03-21T08:05:58.306Z"
   },
   {
    "duration": 0,
    "start_time": "2023-03-21T08:05:58.308Z"
   },
   {
    "duration": 0,
    "start_time": "2023-03-21T08:05:58.328Z"
   },
   {
    "duration": 0,
    "start_time": "2023-03-21T08:05:58.329Z"
   },
   {
    "duration": 0,
    "start_time": "2023-03-21T08:05:58.330Z"
   },
   {
    "duration": 0,
    "start_time": "2023-03-21T08:05:58.332Z"
   },
   {
    "duration": 0,
    "start_time": "2023-03-21T08:05:58.333Z"
   },
   {
    "duration": 0,
    "start_time": "2023-03-21T08:05:58.334Z"
   },
   {
    "duration": 0,
    "start_time": "2023-03-21T08:05:58.338Z"
   },
   {
    "duration": 0,
    "start_time": "2023-03-21T08:05:58.340Z"
   },
   {
    "duration": 1,
    "start_time": "2023-03-21T08:05:58.342Z"
   },
   {
    "duration": 0,
    "start_time": "2023-03-21T08:05:58.344Z"
   },
   {
    "duration": 0,
    "start_time": "2023-03-21T08:05:58.345Z"
   },
   {
    "duration": 0,
    "start_time": "2023-03-21T08:05:58.346Z"
   },
   {
    "duration": 0,
    "start_time": "2023-03-21T08:05:58.348Z"
   },
   {
    "duration": 0,
    "start_time": "2023-03-21T08:05:58.349Z"
   },
   {
    "duration": 0,
    "start_time": "2023-03-21T08:05:58.350Z"
   },
   {
    "duration": 0,
    "start_time": "2023-03-21T08:05:58.351Z"
   },
   {
    "duration": 0,
    "start_time": "2023-03-21T08:05:58.352Z"
   },
   {
    "duration": 0,
    "start_time": "2023-03-21T08:05:58.353Z"
   },
   {
    "duration": 7,
    "start_time": "2023-03-21T08:07:00.093Z"
   },
   {
    "duration": 1430,
    "start_time": "2023-03-21T08:07:08.963Z"
   },
   {
    "duration": 6,
    "start_time": "2023-03-21T08:07:10.395Z"
   },
   {
    "duration": 79,
    "start_time": "2023-03-21T08:07:10.404Z"
   },
   {
    "duration": 19,
    "start_time": "2023-03-21T08:07:10.486Z"
   },
   {
    "duration": 17,
    "start_time": "2023-03-21T08:07:10.508Z"
   },
   {
    "duration": 6,
    "start_time": "2023-03-21T08:07:10.527Z"
   },
   {
    "duration": 6,
    "start_time": "2023-03-21T08:07:10.535Z"
   },
   {
    "duration": 43,
    "start_time": "2023-03-21T08:07:10.543Z"
   },
   {
    "duration": 2183,
    "start_time": "2023-03-21T08:07:10.589Z"
   },
   {
    "duration": 5,
    "start_time": "2023-03-21T08:07:12.775Z"
   },
   {
    "duration": 15,
    "start_time": "2023-03-21T08:07:12.782Z"
   },
   {
    "duration": 6,
    "start_time": "2023-03-21T08:07:12.799Z"
   },
   {
    "duration": 17,
    "start_time": "2023-03-21T08:07:12.807Z"
   },
   {
    "duration": 15,
    "start_time": "2023-03-21T08:07:12.826Z"
   },
   {
    "duration": 14,
    "start_time": "2023-03-21T08:07:12.843Z"
   },
   {
    "duration": 11,
    "start_time": "2023-03-21T08:07:12.858Z"
   },
   {
    "duration": 12,
    "start_time": "2023-03-21T08:07:12.871Z"
   },
   {
    "duration": 879,
    "start_time": "2023-03-21T08:07:12.885Z"
   },
   {
    "duration": 0,
    "start_time": "2023-03-21T08:07:13.766Z"
   },
   {
    "duration": 0,
    "start_time": "2023-03-21T08:07:13.767Z"
   },
   {
    "duration": 0,
    "start_time": "2023-03-21T08:07:13.768Z"
   },
   {
    "duration": 0,
    "start_time": "2023-03-21T08:07:13.770Z"
   },
   {
    "duration": 0,
    "start_time": "2023-03-21T08:07:13.771Z"
   },
   {
    "duration": 0,
    "start_time": "2023-03-21T08:07:13.772Z"
   },
   {
    "duration": 0,
    "start_time": "2023-03-21T08:07:13.773Z"
   },
   {
    "duration": 0,
    "start_time": "2023-03-21T08:07:13.774Z"
   },
   {
    "duration": 0,
    "start_time": "2023-03-21T08:07:13.776Z"
   },
   {
    "duration": 0,
    "start_time": "2023-03-21T08:07:13.777Z"
   },
   {
    "duration": 0,
    "start_time": "2023-03-21T08:07:13.779Z"
   },
   {
    "duration": 0,
    "start_time": "2023-03-21T08:07:13.779Z"
   },
   {
    "duration": 0,
    "start_time": "2023-03-21T08:07:13.780Z"
   },
   {
    "duration": 0,
    "start_time": "2023-03-21T08:07:13.781Z"
   },
   {
    "duration": 0,
    "start_time": "2023-03-21T08:07:13.782Z"
   },
   {
    "duration": 0,
    "start_time": "2023-03-21T08:07:13.784Z"
   },
   {
    "duration": 0,
    "start_time": "2023-03-21T08:07:13.784Z"
   },
   {
    "duration": 0,
    "start_time": "2023-03-21T08:07:13.785Z"
   },
   {
    "duration": 0,
    "start_time": "2023-03-21T08:07:13.786Z"
   },
   {
    "duration": 0,
    "start_time": "2023-03-21T08:07:13.787Z"
   },
   {
    "duration": 0,
    "start_time": "2023-03-21T08:07:13.788Z"
   },
   {
    "duration": 0,
    "start_time": "2023-03-21T08:07:13.789Z"
   },
   {
    "duration": 0,
    "start_time": "2023-03-21T08:07:13.790Z"
   },
   {
    "duration": 0,
    "start_time": "2023-03-21T08:07:13.791Z"
   },
   {
    "duration": 16,
    "start_time": "2023-03-21T08:07:57.672Z"
   },
   {
    "duration": 16,
    "start_time": "2023-03-21T08:08:49.236Z"
   },
   {
    "duration": 1459,
    "start_time": "2023-03-21T08:08:59.131Z"
   },
   {
    "duration": 4,
    "start_time": "2023-03-21T08:09:00.593Z"
   },
   {
    "duration": 108,
    "start_time": "2023-03-21T08:09:00.599Z"
   },
   {
    "duration": 16,
    "start_time": "2023-03-21T08:09:00.711Z"
   },
   {
    "duration": 44,
    "start_time": "2023-03-21T08:09:00.729Z"
   },
   {
    "duration": 46,
    "start_time": "2023-03-21T08:09:00.776Z"
   },
   {
    "duration": 25,
    "start_time": "2023-03-21T08:09:00.824Z"
   },
   {
    "duration": 89,
    "start_time": "2023-03-21T08:09:00.851Z"
   },
   {
    "duration": 2820,
    "start_time": "2023-03-21T08:09:00.942Z"
   },
   {
    "duration": 5,
    "start_time": "2023-03-21T08:09:03.764Z"
   },
   {
    "duration": 60,
    "start_time": "2023-03-21T08:09:03.771Z"
   },
   {
    "duration": 8,
    "start_time": "2023-03-21T08:09:03.833Z"
   },
   {
    "duration": 4,
    "start_time": "2023-03-21T08:09:03.843Z"
   },
   {
    "duration": 423,
    "start_time": "2023-03-21T08:09:03.849Z"
   },
   {
    "duration": 162,
    "start_time": "2023-03-21T08:09:04.273Z"
   },
   {
    "duration": 20,
    "start_time": "2023-03-21T08:09:04.437Z"
   },
   {
    "duration": 102,
    "start_time": "2023-03-21T08:09:04.459Z"
   },
   {
    "duration": 6,
    "start_time": "2023-03-21T08:09:04.563Z"
   },
   {
    "duration": 11,
    "start_time": "2023-03-21T08:09:04.570Z"
   },
   {
    "duration": 119,
    "start_time": "2023-03-21T08:09:04.583Z"
   },
   {
    "duration": 2646,
    "start_time": "2023-03-21T08:09:04.704Z"
   },
   {
    "duration": 1244,
    "start_time": "2023-03-21T08:09:07.425Z"
   },
   {
    "duration": 8844,
    "start_time": "2023-03-21T08:09:08.671Z"
   },
   {
    "duration": 1209,
    "start_time": "2023-03-21T08:09:17.516Z"
   },
   {
    "duration": 937,
    "start_time": "2023-03-21T08:09:18.726Z"
   },
   {
    "duration": 8879,
    "start_time": "2023-03-21T08:09:19.664Z"
   },
   {
    "duration": 3,
    "start_time": "2023-03-21T08:09:28.545Z"
   },
   {
    "duration": 9,
    "start_time": "2023-03-21T08:09:28.551Z"
   },
   {
    "duration": 79,
    "start_time": "2023-03-21T08:09:28.561Z"
   },
   {
    "duration": 6,
    "start_time": "2023-03-21T08:09:28.641Z"
   },
   {
    "duration": 1607,
    "start_time": "2023-03-21T08:09:28.649Z"
   },
   {
    "duration": 410,
    "start_time": "2023-03-21T08:09:30.327Z"
   },
   {
    "duration": 3164,
    "start_time": "2023-03-21T08:09:30.740Z"
   },
   {
    "duration": 5,
    "start_time": "2023-03-21T08:09:33.905Z"
   },
   {
    "duration": 1599,
    "start_time": "2023-03-21T08:09:36.135Z"
   },
   {
    "duration": 3,
    "start_time": "2023-03-21T08:09:37.736Z"
   },
   {
    "duration": 104,
    "start_time": "2023-03-21T08:09:37.741Z"
   },
   {
    "duration": 14,
    "start_time": "2023-03-21T08:09:37.847Z"
   },
   {
    "duration": 17,
    "start_time": "2023-03-21T08:09:37.864Z"
   },
   {
    "duration": 8,
    "start_time": "2023-03-21T08:09:37.882Z"
   },
   {
    "duration": 20,
    "start_time": "2023-03-21T08:09:37.892Z"
   },
   {
    "duration": 48,
    "start_time": "2023-03-21T08:09:37.914Z"
   },
   {
    "duration": 2056,
    "start_time": "2023-03-21T08:09:37.964Z"
   },
   {
    "duration": 8,
    "start_time": "2023-03-21T08:09:40.022Z"
   },
   {
    "duration": 8,
    "start_time": "2023-03-21T08:09:40.032Z"
   },
   {
    "duration": 6,
    "start_time": "2023-03-21T08:09:40.042Z"
   },
   {
    "duration": 7,
    "start_time": "2023-03-21T08:09:40.049Z"
   },
   {
    "duration": 23,
    "start_time": "2023-03-21T08:09:40.060Z"
   },
   {
    "duration": 10,
    "start_time": "2023-03-21T08:09:40.085Z"
   },
   {
    "duration": 33,
    "start_time": "2023-03-21T08:09:40.097Z"
   },
   {
    "duration": 13,
    "start_time": "2023-03-21T08:09:40.131Z"
   },
   {
    "duration": 6,
    "start_time": "2023-03-21T08:09:40.146Z"
   },
   {
    "duration": 8,
    "start_time": "2023-03-21T08:09:40.153Z"
   },
   {
    "duration": 9,
    "start_time": "2023-03-21T08:09:40.163Z"
   },
   {
    "duration": 374,
    "start_time": "2023-03-21T08:09:40.174Z"
   },
   {
    "duration": 129,
    "start_time": "2023-03-21T08:09:40.624Z"
   },
   {
    "duration": 684,
    "start_time": "2023-03-21T08:09:40.755Z"
   },
   {
    "duration": 301,
    "start_time": "2023-03-21T08:09:41.441Z"
   },
   {
    "duration": 208,
    "start_time": "2023-03-21T08:09:41.744Z"
   },
   {
    "duration": 671,
    "start_time": "2023-03-21T08:09:41.954Z"
   },
   {
    "duration": 3,
    "start_time": "2023-03-21T08:09:42.626Z"
   },
   {
    "duration": 33,
    "start_time": "2023-03-21T08:09:42.631Z"
   },
   {
    "duration": 29,
    "start_time": "2023-03-21T08:09:42.666Z"
   },
   {
    "duration": 4,
    "start_time": "2023-03-21T08:09:42.697Z"
   },
   {
    "duration": 323,
    "start_time": "2023-03-21T08:09:42.703Z"
   },
   {
    "duration": 110,
    "start_time": "2023-03-21T08:09:43.028Z"
   },
   {
    "duration": 364,
    "start_time": "2023-03-21T08:09:43.140Z"
   },
   {
    "duration": 5,
    "start_time": "2023-03-21T08:09:43.505Z"
   },
   {
    "duration": 19,
    "start_time": "2023-03-21T08:09:43.511Z"
   },
   {
    "duration": 4,
    "start_time": "2023-03-21T08:09:43.532Z"
   },
   {
    "duration": 593,
    "start_time": "2023-03-21T08:09:43.538Z"
   },
   {
    "duration": 54,
    "start_time": "2023-03-21T08:09:44.222Z"
   },
   {
    "duration": 942,
    "start_time": "2023-03-21T08:09:44.277Z"
   },
   {
    "duration": 821,
    "start_time": "2023-03-21T08:09:45.221Z"
   },
   {
    "duration": 77,
    "start_time": "2023-03-21T08:09:46.046Z"
   },
   {
    "duration": 693,
    "start_time": "2023-03-21T08:09:46.125Z"
   },
   {
    "duration": 1433,
    "start_time": "2023-03-21T08:11:46.594Z"
   },
   {
    "duration": 2,
    "start_time": "2023-03-21T08:11:48.029Z"
   },
   {
    "duration": 183,
    "start_time": "2023-03-21T08:11:48.033Z"
   },
   {
    "duration": 14,
    "start_time": "2023-03-21T08:11:48.217Z"
   },
   {
    "duration": 33,
    "start_time": "2023-03-21T08:11:48.233Z"
   },
   {
    "duration": 4,
    "start_time": "2023-03-21T08:11:48.268Z"
   },
   {
    "duration": 7,
    "start_time": "2023-03-21T08:11:48.274Z"
   },
   {
    "duration": 41,
    "start_time": "2023-03-21T08:11:48.283Z"
   },
   {
    "duration": 2019,
    "start_time": "2023-03-21T08:11:48.326Z"
   },
   {
    "duration": 7,
    "start_time": "2023-03-21T08:11:50.347Z"
   },
   {
    "duration": 21,
    "start_time": "2023-03-21T08:11:50.356Z"
   },
   {
    "duration": 5,
    "start_time": "2023-03-21T08:11:50.380Z"
   },
   {
    "duration": 20,
    "start_time": "2023-03-21T08:11:50.387Z"
   },
   {
    "duration": 14,
    "start_time": "2023-03-21T08:11:50.411Z"
   },
   {
    "duration": 14,
    "start_time": "2023-03-21T08:11:50.427Z"
   },
   {
    "duration": 13,
    "start_time": "2023-03-21T08:11:50.443Z"
   },
   {
    "duration": 13,
    "start_time": "2023-03-21T08:11:50.458Z"
   },
   {
    "duration": 9,
    "start_time": "2023-03-21T08:11:50.473Z"
   },
   {
    "duration": 40,
    "start_time": "2023-03-21T08:11:50.484Z"
   },
   {
    "duration": 10,
    "start_time": "2023-03-21T08:11:50.526Z"
   },
   {
    "duration": 296,
    "start_time": "2023-03-21T08:11:50.538Z"
   },
   {
    "duration": 131,
    "start_time": "2023-03-21T08:11:50.927Z"
   },
   {
    "duration": 777,
    "start_time": "2023-03-21T08:11:51.060Z"
   },
   {
    "duration": 290,
    "start_time": "2023-03-21T08:11:51.839Z"
   },
   {
    "duration": 221,
    "start_time": "2023-03-21T08:11:52.131Z"
   },
   {
    "duration": 744,
    "start_time": "2023-03-21T08:11:52.353Z"
   },
   {
    "duration": 3,
    "start_time": "2023-03-21T08:11:53.099Z"
   },
   {
    "duration": 20,
    "start_time": "2023-03-21T08:11:53.104Z"
   },
   {
    "duration": 24,
    "start_time": "2023-03-21T08:11:53.126Z"
   },
   {
    "duration": 5,
    "start_time": "2023-03-21T08:11:53.152Z"
   },
   {
    "duration": 173,
    "start_time": "2023-03-21T08:11:53.159Z"
   },
   {
    "duration": 117,
    "start_time": "2023-03-21T08:11:53.426Z"
   },
   {
    "duration": 402,
    "start_time": "2023-03-21T08:11:53.544Z"
   },
   {
    "duration": 4,
    "start_time": "2023-03-21T08:11:53.948Z"
   },
   {
    "duration": 14,
    "start_time": "2023-03-21T08:11:53.954Z"
   },
   {
    "duration": 9,
    "start_time": "2023-03-21T08:11:53.970Z"
   },
   {
    "duration": 451,
    "start_time": "2023-03-21T08:11:53.981Z"
   },
   {
    "duration": 226,
    "start_time": "2023-03-21T08:11:54.433Z"
   },
   {
    "duration": 998,
    "start_time": "2023-03-21T08:11:54.661Z"
   },
   {
    "duration": 378,
    "start_time": "2023-03-21T08:11:55.661Z"
   },
   {
    "duration": 81,
    "start_time": "2023-03-21T08:11:56.043Z"
   },
   {
    "duration": 756,
    "start_time": "2023-03-21T08:11:56.126Z"
   },
   {
    "duration": 7,
    "start_time": "2023-03-21T08:30:33.907Z"
   },
   {
    "duration": 1433,
    "start_time": "2023-03-21T08:30:40.811Z"
   },
   {
    "duration": 2,
    "start_time": "2023-03-21T08:30:42.246Z"
   },
   {
    "duration": 62,
    "start_time": "2023-03-21T08:30:42.250Z"
   },
   {
    "duration": 14,
    "start_time": "2023-03-21T08:30:42.314Z"
   },
   {
    "duration": 18,
    "start_time": "2023-03-21T08:30:42.329Z"
   },
   {
    "duration": 18,
    "start_time": "2023-03-21T08:30:42.349Z"
   },
   {
    "duration": 11,
    "start_time": "2023-03-21T08:30:42.369Z"
   },
   {
    "duration": 69,
    "start_time": "2023-03-21T08:30:42.382Z"
   },
   {
    "duration": 2084,
    "start_time": "2023-03-21T08:30:42.453Z"
   },
   {
    "duration": 5,
    "start_time": "2023-03-21T08:30:44.540Z"
   },
   {
    "duration": 9,
    "start_time": "2023-03-21T08:30:44.547Z"
   },
   {
    "duration": 4,
    "start_time": "2023-03-21T08:30:44.558Z"
   },
   {
    "duration": 4,
    "start_time": "2023-03-21T08:30:44.564Z"
   },
   {
    "duration": 13,
    "start_time": "2023-03-21T08:30:44.569Z"
   },
   {
    "duration": 39,
    "start_time": "2023-03-21T08:30:44.584Z"
   },
   {
    "duration": 15,
    "start_time": "2023-03-21T08:30:44.625Z"
   },
   {
    "duration": 11,
    "start_time": "2023-03-21T08:30:44.643Z"
   },
   {
    "duration": 12,
    "start_time": "2023-03-21T08:30:44.656Z"
   },
   {
    "duration": 7,
    "start_time": "2023-03-21T08:30:44.669Z"
   },
   {
    "duration": 7,
    "start_time": "2023-03-21T08:30:44.678Z"
   },
   {
    "duration": 340,
    "start_time": "2023-03-21T08:30:44.686Z"
   },
   {
    "duration": 135,
    "start_time": "2023-03-21T08:30:45.029Z"
   },
   {
    "duration": 839,
    "start_time": "2023-03-21T08:30:45.166Z"
   },
   {
    "duration": 126,
    "start_time": "2023-03-21T08:30:46.006Z"
   },
   {
    "duration": 121,
    "start_time": "2023-03-21T08:30:46.134Z"
   },
   {
    "duration": 821,
    "start_time": "2023-03-21T08:30:46.323Z"
   },
   {
    "duration": 2,
    "start_time": "2023-03-21T08:30:47.146Z"
   },
   {
    "duration": 7,
    "start_time": "2023-03-21T08:30:47.151Z"
   },
   {
    "duration": 13,
    "start_time": "2023-03-21T08:30:47.160Z"
   },
   {
    "duration": 5,
    "start_time": "2023-03-21T08:30:47.175Z"
   },
   {
    "duration": 144,
    "start_time": "2023-03-21T08:30:47.181Z"
   },
   {
    "duration": 118,
    "start_time": "2023-03-21T08:30:47.328Z"
   },
   {
    "duration": 436,
    "start_time": "2023-03-21T08:30:47.448Z"
   },
   {
    "duration": 5,
    "start_time": "2023-03-21T08:30:47.886Z"
   },
   {
    "duration": 14,
    "start_time": "2023-03-21T08:30:47.893Z"
   },
   {
    "duration": 5,
    "start_time": "2023-03-21T08:30:47.909Z"
   },
   {
    "duration": 406,
    "start_time": "2023-03-21T08:30:47.922Z"
   },
   {
    "duration": 140,
    "start_time": "2023-03-21T08:30:48.331Z"
   },
   {
    "duration": 1133,
    "start_time": "2023-03-21T08:30:48.473Z"
   },
   {
    "duration": 326,
    "start_time": "2023-03-21T08:30:49.608Z"
   },
   {
    "duration": 66,
    "start_time": "2023-03-21T08:30:49.936Z"
   },
   {
    "duration": 894,
    "start_time": "2023-03-21T08:30:50.004Z"
   },
   {
    "duration": 11,
    "start_time": "2023-03-21T08:48:06.935Z"
   },
   {
    "duration": 4,
    "start_time": "2023-03-21T08:48:09.555Z"
   },
   {
    "duration": 7,
    "start_time": "2023-03-21T08:49:55.023Z"
   },
   {
    "duration": 8,
    "start_time": "2023-03-21T08:49:58.137Z"
   },
   {
    "duration": 7,
    "start_time": "2023-03-21T08:50:01.657Z"
   },
   {
    "duration": 170,
    "start_time": "2023-03-21T08:53:02.245Z"
   },
   {
    "duration": 20,
    "start_time": "2023-03-21T08:54:25.194Z"
   },
   {
    "duration": 15,
    "start_time": "2023-03-21T08:55:23.614Z"
   },
   {
    "duration": 17,
    "start_time": "2023-03-21T08:55:46.961Z"
   },
   {
    "duration": 7,
    "start_time": "2023-03-21T08:55:48.910Z"
   },
   {
    "duration": 10,
    "start_time": "2023-03-21T08:55:51.288Z"
   },
   {
    "duration": 19,
    "start_time": "2023-03-21T08:55:53.523Z"
   },
   {
    "duration": 8,
    "start_time": "2023-03-21T08:55:56.176Z"
   },
   {
    "duration": 7,
    "start_time": "2023-03-21T08:56:56.936Z"
   },
   {
    "duration": 246,
    "start_time": "2023-03-21T08:57:00.716Z"
   },
   {
    "duration": 52,
    "start_time": "2023-03-21T08:57:06.944Z"
   },
   {
    "duration": 769,
    "start_time": "2023-03-21T08:57:10.851Z"
   },
   {
    "duration": 435,
    "start_time": "2023-03-21T08:57:23.488Z"
   },
   {
    "duration": 50,
    "start_time": "2023-03-21T08:57:27.650Z"
   },
   {
    "duration": 791,
    "start_time": "2023-03-21T08:57:30.178Z"
   },
   {
    "duration": 19,
    "start_time": "2023-03-21T08:57:41.930Z"
   },
   {
    "duration": 7,
    "start_time": "2023-03-21T08:57:45.698Z"
   },
   {
    "duration": 17,
    "start_time": "2023-03-21T08:58:49.413Z"
   },
   {
    "duration": 6,
    "start_time": "2023-03-21T08:58:51.905Z"
   },
   {
    "duration": 299,
    "start_time": "2023-03-21T08:58:56.439Z"
   },
   {
    "duration": 29,
    "start_time": "2023-03-21T08:58:59.837Z"
   },
   {
    "duration": 374,
    "start_time": "2023-03-21T08:59:02.174Z"
   },
   {
    "duration": 15,
    "start_time": "2023-03-21T08:59:50.683Z"
   },
   {
    "duration": 5,
    "start_time": "2023-03-21T08:59:54.447Z"
   },
   {
    "duration": 638,
    "start_time": "2023-03-21T09:00:03.095Z"
   },
   {
    "duration": 47,
    "start_time": "2023-03-21T09:00:05.523Z"
   },
   {
    "duration": 932,
    "start_time": "2023-03-21T09:00:08.111Z"
   },
   {
    "duration": 542,
    "start_time": "2023-03-21T09:00:27.616Z"
   },
   {
    "duration": 65,
    "start_time": "2023-03-21T09:00:32.396Z"
   },
   {
    "duration": 761,
    "start_time": "2023-03-21T09:00:35.043Z"
   },
   {
    "duration": 53,
    "start_time": "2023-03-21T09:03:33.452Z"
   },
   {
    "duration": 24,
    "start_time": "2023-03-21T09:03:42.313Z"
   },
   {
    "duration": 56,
    "start_time": "2023-03-21T09:04:04.372Z"
   },
   {
    "duration": 499,
    "start_time": "2023-03-21T09:05:00.933Z"
   },
   {
    "duration": 38,
    "start_time": "2023-03-21T09:05:08.340Z"
   },
   {
    "duration": 795,
    "start_time": "2023-03-21T09:06:07.544Z"
   },
   {
    "duration": 56,
    "start_time": "2023-03-21T09:06:47.548Z"
   },
   {
    "duration": 56,
    "start_time": "2023-03-21T09:07:09.140Z"
   },
   {
    "duration": 59,
    "start_time": "2023-03-21T09:07:14.104Z"
   },
   {
    "duration": 59,
    "start_time": "2023-03-21T09:07:18.640Z"
   },
   {
    "duration": 101,
    "start_time": "2023-03-21T09:10:53.816Z"
   },
   {
    "duration": 92,
    "start_time": "2023-03-21T09:11:04.977Z"
   },
   {
    "duration": 938,
    "start_time": "2023-03-21T09:11:18.957Z"
   },
   {
    "duration": 79,
    "start_time": "2023-03-21T09:11:44.364Z"
   },
   {
    "duration": 958,
    "start_time": "2023-03-21T09:11:58.247Z"
   },
   {
    "duration": 985,
    "start_time": "2023-03-21T09:12:08.701Z"
   },
   {
    "duration": 75,
    "start_time": "2023-03-21T09:12:12.984Z"
   },
   {
    "duration": 73,
    "start_time": "2023-03-21T09:12:21.786Z"
   },
   {
    "duration": 74,
    "start_time": "2023-03-21T09:12:35.760Z"
   },
   {
    "duration": 934,
    "start_time": "2023-03-21T09:14:26.681Z"
   },
   {
    "duration": 1441,
    "start_time": "2023-03-21T09:14:43.460Z"
   },
   {
    "duration": 507,
    "start_time": "2023-03-21T09:16:15.840Z"
   },
   {
    "duration": 51,
    "start_time": "2023-03-21T09:16:19.437Z"
   },
   {
    "duration": 15,
    "start_time": "2023-03-21T09:17:10.299Z"
   },
   {
    "duration": 563,
    "start_time": "2023-03-21T09:17:16.757Z"
   },
   {
    "duration": 56,
    "start_time": "2023-03-21T09:17:20.902Z"
   },
   {
    "duration": 908,
    "start_time": "2023-03-21T09:18:48.354Z"
   },
   {
    "duration": 65,
    "start_time": "2023-03-21T09:19:06.339Z"
   },
   {
    "duration": 971,
    "start_time": "2023-03-21T09:19:19.306Z"
   },
   {
    "duration": 67,
    "start_time": "2023-03-21T09:19:22.215Z"
   },
   {
    "duration": 68,
    "start_time": "2023-03-21T09:19:28.494Z"
   },
   {
    "duration": 1061,
    "start_time": "2023-03-21T09:20:10.527Z"
   },
   {
    "duration": 75,
    "start_time": "2023-03-21T09:20:27.412Z"
   },
   {
    "duration": 9,
    "start_time": "2023-03-21T09:23:46.989Z"
   },
   {
    "duration": 1451,
    "start_time": "2023-03-21T09:23:51.515Z"
   },
   {
    "duration": 2,
    "start_time": "2023-03-21T09:23:52.968Z"
   },
   {
    "duration": 62,
    "start_time": "2023-03-21T09:23:52.972Z"
   },
   {
    "duration": 13,
    "start_time": "2023-03-21T09:23:53.036Z"
   },
   {
    "duration": 12,
    "start_time": "2023-03-21T09:23:53.051Z"
   },
   {
    "duration": 4,
    "start_time": "2023-03-21T09:23:53.065Z"
   },
   {
    "duration": 7,
    "start_time": "2023-03-21T09:23:53.070Z"
   },
   {
    "duration": 65,
    "start_time": "2023-03-21T09:23:53.078Z"
   },
   {
    "duration": 2032,
    "start_time": "2023-03-21T09:23:53.144Z"
   },
   {
    "duration": 5,
    "start_time": "2023-03-21T09:23:55.179Z"
   },
   {
    "duration": 8,
    "start_time": "2023-03-21T09:23:55.185Z"
   },
   {
    "duration": 5,
    "start_time": "2023-03-21T09:23:55.194Z"
   },
   {
    "duration": 26,
    "start_time": "2023-03-21T09:23:55.200Z"
   },
   {
    "duration": 12,
    "start_time": "2023-03-21T09:23:55.227Z"
   },
   {
    "duration": 13,
    "start_time": "2023-03-21T09:23:55.243Z"
   },
   {
    "duration": 30,
    "start_time": "2023-03-21T09:23:55.258Z"
   },
   {
    "duration": 12,
    "start_time": "2023-03-21T09:23:55.290Z"
   },
   {
    "duration": 6,
    "start_time": "2023-03-21T09:23:55.305Z"
   },
   {
    "duration": 12,
    "start_time": "2023-03-21T09:23:55.330Z"
   },
   {
    "duration": 14,
    "start_time": "2023-03-21T09:23:55.343Z"
   },
   {
    "duration": 4,
    "start_time": "2023-03-21T09:23:55.359Z"
   },
   {
    "duration": 7,
    "start_time": "2023-03-21T09:23:55.364Z"
   },
   {
    "duration": 6,
    "start_time": "2023-03-21T09:23:55.372Z"
   },
   {
    "duration": 8,
    "start_time": "2023-03-21T09:23:55.379Z"
   },
   {
    "duration": 341,
    "start_time": "2023-03-21T09:23:55.389Z"
   },
   {
    "duration": 126,
    "start_time": "2023-03-21T09:23:55.733Z"
   },
   {
    "duration": 620,
    "start_time": "2023-03-21T09:23:55.861Z"
   },
   {
    "duration": 739,
    "start_time": "2023-03-21T09:23:56.485Z"
   },
   {
    "duration": 125,
    "start_time": "2023-03-21T09:23:57.234Z"
   },
   {
    "duration": 1377,
    "start_time": "2023-03-21T09:23:57.361Z"
   },
   {
    "duration": 6,
    "start_time": "2023-03-21T09:23:58.740Z"
   },
   {
    "duration": 79,
    "start_time": "2023-03-21T09:23:58.747Z"
   },
   {
    "duration": 32,
    "start_time": "2023-03-21T09:23:58.830Z"
   },
   {
    "duration": 9,
    "start_time": "2023-03-21T09:23:58.863Z"
   },
   {
    "duration": 454,
    "start_time": "2023-03-21T09:23:58.874Z"
   },
   {
    "duration": 111,
    "start_time": "2023-03-21T09:23:59.330Z"
   },
   {
    "duration": 462,
    "start_time": "2023-03-21T09:23:59.442Z"
   },
   {
    "duration": 24,
    "start_time": "2023-03-21T09:23:59.906Z"
   },
   {
    "duration": 9,
    "start_time": "2023-03-21T09:23:59.932Z"
   },
   {
    "duration": 310,
    "start_time": "2023-03-21T09:23:59.944Z"
   },
   {
    "duration": 138,
    "start_time": "2023-03-21T09:24:00.324Z"
   },
   {
    "duration": 941,
    "start_time": "2023-03-21T09:24:00.464Z"
   },
   {
    "duration": 841,
    "start_time": "2023-03-21T09:24:01.406Z"
   },
   {
    "duration": 96,
    "start_time": "2023-03-21T09:24:02.248Z"
   },
   {
    "duration": 949,
    "start_time": "2023-03-21T09:24:02.346Z"
   },
   {
    "duration": 860,
    "start_time": "2023-03-21T09:24:03.297Z"
   },
   {
    "duration": 78,
    "start_time": "2023-03-21T09:24:04.159Z"
   },
   {
    "duration": 63,
    "start_time": "2023-03-21T09:24:04.239Z"
   },
   {
    "duration": 1309,
    "start_time": "2023-03-21T09:24:04.304Z"
   },
   {
    "duration": 638,
    "start_time": "2023-03-21T09:25:19.658Z"
   },
   {
    "duration": 631,
    "start_time": "2023-03-21T09:25:32.936Z"
   },
   {
    "duration": 70,
    "start_time": "2023-03-21T09:39:10.263Z"
   },
   {
    "duration": 642,
    "start_time": "2023-03-21T09:39:23.237Z"
   },
   {
    "duration": 1451,
    "start_time": "2023-03-21T10:20:25.306Z"
   },
   {
    "duration": 1259,
    "start_time": "2023-03-21T10:20:33.897Z"
   },
   {
    "duration": 1327,
    "start_time": "2023-03-21T10:21:08.123Z"
   },
   {
    "duration": 10,
    "start_time": "2023-03-21T11:07:54.990Z"
   },
   {
    "duration": 15,
    "start_time": "2023-03-21T11:08:17.480Z"
   },
   {
    "duration": 15,
    "start_time": "2023-03-21T11:08:30.401Z"
   },
   {
    "duration": 7,
    "start_time": "2023-03-21T11:09:44.325Z"
   },
   {
    "duration": 7,
    "start_time": "2023-03-21T11:10:12.207Z"
   },
   {
    "duration": 9,
    "start_time": "2023-03-21T11:10:37.994Z"
   },
   {
    "duration": 10,
    "start_time": "2023-03-21T11:10:46.439Z"
   },
   {
    "duration": 8,
    "start_time": "2023-03-21T11:18:07.724Z"
   },
   {
    "duration": 5,
    "start_time": "2023-03-21T11:19:46.176Z"
   },
   {
    "duration": 17,
    "start_time": "2023-03-21T11:45:46.862Z"
   },
   {
    "duration": 5,
    "start_time": "2023-03-21T11:45:52.559Z"
   },
   {
    "duration": 7,
    "start_time": "2023-03-21T11:45:54.695Z"
   },
   {
    "duration": 48,
    "start_time": "2023-03-21T11:45:57.896Z"
   },
   {
    "duration": 10,
    "start_time": "2023-03-21T11:47:13.956Z"
   },
   {
    "duration": 39,
    "start_time": "2023-03-21T11:47:27.191Z"
   },
   {
    "duration": 7,
    "start_time": "2023-03-21T11:48:46.037Z"
   },
   {
    "duration": 38,
    "start_time": "2023-03-21T11:48:49.922Z"
   },
   {
    "duration": 1558,
    "start_time": "2023-03-21T11:49:11.795Z"
   },
   {
    "duration": 3,
    "start_time": "2023-03-21T11:49:13.356Z"
   },
   {
    "duration": 270,
    "start_time": "2023-03-21T11:49:13.361Z"
   },
   {
    "duration": 15,
    "start_time": "2023-03-21T11:49:13.634Z"
   },
   {
    "duration": 15,
    "start_time": "2023-03-21T11:49:13.652Z"
   },
   {
    "duration": 6,
    "start_time": "2023-03-21T11:49:13.669Z"
   },
   {
    "duration": 7,
    "start_time": "2023-03-21T11:49:13.678Z"
   },
   {
    "duration": 77,
    "start_time": "2023-03-21T11:49:13.687Z"
   },
   {
    "duration": 2140,
    "start_time": "2023-03-21T11:49:13.765Z"
   },
   {
    "duration": 15,
    "start_time": "2023-03-21T11:49:15.908Z"
   },
   {
    "duration": 10,
    "start_time": "2023-03-21T11:49:15.926Z"
   },
   {
    "duration": 15,
    "start_time": "2023-03-21T11:49:15.937Z"
   },
   {
    "duration": 32,
    "start_time": "2023-03-21T11:49:15.953Z"
   },
   {
    "duration": 29,
    "start_time": "2023-03-21T11:49:15.987Z"
   },
   {
    "duration": 14,
    "start_time": "2023-03-21T11:49:16.018Z"
   },
   {
    "duration": 26,
    "start_time": "2023-03-21T11:49:16.034Z"
   },
   {
    "duration": 22,
    "start_time": "2023-03-21T11:49:16.063Z"
   },
   {
    "duration": 7,
    "start_time": "2023-03-21T11:49:16.089Z"
   },
   {
    "duration": 30,
    "start_time": "2023-03-21T11:49:16.099Z"
   },
   {
    "duration": 15,
    "start_time": "2023-03-21T11:49:16.131Z"
   },
   {
    "duration": 5,
    "start_time": "2023-03-21T11:49:16.148Z"
   },
   {
    "duration": 7,
    "start_time": "2023-03-21T11:49:16.155Z"
   },
   {
    "duration": 7,
    "start_time": "2023-03-21T11:49:16.164Z"
   },
   {
    "duration": 52,
    "start_time": "2023-03-21T11:49:16.172Z"
   },
   {
    "duration": 6,
    "start_time": "2023-03-21T11:49:16.225Z"
   },
   {
    "duration": 5,
    "start_time": "2023-03-21T11:49:16.233Z"
   },
   {
    "duration": 174,
    "start_time": "2023-03-21T11:49:16.240Z"
   },
   {
    "duration": 0,
    "start_time": "2023-03-21T11:49:16.417Z"
   },
   {
    "duration": 0,
    "start_time": "2023-03-21T11:49:16.419Z"
   },
   {
    "duration": 0,
    "start_time": "2023-03-21T11:49:16.420Z"
   },
   {
    "duration": 0,
    "start_time": "2023-03-21T11:49:16.421Z"
   },
   {
    "duration": 0,
    "start_time": "2023-03-21T11:49:16.422Z"
   },
   {
    "duration": 0,
    "start_time": "2023-03-21T11:49:16.423Z"
   },
   {
    "duration": 0,
    "start_time": "2023-03-21T11:49:16.425Z"
   },
   {
    "duration": 0,
    "start_time": "2023-03-21T11:49:16.426Z"
   },
   {
    "duration": 0,
    "start_time": "2023-03-21T11:49:16.427Z"
   },
   {
    "duration": 0,
    "start_time": "2023-03-21T11:49:16.429Z"
   },
   {
    "duration": 0,
    "start_time": "2023-03-21T11:49:16.430Z"
   },
   {
    "duration": 0,
    "start_time": "2023-03-21T11:49:16.433Z"
   },
   {
    "duration": 0,
    "start_time": "2023-03-21T11:49:16.434Z"
   },
   {
    "duration": 0,
    "start_time": "2023-03-21T11:49:16.435Z"
   },
   {
    "duration": 0,
    "start_time": "2023-03-21T11:49:16.436Z"
   },
   {
    "duration": 0,
    "start_time": "2023-03-21T11:49:16.437Z"
   },
   {
    "duration": 0,
    "start_time": "2023-03-21T11:49:16.438Z"
   },
   {
    "duration": 0,
    "start_time": "2023-03-21T11:49:16.439Z"
   },
   {
    "duration": 0,
    "start_time": "2023-03-21T11:49:16.441Z"
   },
   {
    "duration": 0,
    "start_time": "2023-03-21T11:49:16.442Z"
   },
   {
    "duration": 0,
    "start_time": "2023-03-21T11:49:16.443Z"
   },
   {
    "duration": 0,
    "start_time": "2023-03-21T11:49:16.444Z"
   },
   {
    "duration": 0,
    "start_time": "2023-03-21T11:49:16.445Z"
   },
   {
    "duration": 0,
    "start_time": "2023-03-21T11:49:16.447Z"
   },
   {
    "duration": 0,
    "start_time": "2023-03-21T11:49:16.448Z"
   },
   {
    "duration": 0,
    "start_time": "2023-03-21T11:49:16.449Z"
   },
   {
    "duration": 6,
    "start_time": "2023-03-21T11:49:50.238Z"
   },
   {
    "duration": 14,
    "start_time": "2023-03-21T11:49:53.383Z"
   },
   {
    "duration": 22,
    "start_time": "2023-03-21T11:50:33.786Z"
   },
   {
    "duration": 9,
    "start_time": "2023-03-21T11:51:36.305Z"
   },
   {
    "duration": 38,
    "start_time": "2023-03-21T11:51:38.760Z"
   },
   {
    "duration": 34,
    "start_time": "2023-03-21T11:55:05.611Z"
   },
   {
    "duration": 717,
    "start_time": "2023-03-21T11:57:13.317Z"
   },
   {
    "duration": 1784,
    "start_time": "2023-03-21T11:57:23.168Z"
   },
   {
    "duration": 3,
    "start_time": "2023-03-21T11:57:24.954Z"
   },
   {
    "duration": 59,
    "start_time": "2023-03-21T11:57:24.960Z"
   },
   {
    "duration": 21,
    "start_time": "2023-03-21T11:57:25.022Z"
   },
   {
    "duration": 18,
    "start_time": "2023-03-21T11:57:25.045Z"
   },
   {
    "duration": 7,
    "start_time": "2023-03-21T11:57:25.066Z"
   },
   {
    "duration": 8,
    "start_time": "2023-03-21T11:57:25.076Z"
   },
   {
    "duration": 113,
    "start_time": "2023-03-21T11:57:25.087Z"
   },
   {
    "duration": 3015,
    "start_time": "2023-03-21T11:57:25.202Z"
   },
   {
    "duration": 7,
    "start_time": "2023-03-21T11:57:28.223Z"
   },
   {
    "duration": 10,
    "start_time": "2023-03-21T11:57:28.232Z"
   },
   {
    "duration": 8,
    "start_time": "2023-03-21T11:57:28.244Z"
   },
   {
    "duration": 6,
    "start_time": "2023-03-21T11:57:28.254Z"
   },
   {
    "duration": 14,
    "start_time": "2023-03-21T11:57:28.262Z"
   },
   {
    "duration": 56,
    "start_time": "2023-03-21T11:57:28.278Z"
   },
   {
    "duration": 18,
    "start_time": "2023-03-21T11:57:28.336Z"
   },
   {
    "duration": 16,
    "start_time": "2023-03-21T11:57:28.357Z"
   },
   {
    "duration": 7,
    "start_time": "2023-03-21T11:57:28.375Z"
   },
   {
    "duration": 44,
    "start_time": "2023-03-21T11:57:28.384Z"
   },
   {
    "duration": 21,
    "start_time": "2023-03-21T11:57:28.430Z"
   },
   {
    "duration": 7,
    "start_time": "2023-03-21T11:57:28.454Z"
   },
   {
    "duration": 10,
    "start_time": "2023-03-21T11:57:28.463Z"
   },
   {
    "duration": 49,
    "start_time": "2023-03-21T11:57:28.476Z"
   },
   {
    "duration": 10,
    "start_time": "2023-03-21T11:57:28.527Z"
   },
   {
    "duration": 7,
    "start_time": "2023-03-21T11:57:28.539Z"
   },
   {
    "duration": 10,
    "start_time": "2023-03-21T11:57:28.548Z"
   },
   {
    "duration": 70,
    "start_time": "2023-03-21T11:57:28.560Z"
   },
   {
    "duration": 748,
    "start_time": "2023-03-21T11:57:28.637Z"
   },
   {
    "duration": 0,
    "start_time": "2023-03-21T11:57:29.387Z"
   },
   {
    "duration": 0,
    "start_time": "2023-03-21T11:57:29.389Z"
   },
   {
    "duration": 0,
    "start_time": "2023-03-21T11:57:29.391Z"
   },
   {
    "duration": 0,
    "start_time": "2023-03-21T11:57:29.393Z"
   },
   {
    "duration": 0,
    "start_time": "2023-03-21T11:57:29.394Z"
   },
   {
    "duration": 0,
    "start_time": "2023-03-21T11:57:29.395Z"
   },
   {
    "duration": 0,
    "start_time": "2023-03-21T11:57:29.396Z"
   },
   {
    "duration": 0,
    "start_time": "2023-03-21T11:57:29.398Z"
   },
   {
    "duration": 0,
    "start_time": "2023-03-21T11:57:29.424Z"
   },
   {
    "duration": 0,
    "start_time": "2023-03-21T11:57:29.425Z"
   },
   {
    "duration": 0,
    "start_time": "2023-03-21T11:57:29.427Z"
   },
   {
    "duration": 0,
    "start_time": "2023-03-21T11:57:29.428Z"
   },
   {
    "duration": 0,
    "start_time": "2023-03-21T11:57:29.430Z"
   },
   {
    "duration": 0,
    "start_time": "2023-03-21T11:57:29.431Z"
   },
   {
    "duration": 0,
    "start_time": "2023-03-21T11:57:29.432Z"
   },
   {
    "duration": 0,
    "start_time": "2023-03-21T11:57:29.434Z"
   },
   {
    "duration": 0,
    "start_time": "2023-03-21T11:57:29.435Z"
   },
   {
    "duration": 0,
    "start_time": "2023-03-21T11:57:29.437Z"
   },
   {
    "duration": 0,
    "start_time": "2023-03-21T11:57:29.438Z"
   },
   {
    "duration": 0,
    "start_time": "2023-03-21T11:57:29.440Z"
   },
   {
    "duration": 0,
    "start_time": "2023-03-21T11:57:29.441Z"
   },
   {
    "duration": 0,
    "start_time": "2023-03-21T11:57:29.443Z"
   },
   {
    "duration": 1,
    "start_time": "2023-03-21T11:57:29.443Z"
   },
   {
    "duration": 0,
    "start_time": "2023-03-21T11:57:29.445Z"
   },
   {
    "duration": 0,
    "start_time": "2023-03-21T11:57:29.446Z"
   },
   {
    "duration": 11,
    "start_time": "2023-03-21T11:57:45.569Z"
   },
   {
    "duration": 1411,
    "start_time": "2023-03-21T11:57:49.067Z"
   },
   {
    "duration": 9,
    "start_time": "2023-03-21T11:58:34.850Z"
   },
   {
    "duration": 39,
    "start_time": "2023-03-21T11:58:48.555Z"
   },
   {
    "duration": 3721,
    "start_time": "2023-03-21T11:58:52.604Z"
   },
   {
    "duration": 2344,
    "start_time": "2023-03-21T12:00:03.474Z"
   },
   {
    "duration": 5,
    "start_time": "2023-03-21T12:00:05.822Z"
   },
   {
    "duration": 110,
    "start_time": "2023-03-21T12:00:05.829Z"
   },
   {
    "duration": 21,
    "start_time": "2023-03-21T12:00:05.942Z"
   },
   {
    "duration": 25,
    "start_time": "2023-03-21T12:00:05.965Z"
   },
   {
    "duration": 8,
    "start_time": "2023-03-21T12:00:05.993Z"
   },
   {
    "duration": 33,
    "start_time": "2023-03-21T12:00:06.003Z"
   },
   {
    "duration": 86,
    "start_time": "2023-03-21T12:00:06.039Z"
   },
   {
    "duration": 2902,
    "start_time": "2023-03-21T12:00:06.127Z"
   },
   {
    "duration": 6,
    "start_time": "2023-03-21T12:00:09.033Z"
   },
   {
    "duration": 8,
    "start_time": "2023-03-21T12:00:09.042Z"
   },
   {
    "duration": 6,
    "start_time": "2023-03-21T12:00:09.052Z"
   },
   {
    "duration": 5,
    "start_time": "2023-03-21T12:00:09.061Z"
   },
   {
    "duration": 32,
    "start_time": "2023-03-21T12:00:09.068Z"
   },
   {
    "duration": 37,
    "start_time": "2023-03-21T12:00:09.103Z"
   },
   {
    "duration": 31,
    "start_time": "2023-03-21T12:00:09.144Z"
   },
   {
    "duration": 26,
    "start_time": "2023-03-21T12:00:09.177Z"
   },
   {
    "duration": 8,
    "start_time": "2023-03-21T12:00:09.224Z"
   },
   {
    "duration": 12,
    "start_time": "2023-03-21T12:00:09.234Z"
   },
   {
    "duration": 19,
    "start_time": "2023-03-21T12:00:09.249Z"
   },
   {
    "duration": 7,
    "start_time": "2023-03-21T12:00:09.271Z"
   },
   {
    "duration": 45,
    "start_time": "2023-03-21T12:00:09.280Z"
   },
   {
    "duration": 8,
    "start_time": "2023-03-21T12:00:09.328Z"
   },
   {
    "duration": 11,
    "start_time": "2023-03-21T12:00:09.338Z"
   },
   {
    "duration": 8,
    "start_time": "2023-03-21T12:00:09.351Z"
   },
   {
    "duration": 5,
    "start_time": "2023-03-21T12:00:09.361Z"
   },
   {
    "duration": 66,
    "start_time": "2023-03-21T12:00:09.370Z"
   },
   {
    "duration": 5443,
    "start_time": "2023-03-21T12:00:09.441Z"
   },
   {
    "duration": 354,
    "start_time": "2023-03-21T12:00:14.888Z"
   },
   {
    "duration": 217,
    "start_time": "2023-03-21T12:00:15.248Z"
   },
   {
    "duration": 831,
    "start_time": "2023-03-21T12:00:15.467Z"
   },
   {
    "duration": 431,
    "start_time": "2023-03-21T12:00:16.300Z"
   },
   {
    "duration": 132,
    "start_time": "2023-03-21T12:00:16.733Z"
   },
   {
    "duration": 956,
    "start_time": "2023-03-21T12:00:16.867Z"
   },
   {
    "duration": 4,
    "start_time": "2023-03-21T12:00:17.825Z"
   },
   {
    "duration": 7,
    "start_time": "2023-03-21T12:00:17.831Z"
   },
   {
    "duration": 19,
    "start_time": "2023-03-21T12:00:17.840Z"
   },
   {
    "duration": 6,
    "start_time": "2023-03-21T12:00:17.861Z"
   },
   {
    "duration": 180,
    "start_time": "2023-03-21T12:00:17.869Z"
   },
   {
    "duration": 117,
    "start_time": "2023-03-21T12:00:18.126Z"
   },
   {
    "duration": 536,
    "start_time": "2023-03-21T12:00:18.245Z"
   },
   {
    "duration": 22,
    "start_time": "2023-03-21T12:00:18.783Z"
   },
   {
    "duration": 21,
    "start_time": "2023-03-21T12:00:18.808Z"
   },
   {
    "duration": 297,
    "start_time": "2023-03-21T12:00:18.832Z"
   },
   {
    "duration": 142,
    "start_time": "2023-03-21T12:00:19.130Z"
   },
   {
    "duration": 1284,
    "start_time": "2023-03-21T12:00:19.275Z"
   },
   {
    "duration": 704,
    "start_time": "2023-03-21T12:00:20.562Z"
   },
   {
    "duration": 110,
    "start_time": "2023-03-21T12:00:21.269Z"
   },
   {
    "duration": 984,
    "start_time": "2023-03-21T12:00:21.382Z"
   },
   {
    "duration": 1269,
    "start_time": "2023-03-21T12:00:22.368Z"
   },
   {
    "duration": 70,
    "start_time": "2023-03-21T12:00:23.641Z"
   },
   {
    "duration": 86,
    "start_time": "2023-03-21T12:00:23.714Z"
   },
   {
    "duration": 1834,
    "start_time": "2023-03-21T12:00:23.802Z"
   },
   {
    "duration": 69,
    "start_time": "2023-03-21T12:01:21.059Z"
   },
   {
    "duration": 1244,
    "start_time": "2023-03-21T12:01:24.145Z"
   },
   {
    "duration": 497,
    "start_time": "2023-03-21T12:02:25.097Z"
   },
   {
    "duration": 56,
    "start_time": "2023-03-21T12:03:39.198Z"
   },
   {
    "duration": 907,
    "start_time": "2023-03-21T12:04:51.006Z"
   },
   {
    "duration": 985,
    "start_time": "2023-03-21T12:05:16.187Z"
   },
   {
    "duration": 33,
    "start_time": "2023-03-21T12:06:23.148Z"
   },
   {
    "duration": 2195,
    "start_time": "2023-03-21T12:06:28.783Z"
   },
   {
    "duration": 30,
    "start_time": "2023-03-21T12:06:57.583Z"
   },
   {
    "duration": 40,
    "start_time": "2023-03-21T12:07:46.835Z"
   },
   {
    "duration": 1744,
    "start_time": "2023-03-21T12:08:19.557Z"
   },
   {
    "duration": 4,
    "start_time": "2023-03-21T12:08:21.303Z"
   },
   {
    "duration": 72,
    "start_time": "2023-03-21T12:08:21.309Z"
   },
   {
    "duration": 17,
    "start_time": "2023-03-21T12:08:21.384Z"
   },
   {
    "duration": 17,
    "start_time": "2023-03-21T12:08:21.403Z"
   },
   {
    "duration": 7,
    "start_time": "2023-03-21T12:08:21.423Z"
   },
   {
    "duration": 11,
    "start_time": "2023-03-21T12:08:21.432Z"
   },
   {
    "duration": 82,
    "start_time": "2023-03-21T12:08:21.445Z"
   },
   {
    "duration": 4654,
    "start_time": "2023-03-21T12:08:21.529Z"
   },
   {
    "duration": 7,
    "start_time": "2023-03-21T12:08:26.187Z"
   },
   {
    "duration": 28,
    "start_time": "2023-03-21T12:08:26.196Z"
   },
   {
    "duration": 5,
    "start_time": "2023-03-21T12:08:26.227Z"
   },
   {
    "duration": 6,
    "start_time": "2023-03-21T12:08:26.234Z"
   },
   {
    "duration": 13,
    "start_time": "2023-03-21T12:08:26.242Z"
   },
   {
    "duration": 17,
    "start_time": "2023-03-21T12:08:26.257Z"
   },
   {
    "duration": 50,
    "start_time": "2023-03-21T12:08:26.276Z"
   },
   {
    "duration": 19,
    "start_time": "2023-03-21T12:08:26.330Z"
   },
   {
    "duration": 13,
    "start_time": "2023-03-21T12:08:26.351Z"
   },
   {
    "duration": 9,
    "start_time": "2023-03-21T12:08:26.369Z"
   },
   {
    "duration": 47,
    "start_time": "2023-03-21T12:08:26.380Z"
   },
   {
    "duration": 7,
    "start_time": "2023-03-21T12:08:26.429Z"
   },
   {
    "duration": 7,
    "start_time": "2023-03-21T12:08:26.439Z"
   },
   {
    "duration": 10,
    "start_time": "2023-03-21T12:08:26.448Z"
   },
   {
    "duration": 7,
    "start_time": "2023-03-21T12:08:26.460Z"
   },
   {
    "duration": 10,
    "start_time": "2023-03-21T12:08:26.469Z"
   },
   {
    "duration": 44,
    "start_time": "2023-03-21T12:08:26.482Z"
   },
   {
    "duration": 28,
    "start_time": "2023-03-21T12:08:26.529Z"
   },
   {
    "duration": 4328,
    "start_time": "2023-03-21T12:08:26.562Z"
   },
   {
    "duration": 0,
    "start_time": "2023-03-21T12:08:30.893Z"
   },
   {
    "duration": 0,
    "start_time": "2023-03-21T12:08:30.894Z"
   },
   {
    "duration": 0,
    "start_time": "2023-03-21T12:08:30.898Z"
   },
   {
    "duration": 0,
    "start_time": "2023-03-21T12:08:30.899Z"
   },
   {
    "duration": 0,
    "start_time": "2023-03-21T12:08:30.901Z"
   },
   {
    "duration": 0,
    "start_time": "2023-03-21T12:08:30.902Z"
   },
   {
    "duration": 0,
    "start_time": "2023-03-21T12:08:30.904Z"
   },
   {
    "duration": 0,
    "start_time": "2023-03-21T12:08:30.906Z"
   },
   {
    "duration": 0,
    "start_time": "2023-03-21T12:08:30.907Z"
   },
   {
    "duration": 0,
    "start_time": "2023-03-21T12:08:30.924Z"
   },
   {
    "duration": 0,
    "start_time": "2023-03-21T12:08:30.925Z"
   },
   {
    "duration": 0,
    "start_time": "2023-03-21T12:08:30.927Z"
   },
   {
    "duration": 0,
    "start_time": "2023-03-21T12:08:30.928Z"
   },
   {
    "duration": 0,
    "start_time": "2023-03-21T12:08:30.930Z"
   },
   {
    "duration": 0,
    "start_time": "2023-03-21T12:08:30.931Z"
   },
   {
    "duration": 0,
    "start_time": "2023-03-21T12:08:30.932Z"
   },
   {
    "duration": 0,
    "start_time": "2023-03-21T12:08:30.933Z"
   },
   {
    "duration": 0,
    "start_time": "2023-03-21T12:08:30.935Z"
   },
   {
    "duration": 0,
    "start_time": "2023-03-21T12:08:30.936Z"
   },
   {
    "duration": 0,
    "start_time": "2023-03-21T12:08:30.938Z"
   },
   {
    "duration": 0,
    "start_time": "2023-03-21T12:08:30.939Z"
   },
   {
    "duration": 0,
    "start_time": "2023-03-21T12:08:30.940Z"
   },
   {
    "duration": 0,
    "start_time": "2023-03-21T12:08:30.941Z"
   },
   {
    "duration": 0,
    "start_time": "2023-03-21T12:08:30.942Z"
   },
   {
    "duration": 0,
    "start_time": "2023-03-21T12:08:30.943Z"
   },
   {
    "duration": 40,
    "start_time": "2023-03-21T12:09:03.504Z"
   },
   {
    "duration": 7,
    "start_time": "2023-03-21T12:12:35.133Z"
   },
   {
    "duration": 26,
    "start_time": "2023-03-21T12:12:41.850Z"
   },
   {
    "duration": 2741,
    "start_time": "2023-03-21T12:12:45.588Z"
   },
   {
    "duration": 368,
    "start_time": "2023-03-21T12:13:19.440Z"
   },
   {
    "duration": 601,
    "start_time": "2023-03-21T12:13:36.787Z"
   },
   {
    "duration": 1518,
    "start_time": "2023-03-21T12:14:06.486Z"
   },
   {
    "duration": 6,
    "start_time": "2023-03-21T12:14:08.009Z"
   },
   {
    "duration": 76,
    "start_time": "2023-03-21T12:14:08.016Z"
   },
   {
    "duration": 17,
    "start_time": "2023-03-21T12:14:08.094Z"
   },
   {
    "duration": 22,
    "start_time": "2023-03-21T12:14:08.114Z"
   },
   {
    "duration": 10,
    "start_time": "2023-03-21T12:14:08.138Z"
   },
   {
    "duration": 15,
    "start_time": "2023-03-21T12:14:08.150Z"
   },
   {
    "duration": 54,
    "start_time": "2023-03-21T12:14:08.167Z"
   },
   {
    "duration": 2191,
    "start_time": "2023-03-21T12:14:08.222Z"
   },
   {
    "duration": 15,
    "start_time": "2023-03-21T12:14:10.423Z"
   },
   {
    "duration": 16,
    "start_time": "2023-03-21T12:14:10.440Z"
   },
   {
    "duration": 17,
    "start_time": "2023-03-21T12:14:10.459Z"
   },
   {
    "duration": 20,
    "start_time": "2023-03-21T12:14:10.478Z"
   },
   {
    "duration": 18,
    "start_time": "2023-03-21T12:14:10.503Z"
   },
   {
    "duration": 31,
    "start_time": "2023-03-21T12:14:10.523Z"
   },
   {
    "duration": 25,
    "start_time": "2023-03-21T12:14:10.555Z"
   },
   {
    "duration": 26,
    "start_time": "2023-03-21T12:14:10.583Z"
   },
   {
    "duration": 18,
    "start_time": "2023-03-21T12:14:10.611Z"
   },
   {
    "duration": 22,
    "start_time": "2023-03-21T12:14:10.631Z"
   },
   {
    "duration": 42,
    "start_time": "2023-03-21T12:14:10.656Z"
   },
   {
    "duration": 13,
    "start_time": "2023-03-21T12:14:10.701Z"
   },
   {
    "duration": 11,
    "start_time": "2023-03-21T12:14:10.717Z"
   },
   {
    "duration": 24,
    "start_time": "2023-03-21T12:14:10.730Z"
   },
   {
    "duration": 14,
    "start_time": "2023-03-21T12:14:10.756Z"
   },
   {
    "duration": 12,
    "start_time": "2023-03-21T12:14:10.773Z"
   },
   {
    "duration": 33,
    "start_time": "2023-03-21T12:14:10.787Z"
   },
   {
    "duration": 36,
    "start_time": "2023-03-21T12:14:10.822Z"
   },
   {
    "duration": 3936,
    "start_time": "2023-03-21T12:14:10.860Z"
   },
   {
    "duration": 340,
    "start_time": "2023-03-21T12:14:14.798Z"
   },
   {
    "duration": 221,
    "start_time": "2023-03-21T12:14:15.140Z"
   },
   {
    "duration": 691,
    "start_time": "2023-03-21T12:14:15.365Z"
   },
   {
    "duration": 172,
    "start_time": "2023-03-21T12:14:16.058Z"
   },
   {
    "duration": 206,
    "start_time": "2023-03-21T12:14:16.232Z"
   },
   {
    "duration": 658,
    "start_time": "2023-03-21T12:14:16.441Z"
   },
   {
    "duration": 3,
    "start_time": "2023-03-21T12:14:17.102Z"
   },
   {
    "duration": 55,
    "start_time": "2023-03-21T12:14:17.107Z"
   },
   {
    "duration": 23,
    "start_time": "2023-03-21T12:14:17.164Z"
   },
   {
    "duration": 27,
    "start_time": "2023-03-21T12:14:17.189Z"
   },
   {
    "duration": 119,
    "start_time": "2023-03-21T12:14:17.220Z"
   },
   {
    "duration": 91,
    "start_time": "2023-03-21T12:14:17.341Z"
   },
   {
    "duration": 476,
    "start_time": "2023-03-21T12:14:17.437Z"
   },
   {
    "duration": 21,
    "start_time": "2023-03-21T12:14:17.924Z"
   },
   {
    "duration": 21,
    "start_time": "2023-03-21T12:14:17.949Z"
   },
   {
    "duration": 257,
    "start_time": "2023-03-21T12:14:17.972Z"
   },
   {
    "duration": 224,
    "start_time": "2023-03-21T12:14:18.233Z"
   },
   {
    "duration": 1007,
    "start_time": "2023-03-21T12:14:18.459Z"
   },
   {
    "duration": 569,
    "start_time": "2023-03-21T12:14:19.468Z"
   },
   {
    "duration": 92,
    "start_time": "2023-03-21T12:14:20.039Z"
   },
   {
    "duration": 810,
    "start_time": "2023-03-21T12:14:20.133Z"
   },
   {
    "duration": 866,
    "start_time": "2023-03-21T12:14:20.946Z"
   },
   {
    "duration": 64,
    "start_time": "2023-03-21T12:14:21.814Z"
   },
   {
    "duration": 82,
    "start_time": "2023-03-21T12:14:21.880Z"
   },
   {
    "duration": 1344,
    "start_time": "2023-03-21T12:14:21.965Z"
   },
   {
    "duration": 22,
    "start_time": "2023-03-21T12:20:54.185Z"
   },
   {
    "duration": 40,
    "start_time": "2023-03-21T12:21:17.317Z"
   },
   {
    "duration": 7,
    "start_time": "2023-03-21T12:22:51.464Z"
   },
   {
    "duration": 34,
    "start_time": "2023-03-21T12:22:59.747Z"
   },
   {
    "duration": 4426,
    "start_time": "2023-03-21T12:23:03.677Z"
   },
   {
    "duration": 3217,
    "start_time": "2023-03-21T12:24:40.724Z"
   },
   {
    "duration": 3019,
    "start_time": "2023-03-21T12:24:56.515Z"
   },
   {
    "duration": 3855,
    "start_time": "2023-03-21T12:25:21.489Z"
   },
   {
    "duration": 2950,
    "start_time": "2023-03-21T12:27:36.382Z"
   },
   {
    "duration": 3194,
    "start_time": "2023-03-21T12:28:27.783Z"
   },
   {
    "duration": 2844,
    "start_time": "2023-03-21T12:29:16.687Z"
   },
   {
    "duration": 4486,
    "start_time": "2023-03-21T12:29:29.543Z"
   },
   {
    "duration": 4818,
    "start_time": "2023-03-21T12:39:10.432Z"
   },
   {
    "duration": 54,
    "start_time": "2023-03-21T17:09:26.028Z"
   },
   {
    "duration": 1756,
    "start_time": "2023-03-21T17:09:31.753Z"
   },
   {
    "duration": 3,
    "start_time": "2023-03-21T17:09:33.511Z"
   },
   {
    "duration": 127,
    "start_time": "2023-03-21T17:09:33.516Z"
   },
   {
    "duration": 29,
    "start_time": "2023-03-21T17:09:33.646Z"
   },
   {
    "duration": 16,
    "start_time": "2023-03-21T17:09:33.677Z"
   },
   {
    "duration": 6,
    "start_time": "2023-03-21T17:09:33.694Z"
   },
   {
    "duration": 12,
    "start_time": "2023-03-21T17:09:33.702Z"
   },
   {
    "duration": 55,
    "start_time": "2023-03-21T17:09:33.715Z"
   },
   {
    "duration": 2122,
    "start_time": "2023-03-21T17:09:33.774Z"
   },
   {
    "duration": 5,
    "start_time": "2023-03-21T17:09:35.899Z"
   },
   {
    "duration": 13,
    "start_time": "2023-03-21T17:09:35.905Z"
   },
   {
    "duration": 17,
    "start_time": "2023-03-21T17:09:35.920Z"
   },
   {
    "duration": 50,
    "start_time": "2023-03-21T17:09:35.939Z"
   },
   {
    "duration": 27,
    "start_time": "2023-03-21T17:09:35.991Z"
   },
   {
    "duration": 24,
    "start_time": "2023-03-21T17:09:36.020Z"
   },
   {
    "duration": 12,
    "start_time": "2023-03-21T17:09:36.046Z"
   },
   {
    "duration": 24,
    "start_time": "2023-03-21T17:09:36.071Z"
   },
   {
    "duration": 6,
    "start_time": "2023-03-21T17:09:36.097Z"
   },
   {
    "duration": 22,
    "start_time": "2023-03-21T17:09:36.104Z"
   },
   {
    "duration": 21,
    "start_time": "2023-03-21T17:09:36.127Z"
   },
   {
    "duration": 12,
    "start_time": "2023-03-21T17:09:36.149Z"
   },
   {
    "duration": 21,
    "start_time": "2023-03-21T17:09:36.166Z"
   },
   {
    "duration": 19,
    "start_time": "2023-03-21T17:09:36.189Z"
   },
   {
    "duration": 13,
    "start_time": "2023-03-21T17:09:36.209Z"
   },
   {
    "duration": 31,
    "start_time": "2023-03-21T17:09:36.223Z"
   },
   {
    "duration": 26,
    "start_time": "2023-03-21T17:09:36.256Z"
   },
   {
    "duration": 30,
    "start_time": "2023-03-21T17:09:36.284Z"
   },
   {
    "duration": 4730,
    "start_time": "2023-03-21T17:09:36.318Z"
   },
   {
    "duration": 4680,
    "start_time": "2023-03-21T17:09:41.058Z"
   },
   {
    "duration": 529,
    "start_time": "2023-03-21T17:09:45.739Z"
   },
   {
    "duration": 213,
    "start_time": "2023-03-21T17:09:46.270Z"
   },
   {
    "duration": 749,
    "start_time": "2023-03-21T17:09:46.485Z"
   },
   {
    "duration": 739,
    "start_time": "2023-03-21T17:09:47.236Z"
   },
   {
    "duration": 209,
    "start_time": "2023-03-21T17:09:47.977Z"
   },
   {
    "duration": 630,
    "start_time": "2023-03-21T17:09:48.188Z"
   },
   {
    "duration": 4,
    "start_time": "2023-03-21T17:09:48.820Z"
   },
   {
    "duration": 7,
    "start_time": "2023-03-21T17:09:48.826Z"
   },
   {
    "duration": 37,
    "start_time": "2023-03-21T17:09:48.834Z"
   },
   {
    "duration": 5,
    "start_time": "2023-03-21T17:09:48.873Z"
   },
   {
    "duration": 493,
    "start_time": "2023-03-21T17:09:48.880Z"
   },
   {
    "duration": 189,
    "start_time": "2023-03-21T17:09:49.376Z"
   },
   {
    "duration": 411,
    "start_time": "2023-03-21T17:09:49.568Z"
   },
   {
    "duration": 12,
    "start_time": "2023-03-21T17:09:49.981Z"
   },
   {
    "duration": 5,
    "start_time": "2023-03-21T17:09:49.994Z"
   },
   {
    "duration": 957,
    "start_time": "2023-03-21T17:09:50.000Z"
   },
   {
    "duration": 140,
    "start_time": "2023-03-21T17:09:50.960Z"
   },
   {
    "duration": 966,
    "start_time": "2023-03-21T17:09:51.102Z"
   },
   {
    "duration": 902,
    "start_time": "2023-03-21T17:09:52.074Z"
   },
   {
    "duration": 71,
    "start_time": "2023-03-21T17:09:52.977Z"
   },
   {
    "duration": 676,
    "start_time": "2023-03-21T17:09:53.059Z"
   },
   {
    "duration": 892,
    "start_time": "2023-03-21T17:09:53.736Z"
   },
   {
    "duration": 61,
    "start_time": "2023-03-21T17:09:54.630Z"
   },
   {
    "duration": 80,
    "start_time": "2023-03-21T17:09:54.693Z"
   },
   {
    "duration": 1418,
    "start_time": "2023-03-21T17:09:54.775Z"
   },
   {
    "duration": 1295,
    "start_time": "2023-03-21T17:11:32.137Z"
   },
   {
    "duration": 1585,
    "start_time": "2023-03-21T17:12:55.307Z"
   },
   {
    "duration": 1552,
    "start_time": "2023-03-21T17:14:58.679Z"
   },
   {
    "duration": 4,
    "start_time": "2023-03-21T17:15:00.233Z"
   },
   {
    "duration": 129,
    "start_time": "2023-03-21T17:15:00.239Z"
   },
   {
    "duration": 19,
    "start_time": "2023-03-21T17:15:00.371Z"
   },
   {
    "duration": 40,
    "start_time": "2023-03-21T17:15:00.391Z"
   },
   {
    "duration": 33,
    "start_time": "2023-03-21T17:15:00.433Z"
   },
   {
    "duration": 39,
    "start_time": "2023-03-21T17:15:00.472Z"
   },
   {
    "duration": 115,
    "start_time": "2023-03-21T17:15:00.513Z"
   },
   {
    "duration": 2260,
    "start_time": "2023-03-21T17:15:00.630Z"
   },
   {
    "duration": 5,
    "start_time": "2023-03-21T17:15:02.893Z"
   },
   {
    "duration": 20,
    "start_time": "2023-03-21T17:15:02.900Z"
   },
   {
    "duration": 5,
    "start_time": "2023-03-21T17:15:02.922Z"
   },
   {
    "duration": 4,
    "start_time": "2023-03-21T17:15:02.929Z"
   },
   {
    "duration": 26,
    "start_time": "2023-03-21T17:15:02.934Z"
   },
   {
    "duration": 41,
    "start_time": "2023-03-21T17:15:02.962Z"
   },
   {
    "duration": 13,
    "start_time": "2023-03-21T17:15:03.006Z"
   },
   {
    "duration": 32,
    "start_time": "2023-03-21T17:15:03.021Z"
   },
   {
    "duration": 17,
    "start_time": "2023-03-21T17:15:03.055Z"
   },
   {
    "duration": 24,
    "start_time": "2023-03-21T17:15:03.074Z"
   },
   {
    "duration": 21,
    "start_time": "2023-03-21T17:15:03.099Z"
   },
   {
    "duration": 5,
    "start_time": "2023-03-21T17:15:03.122Z"
   },
   {
    "duration": 44,
    "start_time": "2023-03-21T17:15:03.128Z"
   },
   {
    "duration": 25,
    "start_time": "2023-03-21T17:15:03.173Z"
   },
   {
    "duration": 19,
    "start_time": "2023-03-21T17:15:03.200Z"
   },
   {
    "duration": 22,
    "start_time": "2023-03-21T17:15:03.220Z"
   },
   {
    "duration": 33,
    "start_time": "2023-03-21T17:15:03.244Z"
   },
   {
    "duration": 57,
    "start_time": "2023-03-21T17:15:03.278Z"
   },
   {
    "duration": 3089,
    "start_time": "2023-03-21T17:15:03.340Z"
   },
   {
    "duration": 0,
    "start_time": "2023-03-21T17:15:06.430Z"
   },
   {
    "duration": 0,
    "start_time": "2023-03-21T17:15:06.432Z"
   },
   {
    "duration": 0,
    "start_time": "2023-03-21T17:15:06.432Z"
   },
   {
    "duration": 0,
    "start_time": "2023-03-21T17:15:06.433Z"
   },
   {
    "duration": 0,
    "start_time": "2023-03-21T17:15:06.435Z"
   },
   {
    "duration": 0,
    "start_time": "2023-03-21T17:15:06.436Z"
   },
   {
    "duration": 0,
    "start_time": "2023-03-21T17:15:06.437Z"
   },
   {
    "duration": 0,
    "start_time": "2023-03-21T17:15:06.438Z"
   },
   {
    "duration": 0,
    "start_time": "2023-03-21T17:15:06.439Z"
   },
   {
    "duration": 0,
    "start_time": "2023-03-21T17:15:06.440Z"
   },
   {
    "duration": 0,
    "start_time": "2023-03-21T17:15:06.441Z"
   },
   {
    "duration": 0,
    "start_time": "2023-03-21T17:15:06.442Z"
   },
   {
    "duration": 0,
    "start_time": "2023-03-21T17:15:06.458Z"
   },
   {
    "duration": 0,
    "start_time": "2023-03-21T17:15:06.459Z"
   },
   {
    "duration": 0,
    "start_time": "2023-03-21T17:15:06.460Z"
   },
   {
    "duration": 0,
    "start_time": "2023-03-21T17:15:06.460Z"
   },
   {
    "duration": 0,
    "start_time": "2023-03-21T17:15:06.461Z"
   },
   {
    "duration": 0,
    "start_time": "2023-03-21T17:15:06.463Z"
   },
   {
    "duration": 0,
    "start_time": "2023-03-21T17:15:06.464Z"
   },
   {
    "duration": 0,
    "start_time": "2023-03-21T17:15:06.465Z"
   },
   {
    "duration": 0,
    "start_time": "2023-03-21T17:15:06.466Z"
   },
   {
    "duration": 0,
    "start_time": "2023-03-21T17:15:06.467Z"
   },
   {
    "duration": 0,
    "start_time": "2023-03-21T17:15:06.468Z"
   },
   {
    "duration": 0,
    "start_time": "2023-03-21T17:15:06.469Z"
   },
   {
    "duration": 0,
    "start_time": "2023-03-21T17:15:06.469Z"
   },
   {
    "duration": 0,
    "start_time": "2023-03-21T17:15:06.470Z"
   },
   {
    "duration": 4498,
    "start_time": "2023-03-21T17:15:24.572Z"
   },
   {
    "duration": 1534,
    "start_time": "2023-03-21T17:16:16.496Z"
   },
   {
    "duration": 3,
    "start_time": "2023-03-21T17:16:18.032Z"
   },
   {
    "duration": 65,
    "start_time": "2023-03-21T17:16:18.037Z"
   },
   {
    "duration": 14,
    "start_time": "2023-03-21T17:16:18.104Z"
   },
   {
    "duration": 12,
    "start_time": "2023-03-21T17:16:18.120Z"
   },
   {
    "duration": 5,
    "start_time": "2023-03-21T17:16:18.134Z"
   },
   {
    "duration": 18,
    "start_time": "2023-03-21T17:16:18.140Z"
   },
   {
    "duration": 52,
    "start_time": "2023-03-21T17:16:18.160Z"
   },
   {
    "duration": 2132,
    "start_time": "2023-03-21T17:16:18.214Z"
   },
   {
    "duration": 11,
    "start_time": "2023-03-21T17:16:20.348Z"
   },
   {
    "duration": 12,
    "start_time": "2023-03-21T17:16:20.362Z"
   },
   {
    "duration": 11,
    "start_time": "2023-03-21T17:16:20.376Z"
   },
   {
    "duration": 8,
    "start_time": "2023-03-21T17:16:20.389Z"
   },
   {
    "duration": 12,
    "start_time": "2023-03-21T17:16:20.400Z"
   },
   {
    "duration": 19,
    "start_time": "2023-03-21T17:16:20.414Z"
   },
   {
    "duration": 12,
    "start_time": "2023-03-21T17:16:20.435Z"
   },
   {
    "duration": 16,
    "start_time": "2023-03-21T17:16:20.457Z"
   },
   {
    "duration": 11,
    "start_time": "2023-03-21T17:16:20.475Z"
   },
   {
    "duration": 11,
    "start_time": "2023-03-21T17:16:20.487Z"
   },
   {
    "duration": 13,
    "start_time": "2023-03-21T17:16:20.499Z"
   },
   {
    "duration": 5,
    "start_time": "2023-03-21T17:16:20.513Z"
   },
   {
    "duration": 11,
    "start_time": "2023-03-21T17:16:20.520Z"
   },
   {
    "duration": 8,
    "start_time": "2023-03-21T17:16:20.532Z"
   },
   {
    "duration": 11,
    "start_time": "2023-03-21T17:16:20.558Z"
   },
   {
    "duration": 10,
    "start_time": "2023-03-21T17:16:20.572Z"
   },
   {
    "duration": 9,
    "start_time": "2023-03-21T17:16:20.584Z"
   },
   {
    "duration": 27,
    "start_time": "2023-03-21T17:16:20.595Z"
   },
   {
    "duration": 5925,
    "start_time": "2023-03-21T17:16:20.624Z"
   },
   {
    "duration": 1695,
    "start_time": "2023-03-21T17:16:26.551Z"
   },
   {
    "duration": 0,
    "start_time": "2023-03-21T17:16:28.248Z"
   },
   {
    "duration": 0,
    "start_time": "2023-03-21T17:16:28.249Z"
   },
   {
    "duration": 0,
    "start_time": "2023-03-21T17:16:28.251Z"
   },
   {
    "duration": 1,
    "start_time": "2023-03-21T17:16:28.252Z"
   },
   {
    "duration": 0,
    "start_time": "2023-03-21T17:16:28.259Z"
   },
   {
    "duration": 0,
    "start_time": "2023-03-21T17:16:28.264Z"
   },
   {
    "duration": 1,
    "start_time": "2023-03-21T17:16:28.264Z"
   },
   {
    "duration": 0,
    "start_time": "2023-03-21T17:16:28.265Z"
   },
   {
    "duration": 0,
    "start_time": "2023-03-21T17:16:28.266Z"
   },
   {
    "duration": 0,
    "start_time": "2023-03-21T17:16:28.267Z"
   },
   {
    "duration": 0,
    "start_time": "2023-03-21T17:16:28.268Z"
   },
   {
    "duration": 0,
    "start_time": "2023-03-21T17:16:28.268Z"
   },
   {
    "duration": 0,
    "start_time": "2023-03-21T17:16:28.269Z"
   },
   {
    "duration": 0,
    "start_time": "2023-03-21T17:16:28.273Z"
   },
   {
    "duration": 0,
    "start_time": "2023-03-21T17:16:28.275Z"
   },
   {
    "duration": 0,
    "start_time": "2023-03-21T17:16:28.278Z"
   },
   {
    "duration": 0,
    "start_time": "2023-03-21T17:16:28.279Z"
   },
   {
    "duration": 0,
    "start_time": "2023-03-21T17:16:28.280Z"
   },
   {
    "duration": 0,
    "start_time": "2023-03-21T17:16:28.281Z"
   },
   {
    "duration": 0,
    "start_time": "2023-03-21T17:16:28.282Z"
   },
   {
    "duration": 0,
    "start_time": "2023-03-21T17:16:28.283Z"
   },
   {
    "duration": 0,
    "start_time": "2023-03-21T17:16:28.284Z"
   },
   {
    "duration": 0,
    "start_time": "2023-03-21T17:16:28.285Z"
   },
   {
    "duration": 0,
    "start_time": "2023-03-21T17:16:28.287Z"
   },
   {
    "duration": 0,
    "start_time": "2023-03-21T17:16:28.288Z"
   },
   {
    "duration": 1387,
    "start_time": "2023-03-21T17:17:19.907Z"
   },
   {
    "duration": 77,
    "start_time": "2023-03-21T17:19:09.430Z"
   },
   {
    "duration": 89,
    "start_time": "2023-03-21T17:19:15.083Z"
   },
   {
    "duration": 75,
    "start_time": "2023-03-21T17:19:28.879Z"
   },
   {
    "duration": 101,
    "start_time": "2023-03-21T17:19:36.596Z"
   },
   {
    "duration": 1327,
    "start_time": "2023-03-21T17:19:43.383Z"
   },
   {
    "duration": 1558,
    "start_time": "2023-03-21T17:23:14.512Z"
   },
   {
    "duration": 1515,
    "start_time": "2023-03-21T17:23:37.712Z"
   },
   {
    "duration": 3,
    "start_time": "2023-03-21T17:23:39.230Z"
   },
   {
    "duration": 71,
    "start_time": "2023-03-21T17:23:39.234Z"
   },
   {
    "duration": 15,
    "start_time": "2023-03-21T17:23:39.307Z"
   },
   {
    "duration": 12,
    "start_time": "2023-03-21T17:23:39.325Z"
   },
   {
    "duration": 5,
    "start_time": "2023-03-21T17:23:39.339Z"
   },
   {
    "duration": 20,
    "start_time": "2023-03-21T17:23:39.345Z"
   },
   {
    "duration": 41,
    "start_time": "2023-03-21T17:23:39.367Z"
   },
   {
    "duration": 2464,
    "start_time": "2023-03-21T17:23:39.410Z"
   },
   {
    "duration": 7,
    "start_time": "2023-03-21T17:23:41.876Z"
   },
   {
    "duration": 8,
    "start_time": "2023-03-21T17:23:41.885Z"
   },
   {
    "duration": 5,
    "start_time": "2023-03-21T17:23:41.895Z"
   },
   {
    "duration": 6,
    "start_time": "2023-03-21T17:23:41.902Z"
   },
   {
    "duration": 74,
    "start_time": "2023-03-21T17:23:41.911Z"
   },
   {
    "duration": 19,
    "start_time": "2023-03-21T17:23:41.986Z"
   },
   {
    "duration": 71,
    "start_time": "2023-03-21T17:23:42.007Z"
   },
   {
    "duration": 15,
    "start_time": "2023-03-21T17:23:42.080Z"
   },
   {
    "duration": 5,
    "start_time": "2023-03-21T17:23:42.097Z"
   },
   {
    "duration": 69,
    "start_time": "2023-03-21T17:23:42.103Z"
   },
   {
    "duration": 14,
    "start_time": "2023-03-21T17:23:42.174Z"
   },
   {
    "duration": 4,
    "start_time": "2023-03-21T17:23:42.190Z"
   },
   {
    "duration": 8,
    "start_time": "2023-03-21T17:23:42.196Z"
   },
   {
    "duration": 67,
    "start_time": "2023-03-21T17:23:42.206Z"
   },
   {
    "duration": 8,
    "start_time": "2023-03-21T17:23:42.275Z"
   },
   {
    "duration": 10,
    "start_time": "2023-03-21T17:23:42.284Z"
   },
   {
    "duration": 16,
    "start_time": "2023-03-21T17:23:42.295Z"
   },
   {
    "duration": 67,
    "start_time": "2023-03-21T17:23:42.313Z"
   },
   {
    "duration": 5101,
    "start_time": "2023-03-21T17:23:42.381Z"
   },
   {
    "duration": 1522,
    "start_time": "2023-03-21T17:23:47.483Z"
   },
   {
    "duration": 659,
    "start_time": "2023-03-21T17:23:49.007Z"
   },
   {
    "duration": 112,
    "start_time": "2023-03-21T17:23:49.672Z"
   },
   {
    "duration": 711,
    "start_time": "2023-03-21T17:23:49.786Z"
   },
   {
    "duration": 960,
    "start_time": "2023-03-21T17:23:50.499Z"
   },
   {
    "duration": 124,
    "start_time": "2023-03-21T17:23:51.461Z"
   },
   {
    "duration": 686,
    "start_time": "2023-03-21T17:23:51.587Z"
   },
   {
    "duration": 3,
    "start_time": "2023-03-21T17:23:52.275Z"
   },
   {
    "duration": 8,
    "start_time": "2023-03-21T17:23:52.279Z"
   },
   {
    "duration": 22,
    "start_time": "2023-03-21T17:23:52.289Z"
   },
   {
    "duration": 10,
    "start_time": "2023-03-21T17:23:52.312Z"
   },
   {
    "duration": 545,
    "start_time": "2023-03-21T17:23:52.323Z"
   },
   {
    "duration": 114,
    "start_time": "2023-03-21T17:23:52.875Z"
   },
   {
    "duration": 429,
    "start_time": "2023-03-21T17:23:52.991Z"
   },
   {
    "duration": 12,
    "start_time": "2023-03-21T17:23:53.422Z"
   },
   {
    "duration": 5,
    "start_time": "2023-03-21T17:23:53.436Z"
   },
   {
    "duration": 799,
    "start_time": "2023-03-21T17:23:53.461Z"
   },
   {
    "duration": 132,
    "start_time": "2023-03-21T17:23:54.266Z"
   },
   {
    "duration": 972,
    "start_time": "2023-03-21T17:23:54.400Z"
   },
   {
    "duration": 506,
    "start_time": "2023-03-21T17:23:55.374Z"
   },
   {
    "duration": 139,
    "start_time": "2023-03-21T17:23:55.882Z"
   },
   {
    "duration": 713,
    "start_time": "2023-03-21T17:23:56.023Z"
   },
   {
    "duration": 956,
    "start_time": "2023-03-21T17:23:56.738Z"
   },
   {
    "duration": 65,
    "start_time": "2023-03-21T17:23:57.696Z"
   },
   {
    "duration": 68,
    "start_time": "2023-03-21T17:23:57.770Z"
   },
   {
    "duration": 1380,
    "start_time": "2023-03-21T17:23:57.840Z"
   },
   {
    "duration": 4,
    "start_time": "2023-03-21T17:42:16.616Z"
   },
   {
    "duration": 91,
    "start_time": "2023-03-21T17:44:41.495Z"
   },
   {
    "duration": 1284,
    "start_time": "2023-03-21T17:44:54.209Z"
   },
   {
    "duration": 1177,
    "start_time": "2023-03-21T17:44:59.299Z"
   },
   {
    "duration": 1377,
    "start_time": "2023-03-21T17:45:57.944Z"
   },
   {
    "duration": 2025,
    "start_time": "2023-03-21T17:47:16.399Z"
   },
   {
    "duration": 747,
    "start_time": "2023-03-21T17:48:21.340Z"
   },
   {
    "duration": 1886,
    "start_time": "2023-03-21T17:49:31.794Z"
   },
   {
    "duration": 5,
    "start_time": "2023-03-21T17:49:47.503Z"
   },
   {
    "duration": 106,
    "start_time": "2023-03-21T17:56:25.595Z"
   },
   {
    "duration": 6,
    "start_time": "2023-03-21T18:00:17.628Z"
   },
   {
    "duration": 3266,
    "start_time": "2023-03-21T18:01:25.298Z"
   },
   {
    "duration": 1607,
    "start_time": "2023-03-21T18:01:36.004Z"
   },
   {
    "duration": 3,
    "start_time": "2023-03-21T18:01:37.613Z"
   },
   {
    "duration": 65,
    "start_time": "2023-03-21T18:01:37.618Z"
   },
   {
    "duration": 15,
    "start_time": "2023-03-21T18:01:37.685Z"
   },
   {
    "duration": 12,
    "start_time": "2023-03-21T18:01:37.702Z"
   },
   {
    "duration": 6,
    "start_time": "2023-03-21T18:01:37.715Z"
   },
   {
    "duration": 11,
    "start_time": "2023-03-21T18:01:37.722Z"
   },
   {
    "duration": 63,
    "start_time": "2023-03-21T18:01:37.734Z"
   },
   {
    "duration": 3234,
    "start_time": "2023-03-21T18:01:37.798Z"
   },
   {
    "duration": 7,
    "start_time": "2023-03-21T18:01:41.034Z"
   },
   {
    "duration": 22,
    "start_time": "2023-03-21T18:01:41.043Z"
   },
   {
    "duration": 10,
    "start_time": "2023-03-21T18:01:41.068Z"
   },
   {
    "duration": 10,
    "start_time": "2023-03-21T18:01:41.079Z"
   },
   {
    "duration": 17,
    "start_time": "2023-03-21T18:01:41.092Z"
   },
   {
    "duration": 14,
    "start_time": "2023-03-21T18:01:41.110Z"
   },
   {
    "duration": 14,
    "start_time": "2023-03-21T18:01:41.125Z"
   },
   {
    "duration": 31,
    "start_time": "2023-03-21T18:01:41.140Z"
   },
   {
    "duration": 8,
    "start_time": "2023-03-21T18:01:41.173Z"
   },
   {
    "duration": 12,
    "start_time": "2023-03-21T18:01:41.183Z"
   },
   {
    "duration": 14,
    "start_time": "2023-03-21T18:01:41.197Z"
   },
   {
    "duration": 4,
    "start_time": "2023-03-21T18:01:41.213Z"
   },
   {
    "duration": 12,
    "start_time": "2023-03-21T18:01:41.219Z"
   },
   {
    "duration": 39,
    "start_time": "2023-03-21T18:01:41.232Z"
   },
   {
    "duration": 7,
    "start_time": "2023-03-21T18:01:41.272Z"
   },
   {
    "duration": 7,
    "start_time": "2023-03-21T18:01:41.280Z"
   },
   {
    "duration": 16,
    "start_time": "2023-03-21T18:01:41.288Z"
   },
   {
    "duration": 1808,
    "start_time": "2023-03-21T18:01:41.305Z"
   },
   {
    "duration": 1988,
    "start_time": "2023-03-21T18:01:43.115Z"
   },
   {
    "duration": 1065,
    "start_time": "2023-03-21T18:01:45.105Z"
   },
   {
    "duration": 1297,
    "start_time": "2023-03-21T18:01:46.172Z"
   },
   {
    "duration": 3382,
    "start_time": "2023-03-21T18:01:47.471Z"
   },
   {
    "duration": 31,
    "start_time": "2023-03-21T18:01:50.855Z"
   },
   {
    "duration": 149,
    "start_time": "2023-03-21T18:01:50.888Z"
   },
   {
    "duration": 0,
    "start_time": "2023-03-21T18:01:51.039Z"
   },
   {
    "duration": 0,
    "start_time": "2023-03-21T18:01:51.041Z"
   },
   {
    "duration": 0,
    "start_time": "2023-03-21T18:01:51.042Z"
   },
   {
    "duration": 0,
    "start_time": "2023-03-21T18:01:51.043Z"
   },
   {
    "duration": 0,
    "start_time": "2023-03-21T18:01:51.045Z"
   },
   {
    "duration": 0,
    "start_time": "2023-03-21T18:01:51.059Z"
   },
   {
    "duration": 0,
    "start_time": "2023-03-21T18:01:51.066Z"
   },
   {
    "duration": 0,
    "start_time": "2023-03-21T18:01:51.066Z"
   },
   {
    "duration": 0,
    "start_time": "2023-03-21T18:01:51.067Z"
   },
   {
    "duration": 0,
    "start_time": "2023-03-21T18:01:51.068Z"
   },
   {
    "duration": 0,
    "start_time": "2023-03-21T18:01:51.068Z"
   },
   {
    "duration": 0,
    "start_time": "2023-03-21T18:01:51.069Z"
   },
   {
    "duration": 0,
    "start_time": "2023-03-21T18:01:51.071Z"
   },
   {
    "duration": 0,
    "start_time": "2023-03-21T18:01:51.072Z"
   },
   {
    "duration": 0,
    "start_time": "2023-03-21T18:01:51.073Z"
   },
   {
    "duration": 0,
    "start_time": "2023-03-21T18:01:51.074Z"
   },
   {
    "duration": 0,
    "start_time": "2023-03-21T18:01:51.076Z"
   },
   {
    "duration": 0,
    "start_time": "2023-03-21T18:01:51.078Z"
   },
   {
    "duration": 0,
    "start_time": "2023-03-21T18:01:51.079Z"
   },
   {
    "duration": 0,
    "start_time": "2023-03-21T18:01:51.080Z"
   },
   {
    "duration": 0,
    "start_time": "2023-03-21T18:01:51.082Z"
   },
   {
    "duration": 1,
    "start_time": "2023-03-21T18:01:51.083Z"
   },
   {
    "duration": 0,
    "start_time": "2023-03-21T18:01:51.085Z"
   },
   {
    "duration": 0,
    "start_time": "2023-03-21T18:01:51.087Z"
   },
   {
    "duration": 0,
    "start_time": "2023-03-21T18:01:51.088Z"
   },
   {
    "duration": 0,
    "start_time": "2023-03-21T18:01:51.090Z"
   },
   {
    "duration": 6,
    "start_time": "2023-03-21T18:01:59.102Z"
   },
   {
    "duration": 16,
    "start_time": "2023-03-21T18:02:28.853Z"
   },
   {
    "duration": 1547,
    "start_time": "2023-03-22T07:02:40.628Z"
   },
   {
    "duration": 3,
    "start_time": "2023-03-22T07:02:42.177Z"
   },
   {
    "duration": 193,
    "start_time": "2023-03-22T07:02:42.181Z"
   },
   {
    "duration": 13,
    "start_time": "2023-03-22T07:02:42.376Z"
   },
   {
    "duration": 12,
    "start_time": "2023-03-22T07:02:42.391Z"
   },
   {
    "duration": 5,
    "start_time": "2023-03-22T07:02:42.405Z"
   },
   {
    "duration": 5,
    "start_time": "2023-03-22T07:02:42.412Z"
   },
   {
    "duration": 50,
    "start_time": "2023-03-22T07:02:42.419Z"
   },
   {
    "duration": 1952,
    "start_time": "2023-03-22T07:02:42.471Z"
   },
   {
    "duration": 5,
    "start_time": "2023-03-22T07:02:44.426Z"
   },
   {
    "duration": 7,
    "start_time": "2023-03-22T07:02:44.432Z"
   },
   {
    "duration": 4,
    "start_time": "2023-03-22T07:02:44.441Z"
   },
   {
    "duration": 5,
    "start_time": "2023-03-22T07:02:44.447Z"
   },
   {
    "duration": 12,
    "start_time": "2023-03-22T07:02:44.454Z"
   },
   {
    "duration": 11,
    "start_time": "2023-03-22T07:02:44.467Z"
   },
   {
    "duration": 13,
    "start_time": "2023-03-22T07:02:44.480Z"
   },
   {
    "duration": 12,
    "start_time": "2023-03-22T07:02:44.523Z"
   },
   {
    "duration": 5,
    "start_time": "2023-03-22T07:02:44.536Z"
   },
   {
    "duration": 7,
    "start_time": "2023-03-22T07:02:44.543Z"
   },
   {
    "duration": 20,
    "start_time": "2023-03-22T07:02:44.551Z"
   },
   {
    "duration": 25,
    "start_time": "2023-03-22T07:02:44.573Z"
   },
   {
    "duration": 11,
    "start_time": "2023-03-22T07:02:44.600Z"
   },
   {
    "duration": 16,
    "start_time": "2023-03-22T07:02:44.612Z"
   },
   {
    "duration": 7,
    "start_time": "2023-03-22T07:02:44.630Z"
   },
   {
    "duration": 9,
    "start_time": "2023-03-22T07:02:44.639Z"
   },
   {
    "duration": 6,
    "start_time": "2023-03-22T07:02:44.650Z"
   },
   {
    "duration": 1208,
    "start_time": "2023-03-22T07:02:44.658Z"
   },
   {
    "duration": 1427,
    "start_time": "2023-03-22T07:02:45.869Z"
   },
   {
    "duration": 710,
    "start_time": "2023-03-22T07:02:47.298Z"
   },
   {
    "duration": 1074,
    "start_time": "2023-03-22T07:02:48.010Z"
   },
   {
    "duration": 2710,
    "start_time": "2023-03-22T07:02:49.085Z"
   },
   {
    "duration": 5,
    "start_time": "2023-03-22T07:02:51.796Z"
   },
   {
    "duration": 29,
    "start_time": "2023-03-22T07:02:51.803Z"
   },
   {
    "duration": 109,
    "start_time": "2023-03-22T07:02:51.834Z"
   },
   {
    "duration": 0,
    "start_time": "2023-03-22T07:02:51.945Z"
   },
   {
    "duration": 0,
    "start_time": "2023-03-22T07:02:51.946Z"
   },
   {
    "duration": 0,
    "start_time": "2023-03-22T07:02:51.947Z"
   },
   {
    "duration": 0,
    "start_time": "2023-03-22T07:02:51.948Z"
   },
   {
    "duration": 0,
    "start_time": "2023-03-22T07:02:51.949Z"
   },
   {
    "duration": 0,
    "start_time": "2023-03-22T07:02:51.950Z"
   },
   {
    "duration": 0,
    "start_time": "2023-03-22T07:02:51.951Z"
   },
   {
    "duration": 0,
    "start_time": "2023-03-22T07:02:51.952Z"
   },
   {
    "duration": 0,
    "start_time": "2023-03-22T07:02:51.953Z"
   },
   {
    "duration": 0,
    "start_time": "2023-03-22T07:02:51.954Z"
   },
   {
    "duration": 0,
    "start_time": "2023-03-22T07:02:51.955Z"
   },
   {
    "duration": 0,
    "start_time": "2023-03-22T07:02:51.956Z"
   },
   {
    "duration": 0,
    "start_time": "2023-03-22T07:02:51.957Z"
   },
   {
    "duration": 0,
    "start_time": "2023-03-22T07:02:51.958Z"
   },
   {
    "duration": 0,
    "start_time": "2023-03-22T07:02:51.959Z"
   },
   {
    "duration": 0,
    "start_time": "2023-03-22T07:02:51.960Z"
   },
   {
    "duration": 0,
    "start_time": "2023-03-22T07:02:51.961Z"
   },
   {
    "duration": 0,
    "start_time": "2023-03-22T07:02:51.962Z"
   },
   {
    "duration": 0,
    "start_time": "2023-03-22T07:02:51.963Z"
   },
   {
    "duration": 0,
    "start_time": "2023-03-22T07:02:51.964Z"
   },
   {
    "duration": 0,
    "start_time": "2023-03-22T07:02:51.965Z"
   },
   {
    "duration": 0,
    "start_time": "2023-03-22T07:02:51.966Z"
   },
   {
    "duration": 0,
    "start_time": "2023-03-22T07:02:51.967Z"
   },
   {
    "duration": 0,
    "start_time": "2023-03-22T07:02:51.968Z"
   },
   {
    "duration": 0,
    "start_time": "2023-03-22T07:02:51.969Z"
   },
   {
    "duration": 0,
    "start_time": "2023-03-22T07:02:51.970Z"
   },
   {
    "duration": 5,
    "start_time": "2023-03-22T07:13:29.522Z"
   },
   {
    "duration": 9,
    "start_time": "2023-03-22T07:13:37.329Z"
   },
   {
    "duration": 11,
    "start_time": "2023-03-22T07:22:40.684Z"
   },
   {
    "duration": 717,
    "start_time": "2023-03-22T07:29:00.875Z"
   },
   {
    "duration": 768,
    "start_time": "2023-03-22T07:29:14.956Z"
   },
   {
    "duration": 11,
    "start_time": "2023-03-22T07:29:41.901Z"
   },
   {
    "duration": 789,
    "start_time": "2023-03-22T07:30:25.286Z"
   },
   {
    "duration": 9,
    "start_time": "2023-03-22T07:30:51.374Z"
   },
   {
    "duration": 12,
    "start_time": "2023-03-22T07:31:22.885Z"
   },
   {
    "duration": 13,
    "start_time": "2023-03-22T07:31:46.487Z"
   },
   {
    "duration": 13,
    "start_time": "2023-03-22T07:32:11.251Z"
   },
   {
    "duration": 768,
    "start_time": "2023-03-22T07:32:17.451Z"
   },
   {
    "duration": 772,
    "start_time": "2023-03-22T07:33:06.284Z"
   },
   {
    "duration": 73,
    "start_time": "2023-03-22T07:33:38.062Z"
   },
   {
    "duration": 55,
    "start_time": "2023-03-22T07:33:52.171Z"
   },
   {
    "duration": 12,
    "start_time": "2023-03-22T07:34:00.057Z"
   },
   {
    "duration": 10,
    "start_time": "2023-03-22T07:34:20.416Z"
   },
   {
    "duration": 844,
    "start_time": "2023-03-22T07:35:27.436Z"
   },
   {
    "duration": 741,
    "start_time": "2023-03-22T07:35:36.673Z"
   },
   {
    "duration": 12,
    "start_time": "2023-03-22T07:36:11.626Z"
   },
   {
    "duration": 19,
    "start_time": "2023-03-22T07:36:41.292Z"
   },
   {
    "duration": 14,
    "start_time": "2023-03-22T07:37:19.020Z"
   },
   {
    "duration": 69,
    "start_time": "2023-03-22T07:37:28.534Z"
   },
   {
    "duration": 17,
    "start_time": "2023-03-22T07:37:32.849Z"
   },
   {
    "duration": 23,
    "start_time": "2023-03-22T07:38:03.221Z"
   },
   {
    "duration": 18,
    "start_time": "2023-03-22T07:39:11.273Z"
   },
   {
    "duration": 18,
    "start_time": "2023-03-22T07:39:24.244Z"
   },
   {
    "duration": 21,
    "start_time": "2023-03-22T07:39:50.760Z"
   },
   {
    "duration": 17,
    "start_time": "2023-03-22T07:40:09.758Z"
   },
   {
    "duration": 16,
    "start_time": "2023-03-22T07:41:44.270Z"
   },
   {
    "duration": 13,
    "start_time": "2023-03-22T07:42:05.811Z"
   },
   {
    "duration": 15,
    "start_time": "2023-03-22T07:42:30.699Z"
   },
   {
    "duration": 15,
    "start_time": "2023-03-22T07:46:24.070Z"
   },
   {
    "duration": 15,
    "start_time": "2023-03-22T07:46:29.440Z"
   },
   {
    "duration": 6,
    "start_time": "2023-03-22T07:47:39.637Z"
   },
   {
    "duration": 11,
    "start_time": "2023-03-22T07:47:50.452Z"
   },
   {
    "duration": 15,
    "start_time": "2023-03-22T07:48:52.156Z"
   },
   {
    "duration": 18,
    "start_time": "2023-03-22T07:49:42.313Z"
   },
   {
    "duration": 5,
    "start_time": "2023-03-22T07:51:22.688Z"
   },
   {
    "duration": 11,
    "start_time": "2023-03-22T07:51:28.046Z"
   },
   {
    "duration": 221,
    "start_time": "2023-03-22T08:06:48.860Z"
   },
   {
    "duration": 5,
    "start_time": "2023-03-22T08:08:49.937Z"
   },
   {
    "duration": 12,
    "start_time": "2023-03-22T08:09:33.821Z"
   },
   {
    "duration": 12,
    "start_time": "2023-03-22T08:09:50.623Z"
   },
   {
    "duration": 9,
    "start_time": "2023-03-22T08:10:01.940Z"
   },
   {
    "duration": 10,
    "start_time": "2023-03-22T08:11:56.525Z"
   },
   {
    "duration": 9,
    "start_time": "2023-03-22T08:12:03.834Z"
   },
   {
    "duration": 778,
    "start_time": "2023-03-22T08:14:02.923Z"
   },
   {
    "duration": 731,
    "start_time": "2023-03-22T08:14:25.269Z"
   },
   {
    "duration": 19,
    "start_time": "2023-03-22T08:14:52.026Z"
   },
   {
    "duration": 13,
    "start_time": "2023-03-22T08:15:01.527Z"
   },
   {
    "duration": 837,
    "start_time": "2023-03-22T08:15:34.236Z"
   },
   {
    "duration": 15,
    "start_time": "2023-03-22T08:15:39.622Z"
   },
   {
    "duration": 14,
    "start_time": "2023-03-22T08:16:25.577Z"
   },
   {
    "duration": 10,
    "start_time": "2023-03-22T08:17:42.008Z"
   },
   {
    "duration": 9,
    "start_time": "2023-03-22T08:17:50.159Z"
   },
   {
    "duration": 5,
    "start_time": "2023-03-22T08:18:26.828Z"
   },
   {
    "duration": 13,
    "start_time": "2023-03-22T08:18:35.347Z"
   },
   {
    "duration": 15,
    "start_time": "2023-03-22T08:22:59.795Z"
   },
   {
    "duration": 15,
    "start_time": "2023-03-22T08:23:27.608Z"
   },
   {
    "duration": 6,
    "start_time": "2023-03-22T08:28:38.839Z"
   },
   {
    "duration": 4,
    "start_time": "2023-03-22T08:28:41.099Z"
   },
   {
    "duration": 1012,
    "start_time": "2023-03-22T08:28:45.265Z"
   },
   {
    "duration": 1339,
    "start_time": "2023-03-22T08:28:48.215Z"
   },
   {
    "duration": 676,
    "start_time": "2023-03-22T08:28:51.826Z"
   },
   {
    "duration": 978,
    "start_time": "2023-03-22T08:28:54.688Z"
   },
   {
    "duration": 2565,
    "start_time": "2023-03-22T08:28:58.062Z"
   },
   {
    "duration": 5,
    "start_time": "2023-03-22T08:29:03.622Z"
   },
   {
    "duration": 56,
    "start_time": "2023-03-22T08:41:48.895Z"
   },
   {
    "duration": 7,
    "start_time": "2023-03-22T08:41:55.239Z"
   },
   {
    "duration": 16,
    "start_time": "2023-03-22T08:42:20.143Z"
   },
   {
    "duration": 6,
    "start_time": "2023-03-22T08:42:41.049Z"
   },
   {
    "duration": 15,
    "start_time": "2023-03-22T08:42:44.233Z"
   },
   {
    "duration": 6,
    "start_time": "2023-03-22T08:43:45.711Z"
   },
   {
    "duration": 883,
    "start_time": "2023-03-22T08:43:48.857Z"
   },
   {
    "duration": 7,
    "start_time": "2023-03-22T08:44:20.564Z"
   },
   {
    "duration": 690,
    "start_time": "2023-03-22T08:44:23.336Z"
   },
   {
    "duration": 6,
    "start_time": "2023-03-22T08:44:32.302Z"
   },
   {
    "duration": 902,
    "start_time": "2023-03-22T08:44:34.222Z"
   },
   {
    "duration": 5,
    "start_time": "2023-03-22T08:45:25.792Z"
   },
   {
    "duration": 500,
    "start_time": "2023-03-22T08:45:28.144Z"
   },
   {
    "duration": 6,
    "start_time": "2023-03-22T08:46:49.316Z"
   },
   {
    "duration": 1471,
    "start_time": "2023-03-22T08:46:54.669Z"
   },
   {
    "duration": 1332,
    "start_time": "2023-03-22T08:48:16.246Z"
   },
   {
    "duration": 922,
    "start_time": "2023-03-22T08:48:42.810Z"
   },
   {
    "duration": 9,
    "start_time": "2023-03-22T08:51:11.459Z"
   },
   {
    "duration": 1197,
    "start_time": "2023-03-22T08:51:24.346Z"
   },
   {
    "duration": 1274,
    "start_time": "2023-03-22T08:51:27.122Z"
   },
   {
    "duration": 958,
    "start_time": "2023-03-22T08:51:30.255Z"
   },
   {
    "duration": 982,
    "start_time": "2023-03-22T08:51:33.388Z"
   },
   {
    "duration": 2472,
    "start_time": "2023-03-22T08:51:36.480Z"
   },
   {
    "duration": 11,
    "start_time": "2023-03-22T08:51:41.415Z"
   },
   {
    "duration": 13,
    "start_time": "2023-03-22T08:52:15.223Z"
   },
   {
    "duration": 13,
    "start_time": "2023-03-22T08:53:08.335Z"
   },
   {
    "duration": 3967,
    "start_time": "2023-03-22T08:54:32.802Z"
   },
   {
    "duration": 11,
    "start_time": "2023-03-22T08:54:39.302Z"
   },
   {
    "duration": 4,
    "start_time": "2023-03-22T08:54:55.585Z"
   },
   {
    "duration": 20,
    "start_time": "2023-03-22T08:56:30.530Z"
   },
   {
    "duration": 17,
    "start_time": "2023-03-22T08:56:46.923Z"
   },
   {
    "duration": 12,
    "start_time": "2023-03-22T08:57:00.195Z"
   },
   {
    "duration": 15,
    "start_time": "2023-03-22T08:57:19.942Z"
   },
   {
    "duration": 14,
    "start_time": "2023-03-22T08:58:56.236Z"
   },
   {
    "duration": 5171,
    "start_time": "2023-03-22T09:02:31.987Z"
   },
   {
    "duration": 12,
    "start_time": "2023-03-22T09:02:38.910Z"
   },
   {
    "duration": 617,
    "start_time": "2023-03-22T09:06:32.992Z"
   },
   {
    "duration": 892,
    "start_time": "2023-03-22T09:07:28.648Z"
   },
   {
    "duration": 1017,
    "start_time": "2023-03-22T09:10:36.271Z"
   },
   {
    "duration": 935,
    "start_time": "2023-03-22T09:10:45.848Z"
   },
   {
    "duration": 672,
    "start_time": "2023-03-22T09:11:19.299Z"
   },
   {
    "duration": 692,
    "start_time": "2023-03-22T09:11:42.354Z"
   },
   {
    "duration": 674,
    "start_time": "2023-03-22T09:11:48.974Z"
   },
   {
    "duration": 911,
    "start_time": "2023-03-22T09:12:10.939Z"
   },
   {
    "duration": 870,
    "start_time": "2023-03-22T09:12:17.244Z"
   },
   {
    "duration": 11,
    "start_time": "2023-03-22T09:24:24.286Z"
   },
   {
    "duration": 4,
    "start_time": "2023-03-22T09:24:28.920Z"
   },
   {
    "duration": 172,
    "start_time": "2023-03-22T09:24:35.712Z"
   },
   {
    "duration": 424555,
    "start_time": "2023-03-22T09:25:23.233Z"
   },
   {
    "duration": 77,
    "start_time": "2023-03-22T09:34:17.958Z"
   },
   {
    "duration": 44,
    "start_time": "2023-03-22T09:34:26.502Z"
   },
   {
    "duration": 41,
    "start_time": "2023-03-22T09:34:40.812Z"
   },
   {
    "duration": 394155,
    "start_time": "2023-03-22T09:34:48.425Z"
   },
   {
    "duration": 0,
    "start_time": "2023-03-22T09:41:22.582Z"
   },
   {
    "duration": 4604,
    "start_time": "2023-03-22T09:41:28.639Z"
   },
   {
    "duration": 5354,
    "start_time": "2023-03-22T09:43:15.075Z"
   },
   {
    "duration": 5763,
    "start_time": "2023-03-22T09:43:52.226Z"
   },
   {
    "duration": 4801,
    "start_time": "2023-03-22T09:44:20.728Z"
   },
   {
    "duration": 5477,
    "start_time": "2023-03-22T09:44:31.165Z"
   },
   {
    "duration": 11,
    "start_time": "2023-03-22T09:48:31.424Z"
   },
   {
    "duration": 12,
    "start_time": "2023-03-22T09:48:37.693Z"
   },
   {
    "duration": 11,
    "start_time": "2023-03-22T09:48:48.443Z"
   },
   {
    "duration": 6,
    "start_time": "2023-03-22T09:49:19.079Z"
   },
   {
    "duration": 236571,
    "start_time": "2023-03-22T09:49:39.337Z"
   },
   {
    "duration": 52,
    "start_time": "2023-03-22T10:01:53.417Z"
   },
   {
    "duration": 796,
    "start_time": "2023-03-22T10:02:00.725Z"
   },
   {
    "duration": 781,
    "start_time": "2023-03-22T10:02:26.632Z"
   },
   {
    "duration": 753,
    "start_time": "2023-03-22T10:02:33.579Z"
   },
   {
    "duration": 739,
    "start_time": "2023-03-22T10:02:39.065Z"
   },
   {
    "duration": 858,
    "start_time": "2023-03-22T10:02:53.483Z"
   },
   {
    "duration": 8078376,
    "start_time": "2023-03-22T10:06:26.231Z"
   },
   {
    "duration": 49,
    "start_time": "2023-03-22T12:21:04.609Z"
   },
   {
    "duration": 0,
    "start_time": "2023-03-22T12:21:04.660Z"
   },
   {
    "duration": 30,
    "start_time": "2023-03-22T12:21:26.812Z"
   },
   {
    "duration": 294339,
    "start_time": "2023-03-22T12:21:45.724Z"
   },
   {
    "duration": 786,
    "start_time": "2023-03-22T13:07:07.723Z"
   },
   {
    "duration": 1126326,
    "start_time": "2023-03-22T13:10:09.341Z"
   },
   {
    "duration": 31,
    "start_time": "2023-03-22T15:10:33.644Z"
   },
   {
    "duration": 5,
    "start_time": "2023-03-22T15:10:41.041Z"
   },
   {
    "duration": 8,
    "start_time": "2023-03-22T15:11:39.182Z"
   },
   {
    "duration": 4,
    "start_time": "2023-03-22T15:11:44.828Z"
   },
   {
    "duration": 10,
    "start_time": "2023-03-22T15:14:27.958Z"
   },
   {
    "duration": 9,
    "start_time": "2023-03-22T15:15:11.252Z"
   },
   {
    "duration": 4,
    "start_time": "2023-03-22T15:15:27.924Z"
   },
   {
    "duration": 9,
    "start_time": "2023-03-22T15:17:14.533Z"
   },
   {
    "duration": 10,
    "start_time": "2023-03-22T15:17:39.955Z"
   },
   {
    "duration": 5,
    "start_time": "2023-03-22T15:18:37.475Z"
   },
   {
    "duration": 6,
    "start_time": "2023-03-22T15:19:08.227Z"
   },
   {
    "duration": 12,
    "start_time": "2023-03-22T15:19:47.471Z"
   },
   {
    "duration": 11,
    "start_time": "2023-03-22T15:20:00.029Z"
   },
   {
    "duration": 12,
    "start_time": "2023-03-22T15:20:17.226Z"
   },
   {
    "duration": 13,
    "start_time": "2023-03-22T15:20:37.792Z"
   },
   {
    "duration": 4,
    "start_time": "2023-03-22T15:21:08.379Z"
   },
   {
    "duration": 6,
    "start_time": "2023-03-22T15:21:20.727Z"
   },
   {
    "duration": 628,
    "start_time": "2023-03-22T15:23:29.674Z"
   },
   {
    "duration": 674,
    "start_time": "2023-03-22T15:23:45.492Z"
   },
   {
    "duration": 633,
    "start_time": "2023-03-22T15:24:41.132Z"
   },
   {
    "duration": 5,
    "start_time": "2023-03-22T15:24:52.684Z"
   },
   {
    "duration": 4,
    "start_time": "2023-03-22T15:24:54.518Z"
   },
   {
    "duration": 6,
    "start_time": "2023-03-22T15:24:56.293Z"
   },
   {
    "duration": 671,
    "start_time": "2023-03-22T15:25:15.336Z"
   },
   {
    "duration": 4,
    "start_time": "2023-03-22T15:25:46.699Z"
   },
   {
    "duration": 2607,
    "start_time": "2023-03-22T15:26:11.371Z"
   },
   {
    "duration": 2719,
    "start_time": "2023-03-22T15:26:39.121Z"
   },
   {
    "duration": 2645,
    "start_time": "2023-03-22T15:26:54.025Z"
   },
   {
    "duration": 621,
    "start_time": "2023-03-22T15:29:27.323Z"
   },
   {
    "duration": 718,
    "start_time": "2023-03-22T15:29:33.319Z"
   },
   {
    "duration": 614,
    "start_time": "2023-03-22T15:29:38.219Z"
   },
   {
    "duration": 771,
    "start_time": "2023-03-22T15:29:43.020Z"
   },
   {
    "duration": 738,
    "start_time": "2023-03-22T15:29:48.620Z"
   },
   {
    "duration": 604,
    "start_time": "2023-03-22T15:29:54.620Z"
   },
   {
    "duration": 606,
    "start_time": "2023-03-22T15:30:07.080Z"
   },
   {
    "duration": 620,
    "start_time": "2023-03-22T15:30:13.720Z"
   },
   {
    "duration": 595,
    "start_time": "2023-03-22T15:30:18.129Z"
   },
   {
    "duration": 590,
    "start_time": "2023-03-22T15:30:27.441Z"
   },
   {
    "duration": 595,
    "start_time": "2023-03-22T15:30:39.358Z"
   },
   {
    "duration": 582,
    "start_time": "2023-03-22T15:31:18.172Z"
   },
   {
    "duration": 623,
    "start_time": "2023-03-22T15:31:24.352Z"
   },
   {
    "duration": 627,
    "start_time": "2023-03-22T15:31:29.719Z"
   },
   {
    "duration": 593,
    "start_time": "2023-03-22T15:31:33.629Z"
   },
   {
    "duration": 601,
    "start_time": "2023-03-22T15:31:40.222Z"
   },
   {
    "duration": 501,
    "start_time": "2023-03-22T15:31:46.788Z"
   },
   {
    "duration": 529,
    "start_time": "2023-03-22T15:31:51.280Z"
   },
   {
    "duration": 535,
    "start_time": "2023-03-22T15:31:55.679Z"
   },
   {
    "duration": 585,
    "start_time": "2023-03-22T15:32:02.717Z"
   },
   {
    "duration": 589,
    "start_time": "2023-03-22T15:32:06.921Z"
   },
   {
    "duration": 577,
    "start_time": "2023-03-22T15:32:13.839Z"
   },
   {
    "duration": 614,
    "start_time": "2023-03-22T15:32:18.367Z"
   },
   {
    "duration": 606,
    "start_time": "2023-03-22T15:32:23.969Z"
   },
   {
    "duration": 620,
    "start_time": "2023-03-22T15:32:29.815Z"
   },
   {
    "duration": 614,
    "start_time": "2023-03-22T15:32:33.666Z"
   },
   {
    "duration": 620,
    "start_time": "2023-03-22T15:32:37.095Z"
   },
   {
    "duration": 616,
    "start_time": "2023-03-22T15:32:41.319Z"
   },
   {
    "duration": 622,
    "start_time": "2023-03-22T15:32:45.739Z"
   },
   {
    "duration": 535,
    "start_time": "2023-03-22T15:32:49.628Z"
   },
   {
    "duration": 573,
    "start_time": "2023-03-22T15:32:53.165Z"
   },
   {
    "duration": 581,
    "start_time": "2023-03-22T15:32:57.752Z"
   },
   {
    "duration": 595,
    "start_time": "2023-03-22T15:33:01.174Z"
   },
   {
    "duration": 596,
    "start_time": "2023-03-22T15:33:05.075Z"
   },
   {
    "duration": 609,
    "start_time": "2023-03-22T15:33:08.435Z"
   },
   {
    "duration": 588,
    "start_time": "2023-03-22T15:33:13.190Z"
   },
   {
    "duration": 589,
    "start_time": "2023-03-22T15:33:17.332Z"
   },
   {
    "duration": 608,
    "start_time": "2023-03-22T15:33:20.624Z"
   },
   {
    "duration": 582,
    "start_time": "2023-03-22T15:33:23.748Z"
   },
   {
    "duration": 587,
    "start_time": "2023-03-22T15:33:28.581Z"
   },
   {
    "duration": 568,
    "start_time": "2023-03-22T15:33:31.759Z"
   },
   {
    "duration": 583,
    "start_time": "2023-03-22T15:33:35.053Z"
   },
   {
    "duration": 575,
    "start_time": "2023-03-22T15:33:38.041Z"
   },
   {
    "duration": 564,
    "start_time": "2023-03-22T15:33:41.031Z"
   },
   {
    "duration": 578,
    "start_time": "2023-03-22T15:33:44.858Z"
   },
   {
    "duration": 592,
    "start_time": "2023-03-22T15:33:50.904Z"
   },
   {
    "duration": 585,
    "start_time": "2023-03-22T15:33:57.295Z"
   },
   {
    "duration": 597,
    "start_time": "2023-03-22T15:34:02.236Z"
   },
   {
    "duration": 526,
    "start_time": "2023-03-22T15:34:05.880Z"
   },
   {
    "duration": 289,
    "start_time": "2023-03-22T15:34:10.439Z"
   },
   {
    "duration": 345,
    "start_time": "2023-03-22T15:34:13.457Z"
   },
   {
    "duration": 383,
    "start_time": "2023-03-22T15:34:15.818Z"
   },
   {
    "duration": 424,
    "start_time": "2023-03-22T15:34:18.202Z"
   },
   {
    "duration": 497,
    "start_time": "2023-03-22T15:34:22.185Z"
   },
   {
    "duration": 521,
    "start_time": "2023-03-22T15:34:25.552Z"
   },
   {
    "duration": 595,
    "start_time": "2023-03-22T15:34:29.188Z"
   },
   {
    "duration": 631,
    "start_time": "2023-03-22T15:34:33.121Z"
   },
   {
    "duration": 668,
    "start_time": "2023-03-22T15:34:36.053Z"
   },
   {
    "duration": 726,
    "start_time": "2023-03-22T15:34:43.073Z"
   },
   {
    "duration": 571,
    "start_time": "2023-03-22T15:34:47.421Z"
   },
   {
    "duration": 1047,
    "start_time": "2023-03-22T15:35:05.220Z"
   },
   {
    "duration": 1003,
    "start_time": "2023-03-22T15:35:11.086Z"
   },
   {
    "duration": 588,
    "start_time": "2023-03-22T15:35:14.782Z"
   },
   {
    "duration": 573,
    "start_time": "2023-03-22T15:35:37.690Z"
   },
   {
    "duration": 531,
    "start_time": "2023-03-22T15:35:57.851Z"
   },
   {
    "duration": 581,
    "start_time": "2023-03-22T15:36:06.483Z"
   },
   {
    "duration": 481,
    "start_time": "2023-03-22T15:36:35.327Z"
   },
   {
    "duration": 498,
    "start_time": "2023-03-22T15:36:40.852Z"
   },
   {
    "duration": 530,
    "start_time": "2023-03-22T15:36:45.422Z"
   },
   {
    "duration": 614,
    "start_time": "2023-03-22T15:36:50.723Z"
   },
   {
    "duration": 576,
    "start_time": "2023-03-22T15:36:56.231Z"
   },
   {
    "duration": 592,
    "start_time": "2023-03-22T15:36:59.597Z"
   },
   {
    "duration": 597,
    "start_time": "2023-03-22T15:37:02.715Z"
   },
   {
    "duration": 602,
    "start_time": "2023-03-22T15:37:05.993Z"
   },
   {
    "duration": 528,
    "start_time": "2023-03-22T15:37:10.072Z"
   },
   {
    "duration": 501,
    "start_time": "2023-03-22T15:37:12.949Z"
   },
   {
    "duration": 520,
    "start_time": "2023-03-22T15:37:21.360Z"
   },
   {
    "duration": 378,
    "start_time": "2023-03-22T15:37:37.255Z"
   },
   {
    "duration": 246,
    "start_time": "2023-03-22T15:37:41.325Z"
   },
   {
    "duration": 290,
    "start_time": "2023-03-22T15:37:51.234Z"
   },
   {
    "duration": 341,
    "start_time": "2023-03-22T15:37:54.644Z"
   },
   {
    "duration": 380,
    "start_time": "2023-03-22T15:37:58.597Z"
   },
   {
    "duration": 451,
    "start_time": "2023-03-22T15:38:01.199Z"
   },
   {
    "duration": 45,
    "start_time": "2023-03-22T15:38:04.180Z"
   },
   {
    "duration": 482,
    "start_time": "2023-03-22T15:38:09.808Z"
   },
   {
    "duration": 527,
    "start_time": "2023-03-22T15:38:35.222Z"
   },
   {
    "duration": 554,
    "start_time": "2023-03-22T15:39:35.503Z"
   },
   {
    "duration": 296,
    "start_time": "2023-03-22T15:39:41.514Z"
   },
   {
    "duration": 335,
    "start_time": "2023-03-22T15:39:44.317Z"
   },
   {
    "duration": 515,
    "start_time": "2023-03-22T15:40:34.580Z"
   },
   {
    "duration": 613,
    "start_time": "2023-03-22T15:40:39.919Z"
   },
   {
    "duration": 595,
    "start_time": "2023-03-22T15:40:54.638Z"
   },
   {
    "duration": 741,
    "start_time": "2023-03-22T15:41:00.248Z"
   },
   {
    "duration": 706,
    "start_time": "2023-03-22T15:41:12.235Z"
   },
   {
    "duration": 688,
    "start_time": "2023-03-22T15:41:17.824Z"
   },
   {
    "duration": 649,
    "start_time": "2023-03-22T15:41:21.519Z"
   },
   {
    "duration": 733,
    "start_time": "2023-03-22T15:41:25.508Z"
   },
   {
    "duration": 671,
    "start_time": "2023-03-22T15:41:28.750Z"
   },
   {
    "duration": 2675,
    "start_time": "2023-03-22T15:42:25.443Z"
   },
   {
    "duration": 2754,
    "start_time": "2023-03-22T15:43:03.055Z"
   },
   {
    "duration": 2840,
    "start_time": "2023-03-22T15:43:36.766Z"
   },
   {
    "duration": 2863,
    "start_time": "2023-03-22T15:44:18.105Z"
   },
   {
    "duration": 2858,
    "start_time": "2023-03-22T15:44:40.065Z"
   },
   {
    "duration": 614,
    "start_time": "2023-03-22T15:45:37.641Z"
   },
   {
    "duration": 3000,
    "start_time": "2023-03-22T15:45:59.791Z"
   },
   {
    "duration": 2803,
    "start_time": "2023-03-22T15:46:35.814Z"
   },
   {
    "duration": 1018,
    "start_time": "2023-03-22T15:47:15.650Z"
   },
   {
    "duration": 1190,
    "start_time": "2023-03-22T15:47:23.622Z"
   },
   {
    "duration": 5,
    "start_time": "2023-03-22T15:48:15.852Z"
   },
   {
    "duration": 1082,
    "start_time": "2023-03-22T15:48:26.282Z"
   },
   {
    "duration": 984,
    "start_time": "2023-03-22T15:48:41.519Z"
   },
   {
    "duration": 11,
    "start_time": "2023-03-22T15:48:53.421Z"
   },
   {
    "duration": 6,
    "start_time": "2023-03-22T15:48:55.314Z"
   },
   {
    "duration": 1275,
    "start_time": "2023-03-22T15:49:08.218Z"
   },
   {
    "duration": 11,
    "start_time": "2023-03-22T15:50:08.368Z"
   },
   {
    "duration": 5,
    "start_time": "2023-03-22T15:50:10.715Z"
   },
   {
    "duration": 703,
    "start_time": "2023-03-22T15:50:13.264Z"
   },
   {
    "duration": 631,
    "start_time": "2023-03-22T15:50:20.470Z"
   },
   {
    "duration": 1007,
    "start_time": "2023-03-22T15:50:58.012Z"
   },
   {
    "duration": 5,
    "start_time": "2023-03-22T15:52:59.780Z"
   },
   {
    "duration": 1041,
    "start_time": "2023-03-22T15:53:05.736Z"
   },
   {
    "duration": 1298,
    "start_time": "2023-03-22T15:53:24.433Z"
   },
   {
    "duration": 638,
    "start_time": "2023-03-22T15:53:31.074Z"
   },
   {
    "duration": 1007,
    "start_time": "2023-03-22T15:53:37.447Z"
   },
   {
    "duration": 4155,
    "start_time": "2023-03-22T15:53:46.746Z"
   },
   {
    "duration": 4443,
    "start_time": "2023-03-22T15:53:57.465Z"
   },
   {
    "duration": 2837,
    "start_time": "2023-03-22T15:55:03.072Z"
   },
   {
    "duration": 2795,
    "start_time": "2023-03-22T15:55:34.748Z"
   },
   {
    "duration": 2829,
    "start_time": "2023-03-22T15:55:42.440Z"
   },
   {
    "duration": 2729,
    "start_time": "2023-03-22T15:56:54.214Z"
   },
   {
    "duration": 2739,
    "start_time": "2023-03-22T15:57:04.981Z"
   },
   {
    "duration": 2868,
    "start_time": "2023-03-22T15:57:34.500Z"
   },
   {
    "duration": 117823,
    "start_time": "2023-03-22T16:00:27.742Z"
   },
   {
    "duration": 0,
    "start_time": "2023-03-22T16:02:25.567Z"
   },
   {
    "duration": 1061,
    "start_time": "2023-03-22T16:02:27.417Z"
   },
   {
    "duration": 5,
    "start_time": "2023-03-22T16:03:01.427Z"
   },
   {
    "duration": 4553,
    "start_time": "2023-03-22T16:03:07.216Z"
   },
   {
    "duration": 4858,
    "start_time": "2023-03-22T16:03:15.531Z"
   },
   {
    "duration": 10,
    "start_time": "2023-03-22T16:04:45.788Z"
   },
   {
    "duration": 13,
    "start_time": "2023-03-22T16:04:50.548Z"
   },
   {
    "duration": 12,
    "start_time": "2023-03-22T16:05:29.019Z"
   },
   {
    "duration": 12,
    "start_time": "2023-03-22T16:05:36.120Z"
   },
   {
    "duration": 10,
    "start_time": "2023-03-22T16:05:39.296Z"
   },
   {
    "duration": 11,
    "start_time": "2023-03-22T16:06:01.244Z"
   },
   {
    "duration": 73,
    "start_time": "2023-03-22T16:08:46.545Z"
   },
   {
    "duration": 12,
    "start_time": "2023-03-22T16:10:29.586Z"
   },
   {
    "duration": 12,
    "start_time": "2023-03-22T16:10:57.362Z"
   },
   {
    "duration": 12,
    "start_time": "2023-03-22T16:11:02.161Z"
   },
   {
    "duration": 12,
    "start_time": "2023-03-22T16:11:10.067Z"
   },
   {
    "duration": 11,
    "start_time": "2023-03-22T16:11:19.034Z"
   },
   {
    "duration": 12,
    "start_time": "2023-03-22T16:11:24.014Z"
   },
   {
    "duration": 16,
    "start_time": "2023-03-22T16:11:32.738Z"
   },
   {
    "duration": 11,
    "start_time": "2023-03-22T16:11:38.365Z"
   },
   {
    "duration": 11,
    "start_time": "2023-03-22T16:11:48.487Z"
   },
   {
    "duration": 12,
    "start_time": "2023-03-22T16:12:07.532Z"
   },
   {
    "duration": 11,
    "start_time": "2023-03-22T16:12:10.851Z"
   },
   {
    "duration": 12,
    "start_time": "2023-03-22T16:12:19.412Z"
   },
   {
    "duration": 11,
    "start_time": "2023-03-22T16:12:32.491Z"
   },
   {
    "duration": 11,
    "start_time": "2023-03-22T16:12:42.916Z"
   },
   {
    "duration": 16,
    "start_time": "2023-03-22T16:14:40.489Z"
   },
   {
    "duration": 131111,
    "start_time": "2023-03-22T16:15:17.396Z"
   },
   {
    "duration": 258477,
    "start_time": "2023-03-22T16:22:46.684Z"
   },
   {
    "duration": 1942,
    "start_time": "2023-03-22T16:56:57.692Z"
   },
   {
    "duration": 2819,
    "start_time": "2023-03-22T16:57:42.549Z"
   },
   {
    "duration": 2922,
    "start_time": "2023-03-22T16:58:00.440Z"
   },
   {
    "duration": 31,
    "start_time": "2023-03-22T17:05:17.652Z"
   },
   {
    "duration": 49,
    "start_time": "2023-03-22T17:07:09.455Z"
   },
   {
    "duration": 46,
    "start_time": "2023-03-22T17:07:22.659Z"
   },
   {
    "duration": 710,
    "start_time": "2023-03-22T17:07:29.060Z"
   },
   {
    "duration": 14,
    "start_time": "2023-03-22T17:08:17.290Z"
   },
   {
    "duration": 12,
    "start_time": "2023-03-22T17:08:31.845Z"
   },
   {
    "duration": 29,
    "start_time": "2023-03-22T17:08:49.873Z"
   },
   {
    "duration": 47,
    "start_time": "2023-03-22T17:09:05.668Z"
   },
   {
    "duration": 834,
    "start_time": "2023-03-22T17:09:10.368Z"
   },
   {
    "duration": 13,
    "start_time": "2023-03-22T17:09:42.982Z"
   },
   {
    "duration": 37,
    "start_time": "2023-03-22T17:09:45.721Z"
   },
   {
    "duration": 38,
    "start_time": "2023-03-22T17:10:00.460Z"
   },
   {
    "duration": 6,
    "start_time": "2023-03-22T17:12:08.685Z"
   },
   {
    "duration": 14,
    "start_time": "2023-03-22T17:14:29.149Z"
   },
   {
    "duration": 28,
    "start_time": "2023-03-22T17:14:38.789Z"
   },
   {
    "duration": 29,
    "start_time": "2023-03-22T17:14:53.841Z"
   },
   {
    "duration": 29,
    "start_time": "2023-03-22T17:15:33.792Z"
   },
   {
    "duration": 32,
    "start_time": "2023-03-22T17:15:50.781Z"
   },
   {
    "duration": 30,
    "start_time": "2023-03-22T17:15:59.558Z"
   },
   {
    "duration": 5,
    "start_time": "2023-03-22T17:17:31.061Z"
   },
   {
    "duration": 30,
    "start_time": "2023-03-22T17:17:34.267Z"
   },
   {
    "duration": 708,
    "start_time": "2023-03-22T17:20:32.047Z"
   },
   {
    "duration": 480,
    "start_time": "2023-03-22T17:20:53.036Z"
   },
   {
    "duration": 721,
    "start_time": "2023-03-22T17:21:58.257Z"
   },
   {
    "duration": 5,
    "start_time": "2023-03-22T17:23:01.297Z"
   },
   {
    "duration": 15,
    "start_time": "2023-03-22T17:25:05.830Z"
   },
   {
    "duration": 11,
    "start_time": "2023-03-22T17:29:48.139Z"
   },
   {
    "duration": 13,
    "start_time": "2023-03-22T17:29:59.458Z"
   },
   {
    "duration": 400,
    "start_time": "2023-03-22T17:30:08.030Z"
   },
   {
    "duration": 61278,
    "start_time": "2023-03-22T17:30:26.677Z"
   },
   {
    "duration": 618,
    "start_time": "2023-03-22T17:31:54.043Z"
   },
   {
    "duration": 2453,
    "start_time": "2023-03-22T17:34:13.736Z"
   },
   {
    "duration": 2657,
    "start_time": "2023-03-22T17:35:15.760Z"
   },
   {
    "duration": 3049,
    "start_time": "2023-03-22T17:35:54.829Z"
   },
   {
    "duration": 2501,
    "start_time": "2023-03-22T17:37:09.236Z"
   },
   {
    "duration": 2503,
    "start_time": "2023-03-22T17:38:31.872Z"
   },
   {
    "duration": 2630,
    "start_time": "2023-03-22T17:39:08.218Z"
   },
   {
    "duration": 2422,
    "start_time": "2023-03-22T17:41:12.246Z"
   },
   {
    "duration": 31672,
    "start_time": "2023-03-22T17:42:19.658Z"
   },
   {
    "duration": 2876,
    "start_time": "2023-03-22T17:43:20.078Z"
   },
   {
    "duration": 2741,
    "start_time": "2023-03-22T17:43:34.588Z"
   },
   {
    "duration": 62448,
    "start_time": "2023-03-22T17:46:11.327Z"
   },
   {
    "duration": 2448,
    "start_time": "2023-03-22T17:47:36.984Z"
   },
   {
    "duration": 2518,
    "start_time": "2023-03-22T17:47:48.865Z"
   },
   {
    "duration": 2618,
    "start_time": "2023-03-22T17:53:10.095Z"
   },
   {
    "duration": 2506,
    "start_time": "2023-03-22T17:53:19.568Z"
   },
   {
    "duration": 47,
    "start_time": "2023-03-23T06:56:56.563Z"
   },
   {
    "duration": 1694,
    "start_time": "2023-03-23T06:57:02.423Z"
   },
   {
    "duration": 3,
    "start_time": "2023-03-23T06:57:04.120Z"
   },
   {
    "duration": 123,
    "start_time": "2023-03-23T06:57:04.125Z"
   },
   {
    "duration": 17,
    "start_time": "2023-03-23T06:57:04.250Z"
   },
   {
    "duration": 13,
    "start_time": "2023-03-23T06:57:04.271Z"
   },
   {
    "duration": 14,
    "start_time": "2023-03-23T06:57:04.285Z"
   },
   {
    "duration": 12,
    "start_time": "2023-03-23T06:57:04.301Z"
   },
   {
    "duration": 59,
    "start_time": "2023-03-23T06:57:04.315Z"
   },
   {
    "duration": 2028,
    "start_time": "2023-03-23T06:57:04.376Z"
   },
   {
    "duration": 7,
    "start_time": "2023-03-23T06:57:06.406Z"
   },
   {
    "duration": 28,
    "start_time": "2023-03-23T06:57:06.415Z"
   },
   {
    "duration": 9,
    "start_time": "2023-03-23T06:57:06.445Z"
   },
   {
    "duration": 5,
    "start_time": "2023-03-23T06:57:06.455Z"
   },
   {
    "duration": 15,
    "start_time": "2023-03-23T06:57:06.463Z"
   },
   {
    "duration": 26,
    "start_time": "2023-03-23T06:57:06.480Z"
   },
   {
    "duration": 12,
    "start_time": "2023-03-23T06:57:06.508Z"
   },
   {
    "duration": 12,
    "start_time": "2023-03-23T06:57:06.522Z"
   },
   {
    "duration": 5,
    "start_time": "2023-03-23T06:57:06.536Z"
   },
   {
    "duration": 8,
    "start_time": "2023-03-23T06:57:06.542Z"
   },
   {
    "duration": 22,
    "start_time": "2023-03-23T06:57:06.552Z"
   },
   {
    "duration": 6,
    "start_time": "2023-03-23T06:57:06.576Z"
   },
   {
    "duration": 16,
    "start_time": "2023-03-23T06:57:06.584Z"
   },
   {
    "duration": 9,
    "start_time": "2023-03-23T06:57:06.602Z"
   },
   {
    "duration": 9,
    "start_time": "2023-03-23T06:57:06.614Z"
   },
   {
    "duration": 11,
    "start_time": "2023-03-23T06:57:06.625Z"
   },
   {
    "duration": 23,
    "start_time": "2023-03-23T06:57:06.637Z"
   },
   {
    "duration": 9,
    "start_time": "2023-03-23T06:57:06.662Z"
   },
   {
    "duration": 1551,
    "start_time": "2023-03-23T06:57:06.672Z"
   },
   {
    "duration": 10,
    "start_time": "2023-03-23T06:57:08.225Z"
   },
   {
    "duration": 7,
    "start_time": "2023-03-23T06:57:08.237Z"
   },
   {
    "duration": 1666,
    "start_time": "2023-03-23T06:57:08.261Z"
   },
   {
    "duration": 14,
    "start_time": "2023-03-23T06:57:09.929Z"
   },
   {
    "duration": 20,
    "start_time": "2023-03-23T06:57:09.946Z"
   },
   {
    "duration": 1140,
    "start_time": "2023-03-23T06:57:09.969Z"
   },
   {
    "duration": 1312,
    "start_time": "2023-03-23T06:57:11.111Z"
   },
   {
    "duration": 3523,
    "start_time": "2023-03-23T06:57:12.424Z"
   },
   {
    "duration": 11,
    "start_time": "2023-03-23T06:57:15.949Z"
   },
   {
    "duration": 100,
    "start_time": "2023-03-23T06:57:15.961Z"
   },
   {
    "duration": 9,
    "start_time": "2023-03-23T06:57:16.063Z"
   },
   {
    "duration": 67137,
    "start_time": "2023-03-23T06:57:16.074Z"
   },
   {
    "duration": 143,
    "start_time": "2023-03-23T06:58:23.217Z"
   },
   {
    "duration": 0,
    "start_time": "2023-03-23T06:58:23.362Z"
   },
   {
    "duration": 0,
    "start_time": "2023-03-23T06:58:23.363Z"
   },
   {
    "duration": 0,
    "start_time": "2023-03-23T06:58:23.369Z"
   },
   {
    "duration": 0,
    "start_time": "2023-03-23T06:58:23.370Z"
   },
   {
    "duration": 0,
    "start_time": "2023-03-23T06:58:23.371Z"
   },
   {
    "duration": 0,
    "start_time": "2023-03-23T06:58:23.371Z"
   },
   {
    "duration": 0,
    "start_time": "2023-03-23T06:58:23.373Z"
   },
   {
    "duration": 0,
    "start_time": "2023-03-23T06:58:23.375Z"
   },
   {
    "duration": 0,
    "start_time": "2023-03-23T06:58:23.376Z"
   },
   {
    "duration": 0,
    "start_time": "2023-03-23T06:58:23.377Z"
   },
   {
    "duration": 0,
    "start_time": "2023-03-23T06:58:23.378Z"
   },
   {
    "duration": 0,
    "start_time": "2023-03-23T06:58:23.379Z"
   },
   {
    "duration": 0,
    "start_time": "2023-03-23T06:58:23.380Z"
   },
   {
    "duration": 0,
    "start_time": "2023-03-23T06:58:23.381Z"
   },
   {
    "duration": 0,
    "start_time": "2023-03-23T06:58:23.382Z"
   },
   {
    "duration": 0,
    "start_time": "2023-03-23T06:58:23.383Z"
   },
   {
    "duration": 0,
    "start_time": "2023-03-23T06:58:23.384Z"
   },
   {
    "duration": 0,
    "start_time": "2023-03-23T06:58:23.384Z"
   },
   {
    "duration": 0,
    "start_time": "2023-03-23T06:58:23.385Z"
   },
   {
    "duration": 0,
    "start_time": "2023-03-23T06:58:23.386Z"
   },
   {
    "duration": 0,
    "start_time": "2023-03-23T06:58:23.387Z"
   },
   {
    "duration": 0,
    "start_time": "2023-03-23T06:58:23.388Z"
   },
   {
    "duration": 0,
    "start_time": "2023-03-23T06:58:23.388Z"
   },
   {
    "duration": 0,
    "start_time": "2023-03-23T06:58:23.389Z"
   },
   {
    "duration": 0,
    "start_time": "2023-03-23T06:58:23.390Z"
   },
   {
    "duration": 0,
    "start_time": "2023-03-23T06:58:23.390Z"
   },
   {
    "duration": 0,
    "start_time": "2023-03-23T06:58:23.391Z"
   },
   {
    "duration": 0,
    "start_time": "2023-03-23T06:58:23.391Z"
   },
   {
    "duration": 0,
    "start_time": "2023-03-23T06:58:23.392Z"
   },
   {
    "duration": 131915,
    "start_time": "2023-03-23T07:00:14.874Z"
   },
   {
    "duration": 5,
    "start_time": "2023-03-23T07:07:30.804Z"
   },
   {
    "duration": 4,
    "start_time": "2023-03-23T07:07:52.904Z"
   },
   {
    "duration": 2683,
    "start_time": "2023-03-23T07:08:17.124Z"
   },
   {
    "duration": 2253,
    "start_time": "2023-03-23T07:08:29.605Z"
   },
   {
    "duration": 2641,
    "start_time": "2023-03-23T07:08:43.312Z"
   },
   {
    "duration": 1801,
    "start_time": "2023-03-23T07:09:22.424Z"
   },
   {
    "duration": 2104,
    "start_time": "2023-03-23T07:10:03.004Z"
   },
   {
    "duration": 4,
    "start_time": "2023-03-23T07:16:14.473Z"
   },
   {
    "duration": 1234,
    "start_time": "2023-03-23T07:16:18.353Z"
   },
   {
    "duration": 1262,
    "start_time": "2023-03-23T07:16:51.633Z"
   },
   {
    "duration": 1237,
    "start_time": "2023-03-23T07:24:53.511Z"
   },
   {
    "duration": 6,
    "start_time": "2023-03-23T07:25:49.330Z"
   },
   {
    "duration": 1416,
    "start_time": "2023-03-23T07:25:58.277Z"
   },
   {
    "duration": 5,
    "start_time": "2023-03-23T07:26:28.276Z"
   },
   {
    "duration": 960,
    "start_time": "2023-03-23T07:26:37.030Z"
   },
   {
    "duration": 1143,
    "start_time": "2023-03-23T07:28:13.837Z"
   },
   {
    "duration": 904,
    "start_time": "2023-03-23T07:28:20.766Z"
   },
   {
    "duration": 1313,
    "start_time": "2023-03-23T07:28:37.421Z"
   },
   {
    "duration": 1514,
    "start_time": "2023-03-23T07:31:07.677Z"
   },
   {
    "duration": 724,
    "start_time": "2023-03-23T07:34:44.677Z"
   },
   {
    "duration": 874,
    "start_time": "2023-03-23T07:35:10.822Z"
   },
   {
    "duration": 703,
    "start_time": "2023-03-23T07:35:19.057Z"
   },
   {
    "duration": 915,
    "start_time": "2023-03-23T07:40:01.271Z"
   },
   {
    "duration": 5480,
    "start_time": "2023-03-23T07:44:38.970Z"
   },
   {
    "duration": 13,
    "start_time": "2023-03-23T07:54:24.097Z"
   },
   {
    "duration": 38,
    "start_time": "2023-03-23T07:54:32.951Z"
   },
   {
    "duration": 36,
    "start_time": "2023-03-23T07:55:44.222Z"
   },
   {
    "duration": 30,
    "start_time": "2023-03-23T07:56:06.475Z"
   },
   {
    "duration": 7,
    "start_time": "2023-03-23T07:56:26.114Z"
   },
   {
    "duration": 22,
    "start_time": "2023-03-23T07:56:29.274Z"
   },
   {
    "duration": 26,
    "start_time": "2023-03-23T07:56:38.874Z"
   },
   {
    "duration": 31,
    "start_time": "2023-03-23T07:56:53.472Z"
   },
   {
    "duration": 4,
    "start_time": "2023-03-23T07:57:24.285Z"
   },
   {
    "duration": 25,
    "start_time": "2023-03-23T07:57:26.089Z"
   },
   {
    "duration": 2498,
    "start_time": "2023-03-23T09:41:52.237Z"
   },
   {
    "duration": 2304,
    "start_time": "2023-03-23T09:48:36.185Z"
   },
   {
    "duration": 2216,
    "start_time": "2023-03-23T09:55:26.127Z"
   },
   {
    "duration": 2296,
    "start_time": "2023-03-23T09:55:39.428Z"
   },
   {
    "duration": 193,
    "start_time": "2023-03-23T10:08:58.731Z"
   },
   {
    "duration": 21,
    "start_time": "2023-03-23T10:09:40.886Z"
   },
   {
    "duration": 13,
    "start_time": "2023-03-23T10:13:42.519Z"
   },
   {
    "duration": 81109,
    "start_time": "2023-03-23T10:13:52.895Z"
   },
   {
    "duration": 2534,
    "start_time": "2023-03-23T11:04:21.104Z"
   },
   {
    "duration": 9,
    "start_time": "2023-03-23T11:09:22.113Z"
   },
   {
    "duration": 38,
    "start_time": "2023-03-23T11:21:00.520Z"
   },
   {
    "duration": 50,
    "start_time": "2023-03-23T11:21:31.204Z"
   },
   {
    "duration": 11,
    "start_time": "2023-03-23T11:29:07.087Z"
   },
   {
    "duration": 2,
    "start_time": "2023-03-23T11:29:29.133Z"
   },
   {
    "duration": 39,
    "start_time": "2023-03-23T11:31:19.783Z"
   },
   {
    "duration": 76,
    "start_time": "2023-03-23T11:31:29.515Z"
   },
   {
    "duration": 4,
    "start_time": "2023-03-23T11:32:01.213Z"
   },
   {
    "duration": 87,
    "start_time": "2023-03-23T11:32:05.852Z"
   },
   {
    "duration": 291,
    "start_time": "2023-03-23T11:32:17.427Z"
   },
   {
    "duration": 184,
    "start_time": "2023-03-23T11:33:51.332Z"
   },
   {
    "duration": 86,
    "start_time": "2023-03-23T11:34:09.533Z"
   },
   {
    "duration": 276,
    "start_time": "2023-03-23T11:34:35.353Z"
   },
   {
    "duration": 213,
    "start_time": "2023-03-23T11:37:53.993Z"
   },
   {
    "duration": 186,
    "start_time": "2023-03-23T11:41:27.812Z"
   },
   {
    "duration": 251,
    "start_time": "2023-03-23T11:42:04.454Z"
   },
   {
    "duration": 232,
    "start_time": "2023-03-23T11:42:32.213Z"
   },
   {
    "duration": 255,
    "start_time": "2023-03-23T11:42:35.335Z"
   },
   {
    "duration": 367,
    "start_time": "2023-03-23T11:42:41.301Z"
   },
   {
    "duration": 192,
    "start_time": "2023-03-23T11:42:49.932Z"
   },
   {
    "duration": 159,
    "start_time": "2023-03-23T11:53:00.453Z"
   },
   {
    "duration": 229,
    "start_time": "2023-03-23T11:53:05.254Z"
   },
   {
    "duration": 274,
    "start_time": "2023-03-23T11:54:42.215Z"
   },
   {
    "duration": 311,
    "start_time": "2023-03-23T11:54:59.234Z"
   },
   {
    "duration": 275,
    "start_time": "2023-03-23T11:55:23.355Z"
   },
   {
    "duration": 309,
    "start_time": "2023-03-23T11:55:35.989Z"
   },
   {
    "duration": 288,
    "start_time": "2023-03-23T11:56:36.934Z"
   },
   {
    "duration": 419,
    "start_time": "2023-03-23T11:56:45.599Z"
   },
   {
    "duration": 260,
    "start_time": "2023-03-23T11:56:51.295Z"
   },
   {
    "duration": 237,
    "start_time": "2023-03-23T11:57:03.196Z"
   },
   {
    "duration": 258,
    "start_time": "2023-03-23T11:58:27.195Z"
   },
   {
    "duration": 420,
    "start_time": "2023-03-23T11:58:43.035Z"
   },
   {
    "duration": 315,
    "start_time": "2023-03-23T12:00:41.137Z"
   },
   {
    "duration": 329,
    "start_time": "2023-03-23T12:01:17.657Z"
   },
   {
    "duration": 5,
    "start_time": "2023-03-23T12:06:10.717Z"
   },
   {
    "duration": 14,
    "start_time": "2023-03-23T12:07:04.987Z"
   },
   {
    "duration": 5,
    "start_time": "2023-03-23T12:07:36.080Z"
   },
   {
    "duration": 354,
    "start_time": "2023-03-23T12:08:51.586Z"
   },
   {
    "duration": 5,
    "start_time": "2023-03-23T12:10:41.087Z"
   },
   {
    "duration": 280,
    "start_time": "2023-03-23T12:19:20.727Z"
   },
   {
    "duration": 289,
    "start_time": "2023-03-23T12:19:30.215Z"
   },
   {
    "duration": 326,
    "start_time": "2023-03-23T12:19:38.687Z"
   },
   {
    "duration": 1909,
    "start_time": "2023-03-23T17:05:25.370Z"
   },
   {
    "duration": 5,
    "start_time": "2023-03-23T17:06:48.907Z"
   },
   {
    "duration": 160,
    "start_time": "2023-03-23T17:13:58.787Z"
   },
   {
    "duration": 51,
    "start_time": "2023-03-24T07:12:42.560Z"
   },
   {
    "duration": 1443,
    "start_time": "2023-03-24T07:12:47.565Z"
   },
   {
    "duration": 163,
    "start_time": "2023-03-24T07:12:49.010Z"
   },
   {
    "duration": 10,
    "start_time": "2023-03-24T07:12:49.174Z"
   },
   {
    "duration": 10,
    "start_time": "2023-03-24T07:12:49.186Z"
   },
   {
    "duration": 4,
    "start_time": "2023-03-24T07:12:49.198Z"
   },
   {
    "duration": 5,
    "start_time": "2023-03-24T07:12:49.203Z"
   },
   {
    "duration": 59,
    "start_time": "2023-03-24T07:12:49.210Z"
   },
   {
    "duration": 1845,
    "start_time": "2023-03-24T07:12:49.271Z"
   },
   {
    "duration": 4,
    "start_time": "2023-03-24T07:12:51.169Z"
   },
   {
    "duration": 7,
    "start_time": "2023-03-24T07:12:51.175Z"
   },
   {
    "duration": 4,
    "start_time": "2023-03-24T07:12:51.183Z"
   },
   {
    "duration": 4,
    "start_time": "2023-03-24T07:12:51.188Z"
   },
   {
    "duration": 10,
    "start_time": "2023-03-24T07:12:51.193Z"
   },
   {
    "duration": 9,
    "start_time": "2023-03-24T07:12:51.204Z"
   },
   {
    "duration": 10,
    "start_time": "2023-03-24T07:12:51.268Z"
   },
   {
    "duration": 10,
    "start_time": "2023-03-24T07:12:51.279Z"
   },
   {
    "duration": 11,
    "start_time": "2023-03-24T07:12:51.290Z"
   },
   {
    "duration": 7,
    "start_time": "2023-03-24T07:12:51.302Z"
   },
   {
    "duration": 61,
    "start_time": "2023-03-24T07:12:51.311Z"
   },
   {
    "duration": 5,
    "start_time": "2023-03-24T07:12:51.373Z"
   },
   {
    "duration": 7,
    "start_time": "2023-03-24T07:12:51.379Z"
   },
   {
    "duration": 10,
    "start_time": "2023-03-24T07:12:51.387Z"
   },
   {
    "duration": 15,
    "start_time": "2023-03-24T07:12:51.399Z"
   },
   {
    "duration": 6,
    "start_time": "2023-03-24T07:12:51.416Z"
   },
   {
    "duration": 45,
    "start_time": "2023-03-24T07:12:51.424Z"
   },
   {
    "duration": 5,
    "start_time": "2023-03-24T07:12:51.470Z"
   },
   {
    "duration": 1635,
    "start_time": "2023-03-24T07:12:51.476Z"
   },
   {
    "duration": 10,
    "start_time": "2023-03-24T07:12:53.114Z"
   },
   {
    "duration": 6,
    "start_time": "2023-03-24T07:12:53.126Z"
   },
   {
    "duration": 1198,
    "start_time": "2023-03-24T07:12:53.133Z"
   },
   {
    "duration": 10,
    "start_time": "2023-03-24T07:12:54.332Z"
   },
   {
    "duration": 4,
    "start_time": "2023-03-24T07:12:54.343Z"
   },
   {
    "duration": 621,
    "start_time": "2023-03-24T07:12:54.348Z"
   },
   {
    "duration": 872,
    "start_time": "2023-03-24T07:12:54.971Z"
   },
   {
    "duration": 3864,
    "start_time": "2023-03-24T07:12:55.844Z"
   },
   {
    "duration": 3,
    "start_time": "2023-03-24T07:12:59.710Z"
   },
   {
    "duration": 31,
    "start_time": "2023-03-24T07:12:59.714Z"
   },
   {
    "duration": 2175,
    "start_time": "2023-03-24T07:12:59.747Z"
   },
   {
    "duration": 4,
    "start_time": "2023-03-24T07:13:01.923Z"
   },
   {
    "duration": 34,
    "start_time": "2023-03-24T07:13:01.928Z"
   },
   {
    "duration": 54905,
    "start_time": "2023-03-24T07:13:01.964Z"
   },
   {
    "duration": 2059,
    "start_time": "2023-03-24T07:13:56.871Z"
   },
   {
    "duration": 49,
    "start_time": "2023-03-24T07:13:58.931Z"
   },
   {
    "duration": 317,
    "start_time": "2023-03-24T07:13:58.982Z"
   },
   {
    "duration": 152,
    "start_time": "2023-03-24T07:13:59.300Z"
   },
   {
    "duration": 0,
    "start_time": "2023-03-24T07:13:59.454Z"
   },
   {
    "duration": 0,
    "start_time": "2023-03-24T07:13:59.455Z"
   },
   {
    "duration": 0,
    "start_time": "2023-03-24T07:13:59.456Z"
   },
   {
    "duration": 0,
    "start_time": "2023-03-24T07:13:59.457Z"
   },
   {
    "duration": 0,
    "start_time": "2023-03-24T07:13:59.469Z"
   },
   {
    "duration": 0,
    "start_time": "2023-03-24T07:13:59.470Z"
   },
   {
    "duration": 0,
    "start_time": "2023-03-24T07:13:59.471Z"
   },
   {
    "duration": 0,
    "start_time": "2023-03-24T07:13:59.472Z"
   },
   {
    "duration": 0,
    "start_time": "2023-03-24T07:13:59.473Z"
   },
   {
    "duration": 0,
    "start_time": "2023-03-24T07:13:59.474Z"
   },
   {
    "duration": 0,
    "start_time": "2023-03-24T07:13:59.475Z"
   },
   {
    "duration": 0,
    "start_time": "2023-03-24T07:13:59.476Z"
   },
   {
    "duration": 0,
    "start_time": "2023-03-24T07:13:59.477Z"
   },
   {
    "duration": 0,
    "start_time": "2023-03-24T07:13:59.478Z"
   },
   {
    "duration": 0,
    "start_time": "2023-03-24T07:13:59.480Z"
   },
   {
    "duration": 0,
    "start_time": "2023-03-24T07:13:59.481Z"
   },
   {
    "duration": 0,
    "start_time": "2023-03-24T07:13:59.482Z"
   },
   {
    "duration": 0,
    "start_time": "2023-03-24T07:13:59.483Z"
   },
   {
    "duration": 0,
    "start_time": "2023-03-24T07:13:59.484Z"
   },
   {
    "duration": 0,
    "start_time": "2023-03-24T07:13:59.484Z"
   },
   {
    "duration": 0,
    "start_time": "2023-03-24T07:13:59.485Z"
   },
   {
    "duration": 0,
    "start_time": "2023-03-24T07:13:59.486Z"
   },
   {
    "duration": 0,
    "start_time": "2023-03-24T07:13:59.487Z"
   },
   {
    "duration": 0,
    "start_time": "2023-03-24T07:13:59.488Z"
   },
   {
    "duration": 0,
    "start_time": "2023-03-24T07:13:59.489Z"
   },
   {
    "duration": 0,
    "start_time": "2023-03-24T07:13:59.490Z"
   },
   {
    "duration": 0,
    "start_time": "2023-03-24T07:13:59.491Z"
   },
   {
    "duration": 0,
    "start_time": "2023-03-24T07:13:59.492Z"
   },
   {
    "duration": 786,
    "start_time": "2023-03-24T07:14:06.560Z"
   },
   {
    "duration": 897,
    "start_time": "2023-03-24T07:15:24.217Z"
   },
   {
    "duration": 1279,
    "start_time": "2023-03-24T07:16:04.232Z"
   },
   {
    "duration": 51,
    "start_time": "2023-03-24T07:16:05.513Z"
   },
   {
    "duration": 12,
    "start_time": "2023-03-24T07:16:05.566Z"
   },
   {
    "duration": 13,
    "start_time": "2023-03-24T07:16:05.580Z"
   },
   {
    "duration": 4,
    "start_time": "2023-03-24T07:16:05.595Z"
   },
   {
    "duration": 10,
    "start_time": "2023-03-24T07:16:05.600Z"
   },
   {
    "duration": 33,
    "start_time": "2023-03-24T07:16:05.611Z"
   },
   {
    "duration": 1436,
    "start_time": "2023-03-24T07:16:05.645Z"
   },
   {
    "duration": 5,
    "start_time": "2023-03-24T07:16:07.082Z"
   },
   {
    "duration": 7,
    "start_time": "2023-03-24T07:16:07.089Z"
   },
   {
    "duration": 4,
    "start_time": "2023-03-24T07:16:07.097Z"
   },
   {
    "duration": 8,
    "start_time": "2023-03-24T07:16:07.102Z"
   },
   {
    "duration": 11,
    "start_time": "2023-03-24T07:16:07.111Z"
   },
   {
    "duration": 11,
    "start_time": "2023-03-24T07:16:07.123Z"
   },
   {
    "duration": 35,
    "start_time": "2023-03-24T07:16:07.135Z"
   },
   {
    "duration": 13,
    "start_time": "2023-03-24T07:16:07.171Z"
   },
   {
    "duration": 4,
    "start_time": "2023-03-24T07:16:07.185Z"
   },
   {
    "duration": 25,
    "start_time": "2023-03-24T07:16:07.191Z"
   },
   {
    "duration": 13,
    "start_time": "2023-03-24T07:16:07.217Z"
   },
   {
    "duration": 6,
    "start_time": "2023-03-24T07:16:07.231Z"
   },
   {
    "duration": 11,
    "start_time": "2023-03-24T07:16:07.239Z"
   },
   {
    "duration": 17,
    "start_time": "2023-03-24T07:16:07.251Z"
   },
   {
    "duration": 9,
    "start_time": "2023-03-24T07:16:07.269Z"
   },
   {
    "duration": 5,
    "start_time": "2023-03-24T07:16:07.279Z"
   },
   {
    "duration": 4,
    "start_time": "2023-03-24T07:16:07.286Z"
   },
   {
    "duration": 6,
    "start_time": "2023-03-24T07:16:07.291Z"
   },
   {
    "duration": 996,
    "start_time": "2023-03-24T07:16:07.299Z"
   },
   {
    "duration": 12,
    "start_time": "2023-03-24T07:16:08.299Z"
   },
   {
    "duration": 5,
    "start_time": "2023-03-24T07:16:08.312Z"
   },
   {
    "duration": 1256,
    "start_time": "2023-03-24T07:16:08.318Z"
   },
   {
    "duration": 10,
    "start_time": "2023-03-24T07:16:09.575Z"
   },
   {
    "duration": 5,
    "start_time": "2023-03-24T07:16:09.586Z"
   },
   {
    "duration": 620,
    "start_time": "2023-03-24T07:16:09.592Z"
   },
   {
    "duration": 930,
    "start_time": "2023-03-24T07:16:10.213Z"
   },
   {
    "duration": 4071,
    "start_time": "2023-03-24T07:16:11.144Z"
   },
   {
    "duration": 3,
    "start_time": "2023-03-24T07:16:15.217Z"
   },
   {
    "duration": 40,
    "start_time": "2023-03-24T07:16:15.222Z"
   },
   {
    "duration": 2334,
    "start_time": "2023-03-24T07:16:15.264Z"
   },
   {
    "duration": 4,
    "start_time": "2023-03-24T07:16:17.600Z"
   },
   {
    "duration": 12,
    "start_time": "2023-03-24T07:16:17.605Z"
   },
   {
    "duration": 6,
    "start_time": "2023-03-24T07:16:17.619Z"
   },
   {
    "duration": 107,
    "start_time": "2023-03-24T07:16:17.627Z"
   },
   {
    "duration": 0,
    "start_time": "2023-03-24T07:16:17.736Z"
   },
   {
    "duration": 0,
    "start_time": "2023-03-24T07:16:17.737Z"
   },
   {
    "duration": 0,
    "start_time": "2023-03-24T07:16:17.738Z"
   },
   {
    "duration": 0,
    "start_time": "2023-03-24T07:16:17.740Z"
   },
   {
    "duration": 0,
    "start_time": "2023-03-24T07:16:17.741Z"
   },
   {
    "duration": 0,
    "start_time": "2023-03-24T07:16:17.742Z"
   },
   {
    "duration": 0,
    "start_time": "2023-03-24T07:16:17.743Z"
   },
   {
    "duration": 0,
    "start_time": "2023-03-24T07:16:17.744Z"
   },
   {
    "duration": 0,
    "start_time": "2023-03-24T07:16:17.745Z"
   },
   {
    "duration": 0,
    "start_time": "2023-03-24T07:16:17.746Z"
   },
   {
    "duration": 0,
    "start_time": "2023-03-24T07:16:17.769Z"
   },
   {
    "duration": 0,
    "start_time": "2023-03-24T07:16:17.770Z"
   },
   {
    "duration": 0,
    "start_time": "2023-03-24T07:16:17.771Z"
   },
   {
    "duration": 0,
    "start_time": "2023-03-24T07:16:17.772Z"
   },
   {
    "duration": 0,
    "start_time": "2023-03-24T07:16:17.773Z"
   },
   {
    "duration": 0,
    "start_time": "2023-03-24T07:16:17.775Z"
   },
   {
    "duration": 0,
    "start_time": "2023-03-24T07:16:17.776Z"
   },
   {
    "duration": 0,
    "start_time": "2023-03-24T07:16:17.777Z"
   },
   {
    "duration": 0,
    "start_time": "2023-03-24T07:16:17.778Z"
   },
   {
    "duration": 0,
    "start_time": "2023-03-24T07:16:17.779Z"
   },
   {
    "duration": 0,
    "start_time": "2023-03-24T07:16:17.780Z"
   },
   {
    "duration": 0,
    "start_time": "2023-03-24T07:16:17.781Z"
   },
   {
    "duration": 0,
    "start_time": "2023-03-24T07:16:17.782Z"
   },
   {
    "duration": 0,
    "start_time": "2023-03-24T07:16:17.783Z"
   },
   {
    "duration": 0,
    "start_time": "2023-03-24T07:16:17.784Z"
   },
   {
    "duration": 0,
    "start_time": "2023-03-24T07:16:17.785Z"
   },
   {
    "duration": 0,
    "start_time": "2023-03-24T07:16:17.785Z"
   },
   {
    "duration": 0,
    "start_time": "2023-03-24T07:16:17.786Z"
   },
   {
    "duration": 0,
    "start_time": "2023-03-24T07:16:17.787Z"
   },
   {
    "duration": 0,
    "start_time": "2023-03-24T07:16:17.788Z"
   },
   {
    "duration": 3,
    "start_time": "2023-03-24T07:40:36.448Z"
   },
   {
    "duration": 56858,
    "start_time": "2023-03-24T08:29:24.686Z"
   },
   {
    "duration": 1300,
    "start_time": "2023-03-24T08:31:22.858Z"
   },
   {
    "duration": 55,
    "start_time": "2023-03-24T08:31:24.160Z"
   },
   {
    "duration": 11,
    "start_time": "2023-03-24T08:31:24.217Z"
   },
   {
    "duration": 10,
    "start_time": "2023-03-24T08:31:24.230Z"
   },
   {
    "duration": 4,
    "start_time": "2023-03-24T08:31:24.241Z"
   },
   {
    "duration": 4,
    "start_time": "2023-03-24T08:31:24.246Z"
   },
   {
    "duration": 36,
    "start_time": "2023-03-24T08:31:24.251Z"
   },
   {
    "duration": 1477,
    "start_time": "2023-03-24T08:31:24.289Z"
   },
   {
    "duration": 5,
    "start_time": "2023-03-24T08:31:25.768Z"
   },
   {
    "duration": 10,
    "start_time": "2023-03-24T08:31:25.777Z"
   },
   {
    "duration": 5,
    "start_time": "2023-03-24T08:31:25.788Z"
   },
   {
    "duration": 3,
    "start_time": "2023-03-24T08:31:25.795Z"
   },
   {
    "duration": 18,
    "start_time": "2023-03-24T08:31:25.800Z"
   },
   {
    "duration": 25,
    "start_time": "2023-03-24T08:31:25.820Z"
   },
   {
    "duration": 24,
    "start_time": "2023-03-24T08:31:25.846Z"
   },
   {
    "duration": 16,
    "start_time": "2023-03-24T08:31:25.871Z"
   },
   {
    "duration": 5,
    "start_time": "2023-03-24T08:31:25.888Z"
   },
   {
    "duration": 7,
    "start_time": "2023-03-24T08:31:25.894Z"
   },
   {
    "duration": 10,
    "start_time": "2023-03-24T08:31:25.902Z"
   },
   {
    "duration": 4,
    "start_time": "2023-03-24T08:31:25.913Z"
   },
   {
    "duration": 11,
    "start_time": "2023-03-24T08:31:25.918Z"
   },
   {
    "duration": 11,
    "start_time": "2023-03-24T08:31:25.930Z"
   },
   {
    "duration": 6,
    "start_time": "2023-03-24T08:31:25.942Z"
   },
   {
    "duration": 21,
    "start_time": "2023-03-24T08:31:25.949Z"
   },
   {
    "duration": 9,
    "start_time": "2023-03-24T08:31:25.971Z"
   },
   {
    "duration": 5,
    "start_time": "2023-03-24T08:31:25.982Z"
   },
   {
    "duration": 1019,
    "start_time": "2023-03-24T08:31:25.988Z"
   },
   {
    "duration": 9,
    "start_time": "2023-03-24T08:31:27.011Z"
   },
   {
    "duration": 4,
    "start_time": "2023-03-24T08:31:27.022Z"
   },
   {
    "duration": 1243,
    "start_time": "2023-03-24T08:31:27.027Z"
   },
   {
    "duration": 12,
    "start_time": "2023-03-24T08:31:28.272Z"
   },
   {
    "duration": 4,
    "start_time": "2023-03-24T08:31:28.286Z"
   },
   {
    "duration": 623,
    "start_time": "2023-03-24T08:31:28.291Z"
   },
   {
    "duration": 1143,
    "start_time": "2023-03-24T08:31:28.915Z"
   },
   {
    "duration": 3394,
    "start_time": "2023-03-24T08:31:30.059Z"
   },
   {
    "duration": 4,
    "start_time": "2023-03-24T08:31:33.455Z"
   },
   {
    "duration": 35,
    "start_time": "2023-03-24T08:31:33.460Z"
   },
   {
    "duration": 2304,
    "start_time": "2023-03-24T08:31:33.496Z"
   },
   {
    "duration": 4,
    "start_time": "2023-03-24T08:31:35.802Z"
   },
   {
    "duration": 14,
    "start_time": "2023-03-24T08:31:35.808Z"
   },
   {
    "duration": 59733,
    "start_time": "2023-03-24T08:31:35.824Z"
   },
   {
    "duration": 2129,
    "start_time": "2023-03-24T08:32:35.558Z"
   },
   {
    "duration": 43,
    "start_time": "2023-03-24T08:32:37.689Z"
   },
   {
    "duration": 318,
    "start_time": "2023-03-24T08:32:37.733Z"
   },
   {
    "duration": 152,
    "start_time": "2023-03-24T08:32:38.053Z"
   },
   {
    "duration": 0,
    "start_time": "2023-03-24T08:32:38.206Z"
   },
   {
    "duration": 0,
    "start_time": "2023-03-24T08:32:38.207Z"
   },
   {
    "duration": 0,
    "start_time": "2023-03-24T08:32:38.208Z"
   },
   {
    "duration": 0,
    "start_time": "2023-03-24T08:32:38.209Z"
   },
   {
    "duration": 0,
    "start_time": "2023-03-24T08:32:38.210Z"
   },
   {
    "duration": 0,
    "start_time": "2023-03-24T08:32:38.211Z"
   },
   {
    "duration": 0,
    "start_time": "2023-03-24T08:32:38.211Z"
   },
   {
    "duration": 0,
    "start_time": "2023-03-24T08:32:38.212Z"
   },
   {
    "duration": 0,
    "start_time": "2023-03-24T08:32:38.213Z"
   },
   {
    "duration": 0,
    "start_time": "2023-03-24T08:32:38.214Z"
   },
   {
    "duration": 0,
    "start_time": "2023-03-24T08:32:38.215Z"
   },
   {
    "duration": 0,
    "start_time": "2023-03-24T08:32:38.216Z"
   },
   {
    "duration": 0,
    "start_time": "2023-03-24T08:32:38.217Z"
   },
   {
    "duration": 0,
    "start_time": "2023-03-24T08:32:38.218Z"
   },
   {
    "duration": 0,
    "start_time": "2023-03-24T08:32:38.219Z"
   },
   {
    "duration": 0,
    "start_time": "2023-03-24T08:32:38.220Z"
   },
   {
    "duration": 0,
    "start_time": "2023-03-24T08:32:38.220Z"
   },
   {
    "duration": 0,
    "start_time": "2023-03-24T08:32:38.221Z"
   },
   {
    "duration": 0,
    "start_time": "2023-03-24T08:32:38.222Z"
   },
   {
    "duration": 0,
    "start_time": "2023-03-24T08:32:38.223Z"
   },
   {
    "duration": 0,
    "start_time": "2023-03-24T08:32:38.224Z"
   },
   {
    "duration": 0,
    "start_time": "2023-03-24T08:32:38.348Z"
   },
   {
    "duration": 0,
    "start_time": "2023-03-24T08:32:38.349Z"
   },
   {
    "duration": 0,
    "start_time": "2023-03-24T08:32:38.351Z"
   },
   {
    "duration": 0,
    "start_time": "2023-03-24T08:32:38.352Z"
   },
   {
    "duration": 0,
    "start_time": "2023-03-24T08:32:38.353Z"
   },
   {
    "duration": 0,
    "start_time": "2023-03-24T08:32:38.354Z"
   },
   {
    "duration": 3,
    "start_time": "2023-03-24T09:48:27.137Z"
   },
   {
    "duration": 1283,
    "start_time": "2023-03-24T10:03:48.402Z"
   },
   {
    "duration": 50,
    "start_time": "2023-03-24T10:03:49.687Z"
   },
   {
    "duration": 15,
    "start_time": "2023-03-24T10:03:49.738Z"
   },
   {
    "duration": 13,
    "start_time": "2023-03-24T10:03:49.755Z"
   },
   {
    "duration": 5,
    "start_time": "2023-03-24T10:03:49.769Z"
   },
   {
    "duration": 5,
    "start_time": "2023-03-24T10:03:49.776Z"
   },
   {
    "duration": 45,
    "start_time": "2023-03-24T10:03:49.783Z"
   },
   {
    "duration": 1625,
    "start_time": "2023-03-24T10:03:49.830Z"
   },
   {
    "duration": 5,
    "start_time": "2023-03-24T10:03:51.457Z"
   },
   {
    "duration": 7,
    "start_time": "2023-03-24T10:03:51.471Z"
   },
   {
    "duration": 5,
    "start_time": "2023-03-24T10:03:51.480Z"
   },
   {
    "duration": 5,
    "start_time": "2023-03-24T10:03:51.487Z"
   },
   {
    "duration": 13,
    "start_time": "2023-03-24T10:03:51.493Z"
   },
   {
    "duration": 10,
    "start_time": "2023-03-24T10:03:51.508Z"
   },
   {
    "duration": 48,
    "start_time": "2023-03-24T10:03:51.520Z"
   },
   {
    "duration": 13,
    "start_time": "2023-03-24T10:03:51.570Z"
   },
   {
    "duration": 6,
    "start_time": "2023-03-24T10:03:51.584Z"
   },
   {
    "duration": 8,
    "start_time": "2023-03-24T10:03:51.591Z"
   },
   {
    "duration": 29,
    "start_time": "2023-03-24T10:03:51.600Z"
   },
   {
    "duration": 7,
    "start_time": "2023-03-24T10:03:51.631Z"
   },
   {
    "duration": 35,
    "start_time": "2023-03-24T10:03:51.639Z"
   },
   {
    "duration": 11,
    "start_time": "2023-03-24T10:03:51.676Z"
   },
   {
    "duration": 8,
    "start_time": "2023-03-24T10:03:51.688Z"
   },
   {
    "duration": 5,
    "start_time": "2023-03-24T10:03:51.698Z"
   },
   {
    "duration": 5,
    "start_time": "2023-03-24T10:03:51.705Z"
   },
   {
    "duration": 9,
    "start_time": "2023-03-24T10:03:51.711Z"
   },
   {
    "duration": 1052,
    "start_time": "2023-03-24T10:03:51.721Z"
   },
   {
    "duration": 12,
    "start_time": "2023-03-24T10:03:52.777Z"
   },
   {
    "duration": 5,
    "start_time": "2023-03-24T10:03:52.790Z"
   },
   {
    "duration": 1366,
    "start_time": "2023-03-24T10:03:52.797Z"
   },
   {
    "duration": 12,
    "start_time": "2023-03-24T10:03:54.164Z"
   },
   {
    "duration": 6,
    "start_time": "2023-03-24T10:03:54.177Z"
   },
   {
    "duration": 627,
    "start_time": "2023-03-24T10:03:54.185Z"
   },
   {
    "duration": 948,
    "start_time": "2023-03-24T10:03:54.814Z"
   },
   {
    "duration": 3943,
    "start_time": "2023-03-24T10:03:55.764Z"
   },
   {
    "duration": 4,
    "start_time": "2023-03-24T10:03:59.709Z"
   },
   {
    "duration": 57,
    "start_time": "2023-03-24T10:03:59.714Z"
   },
   {
    "duration": 2678,
    "start_time": "2023-03-24T10:03:59.780Z"
   },
   {
    "duration": 8,
    "start_time": "2023-03-24T10:04:02.460Z"
   },
   {
    "duration": 42,
    "start_time": "2023-03-24T10:04:02.470Z"
   },
   {
    "duration": 57086,
    "start_time": "2023-03-24T10:04:02.514Z"
   },
   {
    "duration": 2138,
    "start_time": "2023-03-24T10:04:59.601Z"
   },
   {
    "duration": 57,
    "start_time": "2023-03-24T10:05:01.740Z"
   },
   {
    "duration": 328,
    "start_time": "2023-03-24T10:05:01.799Z"
   },
   {
    "duration": 1494,
    "start_time": "2023-03-25T14:56:47.316Z"
   },
   {
    "duration": 125,
    "start_time": "2023-03-25T15:02:00.496Z"
   },
   {
    "duration": 3,
    "start_time": "2023-03-25T15:02:31.028Z"
   },
   {
    "duration": 388,
    "start_time": "2023-03-25T15:02:36.452Z"
   },
   {
    "duration": 12,
    "start_time": "2023-03-25T15:02:39.483Z"
   },
   {
    "duration": 11,
    "start_time": "2023-03-25T15:02:41.432Z"
   },
   {
    "duration": 5,
    "start_time": "2023-03-25T15:02:42.746Z"
   },
   {
    "duration": 4,
    "start_time": "2023-03-25T15:02:43.829Z"
   },
   {
    "duration": 33,
    "start_time": "2023-03-25T15:02:46.240Z"
   },
   {
    "duration": 3,
    "start_time": "2023-03-25T15:02:54.693Z"
   },
   {
    "duration": 7,
    "start_time": "2023-03-25T15:03:08.704Z"
   },
   {
    "duration": 4,
    "start_time": "2023-03-25T15:03:10.791Z"
   },
   {
    "duration": 3,
    "start_time": "2023-03-25T15:03:16.137Z"
   },
   {
    "duration": 14,
    "start_time": "2023-03-25T15:03:19.281Z"
   },
   {
    "duration": 5,
    "start_time": "2023-03-25T15:03:24.252Z"
   },
   {
    "duration": 7,
    "start_time": "2023-03-25T15:03:27.094Z"
   },
   {
    "duration": 5,
    "start_time": "2023-03-25T15:03:28.024Z"
   },
   {
    "duration": 6,
    "start_time": "2023-03-25T15:03:28.880Z"
   },
   {
    "duration": 10,
    "start_time": "2023-03-25T15:03:33.208Z"
   },
   {
    "duration": 16,
    "start_time": "2023-03-25T15:03:43.952Z"
   },
   {
    "duration": 41,
    "start_time": "2023-03-25T15:04:46.952Z"
   },
   {
    "duration": 12,
    "start_time": "2023-03-25T15:04:53.200Z"
   },
   {
    "duration": 26,
    "start_time": "2023-03-25T15:50:39.469Z"
   },
   {
    "duration": 19,
    "start_time": "2023-03-25T15:55:25.621Z"
   },
   {
    "duration": 40,
    "start_time": "2023-03-25T15:55:29.695Z"
   },
   {
    "duration": 55,
    "start_time": "2023-03-25T15:55:49.108Z"
   },
   {
    "duration": 17,
    "start_time": "2023-03-25T15:56:38.018Z"
   },
   {
    "duration": 28,
    "start_time": "2023-03-25T15:56:43.283Z"
   },
   {
    "duration": 16,
    "start_time": "2023-03-25T15:57:42.766Z"
   },
   {
    "duration": 26,
    "start_time": "2023-03-25T15:57:46.167Z"
   },
   {
    "duration": 17,
    "start_time": "2023-03-25T16:03:28.205Z"
   },
   {
    "duration": 11,
    "start_time": "2023-03-25T16:06:43.713Z"
   },
   {
    "duration": 19,
    "start_time": "2023-03-25T16:07:10.466Z"
   },
   {
    "duration": 11,
    "start_time": "2023-03-25T16:07:27.387Z"
   },
   {
    "duration": 6,
    "start_time": "2023-03-25T16:09:14.562Z"
   },
   {
    "duration": 16,
    "start_time": "2023-03-25T16:09:34.408Z"
   },
   {
    "duration": 10,
    "start_time": "2023-03-25T16:09:40.983Z"
   },
   {
    "duration": 5,
    "start_time": "2023-03-25T16:10:12.880Z"
   },
   {
    "duration": 14,
    "start_time": "2023-03-25T16:10:23.924Z"
   },
   {
    "duration": 4,
    "start_time": "2023-03-25T16:10:27.342Z"
   },
   {
    "duration": 6,
    "start_time": "2023-03-25T16:10:30.855Z"
   },
   {
    "duration": 5,
    "start_time": "2023-03-25T16:10:31.794Z"
   },
   {
    "duration": 6,
    "start_time": "2023-03-25T16:10:32.879Z"
   },
   {
    "duration": 18,
    "start_time": "2023-03-25T16:10:37.261Z"
   },
   {
    "duration": 26,
    "start_time": "2023-03-25T16:11:35.719Z"
   },
   {
    "duration": 12,
    "start_time": "2023-03-25T16:11:40.048Z"
   },
   {
    "duration": 10,
    "start_time": "2023-03-25T16:11:50.052Z"
   },
   {
    "duration": 15,
    "start_time": "2023-03-25T16:11:54.645Z"
   },
   {
    "duration": 11,
    "start_time": "2023-03-25T16:12:04.154Z"
   },
   {
    "duration": 5,
    "start_time": "2023-03-25T16:12:35.210Z"
   },
   {
    "duration": 1368,
    "start_time": "2023-03-25T16:14:15.445Z"
   },
   {
    "duration": 48,
    "start_time": "2023-03-25T16:14:16.815Z"
   },
   {
    "duration": 18,
    "start_time": "2023-03-25T16:14:16.865Z"
   },
   {
    "duration": 16,
    "start_time": "2023-03-25T16:14:16.886Z"
   },
   {
    "duration": 5,
    "start_time": "2023-03-25T16:14:16.904Z"
   },
   {
    "duration": 5,
    "start_time": "2023-03-25T16:14:16.910Z"
   },
   {
    "duration": 74,
    "start_time": "2023-03-25T16:14:16.916Z"
   },
   {
    "duration": 1529,
    "start_time": "2023-03-25T16:14:16.992Z"
   },
   {
    "duration": 5,
    "start_time": "2023-03-25T16:14:18.523Z"
   },
   {
    "duration": 11,
    "start_time": "2023-03-25T16:14:18.531Z"
   },
   {
    "duration": 8,
    "start_time": "2023-03-25T16:14:18.543Z"
   },
   {
    "duration": 5,
    "start_time": "2023-03-25T16:14:18.569Z"
   },
   {
    "duration": 19,
    "start_time": "2023-03-25T16:14:18.577Z"
   },
   {
    "duration": 6,
    "start_time": "2023-03-25T16:14:18.597Z"
   },
   {
    "duration": 7,
    "start_time": "2023-03-25T16:14:18.604Z"
   },
   {
    "duration": 5,
    "start_time": "2023-03-25T16:14:18.612Z"
   },
   {
    "duration": 5,
    "start_time": "2023-03-25T16:14:18.618Z"
   },
   {
    "duration": 48,
    "start_time": "2023-03-25T16:14:18.625Z"
   },
   {
    "duration": 19,
    "start_time": "2023-03-25T16:14:18.675Z"
   },
   {
    "duration": 13,
    "start_time": "2023-03-25T16:14:18.695Z"
   },
   {
    "duration": 25,
    "start_time": "2023-03-25T16:14:18.710Z"
   },
   {
    "duration": 18,
    "start_time": "2023-03-25T16:14:18.736Z"
   },
   {
    "duration": 23,
    "start_time": "2023-03-25T16:14:18.755Z"
   },
   {
    "duration": 10,
    "start_time": "2023-03-25T16:14:18.780Z"
   },
   {
    "duration": 5,
    "start_time": "2023-03-25T16:14:18.792Z"
   },
   {
    "duration": 6,
    "start_time": "2023-03-25T16:14:18.799Z"
   },
   {
    "duration": 7,
    "start_time": "2023-03-25T16:14:18.806Z"
   },
   {
    "duration": 2932,
    "start_time": "2023-03-25T16:14:18.815Z"
   },
   {
    "duration": 21,
    "start_time": "2023-03-25T16:14:21.749Z"
   },
   {
    "duration": 7,
    "start_time": "2023-03-25T16:14:21.773Z"
   },
   {
    "duration": 1766,
    "start_time": "2023-03-25T16:14:21.783Z"
   },
   {
    "duration": 10,
    "start_time": "2023-03-25T16:14:23.550Z"
   },
   {
    "duration": 9,
    "start_time": "2023-03-25T16:14:23.562Z"
   },
   {
    "duration": 802,
    "start_time": "2023-03-25T16:14:23.572Z"
   },
   {
    "duration": 1050,
    "start_time": "2023-03-25T16:14:24.377Z"
   },
   {
    "duration": 4701,
    "start_time": "2023-03-25T16:14:25.428Z"
   },
   {
    "duration": 4,
    "start_time": "2023-03-25T16:14:30.130Z"
   },
   {
    "duration": 61,
    "start_time": "2023-03-25T16:14:30.135Z"
   },
   {
    "duration": 2249,
    "start_time": "2023-03-25T16:14:30.197Z"
   },
   {
    "duration": 3,
    "start_time": "2023-03-25T16:14:32.448Z"
   },
   {
    "duration": 22,
    "start_time": "2023-03-25T16:14:32.453Z"
   },
   {
    "duration": 60084,
    "start_time": "2023-03-25T16:14:32.477Z"
   },
   {
    "duration": 2837,
    "start_time": "2023-03-25T16:15:32.563Z"
   },
   {
    "duration": 53,
    "start_time": "2023-03-25T16:15:35.401Z"
   },
   {
    "duration": 479,
    "start_time": "2023-03-25T16:15:35.456Z"
   },
   {
    "duration": 5,
    "start_time": "2023-03-25T16:19:12.821Z"
   },
   {
    "duration": 112,
    "start_time": "2023-03-25T16:26:06.893Z"
   },
   {
    "duration": 2655,
    "start_time": "2023-03-25T16:26:18.124Z"
   },
   {
    "duration": 2125,
    "start_time": "2023-03-25T16:27:07.776Z"
   },
   {
    "duration": 6,
    "start_time": "2023-03-25T16:28:57.856Z"
   },
   {
    "duration": 127683,
    "start_time": "2023-03-25T16:29:02.078Z"
   },
   {
    "duration": 2916,
    "start_time": "2023-03-25T16:31:23.678Z"
   },
   {
    "duration": 2159,
    "start_time": "2023-03-25T16:31:40.208Z"
   },
   {
    "duration": 2261,
    "start_time": "2023-03-25T16:31:45.907Z"
   },
   {
    "duration": 2406,
    "start_time": "2023-03-25T16:31:51.723Z"
   },
   {
    "duration": 2762,
    "start_time": "2023-03-25T16:31:57.715Z"
   },
   {
    "duration": 2086,
    "start_time": "2023-03-25T16:32:14.900Z"
   },
   {
    "duration": 2006,
    "start_time": "2023-03-25T16:32:20.562Z"
   },
   {
    "duration": 1667,
    "start_time": "2023-03-25T16:32:25.360Z"
   },
   {
    "duration": 1514,
    "start_time": "2023-03-25T16:32:30.304Z"
   },
   {
    "duration": 1342,
    "start_time": "2023-03-25T16:32:35.171Z"
   },
   {
    "duration": 1095,
    "start_time": "2023-03-25T16:32:42.994Z"
   },
   {
    "duration": 1128,
    "start_time": "2023-03-25T16:32:48.077Z"
   },
   {
    "duration": 3545,
    "start_time": "2023-03-25T16:32:55.776Z"
   },
   {
    "duration": 3634,
    "start_time": "2023-03-25T16:33:11.799Z"
   },
   {
    "duration": 3454,
    "start_time": "2023-03-25T16:33:21.023Z"
   },
   {
    "duration": 2997,
    "start_time": "2023-03-25T16:33:27.714Z"
   },
   {
    "duration": 1948,
    "start_time": "2023-03-25T16:33:45.207Z"
   },
   {
    "duration": 119389,
    "start_time": "2023-03-25T16:34:13.558Z"
   },
   {
    "duration": 2908,
    "start_time": "2023-03-25T16:36:46.967Z"
   }
  ],
  "kernelspec": {
   "display_name": "Python 3 (ipykernel)",
   "language": "python",
   "name": "python3"
  },
  "language_info": {
   "codemirror_mode": {
    "name": "ipython",
    "version": 3
   },
   "file_extension": ".py",
   "mimetype": "text/x-python",
   "name": "python",
   "nbconvert_exporter": "python",
   "pygments_lexer": "ipython3",
   "version": "3.9.5"
  },
  "toc": {
   "base_numbering": 1,
   "nav_menu": {},
   "number_sections": true,
   "sideBar": true,
   "skip_h1_title": true,
   "title_cell": "Содержание",
   "title_sidebar": "Contents",
   "toc_cell": true,
   "toc_position": {
    "height": "calc(100% - 180px)",
    "left": "10px",
    "top": "150px",
    "width": "310.6px"
   },
   "toc_section_display": true,
   "toc_window_display": true
  }
 },
 "nbformat": 4,
 "nbformat_minor": 2
}
