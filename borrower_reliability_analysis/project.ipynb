{
 "cells": [
  {
   "cell_type": "markdown",
   "id": "e4f0febf",
   "metadata": {
    "deletable": false,
    "editable": false,
    "id": "c81daeeb"
   },
   "source": [
    "# Исследование надежности заемщиков\n"
   ]
  },
  {
   "cell_type": "markdown",
   "id": "fae95dc7",
   "metadata": {
    "deletable": false,
    "editable": false,
    "id": "827c20bf"
   },
   "source": [
    "Во второй части проекта вы выполните шаги 3 и 4. Их вручную проверит ревьюер.\n",
    "Чтобы вам не пришлось писать код заново для шагов 1 и 2, мы добавили авторские решения в ячейки с кодом. \n",
    "\n"
   ]
  },
  {
   "cell_type": "markdown",
   "id": "c24c1332",
   "metadata": {
    "deletable": false,
    "editable": false,
    "id": "744d7639"
   },
   "source": [
    "## Откройте таблицу и изучите общую информацию о данных"
   ]
  },
  {
   "cell_type": "markdown",
   "id": "dee250fa",
   "metadata": {
    "deletable": false,
    "editable": false,
    "id": "e7a14c31"
   },
   "source": [
    "**Задание 1. Импортируйте библиотеку pandas. Считайте данные из csv-файла в датафрейм и сохраните в переменную `data`. Путь к файлу:**\n",
    "\n",
    "`/datasets/data.csv`"
   ]
  },
  {
   "cell_type": "code",
   "execution_count": 1,
   "id": "6cbfc31e",
   "metadata": {
    "deletable": false,
    "id": "7bcf75c9"
   },
   "outputs": [],
   "source": [
    "import pandas as pd\n",
    "\n",
    "try:\n",
    "    data = pd.read_csv('/datasets/data.csv')\n",
    "except:\n",
    "    data = pd.read_csv('https://code.s3.yandex.net/datasets/data.csv')"
   ]
  },
  {
   "cell_type": "markdown",
   "id": "3ad93003",
   "metadata": {
    "deletable": false,
    "editable": false,
    "id": "b8038fe3"
   },
   "source": [
    "**Задание 2. Выведите первые 20 строчек датафрейма `data` на экран.**"
   ]
  },
  {
   "cell_type": "code",
   "execution_count": 2,
   "id": "5ce50b40",
   "metadata": {
    "deletable": false,
    "id": "2a7cab99",
    "outputId": "1a8f3ef2-d323-4ec2-ddf7-89670b5944c4"
   },
   "outputs": [
    {
     "data": {
      "text/html": [
       "<div>\n",
       "<style scoped>\n",
       "    .dataframe tbody tr th:only-of-type {\n",
       "        vertical-align: middle;\n",
       "    }\n",
       "\n",
       "    .dataframe tbody tr th {\n",
       "        vertical-align: top;\n",
       "    }\n",
       "\n",
       "    .dataframe thead th {\n",
       "        text-align: right;\n",
       "    }\n",
       "</style>\n",
       "<table border=\"1\" class=\"dataframe\">\n",
       "  <thead>\n",
       "    <tr style=\"text-align: right;\">\n",
       "      <th></th>\n",
       "      <th>children</th>\n",
       "      <th>days_employed</th>\n",
       "      <th>dob_years</th>\n",
       "      <th>education</th>\n",
       "      <th>education_id</th>\n",
       "      <th>family_status</th>\n",
       "      <th>family_status_id</th>\n",
       "      <th>gender</th>\n",
       "      <th>income_type</th>\n",
       "      <th>debt</th>\n",
       "      <th>total_income</th>\n",
       "      <th>purpose</th>\n",
       "    </tr>\n",
       "  </thead>\n",
       "  <tbody>\n",
       "    <tr>\n",
       "      <th>0</th>\n",
       "      <td>1</td>\n",
       "      <td>-8437.673028</td>\n",
       "      <td>42</td>\n",
       "      <td>высшее</td>\n",
       "      <td>0</td>\n",
       "      <td>женат / замужем</td>\n",
       "      <td>0</td>\n",
       "      <td>F</td>\n",
       "      <td>сотрудник</td>\n",
       "      <td>0</td>\n",
       "      <td>253875.639453</td>\n",
       "      <td>покупка жилья</td>\n",
       "    </tr>\n",
       "    <tr>\n",
       "      <th>1</th>\n",
       "      <td>1</td>\n",
       "      <td>-4024.803754</td>\n",
       "      <td>36</td>\n",
       "      <td>среднее</td>\n",
       "      <td>1</td>\n",
       "      <td>женат / замужем</td>\n",
       "      <td>0</td>\n",
       "      <td>F</td>\n",
       "      <td>сотрудник</td>\n",
       "      <td>0</td>\n",
       "      <td>112080.014102</td>\n",
       "      <td>приобретение автомобиля</td>\n",
       "    </tr>\n",
       "    <tr>\n",
       "      <th>2</th>\n",
       "      <td>0</td>\n",
       "      <td>-5623.422610</td>\n",
       "      <td>33</td>\n",
       "      <td>Среднее</td>\n",
       "      <td>1</td>\n",
       "      <td>женат / замужем</td>\n",
       "      <td>0</td>\n",
       "      <td>M</td>\n",
       "      <td>сотрудник</td>\n",
       "      <td>0</td>\n",
       "      <td>145885.952297</td>\n",
       "      <td>покупка жилья</td>\n",
       "    </tr>\n",
       "    <tr>\n",
       "      <th>3</th>\n",
       "      <td>3</td>\n",
       "      <td>-4124.747207</td>\n",
       "      <td>32</td>\n",
       "      <td>среднее</td>\n",
       "      <td>1</td>\n",
       "      <td>женат / замужем</td>\n",
       "      <td>0</td>\n",
       "      <td>M</td>\n",
       "      <td>сотрудник</td>\n",
       "      <td>0</td>\n",
       "      <td>267628.550329</td>\n",
       "      <td>дополнительное образование</td>\n",
       "    </tr>\n",
       "    <tr>\n",
       "      <th>4</th>\n",
       "      <td>0</td>\n",
       "      <td>340266.072047</td>\n",
       "      <td>53</td>\n",
       "      <td>среднее</td>\n",
       "      <td>1</td>\n",
       "      <td>гражданский брак</td>\n",
       "      <td>1</td>\n",
       "      <td>F</td>\n",
       "      <td>пенсионер</td>\n",
       "      <td>0</td>\n",
       "      <td>158616.077870</td>\n",
       "      <td>сыграть свадьбу</td>\n",
       "    </tr>\n",
       "    <tr>\n",
       "      <th>5</th>\n",
       "      <td>0</td>\n",
       "      <td>-926.185831</td>\n",
       "      <td>27</td>\n",
       "      <td>высшее</td>\n",
       "      <td>0</td>\n",
       "      <td>гражданский брак</td>\n",
       "      <td>1</td>\n",
       "      <td>M</td>\n",
       "      <td>компаньон</td>\n",
       "      <td>0</td>\n",
       "      <td>255763.565419</td>\n",
       "      <td>покупка жилья</td>\n",
       "    </tr>\n",
       "    <tr>\n",
       "      <th>6</th>\n",
       "      <td>0</td>\n",
       "      <td>-2879.202052</td>\n",
       "      <td>43</td>\n",
       "      <td>высшее</td>\n",
       "      <td>0</td>\n",
       "      <td>женат / замужем</td>\n",
       "      <td>0</td>\n",
       "      <td>F</td>\n",
       "      <td>компаньон</td>\n",
       "      <td>0</td>\n",
       "      <td>240525.971920</td>\n",
       "      <td>операции с жильем</td>\n",
       "    </tr>\n",
       "    <tr>\n",
       "      <th>7</th>\n",
       "      <td>0</td>\n",
       "      <td>-152.779569</td>\n",
       "      <td>50</td>\n",
       "      <td>СРЕДНЕЕ</td>\n",
       "      <td>1</td>\n",
       "      <td>женат / замужем</td>\n",
       "      <td>0</td>\n",
       "      <td>M</td>\n",
       "      <td>сотрудник</td>\n",
       "      <td>0</td>\n",
       "      <td>135823.934197</td>\n",
       "      <td>образование</td>\n",
       "    </tr>\n",
       "    <tr>\n",
       "      <th>8</th>\n",
       "      <td>2</td>\n",
       "      <td>-6929.865299</td>\n",
       "      <td>35</td>\n",
       "      <td>ВЫСШЕЕ</td>\n",
       "      <td>0</td>\n",
       "      <td>гражданский брак</td>\n",
       "      <td>1</td>\n",
       "      <td>F</td>\n",
       "      <td>сотрудник</td>\n",
       "      <td>0</td>\n",
       "      <td>95856.832424</td>\n",
       "      <td>на проведение свадьбы</td>\n",
       "    </tr>\n",
       "    <tr>\n",
       "      <th>9</th>\n",
       "      <td>0</td>\n",
       "      <td>-2188.756445</td>\n",
       "      <td>41</td>\n",
       "      <td>среднее</td>\n",
       "      <td>1</td>\n",
       "      <td>женат / замужем</td>\n",
       "      <td>0</td>\n",
       "      <td>M</td>\n",
       "      <td>сотрудник</td>\n",
       "      <td>0</td>\n",
       "      <td>144425.938277</td>\n",
       "      <td>покупка жилья для семьи</td>\n",
       "    </tr>\n",
       "    <tr>\n",
       "      <th>10</th>\n",
       "      <td>2</td>\n",
       "      <td>-4171.483647</td>\n",
       "      <td>36</td>\n",
       "      <td>высшее</td>\n",
       "      <td>0</td>\n",
       "      <td>женат / замужем</td>\n",
       "      <td>0</td>\n",
       "      <td>M</td>\n",
       "      <td>компаньон</td>\n",
       "      <td>0</td>\n",
       "      <td>113943.491460</td>\n",
       "      <td>покупка недвижимости</td>\n",
       "    </tr>\n",
       "    <tr>\n",
       "      <th>11</th>\n",
       "      <td>0</td>\n",
       "      <td>-792.701887</td>\n",
       "      <td>40</td>\n",
       "      <td>среднее</td>\n",
       "      <td>1</td>\n",
       "      <td>женат / замужем</td>\n",
       "      <td>0</td>\n",
       "      <td>F</td>\n",
       "      <td>сотрудник</td>\n",
       "      <td>0</td>\n",
       "      <td>77069.234271</td>\n",
       "      <td>покупка коммерческой недвижимости</td>\n",
       "    </tr>\n",
       "    <tr>\n",
       "      <th>12</th>\n",
       "      <td>0</td>\n",
       "      <td>NaN</td>\n",
       "      <td>65</td>\n",
       "      <td>среднее</td>\n",
       "      <td>1</td>\n",
       "      <td>гражданский брак</td>\n",
       "      <td>1</td>\n",
       "      <td>M</td>\n",
       "      <td>пенсионер</td>\n",
       "      <td>0</td>\n",
       "      <td>NaN</td>\n",
       "      <td>сыграть свадьбу</td>\n",
       "    </tr>\n",
       "    <tr>\n",
       "      <th>13</th>\n",
       "      <td>0</td>\n",
       "      <td>-1846.641941</td>\n",
       "      <td>54</td>\n",
       "      <td>неоконченное высшее</td>\n",
       "      <td>2</td>\n",
       "      <td>женат / замужем</td>\n",
       "      <td>0</td>\n",
       "      <td>F</td>\n",
       "      <td>сотрудник</td>\n",
       "      <td>0</td>\n",
       "      <td>130458.228857</td>\n",
       "      <td>приобретение автомобиля</td>\n",
       "    </tr>\n",
       "    <tr>\n",
       "      <th>14</th>\n",
       "      <td>0</td>\n",
       "      <td>-1844.956182</td>\n",
       "      <td>56</td>\n",
       "      <td>высшее</td>\n",
       "      <td>0</td>\n",
       "      <td>гражданский брак</td>\n",
       "      <td>1</td>\n",
       "      <td>F</td>\n",
       "      <td>компаньон</td>\n",
       "      <td>1</td>\n",
       "      <td>165127.911772</td>\n",
       "      <td>покупка жилой недвижимости</td>\n",
       "    </tr>\n",
       "    <tr>\n",
       "      <th>15</th>\n",
       "      <td>1</td>\n",
       "      <td>-972.364419</td>\n",
       "      <td>26</td>\n",
       "      <td>среднее</td>\n",
       "      <td>1</td>\n",
       "      <td>женат / замужем</td>\n",
       "      <td>0</td>\n",
       "      <td>F</td>\n",
       "      <td>сотрудник</td>\n",
       "      <td>0</td>\n",
       "      <td>116820.904450</td>\n",
       "      <td>строительство собственной недвижимости</td>\n",
       "    </tr>\n",
       "    <tr>\n",
       "      <th>16</th>\n",
       "      <td>0</td>\n",
       "      <td>-1719.934226</td>\n",
       "      <td>35</td>\n",
       "      <td>среднее</td>\n",
       "      <td>1</td>\n",
       "      <td>женат / замужем</td>\n",
       "      <td>0</td>\n",
       "      <td>F</td>\n",
       "      <td>сотрудник</td>\n",
       "      <td>0</td>\n",
       "      <td>289202.704229</td>\n",
       "      <td>недвижимость</td>\n",
       "    </tr>\n",
       "    <tr>\n",
       "      <th>17</th>\n",
       "      <td>0</td>\n",
       "      <td>-2369.999720</td>\n",
       "      <td>33</td>\n",
       "      <td>высшее</td>\n",
       "      <td>0</td>\n",
       "      <td>гражданский брак</td>\n",
       "      <td>1</td>\n",
       "      <td>M</td>\n",
       "      <td>сотрудник</td>\n",
       "      <td>0</td>\n",
       "      <td>90410.586745</td>\n",
       "      <td>строительство недвижимости</td>\n",
       "    </tr>\n",
       "    <tr>\n",
       "      <th>18</th>\n",
       "      <td>0</td>\n",
       "      <td>400281.136913</td>\n",
       "      <td>53</td>\n",
       "      <td>среднее</td>\n",
       "      <td>1</td>\n",
       "      <td>вдовец / вдова</td>\n",
       "      <td>2</td>\n",
       "      <td>F</td>\n",
       "      <td>пенсионер</td>\n",
       "      <td>0</td>\n",
       "      <td>56823.777243</td>\n",
       "      <td>на покупку подержанного автомобиля</td>\n",
       "    </tr>\n",
       "    <tr>\n",
       "      <th>19</th>\n",
       "      <td>0</td>\n",
       "      <td>-10038.818549</td>\n",
       "      <td>48</td>\n",
       "      <td>СРЕДНЕЕ</td>\n",
       "      <td>1</td>\n",
       "      <td>в разводе</td>\n",
       "      <td>3</td>\n",
       "      <td>F</td>\n",
       "      <td>сотрудник</td>\n",
       "      <td>0</td>\n",
       "      <td>242831.107982</td>\n",
       "      <td>на покупку своего автомобиля</td>\n",
       "    </tr>\n",
       "  </tbody>\n",
       "</table>\n",
       "</div>"
      ],
      "text/plain": [
       "    children  days_employed  dob_years            education  education_id  \\\n",
       "0          1   -8437.673028         42               высшее             0   \n",
       "1          1   -4024.803754         36              среднее             1   \n",
       "2          0   -5623.422610         33              Среднее             1   \n",
       "3          3   -4124.747207         32              среднее             1   \n",
       "4          0  340266.072047         53              среднее             1   \n",
       "5          0    -926.185831         27               высшее             0   \n",
       "6          0   -2879.202052         43               высшее             0   \n",
       "7          0    -152.779569         50              СРЕДНЕЕ             1   \n",
       "8          2   -6929.865299         35               ВЫСШЕЕ             0   \n",
       "9          0   -2188.756445         41              среднее             1   \n",
       "10         2   -4171.483647         36               высшее             0   \n",
       "11         0    -792.701887         40              среднее             1   \n",
       "12         0            NaN         65              среднее             1   \n",
       "13         0   -1846.641941         54  неоконченное высшее             2   \n",
       "14         0   -1844.956182         56               высшее             0   \n",
       "15         1    -972.364419         26              среднее             1   \n",
       "16         0   -1719.934226         35              среднее             1   \n",
       "17         0   -2369.999720         33               высшее             0   \n",
       "18         0  400281.136913         53              среднее             1   \n",
       "19         0  -10038.818549         48              СРЕДНЕЕ             1   \n",
       "\n",
       "       family_status  family_status_id gender income_type  debt  \\\n",
       "0    женат / замужем                 0      F   сотрудник     0   \n",
       "1    женат / замужем                 0      F   сотрудник     0   \n",
       "2    женат / замужем                 0      M   сотрудник     0   \n",
       "3    женат / замужем                 0      M   сотрудник     0   \n",
       "4   гражданский брак                 1      F   пенсионер     0   \n",
       "5   гражданский брак                 1      M   компаньон     0   \n",
       "6    женат / замужем                 0      F   компаньон     0   \n",
       "7    женат / замужем                 0      M   сотрудник     0   \n",
       "8   гражданский брак                 1      F   сотрудник     0   \n",
       "9    женат / замужем                 0      M   сотрудник     0   \n",
       "10   женат / замужем                 0      M   компаньон     0   \n",
       "11   женат / замужем                 0      F   сотрудник     0   \n",
       "12  гражданский брак                 1      M   пенсионер     0   \n",
       "13   женат / замужем                 0      F   сотрудник     0   \n",
       "14  гражданский брак                 1      F   компаньон     1   \n",
       "15   женат / замужем                 0      F   сотрудник     0   \n",
       "16   женат / замужем                 0      F   сотрудник     0   \n",
       "17  гражданский брак                 1      M   сотрудник     0   \n",
       "18    вдовец / вдова                 2      F   пенсионер     0   \n",
       "19         в разводе                 3      F   сотрудник     0   \n",
       "\n",
       "     total_income                                 purpose  \n",
       "0   253875.639453                           покупка жилья  \n",
       "1   112080.014102                 приобретение автомобиля  \n",
       "2   145885.952297                           покупка жилья  \n",
       "3   267628.550329              дополнительное образование  \n",
       "4   158616.077870                         сыграть свадьбу  \n",
       "5   255763.565419                           покупка жилья  \n",
       "6   240525.971920                       операции с жильем  \n",
       "7   135823.934197                             образование  \n",
       "8    95856.832424                   на проведение свадьбы  \n",
       "9   144425.938277                 покупка жилья для семьи  \n",
       "10  113943.491460                    покупка недвижимости  \n",
       "11   77069.234271       покупка коммерческой недвижимости  \n",
       "12            NaN                         сыграть свадьбу  \n",
       "13  130458.228857                 приобретение автомобиля  \n",
       "14  165127.911772              покупка жилой недвижимости  \n",
       "15  116820.904450  строительство собственной недвижимости  \n",
       "16  289202.704229                            недвижимость  \n",
       "17   90410.586745              строительство недвижимости  \n",
       "18   56823.777243      на покупку подержанного автомобиля  \n",
       "19  242831.107982            на покупку своего автомобиля  "
      ]
     },
     "execution_count": 2,
     "metadata": {},
     "output_type": "execute_result"
    }
   ],
   "source": [
    "data.head(20)"
   ]
  },
  {
   "cell_type": "markdown",
   "id": "ff9c0f97",
   "metadata": {
    "deletable": false,
    "editable": false,
    "id": "1c12e233"
   },
   "source": [
    "**Задание 3. Выведите основную информацию о датафрейме с помощью метода `info()`.**"
   ]
  },
  {
   "cell_type": "code",
   "execution_count": 3,
   "id": "22e65a21",
   "metadata": {
    "deletable": false,
    "id": "2b757bca",
    "outputId": "15376089-8dad-46c9-b520-c05248d43158"
   },
   "outputs": [
    {
     "name": "stdout",
     "output_type": "stream",
     "text": [
      "<class 'pandas.core.frame.DataFrame'>\n",
      "RangeIndex: 21525 entries, 0 to 21524\n",
      "Data columns (total 12 columns):\n",
      " #   Column            Non-Null Count  Dtype  \n",
      "---  ------            --------------  -----  \n",
      " 0   children          21525 non-null  int64  \n",
      " 1   days_employed     19351 non-null  float64\n",
      " 2   dob_years         21525 non-null  int64  \n",
      " 3   education         21525 non-null  object \n",
      " 4   education_id      21525 non-null  int64  \n",
      " 5   family_status     21525 non-null  object \n",
      " 6   family_status_id  21525 non-null  int64  \n",
      " 7   gender            21525 non-null  object \n",
      " 8   income_type       21525 non-null  object \n",
      " 9   debt              21525 non-null  int64  \n",
      " 10  total_income      19351 non-null  float64\n",
      " 11  purpose           21525 non-null  object \n",
      "dtypes: float64(2), int64(5), object(5)\n",
      "memory usage: 2.0+ MB\n"
     ]
    }
   ],
   "source": [
    "data.info()"
   ]
  },
  {
   "cell_type": "markdown",
   "id": "6e2d05b9",
   "metadata": {
    "deletable": false,
    "editable": false,
    "id": "333ec665"
   },
   "source": [
    "## Предобработка данных"
   ]
  },
  {
   "cell_type": "markdown",
   "id": "22177830",
   "metadata": {
    "deletable": false,
    "editable": false,
    "id": "02d92d53"
   },
   "source": [
    "### Удаление пропусков"
   ]
  },
  {
   "cell_type": "markdown",
   "id": "6628b221",
   "metadata": {
    "deletable": false,
    "editable": false,
    "id": "cd84967c"
   },
   "source": [
    "**Задание 4. Выведите количество пропущенных значений для каждого столбца. Используйте комбинацию двух методов.**"
   ]
  },
  {
   "cell_type": "code",
   "execution_count": 4,
   "id": "efb34364",
   "metadata": {
    "deletable": false,
    "id": "7f9b2309",
    "outputId": "81f4d817-781c-465c-ed15-91ce4446810d"
   },
   "outputs": [
    {
     "data": {
      "text/plain": [
       "children               0\n",
       "days_employed       2174\n",
       "dob_years              0\n",
       "education              0\n",
       "education_id           0\n",
       "family_status          0\n",
       "family_status_id       0\n",
       "gender                 0\n",
       "income_type            0\n",
       "debt                   0\n",
       "total_income        2174\n",
       "purpose                0\n",
       "dtype: int64"
      ]
     },
     "execution_count": 4,
     "metadata": {},
     "output_type": "execute_result"
    }
   ],
   "source": [
    "data.isna().sum()"
   ]
  },
  {
   "cell_type": "markdown",
   "id": "97a9d83b",
   "metadata": {
    "deletable": false,
    "editable": false,
    "id": "db86e27b"
   },
   "source": [
    "**Задание 5. В двух столбцах есть пропущенные значения. Один из них — `days_employed`. Пропуски в этом столбце вы обработаете на следующем этапе. Другой столбец с пропущенными значениями — `total_income` — хранит данные о доходах. На сумму дохода сильнее всего влияет тип занятости, поэтому заполнить пропуски в этом столбце нужно медианным значением по каждому типу из столбца `income_type`. Например, у человека с типом занятости `сотрудник` пропуск в столбце `total_income` должен быть заполнен медианным доходом среди всех записей с тем же типом.**"
   ]
  },
  {
   "cell_type": "code",
   "execution_count": 5,
   "id": "1fab1ef5",
   "metadata": {
    "deletable": false,
    "id": "42006a93"
   },
   "outputs": [],
   "source": [
    "for t in data['income_type'].unique():\n",
    "    data.loc[(data['income_type'] == t) & (data['total_income'].isna()), 'total_income'] = \\\n",
    "    data.loc[(data['income_type'] == t), 'total_income'].median()"
   ]
  },
  {
   "cell_type": "markdown",
   "id": "e3bdf82a",
   "metadata": {
    "deletable": false,
    "editable": false,
    "id": "89da5ece"
   },
   "source": [
    "### Обработка аномальных значений"
   ]
  },
  {
   "cell_type": "markdown",
   "id": "93e05b85",
   "metadata": {
    "deletable": false,
    "editable": false,
    "id": "57964554"
   },
   "source": [
    "**Задание 6. В данных могут встречаться артефакты (аномалии) — значения, которые не отражают действительность и появились по какой-то ошибке. таким артефактом будет отрицательное количество дней трудового стажа в столбце `days_employed`. Для реальных данных это нормально. Обработайте значения в этом столбце: замените все отрицательные значения положительными с помощью метода `abs()`.**"
   ]
  },
  {
   "cell_type": "code",
   "execution_count": 6,
   "id": "6242a853",
   "metadata": {
    "deletable": false,
    "id": "f6f055bf"
   },
   "outputs": [],
   "source": [
    "data['days_employed'] = data['days_employed'].abs()"
   ]
  },
  {
   "cell_type": "markdown",
   "id": "68a09b83",
   "metadata": {
    "deletable": false,
    "editable": false,
    "id": "6107dd2f"
   },
   "source": [
    "**Задание 7. Для каждого типа занятости выведите медианное значение трудового стажа `days_employed` в днях.**"
   ]
  },
  {
   "cell_type": "code",
   "execution_count": 7,
   "id": "50f47a56",
   "metadata": {
    "deletable": false,
    "id": "85a5faf6",
    "outputId": "801ef80e-522b-4668-f34e-565af7432bcf"
   },
   "outputs": [
    {
     "data": {
      "text/plain": [
       "income_type\n",
       "безработный        366413.652744\n",
       "в декрете            3296.759962\n",
       "госслужащий          2689.368353\n",
       "компаньон            1547.382223\n",
       "пенсионер          365213.306266\n",
       "предприниматель       520.848083\n",
       "сотрудник            1574.202821\n",
       "студент               578.751554\n",
       "Name: days_employed, dtype: float64"
      ]
     },
     "execution_count": 7,
     "metadata": {},
     "output_type": "execute_result"
    }
   ],
   "source": [
    "data.groupby('income_type')['days_employed'].agg('median')"
   ]
  },
  {
   "cell_type": "markdown",
   "id": "649ad110",
   "metadata": {
    "deletable": false,
    "editable": false,
    "id": "38d1a030"
   },
   "source": [
    "У двух типов (безработные и пенсионеры) получатся аномально большие значения. Исправить такие значения сложно, поэтому оставьте их как есть. Тем более этот столбец не понадобится вам для исследования."
   ]
  },
  {
   "cell_type": "markdown",
   "id": "8ef49d7d",
   "metadata": {
    "deletable": false,
    "editable": false,
    "id": "d8a9f147"
   },
   "source": [
    "**Задание 8. Выведите перечень уникальных значений столбца `children`.**"
   ]
  },
  {
   "cell_type": "code",
   "execution_count": 8,
   "id": "6280fb9d",
   "metadata": {
    "deletable": false,
    "id": "ef5056eb",
    "outputId": "6975b15c-7f95-4697-d16d-a0c79b657b03"
   },
   "outputs": [
    {
     "data": {
      "text/plain": [
       "array([ 1,  0,  3,  2, -1,  4, 20,  5])"
      ]
     },
     "execution_count": 8,
     "metadata": {},
     "output_type": "execute_result"
    }
   ],
   "source": [
    "data['children'].unique()"
   ]
  },
  {
   "cell_type": "markdown",
   "id": "530ddbb8",
   "metadata": {
    "deletable": false,
    "editable": false,
    "id": "40b9ebf2"
   },
   "source": [
    "**Задание 9. В столбце `children` есть два аномальных значения. Удалите строки, в которых встречаются такие аномальные значения из датафрейма `data`.**"
   ]
  },
  {
   "cell_type": "code",
   "execution_count": 9,
   "id": "f172a34a",
   "metadata": {
    "deletable": false,
    "id": "3ff9801d"
   },
   "outputs": [],
   "source": [
    "data = data[(data['children'] != -1) & (data['children'] != 20)]"
   ]
  },
  {
   "cell_type": "markdown",
   "id": "219735d3",
   "metadata": {
    "deletable": false,
    "editable": false,
    "id": "bbc4d0ce"
   },
   "source": [
    "**Задание 10. Ещё раз выведите перечень уникальных значений столбца `children`, чтобы убедиться, что артефакты удалены.**"
   ]
  },
  {
   "cell_type": "code",
   "execution_count": 10,
   "id": "5696d998",
   "metadata": {
    "deletable": false,
    "id": "ad4fa8b7",
    "outputId": "b2097101-d49d-44d9-901b-32a65c9463d1"
   },
   "outputs": [
    {
     "data": {
      "text/plain": [
       "array([1, 0, 3, 2, 4, 5])"
      ]
     },
     "execution_count": 10,
     "metadata": {},
     "output_type": "execute_result"
    }
   ],
   "source": [
    "data['children'].unique()"
   ]
  },
  {
   "cell_type": "markdown",
   "id": "c1be6efe",
   "metadata": {
    "deletable": false,
    "editable": false,
    "id": "75440b63"
   },
   "source": [
    "### Удаление пропусков (продолжение)"
   ]
  },
  {
   "cell_type": "markdown",
   "id": "07a2730f",
   "metadata": {
    "deletable": false,
    "editable": false,
    "id": "f4ea573f"
   },
   "source": [
    "**Задание 11. Заполните пропуски в столбце `days_employed` медианными значениями по каждого типа занятости `income_type`.**"
   ]
  },
  {
   "cell_type": "code",
   "execution_count": 11,
   "id": "abc7d0cf",
   "metadata": {
    "deletable": false,
    "id": "af6b1a7e"
   },
   "outputs": [],
   "source": [
    "for t in data['income_type'].unique():\n",
    "    data.loc[(data['income_type'] == t) & (data['days_employed'].isna()), 'days_employed'] = \\\n",
    "    data.loc[(data['income_type'] == t), 'days_employed'].median()"
   ]
  },
  {
   "cell_type": "markdown",
   "id": "60cfbb1b",
   "metadata": {
    "deletable": false,
    "editable": false,
    "id": "2753f40d"
   },
   "source": [
    "**Задание 12. Убедитесь, что все пропуски заполнены. Проверьте себя и ещё раз выведите количество пропущенных значений для каждого столбца с помощью двух методов.**"
   ]
  },
  {
   "cell_type": "code",
   "execution_count": 12,
   "id": "4d5ccba2",
   "metadata": {
    "deletable": false,
    "id": "55f78bc2",
    "outputId": "8da1e4e1-358e-4e87-98c9-f261bce0a7b2"
   },
   "outputs": [
    {
     "data": {
      "text/plain": [
       "children            0\n",
       "days_employed       0\n",
       "dob_years           0\n",
       "education           0\n",
       "education_id        0\n",
       "family_status       0\n",
       "family_status_id    0\n",
       "gender              0\n",
       "income_type         0\n",
       "debt                0\n",
       "total_income        0\n",
       "purpose             0\n",
       "dtype: int64"
      ]
     },
     "execution_count": 12,
     "metadata": {},
     "output_type": "execute_result"
    }
   ],
   "source": [
    "data.isna().sum()"
   ]
  },
  {
   "cell_type": "markdown",
   "id": "a81b2b48",
   "metadata": {
    "deletable": false,
    "editable": false,
    "id": "ddc81e43"
   },
   "source": [
    "### Изменение типов данных"
   ]
  },
  {
   "cell_type": "markdown",
   "id": "434e0ff0",
   "metadata": {
    "deletable": false,
    "editable": false,
    "id": "42d19d24"
   },
   "source": [
    "**Задание 13. Замените вещественный тип данных в столбце `total_income` на целочисленный с помощью метода `astype()`.**"
   ]
  },
  {
   "cell_type": "code",
   "execution_count": 13,
   "id": "3646b85d",
   "metadata": {
    "deletable": false,
    "id": "920b65ad"
   },
   "outputs": [],
   "source": [
    "data['total_income'] = data['total_income'].astype(int)"
   ]
  },
  {
   "cell_type": "markdown",
   "id": "763faab0",
   "metadata": {
    "deletable": false,
    "editable": false,
    "id": "80c420ba"
   },
   "source": [
    "### Обработка дубликатов"
   ]
  },
  {
   "cell_type": "markdown",
   "id": "ed71b3ff",
   "metadata": {
    "deletable": false,
    "editable": false
   },
   "source": [
    "**Задание 14. Обработайте неявные дубликаты в столбце `education`. В этом столбце есть одни и те же значения, но записанные по-разному: с использованием заглавных и строчных букв. Приведите их к нижнему регистру. Проверьте остальные столбцы.**"
   ]
  },
  {
   "cell_type": "code",
   "execution_count": 14,
   "id": "94fc26f4",
   "metadata": {
    "deletable": false
   },
   "outputs": [],
   "source": [
    "data['education'] = data['education'].str.lower()"
   ]
  },
  {
   "cell_type": "markdown",
   "id": "05407411",
   "metadata": {
    "deletable": false,
    "editable": false,
    "id": "dc587695"
   },
   "source": [
    "**Задание 15. Выведите на экран количество строк-дубликатов в данных. Если такие строки присутствуют, удалите их.**"
   ]
  },
  {
   "cell_type": "code",
   "execution_count": 15,
   "id": "fae5a300",
   "metadata": {
    "deletable": false,
    "id": "3ee445e4",
    "outputId": "9684deba-1934-42d1-99e1-cda61740f822"
   },
   "outputs": [
    {
     "data": {
      "text/plain": [
       "71"
      ]
     },
     "execution_count": 15,
     "metadata": {},
     "output_type": "execute_result"
    }
   ],
   "source": [
    "data.duplicated().sum()"
   ]
  },
  {
   "cell_type": "code",
   "execution_count": 16,
   "id": "33ab8f31",
   "metadata": {
    "deletable": false,
    "id": "8575fe05"
   },
   "outputs": [],
   "source": [
    "data = data.drop_duplicates()"
   ]
  },
  {
   "cell_type": "markdown",
   "id": "4697e3c3",
   "metadata": {
    "deletable": false,
    "editable": false,
    "id": "9904cf55"
   },
   "source": [
    "### Категоризация данных"
   ]
  },
  {
   "cell_type": "markdown",
   "id": "fa0d66a6",
   "metadata": {
    "deletable": false,
    "editable": false,
    "id": "72fcc8a2"
   },
   "source": [
    "**Задание 16. На основании диапазонов, указанных ниже, создайте в датафрейме `data` столбец `total_income_category` с категориями:**\n",
    "\n",
    "- 0–30000 — `'E'`;\n",
    "- 30001–50000 — `'D'`;\n",
    "- 50001–200000 — `'C'`;\n",
    "- 200001–1000000 — `'B'`;\n",
    "- 1000001 и выше — `'A'`.\n",
    "\n",
    "\n",
    "**Например, кредитополучателю с доходом 25000 нужно назначить категорию `'E'`, а клиенту, получающему 235000, — `'B'`. Используйте собственную функцию с именем `categorize_income()` и метод `apply()`.**"
   ]
  },
  {
   "cell_type": "code",
   "execution_count": 17,
   "id": "578b27a4",
   "metadata": {
    "deletable": false,
    "id": "e1771346"
   },
   "outputs": [],
   "source": [
    "def categorize_income(income):\n",
    "    try:\n",
    "        if 0 <= income <= 30000:\n",
    "            return 'E'\n",
    "        elif 30001 <= income <= 50000:\n",
    "            return 'D'\n",
    "        elif 50001 <= income <= 200000:\n",
    "            return 'C'\n",
    "        elif 200001 <= income <= 1000000:\n",
    "            return 'B'\n",
    "        elif income >= 1000001:\n",
    "            return 'A'\n",
    "    except:\n",
    "        pass"
   ]
  },
  {
   "cell_type": "code",
   "execution_count": 18,
   "id": "05b6b5e7",
   "metadata": {
    "deletable": false,
    "id": "d5f3586d"
   },
   "outputs": [],
   "source": [
    "data['total_income_category'] = data['total_income'].apply(categorize_income)"
   ]
  },
  {
   "cell_type": "markdown",
   "id": "9806bf0b",
   "metadata": {
    "deletable": false,
    "editable": false,
    "id": "dde49b5c"
   },
   "source": [
    "**Задание 17. Выведите на экран перечень уникальных целей взятия кредита из столбца `purpose`.**"
   ]
  },
  {
   "cell_type": "code",
   "execution_count": 19,
   "id": "ad550c43",
   "metadata": {
    "deletable": false,
    "id": "f67ce9b3",
    "outputId": "673c12d9-7d7e-4ae0-9812-c622c89dd244"
   },
   "outputs": [
    {
     "data": {
      "text/plain": [
       "array(['покупка жилья', 'приобретение автомобиля',\n",
       "       'дополнительное образование', 'сыграть свадьбу',\n",
       "       'операции с жильем', 'образование', 'на проведение свадьбы',\n",
       "       'покупка жилья для семьи', 'покупка недвижимости',\n",
       "       'покупка коммерческой недвижимости', 'покупка жилой недвижимости',\n",
       "       'строительство собственной недвижимости', 'недвижимость',\n",
       "       'строительство недвижимости', 'на покупку подержанного автомобиля',\n",
       "       'на покупку своего автомобиля',\n",
       "       'операции с коммерческой недвижимостью',\n",
       "       'строительство жилой недвижимости', 'жилье',\n",
       "       'операции со своей недвижимостью', 'автомобили',\n",
       "       'заняться образованием', 'сделка с подержанным автомобилем',\n",
       "       'получение образования', 'автомобиль', 'свадьба',\n",
       "       'получение дополнительного образования', 'покупка своего жилья',\n",
       "       'операции с недвижимостью', 'получение высшего образования',\n",
       "       'свой автомобиль', 'сделка с автомобилем',\n",
       "       'профильное образование', 'высшее образование',\n",
       "       'покупка жилья для сдачи', 'на покупку автомобиля', 'ремонт жилью',\n",
       "       'заняться высшим образованием'], dtype=object)"
      ]
     },
     "execution_count": 19,
     "metadata": {},
     "output_type": "execute_result"
    }
   ],
   "source": [
    "data['purpose'].unique()"
   ]
  },
  {
   "cell_type": "markdown",
   "id": "6065db04",
   "metadata": {
    "deletable": false,
    "editable": false,
    "id": "85d0aef0"
   },
   "source": [
    "**Задание 18. Создайте функцию, которая на основании данных из столбца `purpose` сформирует новый столбец `purpose_category`, в который войдут следующие категории:**\n",
    "\n",
    "- `'операции с автомобилем'`,\n",
    "- `'операции с недвижимостью'`,\n",
    "- `'проведение свадьбы'`,\n",
    "- `'получение образования'`.\n",
    "\n",
    "**Например, если в столбце `purpose` находится подстрока `'на покупку автомобиля'`, то в столбце `purpose_category` должна появиться строка `'операции с автомобилем'`.**\n",
    "\n",
    "**Используйте собственную функцию с именем `categorize_purpose()` и метод `apply()`. Изучите данные в столбце `purpose` и определите, какие подстроки помогут вам правильно определить категорию.**"
   ]
  },
  {
   "cell_type": "code",
   "execution_count": 20,
   "id": "aa81ed9c",
   "metadata": {
    "deletable": false,
    "id": "e149fab4"
   },
   "outputs": [],
   "source": [
    "def categorize_purpose(row):\n",
    "    try:\n",
    "        if 'автом' in row:\n",
    "            return 'операции с автомобилем'\n",
    "        elif 'жил' in row or 'недвиж' in row:\n",
    "            return 'операции с недвижимостью'\n",
    "        elif 'свад' in row:\n",
    "            return 'проведение свадьбы'\n",
    "        elif 'образов' in row:\n",
    "            return 'получение образования'\n",
    "    except:\n",
    "        return 'нет категории'"
   ]
  },
  {
   "cell_type": "code",
   "execution_count": 21,
   "id": "f15996cc",
   "metadata": {
    "deletable": false,
    "id": "bf36e69b"
   },
   "outputs": [],
   "source": [
    "data['purpose_category'] = data['purpose'].apply(categorize_purpose)"
   ]
  },
  {
   "cell_type": "markdown",
   "id": "52769d42",
   "metadata": {
    "deletable": false,
    "editable": false,
    "id": "09b242bf"
   },
   "source": [
    "### Шаг 3. Исследуйте данные и ответьте на вопросы"
   ]
  },
  {
   "cell_type": "markdown",
   "id": "377d3697",
   "metadata": {},
   "source": [
    "Методика исследования: \n",
    " - группируем заемщиков по интересующему признаку (количеству детей, уровню дохода, семейному положению и т.д.)\n",
    " - определяем долю групп в общем количестве заемщииков\n",
    " - определяем общее количество займов и процент просроченных займов в группах\n",
    " - определяем разницу между максимальным и минимальным процентом просроченных займов в группах    \n",
    " - оцениваем, как соответствие заемщика интересующему признаку влияет на возврат кредита в срок"
   ]
  },
  {
   "cell_type": "markdown",
   "id": "f172556e",
   "metadata": {},
   "source": [
    "Создадим функцию, которая поможет собрать данные и подготовиить их к визуализации."
   ]
  },
  {
   "cell_type": "code",
   "execution_count": 22,
   "id": "00864f2b",
   "metadata": {},
   "outputs": [],
   "source": [
    "#ПАРАМЕТРЫ: \n",
    "# data - DataFrame с исходными данными, \n",
    "# col_to_groupby - строка с названием колонки для группировки заемщиков,\n",
    "# col_to_groupby_alias - строка с названием колонки групп заемщиков для визуализации в форме таблицы\n",
    "#ВОЗВРАЩАЕТ: DataFrame для визуализации с данными о\n",
    "# группе заемщиков (колонка col_to_groupby_alias),\n",
    "# количеством займов в группе (колонка 'Займов(шт)')\n",
    "# процент просроченных займов в группе (колонка 'Просрочено(%)')\n",
    "def prepare_dataset(data, col_to_groupby, col_to_groupby_alias):\n",
    "    #группируем заемщиков по col_to_groupby, считаем общее количество займов и количество просроченных займов в группах\n",
    "    data_grouped = data.groupby(col_to_groupby)['debt'].agg(['count', 'sum'])\n",
    "    #считаем процент просроченных займов с точностью до 2 знаков после запятой и записываем данные в новый столбец 'ratio' \n",
    "    data_grouped['ratio'] = round(data_grouped['sum'] / data_grouped['count'] * 100, 2) \n",
    "    #сортируем DataFrame по возрастанию значений колонки ratio, индексируем\n",
    "    data_grouped = data_grouped.sort_values('ratio')\n",
    "    data_grouped = data_grouped.reset_index()\n",
    "    #удаляем лишние колонки и переименовываем оставшиеся, чтобы облегчить восприятие табличных данных и построить диаграммы \n",
    "    data_grouped = data_grouped.loc[:, [col_to_groupby, 'count', 'ratio']]\n",
    "    aliases = {col_to_groupby : col_to_groupby_alias, 'count' : 'Займов(шт)', 'ratio' : 'Просрочено(%)'}\n",
    "    data_grouped = data_grouped.rename(columns=aliases) \n",
    "    return data_grouped    "
   ]
  },
  {
   "cell_type": "markdown",
   "id": "c2a2584a",
   "metadata": {
    "deletable": false,
    "editable": false,
    "id": "c5d66278"
   },
   "source": [
    "#### 3.1 Есть ли зависимость между количеством детей и возвратом кредита в срок?"
   ]
  },
  {
   "cell_type": "markdown",
   "id": "0650f5c6",
   "metadata": {},
   "source": [
    "Визуализируем данные о заемщиках в форме таблицы."
   ]
  },
  {
   "cell_type": "code",
   "execution_count": 23,
   "id": "8d588ed5",
   "metadata": {},
   "outputs": [
    {
     "data": {
      "text/html": [
       "<div>\n",
       "<style scoped>\n",
       "    .dataframe tbody tr th:only-of-type {\n",
       "        vertical-align: middle;\n",
       "    }\n",
       "\n",
       "    .dataframe tbody tr th {\n",
       "        vertical-align: top;\n",
       "    }\n",
       "\n",
       "    .dataframe thead th {\n",
       "        text-align: right;\n",
       "    }\n",
       "</style>\n",
       "<table border=\"1\" class=\"dataframe\">\n",
       "  <thead>\n",
       "    <tr style=\"text-align: right;\">\n",
       "      <th></th>\n",
       "      <th>Детей(чел)</th>\n",
       "      <th>Займов(шт)</th>\n",
       "      <th>Просрочено(%)</th>\n",
       "    </tr>\n",
       "  </thead>\n",
       "  <tbody>\n",
       "    <tr>\n",
       "      <th>0</th>\n",
       "      <td>5</td>\n",
       "      <td>9</td>\n",
       "      <td>0.00</td>\n",
       "    </tr>\n",
       "    <tr>\n",
       "      <th>1</th>\n",
       "      <td>0</td>\n",
       "      <td>14091</td>\n",
       "      <td>7.54</td>\n",
       "    </tr>\n",
       "    <tr>\n",
       "      <th>2</th>\n",
       "      <td>3</td>\n",
       "      <td>330</td>\n",
       "      <td>8.18</td>\n",
       "    </tr>\n",
       "    <tr>\n",
       "      <th>3</th>\n",
       "      <td>1</td>\n",
       "      <td>4808</td>\n",
       "      <td>9.23</td>\n",
       "    </tr>\n",
       "    <tr>\n",
       "      <th>4</th>\n",
       "      <td>2</td>\n",
       "      <td>2052</td>\n",
       "      <td>9.45</td>\n",
       "    </tr>\n",
       "    <tr>\n",
       "      <th>5</th>\n",
       "      <td>4</td>\n",
       "      <td>41</td>\n",
       "      <td>9.76</td>\n",
       "    </tr>\n",
       "  </tbody>\n",
       "</table>\n",
       "</div>"
      ],
      "text/plain": [
       "   Детей(чел)  Займов(шт)  Просрочено(%)\n",
       "0           5           9           0.00\n",
       "1           0       14091           7.54\n",
       "2           3         330           8.18\n",
       "3           1        4808           9.23\n",
       "4           2        2052           9.45\n",
       "5           4          41           9.76"
      ]
     },
     "execution_count": 23,
     "metadata": {},
     "output_type": "execute_result"
    }
   ],
   "source": [
    "debt_by_children = prepare_dataset(data, 'children', 'Детей(чел)')\n",
    "debt_by_children"
   ]
  },
  {
   "cell_type": "markdown",
   "id": "46b86023",
   "metadata": {},
   "source": [
    "Количество наблюдений в группах заемщиков с 4 и 5 детьми (41 и 9 соответственно) мало, общая доля этих групп не превышает 1%. Вероятно, собрав доплнительную статистику для данных групп, мы сможем учесть их в исследовании. До тех пор сформируем группу многодетных заемщиков с количеством детей от 3, а также введем новые категории: бездетный(ая), 1 ребенок, 2 ребенка, многодетный(ая)."
   ]
  },
  {
   "cell_type": "code",
   "execution_count": 24,
   "id": "2f58b89b",
   "metadata": {},
   "outputs": [
    {
     "data": {
      "text/html": [
       "<div>\n",
       "<style scoped>\n",
       "    .dataframe tbody tr th:only-of-type {\n",
       "        vertical-align: middle;\n",
       "    }\n",
       "\n",
       "    .dataframe tbody tr th {\n",
       "        vertical-align: top;\n",
       "    }\n",
       "\n",
       "    .dataframe thead th {\n",
       "        text-align: right;\n",
       "    }\n",
       "</style>\n",
       "<table border=\"1\" class=\"dataframe\">\n",
       "  <thead>\n",
       "    <tr style=\"text-align: right;\">\n",
       "      <th></th>\n",
       "      <th>Категория</th>\n",
       "      <th>Займов(шт)</th>\n",
       "      <th>Просрочено(%)</th>\n",
       "    </tr>\n",
       "  </thead>\n",
       "  <tbody>\n",
       "    <tr>\n",
       "      <th>0</th>\n",
       "      <td>бездетный(ая)</td>\n",
       "      <td>14091</td>\n",
       "      <td>7.54</td>\n",
       "    </tr>\n",
       "    <tr>\n",
       "      <th>1</th>\n",
       "      <td>многодетный(ая)</td>\n",
       "      <td>380</td>\n",
       "      <td>8.16</td>\n",
       "    </tr>\n",
       "    <tr>\n",
       "      <th>2</th>\n",
       "      <td>1 ребенок</td>\n",
       "      <td>4808</td>\n",
       "      <td>9.23</td>\n",
       "    </tr>\n",
       "    <tr>\n",
       "      <th>3</th>\n",
       "      <td>2 ребенка</td>\n",
       "      <td>2052</td>\n",
       "      <td>9.45</td>\n",
       "    </tr>\n",
       "  </tbody>\n",
       "</table>\n",
       "</div>"
      ],
      "text/plain": [
       "         Категория  Займов(шт)  Просрочено(%)\n",
       "0    бездетный(ая)       14091           7.54\n",
       "1  многодетный(ая)         380           8.16\n",
       "2        1 ребенок        4808           9.23\n",
       "3        2 ребенка        2052           9.45"
      ]
     },
     "execution_count": 24,
     "metadata": {},
     "output_type": "execute_result"
    }
   ],
   "source": [
    "def categorize_children_number(children_number):\n",
    "    try:\n",
    "        if children_number == 0:\n",
    "            return 'бездетный(ая)'\n",
    "        elif children_number == 1:\n",
    "            return '1 ребенок'\n",
    "        elif children_number == 2:\n",
    "            return '2 ребенка'\n",
    "        elif children_number >= 3:\n",
    "            return 'многодетный(ая)'\n",
    "        else:\n",
    "            return 'нет категории'\n",
    "    except:\n",
    "        return 'нет категории'\n",
    "\n",
    "data['children_category'] = data['children'].apply(categorize_children_number)\n",
    "debt_by_children = prepare_dataset(data, 'children_category', 'Категория')\n",
    "debt_by_children"
   ]
  },
  {
   "cell_type": "markdown",
   "id": "f512e5b1",
   "metadata": {},
   "source": [
    "Соответствие количества детей проценту просроченных займов покажем на столбчатой диаграмме."
   ]
  },
  {
   "cell_type": "code",
   "execution_count": 25,
   "id": "1e1fc1e9",
   "metadata": {
    "deletable": false,
    "id": "2cacfc4a"
   },
   "outputs": [
    {
     "data": {
      "image/png": "[encoded data removed]",
      "text/plain": [
       "<Figure size 432x288 with 1 Axes>"
      ]
     },
     "metadata": {
      "needs_background": "light"
     },
     "output_type": "display_data"
    }
   ],
   "source": [
    "import seaborn as sns\n",
    "plot = sns.barplot(data=debt_by_children, x='Просрочено(%)', y='Категория')"
   ]
  },
  {
   "cell_type": "markdown",
   "id": "bacee6d4",
   "metadata": {},
   "source": [
    "Долю каждой группы в общей массе заемщиков покажем на круговой диаграмме."
   ]
  },
  {
   "cell_type": "code",
   "execution_count": 26,
   "id": "212b5e88",
   "metadata": {},
   "outputs": [
    {
     "data": {
      "image/png": "[encoded data removed]",
      "text/plain": [
       "<Figure size 432x288 with 1 Axes>"
      ]
     },
     "metadata": {},
     "output_type": "display_data"
    }
   ],
   "source": [
    "import matplotlib.pyplot as plt\n",
    "plt.pie(debt_by_children['Займов(шт)'], labels=debt_by_children['Категория'], autopct='%.2f%%')\n",
    "plt.show()"
   ]
  },
  {
   "cell_type": "markdown",
   "id": "be0e437d",
   "metadata": {
    "deletable": false,
    "id": "3a6b99ec"
   },
   "source": [
    "**Вывод:**  \n",
    "Бездетная группа показывает минимальный процент просроченных кредитов (7.54%), составляя при этом основную массу заемщиков (66,06%). Максимальный процент просроченных кредитов (9.45%) - в группе с 2 детьми (9.62% от всех заемщиков). Между ними (в порядке возрастания процента просроченных кредитов) располагаются группы \"многодетный(ая)\" и \"1 ребенок\" (8.16% и 9.23% соответственно).  \n",
    "Разница максимального (в группе с 2 детьми) и минимального (в бездетной группе) процента просроченных кредитов составляет всего 1.91%. Т.о., влияние количества детей на возврат кредита в срок сложно назвать существенным. Иначе говоря, заемщики с разным количеством детей имеют почти одинаковый процент просроченных кредитов. "
   ]
  },
  {
   "cell_type": "markdown",
   "id": "3d5ec335",
   "metadata": {
    "deletable": false,
    "editable": false,
    "id": "97be82ca"
   },
   "source": [
    "#### 3.2 Есть ли зависимость между семейным положением и возвратом кредита в срок?"
   ]
  },
  {
   "cell_type": "markdown",
   "id": "ce5d1555",
   "metadata": {
    "deletable": false,
    "id": "dc3f7ee8"
   },
   "source": [
    "Визуализируем данные о заемщиках в форме таблицы."
   ]
  },
  {
   "cell_type": "code",
   "execution_count": 27,
   "id": "fdc4cd68",
   "metadata": {},
   "outputs": [
    {
     "data": {
      "text/html": [
       "<div>\n",
       "<style scoped>\n",
       "    .dataframe tbody tr th:only-of-type {\n",
       "        vertical-align: middle;\n",
       "    }\n",
       "\n",
       "    .dataframe tbody tr th {\n",
       "        vertical-align: top;\n",
       "    }\n",
       "\n",
       "    .dataframe thead th {\n",
       "        text-align: right;\n",
       "    }\n",
       "</style>\n",
       "<table border=\"1\" class=\"dataframe\">\n",
       "  <thead>\n",
       "    <tr style=\"text-align: right;\">\n",
       "      <th></th>\n",
       "      <th>Статус</th>\n",
       "      <th>Займов(шт)</th>\n",
       "      <th>Просрочено(%)</th>\n",
       "    </tr>\n",
       "  </thead>\n",
       "  <tbody>\n",
       "    <tr>\n",
       "      <th>0</th>\n",
       "      <td>вдовец / вдова</td>\n",
       "      <td>951</td>\n",
       "      <td>6.62</td>\n",
       "    </tr>\n",
       "    <tr>\n",
       "      <th>1</th>\n",
       "      <td>в разводе</td>\n",
       "      <td>1189</td>\n",
       "      <td>7.06</td>\n",
       "    </tr>\n",
       "    <tr>\n",
       "      <th>2</th>\n",
       "      <td>женат / замужем</td>\n",
       "      <td>12261</td>\n",
       "      <td>7.56</td>\n",
       "    </tr>\n",
       "    <tr>\n",
       "      <th>3</th>\n",
       "      <td>гражданский брак</td>\n",
       "      <td>4134</td>\n",
       "      <td>9.31</td>\n",
       "    </tr>\n",
       "    <tr>\n",
       "      <th>4</th>\n",
       "      <td>Не женат / не замужем</td>\n",
       "      <td>2796</td>\n",
       "      <td>9.76</td>\n",
       "    </tr>\n",
       "  </tbody>\n",
       "</table>\n",
       "</div>"
      ],
      "text/plain": [
       "                  Статус  Займов(шт)  Просрочено(%)\n",
       "0         вдовец / вдова         951           6.62\n",
       "1              в разводе        1189           7.06\n",
       "2        женат / замужем       12261           7.56\n",
       "3       гражданский брак        4134           9.31\n",
       "4  Не женат / не замужем        2796           9.76"
      ]
     },
     "execution_count": 27,
     "metadata": {},
     "output_type": "execute_result"
    }
   ],
   "source": [
    "debt_by_family_status = prepare_dataset(data, 'family_status', 'Статус')\n",
    "debt_by_family_status"
   ]
  },
  {
   "cell_type": "markdown",
   "id": "64c02826",
   "metadata": {},
   "source": [
    " Соответствие семейного статуса проценту просроченных займов покажем на столбчатой диаграмме."
   ]
  },
  {
   "cell_type": "code",
   "execution_count": 28,
   "id": "c7c16ecc",
   "metadata": {},
   "outputs": [
    {
     "data": {
      "image/png": "[encoded data removed]",
      "text/plain": [
       "<Figure size 432x288 with 1 Axes>"
      ]
     },
     "metadata": {
      "needs_background": "light"
     },
     "output_type": "display_data"
    }
   ],
   "source": [
    "plot = sns.barplot(data=debt_by_family_status, x='Просрочено(%)', y='Статус')"
   ]
  },
  {
   "cell_type": "markdown",
   "id": "019fd80e",
   "metadata": {
    "id": "2cacfc4a"
   },
   "source": [
    "Долю каждой группы в общей массе заемщиков покажем на круговой диаграмме."
   ]
  },
  {
   "cell_type": "code",
   "execution_count": 29,
   "id": "dc9377bc",
   "metadata": {},
   "outputs": [
    {
     "data": {
      "image/png": "[encoded data removed]",
      "text/plain": [
       "<Figure size 432x288 with 1 Axes>"
      ]
     },
     "metadata": {},
     "output_type": "display_data"
    }
   ],
   "source": [
    "plt.pie(debt_by_family_status['Займов(шт)'], labels=debt_by_family_status['Статус'], autopct='%.2f%%')\n",
    "plt.show()"
   ]
  },
  {
   "cell_type": "markdown",
   "id": "9e5446b5",
   "metadata": {
    "deletable": false,
    "id": "1cef7837"
   },
   "source": [
    "**Вывод**  \n",
    "Заемщики, состоящие или состоявшие в официальном браке (группы \"вдовец / вдова\", \"в разводе\", \"женат / замужем\"), показывают более низкий процент просроченных кредитов (6.62%, 7.06%, 7.56% соответственно). Разница по этому показателю между группами не превышает 1%. Также заемщики этих групп составляют большинство (67.51%).  \n",
    "\n",
    "Заемщики, не состоявшие в официальном браке (группы \"гражданский брак\" и \"не женат / не замужем\"), показывают более выоский процент просроченных кредитов (9.31% и 9.76% соответственно) и практически не отличаются по данному показателю. Данные группы составляют значимые доли среди всех заемщиков: 19.38% и 13.11% соответственно.  \n",
    "\n",
    "Разница между максимальным (в группе \"не женат / не замужем\") и минимальным (в группе \"вдовец / вдова\") процентом просроченных кредитов составляет 3.14%. Т.о., можно сказать что в сравнении и количеством детей, семейный статус заемщика оказывает более заметное влияние на возврат кредитов в срок. Однако, по-прежнему сложно назвать такое влияние сильным."
   ]
  },
  {
   "cell_type": "markdown",
   "id": "604392b8",
   "metadata": {
    "deletable": false,
    "editable": false,
    "id": "1e8b2fca"
   },
   "source": [
    "#### 3.3 Есть ли зависимость между уровнем дохода и возвратом кредита в срок?"
   ]
  },
  {
   "cell_type": "markdown",
   "id": "81a31680",
   "metadata": {
    "deletable": false,
    "id": "cd7e3720"
   },
   "source": [
    "Визуализируем данные о заемщиках в форме таблицы."
   ]
  },
  {
   "cell_type": "code",
   "execution_count": 30,
   "id": "d661120d",
   "metadata": {},
   "outputs": [
    {
     "data": {
      "text/html": [
       "<div>\n",
       "<style scoped>\n",
       "    .dataframe tbody tr th:only-of-type {\n",
       "        vertical-align: middle;\n",
       "    }\n",
       "\n",
       "    .dataframe tbody tr th {\n",
       "        vertical-align: top;\n",
       "    }\n",
       "\n",
       "    .dataframe thead th {\n",
       "        text-align: right;\n",
       "    }\n",
       "</style>\n",
       "<table border=\"1\" class=\"dataframe\">\n",
       "  <thead>\n",
       "    <tr style=\"text-align: right;\">\n",
       "      <th></th>\n",
       "      <th>Категория</th>\n",
       "      <th>Займов(шт)</th>\n",
       "      <th>Просрочено(%)</th>\n",
       "    </tr>\n",
       "  </thead>\n",
       "  <tbody>\n",
       "    <tr>\n",
       "      <th>0</th>\n",
       "      <td>D</td>\n",
       "      <td>349</td>\n",
       "      <td>6.02</td>\n",
       "    </tr>\n",
       "    <tr>\n",
       "      <th>1</th>\n",
       "      <td>B</td>\n",
       "      <td>5014</td>\n",
       "      <td>7.06</td>\n",
       "    </tr>\n",
       "    <tr>\n",
       "      <th>2</th>\n",
       "      <td>A</td>\n",
       "      <td>25</td>\n",
       "      <td>8.00</td>\n",
       "    </tr>\n",
       "    <tr>\n",
       "      <th>3</th>\n",
       "      <td>C</td>\n",
       "      <td>15921</td>\n",
       "      <td>8.50</td>\n",
       "    </tr>\n",
       "    <tr>\n",
       "      <th>4</th>\n",
       "      <td>E</td>\n",
       "      <td>22</td>\n",
       "      <td>9.09</td>\n",
       "    </tr>\n",
       "  </tbody>\n",
       "</table>\n",
       "</div>"
      ],
      "text/plain": [
       "  Категория  Займов(шт)  Просрочено(%)\n",
       "0         D         349           6.02\n",
       "1         B        5014           7.06\n",
       "2         A          25           8.00\n",
       "3         C       15921           8.50\n",
       "4         E          22           9.09"
      ]
     },
     "execution_count": 30,
     "metadata": {},
     "output_type": "execute_result"
    }
   ],
   "source": [
    "debt_by_income_cat = prepare_dataset(data, 'total_income_category', 'Категория')\n",
    "debt_by_income_cat"
   ]
  },
  {
   "cell_type": "markdown",
   "id": "f2dc7f93",
   "metadata": {},
   "source": [
    "Количество наблюдений в группах заемщиков \"A\" и \"E\" (25 и 22 соответственно) мало, общая доля этих групп не превышает 1%. Вероятно, собрав доплнительную статистику для данных групп, мы сможем учесть их в исследовании. До тех пор переформулируем категории заемщиков следующим образом: \"A (более 500000)\", \"B (до 500000)\", \"C (до 200000)\", \"D (до 50000)\". \n",
    "\n",
    "Для этого переопределим функцию `categorize_income` и применим ее к данным."
   ]
  },
  {
   "cell_type": "code",
   "execution_count": 31,
   "id": "26edd9e2",
   "metadata": {},
   "outputs": [
    {
     "data": {
      "text/html": [
       "<div>\n",
       "<style scoped>\n",
       "    .dataframe tbody tr th:only-of-type {\n",
       "        vertical-align: middle;\n",
       "    }\n",
       "\n",
       "    .dataframe tbody tr th {\n",
       "        vertical-align: top;\n",
       "    }\n",
       "\n",
       "    .dataframe thead th {\n",
       "        text-align: right;\n",
       "    }\n",
       "</style>\n",
       "<table border=\"1\" class=\"dataframe\">\n",
       "  <thead>\n",
       "    <tr style=\"text-align: right;\">\n",
       "      <th></th>\n",
       "      <th>Категория</th>\n",
       "      <th>Займов(шт)</th>\n",
       "      <th>Просрочено(%)</th>\n",
       "    </tr>\n",
       "  </thead>\n",
       "  <tbody>\n",
       "    <tr>\n",
       "      <th>0</th>\n",
       "      <td>D (до 50000)</td>\n",
       "      <td>371</td>\n",
       "      <td>6.20</td>\n",
       "    </tr>\n",
       "    <tr>\n",
       "      <th>1</th>\n",
       "      <td>A (более 500000)</td>\n",
       "      <td>222</td>\n",
       "      <td>6.31</td>\n",
       "    </tr>\n",
       "    <tr>\n",
       "      <th>2</th>\n",
       "      <td>B (до 500000)</td>\n",
       "      <td>4817</td>\n",
       "      <td>7.10</td>\n",
       "    </tr>\n",
       "    <tr>\n",
       "      <th>3</th>\n",
       "      <td>C (до 200000)</td>\n",
       "      <td>15921</td>\n",
       "      <td>8.50</td>\n",
       "    </tr>\n",
       "  </tbody>\n",
       "</table>\n",
       "</div>"
      ],
      "text/plain": [
       "          Категория  Займов(шт)  Просрочено(%)\n",
       "0      D (до 50000)         371           6.20\n",
       "1  A (более 500000)         222           6.31\n",
       "2     B (до 500000)        4817           7.10\n",
       "3     C (до 200000)       15921           8.50"
      ]
     },
     "execution_count": 31,
     "metadata": {},
     "output_type": "execute_result"
    }
   ],
   "source": [
    "def categorize_income(income):\n",
    "    try:\n",
    "        if 0 <= income <= 50000:\n",
    "            return 'D (до 50000)'\n",
    "        elif 50001 <= income <= 200000:\n",
    "            return 'C (до 200000)'\n",
    "        elif 200001 <= income <= 500000:\n",
    "            return 'B (до 500000)'\n",
    "        elif income >= 500001:\n",
    "            return 'A (более 500000)'\n",
    "    except:\n",
    "        pass\n",
    "data['total_income_category'] = data['total_income'].apply(categorize_income)\n",
    "debt_by_income_cat = prepare_dataset(data, 'total_income_category', 'Категория')\n",
    "debt_by_income_cat"
   ]
  },
  {
   "cell_type": "markdown",
   "id": "4d5707c0",
   "metadata": {},
   "source": [
    " Соответствие категории дохода проценту просроченных займов покажем на столбчатой диаграмме."
   ]
  },
  {
   "cell_type": "code",
   "execution_count": 32,
   "id": "c9b6462a",
   "metadata": {
    "scrolled": true
   },
   "outputs": [
    {
     "data": {
      "image/png": "[encoded data removed]",
      "text/plain": [
       "<Figure size 432x288 with 1 Axes>"
      ]
     },
     "metadata": {
      "needs_background": "light"
     },
     "output_type": "display_data"
    }
   ],
   "source": [
    "plot = sns.barplot(data=debt_by_income_cat, x='Просрочено(%)', y='Категория')"
   ]
  },
  {
   "cell_type": "markdown",
   "id": "1345549b",
   "metadata": {
    "id": "2cacfc4a"
   },
   "source": [
    "Долю каждой группы в общей массе заемщиков покажем на круговой диаграмме."
   ]
  },
  {
   "cell_type": "code",
   "execution_count": 33,
   "id": "f4409ee6",
   "metadata": {},
   "outputs": [
    {
     "data": {
      "image/png": "[encoded data removed]",
      "text/plain": [
       "<Figure size 432x288 with 1 Axes>"
      ]
     },
     "metadata": {},
     "output_type": "display_data"
    }
   ],
   "source": [
    "plt.pie(debt_by_income_cat['Займов(шт)'], labels=debt_by_income_cat['Категория'], autopct='%.2f%%')\n",
    "plt.show()"
   ]
  },
  {
   "cell_type": "markdown",
   "id": "c34dd52c",
   "metadata": {
    "deletable": false,
    "id": "e8593def"
   },
   "source": [
    "**Вывод**  \n",
    "Наименее обеспеченные (группа \"D (до 50000)\") и наиболее обеспеченные (группа \"A (более 500000)\") заемщики показывают самый низкий процент просроченных кредитов (6.20% и 6.31% соответственно), составляя при этом минималные доли среди общего числа заемщиков (1.74% и 1.04% соответственно). \n",
    "\n",
    "Основная масса заемщиков (группа C \"(до 200000)\", 74.64%) имеет максимальный процент просроченных кредитов: 8.50%.  \n",
    "\n",
    "Группа \"B (до 500000)\", вторая по численности (22.58% от всех заемщиков), показывает средний процент просроченных кредитов: 7.10%.  \n",
    "\n",
    "Разница между максимальным (группа C \"(до 200000)\") и минимальным (группа \"D (до 50000)\") процентом просроченных кредитов составляет 2.3%. Т.о., зависимость между уровнем дохода и возвратом кредита в срок прослеживается слабо. Иначе говоря, заемщики с самым разным доходом имеют приблизительно одинаковый шанс просрочить кредит."
   ]
  },
  {
   "cell_type": "markdown",
   "id": "753f5ed7",
   "metadata": {
    "deletable": false,
    "editable": false,
    "id": "99ecbd1f"
   },
   "source": [
    "#### 3.4 Как разные цели кредита влияют на его возврат в срок?"
   ]
  },
  {
   "cell_type": "markdown",
   "id": "7c8d4474",
   "metadata": {
    "deletable": false,
    "id": "2b687290"
   },
   "source": [
    "Визуализируем данные о заемщиках в форме таблицы."
   ]
  },
  {
   "cell_type": "code",
   "execution_count": 34,
   "id": "937ceb22",
   "metadata": {},
   "outputs": [
    {
     "data": {
      "text/html": [
       "<div>\n",
       "<style scoped>\n",
       "    .dataframe tbody tr th:only-of-type {\n",
       "        vertical-align: middle;\n",
       "    }\n",
       "\n",
       "    .dataframe tbody tr th {\n",
       "        vertical-align: top;\n",
       "    }\n",
       "\n",
       "    .dataframe thead th {\n",
       "        text-align: right;\n",
       "    }\n",
       "</style>\n",
       "<table border=\"1\" class=\"dataframe\">\n",
       "  <thead>\n",
       "    <tr style=\"text-align: right;\">\n",
       "      <th></th>\n",
       "      <th>Цель</th>\n",
       "      <th>Займов(шт)</th>\n",
       "      <th>Просрочено(%)</th>\n",
       "    </tr>\n",
       "  </thead>\n",
       "  <tbody>\n",
       "    <tr>\n",
       "      <th>0</th>\n",
       "      <td>операции с недвижимостью</td>\n",
       "      <td>10751</td>\n",
       "      <td>7.26</td>\n",
       "    </tr>\n",
       "    <tr>\n",
       "      <th>1</th>\n",
       "      <td>проведение свадьбы</td>\n",
       "      <td>2313</td>\n",
       "      <td>7.91</td>\n",
       "    </tr>\n",
       "    <tr>\n",
       "      <th>2</th>\n",
       "      <td>получение образования</td>\n",
       "      <td>3988</td>\n",
       "      <td>9.25</td>\n",
       "    </tr>\n",
       "    <tr>\n",
       "      <th>3</th>\n",
       "      <td>операции с автомобилем</td>\n",
       "      <td>4279</td>\n",
       "      <td>9.35</td>\n",
       "    </tr>\n",
       "  </tbody>\n",
       "</table>\n",
       "</div>"
      ],
      "text/plain": [
       "                       Цель  Займов(шт)  Просрочено(%)\n",
       "0  операции с недвижимостью       10751           7.26\n",
       "1        проведение свадьбы        2313           7.91\n",
       "2     получение образования        3988           9.25\n",
       "3    операции с автомобилем        4279           9.35"
      ]
     },
     "execution_count": 34,
     "metadata": {},
     "output_type": "execute_result"
    }
   ],
   "source": [
    "debt_by_purpose = prepare_dataset(data, 'purpose_category', 'Цель')\n",
    "debt_by_purpose"
   ]
  },
  {
   "cell_type": "markdown",
   "id": "874d63f5",
   "metadata": {},
   "source": [
    " Соответствие цели кредита проценту просроченных займов покажем на столбчатой диаграмме."
   ]
  },
  {
   "cell_type": "code",
   "execution_count": 35,
   "id": "b5731f51",
   "metadata": {},
   "outputs": [
    {
     "data": {
      "image/png": "[encoded data removed]",
      "text/plain": [
       "<Figure size 432x288 with 1 Axes>"
      ]
     },
     "metadata": {
      "needs_background": "light"
     },
     "output_type": "display_data"
    }
   ],
   "source": [
    "plot = sns.barplot(data=debt_by_purpose, x='Просрочено(%)', y='Цель')"
   ]
  },
  {
   "cell_type": "markdown",
   "id": "84e15d9c",
   "metadata": {
    "id": "2cacfc4a"
   },
   "source": [
    "Каждая группа заемщиков составляет значимую долю в общей массе. Покажем это на круговой диаграмме."
   ]
  },
  {
   "cell_type": "code",
   "execution_count": 36,
   "id": "bfccb87c",
   "metadata": {},
   "outputs": [
    {
     "data": {
      "image/png": "[encoded data removed]",
      "text/plain": [
       "<Figure size 432x288 with 1 Axes>"
      ]
     },
     "metadata": {},
     "output_type": "display_data"
    }
   ],
   "source": [
    "plt.pie(debt_by_purpose['Займов(шт)'], labels=debt_by_purpose['Цель'], autopct='%.2f%%')\n",
    "plt.show()"
   ]
  },
  {
   "cell_type": "markdown",
   "id": "daea92f9",
   "metadata": {
    "deletable": false,
    "id": "b4bb2ce6"
   },
   "source": [
    "**Вывод**  \n",
    "Заемщики, берущие кредит на операции с недвижимостью или проведение свадьбы, показывают более низкий процент просроченных кредитов (7.26% и 7.91% соответственно) и мало отличаются по данному показателю. При этом займы на операции с недвижимостью составляют большинство (50.40%).  \n",
    "\n",
    "Заемщики из групп \"получение образования\" и \"операции с автомобилем\" имеют больше просроченных кредитов (9.25% и \n",
    "9.35% соответственно), практически не отличаясь по данному показателю. Данные группы составляют значимые доли среди всех заемщиков: 18.70% и 20.06% соответственно.  \n",
    "\n",
    "Разница между максимальным (в группе \"операции с автомобилем\") и минимальным (в группе \"операции с недвижимостью\") процентом просроченных кредитов составляет 2.09%. Строго говоря, цель кредита оказывает влияние на его возврат в срок, но такое влияние, по-прежнему, нельзя назвать существенным."
   ]
  },
  {
   "cell_type": "markdown",
   "id": "82d7d823",
   "metadata": {
    "deletable": false,
    "editable": false,
    "id": "09c3ac4c"
   },
   "source": [
    "#### 3.5 Приведите возможные причины появления пропусков в исходных данных."
   ]
  },
  {
   "cell_type": "markdown",
   "id": "8d86f117",
   "metadata": {
    "deletable": false,
    "id": "9da2ceda"
   },
   "source": [
    "*Ответ:*  \n",
    "пропуски наблюдались в столбцах `days_employed` (общий трудовой стаж в днях) и `total_income` (ежемесячный доход). При этом они всегда присутствовали вместе и никогда - по одиночке. Т.е., если `days_employed` = NaN, то и `total_income` = NaN, и наоборот. В датасете было 2174 строки с такими пропусками. Учитывая, что столбец `days_employed` изначально был заполнен аномальными значениями (см. п.2.2 исследования), можно предположить ошибку обработки данных на этапе выгрузки."
   ]
  },
  {
   "cell_type": "markdown",
   "id": "344938b2",
   "metadata": {
    "deletable": false,
    "editable": false,
    "id": "7b0487d6"
   },
   "source": [
    "#### 3.6 Объясните, почему заполнить пропуски медианным значением — лучшее решение для количественных переменных."
   ]
  },
  {
   "cell_type": "markdown",
   "id": "c3eceb2f",
   "metadata": {
    "deletable": false,
    "id": "7ecf2b8e"
   },
   "source": [
    "*Ответ:*  \n",
    "в наборах количественных переменных часто встречаются несколько экземпляров с экстремально низикими или высокими значениями. При расчете среднего арифметического такие экземпляры значительно смещают его вниз или вверх соответственно. Медианное же значение делит весь набор переменных на две равновесные части, и, в этом смысле, является меньшим из зол."
   ]
  },
  {
   "cell_type": "markdown",
   "id": "7c7b6c92",
   "metadata": {
    "deletable": false,
    "editable": false,
    "id": "6db5255a"
   },
   "source": [
    "### Шаг 4: общий вывод."
   ]
  },
  {
   "cell_type": "markdown",
   "id": "cd2823cb",
   "metadata": {
    "deletable": false,
    "id": "bad65432"
   },
   "source": [
    "В данном исследовании мы определяли влияние характеристик заемщиков (количества детей, семейного положения, уровня дохода и цели получения кредита) на возврат кредита в срок. Для оценки использовали процент просроченных кредитов и разницу между максимальным и минимальным процентом просроченных кредитов, рассчитанные для разных групп заемщиков в рамках одной характеристики (например, уровня дохода).\n",
    "\n",
    "Разница между максимальным и минимальным процентом просроченных кредитов для заемщиков, сгруппированных по: \n",
    " - количеству детей - 1.91%\n",
    " - цели кредитования - 2.09%\n",
    " - уровню дохода - 2.3%\n",
    " - семейному положению - 3.14%\n",
    " \n",
    "Чем больше разница между максимальным и минимальным процентом просроченных кредитов в рамках одной характеристики заемщиков, тем сильнее эта характеристика влияет на возврат кредита в срок. Как видно, на фоне прочих характеристик, семейное положение больше влияет на возврат кредита в срок. Однако, можно ли назвать такое влияние существенным? Попробуем оценить разницу между максимальным и минимальным процентом просроченных кредитов, сгруппировав заемщиков по оставшимся характеристикам. "
   ]
  },
  {
   "cell_type": "markdown",
   "id": "7212b0d7",
   "metadata": {},
   "source": [
    "**Образованию**"
   ]
  },
  {
   "cell_type": "code",
   "execution_count": 37,
   "id": "4886313c",
   "metadata": {},
   "outputs": [
    {
     "data": {
      "text/html": [
       "<div>\n",
       "<style scoped>\n",
       "    .dataframe tbody tr th:only-of-type {\n",
       "        vertical-align: middle;\n",
       "    }\n",
       "\n",
       "    .dataframe tbody tr th {\n",
       "        vertical-align: top;\n",
       "    }\n",
       "\n",
       "    .dataframe thead th {\n",
       "        text-align: right;\n",
       "    }\n",
       "</style>\n",
       "<table border=\"1\" class=\"dataframe\">\n",
       "  <thead>\n",
       "    <tr style=\"text-align: right;\">\n",
       "      <th></th>\n",
       "      <th>Образование</th>\n",
       "      <th>Займов(шт)</th>\n",
       "      <th>Просрочено(%)</th>\n",
       "    </tr>\n",
       "  </thead>\n",
       "  <tbody>\n",
       "    <tr>\n",
       "      <th>0</th>\n",
       "      <td>ученая степень</td>\n",
       "      <td>6</td>\n",
       "      <td>0.00</td>\n",
       "    </tr>\n",
       "    <tr>\n",
       "      <th>1</th>\n",
       "      <td>высшее</td>\n",
       "      <td>5227</td>\n",
       "      <td>5.32</td>\n",
       "    </tr>\n",
       "    <tr>\n",
       "      <th>2</th>\n",
       "      <td>среднее</td>\n",
       "      <td>15075</td>\n",
       "      <td>8.99</td>\n",
       "    </tr>\n",
       "    <tr>\n",
       "      <th>3</th>\n",
       "      <td>неоконченное высшее</td>\n",
       "      <td>741</td>\n",
       "      <td>9.18</td>\n",
       "    </tr>\n",
       "    <tr>\n",
       "      <th>4</th>\n",
       "      <td>начальное</td>\n",
       "      <td>282</td>\n",
       "      <td>10.99</td>\n",
       "    </tr>\n",
       "  </tbody>\n",
       "</table>\n",
       "</div>"
      ],
      "text/plain": [
       "           Образование  Займов(шт)  Просрочено(%)\n",
       "0       ученая степень           6           0.00\n",
       "1               высшее        5227           5.32\n",
       "2              среднее       15075           8.99\n",
       "3  неоконченное высшее         741           9.18\n",
       "4            начальное         282          10.99"
      ]
     },
     "metadata": {},
     "output_type": "display_data"
    }
   ],
   "source": [
    "display(prepare_dataset(data, 'education', 'Образование').sort_values('Просрочено(%)'))"
   ]
  },
  {
   "cell_type": "markdown",
   "id": "1cf855f5",
   "metadata": {},
   "source": [
    "Отбросив категорию \"ученая степень\" в виду малого количества наблюдений, получим разницу между максимальным и минимальным процентом просроченных кредитов 5.67%."
   ]
  },
  {
   "cell_type": "markdown",
   "id": "0fe1ed1c",
   "metadata": {},
   "source": [
    "**Типу занятости**"
   ]
  },
  {
   "cell_type": "code",
   "execution_count": 38,
   "id": "e98c9ebd",
   "metadata": {},
   "outputs": [
    {
     "data": {
      "text/html": [
       "<div>\n",
       "<style scoped>\n",
       "    .dataframe tbody tr th:only-of-type {\n",
       "        vertical-align: middle;\n",
       "    }\n",
       "\n",
       "    .dataframe tbody tr th {\n",
       "        vertical-align: top;\n",
       "    }\n",
       "\n",
       "    .dataframe thead th {\n",
       "        text-align: right;\n",
       "    }\n",
       "</style>\n",
       "<table border=\"1\" class=\"dataframe\">\n",
       "  <thead>\n",
       "    <tr style=\"text-align: right;\">\n",
       "      <th></th>\n",
       "      <th>Занятость</th>\n",
       "      <th>Займов(шт)</th>\n",
       "      <th>Просрочено(%)</th>\n",
       "    </tr>\n",
       "  </thead>\n",
       "  <tbody>\n",
       "    <tr>\n",
       "      <th>0</th>\n",
       "      <td>предприниматель</td>\n",
       "      <td>2</td>\n",
       "      <td>0.00</td>\n",
       "    </tr>\n",
       "    <tr>\n",
       "      <th>1</th>\n",
       "      <td>студент</td>\n",
       "      <td>1</td>\n",
       "      <td>0.00</td>\n",
       "    </tr>\n",
       "    <tr>\n",
       "      <th>2</th>\n",
       "      <td>пенсионер</td>\n",
       "      <td>3812</td>\n",
       "      <td>5.67</td>\n",
       "    </tr>\n",
       "    <tr>\n",
       "      <th>3</th>\n",
       "      <td>госслужащий</td>\n",
       "      <td>1451</td>\n",
       "      <td>5.93</td>\n",
       "    </tr>\n",
       "    <tr>\n",
       "      <th>4</th>\n",
       "      <td>компаньон</td>\n",
       "      <td>5047</td>\n",
       "      <td>7.41</td>\n",
       "    </tr>\n",
       "    <tr>\n",
       "      <th>5</th>\n",
       "      <td>сотрудник</td>\n",
       "      <td>11015</td>\n",
       "      <td>9.57</td>\n",
       "    </tr>\n",
       "    <tr>\n",
       "      <th>6</th>\n",
       "      <td>безработный</td>\n",
       "      <td>2</td>\n",
       "      <td>50.00</td>\n",
       "    </tr>\n",
       "    <tr>\n",
       "      <th>7</th>\n",
       "      <td>в декрете</td>\n",
       "      <td>1</td>\n",
       "      <td>100.00</td>\n",
       "    </tr>\n",
       "  </tbody>\n",
       "</table>\n",
       "</div>"
      ],
      "text/plain": [
       "         Занятость  Займов(шт)  Просрочено(%)\n",
       "0  предприниматель           2           0.00\n",
       "1          студент           1           0.00\n",
       "2        пенсионер        3812           5.67\n",
       "3      госслужащий        1451           5.93\n",
       "4        компаньон        5047           7.41\n",
       "5        сотрудник       11015           9.57\n",
       "6      безработный           2          50.00\n",
       "7        в декрете           1         100.00"
      ]
     },
     "metadata": {},
     "output_type": "display_data"
    }
   ],
   "source": [
    "display(prepare_dataset(data, 'income_type', 'Занятость').sort_values('Просрочено(%)'))"
   ]
  },
  {
   "cell_type": "markdown",
   "id": "cdd807c4",
   "metadata": {},
   "source": [
    "Отбросив категории \"предприниматель\", \"студент\", \"безработный\" и \"в декрете\" в виду малого количества наблюдений, получим разницу между максимальным и минимальным процентом просроченных кредитов 3.9%."
   ]
  },
  {
   "cell_type": "markdown",
   "id": "cf45b5c6",
   "metadata": {},
   "source": [
    "**Полу**"
   ]
  },
  {
   "cell_type": "code",
   "execution_count": 39,
   "id": "4d4658e7",
   "metadata": {},
   "outputs": [
    {
     "data": {
      "text/html": [
       "<div>\n",
       "<style scoped>\n",
       "    .dataframe tbody tr th:only-of-type {\n",
       "        vertical-align: middle;\n",
       "    }\n",
       "\n",
       "    .dataframe tbody tr th {\n",
       "        vertical-align: top;\n",
       "    }\n",
       "\n",
       "    .dataframe thead th {\n",
       "        text-align: right;\n",
       "    }\n",
       "</style>\n",
       "<table border=\"1\" class=\"dataframe\">\n",
       "  <thead>\n",
       "    <tr style=\"text-align: right;\">\n",
       "      <th></th>\n",
       "      <th>Пол</th>\n",
       "      <th>Займов(шт)</th>\n",
       "      <th>Просрочено(%)</th>\n",
       "    </tr>\n",
       "  </thead>\n",
       "  <tbody>\n",
       "    <tr>\n",
       "      <th>0</th>\n",
       "      <td>XNA</td>\n",
       "      <td>1</td>\n",
       "      <td>0.00</td>\n",
       "    </tr>\n",
       "    <tr>\n",
       "      <th>1</th>\n",
       "      <td>F</td>\n",
       "      <td>14092</td>\n",
       "      <td>7.02</td>\n",
       "    </tr>\n",
       "    <tr>\n",
       "      <th>2</th>\n",
       "      <td>M</td>\n",
       "      <td>7238</td>\n",
       "      <td>10.27</td>\n",
       "    </tr>\n",
       "  </tbody>\n",
       "</table>\n",
       "</div>"
      ],
      "text/plain": [
       "   Пол  Займов(шт)  Просрочено(%)\n",
       "0  XNA           1           0.00\n",
       "1    F       14092           7.02\n",
       "2    M        7238          10.27"
      ]
     },
     "metadata": {},
     "output_type": "display_data"
    }
   ],
   "source": [
    "display(prepare_dataset(data, 'gender', 'Пол').sort_values('Просрочено(%)'))"
   ]
  },
  {
   "cell_type": "markdown",
   "id": "280e1dc1",
   "metadata": {},
   "source": [
    "Отбросив категорию \"XNA\" в виду малого количества наблюдений, получим разницу между максимальным и минимальным процентом просроченных кредитов 3.25%."
   ]
  },
  {
   "cell_type": "markdown",
   "id": "a8269278",
   "metadata": {},
   "source": [
    "Дополним список новыми данными. Разница между максимальным и минимальным процентом просроченных кредитов для заемщиков, сгруппированных по:\n",
    " - количеству детей - 1.91%\n",
    " - цели кредитования - 2.09%\n",
    " - уровню дохода - 2.3%\n",
    " - семейному положению - 3.14%\n",
    " - полу - 3.25%\n",
    " - типу занятости - 3.9%\n",
    " - образованию - 5.67%   \n",
    "\n",
    "Быстрый анализ показал, что пол, тип занятости и образование оказывают большее влияние на возврат кредита в срок, чем рассмотренные ранее категории. Влияние уровня образования можно назвать существенным: заемщики с начальным образованием допускают просрочку кредита на 5.67% чаще, чем заемщики с высшим образованием."
   ]
  }
 ],
 "metadata": {
  "ExecuteTimeLog": [
   {
    "duration": 44,
    "start_time": "2022-12-30T09:27:39.710Z"
   },
   {
    "duration": 471,
    "start_time": "2022-12-30T09:27:47.813Z"
   },
   {
    "duration": 19,
    "start_time": "2022-12-30T09:27:48.286Z"
   },
   {
    "duration": 14,
    "start_time": "2022-12-30T09:27:48.306Z"
   },
   {
    "duration": 9,
    "start_time": "2022-12-30T09:27:48.321Z"
   },
   {
    "duration": 37,
    "start_time": "2022-12-30T09:27:48.331Z"
   },
   {
    "duration": 3,
    "start_time": "2022-12-30T09:27:48.369Z"
   },
   {
    "duration": 12,
    "start_time": "2022-12-30T09:27:48.374Z"
   },
   {
    "duration": 11,
    "start_time": "2022-12-30T09:27:48.387Z"
   },
   {
    "duration": 6,
    "start_time": "2022-12-30T09:27:48.399Z"
   },
   {
    "duration": 4,
    "start_time": "2022-12-30T09:27:48.420Z"
   },
   {
    "duration": 32,
    "start_time": "2022-12-30T09:27:48.425Z"
   },
   {
    "duration": 9,
    "start_time": "2022-12-30T09:27:48.458Z"
   },
   {
    "duration": 8,
    "start_time": "2022-12-30T09:27:48.468Z"
   },
   {
    "duration": 19,
    "start_time": "2022-12-30T09:27:48.477Z"
   },
   {
    "duration": 28,
    "start_time": "2022-12-30T09:27:48.498Z"
   },
   {
    "duration": 15,
    "start_time": "2022-12-30T09:27:48.528Z"
   },
   {
    "duration": 3,
    "start_time": "2022-12-30T09:27:48.545Z"
   },
   {
    "duration": 17,
    "start_time": "2022-12-30T09:27:48.550Z"
   },
   {
    "duration": 10,
    "start_time": "2022-12-30T09:27:48.569Z"
   },
   {
    "duration": 3,
    "start_time": "2022-12-30T09:27:48.581Z"
   },
   {
    "duration": 14,
    "start_time": "2022-12-30T09:27:48.585Z"
   },
   {
    "duration": 24,
    "start_time": "2022-12-30T09:27:48.600Z"
   },
   {
    "duration": 7,
    "start_time": "2022-12-30T09:27:48.625Z"
   },
   {
    "duration": 10,
    "start_time": "2022-12-30T09:27:48.633Z"
   },
   {
    "duration": 13,
    "start_time": "2022-12-30T09:27:48.645Z"
   },
   {
    "duration": 5,
    "start_time": "2022-12-30T09:30:47.521Z"
   },
   {
    "duration": 15,
    "start_time": "2022-12-30T09:45:29.301Z"
   },
   {
    "duration": 3,
    "start_time": "2022-12-30T09:48:52.961Z"
   },
   {
    "duration": 2,
    "start_time": "2022-12-30T09:48:57.937Z"
   },
   {
    "duration": 2,
    "start_time": "2022-12-30T09:48:58.997Z"
   },
   {
    "duration": 2,
    "start_time": "2022-12-30T09:48:59.991Z"
   },
   {
    "duration": 2,
    "start_time": "2022-12-30T09:49:04.476Z"
   },
   {
    "duration": 61,
    "start_time": "2022-12-30T10:25:30.200Z"
   },
   {
    "duration": 1012,
    "start_time": "2022-12-30T10:36:57.036Z"
   },
   {
    "duration": 172,
    "start_time": "2022-12-30T10:38:27.978Z"
   },
   {
    "duration": 23,
    "start_time": "2022-12-30T10:48:43.056Z"
   },
   {
    "duration": 161,
    "start_time": "2022-12-30T10:51:37.995Z"
   },
   {
    "duration": 147,
    "start_time": "2022-12-30T10:53:30.157Z"
   },
   {
    "duration": 56,
    "start_time": "2022-12-30T10:54:45.438Z"
   },
   {
    "duration": 161,
    "start_time": "2022-12-30T10:56:14.747Z"
   },
   {
    "duration": 6,
    "start_time": "2022-12-30T11:26:17.627Z"
   },
   {
    "duration": 7,
    "start_time": "2022-12-30T11:26:26.508Z"
   },
   {
    "duration": 10,
    "start_time": "2022-12-30T11:26:54.727Z"
   },
   {
    "duration": 15,
    "start_time": "2022-12-30T11:37:00.443Z"
   },
   {
    "duration": 89,
    "start_time": "2022-12-30T11:37:11.732Z"
   },
   {
    "duration": 14,
    "start_time": "2022-12-30T11:37:36.763Z"
   },
   {
    "duration": 120,
    "start_time": "2022-12-30T11:40:25.952Z"
   },
   {
    "duration": 7,
    "start_time": "2022-12-30T11:45:53.772Z"
   },
   {
    "duration": 151,
    "start_time": "2022-12-30T11:46:26.902Z"
   },
   {
    "duration": 18,
    "start_time": "2022-12-30T11:47:15.238Z"
   },
   {
    "duration": 121,
    "start_time": "2022-12-30T11:49:47.112Z"
   },
   {
    "duration": 124,
    "start_time": "2022-12-30T11:51:39.517Z"
   },
   {
    "duration": 697,
    "start_time": "2022-12-30T11:55:07.112Z"
   },
   {
    "duration": 8,
    "start_time": "2022-12-30T11:55:42.162Z"
   },
   {
    "duration": 11,
    "start_time": "2022-12-30T12:00:55.513Z"
   },
   {
    "duration": 19,
    "start_time": "2022-12-30T12:02:05.747Z"
   },
   {
    "duration": 16,
    "start_time": "2022-12-30T12:02:16.778Z"
   },
   {
    "duration": 12,
    "start_time": "2022-12-30T12:02:32.443Z"
   },
   {
    "duration": 17,
    "start_time": "2022-12-30T12:05:39.163Z"
   },
   {
    "duration": 49,
    "start_time": "2022-12-30T12:06:09.108Z"
   },
   {
    "duration": 8,
    "start_time": "2022-12-30T12:06:18.524Z"
   },
   {
    "duration": 161,
    "start_time": "2022-12-30T12:07:52.444Z"
   },
   {
    "duration": 692,
    "start_time": "2022-12-30T12:09:35.973Z"
   },
   {
    "duration": 13,
    "start_time": "2022-12-30T12:10:26.724Z"
   },
   {
    "duration": 727,
    "start_time": "2022-12-30T12:11:56.218Z"
   },
   {
    "duration": 12,
    "start_time": "2022-12-30T12:12:21.759Z"
   },
   {
    "duration": 12,
    "start_time": "2022-12-30T12:12:34.903Z"
   },
   {
    "duration": 694,
    "start_time": "2022-12-30T12:13:33.678Z"
   },
   {
    "duration": 9,
    "start_time": "2022-12-30T12:13:53.733Z"
   },
   {
    "duration": 14,
    "start_time": "2022-12-30T12:14:16.453Z"
   },
   {
    "duration": 25,
    "start_time": "2022-12-30T12:14:54.923Z"
   },
   {
    "duration": 27,
    "start_time": "2022-12-30T12:17:42.314Z"
   },
   {
    "duration": 129,
    "start_time": "2022-12-30T12:17:58.923Z"
   },
   {
    "duration": 108,
    "start_time": "2022-12-30T12:19:43.120Z"
   },
   {
    "duration": 12,
    "start_time": "2022-12-30T12:21:11.512Z"
   },
   {
    "duration": 16,
    "start_time": "2022-12-30T12:21:49.015Z"
   },
   {
    "duration": 15,
    "start_time": "2022-12-30T12:24:31.739Z"
   },
   {
    "duration": 476,
    "start_time": "2022-12-30T12:25:00.458Z"
   },
   {
    "duration": 21,
    "start_time": "2022-12-30T12:25:00.936Z"
   },
   {
    "duration": 32,
    "start_time": "2022-12-30T12:25:00.959Z"
   },
   {
    "duration": 38,
    "start_time": "2022-12-30T12:25:00.994Z"
   },
   {
    "duration": 86,
    "start_time": "2022-12-30T12:25:01.034Z"
   },
   {
    "duration": 4,
    "start_time": "2022-12-30T12:25:01.122Z"
   },
   {
    "duration": 19,
    "start_time": "2022-12-30T12:25:01.128Z"
   },
   {
    "duration": 13,
    "start_time": "2022-12-30T12:25:01.149Z"
   },
   {
    "duration": 17,
    "start_time": "2022-12-30T12:25:01.164Z"
   },
   {
    "duration": 24,
    "start_time": "2022-12-30T12:25:01.186Z"
   },
   {
    "duration": 73,
    "start_time": "2022-12-30T12:25:01.213Z"
   },
   {
    "duration": 15,
    "start_time": "2022-12-30T12:25:01.288Z"
   },
   {
    "duration": 15,
    "start_time": "2022-12-30T12:25:01.305Z"
   },
   {
    "duration": 30,
    "start_time": "2022-12-30T12:25:01.322Z"
   },
   {
    "duration": 42,
    "start_time": "2022-12-30T12:25:01.354Z"
   },
   {
    "duration": 18,
    "start_time": "2022-12-30T12:25:01.398Z"
   },
   {
    "duration": 9,
    "start_time": "2022-12-30T12:25:01.418Z"
   },
   {
    "duration": 23,
    "start_time": "2022-12-30T12:25:01.429Z"
   },
   {
    "duration": 20,
    "start_time": "2022-12-30T12:25:01.454Z"
   },
   {
    "duration": 51,
    "start_time": "2022-12-30T12:25:01.478Z"
   },
   {
    "duration": 27,
    "start_time": "2022-12-30T12:25:01.531Z"
   },
   {
    "duration": 896,
    "start_time": "2022-12-30T12:25:01.561Z"
   },
   {
    "duration": 3,
    "start_time": "2022-12-30T12:25:02.459Z"
   },
   {
    "duration": 15,
    "start_time": "2022-12-30T12:25:02.465Z"
   },
   {
    "duration": 17,
    "start_time": "2022-12-30T12:25:02.482Z"
   },
   {
    "duration": 114,
    "start_time": "2022-12-30T12:40:18.897Z"
   },
   {
    "duration": 12,
    "start_time": "2022-12-30T12:43:37.167Z"
   },
   {
    "duration": 45,
    "start_time": "2022-12-30T12:45:23.077Z"
   },
   {
    "duration": 95,
    "start_time": "2022-12-30T12:46:27.543Z"
   },
   {
    "duration": 105,
    "start_time": "2022-12-30T12:46:49.622Z"
   },
   {
    "duration": 13,
    "start_time": "2022-12-30T12:57:05.403Z"
   },
   {
    "duration": 12,
    "start_time": "2022-12-30T13:00:00.892Z"
   },
   {
    "duration": 12,
    "start_time": "2022-12-30T13:00:42.162Z"
   },
   {
    "duration": 49,
    "start_time": "2022-12-30T13:01:41.903Z"
   },
   {
    "duration": 124,
    "start_time": "2022-12-30T13:02:40.717Z"
   },
   {
    "duration": 117,
    "start_time": "2022-12-30T13:06:43.492Z"
   },
   {
    "duration": 46,
    "start_time": "2022-12-30T16:23:55.443Z"
   },
   {
    "duration": 1085,
    "start_time": "2022-12-30T16:24:04.775Z"
   },
   {
    "duration": 28,
    "start_time": "2022-12-30T16:24:05.863Z"
   },
   {
    "duration": 64,
    "start_time": "2022-12-30T16:24:05.895Z"
   },
   {
    "duration": 11,
    "start_time": "2022-12-30T16:24:05.961Z"
   },
   {
    "duration": 47,
    "start_time": "2022-12-30T16:24:05.977Z"
   },
   {
    "duration": 4,
    "start_time": "2022-12-30T16:24:06.027Z"
   },
   {
    "duration": 22,
    "start_time": "2022-12-30T16:24:06.033Z"
   },
   {
    "duration": 21,
    "start_time": "2022-12-30T16:24:06.057Z"
   },
   {
    "duration": 24,
    "start_time": "2022-12-30T16:24:06.080Z"
   },
   {
    "duration": 15,
    "start_time": "2022-12-30T16:24:06.106Z"
   },
   {
    "duration": 57,
    "start_time": "2022-12-30T16:24:06.123Z"
   },
   {
    "duration": 16,
    "start_time": "2022-12-30T16:24:06.183Z"
   },
   {
    "duration": 6,
    "start_time": "2022-12-30T16:24:06.200Z"
   },
   {
    "duration": 17,
    "start_time": "2022-12-30T16:24:06.210Z"
   },
   {
    "duration": 41,
    "start_time": "2022-12-30T16:24:06.229Z"
   },
   {
    "duration": 27,
    "start_time": "2022-12-30T16:24:06.272Z"
   },
   {
    "duration": 4,
    "start_time": "2022-12-30T16:24:06.300Z"
   },
   {
    "duration": 15,
    "start_time": "2022-12-30T16:24:06.306Z"
   },
   {
    "duration": 9,
    "start_time": "2022-12-30T16:24:06.323Z"
   },
   {
    "duration": 4,
    "start_time": "2022-12-30T16:24:06.333Z"
   },
   {
    "duration": 21,
    "start_time": "2022-12-30T16:24:06.338Z"
   },
   {
    "duration": 37,
    "start_time": "2022-12-30T16:24:06.361Z"
   },
   {
    "duration": 1010,
    "start_time": "2022-12-30T16:24:06.400Z"
   },
   {
    "duration": 2,
    "start_time": "2022-12-30T16:24:07.412Z"
   },
   {
    "duration": 5,
    "start_time": "2022-12-30T16:24:07.416Z"
   },
   {
    "duration": 6,
    "start_time": "2022-12-30T16:24:07.424Z"
   },
   {
    "duration": 19,
    "start_time": "2022-12-30T16:24:46.415Z"
   },
   {
    "duration": 13,
    "start_time": "2022-12-30T16:24:58.054Z"
   },
   {
    "duration": 15,
    "start_time": "2022-12-30T16:25:26.634Z"
   },
   {
    "duration": 122,
    "start_time": "2022-12-30T16:26:10.714Z"
   },
   {
    "duration": 5,
    "start_time": "2022-12-30T16:44:46.697Z"
   },
   {
    "duration": 51,
    "start_time": "2022-12-30T16:45:04.347Z"
   },
   {
    "duration": 4,
    "start_time": "2022-12-30T16:45:38.562Z"
   },
   {
    "duration": 14,
    "start_time": "2022-12-30T16:49:47.597Z"
   },
   {
    "duration": 12,
    "start_time": "2022-12-30T16:50:24.983Z"
   },
   {
    "duration": 109,
    "start_time": "2022-12-30T17:04:14.342Z"
   },
   {
    "duration": 965,
    "start_time": "2022-12-30T18:14:24.626Z"
   },
   {
    "duration": 12,
    "start_time": "2022-12-30T18:15:03.246Z"
   },
   {
    "duration": 159,
    "start_time": "2022-12-30T18:15:05.915Z"
   },
   {
    "duration": 15,
    "start_time": "2022-12-30T18:15:30.326Z"
   },
   {
    "duration": 15,
    "start_time": "2022-12-30T18:19:53.411Z"
   },
   {
    "duration": 17,
    "start_time": "2022-12-30T18:20:04.958Z"
   },
   {
    "duration": 15,
    "start_time": "2022-12-30T18:24:33.437Z"
   },
   {
    "duration": 15,
    "start_time": "2022-12-30T18:25:15.326Z"
   },
   {
    "duration": 14,
    "start_time": "2022-12-30T18:25:44.551Z"
   },
   {
    "duration": 443,
    "start_time": "2022-12-30T18:41:03.412Z"
   },
   {
    "duration": 20,
    "start_time": "2022-12-30T18:41:03.857Z"
   },
   {
    "duration": 13,
    "start_time": "2022-12-30T18:41:03.878Z"
   },
   {
    "duration": 10,
    "start_time": "2022-12-30T18:41:03.892Z"
   },
   {
    "duration": 33,
    "start_time": "2022-12-30T18:41:03.904Z"
   },
   {
    "duration": 3,
    "start_time": "2022-12-30T18:41:03.939Z"
   },
   {
    "duration": 9,
    "start_time": "2022-12-30T18:41:03.943Z"
   },
   {
    "duration": 6,
    "start_time": "2022-12-30T18:41:03.953Z"
   },
   {
    "duration": 8,
    "start_time": "2022-12-30T18:41:03.960Z"
   },
   {
    "duration": 29,
    "start_time": "2022-12-30T18:41:03.969Z"
   },
   {
    "duration": 31,
    "start_time": "2022-12-30T18:41:03.999Z"
   },
   {
    "duration": 9,
    "start_time": "2022-12-30T18:41:04.031Z"
   },
   {
    "duration": 11,
    "start_time": "2022-12-30T18:41:04.041Z"
   },
   {
    "duration": 11,
    "start_time": "2022-12-30T18:41:04.054Z"
   },
   {
    "duration": 32,
    "start_time": "2022-12-30T18:41:04.067Z"
   },
   {
    "duration": 16,
    "start_time": "2022-12-30T18:41:04.101Z"
   },
   {
    "duration": 3,
    "start_time": "2022-12-30T18:41:04.118Z"
   },
   {
    "duration": 10,
    "start_time": "2022-12-30T18:41:04.122Z"
   },
   {
    "duration": 12,
    "start_time": "2022-12-30T18:41:04.134Z"
   },
   {
    "duration": 4,
    "start_time": "2022-12-30T18:41:04.148Z"
   },
   {
    "duration": 11,
    "start_time": "2022-12-30T18:41:04.154Z"
   },
   {
    "duration": 6,
    "start_time": "2022-12-30T18:41:04.166Z"
   },
   {
    "duration": 14,
    "start_time": "2022-12-30T18:41:04.197Z"
   },
   {
    "duration": 803,
    "start_time": "2022-12-30T18:41:04.212Z"
   },
   {
    "duration": 15,
    "start_time": "2022-12-30T18:41:05.017Z"
   },
   {
    "duration": 13,
    "start_time": "2022-12-30T18:41:05.034Z"
   },
   {
    "duration": 20,
    "start_time": "2022-12-30T18:41:05.049Z"
   },
   {
    "duration": 3,
    "start_time": "2022-12-30T18:41:23.290Z"
   },
   {
    "duration": 5,
    "start_time": "2022-12-30T18:41:33.466Z"
   },
   {
    "duration": 46,
    "start_time": "2022-12-31T08:24:15.734Z"
   },
   {
    "duration": 723,
    "start_time": "2022-12-31T08:24:35.638Z"
   },
   {
    "duration": 35,
    "start_time": "2022-12-31T08:24:36.363Z"
   },
   {
    "duration": 19,
    "start_time": "2022-12-31T08:24:36.400Z"
   },
   {
    "duration": 11,
    "start_time": "2022-12-31T08:24:36.421Z"
   },
   {
    "duration": 43,
    "start_time": "2022-12-31T08:24:36.435Z"
   },
   {
    "duration": 4,
    "start_time": "2022-12-31T08:24:36.480Z"
   },
   {
    "duration": 31,
    "start_time": "2022-12-31T08:24:36.486Z"
   },
   {
    "duration": 5,
    "start_time": "2022-12-31T08:24:36.519Z"
   },
   {
    "duration": 13,
    "start_time": "2022-12-31T08:24:36.526Z"
   },
   {
    "duration": 5,
    "start_time": "2022-12-31T08:24:36.540Z"
   },
   {
    "duration": 34,
    "start_time": "2022-12-31T08:24:36.546Z"
   },
   {
    "duration": 31,
    "start_time": "2022-12-31T08:24:36.581Z"
   },
   {
    "duration": 4,
    "start_time": "2022-12-31T08:24:36.614Z"
   },
   {
    "duration": 15,
    "start_time": "2022-12-31T08:24:36.620Z"
   },
   {
    "duration": 19,
    "start_time": "2022-12-31T08:24:36.637Z"
   },
   {
    "duration": 21,
    "start_time": "2022-12-31T08:24:36.658Z"
   },
   {
    "duration": 4,
    "start_time": "2022-12-31T08:24:36.680Z"
   },
   {
    "duration": 33,
    "start_time": "2022-12-31T08:24:36.685Z"
   },
   {
    "duration": 11,
    "start_time": "2022-12-31T08:24:36.720Z"
   },
   {
    "duration": 3,
    "start_time": "2022-12-31T08:24:36.733Z"
   },
   {
    "duration": 10,
    "start_time": "2022-12-31T08:24:36.738Z"
   },
   {
    "duration": 4,
    "start_time": "2022-12-31T08:24:36.749Z"
   },
   {
    "duration": 12,
    "start_time": "2022-12-31T08:24:36.755Z"
   },
   {
    "duration": 13,
    "start_time": "2022-12-31T08:24:36.769Z"
   },
   {
    "duration": 1064,
    "start_time": "2022-12-31T08:24:36.783Z"
   },
   {
    "duration": 15,
    "start_time": "2022-12-31T08:24:37.849Z"
   },
   {
    "duration": 13,
    "start_time": "2022-12-31T08:24:37.866Z"
   },
   {
    "duration": 32,
    "start_time": "2022-12-31T08:24:37.881Z"
   },
   {
    "duration": 10,
    "start_time": "2022-12-31T08:24:45.703Z"
   },
   {
    "duration": 14,
    "start_time": "2022-12-31T08:24:54.033Z"
   },
   {
    "duration": 16,
    "start_time": "2022-12-31T08:36:16.732Z"
   },
   {
    "duration": 17,
    "start_time": "2022-12-31T08:38:24.212Z"
   },
   {
    "duration": 4,
    "start_time": "2022-12-31T08:42:07.373Z"
   },
   {
    "duration": 4,
    "start_time": "2022-12-31T08:42:17.098Z"
   },
   {
    "duration": 5,
    "start_time": "2022-12-31T08:42:34.733Z"
   },
   {
    "duration": 6,
    "start_time": "2022-12-31T08:42:50.053Z"
   },
   {
    "duration": 45,
    "start_time": "2022-12-31T08:44:14.693Z"
   },
   {
    "duration": 31,
    "start_time": "2022-12-31T08:44:21.013Z"
   },
   {
    "duration": 16,
    "start_time": "2022-12-31T08:45:23.492Z"
   },
   {
    "duration": 11,
    "start_time": "2022-12-31T08:47:58.752Z"
   },
   {
    "duration": 14,
    "start_time": "2022-12-31T08:48:11.752Z"
   },
   {
    "duration": 15,
    "start_time": "2022-12-31T08:49:32.512Z"
   },
   {
    "duration": 16,
    "start_time": "2022-12-31T08:50:04.413Z"
   },
   {
    "duration": 92,
    "start_time": "2022-12-31T09:04:25.492Z"
   },
   {
    "duration": 93,
    "start_time": "2022-12-31T09:04:47.153Z"
   },
   {
    "duration": 187,
    "start_time": "2022-12-31T09:09:55.156Z"
   },
   {
    "duration": 194,
    "start_time": "2022-12-31T09:10:22.032Z"
   },
   {
    "duration": 173,
    "start_time": "2022-12-31T09:16:21.067Z"
   },
   {
    "duration": 169,
    "start_time": "2022-12-31T09:16:33.452Z"
   },
   {
    "duration": 285,
    "start_time": "2022-12-31T09:16:48.449Z"
   },
   {
    "duration": 197,
    "start_time": "2022-12-31T09:17:42.893Z"
   },
   {
    "duration": 119,
    "start_time": "2022-12-31T09:17:54.433Z"
   },
   {
    "duration": 135,
    "start_time": "2022-12-31T09:18:11.173Z"
   },
   {
    "duration": 123,
    "start_time": "2022-12-31T09:18:17.808Z"
   },
   {
    "duration": 136,
    "start_time": "2022-12-31T09:18:32.392Z"
   },
   {
    "duration": 46,
    "start_time": "2022-12-31T10:02:29.667Z"
   },
   {
    "duration": 3,
    "start_time": "2022-12-31T10:07:30.947Z"
   },
   {
    "duration": 11,
    "start_time": "2022-12-31T10:29:33.448Z"
   },
   {
    "duration": 11,
    "start_time": "2022-12-31T10:31:05.553Z"
   },
   {
    "duration": 10,
    "start_time": "2022-12-31T10:32:53.953Z"
   },
   {
    "duration": 496,
    "start_time": "2022-12-31T10:33:10.391Z"
   },
   {
    "duration": 22,
    "start_time": "2022-12-31T10:33:10.888Z"
   },
   {
    "duration": 19,
    "start_time": "2022-12-31T10:33:10.912Z"
   },
   {
    "duration": 11,
    "start_time": "2022-12-31T10:33:10.933Z"
   },
   {
    "duration": 33,
    "start_time": "2022-12-31T10:33:10.946Z"
   },
   {
    "duration": 3,
    "start_time": "2022-12-31T10:33:10.981Z"
   },
   {
    "duration": 33,
    "start_time": "2022-12-31T10:33:10.986Z"
   },
   {
    "duration": 11,
    "start_time": "2022-12-31T10:33:11.021Z"
   },
   {
    "duration": 10,
    "start_time": "2022-12-31T10:33:11.034Z"
   },
   {
    "duration": 4,
    "start_time": "2022-12-31T10:33:11.046Z"
   },
   {
    "duration": 39,
    "start_time": "2022-12-31T10:33:11.051Z"
   },
   {
    "duration": 26,
    "start_time": "2022-12-31T10:33:11.092Z"
   },
   {
    "duration": 18,
    "start_time": "2022-12-31T10:33:11.119Z"
   },
   {
    "duration": 13,
    "start_time": "2022-12-31T10:33:11.140Z"
   },
   {
    "duration": 23,
    "start_time": "2022-12-31T10:33:11.155Z"
   },
   {
    "duration": 38,
    "start_time": "2022-12-31T10:33:11.179Z"
   },
   {
    "duration": 4,
    "start_time": "2022-12-31T10:33:11.219Z"
   },
   {
    "duration": 21,
    "start_time": "2022-12-31T10:33:11.225Z"
   },
   {
    "duration": 8,
    "start_time": "2022-12-31T10:33:11.248Z"
   },
   {
    "duration": 3,
    "start_time": "2022-12-31T10:33:11.257Z"
   },
   {
    "duration": 14,
    "start_time": "2022-12-31T10:33:11.262Z"
   },
   {
    "duration": 84,
    "start_time": "2022-12-31T10:33:11.277Z"
   },
   {
    "duration": 0,
    "start_time": "2022-12-31T10:33:11.362Z"
   },
   {
    "duration": 0,
    "start_time": "2022-12-31T10:33:11.364Z"
   },
   {
    "duration": 0,
    "start_time": "2022-12-31T10:33:11.365Z"
   },
   {
    "duration": 0,
    "start_time": "2022-12-31T10:33:11.366Z"
   },
   {
    "duration": 0,
    "start_time": "2022-12-31T10:33:11.367Z"
   },
   {
    "duration": 0,
    "start_time": "2022-12-31T10:33:11.368Z"
   },
   {
    "duration": 0,
    "start_time": "2022-12-31T10:33:11.370Z"
   },
   {
    "duration": 0,
    "start_time": "2022-12-31T10:33:11.371Z"
   },
   {
    "duration": 776,
    "start_time": "2022-12-31T10:33:54.230Z"
   },
   {
    "duration": 20,
    "start_time": "2022-12-31T10:34:55.215Z"
   },
   {
    "duration": 789,
    "start_time": "2022-12-31T10:35:25.651Z"
   },
   {
    "duration": 19,
    "start_time": "2022-12-31T10:35:39.974Z"
   },
   {
    "duration": 21,
    "start_time": "2022-12-31T10:35:48.875Z"
   },
   {
    "duration": 25,
    "start_time": "2022-12-31T10:35:53.631Z"
   },
   {
    "duration": 18,
    "start_time": "2022-12-31T10:37:00.570Z"
   },
   {
    "duration": 6,
    "start_time": "2022-12-31T10:41:36.243Z"
   },
   {
    "duration": 4,
    "start_time": "2022-12-31T10:43:09.090Z"
   },
   {
    "duration": 21,
    "start_time": "2022-12-31T10:45:28.529Z"
   },
   {
    "duration": 918,
    "start_time": "2022-12-31T10:50:27.710Z"
   },
   {
    "duration": 129,
    "start_time": "2022-12-31T10:50:45.331Z"
   },
   {
    "duration": 131,
    "start_time": "2022-12-31T10:51:03.351Z"
   },
   {
    "duration": 53,
    "start_time": "2022-12-31T10:51:19.060Z"
   },
   {
    "duration": 144,
    "start_time": "2022-12-31T10:57:21.001Z"
   },
   {
    "duration": 119,
    "start_time": "2022-12-31T11:02:40.575Z"
   },
   {
    "duration": 9,
    "start_time": "2022-12-31T11:02:53.886Z"
   },
   {
    "duration": 8,
    "start_time": "2022-12-31T11:02:59.860Z"
   },
   {
    "duration": 12,
    "start_time": "2022-12-31T11:03:11.430Z"
   },
   {
    "duration": 44,
    "start_time": "2022-12-31T11:11:07.650Z"
   },
   {
    "duration": 223,
    "start_time": "2022-12-31T11:11:56.430Z"
   },
   {
    "duration": 12,
    "start_time": "2022-12-31T11:28:23.965Z"
   },
   {
    "duration": 14,
    "start_time": "2022-12-31T11:29:16.860Z"
   },
   {
    "duration": 13,
    "start_time": "2022-12-31T11:30:37.205Z"
   },
   {
    "duration": 94,
    "start_time": "2022-12-31T11:31:21.518Z"
   },
   {
    "duration": 205,
    "start_time": "2022-12-31T11:31:26.376Z"
   },
   {
    "duration": 114,
    "start_time": "2022-12-31T11:56:33.316Z"
   },
   {
    "duration": 189,
    "start_time": "2022-12-31T11:56:55.826Z"
   },
   {
    "duration": 461,
    "start_time": "2022-12-31T12:26:43.142Z"
   },
   {
    "duration": 34,
    "start_time": "2022-12-31T12:26:43.605Z"
   },
   {
    "duration": 40,
    "start_time": "2022-12-31T12:26:43.641Z"
   },
   {
    "duration": 51,
    "start_time": "2022-12-31T12:26:43.683Z"
   },
   {
    "duration": 49,
    "start_time": "2022-12-31T12:26:43.736Z"
   },
   {
    "duration": 24,
    "start_time": "2022-12-31T12:26:43.787Z"
   },
   {
    "duration": 72,
    "start_time": "2022-12-31T12:26:43.814Z"
   },
   {
    "duration": 16,
    "start_time": "2022-12-31T12:26:43.887Z"
   },
   {
    "duration": 50,
    "start_time": "2022-12-31T12:26:43.905Z"
   },
   {
    "duration": 29,
    "start_time": "2022-12-31T12:26:43.957Z"
   },
   {
    "duration": 86,
    "start_time": "2022-12-31T12:26:43.988Z"
   },
   {
    "duration": 8,
    "start_time": "2022-12-31T12:26:44.076Z"
   },
   {
    "duration": 11,
    "start_time": "2022-12-31T12:26:44.085Z"
   },
   {
    "duration": 20,
    "start_time": "2022-12-31T12:26:44.098Z"
   },
   {
    "duration": 53,
    "start_time": "2022-12-31T12:26:44.119Z"
   },
   {
    "duration": 17,
    "start_time": "2022-12-31T12:26:44.174Z"
   },
   {
    "duration": 3,
    "start_time": "2022-12-31T12:26:44.193Z"
   },
   {
    "duration": 28,
    "start_time": "2022-12-31T12:26:44.197Z"
   },
   {
    "duration": 32,
    "start_time": "2022-12-31T12:26:44.232Z"
   },
   {
    "duration": 16,
    "start_time": "2022-12-31T12:26:44.265Z"
   },
   {
    "duration": 11,
    "start_time": "2022-12-31T12:26:44.283Z"
   },
   {
    "duration": 6,
    "start_time": "2022-12-31T12:26:44.295Z"
   },
   {
    "duration": 46,
    "start_time": "2022-12-31T12:26:44.303Z"
   },
   {
    "duration": 25,
    "start_time": "2022-12-31T12:26:44.351Z"
   },
   {
    "duration": 928,
    "start_time": "2022-12-31T12:26:44.378Z"
   },
   {
    "duration": 188,
    "start_time": "2022-12-31T12:26:45.308Z"
   },
   {
    "duration": 37,
    "start_time": "2022-12-31T12:26:45.497Z"
   },
   {
    "duration": 19,
    "start_time": "2022-12-31T12:26:45.541Z"
   },
   {
    "duration": 33,
    "start_time": "2022-12-31T12:26:45.562Z"
   },
   {
    "duration": 16,
    "start_time": "2022-12-31T12:30:03.958Z"
   },
   {
    "duration": 52,
    "start_time": "2022-12-31T12:32:12.734Z"
   },
   {
    "duration": 131,
    "start_time": "2022-12-31T12:32:32.734Z"
   },
   {
    "duration": 194,
    "start_time": "2022-12-31T12:37:48.128Z"
   },
   {
    "duration": 121,
    "start_time": "2022-12-31T12:39:19.939Z"
   },
   {
    "duration": 125,
    "start_time": "2022-12-31T12:39:40.248Z"
   },
   {
    "duration": 133,
    "start_time": "2022-12-31T12:42:14.168Z"
   },
   {
    "duration": 118,
    "start_time": "2022-12-31T12:42:35.269Z"
   },
   {
    "duration": 123,
    "start_time": "2022-12-31T12:43:16.748Z"
   },
   {
    "duration": 198,
    "start_time": "2022-12-31T12:44:14.164Z"
   },
   {
    "duration": 14,
    "start_time": "2022-12-31T12:44:51.909Z"
   },
   {
    "duration": 21,
    "start_time": "2022-12-31T12:45:10.049Z"
   },
   {
    "duration": 120,
    "start_time": "2022-12-31T12:45:24.949Z"
   },
   {
    "duration": 21,
    "start_time": "2022-12-31T12:45:50.209Z"
   },
   {
    "duration": 134,
    "start_time": "2022-12-31T12:45:54.798Z"
   },
   {
    "duration": 15,
    "start_time": "2022-12-31T12:46:27.709Z"
   },
   {
    "duration": 122,
    "start_time": "2022-12-31T12:46:31.071Z"
   },
   {
    "duration": 179,
    "start_time": "2022-12-31T12:47:24.594Z"
   },
   {
    "duration": 171,
    "start_time": "2022-12-31T12:47:33.929Z"
   },
   {
    "duration": 120,
    "start_time": "2022-12-31T12:47:45.428Z"
   },
   {
    "duration": 118,
    "start_time": "2022-12-31T12:47:49.844Z"
   },
   {
    "duration": 116,
    "start_time": "2022-12-31T12:47:55.529Z"
   },
   {
    "duration": 134,
    "start_time": "2022-12-31T12:48:06.520Z"
   },
   {
    "duration": 115,
    "start_time": "2022-12-31T12:48:12.368Z"
   },
   {
    "duration": 198,
    "start_time": "2022-12-31T12:48:17.599Z"
   },
   {
    "duration": 121,
    "start_time": "2022-12-31T12:48:21.608Z"
   },
   {
    "duration": 161,
    "start_time": "2022-12-31T12:48:26.479Z"
   },
   {
    "duration": 76,
    "start_time": "2022-12-31T12:48:40.679Z"
   },
   {
    "duration": 106,
    "start_time": "2022-12-31T12:49:04.968Z"
   },
   {
    "duration": 15,
    "start_time": "2022-12-31T12:56:00.549Z"
   },
   {
    "duration": 151,
    "start_time": "2022-12-31T12:58:02.914Z"
   },
   {
    "duration": 120,
    "start_time": "2022-12-31T12:58:10.591Z"
   },
   {
    "duration": 852,
    "start_time": "2022-12-31T12:58:30.199Z"
   },
   {
    "duration": 89,
    "start_time": "2022-12-31T12:58:36.149Z"
   },
   {
    "duration": 15,
    "start_time": "2022-12-31T13:02:59.634Z"
   },
   {
    "duration": 112,
    "start_time": "2022-12-31T13:04:05.279Z"
   },
   {
    "duration": 86,
    "start_time": "2022-12-31T13:04:29.825Z"
   },
   {
    "duration": 110,
    "start_time": "2022-12-31T13:18:52.225Z"
   },
   {
    "duration": 95,
    "start_time": "2022-12-31T13:19:00.480Z"
   },
   {
    "duration": 40,
    "start_time": "2022-12-31T13:28:35.881Z"
   },
   {
    "duration": 44,
    "start_time": "2023-01-01T08:32:09.814Z"
   },
   {
    "duration": 683,
    "start_time": "2023-01-01T08:32:50.179Z"
   },
   {
    "duration": 21,
    "start_time": "2023-01-01T08:32:50.864Z"
   },
   {
    "duration": 14,
    "start_time": "2023-01-01T08:32:50.886Z"
   },
   {
    "duration": 10,
    "start_time": "2023-01-01T08:32:50.901Z"
   },
   {
    "duration": 31,
    "start_time": "2023-01-01T08:32:50.913Z"
   },
   {
    "duration": 3,
    "start_time": "2023-01-01T08:32:50.945Z"
   },
   {
    "duration": 9,
    "start_time": "2023-01-01T08:32:50.950Z"
   },
   {
    "duration": 4,
    "start_time": "2023-01-01T08:32:50.960Z"
   },
   {
    "duration": 10,
    "start_time": "2023-01-01T08:32:50.965Z"
   },
   {
    "duration": 4,
    "start_time": "2023-01-01T08:32:50.976Z"
   },
   {
    "duration": 59,
    "start_time": "2023-01-01T08:32:50.981Z"
   },
   {
    "duration": 10,
    "start_time": "2023-01-01T08:32:51.041Z"
   },
   {
    "duration": 3,
    "start_time": "2023-01-01T08:32:51.052Z"
   },
   {
    "duration": 12,
    "start_time": "2023-01-01T08:32:51.058Z"
   },
   {
    "duration": 21,
    "start_time": "2023-01-01T08:32:51.072Z"
   },
   {
    "duration": 38,
    "start_time": "2023-01-01T08:32:51.095Z"
   },
   {
    "duration": 3,
    "start_time": "2023-01-01T08:32:51.134Z"
   },
   {
    "duration": 13,
    "start_time": "2023-01-01T08:32:51.138Z"
   },
   {
    "duration": 7,
    "start_time": "2023-01-01T08:32:51.152Z"
   },
   {
    "duration": 5,
    "start_time": "2023-01-01T08:32:51.160Z"
   },
   {
    "duration": 22,
    "start_time": "2023-01-01T08:32:51.166Z"
   },
   {
    "duration": 5,
    "start_time": "2023-01-01T08:32:51.189Z"
   },
   {
    "duration": 7,
    "start_time": "2023-01-01T08:32:51.196Z"
   },
   {
    "duration": 20,
    "start_time": "2023-01-01T08:32:51.204Z"
   },
   {
    "duration": 955,
    "start_time": "2023-01-01T08:32:51.225Z"
   },
   {
    "duration": 162,
    "start_time": "2023-01-01T08:32:52.181Z"
   },
   {
    "duration": 14,
    "start_time": "2023-01-01T08:32:52.344Z"
   },
   {
    "duration": 129,
    "start_time": "2023-01-01T08:32:52.359Z"
   },
   {
    "duration": 93,
    "start_time": "2023-01-01T08:32:52.489Z"
   },
   {
    "duration": 13,
    "start_time": "2023-01-01T08:32:52.584Z"
   },
   {
    "duration": 106,
    "start_time": "2023-01-01T08:32:52.598Z"
   },
   {
    "duration": 81,
    "start_time": "2023-01-01T08:32:52.705Z"
   },
   {
    "duration": 13,
    "start_time": "2023-01-01T08:32:52.788Z"
   },
   {
    "duration": 89,
    "start_time": "2023-01-01T08:32:52.802Z"
   },
   {
    "duration": 179,
    "start_time": "2023-01-01T08:32:52.893Z"
   },
   {
    "duration": 45,
    "start_time": "2023-01-01T08:32:53.074Z"
   },
   {
    "duration": 96,
    "start_time": "2023-01-01T08:33:46.711Z"
   },
   {
    "duration": 96,
    "start_time": "2023-01-01T08:34:26.429Z"
   },
   {
    "duration": 100,
    "start_time": "2023-01-01T08:34:39.899Z"
   },
   {
    "duration": 8,
    "start_time": "2023-01-01T08:59:46.858Z"
   },
   {
    "duration": 21,
    "start_time": "2023-01-01T08:59:57.380Z"
   },
   {
    "duration": 7,
    "start_time": "2023-01-01T09:00:26.750Z"
   },
   {
    "duration": 7,
    "start_time": "2023-01-01T09:02:02.829Z"
   },
   {
    "duration": 13,
    "start_time": "2023-01-01T09:06:09.399Z"
   },
   {
    "duration": 62,
    "start_time": "2023-01-01T09:06:35.049Z"
   },
   {
    "duration": 798,
    "start_time": "2023-01-01T09:07:07.979Z"
   },
   {
    "duration": 77,
    "start_time": "2023-01-01T09:07:15.779Z"
   },
   {
    "duration": 72,
    "start_time": "2023-01-01T09:09:22.789Z"
   },
   {
    "duration": 97,
    "start_time": "2023-01-01T09:10:02.220Z"
   },
   {
    "duration": 98,
    "start_time": "2023-01-01T09:11:57.179Z"
   },
   {
    "duration": 113,
    "start_time": "2023-01-01T09:18:52.509Z"
   },
   {
    "duration": 98,
    "start_time": "2023-01-01T09:20:20.739Z"
   },
   {
    "duration": 19,
    "start_time": "2023-01-01T09:20:49.518Z"
   },
   {
    "duration": 448,
    "start_time": "2023-01-01T09:23:39.540Z"
   },
   {
    "duration": 21,
    "start_time": "2023-01-01T09:23:39.989Z"
   },
   {
    "duration": 24,
    "start_time": "2023-01-01T09:23:40.012Z"
   },
   {
    "duration": 10,
    "start_time": "2023-01-01T09:23:40.038Z"
   },
   {
    "duration": 50,
    "start_time": "2023-01-01T09:23:40.050Z"
   },
   {
    "duration": 4,
    "start_time": "2023-01-01T09:23:40.101Z"
   },
   {
    "duration": 12,
    "start_time": "2023-01-01T09:23:40.106Z"
   },
   {
    "duration": 4,
    "start_time": "2023-01-01T09:23:40.120Z"
   },
   {
    "duration": 9,
    "start_time": "2023-01-01T09:23:40.125Z"
   },
   {
    "duration": 3,
    "start_time": "2023-01-01T09:23:40.136Z"
   },
   {
    "duration": 37,
    "start_time": "2023-01-01T09:23:40.140Z"
   },
   {
    "duration": 8,
    "start_time": "2023-01-01T09:23:40.179Z"
   },
   {
    "duration": 7,
    "start_time": "2023-01-01T09:23:40.189Z"
   },
   {
    "duration": 21,
    "start_time": "2023-01-01T09:23:40.197Z"
   },
   {
    "duration": 18,
    "start_time": "2023-01-01T09:23:40.219Z"
   },
   {
    "duration": 15,
    "start_time": "2023-01-01T09:23:40.238Z"
   },
   {
    "duration": 4,
    "start_time": "2023-01-01T09:23:40.254Z"
   },
   {
    "duration": 11,
    "start_time": "2023-01-01T09:23:40.259Z"
   },
   {
    "duration": 5,
    "start_time": "2023-01-01T09:23:40.272Z"
   },
   {
    "duration": 3,
    "start_time": "2023-01-01T09:23:40.278Z"
   },
   {
    "duration": 36,
    "start_time": "2023-01-01T09:23:40.282Z"
   },
   {
    "duration": 4,
    "start_time": "2023-01-01T09:23:40.319Z"
   },
   {
    "duration": 7,
    "start_time": "2023-01-01T09:23:40.324Z"
   },
   {
    "duration": 15,
    "start_time": "2023-01-01T09:23:40.333Z"
   },
   {
    "duration": 18,
    "start_time": "2023-01-01T09:23:40.349Z"
   },
   {
    "duration": 43,
    "start_time": "2023-01-01T09:23:40.368Z"
   },
   {
    "duration": 0,
    "start_time": "2023-01-01T09:23:40.412Z"
   },
   {
    "duration": 0,
    "start_time": "2023-01-01T09:23:40.413Z"
   },
   {
    "duration": 0,
    "start_time": "2023-01-01T09:23:40.415Z"
   },
   {
    "duration": 0,
    "start_time": "2023-01-01T09:23:40.416Z"
   },
   {
    "duration": 0,
    "start_time": "2023-01-01T09:23:40.417Z"
   },
   {
    "duration": 0,
    "start_time": "2023-01-01T09:23:40.418Z"
   },
   {
    "duration": 0,
    "start_time": "2023-01-01T09:23:40.419Z"
   },
   {
    "duration": 0,
    "start_time": "2023-01-01T09:23:40.420Z"
   },
   {
    "duration": 0,
    "start_time": "2023-01-01T09:23:40.421Z"
   },
   {
    "duration": 0,
    "start_time": "2023-01-01T09:23:40.422Z"
   },
   {
    "duration": 0,
    "start_time": "2023-01-01T09:23:40.423Z"
   },
   {
    "duration": 0,
    "start_time": "2023-01-01T09:23:40.423Z"
   },
   {
    "duration": 780,
    "start_time": "2023-01-01T09:24:40.080Z"
   },
   {
    "duration": 85,
    "start_time": "2023-01-01T09:24:52.469Z"
   },
   {
    "duration": 433,
    "start_time": "2023-01-01T09:28:35.655Z"
   },
   {
    "duration": 19,
    "start_time": "2023-01-01T09:28:36.090Z"
   },
   {
    "duration": 17,
    "start_time": "2023-01-01T09:28:36.111Z"
   },
   {
    "duration": 9,
    "start_time": "2023-01-01T09:28:36.130Z"
   },
   {
    "duration": 30,
    "start_time": "2023-01-01T09:28:36.140Z"
   },
   {
    "duration": 3,
    "start_time": "2023-01-01T09:28:36.172Z"
   },
   {
    "duration": 9,
    "start_time": "2023-01-01T09:28:36.176Z"
   },
   {
    "duration": 3,
    "start_time": "2023-01-01T09:28:36.186Z"
   },
   {
    "duration": 28,
    "start_time": "2023-01-01T09:28:36.191Z"
   },
   {
    "duration": 5,
    "start_time": "2023-01-01T09:28:36.222Z"
   },
   {
    "duration": 46,
    "start_time": "2023-01-01T09:28:36.229Z"
   },
   {
    "duration": 12,
    "start_time": "2023-01-01T09:28:36.277Z"
   },
   {
    "duration": 13,
    "start_time": "2023-01-01T09:28:36.291Z"
   },
   {
    "duration": 21,
    "start_time": "2023-01-01T09:28:36.305Z"
   },
   {
    "duration": 34,
    "start_time": "2023-01-01T09:28:36.328Z"
   },
   {
    "duration": 19,
    "start_time": "2023-01-01T09:28:36.364Z"
   },
   {
    "duration": 3,
    "start_time": "2023-01-01T09:28:36.385Z"
   },
   {
    "duration": 14,
    "start_time": "2023-01-01T09:28:36.389Z"
   },
   {
    "duration": 14,
    "start_time": "2023-01-01T09:28:36.404Z"
   },
   {
    "duration": 2,
    "start_time": "2023-01-01T09:28:36.419Z"
   },
   {
    "duration": 34,
    "start_time": "2023-01-01T09:28:36.423Z"
   },
   {
    "duration": 3,
    "start_time": "2023-01-01T09:28:36.459Z"
   },
   {
    "duration": 7,
    "start_time": "2023-01-01T09:28:36.464Z"
   },
   {
    "duration": 16,
    "start_time": "2023-01-01T09:28:36.472Z"
   },
   {
    "duration": 18,
    "start_time": "2023-01-01T09:28:36.489Z"
   },
   {
    "duration": 795,
    "start_time": "2023-01-01T09:28:36.508Z"
   },
   {
    "duration": 76,
    "start_time": "2023-01-01T09:28:37.305Z"
   },
   {
    "duration": 14,
    "start_time": "2023-01-01T09:28:37.384Z"
   },
   {
    "duration": 129,
    "start_time": "2023-01-01T09:28:37.399Z"
   },
   {
    "duration": 96,
    "start_time": "2023-01-01T09:28:37.529Z"
   },
   {
    "duration": 13,
    "start_time": "2023-01-01T09:28:37.627Z"
   },
   {
    "duration": 114,
    "start_time": "2023-01-01T09:28:37.641Z"
   },
   {
    "duration": 83,
    "start_time": "2023-01-01T09:28:37.757Z"
   },
   {
    "duration": 14,
    "start_time": "2023-01-01T09:28:37.841Z"
   },
   {
    "duration": 98,
    "start_time": "2023-01-01T09:28:37.856Z"
   },
   {
    "duration": 116,
    "start_time": "2023-01-01T09:28:37.956Z"
   },
   {
    "duration": 32,
    "start_time": "2023-01-01T09:28:38.073Z"
   },
   {
    "duration": 783,
    "start_time": "2023-01-01T09:41:32.069Z"
   },
   {
    "duration": 14,
    "start_time": "2023-01-01T09:42:03.639Z"
   },
   {
    "duration": 23,
    "start_time": "2023-01-01T09:51:55.374Z"
   },
   {
    "duration": 21,
    "start_time": "2023-01-01T09:53:02.799Z"
   },
   {
    "duration": 113,
    "start_time": "2023-01-01T09:55:20.099Z"
   },
   {
    "duration": 107,
    "start_time": "2023-01-01T09:55:27.082Z"
   },
   {
    "duration": 157,
    "start_time": "2023-01-01T09:57:29.999Z"
   },
   {
    "duration": 95,
    "start_time": "2023-01-01T10:24:33.472Z"
   },
   {
    "duration": 32,
    "start_time": "2023-01-01T10:52:56.952Z"
   },
   {
    "duration": 5,
    "start_time": "2023-01-01T10:53:25.916Z"
   },
   {
    "duration": 5,
    "start_time": "2023-01-01T10:54:02.278Z"
   },
   {
    "duration": 5,
    "start_time": "2023-01-01T10:55:01.631Z"
   },
   {
    "duration": 5,
    "start_time": "2023-01-01T10:56:03.111Z"
   },
   {
    "duration": 29,
    "start_time": "2023-01-01T10:57:32.982Z"
   },
   {
    "duration": 5,
    "start_time": "2023-01-01T10:57:47.302Z"
   },
   {
    "duration": 36,
    "start_time": "2023-01-01T12:43:43.884Z"
   },
   {
    "duration": 34,
    "start_time": "2023-01-01T12:44:50.411Z"
   },
   {
    "duration": 13,
    "start_time": "2023-01-01T12:46:14.821Z"
   },
   {
    "duration": 14,
    "start_time": "2023-01-01T12:49:32.380Z"
   },
   {
    "duration": 13,
    "start_time": "2023-01-01T12:52:04.441Z"
   },
   {
    "duration": 5,
    "start_time": "2023-01-01T12:55:22.079Z"
   },
   {
    "duration": 454,
    "start_time": "2023-01-01T12:55:28.640Z"
   },
   {
    "duration": 26,
    "start_time": "2023-01-01T12:55:29.096Z"
   },
   {
    "duration": 20,
    "start_time": "2023-01-01T12:55:29.124Z"
   },
   {
    "duration": 9,
    "start_time": "2023-01-01T12:55:29.146Z"
   },
   {
    "duration": 45,
    "start_time": "2023-01-01T12:55:29.156Z"
   },
   {
    "duration": 14,
    "start_time": "2023-01-01T12:55:29.203Z"
   },
   {
    "duration": 12,
    "start_time": "2023-01-01T12:55:29.218Z"
   },
   {
    "duration": 4,
    "start_time": "2023-01-01T12:55:29.232Z"
   },
   {
    "duration": 9,
    "start_time": "2023-01-01T12:55:29.237Z"
   },
   {
    "duration": 5,
    "start_time": "2023-01-01T12:55:29.250Z"
   },
   {
    "duration": 60,
    "start_time": "2023-01-01T12:55:29.257Z"
   },
   {
    "duration": 9,
    "start_time": "2023-01-01T12:55:29.318Z"
   },
   {
    "duration": 5,
    "start_time": "2023-01-01T12:55:29.329Z"
   },
   {
    "duration": 11,
    "start_time": "2023-01-01T12:55:29.336Z"
   },
   {
    "duration": 18,
    "start_time": "2023-01-01T12:55:29.348Z"
   },
   {
    "duration": 15,
    "start_time": "2023-01-01T12:55:29.367Z"
   },
   {
    "duration": 3,
    "start_time": "2023-01-01T12:55:29.384Z"
   },
   {
    "duration": 35,
    "start_time": "2023-01-01T12:55:29.388Z"
   },
   {
    "duration": 5,
    "start_time": "2023-01-01T12:55:29.424Z"
   },
   {
    "duration": 12,
    "start_time": "2023-01-01T12:55:29.431Z"
   },
   {
    "duration": 11,
    "start_time": "2023-01-01T12:55:29.444Z"
   },
   {
    "duration": 6,
    "start_time": "2023-01-01T12:55:29.457Z"
   },
   {
    "duration": 17,
    "start_time": "2023-01-01T12:55:29.464Z"
   },
   {
    "duration": 35,
    "start_time": "2023-01-01T12:55:29.482Z"
   },
   {
    "duration": 847,
    "start_time": "2023-01-01T12:55:29.519Z"
   },
   {
    "duration": 88,
    "start_time": "2023-01-01T12:55:30.368Z"
   },
   {
    "duration": 14,
    "start_time": "2023-01-01T12:55:30.458Z"
   },
   {
    "duration": 134,
    "start_time": "2023-01-01T12:55:30.474Z"
   },
   {
    "duration": 107,
    "start_time": "2023-01-01T12:55:30.610Z"
   },
   {
    "duration": 15,
    "start_time": "2023-01-01T12:55:30.719Z"
   },
   {
    "duration": 47,
    "start_time": "2023-01-01T12:55:30.736Z"
   },
   {
    "duration": 152,
    "start_time": "2023-01-01T12:55:30.785Z"
   },
   {
    "duration": 83,
    "start_time": "2023-01-01T12:55:30.939Z"
   },
   {
    "duration": 16,
    "start_time": "2023-01-01T12:55:31.024Z"
   },
   {
    "duration": 128,
    "start_time": "2023-01-01T12:55:31.041Z"
   },
   {
    "duration": 101,
    "start_time": "2023-01-01T12:55:31.171Z"
   },
   {
    "duration": 15,
    "start_time": "2023-01-01T12:55:31.273Z"
   },
   {
    "duration": 29,
    "start_time": "2023-01-01T12:55:31.290Z"
   },
   {
    "duration": 12,
    "start_time": "2023-01-01T12:55:31.321Z"
   },
   {
    "duration": 5,
    "start_time": "2023-01-01T12:58:31.759Z"
   },
   {
    "duration": 12,
    "start_time": "2023-01-01T12:58:34.030Z"
   },
   {
    "duration": 19,
    "start_time": "2023-01-01T12:58:41.829Z"
   },
   {
    "duration": 22,
    "start_time": "2023-01-01T12:58:52.129Z"
   },
   {
    "duration": 449,
    "start_time": "2023-01-01T13:46:01.170Z"
   },
   {
    "duration": 28,
    "start_time": "2023-01-01T13:46:01.621Z"
   },
   {
    "duration": 21,
    "start_time": "2023-01-01T13:46:01.650Z"
   },
   {
    "duration": 28,
    "start_time": "2023-01-01T13:46:01.673Z"
   },
   {
    "duration": 71,
    "start_time": "2023-01-01T13:46:01.703Z"
   },
   {
    "duration": 3,
    "start_time": "2023-01-01T13:46:01.775Z"
   },
   {
    "duration": 13,
    "start_time": "2023-01-01T13:46:01.779Z"
   },
   {
    "duration": 11,
    "start_time": "2023-01-01T13:46:01.794Z"
   },
   {
    "duration": 14,
    "start_time": "2023-01-01T13:46:01.807Z"
   },
   {
    "duration": 7,
    "start_time": "2023-01-01T13:46:01.823Z"
   },
   {
    "duration": 32,
    "start_time": "2023-01-01T13:46:01.832Z"
   },
   {
    "duration": 10,
    "start_time": "2023-01-01T13:46:01.865Z"
   },
   {
    "duration": 6,
    "start_time": "2023-01-01T13:46:01.876Z"
   },
   {
    "duration": 34,
    "start_time": "2023-01-01T13:46:01.883Z"
   },
   {
    "duration": 27,
    "start_time": "2023-01-01T13:46:01.920Z"
   },
   {
    "duration": 15,
    "start_time": "2023-01-01T13:46:01.948Z"
   },
   {
    "duration": 4,
    "start_time": "2023-01-01T13:46:01.964Z"
   },
   {
    "duration": 13,
    "start_time": "2023-01-01T13:46:01.969Z"
   },
   {
    "duration": 36,
    "start_time": "2023-01-01T13:46:01.984Z"
   },
   {
    "duration": 8,
    "start_time": "2023-01-01T13:46:02.023Z"
   },
   {
    "duration": 34,
    "start_time": "2023-01-01T13:46:02.033Z"
   },
   {
    "duration": 6,
    "start_time": "2023-01-01T13:46:02.068Z"
   },
   {
    "duration": 38,
    "start_time": "2023-01-01T13:46:02.076Z"
   },
   {
    "duration": 32,
    "start_time": "2023-01-01T13:46:02.115Z"
   },
   {
    "duration": 840,
    "start_time": "2023-01-01T13:46:02.149Z"
   },
   {
    "duration": 87,
    "start_time": "2023-01-01T13:46:02.991Z"
   },
   {
    "duration": 14,
    "start_time": "2023-01-01T13:46:03.080Z"
   },
   {
    "duration": 149,
    "start_time": "2023-01-01T13:46:03.096Z"
   },
   {
    "duration": 108,
    "start_time": "2023-01-01T13:46:03.247Z"
   },
   {
    "duration": 13,
    "start_time": "2023-01-01T13:46:03.356Z"
   },
   {
    "duration": 22,
    "start_time": "2023-01-01T13:46:03.371Z"
   },
   {
    "duration": 148,
    "start_time": "2023-01-01T13:46:03.395Z"
   },
   {
    "duration": 83,
    "start_time": "2023-01-01T13:46:03.545Z"
   },
   {
    "duration": 20,
    "start_time": "2023-01-01T13:46:03.630Z"
   },
   {
    "duration": 128,
    "start_time": "2023-01-01T13:46:03.651Z"
   },
   {
    "duration": 104,
    "start_time": "2023-01-01T13:46:03.780Z"
   },
   {
    "duration": 14,
    "start_time": "2023-01-01T13:46:03.885Z"
   },
   {
    "duration": 21,
    "start_time": "2023-01-01T13:46:03.900Z"
   },
   {
    "duration": 16,
    "start_time": "2023-01-01T13:46:03.923Z"
   },
   {
    "duration": 703,
    "start_time": "2023-01-01T14:22:41.109Z"
   },
   {
    "duration": 21,
    "start_time": "2023-01-01T14:22:41.814Z"
   },
   {
    "duration": 22,
    "start_time": "2023-01-01T14:22:41.837Z"
   },
   {
    "duration": 13,
    "start_time": "2023-01-01T14:22:41.861Z"
   },
   {
    "duration": 65,
    "start_time": "2023-01-01T14:22:41.876Z"
   },
   {
    "duration": 3,
    "start_time": "2023-01-01T14:22:41.943Z"
   },
   {
    "duration": 11,
    "start_time": "2023-01-01T14:22:41.948Z"
   },
   {
    "duration": 11,
    "start_time": "2023-01-01T14:22:41.961Z"
   },
   {
    "duration": 7,
    "start_time": "2023-01-01T14:22:41.974Z"
   },
   {
    "duration": 3,
    "start_time": "2023-01-01T14:22:41.985Z"
   },
   {
    "duration": 55,
    "start_time": "2023-01-01T14:22:41.990Z"
   },
   {
    "duration": 14,
    "start_time": "2023-01-01T14:22:42.047Z"
   },
   {
    "duration": 3,
    "start_time": "2023-01-01T14:22:42.063Z"
   },
   {
    "duration": 13,
    "start_time": "2023-01-01T14:22:42.068Z"
   },
   {
    "duration": 39,
    "start_time": "2023-01-01T14:22:42.083Z"
   },
   {
    "duration": 16,
    "start_time": "2023-01-01T14:22:42.123Z"
   },
   {
    "duration": 4,
    "start_time": "2023-01-01T14:22:42.140Z"
   },
   {
    "duration": 12,
    "start_time": "2023-01-01T14:22:42.145Z"
   },
   {
    "duration": 5,
    "start_time": "2023-01-01T14:22:42.158Z"
   },
   {
    "duration": 4,
    "start_time": "2023-01-01T14:22:42.164Z"
   },
   {
    "duration": 12,
    "start_time": "2023-01-01T14:22:42.169Z"
   },
   {
    "duration": 39,
    "start_time": "2023-01-01T14:22:42.182Z"
   },
   {
    "duration": 17,
    "start_time": "2023-01-01T14:22:42.223Z"
   },
   {
    "duration": 17,
    "start_time": "2023-01-01T14:22:42.241Z"
   },
   {
    "duration": 1078,
    "start_time": "2023-01-01T14:22:42.259Z"
   },
   {
    "duration": 85,
    "start_time": "2023-01-01T14:22:43.339Z"
   },
   {
    "duration": 14,
    "start_time": "2023-01-01T14:22:43.426Z"
   },
   {
    "duration": 130,
    "start_time": "2023-01-01T14:22:43.443Z"
   },
   {
    "duration": 99,
    "start_time": "2023-01-01T14:22:43.574Z"
   },
   {
    "duration": 13,
    "start_time": "2023-01-01T14:22:43.675Z"
   },
   {
    "duration": 35,
    "start_time": "2023-01-01T14:22:43.690Z"
   },
   {
    "duration": 128,
    "start_time": "2023-01-01T14:22:43.726Z"
   },
   {
    "duration": 87,
    "start_time": "2023-01-01T14:22:43.856Z"
   },
   {
    "duration": 13,
    "start_time": "2023-01-01T14:22:43.945Z"
   },
   {
    "duration": 123,
    "start_time": "2023-01-01T14:22:43.959Z"
   },
   {
    "duration": 105,
    "start_time": "2023-01-01T14:22:44.083Z"
   },
   {
    "duration": 14,
    "start_time": "2023-01-01T14:22:44.190Z"
   },
   {
    "duration": 26,
    "start_time": "2023-01-01T14:22:44.206Z"
   },
   {
    "duration": 14,
    "start_time": "2023-01-01T14:22:44.234Z"
   },
   {
    "duration": 44,
    "start_time": "2023-01-03T11:30:31.850Z"
   },
   {
    "duration": 688,
    "start_time": "2023-01-03T11:30:37.566Z"
   },
   {
    "duration": 23,
    "start_time": "2023-01-03T11:30:38.256Z"
   },
   {
    "duration": 15,
    "start_time": "2023-01-03T11:30:38.280Z"
   },
   {
    "duration": 8,
    "start_time": "2023-01-03T11:30:38.296Z"
   },
   {
    "duration": 30,
    "start_time": "2023-01-03T11:30:38.305Z"
   },
   {
    "duration": 3,
    "start_time": "2023-01-03T11:30:38.336Z"
   },
   {
    "duration": 10,
    "start_time": "2023-01-03T11:30:38.340Z"
   },
   {
    "duration": 4,
    "start_time": "2023-01-03T11:30:38.351Z"
   },
   {
    "duration": 7,
    "start_time": "2023-01-03T11:30:38.356Z"
   },
   {
    "duration": 4,
    "start_time": "2023-01-03T11:30:38.366Z"
   },
   {
    "duration": 30,
    "start_time": "2023-01-03T11:30:38.396Z"
   },
   {
    "duration": 8,
    "start_time": "2023-01-03T11:30:38.427Z"
   },
   {
    "duration": 4,
    "start_time": "2023-01-03T11:30:38.436Z"
   },
   {
    "duration": 11,
    "start_time": "2023-01-03T11:30:38.441Z"
   },
   {
    "duration": 16,
    "start_time": "2023-01-03T11:30:38.454Z"
   },
   {
    "duration": 39,
    "start_time": "2023-01-03T11:30:38.471Z"
   },
   {
    "duration": 3,
    "start_time": "2023-01-03T11:30:38.511Z"
   },
   {
    "duration": 15,
    "start_time": "2023-01-03T11:30:38.516Z"
   },
   {
    "duration": 6,
    "start_time": "2023-01-03T11:30:38.533Z"
   },
   {
    "duration": 5,
    "start_time": "2023-01-03T11:30:38.540Z"
   },
   {
    "duration": 15,
    "start_time": "2023-01-03T11:30:38.546Z"
   },
   {
    "duration": 5,
    "start_time": "2023-01-03T11:30:38.562Z"
   },
   {
    "duration": 16,
    "start_time": "2023-01-03T11:30:38.568Z"
   },
   {
    "duration": 18,
    "start_time": "2023-01-03T11:30:38.597Z"
   },
   {
    "duration": 932,
    "start_time": "2023-01-03T11:30:38.617Z"
   },
   {
    "duration": 81,
    "start_time": "2023-01-03T11:30:39.551Z"
   },
   {
    "duration": 14,
    "start_time": "2023-01-03T11:30:39.634Z"
   },
   {
    "duration": 127,
    "start_time": "2023-01-03T11:30:39.650Z"
   },
   {
    "duration": 94,
    "start_time": "2023-01-03T11:30:39.778Z"
   },
   {
    "duration": 34,
    "start_time": "2023-01-03T11:30:39.873Z"
   },
   {
    "duration": 27,
    "start_time": "2023-01-03T11:30:39.909Z"
   },
   {
    "duration": 274,
    "start_time": "2023-01-03T11:30:39.938Z"
   },
   {
    "duration": 129,
    "start_time": "2023-01-03T11:30:40.214Z"
   },
   {
    "duration": 64,
    "start_time": "2023-01-03T11:30:40.344Z"
   },
   {
    "duration": 202,
    "start_time": "2023-01-03T11:30:40.409Z"
   },
   {
    "duration": 187,
    "start_time": "2023-01-03T11:30:40.612Z"
   },
   {
    "duration": 15,
    "start_time": "2023-01-03T11:30:40.800Z"
   },
   {
    "duration": 13,
    "start_time": "2023-01-03T11:30:40.816Z"
   },
   {
    "duration": 11,
    "start_time": "2023-01-03T11:30:40.830Z"
   },
   {
    "duration": 17,
    "start_time": "2023-01-03T11:30:42.611Z"
   },
   {
    "duration": 16,
    "start_time": "2023-01-03T11:30:59.001Z"
   },
   {
    "duration": 67,
    "start_time": "2023-01-03T11:31:16.121Z"
   },
   {
    "duration": 22,
    "start_time": "2023-01-03T11:31:23.821Z"
   },
   {
    "duration": 25,
    "start_time": "2023-01-03T11:36:43.717Z"
   },
   {
    "duration": 94,
    "start_time": "2023-01-03T11:37:49.791Z"
   },
   {
    "duration": 113,
    "start_time": "2023-01-03T11:38:00.251Z"
   },
   {
    "duration": 31,
    "start_time": "2023-01-03T11:38:12.440Z"
   },
   {
    "duration": 36,
    "start_time": "2023-01-03T11:38:26.731Z"
   },
   {
    "duration": 31,
    "start_time": "2023-01-03T11:38:51.011Z"
   },
   {
    "duration": 50,
    "start_time": "2023-01-03T11:39:30.961Z"
   },
   {
    "duration": 57,
    "start_time": "2023-01-03T11:39:50.610Z"
   },
   {
    "duration": 3,
    "start_time": "2023-01-03T11:39:56.622Z"
   },
   {
    "duration": 39,
    "start_time": "2023-01-03T11:40:12.161Z"
   },
   {
    "duration": 30,
    "start_time": "2023-01-03T11:40:49.001Z"
   },
   {
    "duration": 30,
    "start_time": "2023-01-03T11:51:43.547Z"
   },
   {
    "duration": 15,
    "start_time": "2023-01-03T11:53:11.267Z"
   },
   {
    "duration": 24,
    "start_time": "2023-01-03T11:54:24.727Z"
   },
   {
    "duration": 14,
    "start_time": "2023-01-03T12:05:49.527Z"
   },
   {
    "duration": 22,
    "start_time": "2023-01-03T12:06:19.948Z"
   },
   {
    "duration": 21,
    "start_time": "2023-01-03T12:11:42.967Z"
   },
   {
    "duration": 10,
    "start_time": "2023-01-03T12:28:53.127Z"
   },
   {
    "duration": 7,
    "start_time": "2023-01-03T12:29:12.992Z"
   },
   {
    "duration": 7,
    "start_time": "2023-01-03T12:29:26.657Z"
   },
   {
    "duration": 21,
    "start_time": "2023-01-03T12:29:55.657Z"
   },
   {
    "duration": 21,
    "start_time": "2023-01-03T12:30:26.452Z"
   },
   {
    "duration": 8,
    "start_time": "2023-01-03T12:38:38.887Z"
   },
   {
    "duration": 8,
    "start_time": "2023-01-03T12:38:52.607Z"
   },
   {
    "duration": 8,
    "start_time": "2023-01-03T12:39:09.268Z"
   },
   {
    "duration": 6,
    "start_time": "2023-01-03T12:39:22.528Z"
   },
   {
    "duration": 14,
    "start_time": "2023-01-03T12:46:56.908Z"
   },
   {
    "duration": 45,
    "start_time": "2023-01-03T12:57:14.449Z"
   },
   {
    "duration": 47,
    "start_time": "2023-01-03T13:17:29.908Z"
   },
   {
    "duration": 48,
    "start_time": "2023-01-03T13:17:35.613Z"
   },
   {
    "duration": 52,
    "start_time": "2023-01-03T13:17:43.267Z"
   },
   {
    "duration": 45,
    "start_time": "2023-01-03T13:30:25.302Z"
   },
   {
    "duration": 56,
    "start_time": "2023-01-03T13:48:00.228Z"
   },
   {
    "duration": 42,
    "start_time": "2023-01-03T14:08:18.084Z"
   },
   {
    "duration": 480,
    "start_time": "2023-01-03T14:12:24.976Z"
   },
   {
    "duration": 19,
    "start_time": "2023-01-03T14:12:25.458Z"
   },
   {
    "duration": 13,
    "start_time": "2023-01-03T14:12:25.479Z"
   },
   {
    "duration": 9,
    "start_time": "2023-01-03T14:12:25.496Z"
   },
   {
    "duration": 30,
    "start_time": "2023-01-03T14:12:25.506Z"
   },
   {
    "duration": 2,
    "start_time": "2023-01-03T14:12:25.538Z"
   },
   {
    "duration": 11,
    "start_time": "2023-01-03T14:12:25.542Z"
   },
   {
    "duration": 6,
    "start_time": "2023-01-03T14:12:25.554Z"
   },
   {
    "duration": 36,
    "start_time": "2023-01-03T14:12:25.561Z"
   },
   {
    "duration": 4,
    "start_time": "2023-01-03T14:12:25.599Z"
   },
   {
    "duration": 39,
    "start_time": "2023-01-03T14:12:25.604Z"
   },
   {
    "duration": 9,
    "start_time": "2023-01-03T14:12:25.645Z"
   },
   {
    "duration": 6,
    "start_time": "2023-01-03T14:12:25.655Z"
   },
   {
    "duration": 34,
    "start_time": "2023-01-03T14:12:25.663Z"
   },
   {
    "duration": 17,
    "start_time": "2023-01-03T14:12:25.698Z"
   },
   {
    "duration": 14,
    "start_time": "2023-01-03T14:12:25.717Z"
   },
   {
    "duration": 3,
    "start_time": "2023-01-03T14:12:25.732Z"
   },
   {
    "duration": 20,
    "start_time": "2023-01-03T14:12:25.736Z"
   },
   {
    "duration": 8,
    "start_time": "2023-01-03T14:12:25.758Z"
   },
   {
    "duration": 29,
    "start_time": "2023-01-03T14:12:25.768Z"
   },
   {
    "duration": 8,
    "start_time": "2023-01-03T14:12:25.798Z"
   },
   {
    "duration": 6,
    "start_time": "2023-01-03T14:12:25.807Z"
   },
   {
    "duration": 16,
    "start_time": "2023-01-03T14:12:25.814Z"
   },
   {
    "duration": 16,
    "start_time": "2023-01-03T14:12:25.831Z"
   },
   {
    "duration": 804,
    "start_time": "2023-01-03T14:12:25.849Z"
   },
   {
    "duration": 83,
    "start_time": "2023-01-03T14:12:26.654Z"
   },
   {
    "duration": 13,
    "start_time": "2023-01-03T14:12:26.738Z"
   },
   {
    "duration": 130,
    "start_time": "2023-01-03T14:12:26.754Z"
   },
   {
    "duration": 91,
    "start_time": "2023-01-03T14:12:26.886Z"
   },
   {
    "duration": 29,
    "start_time": "2023-01-03T14:12:26.979Z"
   },
   {
    "duration": 19,
    "start_time": "2023-01-03T14:12:27.010Z"
   },
   {
    "duration": 128,
    "start_time": "2023-01-03T14:12:27.031Z"
   },
   {
    "duration": 83,
    "start_time": "2023-01-03T14:12:27.160Z"
   },
   {
    "duration": 14,
    "start_time": "2023-01-03T14:12:27.245Z"
   },
   {
    "duration": 116,
    "start_time": "2023-01-03T14:12:27.261Z"
   },
   {
    "duration": 88,
    "start_time": "2023-01-03T14:12:27.379Z"
   },
   {
    "duration": 13,
    "start_time": "2023-01-03T14:12:27.468Z"
   },
   {
    "duration": 40,
    "start_time": "2023-01-03T14:12:27.482Z"
   },
   {
    "duration": 11,
    "start_time": "2023-01-03T14:12:27.524Z"
   }
  ],
  "colab": {
   "name": "dpp_template_part2.ipynb",
   "provenance": []
  },
  "kernelspec": {
   "display_name": "Python 3 (ipykernel)",
   "language": "python",
   "name": "python3"
  },
  "language_info": {
   "codemirror_mode": {
    "name": "ipython",
    "version": 3
   },
   "file_extension": ".py",
   "mimetype": "text/x-python",
   "name": "python",
   "nbconvert_exporter": "python",
   "pygments_lexer": "ipython3",
   "version": "3.9.5"
  },
  "toc": {
   "base_numbering": 1,
   "nav_menu": {},
   "number_sections": true,
   "sideBar": true,
   "skip_h1_title": true,
   "title_cell": "Table of Contents",
   "title_sidebar": "Contents",
   "toc_cell": false,
   "toc_position": {},
   "toc_section_display": true,
   "toc_window_display": true
  }
 },
 "nbformat": 4,
 "nbformat_minor": 5
}
