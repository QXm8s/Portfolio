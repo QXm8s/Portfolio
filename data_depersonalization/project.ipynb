{
 "cells": [
  {
   "cell_type": "markdown",
   "metadata": {},
   "source": [
    "<h1 style=\"text-align: center;\">МАТРИЧНОЕ ПРЕОБРАЗОВАНИЕ ПРИЗНАКОВ НА ПРИМЕРЕ ЗАДАЧИ ОБЕЗЛИЧИВАНИЯ ДАННЫХ</h1>"
   ]
  },
  {
   "cell_type": "markdown",
   "metadata": {
    "toc": true
   },
   "source": [
    "<h1>Содержание<span class=\"tocSkip\"></span></h1>\n",
    "<div class=\"toc\"><ul class=\"toc-item\"><li><span><a href=\"#Описание-проекта\" data-toc-modified-id=\"Описание-проекта-1\"><span class=\"toc-item-num\">1&nbsp;&nbsp;</span>Описание проекта</a></span><ul class=\"toc-item\"><li><span><a href=\"#Описание-данных\" data-toc-modified-id=\"Описание-данных-1.1\"><span class=\"toc-item-num\">1.1&nbsp;&nbsp;</span>Описание данных</a></span></li><li><span><a href=\"#Постановка-задачи\" data-toc-modified-id=\"Постановка-задачи-1.2\"><span class=\"toc-item-num\">1.2&nbsp;&nbsp;</span>Постановка задачи</a></span></li></ul></li><li><span><a href=\"#Импорт-библиотек,-описание-констант\" data-toc-modified-id=\"Импорт-библиотек,-описание-констант-2\"><span class=\"toc-item-num\">2&nbsp;&nbsp;</span>Импорт библиотек, описание констант</a></span></li><li><span><a href=\"#Обзор-и-подготовка-данных\" data-toc-modified-id=\"Обзор-и-подготовка-данных-3\"><span class=\"toc-item-num\">3&nbsp;&nbsp;</span>Обзор и подготовка данных</a></span><ul class=\"toc-item\"><li><span><a href=\"#Переименование-столбцов\" data-toc-modified-id=\"Переименование-столбцов-3.1\"><span class=\"toc-item-num\">3.1&nbsp;&nbsp;</span>Переименование столбцов</a></span></li><li><span><a href=\"#Корректировка-типов\" data-toc-modified-id=\"Корректировка-типов-3.2\"><span class=\"toc-item-num\">3.2&nbsp;&nbsp;</span>Корректировка типов</a></span></li><li><span><a href=\"#Проверка\" data-toc-modified-id=\"Проверка-3.3\"><span class=\"toc-item-num\">3.3&nbsp;&nbsp;</span>Проверка</a></span></li></ul></li><li><span><a href=\"#Умножение-на-матрицу\" data-toc-modified-id=\"Умножение-на-матрицу-4\"><span class=\"toc-item-num\">4&nbsp;&nbsp;</span>Умножение на матрицу</a></span></li><li><span><a href=\"#Алгоритм-преобразования\" data-toc-modified-id=\"Алгоритм-преобразования-5\"><span class=\"toc-item-num\">5&nbsp;&nbsp;</span>Алгоритм преобразования</a></span></li><li><span><a href=\"#Проверка-алгоритма\" data-toc-modified-id=\"Проверка-алгоритма-6\"><span class=\"toc-item-num\">6&nbsp;&nbsp;</span>Проверка алгоритма</a></span><ul class=\"toc-item\"><li><span><a href=\"#Признаки-без-шифрования\" data-toc-modified-id=\"Признаки-без-шифрования-6.1\"><span class=\"toc-item-num\">6.1&nbsp;&nbsp;</span>Признаки без шифрования</a></span></li><li><span><a href=\"#Признаки-с-шифрованием\" data-toc-modified-id=\"Признаки-с-шифрованием-6.2\"><span class=\"toc-item-num\">6.2&nbsp;&nbsp;</span>Признаки с шифрованием</a></span></li><li><span><a href=\"#Заключение\" data-toc-modified-id=\"Заключение-6.3\"><span class=\"toc-item-num\">6.3&nbsp;&nbsp;</span>Заключение</a></span></li></ul></li><li><span><a href=\"#Выводы\" data-toc-modified-id=\"Выводы-7\"><span class=\"toc-item-num\">7&nbsp;&nbsp;</span>Выводы</a></span></li><li><span><a href=\"#Чек-лист-проверки\" data-toc-modified-id=\"Чек-лист-проверки-8\"><span class=\"toc-item-num\">8&nbsp;&nbsp;</span>Чек-лист проверки</a></span></li></ul></div>"
   ]
  },
  {
   "cell_type": "markdown",
   "metadata": {},
   "source": [
    "## Описание проекта \n",
    "Вам нужно защитить данные клиентов страховой компании «Хоть потоп». \n",
    "### Описание данных \n",
    "В вашем распоряжении данные клиентов.\n",
    "\n",
    "**Признаки:**\n",
    " - `Пол` - пол застрахованного, \n",
    " - `Возраст` - возраст застрахованного,\n",
    " - `Зарплата` - зарплата застрахованного,\n",
    " - `Члены семьи` - количество членов семьи.\n",
    " \n",
    "**Целевой признак:**\n",
    " - `Страховые выплаты` - количество страховых выплат клиенту за последние 5 лет.\n",
    " \n",
    "### Постановка задачи\n",
    "Разработайте такой метод преобразования данных, чтобы по ним было сложно восстановить персональную информацию. Обоснуйте корректность его работы. \n",
    "\n",
    "**Важно!**\n",
    "Нужно защитить данные, чтобы при преобразовании качество моделей машинного обучения не ухудшилось. Подбирать наилучшую модель не требуется.\n",
    "\n",
    "**Ход решения:**\n",
    " - загрузите и изучите данные, \n",
    " - покажите аналитически, изменится ли качество линейной регрессии при умножении признаков на обратимую матрицу,\n",
    " - сформулируйте и обоснуйте алгоритм преобразования данных для решения задачи,  \n",
    " - запрограммируйте алгоритм, применив матричные операции,\n",
    " - с помощью метрики `R2` покажите, что качество моделей `LinearRegression` не отличается до и после преобразования. \n",
    "\n",
    "## Импорт библиотек, описание констант"
   ]
  },
  {
   "cell_type": "code",
   "execution_count": 1,
   "metadata": {},
   "outputs": [],
   "source": [
    "import pandas as pd\n",
    "import numpy as np\n",
    "from sklearn.metrics import r2_score\n",
    "from sklearn.model_selection import train_test_split\n",
    "from sklearn.linear_model import LinearRegression"
   ]
  },
  {
   "cell_type": "code",
   "execution_count": 2,
   "metadata": {},
   "outputs": [],
   "source": [
    "#фиксируем: \n",
    "# - параметр random state\n",
    "SEED = 42\n",
    "# - путь к файлам данных\n",
    "PATH = '/datasets/insurance.csv'\n",
    "# - целевой признак\n",
    "TARGET = 'payments'"
   ]
  },
  {
   "cell_type": "markdown",
   "metadata": {},
   "source": [
    "## Обзор и подготовка данных\n",
    "Поместим данные в DataFrame. На примере нескольких строк оценим датасеты визульно. Посмотрим на общую информацию."
   ]
  },
  {
   "cell_type": "code",
   "execution_count": 3,
   "metadata": {
    "scrolled": false
   },
   "outputs": [
    {
     "data": {
      "text/html": [
       "<div>\n",
       "<style scoped>\n",
       "    .dataframe tbody tr th:only-of-type {\n",
       "        vertical-align: middle;\n",
       "    }\n",
       "\n",
       "    .dataframe tbody tr th {\n",
       "        vertical-align: top;\n",
       "    }\n",
       "\n",
       "    .dataframe thead th {\n",
       "        text-align: right;\n",
       "    }\n",
       "</style>\n",
       "<table border=\"1\" class=\"dataframe\">\n",
       "  <thead>\n",
       "    <tr style=\"text-align: right;\">\n",
       "      <th></th>\n",
       "      <th>Пол</th>\n",
       "      <th>Возраст</th>\n",
       "      <th>Зарплата</th>\n",
       "      <th>Члены семьи</th>\n",
       "      <th>Страховые выплаты</th>\n",
       "    </tr>\n",
       "  </thead>\n",
       "  <tbody>\n",
       "    <tr>\n",
       "      <th>4670</th>\n",
       "      <td>0</td>\n",
       "      <td>34.0</td>\n",
       "      <td>35500.0</td>\n",
       "      <td>1</td>\n",
       "      <td>0</td>\n",
       "    </tr>\n",
       "    <tr>\n",
       "      <th>4163</th>\n",
       "      <td>1</td>\n",
       "      <td>27.0</td>\n",
       "      <td>50400.0</td>\n",
       "      <td>2</td>\n",
       "      <td>0</td>\n",
       "    </tr>\n",
       "    <tr>\n",
       "      <th>2035</th>\n",
       "      <td>1</td>\n",
       "      <td>21.0</td>\n",
       "      <td>59200.0</td>\n",
       "      <td>1</td>\n",
       "      <td>0</td>\n",
       "    </tr>\n",
       "    <tr>\n",
       "      <th>2766</th>\n",
       "      <td>1</td>\n",
       "      <td>35.0</td>\n",
       "      <td>32400.0</td>\n",
       "      <td>2</td>\n",
       "      <td>0</td>\n",
       "    </tr>\n",
       "    <tr>\n",
       "      <th>1030</th>\n",
       "      <td>0</td>\n",
       "      <td>20.0</td>\n",
       "      <td>46100.0</td>\n",
       "      <td>1</td>\n",
       "      <td>0</td>\n",
       "    </tr>\n",
       "    <tr>\n",
       "      <th>227</th>\n",
       "      <td>0</td>\n",
       "      <td>28.0</td>\n",
       "      <td>54300.0</td>\n",
       "      <td>1</td>\n",
       "      <td>0</td>\n",
       "    </tr>\n",
       "    <tr>\n",
       "      <th>4605</th>\n",
       "      <td>0</td>\n",
       "      <td>29.0</td>\n",
       "      <td>46300.0</td>\n",
       "      <td>1</td>\n",
       "      <td>0</td>\n",
       "    </tr>\n",
       "    <tr>\n",
       "      <th>1538</th>\n",
       "      <td>1</td>\n",
       "      <td>36.0</td>\n",
       "      <td>41900.0</td>\n",
       "      <td>5</td>\n",
       "      <td>0</td>\n",
       "    </tr>\n",
       "    <tr>\n",
       "      <th>2428</th>\n",
       "      <td>0</td>\n",
       "      <td>29.0</td>\n",
       "      <td>43400.0</td>\n",
       "      <td>1</td>\n",
       "      <td>0</td>\n",
       "    </tr>\n",
       "    <tr>\n",
       "      <th>4675</th>\n",
       "      <td>0</td>\n",
       "      <td>26.0</td>\n",
       "      <td>46800.0</td>\n",
       "      <td>1</td>\n",
       "      <td>0</td>\n",
       "    </tr>\n",
       "  </tbody>\n",
       "</table>\n",
       "</div>"
      ],
      "text/plain": [
       "      Пол  Возраст  Зарплата  Члены семьи  Страховые выплаты\n",
       "4670    0     34.0   35500.0            1                  0\n",
       "4163    1     27.0   50400.0            2                  0\n",
       "2035    1     21.0   59200.0            1                  0\n",
       "2766    1     35.0   32400.0            2                  0\n",
       "1030    0     20.0   46100.0            1                  0\n",
       "227     0     28.0   54300.0            1                  0\n",
       "4605    0     29.0   46300.0            1                  0\n",
       "1538    1     36.0   41900.0            5                  0\n",
       "2428    0     29.0   43400.0            1                  0\n",
       "4675    0     26.0   46800.0            1                  0"
      ]
     },
     "metadata": {},
     "output_type": "display_data"
    },
    {
     "name": "stdout",
     "output_type": "stream",
     "text": [
      "<class 'pandas.core.frame.DataFrame'>\n",
      "RangeIndex: 5000 entries, 0 to 4999\n",
      "Data columns (total 5 columns):\n",
      " #   Column             Non-Null Count  Dtype  \n",
      "---  ------             --------------  -----  \n",
      " 0   Пол                5000 non-null   int64  \n",
      " 1   Возраст            5000 non-null   float64\n",
      " 2   Зарплата           5000 non-null   float64\n",
      " 3   Члены семьи        5000 non-null   int64  \n",
      " 4   Страховые выплаты  5000 non-null   int64  \n",
      "dtypes: float64(2), int64(3)\n",
      "memory usage: 195.4 KB\n"
     ]
    }
   ],
   "source": [
    "df = pd.read_csv(PATH)\n",
    "display(df.sample(10))\n",
    "df.info()"
   ]
  },
  {
   "cell_type": "markdown",
   "metadata": {},
   "source": [
    "Типы данных, за исключением возраста, определены верно, данные интерпретированы корректно. Пропуски отсутствуют. Столбцы именованы в кириллице. \n",
    "\n",
    "### Переименование столбцов\n",
    "Переименуем столбцы в `snake_case`, сохранив семантику."
   ]
  },
  {
   "cell_type": "code",
   "execution_count": 4,
   "metadata": {},
   "outputs": [],
   "source": [
    "df.columns = ['gender', 'age', 'salary', 'family', 'payments']"
   ]
  },
  {
   "cell_type": "markdown",
   "metadata": {},
   "source": [
    "### Корректировка типов \n",
    "Приведем столбец `age` к целочисленному типу, предварительно убедившись, что значения кратны едиинице."
   ]
  },
  {
   "cell_type": "code",
   "execution_count": 5,
   "metadata": {},
   "outputs": [
    {
     "name": "stdout",
     "output_type": "stream",
     "text": [
      "Уникальные значения стобца age:\n",
      " [41. 46. 29. 21. 28. 43. 39. 25. 36. 32. 38. 23. 40. 34. 26. 42. 27. 33.\n",
      " 47. 30. 19. 31. 22. 20. 24. 18. 37. 48. 45. 44. 52. 49. 35. 56. 65. 55.\n",
      " 57. 54. 50. 53. 51. 58. 59. 60. 61. 62.]\n"
     ]
    }
   ],
   "source": [
    "print('Уникальные значения стобца age:\\n', df['age'].unique())"
   ]
  },
  {
   "cell_type": "code",
   "execution_count": 6,
   "metadata": {},
   "outputs": [],
   "source": [
    "df = df.astype({'age' : 'int64'})"
   ]
  },
  {
   "cell_type": "markdown",
   "metadata": {},
   "source": [
    "### Проверка\n",
    "Посмотрим на результат преобразований. "
   ]
  },
  {
   "cell_type": "code",
   "execution_count": 7,
   "metadata": {},
   "outputs": [
    {
     "name": "stdout",
     "output_type": "stream",
     "text": [
      "<class 'pandas.core.frame.DataFrame'>\n",
      "RangeIndex: 5000 entries, 0 to 4999\n",
      "Data columns (total 5 columns):\n",
      " #   Column    Non-Null Count  Dtype  \n",
      "---  ------    --------------  -----  \n",
      " 0   gender    5000 non-null   int64  \n",
      " 1   age       5000 non-null   int64  \n",
      " 2   salary    5000 non-null   float64\n",
      " 3   family    5000 non-null   int64  \n",
      " 4   payments  5000 non-null   int64  \n",
      "dtypes: float64(1), int64(4)\n",
      "memory usage: 195.4 KB\n"
     ]
    }
   ],
   "source": [
    "df.info()"
   ]
  },
  {
   "cell_type": "markdown",
   "metadata": {},
   "source": [
    "Преобразования прошли корректно.\n",
    "## Умножение на матрицу\n",
    "**ВОПРОС**\n",
    "\n",
    "Изменится ли предсказательное качество линейной регрессии при умножении признаков на обратимую матрицу?      \n",
    "\n",
    "**ОТВЕТ**\n",
    "\n",
    "Не изменится (см. аналитическое доказательство ниже).\n",
    "\n",
    "**ОБОСНОВАНИЕ**\n",
    "\n",
    "Напомним основные зависимости для алгоритма линейной регрессии.\n",
    "\n",
    "Вектор предсказаний: $a = Xw$\n",
    "\n",
    "Весовой вектор: $w = (X^T X)^{-1}X^Ty$\n",
    "\n",
    "Формулировка задачи обучения: $w = \\arg\\min_w MSE(Xw, y)$, где:\n",
    "- $X$ — матрица признаков (нулевой столбец состоит из единиц),\n",
    "- $y$ — вектор целевого признака,\n",
    "- $w$ — вектор весов линейной регрессии (нулевой элемент равен сдвигу)\n",
    "\n",
    "Запишем матрицу преобразованных признаков в виде $X_{1} = XP$, где:\n",
    " - $X$ - матрица исходных признаков, \n",
    " - $P$ - случайная обратимая матрица. \n",
    " \n",
    "Таким образом, вектор предсказаний: $a_{1} = X_{1}w_{1}$\n",
    "\n",
    "А весовой вектор: $w_{1} = (X_{1}^T X_{1})^{-1} X_{1}^T y$\n",
    "\n",
    "**Найдем зависимость $w_{1}(w)$:**\n",
    "\n",
    "$$w_{1} = (X_{1}^T X_{1})^{-1} X_{1}^T y = ((XP)^T (XP))^{-1} (XP)^T y$$\n",
    "\n",
    "Воспользовавшись свойствами матриц: $(AB)^{-1} = B^{-1}A^{-1}$, $(AB)^{T} = B^{T}A^{T}$ и $A(BC) = (AB)C$, получим следующее: \n",
    "\n",
    "$$w_{1} = (P^TX^TXP)^{-1}(XP)^Ty = P^{-1}(X^TX)^{-1}(P^T)^{-1}P^TX^Ty$$\n",
    "\n",
    "Учитывая, что $AA^{-1} = A^{-1}A = E$ и $AE = EA = A$, получим следующее:\n",
    "\n",
    "$$w_{1} = P^{-1}(X^TX)^{-1}EX^Ty = P^{-1}(X^TX)^{-1}X^Ty$$\n",
    "\n",
    "При этом $w = (X^T X)^{-1}X^Ty$, следовательно: \n",
    "\n",
    "$$w_{1} = P^{-1}w$$\n",
    "\n",
    "**Покажем, что $a = a_{1}$:**\n",
    "\n",
    "$$a_{1} = X_{1}w_{1} = XPP^{-1}w = XEw = Xw = a$$ \n",
    "\n",
    "Векторы предсказаний равны для линейной регрессии с преобразованными ($X_{1}$) и исходными ($X$) признаками. Следовательно, преобразование признаков не влияет на качество модели.  \n",
    "## Алгоритм преобразования\n",
    "Обезличим признаки, умножив их на случайную обратимую матрицу.\n",
    "\n",
    "**АЛГОРИТМ**\n",
    " - в качестве ключа шифрования подбираем обратимую (квадратную и невырожденную) матрицу $P$, состоящую из случайных чисел. Важно, чтобы ее размерность была согласована с матрицей признаков $X$, иначе операция умножения будет невозможна. Для нашего случая, это $P_{4x4}$;\n",
    " - получаем шифрованную версию признаков $X_{1}$ умножением матрицы признаков $X$ на ключ шифрования $P$;\n",
    " - формируем обучающую и тестовую выборки с зашифрованными признаками;\n",
    " - обучаем модель `LinearRegression` на зашифрованной обучающей выборке, замеряем качество (`R2`) на зашифрованной тестовой выборке.\n",
    "\n",
    "**ОБОСНОВАНИЕ**\n",
    "\n",
    "Умножив матрицу признаков $X_{mxn}$ на обратимую матрицу $P_{nxn}$, мы получим новую матрицу $X_{1mxn}$. Таким образом, мы обезличим признаковое пространство, сохранив его размерность. При этом обезличенные признаки однозначно зависимы от исходных. Т.е. нам доступно, как шифрование $X_{1mxn} = X_{mxn}P_{nxn}$, так и дешифрование $X_{mxn} = X_{1mxn}P_{nxn}^{-1}$ признаков без потери предсказательной способности модели, что показано ниже экспериметально."
   ]
  },
  {
   "cell_type": "markdown",
   "metadata": {},
   "source": [
    "## Проверка алгоритма\n",
    "Определим следующие функции:"
   ]
  },
  {
   "cell_type": "code",
   "execution_count": 8,
   "metadata": {},
   "outputs": [],
   "source": [
    "def encryption_key(size):\n",
    "    \"\"\"Возвращает ключ шифрования - \n",
    "    обратимую (квадратную, невырожденную) \n",
    "    матрицу заданного размера, заполненную \n",
    "    случайными целыми числами от 1 до 100\n",
    "    АРГУМЕНТЫ:\n",
    "    size -- размер ключа шифрования\n",
    "    \"\"\"\n",
    "    result = None\n",
    "    # инициализируем определитель\n",
    "    det = 0\n",
    "    # пока определитель равен нулю \n",
    "    while det == 0:\n",
    "        # формируем случайную матрицу \n",
    "        result = np.random.randint(1, 100, (size, size))\n",
    "        # считаем определитель \n",
    "        det = np.linalg.det(result)\n",
    "    # определитель отличен от нуля, т.е. \n",
    "    # матрица невырожденная, при этом квадратная, \n",
    "    # следовательно, обратимая\n",
    "    return result  "
   ]
  },
  {
   "cell_type": "code",
   "execution_count": 9,
   "metadata": {},
   "outputs": [],
   "source": [
    "def encrypt(X):\n",
    "    \"\"\"Возвращает матрицу зашифрованных\n",
    "    признаков и ключ шифрования\n",
    "    АРГУМЕНТЫ:\n",
    "    X -- признаки для шифрования\n",
    "    \"\"\"\n",
    "    P = encryption_key(X.shape[1])\n",
    "    return X @ P, P"
   ]
  },
  {
   "cell_type": "markdown",
   "metadata": {},
   "source": [
    "Подготовим признаки и ключ шифрования. "
   ]
  },
  {
   "cell_type": "code",
   "execution_count": 10,
   "metadata": {},
   "outputs": [],
   "source": [
    "# вектор целевого признака\n",
    "y = df[TARGET]\n",
    "# исходная матрица признаков \n",
    "X = df.drop(TARGET, axis=1)\n",
    "# зашифрованная матрица признаков\n",
    "# и матрица - ключ шифрования\n",
    "X1, P = encrypt(X.values)"
   ]
  },
  {
   "cell_type": "markdown",
   "metadata": {},
   "source": [
    "Проверим преобразование признаков и ключ шифрования."
   ]
  },
  {
   "cell_type": "code",
   "execution_count": 11,
   "metadata": {},
   "outputs": [
    {
     "name": "stdout",
     "output_type": "stream",
     "text": [
      "Ключ шифрования:\n",
      " [[45 23 12 25]\n",
      " [11 15 63  2]\n",
      " [52  6 18 53]\n",
      " [29 80 21 95]]\n"
     ]
    },
    {
     "data": {
      "text/html": [
       "<div>\n",
       "<style scoped>\n",
       "    .dataframe tbody tr th:only-of-type {\n",
       "        vertical-align: middle;\n",
       "    }\n",
       "\n",
       "    .dataframe tbody tr th {\n",
       "        vertical-align: top;\n",
       "    }\n",
       "\n",
       "    .dataframe thead th {\n",
       "        text-align: right;\n",
       "    }\n",
       "</style>\n",
       "<table border=\"1\" class=\"dataframe\">\n",
       "  <thead>\n",
       "    <tr style=\"text-align: right;\">\n",
       "      <th></th>\n",
       "      <th>gender</th>\n",
       "      <th>age</th>\n",
       "      <th>salary</th>\n",
       "      <th>family</th>\n",
       "    </tr>\n",
       "  </thead>\n",
       "  <tbody>\n",
       "    <tr>\n",
       "      <th>0</th>\n",
       "      <td>2579725.0</td>\n",
       "      <td>298318.0</td>\n",
       "      <td>895416.0</td>\n",
       "      <td>2629002.0</td>\n",
       "    </tr>\n",
       "    <tr>\n",
       "      <th>1</th>\n",
       "      <td>1976535.0</td>\n",
       "      <td>228770.0</td>\n",
       "      <td>686919.0</td>\n",
       "      <td>2014187.0</td>\n",
       "    </tr>\n",
       "    <tr>\n",
       "      <th>2</th>\n",
       "      <td>1092319.0</td>\n",
       "      <td>126435.0</td>\n",
       "      <td>379827.0</td>\n",
       "      <td>1113058.0</td>\n",
       "    </tr>\n",
       "    <tr>\n",
       "      <th>3</th>\n",
       "      <td>2168689.0</td>\n",
       "      <td>250675.0</td>\n",
       "      <td>751965.0</td>\n",
       "      <td>2210332.0</td>\n",
       "    </tr>\n",
       "    <tr>\n",
       "      <th>4</th>\n",
       "      <td>1357553.0</td>\n",
       "      <td>157043.0</td>\n",
       "      <td>471576.0</td>\n",
       "      <td>1383381.0</td>\n",
       "    </tr>\n",
       "    <tr>\n",
       "      <th>...</th>\n",
       "      <td>...</td>\n",
       "      <td>...</td>\n",
       "      <td>...</td>\n",
       "      <td>...</td>\n",
       "    </tr>\n",
       "    <tr>\n",
       "      <th>4995</th>\n",
       "      <td>1856766.0</td>\n",
       "      <td>214780.0</td>\n",
       "      <td>644406.0</td>\n",
       "      <td>1892346.0</td>\n",
       "    </tr>\n",
       "    <tr>\n",
       "      <th>4996</th>\n",
       "      <td>2725203.0</td>\n",
       "      <td>314990.0</td>\n",
       "      <td>945363.0</td>\n",
       "      <td>2777363.0</td>\n",
       "    </tr>\n",
       "    <tr>\n",
       "      <th>4997</th>\n",
       "      <td>1763078.0</td>\n",
       "      <td>203860.0</td>\n",
       "      <td>611502.0</td>\n",
       "      <td>1796930.0</td>\n",
       "    </tr>\n",
       "    <tr>\n",
       "      <th>4998</th>\n",
       "      <td>1700774.0</td>\n",
       "      <td>196793.0</td>\n",
       "      <td>590061.0</td>\n",
       "      <td>1733454.0</td>\n",
       "    </tr>\n",
       "    <tr>\n",
       "      <th>4999</th>\n",
       "      <td>2111582.0</td>\n",
       "      <td>244123.0</td>\n",
       "      <td>732597.0</td>\n",
       "      <td>2151976.0</td>\n",
       "    </tr>\n",
       "  </tbody>\n",
       "</table>\n",
       "<p>5000 rows × 4 columns</p>\n",
       "</div>"
      ],
      "text/plain": [
       "         gender       age    salary     family\n",
       "0     2579725.0  298318.0  895416.0  2629002.0\n",
       "1     1976535.0  228770.0  686919.0  2014187.0\n",
       "2     1092319.0  126435.0  379827.0  1113058.0\n",
       "3     2168689.0  250675.0  751965.0  2210332.0\n",
       "4     1357553.0  157043.0  471576.0  1383381.0\n",
       "...         ...       ...       ...        ...\n",
       "4995  1856766.0  214780.0  644406.0  1892346.0\n",
       "4996  2725203.0  314990.0  945363.0  2777363.0\n",
       "4997  1763078.0  203860.0  611502.0  1796930.0\n",
       "4998  1700774.0  196793.0  590061.0  1733454.0\n",
       "4999  2111582.0  244123.0  732597.0  2151976.0\n",
       "\n",
       "[5000 rows x 4 columns]"
      ]
     },
     "execution_count": 11,
     "metadata": {},
     "output_type": "execute_result"
    }
   ],
   "source": [
    "print('Ключ шифрования:\\n', P)\n",
    "pd.DataFrame(X1, columns=X.columns, index=X.index)"
   ]
  },
  {
   "cell_type": "markdown",
   "metadata": {},
   "source": [
    "Признаки обезличены, размер ключа шифрования (4х4) согласован с количесвом признаков.\n",
    "### Признаки без шифрования\n",
    "Сформируем обучающую и тестовую выборки. Проверим их размерность. "
   ]
  },
  {
   "cell_type": "code",
   "execution_count": 12,
   "metadata": {},
   "outputs": [
    {
     "name": "stdout",
     "output_type": "stream",
     "text": [
      "Размер выборок: \n",
      " - обучающая (признаки): (3750, 4) \n",
      " - обучающая (целевой признак): (3750,) \n",
      " - тестовая (признаки): (1250, 4) \n",
      " - тестовая (целевой признак): (1250,)\n"
     ]
    }
   ],
   "source": [
    "X_train, X_test, y_train, y_test = \\\n",
    "train_test_split(X, y, test_size=0.25, random_state=SEED)\n",
    "print('Размер выборок:',\n",
    "     '\\n - обучающая (признаки):', X_train.shape,\n",
    "     '\\n - обучающая (целевой признак):', y_train.shape,\n",
    "     '\\n - тестовая (признаки):', X_test.shape,\n",
    "     '\\n - тестовая (целевой признак):', y_test.shape,)"
   ]
  },
  {
   "cell_type": "markdown",
   "metadata": {},
   "source": [
    "Выборки сформированы корректно.\n",
    "\n",
    "Обучим модель `LinearRegression` и определим значение `R2` на тестовой выборке. "
   ]
  },
  {
   "cell_type": "code",
   "execution_count": 13,
   "metadata": {},
   "outputs": [
    {
     "name": "stdout",
     "output_type": "stream",
     "text": [
      "R2 на данных без шифрования: 0.4255\n"
     ]
    }
   ],
   "source": [
    "lr = LinearRegression()\n",
    "lr.fit(X_train, y_train)\n",
    "a = lr.predict(X_test)\n",
    "r2 = round(r2_score(y_test, a), 4)\n",
    "print('R2 на данных без шифрования:', r2)"
   ]
  },
  {
   "cell_type": "markdown",
   "metadata": {},
   "source": [
    "### Признаки с шифрованием\n",
    "Сформируем обучающую и тестовую выборки для шифрованных данных. Проверим размерность выборок. "
   ]
  },
  {
   "cell_type": "code",
   "execution_count": 14,
   "metadata": {
    "scrolled": true
   },
   "outputs": [
    {
     "name": "stdout",
     "output_type": "stream",
     "text": [
      "Размер выборок: \n",
      " - обучающая (признаки): (3750, 4) \n",
      " - обучающая (целевой признак): (3750,) \n",
      " - тестовая (признаки): (1250, 4) \n",
      " - тестовая (целевой признак): (1250,)\n"
     ]
    }
   ],
   "source": [
    "X1_train, X1_test, y_train, y_test = \\\n",
    "train_test_split(X1, y, test_size=0.25, random_state=SEED)\n",
    "print('Размер выборок:',\n",
    "     '\\n - обучающая (признаки):', X1_train.shape,\n",
    "     '\\n - обучающая (целевой признак):', y_train.shape,\n",
    "     '\\n - тестовая (признаки):', X1_test.shape,\n",
    "     '\\n - тестовая (целевой признак):', y_test.shape,)"
   ]
  },
  {
   "cell_type": "markdown",
   "metadata": {},
   "source": [
    "Выборки сформированы корректно.\n",
    "\n",
    "На зашифрованных данных обучим модель `LinearRegression` и определим значение `R2` на тестовой выборке. "
   ]
  },
  {
   "cell_type": "code",
   "execution_count": 15,
   "metadata": {},
   "outputs": [
    {
     "name": "stdout",
     "output_type": "stream",
     "text": [
      "R2 на данных с шифрованием: 0.4255\n"
     ]
    }
   ],
   "source": [
    "lr1 = LinearRegression()\n",
    "lr1.fit(X1_train, y_train)\n",
    "a1 = lr1.predict(X1_test)\n",
    "r21 = round(r2_score(y_test, a1), 4)\n",
    "print('R2 на данных с шифрованием:', r21)"
   ]
  },
  {
   "cell_type": "markdown",
   "metadata": {},
   "source": [
    "### Заключение\n",
    "Сравним значение `R2` для исходных и обезличенных данных."
   ]
  },
  {
   "cell_type": "code",
   "execution_count": 16,
   "metadata": {},
   "outputs": [
    {
     "data": {
      "text/html": [
       "<div>\n",
       "<style scoped>\n",
       "    .dataframe tbody tr th:only-of-type {\n",
       "        vertical-align: middle;\n",
       "    }\n",
       "\n",
       "    .dataframe tbody tr th {\n",
       "        vertical-align: top;\n",
       "    }\n",
       "\n",
       "    .dataframe thead th {\n",
       "        text-align: right;\n",
       "    }\n",
       "</style>\n",
       "<table border=\"1\" class=\"dataframe\">\n",
       "  <thead>\n",
       "    <tr style=\"text-align: right;\">\n",
       "      <th></th>\n",
       "      <th>R2</th>\n",
       "    </tr>\n",
       "  </thead>\n",
       "  <tbody>\n",
       "    <tr>\n",
       "      <th>X (not encrypted)</th>\n",
       "      <td>0.4255</td>\n",
       "    </tr>\n",
       "    <tr>\n",
       "      <th>X1 (encrypted)</th>\n",
       "      <td>0.4255</td>\n",
       "    </tr>\n",
       "  </tbody>\n",
       "</table>\n",
       "</div>"
      ],
      "text/plain": [
       "                       R2\n",
       "X (not encrypted)  0.4255\n",
       "X1 (encrypted)     0.4255"
      ]
     },
     "execution_count": 16,
     "metadata": {},
     "output_type": "execute_result"
    }
   ],
   "source": [
    "pd.DataFrame([r2, r21], columns=['R2'], index=['X (not encrypted)', 'X1 (encrypted)'])"
   ]
  },
  {
   "cell_type": "markdown",
   "metadata": {},
   "source": [
    "Как видно, шифрование признаков не влияет на значение метрики `R2`. \n",
    "\n",
    "Проверим, выполняются ли зависимости:\n",
    "$$w_{1} = P^{-1}w$$"
   ]
  },
  {
   "cell_type": "code",
   "execution_count": 17,
   "metadata": {
    "scrolled": false
   },
   "outputs": [
    {
     "name": "stdout",
     "output_type": "stream",
     "text": [
      "Весовые коэффициенты LinearRegression с шифрованием признаков: \n",
      " - полученные экспериментально: [ 1.42615180e-04  5.06301651e-06  5.42179115e-04 -3.24638440e-04] \n",
      " - полученные теоретически    : [ 1.42615180e-04  5.06301651e-06  5.42179115e-04 -3.24638440e-04]\n"
     ]
    }
   ],
   "source": [
    "w = lr.coef_\n",
    "w1 = lr1.coef_\n",
    "print('Весовые коэффициенты LinearRegression с шифрованием признаков:',\n",
    "     '\\n - полученные экспериментально:', w1, \n",
    "     '\\n - полученные теоретически    :', np.linalg.inv(P) @ w)"
   ]
  },
  {
   "cell_type": "markdown",
   "metadata": {},
   "source": [
    "$$X = X_{1}P^{-1}$$\n",
    "\n",
    "На примере пяти случайных строк, сравним дешифрованную (подвергшуюся прямому и обратному шифрованию) матрицу признаков..."
   ]
  },
  {
   "cell_type": "code",
   "execution_count": 18,
   "metadata": {},
   "outputs": [
    {
     "data": {
      "text/html": [
       "<div>\n",
       "<style scoped>\n",
       "    .dataframe tbody tr th:only-of-type {\n",
       "        vertical-align: middle;\n",
       "    }\n",
       "\n",
       "    .dataframe tbody tr th {\n",
       "        vertical-align: top;\n",
       "    }\n",
       "\n",
       "    .dataframe thead th {\n",
       "        text-align: right;\n",
       "    }\n",
       "</style>\n",
       "<table border=\"1\" class=\"dataframe\">\n",
       "  <thead>\n",
       "    <tr style=\"text-align: right;\">\n",
       "      <th></th>\n",
       "      <th>gender</th>\n",
       "      <th>age</th>\n",
       "      <th>salary</th>\n",
       "      <th>family</th>\n",
       "    </tr>\n",
       "  </thead>\n",
       "  <tbody>\n",
       "    <tr>\n",
       "      <th>1501</th>\n",
       "      <td>1</td>\n",
       "      <td>28</td>\n",
       "      <td>56100.0</td>\n",
       "      <td>0</td>\n",
       "    </tr>\n",
       "    <tr>\n",
       "      <th>2586</th>\n",
       "      <td>1</td>\n",
       "      <td>32</td>\n",
       "      <td>41900.0</td>\n",
       "      <td>2</td>\n",
       "    </tr>\n",
       "    <tr>\n",
       "      <th>2653</th>\n",
       "      <td>1</td>\n",
       "      <td>30</td>\n",
       "      <td>26300.0</td>\n",
       "      <td>0</td>\n",
       "    </tr>\n",
       "    <tr>\n",
       "      <th>1055</th>\n",
       "      <td>1</td>\n",
       "      <td>30</td>\n",
       "      <td>37300.0</td>\n",
       "      <td>2</td>\n",
       "    </tr>\n",
       "    <tr>\n",
       "      <th>705</th>\n",
       "      <td>0</td>\n",
       "      <td>44</td>\n",
       "      <td>30000.0</td>\n",
       "      <td>1</td>\n",
       "    </tr>\n",
       "  </tbody>\n",
       "</table>\n",
       "</div>"
      ],
      "text/plain": [
       "      gender  age   salary  family\n",
       "1501       1   28  56100.0       0\n",
       "2586       1   32  41900.0       2\n",
       "2653       1   30  26300.0       0\n",
       "1055       1   30  37300.0       2\n",
       "705        0   44  30000.0       1"
      ]
     },
     "execution_count": 18,
     "metadata": {},
     "output_type": "execute_result"
    }
   ],
   "source": [
    "X1_decrypted = pd.DataFrame(X1 @ np.linalg.inv(P), columns=X.columns, index=X.index)\n",
    "X1_decrypted = X1_decrypted.round().astype({'gender' : 'int64', \n",
    "                                            'age' : 'int64',\n",
    "                                            'family' : 'int64'})\n",
    "X1_decrypted.sample(5, random_state=SEED)"
   ]
  },
  {
   "cell_type": "markdown",
   "metadata": {},
   "source": [
    "... с исходной (не шифровавшейся)."
   ]
  },
  {
   "cell_type": "code",
   "execution_count": 19,
   "metadata": {
    "scrolled": true
   },
   "outputs": [
    {
     "data": {
      "text/html": [
       "<div>\n",
       "<style scoped>\n",
       "    .dataframe tbody tr th:only-of-type {\n",
       "        vertical-align: middle;\n",
       "    }\n",
       "\n",
       "    .dataframe tbody tr th {\n",
       "        vertical-align: top;\n",
       "    }\n",
       "\n",
       "    .dataframe thead th {\n",
       "        text-align: right;\n",
       "    }\n",
       "</style>\n",
       "<table border=\"1\" class=\"dataframe\">\n",
       "  <thead>\n",
       "    <tr style=\"text-align: right;\">\n",
       "      <th></th>\n",
       "      <th>gender</th>\n",
       "      <th>age</th>\n",
       "      <th>salary</th>\n",
       "      <th>family</th>\n",
       "    </tr>\n",
       "  </thead>\n",
       "  <tbody>\n",
       "    <tr>\n",
       "      <th>1501</th>\n",
       "      <td>1</td>\n",
       "      <td>28</td>\n",
       "      <td>56100.0</td>\n",
       "      <td>0</td>\n",
       "    </tr>\n",
       "    <tr>\n",
       "      <th>2586</th>\n",
       "      <td>1</td>\n",
       "      <td>32</td>\n",
       "      <td>41900.0</td>\n",
       "      <td>2</td>\n",
       "    </tr>\n",
       "    <tr>\n",
       "      <th>2653</th>\n",
       "      <td>1</td>\n",
       "      <td>30</td>\n",
       "      <td>26300.0</td>\n",
       "      <td>0</td>\n",
       "    </tr>\n",
       "    <tr>\n",
       "      <th>1055</th>\n",
       "      <td>1</td>\n",
       "      <td>30</td>\n",
       "      <td>37300.0</td>\n",
       "      <td>2</td>\n",
       "    </tr>\n",
       "    <tr>\n",
       "      <th>705</th>\n",
       "      <td>0</td>\n",
       "      <td>44</td>\n",
       "      <td>30000.0</td>\n",
       "      <td>1</td>\n",
       "    </tr>\n",
       "  </tbody>\n",
       "</table>\n",
       "</div>"
      ],
      "text/plain": [
       "      gender  age   salary  family\n",
       "1501       1   28  56100.0       0\n",
       "2586       1   32  41900.0       2\n",
       "2653       1   30  26300.0       0\n",
       "1055       1   30  37300.0       2\n",
       "705        0   44  30000.0       1"
      ]
     },
     "execution_count": 19,
     "metadata": {},
     "output_type": "execute_result"
    }
   ],
   "source": [
    "X.sample(5, random_state=SEED)"
   ]
  },
  {
   "cell_type": "markdown",
   "metadata": {},
   "source": [
    "$$a = a_{1}$$"
   ]
  },
  {
   "cell_type": "code",
   "execution_count": 21,
   "metadata": {},
   "outputs": [
    {
     "name": "stdout",
     "output_type": "stream",
     "text": [
      "Прогнозы LinearRegression без шифрования и с шифрованием ИДЕНТИЧНЫ.\n"
     ]
    }
   ],
   "source": [
    "# приводим векторы предсказаний к целочисленному типу\n",
    "a_int = np.rint(a)\n",
    "a1_int = np.rint(a1)\n",
    "# сравниваем целочисленные векторы предсказаний\n",
    "result = None\n",
    "if np.array_equal(a_int, a1_int):\n",
    "    result = 'ИДЕНТИЧНЫ'\n",
    "else:\n",
    "    result = 'НЕ ИДЕНТИЧНЫ'\n",
    "    \n",
    "print('Прогнозы LinearRegression без шифрования и с шифрованием {0}.'.format(result))    "
   ]
  },
  {
   "cell_type": "markdown",
   "metadata": {},
   "source": [
    "Таким образом, зависимости, полученные аналитически ([см.4](#%D0%A3%D0%BC%D0%BD%D0%BE%D0%B6%D0%B5%D0%BD%D0%B8%D0%B5-%D0%BD%D0%B0-%D0%BC%D0%B0%D1%82%D1%80%D0%B8%D1%86%D1%83)), полностью подтверждаются экспериментально.\n",
    "## Выводы\n",
    "**В ходе загрузки и подготовки данных:**\n",
    " - переименованы столбцы ([см.3.1](#%D0%9F%D0%B5%D1%80%D0%B5%D0%B8%D0%BC%D0%B5%D0%BD%D0%BE%D0%B2%D0%B0%D0%BD%D0%B8%D0%B5-%D1%81%D1%82%D0%BE%D0%BB%D0%B1%D1%86%D0%BE%D0%B2)), \n",
    " - скорректированы типы данных ([см.3.2](#%D0%9A%D0%BE%D1%80%D1%80%D0%B5%D0%BA%D1%82%D0%B8%D1%80%D0%BE%D0%B2%D0%BA%D0%B0-%D1%82%D0%B8%D0%BF%D0%BE%D0%B2)).\n",
    " \n",
    "**В разделе \"Умножение на матрицу\"** ([см.4](#%D0%A3%D0%BC%D0%BD%D0%BE%D0%B6%D0%B5%D0%BD%D0%B8%D0%B5-%D0%BD%D0%B0-%D0%BC%D0%B0%D1%82%D1%80%D0%B8%D1%86%D1%83)): \n",
    " - аналитически показано, что качество линейной регрессии не меняется при умножении признаков на обратимую матрицу;\n",
    " - сформулированы зависимости параметров линейной регрессии для исходных и преобразованных данных ($X_{1} = XP$, $w_{1} = P^{-1}w$, $a = a_{1}$)\n",
    "\n",
    "**В разделе \"Алгоритм преобразования\"** предложен способ обезличивания данных путем умножения на обратимую матрицу ([см.5](#%D0%90%D0%BB%D0%B3%D0%BE%D1%80%D0%B8%D1%82%D0%BC-%D0%BF%D1%80%D0%B5%D0%BE%D0%B1%D1%80%D0%B0%D0%B7%D0%BE%D0%B2%D0%B0%D0%BD%D0%B8%D1%8F)).\n",
    "\n",
    "**В ходе проверки алгоритма** ([см.6](#%D0%9F%D1%80%D0%BE%D0%B2%D0%B5%D1%80%D0%BA%D0%B0-%D0%B0%D0%BB%D0%B3%D0%BE%D1%80%D0%B8%D1%82%D0%BC%D0%B0)) экспериментально показано:\n",
    " - значение метрики `R2` линейной регрессии неизменно при использовании незашифрованных и зашифрованных данных ([см.6.3](#%D0%97%D0%B0%D0%BA%D0%BB%D1%8E%D1%87%D0%B5%D0%BD%D0%B8%D0%B5));\n",
    " - зависимости $w_{1} = P^{-1}w$, $X = X_{1}P^{-1}$, $a = a_{1}$ выполняются ([см.6.3](#%D0%97%D0%B0%D0%BA%D0%BB%D1%8E%D1%87%D0%B5%D0%BD%D0%B8%D0%B5))."
   ]
  }
 ],
 "metadata": {
  "ExecuteTimeLog": [
   {
    "duration": 1091,
    "start_time": "2023-05-03T07:48:00.804Z"
   },
   {
    "duration": 95,
    "start_time": "2023-05-03T07:51:55.035Z"
   },
   {
    "duration": 4,
    "start_time": "2023-05-03T07:51:59.713Z"
   },
   {
    "duration": 4,
    "start_time": "2023-05-03T07:52:01.604Z"
   },
   {
    "duration": 104,
    "start_time": "2023-05-03T07:52:03.304Z"
   },
   {
    "duration": 28,
    "start_time": "2023-05-03T08:16:12.627Z"
   },
   {
    "duration": 39,
    "start_time": "2023-05-03T08:16:56.022Z"
   },
   {
    "duration": 32,
    "start_time": "2023-05-03T08:17:00.743Z"
   },
   {
    "duration": 32,
    "start_time": "2023-05-03T08:17:08.135Z"
   },
   {
    "duration": 6,
    "start_time": "2023-05-03T08:17:54.978Z"
   },
   {
    "duration": 5,
    "start_time": "2023-05-03T08:19:20.782Z"
   },
   {
    "duration": 4,
    "start_time": "2023-05-03T08:19:23.442Z"
   },
   {
    "duration": 34,
    "start_time": "2023-05-03T08:21:01.812Z"
   },
   {
    "duration": 39,
    "start_time": "2023-05-03T08:21:07.133Z"
   },
   {
    "duration": 862,
    "start_time": "2023-05-03T08:36:42.239Z"
   },
   {
    "duration": 3,
    "start_time": "2023-05-03T08:36:45.636Z"
   },
   {
    "duration": 5,
    "start_time": "2023-05-03T08:36:47.683Z"
   },
   {
    "duration": 11,
    "start_time": "2023-05-03T08:37:51.410Z"
   },
   {
    "duration": 5,
    "start_time": "2023-05-03T08:37:56.055Z"
   },
   {
    "duration": 8,
    "start_time": "2023-05-03T08:38:34.704Z"
   },
   {
    "duration": 11,
    "start_time": "2023-05-03T08:41:10.297Z"
   },
   {
    "duration": 61,
    "start_time": "2023-05-03T08:45:32.401Z"
   },
   {
    "duration": 46,
    "start_time": "2023-05-03T09:03:44.710Z"
   },
   {
    "duration": 3,
    "start_time": "2023-05-03T10:58:07.898Z"
   },
   {
    "duration": 1360,
    "start_time": "2023-05-03T11:06:44.617Z"
   },
   {
    "duration": 4,
    "start_time": "2023-05-03T11:06:53.489Z"
   },
   {
    "duration": 1122,
    "start_time": "2023-05-03T11:06:58.057Z"
   },
   {
    "duration": 14,
    "start_time": "2023-05-03T11:07:12.259Z"
   },
   {
    "duration": 20,
    "start_time": "2023-05-03T11:07:21.032Z"
   },
   {
    "duration": 9,
    "start_time": "2023-05-03T11:29:54.383Z"
   },
   {
    "duration": 8,
    "start_time": "2023-05-03T11:30:07.829Z"
   },
   {
    "duration": 6,
    "start_time": "2023-05-03T11:30:38.227Z"
   },
   {
    "duration": 5,
    "start_time": "2023-05-03T11:30:40.226Z"
   },
   {
    "duration": 10,
    "start_time": "2023-05-03T11:30:42.352Z"
   },
   {
    "duration": 14,
    "start_time": "2023-05-03T11:32:22.629Z"
   },
   {
    "duration": 4,
    "start_time": "2023-05-03T11:32:30.156Z"
   },
   {
    "duration": 2,
    "start_time": "2023-05-03T11:32:32.462Z"
   },
   {
    "duration": 20,
    "start_time": "2023-05-03T11:32:35.100Z"
   },
   {
    "duration": 3,
    "start_time": "2023-05-03T11:33:06.825Z"
   },
   {
    "duration": 18,
    "start_time": "2023-05-03T11:33:13.612Z"
   },
   {
    "duration": 13,
    "start_time": "2023-05-03T11:33:19.913Z"
   },
   {
    "duration": 10,
    "start_time": "2023-05-03T11:34:43.263Z"
   },
   {
    "duration": 4,
    "start_time": "2023-05-03T11:34:46.369Z"
   },
   {
    "duration": 6,
    "start_time": "2023-05-03T11:34:48.577Z"
   },
   {
    "duration": 7,
    "start_time": "2023-05-03T11:35:18.354Z"
   },
   {
    "duration": 11,
    "start_time": "2023-05-03T11:35:40.323Z"
   },
   {
    "duration": 6,
    "start_time": "2023-05-03T11:35:57.424Z"
   },
   {
    "duration": 14,
    "start_time": "2023-05-03T11:36:28.025Z"
   },
   {
    "duration": 10,
    "start_time": "2023-05-03T11:41:13.523Z"
   },
   {
    "duration": 1191,
    "start_time": "2023-05-03T11:59:58.828Z"
   },
   {
    "duration": 4,
    "start_time": "2023-05-03T12:00:00.021Z"
   },
   {
    "duration": 77,
    "start_time": "2023-05-03T12:00:00.027Z"
   },
   {
    "duration": 3,
    "start_time": "2023-05-03T12:00:00.106Z"
   },
   {
    "duration": 16,
    "start_time": "2023-05-03T12:00:00.111Z"
   },
   {
    "duration": 25,
    "start_time": "2023-05-03T12:00:00.128Z"
   },
   {
    "duration": 38,
    "start_time": "2023-05-03T12:00:00.155Z"
   },
   {
    "duration": 51,
    "start_time": "2023-05-03T12:00:00.195Z"
   },
   {
    "duration": 34,
    "start_time": "2023-05-03T12:00:00.248Z"
   },
   {
    "duration": 44,
    "start_time": "2023-05-03T12:00:00.284Z"
   },
   {
    "duration": 43,
    "start_time": "2023-05-03T12:00:00.330Z"
   },
   {
    "duration": 42,
    "start_time": "2023-05-03T12:00:00.374Z"
   },
   {
    "duration": 19,
    "start_time": "2023-05-03T12:00:00.421Z"
   },
   {
    "duration": 52,
    "start_time": "2023-05-03T12:00:00.442Z"
   },
   {
    "duration": 39,
    "start_time": "2023-05-03T12:00:00.496Z"
   },
   {
    "duration": 6,
    "start_time": "2023-05-03T12:00:15.520Z"
   },
   {
    "duration": 11,
    "start_time": "2023-05-03T12:00:38.209Z"
   },
   {
    "duration": 5,
    "start_time": "2023-05-03T12:08:59.233Z"
   },
   {
    "duration": 5,
    "start_time": "2023-05-03T12:09:18.238Z"
   },
   {
    "duration": 6,
    "start_time": "2023-05-03T12:09:39.491Z"
   },
   {
    "duration": 6,
    "start_time": "2023-05-03T12:09:46.125Z"
   },
   {
    "duration": 4,
    "start_time": "2023-05-03T12:09:54.441Z"
   },
   {
    "duration": 16,
    "start_time": "2023-05-03T12:10:16.605Z"
   },
   {
    "duration": 6,
    "start_time": "2023-05-03T12:11:40.735Z"
   },
   {
    "duration": 8,
    "start_time": "2023-05-03T12:11:54.143Z"
   },
   {
    "duration": 11,
    "start_time": "2023-05-03T12:12:48.425Z"
   },
   {
    "duration": 13,
    "start_time": "2023-05-03T12:14:26.700Z"
   },
   {
    "duration": 52,
    "start_time": "2023-05-04T07:29:35.515Z"
   },
   {
    "duration": 1412,
    "start_time": "2023-05-04T07:29:41.679Z"
   },
   {
    "duration": 3,
    "start_time": "2023-05-04T07:29:43.094Z"
   },
   {
    "duration": 133,
    "start_time": "2023-05-04T07:29:43.098Z"
   },
   {
    "duration": 5,
    "start_time": "2023-05-04T07:29:43.233Z"
   },
   {
    "duration": 25,
    "start_time": "2023-05-04T07:29:43.241Z"
   },
   {
    "duration": 22,
    "start_time": "2023-05-04T07:29:43.268Z"
   },
   {
    "duration": 16,
    "start_time": "2023-05-04T07:29:43.291Z"
   },
   {
    "duration": 30,
    "start_time": "2023-05-04T07:29:43.309Z"
   },
   {
    "duration": 25,
    "start_time": "2023-05-04T07:29:43.341Z"
   },
   {
    "duration": 28,
    "start_time": "2023-05-04T07:29:43.368Z"
   },
   {
    "duration": 15,
    "start_time": "2023-05-04T07:29:43.397Z"
   },
   {
    "duration": 32,
    "start_time": "2023-05-04T07:29:43.414Z"
   },
   {
    "duration": 32,
    "start_time": "2023-05-04T07:29:43.448Z"
   },
   {
    "duration": 12,
    "start_time": "2023-05-04T07:29:43.482Z"
   },
   {
    "duration": 12,
    "start_time": "2023-05-04T07:29:43.495Z"
   },
   {
    "duration": 19,
    "start_time": "2023-05-04T07:29:43.509Z"
   },
   {
    "duration": 17,
    "start_time": "2023-05-04T07:29:43.531Z"
   },
   {
    "duration": 7,
    "start_time": "2023-05-04T07:33:42.003Z"
   },
   {
    "duration": 8,
    "start_time": "2023-05-04T07:33:49.290Z"
   },
   {
    "duration": 12,
    "start_time": "2023-05-04T07:36:16.033Z"
   },
   {
    "duration": 9,
    "start_time": "2023-05-04T07:38:43.369Z"
   },
   {
    "duration": 14,
    "start_time": "2023-05-04T07:39:27.123Z"
   },
   {
    "duration": 14,
    "start_time": "2023-05-04T07:39:59.998Z"
   },
   {
    "duration": 11,
    "start_time": "2023-05-04T07:40:05.981Z"
   },
   {
    "duration": 9,
    "start_time": "2023-05-04T07:44:49.909Z"
   },
   {
    "duration": 8,
    "start_time": "2023-05-04T07:45:04.066Z"
   },
   {
    "duration": 15,
    "start_time": "2023-05-04T07:45:18.416Z"
   },
   {
    "duration": 7,
    "start_time": "2023-05-04T07:48:42.590Z"
   },
   {
    "duration": 6,
    "start_time": "2023-05-04T07:49:03.362Z"
   },
   {
    "duration": 15,
    "start_time": "2023-05-04T07:51:30.813Z"
   },
   {
    "duration": 9,
    "start_time": "2023-05-04T07:51:50.943Z"
   },
   {
    "duration": 119,
    "start_time": "2023-05-04T07:55:06.781Z"
   },
   {
    "duration": 12,
    "start_time": "2023-05-04T07:55:14.382Z"
   },
   {
    "duration": 6,
    "start_time": "2023-05-04T07:55:38.462Z"
   },
   {
    "duration": 8,
    "start_time": "2023-05-04T07:57:08.369Z"
   },
   {
    "duration": 10,
    "start_time": "2023-05-04T07:57:37.038Z"
   },
   {
    "duration": 11,
    "start_time": "2023-05-04T07:57:43.934Z"
   },
   {
    "duration": 5,
    "start_time": "2023-05-04T08:16:06.287Z"
   },
   {
    "duration": 6,
    "start_time": "2023-05-04T08:16:14.178Z"
   },
   {
    "duration": 5,
    "start_time": "2023-05-04T08:21:14.282Z"
   },
   {
    "duration": 6,
    "start_time": "2023-05-04T08:21:26.876Z"
   },
   {
    "duration": 7,
    "start_time": "2023-05-04T08:22:06.092Z"
   },
   {
    "duration": 7,
    "start_time": "2023-05-04T08:25:10.569Z"
   },
   {
    "duration": 13,
    "start_time": "2023-05-04T08:27:51.511Z"
   },
   {
    "duration": 6,
    "start_time": "2023-05-04T08:28:04.690Z"
   },
   {
    "duration": 7,
    "start_time": "2023-05-04T08:28:35.054Z"
   },
   {
    "duration": 23,
    "start_time": "2023-05-04T08:29:18.396Z"
   },
   {
    "duration": 14,
    "start_time": "2023-05-04T08:29:33.310Z"
   },
   {
    "duration": 14,
    "start_time": "2023-05-04T08:29:36.070Z"
   },
   {
    "duration": 82,
    "start_time": "2023-05-04T08:29:56.038Z"
   },
   {
    "duration": 6,
    "start_time": "2023-05-04T08:30:24.594Z"
   },
   {
    "duration": 10,
    "start_time": "2023-05-04T08:30:40.203Z"
   },
   {
    "duration": 5,
    "start_time": "2023-05-04T08:30:43.721Z"
   },
   {
    "duration": 44,
    "start_time": "2023-05-04T08:31:57.278Z"
   },
   {
    "duration": 6,
    "start_time": "2023-05-04T08:32:08.333Z"
   },
   {
    "duration": 22,
    "start_time": "2023-05-04T08:39:05.238Z"
   },
   {
    "duration": 16,
    "start_time": "2023-05-04T08:39:17.489Z"
   },
   {
    "duration": 19,
    "start_time": "2023-05-04T08:42:04.270Z"
   },
   {
    "duration": 12,
    "start_time": "2023-05-04T08:42:44.538Z"
   },
   {
    "duration": 19,
    "start_time": "2023-05-04T08:42:52.201Z"
   },
   {
    "duration": 23,
    "start_time": "2023-05-04T08:43:01.008Z"
   },
   {
    "duration": 11,
    "start_time": "2023-05-04T08:44:09.438Z"
   },
   {
    "duration": 16,
    "start_time": "2023-05-04T08:45:36.758Z"
   },
   {
    "duration": 33,
    "start_time": "2023-05-04T08:45:52.885Z"
   },
   {
    "duration": 47,
    "start_time": "2023-05-04T08:47:15.670Z"
   },
   {
    "duration": 24,
    "start_time": "2023-05-04T08:47:31.374Z"
   },
   {
    "duration": 15,
    "start_time": "2023-05-04T08:49:07.810Z"
   },
   {
    "duration": 18,
    "start_time": "2023-05-04T08:49:36.477Z"
   },
   {
    "duration": 18,
    "start_time": "2023-05-04T08:50:00.740Z"
   },
   {
    "duration": 20,
    "start_time": "2023-05-04T08:50:15.370Z"
   },
   {
    "duration": 23,
    "start_time": "2023-05-04T08:52:26.986Z"
   },
   {
    "duration": 28,
    "start_time": "2023-05-04T08:52:33.092Z"
   },
   {
    "duration": 9,
    "start_time": "2023-05-04T08:53:40.685Z"
   },
   {
    "duration": 38,
    "start_time": "2023-05-04T08:54:23.801Z"
   },
   {
    "duration": 16,
    "start_time": "2023-05-04T08:54:28.131Z"
   },
   {
    "duration": 11,
    "start_time": "2023-05-04T08:55:14.837Z"
   },
   {
    "duration": 13,
    "start_time": "2023-05-04T08:55:22.274Z"
   },
   {
    "duration": 27,
    "start_time": "2023-05-04T08:55:45.090Z"
   },
   {
    "duration": 27,
    "start_time": "2023-05-04T09:05:23.204Z"
   },
   {
    "duration": 101,
    "start_time": "2023-05-04T09:07:28.817Z"
   },
   {
    "duration": 72,
    "start_time": "2023-05-04T09:07:52.745Z"
   },
   {
    "duration": 19,
    "start_time": "2023-05-04T09:08:02.371Z"
   },
   {
    "duration": 23,
    "start_time": "2023-05-04T09:08:23.328Z"
   },
   {
    "duration": 82,
    "start_time": "2023-05-04T09:09:34.285Z"
   },
   {
    "duration": 47,
    "start_time": "2023-05-04T09:09:52.071Z"
   },
   {
    "duration": 15,
    "start_time": "2023-05-04T09:10:03.663Z"
   },
   {
    "duration": 9,
    "start_time": "2023-05-04T09:11:06.484Z"
   },
   {
    "duration": 14,
    "start_time": "2023-05-04T09:11:08.996Z"
   },
   {
    "duration": 15,
    "start_time": "2023-05-04T09:12:52.070Z"
   },
   {
    "duration": 4,
    "start_time": "2023-05-04T09:29:36.346Z"
   },
   {
    "duration": 16,
    "start_time": "2023-05-04T09:30:02.458Z"
   },
   {
    "duration": 17,
    "start_time": "2023-05-04T09:30:44.757Z"
   },
   {
    "duration": 9,
    "start_time": "2023-05-04T09:36:58.721Z"
   },
   {
    "duration": 4,
    "start_time": "2023-05-04T09:37:18.458Z"
   },
   {
    "duration": 5,
    "start_time": "2023-05-04T09:38:18.896Z"
   },
   {
    "duration": 4,
    "start_time": "2023-05-04T09:38:40.689Z"
   },
   {
    "duration": 5,
    "start_time": "2023-05-04T09:38:48.677Z"
   },
   {
    "duration": 4,
    "start_time": "2023-05-04T09:39:04.780Z"
   },
   {
    "duration": 4,
    "start_time": "2023-05-04T09:39:51.381Z"
   },
   {
    "duration": 7,
    "start_time": "2023-05-04T09:40:05.986Z"
   },
   {
    "duration": 5,
    "start_time": "2023-05-04T09:40:49.289Z"
   },
   {
    "duration": 4,
    "start_time": "2023-05-04T09:41:23.086Z"
   },
   {
    "duration": 24,
    "start_time": "2023-05-04T09:41:29.919Z"
   },
   {
    "duration": 9,
    "start_time": "2023-05-04T09:42:46.058Z"
   },
   {
    "duration": 11,
    "start_time": "2023-05-04T09:42:51.820Z"
   },
   {
    "duration": 4,
    "start_time": "2023-05-04T09:46:27.977Z"
   },
   {
    "duration": 4,
    "start_time": "2023-05-04T09:48:47.081Z"
   },
   {
    "duration": 13,
    "start_time": "2023-05-04T11:39:10.639Z"
   },
   {
    "duration": 13,
    "start_time": "2023-05-04T11:39:35.315Z"
   },
   {
    "duration": 15,
    "start_time": "2023-05-04T11:39:51.281Z"
   },
   {
    "duration": 15,
    "start_time": "2023-05-04T11:40:20.629Z"
   },
   {
    "duration": 16,
    "start_time": "2023-05-04T11:40:27.399Z"
   },
   {
    "duration": 1089,
    "start_time": "2023-05-04T11:43:54.855Z"
   },
   {
    "duration": 2,
    "start_time": "2023-05-04T11:43:55.947Z"
   },
   {
    "duration": 73,
    "start_time": "2023-05-04T11:43:55.951Z"
   },
   {
    "duration": 4,
    "start_time": "2023-05-04T11:43:56.026Z"
   },
   {
    "duration": 21,
    "start_time": "2023-05-04T11:43:56.031Z"
   },
   {
    "duration": 16,
    "start_time": "2023-05-04T11:43:56.054Z"
   },
   {
    "duration": 25,
    "start_time": "2023-05-04T11:43:56.071Z"
   },
   {
    "duration": 9,
    "start_time": "2023-05-04T11:43:56.098Z"
   },
   {
    "duration": 17,
    "start_time": "2023-05-04T11:43:56.108Z"
   },
   {
    "duration": 27,
    "start_time": "2023-05-04T11:43:56.127Z"
   },
   {
    "duration": 23,
    "start_time": "2023-05-04T11:43:56.156Z"
   },
   {
    "duration": 23,
    "start_time": "2023-05-04T11:43:56.181Z"
   },
   {
    "duration": 31,
    "start_time": "2023-05-04T11:43:56.206Z"
   },
   {
    "duration": 19,
    "start_time": "2023-05-04T11:43:56.239Z"
   },
   {
    "duration": 124,
    "start_time": "2023-05-04T11:43:56.260Z"
   },
   {
    "duration": 0,
    "start_time": "2023-05-04T11:43:56.385Z"
   },
   {
    "duration": 0,
    "start_time": "2023-05-04T11:43:56.387Z"
   },
   {
    "duration": 0,
    "start_time": "2023-05-04T11:43:56.388Z"
   },
   {
    "duration": 0,
    "start_time": "2023-05-04T11:43:56.389Z"
   },
   {
    "duration": 0,
    "start_time": "2023-05-04T11:43:56.390Z"
   },
   {
    "duration": 1163,
    "start_time": "2023-05-04T11:47:31.910Z"
   },
   {
    "duration": 2,
    "start_time": "2023-05-04T11:47:33.075Z"
   },
   {
    "duration": 63,
    "start_time": "2023-05-04T11:47:33.079Z"
   },
   {
    "duration": 3,
    "start_time": "2023-05-04T11:47:33.144Z"
   },
   {
    "duration": 33,
    "start_time": "2023-05-04T11:47:33.149Z"
   },
   {
    "duration": 34,
    "start_time": "2023-05-04T11:47:33.184Z"
   },
   {
    "duration": 36,
    "start_time": "2023-05-04T11:47:33.220Z"
   },
   {
    "duration": 37,
    "start_time": "2023-05-04T11:47:33.257Z"
   },
   {
    "duration": 31,
    "start_time": "2023-05-04T11:47:33.296Z"
   },
   {
    "duration": 35,
    "start_time": "2023-05-04T11:47:33.330Z"
   },
   {
    "duration": 32,
    "start_time": "2023-05-04T11:47:33.366Z"
   },
   {
    "duration": 20,
    "start_time": "2023-05-04T11:47:33.400Z"
   },
   {
    "duration": 28,
    "start_time": "2023-05-04T11:47:33.421Z"
   },
   {
    "duration": 24,
    "start_time": "2023-05-04T11:47:33.451Z"
   },
   {
    "duration": 14,
    "start_time": "2023-05-04T11:47:33.477Z"
   },
   {
    "duration": 19,
    "start_time": "2023-05-04T11:47:33.493Z"
   },
   {
    "duration": 43,
    "start_time": "2023-05-04T11:47:33.514Z"
   },
   {
    "duration": 75,
    "start_time": "2023-05-04T11:47:33.560Z"
   },
   {
    "duration": 14,
    "start_time": "2023-05-04T11:47:33.718Z"
   },
   {
    "duration": 90,
    "start_time": "2023-05-04T11:47:33.734Z"
   },
   {
    "duration": 14,
    "start_time": "2023-05-04T11:48:54.263Z"
   },
   {
    "duration": 1106,
    "start_time": "2023-05-05T08:22:59.607Z"
   },
   {
    "duration": 5,
    "start_time": "2023-05-05T08:23:00.715Z"
   },
   {
    "duration": 150,
    "start_time": "2023-05-05T08:23:00.721Z"
   },
   {
    "duration": 3,
    "start_time": "2023-05-05T08:23:00.874Z"
   },
   {
    "duration": 32,
    "start_time": "2023-05-05T08:23:00.880Z"
   },
   {
    "duration": 23,
    "start_time": "2023-05-05T08:23:00.914Z"
   },
   {
    "duration": 42,
    "start_time": "2023-05-05T08:23:00.939Z"
   },
   {
    "duration": 34,
    "start_time": "2023-05-05T08:23:00.983Z"
   },
   {
    "duration": 24,
    "start_time": "2023-05-05T08:23:01.019Z"
   },
   {
    "duration": 22,
    "start_time": "2023-05-05T08:23:01.046Z"
   },
   {
    "duration": 50,
    "start_time": "2023-05-05T08:23:01.070Z"
   },
   {
    "duration": 43,
    "start_time": "2023-05-05T08:23:01.122Z"
   },
   {
    "duration": 49,
    "start_time": "2023-05-05T08:23:01.167Z"
   },
   {
    "duration": 26,
    "start_time": "2023-05-05T08:23:01.217Z"
   },
   {
    "duration": 39,
    "start_time": "2023-05-05T08:23:01.245Z"
   },
   {
    "duration": 48,
    "start_time": "2023-05-05T08:23:01.285Z"
   },
   {
    "duration": 42,
    "start_time": "2023-05-05T08:23:01.335Z"
   },
   {
    "duration": 82,
    "start_time": "2023-05-05T08:23:01.379Z"
   },
   {
    "duration": 94,
    "start_time": "2023-05-05T08:23:01.463Z"
   },
   {
    "duration": 92,
    "start_time": "2023-05-05T08:23:01.558Z"
   },
   {
    "duration": 4,
    "start_time": "2023-05-05T08:45:11.794Z"
   }
  ],
  "kernelspec": {
   "display_name": "Python 3 (ipykernel)",
   "language": "python",
   "name": "python3"
  },
  "language_info": {
   "codemirror_mode": {
    "name": "ipython",
    "version": 3
   },
   "file_extension": ".py",
   "mimetype": "text/x-python",
   "name": "python",
   "nbconvert_exporter": "python",
   "pygments_lexer": "ipython3",
   "version": "3.9.5"
  },
  "toc": {
   "base_numbering": 1,
   "nav_menu": {},
   "number_sections": true,
   "sideBar": true,
   "skip_h1_title": true,
   "title_cell": "Содержание",
   "title_sidebar": "Contents",
   "toc_cell": true,
   "toc_position": {
    "height": "calc(100% - 180px)",
    "left": "10px",
    "top": "150px",
    "width": "287px"
   },
   "toc_section_display": true,
   "toc_window_display": true
  }
 },
 "nbformat": 4,
 "nbformat_minor": 2
}
