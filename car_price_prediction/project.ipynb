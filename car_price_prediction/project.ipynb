{
 "cells": [
  {
   "cell_type": "markdown",
   "metadata": {},
   "source": [
    "<h1 style=\"text-align: center;\">ПРОГНОЗИРОВАНИЕ СТОИМОСТИ АВТОМОБИЛЕЙ С ПРОБЕГОМ</h1>"
   ]
  },
  {
   "cell_type": "markdown",
   "metadata": {
    "toc": true
   },
   "source": [
    "<h1>Содержание<span class=\"tocSkip\"></span></h1>\n",
    "<div class=\"toc\"><ul class=\"toc-item\"><li><span><a href=\"#Описание-проекта\" data-toc-modified-id=\"Описание-проекта-1\"><span class=\"toc-item-num\">1&nbsp;&nbsp;</span>Описание проекта</a></span><ul class=\"toc-item\"><li><span><a href=\"#Постановка-задачи\" data-toc-modified-id=\"Постановка-задачи-1.1\"><span class=\"toc-item-num\">1.1&nbsp;&nbsp;</span>Постановка задачи</a></span></li><li><span><a href=\"#Описание-данных\" data-toc-modified-id=\"Описание-данных-1.2\"><span class=\"toc-item-num\">1.2&nbsp;&nbsp;</span>Описание данных</a></span></li></ul></li><li><span><a href=\"#Импорт-библиотек-и-определение-констант\" data-toc-modified-id=\"Импорт-библиотек-и-определение-констант-2\"><span class=\"toc-item-num\">2&nbsp;&nbsp;</span>Импорт библиотек и определение констант</a></span></li><li><span><a href=\"#Обзор-и-подготовка-данных\" data-toc-modified-id=\"Обзор-и-подготовка-данных-3\"><span class=\"toc-item-num\">3&nbsp;&nbsp;</span>Обзор и подготовка данных</a></span><ul class=\"toc-item\"><li><span><a href=\"#Переименование-столбцов\" data-toc-modified-id=\"Переименование-столбцов-3.1\"><span class=\"toc-item-num\">3.1&nbsp;&nbsp;</span>Переименование столбцов</a></span></li><li><span><a href=\"#Обработка-дубликатов\" data-toc-modified-id=\"Обработка-дубликатов-3.2\"><span class=\"toc-item-num\">3.2&nbsp;&nbsp;</span>Обработка дубликатов</a></span></li><li><span><a href=\"#Отбор-информативных-признаков\" data-toc-modified-id=\"Отбор-информативных-признаков-3.3\"><span class=\"toc-item-num\">3.3&nbsp;&nbsp;</span>Отбор информативных признаков</a></span></li><li><span><a href=\"#Обработка-аномалий\" data-toc-modified-id=\"Обработка-аномалий-3.4\"><span class=\"toc-item-num\">3.4&nbsp;&nbsp;</span>Обработка аномалий</a></span><ul class=\"toc-item\"><li><span><a href=\"#Год-регистрации-автомобиля-(registration_year)\" data-toc-modified-id=\"Год-регистрации-автомобиля-(registration_year)-3.4.1\"><span class=\"toc-item-num\">3.4.1&nbsp;&nbsp;</span>Год регистрации автомобиля (registration_year)</a></span></li><li><span><a href=\"#Цена-(price)\" data-toc-modified-id=\"Цена-(price)-3.4.2\"><span class=\"toc-item-num\">3.4.2&nbsp;&nbsp;</span>Цена (price)</a></span></li><li><span><a href=\"#Мощность-двигателя-(power)\" data-toc-modified-id=\"Мощность-двигателя-(power)-3.4.3\"><span class=\"toc-item-num\">3.4.3&nbsp;&nbsp;</span>Мощность двигателя (power)</a></span></li><li><span><a href=\"#Тип-кузова-(vehicle_type)\" data-toc-modified-id=\"Тип-кузова-(vehicle_type)-3.4.4\"><span class=\"toc-item-num\">3.4.4&nbsp;&nbsp;</span>Тип кузова (vehicle_type)</a></span></li><li><span><a href=\"#Тип-коробки-передач-(gearbox)\" data-toc-modified-id=\"Тип-коробки-передач-(gearbox)-3.4.5\"><span class=\"toc-item-num\">3.4.5&nbsp;&nbsp;</span>Тип коробки передач (gearbox)</a></span></li><li><span><a href=\"#Модель-автомобиля-(model)\" data-toc-modified-id=\"Модель-автомобиля-(model)-3.4.6\"><span class=\"toc-item-num\">3.4.6&nbsp;&nbsp;</span>Модель автомобиля (model)</a></span></li><li><span><a href=\"#Тим-топлива-(fuel_type)\" data-toc-modified-id=\"Тим-топлива-(fuel_type)-3.4.7\"><span class=\"toc-item-num\">3.4.7&nbsp;&nbsp;</span>Тим топлива (fuel_type)</a></span></li><li><span><a href=\"#Марка-автомобиля-(brand)\" data-toc-modified-id=\"Марка-автомобиля-(brand)-3.4.8\"><span class=\"toc-item-num\">3.4.8&nbsp;&nbsp;</span>Марка автомобиля (brand)</a></span></li><li><span><a href=\"#Факт-ремонта-(repaired)\" data-toc-modified-id=\"Факт-ремонта-(repaired)-3.4.9\"><span class=\"toc-item-num\">3.4.9&nbsp;&nbsp;</span>Факт ремонта (repaired)</a></span></li></ul></li><li><span><a href=\"#Обработка-пропусков\" data-toc-modified-id=\"Обработка-пропусков-3.5\"><span class=\"toc-item-num\">3.5&nbsp;&nbsp;</span>Обработка пропусков</a></span><ul class=\"toc-item\"><li><span><a href=\"#Факт-ремонта-(repaired)\" data-toc-modified-id=\"Факт-ремонта-(repaired)-3.5.1\"><span class=\"toc-item-num\">3.5.1&nbsp;&nbsp;</span>Факт ремонта (repaired)</a></span></li><li><span><a href=\"#Модель-автомобиля-(model)\" data-toc-modified-id=\"Модель-автомобиля-(model)-3.5.2\"><span class=\"toc-item-num\">3.5.2&nbsp;&nbsp;</span>Модель автомобиля (model)</a></span></li><li><span><a href=\"#Типы-кузова-(vehicle_type),-топлива-(fuel_type)-и-коробки-передач-(gearbox)\" data-toc-modified-id=\"Типы-кузова-(vehicle_type),-топлива-(fuel_type)-и-коробки-передач-(gearbox)-3.5.3\"><span class=\"toc-item-num\">3.5.3&nbsp;&nbsp;</span>Типы кузова (vehicle_type), топлива (fuel_type) и коробки передач (gearbox)</a></span></li></ul></li><li><span><a href=\"#Корректировка-типов-данных\" data-toc-modified-id=\"Корректировка-типов-данных-3.6\"><span class=\"toc-item-num\">3.6&nbsp;&nbsp;</span>Корректировка типов данных</a></span></li></ul></li><li><span><a href=\"#Моделирование\" data-toc-modified-id=\"Моделирование-4\"><span class=\"toc-item-num\">4&nbsp;&nbsp;</span>Моделирование</a></span><ul class=\"toc-item\"><li><span><a href=\"#RandomForestRegressor\" data-toc-modified-id=\"RandomForestRegressor-4.1\"><span class=\"toc-item-num\">4.1&nbsp;&nbsp;</span>RandomForestRegressor</a></span></li><li><span><a href=\"#CatBoostRegressor\" data-toc-modified-id=\"CatBoostRegressor-4.2\"><span class=\"toc-item-num\">4.2&nbsp;&nbsp;</span>CatBoostRegressor</a></span><ul class=\"toc-item\"><li><span><a href=\"#Без-кодирования-и-масштабирования\" data-toc-modified-id=\"Без-кодирования-и-масштабирования-4.2.1\"><span class=\"toc-item-num\">4.2.1&nbsp;&nbsp;</span>Без кодирования и масштабирования</a></span></li><li><span><a href=\"#С-кодированием-и-масштабированием\" data-toc-modified-id=\"С-кодированием-и-масштабированием-4.2.2\"><span class=\"toc-item-num\">4.2.2&nbsp;&nbsp;</span>С кодированием и масштабированием</a></span></li></ul></li><li><span><a href=\"#LGBMRegressor\" data-toc-modified-id=\"LGBMRegressor-4.3\"><span class=\"toc-item-num\">4.3&nbsp;&nbsp;</span>LGBMRegressor</a></span></li><li><span><a href=\"#Анализ\" data-toc-modified-id=\"Анализ-4.4\"><span class=\"toc-item-num\">4.4&nbsp;&nbsp;</span>Анализ</a></span></li></ul></li><li><span><a href=\"#Выводы\" data-toc-modified-id=\"Выводы-5\"><span class=\"toc-item-num\">5&nbsp;&nbsp;</span>Выводы</a></span></li><li><span><a href=\"#Чек-лист-проверки\" data-toc-modified-id=\"Чек-лист-проверки-6\"><span class=\"toc-item-num\">6&nbsp;&nbsp;</span>Чек-лист проверки</a></span></li></ul></div>"
   ]
  },
  {
   "cell_type": "markdown",
   "metadata": {},
   "source": [
    "## Описание проекта\n",
    "Сервис по продаже автомобилей с пробегом «Не бит, не крашен» разрабатывает приложение, чтобы привлечь новых клиентов. В нём можно будет узнать рыночную стоимость своего автомобиля. \n",
    "\n",
    "### Постановка задачи\n",
    "Постройте модель, которая определит рыночную стоимость автомобиля с пробегом. \n",
    "**Критерии, которые важны заказчику:**\n",
    " - качество предсказания,\n",
    " - время обучения модели,\n",
    " - время предсказания модели.\n",
    " \n",
    "**Ход решения:**\n",
    " - загрузите и изучите данные, \n",
    " - заполните пропущенные значения и обработайте аномалии в столбцах,\n",
    " - если среди признаков имеются неинформативные, удалите их,\n",
    " - подготовьте выборки для обучения моделей,\n",
    " - обучите модели, одна из которых — LightGBM, как минимум одна — не бустинг, \n",
    " - для каждой модели попробуйте разные гиперпараметры,\n",
    " - проанализируйте время обучения, время предсказания и качество моделей,\n",
    " - опираясь на критерии заказчика, выберите лучшую модель, проверьте её качество на тестовой выборке.\n",
    " \n",
    "**Примечания:**\n",
    " - для оценки качества моделей применяйте метрику RMSE, \n",
    " - значение RMSE должно быть меньше 2500,\n",
    " - модели градиентного бустинга могут долго обучаться, поэтому измените у них только два-три параметра.    \n",
    "\n",
    "### Описание данных \n",
    "В вашем распоряжении данные о технических характеристиках, комплектации и ценах автомобилей.\n",
    "\n",
    "**Признаки:**\n",
    " - DateCrawled — дата скачивания анкеты из базы, \n",
    " - VehicleType — тип автомобильного кузова, \n",
    " - RegistrationYear — год регистрации автомобиля,\n",
    " - Gearbox — тип коробки передач, \n",
    " - Power — мощность двигателя (л.с.),\n",
    " - Model — модель автомобиля,\n",
    " - Kilometer — пробег (км),\n",
    " - RegistrationMonth — месяц регистрации автомобиля,\n",
    " - FuelType — тип топлива,\n",
    " - Brand — марка автомобиля,\n",
    " - Repaired — была машина в ремонте или нет,\n",
    " - DateCreated — дата создания анкеты,\n",
    " - NumberOfPictures — количество фотографий автомобиля, \n",
    " - PostalCode — почтовый индекс пользователя, \n",
    " - LastSeen — дата последней активности пользователя.\n",
    " \n",
    "**Целевой признак:**\n",
    " - Price — цена (евро).\n",
    " \n",
    "## Импорт библиотек и определение констант"
   ]
  },
  {
   "cell_type": "code",
   "execution_count": 1,
   "metadata": {},
   "outputs": [
    {
     "name": "stdout",
     "output_type": "stream",
     "text": [
      "Collecting scikit-learn==1.2.2\n",
      "  Downloading scikit_learn-1.2.2-cp39-cp39-manylinux_2_17_x86_64.manylinux2014_x86_64.whl (9.6 MB)\n",
      "\u001b[K     |████████████████████████████████| 9.6 MB 1.3 MB/s eta 0:00:01     |██████████████████              | 5.4 MB 1.3 MB/s eta 0:00:04\n",
      "\u001b[?25hRequirement already satisfied: scipy>=1.3.2 in /opt/conda/lib/python3.9/site-packages (from scikit-learn==1.2.2) (1.9.1)\n",
      "Collecting joblib>=1.1.1\n",
      "  Downloading joblib-1.2.0-py3-none-any.whl (297 kB)\n",
      "\u001b[K     |████████████████████████████████| 297 kB 37.2 MB/s eta 0:00:01\n",
      "\u001b[?25hRequirement already satisfied: threadpoolctl>=2.0.0 in /opt/conda/lib/python3.9/site-packages (from scikit-learn==1.2.2) (3.1.0)\n",
      "Requirement already satisfied: numpy>=1.17.3 in /opt/conda/lib/python3.9/site-packages (from scikit-learn==1.2.2) (1.21.1)\n",
      "Installing collected packages: joblib, scikit-learn\n",
      "  Attempting uninstall: joblib\n",
      "    Found existing installation: joblib 1.1.0\n",
      "    Uninstalling joblib-1.1.0:\n",
      "      Successfully uninstalled joblib-1.1.0\n",
      "  Attempting uninstall: scikit-learn\n",
      "    Found existing installation: scikit-learn 0.24.1\n",
      "    Uninstalling scikit-learn-0.24.1:\n",
      "      Successfully uninstalled scikit-learn-0.24.1\n",
      "Successfully installed joblib-1.2.0 scikit-learn-1.2.2\n"
     ]
    }
   ],
   "source": [
    "#устанавливаем актуальную версию scikit-learn\n",
    "!pip install scikit-learn==1.2.2"
   ]
  },
  {
   "cell_type": "code",
   "execution_count": 2,
   "metadata": {},
   "outputs": [],
   "source": [
    "import warnings\n",
    "import pandas as pd\n",
    "from pandas.api.types import is_numeric_dtype\n",
    "import re\n",
    "import numpy as np\n",
    "from sklearn.model_selection import (\n",
    "    train_test_split, \n",
    "    GridSearchCV,        \n",
    ")\n",
    "from sklearn.preprocessing import (\n",
    "    OneHotEncoder,\n",
    "    OrdinalEncoder, \n",
    "    MinMaxScaler\n",
    ")\n",
    "from sklearn.metrics import mean_squared_error\n",
    "from sklearn.compose import ColumnTransformer\n",
    "from sklearn.pipeline import Pipeline\n",
    "from sklearn.ensemble import RandomForestRegressor  \n",
    "from catboost import CatBoostRegressor\n",
    "import lightgbm as lgb"
   ]
  },
  {
   "cell_type": "code",
   "execution_count": 3,
   "metadata": {},
   "outputs": [],
   "source": [
    "#фиксируем:\n",
    "# - путь к данным\n",
    "PATH = '/datasets/autos.csv'\n",
    "# - параметр random state\n",
    "SEED = 374\n",
    "# - целевой признак объекта\n",
    "TARGET = 'price'\n",
    "# - признаки объекта\n",
    "FEATURES = ['vehicle_type', \n",
    "            'registration_year', \n",
    "            'gearbox', \n",
    "            'power', \n",
    "            'model', \n",
    "            'kilometer', \n",
    "            'fuel_type',\n",
    "            'brand', \n",
    "            'repaired']\n",
    "# - признаки для масштабирования\n",
    "FTS_TO_SCALE = ['registration_year', 'power', 'kilometer']\n",
    "# - признаки для кодирования\n",
    "FTS_TO_OHE = ['vehicle_type', 'fuel_type', 'brand']\n",
    "FTS_TO_OE = ['model']\n",
    "#отключаем предупреждения\n",
    "warnings.filterwarnings(\"ignore\")"
   ]
  },
  {
   "cell_type": "markdown",
   "metadata": {},
   "source": [
    "## Обзор и подготовка данных\n",
    "Поместим данные в DataFrame. На примере нескольких строк оценим датасет визульно. Посмотрим на общую информацию и описательную статистику."
   ]
  },
  {
   "cell_type": "code",
   "execution_count": 4,
   "metadata": {
    "scrolled": true
   },
   "outputs": [
    {
     "data": {
      "text/html": [
       "<div>\n",
       "<style scoped>\n",
       "    .dataframe tbody tr th:only-of-type {\n",
       "        vertical-align: middle;\n",
       "    }\n",
       "\n",
       "    .dataframe tbody tr th {\n",
       "        vertical-align: top;\n",
       "    }\n",
       "\n",
       "    .dataframe thead th {\n",
       "        text-align: right;\n",
       "    }\n",
       "</style>\n",
       "<table border=\"1\" class=\"dataframe\">\n",
       "  <thead>\n",
       "    <tr style=\"text-align: right;\">\n",
       "      <th></th>\n",
       "      <th>DateCrawled</th>\n",
       "      <th>Price</th>\n",
       "      <th>VehicleType</th>\n",
       "      <th>RegistrationYear</th>\n",
       "      <th>Gearbox</th>\n",
       "      <th>Power</th>\n",
       "      <th>Model</th>\n",
       "      <th>Kilometer</th>\n",
       "      <th>RegistrationMonth</th>\n",
       "      <th>FuelType</th>\n",
       "      <th>Brand</th>\n",
       "      <th>Repaired</th>\n",
       "      <th>DateCreated</th>\n",
       "      <th>NumberOfPictures</th>\n",
       "      <th>PostalCode</th>\n",
       "      <th>LastSeen</th>\n",
       "    </tr>\n",
       "  </thead>\n",
       "  <tbody>\n",
       "    <tr>\n",
       "      <th>215643</th>\n",
       "      <td>2016-03-12 11:53:17</td>\n",
       "      <td>7500</td>\n",
       "      <td>coupe</td>\n",
       "      <td>2004</td>\n",
       "      <td>auto</td>\n",
       "      <td>200</td>\n",
       "      <td>golf</td>\n",
       "      <td>150000</td>\n",
       "      <td>11</td>\n",
       "      <td>petrol</td>\n",
       "      <td>volkswagen</td>\n",
       "      <td>NaN</td>\n",
       "      <td>2016-03-12 00:00:00</td>\n",
       "      <td>0</td>\n",
       "      <td>75382</td>\n",
       "      <td>2016-03-28 05:47:11</td>\n",
       "    </tr>\n",
       "    <tr>\n",
       "      <th>35657</th>\n",
       "      <td>2016-03-21 19:38:58</td>\n",
       "      <td>2299</td>\n",
       "      <td>sedan</td>\n",
       "      <td>2004</td>\n",
       "      <td>manual</td>\n",
       "      <td>101</td>\n",
       "      <td>focus</td>\n",
       "      <td>125000</td>\n",
       "      <td>6</td>\n",
       "      <td>petrol</td>\n",
       "      <td>ford</td>\n",
       "      <td>no</td>\n",
       "      <td>2016-03-21 00:00:00</td>\n",
       "      <td>0</td>\n",
       "      <td>45527</td>\n",
       "      <td>2016-04-06 21:47:11</td>\n",
       "    </tr>\n",
       "    <tr>\n",
       "      <th>140117</th>\n",
       "      <td>2016-03-17 21:57:12</td>\n",
       "      <td>6900</td>\n",
       "      <td>sedan</td>\n",
       "      <td>2004</td>\n",
       "      <td>manual</td>\n",
       "      <td>192</td>\n",
       "      <td>3er</td>\n",
       "      <td>150000</td>\n",
       "      <td>8</td>\n",
       "      <td>NaN</td>\n",
       "      <td>bmw</td>\n",
       "      <td>no</td>\n",
       "      <td>2016-03-17 00:00:00</td>\n",
       "      <td>0</td>\n",
       "      <td>69168</td>\n",
       "      <td>2016-03-22 06:16:16</td>\n",
       "    </tr>\n",
       "    <tr>\n",
       "      <th>6023</th>\n",
       "      <td>2016-03-28 15:40:36</td>\n",
       "      <td>4500</td>\n",
       "      <td>small</td>\n",
       "      <td>2007</td>\n",
       "      <td>manual</td>\n",
       "      <td>68</td>\n",
       "      <td>aygo</td>\n",
       "      <td>80000</td>\n",
       "      <td>12</td>\n",
       "      <td>petrol</td>\n",
       "      <td>toyota</td>\n",
       "      <td>no</td>\n",
       "      <td>2016-03-28 00:00:00</td>\n",
       "      <td>0</td>\n",
       "      <td>24629</td>\n",
       "      <td>2016-03-30 06:18:03</td>\n",
       "    </tr>\n",
       "    <tr>\n",
       "      <th>130590</th>\n",
       "      <td>2016-03-05 20:59:53</td>\n",
       "      <td>5499</td>\n",
       "      <td>other</td>\n",
       "      <td>1980</td>\n",
       "      <td>manual</td>\n",
       "      <td>90</td>\n",
       "      <td>other</td>\n",
       "      <td>20000</td>\n",
       "      <td>9</td>\n",
       "      <td>petrol</td>\n",
       "      <td>mercedes_benz</td>\n",
       "      <td>no</td>\n",
       "      <td>2016-03-05 00:00:00</td>\n",
       "      <td>0</td>\n",
       "      <td>99610</td>\n",
       "      <td>2016-04-05 18:45:20</td>\n",
       "    </tr>\n",
       "  </tbody>\n",
       "</table>\n",
       "</div>"
      ],
      "text/plain": [
       "                DateCrawled  Price VehicleType  RegistrationYear Gearbox  \\\n",
       "215643  2016-03-12 11:53:17   7500       coupe              2004    auto   \n",
       "35657   2016-03-21 19:38:58   2299       sedan              2004  manual   \n",
       "140117  2016-03-17 21:57:12   6900       sedan              2004  manual   \n",
       "6023    2016-03-28 15:40:36   4500       small              2007  manual   \n",
       "130590  2016-03-05 20:59:53   5499       other              1980  manual   \n",
       "\n",
       "        Power  Model  Kilometer  RegistrationMonth FuelType          Brand  \\\n",
       "215643    200   golf     150000                 11   petrol     volkswagen   \n",
       "35657     101  focus     125000                  6   petrol           ford   \n",
       "140117    192    3er     150000                  8      NaN            bmw   \n",
       "6023       68   aygo      80000                 12   petrol         toyota   \n",
       "130590     90  other      20000                  9   petrol  mercedes_benz   \n",
       "\n",
       "       Repaired          DateCreated  NumberOfPictures  PostalCode  \\\n",
       "215643      NaN  2016-03-12 00:00:00                 0       75382   \n",
       "35657        no  2016-03-21 00:00:00                 0       45527   \n",
       "140117       no  2016-03-17 00:00:00                 0       69168   \n",
       "6023         no  2016-03-28 00:00:00                 0       24629   \n",
       "130590       no  2016-03-05 00:00:00                 0       99610   \n",
       "\n",
       "                   LastSeen  \n",
       "215643  2016-03-28 05:47:11  \n",
       "35657   2016-04-06 21:47:11  \n",
       "140117  2016-03-22 06:16:16  \n",
       "6023    2016-03-30 06:18:03  \n",
       "130590  2016-04-05 18:45:20  "
      ]
     },
     "execution_count": 4,
     "metadata": {},
     "output_type": "execute_result"
    }
   ],
   "source": [
    "df = pd.read_csv(PATH)\n",
    "df.sample(5)"
   ]
  },
  {
   "cell_type": "code",
   "execution_count": 5,
   "metadata": {
    "scrolled": false
   },
   "outputs": [
    {
     "name": "stdout",
     "output_type": "stream",
     "text": [
      "<class 'pandas.core.frame.DataFrame'>\n",
      "RangeIndex: 354369 entries, 0 to 354368\n",
      "Data columns (total 16 columns):\n",
      " #   Column             Non-Null Count   Dtype \n",
      "---  ------             --------------   ----- \n",
      " 0   DateCrawled        354369 non-null  object\n",
      " 1   Price              354369 non-null  int64 \n",
      " 2   VehicleType        316879 non-null  object\n",
      " 3   RegistrationYear   354369 non-null  int64 \n",
      " 4   Gearbox            334536 non-null  object\n",
      " 5   Power              354369 non-null  int64 \n",
      " 6   Model              334664 non-null  object\n",
      " 7   Kilometer          354369 non-null  int64 \n",
      " 8   RegistrationMonth  354369 non-null  int64 \n",
      " 9   FuelType           321474 non-null  object\n",
      " 10  Brand              354369 non-null  object\n",
      " 11  Repaired           283215 non-null  object\n",
      " 12  DateCreated        354369 non-null  object\n",
      " 13  NumberOfPictures   354369 non-null  int64 \n",
      " 14  PostalCode         354369 non-null  int64 \n",
      " 15  LastSeen           354369 non-null  object\n",
      "dtypes: int64(7), object(9)\n",
      "memory usage: 43.3+ MB\n"
     ]
    }
   ],
   "source": [
    "df.info()"
   ]
  },
  {
   "cell_type": "code",
   "execution_count": 6,
   "metadata": {
    "scrolled": true
   },
   "outputs": [
    {
     "data": {
      "text/html": [
       "<div>\n",
       "<style scoped>\n",
       "    .dataframe tbody tr th:only-of-type {\n",
       "        vertical-align: middle;\n",
       "    }\n",
       "\n",
       "    .dataframe tbody tr th {\n",
       "        vertical-align: top;\n",
       "    }\n",
       "\n",
       "    .dataframe thead th {\n",
       "        text-align: right;\n",
       "    }\n",
       "</style>\n",
       "<table border=\"1\" class=\"dataframe\">\n",
       "  <thead>\n",
       "    <tr style=\"text-align: right;\">\n",
       "      <th></th>\n",
       "      <th>Price</th>\n",
       "      <th>RegistrationYear</th>\n",
       "      <th>Power</th>\n",
       "      <th>Kilometer</th>\n",
       "      <th>RegistrationMonth</th>\n",
       "      <th>NumberOfPictures</th>\n",
       "      <th>PostalCode</th>\n",
       "    </tr>\n",
       "  </thead>\n",
       "  <tbody>\n",
       "    <tr>\n",
       "      <th>count</th>\n",
       "      <td>354369.000000</td>\n",
       "      <td>354369.000000</td>\n",
       "      <td>354369.000000</td>\n",
       "      <td>354369.000000</td>\n",
       "      <td>354369.000000</td>\n",
       "      <td>354369.0</td>\n",
       "      <td>354369.000000</td>\n",
       "    </tr>\n",
       "    <tr>\n",
       "      <th>mean</th>\n",
       "      <td>4416.656776</td>\n",
       "      <td>2004.234448</td>\n",
       "      <td>110.094337</td>\n",
       "      <td>128211.172535</td>\n",
       "      <td>5.714645</td>\n",
       "      <td>0.0</td>\n",
       "      <td>50508.689087</td>\n",
       "    </tr>\n",
       "    <tr>\n",
       "      <th>std</th>\n",
       "      <td>4514.158514</td>\n",
       "      <td>90.227958</td>\n",
       "      <td>189.850405</td>\n",
       "      <td>37905.341530</td>\n",
       "      <td>3.726421</td>\n",
       "      <td>0.0</td>\n",
       "      <td>25783.096248</td>\n",
       "    </tr>\n",
       "    <tr>\n",
       "      <th>min</th>\n",
       "      <td>0.000000</td>\n",
       "      <td>1000.000000</td>\n",
       "      <td>0.000000</td>\n",
       "      <td>5000.000000</td>\n",
       "      <td>0.000000</td>\n",
       "      <td>0.0</td>\n",
       "      <td>1067.000000</td>\n",
       "    </tr>\n",
       "    <tr>\n",
       "      <th>25%</th>\n",
       "      <td>1050.000000</td>\n",
       "      <td>1999.000000</td>\n",
       "      <td>69.000000</td>\n",
       "      <td>125000.000000</td>\n",
       "      <td>3.000000</td>\n",
       "      <td>0.0</td>\n",
       "      <td>30165.000000</td>\n",
       "    </tr>\n",
       "    <tr>\n",
       "      <th>50%</th>\n",
       "      <td>2700.000000</td>\n",
       "      <td>2003.000000</td>\n",
       "      <td>105.000000</td>\n",
       "      <td>150000.000000</td>\n",
       "      <td>6.000000</td>\n",
       "      <td>0.0</td>\n",
       "      <td>49413.000000</td>\n",
       "    </tr>\n",
       "    <tr>\n",
       "      <th>75%</th>\n",
       "      <td>6400.000000</td>\n",
       "      <td>2008.000000</td>\n",
       "      <td>143.000000</td>\n",
       "      <td>150000.000000</td>\n",
       "      <td>9.000000</td>\n",
       "      <td>0.0</td>\n",
       "      <td>71083.000000</td>\n",
       "    </tr>\n",
       "    <tr>\n",
       "      <th>max</th>\n",
       "      <td>20000.000000</td>\n",
       "      <td>9999.000000</td>\n",
       "      <td>20000.000000</td>\n",
       "      <td>150000.000000</td>\n",
       "      <td>12.000000</td>\n",
       "      <td>0.0</td>\n",
       "      <td>99998.000000</td>\n",
       "    </tr>\n",
       "  </tbody>\n",
       "</table>\n",
       "</div>"
      ],
      "text/plain": [
       "               Price  RegistrationYear          Power      Kilometer  \\\n",
       "count  354369.000000     354369.000000  354369.000000  354369.000000   \n",
       "mean     4416.656776       2004.234448     110.094337  128211.172535   \n",
       "std      4514.158514         90.227958     189.850405   37905.341530   \n",
       "min         0.000000       1000.000000       0.000000    5000.000000   \n",
       "25%      1050.000000       1999.000000      69.000000  125000.000000   \n",
       "50%      2700.000000       2003.000000     105.000000  150000.000000   \n",
       "75%      6400.000000       2008.000000     143.000000  150000.000000   \n",
       "max     20000.000000       9999.000000   20000.000000  150000.000000   \n",
       "\n",
       "       RegistrationMonth  NumberOfPictures     PostalCode  \n",
       "count      354369.000000          354369.0  354369.000000  \n",
       "mean            5.714645               0.0   50508.689087  \n",
       "std             3.726421               0.0   25783.096248  \n",
       "min             0.000000               0.0    1067.000000  \n",
       "25%             3.000000               0.0   30165.000000  \n",
       "50%             6.000000               0.0   49413.000000  \n",
       "75%             9.000000               0.0   71083.000000  \n",
       "max            12.000000               0.0   99998.000000  "
      ]
     },
     "execution_count": 6,
     "metadata": {},
     "output_type": "execute_result"
    }
   ],
   "source": [
    "df.describe()"
   ]
  },
  {
   "cell_type": "code",
   "execution_count": 7,
   "metadata": {
    "scrolled": true
   },
   "outputs": [
    {
     "data": {
      "text/html": [
       "<div>\n",
       "<style scoped>\n",
       "    .dataframe tbody tr th:only-of-type {\n",
       "        vertical-align: middle;\n",
       "    }\n",
       "\n",
       "    .dataframe tbody tr th {\n",
       "        vertical-align: top;\n",
       "    }\n",
       "\n",
       "    .dataframe thead th {\n",
       "        text-align: right;\n",
       "    }\n",
       "</style>\n",
       "<table border=\"1\" class=\"dataframe\">\n",
       "  <thead>\n",
       "    <tr style=\"text-align: right;\">\n",
       "      <th></th>\n",
       "      <th>DateCrawled</th>\n",
       "      <th>VehicleType</th>\n",
       "      <th>Gearbox</th>\n",
       "      <th>Model</th>\n",
       "      <th>FuelType</th>\n",
       "      <th>Brand</th>\n",
       "      <th>Repaired</th>\n",
       "      <th>DateCreated</th>\n",
       "      <th>LastSeen</th>\n",
       "    </tr>\n",
       "  </thead>\n",
       "  <tbody>\n",
       "    <tr>\n",
       "      <th>count</th>\n",
       "      <td>354369</td>\n",
       "      <td>316879</td>\n",
       "      <td>334536</td>\n",
       "      <td>334664</td>\n",
       "      <td>321474</td>\n",
       "      <td>354369</td>\n",
       "      <td>283215</td>\n",
       "      <td>354369</td>\n",
       "      <td>354369</td>\n",
       "    </tr>\n",
       "    <tr>\n",
       "      <th>unique</th>\n",
       "      <td>271174</td>\n",
       "      <td>8</td>\n",
       "      <td>2</td>\n",
       "      <td>250</td>\n",
       "      <td>7</td>\n",
       "      <td>40</td>\n",
       "      <td>2</td>\n",
       "      <td>109</td>\n",
       "      <td>179150</td>\n",
       "    </tr>\n",
       "    <tr>\n",
       "      <th>top</th>\n",
       "      <td>2016-03-24 14:49:47</td>\n",
       "      <td>sedan</td>\n",
       "      <td>manual</td>\n",
       "      <td>golf</td>\n",
       "      <td>petrol</td>\n",
       "      <td>volkswagen</td>\n",
       "      <td>no</td>\n",
       "      <td>2016-04-03 00:00:00</td>\n",
       "      <td>2016-04-06 13:45:54</td>\n",
       "    </tr>\n",
       "    <tr>\n",
       "      <th>freq</th>\n",
       "      <td>7</td>\n",
       "      <td>91457</td>\n",
       "      <td>268251</td>\n",
       "      <td>29232</td>\n",
       "      <td>216352</td>\n",
       "      <td>77013</td>\n",
       "      <td>247161</td>\n",
       "      <td>13719</td>\n",
       "      <td>17</td>\n",
       "    </tr>\n",
       "  </tbody>\n",
       "</table>\n",
       "</div>"
      ],
      "text/plain": [
       "                DateCrawled VehicleType Gearbox   Model FuelType       Brand  \\\n",
       "count                354369      316879  334536  334664   321474      354369   \n",
       "unique               271174           8       2     250        7          40   \n",
       "top     2016-03-24 14:49:47       sedan  manual    golf   petrol  volkswagen   \n",
       "freq                      7       91457  268251   29232   216352       77013   \n",
       "\n",
       "       Repaired          DateCreated             LastSeen  \n",
       "count    283215               354369               354369  \n",
       "unique        2                  109               179150  \n",
       "top          no  2016-04-03 00:00:00  2016-04-06 13:45:54  \n",
       "freq     247161                13719                   17  "
      ]
     },
     "execution_count": 7,
     "metadata": {},
     "output_type": "execute_result"
    }
   ],
   "source": [
    "df.describe(include=['object'])"
   ]
  },
  {
   "cell_type": "markdown",
   "metadata": {},
   "source": [
    "Типы данных, за исключением дат, определены верно. Данные интерпретированы корректно. \n",
    "\n",
    "Наблюдаем следующие особенности:\n",
    "- столбцы именованы в `CamelCase`;\n",
    "- многочисленные пропуски в категориальных признаках (`VehicleType`, `Gearbox`, `Model`, `FuelType`, `Repaired`)\n",
    "- аномалии в количественных признаках (`Price`, `RegistrationMonth`, `RegistrationYear`, `Power`). \n",
    "\n",
    "Присупим к предобработке данных.\n",
    "\n",
    "### Переименование столбцов\n",
    "Переименуем столбцы в `snake_case`."
   ]
  },
  {
   "cell_type": "code",
   "execution_count": 8,
   "metadata": {
    "scrolled": true
   },
   "outputs": [
    {
     "data": {
      "text/plain": [
       "Index(['date_crawled', 'price', 'vehicle_type', 'registration_year', 'gearbox',\n",
       "       'power', 'model', 'kilometer', 'registration_month', 'fuel_type',\n",
       "       'brand', 'repaired', 'date_created', 'number_of_pictures',\n",
       "       'postal_code', 'last_seen'],\n",
       "      dtype='object')"
      ]
     },
     "execution_count": 8,
     "metadata": {},
     "output_type": "execute_result"
    }
   ],
   "source": [
    "col_names = []\n",
    "for col_name in df.columns:\n",
    "    col_names.append(re.sub(r'(?<!^)(?=[A-Z])', '_', col_name).lower())\n",
    "\n",
    "df.columns = col_names\n",
    "df.columns"
   ]
  },
  {
   "cell_type": "markdown",
   "metadata": {},
   "source": [
    "Переименование прошло корректно.\n",
    "### Обработка дубликатов\n",
    "Поищем явные дубликаты. При наличии - удалим. "
   ]
  },
  {
   "cell_type": "code",
   "execution_count": 9,
   "metadata": {},
   "outputs": [
    {
     "name": "stdout",
     "output_type": "stream",
     "text": [
      "Количество явных дубликатов 4\n"
     ]
    }
   ],
   "source": [
    "print('Количество явных дубликатов', df.duplicated().sum())\n",
    "df = df.drop_duplicates()"
   ]
  },
  {
   "cell_type": "markdown",
   "metadata": {},
   "source": [
    "Проверим результат."
   ]
  },
  {
   "cell_type": "code",
   "execution_count": 10,
   "metadata": {},
   "outputs": [
    {
     "name": "stdout",
     "output_type": "stream",
     "text": [
      "Количество явных дубликатов 0\n"
     ]
    }
   ],
   "source": [
    "print('Количество явных дубликатов', df.duplicated().sum())"
   ]
  },
  {
   "cell_type": "markdown",
   "metadata": {},
   "source": [
    "Явные дубликаты удалены.\n",
    "### Отбор информативных признаков\n",
    "Оставим в датасете целевой признак, а также те, что влияют на стоимость автомобиля:\n",
    " - тип кузова (vehicle_type);\n",
    " - год регистрации авто (registration_year);\n",
    " - тип коробки передч (gearbox); \n",
    " - мощность двигателя (power);\n",
    " - модель авто (model);\n",
    " - пробег (kilometer);\n",
    " - тип топлива (fuel_type);\n",
    " - марка авто (brand);\n",
    " - факт ремонта (repaired);\n",
    " - цена (price).\n",
    " \n",
    "Отдельно сохраним даты публикации объявлений (date_created). Они помогут далее, в обработке аномалий. "
   ]
  },
  {
   "cell_type": "code",
   "execution_count": 11,
   "metadata": {
    "scrolled": false
   },
   "outputs": [
    {
     "data": {
      "text/plain": [
       "Index(['vehicle_type', 'registration_year', 'gearbox', 'power', 'model',\n",
       "       'kilometer', 'fuel_type', 'brand', 'repaired', 'price'],\n",
       "      dtype='object')"
      ]
     },
     "execution_count": 11,
     "metadata": {},
     "output_type": "execute_result"
    }
   ],
   "source": [
    "date_created = pd.to_datetime(df['date_created'], format='%Y-%m-%d %H:%M:%S')\n",
    "\n",
    "col_names = FEATURES.copy()\n",
    "col_names.append(TARGET)\n",
    "df = df[col_names]\n",
    "df.columns"
   ]
  },
  {
   "cell_type": "markdown",
   "metadata": {},
   "source": [
    "### Обработка аномалий \n",
    "#### Год регистрации автомобиля (registration_year)\n",
    "Рассмотрим данные на гистограмме."
   ]
  },
  {
   "cell_type": "code",
   "execution_count": 12,
   "metadata": {
    "scrolled": false
   },
   "outputs": [
    {
     "data": {
      "text/plain": [
       "<AxesSubplot:>"
      ]
     },
     "execution_count": 12,
     "metadata": {},
     "output_type": "execute_result"
    },
    {
     "data": {
      "image/png": "[encoded data removed]",
      "text/plain": [
       "<Figure size 1152x504 with 1 Axes>"
      ]
     },
     "metadata": {
      "needs_background": "light"
     },
     "output_type": "display_data"
    }
   ],
   "source": [
    "df['registration_year'].hist(bins=100, range=[1930, 2030], figsize=(16,7))"
   ]
  },
  {
   "cell_type": "markdown",
   "metadata": {},
   "source": [
    "А также посмотрим, когда было опубликовано самое свежее объявление."
   ]
  },
  {
   "cell_type": "code",
   "execution_count": 13,
   "metadata": {},
   "outputs": [
    {
     "data": {
      "text/plain": [
       "Timestamp('2016-04-07 00:00:00')"
      ]
     },
     "execution_count": 13,
     "metadata": {},
     "output_type": "execute_result"
    }
   ],
   "source": [
    "date_created.max()"
   ]
  },
  {
   "cell_type": "markdown",
   "metadata": {},
   "source": [
    "На основании гистограммы установим 1960 год в качестве нижнего порога отсечения. Верхний порог отсечения, 2016 год,  возьмем по последнему объявлению. "
   ]
  },
  {
   "cell_type": "code",
   "execution_count": 14,
   "metadata": {},
   "outputs": [
    {
     "name": "stdout",
     "output_type": "stream",
     "text": [
      "Год регистрации автомобиля: \n",
      " - min 1960 \n",
      " - max 2016\n"
     ]
    }
   ],
   "source": [
    "df = df[(df['registration_year'] > 1959) & (df['registration_year'] < 2017)]\n",
    "print(\n",
    "    'Год регистрации автомобиля:',\n",
    "    '\\n - min', df['registration_year'].min(),\n",
    "    '\\n - max', df['registration_year'].max(),\n",
    ")"
   ]
  },
  {
   "cell_type": "markdown",
   "metadata": {},
   "source": [
    "Преобразование прошло корректно.\n",
    "#### Цена (price)\n",
    "Рассмотрим данные на гистограмме."
   ]
  },
  {
   "cell_type": "code",
   "execution_count": 15,
   "metadata": {
    "scrolled": false
   },
   "outputs": [
    {
     "data": {
      "text/plain": [
       "<AxesSubplot:>"
      ]
     },
     "execution_count": 15,
     "metadata": {},
     "output_type": "execute_result"
    },
    {
     "data": {
      "image/png": "[encoded data removed]",
      "text/plain": [
       "<Figure size 1152x504 with 1 Axes>"
      ]
     },
     "metadata": {
      "needs_background": "light"
     },
     "output_type": "display_data"
    }
   ],
   "source": [
    "df['price'].hist(bins=150, figsize=(16,7))"
   ]
  },
  {
   "cell_type": "markdown",
   "metadata": {},
   "source": [
    "Наблюдаем множество околонулевых значений. Примем 500 евро, в качестве правдоподобного нижнего порога отсечения. \n",
    "\n",
    "Отдельно обратим внимание, как локальные пики указывают на стремление пользователей утановить цену, кратной 500 евро."
   ]
  },
  {
   "cell_type": "code",
   "execution_count": 16,
   "metadata": {
    "scrolled": true
   },
   "outputs": [
    {
     "name": "stdout",
     "output_type": "stream",
     "text": [
      "Цена, евро: \n",
      " - min 500\n"
     ]
    }
   ],
   "source": [
    "df = df[df['price'] > 499]\n",
    "print(\n",
    "    'Цена, евро:',\n",
    "    '\\n - min', df['price'].min()\n",
    ")"
   ]
  },
  {
   "cell_type": "markdown",
   "metadata": {},
   "source": [
    "Преобразование прошло корректно.\n",
    "#### Мощность двигателя (power)\n",
    "Рассмотрим данные на гистограмме."
   ]
  },
  {
   "cell_type": "code",
   "execution_count": 17,
   "metadata": {
    "scrolled": false
   },
   "outputs": [
    {
     "data": {
      "text/plain": [
       "<AxesSubplot:>"
      ]
     },
     "execution_count": 17,
     "metadata": {},
     "output_type": "execute_result"
    },
    {
     "data": {
      "image/png": "[encoded data removed]",
      "text/plain": [
       "<Figure size 1152x504 with 1 Axes>"
      ]
     },
     "metadata": {
      "needs_background": "light"
     },
     "output_type": "display_data"
    }
   ],
   "source": [
    "df['power'].hist(bins=200, figsize=(16,7), range=[0, 1000])"
   ]
  },
  {
   "cell_type": "markdown",
   "metadata": {},
   "source": [
    "Наблюдаем множество околонулевых значений. \n",
    "\n",
    "Беглый анализ массового рынка автомобилей по состоянию на 2016 год не противоречит гистограмме и показывает, что: \n",
    " - мощность малолитражных авто - не ниже 50 л.с.;\n",
    " - мощность спорткаров - не выше 350 л.с.\n",
    " \n",
    "Ограничимся этими значениями."
   ]
  },
  {
   "cell_type": "code",
   "execution_count": 18,
   "metadata": {},
   "outputs": [],
   "source": [
    "df = df[(df['power'] > 49) & (df['power'] < 351)]"
   ]
  },
  {
   "cell_type": "code",
   "execution_count": 19,
   "metadata": {
    "scrolled": true
   },
   "outputs": [
    {
     "name": "stdout",
     "output_type": "stream",
     "text": [
      "Мощность двигателя, л.с.: \n",
      " - min 50 \n",
      " - max 350\n"
     ]
    }
   ],
   "source": [
    "print(\n",
    "    'Мощность двигателя, л.с.:',\n",
    "    '\\n - min', df['power'].min(),\n",
    "    '\\n - max', df['power'].max(),\n",
    ")"
   ]
  },
  {
   "cell_type": "markdown",
   "metadata": {},
   "source": [
    "Преобразование прошло корректно.\n",
    "#### Тип кузова (vehicle_type)\n",
    "Рассмотрим значения данного признака, включая пропущенные."
   ]
  },
  {
   "cell_type": "code",
   "execution_count": 20,
   "metadata": {
    "scrolled": false
   },
   "outputs": [
    {
     "data": {
      "text/plain": [
       "sedan          79191\n",
       "small          59860\n",
       "wagon          56706\n",
       "bus            25806\n",
       "convertible    18237\n",
       "coupe          13697\n",
       "suv            10758\n",
       "NaN             8268\n",
       "other           2158\n",
       "Name: vehicle_type, dtype: int64"
      ]
     },
     "execution_count": 20,
     "metadata": {},
     "output_type": "execute_result"
    }
   ],
   "source": [
    "df['vehicle_type'].value_counts(dropna=False)"
   ]
  },
  {
   "cell_type": "markdown",
   "metadata": {},
   "source": [
    "Справедливо предположить, что тип кузова заметно влияет на популярность и стоимость автомобиля. Чтобы улучшить предсказательную способность модели, избавимся от записей, вносящих неопределенность (значение `other`)."
   ]
  },
  {
   "cell_type": "code",
   "execution_count": 21,
   "metadata": {},
   "outputs": [
    {
     "data": {
      "text/plain": [
       "0"
      ]
     },
     "execution_count": 21,
     "metadata": {},
     "output_type": "execute_result"
    }
   ],
   "source": [
    "df = df[~(df['vehicle_type'] == 'other')]\n",
    "(df['vehicle_type'] == 'other').sum()"
   ]
  },
  {
   "cell_type": "markdown",
   "metadata": {},
   "source": [
    "Преобразование прошло корректно.\n",
    "#### Тип коробки передач (gearbox)\n",
    "Рассмотрим значения данного признака, включая пропущенные."
   ]
  },
  {
   "cell_type": "code",
   "execution_count": 22,
   "metadata": {
    "scrolled": true
   },
   "outputs": [
    {
     "data": {
      "text/plain": [
       "manual    212111\n",
       "auto       56269\n",
       "NaN         4143\n",
       "Name: gearbox, dtype: int64"
      ]
     },
     "execution_count": 22,
     "metadata": {},
     "output_type": "execute_result"
    }
   ],
   "source": [
    "df['gearbox'].value_counts(dropna=False)"
   ]
  },
  {
   "cell_type": "markdown",
   "metadata": {},
   "source": [
    "Аномалии отсутствуют.\n",
    "#### Модель автомобиля (model)\n",
    "Рассмотрим значения данного признака, включая пропущенные."
   ]
  },
  {
   "cell_type": "code",
   "execution_count": 24,
   "metadata": {
    "scrolled": true
   },
   "outputs": [
    {
     "data": {
      "text/plain": [
       "array([nan, 'grand', 'golf', 'fabia', '3er', '2_reihe', 'c_max',\n",
       "       '3_reihe', 'passat', 'navara', 'twingo', 'a_klasse', 'scirocco',\n",
       "       '5er', 'other', 'civic', 'transporter', 'punto', 'e_klasse',\n",
       "       'clio', 'one', 'fortwo', '1er', 'b_klasse', 'a8', 'jetta',\n",
       "       'fiesta', 'c_klasse', 'micra', 'sprinter', 'escort', 'forester',\n",
       "       'xc_reihe', 'scenic', 'a1', 'focus', 'a4', 'tt', 'astra', 'a6',\n",
       "       'jazz', 'polo', 'slk', '7er', 'combo', '80', '147', 'z_reihe',\n",
       "       'sorento', 'ibiza', 'mustang', 'eos', 'vito', 'touran', 'getz',\n",
       "       'insignia', 'ka', 'almera', 'megane', 'a3', 'caddy', 'mondeo',\n",
       "       'cordoba', 'colt', 'impreza', 'corsa', 'vectra', 'lupo',\n",
       "       'berlingo', 'tiguan', '6_reihe', 'c4', 'panda', 'up', 'i_reihe',\n",
       "       'ceed', 'kangoo', '5_reihe', 'yeti', 'octavia', 'zafira', 'mii',\n",
       "       'rx_reihe', '6er', 'modus', 'fox', 'matiz', 'beetle', 'rio',\n",
       "       'touareg', 'logan', 'spider', 'omega', 'cuore', 's_max', 'a2',\n",
       "       'galaxy', 'c3', 'viano', 's_klasse', '1_reihe', 'sharan',\n",
       "       'avensis', 'roomster', 'sl', 'santa', 'leon', 'cooper', '4_reihe',\n",
       "       'a5', 'sportage', 'laguna', 'ptcruiser', 'clk', 'primera',\n",
       "       'espace', 'exeo', '159', 'transit', 'juke', 'x_reihe', 'v40',\n",
       "       'carisma', 'accord', 'corolla', 'lanos', 'phaeton', 'verso',\n",
       "       'swift', 'rav', 'qashqai', 'picanto', 'boxster', 'superb', 'stilo',\n",
       "       'alhambra', 'roadster', 'galant', '90', 'signum', 'crossfire',\n",
       "       'agila', 'duster', 'v50', 'mx_reihe', 'meriva', 'c_reihe',\n",
       "       'v_klasse', 'm_klasse', 'yaris', 'c5', 'aygo', 'cc', 'carnival',\n",
       "       'fusion', '911', 'bora', 'forfour', 'cl', 'tigra', '156', '300c',\n",
       "       '500', '100', 'cr_reihe', 'spark', 'kuga', 'x_type', 'ducato',\n",
       "       's_type', 'x_trail', 'toledo', 'altea', 'arosa', 'voyager', 'v70',\n",
       "       'tucson', 'c1', 'kadett', 'citigo', 'jimny', 'cayenne', 'wrangler',\n",
       "       'lybra', 'lancer', 'captiva', 'discovery', 'freelander', 'sandero',\n",
       "       'q7', 'note', 'seicento', 'antara', 'sirion', '900', 'cherokee',\n",
       "       'clubman', 'defender', 'cx_reihe', 'legacy', 'pajero', 'auris',\n",
       "       'c2', 'niva', 's60', 'm_reihe', 'nubira', 'vivaro', 'g_klasse',\n",
       "       'justy', 'lodgy', 'range_rover', '850', 'ypsilon', 'q3', 'calibra',\n",
       "       'glk', 'charade', 'croma', 'outlander', 'kaefer', 'doblo', 'musa',\n",
       "       '9000', 'kalos', 'v60', 'bravo', 'r19', '200', '145', 'b_max',\n",
       "       'range_rover_sport', 'aveo', 'rangerover', 'q5',\n",
       "       'range_rover_evoque', 'materia', 'terios', 'gl', 'serie_2', 'move',\n",
       "       'kalina', 'elefantino', 'delta', 'i3', 'samara', 'amarok', '601',\n",
       "       'kappa', 'serie_3'], dtype=object)"
      ]
     },
     "execution_count": 24,
     "metadata": {},
     "output_type": "execute_result"
    }
   ],
   "source": [
    "models = df['model'].unique()\n",
    "models"
   ]
  },
  {
   "cell_type": "markdown",
   "metadata": {},
   "source": [
    "Посмотрим, нет ли здесь неявных дубликатов. Для удобства отсортируем значения, предварительно удалив `NaN`. "
   ]
  },
  {
   "cell_type": "code",
   "execution_count": 25,
   "metadata": {
    "scrolled": true
   },
   "outputs": [
    {
     "data": {
      "text/plain": [
       "array(['100', '145', '147', '156', '159', '1_reihe', '1er', '200',\n",
       "       '2_reihe', '300c', '3_reihe', '3er', '4_reihe', '500', '5_reihe',\n",
       "       '5er', '601', '6_reihe', '6er', '7er', '80', '850', '90', '900',\n",
       "       '9000', '911', 'a1', 'a2', 'a3', 'a4', 'a5', 'a6', 'a8',\n",
       "       'a_klasse', 'accord', 'agila', 'alhambra', 'almera', 'altea',\n",
       "       'amarok', 'antara', 'arosa', 'astra', 'auris', 'avensis', 'aveo',\n",
       "       'aygo', 'b_klasse', 'b_max', 'beetle', 'berlingo', 'bora',\n",
       "       'boxster', 'bravo', 'c1', 'c2', 'c3', 'c4', 'c5', 'c_klasse',\n",
       "       'c_max', 'c_reihe', 'caddy', 'calibra', 'captiva', 'carisma',\n",
       "       'carnival', 'cayenne', 'cc', 'ceed', 'charade', 'cherokee',\n",
       "       'citigo', 'civic', 'cl', 'clio', 'clk', 'clubman', 'colt', 'combo',\n",
       "       'cooper', 'cordoba', 'corolla', 'corsa', 'cr_reihe', 'croma',\n",
       "       'crossfire', 'cuore', 'cx_reihe', 'defender', 'delta', 'discovery',\n",
       "       'doblo', 'ducato', 'duster', 'e_klasse', 'elefantino', 'eos',\n",
       "       'escort', 'espace', 'exeo', 'fabia', 'fiesta', 'focus', 'forester',\n",
       "       'forfour', 'fortwo', 'fox', 'freelander', 'fusion', 'g_klasse',\n",
       "       'galant', 'galaxy', 'getz', 'gl', 'glk', 'golf', 'grand', 'i3',\n",
       "       'i_reihe', 'ibiza', 'impreza', 'insignia', 'jazz', 'jetta',\n",
       "       'jimny', 'juke', 'justy', 'ka', 'kadett', 'kaefer', 'kalina',\n",
       "       'kalos', 'kangoo', 'kappa', 'kuga', 'laguna', 'lancer', 'lanos',\n",
       "       'legacy', 'leon', 'lodgy', 'logan', 'lupo', 'lybra', 'm_klasse',\n",
       "       'm_reihe', 'materia', 'matiz', 'megane', 'meriva', 'micra', 'mii',\n",
       "       'modus', 'mondeo', 'move', 'musa', 'mustang', 'mx_reihe', 'navara',\n",
       "       'niva', 'note', 'nubira', 'octavia', 'omega', 'one', 'other',\n",
       "       'outlander', 'pajero', 'panda', 'passat', 'phaeton', 'picanto',\n",
       "       'polo', 'primera', 'ptcruiser', 'punto', 'q3', 'q5', 'q7',\n",
       "       'qashqai', 'r19', 'range_rover', 'range_rover_evoque',\n",
       "       'range_rover_sport', 'rangerover', 'rav', 'rio', 'roadster',\n",
       "       'roomster', 'rx_reihe', 's60', 's_klasse', 's_max', 's_type',\n",
       "       'samara', 'sandero', 'santa', 'scenic', 'scirocco', 'seicento',\n",
       "       'serie_2', 'serie_3', 'sharan', 'signum', 'sirion', 'sl', 'slk',\n",
       "       'sorento', 'spark', 'spider', 'sportage', 'sprinter', 'stilo',\n",
       "       'superb', 'swift', 'terios', 'tigra', 'tiguan', 'toledo',\n",
       "       'touareg', 'touran', 'transit', 'transporter', 'tt', 'tucson',\n",
       "       'twingo', 'up', 'v40', 'v50', 'v60', 'v70', 'v_klasse', 'vectra',\n",
       "       'verso', 'viano', 'vito', 'vivaro', 'voyager', 'wrangler',\n",
       "       'x_reihe', 'x_trail', 'x_type', 'xc_reihe', 'yaris', 'yeti',\n",
       "       'ypsilon', 'z_reihe', 'zafira'], dtype=object)"
      ]
     },
     "execution_count": 25,
     "metadata": {},
     "output_type": "execute_result"
    }
   ],
   "source": [
    "models = np.delete(models, 0)\n",
    "models.sort()\n",
    "models"
   ]
  },
  {
   "cell_type": "markdown",
   "metadata": {},
   "source": [
    "Неявные дубликаты отсутствуют. \n",
    "\n",
    "Учитывая прямое влияние модели на стоимость автомобиля, избавимся от записей со значением `other`, вносящих неопределенность. "
   ]
  },
  {
   "cell_type": "code",
   "execution_count": 26,
   "metadata": {},
   "outputs": [
    {
     "data": {
      "text/plain": [
       "0"
      ]
     },
     "execution_count": 26,
     "metadata": {},
     "output_type": "execute_result"
    }
   ],
   "source": [
    "df = df[~(df['model'] == 'other')]\n",
    "(df['model'] == 'other').sum()"
   ]
  },
  {
   "cell_type": "markdown",
   "metadata": {},
   "source": [
    "Преобразования прошли корректно.\n",
    "#### Тим топлива (fuel_type)\n",
    "Рассмотрим значения данного признака, включая пропущенные."
   ]
  },
  {
   "cell_type": "code",
   "execution_count": 27,
   "metadata": {
    "scrolled": true
   },
   "outputs": [
    {
     "data": {
      "text/plain": [
       "petrol      157514\n",
       "gasoline     80562\n",
       "NaN          11649\n",
       "lpg           3967\n",
       "cng            426\n",
       "hybrid         136\n",
       "other           34\n",
       "electric        18\n",
       "Name: fuel_type, dtype: int64"
      ]
     },
     "execution_count": 27,
     "metadata": {},
     "output_type": "execute_result"
    }
   ],
   "source": [
    "df['fuel_type'].value_counts(dropna=False)"
   ]
  },
  {
   "cell_type": "markdown",
   "metadata": {},
   "source": [
    "Наблюдаем неявные дубликаты: `petrol` и `gasoline` - это бензин. Учитывая валюту датасета (евро), обозначим бензин в европейской традиции - `petrol`.  "
   ]
  },
  {
   "cell_type": "code",
   "execution_count": 28,
   "metadata": {
    "scrolled": false
   },
   "outputs": [],
   "source": [
    "df['fuel_type'] = df['fuel_type'].replace('gasoline', 'petrol')"
   ]
  },
  {
   "cell_type": "markdown",
   "metadata": {},
   "source": [
    "Так же избавимся от неопределенного вида топлива."
   ]
  },
  {
   "cell_type": "code",
   "execution_count": 29,
   "metadata": {},
   "outputs": [],
   "source": [
    "df = df[~(df['fuel_type'] == 'other')]"
   ]
  },
  {
   "cell_type": "markdown",
   "metadata": {},
   "source": [
    "Проверим результат."
   ]
  },
  {
   "cell_type": "code",
   "execution_count": 30,
   "metadata": {},
   "outputs": [
    {
     "name": "stdout",
     "output_type": "stream",
     "text": [
      "Количество записей с типом топлива: \n",
      " - gasoline: 0 \n",
      " - petrol: 238076 \n",
      " - other: 0\n"
     ]
    }
   ],
   "source": [
    "print(\n",
    "    'Количество записей с типом топлива:',\n",
    "    '\\n - gasoline:', (df['fuel_type'] == 'gasoline').sum(), \n",
    "    '\\n - petrol:', (df['fuel_type'] == 'petrol').sum(), \n",
    "    '\\n - other:', (df['fuel_type'] == 'other').sum()\n",
    ")"
   ]
  },
  {
   "cell_type": "markdown",
   "metadata": {},
   "source": [
    "Преобразования прошли корректно.\n",
    "#### Марка автомобиля (brand)\n",
    "Рассмотрим значения данного признака, включая пропущенные."
   ]
  },
  {
   "cell_type": "code",
   "execution_count": 32,
   "metadata": {
    "scrolled": true
   },
   "outputs": [
    {
     "data": {
      "text/plain": [
       "volkswagen        58358\n",
       "bmw               31137\n",
       "opel              27264\n",
       "mercedes_benz     24159\n",
       "audi              23883\n",
       "ford              17126\n",
       "renault           11425\n",
       "peugeot            7806\n",
       "seat               5341\n",
       "fiat               5246\n",
       "skoda              4692\n",
       "mazda              3602\n",
       "smart              3568\n",
       "toyota             3262\n",
       "nissan             3111\n",
       "mini               2861\n",
       "citroen            2655\n",
       "volvo              2181\n",
       "hyundai            2090\n",
       "honda              1977\n",
       "kia                1629\n",
       "mitsubishi         1615\n",
       "sonstige_autos     1409\n",
       "alfa_romeo         1401\n",
       "suzuki              979\n",
       "chrysler            797\n",
       "dacia               774\n",
       "chevrolet           651\n",
       "subaru              520\n",
       "jeep                449\n",
       "land_rover          444\n",
       "porsche             428\n",
       "daihatsu            389\n",
       "daewoo              262\n",
       "jaguar              255\n",
       "lancia              254\n",
       "saab                118\n",
       "lada                116\n",
       "rover                35\n",
       "trabant               3\n",
       "Name: brand, dtype: int64"
      ]
     },
     "execution_count": 32,
     "metadata": {},
     "output_type": "execute_result"
    }
   ],
   "source": [
    "df['brand'].value_counts(dropna=False)"
   ]
  },
  {
   "cell_type": "markdown",
   "metadata": {},
   "source": [
    "Аномалии отсутствуют.\n",
    "#### Факт ремонта (repaired)\n",
    "Рассмотрим значения данного признака, включая пропущенные."
   ]
  },
  {
   "cell_type": "code",
   "execution_count": 31,
   "metadata": {
    "scrolled": true
   },
   "outputs": [
    {
     "data": {
      "text/plain": [
       "no     200307\n",
       "NaN     33388\n",
       "yes     20577\n",
       "Name: repaired, dtype: int64"
      ]
     },
     "execution_count": 31,
     "metadata": {},
     "output_type": "execute_result"
    }
   ],
   "source": [
    "df['repaired'].value_counts(dropna=False)"
   ]
  },
  {
   "cell_type": "markdown",
   "metadata": {},
   "source": [
    "Аномалии отсутствуют."
   ]
  },
  {
   "cell_type": "markdown",
   "metadata": {},
   "source": [
    "### Обработка пропусков\n",
    "Определим функцию, которая представляет информацию о пропусках в удобном формате. "
   ]
  },
  {
   "cell_type": "code",
   "execution_count": 33,
   "metadata": {},
   "outputs": [],
   "source": [
    "def isna_summary(data_frame):\n",
    "    \"\"\"Возвращает DataFrame с количеством \n",
    "    и процентом пропусков в столбцах.\n",
    "    АРГУМЕНТЫ\n",
    "    data_frame -- DataFrame для анализа\n",
    "    \"\"\"\n",
    "    nulls = data_frame.isna()\n",
    "    result = pd.concat([nulls.sum(), nulls.mean() * 100], axis=1)\n",
    "    result.columns = ['sum', 'percent']\n",
    "    return result[result['sum'] > 0] "
   ]
  },
  {
   "cell_type": "code",
   "execution_count": 34,
   "metadata": {
    "scrolled": true
   },
   "outputs": [
    {
     "data": {
      "text/html": [
       "<div>\n",
       "<style scoped>\n",
       "    .dataframe tbody tr th:only-of-type {\n",
       "        vertical-align: middle;\n",
       "    }\n",
       "\n",
       "    .dataframe tbody tr th {\n",
       "        vertical-align: top;\n",
       "    }\n",
       "\n",
       "    .dataframe thead th {\n",
       "        text-align: right;\n",
       "    }\n",
       "</style>\n",
       "<table border=\"1\" class=\"dataframe\">\n",
       "  <thead>\n",
       "    <tr style=\"text-align: right;\">\n",
       "      <th></th>\n",
       "      <th>sum</th>\n",
       "      <th>percent</th>\n",
       "    </tr>\n",
       "  </thead>\n",
       "  <tbody>\n",
       "    <tr>\n",
       "      <th>vehicle_type</th>\n",
       "      <td>7918</td>\n",
       "      <td>3.113988</td>\n",
       "    </tr>\n",
       "    <tr>\n",
       "      <th>gearbox</th>\n",
       "      <td>3906</td>\n",
       "      <td>1.536150</td>\n",
       "    </tr>\n",
       "    <tr>\n",
       "      <th>model</th>\n",
       "      <td>9073</td>\n",
       "      <td>3.568226</td>\n",
       "    </tr>\n",
       "    <tr>\n",
       "      <th>fuel_type</th>\n",
       "      <td>11649</td>\n",
       "      <td>4.581314</td>\n",
       "    </tr>\n",
       "    <tr>\n",
       "      <th>repaired</th>\n",
       "      <td>33388</td>\n",
       "      <td>13.130821</td>\n",
       "    </tr>\n",
       "  </tbody>\n",
       "</table>\n",
       "</div>"
      ],
      "text/plain": [
       "                sum    percent\n",
       "vehicle_type   7918   3.113988\n",
       "gearbox        3906   1.536150\n",
       "model          9073   3.568226\n",
       "fuel_type     11649   4.581314\n",
       "repaired      33388  13.130821"
      ]
     },
     "execution_count": 34,
     "metadata": {},
     "output_type": "execute_result"
    }
   ],
   "source": [
    "isna_summary(df)"
   ]
  },
  {
   "cell_type": "markdown",
   "metadata": {},
   "source": [
    "Наблюдаем множество пропусков. Попробуем их заполнить.\n",
    "#### Факт ремонта (repaired)\n",
    "Сформулируем предположения: \n",
    " - пропуски в признаке `repaired` обозначают отсутствие ремонта;\n",
    " - пропуски в признаке `repaired` относятся к машинам, как бывшим, так и НЕ бывшим в ремонте.\n",
    " \n",
    "Евсли верно первое, то средние цены на авто с `repaired = no` и `repaired = NaN` должны быть близки, и мы сможем заполнить пропуски значением `no`. \n",
    "\n",
    "Если верно второе, то средняя цена авто с `repaired = NaN` будет близка с `repaired = yes & repaired = no`. В этом случае пропуски придется удалить, т.к. заполнить их достоверно невозможно. \n",
    "\n",
    "На примере наиболее популярных модели и года регистрации проверим данные предположения. \n",
    "\n",
    "Модель:"
   ]
  },
  {
   "cell_type": "code",
   "execution_count": 35,
   "metadata": {
    "scrolled": true
   },
   "outputs": [
    {
     "data": {
      "text/plain": [
       "0    golf\n",
       "dtype: object"
      ]
     },
     "execution_count": 35,
     "metadata": {},
     "output_type": "execute_result"
    }
   ],
   "source": [
    "df['model'].mode()"
   ]
  },
  {
   "cell_type": "markdown",
   "metadata": {},
   "source": [
    "Год регистрации:"
   ]
  },
  {
   "cell_type": "code",
   "execution_count": 36,
   "metadata": {},
   "outputs": [
    {
     "data": {
      "text/plain": [
       "0    1999\n",
       "dtype: int64"
      ]
     },
     "execution_count": 36,
     "metadata": {},
     "output_type": "execute_result"
    }
   ],
   "source": [
    "df[df['model'] == 'golf']['registration_year'].mode()"
   ]
  },
  {
   "cell_type": "markdown",
   "metadata": {},
   "source": [
    "Формируем описательную статистику:"
   ]
  },
  {
   "cell_type": "code",
   "execution_count": 37,
   "metadata": {
    "scrolled": false
   },
   "outputs": [
    {
     "data": {
      "text/html": [
       "<div>\n",
       "<style scoped>\n",
       "    .dataframe tbody tr th:only-of-type {\n",
       "        vertical-align: middle;\n",
       "    }\n",
       "\n",
       "    .dataframe tbody tr th {\n",
       "        vertical-align: top;\n",
       "    }\n",
       "\n",
       "    .dataframe thead th {\n",
       "        text-align: right;\n",
       "    }\n",
       "</style>\n",
       "<table border=\"1\" class=\"dataframe\">\n",
       "  <thead>\n",
       "    <tr style=\"text-align: right;\">\n",
       "      <th></th>\n",
       "      <th>price_repaired</th>\n",
       "      <th>price_not_repaired</th>\n",
       "      <th>price_nan_repaired</th>\n",
       "      <th>price_repaired_&amp;_not_repaired</th>\n",
       "    </tr>\n",
       "  </thead>\n",
       "  <tbody>\n",
       "    <tr>\n",
       "      <th>count</th>\n",
       "      <td>191.000000</td>\n",
       "      <td>1354.000000</td>\n",
       "      <td>287.000000</td>\n",
       "      <td>1545.000000</td>\n",
       "    </tr>\n",
       "    <tr>\n",
       "      <th>mean</th>\n",
       "      <td>1058.146597</td>\n",
       "      <td>1941.950517</td>\n",
       "      <td>1600.083624</td>\n",
       "      <td>1832.690615</td>\n",
       "    </tr>\n",
       "    <tr>\n",
       "      <th>std</th>\n",
       "      <td>503.948483</td>\n",
       "      <td>1030.454273</td>\n",
       "      <td>779.451223</td>\n",
       "      <td>1022.944481</td>\n",
       "    </tr>\n",
       "    <tr>\n",
       "      <th>min</th>\n",
       "      <td>500.000000</td>\n",
       "      <td>500.000000</td>\n",
       "      <td>500.000000</td>\n",
       "      <td>500.000000</td>\n",
       "    </tr>\n",
       "    <tr>\n",
       "      <th>25%</th>\n",
       "      <td>700.000000</td>\n",
       "      <td>1300.000000</td>\n",
       "      <td>1100.000000</td>\n",
       "      <td>1200.000000</td>\n",
       "    </tr>\n",
       "    <tr>\n",
       "      <th>50%</th>\n",
       "      <td>950.000000</td>\n",
       "      <td>1750.000000</td>\n",
       "      <td>1499.000000</td>\n",
       "      <td>1650.000000</td>\n",
       "    </tr>\n",
       "    <tr>\n",
       "      <th>75%</th>\n",
       "      <td>1299.000000</td>\n",
       "      <td>2350.000000</td>\n",
       "      <td>1965.000000</td>\n",
       "      <td>2200.000000</td>\n",
       "    </tr>\n",
       "    <tr>\n",
       "      <th>max</th>\n",
       "      <td>3000.000000</td>\n",
       "      <td>15000.000000</td>\n",
       "      <td>6999.000000</td>\n",
       "      <td>15000.000000</td>\n",
       "    </tr>\n",
       "  </tbody>\n",
       "</table>\n",
       "</div>"
      ],
      "text/plain": [
       "       price_repaired  price_not_repaired  price_nan_repaired  \\\n",
       "count      191.000000         1354.000000          287.000000   \n",
       "mean      1058.146597         1941.950517         1600.083624   \n",
       "std        503.948483         1030.454273          779.451223   \n",
       "min        500.000000          500.000000          500.000000   \n",
       "25%        700.000000         1300.000000         1100.000000   \n",
       "50%        950.000000         1750.000000         1499.000000   \n",
       "75%       1299.000000         2350.000000         1965.000000   \n",
       "max       3000.000000        15000.000000         6999.000000   \n",
       "\n",
       "       price_repaired_&_not_repaired  \n",
       "count                    1545.000000  \n",
       "mean                     1832.690615  \n",
       "std                      1022.944481  \n",
       "min                       500.000000  \n",
       "25%                      1200.000000  \n",
       "50%                      1650.000000  \n",
       "75%                      2200.000000  \n",
       "max                     15000.000000  "
      ]
     },
     "execution_count": 37,
     "metadata": {},
     "output_type": "execute_result"
    }
   ],
   "source": [
    "df_golf_1999 = df[(df['model'] == 'golf') & (df['registration_year'] == 1999)]\n",
    "price_y = df_golf_1999[df_golf_1999['repaired'] == 'yes']['price'].describe()\n",
    "price_n = df_golf_1999[df_golf_1999['repaired'] == 'no']['price'].describe()\n",
    "price_y_n = df_golf_1999[~df_golf_1999['repaired'].isna()]['price'].describe()\n",
    "price_nan = df_golf_1999[df_golf_1999['repaired'].isna()]['price'].describe()\n",
    "\n",
    "pd.DataFrame({'price_repaired' : price_y, \n",
    "             'price_not_repaired' : price_n,\n",
    "             'price_nan_repaired' : price_nan,\n",
    "             'price_repaired_&_not_repaired' : price_y_n})"
   ]
  },
  {
   "cell_type": "markdown",
   "metadata": {},
   "source": [
    "Наблюдаем следующее: \n",
    " - автомобили без ремонта в среднем почти в 2 раза дороже автомобилей с ремонтом. Значит, признак `reparied` сильно влияет на цену; \n",
    " - средняя цена на авто с `repaired = NaN` далека от `repaired = no` и гораздо ближе к `repaired = yes & repaired = no`. Значит, пропуски в признаке `repaired` относятся к машинам, как бывшим, так и НЕ бывшим в ремонте.\n",
    " \n",
    "Учитывая сказанное, удалим пропуски в признаке `repaired`."
   ]
  },
  {
   "cell_type": "code",
   "execution_count": 38,
   "metadata": {},
   "outputs": [],
   "source": [
    "df = df[~df['repaired'].isna()]"
   ]
  },
  {
   "cell_type": "markdown",
   "metadata": {},
   "source": [
    "#### Модель автомобиля (model)\n",
    "Очевидно, что данный признак сильно влияет на стоимость автомобиля. При этом мы не имеем данных для того, чтобы достоверно заполнить пропуски. Кроме того, мы воспользуемся `model` в дальнейшем, чтобы более правдоподобно восстановить значения других признаков. \n",
    "\n",
    "Учитывая сказанное, удалим записи с пропусками.  "
   ]
  },
  {
   "cell_type": "code",
   "execution_count": 39,
   "metadata": {
    "scrolled": false
   },
   "outputs": [],
   "source": [
    "df = df[~df['model'].isna()]"
   ]
  },
  {
   "cell_type": "markdown",
   "metadata": {},
   "source": [
    "#### Типы кузова (vehicle_type), топлива (fuel_type) и коробки передач (gearbox)\n",
    "Найдем возможные сочетания мощности двигателя, марки и модели авто для оставшихся строк с пропусками."
   ]
  },
  {
   "cell_type": "code",
   "execution_count": 40,
   "metadata": {
    "scrolled": false
   },
   "outputs": [],
   "source": [
    "#ищем строки с пропусками\n",
    "nans = df[\n",
    "    df['vehicle_type'].isna() |\n",
    "    df['fuel_type'].isna() |\n",
    "    df['gearbox'].isna()\n",
    "]\n",
    "#оставляем признаки мощности, марки и модели\n",
    "nans = nans[['power', 'model', 'brand']]\n",
    "#определяем уникальные сочетания\n",
    "nans = nans.drop_duplicates()\n",
    "#приводим к форме, удобной для итерирования\n",
    "nans = nans.values"
   ]
  },
  {
   "cell_type": "markdown",
   "metadata": {},
   "source": [
    "Проверим результат."
   ]
  },
  {
   "cell_type": "code",
   "execution_count": 41,
   "metadata": {},
   "outputs": [
    {
     "name": "stdout",
     "output_type": "stream",
     "text": [
      "[[131 'passat' 'volkswagen']\n",
      " [150 '5er' 'bmw']\n",
      " [84 'transporter' 'volkswagen']\n",
      " [126 'a4' 'audi']\n",
      " [140 'a_klasse' 'mercedes_benz']]\n"
     ]
    },
    {
     "data": {
      "text/plain": [
       "(2145, 3)"
      ]
     },
     "execution_count": 41,
     "metadata": {},
     "output_type": "execute_result"
    }
   ],
   "source": [
    "print(nans[:5,])\n",
    "nans.shape"
   ]
  },
  {
   "cell_type": "markdown",
   "metadata": {},
   "source": [
    "Для каждого такого сочетания, заполним пропуски `vehicle_type`, `fuel_type` и `gearbox` соответствующей модой. "
   ]
  },
  {
   "cell_type": "code",
   "execution_count": 42,
   "metadata": {
    "scrolled": true
   },
   "outputs": [],
   "source": [
    "filled = None \n",
    "#для каждого сочетания признаков строк с пропусками  \n",
    "for features in nans:                 \n",
    "    power = features[0]\n",
    "    model = features[1]   \n",
    "    brand = features[2]\n",
    "    #ищем строки по мощности, марке и модели\n",
    "    data = df[\n",
    "        (df['power'] == power) & \n",
    "        (df['model'] == model) & \n",
    "        (df['brand'] == brand)\n",
    "    ]     \n",
    "    #определяем моду для типа кузова\n",
    "    vehicle_type = np.nan \n",
    "    if len(data['vehicle_type'].mode()) > 0:\n",
    "        vehicle_type = data['vehicle_type'].mode()[0]\n",
    "    #определяем моду для типа топлива    \n",
    "    fuel_type = np.nan \n",
    "    if len(data['fuel_type'].mode()) > 0:\n",
    "        fuel_type = data['fuel_type'].mode()[0]\n",
    "    #определяем моду для типа коробки передач    \n",
    "    gearbox = np.nan \n",
    "    if len(data['gearbox'].mode()) > 0:\n",
    "        gearbox = data['gearbox'].mode()[0]\n",
    "    #сохраняем моды\n",
    "    values = {\n",
    "        'vehicle_type' : vehicle_type, \n",
    "        'fuel_type' : fuel_type,\n",
    "        'gearbox' : gearbox\n",
    "    }\n",
    "    #находим строки с пропусками и заполняем их соответствующими модами\n",
    "    to_be_filled = data[data.isna().sum(axis=1) > 0]\n",
    "    if filled is None:\n",
    "        filled = to_be_filled.fillna(values)        \n",
    "    else:\n",
    "        filled = filled.append(to_be_filled.fillna(values))        \n",
    "#обновляем датафрейм    \n",
    "df.update(filled)"
   ]
  },
  {
   "cell_type": "code",
   "execution_count": 47,
   "metadata": {},
   "outputs": [
    {
     "data": {
      "text/html": [
       "<div>\n",
       "<style scoped>\n",
       "    .dataframe tbody tr th:only-of-type {\n",
       "        vertical-align: middle;\n",
       "    }\n",
       "\n",
       "    .dataframe tbody tr th {\n",
       "        vertical-align: top;\n",
       "    }\n",
       "\n",
       "    .dataframe thead th {\n",
       "        text-align: right;\n",
       "    }\n",
       "</style>\n",
       "<table border=\"1\" class=\"dataframe\">\n",
       "  <thead>\n",
       "    <tr style=\"text-align: right;\">\n",
       "      <th></th>\n",
       "      <th>sum</th>\n",
       "      <th>percent</th>\n",
       "    </tr>\n",
       "  </thead>\n",
       "  <tbody>\n",
       "  </tbody>\n",
       "</table>\n",
       "</div>"
      ],
      "text/plain": [
       "Empty DataFrame\n",
       "Columns: [sum, percent]\n",
       "Index: []"
      ]
     },
     "execution_count": 47,
     "metadata": {},
     "output_type": "execute_result"
    }
   ],
   "source": [
    "isna_summary(df)"
   ]
  },
  {
   "cell_type": "markdown",
   "metadata": {},
   "source": [
    "Как видно, количество пропусков заметно сократилось. Удалим оставшиеся и проверим результат."
   ]
  },
  {
   "cell_type": "code",
   "execution_count": 46,
   "metadata": {
    "scrolled": true
   },
   "outputs": [
    {
     "name": "stdout",
     "output_type": "stream",
     "text": [
      "<class 'pandas.core.frame.DataFrame'>\n",
      "Int64Index: 214487 entries, 3 to 354367\n",
      "Data columns (total 10 columns):\n",
      " #   Column             Non-Null Count   Dtype  \n",
      "---  ------             --------------   -----  \n",
      " 0   vehicle_type       214487 non-null  object \n",
      " 1   registration_year  214487 non-null  float64\n",
      " 2   gearbox            214487 non-null  object \n",
      " 3   power              214487 non-null  float64\n",
      " 4   model              214487 non-null  object \n",
      " 5   kilometer          214487 non-null  float64\n",
      " 6   fuel_type          214487 non-null  object \n",
      " 7   brand              214487 non-null  object \n",
      " 8   repaired           214487 non-null  object \n",
      " 9   price              214487 non-null  float64\n",
      "dtypes: float64(4), object(6)\n",
      "memory usage: 18.0+ MB\n"
     ]
    }
   ],
   "source": [
    "df = df.dropna()\n",
    "df.info()"
   ]
  },
  {
   "cell_type": "markdown",
   "metadata": {},
   "source": [
    "Преобразования прошли корректно.\n",
    "### Корректировка типов данных\n",
    "Уменьшим ресурсоемкость данных. Для этого приведем признаки `repaired` и `gearbox` к булеву типу. "
   ]
  },
  {
   "cell_type": "code",
   "execution_count": 48,
   "metadata": {},
   "outputs": [],
   "source": [
    "df['repaired'] = df['repaired'].replace({'yes' : 1, 'no' : 0})\n",
    "df['gearbox'] = df['gearbox'].replace({'manual' : 1, 'auto' : 0})"
   ]
  },
  {
   "cell_type": "markdown",
   "metadata": {},
   "source": [
    "Затем оптимизируем длину всех количественных признаков."
   ]
  },
  {
   "cell_type": "code",
   "execution_count": 49,
   "metadata": {},
   "outputs": [],
   "source": [
    "for column in df.columns:    \n",
    "    if (is_numeric_dtype(df[column])):\n",
    "        df[column] = pd.to_numeric(df[column], downcast='integer') "
   ]
  },
  {
   "cell_type": "markdown",
   "metadata": {},
   "source": [
    "Проверим результат."
   ]
  },
  {
   "cell_type": "code",
   "execution_count": 50,
   "metadata": {},
   "outputs": [
    {
     "name": "stdout",
     "output_type": "stream",
     "text": [
      "<class 'pandas.core.frame.DataFrame'>\n",
      "Int64Index: 214487 entries, 3 to 354367\n",
      "Data columns (total 10 columns):\n",
      " #   Column             Non-Null Count   Dtype \n",
      "---  ------             --------------   ----- \n",
      " 0   vehicle_type       214487 non-null  object\n",
      " 1   registration_year  214487 non-null  int16 \n",
      " 2   gearbox            214487 non-null  int8  \n",
      " 3   power              214487 non-null  int16 \n",
      " 4   model              214487 non-null  object\n",
      " 5   kilometer          214487 non-null  int32 \n",
      " 6   fuel_type          214487 non-null  object\n",
      " 7   brand              214487 non-null  object\n",
      " 8   repaired           214487 non-null  int8  \n",
      " 9   price              214487 non-null  int16 \n",
      "dtypes: int16(3), int32(1), int8(2), object(4)\n",
      "memory usage: 10.6+ MB\n"
     ]
    }
   ],
   "source": [
    "df.info()"
   ]
  },
  {
   "cell_type": "markdown",
   "metadata": {},
   "source": [
    "Использование памяти заметно сократилось.\n",
    "## Моделирование\n",
    "Перед нами стоит задача регресии. Решим ее с помощью LGBMRegressor, CatBoostRegressor (моделей с градиентным бустингом), а так же RandomForestRegressor. \n",
    "\n",
    "**Ход исследования:**\n",
    " - на обучающей выборке, с применением кроссвалидации и метрики качества RMSE, для каждой модели: \n",
    "     - подберем гиперпараметры, \n",
    "     - замерим время обучения и предсказания.\n",
    " - определим лучшую модель и ее RMSE на тестовой выборке.\n",
    "\n",
    "Опишем функцию, автоматизирующую кодирование и масштабирование признаков."
   ]
  },
  {
   "cell_type": "code",
   "execution_count": 51,
   "metadata": {},
   "outputs": [],
   "source": [
    "def get_col_transformer():\n",
    "    '''Возвращает ColumnTransformer для \n",
    "    кодирования и масштабирования признаков. \n",
    "    Примечания:\n",
    "     - признаки, не подлежащие кодированию или \n",
    "    масштабированию остаются в выборке (remainder='passthrough');\n",
    "     - чтобы уменьшить объем датасета и, следовательно, время для \n",
    "    обучения, признак 'model' кодируется с помощью OrdinalEncoder\n",
    "    '''\n",
    "    oh_encoder = OneHotEncoder(drop='first', handle_unknown='ignore', sparse_output=False)\n",
    "    o_encoder = OrdinalEncoder(handle_unknown='use_encoded_value', unknown_value=-1)\n",
    "    scaler = MinMaxScaler()\n",
    "\n",
    "    transformer = ColumnTransformer(\n",
    "        [('cat_ohe', oh_encoder, FTS_TO_OHE), \n",
    "         ('cat_oe', o_encoder, FTS_TO_OE), \n",
    "         ('num', scaler, FTS_TO_SCALE)], \n",
    "        remainder='passthrough', \n",
    "        verbose_feature_names_out=False\n",
    "    )\n",
    "    \n",
    "    return transformer"
   ]
  },
  {
   "cell_type": "markdown",
   "metadata": {},
   "source": [
    "Сформируем обучающую и тестовую выборки. Проверим результат."
   ]
  },
  {
   "cell_type": "code",
   "execution_count": 52,
   "metadata": {
    "scrolled": true
   },
   "outputs": [
    {
     "name": "stdout",
     "output_type": "stream",
     "text": [
      "Размер выборок: \n",
      " - обучающая (признаки): (160865, 9) \n",
      " - обучающая (целевой признак): (160865,) \n",
      " - тестовая (признаки): (53622, 9) \n",
      " - тестовая (целевой признак): (53622,)\n"
     ]
    }
   ],
   "source": [
    "X = df[FEATURES]\n",
    "y = df[TARGET]\n",
    "\n",
    "X_train, X_test, y_train, y_test = \\\n",
    "train_test_split(X, y, test_size=0.25, random_state=SEED)\n",
    "\n",
    "print('Размер выборок:',\n",
    "     '\\n - обучающая (признаки):', X_train.shape,\n",
    "     '\\n - обучающая (целевой признак):', y_train.shape,\n",
    "     '\\n - тестовая (признаки):', X_test.shape,\n",
    "     '\\n - тестовая (целевой признак):', y_test.shape)"
   ]
  },
  {
   "cell_type": "markdown",
   "metadata": {},
   "source": [
    "Выборки сформированы корректно.\n",
    "### RandomForestRegressor"
   ]
  },
  {
   "cell_type": "code",
   "execution_count": 49,
   "metadata": {
    "scrolled": false
   },
   "outputs": [],
   "source": [
    "transformer_rfr = get_col_transformer()\n",
    "rfr = RandomForestRegressor(random_state=SEED)\n",
    "#готовим pipeline\n",
    "pipeline_rfr = Pipeline([\n",
    "    ('transformer', transformer_rfr),\n",
    "    ('model', rfr)\n",
    "])\n",
    "#готовим гиперпараметры\n",
    "params_rfr = {\n",
    "    'model__max_depth' : [14],\n",
    "    'model__n_estimators' : [50, 100]\n",
    "}\n",
    "#готовим подбор гиперпараметров с кроссвалидацией\n",
    "search_rfr = GridSearchCV(\n",
    "    pipeline_rfr,\n",
    "    param_grid = params_rfr,     \n",
    "    scoring='neg_root_mean_squared_error',\n",
    "    cv=4\n",
    ")"
   ]
  },
  {
   "cell_type": "code",
   "execution_count": 50,
   "metadata": {},
   "outputs": [
    {
     "name": "stdout",
     "output_type": "stream",
     "text": [
      "CPU times: user 7min 20s, sys: 2.13 s, total: 7min 22s\n",
      "Wall time: 7min 23s\n"
     ]
    },
    {
     "data": {
      "text/html": [
       "<style>#sk-container-id-1 {color: black;background-color: white;}#sk-container-id-1 pre{padding: 0;}#sk-container-id-1 div.sk-toggleable {background-color: white;}#sk-container-id-1 label.sk-toggleable__label {cursor: pointer;display: block;width: 100%;margin-bottom: 0;padding: 0.3em;box-sizing: border-box;text-align: center;}#sk-container-id-1 label.sk-toggleable__label-arrow:before {content: \"▸\";float: left;margin-right: 0.25em;color: #696969;}#sk-container-id-1 label.sk-toggleable__label-arrow:hover:before {color: black;}#sk-container-id-1 div.sk-estimator:hover label.sk-toggleable__label-arrow:before {color: black;}#sk-container-id-1 div.sk-toggleable__content {max-height: 0;max-width: 0;overflow: hidden;text-align: left;background-color: #f0f8ff;}#sk-container-id-1 div.sk-toggleable__content pre {margin: 0.2em;color: black;border-radius: 0.25em;background-color: #f0f8ff;}#sk-container-id-1 input.sk-toggleable__control:checked~div.sk-toggleable__content {max-height: 200px;max-width: 100%;overflow: auto;}#sk-container-id-1 input.sk-toggleable__control:checked~label.sk-toggleable__label-arrow:before {content: \"▾\";}#sk-container-id-1 div.sk-estimator input.sk-toggleable__control:checked~label.sk-toggleable__label {background-color: #d4ebff;}#sk-container-id-1 div.sk-label input.sk-toggleable__control:checked~label.sk-toggleable__label {background-color: #d4ebff;}#sk-container-id-1 input.sk-hidden--visually {border: 0;clip: rect(1px 1px 1px 1px);clip: rect(1px, 1px, 1px, 1px);height: 1px;margin: -1px;overflow: hidden;padding: 0;position: absolute;width: 1px;}#sk-container-id-1 div.sk-estimator {font-family: monospace;background-color: #f0f8ff;border: 1px dotted black;border-radius: 0.25em;box-sizing: border-box;margin-bottom: 0.5em;}#sk-container-id-1 div.sk-estimator:hover {background-color: #d4ebff;}#sk-container-id-1 div.sk-parallel-item::after {content: \"\";width: 100%;border-bottom: 1px solid gray;flex-grow: 1;}#sk-container-id-1 div.sk-label:hover label.sk-toggleable__label {background-color: #d4ebff;}#sk-container-id-1 div.sk-serial::before {content: \"\";position: absolute;border-left: 1px solid gray;box-sizing: border-box;top: 0;bottom: 0;left: 50%;z-index: 0;}#sk-container-id-1 div.sk-serial {display: flex;flex-direction: column;align-items: center;background-color: white;padding-right: 0.2em;padding-left: 0.2em;position: relative;}#sk-container-id-1 div.sk-item {position: relative;z-index: 1;}#sk-container-id-1 div.sk-parallel {display: flex;align-items: stretch;justify-content: center;background-color: white;position: relative;}#sk-container-id-1 div.sk-item::before, #sk-container-id-1 div.sk-parallel-item::before {content: \"\";position: absolute;border-left: 1px solid gray;box-sizing: border-box;top: 0;bottom: 0;left: 50%;z-index: -1;}#sk-container-id-1 div.sk-parallel-item {display: flex;flex-direction: column;z-index: 1;position: relative;background-color: white;}#sk-container-id-1 div.sk-parallel-item:first-child::after {align-self: flex-end;width: 50%;}#sk-container-id-1 div.sk-parallel-item:last-child::after {align-self: flex-start;width: 50%;}#sk-container-id-1 div.sk-parallel-item:only-child::after {width: 0;}#sk-container-id-1 div.sk-dashed-wrapped {border: 1px dashed gray;margin: 0 0.4em 0.5em 0.4em;box-sizing: border-box;padding-bottom: 0.4em;background-color: white;}#sk-container-id-1 div.sk-label label {font-family: monospace;font-weight: bold;display: inline-block;line-height: 1.2em;}#sk-container-id-1 div.sk-label-container {text-align: center;}#sk-container-id-1 div.sk-container {/* jupyter's `normalize.less` sets `[hidden] { display: none; }` but bootstrap.min.css set `[hidden] { display: none !important; }` so we also need the `!important` here to be able to override the default hidden behavior on the sphinx rendered scikit-learn.org. See: https://github.com/scikit-learn/scikit-learn/issues/21755 */display: inline-block !important;position: relative;}#sk-container-id-1 div.sk-text-repr-fallback {display: none;}</style><div id=\"sk-container-id-1\" class=\"sk-top-container\"><div class=\"sk-text-repr-fallback\"><pre>GridSearchCV(cv=4,\n",
       "             estimator=Pipeline(steps=[(&#x27;transformer&#x27;,\n",
       "                                        ColumnTransformer(remainder=&#x27;passthrough&#x27;,\n",
       "                                                          transformers=[(&#x27;cat_ohe&#x27;,\n",
       "                                                                         OneHotEncoder(drop=&#x27;first&#x27;,\n",
       "                                                                                       handle_unknown=&#x27;ignore&#x27;,\n",
       "                                                                                       sparse_output=False),\n",
       "                                                                         [&#x27;vehicle_type&#x27;,\n",
       "                                                                          &#x27;fuel_type&#x27;,\n",
       "                                                                          &#x27;brand&#x27;]),\n",
       "                                                                        (&#x27;cat_oe&#x27;,\n",
       "                                                                         OrdinalEncoder(handle_unknown=&#x27;use_encoded_value&#x27;,\n",
       "                                                                                        unknown_value=-1),\n",
       "                                                                         [&#x27;model&#x27;]),\n",
       "                                                                        (&#x27;num&#x27;,\n",
       "                                                                         MinMaxScaler(),\n",
       "                                                                         [&#x27;registration_year&#x27;,\n",
       "                                                                          &#x27;power&#x27;,\n",
       "                                                                          &#x27;kilometer&#x27;])],\n",
       "                                                          verbose_feature_names_out=False)),\n",
       "                                       (&#x27;model&#x27;,\n",
       "                                        RandomForestRegressor(random_state=374))]),\n",
       "             param_grid={&#x27;model__max_depth&#x27;: [14],\n",
       "                         &#x27;model__n_estimators&#x27;: [50, 100]},\n",
       "             scoring=&#x27;neg_root_mean_squared_error&#x27;)</pre><b>In a Jupyter environment, please rerun this cell to show the HTML representation or trust the notebook. <br />On GitHub, the HTML representation is unable to render, please try loading this page with nbviewer.org.</b></div><div class=\"sk-container\" hidden><div class=\"sk-item sk-dashed-wrapped\"><div class=\"sk-label-container\"><div class=\"sk-label sk-toggleable\"><input class=\"sk-toggleable__control sk-hidden--visually\" id=\"sk-estimator-id-1\" type=\"checkbox\" ><label for=\"sk-estimator-id-1\" class=\"sk-toggleable__label sk-toggleable__label-arrow\">GridSearchCV</label><div class=\"sk-toggleable__content\"><pre>GridSearchCV(cv=4,\n",
       "             estimator=Pipeline(steps=[(&#x27;transformer&#x27;,\n",
       "                                        ColumnTransformer(remainder=&#x27;passthrough&#x27;,\n",
       "                                                          transformers=[(&#x27;cat_ohe&#x27;,\n",
       "                                                                         OneHotEncoder(drop=&#x27;first&#x27;,\n",
       "                                                                                       handle_unknown=&#x27;ignore&#x27;,\n",
       "                                                                                       sparse_output=False),\n",
       "                                                                         [&#x27;vehicle_type&#x27;,\n",
       "                                                                          &#x27;fuel_type&#x27;,\n",
       "                                                                          &#x27;brand&#x27;]),\n",
       "                                                                        (&#x27;cat_oe&#x27;,\n",
       "                                                                         OrdinalEncoder(handle_unknown=&#x27;use_encoded_value&#x27;,\n",
       "                                                                                        unknown_value=-1),\n",
       "                                                                         [&#x27;model&#x27;]),\n",
       "                                                                        (&#x27;num&#x27;,\n",
       "                                                                         MinMaxScaler(),\n",
       "                                                                         [&#x27;registration_year&#x27;,\n",
       "                                                                          &#x27;power&#x27;,\n",
       "                                                                          &#x27;kilometer&#x27;])],\n",
       "                                                          verbose_feature_names_out=False)),\n",
       "                                       (&#x27;model&#x27;,\n",
       "                                        RandomForestRegressor(random_state=374))]),\n",
       "             param_grid={&#x27;model__max_depth&#x27;: [14],\n",
       "                         &#x27;model__n_estimators&#x27;: [50, 100]},\n",
       "             scoring=&#x27;neg_root_mean_squared_error&#x27;)</pre></div></div></div><div class=\"sk-parallel\"><div class=\"sk-parallel-item\"><div class=\"sk-item\"><div class=\"sk-label-container\"><div class=\"sk-label sk-toggleable\"><input class=\"sk-toggleable__control sk-hidden--visually\" id=\"sk-estimator-id-2\" type=\"checkbox\" ><label for=\"sk-estimator-id-2\" class=\"sk-toggleable__label sk-toggleable__label-arrow\">estimator: Pipeline</label><div class=\"sk-toggleable__content\"><pre>Pipeline(steps=[(&#x27;transformer&#x27;,\n",
       "                 ColumnTransformer(remainder=&#x27;passthrough&#x27;,\n",
       "                                   transformers=[(&#x27;cat_ohe&#x27;,\n",
       "                                                  OneHotEncoder(drop=&#x27;first&#x27;,\n",
       "                                                                handle_unknown=&#x27;ignore&#x27;,\n",
       "                                                                sparse_output=False),\n",
       "                                                  [&#x27;vehicle_type&#x27;, &#x27;fuel_type&#x27;,\n",
       "                                                   &#x27;brand&#x27;]),\n",
       "                                                 (&#x27;cat_oe&#x27;,\n",
       "                                                  OrdinalEncoder(handle_unknown=&#x27;use_encoded_value&#x27;,\n",
       "                                                                 unknown_value=-1),\n",
       "                                                  [&#x27;model&#x27;]),\n",
       "                                                 (&#x27;num&#x27;, MinMaxScaler(),\n",
       "                                                  [&#x27;registration_year&#x27;, &#x27;power&#x27;,\n",
       "                                                   &#x27;kilometer&#x27;])],\n",
       "                                   verbose_feature_names_out=False)),\n",
       "                (&#x27;model&#x27;, RandomForestRegressor(random_state=374))])</pre></div></div></div><div class=\"sk-serial\"><div class=\"sk-item\"><div class=\"sk-serial\"><div class=\"sk-item sk-dashed-wrapped\"><div class=\"sk-label-container\"><div class=\"sk-label sk-toggleable\"><input class=\"sk-toggleable__control sk-hidden--visually\" id=\"sk-estimator-id-3\" type=\"checkbox\" ><label for=\"sk-estimator-id-3\" class=\"sk-toggleable__label sk-toggleable__label-arrow\">transformer: ColumnTransformer</label><div class=\"sk-toggleable__content\"><pre>ColumnTransformer(remainder=&#x27;passthrough&#x27;,\n",
       "                  transformers=[(&#x27;cat_ohe&#x27;,\n",
       "                                 OneHotEncoder(drop=&#x27;first&#x27;,\n",
       "                                               handle_unknown=&#x27;ignore&#x27;,\n",
       "                                               sparse_output=False),\n",
       "                                 [&#x27;vehicle_type&#x27;, &#x27;fuel_type&#x27;, &#x27;brand&#x27;]),\n",
       "                                (&#x27;cat_oe&#x27;,\n",
       "                                 OrdinalEncoder(handle_unknown=&#x27;use_encoded_value&#x27;,\n",
       "                                                unknown_value=-1),\n",
       "                                 [&#x27;model&#x27;]),\n",
       "                                (&#x27;num&#x27;, MinMaxScaler(),\n",
       "                                 [&#x27;registration_year&#x27;, &#x27;power&#x27;, &#x27;kilometer&#x27;])],\n",
       "                  verbose_feature_names_out=False)</pre></div></div></div><div class=\"sk-parallel\"><div class=\"sk-parallel-item\"><div class=\"sk-item\"><div class=\"sk-label-container\"><div class=\"sk-label sk-toggleable\"><input class=\"sk-toggleable__control sk-hidden--visually\" id=\"sk-estimator-id-4\" type=\"checkbox\" ><label for=\"sk-estimator-id-4\" class=\"sk-toggleable__label sk-toggleable__label-arrow\">cat_ohe</label><div class=\"sk-toggleable__content\"><pre>[&#x27;vehicle_type&#x27;, &#x27;fuel_type&#x27;, &#x27;brand&#x27;]</pre></div></div></div><div class=\"sk-serial\"><div class=\"sk-item\"><div class=\"sk-estimator sk-toggleable\"><input class=\"sk-toggleable__control sk-hidden--visually\" id=\"sk-estimator-id-5\" type=\"checkbox\" ><label for=\"sk-estimator-id-5\" class=\"sk-toggleable__label sk-toggleable__label-arrow\">OneHotEncoder</label><div class=\"sk-toggleable__content\"><pre>OneHotEncoder(drop=&#x27;first&#x27;, handle_unknown=&#x27;ignore&#x27;, sparse_output=False)</pre></div></div></div></div></div></div><div class=\"sk-parallel-item\"><div class=\"sk-item\"><div class=\"sk-label-container\"><div class=\"sk-label sk-toggleable\"><input class=\"sk-toggleable__control sk-hidden--visually\" id=\"sk-estimator-id-6\" type=\"checkbox\" ><label for=\"sk-estimator-id-6\" class=\"sk-toggleable__label sk-toggleable__label-arrow\">cat_oe</label><div class=\"sk-toggleable__content\"><pre>[&#x27;model&#x27;]</pre></div></div></div><div class=\"sk-serial\"><div class=\"sk-item\"><div class=\"sk-estimator sk-toggleable\"><input class=\"sk-toggleable__control sk-hidden--visually\" id=\"sk-estimator-id-7\" type=\"checkbox\" ><label for=\"sk-estimator-id-7\" class=\"sk-toggleable__label sk-toggleable__label-arrow\">OrdinalEncoder</label><div class=\"sk-toggleable__content\"><pre>OrdinalEncoder(handle_unknown=&#x27;use_encoded_value&#x27;, unknown_value=-1)</pre></div></div></div></div></div></div><div class=\"sk-parallel-item\"><div class=\"sk-item\"><div class=\"sk-label-container\"><div class=\"sk-label sk-toggleable\"><input class=\"sk-toggleable__control sk-hidden--visually\" id=\"sk-estimator-id-8\" type=\"checkbox\" ><label for=\"sk-estimator-id-8\" class=\"sk-toggleable__label sk-toggleable__label-arrow\">num</label><div class=\"sk-toggleable__content\"><pre>[&#x27;registration_year&#x27;, &#x27;power&#x27;, &#x27;kilometer&#x27;]</pre></div></div></div><div class=\"sk-serial\"><div class=\"sk-item\"><div class=\"sk-estimator sk-toggleable\"><input class=\"sk-toggleable__control sk-hidden--visually\" id=\"sk-estimator-id-9\" type=\"checkbox\" ><label for=\"sk-estimator-id-9\" class=\"sk-toggleable__label sk-toggleable__label-arrow\">MinMaxScaler</label><div class=\"sk-toggleable__content\"><pre>MinMaxScaler()</pre></div></div></div></div></div></div><div class=\"sk-parallel-item\"><div class=\"sk-item\"><div class=\"sk-label-container\"><div class=\"sk-label sk-toggleable\"><input class=\"sk-toggleable__control sk-hidden--visually\" id=\"sk-estimator-id-10\" type=\"checkbox\" ><label for=\"sk-estimator-id-10\" class=\"sk-toggleable__label sk-toggleable__label-arrow\">remainder</label><div class=\"sk-toggleable__content\"><pre></pre></div></div></div><div class=\"sk-serial\"><div class=\"sk-item\"><div class=\"sk-estimator sk-toggleable\"><input class=\"sk-toggleable__control sk-hidden--visually\" id=\"sk-estimator-id-11\" type=\"checkbox\" ><label for=\"sk-estimator-id-11\" class=\"sk-toggleable__label sk-toggleable__label-arrow\">passthrough</label><div class=\"sk-toggleable__content\"><pre>passthrough</pre></div></div></div></div></div></div></div></div><div class=\"sk-item\"><div class=\"sk-estimator sk-toggleable\"><input class=\"sk-toggleable__control sk-hidden--visually\" id=\"sk-estimator-id-12\" type=\"checkbox\" ><label for=\"sk-estimator-id-12\" class=\"sk-toggleable__label sk-toggleable__label-arrow\">RandomForestRegressor</label><div class=\"sk-toggleable__content\"><pre>RandomForestRegressor(random_state=374)</pre></div></div></div></div></div></div></div></div></div></div></div></div>"
      ],
      "text/plain": [
       "GridSearchCV(cv=4,\n",
       "             estimator=Pipeline(steps=[('transformer',\n",
       "                                        ColumnTransformer(remainder='passthrough',\n",
       "                                                          transformers=[('cat_ohe',\n",
       "                                                                         OneHotEncoder(drop='first',\n",
       "                                                                                       handle_unknown='ignore',\n",
       "                                                                                       sparse_output=False),\n",
       "                                                                         ['vehicle_type',\n",
       "                                                                          'fuel_type',\n",
       "                                                                          'brand']),\n",
       "                                                                        ('cat_oe',\n",
       "                                                                         OrdinalEncoder(handle_unknown='use_encoded_value',\n",
       "                                                                                        unknown_value=-1),\n",
       "                                                                         ['model']),\n",
       "                                                                        ('num',\n",
       "                                                                         MinMaxScaler(),\n",
       "                                                                         ['registration_year',\n",
       "                                                                          'power',\n",
       "                                                                          'kilometer'])],\n",
       "                                                          verbose_feature_names_out=False)),\n",
       "                                       ('model',\n",
       "                                        RandomForestRegressor(random_state=374))]),\n",
       "             param_grid={'model__max_depth': [14],\n",
       "                         'model__n_estimators': [50, 100]},\n",
       "             scoring='neg_root_mean_squared_error')"
      ]
     },
     "execution_count": 50,
     "metadata": {},
     "output_type": "execute_result"
    }
   ],
   "source": [
    "%%time\n",
    "search_rfr.fit(X_train, y_train)"
   ]
  },
  {
   "cell_type": "code",
   "execution_count": 51,
   "metadata": {},
   "outputs": [
    {
     "name": "stdout",
     "output_type": "stream",
     "text": [
      "Лучшая RMSE: 1597.7 \n",
      "Лучшие гиперпараметры: {'model__max_depth': 14, 'model__n_estimators': 100}\n"
     ]
    }
   ],
   "source": [
    "print(\n",
    "    'Лучшая RMSE:', round(-1 * search_rfr.best_score_, 1), \n",
    "    '\\nЛучшие гиперпараметры:', search_rfr.best_params_\n",
    ")\n",
    "#сохраняем результаты лучшей модели\n",
    "res_rfr = pd.DataFrame(search_rfr.cv_results_)\n",
    "results = res_rfr.sort_values('rank_test_score').head(1)"
   ]
  },
  {
   "cell_type": "markdown",
   "metadata": {},
   "source": [
    "### CatBoostRegressor\n",
    "Данная модель, в отличие от других, может работать с признаками напрямую, без кодирования и масштабирования. Рассмотрим ее работу в обоих сценариях: без кодирования и масштабирования / с кодированием и масшабированием признаков. "
   ]
  },
  {
   "cell_type": "markdown",
   "metadata": {},
   "source": [
    "#### Без кодирования и масштабирования"
   ]
  },
  {
   "cell_type": "code",
   "execution_count": 53,
   "metadata": {},
   "outputs": [],
   "source": [
    "categotical = FTS_TO_OHE + FTS_TO_OE\n",
    "cbr_direct = CatBoostRegressor(cat_features=categotical, random_state=SEED, verbose=False)\n",
    "#готовим гиперпараметры\n",
    "params_cbr_direct = {\n",
    "    'depth' : [14],\n",
    "    'iterations' : [50, 100],      \n",
    "    'learning_rate' : [0.5, 0.6]\n",
    "}\n",
    "#готовим подбор гиперпараметров с кроссвалидацией\n",
    "search_cbr_direct = GridSearchCV(\n",
    "    cbr_direct, \n",
    "    param_grid=params_cbr_direct,\n",
    "    scoring='neg_root_mean_squared_error',\n",
    "    cv=4,    \n",
    ")"
   ]
  },
  {
   "cell_type": "code",
   "execution_count": 54,
   "metadata": {},
   "outputs": [
    {
     "name": "stdout",
     "output_type": "stream",
     "text": [
      "CPU times: user 5min 28s, sys: 46.9 s, total: 6min 15s\n",
      "Wall time: 6min 30s\n"
     ]
    },
    {
     "data": {
      "text/html": [
       "<style>#sk-container-id-2 {color: black;background-color: white;}#sk-container-id-2 pre{padding: 0;}#sk-container-id-2 div.sk-toggleable {background-color: white;}#sk-container-id-2 label.sk-toggleable__label {cursor: pointer;display: block;width: 100%;margin-bottom: 0;padding: 0.3em;box-sizing: border-box;text-align: center;}#sk-container-id-2 label.sk-toggleable__label-arrow:before {content: \"▸\";float: left;margin-right: 0.25em;color: #696969;}#sk-container-id-2 label.sk-toggleable__label-arrow:hover:before {color: black;}#sk-container-id-2 div.sk-estimator:hover label.sk-toggleable__label-arrow:before {color: black;}#sk-container-id-2 div.sk-toggleable__content {max-height: 0;max-width: 0;overflow: hidden;text-align: left;background-color: #f0f8ff;}#sk-container-id-2 div.sk-toggleable__content pre {margin: 0.2em;color: black;border-radius: 0.25em;background-color: #f0f8ff;}#sk-container-id-2 input.sk-toggleable__control:checked~div.sk-toggleable__content {max-height: 200px;max-width: 100%;overflow: auto;}#sk-container-id-2 input.sk-toggleable__control:checked~label.sk-toggleable__label-arrow:before {content: \"▾\";}#sk-container-id-2 div.sk-estimator input.sk-toggleable__control:checked~label.sk-toggleable__label {background-color: #d4ebff;}#sk-container-id-2 div.sk-label input.sk-toggleable__control:checked~label.sk-toggleable__label {background-color: #d4ebff;}#sk-container-id-2 input.sk-hidden--visually {border: 0;clip: rect(1px 1px 1px 1px);clip: rect(1px, 1px, 1px, 1px);height: 1px;margin: -1px;overflow: hidden;padding: 0;position: absolute;width: 1px;}#sk-container-id-2 div.sk-estimator {font-family: monospace;background-color: #f0f8ff;border: 1px dotted black;border-radius: 0.25em;box-sizing: border-box;margin-bottom: 0.5em;}#sk-container-id-2 div.sk-estimator:hover {background-color: #d4ebff;}#sk-container-id-2 div.sk-parallel-item::after {content: \"\";width: 100%;border-bottom: 1px solid gray;flex-grow: 1;}#sk-container-id-2 div.sk-label:hover label.sk-toggleable__label {background-color: #d4ebff;}#sk-container-id-2 div.sk-serial::before {content: \"\";position: absolute;border-left: 1px solid gray;box-sizing: border-box;top: 0;bottom: 0;left: 50%;z-index: 0;}#sk-container-id-2 div.sk-serial {display: flex;flex-direction: column;align-items: center;background-color: white;padding-right: 0.2em;padding-left: 0.2em;position: relative;}#sk-container-id-2 div.sk-item {position: relative;z-index: 1;}#sk-container-id-2 div.sk-parallel {display: flex;align-items: stretch;justify-content: center;background-color: white;position: relative;}#sk-container-id-2 div.sk-item::before, #sk-container-id-2 div.sk-parallel-item::before {content: \"\";position: absolute;border-left: 1px solid gray;box-sizing: border-box;top: 0;bottom: 0;left: 50%;z-index: -1;}#sk-container-id-2 div.sk-parallel-item {display: flex;flex-direction: column;z-index: 1;position: relative;background-color: white;}#sk-container-id-2 div.sk-parallel-item:first-child::after {align-self: flex-end;width: 50%;}#sk-container-id-2 div.sk-parallel-item:last-child::after {align-self: flex-start;width: 50%;}#sk-container-id-2 div.sk-parallel-item:only-child::after {width: 0;}#sk-container-id-2 div.sk-dashed-wrapped {border: 1px dashed gray;margin: 0 0.4em 0.5em 0.4em;box-sizing: border-box;padding-bottom: 0.4em;background-color: white;}#sk-container-id-2 div.sk-label label {font-family: monospace;font-weight: bold;display: inline-block;line-height: 1.2em;}#sk-container-id-2 div.sk-label-container {text-align: center;}#sk-container-id-2 div.sk-container {/* jupyter's `normalize.less` sets `[hidden] { display: none; }` but bootstrap.min.css set `[hidden] { display: none !important; }` so we also need the `!important` here to be able to override the default hidden behavior on the sphinx rendered scikit-learn.org. See: https://github.com/scikit-learn/scikit-learn/issues/21755 */display: inline-block !important;position: relative;}#sk-container-id-2 div.sk-text-repr-fallback {display: none;}</style><div id=\"sk-container-id-2\" class=\"sk-top-container\"><div class=\"sk-text-repr-fallback\"><pre>GridSearchCV(cv=4,\n",
       "             estimator=&lt;catboost.core.CatBoostRegressor object at 0x7fb730fc6490&gt;,\n",
       "             param_grid={&#x27;depth&#x27;: [14], &#x27;iterations&#x27;: [50, 100],\n",
       "                         &#x27;learning_rate&#x27;: [0.5, 0.6]},\n",
       "             scoring=&#x27;neg_root_mean_squared_error&#x27;)</pre><b>In a Jupyter environment, please rerun this cell to show the HTML representation or trust the notebook. <br />On GitHub, the HTML representation is unable to render, please try loading this page with nbviewer.org.</b></div><div class=\"sk-container\" hidden><div class=\"sk-item sk-dashed-wrapped\"><div class=\"sk-label-container\"><div class=\"sk-label sk-toggleable\"><input class=\"sk-toggleable__control sk-hidden--visually\" id=\"sk-estimator-id-13\" type=\"checkbox\" ><label for=\"sk-estimator-id-13\" class=\"sk-toggleable__label sk-toggleable__label-arrow\">GridSearchCV</label><div class=\"sk-toggleable__content\"><pre>GridSearchCV(cv=4,\n",
       "             estimator=&lt;catboost.core.CatBoostRegressor object at 0x7fb730fc6490&gt;,\n",
       "             param_grid={&#x27;depth&#x27;: [14], &#x27;iterations&#x27;: [50, 100],\n",
       "                         &#x27;learning_rate&#x27;: [0.5, 0.6]},\n",
       "             scoring=&#x27;neg_root_mean_squared_error&#x27;)</pre></div></div></div><div class=\"sk-parallel\"><div class=\"sk-parallel-item\"><div class=\"sk-item\"><div class=\"sk-label-container\"><div class=\"sk-label sk-toggleable\"><input class=\"sk-toggleable__control sk-hidden--visually\" id=\"sk-estimator-id-14\" type=\"checkbox\" ><label for=\"sk-estimator-id-14\" class=\"sk-toggleable__label sk-toggleable__label-arrow\">estimator: CatBoostRegressor</label><div class=\"sk-toggleable__content\"><pre>&lt;catboost.core.CatBoostRegressor object at 0x7fb730fc6490&gt;</pre></div></div></div><div class=\"sk-serial\"><div class=\"sk-item\"><div class=\"sk-estimator sk-toggleable\"><input class=\"sk-toggleable__control sk-hidden--visually\" id=\"sk-estimator-id-15\" type=\"checkbox\" ><label for=\"sk-estimator-id-15\" class=\"sk-toggleable__label sk-toggleable__label-arrow\">CatBoostRegressor</label><div class=\"sk-toggleable__content\"><pre>&lt;catboost.core.CatBoostRegressor object at 0x7fb730fc6490&gt;</pre></div></div></div></div></div></div></div></div></div></div>"
      ],
      "text/plain": [
       "GridSearchCV(cv=4,\n",
       "             estimator=<catboost.core.CatBoostRegressor object at 0x7fb730fc6490>,\n",
       "             param_grid={'depth': [14], 'iterations': [50, 100],\n",
       "                         'learning_rate': [0.5, 0.6]},\n",
       "             scoring='neg_root_mean_squared_error')"
      ]
     },
     "execution_count": 54,
     "metadata": {},
     "output_type": "execute_result"
    }
   ],
   "source": [
    "%%time\n",
    "search_cbr_direct.fit(X_train, y_train)"
   ]
  },
  {
   "cell_type": "code",
   "execution_count": 55,
   "metadata": {
    "scrolled": true
   },
   "outputs": [
    {
     "name": "stdout",
     "output_type": "stream",
     "text": [
      "Лучшая RMSE: 1503.0 \n",
      "Лучшие гиперпараметры: {'depth': 14, 'iterations': 100, 'learning_rate': 0.5}\n"
     ]
    }
   ],
   "source": [
    "print(\n",
    "    'Лучшая RMSE:', round(-1 * search_cbr_direct.best_score_, 1), \n",
    "    '\\nЛучшие гиперпараметры:', search_cbr_direct.best_params_\n",
    ")\n",
    "#сохраняем результаты лучшей модели\n",
    "res_cbr_direct = pd.DataFrame(search_cbr_direct.cv_results_)\n",
    "results = results.append(res_cbr_direct.sort_values('rank_test_score').head(1))    "
   ]
  },
  {
   "cell_type": "markdown",
   "metadata": {},
   "source": [
    "#### С кодированием и масштабированием"
   ]
  },
  {
   "cell_type": "code",
   "execution_count": 57,
   "metadata": {},
   "outputs": [],
   "source": [
    "transformer_cbr = get_col_transformer()\n",
    "cbr_prep = CatBoostRegressor(random_state=SEED, verbose=False)\n",
    "#готовим pipeline\n",
    "pipeline_cbr = Pipeline([\n",
    "    ('transformer', transformer_cbr),\n",
    "    ('model', cbr_prep)\n",
    "])\n",
    "#готовим гиперпараметры\n",
    "params_cbr_prep = {\n",
    "    'model__depth' : [14],\n",
    "    'model__iterations' : [50, 100],     \n",
    "    'model__learning_rate' : [0.5, 0.6]\n",
    "}\n",
    "#готовим подбор гиперпараметров с кроссвалидацией\n",
    "search_cbr_prep = GridSearchCV(\n",
    "    pipeline_cbr, \n",
    "    param_grid=params_cbr_prep,\n",
    "    scoring='neg_root_mean_squared_error',\n",
    "    cv=4    \n",
    ")"
   ]
  },
  {
   "cell_type": "code",
   "execution_count": 58,
   "metadata": {
    "scrolled": false
   },
   "outputs": [
    {
     "name": "stdout",
     "output_type": "stream",
     "text": [
      "CPU times: user 5min 1s, sys: 1min 31s, total: 6min 32s\n",
      "Wall time: 6min 47s\n"
     ]
    },
    {
     "data": {
      "text/html": [
       "<style>#sk-container-id-3 {color: black;background-color: white;}#sk-container-id-3 pre{padding: 0;}#sk-container-id-3 div.sk-toggleable {background-color: white;}#sk-container-id-3 label.sk-toggleable__label {cursor: pointer;display: block;width: 100%;margin-bottom: 0;padding: 0.3em;box-sizing: border-box;text-align: center;}#sk-container-id-3 label.sk-toggleable__label-arrow:before {content: \"▸\";float: left;margin-right: 0.25em;color: #696969;}#sk-container-id-3 label.sk-toggleable__label-arrow:hover:before {color: black;}#sk-container-id-3 div.sk-estimator:hover label.sk-toggleable__label-arrow:before {color: black;}#sk-container-id-3 div.sk-toggleable__content {max-height: 0;max-width: 0;overflow: hidden;text-align: left;background-color: #f0f8ff;}#sk-container-id-3 div.sk-toggleable__content pre {margin: 0.2em;color: black;border-radius: 0.25em;background-color: #f0f8ff;}#sk-container-id-3 input.sk-toggleable__control:checked~div.sk-toggleable__content {max-height: 200px;max-width: 100%;overflow: auto;}#sk-container-id-3 input.sk-toggleable__control:checked~label.sk-toggleable__label-arrow:before {content: \"▾\";}#sk-container-id-3 div.sk-estimator input.sk-toggleable__control:checked~label.sk-toggleable__label {background-color: #d4ebff;}#sk-container-id-3 div.sk-label input.sk-toggleable__control:checked~label.sk-toggleable__label {background-color: #d4ebff;}#sk-container-id-3 input.sk-hidden--visually {border: 0;clip: rect(1px 1px 1px 1px);clip: rect(1px, 1px, 1px, 1px);height: 1px;margin: -1px;overflow: hidden;padding: 0;position: absolute;width: 1px;}#sk-container-id-3 div.sk-estimator {font-family: monospace;background-color: #f0f8ff;border: 1px dotted black;border-radius: 0.25em;box-sizing: border-box;margin-bottom: 0.5em;}#sk-container-id-3 div.sk-estimator:hover {background-color: #d4ebff;}#sk-container-id-3 div.sk-parallel-item::after {content: \"\";width: 100%;border-bottom: 1px solid gray;flex-grow: 1;}#sk-container-id-3 div.sk-label:hover label.sk-toggleable__label {background-color: #d4ebff;}#sk-container-id-3 div.sk-serial::before {content: \"\";position: absolute;border-left: 1px solid gray;box-sizing: border-box;top: 0;bottom: 0;left: 50%;z-index: 0;}#sk-container-id-3 div.sk-serial {display: flex;flex-direction: column;align-items: center;background-color: white;padding-right: 0.2em;padding-left: 0.2em;position: relative;}#sk-container-id-3 div.sk-item {position: relative;z-index: 1;}#sk-container-id-3 div.sk-parallel {display: flex;align-items: stretch;justify-content: center;background-color: white;position: relative;}#sk-container-id-3 div.sk-item::before, #sk-container-id-3 div.sk-parallel-item::before {content: \"\";position: absolute;border-left: 1px solid gray;box-sizing: border-box;top: 0;bottom: 0;left: 50%;z-index: -1;}#sk-container-id-3 div.sk-parallel-item {display: flex;flex-direction: column;z-index: 1;position: relative;background-color: white;}#sk-container-id-3 div.sk-parallel-item:first-child::after {align-self: flex-end;width: 50%;}#sk-container-id-3 div.sk-parallel-item:last-child::after {align-self: flex-start;width: 50%;}#sk-container-id-3 div.sk-parallel-item:only-child::after {width: 0;}#sk-container-id-3 div.sk-dashed-wrapped {border: 1px dashed gray;margin: 0 0.4em 0.5em 0.4em;box-sizing: border-box;padding-bottom: 0.4em;background-color: white;}#sk-container-id-3 div.sk-label label {font-family: monospace;font-weight: bold;display: inline-block;line-height: 1.2em;}#sk-container-id-3 div.sk-label-container {text-align: center;}#sk-container-id-3 div.sk-container {/* jupyter's `normalize.less` sets `[hidden] { display: none; }` but bootstrap.min.css set `[hidden] { display: none !important; }` so we also need the `!important` here to be able to override the default hidden behavior on the sphinx rendered scikit-learn.org. See: https://github.com/scikit-learn/scikit-learn/issues/21755 */display: inline-block !important;position: relative;}#sk-container-id-3 div.sk-text-repr-fallback {display: none;}</style><div id=\"sk-container-id-3\" class=\"sk-top-container\"><div class=\"sk-text-repr-fallback\"><pre>GridSearchCV(cv=4,\n",
       "             estimator=Pipeline(steps=[(&#x27;transformer&#x27;,\n",
       "                                        ColumnTransformer(remainder=&#x27;passthrough&#x27;,\n",
       "                                                          transformers=[(&#x27;cat_ohe&#x27;,\n",
       "                                                                         OneHotEncoder(drop=&#x27;first&#x27;,\n",
       "                                                                                       handle_unknown=&#x27;ignore&#x27;,\n",
       "                                                                                       sparse_output=False),\n",
       "                                                                         [&#x27;vehicle_type&#x27;,\n",
       "                                                                          &#x27;fuel_type&#x27;,\n",
       "                                                                          &#x27;brand&#x27;]),\n",
       "                                                                        (&#x27;cat_oe&#x27;,\n",
       "                                                                         OrdinalEncoder(handle_unknown=&#x27;use_encoded_value&#x27;,\n",
       "                                                                                        unknown_value=-1),\n",
       "                                                                         [&#x27;model&#x27;]),\n",
       "                                                                        (&#x27;num&#x27;,\n",
       "                                                                         MinMaxScaler(),\n",
       "                                                                         [&#x27;registration_year&#x27;,\n",
       "                                                                          &#x27;power&#x27;,\n",
       "                                                                          &#x27;kilometer&#x27;])],\n",
       "                                                          verbose_feature_names_out=False)),\n",
       "                                       (&#x27;model&#x27;,\n",
       "                                        &lt;catboost.core.CatBoostRegressor object at 0x7fb730f13b20&gt;)]),\n",
       "             param_grid={&#x27;model__depth&#x27;: [14], &#x27;model__iterations&#x27;: [50, 100],\n",
       "                         &#x27;model__learning_rate&#x27;: [0.5, 0.6]},\n",
       "             scoring=&#x27;neg_root_mean_squared_error&#x27;)</pre><b>In a Jupyter environment, please rerun this cell to show the HTML representation or trust the notebook. <br />On GitHub, the HTML representation is unable to render, please try loading this page with nbviewer.org.</b></div><div class=\"sk-container\" hidden><div class=\"sk-item sk-dashed-wrapped\"><div class=\"sk-label-container\"><div class=\"sk-label sk-toggleable\"><input class=\"sk-toggleable__control sk-hidden--visually\" id=\"sk-estimator-id-16\" type=\"checkbox\" ><label for=\"sk-estimator-id-16\" class=\"sk-toggleable__label sk-toggleable__label-arrow\">GridSearchCV</label><div class=\"sk-toggleable__content\"><pre>GridSearchCV(cv=4,\n",
       "             estimator=Pipeline(steps=[(&#x27;transformer&#x27;,\n",
       "                                        ColumnTransformer(remainder=&#x27;passthrough&#x27;,\n",
       "                                                          transformers=[(&#x27;cat_ohe&#x27;,\n",
       "                                                                         OneHotEncoder(drop=&#x27;first&#x27;,\n",
       "                                                                                       handle_unknown=&#x27;ignore&#x27;,\n",
       "                                                                                       sparse_output=False),\n",
       "                                                                         [&#x27;vehicle_type&#x27;,\n",
       "                                                                          &#x27;fuel_type&#x27;,\n",
       "                                                                          &#x27;brand&#x27;]),\n",
       "                                                                        (&#x27;cat_oe&#x27;,\n",
       "                                                                         OrdinalEncoder(handle_unknown=&#x27;use_encoded_value&#x27;,\n",
       "                                                                                        unknown_value=-1),\n",
       "                                                                         [&#x27;model&#x27;]),\n",
       "                                                                        (&#x27;num&#x27;,\n",
       "                                                                         MinMaxScaler(),\n",
       "                                                                         [&#x27;registration_year&#x27;,\n",
       "                                                                          &#x27;power&#x27;,\n",
       "                                                                          &#x27;kilometer&#x27;])],\n",
       "                                                          verbose_feature_names_out=False)),\n",
       "                                       (&#x27;model&#x27;,\n",
       "                                        &lt;catboost.core.CatBoostRegressor object at 0x7fb730f13b20&gt;)]),\n",
       "             param_grid={&#x27;model__depth&#x27;: [14], &#x27;model__iterations&#x27;: [50, 100],\n",
       "                         &#x27;model__learning_rate&#x27;: [0.5, 0.6]},\n",
       "             scoring=&#x27;neg_root_mean_squared_error&#x27;)</pre></div></div></div><div class=\"sk-parallel\"><div class=\"sk-parallel-item\"><div class=\"sk-item\"><div class=\"sk-label-container\"><div class=\"sk-label sk-toggleable\"><input class=\"sk-toggleable__control sk-hidden--visually\" id=\"sk-estimator-id-17\" type=\"checkbox\" ><label for=\"sk-estimator-id-17\" class=\"sk-toggleable__label sk-toggleable__label-arrow\">estimator: Pipeline</label><div class=\"sk-toggleable__content\"><pre>Pipeline(steps=[(&#x27;transformer&#x27;,\n",
       "                 ColumnTransformer(remainder=&#x27;passthrough&#x27;,\n",
       "                                   transformers=[(&#x27;cat_ohe&#x27;,\n",
       "                                                  OneHotEncoder(drop=&#x27;first&#x27;,\n",
       "                                                                handle_unknown=&#x27;ignore&#x27;,\n",
       "                                                                sparse_output=False),\n",
       "                                                  [&#x27;vehicle_type&#x27;, &#x27;fuel_type&#x27;,\n",
       "                                                   &#x27;brand&#x27;]),\n",
       "                                                 (&#x27;cat_oe&#x27;,\n",
       "                                                  OrdinalEncoder(handle_unknown=&#x27;use_encoded_value&#x27;,\n",
       "                                                                 unknown_value=-1),\n",
       "                                                  [&#x27;model&#x27;]),\n",
       "                                                 (&#x27;num&#x27;, MinMaxScaler(),\n",
       "                                                  [&#x27;registration_year&#x27;, &#x27;power&#x27;,\n",
       "                                                   &#x27;kilometer&#x27;])],\n",
       "                                   verbose_feature_names_out=False)),\n",
       "                (&#x27;model&#x27;,\n",
       "                 &lt;catboost.core.CatBoostRegressor object at 0x7fb730f13b20&gt;)])</pre></div></div></div><div class=\"sk-serial\"><div class=\"sk-item\"><div class=\"sk-serial\"><div class=\"sk-item sk-dashed-wrapped\"><div class=\"sk-label-container\"><div class=\"sk-label sk-toggleable\"><input class=\"sk-toggleable__control sk-hidden--visually\" id=\"sk-estimator-id-18\" type=\"checkbox\" ><label for=\"sk-estimator-id-18\" class=\"sk-toggleable__label sk-toggleable__label-arrow\">transformer: ColumnTransformer</label><div class=\"sk-toggleable__content\"><pre>ColumnTransformer(remainder=&#x27;passthrough&#x27;,\n",
       "                  transformers=[(&#x27;cat_ohe&#x27;,\n",
       "                                 OneHotEncoder(drop=&#x27;first&#x27;,\n",
       "                                               handle_unknown=&#x27;ignore&#x27;,\n",
       "                                               sparse_output=False),\n",
       "                                 [&#x27;vehicle_type&#x27;, &#x27;fuel_type&#x27;, &#x27;brand&#x27;]),\n",
       "                                (&#x27;cat_oe&#x27;,\n",
       "                                 OrdinalEncoder(handle_unknown=&#x27;use_encoded_value&#x27;,\n",
       "                                                unknown_value=-1),\n",
       "                                 [&#x27;model&#x27;]),\n",
       "                                (&#x27;num&#x27;, MinMaxScaler(),\n",
       "                                 [&#x27;registration_year&#x27;, &#x27;power&#x27;, &#x27;kilometer&#x27;])],\n",
       "                  verbose_feature_names_out=False)</pre></div></div></div><div class=\"sk-parallel\"><div class=\"sk-parallel-item\"><div class=\"sk-item\"><div class=\"sk-label-container\"><div class=\"sk-label sk-toggleable\"><input class=\"sk-toggleable__control sk-hidden--visually\" id=\"sk-estimator-id-19\" type=\"checkbox\" ><label for=\"sk-estimator-id-19\" class=\"sk-toggleable__label sk-toggleable__label-arrow\">cat_ohe</label><div class=\"sk-toggleable__content\"><pre>[&#x27;vehicle_type&#x27;, &#x27;fuel_type&#x27;, &#x27;brand&#x27;]</pre></div></div></div><div class=\"sk-serial\"><div class=\"sk-item\"><div class=\"sk-estimator sk-toggleable\"><input class=\"sk-toggleable__control sk-hidden--visually\" id=\"sk-estimator-id-20\" type=\"checkbox\" ><label for=\"sk-estimator-id-20\" class=\"sk-toggleable__label sk-toggleable__label-arrow\">OneHotEncoder</label><div class=\"sk-toggleable__content\"><pre>OneHotEncoder(drop=&#x27;first&#x27;, handle_unknown=&#x27;ignore&#x27;, sparse_output=False)</pre></div></div></div></div></div></div><div class=\"sk-parallel-item\"><div class=\"sk-item\"><div class=\"sk-label-container\"><div class=\"sk-label sk-toggleable\"><input class=\"sk-toggleable__control sk-hidden--visually\" id=\"sk-estimator-id-21\" type=\"checkbox\" ><label for=\"sk-estimator-id-21\" class=\"sk-toggleable__label sk-toggleable__label-arrow\">cat_oe</label><div class=\"sk-toggleable__content\"><pre>[&#x27;model&#x27;]</pre></div></div></div><div class=\"sk-serial\"><div class=\"sk-item\"><div class=\"sk-estimator sk-toggleable\"><input class=\"sk-toggleable__control sk-hidden--visually\" id=\"sk-estimator-id-22\" type=\"checkbox\" ><label for=\"sk-estimator-id-22\" class=\"sk-toggleable__label sk-toggleable__label-arrow\">OrdinalEncoder</label><div class=\"sk-toggleable__content\"><pre>OrdinalEncoder(handle_unknown=&#x27;use_encoded_value&#x27;, unknown_value=-1)</pre></div></div></div></div></div></div><div class=\"sk-parallel-item\"><div class=\"sk-item\"><div class=\"sk-label-container\"><div class=\"sk-label sk-toggleable\"><input class=\"sk-toggleable__control sk-hidden--visually\" id=\"sk-estimator-id-23\" type=\"checkbox\" ><label for=\"sk-estimator-id-23\" class=\"sk-toggleable__label sk-toggleable__label-arrow\">num</label><div class=\"sk-toggleable__content\"><pre>[&#x27;registration_year&#x27;, &#x27;power&#x27;, &#x27;kilometer&#x27;]</pre></div></div></div><div class=\"sk-serial\"><div class=\"sk-item\"><div class=\"sk-estimator sk-toggleable\"><input class=\"sk-toggleable__control sk-hidden--visually\" id=\"sk-estimator-id-24\" type=\"checkbox\" ><label for=\"sk-estimator-id-24\" class=\"sk-toggleable__label sk-toggleable__label-arrow\">MinMaxScaler</label><div class=\"sk-toggleable__content\"><pre>MinMaxScaler()</pre></div></div></div></div></div></div><div class=\"sk-parallel-item\"><div class=\"sk-item\"><div class=\"sk-label-container\"><div class=\"sk-label sk-toggleable\"><input class=\"sk-toggleable__control sk-hidden--visually\" id=\"sk-estimator-id-25\" type=\"checkbox\" ><label for=\"sk-estimator-id-25\" class=\"sk-toggleable__label sk-toggleable__label-arrow\">remainder</label><div class=\"sk-toggleable__content\"><pre></pre></div></div></div><div class=\"sk-serial\"><div class=\"sk-item\"><div class=\"sk-estimator sk-toggleable\"><input class=\"sk-toggleable__control sk-hidden--visually\" id=\"sk-estimator-id-26\" type=\"checkbox\" ><label for=\"sk-estimator-id-26\" class=\"sk-toggleable__label sk-toggleable__label-arrow\">passthrough</label><div class=\"sk-toggleable__content\"><pre>passthrough</pre></div></div></div></div></div></div></div></div><div class=\"sk-item\"><div class=\"sk-estimator sk-toggleable\"><input class=\"sk-toggleable__control sk-hidden--visually\" id=\"sk-estimator-id-27\" type=\"checkbox\" ><label for=\"sk-estimator-id-27\" class=\"sk-toggleable__label sk-toggleable__label-arrow\">CatBoostRegressor</label><div class=\"sk-toggleable__content\"><pre>&lt;catboost.core.CatBoostRegressor object at 0x7fb730f13b20&gt;</pre></div></div></div></div></div></div></div></div></div></div></div></div>"
      ],
      "text/plain": [
       "GridSearchCV(cv=4,\n",
       "             estimator=Pipeline(steps=[('transformer',\n",
       "                                        ColumnTransformer(remainder='passthrough',\n",
       "                                                          transformers=[('cat_ohe',\n",
       "                                                                         OneHotEncoder(drop='first',\n",
       "                                                                                       handle_unknown='ignore',\n",
       "                                                                                       sparse_output=False),\n",
       "                                                                         ['vehicle_type',\n",
       "                                                                          'fuel_type',\n",
       "                                                                          'brand']),\n",
       "                                                                        ('cat_oe',\n",
       "                                                                         OrdinalEncoder(handle_unknown='use_encoded_value',\n",
       "                                                                                        unknown_value=-1),\n",
       "                                                                         ['model']),\n",
       "                                                                        ('num',\n",
       "                                                                         MinMaxScaler(),\n",
       "                                                                         ['registration_year',\n",
       "                                                                          'power',\n",
       "                                                                          'kilometer'])],\n",
       "                                                          verbose_feature_names_out=False)),\n",
       "                                       ('model',\n",
       "                                        <catboost.core.CatBoostRegressor object at 0x7fb730f13b20>)]),\n",
       "             param_grid={'model__depth': [14], 'model__iterations': [50, 100],\n",
       "                         'model__learning_rate': [0.5, 0.6]},\n",
       "             scoring='neg_root_mean_squared_error')"
      ]
     },
     "execution_count": 58,
     "metadata": {},
     "output_type": "execute_result"
    }
   ],
   "source": [
    "%%time\n",
    "search_cbr_prep.fit(X_train, y_train)"
   ]
  },
  {
   "cell_type": "code",
   "execution_count": 59,
   "metadata": {
    "scrolled": true
   },
   "outputs": [
    {
     "name": "stdout",
     "output_type": "stream",
     "text": [
      "Лучшая RMSE: 1490.7 \n",
      "Лучшие гиперпараметры: {'model__depth': 14, 'model__iterations': 100, 'model__learning_rate': 0.5}\n"
     ]
    }
   ],
   "source": [
    "print(\n",
    "    'Лучшая RMSE:', round(-1 * search_cbr_prep.best_score_, 1), \n",
    "    '\\nЛучшие гиперпараметры:', search_cbr_prep.best_params_\n",
    ")\n",
    "#сохраняем результаты лучшей модели\n",
    "res_cbr_prep = pd.DataFrame(search_cbr_prep.cv_results_)\n",
    "results = results.append(res_cbr_prep.sort_values('rank_test_score').head(1)) "
   ]
  },
  {
   "cell_type": "markdown",
   "metadata": {},
   "source": [
    "### LGBMRegressor"
   ]
  },
  {
   "cell_type": "code",
   "execution_count": 61,
   "metadata": {
    "scrolled": false
   },
   "outputs": [],
   "source": [
    "transformer_lgbmr = get_col_transformer()\n",
    "lgbmr = lgb.LGBMRegressor(random_state=SEED, verbose=-1)\n",
    "#готовим pipeline\n",
    "pipeline_lgbmr = Pipeline([\n",
    "    ('transformer', transformer_lgbmr),\n",
    "    ('model', lgbmr)\n",
    "])\n",
    "#готовим гиперпараметры\n",
    "params_lgbmr = {\n",
    "    'model__max_depth' : [14],\n",
    "    'model__num_iterations' : [50, 100],\n",
    "    'model__learning_rate' : [0.5, 0.6]          \n",
    "} \n",
    "#готовим подбор гиперпараметров с кроссвалидацией\n",
    "search_lgbmr = GridSearchCV(\n",
    "    pipeline_lgbmr, \n",
    "    param_grid=params_lgbmr, \n",
    "    scoring='neg_root_mean_squared_error', \n",
    "    cv=4,\n",
    "    n_jobs=4\n",
    ")"
   ]
  },
  {
   "cell_type": "code",
   "execution_count": 62,
   "metadata": {
    "scrolled": true
   },
   "outputs": [
    {
     "name": "stderr",
     "output_type": "stream",
     "text": [
      "/opt/conda/lib/python3.9/site-packages/lightgbm/engine.py:177: UserWarning: Found `num_iterations` in params. Will use it instead of argument\n",
      "  _log_warning(f\"Found `{alias}` in params. Will use it instead of argument\")\n",
      "/opt/conda/lib/python3.9/site-packages/lightgbm/engine.py:177: UserWarning: Found `num_iterations` in params. Will use it instead of argument\n",
      "  _log_warning(f\"Found `{alias}` in params. Will use it instead of argument\")\n",
      "/opt/conda/lib/python3.9/site-packages/lightgbm/engine.py:177: UserWarning: Found `num_iterations` in params. Will use it instead of argument\n",
      "  _log_warning(f\"Found `{alias}` in params. Will use it instead of argument\")\n",
      "/opt/conda/lib/python3.9/site-packages/sklearn/preprocessing/_encoders.py:202: UserWarning: Found unknown categories in columns [2] during transform. These unknown categories will be encoded as all zeros\n",
      "  warnings.warn(\n",
      "/opt/conda/lib/python3.9/site-packages/lightgbm/engine.py:177: UserWarning: Found `num_iterations` in params. Will use it instead of argument\n",
      "  _log_warning(f\"Found `{alias}` in params. Will use it instead of argument\")\n",
      "/opt/conda/lib/python3.9/site-packages/lightgbm/engine.py:177: UserWarning: Found `num_iterations` in params. Will use it instead of argument\n",
      "  _log_warning(f\"Found `{alias}` in params. Will use it instead of argument\")\n",
      "/opt/conda/lib/python3.9/site-packages/lightgbm/engine.py:177: UserWarning: Found `num_iterations` in params. Will use it instead of argument\n",
      "  _log_warning(f\"Found `{alias}` in params. Will use it instead of argument\")\n",
      "/opt/conda/lib/python3.9/site-packages/lightgbm/engine.py:177: UserWarning: Found `num_iterations` in params. Will use it instead of argument\n",
      "  _log_warning(f\"Found `{alias}` in params. Will use it instead of argument\")\n",
      "/opt/conda/lib/python3.9/site-packages/sklearn/preprocessing/_encoders.py:202: UserWarning: Found unknown categories in columns [2] during transform. These unknown categories will be encoded as all zeros\n",
      "  warnings.warn(\n",
      "/opt/conda/lib/python3.9/site-packages/lightgbm/engine.py:177: UserWarning: Found `num_iterations` in params. Will use it instead of argument\n",
      "  _log_warning(f\"Found `{alias}` in params. Will use it instead of argument\")\n",
      "/opt/conda/lib/python3.9/site-packages/lightgbm/engine.py:177: UserWarning: Found `num_iterations` in params. Will use it instead of argument\n",
      "  _log_warning(f\"Found `{alias}` in params. Will use it instead of argument\")\n",
      "/opt/conda/lib/python3.9/site-packages/lightgbm/engine.py:177: UserWarning: Found `num_iterations` in params. Will use it instead of argument\n",
      "  _log_warning(f\"Found `{alias}` in params. Will use it instead of argument\")\n",
      "/opt/conda/lib/python3.9/site-packages/lightgbm/engine.py:177: UserWarning: Found `num_iterations` in params. Will use it instead of argument\n",
      "  _log_warning(f\"Found `{alias}` in params. Will use it instead of argument\")\n",
      "/opt/conda/lib/python3.9/site-packages/sklearn/preprocessing/_encoders.py:202: UserWarning: Found unknown categories in columns [2] during transform. These unknown categories will be encoded as all zeros\n",
      "  warnings.warn(\n",
      "/opt/conda/lib/python3.9/site-packages/lightgbm/engine.py:177: UserWarning: Found `num_iterations` in params. Will use it instead of argument\n",
      "  _log_warning(f\"Found `{alias}` in params. Will use it instead of argument\")\n",
      "/opt/conda/lib/python3.9/site-packages/lightgbm/engine.py:177: UserWarning: Found `num_iterations` in params. Will use it instead of argument\n",
      "  _log_warning(f\"Found `{alias}` in params. Will use it instead of argument\")\n",
      "/opt/conda/lib/python3.9/site-packages/lightgbm/engine.py:177: UserWarning: Found `num_iterations` in params. Will use it instead of argument\n",
      "  _log_warning(f\"Found `{alias}` in params. Will use it instead of argument\")\n",
      "/opt/conda/lib/python3.9/site-packages/lightgbm/engine.py:177: UserWarning: Found `num_iterations` in params. Will use it instead of argument\n",
      "  _log_warning(f\"Found `{alias}` in params. Will use it instead of argument\")\n",
      "/opt/conda/lib/python3.9/site-packages/lightgbm/engine.py:177: UserWarning: Found `num_iterations` in params. Will use it instead of argument\n",
      "  _log_warning(f\"Found `{alias}` in params. Will use it instead of argument\")\n",
      "/opt/conda/lib/python3.9/site-packages/sklearn/preprocessing/_encoders.py:202: UserWarning: Found unknown categories in columns [2] during transform. These unknown categories will be encoded as all zeros\n",
      "  warnings.warn(\n"
     ]
    },
    {
     "name": "stdout",
     "output_type": "stream",
     "text": [
      "CPU times: user 5min 28s, sys: 4.23 s, total: 5min 32s\n",
      "Wall time: 6min 5s\n"
     ]
    },
    {
     "data": {
      "text/html": [
       "<style>#sk-container-id-4 {color: black;background-color: white;}#sk-container-id-4 pre{padding: 0;}#sk-container-id-4 div.sk-toggleable {background-color: white;}#sk-container-id-4 label.sk-toggleable__label {cursor: pointer;display: block;width: 100%;margin-bottom: 0;padding: 0.3em;box-sizing: border-box;text-align: center;}#sk-container-id-4 label.sk-toggleable__label-arrow:before {content: \"▸\";float: left;margin-right: 0.25em;color: #696969;}#sk-container-id-4 label.sk-toggleable__label-arrow:hover:before {color: black;}#sk-container-id-4 div.sk-estimator:hover label.sk-toggleable__label-arrow:before {color: black;}#sk-container-id-4 div.sk-toggleable__content {max-height: 0;max-width: 0;overflow: hidden;text-align: left;background-color: #f0f8ff;}#sk-container-id-4 div.sk-toggleable__content pre {margin: 0.2em;color: black;border-radius: 0.25em;background-color: #f0f8ff;}#sk-container-id-4 input.sk-toggleable__control:checked~div.sk-toggleable__content {max-height: 200px;max-width: 100%;overflow: auto;}#sk-container-id-4 input.sk-toggleable__control:checked~label.sk-toggleable__label-arrow:before {content: \"▾\";}#sk-container-id-4 div.sk-estimator input.sk-toggleable__control:checked~label.sk-toggleable__label {background-color: #d4ebff;}#sk-container-id-4 div.sk-label input.sk-toggleable__control:checked~label.sk-toggleable__label {background-color: #d4ebff;}#sk-container-id-4 input.sk-hidden--visually {border: 0;clip: rect(1px 1px 1px 1px);clip: rect(1px, 1px, 1px, 1px);height: 1px;margin: -1px;overflow: hidden;padding: 0;position: absolute;width: 1px;}#sk-container-id-4 div.sk-estimator {font-family: monospace;background-color: #f0f8ff;border: 1px dotted black;border-radius: 0.25em;box-sizing: border-box;margin-bottom: 0.5em;}#sk-container-id-4 div.sk-estimator:hover {background-color: #d4ebff;}#sk-container-id-4 div.sk-parallel-item::after {content: \"\";width: 100%;border-bottom: 1px solid gray;flex-grow: 1;}#sk-container-id-4 div.sk-label:hover label.sk-toggleable__label {background-color: #d4ebff;}#sk-container-id-4 div.sk-serial::before {content: \"\";position: absolute;border-left: 1px solid gray;box-sizing: border-box;top: 0;bottom: 0;left: 50%;z-index: 0;}#sk-container-id-4 div.sk-serial {display: flex;flex-direction: column;align-items: center;background-color: white;padding-right: 0.2em;padding-left: 0.2em;position: relative;}#sk-container-id-4 div.sk-item {position: relative;z-index: 1;}#sk-container-id-4 div.sk-parallel {display: flex;align-items: stretch;justify-content: center;background-color: white;position: relative;}#sk-container-id-4 div.sk-item::before, #sk-container-id-4 div.sk-parallel-item::before {content: \"\";position: absolute;border-left: 1px solid gray;box-sizing: border-box;top: 0;bottom: 0;left: 50%;z-index: -1;}#sk-container-id-4 div.sk-parallel-item {display: flex;flex-direction: column;z-index: 1;position: relative;background-color: white;}#sk-container-id-4 div.sk-parallel-item:first-child::after {align-self: flex-end;width: 50%;}#sk-container-id-4 div.sk-parallel-item:last-child::after {align-self: flex-start;width: 50%;}#sk-container-id-4 div.sk-parallel-item:only-child::after {width: 0;}#sk-container-id-4 div.sk-dashed-wrapped {border: 1px dashed gray;margin: 0 0.4em 0.5em 0.4em;box-sizing: border-box;padding-bottom: 0.4em;background-color: white;}#sk-container-id-4 div.sk-label label {font-family: monospace;font-weight: bold;display: inline-block;line-height: 1.2em;}#sk-container-id-4 div.sk-label-container {text-align: center;}#sk-container-id-4 div.sk-container {/* jupyter's `normalize.less` sets `[hidden] { display: none; }` but bootstrap.min.css set `[hidden] { display: none !important; }` so we also need the `!important` here to be able to override the default hidden behavior on the sphinx rendered scikit-learn.org. See: https://github.com/scikit-learn/scikit-learn/issues/21755 */display: inline-block !important;position: relative;}#sk-container-id-4 div.sk-text-repr-fallback {display: none;}</style><div id=\"sk-container-id-4\" class=\"sk-top-container\"><div class=\"sk-text-repr-fallback\"><pre>GridSearchCV(cv=4,\n",
       "             estimator=Pipeline(steps=[(&#x27;transformer&#x27;,\n",
       "                                        ColumnTransformer(remainder=&#x27;passthrough&#x27;,\n",
       "                                                          transformers=[(&#x27;cat_ohe&#x27;,\n",
       "                                                                         OneHotEncoder(drop=&#x27;first&#x27;,\n",
       "                                                                                       handle_unknown=&#x27;ignore&#x27;,\n",
       "                                                                                       sparse_output=False),\n",
       "                                                                         [&#x27;vehicle_type&#x27;,\n",
       "                                                                          &#x27;fuel_type&#x27;,\n",
       "                                                                          &#x27;brand&#x27;]),\n",
       "                                                                        (&#x27;cat_oe&#x27;,\n",
       "                                                                         OrdinalEncoder(handle_unknown=&#x27;use_encoded_value&#x27;,\n",
       "                                                                                        unknown_value=-1),\n",
       "                                                                         [&#x27;model&#x27;]),\n",
       "                                                                        (&#x27;num&#x27;,\n",
       "                                                                         MinMaxScaler(),\n",
       "                                                                         [&#x27;registration_year&#x27;,\n",
       "                                                                          &#x27;power&#x27;,\n",
       "                                                                          &#x27;kilometer&#x27;])],\n",
       "                                                          verbose_feature_names_out=False)),\n",
       "                                       (&#x27;model&#x27;,\n",
       "                                        LGBMRegressor(random_state=374,\n",
       "                                                      verbose=-1))]),\n",
       "             n_jobs=4,\n",
       "             param_grid={&#x27;model__learning_rate&#x27;: [0.5, 0.6],\n",
       "                         &#x27;model__max_depth&#x27;: [14],\n",
       "                         &#x27;model__num_iterations&#x27;: [50, 100]},\n",
       "             scoring=&#x27;neg_root_mean_squared_error&#x27;)</pre><b>In a Jupyter environment, please rerun this cell to show the HTML representation or trust the notebook. <br />On GitHub, the HTML representation is unable to render, please try loading this page with nbviewer.org.</b></div><div class=\"sk-container\" hidden><div class=\"sk-item sk-dashed-wrapped\"><div class=\"sk-label-container\"><div class=\"sk-label sk-toggleable\"><input class=\"sk-toggleable__control sk-hidden--visually\" id=\"sk-estimator-id-28\" type=\"checkbox\" ><label for=\"sk-estimator-id-28\" class=\"sk-toggleable__label sk-toggleable__label-arrow\">GridSearchCV</label><div class=\"sk-toggleable__content\"><pre>GridSearchCV(cv=4,\n",
       "             estimator=Pipeline(steps=[(&#x27;transformer&#x27;,\n",
       "                                        ColumnTransformer(remainder=&#x27;passthrough&#x27;,\n",
       "                                                          transformers=[(&#x27;cat_ohe&#x27;,\n",
       "                                                                         OneHotEncoder(drop=&#x27;first&#x27;,\n",
       "                                                                                       handle_unknown=&#x27;ignore&#x27;,\n",
       "                                                                                       sparse_output=False),\n",
       "                                                                         [&#x27;vehicle_type&#x27;,\n",
       "                                                                          &#x27;fuel_type&#x27;,\n",
       "                                                                          &#x27;brand&#x27;]),\n",
       "                                                                        (&#x27;cat_oe&#x27;,\n",
       "                                                                         OrdinalEncoder(handle_unknown=&#x27;use_encoded_value&#x27;,\n",
       "                                                                                        unknown_value=-1),\n",
       "                                                                         [&#x27;model&#x27;]),\n",
       "                                                                        (&#x27;num&#x27;,\n",
       "                                                                         MinMaxScaler(),\n",
       "                                                                         [&#x27;registration_year&#x27;,\n",
       "                                                                          &#x27;power&#x27;,\n",
       "                                                                          &#x27;kilometer&#x27;])],\n",
       "                                                          verbose_feature_names_out=False)),\n",
       "                                       (&#x27;model&#x27;,\n",
       "                                        LGBMRegressor(random_state=374,\n",
       "                                                      verbose=-1))]),\n",
       "             n_jobs=4,\n",
       "             param_grid={&#x27;model__learning_rate&#x27;: [0.5, 0.6],\n",
       "                         &#x27;model__max_depth&#x27;: [14],\n",
       "                         &#x27;model__num_iterations&#x27;: [50, 100]},\n",
       "             scoring=&#x27;neg_root_mean_squared_error&#x27;)</pre></div></div></div><div class=\"sk-parallel\"><div class=\"sk-parallel-item\"><div class=\"sk-item\"><div class=\"sk-label-container\"><div class=\"sk-label sk-toggleable\"><input class=\"sk-toggleable__control sk-hidden--visually\" id=\"sk-estimator-id-29\" type=\"checkbox\" ><label for=\"sk-estimator-id-29\" class=\"sk-toggleable__label sk-toggleable__label-arrow\">estimator: Pipeline</label><div class=\"sk-toggleable__content\"><pre>Pipeline(steps=[(&#x27;transformer&#x27;,\n",
       "                 ColumnTransformer(remainder=&#x27;passthrough&#x27;,\n",
       "                                   transformers=[(&#x27;cat_ohe&#x27;,\n",
       "                                                  OneHotEncoder(drop=&#x27;first&#x27;,\n",
       "                                                                handle_unknown=&#x27;ignore&#x27;,\n",
       "                                                                sparse_output=False),\n",
       "                                                  [&#x27;vehicle_type&#x27;, &#x27;fuel_type&#x27;,\n",
       "                                                   &#x27;brand&#x27;]),\n",
       "                                                 (&#x27;cat_oe&#x27;,\n",
       "                                                  OrdinalEncoder(handle_unknown=&#x27;use_encoded_value&#x27;,\n",
       "                                                                 unknown_value=-1),\n",
       "                                                  [&#x27;model&#x27;]),\n",
       "                                                 (&#x27;num&#x27;, MinMaxScaler(),\n",
       "                                                  [&#x27;registration_year&#x27;, &#x27;power&#x27;,\n",
       "                                                   &#x27;kilometer&#x27;])],\n",
       "                                   verbose_feature_names_out=False)),\n",
       "                (&#x27;model&#x27;, LGBMRegressor(random_state=374, verbose=-1))])</pre></div></div></div><div class=\"sk-serial\"><div class=\"sk-item\"><div class=\"sk-serial\"><div class=\"sk-item sk-dashed-wrapped\"><div class=\"sk-label-container\"><div class=\"sk-label sk-toggleable\"><input class=\"sk-toggleable__control sk-hidden--visually\" id=\"sk-estimator-id-30\" type=\"checkbox\" ><label for=\"sk-estimator-id-30\" class=\"sk-toggleable__label sk-toggleable__label-arrow\">transformer: ColumnTransformer</label><div class=\"sk-toggleable__content\"><pre>ColumnTransformer(remainder=&#x27;passthrough&#x27;,\n",
       "                  transformers=[(&#x27;cat_ohe&#x27;,\n",
       "                                 OneHotEncoder(drop=&#x27;first&#x27;,\n",
       "                                               handle_unknown=&#x27;ignore&#x27;,\n",
       "                                               sparse_output=False),\n",
       "                                 [&#x27;vehicle_type&#x27;, &#x27;fuel_type&#x27;, &#x27;brand&#x27;]),\n",
       "                                (&#x27;cat_oe&#x27;,\n",
       "                                 OrdinalEncoder(handle_unknown=&#x27;use_encoded_value&#x27;,\n",
       "                                                unknown_value=-1),\n",
       "                                 [&#x27;model&#x27;]),\n",
       "                                (&#x27;num&#x27;, MinMaxScaler(),\n",
       "                                 [&#x27;registration_year&#x27;, &#x27;power&#x27;, &#x27;kilometer&#x27;])],\n",
       "                  verbose_feature_names_out=False)</pre></div></div></div><div class=\"sk-parallel\"><div class=\"sk-parallel-item\"><div class=\"sk-item\"><div class=\"sk-label-container\"><div class=\"sk-label sk-toggleable\"><input class=\"sk-toggleable__control sk-hidden--visually\" id=\"sk-estimator-id-31\" type=\"checkbox\" ><label for=\"sk-estimator-id-31\" class=\"sk-toggleable__label sk-toggleable__label-arrow\">cat_ohe</label><div class=\"sk-toggleable__content\"><pre>[&#x27;vehicle_type&#x27;, &#x27;fuel_type&#x27;, &#x27;brand&#x27;]</pre></div></div></div><div class=\"sk-serial\"><div class=\"sk-item\"><div class=\"sk-estimator sk-toggleable\"><input class=\"sk-toggleable__control sk-hidden--visually\" id=\"sk-estimator-id-32\" type=\"checkbox\" ><label for=\"sk-estimator-id-32\" class=\"sk-toggleable__label sk-toggleable__label-arrow\">OneHotEncoder</label><div class=\"sk-toggleable__content\"><pre>OneHotEncoder(drop=&#x27;first&#x27;, handle_unknown=&#x27;ignore&#x27;, sparse_output=False)</pre></div></div></div></div></div></div><div class=\"sk-parallel-item\"><div class=\"sk-item\"><div class=\"sk-label-container\"><div class=\"sk-label sk-toggleable\"><input class=\"sk-toggleable__control sk-hidden--visually\" id=\"sk-estimator-id-33\" type=\"checkbox\" ><label for=\"sk-estimator-id-33\" class=\"sk-toggleable__label sk-toggleable__label-arrow\">cat_oe</label><div class=\"sk-toggleable__content\"><pre>[&#x27;model&#x27;]</pre></div></div></div><div class=\"sk-serial\"><div class=\"sk-item\"><div class=\"sk-estimator sk-toggleable\"><input class=\"sk-toggleable__control sk-hidden--visually\" id=\"sk-estimator-id-34\" type=\"checkbox\" ><label for=\"sk-estimator-id-34\" class=\"sk-toggleable__label sk-toggleable__label-arrow\">OrdinalEncoder</label><div class=\"sk-toggleable__content\"><pre>OrdinalEncoder(handle_unknown=&#x27;use_encoded_value&#x27;, unknown_value=-1)</pre></div></div></div></div></div></div><div class=\"sk-parallel-item\"><div class=\"sk-item\"><div class=\"sk-label-container\"><div class=\"sk-label sk-toggleable\"><input class=\"sk-toggleable__control sk-hidden--visually\" id=\"sk-estimator-id-35\" type=\"checkbox\" ><label for=\"sk-estimator-id-35\" class=\"sk-toggleable__label sk-toggleable__label-arrow\">num</label><div class=\"sk-toggleable__content\"><pre>[&#x27;registration_year&#x27;, &#x27;power&#x27;, &#x27;kilometer&#x27;]</pre></div></div></div><div class=\"sk-serial\"><div class=\"sk-item\"><div class=\"sk-estimator sk-toggleable\"><input class=\"sk-toggleable__control sk-hidden--visually\" id=\"sk-estimator-id-36\" type=\"checkbox\" ><label for=\"sk-estimator-id-36\" class=\"sk-toggleable__label sk-toggleable__label-arrow\">MinMaxScaler</label><div class=\"sk-toggleable__content\"><pre>MinMaxScaler()</pre></div></div></div></div></div></div><div class=\"sk-parallel-item\"><div class=\"sk-item\"><div class=\"sk-label-container\"><div class=\"sk-label sk-toggleable\"><input class=\"sk-toggleable__control sk-hidden--visually\" id=\"sk-estimator-id-37\" type=\"checkbox\" ><label for=\"sk-estimator-id-37\" class=\"sk-toggleable__label sk-toggleable__label-arrow\">remainder</label><div class=\"sk-toggleable__content\"><pre></pre></div></div></div><div class=\"sk-serial\"><div class=\"sk-item\"><div class=\"sk-estimator sk-toggleable\"><input class=\"sk-toggleable__control sk-hidden--visually\" id=\"sk-estimator-id-38\" type=\"checkbox\" ><label for=\"sk-estimator-id-38\" class=\"sk-toggleable__label sk-toggleable__label-arrow\">passthrough</label><div class=\"sk-toggleable__content\"><pre>passthrough</pre></div></div></div></div></div></div></div></div><div class=\"sk-item\"><div class=\"sk-estimator sk-toggleable\"><input class=\"sk-toggleable__control sk-hidden--visually\" id=\"sk-estimator-id-39\" type=\"checkbox\" ><label for=\"sk-estimator-id-39\" class=\"sk-toggleable__label sk-toggleable__label-arrow\">LGBMRegressor</label><div class=\"sk-toggleable__content\"><pre>LGBMRegressor(random_state=374, verbose=-1)</pre></div></div></div></div></div></div></div></div></div></div></div></div>"
      ],
      "text/plain": [
       "GridSearchCV(cv=4,\n",
       "             estimator=Pipeline(steps=[('transformer',\n",
       "                                        ColumnTransformer(remainder='passthrough',\n",
       "                                                          transformers=[('cat_ohe',\n",
       "                                                                         OneHotEncoder(drop='first',\n",
       "                                                                                       handle_unknown='ignore',\n",
       "                                                                                       sparse_output=False),\n",
       "                                                                         ['vehicle_type',\n",
       "                                                                          'fuel_type',\n",
       "                                                                          'brand']),\n",
       "                                                                        ('cat_oe',\n",
       "                                                                         OrdinalEncoder(handle_unknown='use_encoded_value',\n",
       "                                                                                        unknown_value=-1),\n",
       "                                                                         ['model']),\n",
       "                                                                        ('num',\n",
       "                                                                         MinMaxScaler(),\n",
       "                                                                         ['registration_year',\n",
       "                                                                          'power',\n",
       "                                                                          'kilometer'])],\n",
       "                                                          verbose_feature_names_out=False)),\n",
       "                                       ('model',\n",
       "                                        LGBMRegressor(random_state=374,\n",
       "                                                      verbose=-1))]),\n",
       "             n_jobs=4,\n",
       "             param_grid={'model__learning_rate': [0.5, 0.6],\n",
       "                         'model__max_depth': [14],\n",
       "                         'model__num_iterations': [50, 100]},\n",
       "             scoring='neg_root_mean_squared_error')"
      ]
     },
     "execution_count": 62,
     "metadata": {},
     "output_type": "execute_result"
    }
   ],
   "source": [
    "%%time\n",
    "search_lgbmr.fit(X_train, y_train)"
   ]
  },
  {
   "cell_type": "code",
   "execution_count": 63,
   "metadata": {
    "scrolled": true
   },
   "outputs": [
    {
     "name": "stdout",
     "output_type": "stream",
     "text": [
      "Лучшая RMSE: 1529.9 \n",
      "Лучшие гиперпараметры: {'model__learning_rate': 0.5, 'model__max_depth': 14, 'model__num_iterations': 100}\n"
     ]
    }
   ],
   "source": [
    "print(\n",
    "    'Лучшая RMSE:', round(-1 * search_lgbmr.best_score_, 1), \n",
    "    '\\nЛучшие гиперпараметры:', search_lgbmr.best_params_\n",
    ")\n",
    "#сохраняем результаты лучшей модели\n",
    "res_lgbmr = pd.DataFrame(search_lgbmr.cv_results_)\n",
    "results = results.append(res_lgbmr.sort_values('rank_test_score').head(1))"
   ]
  },
  {
   "cell_type": "markdown",
   "metadata": {},
   "source": [
    "### Анализ\n",
    "Напомним основные критерии заказчика:\n",
    " - качество предсказания, измеряемое RMSE (mean_test_score);\n",
    " - время на обучение (mean_fit_time);\n",
    " - время на предсказание (mean_score_time).\n",
    "\n",
    "Рассмотрим общую таблицу результатов."
   ]
  },
  {
   "cell_type": "code",
   "execution_count": 65,
   "metadata": {},
   "outputs": [
    {
     "data": {
      "text/html": [
       "<div>\n",
       "<style scoped>\n",
       "    .dataframe tbody tr th:only-of-type {\n",
       "        vertical-align: middle;\n",
       "    }\n",
       "\n",
       "    .dataframe tbody tr th {\n",
       "        vertical-align: top;\n",
       "    }\n",
       "\n",
       "    .dataframe thead th {\n",
       "        text-align: right;\n",
       "    }\n",
       "</style>\n",
       "<table border=\"1\" class=\"dataframe\">\n",
       "  <thead>\n",
       "    <tr style=\"text-align: right;\">\n",
       "      <th></th>\n",
       "      <th>mean_fit_time</th>\n",
       "      <th>mean_score_time</th>\n",
       "      <th>mean_test_score</th>\n",
       "    </tr>\n",
       "  </thead>\n",
       "  <tbody>\n",
       "    <tr>\n",
       "      <th>RandomForestRegressor</th>\n",
       "      <td>60.769294</td>\n",
       "      <td>0.698370</td>\n",
       "      <td>1597.729297</td>\n",
       "    </tr>\n",
       "    <tr>\n",
       "      <th>CatBoostRegressor</th>\n",
       "      <td>28.942588</td>\n",
       "      <td>0.071231</td>\n",
       "      <td>1503.025054</td>\n",
       "    </tr>\n",
       "    <tr>\n",
       "      <th>CatBoostRegressor (encoder + scaler)</th>\n",
       "      <td>29.366845</td>\n",
       "      <td>0.647040</td>\n",
       "      <td>1490.667483</td>\n",
       "    </tr>\n",
       "    <tr>\n",
       "      <th>LGBMRegressor</th>\n",
       "      <td>5.426722</td>\n",
       "      <td>1.402512</td>\n",
       "      <td>1529.932106</td>\n",
       "    </tr>\n",
       "  </tbody>\n",
       "</table>\n",
       "</div>"
      ],
      "text/plain": [
       "                                      mean_fit_time  mean_score_time  \\\n",
       "RandomForestRegressor                     60.769294         0.698370   \n",
       "CatBoostRegressor                         28.942588         0.071231   \n",
       "CatBoostRegressor (encoder + scaler)      29.366845         0.647040   \n",
       "LGBMRegressor                              5.426722         1.402512   \n",
       "\n",
       "                                      mean_test_score  \n",
       "RandomForestRegressor                     1597.729297  \n",
       "CatBoostRegressor                         1503.025054  \n",
       "CatBoostRegressor (encoder + scaler)      1490.667483  \n",
       "LGBMRegressor                             1529.932106  "
      ]
     },
     "execution_count": 65,
     "metadata": {},
     "output_type": "execute_result"
    }
   ],
   "source": [
    "results = results[['mean_fit_time', 'mean_score_time', 'mean_test_score']]\n",
    "results['mean_test_score'] = -1 * results['mean_test_score']\n",
    "results.index = [\n",
    "    'RandomForestRegressor', \n",
    "    'CatBoostRegressor', \n",
    "    'CatBoostRegressor (encoder + scaler)', \n",
    "    'LGBMRegressor'\n",
    "]\n",
    "results"
   ]
  },
  {
   "cell_type": "markdown",
   "metadata": {},
   "source": [
    "Зафиксируем наблюдения:\n",
    " - все модели показывают сопоставимую RMSE, ниже контрольного значения в 2500 евро; \n",
    " - CatBoostRegressor и LGBMRegressor опережают RandomForestRegressor по точности;\n",
    " - предварительное кодирование и масштабирование признаков в случае CatBoostRegressor при незначительном выигрыше в точности значительно увеличивает время предсказания;  \n",
    " - по времени обучения с большим отрывом лидирует LGBMRegressor. CatBoostRegressor - на втором, а RandomForestRegressor - на третьем месте, \n",
    " - по времени предсказания лидирует CatBoostRegressor без кодирования и масштабирования признаков. RandomForestRegressor - на втором, а LGBMRegressor - на третьем месте. \n",
    " \n",
    "По следующим соображениям LGBMRegressor является более перспективной моделью:\n",
    " - обучается на порядок быстрее других. Это наиболее важно, т.к. обучение может проходить на крайне больших объемах данных;\n",
    " - показывает точность весьма близкую к лучшему результату;\n",
    " - при этом время предсказания не настолько велико, чтобы перечеркнуть достоинства, обозначенные выше. Более того, в продуктовой среде от модели вряд ли потребуется единовременное предсказание для десятков тысяч объектов, как это было в нашем исследовании. \n",
    "\n",
    "Проверим качество LGBMRegressor на тестовой выборке."
   ]
  },
  {
   "cell_type": "code",
   "execution_count": 68,
   "metadata": {},
   "outputs": [
    {
     "name": "stdout",
     "output_type": "stream",
     "text": [
      "Лучшая модель: LGBMRegressor \n",
      "Гиперпараметры: {'model__learning_rate': 0.5, 'model__max_depth': 14, 'model__num_iterations': 100} \n",
      "RMSE на обучающей выборке: 1529.9321062372082 \n",
      "RMSE на тестовой выборке: 1524.9997470631658\n"
     ]
    }
   ],
   "source": [
    "y_predicted = search_lgbmr.predict(X_test)\n",
    "rmse_test = mean_squared_error(y_test, y_predicted, squared=False)\n",
    "rmse_train = -1 * search_lgbmr.best_score_\n",
    "print(\n",
    "    'Лучшая модель:', pipeline_lgbmr['model'].__class__.__name__,\n",
    "    '\\nГиперпараметры:', search_lgbmr.best_params_,\n",
    "    '\\nRMSE на обучающей выборке:', rmse_train,\n",
    "    '\\nRMSE на тестовой выборке:', rmse_test\n",
    ")"
   ]
  },
  {
   "cell_type": "markdown",
   "metadata": {},
   "source": [
    "## Выводы\n",
    "**В ходе обзора и подготовки данных:**\n",
    " - переименованы столбцы ([см.3.1](#%D0%9F%D0%B5%D1%80%D0%B5%D0%B8%D0%BC%D0%B5%D0%BD%D0%BE%D0%B2%D0%B0%D0%BD%D0%B8%D0%B5-%D1%81%D1%82%D0%BE%D0%BB%D0%B1%D1%86%D0%BE%D0%B2)), \n",
    " - обработаны полные дубликаты ([см.3.2](#%D0%9E%D0%B1%D1%80%D0%B0%D0%B1%D0%BE%D1%82%D0%BA%D0%B0-%D0%B4%D1%83%D0%B1%D0%BB%D0%B8%D0%BA%D0%B0%D1%82%D0%BE%D0%B2)),\n",
    " - отобраны значимые признаки ([см.3.3](#%D0%9E%D1%82%D0%B1%D0%BE%D1%80-%D0%B8%D0%BD%D1%84%D0%BE%D1%80%D0%BC%D0%B0%D1%82%D0%B8%D0%B2%D0%BD%D1%8B%D1%85-%D0%BF%D1%80%D0%B8%D0%B7%D0%BD%D0%B0%D0%BA%D0%BE%D0%B2)), \n",
    " - обработаны аномальные значения ([см.3.4](#%D0%9E%D0%B1%D1%80%D0%B0%D0%B1%D0%BE%D1%82%D0%BA%D0%B0-%D0%B0%D0%BD%D0%BE%D0%BC%D0%B0%D0%BB%D0%B8%D0%B9)),\n",
    " - обработаны пропуски ([см.3.5](#%D0%9E%D0%B1%D1%80%D0%B0%D0%B1%D0%BE%D1%82%D0%BA%D0%B0-%D0%BF%D1%80%D0%BE%D0%BF%D1%83%D1%81%D0%BA%D0%BE%D0%B2)),\n",
    " - оптимизированы типы данных ([см.3.6](#%D0%9A%D0%BE%D1%80%D1%80%D0%B5%D0%BA%D1%82%D0%B8%D1%80%D0%BE%D0%B2%D0%BA%D0%B0-%D1%82%D0%B8%D0%BF%D0%BE%D0%B2-%D0%B4%D0%B0%D0%BD%D0%BD%D1%8B%D1%85)).\n",
    " \n",
    "**В ходе моделирования:** \n",
    " - на обучающей выборке проведен поиск гиперпараметров с кроссвалидацией и метрикой RMSE для моделей:\n",
    "     - RandomForestRegressor ([см.4.1](#RandomForestRegressor)),\n",
    "     - CatBoostRegressor ([см.4.2](#CatBoostRegressor)),\n",
    "     - LGBMRegressor ([см.4.3](#LGBMRegressor)),\n",
    " - показано, что LGBMRegressor является предпочтительной моделью по времени обучения, предсказания и точности ([см.4.4](#%D0%90%D0%BD%D0%B0%D0%BB%D0%B8%D0%B7)), \n",
    " - RMSE для LGBMRegressor ([см.4.4](#%D0%90%D0%BD%D0%B0%D0%BB%D0%B8%D0%B7)):\n",
    "     - на обучающей выборке ~ 1530 евро,\n",
    "     - на тестовой выборке ~ 1525 евро."
   ]
  }
 ],
 "metadata": {
  "ExecuteTimeLog": [
   {
    "duration": 70,
    "start_time": "2023-05-12T09:59:12.208Z"
   },
   {
    "duration": 426,
    "start_time": "2023-05-12T09:59:15.058Z"
   },
   {
    "duration": 3,
    "start_time": "2023-05-12T09:59:16.923Z"
   },
   {
    "duration": 75,
    "start_time": "2023-05-12T09:59:19.119Z"
   },
   {
    "duration": 1079,
    "start_time": "2023-05-12T09:59:26.091Z"
   },
   {
    "duration": 105,
    "start_time": "2023-05-12T10:00:24.511Z"
   },
   {
    "duration": 335,
    "start_time": "2023-05-12T11:00:03.923Z"
   },
   {
    "duration": 68,
    "start_time": "2023-05-12T11:00:41.027Z"
   },
   {
    "duration": 82,
    "start_time": "2023-05-12T11:00:51.665Z"
   },
   {
    "duration": 71,
    "start_time": "2023-05-12T11:01:51.655Z"
   },
   {
    "duration": 90,
    "start_time": "2023-05-12T11:09:25.056Z"
   },
   {
    "duration": 117,
    "start_time": "2023-05-12T11:10:31.564Z"
   },
   {
    "duration": 69,
    "start_time": "2023-05-12T11:11:50.194Z"
   },
   {
    "duration": 67,
    "start_time": "2023-05-12T11:12:04.328Z"
   },
   {
    "duration": 73,
    "start_time": "2023-05-12T11:12:27.498Z"
   },
   {
    "duration": 81,
    "start_time": "2023-05-12T11:13:14.813Z"
   },
   {
    "duration": 80,
    "start_time": "2023-05-12T11:13:20.808Z"
   },
   {
    "duration": 36,
    "start_time": "2023-05-12T11:26:55.772Z"
   },
   {
    "duration": 33,
    "start_time": "2023-05-12T11:27:02.804Z"
   },
   {
    "duration": 465,
    "start_time": "2023-05-12T11:27:27.544Z"
   },
   {
    "duration": 10,
    "start_time": "2023-05-12T11:27:58.111Z"
   },
   {
    "duration": 24,
    "start_time": "2023-05-12T11:28:36.257Z"
   },
   {
    "duration": 7,
    "start_time": "2023-05-12T11:28:42.204Z"
   },
   {
    "duration": 10,
    "start_time": "2023-05-12T11:28:46.882Z"
   },
   {
    "duration": 742,
    "start_time": "2023-05-12T11:29:02.696Z"
   },
   {
    "duration": 182,
    "start_time": "2023-05-12T11:29:12.009Z"
   },
   {
    "duration": 577,
    "start_time": "2023-05-12T11:29:17.287Z"
   },
   {
    "duration": 241,
    "start_time": "2023-05-12T11:29:42.008Z"
   },
   {
    "duration": 456,
    "start_time": "2023-05-12T11:29:51.977Z"
   },
   {
    "duration": 421,
    "start_time": "2023-05-12T11:30:05.653Z"
   },
   {
    "duration": 514,
    "start_time": "2023-05-12T11:33:25.074Z"
   },
   {
    "duration": 319,
    "start_time": "2023-05-12T11:34:19.383Z"
   },
   {
    "duration": 36,
    "start_time": "2023-05-12T11:36:48.695Z"
   },
   {
    "duration": 35,
    "start_time": "2023-05-12T11:38:36.946Z"
   },
   {
    "duration": 45,
    "start_time": "2023-05-12T11:39:29.823Z"
   },
   {
    "duration": 50,
    "start_time": "2023-05-12T11:42:20.266Z"
   },
   {
    "duration": 69,
    "start_time": "2023-05-12T11:42:24.818Z"
   },
   {
    "duration": 1185,
    "start_time": "2023-05-12T11:42:33.424Z"
   },
   {
    "duration": 38,
    "start_time": "2023-05-12T11:43:15.194Z"
   },
   {
    "duration": 27,
    "start_time": "2023-05-12T11:43:35.340Z"
   },
   {
    "duration": 36,
    "start_time": "2023-05-12T11:44:15.174Z"
   },
   {
    "duration": 405,
    "start_time": "2023-05-12T11:48:09.154Z"
   },
   {
    "duration": 306,
    "start_time": "2023-05-12T11:48:28.836Z"
   },
   {
    "duration": 48,
    "start_time": "2023-05-15T08:02:05.803Z"
   },
   {
    "duration": 407,
    "start_time": "2023-05-15T08:02:10.320Z"
   },
   {
    "duration": 3,
    "start_time": "2023-05-15T08:02:10.729Z"
   },
   {
    "duration": 1287,
    "start_time": "2023-05-15T08:02:10.733Z"
   },
   {
    "duration": 20,
    "start_time": "2023-05-15T08:02:12.021Z"
   },
   {
    "duration": 23,
    "start_time": "2023-05-15T08:02:12.043Z"
   },
   {
    "duration": 117,
    "start_time": "2023-05-15T08:02:12.067Z"
   },
   {
    "duration": 829,
    "start_time": "2023-05-15T08:02:12.186Z"
   },
   {
    "duration": 25,
    "start_time": "2023-05-15T08:02:13.017Z"
   },
   {
    "duration": 73,
    "start_time": "2023-05-15T08:02:13.043Z"
   },
   {
    "duration": 81,
    "start_time": "2023-05-15T08:02:13.118Z"
   },
   {
    "duration": 1049,
    "start_time": "2023-05-15T08:02:44.238Z"
   },
   {
    "duration": 3,
    "start_time": "2023-05-15T08:07:52.639Z"
   },
   {
    "duration": 6,
    "start_time": "2023-05-15T08:08:06.354Z"
   },
   {
    "duration": 103,
    "start_time": "2023-05-15T08:10:12.662Z"
   },
   {
    "duration": 71,
    "start_time": "2023-05-15T08:14:10.940Z"
   },
   {
    "duration": 3,
    "start_time": "2023-05-15T08:16:53.080Z"
   },
   {
    "duration": 9,
    "start_time": "2023-05-15T08:17:13.053Z"
   },
   {
    "duration": 81,
    "start_time": "2023-05-15T08:17:23.390Z"
   },
   {
    "duration": 5,
    "start_time": "2023-05-15T08:17:57.930Z"
   },
   {
    "duration": 8,
    "start_time": "2023-05-15T08:18:22.538Z"
   },
   {
    "duration": 4,
    "start_time": "2023-05-15T08:18:35.475Z"
   },
   {
    "duration": 4,
    "start_time": "2023-05-15T08:18:59.021Z"
   },
   {
    "duration": 3,
    "start_time": "2023-05-15T08:19:01.532Z"
   },
   {
    "duration": 2080,
    "start_time": "2023-05-15T08:21:49.857Z"
   },
   {
    "duration": 1873,
    "start_time": "2023-05-15T08:22:07.335Z"
   },
   {
    "duration": 15,
    "start_time": "2023-05-15T08:23:23.914Z"
   },
   {
    "duration": 16,
    "start_time": "2023-05-15T08:23:47.908Z"
   },
   {
    "duration": 923,
    "start_time": "2023-05-15T08:25:15.796Z"
   },
   {
    "duration": 915,
    "start_time": "2023-05-15T08:25:30.427Z"
   },
   {
    "duration": 867,
    "start_time": "2023-05-15T08:30:36.021Z"
   },
   {
    "duration": 7,
    "start_time": "2023-05-15T08:31:13.326Z"
   },
   {
    "duration": 1482,
    "start_time": "2023-05-15T08:32:13.601Z"
   },
   {
    "duration": 3,
    "start_time": "2023-05-15T08:32:30.763Z"
   },
   {
    "duration": 4,
    "start_time": "2023-05-15T08:32:44.877Z"
   },
   {
    "duration": 454,
    "start_time": "2023-05-15T08:32:59.209Z"
   },
   {
    "duration": 4,
    "start_time": "2023-05-15T08:32:59.666Z"
   },
   {
    "duration": 24,
    "start_time": "2023-05-15T08:32:59.672Z"
   },
   {
    "duration": 1060,
    "start_time": "2023-05-15T08:32:59.699Z"
   },
   {
    "duration": 7,
    "start_time": "2023-05-15T08:33:00.761Z"
   },
   {
    "duration": 61,
    "start_time": "2023-05-15T08:33:00.770Z"
   },
   {
    "duration": 1082,
    "start_time": "2023-05-15T08:33:00.833Z"
   },
   {
    "duration": 0,
    "start_time": "2023-05-15T08:33:01.917Z"
   },
   {
    "duration": 0,
    "start_time": "2023-05-15T08:33:01.919Z"
   },
   {
    "duration": 0,
    "start_time": "2023-05-15T08:33:01.921Z"
   },
   {
    "duration": 0,
    "start_time": "2023-05-15T08:33:01.924Z"
   },
   {
    "duration": 0,
    "start_time": "2023-05-15T08:33:01.925Z"
   },
   {
    "duration": 0,
    "start_time": "2023-05-15T08:33:01.926Z"
   },
   {
    "duration": 0,
    "start_time": "2023-05-15T08:33:01.928Z"
   },
   {
    "duration": 0,
    "start_time": "2023-05-15T08:33:01.930Z"
   },
   {
    "duration": 0,
    "start_time": "2023-05-15T08:33:01.932Z"
   },
   {
    "duration": 0,
    "start_time": "2023-05-15T08:33:01.932Z"
   },
   {
    "duration": 0,
    "start_time": "2023-05-15T08:33:01.937Z"
   },
   {
    "duration": 4,
    "start_time": "2023-05-15T08:33:18.095Z"
   },
   {
    "duration": 6,
    "start_time": "2023-05-15T08:33:49.215Z"
   },
   {
    "duration": 3,
    "start_time": "2023-05-15T08:33:59.522Z"
   },
   {
    "duration": 4,
    "start_time": "2023-05-15T08:34:01.997Z"
   },
   {
    "duration": 4,
    "start_time": "2023-05-15T08:34:04.973Z"
   },
   {
    "duration": 3,
    "start_time": "2023-05-15T08:34:56.922Z"
   },
   {
    "duration": 3,
    "start_time": "2023-05-15T08:35:02.130Z"
   },
   {
    "duration": 4,
    "start_time": "2023-05-15T08:35:13.995Z"
   },
   {
    "duration": 4,
    "start_time": "2023-05-15T08:35:26.322Z"
   },
   {
    "duration": 416,
    "start_time": "2023-05-15T08:37:27.667Z"
   },
   {
    "duration": 4,
    "start_time": "2023-05-15T08:37:28.085Z"
   },
   {
    "duration": 11,
    "start_time": "2023-05-15T08:37:28.090Z"
   },
   {
    "duration": 979,
    "start_time": "2023-05-15T08:37:28.103Z"
   },
   {
    "duration": 5,
    "start_time": "2023-05-15T08:37:29.084Z"
   },
   {
    "duration": 13,
    "start_time": "2023-05-15T08:37:29.090Z"
   },
   {
    "duration": 2587,
    "start_time": "2023-05-15T08:37:29.104Z"
   },
   {
    "duration": 0,
    "start_time": "2023-05-15T08:37:31.693Z"
   },
   {
    "duration": 0,
    "start_time": "2023-05-15T08:37:31.695Z"
   },
   {
    "duration": 0,
    "start_time": "2023-05-15T08:37:31.696Z"
   },
   {
    "duration": 0,
    "start_time": "2023-05-15T08:37:31.697Z"
   },
   {
    "duration": 0,
    "start_time": "2023-05-15T08:37:31.699Z"
   },
   {
    "duration": 0,
    "start_time": "2023-05-15T08:37:31.700Z"
   },
   {
    "duration": 0,
    "start_time": "2023-05-15T08:37:31.701Z"
   },
   {
    "duration": 0,
    "start_time": "2023-05-15T08:37:31.702Z"
   },
   {
    "duration": 0,
    "start_time": "2023-05-15T08:37:31.703Z"
   },
   {
    "duration": 0,
    "start_time": "2023-05-15T08:37:31.705Z"
   },
   {
    "duration": 0,
    "start_time": "2023-05-15T08:37:31.706Z"
   },
   {
    "duration": 3,
    "start_time": "2023-05-15T08:37:41.340Z"
   },
   {
    "duration": 3,
    "start_time": "2023-05-15T08:38:03.846Z"
   },
   {
    "duration": 429,
    "start_time": "2023-05-15T08:38:37.627Z"
   },
   {
    "duration": 4,
    "start_time": "2023-05-15T08:38:38.059Z"
   },
   {
    "duration": 21,
    "start_time": "2023-05-15T08:38:38.065Z"
   },
   {
    "duration": 928,
    "start_time": "2023-05-15T08:38:38.088Z"
   },
   {
    "duration": 6,
    "start_time": "2023-05-15T08:38:39.019Z"
   },
   {
    "duration": 7,
    "start_time": "2023-05-15T08:38:39.026Z"
   },
   {
    "duration": 4253,
    "start_time": "2023-05-15T08:38:39.035Z"
   },
   {
    "duration": 0,
    "start_time": "2023-05-15T08:38:43.289Z"
   },
   {
    "duration": 0,
    "start_time": "2023-05-15T08:38:43.291Z"
   },
   {
    "duration": 0,
    "start_time": "2023-05-15T08:38:43.292Z"
   },
   {
    "duration": 0,
    "start_time": "2023-05-15T08:38:43.293Z"
   },
   {
    "duration": 0,
    "start_time": "2023-05-15T08:38:43.294Z"
   },
   {
    "duration": 0,
    "start_time": "2023-05-15T08:38:43.295Z"
   },
   {
    "duration": 0,
    "start_time": "2023-05-15T08:38:43.297Z"
   },
   {
    "duration": 0,
    "start_time": "2023-05-15T08:38:43.298Z"
   },
   {
    "duration": 0,
    "start_time": "2023-05-15T08:38:43.299Z"
   },
   {
    "duration": 0,
    "start_time": "2023-05-15T08:38:43.300Z"
   },
   {
    "duration": 0,
    "start_time": "2023-05-15T08:38:43.301Z"
   },
   {
    "duration": 100,
    "start_time": "2023-05-15T08:39:09.571Z"
   },
   {
    "duration": 388,
    "start_time": "2023-05-15T08:39:19.313Z"
   },
   {
    "duration": 3,
    "start_time": "2023-05-15T08:39:19.703Z"
   },
   {
    "duration": 15,
    "start_time": "2023-05-15T08:39:19.708Z"
   },
   {
    "duration": 913,
    "start_time": "2023-05-15T08:39:19.725Z"
   },
   {
    "duration": 7,
    "start_time": "2023-05-15T08:39:20.640Z"
   },
   {
    "duration": 130,
    "start_time": "2023-05-15T08:39:20.656Z"
   },
   {
    "duration": 88,
    "start_time": "2023-05-15T08:39:20.788Z"
   },
   {
    "duration": 88,
    "start_time": "2023-05-15T08:39:20.878Z"
   },
   {
    "duration": 262,
    "start_time": "2023-05-15T08:39:20.968Z"
   },
   {
    "duration": 41,
    "start_time": "2023-05-15T08:39:21.233Z"
   },
   {
    "duration": 0,
    "start_time": "2023-05-15T08:39:21.276Z"
   },
   {
    "duration": 0,
    "start_time": "2023-05-15T08:39:21.277Z"
   },
   {
    "duration": 0,
    "start_time": "2023-05-15T08:39:21.278Z"
   },
   {
    "duration": 0,
    "start_time": "2023-05-15T08:39:21.279Z"
   },
   {
    "duration": 0,
    "start_time": "2023-05-15T08:39:21.280Z"
   },
   {
    "duration": 0,
    "start_time": "2023-05-15T08:39:21.281Z"
   },
   {
    "duration": 0,
    "start_time": "2023-05-15T08:39:21.282Z"
   },
   {
    "duration": 405,
    "start_time": "2023-05-15T08:42:51.654Z"
   },
   {
    "duration": 290,
    "start_time": "2023-05-15T08:44:00.384Z"
   },
   {
    "duration": 272,
    "start_time": "2023-05-15T08:45:06.444Z"
   },
   {
    "duration": 338,
    "start_time": "2023-05-15T08:45:12.780Z"
   },
   {
    "duration": 374,
    "start_time": "2023-05-15T08:45:20.382Z"
   },
   {
    "duration": 345,
    "start_time": "2023-05-15T08:45:31.511Z"
   },
   {
    "duration": 273,
    "start_time": "2023-05-15T08:45:36.799Z"
   },
   {
    "duration": 87,
    "start_time": "2023-05-15T08:47:04.862Z"
   },
   {
    "duration": 43,
    "start_time": "2023-05-15T08:47:48.999Z"
   },
   {
    "duration": 105,
    "start_time": "2023-05-15T08:48:00.160Z"
   },
   {
    "duration": 78,
    "start_time": "2023-05-15T08:57:52.851Z"
   },
   {
    "duration": 409,
    "start_time": "2023-05-15T09:00:14.189Z"
   },
   {
    "duration": 4,
    "start_time": "2023-05-15T09:00:14.600Z"
   },
   {
    "duration": 13,
    "start_time": "2023-05-15T09:00:14.606Z"
   },
   {
    "duration": 971,
    "start_time": "2023-05-15T09:00:14.621Z"
   },
   {
    "duration": 7,
    "start_time": "2023-05-15T09:00:15.593Z"
   },
   {
    "duration": 145,
    "start_time": "2023-05-15T09:00:15.602Z"
   },
   {
    "duration": 70,
    "start_time": "2023-05-15T09:00:15.749Z"
   },
   {
    "duration": 287,
    "start_time": "2023-05-15T09:00:15.820Z"
   },
   {
    "duration": 79,
    "start_time": "2023-05-15T09:00:16.109Z"
   },
   {
    "duration": 2,
    "start_time": "2023-05-15T09:00:16.190Z"
   },
   {
    "duration": 125,
    "start_time": "2023-05-15T09:00:16.193Z"
   },
   {
    "duration": 3728,
    "start_time": "2023-05-15T09:00:16.319Z"
   },
   {
    "duration": 0,
    "start_time": "2023-05-15T09:00:20.050Z"
   },
   {
    "duration": 0,
    "start_time": "2023-05-15T09:00:20.051Z"
   },
   {
    "duration": 0,
    "start_time": "2023-05-15T09:00:20.052Z"
   },
   {
    "duration": 0,
    "start_time": "2023-05-15T09:00:20.053Z"
   },
   {
    "duration": 0,
    "start_time": "2023-05-15T09:00:20.053Z"
   },
   {
    "duration": 0,
    "start_time": "2023-05-15T09:00:20.055Z"
   },
   {
    "duration": 23,
    "start_time": "2023-05-15T09:00:35.421Z"
   },
   {
    "duration": 3,
    "start_time": "2023-05-15T09:17:00.984Z"
   },
   {
    "duration": 76,
    "start_time": "2023-05-15T09:17:14.187Z"
   },
   {
    "duration": 31,
    "start_time": "2023-05-15T09:24:50.223Z"
   },
   {
    "duration": 32,
    "start_time": "2023-05-15T09:33:52.319Z"
   },
   {
    "duration": 77,
    "start_time": "2023-05-15T09:37:11.120Z"
   },
   {
    "duration": 43,
    "start_time": "2023-05-15T09:37:35.745Z"
   },
   {
    "duration": 108,
    "start_time": "2023-05-15T09:42:23.585Z"
   },
   {
    "duration": 52,
    "start_time": "2023-05-15T09:43:14.885Z"
   },
   {
    "duration": 1966,
    "start_time": "2023-05-15T09:46:26.599Z"
   },
   {
    "duration": 59,
    "start_time": "2023-05-15T09:46:53.184Z"
   },
   {
    "duration": 46,
    "start_time": "2023-05-15T09:47:58.245Z"
   },
   {
    "duration": 48,
    "start_time": "2023-05-15T09:48:04.121Z"
   },
   {
    "duration": 56,
    "start_time": "2023-05-15T09:48:19.085Z"
   },
   {
    "duration": 29,
    "start_time": "2023-05-15T09:50:32.184Z"
   },
   {
    "duration": 28,
    "start_time": "2023-05-15T09:50:52.542Z"
   },
   {
    "duration": 393,
    "start_time": "2023-05-15T09:51:00.079Z"
   },
   {
    "duration": 29,
    "start_time": "2023-05-15T09:51:02.831Z"
   },
   {
    "duration": 33,
    "start_time": "2023-05-15T09:51:08.730Z"
   },
   {
    "duration": 42,
    "start_time": "2023-05-15T09:51:43.619Z"
   },
   {
    "duration": 41,
    "start_time": "2023-05-15T09:51:47.513Z"
   },
   {
    "duration": 23,
    "start_time": "2023-05-15T10:10:19.305Z"
   },
   {
    "duration": 22,
    "start_time": "2023-05-15T10:10:47.715Z"
   },
   {
    "duration": 38,
    "start_time": "2023-05-15T10:11:02.660Z"
   },
   {
    "duration": 22,
    "start_time": "2023-05-15T10:11:14.804Z"
   },
   {
    "duration": 25,
    "start_time": "2023-05-15T10:11:19.024Z"
   },
   {
    "duration": 34,
    "start_time": "2023-05-15T10:11:23.235Z"
   },
   {
    "duration": 28,
    "start_time": "2023-05-15T10:11:41.701Z"
   },
   {
    "duration": 427,
    "start_time": "2023-05-15T10:12:22.072Z"
   },
   {
    "duration": 25,
    "start_time": "2023-05-15T10:12:30.128Z"
   },
   {
    "duration": 86,
    "start_time": "2023-05-15T10:32:48.110Z"
   },
   {
    "duration": 181,
    "start_time": "2023-05-15T10:33:15.472Z"
   },
   {
    "duration": 92,
    "start_time": "2023-05-15T10:33:29.424Z"
   },
   {
    "duration": 5,
    "start_time": "2023-05-15T10:33:33.520Z"
   },
   {
    "duration": 191,
    "start_time": "2023-05-15T10:33:35.433Z"
   },
   {
    "duration": 5,
    "start_time": "2023-05-15T10:34:35.020Z"
   },
   {
    "duration": 203,
    "start_time": "2023-05-15T10:34:37.948Z"
   },
   {
    "duration": 105,
    "start_time": "2023-05-15T10:35:06.732Z"
   },
   {
    "duration": 12,
    "start_time": "2023-05-15T10:35:25.984Z"
   },
   {
    "duration": 5,
    "start_time": "2023-05-15T10:36:46.780Z"
   },
   {
    "duration": 175,
    "start_time": "2023-05-15T10:36:48.524Z"
   },
   {
    "duration": 9,
    "start_time": "2023-05-15T10:37:10.477Z"
   },
   {
    "duration": 4,
    "start_time": "2023-05-15T10:37:24.525Z"
   },
   {
    "duration": 7,
    "start_time": "2023-05-15T10:37:30.725Z"
   },
   {
    "duration": 9,
    "start_time": "2023-05-15T10:37:34.602Z"
   },
   {
    "duration": 16,
    "start_time": "2023-05-15T10:37:38.501Z"
   },
   {
    "duration": 4,
    "start_time": "2023-05-15T10:37:44.150Z"
   },
   {
    "duration": 5,
    "start_time": "2023-05-15T10:37:49.315Z"
   },
   {
    "duration": 11,
    "start_time": "2023-05-15T10:38:18.255Z"
   },
   {
    "duration": 102,
    "start_time": "2023-05-15T10:38:20.625Z"
   },
   {
    "duration": 9,
    "start_time": "2023-05-15T10:38:26.257Z"
   },
   {
    "duration": 99,
    "start_time": "2023-05-15T10:38:29.722Z"
   },
   {
    "duration": 127,
    "start_time": "2023-05-15T10:39:40.800Z"
   },
   {
    "duration": 7,
    "start_time": "2023-05-15T10:40:06.672Z"
   },
   {
    "duration": 6,
    "start_time": "2023-05-15T10:40:33.223Z"
   },
   {
    "duration": 223127,
    "start_time": "2023-05-15T10:41:01.948Z"
   },
   {
    "duration": 4,
    "start_time": "2023-05-15T10:53:21.141Z"
   },
   {
    "duration": 345494,
    "start_time": "2023-05-15T10:53:36.888Z"
   },
   {
    "duration": 41,
    "start_time": "2023-05-15T10:59:43.285Z"
   },
   {
    "duration": 66,
    "start_time": "2023-05-15T11:01:04.699Z"
   },
   {
    "duration": 124,
    "start_time": "2023-05-15T11:01:28.144Z"
   },
   {
    "duration": 5,
    "start_time": "2023-05-15T11:03:30.897Z"
   },
   {
    "duration": 19890,
    "start_time": "2023-05-15T11:03:37.143Z"
   },
   {
    "duration": 5,
    "start_time": "2023-05-15T11:04:06.888Z"
   },
   {
    "duration": 224597,
    "start_time": "2023-05-15T11:04:13.834Z"
   },
   {
    "duration": 31,
    "start_time": "2023-05-15T11:10:02.696Z"
   },
   {
    "duration": 8,
    "start_time": "2023-05-15T11:10:31.574Z"
   },
   {
    "duration": 7,
    "start_time": "2023-05-15T11:10:48.986Z"
   },
   {
    "duration": 94,
    "start_time": "2023-05-15T11:10:51.078Z"
   },
   {
    "duration": 1075283,
    "start_time": "2023-05-15T11:11:50.354Z"
   },
   {
    "duration": 21,
    "start_time": "2023-05-15T11:33:33.485Z"
   },
   {
    "duration": 30,
    "start_time": "2023-05-15T11:43:35.808Z"
   },
   {
    "duration": 24,
    "start_time": "2023-05-15T11:44:52.339Z"
   },
   {
    "duration": 34,
    "start_time": "2023-05-15T11:45:12.052Z"
   },
   {
    "duration": 28,
    "start_time": "2023-05-15T11:45:44.288Z"
   },
   {
    "duration": 39,
    "start_time": "2023-05-15T11:45:49.009Z"
   },
   {
    "duration": 23,
    "start_time": "2023-05-15T11:50:53.381Z"
   },
   {
    "duration": 423,
    "start_time": "2023-05-15T11:51:13.997Z"
   },
   {
    "duration": 3,
    "start_time": "2023-05-15T11:51:14.422Z"
   },
   {
    "duration": 11,
    "start_time": "2023-05-15T11:51:14.427Z"
   },
   {
    "duration": 1091,
    "start_time": "2023-05-15T11:51:14.439Z"
   },
   {
    "duration": 6,
    "start_time": "2023-05-15T11:51:15.533Z"
   },
   {
    "duration": 145,
    "start_time": "2023-05-15T11:51:15.560Z"
   },
   {
    "duration": 97,
    "start_time": "2023-05-15T11:51:15.707Z"
   },
   {
    "duration": 326,
    "start_time": "2023-05-15T11:51:15.807Z"
   },
   {
    "duration": 4,
    "start_time": "2023-05-15T11:51:16.135Z"
   },
   {
    "duration": 114,
    "start_time": "2023-05-15T11:51:16.141Z"
   },
   {
    "duration": 41,
    "start_time": "2023-05-15T11:51:16.265Z"
   },
   {
    "duration": 31,
    "start_time": "2023-05-15T11:51:16.308Z"
   },
   {
    "duration": 80,
    "start_time": "2023-05-15T11:51:16.341Z"
   },
   {
    "duration": 75,
    "start_time": "2023-05-15T11:51:16.424Z"
   },
   {
    "duration": 45,
    "start_time": "2023-05-15T11:51:16.503Z"
   },
   {
    "duration": 58,
    "start_time": "2023-05-15T11:51:16.549Z"
   },
   {
    "duration": 5,
    "start_time": "2023-05-15T11:51:16.609Z"
   },
   {
    "duration": 104,
    "start_time": "2023-05-15T11:51:16.616Z"
   },
   {
    "duration": 16,
    "start_time": "2023-05-15T11:51:16.722Z"
   },
   {
    "duration": 131,
    "start_time": "2023-05-15T11:51:16.739Z"
   },
   {
    "duration": 39,
    "start_time": "2023-05-15T11:51:16.875Z"
   },
   {
    "duration": 23,
    "start_time": "2023-05-15T11:51:16.916Z"
   },
   {
    "duration": 15,
    "start_time": "2023-05-15T11:51:16.968Z"
   },
   {
    "duration": 40,
    "start_time": "2023-05-15T11:51:16.991Z"
   },
   {
    "duration": 3,
    "start_time": "2023-05-15T11:51:17.033Z"
   },
   {
    "duration": 110,
    "start_time": "2023-05-15T11:51:17.038Z"
   },
   {
    "duration": 2395,
    "start_time": "2023-05-15T11:51:17.150Z"
   },
   {
    "duration": 0,
    "start_time": "2023-05-15T11:51:19.548Z"
   },
   {
    "duration": 0,
    "start_time": "2023-05-15T11:51:19.549Z"
   },
   {
    "duration": 0,
    "start_time": "2023-05-15T11:51:19.551Z"
   },
   {
    "duration": 1,
    "start_time": "2023-05-15T11:51:19.552Z"
   },
   {
    "duration": 0,
    "start_time": "2023-05-15T11:51:19.554Z"
   },
   {
    "duration": 0,
    "start_time": "2023-05-15T11:51:19.556Z"
   },
   {
    "duration": 55,
    "start_time": "2023-05-15T11:56:09.458Z"
   },
   {
    "duration": 22,
    "start_time": "2023-05-15T11:56:20.083Z"
   },
   {
    "duration": 487,
    "start_time": "2023-05-15T11:56:28.484Z"
   },
   {
    "duration": 6,
    "start_time": "2023-05-15T11:56:28.974Z"
   },
   {
    "duration": 43,
    "start_time": "2023-05-15T11:56:28.983Z"
   },
   {
    "duration": 1207,
    "start_time": "2023-05-15T11:56:29.032Z"
   },
   {
    "duration": 5,
    "start_time": "2023-05-15T11:56:30.242Z"
   },
   {
    "duration": 201,
    "start_time": "2023-05-15T11:56:30.249Z"
   },
   {
    "duration": 132,
    "start_time": "2023-05-15T11:56:30.452Z"
   },
   {
    "duration": 386,
    "start_time": "2023-05-15T11:56:30.586Z"
   },
   {
    "duration": 12,
    "start_time": "2023-05-15T11:56:30.974Z"
   },
   {
    "duration": 225,
    "start_time": "2023-05-15T11:56:30.993Z"
   },
   {
    "duration": 69,
    "start_time": "2023-05-15T11:56:31.221Z"
   },
   {
    "duration": 42,
    "start_time": "2023-05-15T11:56:31.291Z"
   },
   {
    "duration": 61,
    "start_time": "2023-05-15T11:56:31.335Z"
   },
   {
    "duration": 46,
    "start_time": "2023-05-15T11:56:31.409Z"
   },
   {
    "duration": 65,
    "start_time": "2023-05-15T11:56:31.464Z"
   },
   {
    "duration": 80,
    "start_time": "2023-05-15T11:56:31.531Z"
   },
   {
    "duration": 6,
    "start_time": "2023-05-15T11:56:31.615Z"
   },
   {
    "duration": 141,
    "start_time": "2023-05-15T11:56:31.622Z"
   },
   {
    "duration": 19,
    "start_time": "2023-05-15T11:56:31.765Z"
   },
   {
    "duration": 142,
    "start_time": "2023-05-15T11:56:31.786Z"
   },
   {
    "duration": 55,
    "start_time": "2023-05-15T11:56:31.930Z"
   },
   {
    "duration": 65,
    "start_time": "2023-05-15T11:56:31.987Z"
   },
   {
    "duration": 72,
    "start_time": "2023-05-15T11:56:32.054Z"
   },
   {
    "duration": 85,
    "start_time": "2023-05-15T11:56:32.128Z"
   },
   {
    "duration": 6,
    "start_time": "2023-05-15T11:56:32.215Z"
   },
   {
    "duration": 106,
    "start_time": "2023-05-15T11:56:32.222Z"
   },
   {
    "duration": 1692,
    "start_time": "2023-05-15T11:56:32.330Z"
   },
   {
    "duration": 0,
    "start_time": "2023-05-15T11:56:34.024Z"
   },
   {
    "duration": 0,
    "start_time": "2023-05-15T11:56:34.025Z"
   },
   {
    "duration": 0,
    "start_time": "2023-05-15T11:56:34.026Z"
   },
   {
    "duration": 0,
    "start_time": "2023-05-15T11:56:34.028Z"
   },
   {
    "duration": 0,
    "start_time": "2023-05-15T11:56:34.029Z"
   },
   {
    "duration": 0,
    "start_time": "2023-05-15T11:56:34.031Z"
   },
   {
    "duration": 37,
    "start_time": "2023-05-15T11:58:28.804Z"
   },
   {
    "duration": 80,
    "start_time": "2023-05-15T12:00:00.447Z"
   },
   {
    "duration": 449,
    "start_time": "2023-05-15T12:00:42.925Z"
   },
   {
    "duration": 5,
    "start_time": "2023-05-15T12:00:43.377Z"
   },
   {
    "duration": 27,
    "start_time": "2023-05-15T12:00:43.383Z"
   },
   {
    "duration": 1027,
    "start_time": "2023-05-15T12:00:43.413Z"
   },
   {
    "duration": 5,
    "start_time": "2023-05-15T12:00:44.441Z"
   },
   {
    "duration": 148,
    "start_time": "2023-05-15T12:00:44.456Z"
   },
   {
    "duration": 171,
    "start_time": "2023-05-15T12:00:44.606Z"
   },
   {
    "duration": 1110,
    "start_time": "2023-05-15T12:00:44.787Z"
   },
   {
    "duration": 4,
    "start_time": "2023-05-15T12:00:45.900Z"
   },
   {
    "duration": 162,
    "start_time": "2023-05-15T12:00:45.907Z"
   },
   {
    "duration": 46,
    "start_time": "2023-05-15T12:00:46.071Z"
   },
   {
    "duration": 50,
    "start_time": "2023-05-15T12:00:46.119Z"
   },
   {
    "duration": 49,
    "start_time": "2023-05-15T12:00:46.171Z"
   },
   {
    "duration": 78,
    "start_time": "2023-05-15T12:00:46.222Z"
   },
   {
    "duration": 60,
    "start_time": "2023-05-15T12:00:46.302Z"
   },
   {
    "duration": 72,
    "start_time": "2023-05-15T12:00:46.364Z"
   },
   {
    "duration": 5,
    "start_time": "2023-05-15T12:00:46.438Z"
   },
   {
    "duration": 153,
    "start_time": "2023-05-15T12:00:46.445Z"
   },
   {
    "duration": 26,
    "start_time": "2023-05-15T12:00:46.600Z"
   },
   {
    "duration": 216,
    "start_time": "2023-05-15T12:00:46.629Z"
   },
   {
    "duration": 36,
    "start_time": "2023-05-15T12:00:46.847Z"
   },
   {
    "duration": 35,
    "start_time": "2023-05-15T12:00:46.888Z"
   },
   {
    "duration": 12,
    "start_time": "2023-05-15T12:00:46.925Z"
   },
   {
    "duration": 52,
    "start_time": "2023-05-15T12:00:46.939Z"
   },
   {
    "duration": 3,
    "start_time": "2023-05-15T12:00:46.993Z"
   },
   {
    "duration": 8,
    "start_time": "2023-05-15T12:00:46.998Z"
   },
   {
    "duration": 2810,
    "start_time": "2023-05-15T12:00:47.008Z"
   },
   {
    "duration": 0,
    "start_time": "2023-05-15T12:00:49.821Z"
   },
   {
    "duration": 0,
    "start_time": "2023-05-15T12:00:49.822Z"
   },
   {
    "duration": 0,
    "start_time": "2023-05-15T12:00:49.823Z"
   },
   {
    "duration": 1,
    "start_time": "2023-05-15T12:00:49.824Z"
   },
   {
    "duration": 0,
    "start_time": "2023-05-15T12:00:49.826Z"
   },
   {
    "duration": 0,
    "start_time": "2023-05-15T12:00:49.828Z"
   },
   {
    "duration": 422,
    "start_time": "2023-05-16T07:32:46.863Z"
   },
   {
    "duration": 3,
    "start_time": "2023-05-16T07:32:47.287Z"
   },
   {
    "duration": 19,
    "start_time": "2023-05-16T07:32:47.292Z"
   },
   {
    "duration": 3081,
    "start_time": "2023-05-16T07:32:47.312Z"
   },
   {
    "duration": 107,
    "start_time": "2023-05-16T07:32:50.395Z"
   },
   {
    "duration": 109,
    "start_time": "2023-05-16T07:32:50.504Z"
   },
   {
    "duration": 933,
    "start_time": "2023-05-16T07:32:50.614Z"
   },
   {
    "duration": 5,
    "start_time": "2023-05-16T07:32:51.557Z"
   },
   {
    "duration": 5,
    "start_time": "2023-05-16T07:32:51.564Z"
   },
   {
    "duration": 132,
    "start_time": "2023-05-16T07:32:51.571Z"
   },
   {
    "duration": 40,
    "start_time": "2023-05-16T07:32:51.705Z"
   },
   {
    "duration": 36,
    "start_time": "2023-05-16T07:32:51.757Z"
   },
   {
    "duration": 38,
    "start_time": "2023-05-16T07:32:51.795Z"
   },
   {
    "duration": 67,
    "start_time": "2023-05-16T07:32:51.835Z"
   },
   {
    "duration": 59,
    "start_time": "2023-05-16T07:32:51.904Z"
   },
   {
    "duration": 68,
    "start_time": "2023-05-16T07:32:51.965Z"
   },
   {
    "duration": 5,
    "start_time": "2023-05-16T07:32:52.035Z"
   },
   {
    "duration": 123,
    "start_time": "2023-05-16T07:32:52.041Z"
   },
   {
    "duration": 21,
    "start_time": "2023-05-16T07:32:52.166Z"
   },
   {
    "duration": 164,
    "start_time": "2023-05-16T07:32:52.189Z"
   },
   {
    "duration": 30,
    "start_time": "2023-05-16T07:32:52.357Z"
   },
   {
    "duration": 34,
    "start_time": "2023-05-16T07:32:52.390Z"
   },
   {
    "duration": 16,
    "start_time": "2023-05-16T07:32:52.425Z"
   },
   {
    "duration": 48,
    "start_time": "2023-05-16T07:32:52.443Z"
   },
   {
    "duration": 2,
    "start_time": "2023-05-16T07:32:52.493Z"
   },
   {
    "duration": 4,
    "start_time": "2023-05-16T07:32:52.497Z"
   },
   {
    "duration": 850,
    "start_time": "2023-05-16T07:32:52.503Z"
   },
   {
    "duration": 0,
    "start_time": "2023-05-16T07:32:53.356Z"
   },
   {
    "duration": 0,
    "start_time": "2023-05-16T07:32:53.357Z"
   },
   {
    "duration": 0,
    "start_time": "2023-05-16T07:32:53.359Z"
   },
   {
    "duration": 0,
    "start_time": "2023-05-16T07:32:53.361Z"
   },
   {
    "duration": 0,
    "start_time": "2023-05-16T07:32:53.363Z"
   },
   {
    "duration": 0,
    "start_time": "2023-05-16T07:32:53.364Z"
   },
   {
    "duration": 61,
    "start_time": "2023-05-16T07:37:23.011Z"
   },
   {
    "duration": 69,
    "start_time": "2023-05-16T07:37:29.773Z"
   },
   {
    "duration": 19,
    "start_time": "2023-05-16T07:37:45.390Z"
   },
   {
    "duration": 689,
    "start_time": "2023-05-16T07:38:39.541Z"
   },
   {
    "duration": 397,
    "start_time": "2023-05-16T07:38:58.551Z"
   },
   {
    "duration": 57,
    "start_time": "2023-05-16T07:40:19.924Z"
   },
   {
    "duration": 332,
    "start_time": "2023-05-16T07:40:30.941Z"
   },
   {
    "duration": 43,
    "start_time": "2023-05-16T07:40:51.950Z"
   },
   {
    "duration": 5,
    "start_time": "2023-05-16T07:40:55.424Z"
   },
   {
    "duration": 4,
    "start_time": "2023-05-16T07:40:59.492Z"
   },
   {
    "duration": 315,
    "start_time": "2023-05-16T07:42:31.090Z"
   },
   {
    "duration": 419,
    "start_time": "2023-05-16T07:42:56.745Z"
   },
   {
    "duration": 504,
    "start_time": "2023-05-16T07:43:26.815Z"
   },
   {
    "duration": 437,
    "start_time": "2023-05-16T07:47:11.189Z"
   },
   {
    "duration": 594,
    "start_time": "2023-05-16T07:47:25.120Z"
   },
   {
    "duration": 690,
    "start_time": "2023-05-16T07:47:41.161Z"
   },
   {
    "duration": 522,
    "start_time": "2023-05-16T07:47:58.137Z"
   },
   {
    "duration": 726,
    "start_time": "2023-05-16T07:48:07.255Z"
   },
   {
    "duration": 634,
    "start_time": "2023-05-16T07:48:28.819Z"
   },
   {
    "duration": 390,
    "start_time": "2023-05-16T07:48:51.080Z"
   },
   {
    "duration": 46,
    "start_time": "2023-05-16T07:49:54.120Z"
   },
   {
    "duration": 371,
    "start_time": "2023-05-16T07:50:25.861Z"
   },
   {
    "duration": 480,
    "start_time": "2023-05-16T07:50:58.256Z"
   },
   {
    "duration": 516,
    "start_time": "2023-05-16T07:51:09.357Z"
   },
   {
    "duration": 284,
    "start_time": "2023-05-16T07:52:30.607Z"
   },
   {
    "duration": 420,
    "start_time": "2023-05-16T07:52:39.424Z"
   },
   {
    "duration": 34,
    "start_time": "2023-05-16T07:55:37.618Z"
   },
   {
    "duration": 7,
    "start_time": "2023-05-16T08:01:49.498Z"
   },
   {
    "duration": 20,
    "start_time": "2023-05-16T08:01:57.478Z"
   },
   {
    "duration": 27,
    "start_time": "2023-05-16T08:02:05.263Z"
   },
   {
    "duration": 14,
    "start_time": "2023-05-16T08:03:10.140Z"
   },
   {
    "duration": 48,
    "start_time": "2023-05-16T08:03:36.158Z"
   },
   {
    "duration": 24,
    "start_time": "2023-05-16T08:07:54.522Z"
   },
   {
    "duration": 56,
    "start_time": "2023-05-16T08:09:58.342Z"
   },
   {
    "duration": 27,
    "start_time": "2023-05-16T08:10:04.964Z"
   },
   {
    "duration": 37,
    "start_time": "2023-05-16T08:11:32.751Z"
   },
   {
    "duration": 30,
    "start_time": "2023-05-16T08:12:19.929Z"
   },
   {
    "duration": 19,
    "start_time": "2023-05-16T08:12:40.754Z"
   },
   {
    "duration": 21,
    "start_time": "2023-05-16T08:13:10.683Z"
   },
   {
    "duration": 18,
    "start_time": "2023-05-16T08:13:25.004Z"
   },
   {
    "duration": 22,
    "start_time": "2023-05-16T08:14:51.185Z"
   },
   {
    "duration": 91,
    "start_time": "2023-05-16T08:15:27.076Z"
   },
   {
    "duration": 27,
    "start_time": "2023-05-16T08:21:07.982Z"
   },
   {
    "duration": 25,
    "start_time": "2023-05-16T08:21:47.585Z"
   },
   {
    "duration": 17,
    "start_time": "2023-05-16T08:23:49.210Z"
   },
   {
    "duration": 18,
    "start_time": "2023-05-16T08:23:54.679Z"
   },
   {
    "duration": 17,
    "start_time": "2023-05-16T08:24:08.695Z"
   },
   {
    "duration": 15,
    "start_time": "2023-05-16T08:24:12.200Z"
   },
   {
    "duration": 16,
    "start_time": "2023-05-16T08:24:22.193Z"
   },
   {
    "duration": 17,
    "start_time": "2023-05-16T08:24:38.594Z"
   },
   {
    "duration": 19,
    "start_time": "2023-05-16T08:24:41.217Z"
   },
   {
    "duration": 17,
    "start_time": "2023-05-16T08:24:45.338Z"
   },
   {
    "duration": 33,
    "start_time": "2023-05-16T08:24:58.050Z"
   },
   {
    "duration": 14,
    "start_time": "2023-05-16T08:25:02.819Z"
   },
   {
    "duration": 24,
    "start_time": "2023-05-16T08:25:08.945Z"
   },
   {
    "duration": 6,
    "start_time": "2023-05-16T08:25:47.797Z"
   },
   {
    "duration": 56,
    "start_time": "2023-05-16T08:28:56.376Z"
   },
   {
    "duration": 3445,
    "start_time": "2023-05-16T08:30:02.000Z"
   },
   {
    "duration": 35,
    "start_time": "2023-05-16T08:30:19.681Z"
   },
   {
    "duration": 18,
    "start_time": "2023-05-16T08:32:30.756Z"
   },
   {
    "duration": 40,
    "start_time": "2023-05-16T08:32:35.396Z"
   },
   {
    "duration": 54,
    "start_time": "2023-05-16T08:33:20.134Z"
   },
   {
    "duration": 24,
    "start_time": "2023-05-16T08:35:22.781Z"
   },
   {
    "duration": 23,
    "start_time": "2023-05-16T08:36:56.385Z"
   },
   {
    "duration": 26,
    "start_time": "2023-05-16T08:38:02.687Z"
   },
   {
    "duration": 23,
    "start_time": "2023-05-16T08:38:18.696Z"
   },
   {
    "duration": 26,
    "start_time": "2023-05-16T08:38:30.120Z"
   },
   {
    "duration": 32,
    "start_time": "2023-05-16T08:38:54.757Z"
   },
   {
    "duration": 23,
    "start_time": "2023-05-16T08:39:06.241Z"
   },
   {
    "duration": 1096,
    "start_time": "2023-05-16T09:45:56.469Z"
   },
   {
    "duration": 16,
    "start_time": "2023-05-16T09:48:32.771Z"
   },
   {
    "duration": 411,
    "start_time": "2023-05-16T09:49:04.459Z"
   },
   {
    "duration": 3,
    "start_time": "2023-05-16T09:49:04.872Z"
   },
   {
    "duration": 15,
    "start_time": "2023-05-16T09:49:04.878Z"
   },
   {
    "duration": 939,
    "start_time": "2023-05-16T09:49:04.896Z"
   },
   {
    "duration": 124,
    "start_time": "2023-05-16T09:49:05.837Z"
   },
   {
    "duration": 132,
    "start_time": "2023-05-16T09:49:05.963Z"
   },
   {
    "duration": 959,
    "start_time": "2023-05-16T09:49:06.098Z"
   },
   {
    "duration": 6,
    "start_time": "2023-05-16T09:49:07.059Z"
   },
   {
    "duration": 553,
    "start_time": "2023-05-16T09:49:07.066Z"
   },
   {
    "duration": 113,
    "start_time": "2023-05-16T09:49:07.623Z"
   },
   {
    "duration": 75,
    "start_time": "2023-05-16T09:49:07.738Z"
   },
   {
    "duration": 431,
    "start_time": "2023-05-16T09:49:07.815Z"
   },
   {
    "duration": 67,
    "start_time": "2023-05-16T09:49:08.249Z"
   },
   {
    "duration": 515,
    "start_time": "2023-05-16T09:49:08.318Z"
   },
   {
    "duration": 61,
    "start_time": "2023-05-16T09:49:08.837Z"
   },
   {
    "duration": 35,
    "start_time": "2023-05-16T09:49:08.901Z"
   },
   {
    "duration": 83,
    "start_time": "2023-05-16T09:49:08.939Z"
   },
   {
    "duration": 40,
    "start_time": "2023-05-16T09:49:09.024Z"
   },
   {
    "duration": 24,
    "start_time": "2023-05-16T09:49:09.068Z"
   },
   {
    "duration": 13,
    "start_time": "2023-05-16T09:49:09.094Z"
   },
   {
    "duration": 68,
    "start_time": "2023-05-16T09:49:09.109Z"
   },
   {
    "duration": 25,
    "start_time": "2023-05-16T09:49:09.179Z"
   },
   {
    "duration": 15,
    "start_time": "2023-05-16T09:49:09.206Z"
   },
   {
    "duration": 74,
    "start_time": "2023-05-16T09:49:09.224Z"
   },
   {
    "duration": 24,
    "start_time": "2023-05-16T09:49:09.300Z"
   },
   {
    "duration": 54,
    "start_time": "2023-05-16T09:49:09.325Z"
   },
   {
    "duration": 10,
    "start_time": "2023-05-16T09:49:09.381Z"
   },
   {
    "duration": 65,
    "start_time": "2023-05-16T09:49:09.395Z"
   },
   {
    "duration": 4,
    "start_time": "2023-05-16T09:49:09.461Z"
   },
   {
    "duration": 105,
    "start_time": "2023-05-16T09:49:09.467Z"
   },
   {
    "duration": 29,
    "start_time": "2023-05-16T09:49:09.574Z"
   },
   {
    "duration": 52,
    "start_time": "2023-05-16T09:49:09.605Z"
   },
   {
    "duration": 33,
    "start_time": "2023-05-16T09:49:09.660Z"
   },
   {
    "duration": 37,
    "start_time": "2023-05-16T09:49:09.696Z"
   },
   {
    "duration": 37,
    "start_time": "2023-05-16T09:49:09.756Z"
   },
   {
    "duration": 68,
    "start_time": "2023-05-16T09:49:09.795Z"
   },
   {
    "duration": 4,
    "start_time": "2023-05-16T09:49:09.865Z"
   },
   {
    "duration": 98,
    "start_time": "2023-05-16T09:49:09.871Z"
   },
   {
    "duration": 18,
    "start_time": "2023-05-16T09:49:09.971Z"
   },
   {
    "duration": 135,
    "start_time": "2023-05-16T09:49:09.990Z"
   },
   {
    "duration": 31,
    "start_time": "2023-05-16T09:49:10.127Z"
   },
   {
    "duration": 26,
    "start_time": "2023-05-16T09:49:10.160Z"
   },
   {
    "duration": 12,
    "start_time": "2023-05-16T09:49:10.187Z"
   },
   {
    "duration": 34,
    "start_time": "2023-05-16T09:49:10.201Z"
   },
   {
    "duration": 20,
    "start_time": "2023-05-16T09:49:10.237Z"
   },
   {
    "duration": 4,
    "start_time": "2023-05-16T09:49:10.259Z"
   },
   {
    "duration": 1020,
    "start_time": "2023-05-16T09:49:10.265Z"
   },
   {
    "duration": 0,
    "start_time": "2023-05-16T09:49:11.286Z"
   },
   {
    "duration": 0,
    "start_time": "2023-05-16T09:49:11.288Z"
   },
   {
    "duration": 0,
    "start_time": "2023-05-16T09:49:11.290Z"
   },
   {
    "duration": 0,
    "start_time": "2023-05-16T09:49:11.291Z"
   },
   {
    "duration": 0,
    "start_time": "2023-05-16T09:49:11.292Z"
   },
   {
    "duration": 0,
    "start_time": "2023-05-16T09:49:11.293Z"
   },
   {
    "duration": 6,
    "start_time": "2023-05-16T09:49:33.301Z"
   },
   {
    "duration": 15,
    "start_time": "2023-05-16T09:51:20.055Z"
   },
   {
    "duration": 55,
    "start_time": "2023-05-16T09:51:31.046Z"
   },
   {
    "duration": 21,
    "start_time": "2023-05-16T09:51:49.956Z"
   },
   {
    "duration": 17,
    "start_time": "2023-05-16T09:54:47.669Z"
   },
   {
    "duration": 5,
    "start_time": "2023-05-16T09:54:53.601Z"
   },
   {
    "duration": 42,
    "start_time": "2023-05-16T09:55:22.656Z"
   },
   {
    "duration": 449,
    "start_time": "2023-05-16T09:55:38.899Z"
   },
   {
    "duration": 3,
    "start_time": "2023-05-16T09:55:39.350Z"
   },
   {
    "duration": 1033,
    "start_time": "2023-05-16T09:55:39.354Z"
   },
   {
    "duration": 138,
    "start_time": "2023-05-16T09:55:40.390Z"
   },
   {
    "duration": 139,
    "start_time": "2023-05-16T09:55:40.530Z"
   },
   {
    "duration": 1104,
    "start_time": "2023-05-16T09:55:40.671Z"
   },
   {
    "duration": 8,
    "start_time": "2023-05-16T09:55:41.785Z"
   },
   {
    "duration": 626,
    "start_time": "2023-05-16T09:55:41.794Z"
   },
   {
    "duration": 124,
    "start_time": "2023-05-16T09:55:42.422Z"
   },
   {
    "duration": 70,
    "start_time": "2023-05-16T09:55:42.549Z"
   },
   {
    "duration": 425,
    "start_time": "2023-05-16T09:55:42.621Z"
   },
   {
    "duration": 70,
    "start_time": "2023-05-16T09:55:43.048Z"
   },
   {
    "duration": 550,
    "start_time": "2023-05-16T09:55:43.120Z"
   },
   {
    "duration": 50,
    "start_time": "2023-05-16T09:55:43.672Z"
   },
   {
    "duration": 37,
    "start_time": "2023-05-16T09:55:43.735Z"
   },
   {
    "duration": 68,
    "start_time": "2023-05-16T09:55:43.774Z"
   },
   {
    "duration": 36,
    "start_time": "2023-05-16T09:55:43.844Z"
   },
   {
    "duration": 28,
    "start_time": "2023-05-16T09:55:43.883Z"
   },
   {
    "duration": 16,
    "start_time": "2023-05-16T09:55:43.913Z"
   },
   {
    "duration": 69,
    "start_time": "2023-05-16T09:55:43.931Z"
   },
   {
    "duration": 26,
    "start_time": "2023-05-16T09:55:44.001Z"
   },
   {
    "duration": 32,
    "start_time": "2023-05-16T09:55:44.029Z"
   },
   {
    "duration": 64,
    "start_time": "2023-05-16T09:55:44.064Z"
   },
   {
    "duration": 46,
    "start_time": "2023-05-16T09:55:44.129Z"
   },
   {
    "duration": 34,
    "start_time": "2023-05-16T09:55:44.177Z"
   },
   {
    "duration": 36,
    "start_time": "2023-05-16T09:55:44.213Z"
   },
   {
    "duration": 10,
    "start_time": "2023-05-16T09:55:44.250Z"
   },
   {
    "duration": 72,
    "start_time": "2023-05-16T09:55:44.265Z"
   },
   {
    "duration": 29,
    "start_time": "2023-05-16T09:55:44.339Z"
   },
   {
    "duration": 32,
    "start_time": "2023-05-16T09:55:44.369Z"
   },
   {
    "duration": 29,
    "start_time": "2023-05-16T09:55:44.402Z"
   },
   {
    "duration": 70,
    "start_time": "2023-05-16T09:55:44.433Z"
   },
   {
    "duration": 33,
    "start_time": "2023-05-16T09:55:44.504Z"
   },
   {
    "duration": 57,
    "start_time": "2023-05-16T09:55:44.539Z"
   },
   {
    "duration": 15,
    "start_time": "2023-05-16T09:55:44.597Z"
   },
   {
    "duration": 85,
    "start_time": "2023-05-16T09:55:44.614Z"
   },
   {
    "duration": 13,
    "start_time": "2023-05-16T09:55:44.700Z"
   },
   {
    "duration": 92,
    "start_time": "2023-05-16T09:55:44.715Z"
   },
   {
    "duration": 20,
    "start_time": "2023-05-16T09:55:44.810Z"
   },
   {
    "duration": 41,
    "start_time": "2023-05-16T09:55:44.831Z"
   },
   {
    "duration": 10,
    "start_time": "2023-05-16T09:55:44.874Z"
   },
   {
    "duration": 29,
    "start_time": "2023-05-16T09:55:44.886Z"
   },
   {
    "duration": 3,
    "start_time": "2023-05-16T09:55:44.917Z"
   },
   {
    "duration": 4,
    "start_time": "2023-05-16T09:55:44.921Z"
   },
   {
    "duration": 1083,
    "start_time": "2023-05-16T09:55:44.927Z"
   },
   {
    "duration": 0,
    "start_time": "2023-05-16T09:55:46.013Z"
   },
   {
    "duration": 0,
    "start_time": "2023-05-16T09:55:46.014Z"
   },
   {
    "duration": 0,
    "start_time": "2023-05-16T09:55:46.016Z"
   },
   {
    "duration": 0,
    "start_time": "2023-05-16T09:55:46.017Z"
   },
   {
    "duration": 0,
    "start_time": "2023-05-16T09:55:46.018Z"
   },
   {
    "duration": 0,
    "start_time": "2023-05-16T09:55:46.019Z"
   },
   {
    "duration": 77,
    "start_time": "2023-05-16T09:56:04.218Z"
   },
   {
    "duration": 22,
    "start_time": "2023-05-16T09:56:35.388Z"
   },
   {
    "duration": 4,
    "start_time": "2023-05-16T10:01:56.447Z"
   },
   {
    "duration": 51,
    "start_time": "2023-05-16T10:01:58.095Z"
   },
   {
    "duration": 14,
    "start_time": "2023-05-16T10:05:53.667Z"
   },
   {
    "duration": 81,
    "start_time": "2023-05-16T10:06:05.370Z"
   },
   {
    "duration": 29,
    "start_time": "2023-05-16T10:13:53.670Z"
   },
   {
    "duration": 43,
    "start_time": "2023-05-16T10:15:23.970Z"
   },
   {
    "duration": 944,
    "start_time": "2023-05-16T10:17:22.295Z"
   },
   {
    "duration": 30,
    "start_time": "2023-05-16T10:17:32.887Z"
   },
   {
    "duration": 39,
    "start_time": "2023-05-16T10:17:38.887Z"
   },
   {
    "duration": 63,
    "start_time": "2023-05-16T10:17:58.501Z"
   },
   {
    "duration": 47,
    "start_time": "2023-05-16T10:18:02.029Z"
   },
   {
    "duration": 35,
    "start_time": "2023-05-16T10:18:12.901Z"
   },
   {
    "duration": 40,
    "start_time": "2023-05-16T10:18:41.480Z"
   },
   {
    "duration": 44,
    "start_time": "2023-05-16T10:26:12.374Z"
   },
   {
    "duration": 14,
    "start_time": "2023-05-16T10:26:35.224Z"
   },
   {
    "duration": 13,
    "start_time": "2023-05-16T10:26:44.570Z"
   },
   {
    "duration": 6,
    "start_time": "2023-05-16T10:40:11.187Z"
   },
   {
    "duration": 31,
    "start_time": "2023-05-16T10:40:19.667Z"
   },
   {
    "duration": 68,
    "start_time": "2023-05-16T10:45:52.210Z"
   },
   {
    "duration": 71,
    "start_time": "2023-05-16T10:46:47.617Z"
   },
   {
    "duration": 59,
    "start_time": "2023-05-16T10:48:35.811Z"
   },
   {
    "duration": 45,
    "start_time": "2023-05-16T10:49:25.257Z"
   },
   {
    "duration": 42,
    "start_time": "2023-05-16T10:49:50.657Z"
   },
   {
    "duration": 50,
    "start_time": "2023-05-16T10:49:58.455Z"
   },
   {
    "duration": 39,
    "start_time": "2023-05-16T10:50:12.958Z"
   },
   {
    "duration": 40,
    "start_time": "2023-05-16T10:50:32.465Z"
   },
   {
    "duration": 65,
    "start_time": "2023-05-16T10:50:39.091Z"
   },
   {
    "duration": 49,
    "start_time": "2023-05-16T10:51:01.998Z"
   },
   {
    "duration": 49,
    "start_time": "2023-05-16T10:51:37.862Z"
   },
   {
    "duration": 46,
    "start_time": "2023-05-16T10:51:46.954Z"
   },
   {
    "duration": 46,
    "start_time": "2023-05-16T10:52:33.560Z"
   },
   {
    "duration": 59,
    "start_time": "2023-05-16T10:53:09.263Z"
   },
   {
    "duration": 51,
    "start_time": "2023-05-16T10:54:21.018Z"
   },
   {
    "duration": 52,
    "start_time": "2023-05-16T10:59:52.491Z"
   },
   {
    "duration": 48,
    "start_time": "2023-05-16T11:01:55.461Z"
   },
   {
    "duration": 51,
    "start_time": "2023-05-16T11:03:40.753Z"
   },
   {
    "duration": 41,
    "start_time": "2023-05-16T11:04:18.188Z"
   },
   {
    "duration": 42,
    "start_time": "2023-05-16T11:05:12.799Z"
   },
   {
    "duration": 37,
    "start_time": "2023-05-16T11:05:22.462Z"
   },
   {
    "duration": 38,
    "start_time": "2023-05-16T11:06:29.856Z"
   },
   {
    "duration": 48,
    "start_time": "2023-05-16T11:07:24.208Z"
   },
   {
    "duration": 74,
    "start_time": "2023-05-16T11:09:51.459Z"
   },
   {
    "duration": 8,
    "start_time": "2023-05-16T11:11:07.988Z"
   },
   {
    "duration": 40,
    "start_time": "2023-05-16T11:11:37.796Z"
   },
   {
    "duration": 12,
    "start_time": "2023-05-16T11:11:46.659Z"
   },
   {
    "duration": 10,
    "start_time": "2023-05-16T11:11:49.816Z"
   },
   {
    "duration": 7,
    "start_time": "2023-05-16T11:14:41.765Z"
   },
   {
    "duration": 8,
    "start_time": "2023-05-16T11:17:21.966Z"
   },
   {
    "duration": 45,
    "start_time": "2023-05-16T11:17:31.783Z"
   },
   {
    "duration": 13,
    "start_time": "2023-05-16T11:17:34.126Z"
   },
   {
    "duration": 8,
    "start_time": "2023-05-16T11:17:36.315Z"
   },
   {
    "duration": 63,
    "start_time": "2023-05-16T11:18:23.494Z"
   },
   {
    "duration": 44,
    "start_time": "2023-05-16T11:20:25.491Z"
   },
   {
    "duration": 64,
    "start_time": "2023-05-16T11:21:26.521Z"
   },
   {
    "duration": 54,
    "start_time": "2023-05-16T11:22:09.102Z"
   },
   {
    "duration": 66,
    "start_time": "2023-05-16T11:22:26.067Z"
   },
   {
    "duration": 38,
    "start_time": "2023-05-16T11:23:41.257Z"
   },
   {
    "duration": 64,
    "start_time": "2023-05-16T11:23:45.826Z"
   },
   {
    "duration": 48,
    "start_time": "2023-05-16T11:24:00.726Z"
   },
   {
    "duration": 50,
    "start_time": "2023-05-16T11:24:22.487Z"
   },
   {
    "duration": 37,
    "start_time": "2023-05-16T11:25:17.542Z"
   },
   {
    "duration": 40,
    "start_time": "2023-05-16T11:25:27.685Z"
   },
   {
    "duration": 42,
    "start_time": "2023-05-16T11:26:13.592Z"
   },
   {
    "duration": 122,
    "start_time": "2023-05-16T11:31:07.045Z"
   },
   {
    "duration": 148,
    "start_time": "2023-05-16T11:31:54.165Z"
   },
   {
    "duration": 172,
    "start_time": "2023-05-16T11:32:40.055Z"
   },
   {
    "duration": 44,
    "start_time": "2023-05-16T11:38:05.414Z"
   },
   {
    "duration": 12,
    "start_time": "2023-05-16T11:38:14.226Z"
   },
   {
    "duration": 8,
    "start_time": "2023-05-16T11:38:19.823Z"
   },
   {
    "duration": 360,
    "start_time": "2023-05-16T11:38:31.904Z"
   },
   {
    "duration": 45,
    "start_time": "2023-05-16T11:42:08.100Z"
   },
   {
    "duration": 409,
    "start_time": "2023-05-16T11:43:30.476Z"
   },
   {
    "duration": 3,
    "start_time": "2023-05-16T11:43:30.888Z"
   },
   {
    "duration": 958,
    "start_time": "2023-05-16T11:43:30.892Z"
   },
   {
    "duration": 139,
    "start_time": "2023-05-16T11:43:31.852Z"
   },
   {
    "duration": 118,
    "start_time": "2023-05-16T11:43:31.993Z"
   },
   {
    "duration": 925,
    "start_time": "2023-05-16T11:43:32.113Z"
   },
   {
    "duration": 5,
    "start_time": "2023-05-16T11:43:33.040Z"
   },
   {
    "duration": 535,
    "start_time": "2023-05-16T11:43:33.047Z"
   },
   {
    "duration": 108,
    "start_time": "2023-05-16T11:43:33.584Z"
   },
   {
    "duration": 68,
    "start_time": "2023-05-16T11:43:33.694Z"
   },
   {
    "duration": 380,
    "start_time": "2023-05-16T11:43:33.764Z"
   },
   {
    "duration": 54,
    "start_time": "2023-05-16T11:43:34.146Z"
   },
   {
    "duration": 467,
    "start_time": "2023-05-16T11:43:34.202Z"
   },
   {
    "duration": 42,
    "start_time": "2023-05-16T11:43:34.672Z"
   },
   {
    "duration": 25,
    "start_time": "2023-05-16T11:43:34.716Z"
   },
   {
    "duration": 53,
    "start_time": "2023-05-16T11:43:34.757Z"
   },
   {
    "duration": 26,
    "start_time": "2023-05-16T11:43:34.812Z"
   },
   {
    "duration": 18,
    "start_time": "2023-05-16T11:43:34.856Z"
   },
   {
    "duration": 8,
    "start_time": "2023-05-16T11:43:34.875Z"
   },
   {
    "duration": 52,
    "start_time": "2023-05-16T11:43:34.885Z"
   },
   {
    "duration": 39,
    "start_time": "2023-05-16T11:43:34.939Z"
   },
   {
    "duration": 12,
    "start_time": "2023-05-16T11:43:34.980Z"
   },
   {
    "duration": 62,
    "start_time": "2023-05-16T11:43:34.994Z"
   },
   {
    "duration": 24,
    "start_time": "2023-05-16T11:43:35.058Z"
   },
   {
    "duration": 24,
    "start_time": "2023-05-16T11:43:35.083Z"
   },
   {
    "duration": 104,
    "start_time": "2023-05-16T11:43:35.108Z"
   },
   {
    "duration": 6,
    "start_time": "2023-05-16T11:43:35.214Z"
   },
   {
    "duration": 89,
    "start_time": "2023-05-16T11:43:35.222Z"
   },
   {
    "duration": 43,
    "start_time": "2023-05-16T11:43:35.313Z"
   },
   {
    "duration": 49,
    "start_time": "2023-05-16T11:43:35.359Z"
   },
   {
    "duration": 13,
    "start_time": "2023-05-16T11:43:35.410Z"
   },
   {
    "duration": 31,
    "start_time": "2023-05-16T11:43:35.425Z"
   },
   {
    "duration": 45,
    "start_time": "2023-05-16T11:43:35.458Z"
   },
   {
    "duration": 363,
    "start_time": "2023-05-16T11:43:35.504Z"
   },
   {
    "duration": 0,
    "start_time": "2023-05-16T11:43:35.869Z"
   },
   {
    "duration": 0,
    "start_time": "2023-05-16T11:43:35.871Z"
   },
   {
    "duration": 0,
    "start_time": "2023-05-16T11:43:35.872Z"
   },
   {
    "duration": 0,
    "start_time": "2023-05-16T11:43:35.873Z"
   },
   {
    "duration": 0,
    "start_time": "2023-05-16T11:43:35.874Z"
   },
   {
    "duration": 0,
    "start_time": "2023-05-16T11:43:35.875Z"
   },
   {
    "duration": 0,
    "start_time": "2023-05-16T11:43:35.876Z"
   },
   {
    "duration": 0,
    "start_time": "2023-05-16T11:43:35.877Z"
   },
   {
    "duration": 0,
    "start_time": "2023-05-16T11:43:35.878Z"
   },
   {
    "duration": 0,
    "start_time": "2023-05-16T11:43:35.878Z"
   },
   {
    "duration": 0,
    "start_time": "2023-05-16T11:43:35.879Z"
   },
   {
    "duration": 0,
    "start_time": "2023-05-16T11:43:35.880Z"
   },
   {
    "duration": 0,
    "start_time": "2023-05-16T11:43:35.881Z"
   },
   {
    "duration": 0,
    "start_time": "2023-05-16T11:43:35.882Z"
   },
   {
    "duration": 0,
    "start_time": "2023-05-16T11:43:35.883Z"
   },
   {
    "duration": 0,
    "start_time": "2023-05-16T11:43:35.883Z"
   },
   {
    "duration": 0,
    "start_time": "2023-05-16T11:43:35.884Z"
   },
   {
    "duration": 0,
    "start_time": "2023-05-16T11:43:35.885Z"
   },
   {
    "duration": 0,
    "start_time": "2023-05-16T11:43:35.886Z"
   },
   {
    "duration": 0,
    "start_time": "2023-05-16T11:43:35.887Z"
   },
   {
    "duration": 0,
    "start_time": "2023-05-16T11:43:35.888Z"
   },
   {
    "duration": 0,
    "start_time": "2023-05-16T11:43:35.889Z"
   },
   {
    "duration": 0,
    "start_time": "2023-05-16T11:43:35.890Z"
   },
   {
    "duration": 0,
    "start_time": "2023-05-16T11:43:35.891Z"
   },
   {
    "duration": 74,
    "start_time": "2023-05-16T11:45:18.985Z"
   },
   {
    "duration": 69,
    "start_time": "2023-05-16T11:45:39.117Z"
   },
   {
    "duration": 53,
    "start_time": "2023-05-16T11:46:14.867Z"
   },
   {
    "duration": 43,
    "start_time": "2023-05-16T11:48:15.926Z"
   },
   {
    "duration": 2106,
    "start_time": "2023-05-16T11:49:21.377Z"
   },
   {
    "duration": 42,
    "start_time": "2023-05-16T11:55:21.158Z"
   },
   {
    "duration": 761220,
    "start_time": "2023-05-16T12:01:47.004Z"
   },
   {
    "duration": 25,
    "start_time": "2023-05-16T12:15:10.617Z"
   },
   {
    "duration": 65,
    "start_time": "2023-05-16T12:15:12.172Z"
   },
   {
    "duration": 6,
    "start_time": "2023-05-16T12:15:25.465Z"
   },
   {
    "duration": 54,
    "start_time": "2023-05-16T12:15:27.950Z"
   },
   {
    "duration": 32,
    "start_time": "2023-05-16T12:15:58.098Z"
   },
   {
    "duration": 66,
    "start_time": "2023-05-16T12:16:00.958Z"
   },
   {
    "duration": 14,
    "start_time": "2023-05-16T12:16:05.857Z"
   },
   {
    "duration": 9,
    "start_time": "2023-05-16T12:16:08.450Z"
   },
   {
    "duration": 22,
    "start_time": "2023-05-16T12:16:20.999Z"
   },
   {
    "duration": 462,
    "start_time": "2023-05-16T16:16:29.153Z"
   },
   {
    "duration": 6,
    "start_time": "2023-05-16T16:16:29.620Z"
   },
   {
    "duration": 5526,
    "start_time": "2023-05-16T16:16:29.629Z"
   },
   {
    "duration": 180,
    "start_time": "2023-05-16T16:16:35.161Z"
   },
   {
    "duration": 154,
    "start_time": "2023-05-16T16:16:35.344Z"
   },
   {
    "duration": 1389,
    "start_time": "2023-05-16T16:16:35.500Z"
   },
   {
    "duration": 12,
    "start_time": "2023-05-16T16:16:36.891Z"
   },
   {
    "duration": 1069,
    "start_time": "2023-05-16T16:16:36.905Z"
   },
   {
    "duration": 152,
    "start_time": "2023-05-16T16:16:37.980Z"
   },
   {
    "duration": 93,
    "start_time": "2023-05-16T16:16:38.136Z"
   },
   {
    "duration": 655,
    "start_time": "2023-05-16T16:16:38.231Z"
   },
   {
    "duration": 66,
    "start_time": "2023-05-16T16:16:38.888Z"
   },
   {
    "duration": 603,
    "start_time": "2023-05-16T16:16:38.958Z"
   },
   {
    "duration": 61,
    "start_time": "2023-05-16T16:16:39.568Z"
   },
   {
    "duration": 47,
    "start_time": "2023-05-16T16:16:39.637Z"
   },
   {
    "duration": 74,
    "start_time": "2023-05-16T16:16:39.691Z"
   },
   {
    "duration": 51,
    "start_time": "2023-05-16T16:16:39.772Z"
   },
   {
    "duration": 22,
    "start_time": "2023-05-16T16:16:39.828Z"
   },
   {
    "duration": 13,
    "start_time": "2023-05-16T16:16:39.852Z"
   },
   {
    "duration": 86,
    "start_time": "2023-05-16T16:16:39.867Z"
   },
   {
    "duration": 52,
    "start_time": "2023-05-16T16:16:39.955Z"
   },
   {
    "duration": 22,
    "start_time": "2023-05-16T16:16:40.009Z"
   },
   {
    "duration": 66,
    "start_time": "2023-05-16T16:16:40.032Z"
   },
   {
    "duration": 46,
    "start_time": "2023-05-16T16:16:40.100Z"
   },
   {
    "duration": 59,
    "start_time": "2023-05-16T16:16:40.148Z"
   },
   {
    "duration": 64,
    "start_time": "2023-05-16T16:16:40.209Z"
   },
   {
    "duration": 121,
    "start_time": "2023-05-16T16:16:40.283Z"
   },
   {
    "duration": 6,
    "start_time": "2023-05-16T16:16:40.410Z"
   },
   {
    "duration": 92,
    "start_time": "2023-05-16T16:16:40.418Z"
   },
   {
    "duration": 43,
    "start_time": "2023-05-16T16:16:40.524Z"
   },
   {
    "duration": 72,
    "start_time": "2023-05-16T16:16:40.572Z"
   },
   {
    "duration": 22,
    "start_time": "2023-05-16T16:16:40.646Z"
   },
   {
    "duration": 22,
    "start_time": "2023-05-16T16:16:40.683Z"
   },
   {
    "duration": 80,
    "start_time": "2023-05-16T16:16:40.707Z"
   },
   {
    "duration": 738053,
    "start_time": "2023-05-16T16:16:40.789Z"
   },
   {
    "duration": 178,
    "start_time": "2023-05-16T16:28:58.848Z"
   },
   {
    "duration": 0,
    "start_time": "2023-05-16T16:28:59.036Z"
   },
   {
    "duration": 0,
    "start_time": "2023-05-16T16:28:59.042Z"
   },
   {
    "duration": 0,
    "start_time": "2023-05-16T16:28:59.049Z"
   },
   {
    "duration": 78,
    "start_time": "2023-05-16T16:30:17.091Z"
   },
   {
    "duration": 89,
    "start_time": "2023-05-16T16:32:41.322Z"
   },
   {
    "duration": 118,
    "start_time": "2023-05-16T16:33:38.999Z"
   },
   {
    "duration": 592814,
    "start_time": "2023-05-16T16:34:44.551Z"
   },
   {
    "duration": 42,
    "start_time": "2023-05-16T16:44:37.375Z"
   },
   {
    "duration": 76,
    "start_time": "2023-05-16T16:46:40.908Z"
   },
   {
    "duration": 87,
    "start_time": "2023-05-16T16:46:45.953Z"
   },
   {
    "duration": 19,
    "start_time": "2023-05-16T16:53:20.010Z"
   },
   {
    "duration": 31,
    "start_time": "2023-05-16T16:54:08.051Z"
   },
   {
    "duration": 68,
    "start_time": "2023-05-16T16:54:23.753Z"
   },
   {
    "duration": 43,
    "start_time": "2023-05-16T16:54:55.370Z"
   },
   {
    "duration": 44,
    "start_time": "2023-05-16T16:55:28.354Z"
   },
   {
    "duration": 39,
    "start_time": "2023-05-16T16:55:33.055Z"
   },
   {
    "duration": 4,
    "start_time": "2023-05-16T16:57:37.304Z"
   },
   {
    "duration": 60,
    "start_time": "2023-05-16T16:57:43.455Z"
   },
   {
    "duration": 43,
    "start_time": "2023-05-16T16:58:11.100Z"
   },
   {
    "duration": 65,
    "start_time": "2023-05-16T17:00:43.491Z"
   },
   {
    "duration": 55,
    "start_time": "2023-05-16T17:01:38.949Z"
   },
   {
    "duration": 210179,
    "start_time": "2023-05-16T17:01:48.304Z"
   },
   {
    "duration": 435,
    "start_time": "2023-05-16T17:10:01.175Z"
   },
   {
    "duration": 4,
    "start_time": "2023-05-16T17:10:01.612Z"
   },
   {
    "duration": 1122,
    "start_time": "2023-05-16T17:10:01.617Z"
   },
   {
    "duration": 153,
    "start_time": "2023-05-16T17:10:02.741Z"
   },
   {
    "duration": 130,
    "start_time": "2023-05-16T17:10:02.896Z"
   },
   {
    "duration": 1094,
    "start_time": "2023-05-16T17:10:03.027Z"
   },
   {
    "duration": 7,
    "start_time": "2023-05-16T17:10:04.123Z"
   },
   {
    "duration": 614,
    "start_time": "2023-05-16T17:10:04.131Z"
   },
   {
    "duration": 143,
    "start_time": "2023-05-16T17:10:04.747Z"
   },
   {
    "duration": 59,
    "start_time": "2023-05-16T17:10:04.891Z"
   },
   {
    "duration": 401,
    "start_time": "2023-05-16T17:10:04.952Z"
   },
   {
    "duration": 63,
    "start_time": "2023-05-16T17:10:05.355Z"
   },
   {
    "duration": 509,
    "start_time": "2023-05-16T17:10:05.420Z"
   },
   {
    "duration": 58,
    "start_time": "2023-05-16T17:10:05.932Z"
   },
   {
    "duration": 32,
    "start_time": "2023-05-16T17:10:05.993Z"
   },
   {
    "duration": 62,
    "start_time": "2023-05-16T17:10:06.027Z"
   },
   {
    "duration": 28,
    "start_time": "2023-05-16T17:10:06.096Z"
   },
   {
    "duration": 48,
    "start_time": "2023-05-16T17:10:06.126Z"
   },
   {
    "duration": 11,
    "start_time": "2023-05-16T17:10:06.176Z"
   },
   {
    "duration": 55,
    "start_time": "2023-05-16T17:10:06.188Z"
   },
   {
    "duration": 33,
    "start_time": "2023-05-16T17:10:06.245Z"
   },
   {
    "duration": 16,
    "start_time": "2023-05-16T17:10:06.279Z"
   },
   {
    "duration": 64,
    "start_time": "2023-05-16T17:10:06.296Z"
   },
   {
    "duration": 45,
    "start_time": "2023-05-16T17:10:06.362Z"
   },
   {
    "duration": 34,
    "start_time": "2023-05-16T17:10:06.409Z"
   },
   {
    "duration": 44,
    "start_time": "2023-05-16T17:10:06.444Z"
   },
   {
    "duration": 32,
    "start_time": "2023-05-16T17:10:06.494Z"
   },
   {
    "duration": 58,
    "start_time": "2023-05-16T17:10:06.528Z"
   },
   {
    "duration": 74,
    "start_time": "2023-05-16T17:10:06.587Z"
   },
   {
    "duration": 9,
    "start_time": "2023-05-16T17:10:06.663Z"
   },
   {
    "duration": 73,
    "start_time": "2023-05-16T17:10:06.677Z"
   },
   {
    "duration": 45,
    "start_time": "2023-05-16T17:10:06.751Z"
   },
   {
    "duration": 38,
    "start_time": "2023-05-16T17:10:06.798Z"
   },
   {
    "duration": 67,
    "start_time": "2023-05-16T17:10:06.838Z"
   },
   {
    "duration": 203378,
    "start_time": "2023-05-16T17:10:06.907Z"
   },
   {
    "duration": 53,
    "start_time": "2023-05-16T17:13:30.287Z"
   },
   {
    "duration": 84,
    "start_time": "2023-05-16T17:13:30.342Z"
   },
   {
    "duration": 105,
    "start_time": "2023-05-16T17:13:30.427Z"
   },
   {
    "duration": 70,
    "start_time": "2023-05-16T17:13:30.534Z"
   },
   {
    "duration": 0,
    "start_time": "2023-05-16T17:13:30.606Z"
   },
   {
    "duration": 0,
    "start_time": "2023-05-16T17:13:30.609Z"
   },
   {
    "duration": 173848,
    "start_time": "2023-05-16T17:15:24.039Z"
   },
   {
    "duration": 64,
    "start_time": "2023-05-16T17:30:29.345Z"
   },
   {
    "duration": 69,
    "start_time": "2023-05-16T17:30:35.258Z"
   },
   {
    "duration": 41,
    "start_time": "2023-05-17T07:46:24.036Z"
   },
   {
    "duration": 365,
    "start_time": "2023-05-17T07:47:39.432Z"
   },
   {
    "duration": 3,
    "start_time": "2023-05-17T07:47:39.799Z"
   },
   {
    "duration": 3259,
    "start_time": "2023-05-17T07:47:39.807Z"
   },
   {
    "duration": 120,
    "start_time": "2023-05-17T07:47:43.067Z"
   },
   {
    "duration": 85,
    "start_time": "2023-05-17T07:47:43.189Z"
   },
   {
    "duration": 795,
    "start_time": "2023-05-17T07:47:43.276Z"
   },
   {
    "duration": 4,
    "start_time": "2023-05-17T07:47:44.073Z"
   },
   {
    "duration": 679,
    "start_time": "2023-05-17T07:47:44.078Z"
   },
   {
    "duration": 103,
    "start_time": "2023-05-17T07:47:44.759Z"
   },
   {
    "duration": 59,
    "start_time": "2023-05-17T07:47:44.864Z"
   },
   {
    "duration": 368,
    "start_time": "2023-05-17T07:47:44.927Z"
   },
   {
    "duration": 52,
    "start_time": "2023-05-17T07:47:45.296Z"
   },
   {
    "duration": 372,
    "start_time": "2023-05-17T07:47:45.349Z"
   },
   {
    "duration": 34,
    "start_time": "2023-05-17T07:47:45.729Z"
   },
   {
    "duration": 22,
    "start_time": "2023-05-17T07:47:45.765Z"
   },
   {
    "duration": 57,
    "start_time": "2023-05-17T07:47:45.788Z"
   },
   {
    "duration": 21,
    "start_time": "2023-05-17T07:47:45.847Z"
   },
   {
    "duration": 17,
    "start_time": "2023-05-17T07:47:45.870Z"
   },
   {
    "duration": 27,
    "start_time": "2023-05-17T07:47:45.888Z"
   },
   {
    "duration": 46,
    "start_time": "2023-05-17T07:47:45.924Z"
   },
   {
    "duration": 23,
    "start_time": "2023-05-17T07:47:45.971Z"
   },
   {
    "duration": 22,
    "start_time": "2023-05-17T07:47:45.995Z"
   },
   {
    "duration": 49,
    "start_time": "2023-05-17T07:47:46.018Z"
   },
   {
    "duration": 23,
    "start_time": "2023-05-17T07:47:46.068Z"
   },
   {
    "duration": 26,
    "start_time": "2023-05-17T07:47:46.092Z"
   },
   {
    "duration": 25,
    "start_time": "2023-05-17T07:47:46.120Z"
   },
   {
    "duration": 23,
    "start_time": "2023-05-17T07:47:46.147Z"
   },
   {
    "duration": 54,
    "start_time": "2023-05-17T07:47:46.172Z"
   },
   {
    "duration": 65,
    "start_time": "2023-05-17T07:47:46.229Z"
   },
   {
    "duration": 10,
    "start_time": "2023-05-17T07:47:46.296Z"
   },
   {
    "duration": 67,
    "start_time": "2023-05-17T07:47:46.308Z"
   },
   {
    "duration": 24,
    "start_time": "2023-05-17T07:47:46.376Z"
   },
   {
    "duration": 44,
    "start_time": "2023-05-17T07:47:46.402Z"
   },
   {
    "duration": 32,
    "start_time": "2023-05-17T07:47:46.448Z"
   },
   {
    "duration": 141108,
    "start_time": "2023-05-17T07:47:46.482Z"
   },
   {
    "duration": 67,
    "start_time": "2023-05-17T07:50:07.591Z"
   },
   {
    "duration": 61,
    "start_time": "2023-05-17T07:50:07.660Z"
   },
   {
    "duration": 54,
    "start_time": "2023-05-17T07:50:07.726Z"
   },
   {
    "duration": 28,
    "start_time": "2023-05-17T07:50:07.783Z"
   },
   {
    "duration": 14,
    "start_time": "2023-05-17T07:50:13.479Z"
   },
   {
    "duration": 727,
    "start_time": "2023-05-17T07:55:10.903Z"
   },
   {
    "duration": 30,
    "start_time": "2023-05-17T07:55:30.859Z"
   },
   {
    "duration": 27,
    "start_time": "2023-05-17T07:58:43.518Z"
   },
   {
    "duration": 53,
    "start_time": "2023-05-17T08:01:59.433Z"
   },
   {
    "duration": 409,
    "start_time": "2023-05-17T08:02:23.792Z"
   },
   {
    "duration": 4,
    "start_time": "2023-05-17T08:02:24.206Z"
   },
   {
    "duration": 779,
    "start_time": "2023-05-17T08:02:24.212Z"
   },
   {
    "duration": 114,
    "start_time": "2023-05-17T08:02:24.993Z"
   },
   {
    "duration": 84,
    "start_time": "2023-05-17T08:02:25.108Z"
   },
   {
    "duration": 772,
    "start_time": "2023-05-17T08:02:25.194Z"
   },
   {
    "duration": 5,
    "start_time": "2023-05-17T08:02:25.968Z"
   },
   {
    "duration": 468,
    "start_time": "2023-05-17T08:02:25.974Z"
   },
   {
    "duration": 91,
    "start_time": "2023-05-17T08:02:26.444Z"
   },
   {
    "duration": 50,
    "start_time": "2023-05-17T08:02:26.538Z"
   },
   {
    "duration": 304,
    "start_time": "2023-05-17T08:02:26.590Z"
   },
   {
    "duration": 44,
    "start_time": "2023-05-17T08:02:26.895Z"
   },
   {
    "duration": 389,
    "start_time": "2023-05-17T08:02:26.941Z"
   },
   {
    "duration": 33,
    "start_time": "2023-05-17T08:02:27.332Z"
   },
   {
    "duration": 22,
    "start_time": "2023-05-17T08:02:27.366Z"
   },
   {
    "duration": 68,
    "start_time": "2023-05-17T08:02:27.389Z"
   },
   {
    "duration": 22,
    "start_time": "2023-05-17T08:02:27.459Z"
   },
   {
    "duration": 50,
    "start_time": "2023-05-17T08:02:27.483Z"
   },
   {
    "duration": 31,
    "start_time": "2023-05-17T08:02:27.535Z"
   },
   {
    "duration": 85,
    "start_time": "2023-05-17T08:02:27.568Z"
   },
   {
    "duration": 22,
    "start_time": "2023-05-17T08:02:27.654Z"
   },
   {
    "duration": 12,
    "start_time": "2023-05-17T08:02:27.678Z"
   },
   {
    "duration": 49,
    "start_time": "2023-05-17T08:02:27.691Z"
   },
   {
    "duration": 21,
    "start_time": "2023-05-17T08:02:27.742Z"
   },
   {
    "duration": 46,
    "start_time": "2023-05-17T08:02:27.764Z"
   },
   {
    "duration": 28,
    "start_time": "2023-05-17T08:02:27.811Z"
   },
   {
    "duration": 23,
    "start_time": "2023-05-17T08:02:27.841Z"
   },
   {
    "duration": 30,
    "start_time": "2023-05-17T08:02:27.867Z"
   },
   {
    "duration": 8,
    "start_time": "2023-05-17T08:02:27.898Z"
   },
   {
    "duration": 69,
    "start_time": "2023-05-17T08:02:27.907Z"
   },
   {
    "duration": 3,
    "start_time": "2023-05-17T08:02:27.977Z"
   },
   {
    "duration": 62,
    "start_time": "2023-05-17T08:02:27.982Z"
   },
   {
    "duration": 27,
    "start_time": "2023-05-17T08:02:28.046Z"
   },
   {
    "duration": 44,
    "start_time": "2023-05-17T08:02:28.075Z"
   },
   {
    "duration": 38,
    "start_time": "2023-05-17T08:02:28.121Z"
   },
   {
    "duration": 50,
    "start_time": "2023-05-17T08:02:28.160Z"
   },
   {
    "duration": 0,
    "start_time": "2023-05-17T08:02:28.212Z"
   },
   {
    "duration": 0,
    "start_time": "2023-05-17T08:02:28.213Z"
   },
   {
    "duration": 0,
    "start_time": "2023-05-17T08:02:28.214Z"
   },
   {
    "duration": 12,
    "start_time": "2023-05-17T08:05:48.589Z"
   },
   {
    "duration": 33,
    "start_time": "2023-05-17T08:12:05.880Z"
   },
   {
    "duration": 47,
    "start_time": "2023-05-17T08:15:24.935Z"
   },
   {
    "duration": 2,
    "start_time": "2023-05-17T08:17:11.532Z"
   },
   {
    "duration": 36,
    "start_time": "2023-05-17T08:17:29.580Z"
   },
   {
    "duration": 414,
    "start_time": "2023-05-17T08:19:27.577Z"
   },
   {
    "duration": 4,
    "start_time": "2023-05-17T08:19:27.993Z"
   },
   {
    "duration": 770,
    "start_time": "2023-05-17T08:19:27.999Z"
   },
   {
    "duration": 112,
    "start_time": "2023-05-17T08:19:28.771Z"
   },
   {
    "duration": 101,
    "start_time": "2023-05-17T08:19:28.884Z"
   },
   {
    "duration": 747,
    "start_time": "2023-05-17T08:19:28.987Z"
   },
   {
    "duration": 5,
    "start_time": "2023-05-17T08:19:29.736Z"
   },
   {
    "duration": 470,
    "start_time": "2023-05-17T08:19:29.742Z"
   },
   {
    "duration": 94,
    "start_time": "2023-05-17T08:19:30.213Z"
   },
   {
    "duration": 52,
    "start_time": "2023-05-17T08:19:30.309Z"
   },
   {
    "duration": 350,
    "start_time": "2023-05-17T08:19:30.363Z"
   },
   {
    "duration": 40,
    "start_time": "2023-05-17T08:19:30.714Z"
   },
   {
    "duration": 394,
    "start_time": "2023-05-17T08:19:30.756Z"
   },
   {
    "duration": 35,
    "start_time": "2023-05-17T08:19:31.152Z"
   },
   {
    "duration": 32,
    "start_time": "2023-05-17T08:19:31.189Z"
   },
   {
    "duration": 83,
    "start_time": "2023-05-17T08:19:31.223Z"
   },
   {
    "duration": 22,
    "start_time": "2023-05-17T08:19:31.308Z"
   },
   {
    "duration": 34,
    "start_time": "2023-05-17T08:19:31.332Z"
   },
   {
    "duration": 28,
    "start_time": "2023-05-17T08:19:31.368Z"
   },
   {
    "duration": 81,
    "start_time": "2023-05-17T08:19:31.398Z"
   },
   {
    "duration": 24,
    "start_time": "2023-05-17T08:19:31.480Z"
   },
   {
    "duration": 39,
    "start_time": "2023-05-17T08:19:31.506Z"
   },
   {
    "duration": 73,
    "start_time": "2023-05-17T08:19:31.547Z"
   },
   {
    "duration": 23,
    "start_time": "2023-05-17T08:19:31.621Z"
   },
   {
    "duration": 45,
    "start_time": "2023-05-17T08:19:31.645Z"
   },
   {
    "duration": 93,
    "start_time": "2023-05-17T08:19:31.692Z"
   },
   {
    "duration": 3,
    "start_time": "2023-05-17T08:19:31.786Z"
   },
   {
    "duration": 80,
    "start_time": "2023-05-17T08:19:31.793Z"
   },
   {
    "duration": 27,
    "start_time": "2023-05-17T08:19:31.875Z"
   },
   {
    "duration": 43,
    "start_time": "2023-05-17T08:19:31.903Z"
   },
   {
    "duration": 47,
    "start_time": "2023-05-17T08:19:31.947Z"
   },
   {
    "duration": 24,
    "start_time": "2023-05-17T08:19:31.996Z"
   },
   {
    "duration": 29,
    "start_time": "2023-05-17T08:19:32.021Z"
   },
   {
    "duration": 28,
    "start_time": "2023-05-17T08:19:32.052Z"
   },
   {
    "duration": 6,
    "start_time": "2023-05-17T08:19:32.082Z"
   },
   {
    "duration": 118559,
    "start_time": "2023-05-17T08:19:32.089Z"
   },
   {
    "duration": 71,
    "start_time": "2023-05-17T08:21:30.649Z"
   },
   {
    "duration": 53,
    "start_time": "2023-05-17T08:21:30.722Z"
   },
   {
    "duration": 69,
    "start_time": "2023-05-17T08:21:30.777Z"
   },
   {
    "duration": 365,
    "start_time": "2023-05-17T08:29:04.316Z"
   },
   {
    "duration": 4,
    "start_time": "2023-05-17T08:29:04.683Z"
   },
   {
    "duration": 717,
    "start_time": "2023-05-17T08:29:04.688Z"
   },
   {
    "duration": 107,
    "start_time": "2023-05-17T08:29:05.407Z"
   },
   {
    "duration": 91,
    "start_time": "2023-05-17T08:29:05.516Z"
   },
   {
    "duration": 752,
    "start_time": "2023-05-17T08:29:05.609Z"
   },
   {
    "duration": 5,
    "start_time": "2023-05-17T08:29:06.362Z"
   },
   {
    "duration": 432,
    "start_time": "2023-05-17T08:29:06.369Z"
   },
   {
    "duration": 79,
    "start_time": "2023-05-17T08:29:06.802Z"
   },
   {
    "duration": 60,
    "start_time": "2023-05-17T08:29:06.884Z"
   },
   {
    "duration": 310,
    "start_time": "2023-05-17T08:29:06.945Z"
   },
   {
    "duration": 40,
    "start_time": "2023-05-17T08:29:07.256Z"
   },
   {
    "duration": 416,
    "start_time": "2023-05-17T08:29:07.306Z"
   },
   {
    "duration": 34,
    "start_time": "2023-05-17T08:29:07.723Z"
   },
   {
    "duration": 23,
    "start_time": "2023-05-17T08:29:07.759Z"
   },
   {
    "duration": 59,
    "start_time": "2023-05-17T08:29:07.783Z"
   },
   {
    "duration": 21,
    "start_time": "2023-05-17T08:29:07.844Z"
   },
   {
    "duration": 20,
    "start_time": "2023-05-17T08:29:07.866Z"
   },
   {
    "duration": 15,
    "start_time": "2023-05-17T08:29:07.888Z"
   },
   {
    "duration": 50,
    "start_time": "2023-05-17T08:29:07.906Z"
   },
   {
    "duration": 22,
    "start_time": "2023-05-17T08:29:07.957Z"
   },
   {
    "duration": 22,
    "start_time": "2023-05-17T08:29:07.980Z"
   },
   {
    "duration": 54,
    "start_time": "2023-05-17T08:29:08.003Z"
   },
   {
    "duration": 20,
    "start_time": "2023-05-17T08:29:08.059Z"
   },
   {
    "duration": 23,
    "start_time": "2023-05-17T08:29:08.081Z"
   },
   {
    "duration": 73,
    "start_time": "2023-05-17T08:29:08.106Z"
   },
   {
    "duration": 3,
    "start_time": "2023-05-17T08:29:08.180Z"
   },
   {
    "duration": 67,
    "start_time": "2023-05-17T08:29:08.186Z"
   },
   {
    "duration": 15,
    "start_time": "2023-05-17T08:29:08.255Z"
   },
   {
    "duration": 25,
    "start_time": "2023-05-17T08:29:08.271Z"
   },
   {
    "duration": 40,
    "start_time": "2023-05-17T08:29:08.297Z"
   },
   {
    "duration": 23,
    "start_time": "2023-05-17T08:29:08.339Z"
   },
   {
    "duration": 42,
    "start_time": "2023-05-17T08:29:08.364Z"
   },
   {
    "duration": 27,
    "start_time": "2023-05-17T08:29:08.408Z"
   },
   {
    "duration": 5,
    "start_time": "2023-05-17T08:29:08.436Z"
   },
   {
    "duration": 52489,
    "start_time": "2023-05-17T08:29:08.443Z"
   },
   {
    "duration": 44,
    "start_time": "2023-05-17T08:30:00.934Z"
   },
   {
    "duration": 71,
    "start_time": "2023-05-17T08:30:00.980Z"
   },
   {
    "duration": 93,
    "start_time": "2023-05-17T08:30:01.053Z"
   },
   {
    "duration": 104,
    "start_time": "2023-05-17T08:40:35.060Z"
   },
   {
    "duration": 82,
    "start_time": "2023-05-17T08:52:30.785Z"
   },
   {
    "duration": 17,
    "start_time": "2023-05-17T08:52:35.928Z"
   },
   {
    "duration": 120,
    "start_time": "2023-05-17T08:54:56.549Z"
   },
   {
    "duration": 18,
    "start_time": "2023-05-17T08:59:13.337Z"
   },
   {
    "duration": 6,
    "start_time": "2023-05-17T08:59:48.734Z"
   },
   {
    "duration": 6,
    "start_time": "2023-05-17T09:00:10.838Z"
   },
   {
    "duration": 6,
    "start_time": "2023-05-17T09:00:27.158Z"
   },
   {
    "duration": 5,
    "start_time": "2023-05-17T09:00:33.392Z"
   },
   {
    "duration": 8,
    "start_time": "2023-05-17T09:01:19.262Z"
   },
   {
    "duration": 110,
    "start_time": "2023-05-17T09:04:13.542Z"
   },
   {
    "duration": 14,
    "start_time": "2023-05-17T09:04:18.574Z"
   },
   {
    "duration": 10,
    "start_time": "2023-05-17T09:04:24.276Z"
   },
   {
    "duration": 38,
    "start_time": "2023-05-17T09:04:28.818Z"
   },
   {
    "duration": 8,
    "start_time": "2023-05-17T09:04:36.228Z"
   },
   {
    "duration": 16,
    "start_time": "2023-05-17T09:06:12.859Z"
   },
   {
    "duration": 9,
    "start_time": "2023-05-17T09:07:23.166Z"
   },
   {
    "duration": 4,
    "start_time": "2023-05-17T09:07:42.072Z"
   },
   {
    "duration": 91,
    "start_time": "2023-05-17T09:10:19.280Z"
   },
   {
    "duration": 4,
    "start_time": "2023-05-17T09:51:13.822Z"
   },
   {
    "duration": 814,
    "start_time": "2023-05-17T09:52:06.020Z"
   },
   {
    "duration": 3,
    "start_time": "2023-05-17T09:52:37.354Z"
   },
   {
    "duration": 45,
    "start_time": "2023-05-17T09:53:31.661Z"
   },
   {
    "duration": 31,
    "start_time": "2023-05-17T09:59:09.092Z"
   },
   {
    "duration": 3,
    "start_time": "2023-05-17T10:05:39.705Z"
   },
   {
    "duration": 70,
    "start_time": "2023-05-17T10:54:15.763Z"
   },
   {
    "duration": 7,
    "start_time": "2023-05-17T10:54:22.837Z"
   },
   {
    "duration": 16,
    "start_time": "2023-05-17T10:54:30.805Z"
   },
   {
    "duration": 4,
    "start_time": "2023-05-17T10:56:40.520Z"
   },
   {
    "duration": 14,
    "start_time": "2023-05-17T10:57:11.973Z"
   },
   {
    "duration": 57,
    "start_time": "2023-05-17T10:57:24.582Z"
   },
   {
    "duration": 7189,
    "start_time": "2023-05-17T10:59:32.765Z"
   },
   {
    "duration": 21,
    "start_time": "2023-05-17T11:00:16.482Z"
   },
   {
    "duration": 4,
    "start_time": "2023-05-17T11:00:26.968Z"
   },
   {
    "duration": 12,
    "start_time": "2023-05-17T11:00:31.281Z"
   },
   {
    "duration": 6718,
    "start_time": "2023-05-17T11:00:58.026Z"
   },
   {
    "duration": 4,
    "start_time": "2023-05-17T11:01:10.036Z"
   },
   {
    "duration": 17,
    "start_time": "2023-05-17T11:01:14.732Z"
   },
   {
    "duration": 54,
    "start_time": "2023-05-17T11:05:03.610Z"
   },
   {
    "duration": 2313,
    "start_time": "2023-05-17T11:05:33.269Z"
   },
   {
    "duration": 1236,
    "start_time": "2023-05-17T11:05:35.585Z"
   },
   {
    "duration": 7,
    "start_time": "2023-05-17T11:05:36.823Z"
   },
   {
    "duration": 1149,
    "start_time": "2023-05-17T11:05:36.832Z"
   },
   {
    "duration": 170,
    "start_time": "2023-05-17T11:05:37.984Z"
   },
   {
    "duration": 129,
    "start_time": "2023-05-17T11:05:38.158Z"
   },
   {
    "duration": 1231,
    "start_time": "2023-05-17T11:05:38.289Z"
   },
   {
    "duration": 11,
    "start_time": "2023-05-17T11:05:39.523Z"
   },
   {
    "duration": 632,
    "start_time": "2023-05-17T11:05:39.538Z"
   },
   {
    "duration": 141,
    "start_time": "2023-05-17T11:05:40.174Z"
   },
   {
    "duration": 74,
    "start_time": "2023-05-17T11:05:40.317Z"
   },
   {
    "duration": 555,
    "start_time": "2023-05-17T11:05:40.393Z"
   },
   {
    "duration": 56,
    "start_time": "2023-05-17T11:05:40.950Z"
   },
   {
    "duration": 623,
    "start_time": "2023-05-17T11:05:41.008Z"
   },
   {
    "duration": 44,
    "start_time": "2023-05-17T11:05:41.633Z"
   },
   {
    "duration": 58,
    "start_time": "2023-05-17T11:05:41.679Z"
   },
   {
    "duration": 59,
    "start_time": "2023-05-17T11:05:41.740Z"
   },
   {
    "duration": 54,
    "start_time": "2023-05-17T11:05:41.801Z"
   },
   {
    "duration": 26,
    "start_time": "2023-05-17T11:05:41.863Z"
   },
   {
    "duration": 12,
    "start_time": "2023-05-17T11:05:41.891Z"
   },
   {
    "duration": 71,
    "start_time": "2023-05-17T11:05:41.905Z"
   },
   {
    "duration": 41,
    "start_time": "2023-05-17T11:05:41.978Z"
   },
   {
    "duration": 19,
    "start_time": "2023-05-17T11:05:42.026Z"
   },
   {
    "duration": 68,
    "start_time": "2023-05-17T11:05:42.047Z"
   },
   {
    "duration": 36,
    "start_time": "2023-05-17T11:05:42.117Z"
   },
   {
    "duration": 30,
    "start_time": "2023-05-17T11:05:42.156Z"
   },
   {
    "duration": 136,
    "start_time": "2023-05-17T11:05:42.189Z"
   },
   {
    "duration": 10,
    "start_time": "2023-05-17T11:05:42.329Z"
   },
   {
    "duration": 107,
    "start_time": "2023-05-17T11:05:42.341Z"
   },
   {
    "duration": 24,
    "start_time": "2023-05-17T11:05:42.452Z"
   },
   {
    "duration": 37,
    "start_time": "2023-05-17T11:05:42.479Z"
   },
   {
    "duration": 64,
    "start_time": "2023-05-17T11:05:42.518Z"
   },
   {
    "duration": 34,
    "start_time": "2023-05-17T11:05:42.593Z"
   },
   {
    "duration": 37,
    "start_time": "2023-05-17T11:05:42.635Z"
   },
   {
    "duration": 44,
    "start_time": "2023-05-17T11:05:42.675Z"
   },
   {
    "duration": 4,
    "start_time": "2023-05-17T11:05:42.721Z"
   },
   {
    "duration": 67928,
    "start_time": "2023-05-17T11:05:42.727Z"
   },
   {
    "duration": 86,
    "start_time": "2023-05-17T11:06:50.657Z"
   },
   {
    "duration": 96,
    "start_time": "2023-05-17T11:06:50.746Z"
   },
   {
    "duration": 90,
    "start_time": "2023-05-17T11:06:50.844Z"
   },
   {
    "duration": 170,
    "start_time": "2023-05-17T11:06:50.937Z"
   },
   {
    "duration": 192,
    "start_time": "2023-05-17T11:06:51.113Z"
   },
   {
    "duration": 86,
    "start_time": "2023-05-17T11:06:51.307Z"
   },
   {
    "duration": 71,
    "start_time": "2023-05-17T11:06:51.395Z"
   },
   {
    "duration": 0,
    "start_time": "2023-05-17T11:06:51.469Z"
   },
   {
    "duration": 57,
    "start_time": "2023-05-17T11:06:58.200Z"
   },
   {
    "duration": 840,
    "start_time": "2023-05-17T11:07:01.022Z"
   },
   {
    "duration": 806,
    "start_time": "2023-05-17T11:08:42.855Z"
   },
   {
    "duration": 114,
    "start_time": "2023-05-17T11:10:00.522Z"
   },
   {
    "duration": 950,
    "start_time": "2023-05-17T11:10:21.523Z"
   },
   {
    "duration": 4,
    "start_time": "2023-05-17T11:14:38.146Z"
   },
   {
    "duration": 789,
    "start_time": "2023-05-17T11:15:04.636Z"
   },
   {
    "duration": 77,
    "start_time": "2023-05-17T11:26:00.394Z"
   },
   {
    "duration": 6,
    "start_time": "2023-05-17T11:30:49.690Z"
   },
   {
    "duration": 16,
    "start_time": "2023-05-17T11:37:09.456Z"
   },
   {
    "duration": 46,
    "start_time": "2023-05-17T11:37:58.130Z"
   },
   {
    "duration": 50,
    "start_time": "2023-05-17T11:39:52.188Z"
   },
   {
    "duration": 152325,
    "start_time": "2023-05-17T11:40:47.190Z"
   },
   {
    "duration": 146688,
    "start_time": "2023-05-17T11:44:30.432Z"
   },
   {
    "duration": 151455,
    "start_time": "2023-05-17T11:47:45.591Z"
   },
   {
    "duration": 9828,
    "start_time": "2023-05-18T06:48:13.589Z"
   },
   {
    "duration": 1226,
    "start_time": "2023-05-18T06:48:23.421Z"
   },
   {
    "duration": 21,
    "start_time": "2023-05-18T06:48:24.649Z"
   },
   {
    "duration": 4056,
    "start_time": "2023-05-18T06:48:24.678Z"
   },
   {
    "duration": 146,
    "start_time": "2023-05-18T06:48:28.737Z"
   },
   {
    "duration": 124,
    "start_time": "2023-05-18T06:48:28.885Z"
   },
   {
    "duration": 999,
    "start_time": "2023-05-18T06:48:29.011Z"
   },
   {
    "duration": 6,
    "start_time": "2023-05-18T06:48:30.011Z"
   },
   {
    "duration": 843,
    "start_time": "2023-05-18T06:48:30.019Z"
   },
   {
    "duration": 137,
    "start_time": "2023-05-18T06:48:30.864Z"
   },
   {
    "duration": 61,
    "start_time": "2023-05-18T06:48:31.003Z"
   },
   {
    "duration": 477,
    "start_time": "2023-05-18T06:48:31.071Z"
   },
   {
    "duration": 65,
    "start_time": "2023-05-18T06:48:31.550Z"
   },
   {
    "duration": 773,
    "start_time": "2023-05-18T06:48:31.620Z"
   },
   {
    "duration": 50,
    "start_time": "2023-05-18T06:48:32.399Z"
   },
   {
    "duration": 67,
    "start_time": "2023-05-18T06:48:32.454Z"
   },
   {
    "duration": 116,
    "start_time": "2023-05-18T06:48:32.523Z"
   },
   {
    "duration": 48,
    "start_time": "2023-05-18T06:48:32.643Z"
   },
   {
    "duration": 40,
    "start_time": "2023-05-18T06:48:32.700Z"
   },
   {
    "duration": 5,
    "start_time": "2023-05-18T06:48:32.742Z"
   },
   {
    "duration": 88,
    "start_time": "2023-05-18T06:48:32.749Z"
   },
   {
    "duration": 43,
    "start_time": "2023-05-18T06:48:32.839Z"
   },
   {
    "duration": 29,
    "start_time": "2023-05-18T06:48:32.884Z"
   },
   {
    "duration": 89,
    "start_time": "2023-05-18T06:48:32.918Z"
   },
   {
    "duration": 34,
    "start_time": "2023-05-18T06:48:33.010Z"
   },
   {
    "duration": 61,
    "start_time": "2023-05-18T06:48:33.045Z"
   },
   {
    "duration": 163,
    "start_time": "2023-05-18T06:48:33.108Z"
   },
   {
    "duration": 5,
    "start_time": "2023-05-18T06:48:33.273Z"
   },
   {
    "duration": 95,
    "start_time": "2023-05-18T06:48:33.279Z"
   },
   {
    "duration": 28,
    "start_time": "2023-05-18T06:48:33.375Z"
   },
   {
    "duration": 22,
    "start_time": "2023-05-18T06:48:33.405Z"
   },
   {
    "duration": 80,
    "start_time": "2023-05-18T06:48:33.429Z"
   },
   {
    "duration": 28,
    "start_time": "2023-05-18T06:48:33.511Z"
   },
   {
    "duration": 54,
    "start_time": "2023-05-18T06:48:33.541Z"
   },
   {
    "duration": 46,
    "start_time": "2023-05-18T06:48:33.601Z"
   },
   {
    "duration": 2,
    "start_time": "2023-05-18T06:48:33.649Z"
   },
   {
    "duration": 30675,
    "start_time": "2023-05-18T06:48:33.653Z"
   },
   {
    "duration": 107,
    "start_time": "2023-05-18T06:49:04.331Z"
   },
   {
    "duration": 18,
    "start_time": "2023-05-18T06:49:04.441Z"
   },
   {
    "duration": 0,
    "start_time": "2023-05-18T06:49:04.461Z"
   },
   {
    "duration": 0,
    "start_time": "2023-05-18T06:49:04.463Z"
   },
   {
    "duration": 0,
    "start_time": "2023-05-18T06:49:04.464Z"
   },
   {
    "duration": 0,
    "start_time": "2023-05-18T06:49:04.464Z"
   },
   {
    "duration": 0,
    "start_time": "2023-05-18T06:49:04.465Z"
   },
   {
    "duration": 0,
    "start_time": "2023-05-18T06:49:04.474Z"
   },
   {
    "duration": 2545,
    "start_time": "2023-05-18T06:50:25.897Z"
   },
   {
    "duration": 1394,
    "start_time": "2023-05-18T06:50:28.446Z"
   },
   {
    "duration": 5,
    "start_time": "2023-05-18T06:50:29.842Z"
   },
   {
    "duration": 1157,
    "start_time": "2023-05-18T06:50:29.849Z"
   },
   {
    "duration": 180,
    "start_time": "2023-05-18T06:50:31.009Z"
   },
   {
    "duration": 133,
    "start_time": "2023-05-18T06:50:31.191Z"
   },
   {
    "duration": 1167,
    "start_time": "2023-05-18T06:50:31.326Z"
   },
   {
    "duration": 10,
    "start_time": "2023-05-18T06:50:32.498Z"
   },
   {
    "duration": 577,
    "start_time": "2023-05-18T06:50:32.513Z"
   },
   {
    "duration": 98,
    "start_time": "2023-05-18T06:50:33.095Z"
   },
   {
    "duration": 76,
    "start_time": "2023-05-18T06:50:33.195Z"
   },
   {
    "duration": 442,
    "start_time": "2023-05-18T06:50:33.273Z"
   },
   {
    "duration": 69,
    "start_time": "2023-05-18T06:50:33.717Z"
   },
   {
    "duration": 713,
    "start_time": "2023-05-18T06:50:33.789Z"
   },
   {
    "duration": 43,
    "start_time": "2023-05-18T06:50:34.504Z"
   },
   {
    "duration": 43,
    "start_time": "2023-05-18T06:50:34.551Z"
   },
   {
    "duration": 64,
    "start_time": "2023-05-18T06:50:34.596Z"
   },
   {
    "duration": 37,
    "start_time": "2023-05-18T06:50:34.661Z"
   },
   {
    "duration": 31,
    "start_time": "2023-05-18T06:50:34.700Z"
   },
   {
    "duration": 17,
    "start_time": "2023-05-18T06:50:34.733Z"
   },
   {
    "duration": 65,
    "start_time": "2023-05-18T06:50:34.752Z"
   },
   {
    "duration": 28,
    "start_time": "2023-05-18T06:50:34.819Z"
   },
   {
    "duration": 28,
    "start_time": "2023-05-18T06:50:34.850Z"
   },
   {
    "duration": 43,
    "start_time": "2023-05-18T06:50:34.881Z"
   },
   {
    "duration": 30,
    "start_time": "2023-05-18T06:50:34.925Z"
   },
   {
    "duration": 42,
    "start_time": "2023-05-18T06:50:34.957Z"
   },
   {
    "duration": 150,
    "start_time": "2023-05-18T06:50:35.001Z"
   },
   {
    "duration": 6,
    "start_time": "2023-05-18T06:50:35.154Z"
   },
   {
    "duration": 109,
    "start_time": "2023-05-18T06:50:35.162Z"
   },
   {
    "duration": 22,
    "start_time": "2023-05-18T06:50:35.274Z"
   },
   {
    "duration": 35,
    "start_time": "2023-05-18T06:50:35.298Z"
   },
   {
    "duration": 71,
    "start_time": "2023-05-18T06:50:35.335Z"
   },
   {
    "duration": 44,
    "start_time": "2023-05-18T06:50:35.408Z"
   },
   {
    "duration": 36,
    "start_time": "2023-05-18T06:50:35.456Z"
   },
   {
    "duration": 81,
    "start_time": "2023-05-18T06:50:35.494Z"
   },
   {
    "duration": 3,
    "start_time": "2023-05-18T06:50:35.577Z"
   },
   {
    "duration": 77362,
    "start_time": "2023-05-18T06:50:35.584Z"
   },
   {
    "duration": 70,
    "start_time": "2023-05-18T06:51:52.952Z"
   },
   {
    "duration": 77,
    "start_time": "2023-05-18T06:51:53.024Z"
   },
   {
    "duration": 76,
    "start_time": "2023-05-18T06:51:53.102Z"
   },
   {
    "duration": 160,
    "start_time": "2023-05-18T06:51:53.182Z"
   },
   {
    "duration": 261,
    "start_time": "2023-05-18T06:51:53.344Z"
   },
   {
    "duration": 0,
    "start_time": "2023-05-18T06:51:53.607Z"
   },
   {
    "duration": 0,
    "start_time": "2023-05-18T06:51:53.609Z"
   },
   {
    "duration": 0,
    "start_time": "2023-05-18T06:51:53.610Z"
   },
   {
    "duration": 0,
    "start_time": "2023-05-18T06:51:53.612Z"
   },
   {
    "duration": 246,
    "start_time": "2023-05-18T06:53:46.372Z"
   },
   {
    "duration": 201,
    "start_time": "2023-05-18T06:54:30.710Z"
   },
   {
    "duration": 8,
    "start_time": "2023-05-18T06:55:00.769Z"
   },
   {
    "duration": 80,
    "start_time": "2023-05-18T06:57:56.784Z"
   },
   {
    "duration": 2192,
    "start_time": "2023-05-18T06:58:49.802Z"
   },
   {
    "duration": 1074,
    "start_time": "2023-05-18T06:58:51.996Z"
   },
   {
    "duration": 5,
    "start_time": "2023-05-18T06:58:53.072Z"
   },
   {
    "duration": 902,
    "start_time": "2023-05-18T06:58:53.080Z"
   },
   {
    "duration": 182,
    "start_time": "2023-05-18T06:58:53.984Z"
   },
   {
    "duration": 121,
    "start_time": "2023-05-18T06:58:54.168Z"
   },
   {
    "duration": 1003,
    "start_time": "2023-05-18T06:58:54.291Z"
   },
   {
    "duration": 7,
    "start_time": "2023-05-18T06:58:55.296Z"
   },
   {
    "duration": 549,
    "start_time": "2023-05-18T06:58:55.305Z"
   },
   {
    "duration": 111,
    "start_time": "2023-05-18T06:58:55.857Z"
   },
   {
    "duration": 56,
    "start_time": "2023-05-18T06:58:55.969Z"
   },
   {
    "duration": 547,
    "start_time": "2023-05-18T06:58:56.027Z"
   },
   {
    "duration": 58,
    "start_time": "2023-05-18T06:58:56.576Z"
   },
   {
    "duration": 548,
    "start_time": "2023-05-18T06:58:56.636Z"
   },
   {
    "duration": 36,
    "start_time": "2023-05-18T06:58:57.187Z"
   },
   {
    "duration": 38,
    "start_time": "2023-05-18T06:58:57.225Z"
   },
   {
    "duration": 52,
    "start_time": "2023-05-18T06:58:57.265Z"
   },
   {
    "duration": 43,
    "start_time": "2023-05-18T06:58:57.319Z"
   },
   {
    "duration": 23,
    "start_time": "2023-05-18T06:58:57.363Z"
   },
   {
    "duration": 8,
    "start_time": "2023-05-18T06:58:57.388Z"
   },
   {
    "duration": 77,
    "start_time": "2023-05-18T06:58:57.398Z"
   },
   {
    "duration": 39,
    "start_time": "2023-05-18T06:58:57.478Z"
   },
   {
    "duration": 17,
    "start_time": "2023-05-18T06:58:57.519Z"
   },
   {
    "duration": 55,
    "start_time": "2023-05-18T06:58:57.550Z"
   },
   {
    "duration": 25,
    "start_time": "2023-05-18T06:58:57.607Z"
   },
   {
    "duration": 37,
    "start_time": "2023-05-18T06:58:57.650Z"
   },
   {
    "duration": 142,
    "start_time": "2023-05-18T06:58:57.689Z"
   },
   {
    "duration": 8,
    "start_time": "2023-05-18T06:58:57.836Z"
   },
   {
    "duration": 108,
    "start_time": "2023-05-18T06:58:57.846Z"
   },
   {
    "duration": 25,
    "start_time": "2023-05-18T06:58:57.956Z"
   },
   {
    "duration": 32,
    "start_time": "2023-05-18T06:58:57.983Z"
   },
   {
    "duration": 64,
    "start_time": "2023-05-18T06:58:58.017Z"
   },
   {
    "duration": 27,
    "start_time": "2023-05-18T06:58:58.084Z"
   },
   {
    "duration": 43,
    "start_time": "2023-05-18T06:58:58.112Z"
   },
   {
    "duration": 39,
    "start_time": "2023-05-18T06:58:58.156Z"
   },
   {
    "duration": 2,
    "start_time": "2023-05-18T06:58:58.197Z"
   },
   {
    "duration": 70931,
    "start_time": "2023-05-18T06:58:58.201Z"
   },
   {
    "duration": 63,
    "start_time": "2023-05-18T07:00:09.134Z"
   },
   {
    "duration": 89,
    "start_time": "2023-05-18T07:00:09.200Z"
   },
   {
    "duration": 74,
    "start_time": "2023-05-18T07:00:09.291Z"
   },
   {
    "duration": 134,
    "start_time": "2023-05-18T07:00:09.366Z"
   },
   {
    "duration": 301,
    "start_time": "2023-05-18T07:00:09.502Z"
   },
   {
    "duration": 139,
    "start_time": "2023-05-18T07:00:09.805Z"
   },
   {
    "duration": 74,
    "start_time": "2023-05-18T07:00:09.947Z"
   },
   {
    "duration": 50,
    "start_time": "2023-05-18T07:00:10.023Z"
   },
   {
    "duration": 239979,
    "start_time": "2023-05-18T07:00:10.075Z"
   },
   {
    "duration": 75449,
    "start_time": "2023-05-18T07:04:55.267Z"
   },
   {
    "duration": 202062,
    "start_time": "2023-05-18T07:06:58.565Z"
   },
   {
    "duration": 207,
    "start_time": "2023-05-18T07:21:00.482Z"
   },
   {
    "duration": 2047931,
    "start_time": "2023-05-18T07:21:12.285Z"
   },
   {
    "duration": 495171,
    "start_time": "2023-05-18T07:55:45.573Z"
   },
   {
    "duration": 44,
    "start_time": "2023-05-18T08:04:57.991Z"
   },
   {
    "duration": 11,
    "start_time": "2023-05-18T08:05:05.647Z"
   },
   {
    "duration": 36,
    "start_time": "2023-05-18T08:05:10.228Z"
   },
   {
    "duration": 54,
    "start_time": "2023-05-18T08:05:27.992Z"
   },
   {
    "duration": 49,
    "start_time": "2023-05-18T08:06:05.706Z"
   },
   {
    "duration": 812964,
    "start_time": "2023-05-18T08:06:23.011Z"
   },
   {
    "duration": 70,
    "start_time": "2023-05-18T08:19:55.979Z"
   },
   {
    "duration": 31,
    "start_time": "2023-05-18T08:30:17.503Z"
   },
   {
    "duration": 0,
    "start_time": "2023-05-18T08:49:22.319Z"
   },
   {
    "duration": 74676,
    "start_time": "2023-05-18T08:49:24.824Z"
   },
   {
    "duration": 269418,
    "start_time": "2023-05-18T08:51:12.306Z"
   },
   {
    "duration": 3036010,
    "start_time": "2023-05-18T08:59:45.611Z"
   },
   {
    "duration": 683767,
    "start_time": "2023-05-18T09:53:55.715Z"
   },
   {
    "duration": 231993,
    "start_time": "2023-05-18T10:05:55.798Z"
   },
   {
    "duration": 11,
    "start_time": "2023-05-18T10:12:12.915Z"
   },
   {
    "duration": 49,
    "start_time": "2023-05-18T10:12:18.582Z"
   },
   {
    "duration": 220152,
    "start_time": "2023-05-18T10:14:59.677Z"
   },
   {
    "duration": 17,
    "start_time": "2023-05-18T10:19:30.381Z"
   },
   {
    "duration": 10554,
    "start_time": "2023-05-18T10:19:53.084Z"
   },
   {
    "duration": 44743,
    "start_time": "2023-05-18T10:20:13.876Z"
   },
   {
    "duration": 77509,
    "start_time": "2023-05-18T10:22:01.436Z"
   },
   {
    "duration": 542178,
    "start_time": "2023-05-18T10:24:44.783Z"
   },
   {
    "duration": 148462,
    "start_time": "2023-05-18T10:39:19.196Z"
   },
   {
    "duration": 18,
    "start_time": "2023-05-18T10:49:14.372Z"
   },
   {
    "duration": 11,
    "start_time": "2023-05-18T10:50:32.137Z"
   },
   {
    "duration": 21,
    "start_time": "2023-05-18T10:51:04.684Z"
   },
   {
    "duration": 16,
    "start_time": "2023-05-18T10:51:58.416Z"
   },
   {
    "duration": 11,
    "start_time": "2023-05-18T10:53:43.723Z"
   },
   {
    "duration": 11,
    "start_time": "2023-05-18T10:54:08.088Z"
   },
   {
    "duration": 10,
    "start_time": "2023-05-18T10:54:14.871Z"
   },
   {
    "duration": 5,
    "start_time": "2023-05-18T10:54:35.525Z"
   },
   {
    "duration": 10,
    "start_time": "2023-05-18T10:54:47.992Z"
   },
   {
    "duration": 5,
    "start_time": "2023-05-18T10:56:06.776Z"
   },
   {
    "duration": 90,
    "start_time": "2023-05-18T10:57:25.593Z"
   },
   {
    "duration": 486,
    "start_time": "2023-05-18T10:57:34.087Z"
   },
   {
    "duration": 6234,
    "start_time": "2023-05-18T10:59:00.396Z"
   },
   {
    "duration": 4,
    "start_time": "2023-05-18T11:04:35.261Z"
   },
   {
    "duration": 6,
    "start_time": "2023-05-18T11:04:41.117Z"
   },
   {
    "duration": 414,
    "start_time": "2023-05-18T11:05:17.093Z"
   },
   {
    "duration": 860223,
    "start_time": "2023-05-18T11:17:03.003Z"
   },
   {
    "duration": 4,
    "start_time": "2023-05-18T11:31:58.908Z"
   },
   {
    "duration": 30,
    "start_time": "2023-05-18T11:34:57.169Z"
   },
   {
    "duration": 24,
    "start_time": "2023-05-18T11:35:09.793Z"
   },
   {
    "duration": 28,
    "start_time": "2023-05-18T11:35:14.576Z"
   },
   {
    "duration": 25,
    "start_time": "2023-05-18T11:35:38.283Z"
   },
   {
    "duration": 16,
    "start_time": "2023-05-18T11:35:44.741Z"
   },
   {
    "duration": 18,
    "start_time": "2023-05-18T11:36:26.100Z"
   },
   {
    "duration": 238703,
    "start_time": "2023-05-18T11:37:59.087Z"
   },
   {
    "duration": 1808865,
    "start_time": "2023-05-18T11:42:47.636Z"
   },
   {
    "duration": 14,
    "start_time": "2023-05-18T12:15:24.139Z"
   },
   {
    "duration": 9,
    "start_time": "2023-05-18T12:17:22.658Z"
   },
   {
    "duration": 6,
    "start_time": "2023-05-18T12:17:30.293Z"
   },
   {
    "duration": 91,
    "start_time": "2023-05-18T12:19:35.307Z"
   },
   {
    "duration": 19,
    "start_time": "2023-05-18T12:19:41.304Z"
   },
   {
    "duration": 299900,
    "start_time": "2023-05-18T12:20:38.483Z"
   },
   {
    "duration": 12799,
    "start_time": "2023-05-18T12:25:42.772Z"
   },
   {
    "duration": 80583,
    "start_time": "2023-05-18T12:26:05.013Z"
   },
   {
    "duration": 295002,
    "start_time": "2023-05-18T12:27:36.076Z"
   },
   {
    "duration": 5,
    "start_time": "2023-05-18T12:37:44.218Z"
   },
   {
    "duration": 6,
    "start_time": "2023-05-18T12:37:51.093Z"
   },
   {
    "duration": 267772,
    "start_time": "2023-05-18T12:40:37.982Z"
   },
   {
    "duration": 7,
    "start_time": "2023-05-18T12:49:16.979Z"
   },
   {
    "duration": 1683580,
    "start_time": "2023-05-18T12:50:02.500Z"
   },
   {
    "duration": 5853,
    "start_time": "2023-05-18T16:18:21.647Z"
   },
   {
    "duration": 1031,
    "start_time": "2023-05-18T16:18:27.503Z"
   },
   {
    "duration": 3,
    "start_time": "2023-05-18T16:18:28.535Z"
   },
   {
    "duration": 1028,
    "start_time": "2023-05-18T16:18:28.539Z"
   },
   {
    "duration": 127,
    "start_time": "2023-05-18T16:18:29.569Z"
   },
   {
    "duration": 81,
    "start_time": "2023-05-18T16:18:29.698Z"
   },
   {
    "duration": 810,
    "start_time": "2023-05-18T16:18:29.780Z"
   },
   {
    "duration": 5,
    "start_time": "2023-05-18T16:18:30.595Z"
   },
   {
    "duration": 632,
    "start_time": "2023-05-18T16:18:30.601Z"
   },
   {
    "duration": 115,
    "start_time": "2023-05-18T16:18:31.235Z"
   },
   {
    "duration": 62,
    "start_time": "2023-05-18T16:18:31.352Z"
   },
   {
    "duration": 459,
    "start_time": "2023-05-18T16:18:31.416Z"
   },
   {
    "duration": 50,
    "start_time": "2023-05-18T16:18:31.877Z"
   },
   {
    "duration": 385,
    "start_time": "2023-05-18T16:18:31.931Z"
   },
   {
    "duration": 36,
    "start_time": "2023-05-18T16:18:32.318Z"
   },
   {
    "duration": 57,
    "start_time": "2023-05-18T16:18:32.356Z"
   },
   {
    "duration": 98,
    "start_time": "2023-05-18T16:18:32.415Z"
   },
   {
    "duration": 49,
    "start_time": "2023-05-18T16:18:32.515Z"
   },
   {
    "duration": 56,
    "start_time": "2023-05-18T16:18:32.565Z"
   },
   {
    "duration": 29,
    "start_time": "2023-05-18T16:18:32.623Z"
   },
   {
    "duration": 60,
    "start_time": "2023-05-18T16:18:32.653Z"
   },
   {
    "duration": 27,
    "start_time": "2023-05-18T16:18:32.715Z"
   },
   {
    "duration": 75,
    "start_time": "2023-05-18T16:18:32.743Z"
   },
   {
    "duration": 84,
    "start_time": "2023-05-18T16:18:32.819Z"
   },
   {
    "duration": 27,
    "start_time": "2023-05-18T16:18:32.905Z"
   },
   {
    "duration": 49,
    "start_time": "2023-05-18T16:18:32.933Z"
   },
   {
    "duration": 106,
    "start_time": "2023-05-18T16:18:32.984Z"
   },
   {
    "duration": 3,
    "start_time": "2023-05-18T16:18:33.092Z"
   },
   {
    "duration": 79,
    "start_time": "2023-05-18T16:18:33.097Z"
   },
   {
    "duration": 41,
    "start_time": "2023-05-18T16:18:33.177Z"
   },
   {
    "duration": 45,
    "start_time": "2023-05-18T16:18:33.219Z"
   },
   {
    "duration": 56,
    "start_time": "2023-05-18T16:18:33.266Z"
   },
   {
    "duration": 34,
    "start_time": "2023-05-18T16:18:33.324Z"
   },
   {
    "duration": 27,
    "start_time": "2023-05-18T16:18:33.360Z"
   },
   {
    "duration": 49,
    "start_time": "2023-05-18T16:18:33.388Z"
   },
   {
    "duration": 18,
    "start_time": "2023-05-18T16:18:33.439Z"
   },
   {
    "duration": 59317,
    "start_time": "2023-05-18T16:18:33.459Z"
   },
   {
    "duration": 56,
    "start_time": "2023-05-18T16:19:32.778Z"
   },
   {
    "duration": 67,
    "start_time": "2023-05-18T16:19:32.836Z"
   },
   {
    "duration": 67,
    "start_time": "2023-05-18T16:19:32.905Z"
   },
   {
    "duration": 133,
    "start_time": "2023-05-18T16:19:32.977Z"
   },
   {
    "duration": 226,
    "start_time": "2023-05-18T16:19:33.112Z"
   },
   {
    "duration": 109,
    "start_time": "2023-05-18T16:19:33.340Z"
   },
   {
    "duration": 57,
    "start_time": "2023-05-18T16:19:33.450Z"
   },
   {
    "duration": 27,
    "start_time": "2023-05-18T16:19:33.508Z"
   },
   {
    "duration": 119,
    "start_time": "2023-05-18T16:19:33.536Z"
   },
   {
    "duration": 0,
    "start_time": "2023-05-18T16:19:33.656Z"
   },
   {
    "duration": 0,
    "start_time": "2023-05-18T16:19:33.657Z"
   },
   {
    "duration": 0,
    "start_time": "2023-05-18T16:19:33.658Z"
   },
   {
    "duration": 0,
    "start_time": "2023-05-18T16:19:33.659Z"
   },
   {
    "duration": 0,
    "start_time": "2023-05-18T16:19:33.660Z"
   },
   {
    "duration": 0,
    "start_time": "2023-05-18T16:19:33.662Z"
   },
   {
    "duration": 4,
    "start_time": "2023-05-18T16:21:21.839Z"
   },
   {
    "duration": 85,
    "start_time": "2023-05-18T16:21:24.405Z"
   },
   {
    "duration": 459925,
    "start_time": "2023-05-18T16:21:32.538Z"
   },
   {
    "duration": 3,
    "start_time": "2023-05-18T16:29:12.465Z"
   },
   {
    "duration": 4,
    "start_time": "2023-05-18T16:29:38.394Z"
   },
   {
    "duration": 8,
    "start_time": "2023-05-18T16:30:34.394Z"
   },
   {
    "duration": 21,
    "start_time": "2023-05-18T16:30:48.242Z"
   },
   {
    "duration": 15,
    "start_time": "2023-05-18T16:32:25.715Z"
   },
   {
    "duration": 5659,
    "start_time": "2023-05-18T16:34:02.342Z"
   },
   {
    "duration": 5,
    "start_time": "2023-05-18T16:34:10.489Z"
   },
   {
    "duration": 7,
    "start_time": "2023-05-18T16:34:14.135Z"
   },
   {
    "duration": 113507,
    "start_time": "2023-05-18T16:34:19.309Z"
   },
   {
    "duration": 25,
    "start_time": "2023-05-18T16:37:13.085Z"
   },
   {
    "duration": 4,
    "start_time": "2023-05-18T16:40:48.719Z"
   },
   {
    "duration": 672064,
    "start_time": "2023-05-18T16:41:10.042Z"
   },
   {
    "duration": 140,
    "start_time": "2023-05-18T16:52:22.109Z"
   },
   {
    "duration": 4,
    "start_time": "2023-05-18T16:52:31.488Z"
   },
   {
    "duration": 4,
    "start_time": "2023-05-18T16:52:35.007Z"
   },
   {
    "duration": 531055,
    "start_time": "2023-05-18T16:52:41.554Z"
   },
   {
    "duration": 26,
    "start_time": "2023-05-18T18:05:05.821Z"
   },
   {
    "duration": 3,
    "start_time": "2023-05-18T18:11:16.278Z"
   },
   {
    "duration": 4,
    "start_time": "2023-05-18T18:11:20.714Z"
   },
   {
    "duration": 5,
    "start_time": "2023-05-18T18:12:19.245Z"
   },
   {
    "duration": 67938,
    "start_time": "2023-05-18T18:12:24.076Z"
   },
   {
    "duration": 21,
    "start_time": "2023-05-18T18:13:42.936Z"
   },
   {
    "duration": 75179,
    "start_time": "2023-05-18T18:14:33.113Z"
   },
   {
    "duration": 23,
    "start_time": "2023-05-18T18:16:13.978Z"
   },
   {
    "duration": 4,
    "start_time": "2023-05-18T18:16:22.079Z"
   },
   {
    "duration": 56307,
    "start_time": "2023-05-18T18:16:24.894Z"
   },
   {
    "duration": 26,
    "start_time": "2023-05-18T18:19:20.586Z"
   },
   {
    "duration": 4,
    "start_time": "2023-05-18T18:21:58.645Z"
   },
   {
    "duration": 230960,
    "start_time": "2023-05-18T18:22:02.312Z"
   },
   {
    "duration": 18,
    "start_time": "2023-05-18T18:26:59.252Z"
   },
   {
    "duration": 3,
    "start_time": "2023-05-18T18:28:34.112Z"
   },
   {
    "duration": 4,
    "start_time": "2023-05-18T18:29:16.655Z"
   },
   {
    "duration": 4,
    "start_time": "2023-05-18T18:29:27.688Z"
   },
   {
    "duration": 2992,
    "start_time": "2023-05-18T18:29:30.615Z"
   },
   {
    "duration": 4,
    "start_time": "2023-05-18T18:29:56.414Z"
   },
   {
    "duration": 57,
    "start_time": "2023-05-18T18:30:20.993Z"
   },
   {
    "duration": 5,
    "start_time": "2023-05-18T18:30:56.446Z"
   },
   {
    "duration": 2943,
    "start_time": "2023-05-18T18:30:59.791Z"
   },
   {
    "duration": 6,
    "start_time": "2023-05-18T18:31:08.913Z"
   },
   {
    "duration": 9539,
    "start_time": "2023-05-18T18:31:11.315Z"
   },
   {
    "duration": 4,
    "start_time": "2023-05-18T18:31:23.295Z"
   },
   {
    "duration": 51354,
    "start_time": "2023-05-18T18:31:25.542Z"
   },
   {
    "duration": 4,
    "start_time": "2023-05-18T18:32:23.556Z"
   },
   {
    "duration": 6115,
    "start_time": "2023-05-18T18:32:25.777Z"
   },
   {
    "duration": 4,
    "start_time": "2023-05-18T18:32:41.617Z"
   },
   {
    "duration": 89417,
    "start_time": "2023-05-18T18:32:44.164Z"
   },
   {
    "duration": 26,
    "start_time": "2023-05-18T18:34:18.795Z"
   },
   {
    "duration": 5,
    "start_time": "2023-05-18T18:34:46.047Z"
   },
   {
    "duration": 126973,
    "start_time": "2023-05-18T18:34:49.598Z"
   },
   {
    "duration": 17,
    "start_time": "2023-05-18T18:37:02.713Z"
   },
   {
    "duration": 4,
    "start_time": "2023-05-18T18:37:24.745Z"
   },
   {
    "duration": 442166,
    "start_time": "2023-05-18T18:37:27.461Z"
   },
   {
    "duration": 16,
    "start_time": "2023-05-18T18:46:03.068Z"
   },
   {
    "duration": 3,
    "start_time": "2023-05-18T18:46:26.244Z"
   },
   {
    "duration": 68722,
    "start_time": "2023-05-18T18:46:28.823Z"
   },
   {
    "duration": 24,
    "start_time": "2023-05-18T18:48:56.490Z"
   },
   {
    "duration": 7,
    "start_time": "2023-05-18T18:49:09.608Z"
   },
   {
    "duration": 72629,
    "start_time": "2023-05-18T18:49:12.911Z"
   },
   {
    "duration": 18,
    "start_time": "2023-05-18T18:51:29.243Z"
   },
   {
    "duration": 5,
    "start_time": "2023-05-18T18:51:44.323Z"
   },
   {
    "duration": 70514,
    "start_time": "2023-05-18T18:51:49.350Z"
   },
   {
    "duration": 20,
    "start_time": "2023-05-18T18:55:19.488Z"
   },
   {
    "duration": 4,
    "start_time": "2023-05-18T18:55:36.308Z"
   },
   {
    "duration": 71819,
    "start_time": "2023-05-18T18:55:42.420Z"
   },
   {
    "duration": 15,
    "start_time": "2023-05-18T18:58:18.110Z"
   },
   {
    "duration": 4,
    "start_time": "2023-05-18T18:58:33.083Z"
   },
   {
    "duration": 156460,
    "start_time": "2023-05-18T18:58:36.724Z"
   },
   {
    "duration": 17,
    "start_time": "2023-05-18T19:03:19.519Z"
   },
   {
    "duration": 71,
    "start_time": "2023-05-18T19:03:50.753Z"
   },
   {
    "duration": 5,
    "start_time": "2023-05-18T19:07:52.513Z"
   },
   {
    "duration": 80591,
    "start_time": "2023-05-18T19:07:56.511Z"
   },
   {
    "duration": 6,
    "start_time": "2023-05-18T19:09:17.442Z"
   },
   {
    "duration": 631683,
    "start_time": "2023-05-18T19:09:22.345Z"
   },
   {
    "duration": 16,
    "start_time": "2023-05-18T19:26:00.263Z"
   },
   {
    "duration": 10,
    "start_time": "2023-05-18T19:27:02.751Z"
   },
   {
    "duration": 8064,
    "start_time": "2023-05-19T07:47:11.831Z"
   },
   {
    "duration": 1039,
    "start_time": "2023-05-19T07:47:19.898Z"
   },
   {
    "duration": 4,
    "start_time": "2023-05-19T07:47:20.939Z"
   },
   {
    "duration": 2686,
    "start_time": "2023-05-19T07:47:20.946Z"
   },
   {
    "duration": 126,
    "start_time": "2023-05-19T07:47:23.634Z"
   },
   {
    "duration": 88,
    "start_time": "2023-05-19T07:47:23.762Z"
   },
   {
    "duration": 862,
    "start_time": "2023-05-19T07:47:23.852Z"
   },
   {
    "duration": 5,
    "start_time": "2023-05-19T07:47:24.716Z"
   },
   {
    "duration": 646,
    "start_time": "2023-05-19T07:47:24.722Z"
   },
   {
    "duration": 111,
    "start_time": "2023-05-19T07:47:25.374Z"
   },
   {
    "duration": 54,
    "start_time": "2023-05-19T07:47:25.487Z"
   },
   {
    "duration": 426,
    "start_time": "2023-05-19T07:47:25.542Z"
   },
   {
    "duration": 44,
    "start_time": "2023-05-19T07:47:25.969Z"
   },
   {
    "duration": 426,
    "start_time": "2023-05-19T07:47:26.014Z"
   },
   {
    "duration": 54,
    "start_time": "2023-05-19T07:47:26.442Z"
   },
   {
    "duration": 28,
    "start_time": "2023-05-19T07:47:26.498Z"
   },
   {
    "duration": 60,
    "start_time": "2023-05-19T07:47:26.527Z"
   },
   {
    "duration": 26,
    "start_time": "2023-05-19T07:47:26.589Z"
   },
   {
    "duration": 18,
    "start_time": "2023-05-19T07:47:26.616Z"
   },
   {
    "duration": 8,
    "start_time": "2023-05-19T07:47:26.635Z"
   },
   {
    "duration": 63,
    "start_time": "2023-05-19T07:47:26.645Z"
   },
   {
    "duration": 26,
    "start_time": "2023-05-19T07:47:26.709Z"
   },
   {
    "duration": 13,
    "start_time": "2023-05-19T07:47:26.737Z"
   },
   {
    "duration": 58,
    "start_time": "2023-05-19T07:47:26.752Z"
   },
   {
    "duration": 27,
    "start_time": "2023-05-19T07:47:26.812Z"
   },
   {
    "duration": 42,
    "start_time": "2023-05-19T07:47:26.840Z"
   },
   {
    "duration": 91,
    "start_time": "2023-05-19T07:47:26.884Z"
   },
   {
    "duration": 3,
    "start_time": "2023-05-19T07:47:26.979Z"
   },
   {
    "duration": 68,
    "start_time": "2023-05-19T07:47:26.984Z"
   },
   {
    "duration": 41,
    "start_time": "2023-05-19T07:47:27.054Z"
   },
   {
    "duration": 32,
    "start_time": "2023-05-19T07:47:27.097Z"
   },
   {
    "duration": 55,
    "start_time": "2023-05-19T07:47:27.131Z"
   },
   {
    "duration": 27,
    "start_time": "2023-05-19T07:47:27.188Z"
   },
   {
    "duration": 25,
    "start_time": "2023-05-19T07:47:27.217Z"
   },
   {
    "duration": 53,
    "start_time": "2023-05-19T07:47:27.244Z"
   },
   {
    "duration": 3,
    "start_time": "2023-05-19T07:47:27.299Z"
   },
   {
    "duration": 59863,
    "start_time": "2023-05-19T07:47:27.304Z"
   },
   {
    "duration": 54,
    "start_time": "2023-05-19T07:48:27.175Z"
   },
   {
    "duration": 66,
    "start_time": "2023-05-19T07:48:27.231Z"
   },
   {
    "duration": 77,
    "start_time": "2023-05-19T07:48:27.299Z"
   },
   {
    "duration": 129,
    "start_time": "2023-05-19T07:48:27.378Z"
   },
   {
    "duration": 2,
    "start_time": "2023-05-19T07:48:27.509Z"
   },
   {
    "duration": 141,
    "start_time": "2023-05-19T07:48:27.513Z"
   },
   {
    "duration": 83,
    "start_time": "2023-05-19T07:48:27.656Z"
   },
   {
    "duration": 46,
    "start_time": "2023-05-19T07:48:27.741Z"
   },
   {
    "duration": 5,
    "start_time": "2023-05-19T07:48:27.789Z"
   },
   {
    "duration": 169,
    "start_time": "2023-05-19T07:48:27.795Z"
   },
   {
    "duration": 12,
    "start_time": "2023-05-19T07:48:27.966Z"
   },
   {
    "duration": 0,
    "start_time": "2023-05-19T07:48:27.979Z"
   },
   {
    "duration": 0,
    "start_time": "2023-05-19T07:48:27.980Z"
   },
   {
    "duration": 0,
    "start_time": "2023-05-19T07:48:27.981Z"
   },
   {
    "duration": 0,
    "start_time": "2023-05-19T07:48:27.982Z"
   },
   {
    "duration": 0,
    "start_time": "2023-05-19T07:48:27.983Z"
   },
   {
    "duration": 0,
    "start_time": "2023-05-19T07:48:27.985Z"
   },
   {
    "duration": 0,
    "start_time": "2023-05-19T07:48:27.986Z"
   },
   {
    "duration": 0,
    "start_time": "2023-05-19T07:48:27.987Z"
   },
   {
    "duration": 5,
    "start_time": "2023-05-19T07:56:56.522Z"
   },
   {
    "duration": 17466,
    "start_time": "2023-05-19T07:57:01.381Z"
   },
   {
    "duration": 3,
    "start_time": "2023-05-19T07:59:23.513Z"
   },
   {
    "duration": 2,
    "start_time": "2023-05-19T07:59:26.345Z"
   },
   {
    "duration": 15,
    "start_time": "2023-05-19T08:02:21.485Z"
   },
   {
    "duration": 10,
    "start_time": "2023-05-19T08:02:28.788Z"
   },
   {
    "duration": 4,
    "start_time": "2023-05-19T08:02:48.597Z"
   },
   {
    "duration": 149052,
    "start_time": "2023-05-19T08:02:52.521Z"
   },
   {
    "duration": 16,
    "start_time": "2023-05-19T08:15:19.973Z"
   },
   {
    "duration": 5,
    "start_time": "2023-05-19T08:19:36.173Z"
   },
   {
    "duration": 14623,
    "start_time": "2023-05-19T08:19:39.067Z"
   },
   {
    "duration": 15,
    "start_time": "2023-05-19T08:19:58.382Z"
   },
   {
    "duration": 4,
    "start_time": "2023-05-19T08:21:26.169Z"
   },
   {
    "duration": 29196,
    "start_time": "2023-05-19T08:21:32.118Z"
   },
   {
    "duration": 15,
    "start_time": "2023-05-19T08:22:10.886Z"
   },
   {
    "duration": 5,
    "start_time": "2023-05-19T08:25:38.473Z"
   },
   {
    "duration": 5,
    "start_time": "2023-05-19T08:25:53.218Z"
   },
   {
    "duration": 113070,
    "start_time": "2023-05-19T08:25:57.231Z"
   },
   {
    "duration": 21,
    "start_time": "2023-05-19T08:28:11.872Z"
   },
   {
    "duration": 4,
    "start_time": "2023-05-19T08:31:11.469Z"
   },
   {
    "duration": 142785,
    "start_time": "2023-05-19T08:31:18.444Z"
   },
   {
    "duration": 17,
    "start_time": "2023-05-19T08:34:44.634Z"
   },
   {
    "duration": 5,
    "start_time": "2023-05-19T08:37:34.587Z"
   },
   {
    "duration": 184699,
    "start_time": "2023-05-19T08:37:39.678Z"
   },
   {
    "duration": 76,
    "start_time": "2023-05-19T08:41:37.556Z"
   },
   {
    "duration": 50,
    "start_time": "2023-05-19T08:43:53.014Z"
   },
   {
    "duration": 19,
    "start_time": "2023-05-19T08:44:07.922Z"
   },
   {
    "duration": 7,
    "start_time": "2023-05-19T08:46:49.306Z"
   },
   {
    "duration": 5,
    "start_time": "2023-05-19T08:46:54.419Z"
   },
   {
    "duration": 1089536,
    "start_time": "2023-05-19T08:46:56.847Z"
   },
   {
    "duration": 3,
    "start_time": "2023-05-19T09:05:06.385Z"
   },
   {
    "duration": 703,
    "start_time": "2023-05-19T09:05:06.390Z"
   },
   {
    "duration": 14,
    "start_time": "2023-05-19T09:14:03.399Z"
   },
   {
    "duration": 16,
    "start_time": "2023-05-19T09:14:31.880Z"
   },
   {
    "duration": 19,
    "start_time": "2023-05-19T09:16:53.921Z"
   },
   {
    "duration": 5,
    "start_time": "2023-05-19T09:20:16.148Z"
   },
   {
    "duration": 88435,
    "start_time": "2023-05-19T09:20:22.307Z"
   },
   {
    "duration": 5,
    "start_time": "2023-05-19T09:21:55.922Z"
   },
   {
    "duration": 842921,
    "start_time": "2023-05-19T09:21:59.546Z"
   },
   {
    "duration": 6,
    "start_time": "2023-05-19T09:36:02.469Z"
   },
   {
    "duration": 2241,
    "start_time": "2023-05-19T09:36:25.701Z"
   },
   {
    "duration": 1106,
    "start_time": "2023-05-19T09:36:27.945Z"
   },
   {
    "duration": 4,
    "start_time": "2023-05-19T09:36:29.052Z"
   },
   {
    "duration": 865,
    "start_time": "2023-05-19T09:36:29.058Z"
   },
   {
    "duration": 162,
    "start_time": "2023-05-19T09:36:29.925Z"
   },
   {
    "duration": 103,
    "start_time": "2023-05-19T09:36:30.091Z"
   },
   {
    "duration": 940,
    "start_time": "2023-05-19T09:36:30.196Z"
   },
   {
    "duration": 5,
    "start_time": "2023-05-19T09:36:31.138Z"
   },
   {
    "duration": 1108,
    "start_time": "2023-05-19T09:36:31.145Z"
   },
   {
    "duration": 542,
    "start_time": "2023-05-19T09:36:32.257Z"
   },
   {
    "duration": 549,
    "start_time": "2023-05-19T09:36:32.801Z"
   },
   {
    "duration": 106,
    "start_time": "2023-05-19T09:36:33.352Z"
   },
   {
    "duration": 62,
    "start_time": "2023-05-19T09:36:33.460Z"
   },
   {
    "duration": 428,
    "start_time": "2023-05-19T09:36:33.524Z"
   },
   {
    "duration": 66,
    "start_time": "2023-05-19T09:36:33.954Z"
   },
   {
    "duration": 623,
    "start_time": "2023-05-19T09:36:34.022Z"
   },
   {
    "duration": 51,
    "start_time": "2023-05-19T09:36:34.646Z"
   },
   {
    "duration": 5,
    "start_time": "2023-05-19T09:36:34.698Z"
   },
   {
    "duration": 29,
    "start_time": "2023-05-19T09:36:34.705Z"
   },
   {
    "duration": 77,
    "start_time": "2023-05-19T09:36:34.736Z"
   },
   {
    "duration": 33,
    "start_time": "2023-05-19T09:36:34.815Z"
   },
   {
    "duration": 44,
    "start_time": "2023-05-19T09:36:34.850Z"
   },
   {
    "duration": 7,
    "start_time": "2023-05-19T09:36:34.896Z"
   },
   {
    "duration": 51,
    "start_time": "2023-05-19T09:36:34.905Z"
   },
   {
    "duration": 51,
    "start_time": "2023-05-19T09:36:34.958Z"
   },
   {
    "duration": 14,
    "start_time": "2023-05-19T09:36:35.011Z"
   },
   {
    "duration": 68,
    "start_time": "2023-05-19T09:36:35.027Z"
   },
   {
    "duration": 29,
    "start_time": "2023-05-19T09:36:35.099Z"
   },
   {
    "duration": 29,
    "start_time": "2023-05-19T09:36:35.129Z"
   },
   {
    "duration": 103,
    "start_time": "2023-05-19T09:36:35.177Z"
   },
   {
    "duration": 5,
    "start_time": "2023-05-19T09:36:35.282Z"
   },
   {
    "duration": 74,
    "start_time": "2023-05-19T09:36:35.288Z"
   },
   {
    "duration": 41,
    "start_time": "2023-05-19T09:36:35.363Z"
   },
   {
    "duration": 28,
    "start_time": "2023-05-19T09:36:35.406Z"
   },
   {
    "duration": 71,
    "start_time": "2023-05-19T09:36:35.437Z"
   },
   {
    "duration": 35,
    "start_time": "2023-05-19T09:36:35.510Z"
   },
   {
    "duration": 51,
    "start_time": "2023-05-19T09:36:35.547Z"
   },
   {
    "duration": 59,
    "start_time": "2023-05-19T09:36:35.600Z"
   },
   {
    "duration": 3,
    "start_time": "2023-05-19T09:36:35.661Z"
   },
   {
    "duration": 78133,
    "start_time": "2023-05-19T09:36:35.666Z"
   },
   {
    "duration": 63,
    "start_time": "2023-05-19T09:37:53.800Z"
   },
   {
    "duration": 110,
    "start_time": "2023-05-19T09:37:53.865Z"
   },
   {
    "duration": 132,
    "start_time": "2023-05-19T09:37:53.976Z"
   },
   {
    "duration": 205,
    "start_time": "2023-05-19T09:37:54.110Z"
   },
   {
    "duration": 185,
    "start_time": "2023-05-19T09:37:54.328Z"
   },
   {
    "duration": 99,
    "start_time": "2023-05-19T09:37:54.520Z"
   },
   {
    "duration": 59,
    "start_time": "2023-05-19T09:37:54.626Z"
   },
   {
    "duration": 8,
    "start_time": "2023-05-19T09:37:54.687Z"
   },
   {
    "duration": 12,
    "start_time": "2023-05-19T09:37:54.702Z"
   },
   {
    "duration": 5,
    "start_time": "2023-05-19T09:37:54.717Z"
   },
   {
    "duration": 10,
    "start_time": "2023-05-19T09:37:54.724Z"
   },
   {
    "duration": 4,
    "start_time": "2023-05-19T09:37:54.736Z"
   },
   {
    "duration": 4,
    "start_time": "2023-05-19T09:37:54.742Z"
   },
   {
    "duration": 4,
    "start_time": "2023-05-19T09:37:54.748Z"
   },
   {
    "duration": 7,
    "start_time": "2023-05-19T09:37:54.754Z"
   },
   {
    "duration": 7925865,
    "start_time": "2023-05-19T09:37:54.775Z"
   },
   {
    "duration": 47,
    "start_time": "2023-05-19T11:50:00.642Z"
   },
   {
    "duration": 110,
    "start_time": "2023-05-19T11:50:00.703Z"
   },
   {
    "duration": 81,
    "start_time": "2023-05-19T11:50:00.815Z"
   },
   {
    "duration": 26,
    "start_time": "2023-05-19T11:54:52.548Z"
   },
   {
    "duration": 7,
    "start_time": "2023-05-19T11:56:06.944Z"
   },
   {
    "duration": 6,
    "start_time": "2023-05-19T11:56:13.704Z"
   },
   {
    "duration": 5,
    "start_time": "2023-05-19T11:57:01.211Z"
   },
   {
    "duration": 6,
    "start_time": "2023-05-19T11:57:26.516Z"
   },
   {
    "duration": 141933,
    "start_time": "2023-05-19T11:57:30.292Z"
   },
   {
    "duration": 24,
    "start_time": "2023-05-19T12:05:39.186Z"
   },
   {
    "duration": 5,
    "start_time": "2023-05-19T12:07:08.694Z"
   },
   {
    "duration": 5,
    "start_time": "2023-05-19T12:07:47.104Z"
   },
   {
    "duration": 1652782,
    "start_time": "2023-05-19T12:07:49.242Z"
   },
   {
    "duration": 14,
    "start_time": "2023-05-19T12:47:55.666Z"
   },
   {
    "duration": 5,
    "start_time": "2023-05-19T12:48:55.260Z"
   },
   {
    "duration": 105369,
    "start_time": "2023-05-19T12:49:00.150Z"
   },
   {
    "duration": 17,
    "start_time": "2023-05-19T13:05:46.622Z"
   },
   {
    "duration": 4,
    "start_time": "2023-05-19T13:06:58.530Z"
   },
   {
    "duration": 81706,
    "start_time": "2023-05-19T13:07:01.241Z"
   },
   {
    "duration": 8,
    "start_time": "2023-05-19T13:08:28.399Z"
   },
   {
    "duration": 232042,
    "start_time": "2023-05-19T13:08:30.897Z"
   },
   {
    "duration": 7,
    "start_time": "2023-05-19T13:12:40.342Z"
   },
   {
    "duration": 796650,
    "start_time": "2023-05-19T13:12:42.672Z"
   },
   {
    "duration": 16,
    "start_time": "2023-05-19T13:26:07.861Z"
   },
   {
    "duration": 6,
    "start_time": "2023-05-19T13:27:20.783Z"
   },
   {
    "duration": 58049,
    "start_time": "2023-05-19T13:27:25.571Z"
   },
   {
    "duration": 15,
    "start_time": "2023-05-19T13:28:39.596Z"
   },
   {
    "duration": 5,
    "start_time": "2023-05-19T13:28:58.191Z"
   },
   {
    "duration": 89074,
    "start_time": "2023-05-19T13:29:04.845Z"
   },
   {
    "duration": 17,
    "start_time": "2023-05-19T13:30:41.244Z"
   },
   {
    "duration": 4,
    "start_time": "2023-05-19T13:36:09.542Z"
   },
   {
    "duration": 165943,
    "start_time": "2023-05-19T13:36:11.901Z"
   },
   {
    "duration": 17,
    "start_time": "2023-05-19T13:44:21.730Z"
   },
   {
    "duration": 4,
    "start_time": "2023-05-19T13:46:33.631Z"
   },
   {
    "duration": 4,
    "start_time": "2023-05-19T13:46:44.288Z"
   },
   {
    "duration": 220229,
    "start_time": "2023-05-19T13:46:49.201Z"
   },
   {
    "duration": 17,
    "start_time": "2023-05-19T13:50:43.808Z"
   },
   {
    "duration": 10,
    "start_time": "2023-05-19T13:53:45.694Z"
   },
   {
    "duration": 315061,
    "start_time": "2023-05-19T13:53:48.592Z"
   },
   {
    "duration": 20,
    "start_time": "2023-05-19T14:06:41.393Z"
   },
   {
    "duration": 8,
    "start_time": "2023-05-19T14:08:56.897Z"
   },
   {
    "duration": 2238270,
    "start_time": "2023-05-19T14:09:01.978Z"
   },
   {
    "duration": 64,
    "start_time": "2023-05-19T14:46:20.250Z"
   },
   {
    "duration": 41,
    "start_time": "2023-05-19T14:46:20.316Z"
   },
   {
    "duration": 55,
    "start_time": "2023-05-19T14:53:03.918Z"
   },
   {
    "duration": 10181,
    "start_time": "2023-05-20T07:34:52.222Z"
   },
   {
    "duration": 1302,
    "start_time": "2023-05-20T07:35:02.406Z"
   },
   {
    "duration": 4,
    "start_time": "2023-05-20T07:35:03.710Z"
   },
   {
    "duration": 1370,
    "start_time": "2023-05-20T07:35:03.717Z"
   },
   {
    "duration": 121,
    "start_time": "2023-05-20T07:35:05.089Z"
   },
   {
    "duration": 142,
    "start_time": "2023-05-20T07:35:05.211Z"
   },
   {
    "duration": 1062,
    "start_time": "2023-05-20T07:35:05.356Z"
   },
   {
    "duration": 6,
    "start_time": "2023-05-20T07:35:06.420Z"
   },
   {
    "duration": 1197,
    "start_time": "2023-05-20T07:35:06.428Z"
   },
   {
    "duration": 587,
    "start_time": "2023-05-20T07:35:07.628Z"
   },
   {
    "duration": 110,
    "start_time": "2023-05-20T07:35:08.217Z"
   },
   {
    "duration": 768,
    "start_time": "2023-05-20T07:35:08.329Z"
   },
   {
    "duration": 6,
    "start_time": "2023-05-20T07:35:09.099Z"
   },
   {
    "duration": 46,
    "start_time": "2023-05-20T07:35:09.107Z"
   },
   {
    "duration": 500,
    "start_time": "2023-05-20T07:35:09.171Z"
   },
   {
    "duration": 37,
    "start_time": "2023-05-20T07:35:09.673Z"
   },
   {
    "duration": 431,
    "start_time": "2023-05-20T07:35:09.712Z"
   },
   {
    "duration": 36,
    "start_time": "2023-05-20T07:35:10.144Z"
   },
   {
    "duration": 5,
    "start_time": "2023-05-20T07:35:10.182Z"
   },
   {
    "duration": 36,
    "start_time": "2023-05-20T07:35:10.189Z"
   },
   {
    "duration": 66,
    "start_time": "2023-05-20T07:35:10.227Z"
   },
   {
    "duration": 27,
    "start_time": "2023-05-20T07:35:10.295Z"
   },
   {
    "duration": 45,
    "start_time": "2023-05-20T07:35:10.324Z"
   },
   {
    "duration": 47,
    "start_time": "2023-05-20T07:35:10.371Z"
   },
   {
    "duration": 87,
    "start_time": "2023-05-20T07:35:10.420Z"
   },
   {
    "duration": 25,
    "start_time": "2023-05-20T07:35:10.509Z"
   },
   {
    "duration": 27,
    "start_time": "2023-05-20T07:35:10.536Z"
   },
   {
    "duration": 48,
    "start_time": "2023-05-20T07:35:10.574Z"
   },
   {
    "duration": 85,
    "start_time": "2023-05-20T07:35:10.624Z"
   },
   {
    "duration": 27,
    "start_time": "2023-05-20T07:35:10.711Z"
   },
   {
    "duration": 49,
    "start_time": "2023-05-20T07:35:10.740Z"
   },
   {
    "duration": 20,
    "start_time": "2023-05-20T07:35:10.791Z"
   },
   {
    "duration": 71,
    "start_time": "2023-05-20T07:35:10.813Z"
   },
   {
    "duration": 19,
    "start_time": "2023-05-20T07:35:10.886Z"
   },
   {
    "duration": 52,
    "start_time": "2023-05-20T07:35:10.907Z"
   },
   {
    "duration": 59,
    "start_time": "2023-05-20T07:35:10.961Z"
   },
   {
    "duration": 28,
    "start_time": "2023-05-20T07:35:11.022Z"
   },
   {
    "duration": 27,
    "start_time": "2023-05-20T07:35:11.052Z"
   },
   {
    "duration": 47,
    "start_time": "2023-05-20T07:35:11.081Z"
   },
   {
    "duration": 40,
    "start_time": "2023-05-20T07:35:11.130Z"
   },
   {
    "duration": 62753,
    "start_time": "2023-05-20T07:35:11.173Z"
   },
   {
    "duration": 62,
    "start_time": "2023-05-20T07:36:13.928Z"
   },
   {
    "duration": 2,
    "start_time": "2023-05-20T07:36:13.992Z"
   },
   {
    "duration": 6,
    "start_time": "2023-05-20T07:36:13.996Z"
   },
   {
    "duration": 138,
    "start_time": "2023-05-20T07:36:14.004Z"
   },
   {
    "duration": 136,
    "start_time": "2023-05-20T07:36:14.144Z"
   },
   {
    "duration": 36,
    "start_time": "2023-05-20T07:36:14.282Z"
   },
   {
    "duration": 57,
    "start_time": "2023-05-20T07:36:14.320Z"
   },
   {
    "duration": 5,
    "start_time": "2023-05-20T07:36:14.379Z"
   },
   {
    "duration": 69,
    "start_time": "2023-05-20T07:36:14.385Z"
   },
   {
    "duration": 14,
    "start_time": "2023-05-20T07:36:14.457Z"
   },
   {
    "duration": 144,
    "start_time": "2023-05-20T07:36:14.474Z"
   },
   {
    "duration": 0,
    "start_time": "2023-05-20T07:36:14.619Z"
   },
   {
    "duration": 0,
    "start_time": "2023-05-20T07:36:14.620Z"
   },
   {
    "duration": 0,
    "start_time": "2023-05-20T07:36:14.621Z"
   },
   {
    "duration": 0,
    "start_time": "2023-05-20T07:36:14.622Z"
   },
   {
    "duration": 0,
    "start_time": "2023-05-20T07:36:14.624Z"
   },
   {
    "duration": 0,
    "start_time": "2023-05-20T07:36:14.625Z"
   },
   {
    "duration": 0,
    "start_time": "2023-05-20T07:36:14.626Z"
   },
   {
    "duration": 0,
    "start_time": "2023-05-20T07:36:14.627Z"
   },
   {
    "duration": 2376,
    "start_time": "2023-05-20T07:37:32.510Z"
   },
   {
    "duration": 1220,
    "start_time": "2023-05-20T07:37:34.889Z"
   },
   {
    "duration": 4,
    "start_time": "2023-05-20T07:37:36.111Z"
   },
   {
    "duration": 1028,
    "start_time": "2023-05-20T07:37:36.118Z"
   },
   {
    "duration": 133,
    "start_time": "2023-05-20T07:37:37.148Z"
   },
   {
    "duration": 123,
    "start_time": "2023-05-20T07:37:37.283Z"
   },
   {
    "duration": 1082,
    "start_time": "2023-05-20T07:37:37.408Z"
   },
   {
    "duration": 0,
    "start_time": "2023-05-20T07:37:38.496Z"
   },
   {
    "duration": 0,
    "start_time": "2023-05-20T07:37:38.498Z"
   },
   {
    "duration": 0,
    "start_time": "2023-05-20T07:37:38.499Z"
   },
   {
    "duration": 0,
    "start_time": "2023-05-20T07:37:38.586Z"
   },
   {
    "duration": 0,
    "start_time": "2023-05-20T07:37:38.588Z"
   },
   {
    "duration": 0,
    "start_time": "2023-05-20T07:37:38.589Z"
   },
   {
    "duration": 0,
    "start_time": "2023-05-20T07:37:38.590Z"
   },
   {
    "duration": 0,
    "start_time": "2023-05-20T07:37:38.591Z"
   },
   {
    "duration": 0,
    "start_time": "2023-05-20T07:37:38.592Z"
   },
   {
    "duration": 0,
    "start_time": "2023-05-20T07:37:38.593Z"
   },
   {
    "duration": 0,
    "start_time": "2023-05-20T07:37:38.595Z"
   },
   {
    "duration": 0,
    "start_time": "2023-05-20T07:37:38.595Z"
   },
   {
    "duration": 0,
    "start_time": "2023-05-20T07:37:38.597Z"
   },
   {
    "duration": 0,
    "start_time": "2023-05-20T07:37:38.598Z"
   },
   {
    "duration": 0,
    "start_time": "2023-05-20T07:37:38.599Z"
   },
   {
    "duration": 0,
    "start_time": "2023-05-20T07:37:38.600Z"
   },
   {
    "duration": 0,
    "start_time": "2023-05-20T07:37:38.601Z"
   },
   {
    "duration": 0,
    "start_time": "2023-05-20T07:37:38.602Z"
   },
   {
    "duration": 0,
    "start_time": "2023-05-20T07:37:38.603Z"
   },
   {
    "duration": 0,
    "start_time": "2023-05-20T07:37:38.604Z"
   },
   {
    "duration": 0,
    "start_time": "2023-05-20T07:37:38.606Z"
   },
   {
    "duration": 0,
    "start_time": "2023-05-20T07:37:38.607Z"
   },
   {
    "duration": 0,
    "start_time": "2023-05-20T07:37:38.608Z"
   },
   {
    "duration": 0,
    "start_time": "2023-05-20T07:37:38.609Z"
   },
   {
    "duration": 0,
    "start_time": "2023-05-20T07:37:38.610Z"
   },
   {
    "duration": 0,
    "start_time": "2023-05-20T07:37:38.611Z"
   },
   {
    "duration": 0,
    "start_time": "2023-05-20T07:37:38.612Z"
   },
   {
    "duration": 0,
    "start_time": "2023-05-20T07:37:38.613Z"
   },
   {
    "duration": 0,
    "start_time": "2023-05-20T07:37:38.614Z"
   },
   {
    "duration": 0,
    "start_time": "2023-05-20T07:37:38.615Z"
   },
   {
    "duration": 0,
    "start_time": "2023-05-20T07:37:38.616Z"
   },
   {
    "duration": 0,
    "start_time": "2023-05-20T07:37:38.617Z"
   },
   {
    "duration": 0,
    "start_time": "2023-05-20T07:37:38.619Z"
   },
   {
    "duration": 0,
    "start_time": "2023-05-20T07:37:38.620Z"
   },
   {
    "duration": 0,
    "start_time": "2023-05-20T07:37:38.671Z"
   },
   {
    "duration": 0,
    "start_time": "2023-05-20T07:37:38.673Z"
   },
   {
    "duration": 0,
    "start_time": "2023-05-20T07:37:38.675Z"
   },
   {
    "duration": 0,
    "start_time": "2023-05-20T07:37:38.677Z"
   },
   {
    "duration": 0,
    "start_time": "2023-05-20T07:37:38.680Z"
   },
   {
    "duration": 0,
    "start_time": "2023-05-20T07:37:38.682Z"
   },
   {
    "duration": 0,
    "start_time": "2023-05-20T07:37:38.683Z"
   },
   {
    "duration": 0,
    "start_time": "2023-05-20T07:37:38.685Z"
   },
   {
    "duration": 0,
    "start_time": "2023-05-20T07:37:38.688Z"
   },
   {
    "duration": 0,
    "start_time": "2023-05-20T07:37:38.689Z"
   },
   {
    "duration": 0,
    "start_time": "2023-05-20T07:37:38.691Z"
   },
   {
    "duration": 0,
    "start_time": "2023-05-20T07:37:38.693Z"
   },
   {
    "duration": 0,
    "start_time": "2023-05-20T07:37:38.694Z"
   },
   {
    "duration": 0,
    "start_time": "2023-05-20T07:37:38.696Z"
   },
   {
    "duration": 0,
    "start_time": "2023-05-20T07:37:38.697Z"
   },
   {
    "duration": 0,
    "start_time": "2023-05-20T07:37:38.698Z"
   },
   {
    "duration": 0,
    "start_time": "2023-05-20T07:37:38.700Z"
   },
   {
    "duration": 0,
    "start_time": "2023-05-20T07:37:38.701Z"
   },
   {
    "duration": 0,
    "start_time": "2023-05-20T07:37:38.703Z"
   },
   {
    "duration": 2276,
    "start_time": "2023-05-20T07:37:52.787Z"
   },
   {
    "duration": 1195,
    "start_time": "2023-05-20T07:37:55.066Z"
   },
   {
    "duration": 4,
    "start_time": "2023-05-20T07:37:56.263Z"
   },
   {
    "duration": 1015,
    "start_time": "2023-05-20T07:37:56.269Z"
   },
   {
    "duration": 131,
    "start_time": "2023-05-20T07:37:57.286Z"
   },
   {
    "duration": 127,
    "start_time": "2023-05-20T07:37:57.419Z"
   },
   {
    "duration": 1020,
    "start_time": "2023-05-20T07:37:57.548Z"
   },
   {
    "duration": 5,
    "start_time": "2023-05-20T07:37:58.572Z"
   },
   {
    "duration": 1157,
    "start_time": "2023-05-20T07:37:58.580Z"
   },
   {
    "duration": 583,
    "start_time": "2023-05-20T07:37:59.739Z"
   },
   {
    "duration": 105,
    "start_time": "2023-05-20T07:38:00.325Z"
   },
   {
    "duration": 561,
    "start_time": "2023-05-20T07:38:00.433Z"
   },
   {
    "duration": 6,
    "start_time": "2023-05-20T07:38:00.997Z"
   },
   {
    "duration": 96,
    "start_time": "2023-05-20T07:38:01.006Z"
   },
   {
    "duration": 409,
    "start_time": "2023-05-20T07:38:01.104Z"
   },
   {
    "duration": 29,
    "start_time": "2023-05-20T07:38:01.515Z"
   },
   {
    "duration": 589,
    "start_time": "2023-05-20T07:38:01.546Z"
   },
   {
    "duration": 34,
    "start_time": "2023-05-20T07:38:02.137Z"
   },
   {
    "duration": 6,
    "start_time": "2023-05-20T07:38:02.173Z"
   },
   {
    "duration": 39,
    "start_time": "2023-05-20T07:38:02.181Z"
   },
   {
    "duration": 61,
    "start_time": "2023-05-20T07:38:02.222Z"
   },
   {
    "duration": 27,
    "start_time": "2023-05-20T07:38:02.285Z"
   },
   {
    "duration": 29,
    "start_time": "2023-05-20T07:38:02.314Z"
   },
   {
    "duration": 221,
    "start_time": "2023-05-20T07:38:02.345Z"
   },
   {
    "duration": 77,
    "start_time": "2023-05-20T07:38:02.568Z"
   },
   {
    "duration": 33,
    "start_time": "2023-05-20T07:38:02.648Z"
   },
   {
    "duration": 17,
    "start_time": "2023-05-20T07:38:02.683Z"
   },
   {
    "duration": 34,
    "start_time": "2023-05-20T07:38:02.702Z"
   },
   {
    "duration": 90,
    "start_time": "2023-05-20T07:38:02.738Z"
   },
   {
    "duration": 41,
    "start_time": "2023-05-20T07:38:02.830Z"
   },
   {
    "duration": 65,
    "start_time": "2023-05-20T07:38:02.873Z"
   },
   {
    "duration": 21,
    "start_time": "2023-05-20T07:38:02.940Z"
   },
   {
    "duration": 85,
    "start_time": "2023-05-20T07:38:02.962Z"
   },
   {
    "duration": 22,
    "start_time": "2023-05-20T07:38:03.048Z"
   },
   {
    "duration": 42,
    "start_time": "2023-05-20T07:38:03.072Z"
   },
   {
    "duration": 39,
    "start_time": "2023-05-20T07:38:03.116Z"
   },
   {
    "duration": 31,
    "start_time": "2023-05-20T07:38:03.157Z"
   },
   {
    "duration": 25,
    "start_time": "2023-05-20T07:38:03.191Z"
   },
   {
    "duration": 54,
    "start_time": "2023-05-20T07:38:03.218Z"
   },
   {
    "duration": 3,
    "start_time": "2023-05-20T07:38:03.273Z"
   },
   {
    "duration": 65335,
    "start_time": "2023-05-20T07:38:03.280Z"
   },
   {
    "duration": 62,
    "start_time": "2023-05-20T07:39:08.617Z"
   },
   {
    "duration": 48,
    "start_time": "2023-05-20T07:39:08.681Z"
   },
   {
    "duration": 109,
    "start_time": "2023-05-20T07:39:08.730Z"
   },
   {
    "duration": 193,
    "start_time": "2023-05-20T07:39:08.841Z"
   },
   {
    "duration": 125,
    "start_time": "2023-05-20T07:39:09.036Z"
   },
   {
    "duration": 39,
    "start_time": "2023-05-20T07:39:09.163Z"
   },
   {
    "duration": 38,
    "start_time": "2023-05-20T07:39:09.204Z"
   },
   {
    "duration": 5,
    "start_time": "2023-05-20T07:39:09.244Z"
   },
   {
    "duration": 77,
    "start_time": "2023-05-20T07:39:09.250Z"
   },
   {
    "duration": 2,
    "start_time": "2023-05-20T07:39:09.329Z"
   },
   {
    "duration": 10,
    "start_time": "2023-05-20T07:39:09.332Z"
   },
   {
    "duration": 291886,
    "start_time": "2023-05-20T07:39:09.343Z"
   },
   {
    "duration": 20,
    "start_time": "2023-05-20T07:44:01.231Z"
   },
   {
    "duration": 69,
    "start_time": "2023-05-20T07:44:01.272Z"
   },
   {
    "duration": 358260,
    "start_time": "2023-05-20T07:44:01.343Z"
   },
   {
    "duration": 20,
    "start_time": "2023-05-20T07:49:59.605Z"
   },
   {
    "duration": 7,
    "start_time": "2023-05-20T07:49:59.626Z"
   },
   {
    "duration": 25475,
    "start_time": "2023-05-20T07:49:59.635Z"
   },
   {
    "duration": 20,
    "start_time": "2023-05-20T07:50:25.112Z"
   },
   {
    "duration": 19,
    "start_time": "2023-05-20T07:51:00.123Z"
   },
   {
    "duration": 20,
    "start_time": "2023-05-20T07:51:05.706Z"
   },
   {
    "duration": 54,
    "start_time": "2023-05-20T07:51:43.563Z"
   },
   {
    "duration": 39,
    "start_time": "2023-05-20T07:52:59.480Z"
   },
   {
    "duration": 52,
    "start_time": "2023-05-20T07:53:07.034Z"
   },
   {
    "duration": 37,
    "start_time": "2023-05-20T07:54:32.774Z"
   },
   {
    "duration": 173,
    "start_time": "2023-05-20T08:17:35.903Z"
   },
   {
    "duration": 5,
    "start_time": "2023-05-20T08:17:49.545Z"
   },
   {
    "duration": 4,
    "start_time": "2023-05-20T08:17:53.816Z"
   },
   {
    "duration": 4,
    "start_time": "2023-05-20T08:17:56.175Z"
   },
   {
    "duration": 19,
    "start_time": "2023-05-20T08:18:00.271Z"
   },
   {
    "duration": 4,
    "start_time": "2023-05-20T08:18:06.096Z"
   },
   {
    "duration": 4,
    "start_time": "2023-05-20T08:19:18.180Z"
   },
   {
    "duration": 116,
    "start_time": "2023-05-20T08:19:21.332Z"
   },
   {
    "duration": 4,
    "start_time": "2023-05-20T08:20:21.640Z"
   },
   {
    "duration": 4,
    "start_time": "2023-05-20T08:20:48.080Z"
   },
   {
    "duration": 29917,
    "start_time": "2023-05-20T08:20:50.369Z"
   },
   {
    "duration": 4,
    "start_time": "2023-05-20T08:21:46.640Z"
   },
   {
    "duration": 4386,
    "start_time": "2023-05-20T08:21:57.450Z"
   },
   {
    "duration": 5,
    "start_time": "2023-05-20T08:22:03.908Z"
   },
   {
    "duration": 356175,
    "start_time": "2023-05-20T08:22:06.990Z"
   },
   {
    "duration": 20,
    "start_time": "2023-05-20T08:41:43.009Z"
   },
   {
    "duration": 7,
    "start_time": "2023-05-20T08:50:44.857Z"
   },
   {
    "duration": 7,
    "start_time": "2023-05-20T08:50:52.544Z"
   },
   {
    "duration": 86,
    "start_time": "2023-05-20T08:51:18.924Z"
   },
   {
    "duration": 7,
    "start_time": "2023-05-20T08:51:27.162Z"
   },
   {
    "duration": 7,
    "start_time": "2023-05-20T08:51:41.803Z"
   },
   {
    "duration": 15,
    "start_time": "2023-05-20T08:52:43.529Z"
   },
   {
    "duration": 8,
    "start_time": "2023-05-20T08:54:01.834Z"
   },
   {
    "duration": 7,
    "start_time": "2023-05-20T08:54:47.565Z"
   },
   {
    "duration": 18,
    "start_time": "2023-05-20T09:01:23.660Z"
   },
   {
    "duration": 8,
    "start_time": "2023-05-20T09:01:31.843Z"
   },
   {
    "duration": 20,
    "start_time": "2023-05-20T09:01:41.742Z"
   },
   {
    "duration": 10,
    "start_time": "2023-05-20T09:04:52.552Z"
   },
   {
    "duration": 21,
    "start_time": "2023-05-20T09:04:54.529Z"
   },
   {
    "duration": 2690,
    "start_time": "2023-05-20T09:05:10.322Z"
   },
   {
    "duration": 11,
    "start_time": "2023-05-20T09:05:28.459Z"
   },
   {
    "duration": 28,
    "start_time": "2023-05-20T09:05:31.516Z"
   },
   {
    "duration": 7,
    "start_time": "2023-05-20T09:09:28.808Z"
   },
   {
    "duration": 11,
    "start_time": "2023-05-20T09:10:47.994Z"
   },
   {
    "duration": 24,
    "start_time": "2023-05-20T09:10:51.941Z"
   },
   {
    "duration": 11,
    "start_time": "2023-05-20T09:12:01.161Z"
   },
   {
    "duration": 9,
    "start_time": "2023-05-20T09:15:54.629Z"
   },
   {
    "duration": 28,
    "start_time": "2023-05-20T09:16:01.167Z"
   },
   {
    "duration": 26,
    "start_time": "2023-05-20T09:16:03.814Z"
   },
   {
    "duration": 367,
    "start_time": "2023-05-20T09:20:06.731Z"
   },
   {
    "duration": 15,
    "start_time": "2023-05-20T09:20:16.035Z"
   },
   {
    "duration": 26,
    "start_time": "2023-05-20T09:20:18.164Z"
   },
   {
    "duration": 1285,
    "start_time": "2023-05-20T09:21:09.672Z"
   },
   {
    "duration": 11,
    "start_time": "2023-05-20T09:21:30.952Z"
   },
   {
    "duration": 10,
    "start_time": "2023-05-20T09:22:41.684Z"
   },
   {
    "duration": 11,
    "start_time": "2023-05-20T09:22:47.404Z"
   },
   {
    "duration": 72,
    "start_time": "2023-05-20T09:25:33.357Z"
   },
   {
    "duration": 5,
    "start_time": "2023-05-20T09:34:37.235Z"
   },
   {
    "duration": 1681072,
    "start_time": "2023-05-20T09:34:49.417Z"
   },
   {
    "duration": 29,
    "start_time": "2023-05-20T10:06:06.081Z"
   },
   {
    "duration": 8,
    "start_time": "2023-05-20T10:07:19.846Z"
   },
   {
    "duration": 4,
    "start_time": "2023-05-20T10:07:30.365Z"
   },
   {
    "duration": 106,
    "start_time": "2023-05-20T10:07:32.681Z"
   },
   {
    "duration": 5,
    "start_time": "2023-05-20T10:08:16.359Z"
   },
   {
    "duration": 391281,
    "start_time": "2023-05-20T10:08:20.819Z"
   },
   {
    "duration": 12,
    "start_time": "2023-05-20T10:15:23.881Z"
   },
   {
    "duration": 5,
    "start_time": "2023-05-20T10:15:42.761Z"
   },
   {
    "duration": 6,
    "start_time": "2023-05-20T10:16:16.147Z"
   },
   {
    "duration": 6,
    "start_time": "2023-05-20T10:16:52.102Z"
   },
   {
    "duration": 5,
    "start_time": "2023-05-20T10:17:00.854Z"
   },
   {
    "duration": 4,
    "start_time": "2023-05-20T10:17:54.896Z"
   },
   {
    "duration": 3,
    "start_time": "2023-05-20T10:18:11.762Z"
   },
   {
    "duration": 6,
    "start_time": "2023-05-20T10:18:33.171Z"
   },
   {
    "duration": 6,
    "start_time": "2023-05-20T10:18:44.563Z"
   },
   {
    "duration": 391247,
    "start_time": "2023-05-20T10:18:46.854Z"
   },
   {
    "duration": 29,
    "start_time": "2023-05-20T10:26:03.558Z"
   },
   {
    "duration": 4,
    "start_time": "2023-05-20T10:27:07.225Z"
   },
   {
    "duration": 46,
    "start_time": "2023-05-20T10:27:12.308Z"
   },
   {
    "duration": 898815,
    "start_time": "2023-05-20T10:28:01.316Z"
   },
   {
    "duration": 9,
    "start_time": "2023-05-20T10:46:01.948Z"
   },
   {
    "duration": 13,
    "start_time": "2023-05-20T10:46:06.181Z"
   },
   {
    "duration": 10,
    "start_time": "2023-05-20T10:46:09.760Z"
   },
   {
    "duration": 13,
    "start_time": "2023-05-20T10:46:16.186Z"
   },
   {
    "duration": 15,
    "start_time": "2023-05-20T10:46:25.643Z"
   },
   {
    "duration": 25,
    "start_time": "2023-05-20T10:46:32.433Z"
   },
   {
    "duration": 9,
    "start_time": "2023-05-20T10:47:07.821Z"
   },
   {
    "duration": 1616502,
    "start_time": "2023-05-20T10:48:33.620Z"
   },
   {
    "duration": 7,
    "start_time": "2023-05-20T11:15:36.966Z"
   },
   {
    "duration": 8,
    "start_time": "2023-05-20T11:15:58.720Z"
   },
   {
    "duration": 12,
    "start_time": "2023-05-20T11:16:02.479Z"
   },
   {
    "duration": 12,
    "start_time": "2023-05-20T11:16:06.391Z"
   },
   {
    "duration": 11,
    "start_time": "2023-05-20T11:16:10.927Z"
   },
   {
    "duration": 13,
    "start_time": "2023-05-20T11:16:13.150Z"
   },
   {
    "duration": 89,
    "start_time": "2023-05-20T11:22:05.199Z"
   },
   {
    "duration": 711,
    "start_time": "2023-05-20T11:22:09.306Z"
   },
   {
    "duration": 758,
    "start_time": "2023-05-20T11:22:17.121Z"
   },
   {
    "duration": 99,
    "start_time": "2023-05-20T11:23:03.311Z"
   },
   {
    "duration": 744,
    "start_time": "2023-05-20T11:23:08.768Z"
   },
   {
    "duration": 833,
    "start_time": "2023-05-20T11:24:00.971Z"
   },
   {
    "duration": 10,
    "start_time": "2023-05-20T11:26:25.788Z"
   },
   {
    "duration": 26,
    "start_time": "2023-05-20T11:26:30.612Z"
   },
   {
    "duration": 6,
    "start_time": "2023-05-20T11:26:50.917Z"
   },
   {
    "duration": 9,
    "start_time": "2023-05-20T11:26:53.194Z"
   },
   {
    "duration": 5,
    "start_time": "2023-05-20T11:27:02.245Z"
   },
   {
    "duration": 14126,
    "start_time": "2023-05-20T11:27:05.055Z"
   },
   {
    "duration": 6,
    "start_time": "2023-05-20T11:27:28.446Z"
   },
   {
    "duration": 5,
    "start_time": "2023-05-20T11:27:33.112Z"
   },
   {
    "duration": 13917,
    "start_time": "2023-05-20T11:27:35.039Z"
   },
   {
    "duration": 8,
    "start_time": "2023-05-20T11:28:38.421Z"
   },
   {
    "duration": 5,
    "start_time": "2023-05-20T11:28:41.861Z"
   },
   {
    "duration": 110153,
    "start_time": "2023-05-20T11:28:44.511Z"
   },
   {
    "duration": 7171,
    "start_time": "2023-05-20T11:30:49.756Z"
   },
   {
    "duration": 3601,
    "start_time": "2023-05-20T11:30:56.931Z"
   },
   {
    "duration": 5,
    "start_time": "2023-05-20T11:31:00.536Z"
   },
   {
    "duration": 3085,
    "start_time": "2023-05-20T11:31:00.544Z"
   },
   {
    "duration": 196,
    "start_time": "2023-05-20T11:31:03.633Z"
   },
   {
    "duration": 203,
    "start_time": "2023-05-20T11:31:03.831Z"
   },
   {
    "duration": 1718,
    "start_time": "2023-05-20T11:31:04.037Z"
   },
   {
    "duration": 21,
    "start_time": "2023-05-20T11:31:05.758Z"
   },
   {
    "duration": 1893,
    "start_time": "2023-05-20T11:31:05.787Z"
   },
   {
    "duration": 815,
    "start_time": "2023-05-20T11:31:07.690Z"
   },
   {
    "duration": 144,
    "start_time": "2023-05-20T11:31:08.514Z"
   },
   {
    "duration": 883,
    "start_time": "2023-05-20T11:31:08.661Z"
   },
   {
    "duration": 6,
    "start_time": "2023-05-20T11:31:09.547Z"
   },
   {
    "duration": 78,
    "start_time": "2023-05-20T11:31:09.559Z"
   },
   {
    "duration": 551,
    "start_time": "2023-05-20T11:31:09.640Z"
   },
   {
    "duration": 37,
    "start_time": "2023-05-20T11:31:10.200Z"
   },
   {
    "duration": 878,
    "start_time": "2023-05-20T11:31:10.239Z"
   },
   {
    "duration": 33,
    "start_time": "2023-05-20T11:31:11.119Z"
   },
   {
    "duration": 15,
    "start_time": "2023-05-20T11:31:11.154Z"
   },
   {
    "duration": 105,
    "start_time": "2023-05-20T11:31:11.173Z"
   },
   {
    "duration": 129,
    "start_time": "2023-05-20T11:31:11.281Z"
   },
   {
    "duration": 48,
    "start_time": "2023-05-20T11:31:11.412Z"
   },
   {
    "duration": 63,
    "start_time": "2023-05-20T11:31:11.464Z"
   },
   {
    "duration": 7,
    "start_time": "2023-05-20T11:31:11.530Z"
   },
   {
    "duration": 90,
    "start_time": "2023-05-20T11:31:11.540Z"
   },
   {
    "duration": 60,
    "start_time": "2023-05-20T11:31:11.633Z"
   },
   {
    "duration": 63,
    "start_time": "2023-05-20T11:31:11.696Z"
   },
   {
    "duration": 68,
    "start_time": "2023-05-20T11:31:11.764Z"
   },
   {
    "duration": 114,
    "start_time": "2023-05-20T11:31:11.835Z"
   },
   {
    "duration": 64,
    "start_time": "2023-05-20T11:31:11.952Z"
   },
   {
    "duration": 88,
    "start_time": "2023-05-20T11:31:12.020Z"
   },
   {
    "duration": 43,
    "start_time": "2023-05-20T11:31:12.112Z"
   },
   {
    "duration": 183,
    "start_time": "2023-05-20T11:31:12.158Z"
   },
   {
    "duration": 42,
    "start_time": "2023-05-20T11:31:12.343Z"
   },
   {
    "duration": 98,
    "start_time": "2023-05-20T11:31:12.387Z"
   },
   {
    "duration": 113,
    "start_time": "2023-05-20T11:31:12.487Z"
   },
   {
    "duration": 52,
    "start_time": "2023-05-20T11:31:12.602Z"
   },
   {
    "duration": 141,
    "start_time": "2023-05-20T11:31:12.657Z"
   },
   {
    "duration": 87,
    "start_time": "2023-05-20T11:31:12.802Z"
   },
   {
    "duration": 49,
    "start_time": "2023-05-20T11:31:12.893Z"
   },
   {
    "duration": 87699,
    "start_time": "2023-05-20T11:31:12.949Z"
   },
   {
    "duration": 72,
    "start_time": "2023-05-20T11:32:40.650Z"
   },
   {
    "duration": 207,
    "start_time": "2023-05-20T11:32:40.724Z"
   },
   {
    "duration": 257,
    "start_time": "2023-05-20T11:32:40.934Z"
   },
   {
    "duration": 48,
    "start_time": "2023-05-20T11:32:41.194Z"
   },
   {
    "duration": 94,
    "start_time": "2023-05-20T11:32:41.244Z"
   },
   {
    "duration": 18,
    "start_time": "2023-05-20T11:32:41.340Z"
   },
   {
    "duration": 98,
    "start_time": "2023-05-20T11:32:41.360Z"
   },
   {
    "duration": 6,
    "start_time": "2023-05-20T11:32:41.460Z"
   },
   {
    "duration": 862022,
    "start_time": "2023-05-20T11:32:41.468Z"
   },
   {
    "duration": 22,
    "start_time": "2023-05-20T11:47:03.496Z"
   },
   {
    "duration": 0,
    "start_time": "2023-05-20T11:47:03.521Z"
   },
   {
    "duration": 0,
    "start_time": "2023-05-20T11:47:03.523Z"
   },
   {
    "duration": 0,
    "start_time": "2023-05-20T11:47:03.525Z"
   },
   {
    "duration": 0,
    "start_time": "2023-05-20T11:47:03.528Z"
   },
   {
    "duration": 0,
    "start_time": "2023-05-20T11:47:03.529Z"
   },
   {
    "duration": 0,
    "start_time": "2023-05-20T11:47:03.530Z"
   },
   {
    "duration": 0,
    "start_time": "2023-05-20T11:47:03.530Z"
   },
   {
    "duration": 0,
    "start_time": "2023-05-20T11:47:03.531Z"
   },
   {
    "duration": 0,
    "start_time": "2023-05-20T11:47:03.533Z"
   },
   {
    "duration": 0,
    "start_time": "2023-05-20T11:47:03.535Z"
   },
   {
    "duration": 0,
    "start_time": "2023-05-20T11:47:03.536Z"
   },
   {
    "duration": 4585,
    "start_time": "2023-05-20T11:47:14.776Z"
   },
   {
    "duration": 2177,
    "start_time": "2023-05-20T11:47:19.364Z"
   },
   {
    "duration": 8,
    "start_time": "2023-05-20T11:47:21.543Z"
   },
   {
    "duration": 1499,
    "start_time": "2023-05-20T11:47:21.554Z"
   },
   {
    "duration": 150,
    "start_time": "2023-05-20T11:47:23.057Z"
   },
   {
    "duration": 148,
    "start_time": "2023-05-20T11:47:23.209Z"
   },
   {
    "duration": 1658,
    "start_time": "2023-05-20T11:47:23.359Z"
   },
   {
    "duration": 8,
    "start_time": "2023-05-20T11:47:25.019Z"
   },
   {
    "duration": 1638,
    "start_time": "2023-05-20T11:47:25.029Z"
   },
   {
    "duration": 772,
    "start_time": "2023-05-20T11:47:26.671Z"
   },
   {
    "duration": 134,
    "start_time": "2023-05-20T11:47:27.445Z"
   },
   {
    "duration": 750,
    "start_time": "2023-05-20T11:47:27.583Z"
   },
   {
    "duration": 8,
    "start_time": "2023-05-20T11:47:28.337Z"
   },
   {
    "duration": 73,
    "start_time": "2023-05-20T11:47:28.349Z"
   },
   {
    "duration": 526,
    "start_time": "2023-05-20T11:47:28.425Z"
   },
   {
    "duration": 46,
    "start_time": "2023-05-20T11:47:28.953Z"
   },
   {
    "duration": 706,
    "start_time": "2023-05-20T11:47:29.001Z"
   },
   {
    "duration": 35,
    "start_time": "2023-05-20T11:47:29.711Z"
   },
   {
    "duration": 6,
    "start_time": "2023-05-20T11:47:29.749Z"
   },
   {
    "duration": 66,
    "start_time": "2023-05-20T11:47:29.758Z"
   },
   {
    "duration": 60,
    "start_time": "2023-05-20T11:47:29.827Z"
   },
   {
    "duration": 37,
    "start_time": "2023-05-20T11:47:29.890Z"
   },
   {
    "duration": 55,
    "start_time": "2023-05-20T11:47:29.929Z"
   },
   {
    "duration": 80,
    "start_time": "2023-05-20T11:47:29.986Z"
   },
   {
    "duration": 176,
    "start_time": "2023-05-20T11:47:30.069Z"
   },
   {
    "duration": 83,
    "start_time": "2023-05-20T11:47:30.249Z"
   },
   {
    "duration": 88,
    "start_time": "2023-05-20T11:47:30.334Z"
   },
   {
    "duration": 98,
    "start_time": "2023-05-20T11:47:30.426Z"
   },
   {
    "duration": 101,
    "start_time": "2023-05-20T11:47:30.527Z"
   },
   {
    "duration": 148,
    "start_time": "2023-05-20T11:47:30.630Z"
   },
   {
    "duration": 84,
    "start_time": "2023-05-20T11:47:30.781Z"
   },
   {
    "duration": 68,
    "start_time": "2023-05-20T11:47:30.868Z"
   },
   {
    "duration": 127,
    "start_time": "2023-05-20T11:47:30.938Z"
   },
   {
    "duration": 71,
    "start_time": "2023-05-20T11:47:31.067Z"
   },
   {
    "duration": 86,
    "start_time": "2023-05-20T11:47:31.140Z"
   },
   {
    "duration": 107,
    "start_time": "2023-05-20T11:47:31.229Z"
   },
   {
    "duration": 46,
    "start_time": "2023-05-20T11:47:31.340Z"
   },
   {
    "duration": 56,
    "start_time": "2023-05-20T11:47:31.389Z"
   },
   {
    "duration": 89,
    "start_time": "2023-05-20T11:47:31.447Z"
   },
   {
    "duration": 9,
    "start_time": "2023-05-20T11:47:31.539Z"
   },
   {
    "duration": 100593,
    "start_time": "2023-05-20T11:47:31.554Z"
   },
   {
    "duration": 118,
    "start_time": "2023-05-20T11:49:12.150Z"
   },
   {
    "duration": 332,
    "start_time": "2023-05-20T11:49:12.272Z"
   },
   {
    "duration": 334,
    "start_time": "2023-05-20T11:49:12.612Z"
   },
   {
    "duration": 85,
    "start_time": "2023-05-20T11:49:12.955Z"
   },
   {
    "duration": 144,
    "start_time": "2023-05-20T11:49:13.049Z"
   },
   {
    "duration": 101,
    "start_time": "2023-05-20T11:49:13.196Z"
   },
   {
    "duration": 193,
    "start_time": "2023-05-20T11:49:13.301Z"
   },
   {
    "duration": 10,
    "start_time": "2023-05-20T11:49:13.496Z"
   },
   {
    "duration": 567136,
    "start_time": "2023-05-20T11:49:13.509Z"
   },
   {
    "duration": 16,
    "start_time": "2023-05-20T11:58:40.648Z"
   },
   {
    "duration": 0,
    "start_time": "2023-05-20T11:58:40.667Z"
   },
   {
    "duration": 0,
    "start_time": "2023-05-20T11:58:40.668Z"
   },
   {
    "duration": 0,
    "start_time": "2023-05-20T11:58:40.670Z"
   },
   {
    "duration": 0,
    "start_time": "2023-05-20T11:58:40.672Z"
   },
   {
    "duration": 0,
    "start_time": "2023-05-20T11:58:40.674Z"
   },
   {
    "duration": 0,
    "start_time": "2023-05-20T11:58:40.675Z"
   },
   {
    "duration": 0,
    "start_time": "2023-05-20T11:58:40.678Z"
   },
   {
    "duration": 0,
    "start_time": "2023-05-20T11:58:40.679Z"
   },
   {
    "duration": 0,
    "start_time": "2023-05-20T11:58:40.681Z"
   },
   {
    "duration": 0,
    "start_time": "2023-05-20T11:58:40.682Z"
   },
   {
    "duration": 0,
    "start_time": "2023-05-20T11:58:40.684Z"
   },
   {
    "duration": 7,
    "start_time": "2023-05-20T11:59:03.518Z"
   },
   {
    "duration": 137089,
    "start_time": "2023-05-20T11:59:06.036Z"
   },
   {
    "duration": 5,
    "start_time": "2023-05-20T12:01:49.813Z"
   },
   {
    "duration": 97169,
    "start_time": "2023-05-20T12:02:00.988Z"
   },
   {
    "duration": 2639,
    "start_time": "2023-05-20T12:19:43.854Z"
   },
   {
    "duration": 1859,
    "start_time": "2023-05-20T12:19:46.496Z"
   },
   {
    "duration": 4,
    "start_time": "2023-05-20T12:19:48.357Z"
   },
   {
    "duration": 1292,
    "start_time": "2023-05-20T12:19:48.364Z"
   },
   {
    "duration": 143,
    "start_time": "2023-05-20T12:19:49.658Z"
   },
   {
    "duration": 122,
    "start_time": "2023-05-20T12:19:49.803Z"
   },
   {
    "duration": 1104,
    "start_time": "2023-05-20T12:19:49.927Z"
   },
   {
    "duration": 6,
    "start_time": "2023-05-20T12:19:51.033Z"
   },
   {
    "duration": 1254,
    "start_time": "2023-05-20T12:19:51.041Z"
   },
   {
    "duration": 616,
    "start_time": "2023-05-20T12:19:52.298Z"
   },
   {
    "duration": 119,
    "start_time": "2023-05-20T12:19:52.916Z"
   },
   {
    "duration": 587,
    "start_time": "2023-05-20T12:19:53.037Z"
   },
   {
    "duration": 6,
    "start_time": "2023-05-20T12:19:53.626Z"
   },
   {
    "duration": 56,
    "start_time": "2023-05-20T12:19:53.634Z"
   },
   {
    "duration": 418,
    "start_time": "2023-05-20T12:19:53.692Z"
   },
   {
    "duration": 29,
    "start_time": "2023-05-20T12:19:54.112Z"
   },
   {
    "duration": 600,
    "start_time": "2023-05-20T12:19:54.142Z"
   },
   {
    "duration": 39,
    "start_time": "2023-05-20T12:19:54.744Z"
   },
   {
    "duration": 15,
    "start_time": "2023-05-20T12:19:54.786Z"
   },
   {
    "duration": 44,
    "start_time": "2023-05-20T12:19:54.803Z"
   },
   {
    "duration": 65,
    "start_time": "2023-05-20T12:19:54.848Z"
   },
   {
    "duration": 27,
    "start_time": "2023-05-20T12:19:54.915Z"
   },
   {
    "duration": 52,
    "start_time": "2023-05-20T12:19:54.943Z"
   },
   {
    "duration": 6,
    "start_time": "2023-05-20T12:19:54.997Z"
   },
   {
    "duration": 86,
    "start_time": "2023-05-20T12:19:55.005Z"
   },
   {
    "duration": 40,
    "start_time": "2023-05-20T12:19:55.093Z"
   },
   {
    "duration": 16,
    "start_time": "2023-05-20T12:19:55.136Z"
   },
   {
    "duration": 36,
    "start_time": "2023-05-20T12:19:55.176Z"
   },
   {
    "duration": 58,
    "start_time": "2023-05-20T12:19:55.214Z"
   },
   {
    "duration": 37,
    "start_time": "2023-05-20T12:19:55.275Z"
   },
   {
    "duration": 35,
    "start_time": "2023-05-20T12:19:55.315Z"
   },
   {
    "duration": 22,
    "start_time": "2023-05-20T12:19:55.378Z"
   },
   {
    "duration": 82,
    "start_time": "2023-05-20T12:19:55.402Z"
   },
   {
    "duration": 22,
    "start_time": "2023-05-20T12:19:55.486Z"
   },
   {
    "duration": 28,
    "start_time": "2023-05-20T12:19:55.510Z"
   },
   {
    "duration": 69,
    "start_time": "2023-05-20T12:19:55.540Z"
   },
   {
    "duration": 27,
    "start_time": "2023-05-20T12:19:55.611Z"
   },
   {
    "duration": 45,
    "start_time": "2023-05-20T12:19:55.640Z"
   },
   {
    "duration": 38,
    "start_time": "2023-05-20T12:19:55.687Z"
   },
   {
    "duration": 34,
    "start_time": "2023-05-20T12:19:55.729Z"
   },
   {
    "duration": 72829,
    "start_time": "2023-05-20T12:19:55.765Z"
   },
   {
    "duration": 55,
    "start_time": "2023-05-20T12:21:08.597Z"
   },
   {
    "duration": 150,
    "start_time": "2023-05-20T12:21:08.654Z"
   },
   {
    "duration": 140,
    "start_time": "2023-05-20T12:21:08.807Z"
   },
   {
    "duration": 52,
    "start_time": "2023-05-20T12:21:08.949Z"
   },
   {
    "duration": 40,
    "start_time": "2023-05-20T12:21:09.003Z"
   },
   {
    "duration": 11,
    "start_time": "2023-05-20T12:21:09.045Z"
   },
   {
    "duration": 63,
    "start_time": "2023-05-20T12:21:09.058Z"
   },
   {
    "duration": 4,
    "start_time": "2023-05-20T12:21:09.123Z"
   },
   {
    "duration": 655698,
    "start_time": "2023-05-20T12:21:09.129Z"
   },
   {
    "duration": 48,
    "start_time": "2023-05-20T12:32:04.829Z"
   },
   {
    "duration": 68,
    "start_time": "2023-05-20T12:32:04.879Z"
   },
   {
    "duration": 0,
    "start_time": "2023-05-20T12:32:04.948Z"
   },
   {
    "duration": 0,
    "start_time": "2023-05-20T12:32:04.950Z"
   },
   {
    "duration": 0,
    "start_time": "2023-05-20T12:32:04.951Z"
   },
   {
    "duration": 0,
    "start_time": "2023-05-20T12:32:04.952Z"
   },
   {
    "duration": 0,
    "start_time": "2023-05-20T12:32:04.953Z"
   },
   {
    "duration": 0,
    "start_time": "2023-05-20T12:32:04.954Z"
   },
   {
    "duration": 0,
    "start_time": "2023-05-20T12:32:04.956Z"
   },
   {
    "duration": 0,
    "start_time": "2023-05-20T12:32:04.957Z"
   },
   {
    "duration": 0,
    "start_time": "2023-05-20T12:32:04.958Z"
   },
   {
    "duration": 0,
    "start_time": "2023-05-20T12:32:04.959Z"
   },
   {
    "duration": 18,
    "start_time": "2023-05-20T12:32:23.774Z"
   },
   {
    "duration": 21,
    "start_time": "2023-05-20T12:32:50.372Z"
   },
   {
    "duration": 5,
    "start_time": "2023-05-20T12:34:48.609Z"
   },
   {
    "duration": 407993,
    "start_time": "2023-05-20T12:34:55.306Z"
   },
   {
    "duration": 8,
    "start_time": "2023-05-20T12:42:02.150Z"
   },
   {
    "duration": 16,
    "start_time": "2023-05-20T12:42:14.903Z"
   },
   {
    "duration": 5,
    "start_time": "2023-05-20T12:43:52.805Z"
   },
   {
    "duration": 7,
    "start_time": "2023-05-20T12:43:58.788Z"
   },
   {
    "duration": 926367,
    "start_time": "2023-05-20T12:44:07.351Z"
   },
   {
    "duration": 3398,
    "start_time": "2023-05-20T13:23:26.321Z"
   },
   {
    "duration": 2087,
    "start_time": "2023-05-20T13:23:29.723Z"
   },
   {
    "duration": 7,
    "start_time": "2023-05-20T13:23:31.812Z"
   },
   {
    "duration": 1017,
    "start_time": "2023-05-20T13:23:31.822Z"
   },
   {
    "duration": 142,
    "start_time": "2023-05-20T13:23:32.841Z"
   },
   {
    "duration": 133,
    "start_time": "2023-05-20T13:23:32.984Z"
   },
   {
    "duration": 1009,
    "start_time": "2023-05-20T13:23:33.119Z"
   },
   {
    "duration": 6,
    "start_time": "2023-05-20T13:23:34.130Z"
   },
   {
    "duration": 1118,
    "start_time": "2023-05-20T13:23:34.137Z"
   },
   {
    "duration": 547,
    "start_time": "2023-05-20T13:23:35.258Z"
   },
   {
    "duration": 102,
    "start_time": "2023-05-20T13:23:35.807Z"
   },
   {
    "duration": 612,
    "start_time": "2023-05-20T13:23:35.911Z"
   },
   {
    "duration": 6,
    "start_time": "2023-05-20T13:23:36.525Z"
   },
   {
    "duration": 50,
    "start_time": "2023-05-20T13:23:36.532Z"
   },
   {
    "duration": 396,
    "start_time": "2023-05-20T13:23:36.584Z"
   },
   {
    "duration": 31,
    "start_time": "2023-05-20T13:23:36.982Z"
   },
   {
    "duration": 533,
    "start_time": "2023-05-20T13:23:37.015Z"
   },
   {
    "duration": 31,
    "start_time": "2023-05-20T13:23:37.551Z"
   },
   {
    "duration": 5,
    "start_time": "2023-05-20T13:23:37.584Z"
   },
   {
    "duration": 34,
    "start_time": "2023-05-20T13:23:37.591Z"
   },
   {
    "duration": 71,
    "start_time": "2023-05-20T13:23:37.628Z"
   },
   {
    "duration": 26,
    "start_time": "2023-05-20T13:23:37.701Z"
   },
   {
    "duration": 21,
    "start_time": "2023-05-20T13:23:37.729Z"
   },
   {
    "duration": 24,
    "start_time": "2023-05-20T13:23:37.752Z"
   },
   {
    "duration": 63,
    "start_time": "2023-05-20T13:23:37.778Z"
   },
   {
    "duration": 34,
    "start_time": "2023-05-20T13:23:37.843Z"
   },
   {
    "duration": 47,
    "start_time": "2023-05-20T13:23:37.879Z"
   },
   {
    "duration": 41,
    "start_time": "2023-05-20T13:23:37.932Z"
   },
   {
    "duration": 41,
    "start_time": "2023-05-20T13:23:37.975Z"
   },
   {
    "duration": 29,
    "start_time": "2023-05-20T13:23:38.018Z"
   },
   {
    "duration": 45,
    "start_time": "2023-05-20T13:23:38.049Z"
   },
   {
    "duration": 5,
    "start_time": "2023-05-20T13:23:38.096Z"
   },
   {
    "duration": 84,
    "start_time": "2023-05-20T13:23:38.103Z"
   },
   {
    "duration": 19,
    "start_time": "2023-05-20T13:23:38.189Z"
   },
   {
    "duration": 29,
    "start_time": "2023-05-20T13:23:38.211Z"
   },
   {
    "duration": 76,
    "start_time": "2023-05-20T13:23:38.242Z"
   },
   {
    "duration": 28,
    "start_time": "2023-05-20T13:23:38.320Z"
   },
   {
    "duration": 42,
    "start_time": "2023-05-20T13:23:38.349Z"
   },
   {
    "duration": 36,
    "start_time": "2023-05-20T13:23:38.393Z"
   },
   {
    "duration": 6,
    "start_time": "2023-05-20T13:23:38.431Z"
   },
   {
    "duration": 65666,
    "start_time": "2023-05-20T13:23:38.439Z"
   },
   {
    "duration": 69,
    "start_time": "2023-05-20T13:24:44.107Z"
   },
   {
    "duration": 132,
    "start_time": "2023-05-20T13:24:44.177Z"
   },
   {
    "duration": 147,
    "start_time": "2023-05-20T13:24:44.312Z"
   },
   {
    "duration": 43,
    "start_time": "2023-05-20T13:24:44.462Z"
   },
   {
    "duration": 40,
    "start_time": "2023-05-20T13:24:44.507Z"
   },
   {
    "duration": 23,
    "start_time": "2023-05-20T13:24:44.549Z"
   },
   {
    "duration": 77,
    "start_time": "2023-05-20T13:24:44.573Z"
   },
   {
    "duration": 67,
    "start_time": "2023-05-20T13:24:44.652Z"
   },
   {
    "duration": 837072,
    "start_time": "2023-05-20T13:24:44.721Z"
   },
   {
    "duration": 16,
    "start_time": "2023-05-20T13:38:41.795Z"
   },
   {
    "duration": 0,
    "start_time": "2023-05-20T13:38:41.813Z"
   },
   {
    "duration": 0,
    "start_time": "2023-05-20T13:38:41.814Z"
   },
   {
    "duration": 0,
    "start_time": "2023-05-20T13:38:41.816Z"
   },
   {
    "duration": 0,
    "start_time": "2023-05-20T13:38:41.817Z"
   },
   {
    "duration": 0,
    "start_time": "2023-05-20T13:38:41.818Z"
   },
   {
    "duration": 0,
    "start_time": "2023-05-20T13:38:41.819Z"
   },
   {
    "duration": 0,
    "start_time": "2023-05-20T13:38:41.820Z"
   },
   {
    "duration": 0,
    "start_time": "2023-05-20T13:38:41.822Z"
   },
   {
    "duration": 0,
    "start_time": "2023-05-20T13:38:41.823Z"
   },
   {
    "duration": 0,
    "start_time": "2023-05-20T13:38:41.824Z"
   },
   {
    "duration": 0,
    "start_time": "2023-05-20T13:38:41.826Z"
   },
   {
    "duration": 4,
    "start_time": "2023-05-20T13:39:09.488Z"
   },
   {
    "duration": 242520,
    "start_time": "2023-05-20T13:39:12.720Z"
   },
   {
    "duration": 16,
    "start_time": "2023-05-20T13:43:23.698Z"
   },
   {
    "duration": 5,
    "start_time": "2023-05-20T13:43:32.665Z"
   },
   {
    "duration": 61886,
    "start_time": "2023-05-20T13:43:35.506Z"
   },
   {
    "duration": 6,
    "start_time": "2023-05-20T13:44:40.178Z"
   },
   {
    "duration": 23754,
    "start_time": "2023-05-20T13:44:42.763Z"
   },
   {
    "duration": 5,
    "start_time": "2023-05-20T13:45:16.778Z"
   },
   {
    "duration": 42859,
    "start_time": "2023-05-20T13:45:19.723Z"
   },
   {
    "duration": 4,
    "start_time": "2023-05-20T13:46:18.101Z"
   },
   {
    "duration": 5,
    "start_time": "2023-05-20T13:46:27.617Z"
   },
   {
    "duration": 4,
    "start_time": "2023-05-20T13:46:46.955Z"
   },
   {
    "duration": 163696,
    "start_time": "2023-05-20T13:46:53.300Z"
   },
   {
    "duration": 8,
    "start_time": "2023-05-20T13:49:45.229Z"
   },
   {
    "duration": 20,
    "start_time": "2023-05-20T13:50:02.428Z"
   },
   {
    "duration": 185750,
    "start_time": "2023-05-20T13:50:42.126Z"
   },
   {
    "duration": 8,
    "start_time": "2023-05-20T13:53:52.754Z"
   },
   {
    "duration": 6,
    "start_time": "2023-05-20T13:55:04.502Z"
   },
   {
    "duration": 394486,
    "start_time": "2023-05-20T13:55:17.205Z"
   },
   {
    "duration": 9,
    "start_time": "2023-05-20T14:02:25.204Z"
   },
   {
    "duration": 17,
    "start_time": "2023-05-20T14:02:29.758Z"
   },
   {
    "duration": 101,
    "start_time": "2023-05-20T14:03:14.796Z"
   },
   {
    "duration": 4,
    "start_time": "2023-05-20T14:03:22.276Z"
   },
   {
    "duration": 74500,
    "start_time": "2023-05-20T14:03:24.724Z"
   },
   {
    "duration": 10,
    "start_time": "2023-05-20T14:04:48.928Z"
   },
   {
    "duration": 18,
    "start_time": "2023-05-20T14:04:58.284Z"
   },
   {
    "duration": 2289,
    "start_time": "2023-05-20T14:08:39.691Z"
   },
   {
    "duration": 1236,
    "start_time": "2023-05-20T14:08:41.983Z"
   },
   {
    "duration": 4,
    "start_time": "2023-05-20T14:08:43.221Z"
   },
   {
    "duration": 1025,
    "start_time": "2023-05-20T14:08:43.227Z"
   },
   {
    "duration": 133,
    "start_time": "2023-05-20T14:08:44.254Z"
   },
   {
    "duration": 132,
    "start_time": "2023-05-20T14:08:44.389Z"
   },
   {
    "duration": 1056,
    "start_time": "2023-05-20T14:08:44.523Z"
   },
   {
    "duration": 7,
    "start_time": "2023-05-20T14:08:45.581Z"
   },
   {
    "duration": 2195,
    "start_time": "2023-05-20T14:08:45.590Z"
   },
   {
    "duration": 589,
    "start_time": "2023-05-20T14:08:47.788Z"
   },
   {
    "duration": 107,
    "start_time": "2023-05-20T14:08:48.379Z"
   },
   {
    "duration": 549,
    "start_time": "2023-05-20T14:08:48.488Z"
   },
   {
    "duration": 6,
    "start_time": "2023-05-20T14:08:49.039Z"
   },
   {
    "duration": 48,
    "start_time": "2023-05-20T14:08:49.047Z"
   },
   {
    "duration": 399,
    "start_time": "2023-05-20T14:08:49.097Z"
   },
   {
    "duration": 28,
    "start_time": "2023-05-20T14:08:49.498Z"
   },
   {
    "duration": 533,
    "start_time": "2023-05-20T14:08:49.528Z"
   },
   {
    "duration": 31,
    "start_time": "2023-05-20T14:08:50.063Z"
   },
   {
    "duration": 12,
    "start_time": "2023-05-20T14:08:50.096Z"
   },
   {
    "duration": 39,
    "start_time": "2023-05-20T14:08:50.110Z"
   },
   {
    "duration": 66,
    "start_time": "2023-05-20T14:08:50.150Z"
   },
   {
    "duration": 27,
    "start_time": "2023-05-20T14:08:50.218Z"
   },
   {
    "duration": 38,
    "start_time": "2023-05-20T14:08:50.246Z"
   },
   {
    "duration": 23,
    "start_time": "2023-05-20T14:08:50.286Z"
   },
   {
    "duration": 86,
    "start_time": "2023-05-20T14:08:50.311Z"
   },
   {
    "duration": 27,
    "start_time": "2023-05-20T14:08:50.399Z"
   },
   {
    "duration": 42,
    "start_time": "2023-05-20T14:08:50.428Z"
   },
   {
    "duration": 47,
    "start_time": "2023-05-20T14:08:50.475Z"
   },
   {
    "duration": 50,
    "start_time": "2023-05-20T14:08:50.524Z"
   },
   {
    "duration": 48,
    "start_time": "2023-05-20T14:08:50.576Z"
   },
   {
    "duration": 43,
    "start_time": "2023-05-20T14:08:50.626Z"
   },
   {
    "duration": 18,
    "start_time": "2023-05-20T14:08:50.671Z"
   },
   {
    "duration": 94,
    "start_time": "2023-05-20T14:08:50.691Z"
   },
   {
    "duration": 46,
    "start_time": "2023-05-20T14:08:50.787Z"
   },
   {
    "duration": 70,
    "start_time": "2023-05-20T14:08:50.835Z"
   },
   {
    "duration": 62,
    "start_time": "2023-05-20T14:08:50.907Z"
   },
   {
    "duration": 42,
    "start_time": "2023-05-20T14:08:50.971Z"
   },
   {
    "duration": 27,
    "start_time": "2023-05-20T14:08:51.015Z"
   },
   {
    "duration": 48,
    "start_time": "2023-05-20T14:08:51.044Z"
   },
   {
    "duration": 28,
    "start_time": "2023-05-20T14:08:51.094Z"
   },
   {
    "duration": 4308,
    "start_time": "2023-05-20T14:08:51.124Z"
   },
   {
    "duration": 0,
    "start_time": "2023-05-20T14:08:55.434Z"
   },
   {
    "duration": 0,
    "start_time": "2023-05-20T14:08:55.435Z"
   },
   {
    "duration": 0,
    "start_time": "2023-05-20T14:08:55.436Z"
   },
   {
    "duration": 0,
    "start_time": "2023-05-20T14:08:55.437Z"
   },
   {
    "duration": 0,
    "start_time": "2023-05-20T14:08:55.438Z"
   },
   {
    "duration": 0,
    "start_time": "2023-05-20T14:08:55.439Z"
   },
   {
    "duration": 0,
    "start_time": "2023-05-20T14:08:55.440Z"
   },
   {
    "duration": 0,
    "start_time": "2023-05-20T14:08:55.441Z"
   },
   {
    "duration": 0,
    "start_time": "2023-05-20T14:08:55.442Z"
   },
   {
    "duration": 0,
    "start_time": "2023-05-20T14:08:55.443Z"
   },
   {
    "duration": 0,
    "start_time": "2023-05-20T14:08:55.444Z"
   },
   {
    "duration": 0,
    "start_time": "2023-05-20T14:08:55.445Z"
   },
   {
    "duration": 0,
    "start_time": "2023-05-20T14:08:55.446Z"
   },
   {
    "duration": 0,
    "start_time": "2023-05-20T14:08:55.472Z"
   },
   {
    "duration": 0,
    "start_time": "2023-05-20T14:08:55.473Z"
   },
   {
    "duration": 0,
    "start_time": "2023-05-20T14:08:55.474Z"
   },
   {
    "duration": 0,
    "start_time": "2023-05-20T14:08:55.475Z"
   },
   {
    "duration": 0,
    "start_time": "2023-05-20T14:08:55.476Z"
   },
   {
    "duration": 0,
    "start_time": "2023-05-20T14:08:55.478Z"
   },
   {
    "duration": 0,
    "start_time": "2023-05-20T14:08:55.479Z"
   },
   {
    "duration": 0,
    "start_time": "2023-05-20T14:08:55.480Z"
   },
   {
    "duration": 14,
    "start_time": "2023-05-20T14:09:04.756Z"
   },
   {
    "duration": 2356,
    "start_time": "2023-05-20T14:09:17.087Z"
   },
   {
    "duration": 1180,
    "start_time": "2023-05-20T14:09:19.446Z"
   },
   {
    "duration": 6,
    "start_time": "2023-05-20T14:09:20.628Z"
   },
   {
    "duration": 1179,
    "start_time": "2023-05-20T14:09:20.637Z"
   },
   {
    "duration": 141,
    "start_time": "2023-05-20T14:09:21.818Z"
   },
   {
    "duration": 122,
    "start_time": "2023-05-20T14:09:21.970Z"
   },
   {
    "duration": 1018,
    "start_time": "2023-05-20T14:09:22.093Z"
   },
   {
    "duration": 6,
    "start_time": "2023-05-20T14:09:23.113Z"
   },
   {
    "duration": 1150,
    "start_time": "2023-05-20T14:09:23.121Z"
   },
   {
    "duration": 597,
    "start_time": "2023-05-20T14:09:24.274Z"
   },
   {
    "duration": 107,
    "start_time": "2023-05-20T14:09:24.873Z"
   },
   {
    "duration": 563,
    "start_time": "2023-05-20T14:09:24.982Z"
   },
   {
    "duration": 7,
    "start_time": "2023-05-20T14:09:25.547Z"
   },
   {
    "duration": 47,
    "start_time": "2023-05-20T14:09:25.556Z"
   },
   {
    "duration": 447,
    "start_time": "2023-05-20T14:09:25.605Z"
   },
   {
    "duration": 43,
    "start_time": "2023-05-20T14:09:26.056Z"
   },
   {
    "duration": 615,
    "start_time": "2023-05-20T14:09:26.105Z"
   },
   {
    "duration": 26,
    "start_time": "2023-05-20T14:09:26.722Z"
   },
   {
    "duration": 83,
    "start_time": "2023-05-20T14:09:26.750Z"
   },
   {
    "duration": 39,
    "start_time": "2023-05-20T14:09:26.835Z"
   },
   {
    "duration": 77,
    "start_time": "2023-05-20T14:09:26.876Z"
   },
   {
    "duration": 35,
    "start_time": "2023-05-20T14:09:26.955Z"
   },
   {
    "duration": 37,
    "start_time": "2023-05-20T14:09:26.992Z"
   },
   {
    "duration": 27,
    "start_time": "2023-05-20T14:09:27.032Z"
   },
   {
    "duration": 66,
    "start_time": "2023-05-20T14:09:27.062Z"
   },
   {
    "duration": 30,
    "start_time": "2023-05-20T14:09:27.130Z"
   },
   {
    "duration": 28,
    "start_time": "2023-05-20T14:09:27.162Z"
   },
   {
    "duration": 45,
    "start_time": "2023-05-20T14:09:27.194Z"
   },
   {
    "duration": 45,
    "start_time": "2023-05-20T14:09:27.242Z"
   },
   {
    "duration": 29,
    "start_time": "2023-05-20T14:09:27.289Z"
   },
   {
    "duration": 37,
    "start_time": "2023-05-20T14:09:27.320Z"
   },
   {
    "duration": 11,
    "start_time": "2023-05-20T14:09:27.359Z"
   },
   {
    "duration": 67,
    "start_time": "2023-05-20T14:09:27.373Z"
   },
   {
    "duration": 31,
    "start_time": "2023-05-20T14:09:27.442Z"
   },
   {
    "duration": 23,
    "start_time": "2023-05-20T14:09:27.475Z"
   },
   {
    "duration": 49,
    "start_time": "2023-05-20T14:09:27.500Z"
   },
   {
    "duration": 44,
    "start_time": "2023-05-20T14:09:27.551Z"
   },
   {
    "duration": 33,
    "start_time": "2023-05-20T14:09:27.597Z"
   },
   {
    "duration": 57,
    "start_time": "2023-05-20T14:09:27.633Z"
   },
   {
    "duration": 7,
    "start_time": "2023-05-20T14:09:27.692Z"
   },
   {
    "duration": 65328,
    "start_time": "2023-05-20T14:09:27.701Z"
   },
   {
    "duration": 62,
    "start_time": "2023-05-20T14:10:33.030Z"
   },
   {
    "duration": 135,
    "start_time": "2023-05-20T14:10:33.095Z"
   },
   {
    "duration": 138,
    "start_time": "2023-05-20T14:10:33.233Z"
   },
   {
    "duration": 35,
    "start_time": "2023-05-20T14:10:33.373Z"
   },
   {
    "duration": 62,
    "start_time": "2023-05-20T14:10:33.410Z"
   },
   {
    "duration": 5,
    "start_time": "2023-05-20T14:10:33.474Z"
   },
   {
    "duration": 61,
    "start_time": "2023-05-20T14:10:33.482Z"
   },
   {
    "duration": 4,
    "start_time": "2023-05-20T14:10:33.546Z"
   },
   {
    "duration": 185961,
    "start_time": "2023-05-20T14:10:33.553Z"
   },
   {
    "duration": 7,
    "start_time": "2023-05-20T14:13:39.516Z"
   },
   {
    "duration": 8,
    "start_time": "2023-05-20T14:13:39.525Z"
   },
   {
    "duration": 75419,
    "start_time": "2023-05-20T14:13:39.535Z"
   },
   {
    "duration": 11,
    "start_time": "2023-05-20T14:14:54.956Z"
   },
   {
    "duration": 16,
    "start_time": "2023-05-20T14:14:54.968Z"
   },
   {
    "duration": 80715,
    "start_time": "2023-05-20T14:14:54.986Z"
   },
   {
    "duration": 13,
    "start_time": "2023-05-20T14:16:15.703Z"
   },
   {
    "duration": 13,
    "start_time": "2023-05-20T14:16:15.719Z"
   },
   {
    "duration": 914591,
    "start_time": "2023-05-20T14:16:15.735Z"
   },
   {
    "duration": 11,
    "start_time": "2023-05-20T14:31:30.329Z"
   },
   {
    "duration": 193,
    "start_time": "2023-05-20T14:31:30.342Z"
   },
   {
    "duration": 539,
    "start_time": "2023-05-20T14:31:30.537Z"
   },
   {
    "duration": 21,
    "start_time": "2023-05-20T14:34:23.586Z"
   },
   {
    "duration": 2341,
    "start_time": "2023-05-20T14:37:08.292Z"
   },
   {
    "duration": 1162,
    "start_time": "2023-05-20T14:37:10.635Z"
   },
   {
    "duration": 4,
    "start_time": "2023-05-20T14:37:11.799Z"
   },
   {
    "duration": 1261,
    "start_time": "2023-05-20T14:37:11.805Z"
   },
   {
    "duration": 137,
    "start_time": "2023-05-20T14:37:13.068Z"
   },
   {
    "duration": 124,
    "start_time": "2023-05-20T14:37:13.207Z"
   },
   {
    "duration": 1058,
    "start_time": "2023-05-20T14:37:13.333Z"
   },
   {
    "duration": 6,
    "start_time": "2023-05-20T14:37:14.394Z"
   },
   {
    "duration": 1202,
    "start_time": "2023-05-20T14:37:14.402Z"
   },
   {
    "duration": 654,
    "start_time": "2023-05-20T14:37:15.607Z"
   },
   {
    "duration": 116,
    "start_time": "2023-05-20T14:37:16.263Z"
   },
   {
    "duration": 585,
    "start_time": "2023-05-20T14:37:16.381Z"
   },
   {
    "duration": 17,
    "start_time": "2023-05-20T14:37:16.968Z"
   },
   {
    "duration": 44,
    "start_time": "2023-05-20T14:37:16.987Z"
   },
   {
    "duration": 414,
    "start_time": "2023-05-20T14:37:17.034Z"
   },
   {
    "duration": 39,
    "start_time": "2023-05-20T14:37:17.451Z"
   },
   {
    "duration": 591,
    "start_time": "2023-05-20T14:37:17.493Z"
   },
   {
    "duration": 25,
    "start_time": "2023-05-20T14:37:18.086Z"
   },
   {
    "duration": 5,
    "start_time": "2023-05-20T14:37:18.113Z"
   },
   {
    "duration": 35,
    "start_time": "2023-05-20T14:37:18.120Z"
   },
   {
    "duration": 66,
    "start_time": "2023-05-20T14:37:18.157Z"
   },
   {
    "duration": 28,
    "start_time": "2023-05-20T14:37:18.225Z"
   },
   {
    "duration": 54,
    "start_time": "2023-05-20T14:37:18.254Z"
   },
   {
    "duration": 16,
    "start_time": "2023-05-20T14:37:18.310Z"
   },
   {
    "duration": 67,
    "start_time": "2023-05-20T14:37:18.328Z"
   },
   {
    "duration": 28,
    "start_time": "2023-05-20T14:37:18.397Z"
   },
   {
    "duration": 42,
    "start_time": "2023-05-20T14:37:18.427Z"
   },
   {
    "duration": 65,
    "start_time": "2023-05-20T14:37:18.474Z"
   },
   {
    "duration": 48,
    "start_time": "2023-05-20T14:37:18.541Z"
   },
   {
    "duration": 26,
    "start_time": "2023-05-20T14:37:18.593Z"
   },
   {
    "duration": 42,
    "start_time": "2023-05-20T14:37:18.621Z"
   },
   {
    "duration": 17,
    "start_time": "2023-05-20T14:37:18.665Z"
   },
   {
    "duration": 76,
    "start_time": "2023-05-20T14:37:18.684Z"
   },
   {
    "duration": 41,
    "start_time": "2023-05-20T14:37:18.762Z"
   },
   {
    "duration": 44,
    "start_time": "2023-05-20T14:37:18.805Z"
   },
   {
    "duration": 63,
    "start_time": "2023-05-20T14:37:18.851Z"
   },
   {
    "duration": 70,
    "start_time": "2023-05-20T14:37:18.916Z"
   },
   {
    "duration": 95,
    "start_time": "2023-05-20T14:37:18.990Z"
   },
   {
    "duration": 35,
    "start_time": "2023-05-20T14:37:19.087Z"
   },
   {
    "duration": 5,
    "start_time": "2023-05-20T14:37:19.124Z"
   },
   {
    "duration": 67624,
    "start_time": "2023-05-20T14:37:19.130Z"
   },
   {
    "duration": 63,
    "start_time": "2023-05-20T14:38:26.756Z"
   },
   {
    "duration": 139,
    "start_time": "2023-05-20T14:38:26.821Z"
   },
   {
    "duration": 151,
    "start_time": "2023-05-20T14:38:26.962Z"
   },
   {
    "duration": 35,
    "start_time": "2023-05-20T14:38:27.115Z"
   },
   {
    "duration": 59,
    "start_time": "2023-05-20T14:38:27.153Z"
   },
   {
    "duration": 5,
    "start_time": "2023-05-20T14:38:27.215Z"
   },
   {
    "duration": 77,
    "start_time": "2023-05-20T14:38:27.222Z"
   },
   {
    "duration": 4,
    "start_time": "2023-05-20T14:38:27.301Z"
   },
   {
    "duration": 248522,
    "start_time": "2023-05-20T14:38:27.307Z"
   },
   {
    "duration": 7,
    "start_time": "2023-05-20T14:42:35.872Z"
   },
   {
    "duration": 34,
    "start_time": "2023-05-20T14:42:35.881Z"
   },
   {
    "duration": 8,
    "start_time": "2023-05-20T14:42:35.918Z"
   },
   {
    "duration": 71600,
    "start_time": "2023-05-20T14:42:35.928Z"
   },
   {
    "duration": 10,
    "start_time": "2023-05-20T14:43:47.530Z"
   },
   {
    "duration": 22,
    "start_time": "2023-05-20T14:43:47.542Z"
   },
   {
    "duration": 9,
    "start_time": "2023-05-20T14:43:47.566Z"
   },
   {
    "duration": 78475,
    "start_time": "2023-05-20T14:43:47.577Z"
   },
   {
    "duration": 15,
    "start_time": "2023-05-20T14:45:06.054Z"
   },
   {
    "duration": 52,
    "start_time": "2023-05-20T14:45:06.071Z"
   },
   {
    "duration": 16,
    "start_time": "2023-05-20T14:45:06.124Z"
   },
   {
    "duration": 546369,
    "start_time": "2023-05-20T14:45:06.142Z"
   },
   {
    "duration": 10,
    "start_time": "2023-05-20T14:54:12.513Z"
   },
   {
    "duration": 24,
    "start_time": "2023-05-20T14:54:12.525Z"
   },
   {
    "duration": 28,
    "start_time": "2023-05-20T14:54:12.551Z"
   },
   {
    "duration": 392,
    "start_time": "2023-05-20T14:54:12.581Z"
   },
   {
    "duration": 156,
    "start_time": "2023-05-20T14:54:12.977Z"
   },
   {
    "duration": 0,
    "start_time": "2023-05-20T14:54:13.135Z"
   },
   {
    "duration": 4,
    "start_time": "2023-05-20T22:53:22.777Z"
   },
   {
    "duration": 1252966,
    "start_time": "2023-05-20T22:53:26.243Z"
   },
   {
    "duration": 8,
    "start_time": "2023-05-20T23:15:04.249Z"
   },
   {
    "duration": 18,
    "start_time": "2023-05-20T23:15:08.508Z"
   },
   {
    "duration": 10915,
    "start_time": "2023-05-21T06:49:08.454Z"
   },
   {
    "duration": 1140,
    "start_time": "2023-05-21T06:49:19.371Z"
   },
   {
    "duration": 4,
    "start_time": "2023-05-21T06:49:20.513Z"
   },
   {
    "duration": 1559,
    "start_time": "2023-05-21T06:49:20.519Z"
   },
   {
    "duration": 149,
    "start_time": "2023-05-21T06:49:22.080Z"
   },
   {
    "duration": 117,
    "start_time": "2023-05-21T06:49:22.245Z"
   },
   {
    "duration": 1144,
    "start_time": "2023-05-21T06:49:22.364Z"
   },
   {
    "duration": 6,
    "start_time": "2023-05-21T06:49:23.510Z"
   },
   {
    "duration": 1079,
    "start_time": "2023-05-21T06:49:23.526Z"
   },
   {
    "duration": 596,
    "start_time": "2023-05-21T06:49:24.607Z"
   },
   {
    "duration": 121,
    "start_time": "2023-05-21T06:49:25.205Z"
   },
   {
    "duration": 758,
    "start_time": "2023-05-21T06:49:25.327Z"
   },
   {
    "duration": 5,
    "start_time": "2023-05-21T06:49:26.087Z"
   },
   {
    "duration": 59,
    "start_time": "2023-05-21T06:49:26.095Z"
   },
   {
    "duration": 482,
    "start_time": "2023-05-21T06:49:26.157Z"
   },
   {
    "duration": 37,
    "start_time": "2023-05-21T06:49:26.641Z"
   },
   {
    "duration": 447,
    "start_time": "2023-05-21T06:49:26.680Z"
   },
   {
    "duration": 25,
    "start_time": "2023-05-21T06:49:27.131Z"
   },
   {
    "duration": 28,
    "start_time": "2023-05-21T06:49:27.158Z"
   },
   {
    "duration": 79,
    "start_time": "2023-05-21T06:49:27.188Z"
   },
   {
    "duration": 83,
    "start_time": "2023-05-21T06:49:27.269Z"
   },
   {
    "duration": 48,
    "start_time": "2023-05-21T06:49:27.354Z"
   },
   {
    "duration": 41,
    "start_time": "2023-05-21T06:49:27.404Z"
   },
   {
    "duration": 34,
    "start_time": "2023-05-21T06:49:27.446Z"
   },
   {
    "duration": 85,
    "start_time": "2023-05-21T06:49:27.482Z"
   },
   {
    "duration": 65,
    "start_time": "2023-05-21T06:49:27.568Z"
   },
   {
    "duration": 46,
    "start_time": "2023-05-21T06:49:27.635Z"
   },
   {
    "duration": 43,
    "start_time": "2023-05-21T06:49:27.683Z"
   },
   {
    "duration": 63,
    "start_time": "2023-05-21T06:49:27.728Z"
   },
   {
    "duration": 35,
    "start_time": "2023-05-21T06:49:27.793Z"
   },
   {
    "duration": 68,
    "start_time": "2023-05-21T06:49:27.830Z"
   },
   {
    "duration": 20,
    "start_time": "2023-05-21T06:49:27.900Z"
   },
   {
    "duration": 157,
    "start_time": "2023-05-21T06:49:27.922Z"
   },
   {
    "duration": 16,
    "start_time": "2023-05-21T06:49:28.081Z"
   },
   {
    "duration": 50,
    "start_time": "2023-05-21T06:49:28.099Z"
   },
   {
    "duration": 53,
    "start_time": "2023-05-21T06:49:28.151Z"
   },
   {
    "duration": 27,
    "start_time": "2023-05-21T06:49:28.206Z"
   },
   {
    "duration": 57,
    "start_time": "2023-05-21T06:49:28.235Z"
   },
   {
    "duration": 35,
    "start_time": "2023-05-21T06:49:28.293Z"
   },
   {
    "duration": 11,
    "start_time": "2023-05-21T06:49:28.330Z"
   },
   {
    "duration": 74267,
    "start_time": "2023-05-21T06:49:28.347Z"
   },
   {
    "duration": 83,
    "start_time": "2023-05-21T06:50:42.616Z"
   },
   {
    "duration": 187,
    "start_time": "2023-05-21T06:50:42.700Z"
   },
   {
    "duration": 142,
    "start_time": "2023-05-21T06:50:42.889Z"
   },
   {
    "duration": 35,
    "start_time": "2023-05-21T06:50:43.033Z"
   },
   {
    "duration": 78,
    "start_time": "2023-05-21T06:50:43.070Z"
   },
   {
    "duration": 26,
    "start_time": "2023-05-21T06:50:43.149Z"
   },
   {
    "duration": 91,
    "start_time": "2023-05-21T06:50:43.177Z"
   },
   {
    "duration": 5,
    "start_time": "2023-05-21T06:50:43.270Z"
   },
   {
    "duration": 3533747,
    "start_time": "2023-05-21T06:50:43.276Z"
   },
   {
    "duration": 33,
    "start_time": "2023-05-21T07:49:37.029Z"
   },
   {
    "duration": 0,
    "start_time": "2023-05-21T07:49:37.068Z"
   },
   {
    "duration": 0,
    "start_time": "2023-05-21T07:49:37.072Z"
   },
   {
    "duration": 0,
    "start_time": "2023-05-21T07:49:37.075Z"
   },
   {
    "duration": 0,
    "start_time": "2023-05-21T07:49:37.076Z"
   },
   {
    "duration": 0,
    "start_time": "2023-05-21T07:49:37.077Z"
   },
   {
    "duration": 0,
    "start_time": "2023-05-21T07:49:37.078Z"
   },
   {
    "duration": 0,
    "start_time": "2023-05-21T07:49:37.080Z"
   },
   {
    "duration": 0,
    "start_time": "2023-05-21T07:49:37.081Z"
   },
   {
    "duration": 0,
    "start_time": "2023-05-21T07:49:37.082Z"
   },
   {
    "duration": 0,
    "start_time": "2023-05-21T07:49:37.083Z"
   },
   {
    "duration": 0,
    "start_time": "2023-05-21T07:49:37.085Z"
   },
   {
    "duration": 0,
    "start_time": "2023-05-21T07:49:37.086Z"
   },
   {
    "duration": 0,
    "start_time": "2023-05-21T07:49:37.088Z"
   },
   {
    "duration": 0,
    "start_time": "2023-05-21T07:49:37.089Z"
   },
   {
    "duration": 0,
    "start_time": "2023-05-21T07:49:37.090Z"
   },
   {
    "duration": 4,
    "start_time": "2023-05-21T07:52:22.393Z"
   },
   {
    "duration": 60,
    "start_time": "2023-05-21T07:52:24.933Z"
   },
   {
    "duration": 4,
    "start_time": "2023-05-21T07:52:30.904Z"
   },
   {
    "duration": 515557,
    "start_time": "2023-05-21T07:52:34.347Z"
   },
   {
    "duration": 8,
    "start_time": "2023-05-21T08:01:22.484Z"
   },
   {
    "duration": 16,
    "start_time": "2023-05-21T08:01:30.363Z"
   },
   {
    "duration": 4,
    "start_time": "2023-05-21T08:01:50.260Z"
   },
   {
    "duration": 78067,
    "start_time": "2023-05-21T08:01:55.036Z"
   },
   {
    "duration": 12,
    "start_time": "2023-05-21T08:03:32.506Z"
   },
   {
    "duration": 18,
    "start_time": "2023-05-21T08:03:49.475Z"
   },
   {
    "duration": 5,
    "start_time": "2023-05-21T08:04:07.463Z"
   },
   {
    "duration": 88645,
    "start_time": "2023-05-21T08:04:10.850Z"
   },
   {
    "duration": 12,
    "start_time": "2023-05-21T08:06:09.122Z"
   },
   {
    "duration": 22,
    "start_time": "2023-05-21T08:06:27.850Z"
   },
   {
    "duration": 5,
    "start_time": "2023-05-21T08:06:45.507Z"
   },
   {
    "duration": 25380,
    "start_time": "2023-05-21T08:06:50.515Z"
   },
   {
    "duration": 8,
    "start_time": "2023-05-21T08:07:23.759Z"
   },
   {
    "duration": 2271928,
    "start_time": "2023-05-21T08:07:26.067Z"
   },
   {
    "duration": 4,
    "start_time": "2023-05-21T08:45:42.806Z"
   },
   {
    "duration": 2538687,
    "start_time": "2023-05-21T08:45:51.807Z"
   },
   {
    "duration": 4,
    "start_time": "2023-05-21T09:28:53.288Z"
   },
   {
    "duration": 12,
    "start_time": "2023-05-21T09:30:18.049Z"
   },
   {
    "duration": 5,
    "start_time": "2023-05-21T09:30:22.857Z"
   },
   {
    "duration": 6,
    "start_time": "2023-05-21T09:30:26.760Z"
   },
   {
    "duration": 9,
    "start_time": "2023-05-21T09:32:13.229Z"
   },
   {
    "duration": 4,
    "start_time": "2023-05-21T09:34:01.975Z"
   },
   {
    "duration": 5,
    "start_time": "2023-05-21T09:34:04.282Z"
   },
   {
    "duration": 5,
    "start_time": "2023-05-21T09:34:11.691Z"
   },
   {
    "duration": 142737,
    "start_time": "2023-05-21T09:34:21.307Z"
   },
   {
    "duration": 8,
    "start_time": "2023-05-21T09:37:05.124Z"
   },
   {
    "duration": 5,
    "start_time": "2023-05-21T09:37:08.717Z"
   },
   {
    "duration": 6,
    "start_time": "2023-05-21T09:37:15.835Z"
   },
   {
    "duration": 398810,
    "start_time": "2023-05-21T09:37:19.253Z"
   },
   {
    "duration": 16,
    "start_time": "2023-05-21T09:44:56.625Z"
   },
   {
    "duration": 20,
    "start_time": "2023-05-21T09:45:01.686Z"
   },
   {
    "duration": 6,
    "start_time": "2023-05-21T09:52:09.237Z"
   },
   {
    "duration": 7,
    "start_time": "2023-05-21T09:52:11.413Z"
   },
   {
    "duration": 3,
    "start_time": "2023-05-21T09:52:14.214Z"
   },
   {
    "duration": 472042,
    "start_time": "2023-05-21T09:52:18.951Z"
   },
   {
    "duration": 5,
    "start_time": "2023-05-21T10:00:23.778Z"
   },
   {
    "duration": 4,
    "start_time": "2023-05-21T10:00:26.843Z"
   },
   {
    "duration": 6,
    "start_time": "2023-05-21T10:00:29.690Z"
   },
   {
    "duration": 393252,
    "start_time": "2023-05-21T10:00:32.850Z"
   },
   {
    "duration": 12,
    "start_time": "2023-05-21T10:07:15.798Z"
   },
   {
    "duration": 16,
    "start_time": "2023-05-21T10:07:22.046Z"
   },
   {
    "duration": 5,
    "start_time": "2023-05-21T10:08:22.406Z"
   },
   {
    "duration": 109129,
    "start_time": "2023-05-21T10:08:28.384Z"
   },
   {
    "duration": 6,
    "start_time": "2023-05-21T10:10:56.289Z"
   },
   {
    "duration": 108308,
    "start_time": "2023-05-21T10:11:08.274Z"
   },
   {
    "duration": 13,
    "start_time": "2023-05-21T10:13:54.867Z"
   },
   {
    "duration": 5,
    "start_time": "2023-05-21T10:14:59.193Z"
   },
   {
    "duration": 93037,
    "start_time": "2023-05-21T10:15:01.789Z"
   },
   {
    "duration": 5,
    "start_time": "2023-05-21T10:16:57.252Z"
   },
   {
    "duration": 4,
    "start_time": "2023-05-21T10:17:05.265Z"
   },
   {
    "duration": 4,
    "start_time": "2023-05-21T10:17:07.707Z"
   },
   {
    "duration": 4,
    "start_time": "2023-05-21T10:17:13.565Z"
   },
   {
    "duration": 4,
    "start_time": "2023-05-21T10:17:16.595Z"
   },
   {
    "duration": 4,
    "start_time": "2023-05-21T10:17:33.715Z"
   },
   {
    "duration": 426081,
    "start_time": "2023-05-21T10:17:58.765Z"
   },
   {
    "duration": 11,
    "start_time": "2023-05-21T10:27:17.008Z"
   },
   {
    "duration": 6,
    "start_time": "2023-05-21T10:27:29.520Z"
   },
   {
    "duration": 6,
    "start_time": "2023-05-21T10:27:36.357Z"
   },
   {
    "duration": 4,
    "start_time": "2023-05-21T10:27:40.000Z"
   },
   {
    "duration": 20,
    "start_time": "2023-05-21T10:27:45.473Z"
   },
   {
    "duration": 14,
    "start_time": "2023-05-21T10:27:48.365Z"
   },
   {
    "duration": 416708,
    "start_time": "2023-05-21T10:27:54.481Z"
   },
   {
    "duration": 10,
    "start_time": "2023-05-21T10:35:24.421Z"
   },
   {
    "duration": 5,
    "start_time": "2023-05-21T10:35:59.108Z"
   },
   {
    "duration": 5,
    "start_time": "2023-05-21T10:37:24.414Z"
   },
   {
    "duration": 24,
    "start_time": "2023-05-21T10:37:33.421Z"
   },
   {
    "duration": 335581,
    "start_time": "2023-05-21T10:37:44.703Z"
   },
   {
    "duration": 4,
    "start_time": "2023-05-21T10:43:32.152Z"
   },
   {
    "duration": 7,
    "start_time": "2023-05-21T10:43:35.320Z"
   },
   {
    "duration": 5,
    "start_time": "2023-05-21T10:43:37.953Z"
   },
   {
    "duration": 406836,
    "start_time": "2023-05-21T10:43:40.859Z"
   },
   {
    "duration": 13,
    "start_time": "2023-05-21T10:54:11.087Z"
   },
   {
    "duration": 5,
    "start_time": "2023-05-21T10:54:43.263Z"
   },
   {
    "duration": 11,
    "start_time": "2023-05-21T10:54:55.155Z"
   },
   {
    "duration": 5,
    "start_time": "2023-05-21T10:54:57.911Z"
   },
   {
    "duration": 5,
    "start_time": "2023-05-21T10:55:00.178Z"
   },
   {
    "duration": 486069,
    "start_time": "2023-05-21T10:55:03.096Z"
   },
   {
    "duration": 17,
    "start_time": "2023-05-21T11:04:39.706Z"
   },
   {
    "duration": 5,
    "start_time": "2023-05-21T11:04:45.187Z"
   },
   {
    "duration": 4,
    "start_time": "2023-05-21T11:04:47.554Z"
   },
   {
    "duration": 4,
    "start_time": "2023-05-21T11:04:55.818Z"
   },
   {
    "duration": 477384,
    "start_time": "2023-05-21T11:04:59.563Z"
   },
   {
    "duration": 11,
    "start_time": "2023-05-21T11:13:39.956Z"
   },
   {
    "duration": 27,
    "start_time": "2023-05-21T11:13:42.314Z"
   },
   {
    "duration": 6,
    "start_time": "2023-05-21T11:14:19.453Z"
   },
   {
    "duration": 4,
    "start_time": "2023-05-21T11:14:21.979Z"
   },
   {
    "duration": 8,
    "start_time": "2023-05-21T11:14:24.770Z"
   },
   {
    "duration": 19,
    "start_time": "2023-05-21T11:14:34.653Z"
   },
   {
    "duration": 4,
    "start_time": "2023-05-21T11:15:57.299Z"
   },
   {
    "duration": 6,
    "start_time": "2023-05-21T11:16:19.875Z"
   },
   {
    "duration": 6,
    "start_time": "2023-05-21T11:16:22.595Z"
   },
   {
    "duration": 4,
    "start_time": "2023-05-21T11:16:25.172Z"
   },
   {
    "duration": 164465,
    "start_time": "2023-05-21T11:16:28.174Z"
   },
   {
    "duration": 9,
    "start_time": "2023-05-21T11:19:36.703Z"
   },
   {
    "duration": 18,
    "start_time": "2023-05-21T11:19:42.022Z"
   },
   {
    "duration": 4,
    "start_time": "2023-05-21T11:20:26.085Z"
   },
   {
    "duration": 4,
    "start_time": "2023-05-21T11:20:29.104Z"
   },
   {
    "duration": 4,
    "start_time": "2023-05-21T11:20:31.654Z"
   },
   {
    "duration": 228664,
    "start_time": "2023-05-21T11:20:40.112Z"
   },
   {
    "duration": 12,
    "start_time": "2023-05-21T11:24:34.923Z"
   },
   {
    "duration": 4,
    "start_time": "2023-05-21T11:25:38.674Z"
   },
   {
    "duration": 4,
    "start_time": "2023-05-21T11:25:42.402Z"
   },
   {
    "duration": 5,
    "start_time": "2023-05-21T11:25:44.803Z"
   },
   {
    "duration": 594217,
    "start_time": "2023-05-21T11:25:48.931Z"
   },
   {
    "duration": 2332,
    "start_time": "2023-05-21T11:35:56.518Z"
   },
   {
    "duration": 1067,
    "start_time": "2023-05-21T11:35:58.853Z"
   },
   {
    "duration": 10,
    "start_time": "2023-05-21T11:35:59.922Z"
   },
   {
    "duration": 948,
    "start_time": "2023-05-21T11:35:59.934Z"
   },
   {
    "duration": 165,
    "start_time": "2023-05-21T11:36:00.884Z"
   },
   {
    "duration": 143,
    "start_time": "2023-05-21T11:36:01.051Z"
   },
   {
    "duration": 950,
    "start_time": "2023-05-21T11:36:01.196Z"
   },
   {
    "duration": 5,
    "start_time": "2023-05-21T11:36:02.147Z"
   },
   {
    "duration": 1072,
    "start_time": "2023-05-21T11:36:02.154Z"
   },
   {
    "duration": 523,
    "start_time": "2023-05-21T11:36:03.231Z"
   },
   {
    "duration": 98,
    "start_time": "2023-05-21T11:36:03.756Z"
   },
   {
    "duration": 466,
    "start_time": "2023-05-21T11:36:03.855Z"
   },
   {
    "duration": 12,
    "start_time": "2023-05-21T11:36:04.324Z"
   },
   {
    "duration": 35,
    "start_time": "2023-05-21T11:36:04.341Z"
   },
   {
    "duration": 358,
    "start_time": "2023-05-21T11:36:04.378Z"
   },
   {
    "duration": 23,
    "start_time": "2023-05-21T11:36:04.737Z"
   },
   {
    "duration": 546,
    "start_time": "2023-05-21T11:36:04.762Z"
   },
   {
    "duration": 34,
    "start_time": "2023-05-21T11:36:05.310Z"
   },
   {
    "duration": 13,
    "start_time": "2023-05-21T11:36:05.349Z"
   },
   {
    "duration": 53,
    "start_time": "2023-05-21T11:36:05.363Z"
   },
   {
    "duration": 75,
    "start_time": "2023-05-21T11:36:05.418Z"
   },
   {
    "duration": 37,
    "start_time": "2023-05-21T11:36:05.495Z"
   },
   {
    "duration": 45,
    "start_time": "2023-05-21T11:36:05.534Z"
   },
   {
    "duration": 15,
    "start_time": "2023-05-21T11:36:05.581Z"
   },
   {
    "duration": 72,
    "start_time": "2023-05-21T11:36:05.598Z"
   },
   {
    "duration": 28,
    "start_time": "2023-05-21T11:36:05.672Z"
   },
   {
    "duration": 35,
    "start_time": "2023-05-21T11:36:05.702Z"
   },
   {
    "duration": 40,
    "start_time": "2023-05-21T11:36:05.743Z"
   },
   {
    "duration": 54,
    "start_time": "2023-05-21T11:36:05.785Z"
   },
   {
    "duration": 31,
    "start_time": "2023-05-21T11:36:05.841Z"
   },
   {
    "duration": 45,
    "start_time": "2023-05-21T11:36:05.874Z"
   },
   {
    "duration": 20,
    "start_time": "2023-05-21T11:36:05.921Z"
   },
   {
    "duration": 99,
    "start_time": "2023-05-21T11:36:05.943Z"
   },
   {
    "duration": 18,
    "start_time": "2023-05-21T11:36:06.044Z"
   },
   {
    "duration": 48,
    "start_time": "2023-05-21T11:36:06.064Z"
   },
   {
    "duration": 53,
    "start_time": "2023-05-21T11:36:06.114Z"
   },
   {
    "duration": 27,
    "start_time": "2023-05-21T11:36:06.168Z"
   },
   {
    "duration": 68,
    "start_time": "2023-05-21T11:36:06.197Z"
   },
   {
    "duration": 38,
    "start_time": "2023-05-21T11:36:06.267Z"
   },
   {
    "duration": 35,
    "start_time": "2023-05-21T11:36:06.307Z"
   },
   {
    "duration": 67548,
    "start_time": "2023-05-21T11:36:06.343Z"
   },
   {
    "duration": 77,
    "start_time": "2023-05-21T11:37:13.892Z"
   },
   {
    "duration": 125,
    "start_time": "2023-05-21T11:37:13.970Z"
   },
   {
    "duration": 152,
    "start_time": "2023-05-21T11:37:14.097Z"
   },
   {
    "duration": 26,
    "start_time": "2023-05-21T11:37:14.251Z"
   },
   {
    "duration": 65,
    "start_time": "2023-05-21T11:37:14.278Z"
   },
   {
    "duration": 13,
    "start_time": "2023-05-21T11:37:14.345Z"
   },
   {
    "duration": 83,
    "start_time": "2023-05-21T11:37:14.361Z"
   },
   {
    "duration": 5,
    "start_time": "2023-05-21T11:37:14.446Z"
   },
   {
    "duration": 443988,
    "start_time": "2023-05-21T11:37:14.453Z"
   },
   {
    "duration": 7,
    "start_time": "2023-05-21T11:44:38.443Z"
   },
   {
    "duration": 24,
    "start_time": "2023-05-21T11:44:38.452Z"
   },
   {
    "duration": 10,
    "start_time": "2023-05-21T11:44:38.477Z"
   },
   {
    "duration": 390609,
    "start_time": "2023-05-21T11:44:38.489Z"
   },
   {
    "duration": 8,
    "start_time": "2023-05-21T11:51:09.099Z"
   },
   {
    "duration": 32,
    "start_time": "2023-05-21T11:51:09.109Z"
   },
   {
    "duration": 4,
    "start_time": "2023-05-21T11:51:09.145Z"
   },
   {
    "duration": 407395,
    "start_time": "2023-05-21T11:51:09.150Z"
   },
   {
    "duration": 9,
    "start_time": "2023-05-21T11:57:56.547Z"
   },
   {
    "duration": 19,
    "start_time": "2023-05-21T11:57:56.557Z"
   },
   {
    "duration": 4,
    "start_time": "2023-05-21T11:57:56.578Z"
   },
   {
    "duration": 365695,
    "start_time": "2023-05-21T11:57:56.583Z"
   },
   {
    "duration": 13,
    "start_time": "2023-05-21T12:04:02.280Z"
   },
   {
    "duration": 121,
    "start_time": "2023-05-21T12:04:02.295Z"
   },
   {
    "duration": 54,
    "start_time": "2023-05-21T12:04:02.419Z"
   },
   {
    "duration": 452,
    "start_time": "2023-05-21T12:04:02.476Z"
   },
   {
    "duration": 19,
    "start_time": "2023-05-21T12:13:31.908Z"
   },
   {
    "duration": 399,
    "start_time": "2023-05-21T12:31:40.547Z"
   },
   {
    "duration": 11014,
    "start_time": "2023-05-22T04:48:11.577Z"
   },
   {
    "duration": 1229,
    "start_time": "2023-05-22T04:48:22.594Z"
   },
   {
    "duration": 5,
    "start_time": "2023-05-22T04:48:23.826Z"
   },
   {
    "duration": 1229,
    "start_time": "2023-05-22T04:48:43.487Z"
   },
   {
    "duration": 159,
    "start_time": "2023-05-22T04:48:46.175Z"
   },
   {
    "duration": 96,
    "start_time": "2023-05-22T04:48:47.492Z"
   },
   {
    "duration": 920,
    "start_time": "2023-05-22T04:48:49.769Z"
   },
   {
    "duration": 6,
    "start_time": "2023-05-22T04:50:12.315Z"
   },
   {
    "duration": 954,
    "start_time": "2023-05-22T04:50:18.280Z"
   },
   {
    "duration": 479,
    "start_time": "2023-05-22T04:50:21.459Z"
   },
   {
    "duration": 89,
    "start_time": "2023-05-22T04:50:45.590Z"
   },
   {
    "duration": 548,
    "start_time": "2023-05-22T04:50:58.662Z"
   },
   {
    "duration": 5,
    "start_time": "2023-05-22T04:51:02.149Z"
   },
   {
    "duration": 25,
    "start_time": "2023-05-22T04:51:21.168Z"
   },
   {
    "duration": 347,
    "start_time": "2023-05-22T04:51:36.916Z"
   },
   {
    "duration": 32,
    "start_time": "2023-05-22T04:51:50.184Z"
   },
   {
    "duration": 461,
    "start_time": "2023-05-22T04:52:13.217Z"
   },
   {
    "duration": 22,
    "start_time": "2023-05-22T04:52:27.480Z"
   },
   {
    "duration": 5,
    "start_time": "2023-05-22T04:52:40.662Z"
   },
   {
    "duration": 37,
    "start_time": "2023-05-22T04:52:45.187Z"
   },
   {
    "duration": 49,
    "start_time": "2023-05-22T04:52:54.822Z"
   },
   {
    "duration": 52,
    "start_time": "2023-05-22T04:52:58.610Z"
   },
   {
    "duration": 119,
    "start_time": "2023-05-22T04:53:12.842Z"
   },
   {
    "duration": 18,
    "start_time": "2023-05-22T04:53:17.839Z"
   },
   {
    "duration": 13,
    "start_time": "2023-05-22T04:53:20.394Z"
   },
   {
    "duration": 45,
    "start_time": "2023-05-22T04:55:27.747Z"
   },
   {
    "duration": 28,
    "start_time": "2023-05-22T04:55:32.022Z"
   },
   {
    "duration": 13,
    "start_time": "2023-05-22T04:55:40.211Z"
   },
   {
    "duration": 32,
    "start_time": "2023-05-22T04:55:56.071Z"
   },
   {
    "duration": 41,
    "start_time": "2023-05-22T04:56:09.841Z"
   },
   {
    "duration": 5,
    "start_time": "2023-05-22T04:56:15.912Z"
   },
   {
    "duration": 35,
    "start_time": "2023-05-22T04:56:21.592Z"
   },
   {
    "duration": 4,
    "start_time": "2023-05-22T04:56:40.090Z"
   },
   {
    "duration": 78,
    "start_time": "2023-05-22T04:56:41.699Z"
   },
   {
    "duration": 17,
    "start_time": "2023-05-22T04:57:24.870Z"
   },
   {
    "duration": 21,
    "start_time": "2023-05-22T04:57:25.920Z"
   },
   {
    "duration": 35,
    "start_time": "2023-05-22T04:57:45.915Z"
   },
   {
    "duration": 29,
    "start_time": "2023-05-22T04:58:48.918Z"
   },
   {
    "duration": 43,
    "start_time": "2023-05-22T04:58:59.234Z"
   },
   {
    "duration": 40,
    "start_time": "2023-05-22T04:59:18.313Z"
   },
   {
    "duration": 5,
    "start_time": "2023-05-22T04:59:19.131Z"
   },
   {
    "duration": 76039,
    "start_time": "2023-05-22T04:59:41.195Z"
   },
   {
    "duration": 19,
    "start_time": "2023-05-22T05:02:31.051Z"
   },
   {
    "duration": 10,
    "start_time": "2023-05-22T05:04:41.203Z"
   },
   {
    "duration": 3,
    "start_time": "2023-05-22T05:04:59.312Z"
   },
   {
    "duration": 129,
    "start_time": "2023-05-22T05:05:13.743Z"
   },
   {
    "duration": 81,
    "start_time": "2023-05-22T05:05:15.423Z"
   },
   {
    "duration": 178,
    "start_time": "2023-05-22T05:05:29.660Z"
   },
   {
    "duration": 30,
    "start_time": "2023-05-22T05:05:43.921Z"
   },
   {
    "duration": 48,
    "start_time": "2023-05-22T05:06:12.145Z"
   },
   {
    "duration": 4,
    "start_time": "2023-05-22T05:06:46.810Z"
   },
   {
    "duration": 41,
    "start_time": "2023-05-22T05:07:07.510Z"
   }
  ],
  "kernelspec": {
   "display_name": "Python 3 (ipykernel)",
   "language": "python",
   "name": "python3"
  },
  "language_info": {
   "codemirror_mode": {
    "name": "ipython",
    "version": 3
   },
   "file_extension": ".py",
   "mimetype": "text/x-python",
   "name": "python",
   "nbconvert_exporter": "python",
   "pygments_lexer": "ipython3",
   "version": "3.9.5"
  },
  "toc": {
   "base_numbering": 1,
   "nav_menu": {},
   "number_sections": true,
   "sideBar": true,
   "skip_h1_title": true,
   "title_cell": "Содержание",
   "title_sidebar": "Contents",
   "toc_cell": true,
   "toc_position": {
    "height": "calc(100% - 180px)",
    "left": "10px",
    "top": "150px",
    "width": "371px"
   },
   "toc_section_display": true,
   "toc_window_display": true
  }
 },
 "nbformat": 4,
 "nbformat_minor": 2
}
