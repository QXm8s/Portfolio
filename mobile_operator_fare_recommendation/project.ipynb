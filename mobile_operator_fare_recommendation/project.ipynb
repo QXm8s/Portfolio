{
 "cells": [
  {
   "cell_type": "markdown",
   "metadata": {},
   "source": [
    "# ОБЗОР ТРЕХ МОДЕЛЕЙ МАШИННОГО ОБУЧЕНИЯ ДЛЯ РЕКОМЕНДАТЕЛЬНОЙ СИСТЕМЫ\n",
    "\n",
    "## Описание проекта\n",
    "Оператор мобильной связи «Мегалайн» выяснил: многие клиенты пользуются архивными тарифами. Они хотят построить систему, способную проанализировать поведение клиентов и предложить пользователям новый тариф: «Смарт» или «Ультра».\n",
    "В вашем распоряжении данные о поведении клиентов, которые уже перешли на эти тарифы. Каждый объект в наборе данных — это информация о поведении одного пользователя за месяц.\n",
    "\n",
    "Описание данных:\n",
    "- сalls — количество звонков,\n",
    "- minutes — суммарная длительность звонков в минутах,\n",
    "- messages — количество sms-сообщений,\n",
    "- mb_used — израсходованный интернет-трафик в Мб,\n",
    "- is_ultra — каким тарифом пользовался в течение месяца («Ультра» — 1, «Смарт» — 0).\n",
    "\n",
    "### Постановка задачи\n",
    "\n",
    "\n",
    "\n",
    "Нужно построить модель для задачи классификации, которая выберет подходящий тариф. Постройте модель с максимальным значением accuracy. <b>Важно:</b> минимальное допустимое значение accuracy = 0.75. \n",
    "\n",
    "### План исследования\n",
    "Шаг 1. Откройте файл с данными и изучите его.  \n",
    "Шаг 2. Разделите исходные данные на обучающую, валидационную и тестовую выборки.  \n",
    "Шаг 3. Исследуйте качество разных моделей, меняя гиперпараметры. Кратко напишите выводы исследования.  \n",
    "Шаг 4. Проверьте качество модели на тестовой выборке.  \n",
    "Шаг 5. Проверьте модели на вменяемость.  \n",
    "Шаг 6. Сделайте общий вывод."
   ]
  },
  {
   "cell_type": "code",
   "execution_count": 1,
   "metadata": {},
   "outputs": [],
   "source": [
    "import pandas as pd\n",
    "import seaborn as sns\n",
    "from matplotlib import pyplot as plt\n",
    "from sklearn.tree import DecisionTreeClassifier\n",
    "from sklearn.ensemble import RandomForestClassifier\n",
    "from sklearn.linear_model import LogisticRegression\n",
    "from sklearn.dummy import DummyClassifier\n",
    "from sklearn.model_selection import train_test_split\n",
    "from sklearn.metrics import accuracy_score\n",
    "#Фиксируем значение random_state\n",
    "seed = 761374"
   ]
  },
  {
   "cell_type": "markdown",
   "metadata": {},
   "source": [
    "## Обзор данных\n",
    "Поместим данные в `DataFrame` и посмотрим на общую информацию."
   ]
  },
  {
   "cell_type": "code",
   "execution_count": 2,
   "metadata": {},
   "outputs": [
    {
     "name": "stdout",
     "output_type": "stream",
     "text": [
      "<class 'pandas.core.frame.DataFrame'>\n",
      "RangeIndex: 3214 entries, 0 to 3213\n",
      "Data columns (total 5 columns):\n",
      " #   Column    Non-Null Count  Dtype  \n",
      "---  ------    --------------  -----  \n",
      " 0   calls     3214 non-null   float64\n",
      " 1   minutes   3214 non-null   float64\n",
      " 2   messages  3214 non-null   float64\n",
      " 3   mb_used   3214 non-null   float64\n",
      " 4   is_ultra  3214 non-null   int64  \n",
      "dtypes: float64(4), int64(1)\n",
      "memory usage: 125.7 KB\n"
     ]
    }
   ],
   "source": [
    "df = pd.read_csv('/datasets/users_behavior.csv')\n",
    "df.info()"
   ]
  },
  {
   "cell_type": "markdown",
   "metadata": {},
   "source": [
    "Пропусков нет, типы данных определились корректно.  \n",
    "Проверим наличие дубликатов."
   ]
  },
  {
   "cell_type": "code",
   "execution_count": 3,
   "metadata": {},
   "outputs": [
    {
     "data": {
      "text/plain": [
       "0"
      ]
     },
     "execution_count": 3,
     "metadata": {},
     "output_type": "execute_result"
    }
   ],
   "source": [
    "df.duplicated().sum()"
   ]
  },
  {
   "cell_type": "markdown",
   "metadata": {},
   "source": [
    "Дубликаты не обнаружены.  \n",
    "На примере нескольких строк оценим датасет визульно."
   ]
  },
  {
   "cell_type": "code",
   "execution_count": 4,
   "metadata": {},
   "outputs": [
    {
     "data": {
      "text/html": [
       "<div>\n",
       "<style scoped>\n",
       "    .dataframe tbody tr th:only-of-type {\n",
       "        vertical-align: middle;\n",
       "    }\n",
       "\n",
       "    .dataframe tbody tr th {\n",
       "        vertical-align: top;\n",
       "    }\n",
       "\n",
       "    .dataframe thead th {\n",
       "        text-align: right;\n",
       "    }\n",
       "</style>\n",
       "<table border=\"1\" class=\"dataframe\">\n",
       "  <thead>\n",
       "    <tr style=\"text-align: right;\">\n",
       "      <th></th>\n",
       "      <th>calls</th>\n",
       "      <th>minutes</th>\n",
       "      <th>messages</th>\n",
       "      <th>mb_used</th>\n",
       "      <th>is_ultra</th>\n",
       "    </tr>\n",
       "  </thead>\n",
       "  <tbody>\n",
       "    <tr>\n",
       "      <th>0</th>\n",
       "      <td>40.0</td>\n",
       "      <td>311.90</td>\n",
       "      <td>83.0</td>\n",
       "      <td>19915.42</td>\n",
       "      <td>0</td>\n",
       "    </tr>\n",
       "    <tr>\n",
       "      <th>1</th>\n",
       "      <td>85.0</td>\n",
       "      <td>516.75</td>\n",
       "      <td>56.0</td>\n",
       "      <td>22696.96</td>\n",
       "      <td>0</td>\n",
       "    </tr>\n",
       "    <tr>\n",
       "      <th>2</th>\n",
       "      <td>77.0</td>\n",
       "      <td>467.66</td>\n",
       "      <td>86.0</td>\n",
       "      <td>21060.45</td>\n",
       "      <td>0</td>\n",
       "    </tr>\n",
       "    <tr>\n",
       "      <th>3</th>\n",
       "      <td>106.0</td>\n",
       "      <td>745.53</td>\n",
       "      <td>81.0</td>\n",
       "      <td>8437.39</td>\n",
       "      <td>1</td>\n",
       "    </tr>\n",
       "    <tr>\n",
       "      <th>4</th>\n",
       "      <td>66.0</td>\n",
       "      <td>418.74</td>\n",
       "      <td>1.0</td>\n",
       "      <td>14502.75</td>\n",
       "      <td>0</td>\n",
       "    </tr>\n",
       "    <tr>\n",
       "      <th>5</th>\n",
       "      <td>58.0</td>\n",
       "      <td>344.56</td>\n",
       "      <td>21.0</td>\n",
       "      <td>15823.37</td>\n",
       "      <td>0</td>\n",
       "    </tr>\n",
       "    <tr>\n",
       "      <th>6</th>\n",
       "      <td>57.0</td>\n",
       "      <td>431.64</td>\n",
       "      <td>20.0</td>\n",
       "      <td>3738.90</td>\n",
       "      <td>1</td>\n",
       "    </tr>\n",
       "    <tr>\n",
       "      <th>7</th>\n",
       "      <td>15.0</td>\n",
       "      <td>132.40</td>\n",
       "      <td>6.0</td>\n",
       "      <td>21911.60</td>\n",
       "      <td>0</td>\n",
       "    </tr>\n",
       "    <tr>\n",
       "      <th>8</th>\n",
       "      <td>7.0</td>\n",
       "      <td>43.39</td>\n",
       "      <td>3.0</td>\n",
       "      <td>2538.67</td>\n",
       "      <td>1</td>\n",
       "    </tr>\n",
       "    <tr>\n",
       "      <th>9</th>\n",
       "      <td>90.0</td>\n",
       "      <td>665.41</td>\n",
       "      <td>38.0</td>\n",
       "      <td>17358.61</td>\n",
       "      <td>0</td>\n",
       "    </tr>\n",
       "  </tbody>\n",
       "</table>\n",
       "</div>"
      ],
      "text/plain": [
       "   calls  minutes  messages   mb_used  is_ultra\n",
       "0   40.0   311.90      83.0  19915.42         0\n",
       "1   85.0   516.75      56.0  22696.96         0\n",
       "2   77.0   467.66      86.0  21060.45         0\n",
       "3  106.0   745.53      81.0   8437.39         1\n",
       "4   66.0   418.74       1.0  14502.75         0\n",
       "5   58.0   344.56      21.0  15823.37         0\n",
       "6   57.0   431.64      20.0   3738.90         1\n",
       "7   15.0   132.40       6.0  21911.60         0\n",
       "8    7.0    43.39       3.0   2538.67         1\n",
       "9   90.0   665.41      38.0  17358.61         0"
      ]
     },
     "execution_count": 4,
     "metadata": {},
     "output_type": "execute_result"
    }
   ],
   "source": [
    "df.head(10)"
   ]
  },
  {
   "cell_type": "markdown",
   "metadata": {},
   "source": [
    "Похоже, с данными все в порядке, предобработка не требуется.\n",
    "## Формирование выборок\n",
    "Поделим датасет на обучающую, валидационную и тестовую выборки в соотношении 3:1:1 (60%:20%:20%) соответственно. В качестве целевого признака используем столбец `is_ultra`."
   ]
  },
  {
   "cell_type": "code",
   "execution_count": 5,
   "metadata": {},
   "outputs": [],
   "source": [
    "tgt = df['is_ultra']\n",
    "fts = df.loc[:, :'mb_used']\n",
    "#Отделяем 60% под обучающую выборку, 40% под валидациюонную и тестовую\n",
    "fts_train, fts_tmp, tgt_train, tgt_tmp = train_test_split(fts, tgt, test_size=0.4, random_state=seed)\n",
    "#40% делим пополам: выделяем 20% под валидационную и 20% под тестовую выборку\n",
    "fts_valid, fts_test, tgt_valid, tgt_test = train_test_split(fts_tmp, tgt_tmp, test_size=0.5, random_state=seed)"
   ]
  },
  {
   "cell_type": "markdown",
   "metadata": {},
   "source": [
    "Проверим, как поделился датасет."
   ]
  },
  {
   "cell_type": "code",
   "execution_count": 6,
   "metadata": {},
   "outputs": [
    {
     "name": "stdout",
     "output_type": "stream",
     "text": [
      "Признаки. Размер выборок: \n",
      " - обучающая: (1928, 4) \n",
      " - валидационная: (643, 4) \n",
      " - тестовая (643, 4)\n",
      "Целевой признак. Размер выборок: \n",
      " - обучающая: (1928,) \n",
      " - валидационная: (643,) \n",
      " - тестовая (643,)\n"
     ]
    }
   ],
   "source": [
    "print('Признаки. Размер выборок: \\n - обучающая:', fts_train.shape,\n",
    "      '\\n - валидационная:', fts_valid.shape,\n",
    "      '\\n - тестовая', fts_test.shape)\n",
    "print('Целевой признак. Размер выборок: \\n - обучающая:', tgt_train.shape,\n",
    "      '\\n - валидационная:', tgt_valid.shape,\n",
    "      '\\n - тестовая', tgt_test.shape)"
   ]
  },
  {
   "cell_type": "markdown",
   "metadata": {},
   "source": [
    "Деление на выборки прошло корректно.\n",
    "## Обучение, валидация и исследование моделей\n",
    "В нашем случае целевой признак (тариф \"Ультра\" или \"Смарт\") является категориальным. Т.о., перед нами стоит задача классификации. Для ее решения воспользуемся алгоритмами `DecisionTreeClassifier`, `RandomForestClassifier` и `LogisticRegression`. \n",
    "\n",
    "Сформулируем план исследования:\n",
    " - определить модель;\n",
    " - определить наборы гиперпараметров; \n",
    " - для каждого набора гиперперемтров:\n",
    "     - обучить модель на обучающей выборке;\n",
    "     - определить точность (`accuracy`) модели на валидационной выборке;\n",
    "     - записать текущие гиперпараметры и точность в таблицу статистики;\n",
    " - найти модель с максимальной точностью;\n",
    " - проанализировать таблицу статистики.\n",
    "\n",
    "Опишем функции, которые помогут нам в дальнешем исследовании."
   ]
  },
  {
   "cell_type": "code",
   "execution_count": 7,
   "metadata": {},
   "outputs": [],
   "source": [
    "def expand_params(index, p_collapsed_dict, p_expanded_list, p_expanded):\n",
    "    \"\"\"Формирует список словарей с различными комбинациями \n",
    "    гиперпараметров для инициализации модели.    \n",
    "    АРГУМЕНТЫ:\n",
    "    index -- адрес текущего параметра в словаре p_collapsed_dict \n",
    "    p_collapsed_dict -- словарь с параметрами вида \n",
    "                        {ИМЯ1 : [ЗНАЧЕНИЕ1, ...], ..., ИМЯn : [ЗНАЧЕНИЕn, ...]} \n",
    "    p_expanded_list -- список словарей с комбинациями параметров вида\n",
    "                       [{ИМЯ1 : ЗНАЧЕНИЕ1, ..., ИМЯn : ЗНАЧЕНИЕn}, ...]\n",
    "    p_expanded -- словарь для хранения текущей комбинации параметров \n",
    "    \"\"\"    \n",
    "    #Определяем количество параметров\n",
    "    p_count = len(p_collapsed_dict)\n",
    "    #Определяем текущий параметр\n",
    "    p_name = list(p_collapsed_dict.keys())[index]\n",
    "    #Определяем значения текущего параметр\n",
    "    p_values = p_collapsed_dict[p_name]\n",
    "    #Итерируем значения\n",
    "    for p_value in p_values:                \n",
    "        p_expanded[p_name] = p_value\n",
    "        #Если список параметров не пройден до конца, проводим рекурсивный вызов\n",
    "        if index+1 < p_count:\n",
    "            expand_params(index+1, p_collapsed_dict, p_expanded_list, p_expanded)\n",
    "        ##Если список параметров пройден до конца, сохраняем текущую комбинацию значений\n",
    "        else:            \n",
    "            p_expanded_list.append(p_expanded.copy())"
   ]
  },
  {
   "cell_type": "markdown",
   "metadata": {},
   "source": [
    "Проверим работу функции на примере гиперпараметров для `RandomForestClassifier`."
   ]
  },
  {
   "cell_type": "code",
   "execution_count": 8,
   "metadata": {
    "scrolled": true
   },
   "outputs": [
    {
     "data": {
      "text/plain": [
       "[{'n_estimators': 10, 'max_depth': 1, 'random_state': 761374},\n",
       " {'n_estimators': 10, 'max_depth': 2, 'random_state': 761374},\n",
       " {'n_estimators': 10, 'max_depth': 3, 'random_state': 761374},\n",
       " {'n_estimators': 10, 'max_depth': 4, 'random_state': 761374},\n",
       " {'n_estimators': 10, 'max_depth': 5, 'random_state': 761374},\n",
       " {'n_estimators': 20, 'max_depth': 1, 'random_state': 761374},\n",
       " {'n_estimators': 20, 'max_depth': 2, 'random_state': 761374},\n",
       " {'n_estimators': 20, 'max_depth': 3, 'random_state': 761374},\n",
       " {'n_estimators': 20, 'max_depth': 4, 'random_state': 761374},\n",
       " {'n_estimators': 20, 'max_depth': 5, 'random_state': 761374},\n",
       " {'n_estimators': 30, 'max_depth': 1, 'random_state': 761374},\n",
       " {'n_estimators': 30, 'max_depth': 2, 'random_state': 761374},\n",
       " {'n_estimators': 30, 'max_depth': 3, 'random_state': 761374},\n",
       " {'n_estimators': 30, 'max_depth': 4, 'random_state': 761374},\n",
       " {'n_estimators': 30, 'max_depth': 5, 'random_state': 761374}]"
      ]
     },
     "execution_count": 8,
     "metadata": {},
     "output_type": "execute_result"
    }
   ],
   "source": [
    "hp_collapsed = {'n_estimators' : list(range(10, 31, 10)), \n",
    "                'max_depth' : list(range(1, 6)), \n",
    "                'random_state' : [seed]}\n",
    "hp_expanded = []\n",
    "expand_params(0, hp_collapsed, hp_expanded, {})\n",
    "hp_expanded"
   ]
  },
  {
   "cell_type": "code",
   "execution_count": 9,
   "metadata": {},
   "outputs": [],
   "source": [
    "def accuracy_check(m_type, h_params_list, fts_train, tgt_train, fts_valid, tgt_valid):\n",
    "    \"\"\"Для каждого набора гиперпараметров из списка h_params_list:\n",
    "     - инициализирует модель m_type;\n",
    "     - обучает модель на тренировочной выборке fts_train, tgt_train\n",
    "     - определяет точность модели на валидационной выборке fts_valid, tgt_valid\n",
    "     - записывает гиперпараметры и точность модели в DataFrame \n",
    "    Выводит на экран лучшую точность и соответствующие гиперпараметры.\n",
    "    Возвращает модель с лучшей точностью, DataFrame со статистикой точности моделей.       \n",
    "    АРГУМЕНТЫ:\n",
    "    m_type -- тип модели (DecisionTreeClassifier, RandomForestClassifier, LogisticRegression)\n",
    "    h_params_list -- список словарей с различными значениями гиперпараметов\n",
    "    fts_train -- признаки обучающей выборки\n",
    "    tgt_train -- целевой признак обучающей выборки\n",
    "    fts_valid -- признаки валидационной выборки\n",
    "    tgt_valid -- целевой признак валидационной выборки    \n",
    "    \"\"\"  \n",
    "    #Текущая модель\n",
    "    m = None\n",
    "    #Лучшая модель\n",
    "    m_best = None\n",
    "    #Лучшая accuracy\n",
    "    acc_best = 0\n",
    "    #Лучшие гиперпараметры\n",
    "    h_params_best = None\n",
    "    #Датасет статистики\n",
    "    stats = None    \n",
    "    #Для каждого набора гиперпараметров\n",
    "    for h_params in h_params_list:\n",
    "        #Инициализируем модель\n",
    "        if m_type == 'DecisionTreeClassifier':\n",
    "            m = DecisionTreeClassifier(**h_params)        \n",
    "        elif m_type == 'RandomForestClassifier':\n",
    "            m = RandomForestClassifier(**h_params)\n",
    "        elif m_type == 'LogisticRegression':\n",
    "            m = LogisticRegression(**h_params)  \n",
    "        elif m_type == 'DummyClassifier':\n",
    "            m = DummyClassifier(**h_params)            \n",
    "        #Обучаем модель\n",
    "        m.fit(fts_train, tgt_train)\n",
    "        #Считаем accuracy модели на валидационной выборке\n",
    "        acc = accuracy_score(tgt_valid, m.predict(fts_valid))\n",
    "        #Записываем лучшие значения\n",
    "        if acc > acc_best:\n",
    "            acc_best = acc\n",
    "            m_best = m\n",
    "            h_params_best = h_params\n",
    "        #Заполняем датасет статистики\n",
    "        stats_row = h_params.copy()\n",
    "        stats_row['accuracy'] = acc         \n",
    "        if stats is None:\n",
    "            stats = pd.DataFrame(stats_row, index=[0])\n",
    "        else:\n",
    "            stats = stats.append(stats_row, ignore_index=True)                   \n",
    "    #Выводим на экран информацию о лучшей модели\n",
    "    print('Модель:', m_type, \n",
    "          '\\n - лучшая точность', acc_best,\n",
    "          '\\n - лучшие параметры', h_params_best)\n",
    "    #Возвращаем лучшую модель и датасет со статистикой\n",
    "    return m_best, stats"
   ]
  },
  {
   "cell_type": "markdown",
   "metadata": {},
   "source": [
    "### DecisionTreeClassifier\n",
    "Для решающего дерева проварьируем значение глубины `max_depth`."
   ]
  },
  {
   "cell_type": "code",
   "execution_count": 10,
   "metadata": {},
   "outputs": [
    {
     "name": "stdout",
     "output_type": "stream",
     "text": [
      "Модель: DecisionTreeClassifier \n",
      " - лучшая точность 0.7869362363919129 \n",
      " - лучшие параметры {'max_depth': 9, 'random_state': 761374}\n"
     ]
    }
   ],
   "source": [
    "dtc_hp_col = {'max_depth' : list(range(1, 21)), \n",
    "              'random_state' : [seed]}\n",
    "\n",
    "dtc_hp_exp = []\n",
    "expand_params(0, dtc_hp_col, dtc_hp_exp, {}) \n",
    "dtc_best, dtc_stats = accuracy_check('DecisionTreeClassifier', \n",
    "                                    dtc_hp_exp, \n",
    "                                     fts_train, tgt_train, \n",
    "                                     fts_valid, tgt_valid)"
   ]
  },
  {
   "cell_type": "markdown",
   "metadata": {},
   "source": [
    "Посмотрим на точность моделей с разными `max_depth`. "
   ]
  },
  {
   "cell_type": "code",
   "execution_count": 11,
   "metadata": {},
   "outputs": [
    {
     "data": {
      "text/plain": [
       "[]"
      ]
     },
     "execution_count": 11,
     "metadata": {},
     "output_type": "execute_result"
    },
    {
     "data": {
      "image/png": "[encoded data removed]",
      "text/plain": [
       "<Figure size 1152x288 with 1 Axes>"
      ]
     },
     "metadata": {
      "needs_background": "light"
     },
     "output_type": "display_data"
    }
   ],
   "source": [
    "axes = dtc_stats.sort_values(by='accuracy', ascending=False)\\\n",
    "                .plot(kind='bar', \n",
    "                      grid=True, \n",
    "                      figsize=(16, 4),\n",
    "                      x='max_depth', \n",
    "                      y='accuracy', \n",
    "                      ylim=(0.75, 0.8),\n",
    "                      xlabel='Глубина дерева (max_depth)',\n",
    "                      ylabel='Точность (accuracy)',\n",
    "                      title='Точность (accuracy) решающего дерева в зависимости от его глубины (max_depth)')\n",
    "axes.plot()"
   ]
  },
  {
   "cell_type": "markdown",
   "metadata": {},
   "source": [
    "Максимальную точность `accuracy = 0.7869` показывает модель с глубиной `max_depth = 9`. Помимо нее в пятерку лучших в порядке убывания точности вошли модели с `max_depth = 3, 6, 5, 7`. Модели с `max_depth = 1, 17, 19, 20, 18` не преодолели порогового значения точности `accuracy = 0.7500`.\n",
    "\n",
    "Любопытно, что зависимость между глубиной дерева и его предсказательной способностью не очевидна. \n",
    "### RandomForestClassifier\n",
    "Для модели случайного леса варьируем количество деревьев `n_estimators` и их глубину `max_depth`. На основании статистики из предыдущего пункта уменьшим количество значений `max_depth`, установим его в промежутке от 3 до 9. Т.о., снизим ресурсоемкость нашего леса. "
   ]
  },
  {
   "cell_type": "code",
   "execution_count": 12,
   "metadata": {},
   "outputs": [
    {
     "name": "stdout",
     "output_type": "stream",
     "text": [
      "Модель: RandomForestClassifier \n",
      " - лучшая точность 0.807153965785381 \n",
      " - лучшие параметры {'n_estimators': 110, 'max_depth': 9, 'random_state': 761374}\n"
     ]
    }
   ],
   "source": [
    "rfc_hp_col = {'n_estimators' : list(range(10, 201, 10)),\n",
    "              'max_depth' : list(range(3, 10)),\n",
    "              'random_state' : [seed]}\n",
    "rfc_hp_exp = []\n",
    "expand_params(0, rfc_hp_col, rfc_hp_exp, {}) \n",
    "rfc_best, rfc_stats = accuracy_check('RandomForestClassifier', \n",
    "                                     rfc_hp_exp, \n",
    "                                     fts_train, tgt_train, \n",
    "                                     fts_valid, tgt_valid)"
   ]
  },
  {
   "cell_type": "markdown",
   "metadata": {},
   "source": [
    "Посмотрим, как менялась `accuracy` моделей в зависимости от `n_estimators` и `max_depth`."
   ]
  },
  {
   "cell_type": "code",
   "execution_count": 13,
   "metadata": {},
   "outputs": [
    {
     "data": {
      "image/png": "[encoded data removed]",
      "text/plain": [
       "<Figure size 576x576 with 2 Axes>"
      ]
     },
     "metadata": {
      "needs_background": "light"
     },
     "output_type": "display_data"
    }
   ],
   "source": [
    "fig, axes = plt.subplots(figsize=(8, 8))\n",
    "data = rfc_stats.pivot('n_estimators', 'max_depth', 'accuracy')\n",
    "sns.heatmap(data, \n",
    "            ax=axes, \n",
    "            annot=True, \n",
    "            fmt=\".4f\", \n",
    "            linewidths=.25)\n",
    "fig.show()"
   ]
  },
  {
   "cell_type": "markdown",
   "metadata": {},
   "source": [
    "Максимальную точность `accuracy = 0.8072` показывает модель с `n_estimators = 110` и `max_depth = 9`. Все модели преодолели пороговое значение `accuracy = 0.7500`. Наиболее высокие результаты наблюдаем на всем диапазоне `n_estimators` при `max_depth = 8, 9`.\n",
    "### LogisticRegression\n",
    "Для модели логистической регрессии варьируем параметр `solver`. "
   ]
  },
  {
   "cell_type": "code",
   "execution_count": 14,
   "metadata": {},
   "outputs": [
    {
     "name": "stdout",
     "output_type": "stream",
     "text": [
      "Модель: LogisticRegression \n",
      " - лучшая точность 0.7433903576982893 \n",
      " - лучшие параметры {'solver': 'lbfgs', 'random_state': 761374}\n"
     ]
    },
    {
     "name": "stderr",
     "output_type": "stream",
     "text": [
      "/opt/conda/lib/python3.9/site-packages/scipy/optimize/_linesearch.py:456: LineSearchWarning: The line search algorithm did not converge\n",
      "  warn('The line search algorithm did not converge', LineSearchWarning)\n",
      "/opt/conda/lib/python3.9/site-packages/scipy/optimize/_linesearch.py:305: LineSearchWarning: The line search algorithm did not converge\n",
      "  warn('The line search algorithm did not converge', LineSearchWarning)\n",
      "/opt/conda/lib/python3.9/site-packages/scipy/optimize/_linesearch.py:456: LineSearchWarning: The line search algorithm did not converge\n",
      "  warn('The line search algorithm did not converge', LineSearchWarning)\n",
      "/opt/conda/lib/python3.9/site-packages/scipy/optimize/_linesearch.py:305: LineSearchWarning: The line search algorithm did not converge\n",
      "  warn('The line search algorithm did not converge', LineSearchWarning)\n",
      "/opt/conda/lib/python3.9/site-packages/scipy/optimize/_linesearch.py:456: LineSearchWarning: The line search algorithm did not converge\n",
      "  warn('The line search algorithm did not converge', LineSearchWarning)\n",
      "/opt/conda/lib/python3.9/site-packages/scipy/optimize/_linesearch.py:305: LineSearchWarning: The line search algorithm did not converge\n",
      "  warn('The line search algorithm did not converge', LineSearchWarning)\n",
      "/opt/conda/lib/python3.9/site-packages/sklearn/linear_model/_sag.py:328: ConvergenceWarning: The max_iter was reached which means the coef_ did not converge\n",
      "  warnings.warn(\"The max_iter was reached which means \"\n",
      "/opt/conda/lib/python3.9/site-packages/sklearn/linear_model/_sag.py:328: ConvergenceWarning: The max_iter was reached which means the coef_ did not converge\n",
      "  warnings.warn(\"The max_iter was reached which means \"\n"
     ]
    }
   ],
   "source": [
    "logr_hp_col = {'solver' : ['lbfgs', 'liblinear', 'newton-cg', 'sag', 'saga'],\n",
    "               'random_state' : [seed]}\n",
    "logr_hp_exp = []\n",
    "expand_params(0, logr_hp_col, logr_hp_exp, {}) \n",
    "logr_best, logr_stats = accuracy_check('LogisticRegression', \n",
    "                                     logr_hp_exp, \n",
    "                                     fts_train, tgt_train, \n",
    "                                     fts_valid, tgt_valid)"
   ]
  },
  {
   "cell_type": "markdown",
   "metadata": {},
   "source": [
    "Посмотрим на точность моделей с разными `solver`. "
   ]
  },
  {
   "cell_type": "code",
   "execution_count": 15,
   "metadata": {},
   "outputs": [
    {
     "data": {
      "text/plain": [
       "[]"
      ]
     },
     "execution_count": 15,
     "metadata": {},
     "output_type": "execute_result"
    },
    {
     "data": {
      "image/png": "[encoded data removed]",
      "text/plain": [
       "<Figure size 1152x288 with 1 Axes>"
      ]
     },
     "metadata": {
      "needs_background": "light"
     },
     "output_type": "display_data"
    }
   ],
   "source": [
    "axes = logr_stats.sort_values(by='accuracy', ascending=False)\\\n",
    "                 .plot(kind='bar',\n",
    "                       grid=True,\n",
    "                       figsize=(16, 4),\n",
    "                       x='solver',\n",
    "                       y='accuracy',\n",
    "                       ylim=(0.68, 0.78),\n",
    "                       xlabel='Алгоритм (solver)',\n",
    "                       ylabel='Точность (accuracy)',\n",
    "                       title='Точность (accuracy) логистической регрессии в зависимости от алгоритма (solver)')\n",
    "axes.plot()"
   ]
  },
  {
   "cell_type": "code",
   "execution_count": 16,
   "metadata": {},
   "outputs": [
    {
     "data": {
      "text/html": [
       "<div>\n",
       "<style scoped>\n",
       "    .dataframe tbody tr th:only-of-type {\n",
       "        vertical-align: middle;\n",
       "    }\n",
       "\n",
       "    .dataframe tbody tr th {\n",
       "        vertical-align: top;\n",
       "    }\n",
       "\n",
       "    .dataframe thead th {\n",
       "        text-align: right;\n",
       "    }\n",
       "</style>\n",
       "<table border=\"1\" class=\"dataframe\">\n",
       "  <thead>\n",
       "    <tr style=\"text-align: right;\">\n",
       "      <th></th>\n",
       "      <th>solver</th>\n",
       "      <th>random_state</th>\n",
       "      <th>accuracy</th>\n",
       "    </tr>\n",
       "  </thead>\n",
       "  <tbody>\n",
       "    <tr>\n",
       "      <th>0</th>\n",
       "      <td>lbfgs</td>\n",
       "      <td>761374</td>\n",
       "      <td>0.743390</td>\n",
       "    </tr>\n",
       "    <tr>\n",
       "      <th>2</th>\n",
       "      <td>newton-cg</td>\n",
       "      <td>761374</td>\n",
       "      <td>0.743390</td>\n",
       "    </tr>\n",
       "    <tr>\n",
       "      <th>1</th>\n",
       "      <td>liblinear</td>\n",
       "      <td>761374</td>\n",
       "      <td>0.710731</td>\n",
       "    </tr>\n",
       "    <tr>\n",
       "      <th>3</th>\n",
       "      <td>sag</td>\n",
       "      <td>761374</td>\n",
       "      <td>0.696734</td>\n",
       "    </tr>\n",
       "    <tr>\n",
       "      <th>4</th>\n",
       "      <td>saga</td>\n",
       "      <td>761374</td>\n",
       "      <td>0.696734</td>\n",
       "    </tr>\n",
       "  </tbody>\n",
       "</table>\n",
       "</div>"
      ],
      "text/plain": [
       "      solver  random_state  accuracy\n",
       "0      lbfgs        761374  0.743390\n",
       "2  newton-cg        761374  0.743390\n",
       "1  liblinear        761374  0.710731\n",
       "3        sag        761374  0.696734\n",
       "4       saga        761374  0.696734"
      ]
     },
     "execution_count": 16,
     "metadata": {},
     "output_type": "execute_result"
    }
   ],
   "source": [
    "logr_stats.sort_values(by='accuracy', ascending=False)"
   ]
  },
  {
   "cell_type": "markdown",
   "metadata": {},
   "source": [
    "Ни одна модель не преодолела пороговое значение `accuracy = 0.7500`. Максимальную точность `accuracy = 0.7434` показывают модели с `solver = lbfgs, newton-cg`.\n",
    "## Проверка моделей на тестовой выборке\n",
    "Автоматизируем и проведем проверку с помощью функции. "
   ]
  },
  {
   "cell_type": "code",
   "execution_count": 17,
   "metadata": {},
   "outputs": [],
   "source": [
    "def compare_models_acc(fts_valid, tgt_valid, fts_test, tgt_test, models):\n",
    "    \"\"\"Выводит на экран точность моделей\n",
    "    на валидационной и тестовой выборке.\n",
    "    АРГУМЕНТЫ:\n",
    "    fts_valid -- обекты валидационной выборки,\n",
    "    tgt_valid -- целевой признак валидационной выборки,\n",
    "    fts_test -- обекты тестовой выборки,\n",
    "    tgt_test -- целевой признак тестовой выборки,\n",
    "    models -- словарь вида {ТИП МОДЕЛИ : ЭКЗЕМПЛЯР МОДЕЛИ}\n",
    "    \"\"\"\n",
    "    for m_name in models:        \n",
    "        m = models[m_name]\n",
    "        acc_valid = accuracy_score(tgt_valid, m.predict(fts_valid))\n",
    "        acc_test = accuracy_score(tgt_test, m.predict(fts_test))\n",
    "        print('Модель', m_name,\n",
    "              '\\n - точность на валидационной выборке:', acc_valid,\n",
    "              '\\n - точность на тестовой выборке     :', acc_test,\n",
    "              '\\n - разность тестовая - валидационная:', acc_test-acc_valid)"
   ]
  },
  {
   "cell_type": "code",
   "execution_count": 18,
   "metadata": {},
   "outputs": [
    {
     "name": "stdout",
     "output_type": "stream",
     "text": [
      "Модель DecisionTreeClassifier \n",
      " - точность на валидационной выборке: 0.7869362363919129 \n",
      " - точность на тестовой выборке     : 0.7962674961119751 \n",
      " - разность тестовая - валидационная: 0.009331259720062213\n",
      "Модель RandomForestClassifier \n",
      " - точность на валидационной выборке: 0.807153965785381 \n",
      " - точность на тестовой выборке     : 0.8180404354587869 \n",
      " - разность тестовая - валидационная: 0.010886469673405896\n",
      "Модель LogisticRegression \n",
      " - точность на валидационной выборке: 0.7433903576982893 \n",
      " - точность на тестовой выборке     : 0.7387247278382582 \n",
      " - разность тестовая - валидационная: -0.004665629860031162\n"
     ]
    }
   ],
   "source": [
    "models_best = {'DecisionTreeClassifier' : dtc_best, \n",
    "               'RandomForestClassifier' : rfc_best, \n",
    "               'LogisticRegression' : logr_best}\n",
    "compare_models_acc(fts_valid, tgt_valid, fts_test, tgt_test, models_best)"
   ]
  },
  {
   "cell_type": "markdown",
   "metadata": {},
   "source": [
    "Все модели показывают практически одинаковый результат на обоих выборках, что является хорошим признаком. При этом DecisionTreeClassifier и RandomForestClassifier на ~0.010 точнее, а LogisticRegression на ~0.005 менее точна на тестовой выборке.\n",
    "## Проверка моделей на адекватность\n",
    "Для проверки воспользуемся моделью-болванкой DummyClassifier. Она игнорирует входные признаки объектов и не выстраивает связь между ними и целевым признаком. Вместо этого, модель использует исключительно значения выходного признака, и на основе гиперпараметра `strategy` выдает предсказание. Используем для `strategy` значения `most_frequent` и `uniform`, как наиболее  подходящие нашей задаче. "
   ]
  },
  {
   "cell_type": "code",
   "execution_count": 19,
   "metadata": {},
   "outputs": [
    {
     "name": "stdout",
     "output_type": "stream",
     "text": [
      "Модель: DummyClassifier \n",
      " - лучшая точность 0.6967340590979783 \n",
      " - лучшие параметры {'strategy': 'most_frequent', 'random_state': 761374}\n"
     ]
    }
   ],
   "source": [
    "dc_hp_col = {'strategy' : ['most_frequent', 'uniform'],\n",
    "               'random_state' : [seed]}\n",
    "dc_hp_exp = []\n",
    "expand_params(0, dc_hp_col, dc_hp_exp, {}) \n",
    "dc_best, dc_stats = accuracy_check('DummyClassifier', \n",
    "                                     dc_hp_exp, \n",
    "                                     fts_train, tgt_train, \n",
    "                                     fts_valid, tgt_valid)"
   ]
  },
  {
   "cell_type": "markdown",
   "metadata": {},
   "source": [
    "DummyClassifier не преодолел минимально допустимого значения `accuracy = 0.7500`. Проверим модель со `strategy = most_frequent` на тестовой выборке."
   ]
  },
  {
   "cell_type": "code",
   "execution_count": 20,
   "metadata": {},
   "outputs": [
    {
     "name": "stdout",
     "output_type": "stream",
     "text": [
      "Модель DummyClassifier \n",
      " - точность на валидационной выборке: 0.6967340590979783 \n",
      " - точность на тестовой выборке     : 0.6889580093312597 \n",
      " - разность тестовая - валидационная: -0.007776049766718529\n"
     ]
    }
   ],
   "source": [
    "compare_models_acc(fts_valid, tgt_valid, \n",
    "                   fts_test, tgt_test, \n",
    "                   {'DummyClassifier' : dc_best})"
   ]
  },
  {
   "cell_type": "markdown",
   "metadata": {},
   "source": [
    "DummyClassifier показывает на ~0.05-0.12 более низкую предсказательную способность по сравнению с остальными рассмотренными моделями, что говорит в пользу их адекватности.\n",
    "## Выводы\n",
    "### Обзор данных\n",
    "В ходе обзора было показано, что данные не нуждаются в предобработке ([см.2](#%D0%9E%D0%B1%D0%B7%D0%BE%D1%80-%D0%B4%D0%B0%D0%BD%D0%BD%D1%8B%D1%85)) \n",
    "\n",
    "### Формирование выборок\n",
    "Исходные данные были разбиты на обучающую, валидационную и тестовую выборки в соотношении 60%+20%+20% соответственно ([см.3](#%D0%A4%D0%BE%D1%80%D0%BC%D0%B8%D1%80%D0%BE%D0%B2%D0%B0%D0%BD%D0%B8%D0%B5-%D0%B2%D1%8B%D0%B1%D0%BE%D1%80%D0%BE%D0%BA))\n",
    "\n",
    "### Исследование моделей\n",
    "В ходе исследования было показано следующее: \n",
    "- модель DecisionTreeClassifier имеет максимальную `accuracy = 0.7869` с параметрами `max_depth = 9` ([см.4.1](#DecisionTreeClassifier)),\n",
    "- модель RandomForestClassifier имеет максимальную `accuracy = 0.8072` c параметрами `n_estimators = 110`, `max_depth = 9` ([см.4.2](#RandomForestClassifier)),\n",
    "- модель LogisticRegression не преодолевает порогового значения `accuracy = 0.7500` и показывает максимальную `accuracy = 0.7434` при `solver = lbfgs` ([см.4.3](#LogisticRegression)),\n",
    "- любая из рассмотренных моделей показывает практически одинаковый предсказательный результат на валидационной и тестовой выборках ([см.5](#%D0%9F%D1%80%D0%BE%D0%B2%D0%B5%D1%80%D0%BA%D0%B0-%D0%BC%D0%BE%D0%B4%D0%B5%D0%BB%D0%B5%D0%B9-%D0%BD%D0%B0-%D1%82%D0%B5%D1%81%D1%82%D0%BE%D0%B2%D0%BE%D0%B9-%D0%B2%D1%8B%D0%B1%D0%BE%D1%80%D0%BA%D0%B5)),\n",
    "- ТОП-3 в порядке ухудшения предсказательной способности: RandomForestClassifier, DecisionTreeClassifier, LogisticRegression ([см.5](#%D0%9F%D1%80%D0%BE%D0%B2%D0%B5%D1%80%D0%BA%D0%B0-%D0%BC%D0%BE%D0%B4%D0%B5%D0%BB%D0%B5%D0%B9-%D0%BD%D0%B0-%D1%82%D0%B5%D1%81%D1%82%D0%BE%D0%B2%D0%BE%D0%B9-%D0%B2%D1%8B%D0%B1%D0%BE%D1%80%D0%BA%D0%B5)),\n",
    "- модели LogisticRegression, DecisionTreeClassifier и RandomForestClassifier на 5-12% более эффективны, чем модель-болванка DummyClassifier ([см.6](#%D0%9F%D1%80%D0%BE%D0%B2%D0%B5%D1%80%D0%BA%D0%B0-%D0%BC%D0%BE%D0%B4%D0%B5%D0%BB%D0%B5%D0%B9-%D0%BD%D0%B0-%D0%B0%D0%B4%D0%B5%D0%BA%D0%B2%D0%B0%D1%82%D0%BD%D0%BE%D1%81%D1%82%D1%8C))."
   ]
  }
 ],
 "metadata": {
  "ExecuteTimeLog": [
   {
    "duration": 1155,
    "start_time": "2023-03-01T08:06:05.078Z"
   },
   {
    "duration": 80,
    "start_time": "2023-03-01T08:07:02.282Z"
   },
   {
    "duration": 35,
    "start_time": "2023-03-01T08:07:32.643Z"
   },
   {
    "duration": 31,
    "start_time": "2023-03-01T08:07:46.140Z"
   },
   {
    "duration": 30,
    "start_time": "2023-03-01T08:07:52.637Z"
   },
   {
    "duration": 33,
    "start_time": "2023-03-01T08:07:56.884Z"
   },
   {
    "duration": 33,
    "start_time": "2023-03-01T08:08:14.202Z"
   },
   {
    "duration": 11,
    "start_time": "2023-03-01T08:08:25.746Z"
   },
   {
    "duration": 10,
    "start_time": "2023-03-01T08:08:56.930Z"
   },
   {
    "duration": 32,
    "start_time": "2023-03-01T08:08:59.257Z"
   },
   {
    "duration": 111,
    "start_time": "2023-03-01T08:11:22.151Z"
   },
   {
    "duration": 4,
    "start_time": "2023-03-01T08:11:44.235Z"
   },
   {
    "duration": 10,
    "start_time": "2023-03-01T08:11:53.334Z"
   },
   {
    "duration": 5,
    "start_time": "2023-03-01T08:12:24.401Z"
   },
   {
    "duration": 5,
    "start_time": "2023-03-01T08:12:43.336Z"
   },
   {
    "duration": 12,
    "start_time": "2023-03-01T08:21:46.306Z"
   },
   {
    "duration": 3,
    "start_time": "2023-03-01T08:21:54.757Z"
   },
   {
    "duration": 13,
    "start_time": "2023-03-01T08:21:58.185Z"
   },
   {
    "duration": 8,
    "start_time": "2023-03-01T08:22:04.030Z"
   },
   {
    "duration": 10,
    "start_time": "2023-03-01T08:22:50.093Z"
   },
   {
    "duration": 18,
    "start_time": "2023-03-01T08:29:12.692Z"
   },
   {
    "duration": 45,
    "start_time": "2023-03-01T08:42:02.529Z"
   },
   {
    "duration": 43,
    "start_time": "2023-03-01T08:42:46.828Z"
   },
   {
    "duration": 43,
    "start_time": "2023-03-01T08:42:59.656Z"
   },
   {
    "duration": 45,
    "start_time": "2023-03-01T08:43:08.066Z"
   },
   {
    "duration": 7,
    "start_time": "2023-03-01T08:43:59.905Z"
   },
   {
    "duration": 9,
    "start_time": "2023-03-01T08:45:11.565Z"
   },
   {
    "duration": 197,
    "start_time": "2023-03-01T09:22:58.177Z"
   },
   {
    "duration": 5,
    "start_time": "2023-03-01T09:37:17.807Z"
   },
   {
    "duration": 169,
    "start_time": "2023-03-01T09:37:29.244Z"
   },
   {
    "duration": 5,
    "start_time": "2023-03-01T09:38:10.104Z"
   },
   {
    "duration": 51298,
    "start_time": "2023-03-01T09:39:52.300Z"
   },
   {
    "duration": 63,
    "start_time": "2023-03-01T09:43:41.151Z"
   },
   {
    "duration": 69,
    "start_time": "2023-03-01T09:43:46.435Z"
   },
   {
    "duration": 66,
    "start_time": "2023-03-01T09:43:48.522Z"
   },
   {
    "duration": 176,
    "start_time": "2023-03-01T09:52:51.526Z"
   },
   {
    "duration": 205,
    "start_time": "2023-03-01T09:53:18.341Z"
   },
   {
    "duration": 267,
    "start_time": "2023-03-01T09:54:17.821Z"
   },
   {
    "duration": 212,
    "start_time": "2023-03-01T09:54:25.550Z"
   },
   {
    "duration": 228,
    "start_time": "2023-03-01T09:55:47.126Z"
   },
   {
    "duration": 30,
    "start_time": "2023-03-01T09:58:15.941Z"
   },
   {
    "duration": 10,
    "start_time": "2023-03-01T09:59:58.031Z"
   },
   {
    "duration": 32,
    "start_time": "2023-03-01T10:01:42.350Z"
   },
   {
    "duration": 15,
    "start_time": "2023-03-01T10:03:15.895Z"
   },
   {
    "duration": 31,
    "start_time": "2023-03-01T10:03:52.676Z"
   },
   {
    "duration": 15,
    "start_time": "2023-03-01T10:04:32.747Z"
   },
   {
    "duration": 52,
    "start_time": "2023-03-01T10:04:42.622Z"
   },
   {
    "duration": 5,
    "start_time": "2023-03-01T10:47:20.434Z"
   },
   {
    "duration": 5,
    "start_time": "2023-03-01T10:47:37.890Z"
   },
   {
    "duration": 5,
    "start_time": "2023-03-01T10:47:57.326Z"
   },
   {
    "duration": 3,
    "start_time": "2023-03-01T10:48:43.887Z"
   },
   {
    "duration": 3,
    "start_time": "2023-03-01T10:48:46.595Z"
   },
   {
    "duration": 4,
    "start_time": "2023-03-01T10:48:52.709Z"
   },
   {
    "duration": 4,
    "start_time": "2023-03-01T10:49:52.181Z"
   },
   {
    "duration": 5,
    "start_time": "2023-03-01T10:58:25.796Z"
   },
   {
    "duration": 16,
    "start_time": "2023-03-01T12:01:30.844Z"
   },
   {
    "duration": 16,
    "start_time": "2023-03-01T12:02:48.457Z"
   },
   {
    "duration": 14,
    "start_time": "2023-03-01T12:03:33.156Z"
   },
   {
    "duration": 21,
    "start_time": "2023-03-01T12:04:56.315Z"
   },
   {
    "duration": 8,
    "start_time": "2023-03-01T12:05:16.775Z"
   },
   {
    "duration": 17,
    "start_time": "2023-03-01T12:05:41.569Z"
   },
   {
    "duration": 15,
    "start_time": "2023-03-01T12:05:54.963Z"
   },
   {
    "duration": 11,
    "start_time": "2023-03-01T12:06:19.572Z"
   },
   {
    "duration": 52,
    "start_time": "2023-03-01T15:31:04.707Z"
   },
   {
    "duration": 45,
    "start_time": "2023-03-01T15:31:31.671Z"
   },
   {
    "duration": 1025,
    "start_time": "2023-03-01T15:31:42.405Z"
   },
   {
    "duration": 133,
    "start_time": "2023-03-01T15:31:43.432Z"
   },
   {
    "duration": 14,
    "start_time": "2023-03-01T15:31:43.567Z"
   },
   {
    "duration": 18,
    "start_time": "2023-03-01T15:31:43.583Z"
   },
   {
    "duration": 155,
    "start_time": "2023-03-01T15:31:43.602Z"
   },
   {
    "duration": 46784,
    "start_time": "2023-03-01T15:31:43.758Z"
   },
   {
    "duration": 107,
    "start_time": "2023-03-01T15:32:30.543Z"
   },
   {
    "duration": 0,
    "start_time": "2023-03-01T15:32:30.652Z"
   },
   {
    "duration": 0,
    "start_time": "2023-03-01T15:32:30.653Z"
   },
   {
    "duration": 0,
    "start_time": "2023-03-01T15:32:30.654Z"
   },
   {
    "duration": 0,
    "start_time": "2023-03-01T15:32:30.655Z"
   },
   {
    "duration": 6,
    "start_time": "2023-03-01T15:33:18.974Z"
   },
   {
    "duration": 7,
    "start_time": "2023-03-01T15:33:25.253Z"
   },
   {
    "duration": 6,
    "start_time": "2023-03-01T15:33:30.575Z"
   },
   {
    "duration": 13,
    "start_time": "2023-03-01T15:33:42.722Z"
   },
   {
    "duration": 5,
    "start_time": "2023-03-01T15:33:57.171Z"
   },
   {
    "duration": 42,
    "start_time": "2023-03-01T15:34:08.989Z"
   },
   {
    "duration": 6,
    "start_time": "2023-03-01T15:37:15.436Z"
   },
   {
    "duration": 153,
    "start_time": "2023-03-01T15:45:49.322Z"
   },
   {
    "duration": 132,
    "start_time": "2023-03-01T15:48:15.426Z"
   },
   {
    "duration": 14,
    "start_time": "2023-03-01T15:54:00.788Z"
   },
   {
    "duration": 95,
    "start_time": "2023-03-01T15:54:19.918Z"
   },
   {
    "duration": 13,
    "start_time": "2023-03-01T15:59:48.148Z"
   },
   {
    "duration": 188,
    "start_time": "2023-03-01T16:01:05.708Z"
   },
   {
    "duration": 43,
    "start_time": "2023-03-01T16:03:16.766Z"
   },
   {
    "duration": 24,
    "start_time": "2023-03-01T16:03:47.389Z"
   },
   {
    "duration": 39,
    "start_time": "2023-03-01T16:04:07.701Z"
   },
   {
    "duration": 4,
    "start_time": "2023-03-01T16:04:14.381Z"
   },
   {
    "duration": 44,
    "start_time": "2023-03-01T16:04:23.150Z"
   },
   {
    "duration": 27,
    "start_time": "2023-03-01T16:04:33.595Z"
   },
   {
    "duration": 10,
    "start_time": "2023-03-02T07:20:01.354Z"
   },
   {
    "duration": 45,
    "start_time": "2023-03-02T07:21:08.773Z"
   },
   {
    "duration": 23512,
    "start_time": "2023-03-02T07:21:29.512Z"
   },
   {
    "duration": 7,
    "start_time": "2023-03-02T07:23:34.173Z"
   },
   {
    "duration": 6,
    "start_time": "2023-03-02T07:32:41.339Z"
   },
   {
    "duration": 11,
    "start_time": "2023-03-02T07:33:55.969Z"
   },
   {
    "duration": 14,
    "start_time": "2023-03-02T07:37:33.756Z"
   },
   {
    "duration": 10,
    "start_time": "2023-03-02T07:39:08.410Z"
   },
   {
    "duration": 13,
    "start_time": "2023-03-02T07:39:41.934Z"
   },
   {
    "duration": 17,
    "start_time": "2023-03-02T07:45:41.035Z"
   },
   {
    "duration": 22,
    "start_time": "2023-03-02T07:47:14.115Z"
   },
   {
    "duration": 12,
    "start_time": "2023-03-02T07:47:35.901Z"
   },
   {
    "duration": 8,
    "start_time": "2023-03-02T07:49:08.131Z"
   },
   {
    "duration": 8,
    "start_time": "2023-03-02T07:50:49.450Z"
   },
   {
    "duration": 8,
    "start_time": "2023-03-02T08:04:29.399Z"
   },
   {
    "duration": 6,
    "start_time": "2023-03-02T08:05:15.834Z"
   },
   {
    "duration": 4,
    "start_time": "2023-03-02T08:14:50.571Z"
   },
   {
    "duration": 3,
    "start_time": "2023-03-02T08:14:59.188Z"
   },
   {
    "duration": 3,
    "start_time": "2023-03-02T08:15:07.257Z"
   },
   {
    "duration": 6,
    "start_time": "2023-03-02T08:15:21.172Z"
   },
   {
    "duration": 3,
    "start_time": "2023-03-02T08:15:30.890Z"
   },
   {
    "duration": 4,
    "start_time": "2023-03-02T08:16:58.422Z"
   },
   {
    "duration": 3,
    "start_time": "2023-03-02T08:17:10.833Z"
   },
   {
    "duration": 4,
    "start_time": "2023-03-02T08:17:13.488Z"
   },
   {
    "duration": 8,
    "start_time": "2023-03-02T08:17:15.395Z"
   },
   {
    "duration": 5,
    "start_time": "2023-03-02T08:17:17.376Z"
   },
   {
    "duration": 12,
    "start_time": "2023-03-02T08:21:27.120Z"
   },
   {
    "duration": 14,
    "start_time": "2023-03-02T08:22:39.056Z"
   },
   {
    "duration": 6,
    "start_time": "2023-03-02T08:23:35.049Z"
   },
   {
    "duration": 8,
    "start_time": "2023-03-02T08:26:11.984Z"
   },
   {
    "duration": 5,
    "start_time": "2023-03-02T08:26:56.136Z"
   },
   {
    "duration": 6,
    "start_time": "2023-03-02T08:27:17.710Z"
   },
   {
    "duration": 8,
    "start_time": "2023-03-02T08:35:26.489Z"
   },
   {
    "duration": 7,
    "start_time": "2023-03-02T08:35:37.775Z"
   },
   {
    "duration": 5,
    "start_time": "2023-03-02T08:38:42.449Z"
   },
   {
    "duration": 7,
    "start_time": "2023-03-02T08:39:29.691Z"
   },
   {
    "duration": 9,
    "start_time": "2023-03-02T08:40:53.427Z"
   },
   {
    "duration": 12,
    "start_time": "2023-03-02T08:41:42.541Z"
   },
   {
    "duration": 7,
    "start_time": "2023-03-02T09:10:58.987Z"
   },
   {
    "duration": 1102,
    "start_time": "2023-03-02T09:11:06.826Z"
   },
   {
    "duration": 76,
    "start_time": "2023-03-02T09:11:07.930Z"
   },
   {
    "duration": 16,
    "start_time": "2023-03-02T09:11:08.008Z"
   },
   {
    "duration": 8,
    "start_time": "2023-03-02T09:11:08.026Z"
   },
   {
    "duration": 169,
    "start_time": "2023-03-02T09:11:08.035Z"
   },
   {
    "duration": 48093,
    "start_time": "2023-03-02T09:11:08.206Z"
   },
   {
    "duration": 74,
    "start_time": "2023-03-02T09:11:56.301Z"
   },
   {
    "duration": 6,
    "start_time": "2023-03-02T09:11:56.377Z"
   },
   {
    "duration": 6,
    "start_time": "2023-03-02T09:11:56.422Z"
   },
   {
    "duration": 4,
    "start_time": "2023-03-02T09:11:56.431Z"
   },
   {
    "duration": 48034,
    "start_time": "2023-03-02T09:11:56.436Z"
   },
   {
    "duration": 245,
    "start_time": "2023-03-02T09:12:44.472Z"
   },
   {
    "duration": 34,
    "start_time": "2023-03-02T09:12:44.719Z"
   },
   {
    "duration": 116,
    "start_time": "2023-03-02T09:34:15.580Z"
   },
   {
    "duration": 113,
    "start_time": "2023-03-02T09:34:46.721Z"
   },
   {
    "duration": 105,
    "start_time": "2023-03-02T09:43:55.285Z"
   },
   {
    "duration": 105,
    "start_time": "2023-03-02T09:44:24.028Z"
   },
   {
    "duration": 19,
    "start_time": "2023-03-02T09:47:23.838Z"
   },
   {
    "duration": 71,
    "start_time": "2023-03-02T10:27:14.384Z"
   },
   {
    "duration": 65,
    "start_time": "2023-03-02T10:36:28.300Z"
   },
   {
    "duration": 87,
    "start_time": "2023-03-02T10:37:11.241Z"
   },
   {
    "duration": 75,
    "start_time": "2023-03-02T10:38:57.885Z"
   },
   {
    "duration": 84,
    "start_time": "2023-03-02T10:39:25.452Z"
   },
   {
    "duration": 5,
    "start_time": "2023-03-02T10:39:46.939Z"
   },
   {
    "duration": 4,
    "start_time": "2023-03-02T10:39:53.141Z"
   },
   {
    "duration": 14,
    "start_time": "2023-03-02T10:44:09.538Z"
   },
   {
    "duration": 17,
    "start_time": "2023-03-02T10:44:24.585Z"
   },
   {
    "duration": 68,
    "start_time": "2023-03-02T10:49:27.607Z"
   },
   {
    "duration": 92,
    "start_time": "2023-03-02T10:49:59.139Z"
   },
   {
    "duration": 71,
    "start_time": "2023-03-02T10:51:08.989Z"
   },
   {
    "duration": 89,
    "start_time": "2023-03-02T10:52:59.935Z"
   },
   {
    "duration": 88,
    "start_time": "2023-03-02T11:05:37.297Z"
   },
   {
    "duration": 28,
    "start_time": "2023-03-02T11:07:08.699Z"
   },
   {
    "duration": 17,
    "start_time": "2023-03-02T11:07:31.163Z"
   },
   {
    "duration": 4,
    "start_time": "2023-03-02T11:20:20.610Z"
   },
   {
    "duration": 3,
    "start_time": "2023-03-02T11:22:16.921Z"
   },
   {
    "duration": 7,
    "start_time": "2023-03-02T11:39:38.193Z"
   },
   {
    "duration": 5,
    "start_time": "2023-03-02T11:39:46.080Z"
   },
   {
    "duration": 4,
    "start_time": "2023-03-02T11:40:43.209Z"
   },
   {
    "duration": 17,
    "start_time": "2023-03-02T11:42:00.307Z"
   },
   {
    "duration": 20,
    "start_time": "2023-03-02T11:44:49.380Z"
   },
   {
    "duration": 39,
    "start_time": "2023-03-02T11:45:17.064Z"
   },
   {
    "duration": 5,
    "start_time": "2023-03-02T11:47:26.249Z"
   },
   {
    "duration": 45985,
    "start_time": "2023-03-02T11:47:28.420Z"
   },
   {
    "duration": 5,
    "start_time": "2023-03-02T11:48:42.560Z"
   },
   {
    "duration": 5,
    "start_time": "2023-03-02T11:49:34.242Z"
   },
   {
    "duration": 4,
    "start_time": "2023-03-02T11:49:41.587Z"
   },
   {
    "duration": 292,
    "start_time": "2023-03-02T11:49:44.474Z"
   },
   {
    "duration": 5,
    "start_time": "2023-03-02T11:50:06.684Z"
   },
   {
    "duration": 394,
    "start_time": "2023-03-02T11:50:08.623Z"
   },
   {
    "duration": 5,
    "start_time": "2023-03-02T11:54:27.502Z"
   },
   {
    "duration": 22,
    "start_time": "2023-03-02T11:54:31.012Z"
   },
   {
    "duration": 5,
    "start_time": "2023-03-02T11:55:24.034Z"
   },
   {
    "duration": 6,
    "start_time": "2023-03-02T11:56:07.445Z"
   },
   {
    "duration": 17,
    "start_time": "2023-03-02T11:56:09.531Z"
   },
   {
    "duration": 5,
    "start_time": "2023-03-02T11:57:18.225Z"
   },
   {
    "duration": 17,
    "start_time": "2023-03-02T11:57:20.629Z"
   },
   {
    "duration": 6,
    "start_time": "2023-03-02T11:59:22.131Z"
   },
   {
    "duration": 402,
    "start_time": "2023-03-02T11:59:36.679Z"
   },
   {
    "duration": 5,
    "start_time": "2023-03-02T12:00:19.186Z"
   },
   {
    "duration": 15,
    "start_time": "2023-03-02T12:00:20.973Z"
   },
   {
    "duration": 5,
    "start_time": "2023-03-02T12:02:00.260Z"
   },
   {
    "duration": 358,
    "start_time": "2023-03-02T12:02:06.682Z"
   },
   {
    "duration": 16,
    "start_time": "2023-03-02T12:02:46.015Z"
   },
   {
    "duration": 8,
    "start_time": "2023-03-02T12:03:27.568Z"
   },
   {
    "duration": 14,
    "start_time": "2023-03-02T12:03:56.275Z"
   },
   {
    "duration": 7,
    "start_time": "2023-03-02T12:04:08.989Z"
   },
   {
    "duration": 11,
    "start_time": "2023-03-02T12:05:30.877Z"
   },
   {
    "duration": 9,
    "start_time": "2023-03-02T12:05:41.872Z"
   },
   {
    "duration": 5,
    "start_time": "2023-03-02T12:07:32.884Z"
   },
   {
    "duration": 327,
    "start_time": "2023-03-02T12:07:35.473Z"
   },
   {
    "duration": 6,
    "start_time": "2023-03-02T12:08:34.109Z"
   },
   {
    "duration": 14,
    "start_time": "2023-03-02T12:08:37.418Z"
   },
   {
    "duration": 5,
    "start_time": "2023-03-02T12:08:50.093Z"
   },
   {
    "duration": 283,
    "start_time": "2023-03-02T12:08:55.407Z"
   },
   {
    "duration": 267,
    "start_time": "2023-03-02T12:09:04.520Z"
   },
   {
    "duration": 272,
    "start_time": "2023-03-02T12:09:48.833Z"
   },
   {
    "duration": 5,
    "start_time": "2023-03-02T12:09:59.674Z"
   },
   {
    "duration": 46367,
    "start_time": "2023-03-02T12:10:02.303Z"
   },
   {
    "duration": 12,
    "start_time": "2023-03-02T12:11:05.557Z"
   },
   {
    "duration": 480,
    "start_time": "2023-03-02T12:11:51.426Z"
   },
   {
    "duration": 14,
    "start_time": "2023-03-02T12:12:57.091Z"
   },
   {
    "duration": 24,
    "start_time": "2023-03-02T12:16:06.496Z"
   },
   {
    "duration": 2683,
    "start_time": "2023-03-02T12:16:21.387Z"
   },
   {
    "duration": 5,
    "start_time": "2023-03-02T12:17:31.226Z"
   },
   {
    "duration": 46,
    "start_time": "2023-03-02T12:17:39.776Z"
   },
   {
    "duration": 12,
    "start_time": "2023-03-02T12:17:48.286Z"
   },
   {
    "duration": 12,
    "start_time": "2023-03-02T12:18:40.372Z"
   },
   {
    "duration": 17,
    "start_time": "2023-03-02T12:19:17.985Z"
   },
   {
    "duration": 10,
    "start_time": "2023-03-02T12:19:29.731Z"
   },
   {
    "duration": 21,
    "start_time": "2023-03-02T12:21:51.379Z"
   },
   {
    "duration": 1472,
    "start_time": "2023-03-02T12:22:34.205Z"
   },
   {
    "duration": 1177,
    "start_time": "2023-03-02T12:22:58.690Z"
   },
   {
    "duration": 81,
    "start_time": "2023-03-03T07:29:41.643Z"
   },
   {
    "duration": 1748,
    "start_time": "2023-03-03T07:29:51.856Z"
   },
   {
    "duration": 230,
    "start_time": "2023-03-03T07:29:53.607Z"
   },
   {
    "duration": 164,
    "start_time": "2023-03-03T07:29:53.839Z"
   },
   {
    "duration": 0,
    "start_time": "2023-03-03T07:29:54.005Z"
   },
   {
    "duration": 0,
    "start_time": "2023-03-03T07:29:54.006Z"
   },
   {
    "duration": 0,
    "start_time": "2023-03-03T07:29:54.007Z"
   },
   {
    "duration": 0,
    "start_time": "2023-03-03T07:29:54.009Z"
   },
   {
    "duration": 0,
    "start_time": "2023-03-03T07:29:54.010Z"
   },
   {
    "duration": 0,
    "start_time": "2023-03-03T07:29:54.011Z"
   },
   {
    "duration": 0,
    "start_time": "2023-03-03T07:29:54.012Z"
   },
   {
    "duration": 0,
    "start_time": "2023-03-03T07:29:54.013Z"
   },
   {
    "duration": 0,
    "start_time": "2023-03-03T07:29:54.013Z"
   },
   {
    "duration": 0,
    "start_time": "2023-03-03T07:29:54.014Z"
   },
   {
    "duration": 0,
    "start_time": "2023-03-03T07:29:54.015Z"
   },
   {
    "duration": 0,
    "start_time": "2023-03-03T07:29:54.016Z"
   },
   {
    "duration": 0,
    "start_time": "2023-03-03T07:29:54.017Z"
   },
   {
    "duration": 0,
    "start_time": "2023-03-03T07:29:54.018Z"
   },
   {
    "duration": 0,
    "start_time": "2023-03-03T07:29:54.018Z"
   },
   {
    "duration": 0,
    "start_time": "2023-03-03T07:29:54.019Z"
   },
   {
    "duration": 15,
    "start_time": "2023-03-03T07:32:00.896Z"
   },
   {
    "duration": 148,
    "start_time": "2023-03-03T07:33:30.051Z"
   },
   {
    "duration": 9,
    "start_time": "2023-03-03T07:34:06.597Z"
   },
   {
    "duration": 98,
    "start_time": "2023-03-03T07:38:57.297Z"
   },
   {
    "duration": 8,
    "start_time": "2023-03-03T07:45:09.122Z"
   },
   {
    "duration": 5,
    "start_time": "2023-03-03T07:48:33.816Z"
   },
   {
    "duration": 6,
    "start_time": "2023-03-03T07:49:13.524Z"
   },
   {
    "duration": 6,
    "start_time": "2023-03-03T07:50:09.591Z"
   },
   {
    "duration": 5,
    "start_time": "2023-03-03T08:28:29.837Z"
   },
   {
    "duration": 9,
    "start_time": "2023-03-03T08:28:39.143Z"
   },
   {
    "duration": 114,
    "start_time": "2023-03-03T09:02:29.558Z"
   },
   {
    "duration": 5,
    "start_time": "2023-03-03T09:02:51.981Z"
   },
   {
    "duration": 13,
    "start_time": "2023-03-03T09:02:54.924Z"
   },
   {
    "duration": 4,
    "start_time": "2023-03-03T09:03:09.073Z"
   },
   {
    "duration": 18,
    "start_time": "2023-03-03T09:03:10.824Z"
   },
   {
    "duration": 5,
    "start_time": "2023-03-03T09:04:17.102Z"
   },
   {
    "duration": 17,
    "start_time": "2023-03-03T09:04:20.268Z"
   },
   {
    "duration": 19,
    "start_time": "2023-03-03T09:05:09.625Z"
   },
   {
    "duration": 8,
    "start_time": "2023-03-03T09:05:36.308Z"
   },
   {
    "duration": 10,
    "start_time": "2023-03-03T09:31:07.916Z"
   },
   {
    "duration": 6,
    "start_time": "2023-03-03T09:31:12.311Z"
   },
   {
    "duration": 22,
    "start_time": "2023-03-03T09:31:15.939Z"
   },
   {
    "duration": 113,
    "start_time": "2023-03-03T09:31:51.186Z"
   },
   {
    "duration": 114,
    "start_time": "2023-03-03T09:31:58.986Z"
   },
   {
    "duration": 110,
    "start_time": "2023-03-03T09:32:02.775Z"
   },
   {
    "duration": 5,
    "start_time": "2023-03-03T09:32:12.761Z"
   },
   {
    "duration": 5,
    "start_time": "2023-03-03T09:33:23.542Z"
   },
   {
    "duration": 6,
    "start_time": "2023-03-03T09:33:36.141Z"
   },
   {
    "duration": 5,
    "start_time": "2023-03-03T09:33:39.179Z"
   },
   {
    "duration": 6,
    "start_time": "2023-03-03T09:33:46.422Z"
   },
   {
    "duration": 81,
    "start_time": "2023-03-03T09:34:00.166Z"
   },
   {
    "duration": 120,
    "start_time": "2023-03-03T09:36:38.086Z"
   },
   {
    "duration": 6,
    "start_time": "2023-03-03T09:36:43.570Z"
   },
   {
    "duration": 80,
    "start_time": "2023-03-03T09:36:46.906Z"
   },
   {
    "duration": 126,
    "start_time": "2023-03-03T09:37:29.674Z"
   },
   {
    "duration": 183,
    "start_time": "2023-03-03T09:37:40.365Z"
   },
   {
    "duration": 29,
    "start_time": "2023-03-03T09:44:33.130Z"
   },
   {
    "duration": 10,
    "start_time": "2023-03-03T09:45:45.372Z"
   },
   {
    "duration": 18,
    "start_time": "2023-03-03T09:47:52.536Z"
   },
   {
    "duration": 15,
    "start_time": "2023-03-03T09:49:15.329Z"
   },
   {
    "duration": 5,
    "start_time": "2023-03-03T09:51:20.044Z"
   },
   {
    "duration": 5,
    "start_time": "2023-03-03T09:51:27.330Z"
   },
   {
    "duration": 44,
    "start_time": "2023-03-03T09:53:48.972Z"
   },
   {
    "duration": 4,
    "start_time": "2023-03-03T09:57:16.637Z"
   },
   {
    "duration": 15,
    "start_time": "2023-03-03T09:57:35.020Z"
   },
   {
    "duration": 14,
    "start_time": "2023-03-03T09:58:22.874Z"
   },
   {
    "duration": 10,
    "start_time": "2023-03-03T09:58:28.763Z"
   },
   {
    "duration": 15,
    "start_time": "2023-03-03T10:00:04.287Z"
   },
   {
    "duration": 14,
    "start_time": "2023-03-03T10:00:11.696Z"
   },
   {
    "duration": 12,
    "start_time": "2023-03-03T10:01:11.717Z"
   },
   {
    "duration": 11,
    "start_time": "2023-03-03T10:01:36.623Z"
   },
   {
    "duration": 15,
    "start_time": "2023-03-03T10:01:55.509Z"
   },
   {
    "duration": 235,
    "start_time": "2023-03-03T10:03:34.227Z"
   },
   {
    "duration": 253,
    "start_time": "2023-03-03T10:03:39.031Z"
   },
   {
    "duration": 224,
    "start_time": "2023-03-03T10:04:33.096Z"
   },
   {
    "duration": 271,
    "start_time": "2023-03-03T10:07:31.288Z"
   },
   {
    "duration": 75,
    "start_time": "2023-03-03T10:08:40.169Z"
   },
   {
    "duration": 316,
    "start_time": "2023-03-03T10:08:44.869Z"
   },
   {
    "duration": 262,
    "start_time": "2023-03-03T10:09:32.841Z"
   },
   {
    "duration": 254,
    "start_time": "2023-03-03T10:10:59.743Z"
   },
   {
    "duration": 245,
    "start_time": "2023-03-03T10:11:28.500Z"
   },
   {
    "duration": 258,
    "start_time": "2023-03-03T10:12:31.376Z"
   },
   {
    "duration": 15,
    "start_time": "2023-03-03T10:13:50.099Z"
   },
   {
    "duration": 292,
    "start_time": "2023-03-03T10:16:46.682Z"
   },
   {
    "duration": 264,
    "start_time": "2023-03-03T10:17:07.546Z"
   },
   {
    "duration": 311,
    "start_time": "2023-03-03T10:17:17.185Z"
   },
   {
    "duration": 265,
    "start_time": "2023-03-03T10:17:22.631Z"
   },
   {
    "duration": 251,
    "start_time": "2023-03-03T10:17:28.873Z"
   },
   {
    "duration": 211,
    "start_time": "2023-03-03T10:18:03.268Z"
   },
   {
    "duration": 278,
    "start_time": "2023-03-03T10:18:09.480Z"
   },
   {
    "duration": 3,
    "start_time": "2023-03-03T10:20:30.691Z"
   },
   {
    "duration": 84,
    "start_time": "2023-03-03T10:32:33.791Z"
   },
   {
    "duration": 39074,
    "start_time": "2023-03-03T10:32:59.124Z"
   },
   {
    "duration": 139,
    "start_time": "2023-03-03T10:40:01.649Z"
   },
   {
    "duration": 9,
    "start_time": "2023-03-03T10:40:05.784Z"
   },
   {
    "duration": 9,
    "start_time": "2023-03-03T10:41:28.189Z"
   },
   {
    "duration": 4,
    "start_time": "2023-03-03T10:41:57.701Z"
   },
   {
    "duration": 1308,
    "start_time": "2023-03-03T10:42:05.881Z"
   },
   {
    "duration": 1125,
    "start_time": "2023-03-03T10:42:17.968Z"
   },
   {
    "duration": 1119,
    "start_time": "2023-03-03T10:42:35.377Z"
   },
   {
    "duration": 1231,
    "start_time": "2023-03-03T10:43:36.366Z"
   },
   {
    "duration": 1164,
    "start_time": "2023-03-03T10:44:30.544Z"
   },
   {
    "duration": 1223,
    "start_time": "2023-03-03T10:45:03.268Z"
   },
   {
    "duration": 16,
    "start_time": "2023-03-03T10:54:30.728Z"
   },
   {
    "duration": 233,
    "start_time": "2023-03-03T10:54:42.969Z"
   },
   {
    "duration": 1562,
    "start_time": "2023-03-03T10:57:52.378Z"
   },
   {
    "duration": 222,
    "start_time": "2023-03-03T10:58:00.941Z"
   },
   {
    "duration": 188,
    "start_time": "2023-03-03T10:58:18.282Z"
   },
   {
    "duration": 191,
    "start_time": "2023-03-03T10:59:03.589Z"
   },
   {
    "duration": 8,
    "start_time": "2023-03-03T10:59:31.688Z"
   },
   {
    "duration": 12,
    "start_time": "2023-03-03T11:01:20.728Z"
   },
   {
    "duration": 92,
    "start_time": "2023-03-03T11:02:26.057Z"
   },
   {
    "duration": 92,
    "start_time": "2023-03-03T11:03:14.630Z"
   },
   {
    "duration": 37,
    "start_time": "2023-03-03T11:03:18.362Z"
   },
   {
    "duration": 185,
    "start_time": "2023-03-03T11:03:53.455Z"
   },
   {
    "duration": 368,
    "start_time": "2023-03-03T11:04:33.464Z"
   },
   {
    "duration": 26,
    "start_time": "2023-03-03T11:04:54.963Z"
   },
   {
    "duration": 220,
    "start_time": "2023-03-03T11:05:07.480Z"
   },
   {
    "duration": 219,
    "start_time": "2023-03-03T11:05:31.916Z"
   },
   {
    "duration": 212,
    "start_time": "2023-03-03T11:05:39.361Z"
   },
   {
    "duration": 55,
    "start_time": "2023-03-04T09:16:53.670Z"
   },
   {
    "duration": 1575,
    "start_time": "2023-03-04T09:18:45.116Z"
   },
   {
    "duration": 131,
    "start_time": "2023-03-04T09:18:50.232Z"
   },
   {
    "duration": 10,
    "start_time": "2023-03-04T09:18:52.106Z"
   },
   {
    "duration": 11,
    "start_time": "2023-03-04T09:18:53.681Z"
   },
   {
    "duration": 10,
    "start_time": "2023-03-04T09:18:55.715Z"
   },
   {
    "duration": 4,
    "start_time": "2023-03-04T09:18:57.118Z"
   },
   {
    "duration": 5,
    "start_time": "2023-03-04T09:19:00.557Z"
   },
   {
    "duration": 6,
    "start_time": "2023-03-04T09:19:02.882Z"
   },
   {
    "duration": 5,
    "start_time": "2023-03-04T09:19:38.856Z"
   },
   {
    "duration": 83,
    "start_time": "2023-03-04T09:21:52.132Z"
   },
   {
    "duration": 193,
    "start_time": "2023-03-04T09:21:56.874Z"
   },
   {
    "duration": 263,
    "start_time": "2023-03-04T09:21:59.083Z"
   },
   {
    "duration": 83,
    "start_time": "2023-03-04T10:00:38.913Z"
   },
   {
    "duration": 5,
    "start_time": "2023-03-04T10:25:16.292Z"
   },
   {
    "duration": 3,
    "start_time": "2023-03-04T10:27:33.563Z"
   },
   {
    "duration": 1413,
    "start_time": "2023-03-04T10:27:46.969Z"
   },
   {
    "duration": 38,
    "start_time": "2023-03-04T10:27:48.384Z"
   },
   {
    "duration": 8,
    "start_time": "2023-03-04T10:27:48.424Z"
   },
   {
    "duration": 21,
    "start_time": "2023-03-04T10:27:48.433Z"
   },
   {
    "duration": 15,
    "start_time": "2023-03-04T10:27:48.455Z"
   },
   {
    "duration": 15,
    "start_time": "2023-03-04T10:27:48.473Z"
   },
   {
    "duration": 21,
    "start_time": "2023-03-04T10:27:48.490Z"
   },
   {
    "duration": 41,
    "start_time": "2023-03-04T10:27:48.513Z"
   },
   {
    "duration": 23,
    "start_time": "2023-03-04T10:27:48.556Z"
   },
   {
    "duration": 185,
    "start_time": "2023-03-04T10:27:48.582Z"
   },
   {
    "duration": 254,
    "start_time": "2023-03-04T10:27:48.769Z"
   },
   {
    "duration": 34081,
    "start_time": "2023-03-04T10:27:49.025Z"
   },
   {
    "duration": 1092,
    "start_time": "2023-03-04T10:28:23.108Z"
   },
   {
    "duration": 200,
    "start_time": "2023-03-04T10:28:24.202Z"
   },
   {
    "duration": 160,
    "start_time": "2023-03-04T10:28:24.403Z"
   },
   {
    "duration": 10,
    "start_time": "2023-03-04T10:28:24.565Z"
   },
   {
    "duration": 15,
    "start_time": "2023-03-04T10:28:24.577Z"
   },
   {
    "duration": 15,
    "start_time": "2023-03-04T10:28:24.593Z"
   },
   {
    "duration": 157,
    "start_time": "2023-03-04T10:28:24.610Z"
   },
   {
    "duration": 46901,
    "start_time": "2023-03-04T10:28:24.769Z"
   },
   {
    "duration": 256,
    "start_time": "2023-03-04T10:29:11.672Z"
   },
   {
    "duration": 4,
    "start_time": "2023-03-04T10:30:35.877Z"
   },
   {
    "duration": 50,
    "start_time": "2023-03-04T10:30:38.013Z"
   },
   {
    "duration": 4,
    "start_time": "2023-03-04T10:31:23.101Z"
   },
   {
    "duration": 49,
    "start_time": "2023-03-04T10:31:25.477Z"
   },
   {
    "duration": 6,
    "start_time": "2023-03-04T10:34:19.855Z"
   },
   {
    "duration": 5,
    "start_time": "2023-03-04T10:34:23.509Z"
   },
   {
    "duration": 51,
    "start_time": "2023-03-04T10:34:25.606Z"
   },
   {
    "duration": 4,
    "start_time": "2023-03-04T11:31:34.375Z"
   },
   {
    "duration": 4,
    "start_time": "2023-03-04T11:33:00.890Z"
   },
   {
    "duration": 5,
    "start_time": "2023-03-04T11:38:51.656Z"
   },
   {
    "duration": 3,
    "start_time": "2023-03-04T11:41:19.078Z"
   },
   {
    "duration": 1698,
    "start_time": "2023-03-06T07:42:22.449Z"
   },
   {
    "duration": 7,
    "start_time": "2023-03-06T07:56:37.001Z"
   },
   {
    "duration": 1602,
    "start_time": "2023-03-06T07:57:33.928Z"
   },
   {
    "duration": 127,
    "start_time": "2023-03-06T07:57:35.532Z"
   },
   {
    "duration": 7,
    "start_time": "2023-03-06T07:57:35.661Z"
   },
   {
    "duration": 33,
    "start_time": "2023-03-06T07:57:35.670Z"
   },
   {
    "duration": 22,
    "start_time": "2023-03-06T07:57:35.705Z"
   },
   {
    "duration": 25,
    "start_time": "2023-03-06T07:57:35.729Z"
   },
   {
    "duration": 33,
    "start_time": "2023-03-06T07:57:35.756Z"
   },
   {
    "duration": 24,
    "start_time": "2023-03-06T07:57:35.791Z"
   },
   {
    "duration": 15,
    "start_time": "2023-03-06T07:57:35.817Z"
   },
   {
    "duration": 233,
    "start_time": "2023-03-06T07:57:35.834Z"
   },
   {
    "duration": 282,
    "start_time": "2023-03-06T07:57:36.068Z"
   },
   {
    "duration": 37600,
    "start_time": "2023-03-06T07:57:36.352Z"
   },
   {
    "duration": 1185,
    "start_time": "2023-03-06T07:58:13.954Z"
   },
   {
    "duration": 221,
    "start_time": "2023-03-06T07:58:15.141Z"
   },
   {
    "duration": 236,
    "start_time": "2023-03-06T07:58:15.365Z"
   },
   {
    "duration": 10,
    "start_time": "2023-03-06T07:58:15.603Z"
   },
   {
    "duration": 9,
    "start_time": "2023-03-06T07:58:15.615Z"
   },
   {
    "duration": 74,
    "start_time": "2023-03-06T07:58:15.626Z"
   },
   {
    "duration": 137,
    "start_time": "2023-03-06T07:58:15.702Z"
   },
   {
    "duration": 15,
    "start_time": "2023-03-06T07:58:44.124Z"
   },
   {
    "duration": 14,
    "start_time": "2023-03-06T07:59:11.522Z"
   },
   {
    "duration": 10,
    "start_time": "2023-03-06T07:59:19.408Z"
   },
   {
    "duration": 8,
    "start_time": "2023-03-06T08:00:19.331Z"
   },
   {
    "duration": 2282,
    "start_time": "2023-03-06T08:06:36.302Z"
   },
   {
    "duration": 197,
    "start_time": "2023-03-06T08:06:53.900Z"
   },
   {
    "duration": 13205,
    "start_time": "2023-03-06T08:07:11.589Z"
   },
   {
    "duration": 192,
    "start_time": "2023-03-06T08:07:46.724Z"
   },
   {
    "duration": 5,
    "start_time": "2023-03-06T08:10:39.458Z"
   },
   {
    "duration": 1450,
    "start_time": "2023-03-06T08:34:52.614Z"
   },
   {
    "duration": 39,
    "start_time": "2023-03-06T08:34:54.066Z"
   },
   {
    "duration": 8,
    "start_time": "2023-03-06T08:34:54.108Z"
   },
   {
    "duration": 17,
    "start_time": "2023-03-06T08:34:54.118Z"
   },
   {
    "duration": 13,
    "start_time": "2023-03-06T08:34:54.136Z"
   },
   {
    "duration": 8,
    "start_time": "2023-03-06T08:34:54.150Z"
   },
   {
    "duration": 11,
    "start_time": "2023-03-06T08:34:54.160Z"
   },
   {
    "duration": 25,
    "start_time": "2023-03-06T08:34:54.173Z"
   },
   {
    "duration": 20,
    "start_time": "2023-03-06T08:34:54.200Z"
   },
   {
    "duration": 201,
    "start_time": "2023-03-06T08:34:54.223Z"
   },
   {
    "duration": 269,
    "start_time": "2023-03-06T08:34:54.426Z"
   },
   {
    "duration": 37134,
    "start_time": "2023-03-06T08:34:54.697Z"
   },
   {
    "duration": 1218,
    "start_time": "2023-03-06T08:35:31.833Z"
   },
   {
    "duration": 219,
    "start_time": "2023-03-06T08:35:33.053Z"
   },
   {
    "duration": 187,
    "start_time": "2023-03-06T08:35:33.274Z"
   },
   {
    "duration": 9,
    "start_time": "2023-03-06T08:35:33.463Z"
   },
   {
    "duration": 5,
    "start_time": "2023-03-06T08:35:33.474Z"
   },
   {
    "duration": 70,
    "start_time": "2023-03-06T08:35:33.480Z"
   },
   {
    "duration": 9,
    "start_time": "2023-03-06T08:35:33.552Z"
   },
   {
    "duration": 11,
    "start_time": "2023-03-06T08:35:33.563Z"
   },
   {
    "duration": 1591,
    "start_time": "2023-03-06T10:48:03.513Z"
   },
   {
    "duration": 37,
    "start_time": "2023-03-06T10:48:05.106Z"
   },
   {
    "duration": 10,
    "start_time": "2023-03-06T10:48:05.145Z"
   },
   {
    "duration": 15,
    "start_time": "2023-03-06T10:48:05.163Z"
   },
   {
    "duration": 8,
    "start_time": "2023-03-06T10:48:05.180Z"
   },
   {
    "duration": 6,
    "start_time": "2023-03-06T10:48:05.189Z"
   },
   {
    "duration": 5,
    "start_time": "2023-03-06T10:48:05.197Z"
   },
   {
    "duration": 13,
    "start_time": "2023-03-06T10:48:05.203Z"
   },
   {
    "duration": 11,
    "start_time": "2023-03-06T10:48:05.217Z"
   },
   {
    "duration": 273,
    "start_time": "2023-03-06T10:48:05.230Z"
   },
   {
    "duration": 271,
    "start_time": "2023-03-06T10:48:05.505Z"
   },
   {
    "duration": 39551,
    "start_time": "2023-03-06T10:48:05.778Z"
   },
   {
    "duration": 1051,
    "start_time": "2023-03-06T10:48:45.330Z"
   },
   {
    "duration": 197,
    "start_time": "2023-03-06T10:48:46.384Z"
   },
   {
    "duration": 228,
    "start_time": "2023-03-06T10:48:46.583Z"
   },
   {
    "duration": 10,
    "start_time": "2023-03-06T10:48:46.813Z"
   },
   {
    "duration": 5,
    "start_time": "2023-03-06T10:48:46.825Z"
   },
   {
    "duration": 77,
    "start_time": "2023-03-06T10:48:46.831Z"
   },
   {
    "duration": 12,
    "start_time": "2023-03-06T10:48:46.910Z"
   },
   {
    "duration": 7,
    "start_time": "2023-03-06T10:48:46.923Z"
   },
   {
    "duration": 65,
    "start_time": "2023-03-07T11:18:57.345Z"
   }
  ],
  "kernelspec": {
   "display_name": "Python 3 (ipykernel)",
   "language": "python",
   "name": "python3"
  },
  "language_info": {
   "codemirror_mode": {
    "name": "ipython",
    "version": 3
   },
   "file_extension": ".py",
   "mimetype": "text/x-python",
   "name": "python",
   "nbconvert_exporter": "python",
   "pygments_lexer": "ipython3",
   "version": "3.9.5"
  },
  "toc": {
   "base_numbering": 1,
   "nav_menu": {},
   "number_sections": true,
   "sideBar": true,
   "skip_h1_title": true,
   "title_cell": "Table of Contents",
   "title_sidebar": "Contents",
   "toc_cell": false,
   "toc_position": {
    "height": "calc(100% - 180px)",
    "left": "10px",
    "top": "150px",
    "width": "252.2px"
   },
   "toc_section_display": true,
   "toc_window_display": true
  }
 },
 "nbformat": 4,
 "nbformat_minor": 2
}
